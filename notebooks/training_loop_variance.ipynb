{
  "nbformat": 4,
  "nbformat_minor": 0,
  "metadata": {
    "colab": {
      "name": "training_loop_variance.ipynb",
      "provenance": [],
      "collapsed_sections": [],
      "include_colab_link": true
    },
    "kernelspec": {
      "name": "python3",
      "display_name": "Python 3"
    },
    "language_info": {
      "name": "python"
    },
    "accelerator": "GPU",
    "widgets": {
      "application/vnd.jupyter.widget-state+json": {
        "f876506562344ec6abf83d280b237fcd": {
          "model_module": "@jupyter-widgets/controls",
          "model_name": "VBoxModel",
          "model_module_version": "1.5.0",
          "state": {
            "_dom_classes": [],
            "_model_module": "@jupyter-widgets/controls",
            "_model_module_version": "1.5.0",
            "_model_name": "VBoxModel",
            "_view_count": null,
            "_view_module": "@jupyter-widgets/controls",
            "_view_module_version": "1.5.0",
            "_view_name": "VBoxView",
            "box_style": "",
            "children": [
              "IPY_MODEL_7aa0321ec944444db2e5a5f2d1694c75",
              "IPY_MODEL_658d2d9b60cc46d29f3db5f80451b1a9"
            ],
            "layout": "IPY_MODEL_593ddcbb076344539921445413c0befd"
          }
        },
        "7aa0321ec944444db2e5a5f2d1694c75": {
          "model_module": "@jupyter-widgets/controls",
          "model_name": "LabelModel",
          "model_module_version": "1.5.0",
          "state": {
            "_dom_classes": [],
            "_model_module": "@jupyter-widgets/controls",
            "_model_module_version": "1.5.0",
            "_model_name": "LabelModel",
            "_view_count": null,
            "_view_module": "@jupyter-widgets/controls",
            "_view_module_version": "1.5.0",
            "_view_name": "LabelView",
            "description": "",
            "description_tooltip": null,
            "layout": "IPY_MODEL_6f8987c3e35c4847b7b53e5e9eda607c",
            "placeholder": "​",
            "style": "IPY_MODEL_90cd8b88a8784b63873a20950d7312f6",
            "value": "1.131 MB of 1.131 MB uploaded (0.000 MB deduped)\r"
          }
        },
        "658d2d9b60cc46d29f3db5f80451b1a9": {
          "model_module": "@jupyter-widgets/controls",
          "model_name": "FloatProgressModel",
          "model_module_version": "1.5.0",
          "state": {
            "_dom_classes": [],
            "_model_module": "@jupyter-widgets/controls",
            "_model_module_version": "1.5.0",
            "_model_name": "FloatProgressModel",
            "_view_count": null,
            "_view_module": "@jupyter-widgets/controls",
            "_view_module_version": "1.5.0",
            "_view_name": "ProgressView",
            "bar_style": "",
            "description": "",
            "description_tooltip": null,
            "layout": "IPY_MODEL_c134ff8fd6104a6cbc0d51ac8db2c1fc",
            "max": 1,
            "min": 0,
            "orientation": "horizontal",
            "style": "IPY_MODEL_e114e32e990d4adca7aac25925ca188d",
            "value": 1
          }
        },
        "593ddcbb076344539921445413c0befd": {
          "model_module": "@jupyter-widgets/base",
          "model_name": "LayoutModel",
          "model_module_version": "1.2.0",
          "state": {
            "_model_module": "@jupyter-widgets/base",
            "_model_module_version": "1.2.0",
            "_model_name": "LayoutModel",
            "_view_count": null,
            "_view_module": "@jupyter-widgets/base",
            "_view_module_version": "1.2.0",
            "_view_name": "LayoutView",
            "align_content": null,
            "align_items": null,
            "align_self": null,
            "border": null,
            "bottom": null,
            "display": null,
            "flex": null,
            "flex_flow": null,
            "grid_area": null,
            "grid_auto_columns": null,
            "grid_auto_flow": null,
            "grid_auto_rows": null,
            "grid_column": null,
            "grid_gap": null,
            "grid_row": null,
            "grid_template_areas": null,
            "grid_template_columns": null,
            "grid_template_rows": null,
            "height": null,
            "justify_content": null,
            "justify_items": null,
            "left": null,
            "margin": null,
            "max_height": null,
            "max_width": null,
            "min_height": null,
            "min_width": null,
            "object_fit": null,
            "object_position": null,
            "order": null,
            "overflow": null,
            "overflow_x": null,
            "overflow_y": null,
            "padding": null,
            "right": null,
            "top": null,
            "visibility": null,
            "width": null
          }
        },
        "6f8987c3e35c4847b7b53e5e9eda607c": {
          "model_module": "@jupyter-widgets/base",
          "model_name": "LayoutModel",
          "model_module_version": "1.2.0",
          "state": {
            "_model_module": "@jupyter-widgets/base",
            "_model_module_version": "1.2.0",
            "_model_name": "LayoutModel",
            "_view_count": null,
            "_view_module": "@jupyter-widgets/base",
            "_view_module_version": "1.2.0",
            "_view_name": "LayoutView",
            "align_content": null,
            "align_items": null,
            "align_self": null,
            "border": null,
            "bottom": null,
            "display": null,
            "flex": null,
            "flex_flow": null,
            "grid_area": null,
            "grid_auto_columns": null,
            "grid_auto_flow": null,
            "grid_auto_rows": null,
            "grid_column": null,
            "grid_gap": null,
            "grid_row": null,
            "grid_template_areas": null,
            "grid_template_columns": null,
            "grid_template_rows": null,
            "height": null,
            "justify_content": null,
            "justify_items": null,
            "left": null,
            "margin": null,
            "max_height": null,
            "max_width": null,
            "min_height": null,
            "min_width": null,
            "object_fit": null,
            "object_position": null,
            "order": null,
            "overflow": null,
            "overflow_x": null,
            "overflow_y": null,
            "padding": null,
            "right": null,
            "top": null,
            "visibility": null,
            "width": null
          }
        },
        "90cd8b88a8784b63873a20950d7312f6": {
          "model_module": "@jupyter-widgets/controls",
          "model_name": "DescriptionStyleModel",
          "model_module_version": "1.5.0",
          "state": {
            "_model_module": "@jupyter-widgets/controls",
            "_model_module_version": "1.5.0",
            "_model_name": "DescriptionStyleModel",
            "_view_count": null,
            "_view_module": "@jupyter-widgets/base",
            "_view_module_version": "1.2.0",
            "_view_name": "StyleView",
            "description_width": ""
          }
        },
        "c134ff8fd6104a6cbc0d51ac8db2c1fc": {
          "model_module": "@jupyter-widgets/base",
          "model_name": "LayoutModel",
          "model_module_version": "1.2.0",
          "state": {
            "_model_module": "@jupyter-widgets/base",
            "_model_module_version": "1.2.0",
            "_model_name": "LayoutModel",
            "_view_count": null,
            "_view_module": "@jupyter-widgets/base",
            "_view_module_version": "1.2.0",
            "_view_name": "LayoutView",
            "align_content": null,
            "align_items": null,
            "align_self": null,
            "border": null,
            "bottom": null,
            "display": null,
            "flex": null,
            "flex_flow": null,
            "grid_area": null,
            "grid_auto_columns": null,
            "grid_auto_flow": null,
            "grid_auto_rows": null,
            "grid_column": null,
            "grid_gap": null,
            "grid_row": null,
            "grid_template_areas": null,
            "grid_template_columns": null,
            "grid_template_rows": null,
            "height": null,
            "justify_content": null,
            "justify_items": null,
            "left": null,
            "margin": null,
            "max_height": null,
            "max_width": null,
            "min_height": null,
            "min_width": null,
            "object_fit": null,
            "object_position": null,
            "order": null,
            "overflow": null,
            "overflow_x": null,
            "overflow_y": null,
            "padding": null,
            "right": null,
            "top": null,
            "visibility": null,
            "width": null
          }
        },
        "e114e32e990d4adca7aac25925ca188d": {
          "model_module": "@jupyter-widgets/controls",
          "model_name": "ProgressStyleModel",
          "model_module_version": "1.5.0",
          "state": {
            "_model_module": "@jupyter-widgets/controls",
            "_model_module_version": "1.5.0",
            "_model_name": "ProgressStyleModel",
            "_view_count": null,
            "_view_module": "@jupyter-widgets/base",
            "_view_module_version": "1.2.0",
            "_view_name": "StyleView",
            "bar_color": null,
            "description_width": ""
          }
        },
        "2f88f3efee2047b99b0fecc6f1ad0371": {
          "model_module": "@jupyter-widgets/controls",
          "model_name": "VBoxModel",
          "model_module_version": "1.5.0",
          "state": {
            "_dom_classes": [],
            "_model_module": "@jupyter-widgets/controls",
            "_model_module_version": "1.5.0",
            "_model_name": "VBoxModel",
            "_view_count": null,
            "_view_module": "@jupyter-widgets/controls",
            "_view_module_version": "1.5.0",
            "_view_name": "VBoxView",
            "box_style": "",
            "children": [
              "IPY_MODEL_5d4ecd6ada184749ae5886e9d2557232",
              "IPY_MODEL_268520834c024df99b75dc3a57a5298d"
            ],
            "layout": "IPY_MODEL_081fa3737dfc4b3da0906beb496aee54"
          }
        },
        "5d4ecd6ada184749ae5886e9d2557232": {
          "model_module": "@jupyter-widgets/controls",
          "model_name": "LabelModel",
          "model_module_version": "1.5.0",
          "state": {
            "_dom_classes": [],
            "_model_module": "@jupyter-widgets/controls",
            "_model_module_version": "1.5.0",
            "_model_name": "LabelModel",
            "_view_count": null,
            "_view_module": "@jupyter-widgets/controls",
            "_view_module_version": "1.5.0",
            "_view_name": "LabelView",
            "description": "",
            "description_tooltip": null,
            "layout": "IPY_MODEL_7e51ea9f7c38495696be8abf97766607",
            "placeholder": "​",
            "style": "IPY_MODEL_55e6414732c9468d8e9b14b1fce569ec",
            "value": "0.096 MB of 0.096 MB uploaded (0.000 MB deduped)\r"
          }
        },
        "268520834c024df99b75dc3a57a5298d": {
          "model_module": "@jupyter-widgets/controls",
          "model_name": "FloatProgressModel",
          "model_module_version": "1.5.0",
          "state": {
            "_dom_classes": [],
            "_model_module": "@jupyter-widgets/controls",
            "_model_module_version": "1.5.0",
            "_model_name": "FloatProgressModel",
            "_view_count": null,
            "_view_module": "@jupyter-widgets/controls",
            "_view_module_version": "1.5.0",
            "_view_name": "ProgressView",
            "bar_style": "",
            "description": "",
            "description_tooltip": null,
            "layout": "IPY_MODEL_2ac72ab284164af9b1c68075bddf83ef",
            "max": 1,
            "min": 0,
            "orientation": "horizontal",
            "style": "IPY_MODEL_8e4f0e40e4ea4d448cb439fceb089693",
            "value": 1
          }
        },
        "081fa3737dfc4b3da0906beb496aee54": {
          "model_module": "@jupyter-widgets/base",
          "model_name": "LayoutModel",
          "model_module_version": "1.2.0",
          "state": {
            "_model_module": "@jupyter-widgets/base",
            "_model_module_version": "1.2.0",
            "_model_name": "LayoutModel",
            "_view_count": null,
            "_view_module": "@jupyter-widgets/base",
            "_view_module_version": "1.2.0",
            "_view_name": "LayoutView",
            "align_content": null,
            "align_items": null,
            "align_self": null,
            "border": null,
            "bottom": null,
            "display": null,
            "flex": null,
            "flex_flow": null,
            "grid_area": null,
            "grid_auto_columns": null,
            "grid_auto_flow": null,
            "grid_auto_rows": null,
            "grid_column": null,
            "grid_gap": null,
            "grid_row": null,
            "grid_template_areas": null,
            "grid_template_columns": null,
            "grid_template_rows": null,
            "height": null,
            "justify_content": null,
            "justify_items": null,
            "left": null,
            "margin": null,
            "max_height": null,
            "max_width": null,
            "min_height": null,
            "min_width": null,
            "object_fit": null,
            "object_position": null,
            "order": null,
            "overflow": null,
            "overflow_x": null,
            "overflow_y": null,
            "padding": null,
            "right": null,
            "top": null,
            "visibility": null,
            "width": null
          }
        },
        "7e51ea9f7c38495696be8abf97766607": {
          "model_module": "@jupyter-widgets/base",
          "model_name": "LayoutModel",
          "model_module_version": "1.2.0",
          "state": {
            "_model_module": "@jupyter-widgets/base",
            "_model_module_version": "1.2.0",
            "_model_name": "LayoutModel",
            "_view_count": null,
            "_view_module": "@jupyter-widgets/base",
            "_view_module_version": "1.2.0",
            "_view_name": "LayoutView",
            "align_content": null,
            "align_items": null,
            "align_self": null,
            "border": null,
            "bottom": null,
            "display": null,
            "flex": null,
            "flex_flow": null,
            "grid_area": null,
            "grid_auto_columns": null,
            "grid_auto_flow": null,
            "grid_auto_rows": null,
            "grid_column": null,
            "grid_gap": null,
            "grid_row": null,
            "grid_template_areas": null,
            "grid_template_columns": null,
            "grid_template_rows": null,
            "height": null,
            "justify_content": null,
            "justify_items": null,
            "left": null,
            "margin": null,
            "max_height": null,
            "max_width": null,
            "min_height": null,
            "min_width": null,
            "object_fit": null,
            "object_position": null,
            "order": null,
            "overflow": null,
            "overflow_x": null,
            "overflow_y": null,
            "padding": null,
            "right": null,
            "top": null,
            "visibility": null,
            "width": null
          }
        },
        "55e6414732c9468d8e9b14b1fce569ec": {
          "model_module": "@jupyter-widgets/controls",
          "model_name": "DescriptionStyleModel",
          "model_module_version": "1.5.0",
          "state": {
            "_model_module": "@jupyter-widgets/controls",
            "_model_module_version": "1.5.0",
            "_model_name": "DescriptionStyleModel",
            "_view_count": null,
            "_view_module": "@jupyter-widgets/base",
            "_view_module_version": "1.2.0",
            "_view_name": "StyleView",
            "description_width": ""
          }
        },
        "2ac72ab284164af9b1c68075bddf83ef": {
          "model_module": "@jupyter-widgets/base",
          "model_name": "LayoutModel",
          "model_module_version": "1.2.0",
          "state": {
            "_model_module": "@jupyter-widgets/base",
            "_model_module_version": "1.2.0",
            "_model_name": "LayoutModel",
            "_view_count": null,
            "_view_module": "@jupyter-widgets/base",
            "_view_module_version": "1.2.0",
            "_view_name": "LayoutView",
            "align_content": null,
            "align_items": null,
            "align_self": null,
            "border": null,
            "bottom": null,
            "display": null,
            "flex": null,
            "flex_flow": null,
            "grid_area": null,
            "grid_auto_columns": null,
            "grid_auto_flow": null,
            "grid_auto_rows": null,
            "grid_column": null,
            "grid_gap": null,
            "grid_row": null,
            "grid_template_areas": null,
            "grid_template_columns": null,
            "grid_template_rows": null,
            "height": null,
            "justify_content": null,
            "justify_items": null,
            "left": null,
            "margin": null,
            "max_height": null,
            "max_width": null,
            "min_height": null,
            "min_width": null,
            "object_fit": null,
            "object_position": null,
            "order": null,
            "overflow": null,
            "overflow_x": null,
            "overflow_y": null,
            "padding": null,
            "right": null,
            "top": null,
            "visibility": null,
            "width": null
          }
        },
        "8e4f0e40e4ea4d448cb439fceb089693": {
          "model_module": "@jupyter-widgets/controls",
          "model_name": "ProgressStyleModel",
          "model_module_version": "1.5.0",
          "state": {
            "_model_module": "@jupyter-widgets/controls",
            "_model_module_version": "1.5.0",
            "_model_name": "ProgressStyleModel",
            "_view_count": null,
            "_view_module": "@jupyter-widgets/base",
            "_view_module_version": "1.2.0",
            "_view_name": "StyleView",
            "bar_color": null,
            "description_width": ""
          }
        },
        "581f33c769f34668888fc66594447d09": {
          "model_module": "@jupyter-widgets/controls",
          "model_name": "VBoxModel",
          "model_module_version": "1.5.0",
          "state": {
            "_dom_classes": [],
            "_model_module": "@jupyter-widgets/controls",
            "_model_module_version": "1.5.0",
            "_model_name": "VBoxModel",
            "_view_count": null,
            "_view_module": "@jupyter-widgets/controls",
            "_view_module_version": "1.5.0",
            "_view_name": "VBoxView",
            "box_style": "",
            "children": [
              "IPY_MODEL_2f81a9eef7f94107b435ae7d6332e1bf",
              "IPY_MODEL_d77e8f336bab468194c6f0c3cbc2f4b1"
            ],
            "layout": "IPY_MODEL_06b97f43676e4c2ba85b5814da2f992e"
          }
        },
        "2f81a9eef7f94107b435ae7d6332e1bf": {
          "model_module": "@jupyter-widgets/controls",
          "model_name": "LabelModel",
          "model_module_version": "1.5.0",
          "state": {
            "_dom_classes": [],
            "_model_module": "@jupyter-widgets/controls",
            "_model_module_version": "1.5.0",
            "_model_name": "LabelModel",
            "_view_count": null,
            "_view_module": "@jupyter-widgets/controls",
            "_view_module_version": "1.5.0",
            "_view_name": "LabelView",
            "description": "",
            "description_tooltip": null,
            "layout": "IPY_MODEL_c9d1ef9ce6974ffb9a8083946eaf1b61",
            "placeholder": "​",
            "style": "IPY_MODEL_b102739032074128ad0b12f5821282e4",
            "value": "0.100 MB of 0.100 MB uploaded (0.000 MB deduped)\r"
          }
        },
        "d77e8f336bab468194c6f0c3cbc2f4b1": {
          "model_module": "@jupyter-widgets/controls",
          "model_name": "FloatProgressModel",
          "model_module_version": "1.5.0",
          "state": {
            "_dom_classes": [],
            "_model_module": "@jupyter-widgets/controls",
            "_model_module_version": "1.5.0",
            "_model_name": "FloatProgressModel",
            "_view_count": null,
            "_view_module": "@jupyter-widgets/controls",
            "_view_module_version": "1.5.0",
            "_view_name": "ProgressView",
            "bar_style": "",
            "description": "",
            "description_tooltip": null,
            "layout": "IPY_MODEL_babe2fea8dce4dcdbdecc22ea903bccf",
            "max": 1,
            "min": 0,
            "orientation": "horizontal",
            "style": "IPY_MODEL_1460ff6993e840b49de4311b8d224810",
            "value": 1
          }
        },
        "06b97f43676e4c2ba85b5814da2f992e": {
          "model_module": "@jupyter-widgets/base",
          "model_name": "LayoutModel",
          "model_module_version": "1.2.0",
          "state": {
            "_model_module": "@jupyter-widgets/base",
            "_model_module_version": "1.2.0",
            "_model_name": "LayoutModel",
            "_view_count": null,
            "_view_module": "@jupyter-widgets/base",
            "_view_module_version": "1.2.0",
            "_view_name": "LayoutView",
            "align_content": null,
            "align_items": null,
            "align_self": null,
            "border": null,
            "bottom": null,
            "display": null,
            "flex": null,
            "flex_flow": null,
            "grid_area": null,
            "grid_auto_columns": null,
            "grid_auto_flow": null,
            "grid_auto_rows": null,
            "grid_column": null,
            "grid_gap": null,
            "grid_row": null,
            "grid_template_areas": null,
            "grid_template_columns": null,
            "grid_template_rows": null,
            "height": null,
            "justify_content": null,
            "justify_items": null,
            "left": null,
            "margin": null,
            "max_height": null,
            "max_width": null,
            "min_height": null,
            "min_width": null,
            "object_fit": null,
            "object_position": null,
            "order": null,
            "overflow": null,
            "overflow_x": null,
            "overflow_y": null,
            "padding": null,
            "right": null,
            "top": null,
            "visibility": null,
            "width": null
          }
        },
        "c9d1ef9ce6974ffb9a8083946eaf1b61": {
          "model_module": "@jupyter-widgets/base",
          "model_name": "LayoutModel",
          "model_module_version": "1.2.0",
          "state": {
            "_model_module": "@jupyter-widgets/base",
            "_model_module_version": "1.2.0",
            "_model_name": "LayoutModel",
            "_view_count": null,
            "_view_module": "@jupyter-widgets/base",
            "_view_module_version": "1.2.0",
            "_view_name": "LayoutView",
            "align_content": null,
            "align_items": null,
            "align_self": null,
            "border": null,
            "bottom": null,
            "display": null,
            "flex": null,
            "flex_flow": null,
            "grid_area": null,
            "grid_auto_columns": null,
            "grid_auto_flow": null,
            "grid_auto_rows": null,
            "grid_column": null,
            "grid_gap": null,
            "grid_row": null,
            "grid_template_areas": null,
            "grid_template_columns": null,
            "grid_template_rows": null,
            "height": null,
            "justify_content": null,
            "justify_items": null,
            "left": null,
            "margin": null,
            "max_height": null,
            "max_width": null,
            "min_height": null,
            "min_width": null,
            "object_fit": null,
            "object_position": null,
            "order": null,
            "overflow": null,
            "overflow_x": null,
            "overflow_y": null,
            "padding": null,
            "right": null,
            "top": null,
            "visibility": null,
            "width": null
          }
        },
        "b102739032074128ad0b12f5821282e4": {
          "model_module": "@jupyter-widgets/controls",
          "model_name": "DescriptionStyleModel",
          "model_module_version": "1.5.0",
          "state": {
            "_model_module": "@jupyter-widgets/controls",
            "_model_module_version": "1.5.0",
            "_model_name": "DescriptionStyleModel",
            "_view_count": null,
            "_view_module": "@jupyter-widgets/base",
            "_view_module_version": "1.2.0",
            "_view_name": "StyleView",
            "description_width": ""
          }
        },
        "babe2fea8dce4dcdbdecc22ea903bccf": {
          "model_module": "@jupyter-widgets/base",
          "model_name": "LayoutModel",
          "model_module_version": "1.2.0",
          "state": {
            "_model_module": "@jupyter-widgets/base",
            "_model_module_version": "1.2.0",
            "_model_name": "LayoutModel",
            "_view_count": null,
            "_view_module": "@jupyter-widgets/base",
            "_view_module_version": "1.2.0",
            "_view_name": "LayoutView",
            "align_content": null,
            "align_items": null,
            "align_self": null,
            "border": null,
            "bottom": null,
            "display": null,
            "flex": null,
            "flex_flow": null,
            "grid_area": null,
            "grid_auto_columns": null,
            "grid_auto_flow": null,
            "grid_auto_rows": null,
            "grid_column": null,
            "grid_gap": null,
            "grid_row": null,
            "grid_template_areas": null,
            "grid_template_columns": null,
            "grid_template_rows": null,
            "height": null,
            "justify_content": null,
            "justify_items": null,
            "left": null,
            "margin": null,
            "max_height": null,
            "max_width": null,
            "min_height": null,
            "min_width": null,
            "object_fit": null,
            "object_position": null,
            "order": null,
            "overflow": null,
            "overflow_x": null,
            "overflow_y": null,
            "padding": null,
            "right": null,
            "top": null,
            "visibility": null,
            "width": null
          }
        },
        "1460ff6993e840b49de4311b8d224810": {
          "model_module": "@jupyter-widgets/controls",
          "model_name": "ProgressStyleModel",
          "model_module_version": "1.5.0",
          "state": {
            "_model_module": "@jupyter-widgets/controls",
            "_model_module_version": "1.5.0",
            "_model_name": "ProgressStyleModel",
            "_view_count": null,
            "_view_module": "@jupyter-widgets/base",
            "_view_module_version": "1.2.0",
            "_view_name": "StyleView",
            "bar_color": null,
            "description_width": ""
          }
        }
      }
    }
  },
  "cells": [
    {
      "cell_type": "markdown",
      "metadata": {
        "id": "view-in-github",
        "colab_type": "text"
      },
      "source": [
        "<a href=\"https://colab.research.google.com/github/Krankile/npmf/blob/main/notebooks/training_loop_variance.ipynb\" target=\"_parent\"><img src=\"https://colab.research.google.com/assets/colab-badge.svg\" alt=\"Open In Colab\"/></a>"
      ]
    },
    {
      "cell_type": "markdown",
      "source": [
        "# Setup"
      ],
      "metadata": {
        "id": "d8F5tl4NL7FZ"
      }
    },
    {
      "cell_type": "markdown",
      "source": [
        "## Kernel setup"
      ],
      "metadata": {
        "id": "Rwo44VGZLhAo"
      }
    },
    {
      "cell_type": "code",
      "source": [
        "%load_ext autoreload\n",
        "%autoreload 2"
      ],
      "metadata": {
        "id": "hKuFzk7aEmB9"
      },
      "execution_count": 1,
      "outputs": []
    },
    {
      "cell_type": "code",
      "source": [
        "%%capture\n",
        "!pip install wandb more_itertools\n",
        "!git clone https://github.com/Krankile/npmf.git"
      ],
      "metadata": {
        "id": "91KPY7q0LUOw"
      },
      "execution_count": 2,
      "outputs": []
    },
    {
      "cell_type": "code",
      "source": [
        "!wandb login"
      ],
      "metadata": {
        "id": "gUXnibj8YEi1",
        "colab": {
          "base_uri": "https://localhost:8080/"
        },
        "outputId": "85cc6033-6998-432b-c5c1-77d74fe7e84a"
      },
      "execution_count": 3,
      "outputs": [
        {
          "output_type": "stream",
          "name": "stdout",
          "text": [
            "\u001b[34m\u001b[1mwandb\u001b[0m: You can find your API key in your browser here: https://wandb.ai/authorize\n",
            "\u001b[34m\u001b[1mwandb\u001b[0m: Paste an API key from your profile and hit enter, or press ctrl+c to quit: \n",
            "\u001b[34m\u001b[1mwandb\u001b[0m: Appending key for api.wandb.ai to your netrc file: /root/.netrc\n"
          ]
        }
      ]
    },
    {
      "cell_type": "markdown",
      "source": [
        "## General setup"
      ],
      "metadata": {
        "id": "CLAlA0htLgMY"
      }
    },
    {
      "cell_type": "code",
      "source": [
        "%%capture\n",
        "!cd npmf && git pull\n",
        "\n",
        "import math\n",
        "import multiprocessing\n",
        "import os\n",
        "import pickle\n",
        "from collections import Counter, defaultdict\n",
        "from dataclasses import asdict, dataclass\n",
        "from datetime import datetime, timedelta\n",
        "from operator import itemgetter\n",
        "from typing import Callable, List, Tuple\n",
        "from functools import partial\n",
        "from glob import glob\n",
        "\n",
        "\n",
        "from more_itertools import chunked\n",
        "\n",
        "import matplotlib as mpl\n",
        "import matplotlib.pyplot as plt\n",
        "import numpy as np\n",
        "import pandas as pd\n",
        "import torch\n",
        "\n",
        "from npmf.utils.colors import main, main2, main3\n",
        "from npmf.utils.dataset import TimeDeltaDataset, EraDataset\n",
        "from npmf.utils.dtypes import fundamental_types\n",
        "from npmf.utils.eikon import column_mapping\n",
        "from npmf.utils.tests.utils import pickle_df\n",
        "from npmf.utils.wandb import get_datasets, put_dataset, put_nn_model\n",
        "from npmf.utils.training import EarlyStop, to_device, TqdmPostFix, loss_fns\n",
        "from npmf.utils.models import models\n",
        "\n",
        "from numpy.ma.core import outerproduct\n",
        "from pandas.tseries.offsets import BDay, Day\n",
        "from sklearn.preprocessing import MinMaxScaler, minmax_scale\n",
        "from torch import nn\n",
        "from torch.utils.data import DataLoader, Dataset\n",
        "\n",
        "import wandb as wb"
      ],
      "metadata": {
        "id": "1QSlgObXLq1p"
      },
      "execution_count": 4,
      "outputs": []
    },
    {
      "cell_type": "code",
      "source": [
        "np.seterr(all=\"raise\")\n",
        "\n",
        "mpl.rcParams['axes.prop_cycle'] = mpl.cycler(color=[main, main2, main3, \"black\"])\n",
        "mpl.rcParams['figure.figsize'] = (6, 4)  # (6, 4) is default and used in the paper"
      ],
      "metadata": {
        "id": "hkTjKKLmLvpl"
      },
      "execution_count": 5,
      "outputs": []
    },
    {
      "cell_type": "code",
      "source": [
        "device = \"cuda\" if torch.cuda.is_available() else \"cpu\"\n",
        "print(f\"Using {device} device\")"
      ],
      "metadata": {
        "id": "Dqy02oAvY7GM",
        "colab": {
          "base_uri": "https://localhost:8080/"
        },
        "outputId": "d0e2eef8-797e-465a-b445-0eb0033e4a29"
      },
      "execution_count": 6,
      "outputs": [
        {
          "output_type": "stream",
          "name": "stdout",
          "text": [
            "Using cuda device\n"
          ]
        }
      ]
    },
    {
      "cell_type": "code",
      "source": [
        "gpu_info = !nvidia-smi\n",
        "gpu_info = '\\n'.join(gpu_info)\n",
        "if gpu_info.find('failed') >= 0:\n",
        "  print('Not connected to a GPU')\n",
        "else:\n",
        "  print(gpu_info)"
      ],
      "metadata": {
        "colab": {
          "base_uri": "https://localhost:8080/"
        },
        "id": "cy50qmXr5_8V",
        "outputId": "31fd5fbb-e814-4622-fc80-21fb763a0ee3"
      },
      "execution_count": 7,
      "outputs": [
        {
          "output_type": "stream",
          "name": "stdout",
          "text": [
            "Fri Jun  3 16:13:07 2022       \n",
            "+-----------------------------------------------------------------------------+\n",
            "| NVIDIA-SMI 460.32.03    Driver Version: 460.32.03    CUDA Version: 11.2     |\n",
            "|-------------------------------+----------------------+----------------------+\n",
            "| GPU  Name        Persistence-M| Bus-Id        Disp.A | Volatile Uncorr. ECC |\n",
            "| Fan  Temp  Perf  Pwr:Usage/Cap|         Memory-Usage | GPU-Util  Compute M. |\n",
            "|                               |                      |               MIG M. |\n",
            "|===============================+======================+======================|\n",
            "|   0  Tesla P100-PCIE...  Off  | 00000000:00:04.0 Off |                    0 |\n",
            "| N/A   42C    P0    28W / 250W |      2MiB / 16280MiB |      0%      Default |\n",
            "|                               |                      |                  N/A |\n",
            "+-------------------------------+----------------------+----------------------+\n",
            "                                                                               \n",
            "+-----------------------------------------------------------------------------+\n",
            "| Processes:                                                                  |\n",
            "|  GPU   GI   CI        PID   Type   Process name                  GPU Memory |\n",
            "|        ID   ID                                                   Usage      |\n",
            "|=============================================================================|\n",
            "|  No running processes found                                                 |\n",
            "+-----------------------------------------------------------------------------+\n"
          ]
        }
      ]
    },
    {
      "cell_type": "code",
      "source": [
        "pre_proc_data_dir = None\n",
        "np.random.seed(69)"
      ],
      "metadata": {
        "id": "YVFtfDk0pYtd"
      },
      "execution_count": 8,
      "outputs": []
    },
    {
      "cell_type": "markdown",
      "source": [
        "\n",
        "# Get some data"
      ],
      "metadata": {
        "id": "PGuFgO6jHPWX"
      }
    },
    {
      "cell_type": "code",
      "source": [
        "%%capture\n",
        "reload_data = True\n",
        "\n",
        "if reload_data or not \"stock_df\" in vars():\n",
        "    names = [\"stock-data:final\", \"fundamental-data:final\", \"meta-data:final\", \"macro-data:final\"]\n",
        "\n",
        "    stock_df, fundamental_df, meta_df, macro_df = get_datasets(names=names, project=\"master\")\n",
        "\n",
        "    stock_df = stock_df.drop(columns=[\"close_price\", \"currency\"]).astype({\"market_cap\": np.float32})\n",
        "    fundamental_df = fundamental_df.drop(columns=\"period_end_date\").astype(fundamental_types)\n",
        "    macro_df.iloc[:, 1:] = macro_df.iloc[:, 1:].astype(np.float32)"
      ],
      "metadata": {
        "id": "GHmOVxnnHYU_"
      },
      "execution_count": 9,
      "outputs": []
    },
    {
      "cell_type": "code",
      "source": [
        "%%capture\n",
        "reload_proc_data = True\n",
        "\n",
        "if reload_proc_data or not \"pre_proc_data_dir\" in vars() or pre_proc_data_dir is None:\n",
        "    with wb.init(job_type=\"get-data\", project=\"master\", entity=\"krankile\") as run:\n",
        "        art = run.use_artifact(\"era-datasets:v0\")\n",
        "        pre_proc_data_dir = art.download()"
      ],
      "metadata": {
        "id": "iZ7BM-BIDTZG"
      },
      "execution_count": 10,
      "outputs": []
    },
    {
      "cell_type": "markdown",
      "source": [
        "## Define a class to handle information across eras"
      ],
      "metadata": {
        "id": "txepzrB_QFNE"
      }
    },
    {
      "cell_type": "code",
      "source": [
        "class EraController:\n",
        "    def __init__(\n",
        "        self,\n",
        "        start_date,\n",
        "        end_metric_start_date,\n",
        "        queue_length,\n",
        "        stock_df,\n",
        "        fundamental_df,\n",
        "        meta_df,\n",
        "        macro_df,\n",
        "        conf,\n",
        "    ):\n",
        "        self.conf = conf\n",
        "        self.stock_df, self.fundamental_df, self.meta_df, self.macro_df = (\n",
        "            stock_df,\n",
        "            fundamental_df,\n",
        "            meta_df,\n",
        "            macro_df,\n",
        "        )\n",
        "\n",
        "        self.path_dict = None\n",
        "        if \"pre_proc_data_dir\" in self.conf and self.conf.pre_proc_data_dir is not None:\n",
        "            self.path_dict = {path.split(\"/\")[-1]: path for path in sorted(glob(self.conf.pre_proc_data_dir + \"/*\"))}\n",
        "\n",
        "\n",
        "        self.dates_have_overlapped = False\n",
        "        self.loader_to_na_dict = {}\n",
        "\n",
        "        self.infront_dates = pd.date_range(\n",
        "            start=start_date, periods=queue_length, freq=\"M\"\n",
        "        )\n",
        "        self.end_dates = pd.date_range(\n",
        "            start=end_metric_start_date, periods=queue_length, freq=\"M\"\n",
        "        )\n",
        "\n",
        "        self.infront_loaders = self.dates_to_loader(self.infront_dates)\n",
        "        self.end_loaders = self.dates_to_loader(self.end_dates)\n",
        "\n",
        "        self.total = len(\n",
        "            pd.date_range(start=self.infront_dates[0], end=self.end_dates[0], freq=\"M\")\n",
        "        )\n",
        "        \n",
        "        self.date = self.infront_dates[0]\n",
        "\n",
        "    def date_to_loader(self, date):\n",
        "        if self.path_dict is not None:\n",
        "            with open(self.path_dict[str(date)], \"rb\") as f:\n",
        "                dataset_infront = pickle.load(f)\n",
        "        else:\n",
        "            dataset_infront = EraDataset(\n",
        "                date,\n",
        "                self.conf.training_w,\n",
        "                self.conf.forecast_w,\n",
        "                self.conf.n_reports,\n",
        "                self.stock_df,\n",
        "                self.fundamental_df,\n",
        "                self.meta_df,\n",
        "                self.macro_df,\n",
        "            )\n",
        "\n",
        "        loader = DataLoader(\n",
        "            dataset_infront,\n",
        "            batch_size=len(dataset_infront),\n",
        "            shuffle=False,\n",
        "            num_workers=self.conf.cpus,\n",
        "        )\n",
        "        self.loader_to_na_dict[date] = dataset_infront.na_percentage\n",
        "        return loader\n",
        "\n",
        "    def dates_to_loader(self, dates):\n",
        "        dataloaders = []\n",
        "        for date in dates:\n",
        "            loader_infront = self.date_to_loader(date)\n",
        "            dataloaders.append(loader_infront)\n",
        "        return dataloaders\n",
        "    \n",
        "    def get_next_month(self, date):\n",
        "        month_factor = 1 if date.day == date.days_in_month else 2\n",
        "        next_month_end = date + pd.tseries.offsets.MonthEnd() * month_factor\n",
        "        return next_month_end\n",
        "\n",
        "    def validation_loaders(self):\n",
        "        return self.infront_loaders, self.end_loaders\n",
        "\n",
        "    def __iter__(self):\n",
        "        return self\n",
        "\n",
        "    def __next__(self):\n",
        "        if self.infront_dates[-1] == self.end_dates[-1]:\n",
        "            raise StopIteration\n",
        "\n",
        "        self.date = self.infront_dates[0]\n",
        "        dataloader_train, dataloader_val, self.date = (\n",
        "            self.infront_loaders.pop(0),\n",
        "            self.infront_loaders[0],\n",
        "            self.infront_dates[0],\n",
        "        )\n",
        "\n",
        "        self.infront_dates = self.infront_dates[1:]\n",
        "        next_date = self.get_next_month(self.infront_dates[-1])\n",
        "        \n",
        "        if (\n",
        "            (self.infront_dates[0] <= self.end_dates[-1])\n",
        "            and (next_date >= self.end_dates[0])\n",
        "            and not self.dates_have_overlapped\n",
        "        ):  # If overlap\n",
        "            self.dates_have_overlapped = True\n",
        "\n",
        "            self.infront_dates = self.infront_dates.append(\n",
        "                pd.DatetimeIndex([self.end_dates[0]])\n",
        "            )  # At first overlap, fix infront_dates to end_date start\n",
        "            self.infront_loaders.append(self.end_loaders[0])\n",
        "\n",
        "        else:\n",
        "            self.infront_dates = self.infront_dates.append(\n",
        "                pd.DatetimeIndex([next_date])\n",
        "            )\n",
        "            self.infront_loaders.append(self.date_to_loader(next_date))\n",
        "\n",
        "        return dataloader_train, dataloader_val"
      ],
      "metadata": {
        "id": "PBGrBFNSYbWF"
      },
      "execution_count": 11,
      "outputs": []
    },
    {
      "cell_type": "markdown",
      "source": [
        "# Run the loop! (Like Odd-Geir Lademo)"
      ],
      "metadata": {
        "id": "s5zbIHNQHUNH"
      }
    },
    {
      "cell_type": "code",
      "source": [
        "# Check if it's necessary to calculate naive loss every epoch\n",
        "def get_epoch_loss(model, optimizer, dataloader, loss_fn, device, run_type, conf):\n",
        "    model_losses = []\n",
        "    naive_losses = []\n",
        "    for data, meta_cont, meta_cat, target in to_device(dataloader, device):\n",
        "\n",
        "        optimizer.zero_grad()\n",
        "        y_pred: torch.Tensor = model(torch.clamp(data, -conf.clamp, conf.clamp) if conf.clamp else data, meta_cont, meta_cat)\n",
        "        naive_loss = torch.Tensor([1])\n",
        "        loss = loss_fn(target, y_pred)\n",
        "\n",
        "        model_losses.append(loss.item())\n",
        "        naive_losses.append(naive_loss.item())\n",
        "\n",
        "        if run_type == \"train\":\n",
        "            loss.backward()\n",
        "            optimizer.step()\n",
        "\n",
        "    return model_losses, naive_losses"
      ],
      "metadata": {
        "id": "pZAHVCqKuIOb"
      },
      "execution_count": 12,
      "outputs": []
    },
    {
      "cell_type": "code",
      "source": [
        "def eras_ahead_loss(model, data_loaders, optimizer, conf):\n",
        "    model_infront = []\n",
        "    naive_infront = []\n",
        "    \n",
        "    with torch.no_grad():\n",
        "        for loader in data_loaders:\n",
        "            model_loss, naive_loss = get_epoch_loss(model, optimizer, loader, loss_fns[\"mape_2\"], device, \"inference\", conf)\n",
        "        \n",
        "            model_infront += model_loss\n",
        "            naive_infront += naive_loss\n",
        "    \n",
        "    return np.array(model_infront), np.array(naive_infront)"
      ],
      "metadata": {
        "id": "g3bvK3f9iHmo"
      },
      "execution_count": 13,
      "outputs": []
    },
    {
      "cell_type": "code",
      "source": [
        "def train_one_era(run, model, optimizer, data_train, data_val, stopper, losses, device, conf, pbar):\n",
        "\n",
        "    for epoch in range(conf.max_epochs):\n",
        "        epoch_losses = dict(train=[], val=[])\n",
        "        \n",
        "        pbar.update_postfix({\"epoch\": epoch})\n",
        "        for run_type, dataloader in {\"train\": data_train, \"val\": data_val}.items():\n",
        "            model.train(run_type == \"train\")\n",
        "            \n",
        "            epoch_model_loss, naive_losses = get_epoch_loss(model, optimizer, dataloader, loss_fns[conf.loss_fn], device, run_type, conf)\n",
        "            epoch_losses[run_type] += epoch_model_loss\n",
        "\n",
        "            epoch_loss = np.mean(epoch_losses[run_type])\n",
        "            losses[run_type].append(epoch_loss)\n",
        "\n",
        "            run.log({f\"epoch_{run_type}\": epoch_loss, \"epoch\": epoch})\n",
        "\n",
        "        pbar.update_postfix({\"train_loss\": np.mean(epoch_losses[\"train\"]), \"val_loss\": np.mean(epoch_losses[\"val\"]), \"naive\": np.mean(naive_losses)})\n",
        "\n",
        "        if run_type == \"val\" and stopper(epoch_losses[\"val\"], pbar):\n",
        "            losses[\"epoch_lens\"].append(epoch + 1)\n",
        "            break\n",
        "\n",
        "    return epoch_losses[\"train\"], epoch_losses[\"val\"]"
      ],
      "metadata": {
        "id": "lRHUgmiYTrC-"
      },
      "execution_count": 14,
      "outputs": []
    },
    {
      "cell_type": "code",
      "source": [
        "def train(config, project=None, entity=None, enablewb=True) -> nn.Module:\n",
        "    \n",
        "    mode = \"online\" if enablewb else \"offline\"\n",
        "    with wb.init(config=config, project=project, entity=entity, job_type=\"training\", mode=mode) as run:\n",
        "\n",
        "        conf = run.config\n",
        "        print(conf)\n",
        "\n",
        "      \n",
        "\n",
        "        #TODO Define model from string given by conf\n",
        "        model = models[conf.model](**conf).to(device)\n",
        "        optimizer = torch.optim.Adam(model.parameters(), lr=conf.learning_rate, )\n",
        "\n",
        "        stopper = EarlyStop(conf.patience, conf.min_delta)\n",
        "        losses = dict(train=[], val=[], epoch_lens=[])\n",
        "\n",
        "        eras = EraController(start_date=conf.start_date, end_metric_start_date=conf.end_date, queue_length=conf.queue_length, stock_df=stock_df, fundamental_df=fundamental_df, meta_df=meta_df, macro_df=macro_df, conf=conf)\n",
        "        pbar = TqdmPostFix(eras, total=eras.total)\n",
        "        for i, (data_train, data_val) in enumerate(pbar):\n",
        "            # Does this work??\n",
        "            torch.cuda.empty_cache()\n",
        "            \n",
        "            pbar.set_description(f\"Era {eras.date} [{i+1}/{eras.total}]\")\n",
        "\n",
        "            train_losses, val_losses = train_one_era(\n",
        "                run=run, \n",
        "                model=model, \n",
        "                optimizer=optimizer, \n",
        "                data_train=data_train, \n",
        "                data_val=data_val,\n",
        "                stopper=stopper.reset(),\n",
        "                losses=losses,\n",
        "                device=device, \n",
        "                conf=conf,\n",
        "                pbar=pbar,\n",
        "            )\n",
        "\n",
        "            loaders_infront, loaders_end = eras.validation_loaders()\n",
        "            model_infront, _ = eras_ahead_loss(model, loaders_infront, optimizer, conf)\n",
        "            model_end, __ = eras_ahead_loss(model, loaders_end, optimizer, conf)\n",
        "\n",
        "            run.log({\"era_train\": np.mean(train_losses), \"era_val\" : np.mean(val_losses),\"model_infront\": np.mean(model_infront),\n",
        "                     \"model_end\": np.mean(model_end), **eras.loader_to_na_dict[eras.date], \"time\": eras.date.timestamp(), \"era\": i})\n",
        "\n",
        "        if conf.save_model:\n",
        "            put_nn_model(model, run)\n",
        "\n",
        "    return model, losses"
      ],
      "metadata": {
        "id": "sOlLqBTsMW1G"
      },
      "execution_count": 15,
      "outputs": []
    },
    {
      "cell_type": "code",
      "source": [
        "def get_params_from_data(stock_df, fundamental_df, meta_df, macro_df, params_human):\n",
        "    meta_cont_len = 1\n",
        "    meta_cat_len = np.array([len(meta_df[col].unique()) for col in meta_df.iloc[:,1:] if col != \"founding_year\"]) + 1\n",
        "    \n",
        "    stock_feats = 1\n",
        "    macro_feats = (macro_df.shape[1]-1)\n",
        "    funda_feats = (fundamental_df.loc[:,\"revenue\":].shape[1] - 1) + 2\n",
        "\n",
        "    n_features = stock_feats + macro_feats + funda_feats\n",
        "    \n",
        "    data_given_params = dict(\n",
        "        n_reports=4,\n",
        "        meta_cont_lens=(meta_cont_len, 1),\n",
        "        meta_cat_lens=list(map(lambda x: (x, int(math.ceil(x**0.25))), meta_cat_len)),\n",
        "        out_len=  1 if params_human[\"loss_fn\"][:4] == \"vola\" else params_human[\"forecast_w\"],\n",
        "        input_size=n_features,\n",
        "    )\n",
        "    return data_given_params"
      ],
      "metadata": {
        "id": "4rczchGmu__D"
      },
      "execution_count": 16,
      "outputs": []
    },
    {
      "cell_type": "code",
      "source": [
        "params_human = dict(\n",
        "    n_reports=4,\n",
        "    cpus=1,\n",
        "    training_w=240,\n",
        "    forecast_w=20,\n",
        "    start_date=\"2000-12-31\",\n",
        "    end_date=\"2018-10-31\",\n",
        "    save_model=True,\n",
        "    batch_size=512,\n",
        "    pre_proc_data_dir=pre_proc_data_dir,\n",
        "    clamp=2,\n",
        "    dtype=\"float32\",\n",
        "    queue_length=6,\n",
        "    loss_fn=\"vola\",\n",
        ")\n",
        "\n",
        "params_wb = dict(\n",
        "    max_epochs=200,\n",
        "    patience=10,\n",
        "    min_delta=0.00001,\n",
        "    learning_rate=0.001,\n",
        "\n",
        "    hd=32,\n",
        "    dropout=0.1,\n",
        "    num_layers=7,\n",
        "    channels=32,\n",
        "    kernel_size=3,\n",
        "\n",
        "    meta_hd=16,\n",
        "\n",
        "    model=\"TcnV1\",\n",
        "    activation=\"elu\",\n",
        ")\n",
        "\n",
        "params_from_data = get_params_from_data(stock_df, fundamental_df, meta_df, macro_df, params_human)\n",
        "\n",
        "config = {  \n",
        "    **params_human,\n",
        "    **params_wb,\n",
        "    **params_from_data,\n",
        "}"
      ],
      "metadata": {
        "id": "wIKeTJNrln6X"
      },
      "execution_count": 17,
      "outputs": []
    },
    {
      "cell_type": "code",
      "source": [
        "enablewb = True\n",
        "sweepid = \"krankile/master/8kpnbt02\"\n",
        "if sweepid:\n",
        "    count = 500 # number of runs to execute\n",
        "    wb.agent(sweepid, partial(train,config=config, enablewb=enablewb), count=count)\n",
        "\n",
        "else:\n",
        "    model, losses = train(config=config, project=\"master-test\", entity=\"krankile\", enablewb=enablewb)"
      ],
      "metadata": {
        "id": "G3xYkJZgl_Vn",
        "colab": {
          "base_uri": "https://localhost:8080/",
          "height": 1000,
          "referenced_widgets": [
            "f876506562344ec6abf83d280b237fcd",
            "7aa0321ec944444db2e5a5f2d1694c75",
            "658d2d9b60cc46d29f3db5f80451b1a9",
            "593ddcbb076344539921445413c0befd",
            "6f8987c3e35c4847b7b53e5e9eda607c",
            "90cd8b88a8784b63873a20950d7312f6",
            "c134ff8fd6104a6cbc0d51ac8db2c1fc",
            "e114e32e990d4adca7aac25925ca188d",
            "2f88f3efee2047b99b0fecc6f1ad0371",
            "5d4ecd6ada184749ae5886e9d2557232",
            "268520834c024df99b75dc3a57a5298d",
            "081fa3737dfc4b3da0906beb496aee54",
            "7e51ea9f7c38495696be8abf97766607",
            "55e6414732c9468d8e9b14b1fce569ec",
            "2ac72ab284164af9b1c68075bddf83ef",
            "8e4f0e40e4ea4d448cb439fceb089693",
            "581f33c769f34668888fc66594447d09",
            "2f81a9eef7f94107b435ae7d6332e1bf",
            "d77e8f336bab468194c6f0c3cbc2f4b1",
            "06b97f43676e4c2ba85b5814da2f992e",
            "c9d1ef9ce6974ffb9a8083946eaf1b61",
            "b102739032074128ad0b12f5821282e4",
            "babe2fea8dce4dcdbdecc22ea903bccf",
            "1460ff6993e840b49de4311b8d224810"
          ]
        },
        "outputId": "3ad2a1c7-2305-42d7-ea10-728d06a89304"
      },
      "execution_count": null,
      "outputs": [
        {
          "output_type": "stream",
          "name": "stderr",
          "text": [
            "\u001b[34m\u001b[1mwandb\u001b[0m: Agent Starting Run: colj66mu with config:\n",
            "\u001b[34m\u001b[1mwandb\u001b[0m: \tchannels: 64\n",
            "\u001b[34m\u001b[1mwandb\u001b[0m: \tdropout: 0.2818867235798556\n",
            "\u001b[34m\u001b[1mwandb\u001b[0m: \thd: 32\n",
            "\u001b[34m\u001b[1mwandb\u001b[0m: \tkernel_size: 5\n",
            "\u001b[34m\u001b[1mwandb\u001b[0m: \tlearning_rate: 0.0340840906058492\n",
            "\u001b[34m\u001b[1mwandb\u001b[0m: \tmodel: TcnV4\n",
            "\u001b[34m\u001b[1mwandb\u001b[0m: \tnum_layers: 7\n"
          ]
        },
        {
          "output_type": "display_data",
          "data": {
            "text/plain": [
              "<IPython.core.display.HTML object>"
            ],
            "text/html": [
              "Tracking run with wandb version 0.12.17"
            ]
          },
          "metadata": {}
        },
        {
          "output_type": "display_data",
          "data": {
            "text/plain": [
              "<IPython.core.display.HTML object>"
            ],
            "text/html": [
              "Run data is saved locally in <code>/content/wandb/run-20220603_161528-colj66mu</code>"
            ]
          },
          "metadata": {}
        },
        {
          "output_type": "display_data",
          "data": {
            "text/plain": [
              "<IPython.core.display.HTML object>"
            ],
            "text/html": [
              "Syncing run <strong><a href=\"https://wandb.ai/krankile/master/runs/colj66mu\" target=\"_blank\">young-sweep-3</a></strong> to <a href=\"https://wandb.ai/krankile/master\" target=\"_blank\">Weights & Biases</a> (<a href=\"https://wandb.me/run\" target=\"_blank\">docs</a>)<br/>Sweep page:  <a href=\"https://wandb.ai/krankile/master/sweeps/8kpnbt02\" target=\"_blank\">https://wandb.ai/krankile/master/sweeps/8kpnbt02</a>"
            ]
          },
          "metadata": {}
        },
        {
          "output_type": "stream",
          "name": "stdout",
          "text": [
            "{'n_reports': 4, 'cpus': 1, 'training_w': 240, 'forecast_w': 20, 'start_date': '2000-12-31', 'end_date': '2018-10-31', 'save_model': True, 'batch_size': 512, 'pre_proc_data_dir': './artifacts/era-datasets:v0', 'clamp': 2, 'dtype': 'float32', 'queue_length': 6, 'loss_fn': 'vola', 'max_epochs': 200, 'patience': 10, 'min_delta': 1e-05, 'learning_rate': 0.0340840906058492, 'hd': 32, 'dropout': 0.2818867235798556, 'num_layers': 7, 'channels': 64, 'kernel_size': 5, 'meta_hd': 16, 'model': 'TcnV4', 'activation': 'elu', 'meta_cont_lens': [1, 1], 'meta_cat_lens': [[110, 4], [6, 2], [91, 4], [285, 5], [3, 2], [5, 2], [7, 2], [14, 2], [58, 3]], 'out_len': 1, 'input_size': 37}\n"
          ]
        },
        {
          "output_type": "stream",
          "name": "stderr",
          "text": [
            "Era 2018-09-30 00:00:00 [214/215]: 100%|█████████▉| 214/215 [2:28:48<00:41, 41.72s/it, epoch=10, train_loss=0.0486, val_loss=0.085, naive=1, triggers=10/10, best_loss=0.0786]\n"
          ]
        },
        {
          "output_type": "display_data",
          "data": {
            "text/plain": [
              "<IPython.core.display.HTML object>"
            ],
            "text/html": [
              "Waiting for W&B process to finish... <strong style=\"color:green\">(success).</strong>"
            ]
          },
          "metadata": {}
        },
        {
          "output_type": "display_data",
          "data": {
            "text/plain": [
              "VBox(children=(Label(value='1.117 MB of 1.117 MB uploaded (0.000 MB deduped)\\r'), FloatProgress(value=1.0, max…"
            ],
            "application/vnd.jupyter.widget-view+json": {
              "version_major": 2,
              "version_minor": 0,
              "model_id": "f876506562344ec6abf83d280b237fcd"
            }
          },
          "metadata": {}
        },
        {
          "output_type": "display_data",
          "data": {
            "text/plain": [
              "<IPython.core.display.HTML object>"
            ],
            "text/html": [
              "<style>\n",
              "    table.wandb td:nth-child(1) { padding: 0 10px; text-align: left ; width: auto;} td:nth-child(2) {text-align: left ; width: 100%}\n",
              "    .wandb-row { display: flex; flex-direction: row; flex-wrap: wrap; justify-content: flex-start; width: 100% }\n",
              "    .wandb-col { display: flex; flex-direction: column; flex-basis: 100%; flex: 1; padding: 10px; }\n",
              "    </style>\n",
              "<div class=\"wandb-row\"><div class=\"wandb-col\"><h3>Run history:</h3><br/><table class=\"wandb\"><tr><td>epoch</td><td>▁▁▃▁▂▁▁▂▂▂▁▂▆▁▁▁▁▁▁▁▂▁▄▂▆▅▁▂█▁▂▅▄▁▁▁▂▂▁▁</td></tr><tr><td>epoch_train</td><td>█▁▁▁▂▁▁▁▁▁▁▁▁▁▁▁▁▁▂▁▁▁▁▁▁▁▁▁▁▁▁▁▁▁▁▁▁▁▁▁</td></tr><tr><td>epoch_val</td><td>▂▁▁▁▁▂▁▂▁▂▁▃▁▁▁▁▁▂▁▁▁▁▁▁▁▁▁▁▁█▁▁▁▁▁▁▁▁▁▁</td></tr><tr><td>era</td><td>▁▁▁▂▂▂▂▂▂▃▃▃▃▃▄▄▄▄▄▄▅▅▅▅▅▅▆▆▆▆▆▇▇▇▇▇▇███</td></tr><tr><td>era_train</td><td>█▁▁▁▂▁▁▄▁▁▂▁▁▁▁▁▂▂▁▂▁▁▁▁▁▁▁▇▁▁▁▁▁▁▁▁▁▁▁▁</td></tr><tr><td>era_val</td><td>▃▁▁▁▂▁▁▁▁▁▁▂▄▁▁▁▁▁▁▇▁▁▁▁▁▁▁█▂▁▁▂▁▁▂▃▁▁▁▁</td></tr><tr><td>fundamental</td><td>▁▁▁▁▁▁▁▁▁▁▁▁▁▁▁▁▁▁▁▁▁▁▁▁▁▁▁▁▁▁▁▁▁▁▁▁▁▁▁▁</td></tr><tr><td>macro</td><td>▁▁▁▁▁▁▁▁▁▁▁▁▁▁▁▁▁▁▁▁▁▁▁▁▁▁▁▁▁▁▁▁▁▁▁▁▁▁▁▁</td></tr><tr><td>model_end</td><td>▁▅▄▄▄▄▄▄▅▄▄▄▄▄▄▄▅▅▄▄▄▄▄▅▄▄▇▇█▇█▅▆▄▄▄▄▄▅▆</td></tr><tr><td>model_infront</td><td>▁▇▄▅▃▅▅▃▅▃▄▄▅▃▂▂▂▆▄▃▃▄▄▅▄▃▅▃▅▃█▃█▆▅▄▄▃▃█</td></tr><tr><td>stock</td><td>▁▁▁▁▁▁▁▁▁▁▁▁▁▁▁▁▁▁▁▁▁▁▁▁▁▁▁▁▁▁▁▁▁▁▁▁▁▁▁▁</td></tr><tr><td>target</td><td>▃▂█▁▃▄▂▆▁▅▂▅▂▅▂▆▂▅▄▂▆▂▅▃▅▆▅▃▆▅▂▆▂▆▂▅▆▅▃▄</td></tr><tr><td>time</td><td>▁▁▁▂▂▂▂▂▂▃▃▃▃▃▄▄▄▄▄▄▅▅▅▅▅▅▆▆▆▆▆▇▇▇▇▇▇███</td></tr></table><br/></div><div class=\"wandb-col\"><h3>Run summary:</h3><br/><table class=\"wandb\"><tr><td>epoch</td><td>10</td></tr><tr><td>epoch_train</td><td>0.04861</td></tr><tr><td>epoch_val</td><td>0.08501</td></tr><tr><td>era</td><td>213</td></tr><tr><td>era_train</td><td>0.04861</td></tr><tr><td>era_val</td><td>0.08501</td></tr><tr><td>fundamental</td><td>0.31776</td></tr><tr><td>macro</td><td>0.13708</td></tr><tr><td>model_end</td><td>1.06931</td></tr><tr><td>model_infront</td><td>1.06931</td></tr><tr><td>stock</td><td>0.0</td></tr><tr><td>target</td><td>0.05635</td></tr><tr><td>time</td><td>1538265600.0</td></tr></table><br/></div></div>"
            ]
          },
          "metadata": {}
        },
        {
          "output_type": "display_data",
          "data": {
            "text/plain": [
              "<IPython.core.display.HTML object>"
            ],
            "text/html": [
              "Synced <strong style=\"color:#cdcd00\">young-sweep-3</strong>: <a href=\"https://wandb.ai/krankile/master/runs/colj66mu\" target=\"_blank\">https://wandb.ai/krankile/master/runs/colj66mu</a><br/>Synced 5 W&B file(s), 0 media file(s), 1 artifact file(s) and 0 other file(s)"
            ]
          },
          "metadata": {}
        },
        {
          "output_type": "display_data",
          "data": {
            "text/plain": [
              "<IPython.core.display.HTML object>"
            ],
            "text/html": [
              "Find logs at: <code>./wandb/run-20220603_161528-colj66mu/logs</code>"
            ]
          },
          "metadata": {}
        },
        {
          "output_type": "stream",
          "name": "stderr",
          "text": [
            "\u001b[34m\u001b[1mwandb\u001b[0m: Agent Starting Run: qg6oxss6 with config:\n",
            "\u001b[34m\u001b[1mwandb\u001b[0m: \tchannels: 16\n",
            "\u001b[34m\u001b[1mwandb\u001b[0m: \tdropout: 0.1997648276234071\n",
            "\u001b[34m\u001b[1mwandb\u001b[0m: \thd: 32\n",
            "\u001b[34m\u001b[1mwandb\u001b[0m: \tkernel_size: 3\n",
            "\u001b[34m\u001b[1mwandb\u001b[0m: \tlearning_rate: 0.061679435062125414\n",
            "\u001b[34m\u001b[1mwandb\u001b[0m: \tmodel: TcnV1\n",
            "\u001b[34m\u001b[1mwandb\u001b[0m: \tnum_layers: 6\n"
          ]
        },
        {
          "output_type": "display_data",
          "data": {
            "text/plain": [
              "<IPython.core.display.HTML object>"
            ],
            "text/html": [
              "Tracking run with wandb version 0.12.17"
            ]
          },
          "metadata": {}
        },
        {
          "output_type": "display_data",
          "data": {
            "text/plain": [
              "<IPython.core.display.HTML object>"
            ],
            "text/html": [
              "Run data is saved locally in <code>/content/wandb/run-20220603_184451-qg6oxss6</code>"
            ]
          },
          "metadata": {}
        },
        {
          "output_type": "display_data",
          "data": {
            "text/plain": [
              "<IPython.core.display.HTML object>"
            ],
            "text/html": [
              "Syncing run <strong><a href=\"https://wandb.ai/krankile/master/runs/qg6oxss6\" target=\"_blank\">laced-sweep-4</a></strong> to <a href=\"https://wandb.ai/krankile/master\" target=\"_blank\">Weights & Biases</a> (<a href=\"https://wandb.me/run\" target=\"_blank\">docs</a>)<br/>Sweep page:  <a href=\"https://wandb.ai/krankile/master/sweeps/8kpnbt02\" target=\"_blank\">https://wandb.ai/krankile/master/sweeps/8kpnbt02</a>"
            ]
          },
          "metadata": {}
        },
        {
          "output_type": "stream",
          "name": "stdout",
          "text": [
            "{'n_reports': 4, 'cpus': 1, 'training_w': 240, 'forecast_w': 20, 'start_date': '2000-12-31', 'end_date': '2018-10-31', 'save_model': True, 'batch_size': 512, 'pre_proc_data_dir': './artifacts/era-datasets:v0', 'clamp': 2, 'dtype': 'float32', 'queue_length': 6, 'loss_fn': 'vola', 'max_epochs': 200, 'patience': 10, 'min_delta': 1e-05, 'learning_rate': 0.061679435062125414, 'hd': 32, 'dropout': 0.1997648276234071, 'num_layers': 6, 'channels': 16, 'kernel_size': 3, 'meta_hd': 16, 'model': 'TcnV1', 'activation': 'elu', 'meta_cont_lens': [1, 1], 'meta_cat_lens': [[110, 4], [6, 2], [91, 4], [285, 5], [3, 2], [5, 2], [7, 2], [14, 2], [58, 3]], 'out_len': 1, 'input_size': 37}\n"
          ]
        },
        {
          "output_type": "stream",
          "name": "stderr",
          "text": [
            "Era 2018-09-30 00:00:00 [214/215]: 100%|█████████▉| 214/215 [2:15:05<00:37, 37.88s/it, epoch=14, train_loss=0.049, val_loss=0.078, naive=1, triggers=10/10, best_loss=0.0778]\n"
          ]
        },
        {
          "output_type": "display_data",
          "data": {
            "text/plain": [
              "<IPython.core.display.HTML object>"
            ],
            "text/html": [
              "Waiting for W&B process to finish... <strong style=\"color:green\">(success).</strong>"
            ]
          },
          "metadata": {}
        },
        {
          "output_type": "display_data",
          "data": {
            "text/plain": [
              "VBox(children=(Label(value='0.084 MB of 0.084 MB uploaded (0.000 MB deduped)\\r'), FloatProgress(value=1.0, max…"
            ],
            "application/vnd.jupyter.widget-view+json": {
              "version_major": 2,
              "version_minor": 0,
              "model_id": "2f88f3efee2047b99b0fecc6f1ad0371"
            }
          },
          "metadata": {}
        },
        {
          "output_type": "display_data",
          "data": {
            "text/plain": [
              "<IPython.core.display.HTML object>"
            ],
            "text/html": [
              "<style>\n",
              "    table.wandb td:nth-child(1) { padding: 0 10px; text-align: left ; width: auto;} td:nth-child(2) {text-align: left ; width: 100%}\n",
              "    .wandb-row { display: flex; flex-direction: row; flex-wrap: wrap; justify-content: flex-start; width: 100% }\n",
              "    .wandb-col { display: flex; flex-direction: column; flex-basis: 100%; flex: 1; padding: 10px; }\n",
              "    </style>\n",
              "<div class=\"wandb-row\"><div class=\"wandb-col\"><h3>Run history:</h3><br/><table class=\"wandb\"><tr><td>epoch</td><td>▂▁▂▂▁▂▁▂▁▁█▂▂▁▂▁▁▁▁▁▂▂▃▁▂▁▁▁▁▂▂▁▂▁▂▁▂▁▂▁</td></tr><tr><td>epoch_train</td><td>▂▂▁▁▂▄▂▁▁▁▁▁▂█▁▁▁▁▅▁▁▁▁▁▁▁▂▁▄▁▂▁▁▁▁▁▁▁▁▁</td></tr><tr><td>epoch_val</td><td>▃▂▅▂█▂▁▂▂▂▂▁▁▁▂▁▇▁▁▇▁▁▄▁▁▁▁▂▃▂▁▁▁▂▁▄▆▁▁▂</td></tr><tr><td>era</td><td>▁▁▁▂▂▂▂▂▂▃▃▃▃▃▄▄▄▄▄▄▅▅▅▅▅▅▆▆▆▆▆▇▇▇▇▇▇███</td></tr><tr><td>era_train</td><td>▁▁▁▁▂▁▁▅▁▁▂▁▁▁▁▁▂▂▁▂▁▁▁▁▁▁▂█▁▁▁▁▁▁▁▁▁▁▁▁</td></tr><tr><td>era_val</td><td>▂▁▁▁▂▁▁▂▁▁▂▂▄▁▁▁▁▁▁▇▁▁▁▁▁▁▃█▂▁▁▂▁▁▂▃▁▁▁▁</td></tr><tr><td>fundamental</td><td>▁▁▁▁▁▁▁▁▁▁▁▁▁▁▁▁▁▁▁▁▁▁▁▁▁▁▁▁▁▁▁▁▁▁▁▁▁▁▁▁</td></tr><tr><td>macro</td><td>▁▁▁▁▁▁▁▁▁▁▁▁▁▁▁▁▁▁▁▁▁▁▁▁▁▁▁▁▁▁▁▁▁▁▁▁▁▁▁▁</td></tr><tr><td>model_end</td><td>▇▇▇█▇▇▇▆█▇█▇█▇█▇▇▇█▇▇█▇█▇▇▁▇▇▇█▇█▇█▇▇▇██</td></tr><tr><td>model_infront</td><td>▇▇▇█▇▇▇▇█▇█▇▇▇▇▇▇▇▇▇▇▇▇▇▇▇▁▇▇▇█▇█▇█▇▇▇█▇</td></tr><tr><td>stock</td><td>▁▁▁▁▁▁▁▁▁▁▁▁▁▁▁▁▁▁▁▁▁▁▁▁▁▁▁▁▁▁▁▁▁▁▁▁▁▁▁▁</td></tr><tr><td>target</td><td>▃▂█▁▃▄▂▆▁▅▂▅▂▅▂▆▂▅▄▂▆▂▅▃▅▆▅▃▆▅▂▆▂▆▂▅▆▅▃▄</td></tr><tr><td>time</td><td>▁▁▁▂▂▂▂▂▂▃▃▃▃▃▄▄▄▄▄▄▅▅▅▅▅▅▆▆▆▆▆▇▇▇▇▇▇███</td></tr></table><br/></div><div class=\"wandb-col\"><h3>Run summary:</h3><br/><table class=\"wandb\"><tr><td>epoch</td><td>14</td></tr><tr><td>epoch_train</td><td>0.04902</td></tr><tr><td>epoch_val</td><td>0.078</td></tr><tr><td>era</td><td>213</td></tr><tr><td>era_train</td><td>0.04902</td></tr><tr><td>era_val</td><td>0.078</td></tr><tr><td>fundamental</td><td>0.31776</td></tr><tr><td>macro</td><td>0.13708</td></tr><tr><td>model_end</td><td>0.94387</td></tr><tr><td>model_infront</td><td>0.94387</td></tr><tr><td>stock</td><td>0.0</td></tr><tr><td>target</td><td>0.05635</td></tr><tr><td>time</td><td>1538265600.0</td></tr></table><br/></div></div>"
            ]
          },
          "metadata": {}
        },
        {
          "output_type": "display_data",
          "data": {
            "text/plain": [
              "<IPython.core.display.HTML object>"
            ],
            "text/html": [
              "Synced <strong style=\"color:#cdcd00\">laced-sweep-4</strong>: <a href=\"https://wandb.ai/krankile/master/runs/qg6oxss6\" target=\"_blank\">https://wandb.ai/krankile/master/runs/qg6oxss6</a><br/>Synced 5 W&B file(s), 0 media file(s), 1 artifact file(s) and 0 other file(s)"
            ]
          },
          "metadata": {}
        },
        {
          "output_type": "display_data",
          "data": {
            "text/plain": [
              "<IPython.core.display.HTML object>"
            ],
            "text/html": [
              "Find logs at: <code>./wandb/run-20220603_184451-qg6oxss6/logs</code>"
            ]
          },
          "metadata": {}
        },
        {
          "output_type": "stream",
          "name": "stderr",
          "text": [
            "\u001b[34m\u001b[1mwandb\u001b[0m: Agent Starting Run: 2jp445fh with config:\n",
            "\u001b[34m\u001b[1mwandb\u001b[0m: \tchannels: 16\n",
            "\u001b[34m\u001b[1mwandb\u001b[0m: \tdropout: 0.13554054901082502\n",
            "\u001b[34m\u001b[1mwandb\u001b[0m: \thd: 64\n",
            "\u001b[34m\u001b[1mwandb\u001b[0m: \tkernel_size: 3\n",
            "\u001b[34m\u001b[1mwandb\u001b[0m: \tlearning_rate: 0.04226680469173335\n",
            "\u001b[34m\u001b[1mwandb\u001b[0m: \tmodel: TcnV1\n",
            "\u001b[34m\u001b[1mwandb\u001b[0m: \tnum_layers: 6\n"
          ]
        },
        {
          "output_type": "display_data",
          "data": {
            "text/plain": [
              "<IPython.core.display.HTML object>"
            ],
            "text/html": [
              "Tracking run with wandb version 0.12.17"
            ]
          },
          "metadata": {}
        },
        {
          "output_type": "display_data",
          "data": {
            "text/plain": [
              "<IPython.core.display.HTML object>"
            ],
            "text/html": [
              "Run data is saved locally in <code>/content/wandb/run-20220603_210017-2jp445fh</code>"
            ]
          },
          "metadata": {}
        },
        {
          "output_type": "display_data",
          "data": {
            "text/plain": [
              "<IPython.core.display.HTML object>"
            ],
            "text/html": [
              "Syncing run <strong><a href=\"https://wandb.ai/krankile/master/runs/2jp445fh\" target=\"_blank\">fearless-sweep-6</a></strong> to <a href=\"https://wandb.ai/krankile/master\" target=\"_blank\">Weights & Biases</a> (<a href=\"https://wandb.me/run\" target=\"_blank\">docs</a>)<br/>Sweep page:  <a href=\"https://wandb.ai/krankile/master/sweeps/8kpnbt02\" target=\"_blank\">https://wandb.ai/krankile/master/sweeps/8kpnbt02</a>"
            ]
          },
          "metadata": {}
        },
        {
          "output_type": "stream",
          "name": "stdout",
          "text": [
            "{'n_reports': 4, 'cpus': 1, 'training_w': 240, 'forecast_w': 20, 'start_date': '2000-12-31', 'end_date': '2018-10-31', 'save_model': True, 'batch_size': 512, 'pre_proc_data_dir': './artifacts/era-datasets:v0', 'clamp': 2, 'dtype': 'float32', 'queue_length': 6, 'loss_fn': 'vola', 'max_epochs': 200, 'patience': 10, 'min_delta': 1e-05, 'learning_rate': 0.04226680469173335, 'hd': 64, 'dropout': 0.13554054901082502, 'num_layers': 6, 'channels': 16, 'kernel_size': 3, 'meta_hd': 16, 'model': 'TcnV1', 'activation': 'elu', 'meta_cont_lens': [1, 1], 'meta_cat_lens': [[110, 4], [6, 2], [91, 4], [285, 5], [3, 2], [5, 2], [7, 2], [14, 2], [58, 3]], 'out_len': 1, 'input_size': 37}\n"
          ]
        },
        {
          "output_type": "stream",
          "name": "stderr",
          "text": [
            "Era 2018-09-30 00:00:00 [214/215]: 100%|█████████▉| 214/215 [2:34:42<00:43, 43.38s/it, epoch=13, train_loss=0.0485, val_loss=0.0781, naive=1, triggers=10/10, best_loss=0.0779]\n"
          ]
        },
        {
          "output_type": "display_data",
          "data": {
            "text/plain": [
              "<IPython.core.display.HTML object>"
            ],
            "text/html": [
              "Waiting for W&B process to finish... <strong style=\"color:green\">(success).</strong>"
            ]
          },
          "metadata": {}
        },
        {
          "output_type": "display_data",
          "data": {
            "text/plain": [
              "VBox(children=(Label(value='0.088 MB of 0.088 MB uploaded (0.000 MB deduped)\\r'), FloatProgress(value=1.0, max…"
            ],
            "application/vnd.jupyter.widget-view+json": {
              "version_major": 2,
              "version_minor": 0,
              "model_id": "581f33c769f34668888fc66594447d09"
            }
          },
          "metadata": {}
        },
        {
          "output_type": "display_data",
          "data": {
            "text/plain": [
              "<IPython.core.display.HTML object>"
            ],
            "text/html": [
              "<style>\n",
              "    table.wandb td:nth-child(1) { padding: 0 10px; text-align: left ; width: auto;} td:nth-child(2) {text-align: left ; width: 100%}\n",
              "    .wandb-row { display: flex; flex-direction: row; flex-wrap: wrap; justify-content: flex-start; width: 100% }\n",
              "    .wandb-col { display: flex; flex-direction: column; flex-basis: 100%; flex: 1; padding: 10px; }\n",
              "    </style>\n",
              "<div class=\"wandb-row\"><div class=\"wandb-col\"><h3>Run history:</h3><br/><table class=\"wandb\"><tr><td>epoch</td><td>▃▂▃▁▂▂▃▂▃▆▃▂▃▂▁▃▁▁▂▃▄▂▂▂█▁▂▃█▂▂▂▂▁▂▁▂▁▂▂</td></tr><tr><td>epoch_train</td><td>▁▁▁▁▁▁▁▁▁▁▁▁▁▁▁▁▁▁▁▁▁▁▁▁▁▁▁▁▁█▁▁▁▁▁▁▂▁▁▁</td></tr><tr><td>epoch_val</td><td>▁▁▁▂▂▂▁▁▇▁▁█▁▁▁▁▁▂▁▁▁▁▁▁▁▁▁▁▁▅▁▁▁▁▁▂▁▁▁▁</td></tr><tr><td>era</td><td>▁▁▁▂▂▂▂▂▂▃▃▃▃▃▄▄▄▄▄▄▅▅▅▅▅▅▆▆▆▆▆▇▇▇▇▇▇███</td></tr><tr><td>era_train</td><td>▁▁▁▁▂▁▁▅▁▁▂▁▁▁▁▁▂▂▁▂▁▁▁▁▁▁▁█▁▁▁▁▁▁▁▁▁▁▁▁</td></tr><tr><td>era_val</td><td>▂▁▁▁▂▁▁▂▁▁▂▂▄▁▁▁▁▁▁▇▁▁▁▁▁▁▁█▂▁▁▂▁▁▂▃▁▁▁▁</td></tr><tr><td>fundamental</td><td>▁▁▁▁▁▁▁▁▁▁▁▁▁▁▁▁▁▁▁▁▁▁▁▁▁▁▁▁▁▁▁▁▁▁▁▁▁▁▁▁</td></tr><tr><td>macro</td><td>▁▁▁▁▁▁▁▁▁▁▁▁▁▁▁▁▁▁▁▁▁▁▁▁▁▁▁▁▁▁▁▁▁▁▁▁▁▁▁▁</td></tr><tr><td>model_end</td><td>▆▃▁▃▃▆█▄▆▅█▇▇▆▇▄▅▅▄▆▆▇▅▆▆▆▆▆▅▆▆▅▆▅▆▅▆▆▆▅</td></tr><tr><td>model_infront</td><td>▅▅▂▃▃▅▆▁▅▃█▅▅▄▆▂▃▃▁▄▄▅▃▄▄▄▅▇▃▄▅▃▅▃▅▃▄▄▅▃</td></tr><tr><td>stock</td><td>▁▁▁▁▁▁▁▁▁▁▁▁▁▁▁▁▁▁▁▁▁▁▁▁▁▁▁▁▁▁▁▁▁▁▁▁▁▁▁▁</td></tr><tr><td>target</td><td>▃▂█▁▃▄▂▆▁▅▂▅▂▅▂▆▂▅▄▂▆▂▅▃▅▆▅▃▆▅▂▆▂▆▂▅▆▅▃▄</td></tr><tr><td>time</td><td>▁▁▁▂▂▂▂▂▂▃▃▃▃▃▄▄▄▄▄▄▅▅▅▅▅▅▆▆▆▆▆▇▇▇▇▇▇███</td></tr></table><br/></div><div class=\"wandb-col\"><h3>Run summary:</h3><br/><table class=\"wandb\"><tr><td>epoch</td><td>13</td></tr><tr><td>epoch_train</td><td>0.04855</td></tr><tr><td>epoch_val</td><td>0.07812</td></tr><tr><td>era</td><td>213</td></tr><tr><td>era_train</td><td>0.04855</td></tr><tr><td>era_val</td><td>0.07812</td></tr><tr><td>fundamental</td><td>0.31776</td></tr><tr><td>macro</td><td>0.13708</td></tr><tr><td>model_end</td><td>0.91646</td></tr><tr><td>model_infront</td><td>0.91646</td></tr><tr><td>stock</td><td>0.0</td></tr><tr><td>target</td><td>0.05635</td></tr><tr><td>time</td><td>1538265600.0</td></tr></table><br/></div></div>"
            ]
          },
          "metadata": {}
        },
        {
          "output_type": "display_data",
          "data": {
            "text/plain": [
              "<IPython.core.display.HTML object>"
            ],
            "text/html": [
              "Synced <strong style=\"color:#cdcd00\">fearless-sweep-6</strong>: <a href=\"https://wandb.ai/krankile/master/runs/2jp445fh\" target=\"_blank\">https://wandb.ai/krankile/master/runs/2jp445fh</a><br/>Synced 5 W&B file(s), 0 media file(s), 1 artifact file(s) and 0 other file(s)"
            ]
          },
          "metadata": {}
        },
        {
          "output_type": "display_data",
          "data": {
            "text/plain": [
              "<IPython.core.display.HTML object>"
            ],
            "text/html": [
              "Find logs at: <code>./wandb/run-20220603_210017-2jp445fh/logs</code>"
            ]
          },
          "metadata": {}
        },
        {
          "output_type": "stream",
          "name": "stderr",
          "text": [
            "\u001b[34m\u001b[1mwandb\u001b[0m: Agent Starting Run: q1ady66d with config:\n",
            "\u001b[34m\u001b[1mwandb\u001b[0m: \tchannels: 32\n",
            "\u001b[34m\u001b[1mwandb\u001b[0m: \tdropout: 0.007271694164692466\n",
            "\u001b[34m\u001b[1mwandb\u001b[0m: \thd: 32\n",
            "\u001b[34m\u001b[1mwandb\u001b[0m: \tkernel_size: 3\n",
            "\u001b[34m\u001b[1mwandb\u001b[0m: \tlearning_rate: 0.09464194823626844\n",
            "\u001b[34m\u001b[1mwandb\u001b[0m: \tmodel: TcnV2\n",
            "\u001b[34m\u001b[1mwandb\u001b[0m: \tnum_layers: 7\n"
          ]
        },
        {
          "output_type": "display_data",
          "data": {
            "text/plain": [
              "<IPython.core.display.HTML object>"
            ],
            "text/html": [
              "Tracking run with wandb version 0.12.17"
            ]
          },
          "metadata": {}
        },
        {
          "output_type": "display_data",
          "data": {
            "text/plain": [
              "<IPython.core.display.HTML object>"
            ],
            "text/html": [
              "Run data is saved locally in <code>/content/wandb/run-20220603_233520-q1ady66d</code>"
            ]
          },
          "metadata": {}
        },
        {
          "output_type": "display_data",
          "data": {
            "text/plain": [
              "<IPython.core.display.HTML object>"
            ],
            "text/html": [
              "Syncing run <strong><a href=\"https://wandb.ai/krankile/master/runs/q1ady66d\" target=\"_blank\">faithful-sweep-8</a></strong> to <a href=\"https://wandb.ai/krankile/master\" target=\"_blank\">Weights & Biases</a> (<a href=\"https://wandb.me/run\" target=\"_blank\">docs</a>)<br/>Sweep page:  <a href=\"https://wandb.ai/krankile/master/sweeps/8kpnbt02\" target=\"_blank\">https://wandb.ai/krankile/master/sweeps/8kpnbt02</a>"
            ]
          },
          "metadata": {}
        },
        {
          "output_type": "stream",
          "name": "stdout",
          "text": [
            "{'n_reports': 4, 'cpus': 1, 'training_w': 240, 'forecast_w': 20, 'start_date': '2000-12-31', 'end_date': '2018-10-31', 'save_model': True, 'batch_size': 512, 'pre_proc_data_dir': './artifacts/era-datasets:v0', 'clamp': 2, 'dtype': 'float32', 'queue_length': 6, 'loss_fn': 'vola', 'max_epochs': 200, 'patience': 10, 'min_delta': 1e-05, 'learning_rate': 0.09464194823626844, 'hd': 32, 'dropout': 0.007271694164692466, 'num_layers': 7, 'channels': 32, 'kernel_size': 3, 'meta_hd': 16, 'model': 'TcnV2', 'activation': 'elu', 'meta_cont_lens': [1, 1], 'meta_cat_lens': [[110, 4], [6, 2], [91, 4], [285, 5], [3, 2], [5, 2], [7, 2], [14, 2], [58, 3]], 'out_len': 1, 'input_size': 37}\n"
          ]
        },
        {
          "output_type": "stream",
          "name": "stderr",
          "text": [
            "Era 2017-04-30 00:00:00 [197/215]:  91%|█████████ | 196/215 [6:04:51<39:49, 125.78s/it, epoch=20, train_loss=0.0192, val_loss=0.024, naive=1, triggers=2/10, best_loss=0.0232]"
          ]
        }
      ]
    },
    {
      "cell_type": "code",
      "source": [
        ""
      ],
      "metadata": {
        "id": "mh0Br_DiWixV"
      },
      "execution_count": null,
      "outputs": []
    }
  ]
}