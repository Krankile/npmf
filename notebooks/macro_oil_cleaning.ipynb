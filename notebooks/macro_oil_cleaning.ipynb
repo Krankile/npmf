{
  "nbformat": 4,
  "nbformat_minor": 0,
  "metadata": {
    "colab": {
      "name": "macro_oil_cleaning.ipynb",
      "provenance": [],
      "collapsed_sections": [],
      "include_colab_link": true
    },
    "kernelspec": {
      "name": "python3",
      "display_name": "Python 3"
    },
    "language_info": {
      "name": "python"
    },
    "widgets": {
      "application/vnd.jupyter.widget-state+json": {
        "91df8ff72ece47d6955522c42695d530": {
          "model_module": "@jupyter-widgets/controls",
          "model_name": "VBoxModel",
          "model_module_version": "1.5.0",
          "state": {
            "_dom_classes": [],
            "_model_module": "@jupyter-widgets/controls",
            "_model_module_version": "1.5.0",
            "_model_name": "VBoxModel",
            "_view_count": null,
            "_view_module": "@jupyter-widgets/controls",
            "_view_module_version": "1.5.0",
            "_view_name": "VBoxView",
            "box_style": "",
            "children": [
              "IPY_MODEL_7d4491b629484b728fe7b61edfa07d78",
              "IPY_MODEL_25bbe4a6d4394435ba4c9d080502a585"
            ],
            "layout": "IPY_MODEL_8845aac1673e4b3db3c3681b0ddaa6be"
          }
        },
        "7d4491b629484b728fe7b61edfa07d78": {
          "model_module": "@jupyter-widgets/controls",
          "model_name": "LabelModel",
          "model_module_version": "1.5.0",
          "state": {
            "_dom_classes": [],
            "_model_module": "@jupyter-widgets/controls",
            "_model_module_version": "1.5.0",
            "_model_name": "LabelModel",
            "_view_count": null,
            "_view_module": "@jupyter-widgets/controls",
            "_view_module_version": "1.5.0",
            "_view_name": "LabelView",
            "description": "",
            "description_tooltip": null,
            "layout": "IPY_MODEL_e269e5c9cf84411ba9519a8fce781d95",
            "placeholder": "​",
            "style": "IPY_MODEL_e872f46c4c16400b9855fddfd6ea8cd9",
            "value": "0.008 MB of 0.008 MB uploaded (0.000 MB deduped)\r"
          }
        },
        "25bbe4a6d4394435ba4c9d080502a585": {
          "model_module": "@jupyter-widgets/controls",
          "model_name": "FloatProgressModel",
          "model_module_version": "1.5.0",
          "state": {
            "_dom_classes": [],
            "_model_module": "@jupyter-widgets/controls",
            "_model_module_version": "1.5.0",
            "_model_name": "FloatProgressModel",
            "_view_count": null,
            "_view_module": "@jupyter-widgets/controls",
            "_view_module_version": "1.5.0",
            "_view_name": "ProgressView",
            "bar_style": "",
            "description": "",
            "description_tooltip": null,
            "layout": "IPY_MODEL_bdc00a160076465dbd97d212fed1530b",
            "max": 1,
            "min": 0,
            "orientation": "horizontal",
            "style": "IPY_MODEL_3ccd53acd973497d95984c219eabd7ff",
            "value": 1
          }
        },
        "8845aac1673e4b3db3c3681b0ddaa6be": {
          "model_module": "@jupyter-widgets/base",
          "model_name": "LayoutModel",
          "model_module_version": "1.2.0",
          "state": {
            "_model_module": "@jupyter-widgets/base",
            "_model_module_version": "1.2.0",
            "_model_name": "LayoutModel",
            "_view_count": null,
            "_view_module": "@jupyter-widgets/base",
            "_view_module_version": "1.2.0",
            "_view_name": "LayoutView",
            "align_content": null,
            "align_items": null,
            "align_self": null,
            "border": null,
            "bottom": null,
            "display": null,
            "flex": null,
            "flex_flow": null,
            "grid_area": null,
            "grid_auto_columns": null,
            "grid_auto_flow": null,
            "grid_auto_rows": null,
            "grid_column": null,
            "grid_gap": null,
            "grid_row": null,
            "grid_template_areas": null,
            "grid_template_columns": null,
            "grid_template_rows": null,
            "height": null,
            "justify_content": null,
            "justify_items": null,
            "left": null,
            "margin": null,
            "max_height": null,
            "max_width": null,
            "min_height": null,
            "min_width": null,
            "object_fit": null,
            "object_position": null,
            "order": null,
            "overflow": null,
            "overflow_x": null,
            "overflow_y": null,
            "padding": null,
            "right": null,
            "top": null,
            "visibility": null,
            "width": null
          }
        },
        "e269e5c9cf84411ba9519a8fce781d95": {
          "model_module": "@jupyter-widgets/base",
          "model_name": "LayoutModel",
          "model_module_version": "1.2.0",
          "state": {
            "_model_module": "@jupyter-widgets/base",
            "_model_module_version": "1.2.0",
            "_model_name": "LayoutModel",
            "_view_count": null,
            "_view_module": "@jupyter-widgets/base",
            "_view_module_version": "1.2.0",
            "_view_name": "LayoutView",
            "align_content": null,
            "align_items": null,
            "align_self": null,
            "border": null,
            "bottom": null,
            "display": null,
            "flex": null,
            "flex_flow": null,
            "grid_area": null,
            "grid_auto_columns": null,
            "grid_auto_flow": null,
            "grid_auto_rows": null,
            "grid_column": null,
            "grid_gap": null,
            "grid_row": null,
            "grid_template_areas": null,
            "grid_template_columns": null,
            "grid_template_rows": null,
            "height": null,
            "justify_content": null,
            "justify_items": null,
            "left": null,
            "margin": null,
            "max_height": null,
            "max_width": null,
            "min_height": null,
            "min_width": null,
            "object_fit": null,
            "object_position": null,
            "order": null,
            "overflow": null,
            "overflow_x": null,
            "overflow_y": null,
            "padding": null,
            "right": null,
            "top": null,
            "visibility": null,
            "width": null
          }
        },
        "e872f46c4c16400b9855fddfd6ea8cd9": {
          "model_module": "@jupyter-widgets/controls",
          "model_name": "DescriptionStyleModel",
          "model_module_version": "1.5.0",
          "state": {
            "_model_module": "@jupyter-widgets/controls",
            "_model_module_version": "1.5.0",
            "_model_name": "DescriptionStyleModel",
            "_view_count": null,
            "_view_module": "@jupyter-widgets/base",
            "_view_module_version": "1.2.0",
            "_view_name": "StyleView",
            "description_width": ""
          }
        },
        "bdc00a160076465dbd97d212fed1530b": {
          "model_module": "@jupyter-widgets/base",
          "model_name": "LayoutModel",
          "model_module_version": "1.2.0",
          "state": {
            "_model_module": "@jupyter-widgets/base",
            "_model_module_version": "1.2.0",
            "_model_name": "LayoutModel",
            "_view_count": null,
            "_view_module": "@jupyter-widgets/base",
            "_view_module_version": "1.2.0",
            "_view_name": "LayoutView",
            "align_content": null,
            "align_items": null,
            "align_self": null,
            "border": null,
            "bottom": null,
            "display": null,
            "flex": null,
            "flex_flow": null,
            "grid_area": null,
            "grid_auto_columns": null,
            "grid_auto_flow": null,
            "grid_auto_rows": null,
            "grid_column": null,
            "grid_gap": null,
            "grid_row": null,
            "grid_template_areas": null,
            "grid_template_columns": null,
            "grid_template_rows": null,
            "height": null,
            "justify_content": null,
            "justify_items": null,
            "left": null,
            "margin": null,
            "max_height": null,
            "max_width": null,
            "min_height": null,
            "min_width": null,
            "object_fit": null,
            "object_position": null,
            "order": null,
            "overflow": null,
            "overflow_x": null,
            "overflow_y": null,
            "padding": null,
            "right": null,
            "top": null,
            "visibility": null,
            "width": null
          }
        },
        "3ccd53acd973497d95984c219eabd7ff": {
          "model_module": "@jupyter-widgets/controls",
          "model_name": "ProgressStyleModel",
          "model_module_version": "1.5.0",
          "state": {
            "_model_module": "@jupyter-widgets/controls",
            "_model_module_version": "1.5.0",
            "_model_name": "ProgressStyleModel",
            "_view_count": null,
            "_view_module": "@jupyter-widgets/base",
            "_view_module_version": "1.2.0",
            "_view_name": "StyleView",
            "bar_color": null,
            "description_width": ""
          }
        },
        "b4f714b761404f968b7ad83356d126b1": {
          "model_module": "@jupyter-widgets/controls",
          "model_name": "VBoxModel",
          "model_module_version": "1.5.0",
          "state": {
            "_dom_classes": [],
            "_model_module": "@jupyter-widgets/controls",
            "_model_module_version": "1.5.0",
            "_model_name": "VBoxModel",
            "_view_count": null,
            "_view_module": "@jupyter-widgets/controls",
            "_view_module_version": "1.5.0",
            "_view_name": "VBoxView",
            "box_style": "",
            "children": [
              "IPY_MODEL_dd7f5c9cd6ce4e0ea50b1b17c2c541ae",
              "IPY_MODEL_29ef7dbd39f7415fbac5792d7baf4d40"
            ],
            "layout": "IPY_MODEL_d3f759d6fc3c41f5b67be5ab4c1cb7ff"
          }
        },
        "dd7f5c9cd6ce4e0ea50b1b17c2c541ae": {
          "model_module": "@jupyter-widgets/controls",
          "model_name": "LabelModel",
          "model_module_version": "1.5.0",
          "state": {
            "_dom_classes": [],
            "_model_module": "@jupyter-widgets/controls",
            "_model_module_version": "1.5.0",
            "_model_name": "LabelModel",
            "_view_count": null,
            "_view_module": "@jupyter-widgets/controls",
            "_view_module_version": "1.5.0",
            "_view_name": "LabelView",
            "description": "",
            "description_tooltip": null,
            "layout": "IPY_MODEL_bd71a27871144c8685ddd03d9ecf46f8",
            "placeholder": "​",
            "style": "IPY_MODEL_6a5e990935994ffbbc2a6ff50f4243be",
            "value": "0.209 MB of 0.209 MB uploaded (0.000 MB deduped)\r"
          }
        },
        "29ef7dbd39f7415fbac5792d7baf4d40": {
          "model_module": "@jupyter-widgets/controls",
          "model_name": "FloatProgressModel",
          "model_module_version": "1.5.0",
          "state": {
            "_dom_classes": [],
            "_model_module": "@jupyter-widgets/controls",
            "_model_module_version": "1.5.0",
            "_model_name": "FloatProgressModel",
            "_view_count": null,
            "_view_module": "@jupyter-widgets/controls",
            "_view_module_version": "1.5.0",
            "_view_name": "ProgressView",
            "bar_style": "",
            "description": "",
            "description_tooltip": null,
            "layout": "IPY_MODEL_80be52b47a19424389d5f55e33500e21",
            "max": 1,
            "min": 0,
            "orientation": "horizontal",
            "style": "IPY_MODEL_78d522ebd2d7416aa1b68538339ae4e9",
            "value": 1
          }
        },
        "d3f759d6fc3c41f5b67be5ab4c1cb7ff": {
          "model_module": "@jupyter-widgets/base",
          "model_name": "LayoutModel",
          "model_module_version": "1.2.0",
          "state": {
            "_model_module": "@jupyter-widgets/base",
            "_model_module_version": "1.2.0",
            "_model_name": "LayoutModel",
            "_view_count": null,
            "_view_module": "@jupyter-widgets/base",
            "_view_module_version": "1.2.0",
            "_view_name": "LayoutView",
            "align_content": null,
            "align_items": null,
            "align_self": null,
            "border": null,
            "bottom": null,
            "display": null,
            "flex": null,
            "flex_flow": null,
            "grid_area": null,
            "grid_auto_columns": null,
            "grid_auto_flow": null,
            "grid_auto_rows": null,
            "grid_column": null,
            "grid_gap": null,
            "grid_row": null,
            "grid_template_areas": null,
            "grid_template_columns": null,
            "grid_template_rows": null,
            "height": null,
            "justify_content": null,
            "justify_items": null,
            "left": null,
            "margin": null,
            "max_height": null,
            "max_width": null,
            "min_height": null,
            "min_width": null,
            "object_fit": null,
            "object_position": null,
            "order": null,
            "overflow": null,
            "overflow_x": null,
            "overflow_y": null,
            "padding": null,
            "right": null,
            "top": null,
            "visibility": null,
            "width": null
          }
        },
        "bd71a27871144c8685ddd03d9ecf46f8": {
          "model_module": "@jupyter-widgets/base",
          "model_name": "LayoutModel",
          "model_module_version": "1.2.0",
          "state": {
            "_model_module": "@jupyter-widgets/base",
            "_model_module_version": "1.2.0",
            "_model_name": "LayoutModel",
            "_view_count": null,
            "_view_module": "@jupyter-widgets/base",
            "_view_module_version": "1.2.0",
            "_view_name": "LayoutView",
            "align_content": null,
            "align_items": null,
            "align_self": null,
            "border": null,
            "bottom": null,
            "display": null,
            "flex": null,
            "flex_flow": null,
            "grid_area": null,
            "grid_auto_columns": null,
            "grid_auto_flow": null,
            "grid_auto_rows": null,
            "grid_column": null,
            "grid_gap": null,
            "grid_row": null,
            "grid_template_areas": null,
            "grid_template_columns": null,
            "grid_template_rows": null,
            "height": null,
            "justify_content": null,
            "justify_items": null,
            "left": null,
            "margin": null,
            "max_height": null,
            "max_width": null,
            "min_height": null,
            "min_width": null,
            "object_fit": null,
            "object_position": null,
            "order": null,
            "overflow": null,
            "overflow_x": null,
            "overflow_y": null,
            "padding": null,
            "right": null,
            "top": null,
            "visibility": null,
            "width": null
          }
        },
        "6a5e990935994ffbbc2a6ff50f4243be": {
          "model_module": "@jupyter-widgets/controls",
          "model_name": "DescriptionStyleModel",
          "model_module_version": "1.5.0",
          "state": {
            "_model_module": "@jupyter-widgets/controls",
            "_model_module_version": "1.5.0",
            "_model_name": "DescriptionStyleModel",
            "_view_count": null,
            "_view_module": "@jupyter-widgets/base",
            "_view_module_version": "1.2.0",
            "_view_name": "StyleView",
            "description_width": ""
          }
        },
        "80be52b47a19424389d5f55e33500e21": {
          "model_module": "@jupyter-widgets/base",
          "model_name": "LayoutModel",
          "model_module_version": "1.2.0",
          "state": {
            "_model_module": "@jupyter-widgets/base",
            "_model_module_version": "1.2.0",
            "_model_name": "LayoutModel",
            "_view_count": null,
            "_view_module": "@jupyter-widgets/base",
            "_view_module_version": "1.2.0",
            "_view_name": "LayoutView",
            "align_content": null,
            "align_items": null,
            "align_self": null,
            "border": null,
            "bottom": null,
            "display": null,
            "flex": null,
            "flex_flow": null,
            "grid_area": null,
            "grid_auto_columns": null,
            "grid_auto_flow": null,
            "grid_auto_rows": null,
            "grid_column": null,
            "grid_gap": null,
            "grid_row": null,
            "grid_template_areas": null,
            "grid_template_columns": null,
            "grid_template_rows": null,
            "height": null,
            "justify_content": null,
            "justify_items": null,
            "left": null,
            "margin": null,
            "max_height": null,
            "max_width": null,
            "min_height": null,
            "min_width": null,
            "object_fit": null,
            "object_position": null,
            "order": null,
            "overflow": null,
            "overflow_x": null,
            "overflow_y": null,
            "padding": null,
            "right": null,
            "top": null,
            "visibility": null,
            "width": null
          }
        },
        "78d522ebd2d7416aa1b68538339ae4e9": {
          "model_module": "@jupyter-widgets/controls",
          "model_name": "ProgressStyleModel",
          "model_module_version": "1.5.0",
          "state": {
            "_model_module": "@jupyter-widgets/controls",
            "_model_module_version": "1.5.0",
            "_model_name": "ProgressStyleModel",
            "_view_count": null,
            "_view_module": "@jupyter-widgets/base",
            "_view_module_version": "1.2.0",
            "_view_name": "StyleView",
            "bar_color": null,
            "description_width": ""
          }
        }
      }
    }
  },
  "cells": [
    {
      "cell_type": "markdown",
      "metadata": {
        "id": "view-in-github",
        "colab_type": "text"
      },
      "source": [
        "<a href=\"https://colab.research.google.com/github/Krankile/npmf/blob/main/notebooks/macro_oil_cleaning.ipynb\" target=\"_parent\"><img src=\"https://colab.research.google.com/assets/colab-badge.svg\" alt=\"Open In Colab\"/></a>"
      ]
    },
    {
      "cell_type": "markdown",
      "source": [
        "#Setup"
      ],
      "metadata": {
        "id": "d8F5tl4NL7FZ"
      }
    },
    {
      "cell_type": "markdown",
      "source": [
        "##Kernel setup"
      ],
      "metadata": {
        "id": "Rwo44VGZLhAo"
      }
    },
    {
      "cell_type": "code",
      "source": [
        "%load_ext autoreload\n",
        "%autoreload 2"
      ],
      "metadata": {
        "id": "hKuFzk7aEmB9"
      },
      "execution_count": 1,
      "outputs": []
    },
    {
      "cell_type": "code",
      "source": [
        "%%capture\n",
        "!pip install wandb\n",
        "!git clone https://github.com/Krankile/npmf.git"
      ],
      "metadata": {
        "id": "91KPY7q0LUOw"
      },
      "execution_count": 2,
      "outputs": []
    },
    {
      "cell_type": "code",
      "source": [
        "%%capture\n",
        "!cd npmf && git pull"
      ],
      "metadata": {
        "id": "zGsSIhgXEkhz"
      },
      "execution_count": 3,
      "outputs": []
    },
    {
      "cell_type": "code",
      "source": [
        "%%capture\n",
        "!pip install wandb"
      ],
      "metadata": {
        "id": "_tTQ_glXlVK-"
      },
      "execution_count": 6,
      "outputs": []
    },
    {
      "cell_type": "code",
      "source": [
        "!wandb login"
      ],
      "metadata": {
        "id": "gUXnibj8YEi1",
        "colab": {
          "base_uri": "https://localhost:8080/"
        },
        "outputId": "0b2a6dd8-b02f-46f9-cc65-f278295d7be0"
      },
      "execution_count": 4,
      "outputs": [
        {
          "output_type": "stream",
          "name": "stdout",
          "text": [
            "/bin/bash: wandb: command not found\n"
          ]
        }
      ]
    },
    {
      "cell_type": "markdown",
      "source": [
        "##General setup"
      ],
      "metadata": {
        "id": "CLAlA0htLgMY"
      }
    },
    {
      "cell_type": "code",
      "source": [
        "import os\n",
        "from collections import defaultdict\n",
        "from collections import Counter\n",
        "from datetime import datetime\n",
        "from operator import itemgetter\n",
        "\n",
        "import numpy as np\n",
        "from numpy.ma.core import outerproduct\n",
        "import pandas as pd\n",
        "import matplotlib as mpl\n",
        "import matplotlib.pyplot as plt\n",
        "from tqdm import tqdm\n",
        "\n",
        "import wandb as wb\n",
        "\n",
        "import torch\n",
        "from torch import nn\n",
        "from torch.utils.data import DataLoader\n",
        "from torchvision import datasets, transforms\n",
        "\n",
        "from npmf.utils.colors import main, main2, main3\n",
        "from npmf.utils.wandb import get_dataset, put_dataset"
      ],
      "metadata": {
        "id": "1QSlgObXLq1p"
      },
      "execution_count": 7,
      "outputs": []
    },
    {
      "cell_type": "code",
      "source": [
        "mpl.rcParams['axes.prop_cycle'] = mpl.cycler(color=[main, main2, main3, \"black\"])\n",
        "mpl.rcParams['figure.figsize'] = (6, 4)  # (6, 4) is default and used in the paper"
      ],
      "metadata": {
        "id": "hkTjKKLmLvpl"
      },
      "execution_count": 8,
      "outputs": []
    },
    {
      "cell_type": "code",
      "source": [
        "device = \"cuda\" if torch.cuda.is_available() else \"cpu\"\n",
        "print(f\"Using {device} device\")"
      ],
      "metadata": {
        "colab": {
          "base_uri": "https://localhost:8080/"
        },
        "id": "Dqy02oAvY7GM",
        "outputId": "ec7963af-18f7-4a57-9f5b-c16c35b31d5c"
      },
      "execution_count": 9,
      "outputs": [
        {
          "output_type": "stream",
          "name": "stdout",
          "text": [
            "Using cpu device\n"
          ]
        }
      ]
    },
    {
      "cell_type": "code",
      "source": [
        "np.random.seed(420)"
      ],
      "metadata": {
        "id": "YVFtfDk0pYtd"
      },
      "execution_count": 10,
      "outputs": []
    },
    {
      "cell_type": "markdown",
      "source": [
        "# The first header 😂✨KAWAIII ^^✨ \n",
        "\n",
        "*   List item\n",
        "*   List item\n",
        "\n"
      ],
      "metadata": {
        "id": "5SjJBQhRLym1"
      }
    },
    {
      "cell_type": "code",
      "source": [
        "macro_df = get_dataset(\"oil-macro-data:latest\", project=\"master-test\")"
      ],
      "metadata": {
        "id": "u52HqPGWYXZ8",
        "colab": {
          "base_uri": "https://localhost:8080/",
          "height": 156,
          "referenced_widgets": [
            "91df8ff72ece47d6955522c42695d530",
            "7d4491b629484b728fe7b61edfa07d78",
            "25bbe4a6d4394435ba4c9d080502a585",
            "8845aac1673e4b3db3c3681b0ddaa6be",
            "e269e5c9cf84411ba9519a8fce781d95",
            "e872f46c4c16400b9855fddfd6ea8cd9",
            "bdc00a160076465dbd97d212fed1530b",
            "3ccd53acd973497d95984c219eabd7ff"
          ]
        },
        "outputId": "44edf6e4-1d1c-4c2a-a931-990491472902"
      },
      "execution_count": 12,
      "outputs": [
        {
          "output_type": "stream",
          "name": "stderr",
          "text": [
            "\u001b[34m\u001b[1mwandb\u001b[0m: Currently logged in as: \u001b[33mkjartan\u001b[0m (\u001b[33mkrankile\u001b[0m). Use \u001b[1m`wandb login --relogin`\u001b[0m to force relogin\n"
          ]
        },
        {
          "output_type": "display_data",
          "data": {
            "text/plain": [
              "<IPython.core.display.HTML object>"
            ],
            "text/html": [
              "Tracking run with wandb version 0.12.16"
            ]
          },
          "metadata": {}
        },
        {
          "output_type": "display_data",
          "data": {
            "text/plain": [
              "<IPython.core.display.HTML object>"
            ],
            "text/html": [
              "Run data is saved locally in <code>/content/wandb/run-20220505_093926-i2iq17kd</code>"
            ]
          },
          "metadata": {}
        },
        {
          "output_type": "display_data",
          "data": {
            "text/plain": [
              "<IPython.core.display.HTML object>"
            ],
            "text/html": [
              "Syncing run <strong><a href=\"https://wandb.ai/krankile/master-test/runs/i2iq17kd\" target=\"_blank\">imperial-emperor-145</a></strong> to <a href=\"https://wandb.ai/krankile/master-test\" target=\"_blank\">Weights & Biases</a> (<a href=\"https://wandb.me/run\" target=\"_blank\">docs</a>)<br/>"
            ]
          },
          "metadata": {}
        },
        {
          "output_type": "display_data",
          "data": {
            "text/plain": [
              "<IPython.core.display.HTML object>"
            ],
            "text/html": [
              "Waiting for W&B process to finish... <strong style=\"color:green\">(success).</strong>"
            ]
          },
          "metadata": {}
        },
        {
          "output_type": "display_data",
          "data": {
            "text/plain": [
              "VBox(children=(Label(value='0.000 MB of 0.000 MB uploaded (0.000 MB deduped)\\r'), FloatProgress(value=1.0, max…"
            ],
            "application/vnd.jupyter.widget-view+json": {
              "version_major": 2,
              "version_minor": 0,
              "model_id": "91df8ff72ece47d6955522c42695d530"
            }
          },
          "metadata": {}
        },
        {
          "output_type": "display_data",
          "data": {
            "text/plain": [
              "<IPython.core.display.HTML object>"
            ],
            "text/html": [
              "Synced <strong style=\"color:#cdcd00\">imperial-emperor-145</strong>: <a href=\"https://wandb.ai/krankile/master-test/runs/i2iq17kd\" target=\"_blank\">https://wandb.ai/krankile/master-test/runs/i2iq17kd</a><br/>Synced 4 W&B file(s), 0 media file(s), 0 artifact file(s) and 0 other file(s)"
            ]
          },
          "metadata": {}
        },
        {
          "output_type": "display_data",
          "data": {
            "text/plain": [
              "<IPython.core.display.HTML object>"
            ],
            "text/html": [
              "Find logs at: <code>./wandb/run-20220505_093926-i2iq17kd/logs</code>"
            ]
          },
          "metadata": {}
        }
      ]
    },
    {
      "cell_type": "code",
      "source": [
        "macro_df"
      ],
      "metadata": {
        "colab": {
          "base_uri": "https://localhost:8080/",
          "height": 424
        },
        "id": "SoRtv06FlkZz",
        "outputId": "88eb810b-282d-40e2-a26f-c42f88559aef"
      },
      "execution_count": 13,
      "outputs": [
        {
          "output_type": "execute_result",
          "data": {
            "text/plain": [
              "          index    BRT-    CLc1  WTCLc1  LNG-AS   .VIX    EUR=    GBP=    CNY=\n",
              "0    2000-01-03     NaN     NaN     NaN     NaN  24.21  1.0262  1.6368  8.2798\n",
              "1    2000-01-04   24.40   25.55     NaN     NaN  27.01  1.0308  1.6365  8.2799\n",
              "2    2000-01-05   23.65   24.91     NaN     NaN  26.41  1.0314  1.6415  8.2798\n",
              "3    2000-01-06   23.54   24.78     NaN     NaN  25.73  1.0319  1.6463  8.2797\n",
              "4    2000-01-07   22.95   24.22     NaN     NaN  21.72  1.0289  1.6383  8.2794\n",
              "...         ...     ...     ...     ...     ...    ...     ...     ...     ...\n",
              "5813 2022-04-15     NaN     NaN     NaN     NaN    NaN  1.0806  1.3058  6.3705\n",
              "5814 2022-04-18     NaN  108.21  108.21     NaN  22.17  1.0780  1.3008  6.3630\n",
              "5815 2022-04-19  105.67  102.56  102.56     NaN  21.37  1.0786  1.2996  6.3930\n",
              "5816 2022-04-20  104.78  102.75  102.19     NaN  20.32  1.0850  1.3066  6.4188\n",
              "5817 2022-04-21  106.51  103.79  103.79     NaN  22.68  1.0836  1.3028  6.4500\n",
              "\n",
              "[5818 rows x 9 columns]"
            ],
            "text/html": [
              "\n",
              "  <div id=\"df-4be7a77e-7144-49f2-9335-944994a1bd68\">\n",
              "    <div class=\"colab-df-container\">\n",
              "      <div>\n",
              "<style scoped>\n",
              "    .dataframe tbody tr th:only-of-type {\n",
              "        vertical-align: middle;\n",
              "    }\n",
              "\n",
              "    .dataframe tbody tr th {\n",
              "        vertical-align: top;\n",
              "    }\n",
              "\n",
              "    .dataframe thead th {\n",
              "        text-align: right;\n",
              "    }\n",
              "</style>\n",
              "<table border=\"1\" class=\"dataframe\">\n",
              "  <thead>\n",
              "    <tr style=\"text-align: right;\">\n",
              "      <th></th>\n",
              "      <th>index</th>\n",
              "      <th>BRT-</th>\n",
              "      <th>CLc1</th>\n",
              "      <th>WTCLc1</th>\n",
              "      <th>LNG-AS</th>\n",
              "      <th>.VIX</th>\n",
              "      <th>EUR=</th>\n",
              "      <th>GBP=</th>\n",
              "      <th>CNY=</th>\n",
              "    </tr>\n",
              "  </thead>\n",
              "  <tbody>\n",
              "    <tr>\n",
              "      <th>0</th>\n",
              "      <td>2000-01-03</td>\n",
              "      <td>NaN</td>\n",
              "      <td>NaN</td>\n",
              "      <td>NaN</td>\n",
              "      <td>NaN</td>\n",
              "      <td>24.21</td>\n",
              "      <td>1.0262</td>\n",
              "      <td>1.6368</td>\n",
              "      <td>8.2798</td>\n",
              "    </tr>\n",
              "    <tr>\n",
              "      <th>1</th>\n",
              "      <td>2000-01-04</td>\n",
              "      <td>24.40</td>\n",
              "      <td>25.55</td>\n",
              "      <td>NaN</td>\n",
              "      <td>NaN</td>\n",
              "      <td>27.01</td>\n",
              "      <td>1.0308</td>\n",
              "      <td>1.6365</td>\n",
              "      <td>8.2799</td>\n",
              "    </tr>\n",
              "    <tr>\n",
              "      <th>2</th>\n",
              "      <td>2000-01-05</td>\n",
              "      <td>23.65</td>\n",
              "      <td>24.91</td>\n",
              "      <td>NaN</td>\n",
              "      <td>NaN</td>\n",
              "      <td>26.41</td>\n",
              "      <td>1.0314</td>\n",
              "      <td>1.6415</td>\n",
              "      <td>8.2798</td>\n",
              "    </tr>\n",
              "    <tr>\n",
              "      <th>3</th>\n",
              "      <td>2000-01-06</td>\n",
              "      <td>23.54</td>\n",
              "      <td>24.78</td>\n",
              "      <td>NaN</td>\n",
              "      <td>NaN</td>\n",
              "      <td>25.73</td>\n",
              "      <td>1.0319</td>\n",
              "      <td>1.6463</td>\n",
              "      <td>8.2797</td>\n",
              "    </tr>\n",
              "    <tr>\n",
              "      <th>4</th>\n",
              "      <td>2000-01-07</td>\n",
              "      <td>22.95</td>\n",
              "      <td>24.22</td>\n",
              "      <td>NaN</td>\n",
              "      <td>NaN</td>\n",
              "      <td>21.72</td>\n",
              "      <td>1.0289</td>\n",
              "      <td>1.6383</td>\n",
              "      <td>8.2794</td>\n",
              "    </tr>\n",
              "    <tr>\n",
              "      <th>...</th>\n",
              "      <td>...</td>\n",
              "      <td>...</td>\n",
              "      <td>...</td>\n",
              "      <td>...</td>\n",
              "      <td>...</td>\n",
              "      <td>...</td>\n",
              "      <td>...</td>\n",
              "      <td>...</td>\n",
              "      <td>...</td>\n",
              "    </tr>\n",
              "    <tr>\n",
              "      <th>5813</th>\n",
              "      <td>2022-04-15</td>\n",
              "      <td>NaN</td>\n",
              "      <td>NaN</td>\n",
              "      <td>NaN</td>\n",
              "      <td>NaN</td>\n",
              "      <td>NaN</td>\n",
              "      <td>1.0806</td>\n",
              "      <td>1.3058</td>\n",
              "      <td>6.3705</td>\n",
              "    </tr>\n",
              "    <tr>\n",
              "      <th>5814</th>\n",
              "      <td>2022-04-18</td>\n",
              "      <td>NaN</td>\n",
              "      <td>108.21</td>\n",
              "      <td>108.21</td>\n",
              "      <td>NaN</td>\n",
              "      <td>22.17</td>\n",
              "      <td>1.0780</td>\n",
              "      <td>1.3008</td>\n",
              "      <td>6.3630</td>\n",
              "    </tr>\n",
              "    <tr>\n",
              "      <th>5815</th>\n",
              "      <td>2022-04-19</td>\n",
              "      <td>105.67</td>\n",
              "      <td>102.56</td>\n",
              "      <td>102.56</td>\n",
              "      <td>NaN</td>\n",
              "      <td>21.37</td>\n",
              "      <td>1.0786</td>\n",
              "      <td>1.2996</td>\n",
              "      <td>6.3930</td>\n",
              "    </tr>\n",
              "    <tr>\n",
              "      <th>5816</th>\n",
              "      <td>2022-04-20</td>\n",
              "      <td>104.78</td>\n",
              "      <td>102.75</td>\n",
              "      <td>102.19</td>\n",
              "      <td>NaN</td>\n",
              "      <td>20.32</td>\n",
              "      <td>1.0850</td>\n",
              "      <td>1.3066</td>\n",
              "      <td>6.4188</td>\n",
              "    </tr>\n",
              "    <tr>\n",
              "      <th>5817</th>\n",
              "      <td>2022-04-21</td>\n",
              "      <td>106.51</td>\n",
              "      <td>103.79</td>\n",
              "      <td>103.79</td>\n",
              "      <td>NaN</td>\n",
              "      <td>22.68</td>\n",
              "      <td>1.0836</td>\n",
              "      <td>1.3028</td>\n",
              "      <td>6.4500</td>\n",
              "    </tr>\n",
              "  </tbody>\n",
              "</table>\n",
              "<p>5818 rows × 9 columns</p>\n",
              "</div>\n",
              "      <button class=\"colab-df-convert\" onclick=\"convertToInteractive('df-4be7a77e-7144-49f2-9335-944994a1bd68')\"\n",
              "              title=\"Convert this dataframe to an interactive table.\"\n",
              "              style=\"display:none;\">\n",
              "        \n",
              "  <svg xmlns=\"http://www.w3.org/2000/svg\" height=\"24px\"viewBox=\"0 0 24 24\"\n",
              "       width=\"24px\">\n",
              "    <path d=\"M0 0h24v24H0V0z\" fill=\"none\"/>\n",
              "    <path d=\"M18.56 5.44l.94 2.06.94-2.06 2.06-.94-2.06-.94-.94-2.06-.94 2.06-2.06.94zm-11 1L8.5 8.5l.94-2.06 2.06-.94-2.06-.94L8.5 2.5l-.94 2.06-2.06.94zm10 10l.94 2.06.94-2.06 2.06-.94-2.06-.94-.94-2.06-.94 2.06-2.06.94z\"/><path d=\"M17.41 7.96l-1.37-1.37c-.4-.4-.92-.59-1.43-.59-.52 0-1.04.2-1.43.59L10.3 9.45l-7.72 7.72c-.78.78-.78 2.05 0 2.83L4 21.41c.39.39.9.59 1.41.59.51 0 1.02-.2 1.41-.59l7.78-7.78 2.81-2.81c.8-.78.8-2.07 0-2.86zM5.41 20L4 18.59l7.72-7.72 1.47 1.35L5.41 20z\"/>\n",
              "  </svg>\n",
              "      </button>\n",
              "      \n",
              "  <style>\n",
              "    .colab-df-container {\n",
              "      display:flex;\n",
              "      flex-wrap:wrap;\n",
              "      gap: 12px;\n",
              "    }\n",
              "\n",
              "    .colab-df-convert {\n",
              "      background-color: #E8F0FE;\n",
              "      border: none;\n",
              "      border-radius: 50%;\n",
              "      cursor: pointer;\n",
              "      display: none;\n",
              "      fill: #1967D2;\n",
              "      height: 32px;\n",
              "      padding: 0 0 0 0;\n",
              "      width: 32px;\n",
              "    }\n",
              "\n",
              "    .colab-df-convert:hover {\n",
              "      background-color: #E2EBFA;\n",
              "      box-shadow: 0px 1px 2px rgba(60, 64, 67, 0.3), 0px 1px 3px 1px rgba(60, 64, 67, 0.15);\n",
              "      fill: #174EA6;\n",
              "    }\n",
              "\n",
              "    [theme=dark] .colab-df-convert {\n",
              "      background-color: #3B4455;\n",
              "      fill: #D2E3FC;\n",
              "    }\n",
              "\n",
              "    [theme=dark] .colab-df-convert:hover {\n",
              "      background-color: #434B5C;\n",
              "      box-shadow: 0px 1px 3px 1px rgba(0, 0, 0, 0.15);\n",
              "      filter: drop-shadow(0px 1px 2px rgba(0, 0, 0, 0.3));\n",
              "      fill: #FFFFFF;\n",
              "    }\n",
              "  </style>\n",
              "\n",
              "      <script>\n",
              "        const buttonEl =\n",
              "          document.querySelector('#df-4be7a77e-7144-49f2-9335-944994a1bd68 button.colab-df-convert');\n",
              "        buttonEl.style.display =\n",
              "          google.colab.kernel.accessAllowed ? 'block' : 'none';\n",
              "\n",
              "        async function convertToInteractive(key) {\n",
              "          const element = document.querySelector('#df-4be7a77e-7144-49f2-9335-944994a1bd68');\n",
              "          const dataTable =\n",
              "            await google.colab.kernel.invokeFunction('convertToInteractive',\n",
              "                                                     [key], {});\n",
              "          if (!dataTable) return;\n",
              "\n",
              "          const docLinkHtml = 'Like what you see? Visit the ' +\n",
              "            '<a target=\"_blank\" href=https://colab.research.google.com/notebooks/data_table.ipynb>data table notebook</a>'\n",
              "            + ' to learn more about interactive tables.';\n",
              "          element.innerHTML = '';\n",
              "          dataTable['output_type'] = 'display_data';\n",
              "          await google.colab.output.renderOutput(dataTable, element);\n",
              "          const docLink = document.createElement('div');\n",
              "          docLink.innerHTML = docLinkHtml;\n",
              "          element.appendChild(docLink);\n",
              "        }\n",
              "      </script>\n",
              "    </div>\n",
              "  </div>\n",
              "  "
            ]
          },
          "metadata": {},
          "execution_count": 13
        }
      ]
    },
    {
      "cell_type": "code",
      "source": [
        "set(list(macro_df[\"index\"].diff()))\n",
        "\n",
        "#Largest gap in macro data is 4 days, which probably makes sense during holidays, etc.  "
      ],
      "metadata": {
        "colab": {
          "base_uri": "https://localhost:8080/"
        },
        "id": "vrR_qSjyoNkR",
        "outputId": "47d36ea5-dea3-4d7b-b546-ddf39c488f7f"
      },
      "execution_count": 36,
      "outputs": [
        {
          "output_type": "execute_result",
          "data": {
            "text/plain": [
              "{NaT,\n",
              " Timedelta('1 days 00:00:00'),\n",
              " Timedelta('2 days 00:00:00'),\n",
              " Timedelta('3 days 00:00:00'),\n",
              " Timedelta('4 days 00:00:00')}"
            ]
          },
          "metadata": {},
          "execution_count": 36
        }
      ]
    },
    {
      "cell_type": "code",
      "source": [
        "macro_df[~pd.isnull(macro_df[\"LNG-AS\"])] #LNG-as only has 581 non NA values. Should not be detrimental to add signal. "
      ],
      "metadata": {
        "colab": {
          "base_uri": "https://localhost:8080/",
          "height": 424
        },
        "id": "4Lb8O9Crlk_-",
        "outputId": "2c2ef092-0e4e-45f5-b6b2-f85512a42657"
      },
      "execution_count": 37,
      "outputs": [
        {
          "output_type": "execute_result",
          "data": {
            "text/plain": [
              "          index    BRT-    CLc1  WTCLc1  LNG-AS   .VIX    EUR=    GBP=    CNY=\n",
              "2736 2010-07-01   72.28   72.95   72.95    6.75  32.86  1.2517  1.5173  6.7807\n",
              "2741 2010-07-08   75.21   75.44   75.44    7.40  25.71  1.2693  1.5162  6.7760\n",
              "2746 2010-07-15   76.27   76.62   76.62    7.75  25.14  1.2938  1.5454  6.7774\n",
              "2751 2010-07-22   78.54   79.30   79.30    7.75  24.63  1.2888  1.5252  6.7795\n",
              "2756 2010-07-29   79.95   78.36   78.36    8.05  24.13  1.3077  1.5609  6.7760\n",
              "...         ...     ...     ...     ...     ...    ...     ...     ...     ...\n",
              "5793 2022-03-18  119.54  104.70  104.70   35.50  23.87  1.1055  1.3180  6.3609\n",
              "5798 2022-03-25  128.91  113.90  113.90   35.00  20.81  1.0981  1.3188  6.3658\n",
              "5803 2022-04-01  108.48   99.27   99.27   35.00  19.63  1.1053  1.3112  6.3625\n",
              "5808 2022-04-08  100.74   98.26   98.26   33.00  21.16  1.0876  1.3031  6.3610\n",
              "5812 2022-04-14  108.00  106.95  106.95   33.00  22.70  1.0827  1.3065  6.3775\n",
              "\n",
              "[581 rows x 9 columns]"
            ],
            "text/html": [
              "\n",
              "  <div id=\"df-f50a7dc6-e27c-467d-852b-6ab8d5e8c2ae\">\n",
              "    <div class=\"colab-df-container\">\n",
              "      <div>\n",
              "<style scoped>\n",
              "    .dataframe tbody tr th:only-of-type {\n",
              "        vertical-align: middle;\n",
              "    }\n",
              "\n",
              "    .dataframe tbody tr th {\n",
              "        vertical-align: top;\n",
              "    }\n",
              "\n",
              "    .dataframe thead th {\n",
              "        text-align: right;\n",
              "    }\n",
              "</style>\n",
              "<table border=\"1\" class=\"dataframe\">\n",
              "  <thead>\n",
              "    <tr style=\"text-align: right;\">\n",
              "      <th></th>\n",
              "      <th>index</th>\n",
              "      <th>BRT-</th>\n",
              "      <th>CLc1</th>\n",
              "      <th>WTCLc1</th>\n",
              "      <th>LNG-AS</th>\n",
              "      <th>.VIX</th>\n",
              "      <th>EUR=</th>\n",
              "      <th>GBP=</th>\n",
              "      <th>CNY=</th>\n",
              "    </tr>\n",
              "  </thead>\n",
              "  <tbody>\n",
              "    <tr>\n",
              "      <th>2736</th>\n",
              "      <td>2010-07-01</td>\n",
              "      <td>72.28</td>\n",
              "      <td>72.95</td>\n",
              "      <td>72.95</td>\n",
              "      <td>6.75</td>\n",
              "      <td>32.86</td>\n",
              "      <td>1.2517</td>\n",
              "      <td>1.5173</td>\n",
              "      <td>6.7807</td>\n",
              "    </tr>\n",
              "    <tr>\n",
              "      <th>2741</th>\n",
              "      <td>2010-07-08</td>\n",
              "      <td>75.21</td>\n",
              "      <td>75.44</td>\n",
              "      <td>75.44</td>\n",
              "      <td>7.40</td>\n",
              "      <td>25.71</td>\n",
              "      <td>1.2693</td>\n",
              "      <td>1.5162</td>\n",
              "      <td>6.7760</td>\n",
              "    </tr>\n",
              "    <tr>\n",
              "      <th>2746</th>\n",
              "      <td>2010-07-15</td>\n",
              "      <td>76.27</td>\n",
              "      <td>76.62</td>\n",
              "      <td>76.62</td>\n",
              "      <td>7.75</td>\n",
              "      <td>25.14</td>\n",
              "      <td>1.2938</td>\n",
              "      <td>1.5454</td>\n",
              "      <td>6.7774</td>\n",
              "    </tr>\n",
              "    <tr>\n",
              "      <th>2751</th>\n",
              "      <td>2010-07-22</td>\n",
              "      <td>78.54</td>\n",
              "      <td>79.30</td>\n",
              "      <td>79.30</td>\n",
              "      <td>7.75</td>\n",
              "      <td>24.63</td>\n",
              "      <td>1.2888</td>\n",
              "      <td>1.5252</td>\n",
              "      <td>6.7795</td>\n",
              "    </tr>\n",
              "    <tr>\n",
              "      <th>2756</th>\n",
              "      <td>2010-07-29</td>\n",
              "      <td>79.95</td>\n",
              "      <td>78.36</td>\n",
              "      <td>78.36</td>\n",
              "      <td>8.05</td>\n",
              "      <td>24.13</td>\n",
              "      <td>1.3077</td>\n",
              "      <td>1.5609</td>\n",
              "      <td>6.7760</td>\n",
              "    </tr>\n",
              "    <tr>\n",
              "      <th>...</th>\n",
              "      <td>...</td>\n",
              "      <td>...</td>\n",
              "      <td>...</td>\n",
              "      <td>...</td>\n",
              "      <td>...</td>\n",
              "      <td>...</td>\n",
              "      <td>...</td>\n",
              "      <td>...</td>\n",
              "      <td>...</td>\n",
              "    </tr>\n",
              "    <tr>\n",
              "      <th>5793</th>\n",
              "      <td>2022-03-18</td>\n",
              "      <td>119.54</td>\n",
              "      <td>104.70</td>\n",
              "      <td>104.70</td>\n",
              "      <td>35.50</td>\n",
              "      <td>23.87</td>\n",
              "      <td>1.1055</td>\n",
              "      <td>1.3180</td>\n",
              "      <td>6.3609</td>\n",
              "    </tr>\n",
              "    <tr>\n",
              "      <th>5798</th>\n",
              "      <td>2022-03-25</td>\n",
              "      <td>128.91</td>\n",
              "      <td>113.90</td>\n",
              "      <td>113.90</td>\n",
              "      <td>35.00</td>\n",
              "      <td>20.81</td>\n",
              "      <td>1.0981</td>\n",
              "      <td>1.3188</td>\n",
              "      <td>6.3658</td>\n",
              "    </tr>\n",
              "    <tr>\n",
              "      <th>5803</th>\n",
              "      <td>2022-04-01</td>\n",
              "      <td>108.48</td>\n",
              "      <td>99.27</td>\n",
              "      <td>99.27</td>\n",
              "      <td>35.00</td>\n",
              "      <td>19.63</td>\n",
              "      <td>1.1053</td>\n",
              "      <td>1.3112</td>\n",
              "      <td>6.3625</td>\n",
              "    </tr>\n",
              "    <tr>\n",
              "      <th>5808</th>\n",
              "      <td>2022-04-08</td>\n",
              "      <td>100.74</td>\n",
              "      <td>98.26</td>\n",
              "      <td>98.26</td>\n",
              "      <td>33.00</td>\n",
              "      <td>21.16</td>\n",
              "      <td>1.0876</td>\n",
              "      <td>1.3031</td>\n",
              "      <td>6.3610</td>\n",
              "    </tr>\n",
              "    <tr>\n",
              "      <th>5812</th>\n",
              "      <td>2022-04-14</td>\n",
              "      <td>108.00</td>\n",
              "      <td>106.95</td>\n",
              "      <td>106.95</td>\n",
              "      <td>33.00</td>\n",
              "      <td>22.70</td>\n",
              "      <td>1.0827</td>\n",
              "      <td>1.3065</td>\n",
              "      <td>6.3775</td>\n",
              "    </tr>\n",
              "  </tbody>\n",
              "</table>\n",
              "<p>581 rows × 9 columns</p>\n",
              "</div>\n",
              "      <button class=\"colab-df-convert\" onclick=\"convertToInteractive('df-f50a7dc6-e27c-467d-852b-6ab8d5e8c2ae')\"\n",
              "              title=\"Convert this dataframe to an interactive table.\"\n",
              "              style=\"display:none;\">\n",
              "        \n",
              "  <svg xmlns=\"http://www.w3.org/2000/svg\" height=\"24px\"viewBox=\"0 0 24 24\"\n",
              "       width=\"24px\">\n",
              "    <path d=\"M0 0h24v24H0V0z\" fill=\"none\"/>\n",
              "    <path d=\"M18.56 5.44l.94 2.06.94-2.06 2.06-.94-2.06-.94-.94-2.06-.94 2.06-2.06.94zm-11 1L8.5 8.5l.94-2.06 2.06-.94-2.06-.94L8.5 2.5l-.94 2.06-2.06.94zm10 10l.94 2.06.94-2.06 2.06-.94-2.06-.94-.94-2.06-.94 2.06-2.06.94z\"/><path d=\"M17.41 7.96l-1.37-1.37c-.4-.4-.92-.59-1.43-.59-.52 0-1.04.2-1.43.59L10.3 9.45l-7.72 7.72c-.78.78-.78 2.05 0 2.83L4 21.41c.39.39.9.59 1.41.59.51 0 1.02-.2 1.41-.59l7.78-7.78 2.81-2.81c.8-.78.8-2.07 0-2.86zM5.41 20L4 18.59l7.72-7.72 1.47 1.35L5.41 20z\"/>\n",
              "  </svg>\n",
              "      </button>\n",
              "      \n",
              "  <style>\n",
              "    .colab-df-container {\n",
              "      display:flex;\n",
              "      flex-wrap:wrap;\n",
              "      gap: 12px;\n",
              "    }\n",
              "\n",
              "    .colab-df-convert {\n",
              "      background-color: #E8F0FE;\n",
              "      border: none;\n",
              "      border-radius: 50%;\n",
              "      cursor: pointer;\n",
              "      display: none;\n",
              "      fill: #1967D2;\n",
              "      height: 32px;\n",
              "      padding: 0 0 0 0;\n",
              "      width: 32px;\n",
              "    }\n",
              "\n",
              "    .colab-df-convert:hover {\n",
              "      background-color: #E2EBFA;\n",
              "      box-shadow: 0px 1px 2px rgba(60, 64, 67, 0.3), 0px 1px 3px 1px rgba(60, 64, 67, 0.15);\n",
              "      fill: #174EA6;\n",
              "    }\n",
              "\n",
              "    [theme=dark] .colab-df-convert {\n",
              "      background-color: #3B4455;\n",
              "      fill: #D2E3FC;\n",
              "    }\n",
              "\n",
              "    [theme=dark] .colab-df-convert:hover {\n",
              "      background-color: #434B5C;\n",
              "      box-shadow: 0px 1px 3px 1px rgba(0, 0, 0, 0.15);\n",
              "      filter: drop-shadow(0px 1px 2px rgba(0, 0, 0, 0.3));\n",
              "      fill: #FFFFFF;\n",
              "    }\n",
              "  </style>\n",
              "\n",
              "      <script>\n",
              "        const buttonEl =\n",
              "          document.querySelector('#df-f50a7dc6-e27c-467d-852b-6ab8d5e8c2ae button.colab-df-convert');\n",
              "        buttonEl.style.display =\n",
              "          google.colab.kernel.accessAllowed ? 'block' : 'none';\n",
              "\n",
              "        async function convertToInteractive(key) {\n",
              "          const element = document.querySelector('#df-f50a7dc6-e27c-467d-852b-6ab8d5e8c2ae');\n",
              "          const dataTable =\n",
              "            await google.colab.kernel.invokeFunction('convertToInteractive',\n",
              "                                                     [key], {});\n",
              "          if (!dataTable) return;\n",
              "\n",
              "          const docLinkHtml = 'Like what you see? Visit the ' +\n",
              "            '<a target=\"_blank\" href=https://colab.research.google.com/notebooks/data_table.ipynb>data table notebook</a>'\n",
              "            + ' to learn more about interactive tables.';\n",
              "          element.innerHTML = '';\n",
              "          dataTable['output_type'] = 'display_data';\n",
              "          await google.colab.output.renderOutput(dataTable, element);\n",
              "          const docLink = document.createElement('div');\n",
              "          docLink.innerHTML = docLinkHtml;\n",
              "          element.appendChild(docLink);\n",
              "        }\n",
              "      </script>\n",
              "    </div>\n",
              "  </div>\n",
              "  "
            ]
          },
          "metadata": {},
          "execution_count": 37
        }
      ]
    },
    {
      "cell_type": "code",
      "source": [
        "put_dataset(macro_df, filename=\"macro-oil-final\", project=\"master-test\")"
      ],
      "metadata": {
        "colab": {
          "base_uri": "https://localhost:8080/",
          "height": 139,
          "referenced_widgets": [
            "b4f714b761404f968b7ad83356d126b1",
            "dd7f5c9cd6ce4e0ea50b1b17c2c541ae",
            "29ef7dbd39f7415fbac5792d7baf4d40",
            "d3f759d6fc3c41f5b67be5ab4c1cb7ff",
            "bd71a27871144c8685ddd03d9ecf46f8",
            "6a5e990935994ffbbc2a6ff50f4243be",
            "80be52b47a19424389d5f55e33500e21",
            "78d522ebd2d7416aa1b68538339ae4e9"
          ]
        },
        "id": "IngD6kbMmaYv",
        "outputId": "3bb992cf-8aca-4304-efbe-f2fd6d76f7d6"
      },
      "execution_count": 38,
      "outputs": [
        {
          "output_type": "display_data",
          "data": {
            "text/plain": [
              "<IPython.core.display.HTML object>"
            ],
            "text/html": [
              "Tracking run with wandb version 0.12.16"
            ]
          },
          "metadata": {}
        },
        {
          "output_type": "display_data",
          "data": {
            "text/plain": [
              "<IPython.core.display.HTML object>"
            ],
            "text/html": [
              "Run data is saved locally in <code>/content/wandb/run-20220505_102108-259mw5f8</code>"
            ]
          },
          "metadata": {}
        },
        {
          "output_type": "display_data",
          "data": {
            "text/plain": [
              "<IPython.core.display.HTML object>"
            ],
            "text/html": [
              "Syncing run <strong><a href=\"https://wandb.ai/krankile/master-test/runs/259mw5f8\" target=\"_blank\">old-jawa-148</a></strong> to <a href=\"https://wandb.ai/krankile/master-test\" target=\"_blank\">Weights & Biases</a> (<a href=\"https://wandb.me/run\" target=\"_blank\">docs</a>)<br/>"
            ]
          },
          "metadata": {}
        },
        {
          "output_type": "display_data",
          "data": {
            "text/plain": [
              "<IPython.core.display.HTML object>"
            ],
            "text/html": [
              "Waiting for W&B process to finish... <strong style=\"color:green\">(success).</strong>"
            ]
          },
          "metadata": {}
        },
        {
          "output_type": "display_data",
          "data": {
            "text/plain": [
              "VBox(children=(Label(value='0.202 MB of 0.202 MB uploaded (0.000 MB deduped)\\r'), FloatProgress(value=1.0, max…"
            ],
            "application/vnd.jupyter.widget-view+json": {
              "version_major": 2,
              "version_minor": 0,
              "model_id": "b4f714b761404f968b7ad83356d126b1"
            }
          },
          "metadata": {}
        },
        {
          "output_type": "display_data",
          "data": {
            "text/plain": [
              "<IPython.core.display.HTML object>"
            ],
            "text/html": [
              "Synced <strong style=\"color:#cdcd00\">old-jawa-148</strong>: <a href=\"https://wandb.ai/krankile/master-test/runs/259mw5f8\" target=\"_blank\">https://wandb.ai/krankile/master-test/runs/259mw5f8</a><br/>Synced 4 W&B file(s), 0 media file(s), 1 artifact file(s) and 0 other file(s)"
            ]
          },
          "metadata": {}
        },
        {
          "output_type": "display_data",
          "data": {
            "text/plain": [
              "<IPython.core.display.HTML object>"
            ],
            "text/html": [
              "Find logs at: <code>./wandb/run-20220505_102108-259mw5f8/logs</code>"
            ]
          },
          "metadata": {}
        }
      ]
    },
    {
      "cell_type": "code",
      "source": [
        ""
      ],
      "metadata": {
        "id": "_KxWEyuyvNdP"
      },
      "execution_count": null,
      "outputs": []
    }
  ]
}