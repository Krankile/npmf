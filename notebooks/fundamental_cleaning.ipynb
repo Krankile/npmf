{
  "nbformat": 4,
  "nbformat_minor": 0,
  "metadata": {
    "colab": {
      "name": "fundamental_cleaning.ipynb",
      "provenance": [],
      "collapsed_sections": [],
      "authorship_tag": "ABX9TyPiJCjqOy411gyebuujSGmP",
      "include_colab_link": true
    },
    "kernelspec": {
      "name": "python3",
      "display_name": "Python 3"
    },
    "language_info": {
      "name": "python"
    },
    "widgets": {
      "application/vnd.jupyter.widget-state+json": {
        "77b6586c41924e2da091c4dd6ca78ff4": {
          "model_module": "@jupyter-widgets/controls",
          "model_name": "VBoxModel",
          "model_module_version": "1.5.0",
          "state": {
            "_dom_classes": [],
            "_model_module": "@jupyter-widgets/controls",
            "_model_module_version": "1.5.0",
            "_model_name": "VBoxModel",
            "_view_count": null,
            "_view_module": "@jupyter-widgets/controls",
            "_view_module_version": "1.5.0",
            "_view_name": "VBoxView",
            "box_style": "",
            "children": [
              "IPY_MODEL_6de9a73cf5344875abf3c8b668c1437c",
              "IPY_MODEL_dc0ec56952584512bee542cc36d6a9e7"
            ],
            "layout": "IPY_MODEL_9c63142c33d64ba2863632c9b3f2646c"
          }
        },
        "6de9a73cf5344875abf3c8b668c1437c": {
          "model_module": "@jupyter-widgets/controls",
          "model_name": "LabelModel",
          "model_module_version": "1.5.0",
          "state": {
            "_dom_classes": [],
            "_model_module": "@jupyter-widgets/controls",
            "_model_module_version": "1.5.0",
            "_model_name": "LabelModel",
            "_view_count": null,
            "_view_module": "@jupyter-widgets/controls",
            "_view_module_version": "1.5.0",
            "_view_name": "LabelView",
            "description": "",
            "description_tooltip": null,
            "layout": "IPY_MODEL_497512cc80d44f458e7906c2e61fbf74",
            "placeholder": "​",
            "style": "IPY_MODEL_78d03d469b054ed7b4db2fac8ee4a3a8",
            "value": "0.008 MB of 0.008 MB uploaded (0.000 MB deduped)\r"
          }
        },
        "dc0ec56952584512bee542cc36d6a9e7": {
          "model_module": "@jupyter-widgets/controls",
          "model_name": "FloatProgressModel",
          "model_module_version": "1.5.0",
          "state": {
            "_dom_classes": [],
            "_model_module": "@jupyter-widgets/controls",
            "_model_module_version": "1.5.0",
            "_model_name": "FloatProgressModel",
            "_view_count": null,
            "_view_module": "@jupyter-widgets/controls",
            "_view_module_version": "1.5.0",
            "_view_name": "ProgressView",
            "bar_style": "",
            "description": "",
            "description_tooltip": null,
            "layout": "IPY_MODEL_293bd11aaea5456b93ce8d2a178edf8f",
            "max": 1,
            "min": 0,
            "orientation": "horizontal",
            "style": "IPY_MODEL_3688991fb3794edfb9eff513b9b16bba",
            "value": 1
          }
        },
        "9c63142c33d64ba2863632c9b3f2646c": {
          "model_module": "@jupyter-widgets/base",
          "model_name": "LayoutModel",
          "model_module_version": "1.2.0",
          "state": {
            "_model_module": "@jupyter-widgets/base",
            "_model_module_version": "1.2.0",
            "_model_name": "LayoutModel",
            "_view_count": null,
            "_view_module": "@jupyter-widgets/base",
            "_view_module_version": "1.2.0",
            "_view_name": "LayoutView",
            "align_content": null,
            "align_items": null,
            "align_self": null,
            "border": null,
            "bottom": null,
            "display": null,
            "flex": null,
            "flex_flow": null,
            "grid_area": null,
            "grid_auto_columns": null,
            "grid_auto_flow": null,
            "grid_auto_rows": null,
            "grid_column": null,
            "grid_gap": null,
            "grid_row": null,
            "grid_template_areas": null,
            "grid_template_columns": null,
            "grid_template_rows": null,
            "height": null,
            "justify_content": null,
            "justify_items": null,
            "left": null,
            "margin": null,
            "max_height": null,
            "max_width": null,
            "min_height": null,
            "min_width": null,
            "object_fit": null,
            "object_position": null,
            "order": null,
            "overflow": null,
            "overflow_x": null,
            "overflow_y": null,
            "padding": null,
            "right": null,
            "top": null,
            "visibility": null,
            "width": null
          }
        },
        "497512cc80d44f458e7906c2e61fbf74": {
          "model_module": "@jupyter-widgets/base",
          "model_name": "LayoutModel",
          "model_module_version": "1.2.0",
          "state": {
            "_model_module": "@jupyter-widgets/base",
            "_model_module_version": "1.2.0",
            "_model_name": "LayoutModel",
            "_view_count": null,
            "_view_module": "@jupyter-widgets/base",
            "_view_module_version": "1.2.0",
            "_view_name": "LayoutView",
            "align_content": null,
            "align_items": null,
            "align_self": null,
            "border": null,
            "bottom": null,
            "display": null,
            "flex": null,
            "flex_flow": null,
            "grid_area": null,
            "grid_auto_columns": null,
            "grid_auto_flow": null,
            "grid_auto_rows": null,
            "grid_column": null,
            "grid_gap": null,
            "grid_row": null,
            "grid_template_areas": null,
            "grid_template_columns": null,
            "grid_template_rows": null,
            "height": null,
            "justify_content": null,
            "justify_items": null,
            "left": null,
            "margin": null,
            "max_height": null,
            "max_width": null,
            "min_height": null,
            "min_width": null,
            "object_fit": null,
            "object_position": null,
            "order": null,
            "overflow": null,
            "overflow_x": null,
            "overflow_y": null,
            "padding": null,
            "right": null,
            "top": null,
            "visibility": null,
            "width": null
          }
        },
        "78d03d469b054ed7b4db2fac8ee4a3a8": {
          "model_module": "@jupyter-widgets/controls",
          "model_name": "DescriptionStyleModel",
          "model_module_version": "1.5.0",
          "state": {
            "_model_module": "@jupyter-widgets/controls",
            "_model_module_version": "1.5.0",
            "_model_name": "DescriptionStyleModel",
            "_view_count": null,
            "_view_module": "@jupyter-widgets/base",
            "_view_module_version": "1.2.0",
            "_view_name": "StyleView",
            "description_width": ""
          }
        },
        "293bd11aaea5456b93ce8d2a178edf8f": {
          "model_module": "@jupyter-widgets/base",
          "model_name": "LayoutModel",
          "model_module_version": "1.2.0",
          "state": {
            "_model_module": "@jupyter-widgets/base",
            "_model_module_version": "1.2.0",
            "_model_name": "LayoutModel",
            "_view_count": null,
            "_view_module": "@jupyter-widgets/base",
            "_view_module_version": "1.2.0",
            "_view_name": "LayoutView",
            "align_content": null,
            "align_items": null,
            "align_self": null,
            "border": null,
            "bottom": null,
            "display": null,
            "flex": null,
            "flex_flow": null,
            "grid_area": null,
            "grid_auto_columns": null,
            "grid_auto_flow": null,
            "grid_auto_rows": null,
            "grid_column": null,
            "grid_gap": null,
            "grid_row": null,
            "grid_template_areas": null,
            "grid_template_columns": null,
            "grid_template_rows": null,
            "height": null,
            "justify_content": null,
            "justify_items": null,
            "left": null,
            "margin": null,
            "max_height": null,
            "max_width": null,
            "min_height": null,
            "min_width": null,
            "object_fit": null,
            "object_position": null,
            "order": null,
            "overflow": null,
            "overflow_x": null,
            "overflow_y": null,
            "padding": null,
            "right": null,
            "top": null,
            "visibility": null,
            "width": null
          }
        },
        "3688991fb3794edfb9eff513b9b16bba": {
          "model_module": "@jupyter-widgets/controls",
          "model_name": "ProgressStyleModel",
          "model_module_version": "1.5.0",
          "state": {
            "_model_module": "@jupyter-widgets/controls",
            "_model_module_version": "1.5.0",
            "_model_name": "ProgressStyleModel",
            "_view_count": null,
            "_view_module": "@jupyter-widgets/base",
            "_view_module_version": "1.2.0",
            "_view_name": "StyleView",
            "bar_color": null,
            "description_width": ""
          }
        },
        "5b2e67f5ac0345099dc7aff5d66214bc": {
          "model_module": "@jupyter-widgets/controls",
          "model_name": "VBoxModel",
          "model_module_version": "1.5.0",
          "state": {
            "_dom_classes": [],
            "_model_module": "@jupyter-widgets/controls",
            "_model_module_version": "1.5.0",
            "_model_name": "VBoxModel",
            "_view_count": null,
            "_view_module": "@jupyter-widgets/controls",
            "_view_module_version": "1.5.0",
            "_view_name": "VBoxView",
            "box_style": "",
            "children": [
              "IPY_MODEL_1cb695f1000f4423bc653020ff4c4207",
              "IPY_MODEL_80d944e3f2ba4bbe96048fe0889d8eb2"
            ],
            "layout": "IPY_MODEL_1bea73d302f64fbd817804f609734a4c"
          }
        },
        "1cb695f1000f4423bc653020ff4c4207": {
          "model_module": "@jupyter-widgets/controls",
          "model_name": "LabelModel",
          "model_module_version": "1.5.0",
          "state": {
            "_dom_classes": [],
            "_model_module": "@jupyter-widgets/controls",
            "_model_module_version": "1.5.0",
            "_model_name": "LabelModel",
            "_view_count": null,
            "_view_module": "@jupyter-widgets/controls",
            "_view_module_version": "1.5.0",
            "_view_name": "LabelView",
            "description": "",
            "description_tooltip": null,
            "layout": "IPY_MODEL_73444f61ed904b0ab20f5f9c95dc2762",
            "placeholder": "​",
            "style": "IPY_MODEL_7cfa2b823b65436d849fd0bf38611c3a",
            "value": "0.008 MB of 0.008 MB uploaded (0.000 MB deduped)\r"
          }
        },
        "80d944e3f2ba4bbe96048fe0889d8eb2": {
          "model_module": "@jupyter-widgets/controls",
          "model_name": "FloatProgressModel",
          "model_module_version": "1.5.0",
          "state": {
            "_dom_classes": [],
            "_model_module": "@jupyter-widgets/controls",
            "_model_module_version": "1.5.0",
            "_model_name": "FloatProgressModel",
            "_view_count": null,
            "_view_module": "@jupyter-widgets/controls",
            "_view_module_version": "1.5.0",
            "_view_name": "ProgressView",
            "bar_style": "",
            "description": "",
            "description_tooltip": null,
            "layout": "IPY_MODEL_258305fbbb264cebb644aa76ff055ff5",
            "max": 1,
            "min": 0,
            "orientation": "horizontal",
            "style": "IPY_MODEL_47e690b123204c2293de14e94786f7c7",
            "value": 1
          }
        },
        "1bea73d302f64fbd817804f609734a4c": {
          "model_module": "@jupyter-widgets/base",
          "model_name": "LayoutModel",
          "model_module_version": "1.2.0",
          "state": {
            "_model_module": "@jupyter-widgets/base",
            "_model_module_version": "1.2.0",
            "_model_name": "LayoutModel",
            "_view_count": null,
            "_view_module": "@jupyter-widgets/base",
            "_view_module_version": "1.2.0",
            "_view_name": "LayoutView",
            "align_content": null,
            "align_items": null,
            "align_self": null,
            "border": null,
            "bottom": null,
            "display": null,
            "flex": null,
            "flex_flow": null,
            "grid_area": null,
            "grid_auto_columns": null,
            "grid_auto_flow": null,
            "grid_auto_rows": null,
            "grid_column": null,
            "grid_gap": null,
            "grid_row": null,
            "grid_template_areas": null,
            "grid_template_columns": null,
            "grid_template_rows": null,
            "height": null,
            "justify_content": null,
            "justify_items": null,
            "left": null,
            "margin": null,
            "max_height": null,
            "max_width": null,
            "min_height": null,
            "min_width": null,
            "object_fit": null,
            "object_position": null,
            "order": null,
            "overflow": null,
            "overflow_x": null,
            "overflow_y": null,
            "padding": null,
            "right": null,
            "top": null,
            "visibility": null,
            "width": null
          }
        },
        "73444f61ed904b0ab20f5f9c95dc2762": {
          "model_module": "@jupyter-widgets/base",
          "model_name": "LayoutModel",
          "model_module_version": "1.2.0",
          "state": {
            "_model_module": "@jupyter-widgets/base",
            "_model_module_version": "1.2.0",
            "_model_name": "LayoutModel",
            "_view_count": null,
            "_view_module": "@jupyter-widgets/base",
            "_view_module_version": "1.2.0",
            "_view_name": "LayoutView",
            "align_content": null,
            "align_items": null,
            "align_self": null,
            "border": null,
            "bottom": null,
            "display": null,
            "flex": null,
            "flex_flow": null,
            "grid_area": null,
            "grid_auto_columns": null,
            "grid_auto_flow": null,
            "grid_auto_rows": null,
            "grid_column": null,
            "grid_gap": null,
            "grid_row": null,
            "grid_template_areas": null,
            "grid_template_columns": null,
            "grid_template_rows": null,
            "height": null,
            "justify_content": null,
            "justify_items": null,
            "left": null,
            "margin": null,
            "max_height": null,
            "max_width": null,
            "min_height": null,
            "min_width": null,
            "object_fit": null,
            "object_position": null,
            "order": null,
            "overflow": null,
            "overflow_x": null,
            "overflow_y": null,
            "padding": null,
            "right": null,
            "top": null,
            "visibility": null,
            "width": null
          }
        },
        "7cfa2b823b65436d849fd0bf38611c3a": {
          "model_module": "@jupyter-widgets/controls",
          "model_name": "DescriptionStyleModel",
          "model_module_version": "1.5.0",
          "state": {
            "_model_module": "@jupyter-widgets/controls",
            "_model_module_version": "1.5.0",
            "_model_name": "DescriptionStyleModel",
            "_view_count": null,
            "_view_module": "@jupyter-widgets/base",
            "_view_module_version": "1.2.0",
            "_view_name": "StyleView",
            "description_width": ""
          }
        },
        "258305fbbb264cebb644aa76ff055ff5": {
          "model_module": "@jupyter-widgets/base",
          "model_name": "LayoutModel",
          "model_module_version": "1.2.0",
          "state": {
            "_model_module": "@jupyter-widgets/base",
            "_model_module_version": "1.2.0",
            "_model_name": "LayoutModel",
            "_view_count": null,
            "_view_module": "@jupyter-widgets/base",
            "_view_module_version": "1.2.0",
            "_view_name": "LayoutView",
            "align_content": null,
            "align_items": null,
            "align_self": null,
            "border": null,
            "bottom": null,
            "display": null,
            "flex": null,
            "flex_flow": null,
            "grid_area": null,
            "grid_auto_columns": null,
            "grid_auto_flow": null,
            "grid_auto_rows": null,
            "grid_column": null,
            "grid_gap": null,
            "grid_row": null,
            "grid_template_areas": null,
            "grid_template_columns": null,
            "grid_template_rows": null,
            "height": null,
            "justify_content": null,
            "justify_items": null,
            "left": null,
            "margin": null,
            "max_height": null,
            "max_width": null,
            "min_height": null,
            "min_width": null,
            "object_fit": null,
            "object_position": null,
            "order": null,
            "overflow": null,
            "overflow_x": null,
            "overflow_y": null,
            "padding": null,
            "right": null,
            "top": null,
            "visibility": null,
            "width": null
          }
        },
        "47e690b123204c2293de14e94786f7c7": {
          "model_module": "@jupyter-widgets/controls",
          "model_name": "ProgressStyleModel",
          "model_module_version": "1.5.0",
          "state": {
            "_model_module": "@jupyter-widgets/controls",
            "_model_module_version": "1.5.0",
            "_model_name": "ProgressStyleModel",
            "_view_count": null,
            "_view_module": "@jupyter-widgets/base",
            "_view_module_version": "1.2.0",
            "_view_name": "StyleView",
            "bar_color": null,
            "description_width": ""
          }
        },
        "126381eaa1f940648ae31a0333834d73": {
          "model_module": "@jupyter-widgets/controls",
          "model_name": "VBoxModel",
          "model_module_version": "1.5.0",
          "state": {
            "_dom_classes": [],
            "_model_module": "@jupyter-widgets/controls",
            "_model_module_version": "1.5.0",
            "_model_name": "VBoxModel",
            "_view_count": null,
            "_view_module": "@jupyter-widgets/controls",
            "_view_module_version": "1.5.0",
            "_view_name": "VBoxView",
            "box_style": "",
            "children": [
              "IPY_MODEL_e83596232c3c442b8100b6038c9aff3d",
              "IPY_MODEL_00c72a8a4cf74d37bd04d5ca8d466cc3"
            ],
            "layout": "IPY_MODEL_52b589c143b1426e966d3b2c7f5b019e"
          }
        },
        "e83596232c3c442b8100b6038c9aff3d": {
          "model_module": "@jupyter-widgets/controls",
          "model_name": "LabelModel",
          "model_module_version": "1.5.0",
          "state": {
            "_dom_classes": [],
            "_model_module": "@jupyter-widgets/controls",
            "_model_module_version": "1.5.0",
            "_model_name": "LabelModel",
            "_view_count": null,
            "_view_module": "@jupyter-widgets/controls",
            "_view_module_version": "1.5.0",
            "_view_name": "LabelView",
            "description": "",
            "description_tooltip": null,
            "layout": "IPY_MODEL_e027f7b6682947efb34b700beeefd4fe",
            "placeholder": "​",
            "style": "IPY_MODEL_1b2c192d493c491a8366162a52bc8d07",
            "value": "14.346 MB of 14.346 MB uploaded (0.000 MB deduped)\r"
          }
        },
        "00c72a8a4cf74d37bd04d5ca8d466cc3": {
          "model_module": "@jupyter-widgets/controls",
          "model_name": "FloatProgressModel",
          "model_module_version": "1.5.0",
          "state": {
            "_dom_classes": [],
            "_model_module": "@jupyter-widgets/controls",
            "_model_module_version": "1.5.0",
            "_model_name": "FloatProgressModel",
            "_view_count": null,
            "_view_module": "@jupyter-widgets/controls",
            "_view_module_version": "1.5.0",
            "_view_name": "ProgressView",
            "bar_style": "",
            "description": "",
            "description_tooltip": null,
            "layout": "IPY_MODEL_82b0fd000bcf4f12bc332811e40bb2d4",
            "max": 1,
            "min": 0,
            "orientation": "horizontal",
            "style": "IPY_MODEL_21de68d37c9143b4bb54b3424126013b",
            "value": 1
          }
        },
        "52b589c143b1426e966d3b2c7f5b019e": {
          "model_module": "@jupyter-widgets/base",
          "model_name": "LayoutModel",
          "model_module_version": "1.2.0",
          "state": {
            "_model_module": "@jupyter-widgets/base",
            "_model_module_version": "1.2.0",
            "_model_name": "LayoutModel",
            "_view_count": null,
            "_view_module": "@jupyter-widgets/base",
            "_view_module_version": "1.2.0",
            "_view_name": "LayoutView",
            "align_content": null,
            "align_items": null,
            "align_self": null,
            "border": null,
            "bottom": null,
            "display": null,
            "flex": null,
            "flex_flow": null,
            "grid_area": null,
            "grid_auto_columns": null,
            "grid_auto_flow": null,
            "grid_auto_rows": null,
            "grid_column": null,
            "grid_gap": null,
            "grid_row": null,
            "grid_template_areas": null,
            "grid_template_columns": null,
            "grid_template_rows": null,
            "height": null,
            "justify_content": null,
            "justify_items": null,
            "left": null,
            "margin": null,
            "max_height": null,
            "max_width": null,
            "min_height": null,
            "min_width": null,
            "object_fit": null,
            "object_position": null,
            "order": null,
            "overflow": null,
            "overflow_x": null,
            "overflow_y": null,
            "padding": null,
            "right": null,
            "top": null,
            "visibility": null,
            "width": null
          }
        },
        "e027f7b6682947efb34b700beeefd4fe": {
          "model_module": "@jupyter-widgets/base",
          "model_name": "LayoutModel",
          "model_module_version": "1.2.0",
          "state": {
            "_model_module": "@jupyter-widgets/base",
            "_model_module_version": "1.2.0",
            "_model_name": "LayoutModel",
            "_view_count": null,
            "_view_module": "@jupyter-widgets/base",
            "_view_module_version": "1.2.0",
            "_view_name": "LayoutView",
            "align_content": null,
            "align_items": null,
            "align_self": null,
            "border": null,
            "bottom": null,
            "display": null,
            "flex": null,
            "flex_flow": null,
            "grid_area": null,
            "grid_auto_columns": null,
            "grid_auto_flow": null,
            "grid_auto_rows": null,
            "grid_column": null,
            "grid_gap": null,
            "grid_row": null,
            "grid_template_areas": null,
            "grid_template_columns": null,
            "grid_template_rows": null,
            "height": null,
            "justify_content": null,
            "justify_items": null,
            "left": null,
            "margin": null,
            "max_height": null,
            "max_width": null,
            "min_height": null,
            "min_width": null,
            "object_fit": null,
            "object_position": null,
            "order": null,
            "overflow": null,
            "overflow_x": null,
            "overflow_y": null,
            "padding": null,
            "right": null,
            "top": null,
            "visibility": null,
            "width": null
          }
        },
        "1b2c192d493c491a8366162a52bc8d07": {
          "model_module": "@jupyter-widgets/controls",
          "model_name": "DescriptionStyleModel",
          "model_module_version": "1.5.0",
          "state": {
            "_model_module": "@jupyter-widgets/controls",
            "_model_module_version": "1.5.0",
            "_model_name": "DescriptionStyleModel",
            "_view_count": null,
            "_view_module": "@jupyter-widgets/base",
            "_view_module_version": "1.2.0",
            "_view_name": "StyleView",
            "description_width": ""
          }
        },
        "82b0fd000bcf4f12bc332811e40bb2d4": {
          "model_module": "@jupyter-widgets/base",
          "model_name": "LayoutModel",
          "model_module_version": "1.2.0",
          "state": {
            "_model_module": "@jupyter-widgets/base",
            "_model_module_version": "1.2.0",
            "_model_name": "LayoutModel",
            "_view_count": null,
            "_view_module": "@jupyter-widgets/base",
            "_view_module_version": "1.2.0",
            "_view_name": "LayoutView",
            "align_content": null,
            "align_items": null,
            "align_self": null,
            "border": null,
            "bottom": null,
            "display": null,
            "flex": null,
            "flex_flow": null,
            "grid_area": null,
            "grid_auto_columns": null,
            "grid_auto_flow": null,
            "grid_auto_rows": null,
            "grid_column": null,
            "grid_gap": null,
            "grid_row": null,
            "grid_template_areas": null,
            "grid_template_columns": null,
            "grid_template_rows": null,
            "height": null,
            "justify_content": null,
            "justify_items": null,
            "left": null,
            "margin": null,
            "max_height": null,
            "max_width": null,
            "min_height": null,
            "min_width": null,
            "object_fit": null,
            "object_position": null,
            "order": null,
            "overflow": null,
            "overflow_x": null,
            "overflow_y": null,
            "padding": null,
            "right": null,
            "top": null,
            "visibility": null,
            "width": null
          }
        },
        "21de68d37c9143b4bb54b3424126013b": {
          "model_module": "@jupyter-widgets/controls",
          "model_name": "ProgressStyleModel",
          "model_module_version": "1.5.0",
          "state": {
            "_model_module": "@jupyter-widgets/controls",
            "_model_module_version": "1.5.0",
            "_model_name": "ProgressStyleModel",
            "_view_count": null,
            "_view_module": "@jupyter-widgets/base",
            "_view_module_version": "1.2.0",
            "_view_name": "StyleView",
            "bar_color": null,
            "description_width": ""
          }
        }
      }
    }
  },
  "cells": [
    {
      "cell_type": "markdown",
      "metadata": {
        "id": "view-in-github",
        "colab_type": "text"
      },
      "source": [
        "<a href=\"https://colab.research.google.com/github/Krankile/npmf/blob/main/notebooks/fundamental_cleaning.ipynb\" target=\"_parent\"><img src=\"https://colab.research.google.com/assets/colab-badge.svg\" alt=\"Open In Colab\"/></a>"
      ]
    },
    {
      "cell_type": "markdown",
      "source": [
        "## Setup"
      ],
      "metadata": {
        "id": "zTxmXfHXHu9F"
      }
    },
    {
      "cell_type": "code",
      "source": [
        "%load_ext autoreload\n",
        "%autoreload 2"
      ],
      "metadata": {
        "id": "hKuFzk7aEmB9",
        "colab": {
          "base_uri": "https://localhost:8080/"
        },
        "outputId": "9e1a0f18-a30c-4c72-c1f9-d100d77d63b7"
      },
      "execution_count": 84,
      "outputs": [
        {
          "output_type": "stream",
          "name": "stdout",
          "text": [
            "The autoreload extension is already loaded. To reload it, use:\n",
            "  %reload_ext autoreload\n"
          ]
        }
      ]
    },
    {
      "cell_type": "code",
      "source": [
        "%%capture\n",
        "!git clone https://github.com/Krankile/npmf.git"
      ],
      "metadata": {
        "id": "91KPY7q0LUOw"
      },
      "execution_count": 85,
      "outputs": []
    },
    {
      "cell_type": "code",
      "source": [
        "%%capture\n",
        "!cd npmf && git pull"
      ],
      "metadata": {
        "id": "zGsSIhgXEkhz"
      },
      "execution_count": 86,
      "outputs": []
    },
    {
      "cell_type": "code",
      "source": [
        "%%capture\n",
        "!pip install wandb"
      ],
      "metadata": {
        "id": "AP0ibj0flPkH"
      },
      "execution_count": 4,
      "outputs": []
    },
    {
      "cell_type": "code",
      "source": [
        "!wandb login"
      ],
      "metadata": {
        "id": "gUXnibj8YEi1",
        "colab": {
          "base_uri": "https://localhost:8080/"
        },
        "outputId": "edfac83f-562f-486b-9c42-4d9e7ba5bc12"
      },
      "execution_count": 5,
      "outputs": [
        {
          "output_type": "stream",
          "name": "stdout",
          "text": [
            "\u001b[34m\u001b[1mwandb\u001b[0m: You can find your API key in your browser here: https://wandb.ai/authorize\n",
            "\u001b[34m\u001b[1mwandb\u001b[0m: Paste an API key from your profile and hit enter, or press ctrl+c to quit: \n",
            "\u001b[34m\u001b[1mwandb\u001b[0m: Appending key for api.wandb.ai to your netrc file: /root/.netrc\n"
          ]
        }
      ]
    },
    {
      "cell_type": "markdown",
      "source": [
        "##General setup"
      ],
      "metadata": {
        "id": "CLAlA0htLgMY"
      }
    },
    {
      "cell_type": "code",
      "source": [
        "import os\n",
        "from collections import defaultdict\n",
        "from collections import Counter\n",
        "from datetime import datetime\n",
        "from operator import itemgetter\n",
        "\n",
        "import numpy as np\n",
        "from numpy.ma.core import outerproduct\n",
        "import pandas as pd\n",
        "import matplotlib as mpl\n",
        "import matplotlib.pyplot as plt\n",
        "from tqdm import tqdm\n",
        "\n",
        "import wandb as wb\n",
        "\n",
        "import torch\n",
        "from torch import nn\n",
        "from torch.utils.data import DataLoader\n",
        "from torchvision import datasets, transforms\n",
        "\n",
        "from npmf.utils.colors import main, main2, main3\n",
        "from npmf.utils.eikon import column_mapping\n",
        "from npmf.utils.wandb import get_dataset, put_dataset"
      ],
      "metadata": {
        "id": "1QSlgObXLq1p"
      },
      "execution_count": 87,
      "outputs": []
    },
    {
      "cell_type": "code",
      "source": [
        "mpl.rcParams['axes.prop_cycle'] = mpl.cycler(color=[main, main2, main3, \"black\"])\n",
        "mpl.rcParams['figure.figsize'] = (6, 4)  # (6, 4) is default and used in the paper"
      ],
      "metadata": {
        "id": "hkTjKKLmLvpl"
      },
      "execution_count": 7,
      "outputs": []
    },
    {
      "cell_type": "code",
      "source": [
        "device = \"cuda\" if torch.cuda.is_available() else \"cpu\"\n",
        "print(f\"Using {device} device\")"
      ],
      "metadata": {
        "colab": {
          "base_uri": "https://localhost:8080/"
        },
        "id": "Dqy02oAvY7GM",
        "outputId": "d14301a6-d334-4b92-9ccf-ba1ba0ab72f2"
      },
      "execution_count": 8,
      "outputs": [
        {
          "output_type": "stream",
          "name": "stdout",
          "text": [
            "Using cpu device\n"
          ]
        }
      ]
    },
    {
      "cell_type": "code",
      "source": [
        "np.random.seed(420)"
      ],
      "metadata": {
        "id": "YVFtfDk0pYtd"
      },
      "execution_count": 9,
      "outputs": []
    },
    {
      "cell_type": "markdown",
      "source": [
        "# Process fundamental data"
      ],
      "metadata": {
        "id": "yKHa9i_AHyVd"
      }
    },
    {
      "cell_type": "code",
      "source": [
        ""
      ],
      "metadata": {
        "id": "Wlv3cfp2ABi8"
      },
      "execution_count": null,
      "outputs": []
    },
    {
      "cell_type": "markdown",
      "source": [
        "## Start by defining $\\mathcal{D}^{fun}_T$"
      ],
      "metadata": {
        "id": "CoayBnBHH4M1"
      }
    },
    {
      "cell_type": "code",
      "source": [
        "fundamental_oil_df = get_dataset(\"oil-fundamental-data:v1\", \"master-test\").rename(columns=column_mapping) #Need v1 as asking for price book seems to have removed announce dates in oil (and we no longer use price_book)\n",
        "fundamental_banking_df = get_dataset(\"banking-fundamental-data:latest\", \"master-test\").rename(columns=column_mapping)"
      ],
      "metadata": {
        "colab": {
          "base_uri": "https://localhost:8080/",
          "height": 264,
          "referenced_widgets": [
            "77b6586c41924e2da091c4dd6ca78ff4",
            "6de9a73cf5344875abf3c8b668c1437c",
            "dc0ec56952584512bee542cc36d6a9e7",
            "9c63142c33d64ba2863632c9b3f2646c",
            "497512cc80d44f458e7906c2e61fbf74",
            "78d03d469b054ed7b4db2fac8ee4a3a8",
            "293bd11aaea5456b93ce8d2a178edf8f",
            "3688991fb3794edfb9eff513b9b16bba",
            "5b2e67f5ac0345099dc7aff5d66214bc",
            "1cb695f1000f4423bc653020ff4c4207",
            "80d944e3f2ba4bbe96048fe0889d8eb2",
            "1bea73d302f64fbd817804f609734a4c",
            "73444f61ed904b0ab20f5f9c95dc2762",
            "7cfa2b823b65436d849fd0bf38611c3a",
            "258305fbbb264cebb644aa76ff055ff5",
            "47e690b123204c2293de14e94786f7c7"
          ]
        },
        "id": "ej-jb_JpH2rt",
        "outputId": "de98814a-cec6-461a-c3f7-50f9a5867477"
      },
      "execution_count": 146,
      "outputs": [
        {
          "output_type": "display_data",
          "data": {
            "text/plain": [
              "<IPython.core.display.HTML object>"
            ],
            "text/html": [
              "Tracking run with wandb version 0.12.16"
            ]
          },
          "metadata": {}
        },
        {
          "output_type": "display_data",
          "data": {
            "text/plain": [
              "<IPython.core.display.HTML object>"
            ],
            "text/html": [
              "Run data is saved locally in <code>/content/wandb/run-20220524_095125-mmdzpizp</code>"
            ]
          },
          "metadata": {}
        },
        {
          "output_type": "display_data",
          "data": {
            "text/plain": [
              "<IPython.core.display.HTML object>"
            ],
            "text/html": [
              "Syncing run <strong><a href=\"https://wandb.ai/krankile/master-test/runs/mmdzpizp\" target=\"_blank\">wild-elevator-381</a></strong> to <a href=\"https://wandb.ai/krankile/master-test\" target=\"_blank\">Weights & Biases</a> (<a href=\"https://wandb.me/run\" target=\"_blank\">docs</a>)<br/>"
            ]
          },
          "metadata": {}
        },
        {
          "output_type": "display_data",
          "data": {
            "text/plain": [
              "<IPython.core.display.HTML object>"
            ],
            "text/html": [
              "Waiting for W&B process to finish... <strong style=\"color:green\">(success).</strong>"
            ]
          },
          "metadata": {}
        },
        {
          "output_type": "display_data",
          "data": {
            "text/plain": [
              "VBox(children=(Label(value='0.000 MB of 0.000 MB uploaded (0.000 MB deduped)\\r'), FloatProgress(value=1.0, max…"
            ],
            "application/vnd.jupyter.widget-view+json": {
              "version_major": 2,
              "version_minor": 0,
              "model_id": "77b6586c41924e2da091c4dd6ca78ff4"
            }
          },
          "metadata": {}
        },
        {
          "output_type": "display_data",
          "data": {
            "text/plain": [
              "<IPython.core.display.HTML object>"
            ],
            "text/html": [
              "Synced <strong style=\"color:#cdcd00\">wild-elevator-381</strong>: <a href=\"https://wandb.ai/krankile/master-test/runs/mmdzpizp\" target=\"_blank\">https://wandb.ai/krankile/master-test/runs/mmdzpizp</a><br/>Synced 4 W&B file(s), 0 media file(s), 0 artifact file(s) and 0 other file(s)"
            ]
          },
          "metadata": {}
        },
        {
          "output_type": "display_data",
          "data": {
            "text/plain": [
              "<IPython.core.display.HTML object>"
            ],
            "text/html": [
              "Find logs at: <code>./wandb/run-20220524_095125-mmdzpizp/logs</code>"
            ]
          },
          "metadata": {}
        },
        {
          "output_type": "display_data",
          "data": {
            "text/plain": [
              "<IPython.core.display.HTML object>"
            ],
            "text/html": [
              "Tracking run with wandb version 0.12.16"
            ]
          },
          "metadata": {}
        },
        {
          "output_type": "display_data",
          "data": {
            "text/plain": [
              "<IPython.core.display.HTML object>"
            ],
            "text/html": [
              "Run data is saved locally in <code>/content/wandb/run-20220524_095135-b7phgu0q</code>"
            ]
          },
          "metadata": {}
        },
        {
          "output_type": "display_data",
          "data": {
            "text/plain": [
              "<IPython.core.display.HTML object>"
            ],
            "text/html": [
              "Syncing run <strong><a href=\"https://wandb.ai/krankile/master-test/runs/b7phgu0q\" target=\"_blank\">stilted-monkey-382</a></strong> to <a href=\"https://wandb.ai/krankile/master-test\" target=\"_blank\">Weights & Biases</a> (<a href=\"https://wandb.me/run\" target=\"_blank\">docs</a>)<br/>"
            ]
          },
          "metadata": {}
        },
        {
          "output_type": "display_data",
          "data": {
            "text/plain": [
              "<IPython.core.display.HTML object>"
            ],
            "text/html": [
              "Waiting for W&B process to finish... <strong style=\"color:green\">(success).</strong>"
            ]
          },
          "metadata": {}
        },
        {
          "output_type": "display_data",
          "data": {
            "text/plain": [
              "VBox(children=(Label(value='0.000 MB of 0.000 MB uploaded (0.000 MB deduped)\\r'), FloatProgress(value=1.0, max…"
            ],
            "application/vnd.jupyter.widget-view+json": {
              "version_major": 2,
              "version_minor": 0,
              "model_id": "5b2e67f5ac0345099dc7aff5d66214bc"
            }
          },
          "metadata": {}
        },
        {
          "output_type": "display_data",
          "data": {
            "text/plain": [
              "<IPython.core.display.HTML object>"
            ],
            "text/html": [
              "Synced <strong style=\"color:#cdcd00\">stilted-monkey-382</strong>: <a href=\"https://wandb.ai/krankile/master-test/runs/b7phgu0q\" target=\"_blank\">https://wandb.ai/krankile/master-test/runs/b7phgu0q</a><br/>Synced 4 W&B file(s), 0 media file(s), 0 artifact file(s) and 0 other file(s)"
            ]
          },
          "metadata": {}
        },
        {
          "output_type": "display_data",
          "data": {
            "text/plain": [
              "<IPython.core.display.HTML object>"
            ],
            "text/html": [
              "Find logs at: <code>./wandb/run-20220524_095135-b7phgu0q/logs</code>"
            ]
          },
          "metadata": {}
        }
      ]
    },
    {
      "cell_type": "markdown",
      "source": [
        "Unfortunately there is almost no price book enteries where there are annoucement dates, therefore we are not comfortable using the data as we would have to assume some time of announcment (with large lag) which could nonetheless be inducing time leakage. As such, we remove price_book column   "
      ],
      "metadata": {
        "id": "TZugSU-vW2dJ"
      }
    },
    {
      "cell_type": "code",
      "source": [
        "fundamental_banking_df = fundamental_banking_df.drop(columns=\"price_book\")"
      ],
      "metadata": {
        "id": "jQEvV4bHWm2-"
      },
      "execution_count": 147,
      "outputs": []
    },
    {
      "cell_type": "code",
      "source": [
        "fundamental_banking_df"
      ],
      "metadata": {
        "colab": {
          "base_uri": "https://localhost:8080/",
          "height": 487
        },
        "id": "cjdn_plwaQZy",
        "outputId": "18a14550-fc07-40d6-e0a1-2331b4113a0d"
      },
      "execution_count": 148,
      "outputs": [
        {
          "output_type": "execute_result",
          "data": {
            "text/plain": [
              "         ticker  date period_end_date announce_date  revenue  gross_profit  \\\n",
              "0       KAER.VI  None            None                   <NA>          <NA>   \n",
              "1       KAER.VI  None            None                   <NA>          <NA>   \n",
              "2       KAER.VI  None            None                   <NA>          <NA>   \n",
              "3       KAER.VI  None            None    2003-02-26     <NA>          <NA>   \n",
              "4       KAER.VI  None            None                   <NA>          <NA>   \n",
              "...         ...   ...             ...           ...      ...           ...   \n",
              "143580  CRDI.MI  None            None                   <NA>          <NA>   \n",
              "143581  CRDI.MI  None            None    2021-05-06     <NA>          <NA>   \n",
              "143582  CRDI.MI  None            None                   <NA>          <NA>   \n",
              "143583  CRDI.MI  None            None    2021-10-28     <NA>          <NA>   \n",
              "143584  CRDI.MI  None            None                   <NA>          <NA>   \n",
              "\n",
              "        ebitda             ebit        net_income          total_assets  \\\n",
              "0         <NA>   9776460.847967    8634951.329748      3326024663.38403   \n",
              "1         <NA>  12350159.136203   10404342.223101      3714558235.91818   \n",
              "2         <NA>  11111001.499487    9594268.024626      3676885210.32278   \n",
              "3         <NA> -12137624.115708  -16290205.586601      3919973969.81338   \n",
              "4         <NA>  12576583.266897   11067308.483792      4073344108.68544   \n",
              "...        ...              ...               ...                   ...   \n",
              "143580    <NA>             <NA>  -424591248.86539  1137586712261.850098   \n",
              "143581    <NA>             <NA>  1076155261.38888  1104971500949.969971   \n",
              "143582    <NA>             <NA>  1251627499.51837  1126274109990.159912   \n",
              "143583    <NA>             <NA>  1258917567.36172  1098559318108.119995   \n",
              "143584    <NA>             <NA> -1640986844.47383  1042074210490.420044   \n",
              "\n",
              "        total_current_assets      total_liabilites  total_current_liabilities  \\\n",
              "0                       <NA>      3073945705.69524                       <NA>   \n",
              "1                       <NA>      3425426098.33725                       <NA>   \n",
              "2                       <NA>       3387886709.8098                       <NA>   \n",
              "3                       <NA>      3587682893.54913                       <NA>   \n",
              "4                       <NA>      3740998394.61815                       <NA>   \n",
              "...                      ...                   ...                        ...   \n",
              "143580                  <NA>   1064379579872.97998                       <NA>   \n",
              "143581                  <NA>  1033313395726.319946                       <NA>   \n",
              "143582                  <NA>   1053007006271.26001                       <NA>   \n",
              "143583                  <NA>  1026005234631.949951                       <NA>   \n",
              "143584                  <NA>   971486710774.618042                       <NA>   \n",
              "\n",
              "        long_term_debt_p_assets  short_term_debt_p_assets   fcf  \n",
              "0                       7.21831                      <NA>  <NA>  \n",
              "1                       7.15891                      <NA>  <NA>  \n",
              "2                        7.4641                      <NA>  <NA>  \n",
              "3                       7.33097                      <NA>  <NA>  \n",
              "4                       7.17495                      <NA>  <NA>  \n",
              "...                         ...                       ...   ...  \n",
              "143580                 12.14142                      <NA>  <NA>  \n",
              "143581                 11.80282                      <NA>  <NA>  \n",
              "143582                 11.13588                      <NA>  <NA>  \n",
              "143583                 11.62997                      <NA>  <NA>  \n",
              "143584                 11.50402                      <NA>  <NA>  \n",
              "\n",
              "[143585 rows x 16 columns]"
            ],
            "text/html": [
              "\n",
              "  <div id=\"df-62ea947f-2f23-4bd9-b970-9b0dd7159641\">\n",
              "    <div class=\"colab-df-container\">\n",
              "      <div>\n",
              "<style scoped>\n",
              "    .dataframe tbody tr th:only-of-type {\n",
              "        vertical-align: middle;\n",
              "    }\n",
              "\n",
              "    .dataframe tbody tr th {\n",
              "        vertical-align: top;\n",
              "    }\n",
              "\n",
              "    .dataframe thead th {\n",
              "        text-align: right;\n",
              "    }\n",
              "</style>\n",
              "<table border=\"1\" class=\"dataframe\">\n",
              "  <thead>\n",
              "    <tr style=\"text-align: right;\">\n",
              "      <th></th>\n",
              "      <th>ticker</th>\n",
              "      <th>date</th>\n",
              "      <th>period_end_date</th>\n",
              "      <th>announce_date</th>\n",
              "      <th>revenue</th>\n",
              "      <th>gross_profit</th>\n",
              "      <th>ebitda</th>\n",
              "      <th>ebit</th>\n",
              "      <th>net_income</th>\n",
              "      <th>total_assets</th>\n",
              "      <th>total_current_assets</th>\n",
              "      <th>total_liabilites</th>\n",
              "      <th>total_current_liabilities</th>\n",
              "      <th>long_term_debt_p_assets</th>\n",
              "      <th>short_term_debt_p_assets</th>\n",
              "      <th>fcf</th>\n",
              "    </tr>\n",
              "  </thead>\n",
              "  <tbody>\n",
              "    <tr>\n",
              "      <th>0</th>\n",
              "      <td>KAER.VI</td>\n",
              "      <td>None</td>\n",
              "      <td>None</td>\n",
              "      <td></td>\n",
              "      <td>&lt;NA&gt;</td>\n",
              "      <td>&lt;NA&gt;</td>\n",
              "      <td>&lt;NA&gt;</td>\n",
              "      <td>9776460.847967</td>\n",
              "      <td>8634951.329748</td>\n",
              "      <td>3326024663.38403</td>\n",
              "      <td>&lt;NA&gt;</td>\n",
              "      <td>3073945705.69524</td>\n",
              "      <td>&lt;NA&gt;</td>\n",
              "      <td>7.21831</td>\n",
              "      <td>&lt;NA&gt;</td>\n",
              "      <td>&lt;NA&gt;</td>\n",
              "    </tr>\n",
              "    <tr>\n",
              "      <th>1</th>\n",
              "      <td>KAER.VI</td>\n",
              "      <td>None</td>\n",
              "      <td>None</td>\n",
              "      <td></td>\n",
              "      <td>&lt;NA&gt;</td>\n",
              "      <td>&lt;NA&gt;</td>\n",
              "      <td>&lt;NA&gt;</td>\n",
              "      <td>12350159.136203</td>\n",
              "      <td>10404342.223101</td>\n",
              "      <td>3714558235.91818</td>\n",
              "      <td>&lt;NA&gt;</td>\n",
              "      <td>3425426098.33725</td>\n",
              "      <td>&lt;NA&gt;</td>\n",
              "      <td>7.15891</td>\n",
              "      <td>&lt;NA&gt;</td>\n",
              "      <td>&lt;NA&gt;</td>\n",
              "    </tr>\n",
              "    <tr>\n",
              "      <th>2</th>\n",
              "      <td>KAER.VI</td>\n",
              "      <td>None</td>\n",
              "      <td>None</td>\n",
              "      <td></td>\n",
              "      <td>&lt;NA&gt;</td>\n",
              "      <td>&lt;NA&gt;</td>\n",
              "      <td>&lt;NA&gt;</td>\n",
              "      <td>11111001.499487</td>\n",
              "      <td>9594268.024626</td>\n",
              "      <td>3676885210.32278</td>\n",
              "      <td>&lt;NA&gt;</td>\n",
              "      <td>3387886709.8098</td>\n",
              "      <td>&lt;NA&gt;</td>\n",
              "      <td>7.4641</td>\n",
              "      <td>&lt;NA&gt;</td>\n",
              "      <td>&lt;NA&gt;</td>\n",
              "    </tr>\n",
              "    <tr>\n",
              "      <th>3</th>\n",
              "      <td>KAER.VI</td>\n",
              "      <td>None</td>\n",
              "      <td>None</td>\n",
              "      <td>2003-02-26</td>\n",
              "      <td>&lt;NA&gt;</td>\n",
              "      <td>&lt;NA&gt;</td>\n",
              "      <td>&lt;NA&gt;</td>\n",
              "      <td>-12137624.115708</td>\n",
              "      <td>-16290205.586601</td>\n",
              "      <td>3919973969.81338</td>\n",
              "      <td>&lt;NA&gt;</td>\n",
              "      <td>3587682893.54913</td>\n",
              "      <td>&lt;NA&gt;</td>\n",
              "      <td>7.33097</td>\n",
              "      <td>&lt;NA&gt;</td>\n",
              "      <td>&lt;NA&gt;</td>\n",
              "    </tr>\n",
              "    <tr>\n",
              "      <th>4</th>\n",
              "      <td>KAER.VI</td>\n",
              "      <td>None</td>\n",
              "      <td>None</td>\n",
              "      <td></td>\n",
              "      <td>&lt;NA&gt;</td>\n",
              "      <td>&lt;NA&gt;</td>\n",
              "      <td>&lt;NA&gt;</td>\n",
              "      <td>12576583.266897</td>\n",
              "      <td>11067308.483792</td>\n",
              "      <td>4073344108.68544</td>\n",
              "      <td>&lt;NA&gt;</td>\n",
              "      <td>3740998394.61815</td>\n",
              "      <td>&lt;NA&gt;</td>\n",
              "      <td>7.17495</td>\n",
              "      <td>&lt;NA&gt;</td>\n",
              "      <td>&lt;NA&gt;</td>\n",
              "    </tr>\n",
              "    <tr>\n",
              "      <th>...</th>\n",
              "      <td>...</td>\n",
              "      <td>...</td>\n",
              "      <td>...</td>\n",
              "      <td>...</td>\n",
              "      <td>...</td>\n",
              "      <td>...</td>\n",
              "      <td>...</td>\n",
              "      <td>...</td>\n",
              "      <td>...</td>\n",
              "      <td>...</td>\n",
              "      <td>...</td>\n",
              "      <td>...</td>\n",
              "      <td>...</td>\n",
              "      <td>...</td>\n",
              "      <td>...</td>\n",
              "      <td>...</td>\n",
              "    </tr>\n",
              "    <tr>\n",
              "      <th>143580</th>\n",
              "      <td>CRDI.MI</td>\n",
              "      <td>None</td>\n",
              "      <td>None</td>\n",
              "      <td></td>\n",
              "      <td>&lt;NA&gt;</td>\n",
              "      <td>&lt;NA&gt;</td>\n",
              "      <td>&lt;NA&gt;</td>\n",
              "      <td>&lt;NA&gt;</td>\n",
              "      <td>-424591248.86539</td>\n",
              "      <td>1137586712261.850098</td>\n",
              "      <td>&lt;NA&gt;</td>\n",
              "      <td>1064379579872.97998</td>\n",
              "      <td>&lt;NA&gt;</td>\n",
              "      <td>12.14142</td>\n",
              "      <td>&lt;NA&gt;</td>\n",
              "      <td>&lt;NA&gt;</td>\n",
              "    </tr>\n",
              "    <tr>\n",
              "      <th>143581</th>\n",
              "      <td>CRDI.MI</td>\n",
              "      <td>None</td>\n",
              "      <td>None</td>\n",
              "      <td>2021-05-06</td>\n",
              "      <td>&lt;NA&gt;</td>\n",
              "      <td>&lt;NA&gt;</td>\n",
              "      <td>&lt;NA&gt;</td>\n",
              "      <td>&lt;NA&gt;</td>\n",
              "      <td>1076155261.38888</td>\n",
              "      <td>1104971500949.969971</td>\n",
              "      <td>&lt;NA&gt;</td>\n",
              "      <td>1033313395726.319946</td>\n",
              "      <td>&lt;NA&gt;</td>\n",
              "      <td>11.80282</td>\n",
              "      <td>&lt;NA&gt;</td>\n",
              "      <td>&lt;NA&gt;</td>\n",
              "    </tr>\n",
              "    <tr>\n",
              "      <th>143582</th>\n",
              "      <td>CRDI.MI</td>\n",
              "      <td>None</td>\n",
              "      <td>None</td>\n",
              "      <td></td>\n",
              "      <td>&lt;NA&gt;</td>\n",
              "      <td>&lt;NA&gt;</td>\n",
              "      <td>&lt;NA&gt;</td>\n",
              "      <td>&lt;NA&gt;</td>\n",
              "      <td>1251627499.51837</td>\n",
              "      <td>1126274109990.159912</td>\n",
              "      <td>&lt;NA&gt;</td>\n",
              "      <td>1053007006271.26001</td>\n",
              "      <td>&lt;NA&gt;</td>\n",
              "      <td>11.13588</td>\n",
              "      <td>&lt;NA&gt;</td>\n",
              "      <td>&lt;NA&gt;</td>\n",
              "    </tr>\n",
              "    <tr>\n",
              "      <th>143583</th>\n",
              "      <td>CRDI.MI</td>\n",
              "      <td>None</td>\n",
              "      <td>None</td>\n",
              "      <td>2021-10-28</td>\n",
              "      <td>&lt;NA&gt;</td>\n",
              "      <td>&lt;NA&gt;</td>\n",
              "      <td>&lt;NA&gt;</td>\n",
              "      <td>&lt;NA&gt;</td>\n",
              "      <td>1258917567.36172</td>\n",
              "      <td>1098559318108.119995</td>\n",
              "      <td>&lt;NA&gt;</td>\n",
              "      <td>1026005234631.949951</td>\n",
              "      <td>&lt;NA&gt;</td>\n",
              "      <td>11.62997</td>\n",
              "      <td>&lt;NA&gt;</td>\n",
              "      <td>&lt;NA&gt;</td>\n",
              "    </tr>\n",
              "    <tr>\n",
              "      <th>143584</th>\n",
              "      <td>CRDI.MI</td>\n",
              "      <td>None</td>\n",
              "      <td>None</td>\n",
              "      <td></td>\n",
              "      <td>&lt;NA&gt;</td>\n",
              "      <td>&lt;NA&gt;</td>\n",
              "      <td>&lt;NA&gt;</td>\n",
              "      <td>&lt;NA&gt;</td>\n",
              "      <td>-1640986844.47383</td>\n",
              "      <td>1042074210490.420044</td>\n",
              "      <td>&lt;NA&gt;</td>\n",
              "      <td>971486710774.618042</td>\n",
              "      <td>&lt;NA&gt;</td>\n",
              "      <td>11.50402</td>\n",
              "      <td>&lt;NA&gt;</td>\n",
              "      <td>&lt;NA&gt;</td>\n",
              "    </tr>\n",
              "  </tbody>\n",
              "</table>\n",
              "<p>143585 rows × 16 columns</p>\n",
              "</div>\n",
              "      <button class=\"colab-df-convert\" onclick=\"convertToInteractive('df-62ea947f-2f23-4bd9-b970-9b0dd7159641')\"\n",
              "              title=\"Convert this dataframe to an interactive table.\"\n",
              "              style=\"display:none;\">\n",
              "        \n",
              "  <svg xmlns=\"http://www.w3.org/2000/svg\" height=\"24px\"viewBox=\"0 0 24 24\"\n",
              "       width=\"24px\">\n",
              "    <path d=\"M0 0h24v24H0V0z\" fill=\"none\"/>\n",
              "    <path d=\"M18.56 5.44l.94 2.06.94-2.06 2.06-.94-2.06-.94-.94-2.06-.94 2.06-2.06.94zm-11 1L8.5 8.5l.94-2.06 2.06-.94-2.06-.94L8.5 2.5l-.94 2.06-2.06.94zm10 10l.94 2.06.94-2.06 2.06-.94-2.06-.94-.94-2.06-.94 2.06-2.06.94z\"/><path d=\"M17.41 7.96l-1.37-1.37c-.4-.4-.92-.59-1.43-.59-.52 0-1.04.2-1.43.59L10.3 9.45l-7.72 7.72c-.78.78-.78 2.05 0 2.83L4 21.41c.39.39.9.59 1.41.59.51 0 1.02-.2 1.41-.59l7.78-7.78 2.81-2.81c.8-.78.8-2.07 0-2.86zM5.41 20L4 18.59l7.72-7.72 1.47 1.35L5.41 20z\"/>\n",
              "  </svg>\n",
              "      </button>\n",
              "      \n",
              "  <style>\n",
              "    .colab-df-container {\n",
              "      display:flex;\n",
              "      flex-wrap:wrap;\n",
              "      gap: 12px;\n",
              "    }\n",
              "\n",
              "    .colab-df-convert {\n",
              "      background-color: #E8F0FE;\n",
              "      border: none;\n",
              "      border-radius: 50%;\n",
              "      cursor: pointer;\n",
              "      display: none;\n",
              "      fill: #1967D2;\n",
              "      height: 32px;\n",
              "      padding: 0 0 0 0;\n",
              "      width: 32px;\n",
              "    }\n",
              "\n",
              "    .colab-df-convert:hover {\n",
              "      background-color: #E2EBFA;\n",
              "      box-shadow: 0px 1px 2px rgba(60, 64, 67, 0.3), 0px 1px 3px 1px rgba(60, 64, 67, 0.15);\n",
              "      fill: #174EA6;\n",
              "    }\n",
              "\n",
              "    [theme=dark] .colab-df-convert {\n",
              "      background-color: #3B4455;\n",
              "      fill: #D2E3FC;\n",
              "    }\n",
              "\n",
              "    [theme=dark] .colab-df-convert:hover {\n",
              "      background-color: #434B5C;\n",
              "      box-shadow: 0px 1px 3px 1px rgba(0, 0, 0, 0.15);\n",
              "      filter: drop-shadow(0px 1px 2px rgba(0, 0, 0, 0.3));\n",
              "      fill: #FFFFFF;\n",
              "    }\n",
              "  </style>\n",
              "\n",
              "      <script>\n",
              "        const buttonEl =\n",
              "          document.querySelector('#df-62ea947f-2f23-4bd9-b970-9b0dd7159641 button.colab-df-convert');\n",
              "        buttonEl.style.display =\n",
              "          google.colab.kernel.accessAllowed ? 'block' : 'none';\n",
              "\n",
              "        async function convertToInteractive(key) {\n",
              "          const element = document.querySelector('#df-62ea947f-2f23-4bd9-b970-9b0dd7159641');\n",
              "          const dataTable =\n",
              "            await google.colab.kernel.invokeFunction('convertToInteractive',\n",
              "                                                     [key], {});\n",
              "          if (!dataTable) return;\n",
              "\n",
              "          const docLinkHtml = 'Like what you see? Visit the ' +\n",
              "            '<a target=\"_blank\" href=https://colab.research.google.com/notebooks/data_table.ipynb>data table notebook</a>'\n",
              "            + ' to learn more about interactive tables.';\n",
              "          element.innerHTML = '';\n",
              "          dataTable['output_type'] = 'display_data';\n",
              "          await google.colab.output.renderOutput(dataTable, element);\n",
              "          const docLink = document.createElement('div');\n",
              "          docLink.innerHTML = docLinkHtml;\n",
              "          element.appendChild(docLink);\n",
              "        }\n",
              "      </script>\n",
              "    </div>\n",
              "  </div>\n",
              "  "
            ]
          },
          "metadata": {},
          "execution_count": 148
        }
      ]
    },
    {
      "cell_type": "code",
      "source": [
        "better_column_order  = [\"ticker\", \"date\", \"period_end_date\", \"announce_date\", \"revenue\", \"gross_profit\", \"ebitda\", \"ebit\", \"net_income\", \"fcf\", \"total_assets\", \"total_current_assets\", \"total_liabilites\"\t, \"total_current_liabilities\", \"long_term_debt_p_assets\", \"short_term_debt_p_assets\"]\n",
        "\n",
        "fundamental_oil_df = fundamental_oil_df.loc[:, better_column_order]\n",
        "fundamental_banking_df = fundamental_banking_df.loc[:, better_column_order]"
      ],
      "metadata": {
        "id": "jX5JIpbAXRtG"
      },
      "execution_count": 149,
      "outputs": []
    },
    {
      "cell_type": "code",
      "source": [
        "fundamental_oil_df = fundamental_oil_df[(fundamental_oil_df.announce_date != \"\") & (~fundamental_oil_df.announce_date.isnull())]\n",
        "fundamental_banking_df = fundamental_banking_df[(fundamental_banking_df.announce_date != \"\") & (~fundamental_banking_df.announce_date.isnull())]"
      ],
      "metadata": {
        "id": "bV7_UEh2a_iY"
      },
      "execution_count": 150,
      "outputs": []
    },
    {
      "cell_type": "code",
      "source": [
        "fundamental_df = pd.concat([fundamental_oil_df, fundamental_banking_df], axis=0)"
      ],
      "metadata": {
        "id": "jg1NqfGhcrCX"
      },
      "execution_count": 151,
      "outputs": []
    },
    {
      "cell_type": "code",
      "source": [
        "oil_values = fundamental_oil_df.count(axis=0, numeric_only=True).sum()\n",
        "banking_values = fundamental_banking_df.count(axis=0, numeric_only=True).sum()\n",
        "oil_unique_companies = fundamental_oil_df.ticker.unique()\n",
        "banking_unique_companies = fundamental_banking_df.ticker.unique()\n",
        "unique_companies = list(set(oil_unique_companies) | set(banking_unique_companies))\n",
        "print(f\"unique companies: {len(unique_companies)}\")\n",
        "total_values = oil_values + banking_values\n",
        "print(f\"total values: {total_values}\")"
      ],
      "metadata": {
        "colab": {
          "base_uri": "https://localhost:8080/"
        },
        "id": "ApYqsErtEzLG",
        "outputId": "ae590472-f53d-4b40-ac4f-eda8daa37f89"
      },
      "execution_count": 169,
      "outputs": [
        {
          "output_type": "stream",
          "name": "stdout",
          "text": [
            "unique companies: 3593\n",
            "total values: 1618963\n"
          ]
        }
      ]
    },
    {
      "cell_type": "markdown",
      "source": [
        "$\\mathcal{D}^{fun}_T$ = 1,618,963.  How ever, having this many quarterly datapoints surely contains some error — lets delve deeper! "
      ],
      "metadata": {
        "id": "tvhXfRcuInvH"
      }
    },
    {
      "cell_type": "markdown",
      "source": [
        "## Now we explore and clean the data"
      ],
      "metadata": {
        "id": "FepVsTHCJ7lc"
      }
    },
    {
      "cell_type": "code",
      "source": [
        "fundamental_df"
      ],
      "metadata": {
        "colab": {
          "base_uri": "https://localhost:8080/",
          "height": 574
        },
        "id": "xS2dq9lyd0-A",
        "outputId": "27ef2904-2b79-4848-f1fe-23c02ebc0dd9"
      },
      "execution_count": 153,
      "outputs": [
        {
          "output_type": "execute_result",
          "data": {
            "text/plain": [
              "         ticker                  date period_end_date announce_date  \\\n",
              "1       OMVV.VI  2000-06-30T00:00:00Z      2000-06-30    2000-10-23   \n",
              "3       OMVV.VI  2000-12-31T00:00:00Z      2000-12-31    2001-04-30   \n",
              "4       OMVV.VI  2001-03-31T00:00:00Z      2001-03-31    2001-11-15   \n",
              "5       OMVV.VI  2001-06-30T00:00:00Z      2001-06-30    2001-11-15   \n",
              "6       OMVV.VI  2001-09-30T00:00:00Z      2001-09-30    2001-11-08   \n",
              "...         ...                   ...             ...           ...   \n",
              "143575  CRDI.MI                  None            None    2019-11-07   \n",
              "143577  CRDI.MI                  None            None    2020-05-06   \n",
              "143579  CRDI.MI                  None            None    2020-11-05   \n",
              "143581  CRDI.MI                  None            None    2021-05-06   \n",
              "143583  CRDI.MI                  None            None    2021-10-28   \n",
              "\n",
              "                 revenue      gross_profit            ebitda  \\\n",
              "1       1591395023.28372  230190745.555143  181045434.200878   \n",
              "3       1938098647.94837  372273990.672257  228378009.139304   \n",
              "4        1675754784.0278  270127135.374168  246253937.336036   \n",
              "5       1704178457.61632  261593371.574251  199438283.407691   \n",
              "6       1692966706.46458   247021992.14371  223213423.136865   \n",
              "...                  ...               ...               ...   \n",
              "143575              <NA>              <NA>              <NA>   \n",
              "143577              <NA>              <NA>              <NA>   \n",
              "143579              <NA>              <NA>              <NA>   \n",
              "143581              <NA>              <NA>              <NA>   \n",
              "143583              <NA>              <NA>              <NA>   \n",
              "\n",
              "                    ebit        net_income   fcf          total_assets  \\\n",
              "1       105530002.190288              <NA>  <NA>                  <NA>   \n",
              "3       132398360.578508              <NA>  <NA>                  <NA>   \n",
              "4       174937923.894256              <NA>  <NA>                  <NA>   \n",
              "5       139758657.318887              <NA>  <NA>                  <NA>   \n",
              "6        133206040.77615              <NA>  <NA>                  <NA>   \n",
              "...                  ...               ...   ...                   ...   \n",
              "143575              <NA>   1341476826.9806  <NA>   940549258936.355957   \n",
              "143577              <NA> -2924383456.42154  <NA>    962559832359.10498   \n",
              "143579              <NA>  800597479.412101  <NA>  1058546502771.300049   \n",
              "143581              <NA>  1076155261.38888  <NA>  1104971500949.969971   \n",
              "143583              <NA>  1258917567.36172  <NA>  1098559318108.119995   \n",
              "\n",
              "        total_current_assets      total_liabilites  total_current_liabilities  \\\n",
              "1                       <NA>                  <NA>                       <NA>   \n",
              "3                       <NA>                  <NA>                       <NA>   \n",
              "4                       <NA>                  <NA>                       <NA>   \n",
              "5                       <NA>                  <NA>                       <NA>   \n",
              "6                       <NA>                  <NA>                       <NA>   \n",
              "...                      ...                   ...                        ...   \n",
              "143575                  <NA>        874669790758.5                       <NA>   \n",
              "143577                  <NA>    895007168854.08606                       <NA>   \n",
              "143579                  <NA>   986963756313.057007                       <NA>   \n",
              "143581                  <NA>  1033313395726.319946                       <NA>   \n",
              "143583                  <NA>  1026005234631.949951                       <NA>   \n",
              "\n",
              "        long_term_debt_p_assets  short_term_debt_p_assets  \n",
              "1                          <NA>                      <NA>  \n",
              "3                          <NA>                      <NA>  \n",
              "4                          <NA>                      <NA>  \n",
              "5                          <NA>                      <NA>  \n",
              "6                          <NA>                      <NA>  \n",
              "...                         ...                       ...  \n",
              "143575                 12.85861                      <NA>  \n",
              "143577                 12.17882                      <NA>  \n",
              "143579                 12.68065                      <NA>  \n",
              "143581                 11.80282                      <NA>  \n",
              "143583                 11.62997                      <NA>  \n",
              "\n",
              "[190599 rows x 16 columns]"
            ],
            "text/html": [
              "\n",
              "  <div id=\"df-52f4fabc-6f20-4083-a335-541021adf495\">\n",
              "    <div class=\"colab-df-container\">\n",
              "      <div>\n",
              "<style scoped>\n",
              "    .dataframe tbody tr th:only-of-type {\n",
              "        vertical-align: middle;\n",
              "    }\n",
              "\n",
              "    .dataframe tbody tr th {\n",
              "        vertical-align: top;\n",
              "    }\n",
              "\n",
              "    .dataframe thead th {\n",
              "        text-align: right;\n",
              "    }\n",
              "</style>\n",
              "<table border=\"1\" class=\"dataframe\">\n",
              "  <thead>\n",
              "    <tr style=\"text-align: right;\">\n",
              "      <th></th>\n",
              "      <th>ticker</th>\n",
              "      <th>date</th>\n",
              "      <th>period_end_date</th>\n",
              "      <th>announce_date</th>\n",
              "      <th>revenue</th>\n",
              "      <th>gross_profit</th>\n",
              "      <th>ebitda</th>\n",
              "      <th>ebit</th>\n",
              "      <th>net_income</th>\n",
              "      <th>fcf</th>\n",
              "      <th>total_assets</th>\n",
              "      <th>total_current_assets</th>\n",
              "      <th>total_liabilites</th>\n",
              "      <th>total_current_liabilities</th>\n",
              "      <th>long_term_debt_p_assets</th>\n",
              "      <th>short_term_debt_p_assets</th>\n",
              "    </tr>\n",
              "  </thead>\n",
              "  <tbody>\n",
              "    <tr>\n",
              "      <th>1</th>\n",
              "      <td>OMVV.VI</td>\n",
              "      <td>2000-06-30T00:00:00Z</td>\n",
              "      <td>2000-06-30</td>\n",
              "      <td>2000-10-23</td>\n",
              "      <td>1591395023.28372</td>\n",
              "      <td>230190745.555143</td>\n",
              "      <td>181045434.200878</td>\n",
              "      <td>105530002.190288</td>\n",
              "      <td>&lt;NA&gt;</td>\n",
              "      <td>&lt;NA&gt;</td>\n",
              "      <td>&lt;NA&gt;</td>\n",
              "      <td>&lt;NA&gt;</td>\n",
              "      <td>&lt;NA&gt;</td>\n",
              "      <td>&lt;NA&gt;</td>\n",
              "      <td>&lt;NA&gt;</td>\n",
              "      <td>&lt;NA&gt;</td>\n",
              "    </tr>\n",
              "    <tr>\n",
              "      <th>3</th>\n",
              "      <td>OMVV.VI</td>\n",
              "      <td>2000-12-31T00:00:00Z</td>\n",
              "      <td>2000-12-31</td>\n",
              "      <td>2001-04-30</td>\n",
              "      <td>1938098647.94837</td>\n",
              "      <td>372273990.672257</td>\n",
              "      <td>228378009.139304</td>\n",
              "      <td>132398360.578508</td>\n",
              "      <td>&lt;NA&gt;</td>\n",
              "      <td>&lt;NA&gt;</td>\n",
              "      <td>&lt;NA&gt;</td>\n",
              "      <td>&lt;NA&gt;</td>\n",
              "      <td>&lt;NA&gt;</td>\n",
              "      <td>&lt;NA&gt;</td>\n",
              "      <td>&lt;NA&gt;</td>\n",
              "      <td>&lt;NA&gt;</td>\n",
              "    </tr>\n",
              "    <tr>\n",
              "      <th>4</th>\n",
              "      <td>OMVV.VI</td>\n",
              "      <td>2001-03-31T00:00:00Z</td>\n",
              "      <td>2001-03-31</td>\n",
              "      <td>2001-11-15</td>\n",
              "      <td>1675754784.0278</td>\n",
              "      <td>270127135.374168</td>\n",
              "      <td>246253937.336036</td>\n",
              "      <td>174937923.894256</td>\n",
              "      <td>&lt;NA&gt;</td>\n",
              "      <td>&lt;NA&gt;</td>\n",
              "      <td>&lt;NA&gt;</td>\n",
              "      <td>&lt;NA&gt;</td>\n",
              "      <td>&lt;NA&gt;</td>\n",
              "      <td>&lt;NA&gt;</td>\n",
              "      <td>&lt;NA&gt;</td>\n",
              "      <td>&lt;NA&gt;</td>\n",
              "    </tr>\n",
              "    <tr>\n",
              "      <th>5</th>\n",
              "      <td>OMVV.VI</td>\n",
              "      <td>2001-06-30T00:00:00Z</td>\n",
              "      <td>2001-06-30</td>\n",
              "      <td>2001-11-15</td>\n",
              "      <td>1704178457.61632</td>\n",
              "      <td>261593371.574251</td>\n",
              "      <td>199438283.407691</td>\n",
              "      <td>139758657.318887</td>\n",
              "      <td>&lt;NA&gt;</td>\n",
              "      <td>&lt;NA&gt;</td>\n",
              "      <td>&lt;NA&gt;</td>\n",
              "      <td>&lt;NA&gt;</td>\n",
              "      <td>&lt;NA&gt;</td>\n",
              "      <td>&lt;NA&gt;</td>\n",
              "      <td>&lt;NA&gt;</td>\n",
              "      <td>&lt;NA&gt;</td>\n",
              "    </tr>\n",
              "    <tr>\n",
              "      <th>6</th>\n",
              "      <td>OMVV.VI</td>\n",
              "      <td>2001-09-30T00:00:00Z</td>\n",
              "      <td>2001-09-30</td>\n",
              "      <td>2001-11-08</td>\n",
              "      <td>1692966706.46458</td>\n",
              "      <td>247021992.14371</td>\n",
              "      <td>223213423.136865</td>\n",
              "      <td>133206040.77615</td>\n",
              "      <td>&lt;NA&gt;</td>\n",
              "      <td>&lt;NA&gt;</td>\n",
              "      <td>&lt;NA&gt;</td>\n",
              "      <td>&lt;NA&gt;</td>\n",
              "      <td>&lt;NA&gt;</td>\n",
              "      <td>&lt;NA&gt;</td>\n",
              "      <td>&lt;NA&gt;</td>\n",
              "      <td>&lt;NA&gt;</td>\n",
              "    </tr>\n",
              "    <tr>\n",
              "      <th>...</th>\n",
              "      <td>...</td>\n",
              "      <td>...</td>\n",
              "      <td>...</td>\n",
              "      <td>...</td>\n",
              "      <td>...</td>\n",
              "      <td>...</td>\n",
              "      <td>...</td>\n",
              "      <td>...</td>\n",
              "      <td>...</td>\n",
              "      <td>...</td>\n",
              "      <td>...</td>\n",
              "      <td>...</td>\n",
              "      <td>...</td>\n",
              "      <td>...</td>\n",
              "      <td>...</td>\n",
              "      <td>...</td>\n",
              "    </tr>\n",
              "    <tr>\n",
              "      <th>143575</th>\n",
              "      <td>CRDI.MI</td>\n",
              "      <td>None</td>\n",
              "      <td>None</td>\n",
              "      <td>2019-11-07</td>\n",
              "      <td>&lt;NA&gt;</td>\n",
              "      <td>&lt;NA&gt;</td>\n",
              "      <td>&lt;NA&gt;</td>\n",
              "      <td>&lt;NA&gt;</td>\n",
              "      <td>1341476826.9806</td>\n",
              "      <td>&lt;NA&gt;</td>\n",
              "      <td>940549258936.355957</td>\n",
              "      <td>&lt;NA&gt;</td>\n",
              "      <td>874669790758.5</td>\n",
              "      <td>&lt;NA&gt;</td>\n",
              "      <td>12.85861</td>\n",
              "      <td>&lt;NA&gt;</td>\n",
              "    </tr>\n",
              "    <tr>\n",
              "      <th>143577</th>\n",
              "      <td>CRDI.MI</td>\n",
              "      <td>None</td>\n",
              "      <td>None</td>\n",
              "      <td>2020-05-06</td>\n",
              "      <td>&lt;NA&gt;</td>\n",
              "      <td>&lt;NA&gt;</td>\n",
              "      <td>&lt;NA&gt;</td>\n",
              "      <td>&lt;NA&gt;</td>\n",
              "      <td>-2924383456.42154</td>\n",
              "      <td>&lt;NA&gt;</td>\n",
              "      <td>962559832359.10498</td>\n",
              "      <td>&lt;NA&gt;</td>\n",
              "      <td>895007168854.08606</td>\n",
              "      <td>&lt;NA&gt;</td>\n",
              "      <td>12.17882</td>\n",
              "      <td>&lt;NA&gt;</td>\n",
              "    </tr>\n",
              "    <tr>\n",
              "      <th>143579</th>\n",
              "      <td>CRDI.MI</td>\n",
              "      <td>None</td>\n",
              "      <td>None</td>\n",
              "      <td>2020-11-05</td>\n",
              "      <td>&lt;NA&gt;</td>\n",
              "      <td>&lt;NA&gt;</td>\n",
              "      <td>&lt;NA&gt;</td>\n",
              "      <td>&lt;NA&gt;</td>\n",
              "      <td>800597479.412101</td>\n",
              "      <td>&lt;NA&gt;</td>\n",
              "      <td>1058546502771.300049</td>\n",
              "      <td>&lt;NA&gt;</td>\n",
              "      <td>986963756313.057007</td>\n",
              "      <td>&lt;NA&gt;</td>\n",
              "      <td>12.68065</td>\n",
              "      <td>&lt;NA&gt;</td>\n",
              "    </tr>\n",
              "    <tr>\n",
              "      <th>143581</th>\n",
              "      <td>CRDI.MI</td>\n",
              "      <td>None</td>\n",
              "      <td>None</td>\n",
              "      <td>2021-05-06</td>\n",
              "      <td>&lt;NA&gt;</td>\n",
              "      <td>&lt;NA&gt;</td>\n",
              "      <td>&lt;NA&gt;</td>\n",
              "      <td>&lt;NA&gt;</td>\n",
              "      <td>1076155261.38888</td>\n",
              "      <td>&lt;NA&gt;</td>\n",
              "      <td>1104971500949.969971</td>\n",
              "      <td>&lt;NA&gt;</td>\n",
              "      <td>1033313395726.319946</td>\n",
              "      <td>&lt;NA&gt;</td>\n",
              "      <td>11.80282</td>\n",
              "      <td>&lt;NA&gt;</td>\n",
              "    </tr>\n",
              "    <tr>\n",
              "      <th>143583</th>\n",
              "      <td>CRDI.MI</td>\n",
              "      <td>None</td>\n",
              "      <td>None</td>\n",
              "      <td>2021-10-28</td>\n",
              "      <td>&lt;NA&gt;</td>\n",
              "      <td>&lt;NA&gt;</td>\n",
              "      <td>&lt;NA&gt;</td>\n",
              "      <td>&lt;NA&gt;</td>\n",
              "      <td>1258917567.36172</td>\n",
              "      <td>&lt;NA&gt;</td>\n",
              "      <td>1098559318108.119995</td>\n",
              "      <td>&lt;NA&gt;</td>\n",
              "      <td>1026005234631.949951</td>\n",
              "      <td>&lt;NA&gt;</td>\n",
              "      <td>11.62997</td>\n",
              "      <td>&lt;NA&gt;</td>\n",
              "    </tr>\n",
              "  </tbody>\n",
              "</table>\n",
              "<p>190599 rows × 16 columns</p>\n",
              "</div>\n",
              "      <button class=\"colab-df-convert\" onclick=\"convertToInteractive('df-52f4fabc-6f20-4083-a335-541021adf495')\"\n",
              "              title=\"Convert this dataframe to an interactive table.\"\n",
              "              style=\"display:none;\">\n",
              "        \n",
              "  <svg xmlns=\"http://www.w3.org/2000/svg\" height=\"24px\"viewBox=\"0 0 24 24\"\n",
              "       width=\"24px\">\n",
              "    <path d=\"M0 0h24v24H0V0z\" fill=\"none\"/>\n",
              "    <path d=\"M18.56 5.44l.94 2.06.94-2.06 2.06-.94-2.06-.94-.94-2.06-.94 2.06-2.06.94zm-11 1L8.5 8.5l.94-2.06 2.06-.94-2.06-.94L8.5 2.5l-.94 2.06-2.06.94zm10 10l.94 2.06.94-2.06 2.06-.94-2.06-.94-.94-2.06-.94 2.06-2.06.94z\"/><path d=\"M17.41 7.96l-1.37-1.37c-.4-.4-.92-.59-1.43-.59-.52 0-1.04.2-1.43.59L10.3 9.45l-7.72 7.72c-.78.78-.78 2.05 0 2.83L4 21.41c.39.39.9.59 1.41.59.51 0 1.02-.2 1.41-.59l7.78-7.78 2.81-2.81c.8-.78.8-2.07 0-2.86zM5.41 20L4 18.59l7.72-7.72 1.47 1.35L5.41 20z\"/>\n",
              "  </svg>\n",
              "      </button>\n",
              "      \n",
              "  <style>\n",
              "    .colab-df-container {\n",
              "      display:flex;\n",
              "      flex-wrap:wrap;\n",
              "      gap: 12px;\n",
              "    }\n",
              "\n",
              "    .colab-df-convert {\n",
              "      background-color: #E8F0FE;\n",
              "      border: none;\n",
              "      border-radius: 50%;\n",
              "      cursor: pointer;\n",
              "      display: none;\n",
              "      fill: #1967D2;\n",
              "      height: 32px;\n",
              "      padding: 0 0 0 0;\n",
              "      width: 32px;\n",
              "    }\n",
              "\n",
              "    .colab-df-convert:hover {\n",
              "      background-color: #E2EBFA;\n",
              "      box-shadow: 0px 1px 2px rgba(60, 64, 67, 0.3), 0px 1px 3px 1px rgba(60, 64, 67, 0.15);\n",
              "      fill: #174EA6;\n",
              "    }\n",
              "\n",
              "    [theme=dark] .colab-df-convert {\n",
              "      background-color: #3B4455;\n",
              "      fill: #D2E3FC;\n",
              "    }\n",
              "\n",
              "    [theme=dark] .colab-df-convert:hover {\n",
              "      background-color: #434B5C;\n",
              "      box-shadow: 0px 1px 3px 1px rgba(0, 0, 0, 0.15);\n",
              "      filter: drop-shadow(0px 1px 2px rgba(0, 0, 0, 0.3));\n",
              "      fill: #FFFFFF;\n",
              "    }\n",
              "  </style>\n",
              "\n",
              "      <script>\n",
              "        const buttonEl =\n",
              "          document.querySelector('#df-52f4fabc-6f20-4083-a335-541021adf495 button.colab-df-convert');\n",
              "        buttonEl.style.display =\n",
              "          google.colab.kernel.accessAllowed ? 'block' : 'none';\n",
              "\n",
              "        async function convertToInteractive(key) {\n",
              "          const element = document.querySelector('#df-52f4fabc-6f20-4083-a335-541021adf495');\n",
              "          const dataTable =\n",
              "            await google.colab.kernel.invokeFunction('convertToInteractive',\n",
              "                                                     [key], {});\n",
              "          if (!dataTable) return;\n",
              "\n",
              "          const docLinkHtml = 'Like what you see? Visit the ' +\n",
              "            '<a target=\"_blank\" href=https://colab.research.google.com/notebooks/data_table.ipynb>data table notebook</a>'\n",
              "            + ' to learn more about interactive tables.';\n",
              "          element.innerHTML = '';\n",
              "          dataTable['output_type'] = 'display_data';\n",
              "          await google.colab.output.renderOutput(dataTable, element);\n",
              "          const docLink = document.createElement('div');\n",
              "          docLink.innerHTML = docLinkHtml;\n",
              "          element.appendChild(docLink);\n",
              "        }\n",
              "      </script>\n",
              "    </div>\n",
              "  </div>\n",
              "  "
            ]
          },
          "metadata": {},
          "execution_count": 153
        }
      ]
    },
    {
      "cell_type": "code",
      "source": [
        "#create margin coloumns \n",
        "for col in fundamental_df.columns[5:10]:\n",
        "\n",
        "    fundamental_df[f\"{col}_p_revenue\"] = fundamental_df[col] / fundamental_df.revenue\n",
        "fundamental_df = fundamental_df.replace([np.inf, -np.inf], np.nan)"
      ],
      "metadata": {
        "id": "cKRl7QJwEHGe"
      },
      "execution_count": 154,
      "outputs": []
    },
    {
      "cell_type": "code",
      "source": [
        "plt.xlim(-50,50)\n",
        "plt.hist(fundamental_df[\"ebitda_p_revenue\"].dropna().values.flatten(), bins=30_000);"
      ],
      "metadata": {
        "colab": {
          "base_uri": "https://localhost:8080/",
          "height": 268
        },
        "id": "_WYKgh8-GK2c",
        "outputId": "dd56b967-992d-4f90-a134-f83a6de7c649"
      },
      "execution_count": 156,
      "outputs": [
        {
          "output_type": "display_data",
          "data": {
            "text/plain": [
              "<Figure size 432x288 with 1 Axes>"
            ],
            "image/png": "[encoded data removed]"
          },
          "metadata": {
            "needs_background": "light"
          }
        }
      ]
    },
    {
      "cell_type": "markdown",
      "source": [
        " ## Remove companies with weird data"
      ],
      "metadata": {
        "id": "weazRsA47XLE"
      }
    },
    {
      "cell_type": "markdown",
      "source": [
        "Loop to explore where data is lost"
      ],
      "metadata": {
        "id": "iKnXrpS07bls"
      }
    },
    {
      "cell_type": "code",
      "source": [
        "lost_companies_to_values_left = {}\n",
        "ebitda_restriction_to_values_left = {}\n",
        "\n",
        "for num in tqdm(np.linspace(100,0,1000)):\n",
        "    weird_positive_df = fundamental_df[fundamental_df.ebitda_p_revenue >= num]\n",
        "    weird_negative_df = fundamental_df[fundamental_df.ebitda_p_revenue <= -num -0.5]\n",
        "    \n",
        "        \n",
        "    lost_companies = set(weird_positive_df[\"ticker\"].unique()) | set(weird_positive_df[\"ticker\"].unique())\n",
        "\n",
        "    lost_companies_count = len(lost_companies)\n",
        "\n",
        "    values_left = total_values - fundamental_df[fundamental_df[\"ticker\"].isin(list(lost_companies))].count(axis=0, numeric_only=True).sum()\n",
        "\n",
        "    lost_companies_to_values_left[lost_companies_count] =  values_left\n",
        "    ebitda_restriction_to_values_left[num] = values_left\n",
        "\n"
      ],
      "metadata": {
        "colab": {
          "base_uri": "https://localhost:8080/"
        },
        "id": "eqMD6PnAO_Ci",
        "outputId": "2e41f7e9-41b4-4344-8b9b-c395df5d60c8"
      },
      "execution_count": 157,
      "outputs": [
        {
          "output_type": "stream",
          "name": "stderr",
          "text": [
            "100%|██████████| 1000/1000 [00:48<00:00, 20.48it/s]\n"
          ]
        }
      ]
    },
    {
      "cell_type": "markdown",
      "source": [
        " Visualise data"
      ],
      "metadata": {
        "id": "UeLlEz-G7h2j"
      }
    },
    {
      "cell_type": "code",
      "source": [
        "\n",
        "xs = []\n",
        "ys = []\n",
        "for key in lost_companies_to_values_left:\n",
        "    xs += [key]\n",
        "    ys += [lost_companies_to_values_left[key]]"
      ],
      "metadata": {
        "id": "rtQ9HTrotGc_"
      },
      "execution_count": 170,
      "outputs": []
    },
    {
      "cell_type": "code",
      "source": [
        "plt.plot(xs,ys);"
      ],
      "metadata": {
        "colab": {
          "base_uri": "https://localhost:8080/",
          "height": 276
        },
        "id": "BR3AWnyRxnKA",
        "outputId": "45172e44-a2fa-4382-8fde-028b27809773"
      },
      "execution_count": 171,
      "outputs": [
        {
          "output_type": "display_data",
          "data": {
            "text/plain": [
              "<Figure size 432x288 with 1 Axes>"
            ],
            "image/png": "[encoded data removed]"
          },
          "metadata": {
            "needs_background": "light"
          }
        }
      ]
    },
    {
      "cell_type": "code",
      "source": [
        "xs1 = []\n",
        "ys1 = []\n",
        "for key in ebitda_restriction_to_values_left:\n",
        "    xs1 += [key]\n",
        "    ys1 += [ebitda_restriction_to_values_left[key]]"
      ],
      "metadata": {
        "id": "Wlq0l1i0xppG"
      },
      "execution_count": 172,
      "outputs": []
    },
    {
      "cell_type": "code",
      "source": [
        "plt.ylim(-1,1_800_000)\n",
        "plt.ylabel(\"Datapoints left\")\n",
        "plt.xlabel(\"+- EBITDA/REV limit\")\n",
        "plt.plot(xs1,ys1);"
      ],
      "metadata": {
        "colab": {
          "base_uri": "https://localhost:8080/",
          "height": 290
        },
        "id": "CRySu01NzoMO",
        "outputId": "20f8d7c6-4401-4324-e94e-14c7ccf28b3d"
      },
      "execution_count": 174,
      "outputs": [
        {
          "output_type": "display_data",
          "data": {
            "text/plain": [
              "<Figure size 432x288 with 1 Axes>"
            ],
            "image/png": "[encoded data removed]"
          },
          "metadata": {
            "needs_background": "light"
          }
        }
      ]
    },
    {
      "cell_type": "markdown",
      "source": [
        "Select a specific EBITDAp space and all companies with EBITDAp in that space"
      ],
      "metadata": {
        "id": "Tbh6ii4u7lXU"
      }
    },
    {
      "cell_type": "code",
      "source": [
        "weird_positive_df = fundamental_df[fundamental_df.ebitda_p_revenue >= 1]\n",
        "weird_negative_df = fundamental_df[fundamental_df.ebitda_p_revenue <= -5]\n",
        "\n",
        "    \n",
        "lost_companies = set(weird_positive_df[\"ticker\"].unique()) | set(weird_positive_df[\"ticker\"].unique())\n",
        "\n",
        "lost_companies_count = len(lost_companies)\n",
        "\n",
        "values_left = total_values - fundamental_df[fundamental_df[\"ticker\"].isin(list(lost_companies))].count(axis=0, numeric_only=True).sum()\n",
        "\n",
        "\n",
        "\n",
        "print(f\"unique companies left: {len(unique_companies) - lost_companies_count}\")\n",
        "print(f\"values left: {values_left}\")"
      ],
      "metadata": {
        "colab": {
          "base_uri": "https://localhost:8080/"
        },
        "id": "Y9OGjb_K1ebt",
        "outputId": "7851084e-7488-4eb2-cfd7-4f7dc64e9517"
      },
      "execution_count": 178,
      "outputs": [
        {
          "output_type": "stream",
          "name": "stdout",
          "text": [
            "unique companies left: 3179\n",
            "values left: 1403161\n"
          ]
        }
      ]
    },
    {
      "cell_type": "markdown",
      "source": [
        ""
      ],
      "metadata": {
        "id": "iHYb2sRYylAW"
      }
    },
    {
      "cell_type": "code",
      "source": [
        "#get only valid companies (non bogus ebitdas)\n",
        "cleaned_df = fundamental_df[fundamental_df[\"ticker\"].isin(set(fundamental_df[\"ticker\"].unique()) -  lost_companies)]"
      ],
      "metadata": {
        "id": "b6OKOuYHzqil"
      },
      "execution_count": 182,
      "outputs": []
    },
    {
      "cell_type": "markdown",
      "source": [
        "# Add data with forward fill\n",
        "\n"
      ],
      "metadata": {
        "id": "nocngUFCAlEZ"
      }
    },
    {
      "cell_type": "code",
      "source": [
        "from matplotlib import axis\n",
        "forward_filled_df = pd.DataFrame(columns=cleaned_df.columns) \n",
        "\n",
        "for ric in tqdm(cleaned_df[\"ticker\"].unique()):\n",
        "    forward_filled_df = pd.concat( [forward_filled_df, cleaned_df[cleaned_df[\"ticker\"] == ric].ffill(axis = 0)], axis=0)"
      ],
      "metadata": {
        "colab": {
          "base_uri": "https://localhost:8080/"
        },
        "id": "5BK4fYbiAsIo",
        "outputId": "0caf5447-fb33-4992-e9f4-17d5c8864f16"
      },
      "execution_count": 183,
      "outputs": [
        {
          "output_type": "stream",
          "name": "stderr",
          "text": [
            "100%|██████████| 3179/3179 [02:49<00:00, 18.78it/s]\n"
          ]
        }
      ]
    },
    {
      "cell_type": "code",
      "source": [
        "forward_filled_df"
      ],
      "metadata": {
        "id": "5L5Mau7XBIWw",
        "outputId": "6b58d37f-9bb4-4550-c82d-27c08944da0b",
        "colab": {
          "base_uri": "https://localhost:8080/",
          "height": 1128
        }
      },
      "execution_count": 184,
      "outputs": [
        {
          "output_type": "execute_result",
          "data": {
            "text/plain": [
              "          ticker                  date period_end_date announce_date  \\\n",
              "1        OMVV.VI  2000-06-30T00:00:00Z      2000-06-30    2000-10-23   \n",
              "3        OMVV.VI  2000-12-31T00:00:00Z      2000-12-31    2001-04-30   \n",
              "4        OMVV.VI  2001-03-31T00:00:00Z      2001-03-31    2001-11-15   \n",
              "5        OMVV.VI  2001-06-30T00:00:00Z      2001-06-30    2001-11-15   \n",
              "6        OMVV.VI  2001-09-30T00:00:00Z      2001-09-30    2001-11-08   \n",
              "...          ...                   ...             ...           ...   \n",
              "127032  QNBFL.IS  2020-12-31T00:00:00Z      2020-12-31    2021-01-27   \n",
              "127033  QNBFL.IS  2021-03-31T00:00:00Z      2021-03-31    2021-04-27   \n",
              "127034  QNBFL.IS  2021-06-30T00:00:00Z      2021-06-30    2021-07-28   \n",
              "127035  QNBFL.IS  2021-09-30T00:00:00Z      2021-09-30    2021-10-26   \n",
              "127036  QNBFL.IS  2021-12-31T00:00:00Z      2021-12-31    2022-02-01   \n",
              "\n",
              "                 revenue      gross_profit            ebitda  \\\n",
              "1       1591395023.28372  230190745.555143  181045434.200878   \n",
              "3       1938098647.94837  372273990.672257  228378009.139304   \n",
              "4        1675754784.0278  270127135.374168  246253937.336036   \n",
              "5       1704178457.61632  261593371.574251  199438283.407691   \n",
              "6       1692966706.46458   247021992.14371  223213423.136865   \n",
              "...                  ...               ...               ...   \n",
              "127032    22561625.40366   23938961.038961   19901776.103337   \n",
              "127033   22040660.367059   23938961.038961   19429517.582697   \n",
              "127034   22471477.647437   23938961.038961   19866148.879212   \n",
              "127035   23414395.354595   23938961.038961   20764106.142108   \n",
              "127036   20297384.369297   23938961.038961   18528097.566104   \n",
              "\n",
              "                    ebit      net_income              fcf  ...  \\\n",
              "1       105530002.190288            <NA>             <NA>  ...   \n",
              "3       132398360.578508            <NA>             <NA>  ...   \n",
              "4       174937923.894256            <NA>             <NA>  ...   \n",
              "5       139758657.318887            <NA>             <NA>  ...   \n",
              "6        133206040.77615            <NA>             <NA>  ...   \n",
              "...                  ...             ...              ...  ...   \n",
              "127032   19684876.210979   4358783.68047 -55370641.251227  ...   \n",
              "127033   19229733.499921  5300725.873309   2229011.378327  ...   \n",
              "127034   19660604.110895  5087399.819672 -19495675.682312  ...   \n",
              "127035   20558956.584367  5429177.975195 -11886504.625681  ...   \n",
              "127036   18373322.519356  6798117.716261 -19144963.345648  ...   \n",
              "\n",
              "        total_current_assets  total_liabilites  total_current_liabilities  \\\n",
              "1                       <NA>              <NA>                       <NA>   \n",
              "3                       <NA>              <NA>                       <NA>   \n",
              "4                       <NA>              <NA>                       <NA>   \n",
              "5                       <NA>              <NA>                       <NA>   \n",
              "6                       <NA>              <NA>                       <NA>   \n",
              "...                      ...               ...                        ...   \n",
              "127032      976299863.343528  914465419.806243                        0.0   \n",
              "127033      976299863.343528   883333373.76727                        0.0   \n",
              "127034      976299863.343528  890567919.390604                        0.0   \n",
              "127035      976299863.343528  956602934.887804                        0.0   \n",
              "127036      976299863.343528  875527969.901097                        0.0   \n",
              "\n",
              "        long_term_debt_p_assets  short_term_debt_p_assets  \\\n",
              "1                          <NA>                      <NA>   \n",
              "3                          <NA>                      <NA>   \n",
              "4                          <NA>                      <NA>   \n",
              "5                          <NA>                      <NA>   \n",
              "6                          <NA>                      <NA>   \n",
              "...                         ...                       ...   \n",
              "127032                 79.43442                  16.24148   \n",
              "127033                 78.55885                  16.24148   \n",
              "127034                 46.78473                  23.34352   \n",
              "127035                 57.43615                   17.6007   \n",
              "127036                 48.95672                  14.50307   \n",
              "\n",
              "        gross_profit_p_revenue ebitda_p_revenue ebit_p_revenue  \\\n",
              "1                     0.144647         0.113765       0.066313   \n",
              "3                     0.192082         0.117836       0.068314   \n",
              "4                     0.161197         0.146951       0.104394   \n",
              "5                     0.153501         0.117029       0.082009   \n",
              "6                     0.145911         0.131847       0.078682   \n",
              "...                        ...              ...            ...   \n",
              "127032                     1.0         0.882107       0.872494   \n",
              "127033                     1.0         0.881531       0.872466   \n",
              "127034                     1.0         0.884061       0.874914   \n",
              "127035                     1.0         0.886809       0.878048   \n",
              "127036                     1.0         0.912832       0.905206   \n",
              "\n",
              "       net_income_p_revenue fcf_p_revenue  \n",
              "1                       NaN           NaN  \n",
              "3                       NaN           NaN  \n",
              "4                       NaN           NaN  \n",
              "5                       NaN           NaN  \n",
              "6                       NaN           NaN  \n",
              "...                     ...           ...  \n",
              "127032             0.193195     -2.454196  \n",
              "127033             0.240498      0.101132  \n",
              "127034             0.226394     -0.867574  \n",
              "127035             0.231874     -0.507658  \n",
              "127036             0.334926     -0.943223  \n",
              "\n",
              "[168863 rows x 21 columns]"
            ],
            "text/html": [
              "\n",
              "  <div id=\"df-379ae7af-9a98-46d2-98fa-bd08b8fb0f56\">\n",
              "    <div class=\"colab-df-container\">\n",
              "      <div>\n",
              "<style scoped>\n",
              "    .dataframe tbody tr th:only-of-type {\n",
              "        vertical-align: middle;\n",
              "    }\n",
              "\n",
              "    .dataframe tbody tr th {\n",
              "        vertical-align: top;\n",
              "    }\n",
              "\n",
              "    .dataframe thead th {\n",
              "        text-align: right;\n",
              "    }\n",
              "</style>\n",
              "<table border=\"1\" class=\"dataframe\">\n",
              "  <thead>\n",
              "    <tr style=\"text-align: right;\">\n",
              "      <th></th>\n",
              "      <th>ticker</th>\n",
              "      <th>date</th>\n",
              "      <th>period_end_date</th>\n",
              "      <th>announce_date</th>\n",
              "      <th>revenue</th>\n",
              "      <th>gross_profit</th>\n",
              "      <th>ebitda</th>\n",
              "      <th>ebit</th>\n",
              "      <th>net_income</th>\n",
              "      <th>fcf</th>\n",
              "      <th>...</th>\n",
              "      <th>total_current_assets</th>\n",
              "      <th>total_liabilites</th>\n",
              "      <th>total_current_liabilities</th>\n",
              "      <th>long_term_debt_p_assets</th>\n",
              "      <th>short_term_debt_p_assets</th>\n",
              "      <th>gross_profit_p_revenue</th>\n",
              "      <th>ebitda_p_revenue</th>\n",
              "      <th>ebit_p_revenue</th>\n",
              "      <th>net_income_p_revenue</th>\n",
              "      <th>fcf_p_revenue</th>\n",
              "    </tr>\n",
              "  </thead>\n",
              "  <tbody>\n",
              "    <tr>\n",
              "      <th>1</th>\n",
              "      <td>OMVV.VI</td>\n",
              "      <td>2000-06-30T00:00:00Z</td>\n",
              "      <td>2000-06-30</td>\n",
              "      <td>2000-10-23</td>\n",
              "      <td>1591395023.28372</td>\n",
              "      <td>230190745.555143</td>\n",
              "      <td>181045434.200878</td>\n",
              "      <td>105530002.190288</td>\n",
              "      <td>&lt;NA&gt;</td>\n",
              "      <td>&lt;NA&gt;</td>\n",
              "      <td>...</td>\n",
              "      <td>&lt;NA&gt;</td>\n",
              "      <td>&lt;NA&gt;</td>\n",
              "      <td>&lt;NA&gt;</td>\n",
              "      <td>&lt;NA&gt;</td>\n",
              "      <td>&lt;NA&gt;</td>\n",
              "      <td>0.144647</td>\n",
              "      <td>0.113765</td>\n",
              "      <td>0.066313</td>\n",
              "      <td>NaN</td>\n",
              "      <td>NaN</td>\n",
              "    </tr>\n",
              "    <tr>\n",
              "      <th>3</th>\n",
              "      <td>OMVV.VI</td>\n",
              "      <td>2000-12-31T00:00:00Z</td>\n",
              "      <td>2000-12-31</td>\n",
              "      <td>2001-04-30</td>\n",
              "      <td>1938098647.94837</td>\n",
              "      <td>372273990.672257</td>\n",
              "      <td>228378009.139304</td>\n",
              "      <td>132398360.578508</td>\n",
              "      <td>&lt;NA&gt;</td>\n",
              "      <td>&lt;NA&gt;</td>\n",
              "      <td>...</td>\n",
              "      <td>&lt;NA&gt;</td>\n",
              "      <td>&lt;NA&gt;</td>\n",
              "      <td>&lt;NA&gt;</td>\n",
              "      <td>&lt;NA&gt;</td>\n",
              "      <td>&lt;NA&gt;</td>\n",
              "      <td>0.192082</td>\n",
              "      <td>0.117836</td>\n",
              "      <td>0.068314</td>\n",
              "      <td>NaN</td>\n",
              "      <td>NaN</td>\n",
              "    </tr>\n",
              "    <tr>\n",
              "      <th>4</th>\n",
              "      <td>OMVV.VI</td>\n",
              "      <td>2001-03-31T00:00:00Z</td>\n",
              "      <td>2001-03-31</td>\n",
              "      <td>2001-11-15</td>\n",
              "      <td>1675754784.0278</td>\n",
              "      <td>270127135.374168</td>\n",
              "      <td>246253937.336036</td>\n",
              "      <td>174937923.894256</td>\n",
              "      <td>&lt;NA&gt;</td>\n",
              "      <td>&lt;NA&gt;</td>\n",
              "      <td>...</td>\n",
              "      <td>&lt;NA&gt;</td>\n",
              "      <td>&lt;NA&gt;</td>\n",
              "      <td>&lt;NA&gt;</td>\n",
              "      <td>&lt;NA&gt;</td>\n",
              "      <td>&lt;NA&gt;</td>\n",
              "      <td>0.161197</td>\n",
              "      <td>0.146951</td>\n",
              "      <td>0.104394</td>\n",
              "      <td>NaN</td>\n",
              "      <td>NaN</td>\n",
              "    </tr>\n",
              "    <tr>\n",
              "      <th>5</th>\n",
              "      <td>OMVV.VI</td>\n",
              "      <td>2001-06-30T00:00:00Z</td>\n",
              "      <td>2001-06-30</td>\n",
              "      <td>2001-11-15</td>\n",
              "      <td>1704178457.61632</td>\n",
              "      <td>261593371.574251</td>\n",
              "      <td>199438283.407691</td>\n",
              "      <td>139758657.318887</td>\n",
              "      <td>&lt;NA&gt;</td>\n",
              "      <td>&lt;NA&gt;</td>\n",
              "      <td>...</td>\n",
              "      <td>&lt;NA&gt;</td>\n",
              "      <td>&lt;NA&gt;</td>\n",
              "      <td>&lt;NA&gt;</td>\n",
              "      <td>&lt;NA&gt;</td>\n",
              "      <td>&lt;NA&gt;</td>\n",
              "      <td>0.153501</td>\n",
              "      <td>0.117029</td>\n",
              "      <td>0.082009</td>\n",
              "      <td>NaN</td>\n",
              "      <td>NaN</td>\n",
              "    </tr>\n",
              "    <tr>\n",
              "      <th>6</th>\n",
              "      <td>OMVV.VI</td>\n",
              "      <td>2001-09-30T00:00:00Z</td>\n",
              "      <td>2001-09-30</td>\n",
              "      <td>2001-11-08</td>\n",
              "      <td>1692966706.46458</td>\n",
              "      <td>247021992.14371</td>\n",
              "      <td>223213423.136865</td>\n",
              "      <td>133206040.77615</td>\n",
              "      <td>&lt;NA&gt;</td>\n",
              "      <td>&lt;NA&gt;</td>\n",
              "      <td>...</td>\n",
              "      <td>&lt;NA&gt;</td>\n",
              "      <td>&lt;NA&gt;</td>\n",
              "      <td>&lt;NA&gt;</td>\n",
              "      <td>&lt;NA&gt;</td>\n",
              "      <td>&lt;NA&gt;</td>\n",
              "      <td>0.145911</td>\n",
              "      <td>0.131847</td>\n",
              "      <td>0.078682</td>\n",
              "      <td>NaN</td>\n",
              "      <td>NaN</td>\n",
              "    </tr>\n",
              "    <tr>\n",
              "      <th>...</th>\n",
              "      <td>...</td>\n",
              "      <td>...</td>\n",
              "      <td>...</td>\n",
              "      <td>...</td>\n",
              "      <td>...</td>\n",
              "      <td>...</td>\n",
              "      <td>...</td>\n",
              "      <td>...</td>\n",
              "      <td>...</td>\n",
              "      <td>...</td>\n",
              "      <td>...</td>\n",
              "      <td>...</td>\n",
              "      <td>...</td>\n",
              "      <td>...</td>\n",
              "      <td>...</td>\n",
              "      <td>...</td>\n",
              "      <td>...</td>\n",
              "      <td>...</td>\n",
              "      <td>...</td>\n",
              "      <td>...</td>\n",
              "      <td>...</td>\n",
              "    </tr>\n",
              "    <tr>\n",
              "      <th>127032</th>\n",
              "      <td>QNBFL.IS</td>\n",
              "      <td>2020-12-31T00:00:00Z</td>\n",
              "      <td>2020-12-31</td>\n",
              "      <td>2021-01-27</td>\n",
              "      <td>22561625.40366</td>\n",
              "      <td>23938961.038961</td>\n",
              "      <td>19901776.103337</td>\n",
              "      <td>19684876.210979</td>\n",
              "      <td>4358783.68047</td>\n",
              "      <td>-55370641.251227</td>\n",
              "      <td>...</td>\n",
              "      <td>976299863.343528</td>\n",
              "      <td>914465419.806243</td>\n",
              "      <td>0.0</td>\n",
              "      <td>79.43442</td>\n",
              "      <td>16.24148</td>\n",
              "      <td>1.0</td>\n",
              "      <td>0.882107</td>\n",
              "      <td>0.872494</td>\n",
              "      <td>0.193195</td>\n",
              "      <td>-2.454196</td>\n",
              "    </tr>\n",
              "    <tr>\n",
              "      <th>127033</th>\n",
              "      <td>QNBFL.IS</td>\n",
              "      <td>2021-03-31T00:00:00Z</td>\n",
              "      <td>2021-03-31</td>\n",
              "      <td>2021-04-27</td>\n",
              "      <td>22040660.367059</td>\n",
              "      <td>23938961.038961</td>\n",
              "      <td>19429517.582697</td>\n",
              "      <td>19229733.499921</td>\n",
              "      <td>5300725.873309</td>\n",
              "      <td>2229011.378327</td>\n",
              "      <td>...</td>\n",
              "      <td>976299863.343528</td>\n",
              "      <td>883333373.76727</td>\n",
              "      <td>0.0</td>\n",
              "      <td>78.55885</td>\n",
              "      <td>16.24148</td>\n",
              "      <td>1.0</td>\n",
              "      <td>0.881531</td>\n",
              "      <td>0.872466</td>\n",
              "      <td>0.240498</td>\n",
              "      <td>0.101132</td>\n",
              "    </tr>\n",
              "    <tr>\n",
              "      <th>127034</th>\n",
              "      <td>QNBFL.IS</td>\n",
              "      <td>2021-06-30T00:00:00Z</td>\n",
              "      <td>2021-06-30</td>\n",
              "      <td>2021-07-28</td>\n",
              "      <td>22471477.647437</td>\n",
              "      <td>23938961.038961</td>\n",
              "      <td>19866148.879212</td>\n",
              "      <td>19660604.110895</td>\n",
              "      <td>5087399.819672</td>\n",
              "      <td>-19495675.682312</td>\n",
              "      <td>...</td>\n",
              "      <td>976299863.343528</td>\n",
              "      <td>890567919.390604</td>\n",
              "      <td>0.0</td>\n",
              "      <td>46.78473</td>\n",
              "      <td>23.34352</td>\n",
              "      <td>1.0</td>\n",
              "      <td>0.884061</td>\n",
              "      <td>0.874914</td>\n",
              "      <td>0.226394</td>\n",
              "      <td>-0.867574</td>\n",
              "    </tr>\n",
              "    <tr>\n",
              "      <th>127035</th>\n",
              "      <td>QNBFL.IS</td>\n",
              "      <td>2021-09-30T00:00:00Z</td>\n",
              "      <td>2021-09-30</td>\n",
              "      <td>2021-10-26</td>\n",
              "      <td>23414395.354595</td>\n",
              "      <td>23938961.038961</td>\n",
              "      <td>20764106.142108</td>\n",
              "      <td>20558956.584367</td>\n",
              "      <td>5429177.975195</td>\n",
              "      <td>-11886504.625681</td>\n",
              "      <td>...</td>\n",
              "      <td>976299863.343528</td>\n",
              "      <td>956602934.887804</td>\n",
              "      <td>0.0</td>\n",
              "      <td>57.43615</td>\n",
              "      <td>17.6007</td>\n",
              "      <td>1.0</td>\n",
              "      <td>0.886809</td>\n",
              "      <td>0.878048</td>\n",
              "      <td>0.231874</td>\n",
              "      <td>-0.507658</td>\n",
              "    </tr>\n",
              "    <tr>\n",
              "      <th>127036</th>\n",
              "      <td>QNBFL.IS</td>\n",
              "      <td>2021-12-31T00:00:00Z</td>\n",
              "      <td>2021-12-31</td>\n",
              "      <td>2022-02-01</td>\n",
              "      <td>20297384.369297</td>\n",
              "      <td>23938961.038961</td>\n",
              "      <td>18528097.566104</td>\n",
              "      <td>18373322.519356</td>\n",
              "      <td>6798117.716261</td>\n",
              "      <td>-19144963.345648</td>\n",
              "      <td>...</td>\n",
              "      <td>976299863.343528</td>\n",
              "      <td>875527969.901097</td>\n",
              "      <td>0.0</td>\n",
              "      <td>48.95672</td>\n",
              "      <td>14.50307</td>\n",
              "      <td>1.0</td>\n",
              "      <td>0.912832</td>\n",
              "      <td>0.905206</td>\n",
              "      <td>0.334926</td>\n",
              "      <td>-0.943223</td>\n",
              "    </tr>\n",
              "  </tbody>\n",
              "</table>\n",
              "<p>168863 rows × 21 columns</p>\n",
              "</div>\n",
              "      <button class=\"colab-df-convert\" onclick=\"convertToInteractive('df-379ae7af-9a98-46d2-98fa-bd08b8fb0f56')\"\n",
              "              title=\"Convert this dataframe to an interactive table.\"\n",
              "              style=\"display:none;\">\n",
              "        \n",
              "  <svg xmlns=\"http://www.w3.org/2000/svg\" height=\"24px\"viewBox=\"0 0 24 24\"\n",
              "       width=\"24px\">\n",
              "    <path d=\"M0 0h24v24H0V0z\" fill=\"none\"/>\n",
              "    <path d=\"M18.56 5.44l.94 2.06.94-2.06 2.06-.94-2.06-.94-.94-2.06-.94 2.06-2.06.94zm-11 1L8.5 8.5l.94-2.06 2.06-.94-2.06-.94L8.5 2.5l-.94 2.06-2.06.94zm10 10l.94 2.06.94-2.06 2.06-.94-2.06-.94-.94-2.06-.94 2.06-2.06.94z\"/><path d=\"M17.41 7.96l-1.37-1.37c-.4-.4-.92-.59-1.43-.59-.52 0-1.04.2-1.43.59L10.3 9.45l-7.72 7.72c-.78.78-.78 2.05 0 2.83L4 21.41c.39.39.9.59 1.41.59.51 0 1.02-.2 1.41-.59l7.78-7.78 2.81-2.81c.8-.78.8-2.07 0-2.86zM5.41 20L4 18.59l7.72-7.72 1.47 1.35L5.41 20z\"/>\n",
              "  </svg>\n",
              "      </button>\n",
              "      \n",
              "  <style>\n",
              "    .colab-df-container {\n",
              "      display:flex;\n",
              "      flex-wrap:wrap;\n",
              "      gap: 12px;\n",
              "    }\n",
              "\n",
              "    .colab-df-convert {\n",
              "      background-color: #E8F0FE;\n",
              "      border: none;\n",
              "      border-radius: 50%;\n",
              "      cursor: pointer;\n",
              "      display: none;\n",
              "      fill: #1967D2;\n",
              "      height: 32px;\n",
              "      padding: 0 0 0 0;\n",
              "      width: 32px;\n",
              "    }\n",
              "\n",
              "    .colab-df-convert:hover {\n",
              "      background-color: #E2EBFA;\n",
              "      box-shadow: 0px 1px 2px rgba(60, 64, 67, 0.3), 0px 1px 3px 1px rgba(60, 64, 67, 0.15);\n",
              "      fill: #174EA6;\n",
              "    }\n",
              "\n",
              "    [theme=dark] .colab-df-convert {\n",
              "      background-color: #3B4455;\n",
              "      fill: #D2E3FC;\n",
              "    }\n",
              "\n",
              "    [theme=dark] .colab-df-convert:hover {\n",
              "      background-color: #434B5C;\n",
              "      box-shadow: 0px 1px 3px 1px rgba(0, 0, 0, 0.15);\n",
              "      filter: drop-shadow(0px 1px 2px rgba(0, 0, 0, 0.3));\n",
              "      fill: #FFFFFF;\n",
              "    }\n",
              "  </style>\n",
              "\n",
              "      <script>\n",
              "        const buttonEl =\n",
              "          document.querySelector('#df-379ae7af-9a98-46d2-98fa-bd08b8fb0f56 button.colab-df-convert');\n",
              "        buttonEl.style.display =\n",
              "          google.colab.kernel.accessAllowed ? 'block' : 'none';\n",
              "\n",
              "        async function convertToInteractive(key) {\n",
              "          const element = document.querySelector('#df-379ae7af-9a98-46d2-98fa-bd08b8fb0f56');\n",
              "          const dataTable =\n",
              "            await google.colab.kernel.invokeFunction('convertToInteractive',\n",
              "                                                     [key], {});\n",
              "          if (!dataTable) return;\n",
              "\n",
              "          const docLinkHtml = 'Like what you see? Visit the ' +\n",
              "            '<a target=\"_blank\" href=https://colab.research.google.com/notebooks/data_table.ipynb>data table notebook</a>'\n",
              "            + ' to learn more about interactive tables.';\n",
              "          element.innerHTML = '';\n",
              "          dataTable['output_type'] = 'display_data';\n",
              "          await google.colab.output.renderOutput(dataTable, element);\n",
              "          const docLink = document.createElement('div');\n",
              "          docLink.innerHTML = docLinkHtml;\n",
              "          element.appendChild(docLink);\n",
              "        }\n",
              "      </script>\n",
              "    </div>\n",
              "  </div>\n",
              "  "
            ]
          },
          "metadata": {},
          "execution_count": 184
        },
        {
          "output_type": "stream",
          "name": "stdout",
          "text": [
            "Warning: Total number of columns (21) exceeds max_columns (20) limiting to first (20) columns.\n",
            "Warning: total number of rows (168863) exceeds max_rows (20000). Limiting to first (20000) rows.\n"
          ]
        }
      ]
    },
    {
      "cell_type": "code",
      "source": [
        "filename = 'fundamental-data-clean.feather'\n",
        "\n",
        "forward_filled_df.reset_index().to_feather(filename)"
      ],
      "metadata": {
        "id": "QrlMfF8ztHWX"
      },
      "execution_count": 185,
      "outputs": []
    },
    {
      "cell_type": "code",
      "source": [
        "upload = True\n",
        "if upload:\n",
        "    put_dataset(forward_filled_df.reset_index(), filename=filename, project=\"master-test\")"
      ],
      "metadata": {
        "id": "vWbX2JCjRuns",
        "colab": {
          "base_uri": "https://localhost:8080/",
          "height": 141,
          "referenced_widgets": [
            "126381eaa1f940648ae31a0333834d73",
            "e83596232c3c442b8100b6038c9aff3d",
            "00c72a8a4cf74d37bd04d5ca8d466cc3",
            "52b589c143b1426e966d3b2c7f5b019e",
            "e027f7b6682947efb34b700beeefd4fe",
            "1b2c192d493c491a8366162a52bc8d07",
            "82b0fd000bcf4f12bc332811e40bb2d4",
            "21de68d37c9143b4bb54b3424126013b"
          ]
        },
        "outputId": "46f225e9-9f29-449b-b60a-859a9642fbaf"
      },
      "execution_count": 192,
      "outputs": [
        {
          "output_type": "display_data",
          "data": {
            "text/plain": [
              "<IPython.core.display.HTML object>"
            ],
            "text/html": [
              "Tracking run with wandb version 0.12.16"
            ]
          },
          "metadata": {}
        },
        {
          "output_type": "display_data",
          "data": {
            "text/plain": [
              "<IPython.core.display.HTML object>"
            ],
            "text/html": [
              "Run data is saved locally in <code>/content/wandb/run-20220524_112925-w13jxdk8</code>"
            ]
          },
          "metadata": {}
        },
        {
          "output_type": "display_data",
          "data": {
            "text/plain": [
              "<IPython.core.display.HTML object>"
            ],
            "text/html": [
              "Syncing run <strong><a href=\"https://wandb.ai/krankile/master-test/runs/w13jxdk8\" target=\"_blank\">lilac-salad-383</a></strong> to <a href=\"https://wandb.ai/krankile/master-test\" target=\"_blank\">Weights & Biases</a> (<a href=\"https://wandb.me/run\" target=\"_blank\">docs</a>)<br/>"
            ]
          },
          "metadata": {}
        },
        {
          "output_type": "display_data",
          "data": {
            "text/plain": [
              "<IPython.core.display.HTML object>"
            ],
            "text/html": [
              "Waiting for W&B process to finish... <strong style=\"color:green\">(success).</strong>"
            ]
          },
          "metadata": {}
        },
        {
          "output_type": "display_data",
          "data": {
            "text/plain": [
              "VBox(children=(Label(value='14.339 MB of 14.339 MB uploaded (0.000 MB deduped)\\r'), FloatProgress(value=1.0, m…"
            ],
            "application/vnd.jupyter.widget-view+json": {
              "version_major": 2,
              "version_minor": 0,
              "model_id": "126381eaa1f940648ae31a0333834d73"
            }
          },
          "metadata": {}
        },
        {
          "output_type": "display_data",
          "data": {
            "text/plain": [
              "<IPython.core.display.HTML object>"
            ],
            "text/html": [
              "Synced <strong style=\"color:#cdcd00\">lilac-salad-383</strong>: <a href=\"https://wandb.ai/krankile/master-test/runs/w13jxdk8\" target=\"_blank\">https://wandb.ai/krankile/master-test/runs/w13jxdk8</a><br/>Synced 4 W&B file(s), 0 media file(s), 1 artifact file(s) and 0 other file(s)"
            ]
          },
          "metadata": {}
        },
        {
          "output_type": "display_data",
          "data": {
            "text/plain": [
              "<IPython.core.display.HTML object>"
            ],
            "text/html": [
              "Find logs at: <code>./wandb/run-20220524_112925-w13jxdk8/logs</code>"
            ]
          },
          "metadata": {}
        }
      ]
    }
  ]
}