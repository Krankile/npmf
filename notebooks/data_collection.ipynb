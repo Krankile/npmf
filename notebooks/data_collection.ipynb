{
  "cells": [
    {
      "cell_type": "markdown",
      "metadata": {
        "id": "view-in-github",
        "colab_type": "text"
      },
      "source": [
        "<a href=\"https://colab.research.google.com/github/Krankile/npmf/blob/main/notebooks/data_collection.ipynb\" target=\"_parent\"><img src=\"https://colab.research.google.com/assets/colab-badge.svg\" alt=\"Open In Colab\"/></a>"
      ]
    },
    {
      "cell_type": "markdown",
      "id": "3e7868a6",
      "metadata": {
        "id": "3e7868a6"
      },
      "source": [
        "# Setup"
      ]
    },
    {
      "cell_type": "code",
      "execution_count": null,
      "id": "9e4198ca",
      "metadata": {
        "id": "9e4198ca"
      },
      "outputs": [],
      "source": [
        "%%capture\n",
        "!pip install eikon\n",
        "!pip install wandb"
      ]
    },
    {
      "cell_type": "code",
      "execution_count": null,
      "id": "b056c9a0",
      "metadata": {
        "id": "b056c9a0"
      },
      "outputs": [],
      "source": [
        "import eikon as ek\n",
        "import wandb\n",
        "import pandas as pd\n",
        "import numpy as np\n",
        "import time\n",
        "import os\n",
        "import glob\n",
        "from tqdm.auto import tqdm\n"
      ]
    },
    {
      "cell_type": "code",
      "execution_count": null,
      "id": "bd1e83d4",
      "metadata": {
        "id": "bd1e83d4"
      },
      "outputs": [],
      "source": [
        "#\"api_key_lk\"\n",
        "ek.set_app_key(\"EXAMPLE\")"
      ]
    },
    {
      "cell_type": "markdown",
      "id": "32835af0",
      "metadata": {
        "id": "32835af0"
      },
      "source": [
        "## Screen companies"
      ]
    },
    {
      "cell_type": "code",
      "execution_count": null,
      "id": "944ef578",
      "metadata": {
        "id": "944ef578"
      },
      "outputs": [],
      "source": [
        "mic_exchanges = pd.read_csv(\"mic_codes.csv\").set_index(\"MIC\") #Can be used to look up specific stock exchanges codes :) (Y) "
      ]
    },
    {
      "cell_type": "code",
      "execution_count": null,
      "id": "bf666227",
      "metadata": {
        "id": "bf666227"
      },
      "outputs": [],
      "source": [
        "oil_osebx_screen = 'SCREEN(U(IN(Equity(active,public,primary))), TR.CompanyMarketCap>=500000, IN(TR.ExchangeMarketIdCode,\"XOSL\"), IN(TR.TRBCBusinessSectorCode,\"5010\",\"5020\",\"5030\"), CURN=USD)'\n",
        "fields_oil_osebx_screen = [\"TR.CommonName\"]#[\"TR.CommonName\",\"TR.CompanyMarketCap\",\"TR.ExchangeName\",\"TR.TRBCBusinessSector\",\"TR.TotalReturn3Mo\"]\n",
        "\n",
        "osbx_companies, e = ek.get_data(oil_osebx_screen, fields_oil_osebx_screen)\n",
        "osbx_companies = osbx_companies.set_index(\"Instrument\")"
      ]
    },
    {
      "cell_type": "code",
      "execution_count": null,
      "id": "091dd0cf",
      "metadata": {
        "id": "091dd0cf"
      },
      "outputs": [],
      "source": [
        "oil_global_screen = 'SCREEN(U(IN(Equity(active,public,primary))), TR.CompanyMarketCap>=500000, IN(TR.TRBCBusinessSectorCode,\"5010\",\"5020\",\"5030\"), CURN=USD)'\n",
        "fields_oil_global_screen = [\"TR.CommonName\"]\n",
        "\n",
        "global_oil, e = ek.get_data(oil_global_screen, fields_oil_global_screen)\n",
        "global_oil = global_oil.set_index(\"Instrument\")"
      ]
    },
    {
      "cell_type": "markdown",
      "id": "c0ae7040",
      "metadata": {
        "id": "c0ae7040"
      },
      "source": [
        "Now we have dataframe of all noted oil companies (with mcap > USD 5m) in eikon refinitives entire database"
      ]
    },
    {
      "cell_type": "markdown",
      "id": "99c52216",
      "metadata": {
        "id": "99c52216"
      },
      "source": [
        "# Collect data from eikon refinitiv"
      ]
    },
    {
      "cell_type": "code",
      "execution_count": null,
      "id": "c932faf0",
      "metadata": {
        "id": "c932faf0"
      },
      "outputs": [],
      "source": [
        "######## INPUTS ########\n",
        "lst_of_tickers = global_oil.index.to_list()\n",
        "\n",
        "#Eikon parameters\n",
        "start_date = '2000-01-01'\n",
        "end_date = '2022-04-21'\n",
        "ek_params = {'SDate': start_date, 'EDate': end_date,'Frq': 'FQ', \"Curn\":\"USD\"}\n",
        "\n",
        "#Max http company request at once\n",
        "search_limit = 1\n",
        "\n",
        "#What data to get\n",
        "get_stock_data = True\n",
        "get_meta_data = False\n",
        "get_fundamental_data = False \n",
        "get_broker_data = False\n",
        "\n",
        "toggle_dict = {'stock_data':get_stock_data, 'meta_data':get_meta_data,\n",
        "               'fundamental_data':get_fundamental_data, 'broker_data':get_broker_data}\n",
        "\n",
        "\n",
        "\n",
        "params = ek_params | toggle_dict | {'limit': search_limit} \n",
        "########################"
      ]
    },
    {
      "cell_type": "markdown",
      "id": "926ea32f",
      "metadata": {
        "id": "926ea32f"
      },
      "source": [
        "## We define functions to find stock, meta, fundamental and broker estimates data "
      ]
    },
    {
      "cell_type": "code",
      "execution_count": null,
      "id": "9d49d85c",
      "metadata": {
        "id": "9d49d85c"
      },
      "outputs": [],
      "source": [
        "def _sub_lists(data, size_m):\n",
        "    return [data[x:x+size_m] for x in range(0, len(data), size_m)]\n",
        "\n",
        "#Function to counteract http timeout\n",
        "def _divide_pull_request(lst_of_tickers, fields, params, suffix):\n",
        "    p = {key: val for key, val in params.items() if key in ek_params}\n",
        "    if len(lst_of_tickers) > params['limit']:\n",
        "        dfs = []\n",
        "        for sub_ticker_lst in tqdm(_sub_lists(lst_of_tickers, params['limit']), suffix):\n",
        "            df_sub, err = ek.get_data(lst_of_tickers, fields, p)\n",
        "            dfs.append(df_sub)\n",
        "        df = pd.concat(dfs, axis=0)\n",
        "    else: \n",
        "     \n",
        "        df, err = ek.get_data(lst_of_tickers, fields, p)\n",
        "    return df"
      ]
    },
    {
      "cell_type": "code",
      "execution_count": null,
      "id": "1c59700e",
      "metadata": {
        "id": "1c59700e"
      },
      "outputs": [],
      "source": [
        "def stock_data(lst_of_tickers, params):\n",
        "    \n",
        "    params_new = params.copy()\n",
        "    params_new['Frq'] = 'D'\n",
        "    \n",
        "    fields = ['TR.CompanyMarketCap.Date','TR.CompanyMarketCap', 'TR.PriceClose',\n",
        "              'TR.CompanyMarketCap.Currency'] #TR.F.ComShrOutsTot\n",
        "    \n",
        "    stock_df = _divide_pull_request(lst_of_tickers, fields=fields, params=params_new, suffix=' Getting time series')\n",
        "    \n",
        "    return stock_df"
      ]
    },
    {
      "cell_type": "code",
      "execution_count": null,
      "id": "41389f68",
      "metadata": {
        "id": "41389f68"
      },
      "outputs": [],
      "source": [
        "#Meta data collector\n",
        "def meta_data(lst_of_tickers):\n",
        "    geography = ['TR.ExchangeMarketIdCode', 'TR.HeadquartersRegionAlt', 'TR.HeadquartersCountry', 'TR.HQStateProvince']\n",
        "    sectors = ['TR.TRBCEconomicSector', 'TR.TRBCBusinessSector', 'TR.TRBCIndustryGroup', 'TR.TRBCIndustry', 'TR.TRBCActivity']\n",
        "    founded = ['TR.OrgFoundedYear']\n",
        "\n",
        "    meta_data = geography + founded + sectors  \n",
        "    meta_df, _ = ek.get_data(lst_of_tickers, meta_data)\n",
        "    meta_df = meta_df.set_index(\"Instrument\")\n",
        "    \n",
        "    meta_df['Organization Founded Year'] = meta_df['Organization Founded Year'].replace(0, np.NaN) #<-- Eikon hilariously uses 0 instead of Na for missing year value\n",
        "    \n",
        "    \n",
        "    return meta_df"
      ]
    },
    {
      "cell_type": "code",
      "execution_count": null,
      "id": "48c6d708",
      "metadata": {
        "id": "48c6d708"
      },
      "outputs": [],
      "source": [
        "#Fundamental data collector\n",
        "\n",
        "def fundamental_data(lst_of_tickers, params):\n",
        "    \n",
        "    #fields    \n",
        "    profits = ['TR.TotalRevenue', 'TR.GrossProfit','TR.EBITDA','TR.EBIT', 'TR.F.NetIncAfterTax']#, 'TR.EV','MKT_CAP']\n",
        "    balance = ['TR.F.TotAssets','TR.F.TotCurrAssets','TR.F.TotLiab','TR.F.TotCurrLiab','TR.F.LTDebtPctofTotAssets','TR.F.STDebtPctofTotAssets']#TR.F.TotLiab(Period=FY0)\n",
        "    cash_flow = ['TR.F.LeveredFOCF']\n",
        "    fundamental_data = profits + balance + cash_flow \n",
        "    \n",
        "    other = []#['TR.InsiderBuyDepthComp'] <--- NA only, could be interesting to use....   \n",
        "    reported_dates = ['TR.TotalRevenue.date','TR.TotalRevenue.periodenddate','TR.BSOriginalAnnouncementDate']\n",
        "    \n",
        "    fields = fundamental_data + other + reported_dates\n",
        "    \n",
        "    #collect data\n",
        "    fundamental_df = _divide_pull_request(lst_of_tickers, params['limit'], fields, params, suffix=' Getting fundamentals')\n",
        "    \n",
        "    return fundamental_df"
      ]
    },
    {
      "cell_type": "code",
      "execution_count": null,
      "id": "1a8adc04",
      "metadata": {
        "id": "1a8adc04"
      },
      "outputs": [],
      "source": [
        "def broker_estimates(lst_of_tickers, params):\n",
        "    \n",
        "    params_new = params.copy()\n",
        "    params_new[\"Period\"] = \"FY1\"    \n",
        "    \n",
        "    fields = [\"TR.EPSMean\",\"TR.EPSMean.periodenddate\",\"TR.EBITMean\",'TR.RevenueMean',\n",
        "              \"TR.ROAMean\",\"TR.ROEMean\",\"TR.FCFMean\",\"TR.TotalAssets\",\"TR.MeanPctChg(Period=FY1,WP=60d)\"]\n",
        "    \n",
        "    estimates_df, err = ek.get_data(lst_of_tickers, fields, params)\n",
        "    return estimates_df"
      ]
    },
    {
      "cell_type": "code",
      "execution_count": null,
      "id": "21edab25",
      "metadata": {
        "id": "21edab25"
      },
      "outputs": [],
      "source": [
        "def get_data(lst_of_tickers, params):\n",
        "    \n",
        "    time_series_df = None\n",
        "    meta_df = None\n",
        "    fundamental_df = None\n",
        "    broker_df = None\n",
        "    \n",
        "    if params['stock_data']: \n",
        "        stock_df = stock_data(lst_of_tickers, params)\n",
        "\n",
        "    if params['meta_data']:\n",
        "        meta_df = meta_data(lst_of_tickers)\n",
        "\n",
        "    if params['fundamental_data']:\n",
        "        fundamental_df = fundamental_data(lst_of_tickers, params)\n",
        "\n",
        "    if params['broker_data']:\n",
        "        broker_df = broker_estiqates(lst_of_tickers, params)\n",
        "    \n",
        "    return stock_df, meta_df, fundamental_df, broker_df\n",
        "        "
      ]
    },
    {
      "cell_type": "code",
      "execution_count": null,
      "id": "5659be0b",
      "metadata": {
        "id": "5659be0b"
      },
      "outputs": [],
      "source": [
        "def save_data(file_name, save_per_n_http_request, lst_of_tickers, params):\n",
        "    \n",
        "    non_collected_tickers = []\n",
        "\n",
        "\n",
        "    name_to_index = {}\n",
        "    dfs = {}\n",
        "    for i, possible_key in enumerate([\"stock_data\", \"meta_data\", \"fundamental_data\", \"broker_data\"]):\n",
        "        if params[possible_key]:\n",
        "            name_to_index[possible_key] = i\n",
        "            dfs[possible_key] = []\n",
        "    \n",
        "    partioned_lst_of_tickers = _sub_lists(lst_of_tickers, params[\"limit\"])        \n",
        "    for i, sub_ticker_lst in enumerate(tqdm(partioned_lst_of_tickers, \"saving loop\")):    \n",
        "        try:\n",
        "            raw_data_dfs = get_data(sub_ticker_lst, params)\n",
        "\n",
        "            for key in name_to_index:\n",
        "           \n",
        "                dfs[key] = dfs[key] + [raw_data_dfs[name_to_index[key]]]\n",
        "                \n",
        "                \n",
        "                \n",
        "            if (not (i % save_per_n_http_request)) and i != 0:\n",
        "                for key in name_to_index:\n",
        "                    df = pd.concat(dfs[key], axis=0)\n",
        "                    df = df.reset_index()\n",
        "\n",
        "                    #wtfffff\n",
        "                    df.to_feather(f\"{file_name}_save={i}_type={key}.feather\")\n",
        "                    dfs[key] = []\n",
        "\n",
        "        except: \n",
        "            non_collected_tickers += sub_ticker_lst\n",
        "\n",
        "    \n",
        "    #Write crashes to file       \n",
        "    with open(f\"{file_name}\".txt, \"w\") as f:\n",
        "        f.write(\"\\n\".join(non_collected_tickers))\n",
        "    \n",
        "    #Save last data if there are rests\n",
        "    for key in name_to_index:\n",
        "            break\n",
        "            if dfs[key] != []:\n",
        "                df = pd.concat(dfs[key], axis=0)\n",
        "\n",
        "                df = df.reset_index()\n",
        "\n",
        "                #wtfffff\n",
        "                df.to_feather(f\"{file_name}_save={len(partioned_lst_of_tickers)}_type={key}.feather\")\n",
        "\n",
        "            "
      ]
    },
    {
      "cell_type": "code",
      "execution_count": null,
      "id": "be13dc1a",
      "metadata": {
        "id": "be13dc1a"
      },
      "outputs": [],
      "source": [
        "save_toggle = False\n",
        "\n",
        "file_name = \"C:/Users/kjartkra/Untitled Folder/stock_data/global_oil\"\n",
        "if save_toggle: \n",
        "    save_data(file_name, 2, lst_of_tickers, params)"
      ]
    },
    {
      "cell_type": "code",
      "execution_count": null,
      "id": "740accf6",
      "metadata": {
        "scrolled": true,
        "id": "740accf6"
      },
      "outputs": [],
      "source": [
        "def _time_interval(start_date, end_date):\n",
        "    y0 = int(start_date.split(\"-\")[0])\n",
        "    yn = int(end_date.split(\"-\")[0])\n",
        "    in_between_dates = [f\"{str(year)}-01-01\" for year in range(y0+1,yn,7)]\n",
        "    return [start_date] + in_between_dates  + [end_date]\n",
        "    \n",
        "        \n",
        "\n",
        "def macro_data(lst_of_tickers, ek_get_timeseries_fields, params):\n",
        "        start_and_ends = _time_interval(params[\"SDate\"],params[\"EDate\"])\n",
        "        \n",
        "        tickers_to_serie = {}\n",
        "        for ticker in lst_of_tickers:\n",
        "            tickers_to_serie[ticker] = []\n",
        "            for i in range(len(start_and_ends)-1):\n",
        "                try: \n",
        "                    time_series = ek.get_timeseries(ticker, fields=ek_get_timeseries_fields,\n",
        "                                                    start_date=start_and_ends[i], end_date=start_and_ends[i+1], interval=params[\"interval\"])\n",
        "                                 \n",
        "                except ek.EikonError as err:\n",
        "                    if err.code ==-1:\n",
        "                        time_series = ek.get_timeseries(\"BRT-\", fields=ek_get_timeseries_fields, start_date=start_and_ends[i], end_date=start_and_ends[i+1],interval=params[\"interval\"])\n",
        "                        time_series[ek_get_timeseries_fields] = np.nan\n",
        "                        \n",
        "                    if err.code ==  2504:\n",
        "                        print(\"backend error\")\n",
        "                        time.sleep(2)\n",
        "                        time_series = ek.get_timeseries(ticker, fields=ek_get_timeseries_fields,\n",
        "                                                    start_date=start_and_ends[i], end_date=start_and_ends[i+1], interval=params[\"interval\"])\n",
        "                        \n",
        "                tickers_to_serie[ticker] = tickers_to_serie[ticker] + [time_series]\n",
        "            \n",
        "            tickers_to_serie[ticker] = pd.concat(tickers_to_serie[ticker], axis=0)\n",
        "            \n",
        "        return tickers_to_serie"
      ]
    },
    {
      "cell_type": "code",
      "execution_count": null,
      "id": "ea7b88ea",
      "metadata": {
        "id": "ea7b88ea",
        "outputId": "51475767-48e5-49fc-8773-0fac6c6ee488"
      },
      "outputs": [
        {
          "name": "stderr",
          "output_type": "stream",
          "text": [
            "2022-04-25 13:30:18,039 P[3656] [MainThread 14984] Error with WTCLc1: No data available for the requested date range\n",
            "2022-04-25 13:30:18,039 P[3656] [MainThread 14984] WTCLc1: No data available for the requested date range | \n",
            "2022-04-25 13:30:19,567 P[3656] [MainThread 14984] Error with LNG-AS: No data available for the requested date range\n",
            "2022-04-25 13:30:19,567 P[3656] [MainThread 14984] LNG-AS: No data available for the requested date range | \n",
            "2022-04-25 13:30:20,118 P[3656] [MainThread 14984] Error with LNG-AS: No data available for the requested date range\n",
            "2022-04-25 13:30:20,118 P[3656] [MainThread 14984] LNG-AS: No data available for the requested date range | \n"
          ]
        },
        {
          "name": "stdout",
          "output_type": "stream",
          "text": [
            "(5635, 1)\n",
            "(5605, 1)\n",
            "(4436, 1)\n",
            "(2587, 1)\n",
            "(5614, 1)\n",
            "(5819, 1)\n",
            "(5819, 1)\n",
            "(5819, 1)\n"
          ]
        }
      ],
      "source": [
        "macro_oil_params = ek_params.copy()\n",
        "macro_oil_params[\"interval\"] = \"daily\"\n",
        "macro_oil_series = [\"BRT-\", \"CLc1\", \"WTCLc1\", \"LNG-AS\", \".VIX\",'EUR=', 'GBP=', \"CNY=\", ]\n",
        "macro_oil_fields = [\"CLOSE\"]\n",
        "\n",
        "macro_oil = macro_data(macro_oil_series, macro_oil_fields , macro_oil_params)\n",
        "\n"
      ]
    },
    {
      "cell_type": "code",
      "execution_count": null,
      "id": "26b4822d",
      "metadata": {
        "id": "26b4822d",
        "outputId": "6d13a43e-d87f-4619-bd46-46349da13770"
      },
      "outputs": [
        {
          "data": {
            "text/plain": [
              "{'BRT-': BRT-          BRT-\n",
              " Date              \n",
              " 2000-01-04    24.4\n",
              " 2000-01-05   23.65\n",
              " 2000-01-06   23.54\n",
              " 2000-01-07   22.95\n",
              " 2000-01-10    22.8\n",
              " ...            ...\n",
              " 2022-04-13  107.39\n",
              " 2022-04-14   108.0\n",
              " 2022-04-19  105.67\n",
              " 2022-04-20  104.78\n",
              " 2022-04-21  106.51\n",
              " \n",
              " [5635 rows x 1 columns],\n",
              " 'CLc1': CLc1          CLc1\n",
              " Date              \n",
              " 2000-01-04   25.55\n",
              " 2000-01-05   24.91\n",
              " 2000-01-06   24.78\n",
              " 2000-01-07   24.22\n",
              " 2000-01-10   24.67\n",
              " ...            ...\n",
              " 2022-04-14  106.95\n",
              " 2022-04-18  108.21\n",
              " 2022-04-19  102.56\n",
              " 2022-04-20  102.75\n",
              " 2022-04-21  103.79\n",
              " \n",
              " [5605 rows x 1 columns],\n",
              " 'WTCLc1':             WTCLc1\n",
              " Date              \n",
              " 2000-01-04    <NA>\n",
              " 2000-01-05    <NA>\n",
              " 2000-01-06    <NA>\n",
              " 2000-01-07    <NA>\n",
              " 2000-01-10    <NA>\n",
              " ...            ...\n",
              " 2022-04-14  106.95\n",
              " 2022-04-18  108.21\n",
              " 2022-04-19  102.56\n",
              " 2022-04-20  102.19\n",
              " 2022-04-21  103.79\n",
              " \n",
              " [4436 rows x 1 columns],\n",
              " 'LNG-AS':             LNG-AS\n",
              " Date              \n",
              " 2000-01-04    <NA>\n",
              " 2000-01-05    <NA>\n",
              " 2000-01-06    <NA>\n",
              " 2000-01-07    <NA>\n",
              " 2000-01-10    <NA>\n",
              " ...            ...\n",
              " 2022-03-18    35.5\n",
              " 2022-03-25    35.0\n",
              " 2022-04-01    35.0\n",
              " 2022-04-08    33.0\n",
              " 2022-04-14    33.0\n",
              " \n",
              " [2587 rows x 1 columns],\n",
              " '.VIX': .VIX         .VIX\n",
              " Date             \n",
              " 2000-01-03  24.21\n",
              " 2000-01-04  27.01\n",
              " 2000-01-05  26.41\n",
              " 2000-01-06  25.73\n",
              " 2000-01-07  21.72\n",
              " ...           ...\n",
              " 2022-04-14   22.7\n",
              " 2022-04-18  22.17\n",
              " 2022-04-19  21.37\n",
              " 2022-04-20  20.32\n",
              " 2022-04-21  22.68\n",
              " \n",
              " [5614 rows x 1 columns],\n",
              " 'EUR=': EUR=          EUR=\n",
              " Date              \n",
              " 2000-01-03  1.0262\n",
              " 2000-01-04  1.0308\n",
              " 2000-01-05  1.0314\n",
              " 2000-01-06  1.0319\n",
              " 2000-01-07  1.0289\n",
              " ...            ...\n",
              " 2022-04-15  1.0806\n",
              " 2022-04-18   1.078\n",
              " 2022-04-19  1.0786\n",
              " 2022-04-20   1.085\n",
              " 2022-04-21  1.0836\n",
              " \n",
              " [5819 rows x 1 columns],\n",
              " 'GBP=': GBP=          GBP=\n",
              " Date              \n",
              " 2000-01-03  1.6368\n",
              " 2000-01-04  1.6365\n",
              " 2000-01-05  1.6415\n",
              " 2000-01-06  1.6463\n",
              " 2000-01-07  1.6383\n",
              " ...            ...\n",
              " 2022-04-15  1.3058\n",
              " 2022-04-18  1.3008\n",
              " 2022-04-19  1.2996\n",
              " 2022-04-20  1.3066\n",
              " 2022-04-21  1.3028\n",
              " \n",
              " [5819 rows x 1 columns],\n",
              " 'CNY=': CNY=          CNY=\n",
              " Date              \n",
              " 2000-01-03  8.2798\n",
              " 2000-01-04  8.2799\n",
              " 2000-01-05  8.2798\n",
              " 2000-01-06  8.2797\n",
              " 2000-01-07  8.2794\n",
              " ...            ...\n",
              " 2022-04-15  6.3705\n",
              " 2022-04-18   6.363\n",
              " 2022-04-19   6.393\n",
              " 2022-04-20  6.4188\n",
              " 2022-04-21    6.45\n",
              " \n",
              " [5819 rows x 1 columns]}"
            ]
          },
          "execution_count": 186,
          "metadata": {},
          "output_type": "execute_result"
        }
      ],
      "source": [
        "df = pd.DataFrame(index=macro_oil[macro_oil_series[0]].index)\n",
        "\n",
        "dfs = []\n",
        "\n",
        "macro_oil\n"
      ]
    },
    {
      "cell_type": "code",
      "execution_count": null,
      "id": "934c9206",
      "metadata": {
        "id": "934c9206",
        "outputId": "68ed6784-5417-48ed-8fc8-f163750bf551"
      },
      "outputs": [
        {
          "data": {
            "text/plain": [
              "aXZCPIALL\n",
              "CLOSE    267\n",
              "dtype: int64"
            ]
          },
          "execution_count": 149,
          "metadata": {},
          "output_type": "execute_result"
        }
      ],
      "source": [
        "inlation_measures = [\"aXZCPIALL\"]\n",
        "inflation_params = ek_params.copy()\n",
        "inflation_params[\"interval\"] = \"monthly\"\n",
        "inflation = macro_data(inlation_measures, [\"CLOSE\"], inflation_params)\n",
        "inflation[\"aXZCPIALL\"]"
      ]
    },
    {
      "cell_type": "code",
      "execution_count": null,
      "id": "3d18380b",
      "metadata": {
        "id": "3d18380b"
      },
      "outputs": [],
      "source": [
        "def dict_to_df(dictionary):\n",
        "    dates = set()\n",
        "\n",
        "    for key, frame in dictionary.items():\n",
        "        dates |= set(frame.index.values)\n",
        "    \n",
        "    index = pd.Index(list(sorted(dates)))\n",
        "    \n",
        "    all_macro = pd.DataFrame(index=index)\n",
        "\n",
        "    for key, frame in dictionary.items():\n",
        "        frame = frame[~frame.index.duplicated(keep='first')]\n",
        "        all_macro[key] = frame\n",
        "\n",
        "    return all_macro"
      ]
    },
    {
      "cell_type": "code",
      "execution_count": null,
      "id": "7fb7eb6a",
      "metadata": {
        "id": "7fb7eb6a",
        "outputId": "e34f4384-184a-438f-8359-10cc88819f10"
      },
      "outputs": [
        {
          "data": {
            "text/html": [
              "<div>\n",
              "<style scoped>\n",
              "    .dataframe tbody tr th:only-of-type {\n",
              "        vertical-align: middle;\n",
              "    }\n",
              "\n",
              "    .dataframe tbody tr th {\n",
              "        vertical-align: top;\n",
              "    }\n",
              "\n",
              "    .dataframe thead th {\n",
              "        text-align: right;\n",
              "    }\n",
              "</style>\n",
              "<table border=\"1\" class=\"dataframe\">\n",
              "  <thead>\n",
              "    <tr style=\"text-align: right;\">\n",
              "      <th></th>\n",
              "      <th>BRT-</th>\n",
              "      <th>CLc1</th>\n",
              "      <th>WTCLc1</th>\n",
              "      <th>LNG-AS</th>\n",
              "      <th>.VIX</th>\n",
              "      <th>EUR=</th>\n",
              "      <th>GBP=</th>\n",
              "      <th>CNY=</th>\n",
              "    </tr>\n",
              "  </thead>\n",
              "  <tbody>\n",
              "    <tr>\n",
              "      <th>2000-01-03</th>\n",
              "      <td>&lt;NA&gt;</td>\n",
              "      <td>&lt;NA&gt;</td>\n",
              "      <td>NaN</td>\n",
              "      <td>NaN</td>\n",
              "      <td>24.21</td>\n",
              "      <td>1.0262</td>\n",
              "      <td>1.6368</td>\n",
              "      <td>8.2798</td>\n",
              "    </tr>\n",
              "    <tr>\n",
              "      <th>2000-01-04</th>\n",
              "      <td>24.4</td>\n",
              "      <td>25.55</td>\n",
              "      <td>NaN</td>\n",
              "      <td>NaN</td>\n",
              "      <td>27.01</td>\n",
              "      <td>1.0308</td>\n",
              "      <td>1.6365</td>\n",
              "      <td>8.2799</td>\n",
              "    </tr>\n",
              "    <tr>\n",
              "      <th>2000-01-05</th>\n",
              "      <td>23.65</td>\n",
              "      <td>24.91</td>\n",
              "      <td>NaN</td>\n",
              "      <td>NaN</td>\n",
              "      <td>26.41</td>\n",
              "      <td>1.0314</td>\n",
              "      <td>1.6415</td>\n",
              "      <td>8.2798</td>\n",
              "    </tr>\n",
              "    <tr>\n",
              "      <th>2000-01-06</th>\n",
              "      <td>23.54</td>\n",
              "      <td>24.78</td>\n",
              "      <td>NaN</td>\n",
              "      <td>NaN</td>\n",
              "      <td>25.73</td>\n",
              "      <td>1.0319</td>\n",
              "      <td>1.6463</td>\n",
              "      <td>8.2797</td>\n",
              "    </tr>\n",
              "    <tr>\n",
              "      <th>2000-01-07</th>\n",
              "      <td>22.95</td>\n",
              "      <td>24.22</td>\n",
              "      <td>NaN</td>\n",
              "      <td>NaN</td>\n",
              "      <td>21.72</td>\n",
              "      <td>1.0289</td>\n",
              "      <td>1.6383</td>\n",
              "      <td>8.2794</td>\n",
              "    </tr>\n",
              "    <tr>\n",
              "      <th>...</th>\n",
              "      <td>...</td>\n",
              "      <td>...</td>\n",
              "      <td>...</td>\n",
              "      <td>...</td>\n",
              "      <td>...</td>\n",
              "      <td>...</td>\n",
              "      <td>...</td>\n",
              "      <td>...</td>\n",
              "    </tr>\n",
              "    <tr>\n",
              "      <th>2022-04-15</th>\n",
              "      <td>&lt;NA&gt;</td>\n",
              "      <td>&lt;NA&gt;</td>\n",
              "      <td>&lt;NA&gt;</td>\n",
              "      <td>NaN</td>\n",
              "      <td>&lt;NA&gt;</td>\n",
              "      <td>1.0806</td>\n",
              "      <td>1.3058</td>\n",
              "      <td>6.3705</td>\n",
              "    </tr>\n",
              "    <tr>\n",
              "      <th>2022-04-18</th>\n",
              "      <td>&lt;NA&gt;</td>\n",
              "      <td>108.21</td>\n",
              "      <td>108.21</td>\n",
              "      <td>NaN</td>\n",
              "      <td>22.17</td>\n",
              "      <td>1.078</td>\n",
              "      <td>1.3008</td>\n",
              "      <td>6.363</td>\n",
              "    </tr>\n",
              "    <tr>\n",
              "      <th>2022-04-19</th>\n",
              "      <td>105.67</td>\n",
              "      <td>102.56</td>\n",
              "      <td>102.56</td>\n",
              "      <td>NaN</td>\n",
              "      <td>21.37</td>\n",
              "      <td>1.0786</td>\n",
              "      <td>1.2996</td>\n",
              "      <td>6.393</td>\n",
              "    </tr>\n",
              "    <tr>\n",
              "      <th>2022-04-20</th>\n",
              "      <td>104.78</td>\n",
              "      <td>102.75</td>\n",
              "      <td>102.19</td>\n",
              "      <td>NaN</td>\n",
              "      <td>20.32</td>\n",
              "      <td>1.085</td>\n",
              "      <td>1.3066</td>\n",
              "      <td>6.4188</td>\n",
              "    </tr>\n",
              "    <tr>\n",
              "      <th>2022-04-21</th>\n",
              "      <td>106.51</td>\n",
              "      <td>103.79</td>\n",
              "      <td>103.79</td>\n",
              "      <td>NaN</td>\n",
              "      <td>22.68</td>\n",
              "      <td>1.0836</td>\n",
              "      <td>1.3028</td>\n",
              "      <td>6.45</td>\n",
              "    </tr>\n",
              "  </tbody>\n",
              "</table>\n",
              "<p>5818 rows × 8 columns</p>\n",
              "</div>"
            ],
            "text/plain": [
              "              BRT-    CLc1  WTCLc1 LNG-AS   .VIX    EUR=    GBP=    CNY=\n",
              "2000-01-03    <NA>    <NA>     NaN    NaN  24.21  1.0262  1.6368  8.2798\n",
              "2000-01-04    24.4   25.55     NaN    NaN  27.01  1.0308  1.6365  8.2799\n",
              "2000-01-05   23.65   24.91     NaN    NaN  26.41  1.0314  1.6415  8.2798\n",
              "2000-01-06   23.54   24.78     NaN    NaN  25.73  1.0319  1.6463  8.2797\n",
              "2000-01-07   22.95   24.22     NaN    NaN  21.72  1.0289  1.6383  8.2794\n",
              "...            ...     ...     ...    ...    ...     ...     ...     ...\n",
              "2022-04-15    <NA>    <NA>    <NA>    NaN   <NA>  1.0806  1.3058  6.3705\n",
              "2022-04-18    <NA>  108.21  108.21    NaN  22.17   1.078  1.3008   6.363\n",
              "2022-04-19  105.67  102.56  102.56    NaN  21.37  1.0786  1.2996   6.393\n",
              "2022-04-20  104.78  102.75  102.19    NaN  20.32   1.085  1.3066  6.4188\n",
              "2022-04-21  106.51  103.79  103.79    NaN  22.68  1.0836  1.3028    6.45\n",
              "\n",
              "[5818 rows x 8 columns]"
            ]
          },
          "execution_count": 238,
          "metadata": {},
          "output_type": "execute_result"
        }
      ],
      "source": [
        "df = dict_to_df(macro_oil)\n",
        "df"
      ]
    },
    {
      "cell_type": "code",
      "execution_count": null,
      "id": "a84a14d7",
      "metadata": {
        "id": "a84a14d7"
      },
      "outputs": [],
      "source": [
        "def upload_artifact(run, dataframe_file_location, artifact_name):\n",
        "    \n",
        "    artifact = wandb.Artifact(artifact_name, type='dataset')\n",
        "\n",
        "    # Add a file to the artifact's contents\n",
        "    artifact.add_file(dataframe_file_location)\n",
        "\n",
        "    # Save the artifact version to W&B and mark it as the output of this run\n",
        "    run.log_artifact(artifact)"
      ]
    },
    {
      "cell_type": "code",
      "execution_count": null,
      "id": "2de4e3e3",
      "metadata": {
        "colab": {
          "referenced_widgets": [
            ""
          ]
        },
        "id": "2de4e3e3",
        "outputId": "517d3234-2aab-4991-b7e7-cc228bfe88bd"
      },
      "outputs": [
        {
          "data": {
            "text/html": [
              "Tracking run with wandb version 0.12.15"
            ],
            "text/plain": [
              "<IPython.core.display.HTML object>"
            ]
          },
          "metadata": {},
          "output_type": "display_data"
        },
        {
          "data": {
            "text/html": [
              "Run data is saved locally in <code>C:\\Users\\kjartkra\\Untitled Folder\\wandb\\run-20220425_144606-y31sbfq2</code>"
            ],
            "text/plain": [
              "<IPython.core.display.HTML object>"
            ]
          },
          "metadata": {},
          "output_type": "display_data"
        },
        {
          "data": {
            "text/html": [
              "Syncing run <strong><a href=\"https://wandb.ai/krankile/master-test/runs/y31sbfq2\" target=\"_blank\">different-frost-3</a></strong> to <a href=\"https://wandb.ai/krankile/master-test\" target=\"_blank\">Weights & Biases</a> (<a href=\"https://wandb.me/run\" target=\"_blank\">docs</a>)<br/>"
            ],
            "text/plain": [
              "<IPython.core.display.HTML object>"
            ]
          },
          "metadata": {},
          "output_type": "display_data"
        },
        {
          "data": {
            "text/html": [
              "Waiting for W&B process to finish... <strong style=\"color:green\">(success).</strong>"
            ],
            "text/plain": [
              "<IPython.core.display.HTML object>"
            ]
          },
          "metadata": {},
          "output_type": "display_data"
        },
        {
          "data": {
            "application/vnd.jupyter.widget-view+json": {
              "model_id": "",
              "version_major": 2,
              "version_minor": 0
            },
            "text/plain": [
              "VBox(children=(Label(value='0.409 MB of 0.409 MB uploaded (0.000 MB deduped)\\r'), FloatProgress(value=1.0, max…"
            ]
          },
          "metadata": {},
          "output_type": "display_data"
        },
        {
          "data": {
            "text/html": [
              "Synced <strong style=\"color:#cdcd00\">different-frost-3</strong>: <a href=\"https://wandb.ai/krankile/master-test/runs/y31sbfq2\" target=\"_blank\">https://wandb.ai/krankile/master-test/runs/y31sbfq2</a><br/>Synced 5 W&B file(s), 0 media file(s), 1 artifact file(s) and 0 other file(s)"
            ],
            "text/plain": [
              "<IPython.core.display.HTML object>"
            ]
          },
          "metadata": {},
          "output_type": "display_data"
        },
        {
          "data": {
            "text/html": [
              "Find logs at: <code>.\\wandb\\run-20220425_144606-y31sbfq2\\logs</code>"
            ],
            "text/plain": [
              "<IPython.core.display.HTML object>"
            ]
          },
          "metadata": {},
          "output_type": "display_data"
        }
      ],
      "source": [
        "macro_df = dict_to_df(macro_oil).reset_index()\n",
        "\n",
        "\n",
        "files = glob.glob(\"C:/Users/kjartkra/Untitled Folder/stock_data/*.feather\")\n",
        "dfs = []\n",
        "for file in files:\n",
        "    dfs.append(pd.read_feather(file).set_index(\"index\"))\n",
        "\n",
        "df_big = pd.concat(dfs, axis=0).reset_index()\n",
        "oil_company_df = df_big.drop(\"index\", axis=1)\n",
        "\n",
        "macro_location = 'C:/Users/kjartkra/Untitled Folder/macro_oil.feather'\n",
        "company_location = 'C:/Users/kjartkra/Untitled Folder/companies_oil.feather'\n",
        "\n",
        "macro_df.to_feather(macro_location)\n",
        "oil_company_df.to_feather(company_location)\n"
      ]
    },
    {
      "cell_type": "code",
      "execution_count": null,
      "id": "e92a0de6",
      "metadata": {
        "colab": {
          "referenced_widgets": [
            ""
          ]
        },
        "id": "e92a0de6",
        "outputId": "44105f06-b4fa-416b-cd1b-418ddc08206d"
      },
      "outputs": [
        {
          "data": {
            "text/html": [
              "Tracking run with wandb version 0.12.15"
            ],
            "text/plain": [
              "<IPython.core.display.HTML object>"
            ]
          },
          "metadata": {},
          "output_type": "display_data"
        },
        {
          "data": {
            "text/html": [
              "Run data is saved locally in <code>C:\\Users\\kjartkra\\Untitled Folder\\wandb\\run-20220425_145012-lymkxesm</code>"
            ],
            "text/plain": [
              "<IPython.core.display.HTML object>"
            ]
          },
          "metadata": {},
          "output_type": "display_data"
        },
        {
          "data": {
            "text/html": [
              "Syncing run <strong><a href=\"https://wandb.ai/krankile/master-test/runs/lymkxesm\" target=\"_blank\">dulcet-music-5</a></strong> to <a href=\"https://wandb.ai/krankile/master-test\" target=\"_blank\">Weights & Biases</a> (<a href=\"https://wandb.me/run\" target=\"_blank\">docs</a>)<br/>"
            ],
            "text/plain": [
              "<IPython.core.display.HTML object>"
            ]
          },
          "metadata": {},
          "output_type": "display_data"
        },
        {
          "data": {
            "text/html": [
              "Waiting for W&B process to finish... <strong style=\"color:green\">(success).</strong>"
            ],
            "text/plain": [
              "<IPython.core.display.HTML object>"
            ]
          },
          "metadata": {},
          "output_type": "display_data"
        },
        {
          "data": {
            "application/vnd.jupyter.widget-view+json": {
              "model_id": "",
              "version_major": 2,
              "version_minor": 0
            },
            "text/plain": [
              "VBox(children=(Label(value='461.606 MB of 461.606 MB uploaded (0.000 MB deduped)\\r'), FloatProgress(value=1.0,…"
            ]
          },
          "metadata": {},
          "output_type": "display_data"
        },
        {
          "data": {
            "text/html": [
              "Synced <strong style=\"color:#cdcd00\">dulcet-music-5</strong>: <a href=\"https://wandb.ai/krankile/master-test/runs/lymkxesm\" target=\"_blank\">https://wandb.ai/krankile/master-test/runs/lymkxesm</a><br/>Synced 5 W&B file(s), 0 media file(s), 1 artifact file(s) and 0 other file(s)"
            ],
            "text/plain": [
              "<IPython.core.display.HTML object>"
            ]
          },
          "metadata": {},
          "output_type": "display_data"
        },
        {
          "data": {
            "text/html": [
              "Find logs at: <code>.\\wandb\\run-20220425_145012-lymkxesm\\logs</code>"
            ],
            "text/plain": [
              "<IPython.core.display.HTML object>"
            ]
          },
          "metadata": {},
          "output_type": "display_data"
        }
      ],
      "source": [
        "write_to_wandb = True\n",
        "if write_to_wandb:\n",
        "    with wandb.init(project=\"master-test\") as run:\n",
        "\n",
        "        upload_artifact(run, macro_location, \"oil-macro-data\")\n",
        "        upload_artifact(run, company_location, \"oil-company-data\")"
      ]
    },
    {
      "cell_type": "markdown",
      "id": "ec825654",
      "metadata": {
        "id": "ec825654"
      },
      "source": [
        "## Testing"
      ]
    },
    {
      "cell_type": "code",
      "execution_count": null,
      "id": "ce8c923e",
      "metadata": {
        "id": "ce8c923e",
        "outputId": "7189ec05-e866-4982-e076-e47d850a5b93"
      },
      "outputs": [
        {
          "data": {
            "text/html": [
              "<div>\n",
              "<style scoped>\n",
              "    .dataframe tbody tr th:only-of-type {\n",
              "        vertical-align: middle;\n",
              "    }\n",
              "\n",
              "    .dataframe tbody tr th {\n",
              "        vertical-align: top;\n",
              "    }\n",
              "\n",
              "    .dataframe thead th {\n",
              "        text-align: right;\n",
              "    }\n",
              "</style>\n",
              "<table border=\"1\" class=\"dataframe\">\n",
              "  <thead>\n",
              "    <tr style=\"text-align: right;\">\n",
              "      <th></th>\n",
              "      <th>Instrument</th>\n",
              "      <th>Date</th>\n",
              "      <th>Company Market Cap</th>\n",
              "      <th>Price Close</th>\n",
              "      <th>Currency</th>\n",
              "    </tr>\n",
              "  </thead>\n",
              "  <tbody>\n",
              "    <tr>\n",
              "      <th>0</th>\n",
              "      <td>GGX.AX</td>\n",
              "      <td></td>\n",
              "      <td>&lt;NA&gt;</td>\n",
              "      <td>&lt;NA&gt;</td>\n",
              "      <td>USD</td>\n",
              "    </tr>\n",
              "    <tr>\n",
              "      <th>1</th>\n",
              "      <td>GGX.AX</td>\n",
              "      <td></td>\n",
              "      <td>&lt;NA&gt;</td>\n",
              "      <td>&lt;NA&gt;</td>\n",
              "      <td>USD</td>\n",
              "    </tr>\n",
              "    <tr>\n",
              "      <th>2</th>\n",
              "      <td>GGX.AX</td>\n",
              "      <td></td>\n",
              "      <td>&lt;NA&gt;</td>\n",
              "      <td>&lt;NA&gt;</td>\n",
              "      <td>USD</td>\n",
              "    </tr>\n",
              "    <tr>\n",
              "      <th>3</th>\n",
              "      <td>GGX.AX</td>\n",
              "      <td></td>\n",
              "      <td>&lt;NA&gt;</td>\n",
              "      <td>&lt;NA&gt;</td>\n",
              "      <td>USD</td>\n",
              "    </tr>\n",
              "    <tr>\n",
              "      <th>4</th>\n",
              "      <td>GGX.AX</td>\n",
              "      <td></td>\n",
              "      <td>&lt;NA&gt;</td>\n",
              "      <td>&lt;NA&gt;</td>\n",
              "      <td>USD</td>\n",
              "    </tr>\n",
              "    <tr>\n",
              "      <th>...</th>\n",
              "      <td>...</td>\n",
              "      <td>...</td>\n",
              "      <td>...</td>\n",
              "      <td>...</td>\n",
              "      <td>...</td>\n",
              "    </tr>\n",
              "    <tr>\n",
              "      <th>9476370</th>\n",
              "      <td>AEC.V</td>\n",
              "      <td>2022-04-14T00:00:00Z</td>\n",
              "      <td>43250854.906096</td>\n",
              "      <td>0.10716</td>\n",
              "      <td>USD</td>\n",
              "    </tr>\n",
              "    <tr>\n",
              "      <th>9476371</th>\n",
              "      <td>AEC.V</td>\n",
              "      <td>2022-04-18T00:00:00Z</td>\n",
              "      <td>43082857.134364</td>\n",
              "      <td>0.107015</td>\n",
              "      <td>USD</td>\n",
              "    </tr>\n",
              "    <tr>\n",
              "      <th>9476372</th>\n",
              "      <td>AEC.V</td>\n",
              "      <td>2022-04-19T00:00:00Z</td>\n",
              "      <td>43079442.196417</td>\n",
              "      <td>0.107015</td>\n",
              "      <td>USD</td>\n",
              "    </tr>\n",
              "    <tr>\n",
              "      <th>9476373</th>\n",
              "      <td>AEC.V</td>\n",
              "      <td>2022-04-20T00:00:00Z</td>\n",
              "      <td>43486177.208353</td>\n",
              "      <td>0.107015</td>\n",
              "      <td>USD</td>\n",
              "    </tr>\n",
              "    <tr>\n",
              "      <th>9476374</th>\n",
              "      <td>AEC.V</td>\n",
              "      <td>2022-04-21T00:00:00Z</td>\n",
              "      <td>35207815.352202</td>\n",
              "      <td>0.087454</td>\n",
              "      <td>USD</td>\n",
              "    </tr>\n",
              "  </tbody>\n",
              "</table>\n",
              "<p>9476375 rows × 5 columns</p>\n",
              "</div>"
            ],
            "text/plain": [
              "        Instrument                  Date  Company Market Cap  Price Close  \\\n",
              "0           GGX.AX                                      <NA>         <NA>   \n",
              "1           GGX.AX                                      <NA>         <NA>   \n",
              "2           GGX.AX                                      <NA>         <NA>   \n",
              "3           GGX.AX                                      <NA>         <NA>   \n",
              "4           GGX.AX                                      <NA>         <NA>   \n",
              "...            ...                   ...                 ...          ...   \n",
              "9476370      AEC.V  2022-04-14T00:00:00Z     43250854.906096      0.10716   \n",
              "9476371      AEC.V  2022-04-18T00:00:00Z     43082857.134364     0.107015   \n",
              "9476372      AEC.V  2022-04-19T00:00:00Z     43079442.196417     0.107015   \n",
              "9476373      AEC.V  2022-04-20T00:00:00Z     43486177.208353     0.107015   \n",
              "9476374      AEC.V  2022-04-21T00:00:00Z     35207815.352202     0.087454   \n",
              "\n",
              "        Currency  \n",
              "0            USD  \n",
              "1            USD  \n",
              "2            USD  \n",
              "3            USD  \n",
              "4            USD  \n",
              "...          ...  \n",
              "9476370      USD  \n",
              "9476371      USD  \n",
              "9476372      USD  \n",
              "9476373      USD  \n",
              "9476374      USD  \n",
              "\n",
              "[9476375 rows x 5 columns]"
            ]
          },
          "execution_count": 241,
          "metadata": {},
          "output_type": "execute_result"
        }
      ],
      "source": [
        "df_big"
      ]
    },
    {
      "cell_type": "code",
      "execution_count": null,
      "id": "1fc1cf01",
      "metadata": {
        "id": "1fc1cf01"
      },
      "outputs": [],
      "source": [
        "wandb.init()\n",
        "\n",
        "artifact = wandb.Artifact('mnist', type='dataset')\n",
        "artifact.add_dir('mnist/')\n",
        "wandb.log_artifact(artifact)"
      ]
    },
    {
      "cell_type": "code",
      "execution_count": null,
      "id": "56b7dbf9",
      "metadata": {
        "id": "56b7dbf9"
      },
      "outputs": [],
      "source": [
        "time_series_df_2, meta_df, fundamental_df, broker_df = get_data(lst_of_tickers[:5], params)\n",
        "time_series_df_2"
      ]
    },
    {
      "cell_type": "code",
      "execution_count": null,
      "id": "66b50e0e",
      "metadata": {
        "id": "66b50e0e"
      },
      "outputs": [],
      "source": [
        "time_series_df_2[\"Number Of Stocks\"].isna().sum()"
      ]
    },
    {
      "cell_type": "code",
      "execution_count": null,
      "id": "a4657359",
      "metadata": {
        "id": "a4657359"
      },
      "outputs": [],
      "source": [
        "time_series_df[\"Common Shares - Outstanding - Total\"].isna().sum()"
      ]
    },
    {
      "cell_type": "code",
      "execution_count": null,
      "id": "5ab00243",
      "metadata": {
        "id": "5ab00243"
      },
      "outputs": [],
      "source": [
        "time_series_df"
      ]
    },
    {
      "cell_type": "code",
      "execution_count": null,
      "id": "5a5d3c81",
      "metadata": {
        "id": "5a5d3c81"
      },
      "outputs": [],
      "source": [
        "pd.set_option('display.max_rows', 1000)\n",
        "time_series_df.to_excel(\"stock_data_2.xlsx\")"
      ]
    },
    {
      "cell_type": "code",
      "execution_count": null,
      "id": "69540527",
      "metadata": {
        "id": "69540527"
      },
      "outputs": [],
      "source": [
        "#Conclusion, makes small difference in time to process at server\n",
        "test_time = False\n",
        "\n",
        "if test_time: \n",
        "    params_single = {'SDate': start_date, 'EDate': end_date,'Frq': 'FQ','Period': 'FQ0'}\n",
        "    params_curn = {'SDate': start_date, 'EDate': end_date,'Frq': 'FQ','Period': 'FQ0', \"Curn\":\"USD\"}\n",
        "    \n",
        "    \n",
        "    start_time = time.time()\n",
        "    data,err = ek.get_data(osbx_companies.index[:3].to_list(), financials, params_single)\n",
        "    print(\"--- simple: %s seconds ---\" % (time.time() - start_time))\n",
        "\n",
        "    start_time = time.time()\n",
        "    data_usd,err = ek.get_data(osbx_companies.index[:3].to_list(), financials, params_curn)\n",
        "    print(\"--- Curn: %s seconds ---\" % (time.time() - start_time))\n",
        "\n",
        "    start_time = time.time()\n",
        "    data_all,err = ek.get_data(osbx_companies.index[:3].to_list(), financials, params)\n",
        "    print(\"--- Scale & Curn: %s seconds ---\" % (time.time() - start_time))"
      ]
    }
  ],
  "metadata": {
    "kernelspec": {
      "display_name": "Python 3 (ipykernel)",
      "language": "python",
      "name": "python3"
    },
    "language_info": {
      "codemirror_mode": {
        "name": "ipython",
        "version": 3
      },
      "file_extension": ".py",
      "mimetype": "text/x-python",
      "name": "python",
      "nbconvert_exporter": "python",
      "pygments_lexer": "ipython3",
      "version": "3.9.7"
    },
    "colab": {
      "name": "data_collection.ipynb",
      "provenance": [],
      "collapsed_sections": [
        "ec825654"
      ],
      "include_colab_link": true
    }
  },
  "nbformat": 4,
  "nbformat_minor": 5
}