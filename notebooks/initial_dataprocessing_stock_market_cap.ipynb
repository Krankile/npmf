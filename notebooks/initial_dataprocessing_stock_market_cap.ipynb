{
  "nbformat": 4,
  "nbformat_minor": 0,
  "metadata": {
    "colab": {
      "name": "initial_dataprocessing_stockvalue.ipynb",
      "provenance": [],
      "collapsed_sections": [],
      "toc_visible": true,
      "machine_shape": "hm",
      "include_colab_link": true
    },
    "kernelspec": {
      "name": "python3",
      "display_name": "Python 3"
    },
    "language_info": {
      "name": "python"
    },
    "widgets": {
      "application/vnd.jupyter.widget-state+json": {
        "873444d2cd184038bb60a096feb20bc9": {
          "model_module": "@jupyter-widgets/controls",
          "model_name": "VBoxModel",
          "model_module_version": "1.5.0",
          "state": {
            "_dom_classes": [],
            "_model_module": "@jupyter-widgets/controls",
            "_model_module_version": "1.5.0",
            "_model_name": "VBoxModel",
            "_view_count": null,
            "_view_module": "@jupyter-widgets/controls",
            "_view_module_version": "1.5.0",
            "_view_name": "VBoxView",
            "box_style": "",
            "children": [
              "IPY_MODEL_1f732f3488754ead9ff81ef2590a5e93",
              "IPY_MODEL_19bcd954485547a08574577b3e204492"
            ],
            "layout": "IPY_MODEL_19b573aed0224ce1b16dd8836d8139ee"
          }
        },
        "1f732f3488754ead9ff81ef2590a5e93": {
          "model_module": "@jupyter-widgets/controls",
          "model_name": "LabelModel",
          "model_module_version": "1.5.0",
          "state": {
            "_dom_classes": [],
            "_model_module": "@jupyter-widgets/controls",
            "_model_module_version": "1.5.0",
            "_model_name": "LabelModel",
            "_view_count": null,
            "_view_module": "@jupyter-widgets/controls",
            "_view_module_version": "1.5.0",
            "_view_name": "LabelView",
            "description": "",
            "description_tooltip": null,
            "layout": "IPY_MODEL_9e470e1bdd024eb292ea246c36dcd19c",
            "placeholder": "​",
            "style": "IPY_MODEL_e6079b910c3f425e9bc7ab03edb626ff",
            "value": "434.819 MB of 434.819 MB uploaded (0.000 MB deduped)\r"
          }
        },
        "19bcd954485547a08574577b3e204492": {
          "model_module": "@jupyter-widgets/controls",
          "model_name": "FloatProgressModel",
          "model_module_version": "1.5.0",
          "state": {
            "_dom_classes": [],
            "_model_module": "@jupyter-widgets/controls",
            "_model_module_version": "1.5.0",
            "_model_name": "FloatProgressModel",
            "_view_count": null,
            "_view_module": "@jupyter-widgets/controls",
            "_view_module_version": "1.5.0",
            "_view_name": "ProgressView",
            "bar_style": "",
            "description": "",
            "description_tooltip": null,
            "layout": "IPY_MODEL_79011785a10e49308186fd5b32349aae",
            "max": 1,
            "min": 0,
            "orientation": "horizontal",
            "style": "IPY_MODEL_472a8dd2f30348dea670163abddd3f5c",
            "value": 1
          }
        },
        "19b573aed0224ce1b16dd8836d8139ee": {
          "model_module": "@jupyter-widgets/base",
          "model_name": "LayoutModel",
          "model_module_version": "1.2.0",
          "state": {
            "_model_module": "@jupyter-widgets/base",
            "_model_module_version": "1.2.0",
            "_model_name": "LayoutModel",
            "_view_count": null,
            "_view_module": "@jupyter-widgets/base",
            "_view_module_version": "1.2.0",
            "_view_name": "LayoutView",
            "align_content": null,
            "align_items": null,
            "align_self": null,
            "border": null,
            "bottom": null,
            "display": null,
            "flex": null,
            "flex_flow": null,
            "grid_area": null,
            "grid_auto_columns": null,
            "grid_auto_flow": null,
            "grid_auto_rows": null,
            "grid_column": null,
            "grid_gap": null,
            "grid_row": null,
            "grid_template_areas": null,
            "grid_template_columns": null,
            "grid_template_rows": null,
            "height": null,
            "justify_content": null,
            "justify_items": null,
            "left": null,
            "margin": null,
            "max_height": null,
            "max_width": null,
            "min_height": null,
            "min_width": null,
            "object_fit": null,
            "object_position": null,
            "order": null,
            "overflow": null,
            "overflow_x": null,
            "overflow_y": null,
            "padding": null,
            "right": null,
            "top": null,
            "visibility": null,
            "width": null
          }
        },
        "9e470e1bdd024eb292ea246c36dcd19c": {
          "model_module": "@jupyter-widgets/base",
          "model_name": "LayoutModel",
          "model_module_version": "1.2.0",
          "state": {
            "_model_module": "@jupyter-widgets/base",
            "_model_module_version": "1.2.0",
            "_model_name": "LayoutModel",
            "_view_count": null,
            "_view_module": "@jupyter-widgets/base",
            "_view_module_version": "1.2.0",
            "_view_name": "LayoutView",
            "align_content": null,
            "align_items": null,
            "align_self": null,
            "border": null,
            "bottom": null,
            "display": null,
            "flex": null,
            "flex_flow": null,
            "grid_area": null,
            "grid_auto_columns": null,
            "grid_auto_flow": null,
            "grid_auto_rows": null,
            "grid_column": null,
            "grid_gap": null,
            "grid_row": null,
            "grid_template_areas": null,
            "grid_template_columns": null,
            "grid_template_rows": null,
            "height": null,
            "justify_content": null,
            "justify_items": null,
            "left": null,
            "margin": null,
            "max_height": null,
            "max_width": null,
            "min_height": null,
            "min_width": null,
            "object_fit": null,
            "object_position": null,
            "order": null,
            "overflow": null,
            "overflow_x": null,
            "overflow_y": null,
            "padding": null,
            "right": null,
            "top": null,
            "visibility": null,
            "width": null
          }
        },
        "e6079b910c3f425e9bc7ab03edb626ff": {
          "model_module": "@jupyter-widgets/controls",
          "model_name": "DescriptionStyleModel",
          "model_module_version": "1.5.0",
          "state": {
            "_model_module": "@jupyter-widgets/controls",
            "_model_module_version": "1.5.0",
            "_model_name": "DescriptionStyleModel",
            "_view_count": null,
            "_view_module": "@jupyter-widgets/base",
            "_view_module_version": "1.2.0",
            "_view_name": "StyleView",
            "description_width": ""
          }
        },
        "79011785a10e49308186fd5b32349aae": {
          "model_module": "@jupyter-widgets/base",
          "model_name": "LayoutModel",
          "model_module_version": "1.2.0",
          "state": {
            "_model_module": "@jupyter-widgets/base",
            "_model_module_version": "1.2.0",
            "_model_name": "LayoutModel",
            "_view_count": null,
            "_view_module": "@jupyter-widgets/base",
            "_view_module_version": "1.2.0",
            "_view_name": "LayoutView",
            "align_content": null,
            "align_items": null,
            "align_self": null,
            "border": null,
            "bottom": null,
            "display": null,
            "flex": null,
            "flex_flow": null,
            "grid_area": null,
            "grid_auto_columns": null,
            "grid_auto_flow": null,
            "grid_auto_rows": null,
            "grid_column": null,
            "grid_gap": null,
            "grid_row": null,
            "grid_template_areas": null,
            "grid_template_columns": null,
            "grid_template_rows": null,
            "height": null,
            "justify_content": null,
            "justify_items": null,
            "left": null,
            "margin": null,
            "max_height": null,
            "max_width": null,
            "min_height": null,
            "min_width": null,
            "object_fit": null,
            "object_position": null,
            "order": null,
            "overflow": null,
            "overflow_x": null,
            "overflow_y": null,
            "padding": null,
            "right": null,
            "top": null,
            "visibility": null,
            "width": null
          }
        },
        "472a8dd2f30348dea670163abddd3f5c": {
          "model_module": "@jupyter-widgets/controls",
          "model_name": "ProgressStyleModel",
          "model_module_version": "1.5.0",
          "state": {
            "_model_module": "@jupyter-widgets/controls",
            "_model_module_version": "1.5.0",
            "_model_name": "ProgressStyleModel",
            "_view_count": null,
            "_view_module": "@jupyter-widgets/base",
            "_view_module_version": "1.2.0",
            "_view_name": "StyleView",
            "bar_color": null,
            "description_width": ""
          }
        },
        "600eb3d5f53e4e5c8101645f1b1cf97a": {
          "model_module": "@jupyter-widgets/controls",
          "model_name": "VBoxModel",
          "model_module_version": "1.5.0",
          "state": {
            "_dom_classes": [],
            "_model_module": "@jupyter-widgets/controls",
            "_model_module_version": "1.5.0",
            "_model_name": "VBoxModel",
            "_view_count": null,
            "_view_module": "@jupyter-widgets/controls",
            "_view_module_version": "1.5.0",
            "_view_name": "VBoxView",
            "box_style": "",
            "children": [
              "IPY_MODEL_c3de969311464ff0a7e8b0c6fc245d0c",
              "IPY_MODEL_fe5c93caf98f446891ef490ebf661dba"
            ],
            "layout": "IPY_MODEL_4100910043ae4664a84f114db8fd6487"
          }
        },
        "c3de969311464ff0a7e8b0c6fc245d0c": {
          "model_module": "@jupyter-widgets/controls",
          "model_name": "LabelModel",
          "model_module_version": "1.5.0",
          "state": {
            "_dom_classes": [],
            "_model_module": "@jupyter-widgets/controls",
            "_model_module_version": "1.5.0",
            "_model_name": "LabelModel",
            "_view_count": null,
            "_view_module": "@jupyter-widgets/controls",
            "_view_module_version": "1.5.0",
            "_view_name": "LabelView",
            "description": "",
            "description_tooltip": null,
            "layout": "IPY_MODEL_dd5a9be523d24858aed5fe03e9be04ee",
            "placeholder": "​",
            "style": "IPY_MODEL_900d833c6677427b9785e1724ef884ab",
            "value": "0.008 MB of 0.008 MB uploaded (0.000 MB deduped)\r"
          }
        },
        "fe5c93caf98f446891ef490ebf661dba": {
          "model_module": "@jupyter-widgets/controls",
          "model_name": "FloatProgressModel",
          "model_module_version": "1.5.0",
          "state": {
            "_dom_classes": [],
            "_model_module": "@jupyter-widgets/controls",
            "_model_module_version": "1.5.0",
            "_model_name": "FloatProgressModel",
            "_view_count": null,
            "_view_module": "@jupyter-widgets/controls",
            "_view_module_version": "1.5.0",
            "_view_name": "ProgressView",
            "bar_style": "",
            "description": "",
            "description_tooltip": null,
            "layout": "IPY_MODEL_2caa8a391702441c8fd2e05911d80abb",
            "max": 1,
            "min": 0,
            "orientation": "horizontal",
            "style": "IPY_MODEL_d53bf8bb879040d396529737add56725",
            "value": 1
          }
        },
        "4100910043ae4664a84f114db8fd6487": {
          "model_module": "@jupyter-widgets/base",
          "model_name": "LayoutModel",
          "model_module_version": "1.2.0",
          "state": {
            "_model_module": "@jupyter-widgets/base",
            "_model_module_version": "1.2.0",
            "_model_name": "LayoutModel",
            "_view_count": null,
            "_view_module": "@jupyter-widgets/base",
            "_view_module_version": "1.2.0",
            "_view_name": "LayoutView",
            "align_content": null,
            "align_items": null,
            "align_self": null,
            "border": null,
            "bottom": null,
            "display": null,
            "flex": null,
            "flex_flow": null,
            "grid_area": null,
            "grid_auto_columns": null,
            "grid_auto_flow": null,
            "grid_auto_rows": null,
            "grid_column": null,
            "grid_gap": null,
            "grid_row": null,
            "grid_template_areas": null,
            "grid_template_columns": null,
            "grid_template_rows": null,
            "height": null,
            "justify_content": null,
            "justify_items": null,
            "left": null,
            "margin": null,
            "max_height": null,
            "max_width": null,
            "min_height": null,
            "min_width": null,
            "object_fit": null,
            "object_position": null,
            "order": null,
            "overflow": null,
            "overflow_x": null,
            "overflow_y": null,
            "padding": null,
            "right": null,
            "top": null,
            "visibility": null,
            "width": null
          }
        },
        "dd5a9be523d24858aed5fe03e9be04ee": {
          "model_module": "@jupyter-widgets/base",
          "model_name": "LayoutModel",
          "model_module_version": "1.2.0",
          "state": {
            "_model_module": "@jupyter-widgets/base",
            "_model_module_version": "1.2.0",
            "_model_name": "LayoutModel",
            "_view_count": null,
            "_view_module": "@jupyter-widgets/base",
            "_view_module_version": "1.2.0",
            "_view_name": "LayoutView",
            "align_content": null,
            "align_items": null,
            "align_self": null,
            "border": null,
            "bottom": null,
            "display": null,
            "flex": null,
            "flex_flow": null,
            "grid_area": null,
            "grid_auto_columns": null,
            "grid_auto_flow": null,
            "grid_auto_rows": null,
            "grid_column": null,
            "grid_gap": null,
            "grid_row": null,
            "grid_template_areas": null,
            "grid_template_columns": null,
            "grid_template_rows": null,
            "height": null,
            "justify_content": null,
            "justify_items": null,
            "left": null,
            "margin": null,
            "max_height": null,
            "max_width": null,
            "min_height": null,
            "min_width": null,
            "object_fit": null,
            "object_position": null,
            "order": null,
            "overflow": null,
            "overflow_x": null,
            "overflow_y": null,
            "padding": null,
            "right": null,
            "top": null,
            "visibility": null,
            "width": null
          }
        },
        "900d833c6677427b9785e1724ef884ab": {
          "model_module": "@jupyter-widgets/controls",
          "model_name": "DescriptionStyleModel",
          "model_module_version": "1.5.0",
          "state": {
            "_model_module": "@jupyter-widgets/controls",
            "_model_module_version": "1.5.0",
            "_model_name": "DescriptionStyleModel",
            "_view_count": null,
            "_view_module": "@jupyter-widgets/base",
            "_view_module_version": "1.2.0",
            "_view_name": "StyleView",
            "description_width": ""
          }
        },
        "2caa8a391702441c8fd2e05911d80abb": {
          "model_module": "@jupyter-widgets/base",
          "model_name": "LayoutModel",
          "model_module_version": "1.2.0",
          "state": {
            "_model_module": "@jupyter-widgets/base",
            "_model_module_version": "1.2.0",
            "_model_name": "LayoutModel",
            "_view_count": null,
            "_view_module": "@jupyter-widgets/base",
            "_view_module_version": "1.2.0",
            "_view_name": "LayoutView",
            "align_content": null,
            "align_items": null,
            "align_self": null,
            "border": null,
            "bottom": null,
            "display": null,
            "flex": null,
            "flex_flow": null,
            "grid_area": null,
            "grid_auto_columns": null,
            "grid_auto_flow": null,
            "grid_auto_rows": null,
            "grid_column": null,
            "grid_gap": null,
            "grid_row": null,
            "grid_template_areas": null,
            "grid_template_columns": null,
            "grid_template_rows": null,
            "height": null,
            "justify_content": null,
            "justify_items": null,
            "left": null,
            "margin": null,
            "max_height": null,
            "max_width": null,
            "min_height": null,
            "min_width": null,
            "object_fit": null,
            "object_position": null,
            "order": null,
            "overflow": null,
            "overflow_x": null,
            "overflow_y": null,
            "padding": null,
            "right": null,
            "top": null,
            "visibility": null,
            "width": null
          }
        },
        "d53bf8bb879040d396529737add56725": {
          "model_module": "@jupyter-widgets/controls",
          "model_name": "ProgressStyleModel",
          "model_module_version": "1.5.0",
          "state": {
            "_model_module": "@jupyter-widgets/controls",
            "_model_module_version": "1.5.0",
            "_model_name": "ProgressStyleModel",
            "_view_count": null,
            "_view_module": "@jupyter-widgets/base",
            "_view_module_version": "1.2.0",
            "_view_name": "StyleView",
            "bar_color": null,
            "description_width": ""
          }
        },
        "218c596ed75a45d298076defca390b26": {
          "model_module": "@jupyter-widgets/controls",
          "model_name": "VBoxModel",
          "model_module_version": "1.5.0",
          "state": {
            "_dom_classes": [],
            "_model_module": "@jupyter-widgets/controls",
            "_model_module_version": "1.5.0",
            "_model_name": "VBoxModel",
            "_view_count": null,
            "_view_module": "@jupyter-widgets/controls",
            "_view_module_version": "1.5.0",
            "_view_name": "VBoxView",
            "box_style": "",
            "children": [
              "IPY_MODEL_b452fbdc45d94966b02bdb5d15d899bb",
              "IPY_MODEL_ca7bcf8af33347d9ab116df3f0e35029"
            ],
            "layout": "IPY_MODEL_32e29f978b804243a1973f553ba9460c"
          }
        },
        "b452fbdc45d94966b02bdb5d15d899bb": {
          "model_module": "@jupyter-widgets/controls",
          "model_name": "LabelModel",
          "model_module_version": "1.5.0",
          "state": {
            "_dom_classes": [],
            "_model_module": "@jupyter-widgets/controls",
            "_model_module_version": "1.5.0",
            "_model_name": "LabelModel",
            "_view_count": null,
            "_view_module": "@jupyter-widgets/controls",
            "_view_module_version": "1.5.0",
            "_view_name": "LabelView",
            "description": "",
            "description_tooltip": null,
            "layout": "IPY_MODEL_3b5b83e13f27461982b5a30ff4351338",
            "placeholder": "​",
            "style": "IPY_MODEL_ca371696b11943ee91cf5d3798b12e2d",
            "value": "0.008 MB of 0.008 MB uploaded (0.000 MB deduped)\r"
          }
        },
        "ca7bcf8af33347d9ab116df3f0e35029": {
          "model_module": "@jupyter-widgets/controls",
          "model_name": "FloatProgressModel",
          "model_module_version": "1.5.0",
          "state": {
            "_dom_classes": [],
            "_model_module": "@jupyter-widgets/controls",
            "_model_module_version": "1.5.0",
            "_model_name": "FloatProgressModel",
            "_view_count": null,
            "_view_module": "@jupyter-widgets/controls",
            "_view_module_version": "1.5.0",
            "_view_name": "ProgressView",
            "bar_style": "",
            "description": "",
            "description_tooltip": null,
            "layout": "IPY_MODEL_dc45bceecfb74b94b54a893c5eb24661",
            "max": 1,
            "min": 0,
            "orientation": "horizontal",
            "style": "IPY_MODEL_60bd34de396c4b1bbcba6b2443893342",
            "value": 1
          }
        },
        "32e29f978b804243a1973f553ba9460c": {
          "model_module": "@jupyter-widgets/base",
          "model_name": "LayoutModel",
          "model_module_version": "1.2.0",
          "state": {
            "_model_module": "@jupyter-widgets/base",
            "_model_module_version": "1.2.0",
            "_model_name": "LayoutModel",
            "_view_count": null,
            "_view_module": "@jupyter-widgets/base",
            "_view_module_version": "1.2.0",
            "_view_name": "LayoutView",
            "align_content": null,
            "align_items": null,
            "align_self": null,
            "border": null,
            "bottom": null,
            "display": null,
            "flex": null,
            "flex_flow": null,
            "grid_area": null,
            "grid_auto_columns": null,
            "grid_auto_flow": null,
            "grid_auto_rows": null,
            "grid_column": null,
            "grid_gap": null,
            "grid_row": null,
            "grid_template_areas": null,
            "grid_template_columns": null,
            "grid_template_rows": null,
            "height": null,
            "justify_content": null,
            "justify_items": null,
            "left": null,
            "margin": null,
            "max_height": null,
            "max_width": null,
            "min_height": null,
            "min_width": null,
            "object_fit": null,
            "object_position": null,
            "order": null,
            "overflow": null,
            "overflow_x": null,
            "overflow_y": null,
            "padding": null,
            "right": null,
            "top": null,
            "visibility": null,
            "width": null
          }
        },
        "3b5b83e13f27461982b5a30ff4351338": {
          "model_module": "@jupyter-widgets/base",
          "model_name": "LayoutModel",
          "model_module_version": "1.2.0",
          "state": {
            "_model_module": "@jupyter-widgets/base",
            "_model_module_version": "1.2.0",
            "_model_name": "LayoutModel",
            "_view_count": null,
            "_view_module": "@jupyter-widgets/base",
            "_view_module_version": "1.2.0",
            "_view_name": "LayoutView",
            "align_content": null,
            "align_items": null,
            "align_self": null,
            "border": null,
            "bottom": null,
            "display": null,
            "flex": null,
            "flex_flow": null,
            "grid_area": null,
            "grid_auto_columns": null,
            "grid_auto_flow": null,
            "grid_auto_rows": null,
            "grid_column": null,
            "grid_gap": null,
            "grid_row": null,
            "grid_template_areas": null,
            "grid_template_columns": null,
            "grid_template_rows": null,
            "height": null,
            "justify_content": null,
            "justify_items": null,
            "left": null,
            "margin": null,
            "max_height": null,
            "max_width": null,
            "min_height": null,
            "min_width": null,
            "object_fit": null,
            "object_position": null,
            "order": null,
            "overflow": null,
            "overflow_x": null,
            "overflow_y": null,
            "padding": null,
            "right": null,
            "top": null,
            "visibility": null,
            "width": null
          }
        },
        "ca371696b11943ee91cf5d3798b12e2d": {
          "model_module": "@jupyter-widgets/controls",
          "model_name": "DescriptionStyleModel",
          "model_module_version": "1.5.0",
          "state": {
            "_model_module": "@jupyter-widgets/controls",
            "_model_module_version": "1.5.0",
            "_model_name": "DescriptionStyleModel",
            "_view_count": null,
            "_view_module": "@jupyter-widgets/base",
            "_view_module_version": "1.2.0",
            "_view_name": "StyleView",
            "description_width": ""
          }
        },
        "dc45bceecfb74b94b54a893c5eb24661": {
          "model_module": "@jupyter-widgets/base",
          "model_name": "LayoutModel",
          "model_module_version": "1.2.0",
          "state": {
            "_model_module": "@jupyter-widgets/base",
            "_model_module_version": "1.2.0",
            "_model_name": "LayoutModel",
            "_view_count": null,
            "_view_module": "@jupyter-widgets/base",
            "_view_module_version": "1.2.0",
            "_view_name": "LayoutView",
            "align_content": null,
            "align_items": null,
            "align_self": null,
            "border": null,
            "bottom": null,
            "display": null,
            "flex": null,
            "flex_flow": null,
            "grid_area": null,
            "grid_auto_columns": null,
            "grid_auto_flow": null,
            "grid_auto_rows": null,
            "grid_column": null,
            "grid_gap": null,
            "grid_row": null,
            "grid_template_areas": null,
            "grid_template_columns": null,
            "grid_template_rows": null,
            "height": null,
            "justify_content": null,
            "justify_items": null,
            "left": null,
            "margin": null,
            "max_height": null,
            "max_width": null,
            "min_height": null,
            "min_width": null,
            "object_fit": null,
            "object_position": null,
            "order": null,
            "overflow": null,
            "overflow_x": null,
            "overflow_y": null,
            "padding": null,
            "right": null,
            "top": null,
            "visibility": null,
            "width": null
          }
        },
        "60bd34de396c4b1bbcba6b2443893342": {
          "model_module": "@jupyter-widgets/controls",
          "model_name": "ProgressStyleModel",
          "model_module_version": "1.5.0",
          "state": {
            "_model_module": "@jupyter-widgets/controls",
            "_model_module_version": "1.5.0",
            "_model_name": "ProgressStyleModel",
            "_view_count": null,
            "_view_module": "@jupyter-widgets/base",
            "_view_module_version": "1.2.0",
            "_view_name": "StyleView",
            "bar_color": null,
            "description_width": ""
          }
        }
      }
    }
  },
  "cells": [
    {
      "cell_type": "markdown",
      "metadata": {
        "id": "view-in-github",
        "colab_type": "text"
      },
      "source": [
        "<a href=\"https://colab.research.google.com/github/Krankile/npmf/blob/main/notebooks/initial_dataprocessing_stock_market_cap.ipynb\" target=\"_parent\"><img src=\"https://colab.research.google.com/assets/colab-badge.svg\" alt=\"Open In Colab\"/></a>"
      ]
    },
    {
      "cell_type": "markdown",
      "source": [
        "#Setup"
      ],
      "metadata": {
        "id": "d8F5tl4NL7FZ"
      }
    },
    {
      "cell_type": "markdown",
      "source": [
        "## Kernel setup"
      ],
      "metadata": {
        "id": "Rwo44VGZLhAo"
      }
    },
    {
      "cell_type": "code",
      "source": [
        "%load_ext autoreload\n",
        "%autoreload 2"
      ],
      "metadata": {
        "id": "hKuFzk7aEmB9"
      },
      "execution_count": 1,
      "outputs": []
    },
    {
      "cell_type": "code",
      "source": [
        "%%capture\n",
        "!git clone https://github.com/Krankile/npmf.git\n",
        "!pip install wandb"
      ],
      "metadata": {
        "id": "91KPY7q0LUOw"
      },
      "execution_count": 2,
      "outputs": []
    },
    {
      "cell_type": "code",
      "source": [
        "!wandb login"
      ],
      "metadata": {
        "colab": {
          "base_uri": "https://localhost:8080/"
        },
        "id": "zLr0RXyY3WaA",
        "outputId": "0ea97088-a157-4575-af9c-cd2fa5e08161"
      },
      "execution_count": 3,
      "outputs": [
        {
          "output_type": "stream",
          "name": "stdout",
          "text": [
            "\u001b[34m\u001b[1mwandb\u001b[0m: You can find your API key in your browser here: https://wandb.ai/authorize\n",
            "\u001b[34m\u001b[1mwandb\u001b[0m: Paste an API key from your profile and hit enter, or press ctrl+c to quit: \n",
            "\u001b[34m\u001b[1mwandb\u001b[0m: Appending key for api.wandb.ai to your netrc file: /root/.netrc\n"
          ]
        }
      ]
    },
    {
      "cell_type": "markdown",
      "source": [
        "## General setup"
      ],
      "metadata": {
        "id": "CLAlA0htLgMY"
      }
    },
    {
      "cell_type": "code",
      "source": [
        "%%capture\n",
        "!cd npmf && git pull\n",
        "\n",
        "import os\n",
        "from collections import defaultdict\n",
        "from collections import Counter\n",
        "from datetime import datetime\n",
        "from operator import itemgetter\n",
        "\n",
        "import numpy as np\n",
        "from numpy.ma.core import outerproduct\n",
        "import pandas as pd\n",
        "import matplotlib as mpl\n",
        "import matplotlib.pyplot as plt\n",
        "from tqdm import tqdm\n",
        "\n",
        "import wandb as wb\n",
        "\n",
        "import torch\n",
        "from torch import nn\n",
        "from torch.utils.data import DataLoader\n",
        "from torchvision import datasets, transforms\n",
        "\n",
        "from npmf.utils.colors import main, main2, main3\n",
        "from npmf.utils.eikon import column_mapping\n",
        "from npmf.utils.wandb import put_dataset, get_dataset\n",
        "from npmf.utils.data import test_start_pd"
      ],
      "metadata": {
        "id": "1QSlgObXLq1p"
      },
      "execution_count": 4,
      "outputs": []
    },
    {
      "cell_type": "code",
      "source": [
        "mpl.rcParams['axes.prop_cycle'] = mpl.cycler(color=[main, main2, main3, \"black\"])\n",
        "mpl.rcParams['figure.figsize'] = (6, 4)  # (6, 4) is default and used in the paper"
      ],
      "metadata": {
        "id": "hkTjKKLmLvpl"
      },
      "execution_count": 5,
      "outputs": []
    },
    {
      "cell_type": "code",
      "source": [
        "device = \"cuda\" if torch.cuda.is_available() else \"cpu\"\n",
        "print(f\"Using {device} device\")"
      ],
      "metadata": {
        "colab": {
          "base_uri": "https://localhost:8080/"
        },
        "id": "Dqy02oAvY7GM",
        "outputId": "6ae9f09e-b79a-4c21-ed74-3fe8a97a5efb"
      },
      "execution_count": 6,
      "outputs": [
        {
          "output_type": "stream",
          "name": "stdout",
          "text": [
            "Using cpu device\n"
          ]
        }
      ]
    },
    {
      "cell_type": "code",
      "source": [
        "np.random.seed(420)"
      ],
      "metadata": {
        "id": "YVFtfDk0pYtd"
      },
      "execution_count": 7,
      "outputs": []
    },
    {
      "cell_type": "markdown",
      "source": [
        "# Let's get the data and and check it 😂✨KAWAIII ^^✨\n",
        "\n"
      ],
      "metadata": {
        "id": "5SjJBQhRLym1"
      }
    },
    {
      "cell_type": "code",
      "source": [
        "oil_data = get_dataset(\"oil-company-data:v1\", project=\"master-test\").set_index(\"Instrument\")\n",
        "banking_data = get_dataset(\"banking-company-data:v0\", project=\"master-test\").set_index(\"Instrument\")"
      ],
      "metadata": {
        "colab": {
          "base_uri": "https://localhost:8080/",
          "height": 320,
          "referenced_widgets": [
            "600eb3d5f53e4e5c8101645f1b1cf97a",
            "c3de969311464ff0a7e8b0c6fc245d0c",
            "fe5c93caf98f446891ef490ebf661dba",
            "4100910043ae4664a84f114db8fd6487",
            "dd5a9be523d24858aed5fe03e9be04ee",
            "900d833c6677427b9785e1724ef884ab",
            "2caa8a391702441c8fd2e05911d80abb",
            "d53bf8bb879040d396529737add56725",
            "218c596ed75a45d298076defca390b26",
            "b452fbdc45d94966b02bdb5d15d899bb",
            "ca7bcf8af33347d9ab116df3f0e35029",
            "32e29f978b804243a1973f553ba9460c",
            "3b5b83e13f27461982b5a30ff4351338",
            "ca371696b11943ee91cf5d3798b12e2d",
            "dc45bceecfb74b94b54a893c5eb24661",
            "60bd34de396c4b1bbcba6b2443893342"
          ]
        },
        "id": "k_Vm1L8H4A0m",
        "outputId": "5908110d-f08e-4ec7-add0-610110afe278"
      },
      "execution_count": 8,
      "outputs": [
        {
          "output_type": "stream",
          "name": "stderr",
          "text": [
            "\u001b[34m\u001b[1mwandb\u001b[0m: Currently logged in as: \u001b[33mkjartan\u001b[0m (\u001b[33mkrankile\u001b[0m). Use \u001b[1m`wandb login --relogin`\u001b[0m to force relogin\n"
          ]
        },
        {
          "output_type": "display_data",
          "data": {
            "text/plain": [
              "<IPython.core.display.HTML object>"
            ],
            "text/html": [
              "Tracking run with wandb version 0.12.17"
            ]
          },
          "metadata": {}
        },
        {
          "output_type": "display_data",
          "data": {
            "text/plain": [
              "<IPython.core.display.HTML object>"
            ],
            "text/html": [
              "Run data is saved locally in <code>/content/wandb/run-20220526_092522-1v6e30lx</code>"
            ]
          },
          "metadata": {}
        },
        {
          "output_type": "display_data",
          "data": {
            "text/plain": [
              "<IPython.core.display.HTML object>"
            ],
            "text/html": [
              "Syncing run <strong><a href=\"https://wandb.ai/krankile/master-test/runs/1v6e30lx\" target=\"_blank\">distinctive-brook-435</a></strong> to <a href=\"https://wandb.ai/krankile/master-test\" target=\"_blank\">Weights & Biases</a> (<a href=\"https://wandb.me/run\" target=\"_blank\">docs</a>)<br/>"
            ]
          },
          "metadata": {}
        },
        {
          "output_type": "stream",
          "name": "stderr",
          "text": [
            "\u001b[34m\u001b[1mwandb\u001b[0m: Downloading large artifact oil-company-data:v1, 461.61MB. 1 files... Done. 0:0:0\n"
          ]
        },
        {
          "output_type": "display_data",
          "data": {
            "text/plain": [
              "<IPython.core.display.HTML object>"
            ],
            "text/html": [
              "Waiting for W&B process to finish... <strong style=\"color:green\">(success).</strong>"
            ]
          },
          "metadata": {}
        },
        {
          "output_type": "display_data",
          "data": {
            "text/plain": [
              "VBox(children=(Label(value='0.001 MB of 0.001 MB uploaded (0.000 MB deduped)\\r'), FloatProgress(value=1.0, max…"
            ],
            "application/vnd.jupyter.widget-view+json": {
              "version_major": 2,
              "version_minor": 0,
              "model_id": "600eb3d5f53e4e5c8101645f1b1cf97a"
            }
          },
          "metadata": {}
        },
        {
          "output_type": "display_data",
          "data": {
            "text/plain": [
              "<IPython.core.display.HTML object>"
            ],
            "text/html": [
              "Synced <strong style=\"color:#cdcd00\">distinctive-brook-435</strong>: <a href=\"https://wandb.ai/krankile/master-test/runs/1v6e30lx\" target=\"_blank\">https://wandb.ai/krankile/master-test/runs/1v6e30lx</a><br/>Synced 5 W&B file(s), 0 media file(s), 0 artifact file(s) and 0 other file(s)"
            ]
          },
          "metadata": {}
        },
        {
          "output_type": "display_data",
          "data": {
            "text/plain": [
              "<IPython.core.display.HTML object>"
            ],
            "text/html": [
              "Find logs at: <code>./wandb/run-20220526_092522-1v6e30lx/logs</code>"
            ]
          },
          "metadata": {}
        },
        {
          "output_type": "display_data",
          "data": {
            "text/plain": [
              "<IPython.core.display.HTML object>"
            ],
            "text/html": [
              "Tracking run with wandb version 0.12.17"
            ]
          },
          "metadata": {}
        },
        {
          "output_type": "display_data",
          "data": {
            "text/plain": [
              "<IPython.core.display.HTML object>"
            ],
            "text/html": [
              "Run data is saved locally in <code>/content/wandb/run-20220526_092545-mq4nqdek</code>"
            ]
          },
          "metadata": {}
        },
        {
          "output_type": "display_data",
          "data": {
            "text/plain": [
              "<IPython.core.display.HTML object>"
            ],
            "text/html": [
              "Syncing run <strong><a href=\"https://wandb.ai/krankile/master-test/runs/mq4nqdek\" target=\"_blank\">desert-hill-436</a></strong> to <a href=\"https://wandb.ai/krankile/master-test\" target=\"_blank\">Weights & Biases</a> (<a href=\"https://wandb.me/run\" target=\"_blank\">docs</a>)<br/>"
            ]
          },
          "metadata": {}
        },
        {
          "output_type": "stream",
          "name": "stderr",
          "text": [
            "\u001b[34m\u001b[1mwandb\u001b[0m: Downloading large artifact banking-company-data:v0, 1218.24MB. 1 files... Done. 0:0:0\n"
          ]
        },
        {
          "output_type": "display_data",
          "data": {
            "text/plain": [
              "<IPython.core.display.HTML object>"
            ],
            "text/html": [
              "Waiting for W&B process to finish... <strong style=\"color:green\">(success).</strong>"
            ]
          },
          "metadata": {}
        },
        {
          "output_type": "display_data",
          "data": {
            "text/plain": [
              "VBox(children=(Label(value='0.001 MB of 0.001 MB uploaded (0.000 MB deduped)\\r'), FloatProgress(value=1.0, max…"
            ],
            "application/vnd.jupyter.widget-view+json": {
              "version_major": 2,
              "version_minor": 0,
              "model_id": "218c596ed75a45d298076defca390b26"
            }
          },
          "metadata": {}
        },
        {
          "output_type": "display_data",
          "data": {
            "text/plain": [
              "<IPython.core.display.HTML object>"
            ],
            "text/html": [
              "Synced <strong style=\"color:#cdcd00\">desert-hill-436</strong>: <a href=\"https://wandb.ai/krankile/master-test/runs/mq4nqdek\" target=\"_blank\">https://wandb.ai/krankile/master-test/runs/mq4nqdek</a><br/>Synced 5 W&B file(s), 0 media file(s), 0 artifact file(s) and 0 other file(s)"
            ]
          },
          "metadata": {}
        },
        {
          "output_type": "display_data",
          "data": {
            "text/plain": [
              "<IPython.core.display.HTML object>"
            ],
            "text/html": [
              "Find logs at: <code>./wandb/run-20220526_092545-mq4nqdek/logs</code>"
            ]
          },
          "metadata": {}
        }
      ]
    },
    {
      "cell_type": "code",
      "source": [
        "data = pd.concat([oil_data, banking_data], axis=0)"
      ],
      "metadata": {
        "id": "ZWD4pQ83C-TO"
      },
      "execution_count": 9,
      "outputs": []
    },
    {
      "cell_type": "code",
      "source": [
        "data = data[~(data.Date == \"\")].astype({\"Date\": np.datetime64})\n",
        "data = data.drop_duplicates()\n",
        "data"
      ],
      "metadata": {
        "colab": {
          "base_uri": "https://localhost:8080/",
          "height": 455
        },
        "id": "uyMibnZgvgXv",
        "outputId": "19d776f6-772a-4453-8ba8-575bbbcfe6e8"
      },
      "execution_count": 10,
      "outputs": [
        {
          "output_type": "execute_result",
          "data": {
            "text/plain": [
              "                 Date  Company Market Cap  Price Close Currency\n",
              "Instrument                                                     \n",
              "GGX.AX     2005-05-13      4510832.105479     0.116764      USD\n",
              "GGX.AX     2005-05-16      4486502.643904     0.116764      USD\n",
              "GGX.AX     2005-05-17      4483522.209137     0.116057      USD\n",
              "GGX.AX     2005-05-18       4519172.59536     0.116057      USD\n",
              "GGX.AX     2005-05-19      3827143.993207     0.099066      USD\n",
              "...               ...                 ...          ...      ...\n",
              "BNAB.BR    2022-04-13    746995777.849951  1877.653206      USD\n",
              "BNAB.BR    2022-04-14     755415260.69446  1878.478162      USD\n",
              "BNAB.BR    2022-04-19    750703784.798248  1876.759462      USD\n",
              "BNAB.BR    2022-04-20    750819174.098908  1877.047935      USD\n",
              "BNAB.BR    2022-04-21    749851005.038739  1874.627513      USD\n",
              "\n",
              "[21574174 rows x 4 columns]"
            ],
            "text/html": [
              "\n",
              "  <div id=\"df-28eb3555-1989-4339-b913-4618c2d06206\">\n",
              "    <div class=\"colab-df-container\">\n",
              "      <div>\n",
              "<style scoped>\n",
              "    .dataframe tbody tr th:only-of-type {\n",
              "        vertical-align: middle;\n",
              "    }\n",
              "\n",
              "    .dataframe tbody tr th {\n",
              "        vertical-align: top;\n",
              "    }\n",
              "\n",
              "    .dataframe thead th {\n",
              "        text-align: right;\n",
              "    }\n",
              "</style>\n",
              "<table border=\"1\" class=\"dataframe\">\n",
              "  <thead>\n",
              "    <tr style=\"text-align: right;\">\n",
              "      <th></th>\n",
              "      <th>Date</th>\n",
              "      <th>Company Market Cap</th>\n",
              "      <th>Price Close</th>\n",
              "      <th>Currency</th>\n",
              "    </tr>\n",
              "    <tr>\n",
              "      <th>Instrument</th>\n",
              "      <th></th>\n",
              "      <th></th>\n",
              "      <th></th>\n",
              "      <th></th>\n",
              "    </tr>\n",
              "  </thead>\n",
              "  <tbody>\n",
              "    <tr>\n",
              "      <th>GGX.AX</th>\n",
              "      <td>2005-05-13</td>\n",
              "      <td>4510832.105479</td>\n",
              "      <td>0.116764</td>\n",
              "      <td>USD</td>\n",
              "    </tr>\n",
              "    <tr>\n",
              "      <th>GGX.AX</th>\n",
              "      <td>2005-05-16</td>\n",
              "      <td>4486502.643904</td>\n",
              "      <td>0.116764</td>\n",
              "      <td>USD</td>\n",
              "    </tr>\n",
              "    <tr>\n",
              "      <th>GGX.AX</th>\n",
              "      <td>2005-05-17</td>\n",
              "      <td>4483522.209137</td>\n",
              "      <td>0.116057</td>\n",
              "      <td>USD</td>\n",
              "    </tr>\n",
              "    <tr>\n",
              "      <th>GGX.AX</th>\n",
              "      <td>2005-05-18</td>\n",
              "      <td>4519172.59536</td>\n",
              "      <td>0.116057</td>\n",
              "      <td>USD</td>\n",
              "    </tr>\n",
              "    <tr>\n",
              "      <th>GGX.AX</th>\n",
              "      <td>2005-05-19</td>\n",
              "      <td>3827143.993207</td>\n",
              "      <td>0.099066</td>\n",
              "      <td>USD</td>\n",
              "    </tr>\n",
              "    <tr>\n",
              "      <th>...</th>\n",
              "      <td>...</td>\n",
              "      <td>...</td>\n",
              "      <td>...</td>\n",
              "      <td>...</td>\n",
              "    </tr>\n",
              "    <tr>\n",
              "      <th>BNAB.BR</th>\n",
              "      <td>2022-04-13</td>\n",
              "      <td>746995777.849951</td>\n",
              "      <td>1877.653206</td>\n",
              "      <td>USD</td>\n",
              "    </tr>\n",
              "    <tr>\n",
              "      <th>BNAB.BR</th>\n",
              "      <td>2022-04-14</td>\n",
              "      <td>755415260.69446</td>\n",
              "      <td>1878.478162</td>\n",
              "      <td>USD</td>\n",
              "    </tr>\n",
              "    <tr>\n",
              "      <th>BNAB.BR</th>\n",
              "      <td>2022-04-19</td>\n",
              "      <td>750703784.798248</td>\n",
              "      <td>1876.759462</td>\n",
              "      <td>USD</td>\n",
              "    </tr>\n",
              "    <tr>\n",
              "      <th>BNAB.BR</th>\n",
              "      <td>2022-04-20</td>\n",
              "      <td>750819174.098908</td>\n",
              "      <td>1877.047935</td>\n",
              "      <td>USD</td>\n",
              "    </tr>\n",
              "    <tr>\n",
              "      <th>BNAB.BR</th>\n",
              "      <td>2022-04-21</td>\n",
              "      <td>749851005.038739</td>\n",
              "      <td>1874.627513</td>\n",
              "      <td>USD</td>\n",
              "    </tr>\n",
              "  </tbody>\n",
              "</table>\n",
              "<p>21574174 rows × 4 columns</p>\n",
              "</div>\n",
              "      <button class=\"colab-df-convert\" onclick=\"convertToInteractive('df-28eb3555-1989-4339-b913-4618c2d06206')\"\n",
              "              title=\"Convert this dataframe to an interactive table.\"\n",
              "              style=\"display:none;\">\n",
              "        \n",
              "  <svg xmlns=\"http://www.w3.org/2000/svg\" height=\"24px\"viewBox=\"0 0 24 24\"\n",
              "       width=\"24px\">\n",
              "    <path d=\"M0 0h24v24H0V0z\" fill=\"none\"/>\n",
              "    <path d=\"M18.56 5.44l.94 2.06.94-2.06 2.06-.94-2.06-.94-.94-2.06-.94 2.06-2.06.94zm-11 1L8.5 8.5l.94-2.06 2.06-.94-2.06-.94L8.5 2.5l-.94 2.06-2.06.94zm10 10l.94 2.06.94-2.06 2.06-.94-2.06-.94-.94-2.06-.94 2.06-2.06.94z\"/><path d=\"M17.41 7.96l-1.37-1.37c-.4-.4-.92-.59-1.43-.59-.52 0-1.04.2-1.43.59L10.3 9.45l-7.72 7.72c-.78.78-.78 2.05 0 2.83L4 21.41c.39.39.9.59 1.41.59.51 0 1.02-.2 1.41-.59l7.78-7.78 2.81-2.81c.8-.78.8-2.07 0-2.86zM5.41 20L4 18.59l7.72-7.72 1.47 1.35L5.41 20z\"/>\n",
              "  </svg>\n",
              "      </button>\n",
              "      \n",
              "  <style>\n",
              "    .colab-df-container {\n",
              "      display:flex;\n",
              "      flex-wrap:wrap;\n",
              "      gap: 12px;\n",
              "    }\n",
              "\n",
              "    .colab-df-convert {\n",
              "      background-color: #E8F0FE;\n",
              "      border: none;\n",
              "      border-radius: 50%;\n",
              "      cursor: pointer;\n",
              "      display: none;\n",
              "      fill: #1967D2;\n",
              "      height: 32px;\n",
              "      padding: 0 0 0 0;\n",
              "      width: 32px;\n",
              "    }\n",
              "\n",
              "    .colab-df-convert:hover {\n",
              "      background-color: #E2EBFA;\n",
              "      box-shadow: 0px 1px 2px rgba(60, 64, 67, 0.3), 0px 1px 3px 1px rgba(60, 64, 67, 0.15);\n",
              "      fill: #174EA6;\n",
              "    }\n",
              "\n",
              "    [theme=dark] .colab-df-convert {\n",
              "      background-color: #3B4455;\n",
              "      fill: #D2E3FC;\n",
              "    }\n",
              "\n",
              "    [theme=dark] .colab-df-convert:hover {\n",
              "      background-color: #434B5C;\n",
              "      box-shadow: 0px 1px 3px 1px rgba(0, 0, 0, 0.15);\n",
              "      filter: drop-shadow(0px 1px 2px rgba(0, 0, 0, 0.3));\n",
              "      fill: #FFFFFF;\n",
              "    }\n",
              "  </style>\n",
              "\n",
              "      <script>\n",
              "        const buttonEl =\n",
              "          document.querySelector('#df-28eb3555-1989-4339-b913-4618c2d06206 button.colab-df-convert');\n",
              "        buttonEl.style.display =\n",
              "          google.colab.kernel.accessAllowed ? 'block' : 'none';\n",
              "\n",
              "        async function convertToInteractive(key) {\n",
              "          const element = document.querySelector('#df-28eb3555-1989-4339-b913-4618c2d06206');\n",
              "          const dataTable =\n",
              "            await google.colab.kernel.invokeFunction('convertToInteractive',\n",
              "                                                     [key], {});\n",
              "          if (!dataTable) return;\n",
              "\n",
              "          const docLinkHtml = 'Like what you see? Visit the ' +\n",
              "            '<a target=\"_blank\" href=https://colab.research.google.com/notebooks/data_table.ipynb>data table notebook</a>'\n",
              "            + ' to learn more about interactive tables.';\n",
              "          element.innerHTML = '';\n",
              "          dataTable['output_type'] = 'display_data';\n",
              "          await google.colab.output.renderOutput(dataTable, element);\n",
              "          const docLink = document.createElement('div');\n",
              "          docLink.innerHTML = docLinkHtml;\n",
              "          element.appendChild(docLink);\n",
              "        }\n",
              "      </script>\n",
              "    </div>\n",
              "  </div>\n",
              "  "
            ]
          },
          "metadata": {},
          "execution_count": 10
        }
      ]
    },
    {
      "cell_type": "markdown",
      "source": [
        "## Number of unique companies"
      ],
      "metadata": {
        "id": "d4elNYJVk-LL"
      }
    },
    {
      "cell_type": "code",
      "source": [
        "tickers = data[~data[\"Company Market Cap\"].isna()].index.unique()\n",
        "\n",
        "print(f\"{tickers.shape[0]} unique companies in the set\")"
      ],
      "metadata": {
        "colab": {
          "base_uri": "https://localhost:8080/"
        },
        "id": "keZlJXjC_j4J",
        "outputId": "71dc0639-d108-4b63-9f5d-a8cc38427cbb"
      },
      "execution_count": 11,
      "outputs": [
        {
          "output_type": "stream",
          "name": "stdout",
          "text": [
            "6223 unique companies in the set\n"
          ]
        }
      ]
    },
    {
      "cell_type": "markdown",
      "source": [
        "## Number of datapoints for the market cap"
      ],
      "metadata": {
        "id": "s5TTq3INlLxb"
      }
    },
    {
      "cell_type": "code",
      "source": [
        "marketcaps = data.shape[0]\n",
        "print(f\"There is a total of {marketcaps} datapoints in the dataset\")\n",
        "\n",
        "marketcaps = data[~data[\"Company Market Cap\"].isna()].shape[0]\n",
        "print(f\"There is a total of {marketcaps} datapoints in the dataset that are not NAs\")"
      ],
      "metadata": {
        "colab": {
          "base_uri": "https://localhost:8080/"
        },
        "id": "3pFT5iSjCS5L",
        "outputId": "083b173c-8371-4096-b704-98d9357cc432"
      },
      "execution_count": 12,
      "outputs": [
        {
          "output_type": "stream",
          "name": "stdout",
          "text": [
            "There is a total of 21574174 datapoints in the dataset\n",
            "There is a total of 21260562 datapoints in the dataset that are not NAs\n"
          ]
        }
      ]
    },
    {
      "cell_type": "markdown",
      "source": [
        "# Start process of sorting out data\n",
        "\n",
        "First, cut of leading and trailing NAs for all companies."
      ],
      "metadata": {
        "id": "KYS2wHRVmhHd"
      }
    },
    {
      "cell_type": "markdown",
      "source": [
        "## Remove leading and trailing NAs"
      ],
      "metadata": {
        "id": "n2Dga0OAp2ny"
      }
    },
    {
      "cell_type": "code",
      "source": [
        "stripped = []\n",
        "points_stripped = 0\n",
        "\n",
        "for ticker in tqdm(tickers):\n",
        "    d = data.loc[ticker, ]\n",
        "    start = 0\n",
        "    end = d.shape[0]\n",
        "\n",
        "    # Start at the beginning and find first real value\n",
        "    for i, val in enumerate(d[\"Company Market Cap\"]):\n",
        "        if not pd.isna(val):\n",
        "            start = i\n",
        "            break\n",
        "    points_stripped += i\n",
        "\n",
        "    for i, val in enumerate(d[\"Company Market Cap\"][::-1]):\n",
        "        if not pd.isna(val):\n",
        "            end -= i\n",
        "            break\n",
        "    points_stripped += i\n",
        "\n",
        "    stripped.append(d.iloc[start:end, ])\n",
        "\n",
        "stripped = pd.concat(stripped, axis=0)\n",
        "\n",
        "print(f\"Total of {stripped.shape[0]} datapoints after stripping\")"
      ],
      "metadata": {
        "colab": {
          "base_uri": "https://localhost:8080/"
        },
        "id": "Pyzjk2bMqJON",
        "outputId": "d063c480-300f-40c4-8fb9-270010af9558"
      },
      "execution_count": 13,
      "outputs": [
        {
          "output_type": "stream",
          "name": "stderr",
          "text": [
            "100%|██████████| 6223/6223 [44:02<00:00,  2.36it/s]\n"
          ]
        },
        {
          "output_type": "stream",
          "name": "stdout",
          "text": [
            "Total of 21469160 datapoints after stripping\n"
          ]
        }
      ]
    },
    {
      "cell_type": "markdown",
      "source": [
        "Then, consider different strategies for sorting out companies. For example\n",
        "\n",
        "1.   Make sure companies have less than $p$% NAs for all quarters\n",
        "2.   Take out companies where each string of missing values are longer than $n$"
      ],
      "metadata": {
        "id": "_8fFG3PhsMYu"
      }
    },
    {
      "cell_type": "markdown",
      "source": [
        "## Remove companies with long streaks of NAs"
      ],
      "metadata": {
        "id": "amHHuADW3NIU"
      }
    },
    {
      "cell_type": "code",
      "source": [
        "def na_streak_maxlen(ser):\n",
        "\n",
        "    longest = 0\n",
        "    curr = 0\n",
        "\n",
        "    for val in ser:\n",
        "        if not pd.isna(val):\n",
        "            curr = 0\n",
        "            continue\n",
        "        \n",
        "        curr += 1\n",
        "\n",
        "        if curr > longest:\n",
        "            longest = curr\n",
        "\n",
        "    return longest"
      ],
      "metadata": {
        "id": "-fIRPkJ_3Xnk"
      },
      "execution_count": 14,
      "outputs": []
    },
    {
      "cell_type": "code",
      "source": [
        "longest_gap = dict()\n",
        "\n",
        "for ticker in tqdm(tickers):\n",
        "    longest_gap[ticker] = na_streak_maxlen(stripped.loc[ticker, \"Company Market Cap\"])"
      ],
      "metadata": {
        "colab": {
          "base_uri": "https://localhost:8080/"
        },
        "id": "NcpUbqnL4ExV",
        "outputId": "91deafbc-832a-48bb-fa7b-0669bcd55b6e"
      },
      "execution_count": 15,
      "outputs": [
        {
          "output_type": "stream",
          "name": "stderr",
          "text": [
            "100%|██████████| 6223/6223 [45:41<00:00,  2.27it/s]\n"
          ]
        }
      ]
    },
    {
      "cell_type": "code",
      "source": [
        "counts = stripped.reset_index().groupby(\"Instrument\").count()\n",
        "points = dict(zip(counts.index, counts[\"Company Market Cap\"]))"
      ],
      "metadata": {
        "id": "0Mrn9SfPKSiO"
      },
      "execution_count": 16,
      "outputs": []
    },
    {
      "cell_type": "code",
      "source": [
        "ks = sorted(set(longest_gap.values()))\n",
        "\n",
        "runtot_comp = 0\n",
        "runtot_data = 0\n",
        "left = set(tickers)\n",
        "\n",
        "companies = []\n",
        "datapoints = []\n",
        "\n",
        "for k in tqdm(ks):\n",
        "    for ticker in left.copy():\n",
        "        if longest_gap[ticker] <= k:\n",
        "            runtot_comp += 1\n",
        "            runtot_data += points[ticker]\n",
        "            left.remove(ticker)\n",
        "\n",
        "    companies.append(runtot_comp)\n",
        "    datapoints.append(runtot_data)"
      ],
      "metadata": {
        "colab": {
          "base_uri": "https://localhost:8080/"
        },
        "id": "xa02pJMSGDU9",
        "outputId": "dad314c1-62f7-416c-961f-e0695fbd7604"
      },
      "execution_count": 17,
      "outputs": [
        {
          "output_type": "stream",
          "name": "stderr",
          "text": [
            "100%|██████████| 313/313 [00:00<00:00, 6386.38it/s]\n"
          ]
        }
      ]
    },
    {
      "cell_type": "code",
      "source": [
        "total_comp = stripped.index.unique().shape[0]\n",
        "total_points = sum(points.values())\n",
        "\n",
        "c = np.array(companies) / total_comp\n",
        "d = np.array(datapoints) / total_points\n",
        "\n",
        "cutoff_gap = 5\n",
        "cutoff_index = ks.index(cutoff_gap)\n",
        "print(list(c[:cutoff_index]))\n",
        "plt.plot(ks + [cutoff_index],  list(c[:cutoff_index+1]) + [None]*(len(c) - cutoff_index), color=main2, linestyle=\"-.\") #Add the index to make series overlapp \n",
        "plt.plot(ks, [None]*cutoff_index + list(c[cutoff_index:]), label=\"% of companies\",color=main, linestyle=\"-.\")\n",
        "\n",
        "plt.plot(ks + [cutoff_index],  list(d[:cutoff_index+1]) + [None]*(len(d)- cutoff_index), color=main2) #Add the index to make series overlapp\n",
        "plt.plot(ks, [None]*cutoff_index + list(d[cutoff_index:]), label=\"% of datapoints\", color=main)\n",
        "\n",
        "plt.xscale(\"log\")\n",
        "plt.ylim(bottom=0.9)\n",
        "plt.xlim(right=100)\n",
        "plt.xlabel(\"Longest run of consecutive missing values\")\n",
        "plt.ylabel(\"Share of total\")\n",
        "plt.axhline(y=0.94482077, color=\"gray\", linestyle=\"-.\")\n",
        "plt.axvline(x=cutoff_gap, color=\"gray\", linestyle=\"-.\")\n",
        "plt.legend(frameon=False);"
      ],
      "metadata": {
        "colab": {
          "base_uri": "https://localhost:8080/",
          "height": 301
        },
        "id": "xl6hqm2z8o88",
        "outputId": "ec2c64ec-116c-41b6-d298-ac746db383d0"
      },
      "execution_count": 37,
      "outputs": [
        {
          "output_type": "stream",
          "name": "stdout",
          "text": [
            "[0.933151213241202, 0.9339546842358991, 0.935079543628475, 0.9355616262252933, 0.9357223204242326]\n"
          ]
        },
        {
          "output_type": "display_data",
          "data": {
            "text/plain": [
              "<Figure size 432x288 with 1 Axes>"
            ],
            "image/png": "[encoded data removed]"
          },
          "metadata": {
            "needs_background": "light"
          }
        }
      ]
    },
    {
      "cell_type": "markdown",
      "source": [
        "### Find all tickers where the gaps are shorther than or equal to 5 points"
      ],
      "metadata": {
        "id": "MwFx_cfhlKx3"
      }
    },
    {
      "cell_type": "code",
      "source": [
        "longest_gap.items()"
      ],
      "metadata": {
        "colab": {
          "base_uri": "https://localhost:8080/"
        },
        "id": "8H4QJEqMn2EL",
        "outputId": "7ea6d62e-49e0-4687-d148-6102fb5f3dfc"
      },
      "execution_count": null,
      "outputs": [
        {
          "output_type": "execute_result",
          "data": {
            "text/plain": [
              "dict_items([('GGX.AX', 0), ('AUSG.SI', 0), ('TNEN.PK', 0), ('CARM.KL', 0), ('6477.TW', 0), ('000968.SZ', 0), ('NEL.OL', 0), ('MTR.N', 0), ('MET.V', 0), ('INDY.JK', 0), ('HFC.HNO', 59), ('SZR.WA', 0), ('VMY.AX', 0), ('PIPE.TO', 0), ('OIL.CD', 0), ('WHD.N', 0), ('137950.KQ', 0), ('YITD.PK', 0), ('EFR.TO', 0), ('PPIH.OQ', 0), ('XL.V', 0), ('MUR.N', 0), ('NBR.N', 0), ('5015.T', 0), ('FPI.PS', 154), ('CEI.A', 0), ('NESTE.HE', 0), ('ROCOTN.BX', 0), ('FOSP.BX', 439), ('AGE.BK', 0), ('OANDO.LG', 0), ('PFC.L', 0), ('VLLP.PA', 0), ('BISI.L', 0), ('601798.SS', 0), ('CLC.WA', 0), ('IPEKE.IS', 0), ('PHEG.L', 0), ('APLP.TA', 0), ('000096.SZ', 0), ('SHE.AX', 428), ('TRXO.PK', 0), ('RAKP.OL', 0), ('603637.SS', 0), ('MG.N', 0), ('CHARC.L', 0), ('JGH.AX', 510), ('NC.N', 0), ('NR.N', 0), ('RVTI.PK', 0), ('PMG.HM', 0), ('BOSS.JK', 0), ('QGTS.QA', 0), ('PNE.TO', 0), ('BKEP.OQ', 0), ('KEY.AX', 0), ('BMN.AX', 0), ('MEG.TO', 0), ('TVK.TO', 0), ('JSKY.JK', 0), ('AAKA.NS', 0), ('ESI.TO', 0), ('OII.N', 0), ('OKE.N', 0), ('EASG.BO', 0), ('ALW.MI', 0), ('ADRO.JK', 0), ('TTG.V', 0), ('2012.HK', 0), ('MFGS.MM', 0), ('000983.SZ', 0), ('000985.SZ', 0), ('PMX.V', 0), ('OUTB.PK', 0), ('OSG.N', 14), ('POG.V', 0), ('LOIL.BEL', 735), ('MOX.V', 0), ('PTRD.KL', 208), ('002623.SZ', 0), ('PSSS.PK', 0), ('PKDC.PK', 0), ('GLV.AX', 0), ('BYE.AX', 0), ('7441.FU', 0), ('EP.A', 0), ('1516.TW', 0), ('GERS.PK', 0), ('GEI.TO', 0), ('PVL.N', 0), ('STRA.KL', 0), ('BEEM.OQ', 0), ('CMV.HM', 0), ('SQZ.L', 0), ('CHY.V', 0), ('ROCC.OQ', 1), ('WUC.CD', 0), ('INDII.L', 0), ('SAVOS.ST', 0), ('TUSK.OQ', 0), ('PET.L', 0), ('EZHL.SI', 0), ('OBE.TO', 0), ('PBT.N', 0), ('SOU.L', 0), ('TGLO.KL', 0), ('BSTH.L', 0), ('ALNG.OL', 0), ('RECV3.SA', 0), ('NTGAZ.IS', 0), ('CWV.V', 0), ('2178.HK', 0), ('PCO.V', 0), ('RUNh.V', 0), ('AOC.CD', 0), ('GEOS.OL', 0), ('EFX.TO', 0), ('ABMM.JK', 0), ('HIBI.KL', 0), ('NDRL.CA', 0), ('JBR.CD', 181), ('INTR.DH', 0), ('VIHD.PK', 0), ('BP.L', 0), ('PRDP.L', 0), ('CHX.OQ', 0), ('FEDL.SI', 0), ('BENh.V', 145), ('PD.TO', 0), ('HBR.L', 0), ('GUJM.BO', 0), ('ENER.KW', 0), ('SETG.BU', 0), ('0968.HK', 0), ('601088.SS', 0), ('TAGP.PK', 129), ('GCEH.PK', 0), ('1229.HK', 0), ('CIVI.N', 0), ('AVN.V', 0), ('PNRG.OQ', 0), ('RES.N', 0), ('000159.SZ', 0), ('CWC.V', 0), ('CNE.L', 0), ('ZEU.AX', 0), ('TMK.AX', 0), ('UHO.V', 67), ('MLBSP.EUA', 0), ('2798.HK', 0), ('PRT.N', 0), ('EMEL.L', 0), ('GPIK.KW', 0), ('BWTX.PK', 0), ('LCNTU.PK', 0), ('PPL.TO', 0), ('ATLA.CO', 0), ('DIGh.V', 0), ('SKK.V', 0), ('600028.SS', 0), ('TRKX.PK', 0), ('MGAG.PK', 0), ('HLHL.SI', 0), ('MCHL.SI', 0), ('BNE.TO', 0), ('SBR.N', 0), ('ICON.KL', 0), ('AKTa.TO', 0), ('600856.SS', 0), ('SGREN.MC', 0), ('8927.TWO', 0), ('TPNR.ZA', 0), ('MRGE.PK', 0), ('VEER.BO', 0), ('CTA.V', 0), ('FIND.V', 0), ('VVO.L', 0), ('POU.TO', 0), ('GENL.L', 0), ('KKO.AX', 319), ('MPIR.PK', 0), ('POGS.PK', 0), ('RSRV.PK', 0), ('UOS.L', 0), ('SNV.V', 0), ('MOLI.JK', 0), ('TRIN.L', 0), ('VIN.CD', 236), ('PTTEP.BK', 0), ('STNG.N', 0), ('SOOR.KW', 0), ('UZMA.KL', 0), ('IPO.TO', 0), ('BRLL.PK', 0), ('2686.HK', 0), ('SJT.N', 0), ('FO.V', 0), ('CLON.L', 0), ('BLOE.L', 0), ('ARAX.BX', 0), ('2728.HK', 0), ('DAYA.KL', 0), ('PRPS.PK', 0), ('TITA.DH', 0), ('SWN.N', 0), ('SRI.V', 0), ('NTQ.L', 0), ('SDI.V', 0), ('DOP.HNO', 0), ('CLEP.WA', 0), ('MONI.PK', 0), ('1205.HK', 0), ('600290.SS', 0), ('NS.N', 0), ('SU.TO', 0), ('SBOW.N', 0), ('SDRL.OL', 0), ('GIII.V', 734), ('CNFI.BO', 0), ('JIYA.NS', 0), ('PSH.V', 0), ('TTI.N', 0), ('1103.HK', 0), ('TELI.BO', 0), ('IKW.AX', 0), ('CRWEN.NGM', 0), ('VIKO.SI', 224), ('AOIXD.PK', 764), ('PHL.CY', 0), ('8111.HK', 0), ('INSO.PK', 0), ('DPDW.PK', 0), ('JANF.ZA', 0), ('ICN.AX', 0), ('KEI.TO', 0), ('SNRY.PK', 0), ('FOJE.BX', 0), ('ARII.JK', 0), ('PVP.HNO', 0), ('GPP.OQ', 0), ('BSM.N', 0), ('GREP.WA', 191), ('002629.SZ', 0), ('SENX.L', 0), ('OET.OL', 0), ('TDW.N', 0), ('AZR.V', 0), ('UNTC.PK', 0), ('VET.TO', 0), ('HRST.PK', 0), ('YCA.L', 0), ('CWPE.PK', 0), ('USEG.OQ', 0), ('EGY.N', 0), ('TGRO.PK', 0), ('CAF.V', 0), ('DHPF.BO', 0), ('SLGJ.J', 0), ('AMI.V', 0), ('TOEN.TA', 0), ('FESTI.IC', 0), ('BRU.AX', 0), ('PSUR.BA', 0), ('STPIL.TN', 0), ('IGAS.L', 0), ('SUZL.NS', 0), ('WEE.V', 108), ('WLL.N', 0), ('VLE.TO', 0), ('OIS.N', 0), ('DBRM.PK', 0), ('SUNU.BO', 1471), ('SCNG.PK', 0), ('HWO.TO', 0), ('002610.SZ', 0), ('SAEN.KL', 0), ('CPLP.OQ', 0), ('ROG.AX', 0), ('ALENE.PA', 0), ('WEII.V', 359), ('QFUEL.OL', 0), ('SMHI.N', 0), ('NHOA.PA', 0), ('KUB.V', 0), ('NFTA.TA', 0), ('MMMW.PK', 0), ('MMP.N', 0), ('VJGZ.MM', 0), ('SAMY.BO', 1390), ('RZE.V', 116), ('1296.HK', 0), ('VEA.AX', 0), ('TRC.V', 0), ('RCON.OQ', 0), ('MEPET.IS', 0), ('SRLP.N', 0), ('TIG.AX', 0), ('CGEI.PK', 0), ('BBLS.PK', 0), ('PPR.TO', 0), ('600938.SS', 0), ('SIOFF.OL', 0), ('EMEG.BO', 0), ('MRCT.NS', 0), ('SEAM.NS', 0), ('WMB.N', 0), ('600871.SS', 0), ('MJLB.DH', 0), ('300274.SZ', 0), ('SMRU.JK', 0), ('GEOS.OQ', 0), ('AM.N', 0), ('CJ.TO', 0), ('EGH.WA', 0), ('1514.T', 0), ('EME.AX', 0), ('RKH.L', 0), ('ZEST.OQ', 0), ('BSR.HNO', 0), ('BLDP.TO', 0), ('1662.T', 0), ('NOA.TO', 0), ('CBLU.V', 0), ('URC.V', 0), ('AKRA.JK', 0), ('FSY.TO', 0), ('SAE.L', 0), ('SWC.HNO', 0), ('ABAN.NS', 0), ('AEGS.NS', 0), ('CSM.TO', 0), ('REY.AX', 0), ('ARACA.NFF', 0), ('GSFI.PK', 0), ('PVY.HNO', 0), ('MERUS.HE', 0), ('VUI.V', 0), ('RENER.MI', 0), ('GRN.TO', 0), ('KLXE.OQ', 0), ('SLEN.L', 0), ('TRGP.N', 0), ('SELA.NS', 0), ('WESL.NS', 0), ('AFEN.L', 0), ('AMNX.L', 0), ('NXE.TO', 0), ('VEN.AX', 0), ('RTLR.OQ', 0), ('BIR.TO', 0), ('WNDW.PK', 0), ('EXTN.N', 0), ('SPI.OQ', 0), ('GWTI.PK', 0), ('WCP.TO', 0), ('ETRN.N', 0), ('CRC.HM', 0), ('GLL.AX', 0), ('EMP.AX', 903), ('603906.SS', 0), ('5021.T', 0), ('CALS.BO', 0), ('GAGA.BO', 0), ('GAZP.MM', 0), ('CEN.V', 0), ('ALV.V', 0), ('HTG.L', 0), ('PARR.N', 0), ('MSGP.PK', 0), ('COTE.BX', 0), ('SANI.BO', 0), ('EQTE.L', 0), ('MVB.HN', 0), ('BLMC.PK', 0), ('STER.BO', 0), ('BANPU.BK', 0), ('BPT.AX', 0), ('GREG.MC', 0), ('PDCE.OQ', 0), ('WAGA.PA', 0), ('TMB.HN', 0), ('ONDP.WA', 0), ('PXT.TO', 0), ('QEM.AX', 0), ('MR1.AX', 0), ('CISH.ST', 0), ('SNGS.MM', 0), ('INPL.BO', 0), ('RHPG.SI', 0), ('SFL.N', 0), ('ANHL.SI', 0), ('AGGI.PK', 0), ('0346.HK', 0), ('LPI.N', 0), ('601225.SS', 0), ('VGREF.PK', 180), ('RAIZ4.SA', 0), ('USAC.N', 0), ('SPRC.BK', 0), ('SRSG.PK', 0), ('CCLP.OQ', 0), ('SENE.KW', 0), ('TK.N', 0), ('BSC.PS', 0), ('CCORb.ST', 0), ('BTE.TO', 0), ('CHNR.OQ', 0), ('601028.SS', 0), ('ADL.MNE', 0), ('KOPI.JK', 282), ('SGQ.TO', 0), ('ENX.AX', 0), ('600381.SS', 0), ('MMEX.PK', 0), ('HXPN.PK', 0), ('ENGN.BT', 0), ('CTPT.BO', 1528), ('COPEC.SN', 0), ('UKUZ.MM', 193), ('038870.KQ', 0), ('ZEL.NZ', 0), ('AGAS.OL', 0), ('SU3G.BE', 0), ('ET.N', 0), ('HUNT.OL', 0), ('6692.TWO', 0), ('KOS.N', 0), ('REGI.MZ', 0), ('600395.SS', 0), ('GLNG.OQ', 0), ('AMOC.CA', 0), ('DCP.N', 0), ('FZR.AX', 0), ('YPFD.BA', 0), ('SUUh.V', 0), ('ATH.TO', 0), ('603169.SS', 0), ('ADNOCDIST.AD', 0), ('DOID.JK', 0), ('SGC.AX', 0), ('CTP.AX', 0), ('CUE.AX', 0), ('9818.T', 0), ('DHT.N', 0), ('UNIV.SI', 0), ('INSW.N', 0), ('EVOA.PK', 0), ('VUL.V', 0), ('VLm.BK', 0), ('ADN.OQ', 0), ('ANMI.NS', 0), ('HMUG.DE', 0), ('0852.HK', 0), ('SR.V', 0), ('DOHOL.IS', 0), ('ROSN.MM', 0), ('3344.HK', 0), ('LOT.AX', 0), ('ENGT.PK', 0), ('DEC.L', 0), ('TCF.CD', 0), ('7462.T', 0), ('SAOL.NS', 0), ('AXL.V', 0), ('KZTO.KZ', 0), ('AIMS.JK', 101), ('MORr.AT', 0), ('BRK.AX', 0), ('VAR.OL', 0), ('URE.TO', 0), ('RKOS.PK', 0), ('PTG.BK', 0), ('AEGA.OL', 0), ('0704.HK', 0), ('ENI.MI', 0), ('IOX.OL', 0), ('NGAZ.BB', 0), ('PFC.V', 0), ('CLMT.OQ', 0), ('DVC.HNO', 0), ('DMMO3.SA', 0), ('SLKh.V', 334), ('GLSH.BO', 0), ('GESC.NS', 0), ('MANE.AM', 0), ('SIRC.PK', 0), ('MTG.HNO', 0), ('CEQP.N', 0), ('EGRE.L', 0), ('CLB.N', 0), ('NWF.L', 0), ('WEN.L', 0), ('URNM.CD', 0), ('DDG.HN', 0), ('SKEL.IC', 0), ('0065.HK', 0), ('603773.SS', 0), ('SAIV.NS', 5), ('PTH.HNO', 0), ('ETEK.PK', 0), ('GOAC.NS', 0), ('PCL.AX', 0), ('3899.HK', 0), ('UNOh.V', 693), ('600508.SS', 0), ('ROSNP.BX', 0), ('VTO.HM', 0), ('ADME.L', 0), ('MOVE.NLB', 0), ('CCNC.OQ', 0), ('NOL.OL', 0), ('TVM.HNO', 0), ('PENP.WA', 0), ('009830.KS', 0), ('INEP4.SA', 0), ('RCIT.PK', 0), ('TAE.BK', 0), ('SHG.MNE', 0), ('LUNE.ST', 0), ('DOR.AX', 0), ('NAT.N', 0), ('VENI.CD', 713), ('0931.HK', 0), ('MMPC.SI', 0), ('0206.HK', 0), ('GUJA.BO', 684), ('PAAE.BO', 0), ('CAST.NS', 0), ('DLEKG.TA', 0), ('ECHOE.L', 0), ('PLEX.L', 0), ('PGN.WA', 0), ('CPG.TO', 0), ('TEG.AX', 106), ('GEECq.L', 0), ('GEGI.PK', 0), ('ABAR.KW', 0), ('DANA.AD', 0), ('WNRG.L', 0), ('ALYE.PK', 0), ('HITE.PSX', 0), ('FWAV.PK', 0), ('CYAP.PK', 0), ('688121.SS', 0), ('OKEA.OL', 0), ('ANSA.KZ', 0), ('NGL.TTB', 0), ('EXXJ.J', 0), ('CNKO.JK', 0), ('TNP.AX', 0), ('HCD.AX', 0), ('MGC.HNO', 606), ('PLO.HNO', 0), ('BMF.HNO', 0), ('MAHAa.ST', 0), ('AZELIO.ST', 0), ('NBC.HN', 0), ('AZNO.KZ', 1320), ('GOLU.NS', 0), ('EGR1T.TL', 0), ('JACK.NFF', 0), ('688303.SS', 0), ('603619.SS', 0), ('PND.HNO', 0), ('UOGU.L', 0), ('PVC.HN', 0), ('DRQ.N', 0), ('SOFF.OL', 0), ('VLSV.L', 0), ('MMR.AX', 0), ('UAPC.PK', 107), ('SD.N', 0), ('KHKL.SJ', 502), ('PLIN.SJ', 0), ('RMUB.SJ', 0), ('JNDR.NS', 0), ('DYL.AX', 0), ('PSUD.PK', 0), ('SRNW.PK', 0), ('UEC.A', 0), ('MOLB.BU', 0), ('LKOH.MM', 0), ('PTC.V', 0), ('301158.SZ', 0), ('688660.SS', 0), ('PBF.N', 0), ('IPGK.KW', 0), ('SGU.N', 0), ('002129.SZ', 56), ('0475.HK', 0), ('AMPY.N', 0), ('INWN.NS', 0), ('ADD.AX', 0), ('003650.KS', 0), ('GEG.OL', 0), ('NOG.N', 0), ('HAFNI.OL', 0), ('1960.HK', 0), ('KEC.TO', 0), ('MNRL.N', 0), ('MIND.NS', 0), ('EXCE.PK', 0), ('DWGL.JK', 0), ('FCU.TO', 0), ('CUR.V', 0), ('CEU.TO', 0), ('300483.SZ', 0), ('SEPL.L', 0), ('SRG.MI', 0), ('HUSA.A', 0), ('ABO.BR', 0), ('TDO.AX', 0), ('0228.HK', 0), ('1164.HK', 0), ('SUNW.OQ', 0), ('ZNOG.PK', 0), ('SDX.L', 0), ('FLNG.OL', 0), ('IVZ.AX', 0), ('HHR.AX', 0), ('TOE.AX', 0), ('HE.TO', 0), ('AOI.TO', 0), ('TOME.L', 0), ('WAHE.KL', 0), ('CHI.NZ', 0), ('PSE.OL', 0), ('TPZ.TO', 0), ('1251.HK', 0), ('PZOL.TA', 0), ('PETR4.SA', 0), ('SCL.TO', 0), ('REVr.AT', 0), ('HEMN.BO', 0), ('605169.SS', 0), ('OX2SE.ST', 0), ('OCEN.KL', 0), ('BUY.AX', 0), ('COE.AX', 0), ('BDR.CD', 0), ('ANAN.SI', 0), ('ACEX.PS', 0), ('TOBA.JK', 0), ('TLP.HNO', 0), ('288620.KQ', 0), ('NTH.HN', 0), ('BWE.OL', 0), ('313760.KQ', 0), ('688408.SS', 0), ('BANE.MM', 0), ('VYEY.PK', 0), ('DEST.BJ', 0), ('KRPT.BJ', 115), ('1605.T', 0), ('600688.SS', 0), ('LAPD.TA', 0), ('GX.V', 710), ('MISE.ST', 0), ('ANTARCHILE.SN', 0), ('7486.T', 0), ('DMLP.OQ', 0), ('DAFR.BX', 223), ('4200.SE', 0), ('WTXR.PK', 0), ('300309.SZ', 0), ('OV.PS', 0), ('2904.TW', 0), ('POB.HNO', 0), ('POS.HNO', 0), ('DEEE.NS', 0), ('ASTI.PK', 0), ('GPRE.OQ', 0), ('ESSA.JK', 0), ('603071.SS', 0), ('600968.SS', 0), ('KLEh.V', 0), ('FTI.N', 0), ('8347.HK', 0), ('UNSS.PK', 329), ('ANK.V', 0), ('1436.T', 0), ('CDEV.OQ', 0), ('TMC.V', 0), ('NOVA.N', 0), ('ALAGP.PA', 0), ('RESR.KL', 0), ('INDO.A', 0), ('ERHE.PK', 0), ('RELI.NS', 0), ('NEVE.PK', 24), ('7490.T', 0), ('PAE.BK', 1384), ('GSPI.PK', 0), ('PANR.L', 0), ('ESSO.BK', 0), ('2734.T', 0), ('ESKN.L', 0), ('RTSO.PK', 0), ('688390.SS', 0), ('MAH.V', 0), ('RIG.N', 0), ('STRA.BO', 65), ('PSX.N', 0), ('1281.HK', 0), ('ATLA.SI', 0), ('LOGP.L', 0), ('O2C.F', 0), ('PGC.HM', 0), ('NATEN.IS', 0), ('TA.OQ', 0), ('6873.TWO', 0), ('WOWS.JK', 0), ('SCC.PS', 0), ('SUSCO.BK', 0), ('010950.KS', 0), ('NORDIC.CO', 0), ('SRS.MI', 0), ('HPST.PK', 0), ('PTT.BK', 0), ('EPM.A', 0), ('TGS.OL', 0), ('GBXI.PK', 0), ('WG.L', 0), ('TVE.TO', 0), ('BSK.V', 0), ('AEE.AX', 0), ('EQNR.OL', 0), ('006120.KS', 0), ('PCG.HN', 0), ('OKTA.MKE', 0), ('SPH.N', 0), ('HEI.V', 0), ('GTBO.JK', 352), ('WIL.V', 0), ('ROYTL.PK', 0), ('AAZ.V', 0), ('SUGI.JK', 198), ('ENAG.MC', 0), ('PRQ.TO', 0), ('FDEL.PA', 0), ('SQ.BK', 0), ('GPRK.N', 0), ('CPIL.BO', 0), ('8203.HK', 0), ('BWO.OL', 0), ('GEVO.OQ', 0), ('GAS.HM', 0), ('RUIS.JK', 0), ('GGC.BK', 0), ('600397.SS', 0), ('APEX.JK', 0), ('603366.SS', 0), ('MIDSU.ST', 0), ('PRSO.OL', 0), ('ANE.NM', 0), ('BROG.OQ', 0), ('336260.KS', 0), ('TEBE.JK', 0), ('8011.HK', 0), ('600416.SS', 0), ('278990.KN', 0), ('TRMDa.CO', 0), ('TOTAL.GH', 0), ('TATN.MM', 0), ('TZR.V', 0), ('B7C.MI', 0), ('0663.HK', 0), ('TCC.BK', 0), ('COM.HM', 0), ('PJT.HM', 0), ('DENR.PK', 0), ('0866.HK', 0), ('TUPRS.IS', 0), ('UNTR.JK', 0), ('EZRA.SI', 0), ('KNMP.KL', 0), ('PQE.V', 80), ('TPD.AX', 0), ('LAS.L', 0), ('TLW.L', 0), ('002960.KS', 0), ('TAO.V', 0), ('GULTU.PK', 0), ('MLDYX.EUA', 0), ('QUER.MOT', 822), ('YRM.MI', 0), ('ENQ.L', 0), ('KEL.TO', 0), ('KNOP.N', 0), ('MCB.TO', 0), ('JNOS.MM', 0), ('FOSB.BX', 0), ('GNPG.PK', 0), ('5974.T', 0), ('8133.T', 0), ('ISO.V', 0), ('600348.SS', 0), ('018000.KQ', 0), ('603105.SS', 0), ('TOU.AX', 0), ('NINE.N', 0), ('TBN.AX', 0), ('ENER.MI', 0), ('FORZ.TO', 0), ('6806.TW', 0), ('OGDC.PSX', 0), ('600387.SS', 0), ('HITS.JK', 40), ('TRSI.PK', 0), ('SHLPH.PS', 0), ('EQTL.TA', 0), ('SUBC.OL', 0), ('SFT.V', 0), ('PEG.HNO', 0), ('ALDEI.PA', 0), ('MYE.AX', 0), ('GMDC.NS', 0), ('DOF.OL', 0), ('024060.KQ', 0), ('PUMA.LZ', 0), ('600121.SS', 0), ('GLP.N', 0), ('600438.SS', 0), ('OPVS.PK', 82), ('IPB.AX', 0), ('CASPC.L', 0), ('CAKE.CD', 1), ('SLNX.PK', 69), ('CCI.HM', 0), ('CPI.TO', 0), ('SEAOILm.BK', 0), ('PBFX.N', 0), ('ISRAp.TA', 0), ('TOH.V', 0), ('WHC.AX', 0), ('0397.HK', 0), ('GIVOp.TA', 0), ('ANGSA.L', 0), ('STWA.ST', 0), ('PARAN.BQB', 0), ('PGS.HN', 0), ('600623.SS', 0), ('HTC.HN', 0), ('5009.T', 0), ('8088.T', 0), ('TXP.TO', 0), ('ADLA.KZ', 0), ('LEK.L', 0), ('NOR.OL', 0), ('ALVER.PA', 0), ('3315.T', 0), ('WBE.AX', 0), ('USEI.PK', 0), ('SHUMBA.BT', 0), ('DLEU.KL', 0), ('NORAM.NFF', 0), ('TPL.V', 0), ('1555.HK', 0), ('VIK.CD', 0), ('MLPHO.EUA', 328), ('TMT.AX', 0), ('322000.KS', 0), ('TOTAL.LG', 0), ('HRUM.JK', 0), ('DRLCO.CO', 0), ('TOS.HNO', 0), ('BOE.AX', 0), ('OGD.TO', 0), ('ELIr.AT', 0), ('COI.AX', 0), ('SPG.BK', 0), ('AROC.N', 0), ('ITMA.JK', 454), ('MRPL.NS', 0), ('OIL.BX', 0), ('GGE.AX', 0), ('PUL.V', 71), ('MSEIS.OL', 0), ('300084.SZ', 0), ('688599.SS', 0), ('EU.V', 0), ('TWM.TO', 0), ('AERI3.SA', 0), ('NEX.N', 0), ('SMLP.N', 0), ('BSSR.JK', 0), ('8037.T', 0), ('1518.T', 0), ('IEC.AX', 0), ('BRZV.PK', 0), ('ONOF.NFF', 125), ('ADPE.BO', 0), ('BPCL.NS', 0), ('BWEN.OQ', 0), ('SCh.V', 0), ('CHPC.NS', 0), ('MUSA.N', 0), ('XPRO.N', 0), ('KEGX.PK', 0), ('BORR.OL', 0), ('PLNG.NS', 0), ('AKAST.OL', 0), ('TETY.ST', 0), ('RORRC.BX', 0), ('MAY.AX', 0), ('600188.SS', 0), ('VQC.HNO', 0), ('DQ.N', 0), ('ECTM.PK', 0), ('GXU.V', 0), ('600985.SS', 0), ('ARH.V', 0), ('002490.SZ', 0), ('CVRh.V', 0), ('MGUY.PK', 0), ('MARTI.LS', 0), ('PTV.HNO', 0), ('T2P.WA', 0), ('KRIS.SI', 0), ('1080.HK', 0), ('ENRA.KL', 0), ('KRP.N', 0), ('NGY.V', 0), ('KYSh.V', 0), ('GLFH.PK', 0), ('BRL.AX', 0), ('GCM.L', 0), ('DKL.V', 0), ('8131.T', 0), ('5010.T', 0), ('VWS.CO', 0), ('012700.KQ', 0), ('AMEN.PK', 0), ('POE.V', 0), ('REXI.SI', 0), ('NCCL.L', 0), ('PXS.HM', 0), ('SOIL.V', 0), ('ENEC.SI', 0), ('VHLD.PK', 0), ('MDS.MT', 0), ('0658.HK', 0), ('NFEI.PK', 0), ('UMSm.BK', 0), ('600997.SS', 0), ('1738.HK', 0), ('CMI.HNO', 0), ('HOEX.NS', 0), ('HPCL.NS', 0), ('GRX.AX', 694), ('ECO.CN', 0), ('IOC.NS', 0), ('AFE.V', 0), ('SM.N', 0), ('CHK.OQ', 0), ('TER.AX', 0), ('096770.KS', 0), ('OR.BK', 0), ('SNSR.SI', 0), ('VKIN.PK', 0), ('DOLP.NS', 0), ('8097.T', 0), ('8132.T', 0), ('ASC.N', 0), ('VLTP.WA', 0), ('BKRP.PK', 0), ('PZQA.I', 0), ('RISH.OL', 0), ('BATL.A', 0), ('KAR.AX', 0), ('KNF1L.VL', 0), ('BTU.N', 0), ('PAGP.OQ', 0), ('RESE.KL', 0), ('NSE.AX', 0), ('LSDh.V', 0), ('PVG.HN', 0), ('ACU.V', 15), ('ENRG.JK', 0), ('ZPHR.L', 0), ('LPG.N', 0), ('NOST.TA', 0), ('GLEXp.TA', 0), ('HLBYL.PK', 0), ('PTEN.OQ', 0), ('IFNY.PK', 0), ('XCPT.PK', 0), ('DIAH.PK', 0), ('NRT.N', 0), ('3800.HK', 0), ('KSNF.KZ', 941), ('HEP.N', 0), ('PTU.V', 0), ('PUMP.N', 0), ('RTPTp.TA', 0), ('DWSN.OQ', 0), ('IRPC.BK', 0), ('SAYAS.IS', 0), ('STEP.TO', 0), ('NWPN.PK', 0), ('CTBG.PK', 0), ('OSKA.PK', 0), ('ARGR.L', 0), ('002459.SZ', 0), ('MHAS.OM', 0), ('8250.HK', 0), ('REGI.OQ', 0), ('SHMh.V', 0), ('RUPV.MOT', 0), ('GASX.V', 0), ('SERB.KL', 0), ('WTLC.PK', 0), ('VBBR3.SA', 133), ('IPWR.OQ', 0), ('KLR.AX', 550), ('AHEh.V', 0), ('ISOP.TA', 0), ('LNEh.V', 143), ('128820.KS', 0), ('VLO.N', 0), ('900948.SS', 0), ('0645.HK', 0), ('RPMG3.SA', 0), ('000554.SZ', 0), ('ONGC.NS', 0), ('JEC.V', 96), ('8835.T', 0), ('5008.T', 0), ('BGPET.BB', 0), ('ROPTR.BX', 0), ('PRIO3.SA', 0), ('300111.SZ', 0), ('SBMO.AS', 0), ('VOPA.AS', 0), ('HEPr.AT', 0), ('000820.SZ', 154), ('DEWA.JK', 0), ('OILY.PK', 0), ('MPT.MKE', 0), ('SLB.N', 0), ('COME.BA', 0), ('TPL.CN', 0), ('ROYE.PK', 0), ('BRNE.PK', 0), ('RBDR.L', 0), ('300118.SZ', 0), ('FET.N', 0), ('SPRN.PK', 0), ('ODLO.OL', 0), ('IOG.L', 0), ('ADX.AX', 0), ('HZN.AX', 0), ('DRAL.TA', 0), ('600180.SS', 0), ('BOIL.L', 0), ('PGRP.L', 0), ('QEC.TO', 0), ('BSGR.KZ', 0), ('USWS.OQ', 0), ('LBRT.N', 0), ('ALD.AX', 0), ('CRM.AX', 0), ('YAKG.MM', 6), ('NHC.AX', 0), ('600403.SS', 0), ('KRKN.MM', 0), ('SFBE.PK', 0), ('FTMh.V', 0), ('TNP.N', 0), ('000552.SZ', 0), ('DLNG.N', 0), ('GXE.TO', 0), ('XST.AX', 985), ('ERA.AX', 0), ('FAR.AX', 0), ('WTTR.N', 0), ('DK.N', 0), ('EXR.AX', 0), ('2222.SE', 0), ('PPTC.L', 0), ('MCM.AX', 0), ('GRV.AX', 0), ('LEU.A', 0), ('EPD.N', 0), ('1663.T', 0), ('PENR.OL', 0), ('002353.SZ', 0), ('PACI.SI', 0), ('300157.SZ', 0), ('TMA.CS', 0), ('3856.T', 0), ('WTRh.V', 0), ('EEG.AX', 0), ('LIO.AX', 0), ('CREG.OQ', 0), ('BUMI.JK', 0), ('VOG.L', 0), ('OOGI.PK', 21), ('DVFI.PK', 0), ('IMSOLb.NGM', 0), ('POV.HNO', 0), ('FRTM.PK', 0), ('BARA.KL', 0), ('CLR.N', 0), ('UNAF.PFT', 93), ('LKO.AX', 240), ('CVN.AX', 0), ('IMO.TO', 0), ('ENB.TO', 0), ('STX.AX', 0), ('600971.SS', 0), ('KKGI.JK', 0), ('PTRO.JK', 0), ('BWLPG.OL', 0), ('8326.HK', 0), ('CELP.N', 0), ('KNTK.OQ', 0), ('GTE.A', 0), ('EOG.V', 0), ('VTDRF.PK', 0), ('SOMS.OM', 0), ('TOPL.BB', 0), ('NGY.AX', 0), ('NZO.NZ', 0), ('AKRBP.OL', 0), ('SGP.BK', 0), ('STAST.L', 0), ('STO.AX', 0), ('078930.KS', 0), ('REP.MC', 0), ('DPAP.PA', 0), ('PERC.PS', 0), ('MAXM.BO', 0), ('SOI.N', 0), ('002506.SZ', 0), ('300129.SZ', 0), ('AMGZ_p.KZ', 0), ('MMGZ.KZ', 0), ('AGYP.PK', 0), ('PVRS.PK', 0), ('LEAD.JK', 0), ('MDINp.TA', 0), ('OMVV.VI', 0), ('ENLC.N', 0), ('SOL.AX', 0), ('EL8.AX', 0), ('IPCOR.ST', 0), ('FEC.TO', 0), ('1393.HK', 0), ('CTNGk.F', 0), ('OIL.HNO', 0), ('RDKV.BEL', 0), ('ADVAD.L', 0), ('ESSF.PA', 0), ('GALP.LS', 0), ('SPI.V', 0), ('PRM.AX', 0), ('WPL.AX', 0), ('QEGY.PK', 0), ('ABCE.PK', 0), ('AI.BK', 660), ('BAS.AX', 0), ('NCSM.OQ', 0), ('2337.HK', 0), ('ALMI.PSX', 0), ('JASP.SI', 101), ('014530.KS', 0), ('AWSL.PK', 0), ('IFR.V', 0), ('BONHR.OL', 0), ('DNO.OL', 0), ('ORCb.V', 0), ('LPHLp.TA', 0), ('FUU.V', 0), ('1421.HK', 0), ('SKPI.PK', 0), ('UNTP.WA', 0), ('0975.HK', 0), ('HE8.AX', 116), ('MTDR.N', 0), ('4030.SE', 0), ('4050.SE', 0), ('GKP.L', 0), ('PPL.PSX', 0), ('ESN.TO', 0), ('BKR.OQ', 0), ('NESR.OQ', 0), ('PRSN.BX', 58), ('3576.TW', 0), ('ODF.OL', 0), ('SPMI.MI', 0), ('MSMN.L', 0), ('SHP.CD', 0), ('PEY.TO', 0), ('CVX.N', 0), ('XOM.N', 0), ('TOTL.NR', 0), ('PLOh.V', 0), ('0342.HK', 0), ('PARh.V', 653), ('267250.KS', 0), ('CR.TO', 0), ('CTNR.PK', 0), ('NAE.AX', 950), ('PTRL.BJ', 0), ('ENPS.SJ', 0), ('APP.HN', 0), ('AB9.H', 0), ('ADVA.SI', 0), ('GPPE.NS', 0), ('SWCO.SI', 0), ('PAA.OQ', 0), ('HAL.N', 0), ('OXY.N', 0), ('095910.KQ', 0), ('GOIL.GH', 0), ('COP.N', 0), ('MRO.N', 0), ('000852.SZ', 0), ('RATIp.TA', 0), ('INDL.NS', 0), ('CLPE.PK', 195), ('ACPL.NS', 0), ('ARCHA.OL', 0), ('6885.HK', 0), ('TOT.TO', 0), ('SFC.HM', 0), ('XOP.CD', 0), ('PPC.PS', 0), ('NWX.V', 0), ('PNEGn.DE', 0), ('UVN.V', 0), ('SYH.V', 0), ('APC.PS', 0), ('SIFG.AS', 0), ('CET.TO', 0), ('KIMH.SI', 0), ('SWALA.TZ', 0), ('NVTK.MM', 0), ('ASCR.L', 0), ('MTFN.JK', 177), ('JKS.N', 0), ('688223.SS', 0), ('PETR.KL', 0), ('ESCLV.NH', 373), ('ENR1n.DE', 0), ('TTLS.CI', 0), ('ASP.HM', 0), ('093230.KS', 0), ('3585.TWO', 0), ('EOG.L', 0), ('FEGL.SI', 0), ('SHEL.L', 0), ('NRZ.AX', 0), ('LGGL.CM', 0), ('002554.SZ', 0), ('603800.SS', 0), ('603318.SS', 0), ('MDMP.PK', 0), ('112610.KS', 0), ('RWFC.PK', 575), ('MOPN.PK', 0), ('MKGP.PK', 0), ('PXD.N', 0), ('KUBM.KL', 0), ('PVE.AX', 0), ('EPSN.OQ', 0), ('HASC.PSX', 0), ('603036.SS', 0), ('GRVE.PK', 0), ('ALBS.PSX', 0), ('HLC.HN', 0), ('MDC.HN', 0), ('EGAB.PA', 0), ('PTMR.KL', 0), ('SAEC.PK', 940), ('600123.SS', 0), ('MVNT.PK', 0), ('CXU.AX', 0), ('CWR.L', 0), ('OPM.PS', 0), ('SPM.PS', 0), ('BLVN.L', 0), ('CEG.L', 0), ('MGY.N', 0), ('OYL.V', 0), ('PNX.PS', 0), ('HYTN.CD', 0), ('MIN.BT', 0), ('ITMG.JK', 0), ('PAK.AX', 0), ('300443.SZ', 0), ('603223.SS', 0), ('MGN.OL', 0), ('EUAV.BR', 0), ('FIRE.JK', 0), ('CZN.L', 0), ('MEL.AX', 0), ('WTI.N', 0), ('HENY.KL', 0), ('0276.HK', 0), ('VRDh.V', 644), ('034730.KS', 0), ('DEHB.KL', 0), ('WGO.AX', 0), ('MTAR.NS', 0), ('AXAS.PK', 0), ('NEWH.PK', 0), ('HUML.PK', 0), ('ATD.TO', 0), ('OEL.AX', 0), ('COEN.ST', 0), ('I3E.L', 0), ('BRY.OQ', 0), ('603798.SS', 0), ('AMAN.KZ', 0), ('GMS.L', 0), ('0438.HK', 0), ('SOBT.BO', 0), ('JAL.AX', 0), ('PTOI.PK', 0), ('MLECO.EUA', 826), ('CKK.V', 0), ('HGTXU.PK', 0), ('ATOR.PSX', 0), ('BLPL.PSX', 0), ('MXC.A', 0), ('AE.A', 0), ('RUN.OQ', 0), ('NWE.AX', 0), ('5018.T', 0), ('BWPC.PK', 33), ('601615.SS', 0), ('PRM.BK', 0), ('VISTAA.MX', 0), ('TDG.HM', 0), ('OOMS.OM', 0), ('CNX.N', 0), ('SIBN.MM', 0), ('HES.N', 0), ('IEP.OQ', 0), ('AMRC.N', 0), ('MCR.V', 0), ('TPC.V', 0), ('JOY.TO', 0), ('BDL.MNE', 0), ('4934.TW', 0), ('CPF.GQ', 0), ('EER.AX', 0), ('PEN.AX', 0), ('000571.SZ', 0), ('NAPS.KW', 0), ('HPR.AX', 0), ('KRh.V', 0), ('1101.HK', 0), ('COIL.PK', 0), ('FARF.L', 135), ('WATP.WA', 0), ('GTII.PK', 0), ('NATR.PSX', 0), ('ARCH.N', 0), ('ENSV.A', 0), ('6505.TW', 0), ('603507.SS', 0), ('ATS.AX', 0), ('MRM.AX', 0), ('BTG.MNE', 0), ('4DSG.DE', 0), ('TNZ.V', 0), ('SHV.MNE', 0), ('PKOL.PSX', 0), ('PDN.AX', 0), ('REX.N', 0), ('BPT.N', 0), ('SHEL.PSX', 0), ('REI.A', 0), ('GEPH.PA', 0), ('PKRF.PSX', 0), ('601918.SS', 0), ('3337.HK', 0), ('SINU.BO', 272), ('LWBP.WA', 0), ('VBHI.PK', 0), ('SGRE.WA', 0), ('ENAT3.SA', 0), ('ELEF.TO', 0), ('BRN.A', 0), ('OILI.NS', 0), ('0934.HK', 0), ('0061.HK', 0), ('E2E.AX', 0), ('ILDR.TA', 0), ('100130.KQ', 0), ('PNRC.PK', 0), ('CURE.CD', 54), ('TMRP.TA', 0), ('603353.SS', 0), ('RUBF.PA', 0), ('AWDR.OL', 0), ('1621.HK', 0), ('SGY.TO', 0), ('AJL.AX', 0), ('MAGN.SI', 0), ('ESTE.N', 0), ('ONVh.V', 0), ('258610.KQ', 0), ('BNRG.TA', 0), ('TTL.MNE', 0), ('SDPI.A', 0), ('TNK.N', 0), ('002202.SZ', 0), ('52PCHNU.VB', 0), ('PLX.HM', 0), ('LTSP.WA', 0), ('ATI.V', 0), ('BDCO.PK', 0), ('GLOP.N', 0), ('PSK.TO', 0), ('NXH.V', 0), ('1938.HK', 0), ('GEOE.SI', 0), ('KSTL.SI', 0), ('WEC.AX', 346), ('ARLP.OQ', 0), ('TRE.MC', 0), ('52TRDNU.VB', 0), ('8479.HK', 0), ('FLMN.OQ', 0), ('NVPTp.TA', 0), ('OECh.V', 0), ('CTRA.N', 0), ('CPE.N', 0), ('CCO.TO', 0), ('AGE.AX', 0), ('002531.SZ', 0), ('HMSGq.L', 0), ('ABIG.TE', 0), ('8270.HK', 0), ('METAC.NGM', 0), ('ORL.TA', 0), ('52EPANU.VB', 0), ('TRIY.SI', 0), ('STRXF.PK', 0), ('CEIX.N', 0), ('RNGR.N', 0), ('ECKS.MI', 0), ('VNOM.OQ', 0), ('TULA.BO', 53), ('KZAP.KZ', 0), ('PSO.PSX', 0), ('NWMDp.TA', 0), ('GSP.HM', 0), ('SDSD.OL', 0), ('CVV.V', 0), ('ATOM.V', 0), ('MATD.L', 0), ('CHGV.DH', 0), ('TGSU2.BA', 0), ('GBPq.L', 0), ('000937.SZ', 0), ('PLUG.OQ', 0), ('SES.TO', 0), ('CNQ.TO', 0), ('JPR.AX', 0), ('RES.AX', 28), ('AEPT.PK', 0), ('SHUP.KZ', 0), ('OAS.OQ', 0), ('UJO.L', 0), ('UPET.BX', 0), ('FGPR.PK', 0), ('WCE.V', 0), ('300164.SZ', 0), ('SOLT.ST', 0), ('RECO.V', 0), ('DML.TO', 0), ('CRK.N', 0), ('CAVERTON.LG', 0), ('VRY.V', 0), ('PPS.HN', 0), ('VOC.N', 0), ('SWVKk.F', 0), ('7623.T', 0), ('AURM.BO', 0), ('INAI.ZA', 0), ('MAUP.PA', 0), ('TTEF.PA', 0), ('BATE.SI', 0), ('LANNA.BK', 0), ('ASIE.NS', 0), ('BLNG.MM', 0), ('300191.SZ', 0), ('603003.SS', 0), ('PTCO.PK', 0), ('NRIS.PK', 0), ('ENLS.DH', 0), ('PDOC.DH', 0), ('TGNO2.BA', 0), ('LNG.A', 0), ('VGN.V', 0), ('PKN.WA', 0), ('PEHh.V', 0), ('LGO.TO', 0), ('DXIh.V', 0), ('NOGN.L', 0), ('WFRD.OQ', 0), ('MOIL.CA', 0), ('PNL.AX', 0), ('WES.N', 0), ('PVE.HNO', 0), ('PPRW.PK', 0), ('SNG.BX', 0), ('SPWR.OQ', 0), ('SDTTU.PK', 0), ('SHLX.N', 0), ('MBAP.JK', 0), ('CFW.TO', 0), ('DVN.N', 0), ('CAPL.SI', 0), ('0758.HK', 0), ('002207.SZ', 0), ('BDG.WA', 0), ('NZ.V', 0), ('ENOG.L', 0), ('GAS.AX', 0), ('2072.TWO', 0), ('TGL.TO', 0), ('ABSh.V', 0), ('BCP.BK', 0), ('JOPT.AM', 0), ('SNM.V', 0), ('SSh.V', 0), ('CSAN3.SA', 0), ('JSW.WA', 0), ('JOCL.DH', 0), ('0757.HK', 0), ('MEGP.DH', 0), ('CRC.N', 0), ('300569.SZ', 0), ('ERF.TO', 0), ('EOG.N', 0), ('STTX.PK', 0), ('BULL.JK', 0), ('VEC.V', 0), ('AQC.AX', 0), ('MLSEQ.EUA', 0), ('688196.SS', 0), ('002865.SZ', 0), ('NIIS.BEL', 0), ('RNFT.MM', 0), ('MHEB.KL', 0), ('018670.KS', 0), ('017940.KS', 0), ('TRRE.PK', 0), ('ERC.V', 38), ('MGAS.PSX', 0), ('603727.SS', 0), ('SHLF.OL', 0), ('PGY.AX', 0), ('88E.AX', 224), ('002218.SZ', 0), ('TVD.HN', 0), ('TGN.BX', 0), ('F3CG.DE', 0), ('CNE.TO', 0), ('SHEL.MZ', 0), ('UNRG.PK', 0), ('EQT.N', 0), ('BOOM.OQ', 0), ('FSEI.PK', 0), ('HMLP.N', 0), ('NEXT.OQ', 0), ('ONCP.WA', 0), ('OPTT.A', 0), ('600184.SS', 0), ('MPC.N', 0), ('NGL.N', 0), ('ZENZ.L', 0), ('0702.HK', 0), ('SMMT.JK', 1324), ('ALOD.PK', 0), ('MGA.TO', 0), ('PGAS.PK', 0), ('YGR.TO', 0), ('XCAN.PK', 0), ('MITI.JK', 222), ('000440.KQ', 0), ('002221.SZ', 0), ('AL.V', 0), ('PCOR.PS', 0), ('UNDR.NS', 0), ('1623.HK', 0), ('601218.SS', 0), ('UBE.BK', 0), ('AKSOA.OL', 0), ('SAVES.L', 0), ('THHE.KL', 0), ('UGPA3.SA', 0), ('AET.L', 0), ('PSD.TO', 0), ('GISS.QA', 0), ('SGBH.PK', 684), ('TRNF_p.MM', 0), ('PMG.L', 0), ('PFNO.PK', 0), ('STMP.V', 0), ('SFD.TO', 0), ('3167.T', 0), ('LIOC.CM', 0), ('TOWR.L', 0), ('APHE.PK', 0), ('002828.SZ', 0), ('PXEN.L', 0), ('PEI.V', 0), ('CELh.V', 0), ('GMR.CD', 0), ('QFI.L', 0), ('3361.T', 0), ('OCTL.NS', 0), ('601101.SS', 0), ('ALGS.TA', 0), ('EELJ.J', 0), ('PEA.TO', 0), ('VIRSI.RI', 0), ('NODL.OL', 0), ('600026.SS', 0), ('SEI.V', 0), ('HNRG.OQ', 0), ('HP.N', 0), ('300208.SZ', 0), ('JOG.L', 0), ('LXE.V', 0), ('KABR.BO', 0), ('0196.HK', 0), ('RAVI.BO', 108), ('BOPO.PK', 0), ('API.CD', 0), ('ACB.AX', 0), ('NTOG.L', 0), ('HME.V', 0), ('VRB.V', 0), ('ZHEN.SI', 0), ('STRLNG.ST', 0), ('ROYL.PK', 0), ('TOP.BK', 0), ('IO.N', 0), ('NOCN.OL', 0), ('GSPECPLC.LG', 0), ('8009.HK', 0), ('601857.SS', 0), ('EDLE.L', 0), ('GEV.AX', 0), ('SMGI.PK', 0), ('OSXB3.SA', 0), ('CTH.V', 0), ('UKOGa.L', 0), ('GGRN.PK', 0), ('EPEN.BO', 0), ('WEL.AX', 0), ('IOTA.NFF', 0), ('038620.KQ', 0), ('CBV.V', 0), ('HUR.L', 0), ('GMCI.CA', 0), ('DOFI.NFF', 65), ('BLAC.SI', 0), ('600256.SS', 0), ('300370.SZ', 0), ('300772.SZ', 0), ('ANR.NXX', 0), ('AMTX.OQ', 0), ('INT.N', 0), ('LAM.TO', 0), ('8631.HK', 0), ('PPPP.L', 0), ('HAVI.OL', 0), ('SOLAR.BK', 0), ('PXP.PS', 0), ('SUIC.PK', 0), ('ADPK.PSX', 0), ('RRC.N', 0), ('APL.PSX', 0), ('PLFF.PK', 0), ('TAL.V', 0), ('TALO.N', 0), ('ALTO.OQ', 0), ('0632.HK', 0), ('TELL.A', 0), ('MARPS.OQ', 0), ('ABTR.SI', 0), ('600248.SS', 72), ('MCMa.V', 0), ('MCS.V', 0), ('PETY.BX', 0), ('KMI.N', 0), ('EFV.V', 0), ('AEC.V', 0), ('KAER.VI', 0), ('MKZ_u.TO', 0), ('600643.SS', 0), ('MQG.AX', 0), ('EXSR.PK', 0), ('030210.KS', 0), ('GIMV.BR', 0), ('FETM.PK', 0), ('001750.KS', 0), ('008560.KS', 0), ('DISB.DU', 0), ('HARL.PK', 0), ('SCA.CN', 0), ('NMT.N', 0), ('NPV.N', 0), ('BELC.BR', 0), ('LAIK.CY', 0), ('TTB.BK', 0), ('LUMI.TA', 0), ('CRZY.PK', 0), ('IVZ.N', 0), ('LUMB.PK', 0), ('TURN.OQ', 0), ('CRTO.PA', 0), ('HSBI.PK', 0), ('INVS.PSX', 0), ('FED.NS', 0), ('PLBC.OQ', 0), ('VCV.N', 0), ('CWBC.OQ', 0), ('ASBK.PSX', 0), ('RCS.N', 0), ('000776.SZ', 481), ('UFFP.PA', 0), ('GIBU.TA', 0), ('PROV.OQ', 0), ('NDB.CM', 0), ('BXLC.PK', 0), ('8746.T', 0), ('GFINBURO.MX', 0), ('LVEN.CM', 0), ('VALUEGFO.MX', 0), ('GBMO.MX', 0), ('BSMXB.MX', 0), ('ORRF.OQ', 0), ('FINAMEXO.MX', 0), ('GFMULTIO.MX', 0), ('BKEQ.PSX', 0), ('BOPU.PSX', 0), ('JSCO.PSX', 0), ('CALC.PSX', 0), ('CYAN.PSX', 0), ('000001.SZ', 0), ('EQMD.PSX', 0), ('OLPM.PSX', 0), ('VEIL.PA', 0), ('HABM.PSX', 0), ('SHUA.DU', 0), ('FIBI.TA', 0), ('NUM.L', 0), ('OVLY.OQ', 0), ('FGX.AX', 0), ('MOGO.TO', 0), ('WAYN.PK', 0), ('BKME.KW', 0), ('FACI.KW', 0), ('AIBG.I', 0), ('COAS.KW', 0), ('1062.HK', 0), ('FNLC.OQ', 0), ('FNRN.PK', 0), ('KINV.KW', 0), ('KPRO.KW', 0), ('QIC.AD', 0), ('000532.SZ', 0), ('000563.SZ', 0), ('600000.SS', 0), ('CFNB.PK', 0), ('ISYAT.IS', 0), ('006220.KS', 0), ('001270.KS', 0), ('LIBC.PK', 0), ('GTPS.PK', 0), ('WAKE.PK', 0), ('KNNK.KL', 0), ('ALLI.CM', 0), ('CFIN.CM', 0), ('CFI.CM', 0), ('HFWA.OQ', 0), ('0736.HK', 0), ('MCB.PSX', 0), ('HMB.PSX', 0), ('000728.SZ', 0), ('JOIT.AM', 0), ('8747.T', 0), ('OCN.N', 0), ('AUBN.OQ', 0), ('LLBN.S', 0), ('SHD.WA', 0), ('BIRG.I', 0), ('06N.WA', 37), ('RING.OL', 0), ('PFC.OQ', 0), ('BPO.CN', 2), ('MILP.WA', 0), ('CRSU.PA', 0), ('VLL.CN', 0), ('SCBS.PK', 0), ('SOONS.OL', 0), ('8383.T', 0), ('BARC.L', 0), ('CRDI.MI', 0), ('CALICHERAA.SN', 0), ('CUPRUM.SN', 0), ('HABITAT.SN', 0), ('PROVIDA.SN', 0), ('AFPCAPITAL.SN', 0), ('INTERBC1.LM', 0), ('TRIS.PSX', 0), ('TRUS.PSX', 92), ('CBAN.OQ', 0), ('OLPF.PSX', 0), ('DRUM.L', 0), ('IMH.A', 0), ('EMG.L', 0), ('BICECORP.SN', 0), ('8572.T', 0), ('NODB.PK', 0), ('1PRM.PSX', 0), ('IBLM.PSX', 0), ('1UDL.PSX', 0), ('CINV.CM', 0), ('HIFS.OQ', 0), ('CSBB.PK', 0), ('BCFC.BH', 0), ('FNCN3.SA', 0), ('UNTY.OQ', 0), ('BOTJ.OQ', 0), ('HFCK.NR', 0), ('FNB.N', 0), ('HFBA.PK', 0), ('INGP.WA', 0), ('MGLD.A', 0), ('HCG.TO', 0), ('SREI.NS', 0), ('SECI.PSX', 0), ('SONA.PSX', 0), ('8566.T', 0), ('MFIN.OQ', 0), ('IFAC.SI', 0), ('ABSA.BT', 0), ('AMG.N', 0), ('MBK.WA', 0), ('FMBH.OQ', 0), ('FUNC.OQ', 0), ('BOA.CS', 0), ('BCI.CS', 0), ('CDM.CS', 0), ('CIH.CS', 0), ('8365.T', 0), ('IFCI.NS', 0), ('FBSI.PK', 0), ('QNBK.QA', 0), ('QIIB.QA', 0), ('QISB.QA', 0), ('RGO.L', 0), ('SBER.MM', 0), ('SPL1.WA', 0), ('BCGE.S', 0), ('CIT.CM', 0), ('COMB.CM', 0), ('DFCC.CM', 0), ('GOOD.CM', 334), ('GUAR.CM', 0), ('HNB.CM', 0), ('INDO.CM', 0), ('HBAN.OQ', 0), ('JKL.CM', 0), ('RNUK.CM', 0), ('MBSL.CM', 0), ('OTPB.BU', 0), ('SAMP.CM', 0), ('SEYB.CM', 0), ('BMBN.PK', 0), ('SING.CM', 280), ('KSBI.PK', 0), ('GBL.N', 0), ('0127.HK', 0), ('SNLC.PK', 0), ('SOBS.PK', 0), ('URL.CD', 0), ('OBT.OQ', 0), ('FRFC.PK', 0), ('HSB.MT', 0), ('BOV.MT', 0), ('BNPP.PA', 0), ('QCRH.OQ', 0), ('8395.T', 0), ('CITY.L', 0), ('001510.KS', 0), ('001200.KS', 0), ('001720.KS', 0), ('003460.KS', 0), ('003470.KS', 0), ('001500.KS', 0), ('CBAF.PK', 67), ('EQD.CS', 0), ('MFBP.PK', 0), ('SGBJ.AM', 0), ('CBRO.L', 0), ('MELG.OL', 0), ('PCM.N', 0), ('ABA.AX', 0), ('DESI.MI', 0), ('STD.BT', 0), ('TEI.N', 0), ('JFBC.PK', 0), ('AMFC.PK', 0), ('FFDF.PK', 0), ('WEMABAN.LG', 0), ('AROW.OQ', 0), ('BREL.LU', 0), ('0613.HK', 0), ('MTRYO.IS', 0), ('000567.SZ', 0), ('ARPC.PK', 0), ('600816.SS', 0), ('UBKG.DE', 0), ('SEMB.CM', 0), ('GARFA.IS', 0), ('SMBC.OQ', 0), ('PTRS.OQ', 0), ('ASB.N', 0), ('0985.HK', 0), ('TOWN.OQ', 0), ('4690.T', 0), ('AGM.N', 0), ('SEBC.PK', 0), ('AMFR.BO', 0), ('CNFH.NS', 0), ('ILFS.NS', 0), ('BRGI.MI', 0), ('GLSE.NS', 0), ('NWXJ.PK', 855), ('AUSM.NS', 0), ('HBSH.NS', 0), ('CIL.TN', 0), ('IBNK.BO', 0), ('JMSH.NS', 0), ('BOB.NS', 0), ('KTKM.NS', 0), ('LKPM.BO', 0), ('REDI.KL', 0), ('BHRB.PK', 0), ('CEPS.L', 0), ('8349.T', 0), ('8521.T', 0), ('ADKT.PK', 0), ('AMNB.OQ', 0), ('HDFC.NS', 0), ('JKEL.BO', 0), ('KECR.BO', 1197), ('PILE.BO', 0), ('BKUT.PK', 0), ('600830.SS', 0), ('INDB.OQ', 0), ('AVCA.BO', 0), ('600837.SS', 0), ('BBBK.PK', 0), ('CLH.AX', 0), ('CYFL.PK', 0), ('SBI.NS', 0), ('MCFL.BO', 0), ('CHOL.NS', 0), ('032190.KQ', 0), ('FMCB.PK', 0), ('IBCP.OQ', 0), ('VBDE.BO', 0), ('LKFN.OQ', 0), ('VRDM.NS', 0), ('WLSF.BO', 0), ('HMNF.OQ', 0), ('RBGH.GH', 0), ('SNFN.NS', 0), ('ELMA.PK', 0), ('PFBX.PK', 0), ('JBTC.PK', 0), ('GHE.L', 0), ('LYBC.PK', 0), ('TRCY.PK', 0), ('NONG.OL', 0), ('SRBNK.OL', 0), ('SCB.GH', 0), ('OVBC.OQ', 0), ('SCBL.LZ', 0), ('BKFG.PK', 0), ('ATLAS.IS', 0), ('AABQ.QA', 0), ('DOBK.QA', 0), ('COMB.QA', 0), ('LPPS.JK', 0), ('FW.V', 0), ('SUMM.NS', 0), ('OWAG.NS', 1926), ('RLCP.NS', 0), ('LARK.OQ', 0), ('BOH.N', 0), ('HSPG.OL', 0), ('HMLN.PK', 0), ('QUE.AX', 0), ('1TAT01DE.BV', 0), ('1CSC.PSX', 3), ('HBIA.PK', 31), ('SASR.OQ', 0), ('ABCB.OQ', 0), ('STBI.PK', 0), ('MBWM.OQ', 0), ('CADE.N', 0), ('SNEX.OQ', 0), ('ACAP.CM', 0), ('ICP.L', 0), ('FRHC.OQ', 0), ('IOBK.NS', 0), ('OCFC.OQ', 0), ('1225.HK', 656), ('BYD.BK', 0), ('8301.T', 0), ('8537.T', 0), ('RCG.A', 0), ('EMBI.MI', 0), ('AOFS.OM', 0), ('PEHG.F', 0), ('SACJ.J', 0), ('TRBK.PSX', 0), ('ELEKTRA.MX', 0), ('BLMG.DE', 0), ('SECURITY.SN', 0), ('0905.HK', 0), ('2820.TW', 0), ('SSB.OQ', 0), ('BMO.TO', 0), ('PMB.CM', 0), ('FRSG.DE', 0), ('POPL.PSX', 408), ('NWBI.OQ', 0), ('ALNTA.MC', 0), ('ALRS.OQ', 0), ('QCML.BO', 0), ('MNTR.PK', 0), ('III.L', 0), ('PROFUTC1.LM', 1341), ('BK.N', 0), ('CIX.TO', 0), ('BRW.L', 0), ('HRBK.PK', 0), ('027830.KQ', 0), ('OXT.L', 0), ('TWMS.NS', 724), ('BJFN.NS', 0), ('SOGNS.OL', 0), ('CHLA.NS', 0), ('GICH.NS', 0), ('BKSC.OQ', 0), ('METO.BO', 595), ('LICH.NS', 0), ('CNCJOb.ST', 0), ('PRME.NS', 0), ('TGFL.NS', 0), ('TFCI.NS', 0), ('VLSF.NS', 0), ('BMPS.MI', 0), ('ARCM.NS', 0), ('ARFS.BO', 0), ('BPOP.OQ', 0), ('ACL.BO', 0), ('FUND.BO', 285), ('IMCA.BO', 0), ('BGCP.OQ', 0), ('CEEF.BO', 463), ('DCFS.NS', 771), ('DSS.BO', 0), ('MORG.BO', 0), ('EVES.BO', 0), ('SAIF.BO', 86), ('LGEN.L', 0), ('GLCM.BO', 104), ('GSBF.BO', 0), ('SIVE.BO', 0), ('JINC.BO', 1), ('KJFS.BO', 0), ('LADF.BO', 134), ('LIBF.BO', 0), ('MAAC.NS', 779), ('MEIF.BO', 0), ('MORF.BO', 0), ('LFI.L', 0), ('VEHG.F', 0), ('VAL.CN', 0), ('NDAS.BO', 0), ('MONR.NS', 0), ('NPRL.BO', 0), ('TDF.N', 0), ('RRFC.BO', 765), ('SITE.BO', 0), ('SDFC.BO', 0), ('SWAF.BO', 0), ('IGM.TO', 0), ('SYCS.BO', 0), ('KREN.BO', 1166), ('YMFS.BO', 0), ('ABOB.OM', 0), ('OZK.OQ', 0), ('ANLT.TA', 0), ('UNCR.TA', 0), ('POL.MZ', 0), ('MCBG.MZ', 0), ('ABSP.PS', 0), ('ITPC.PK', 174), ('BLC.BY', 190), ('0767.HK', 0), ('WTBA.OQ', 0), ('BELU.BR', 0), ('BKDB.OM', 0), ('0585.HK', 0), ('COF.N', 0), ('PPBN.PK', 0), ('JEIH.AM', 0), ('PNBI.PK', 0), ('OCBC.SI', 0), ('MSBC.PK', 0), ('8570.T', 0), ('NISP.JK', 0), ('BOSP.WA', 0), ('HTLF.OQ', 0), ('BOLSASTGO.SN', 272), ('COVADONGA.SN', 579), ('HLCB.KL', 0), ('MBBM.KL', 0), ('ESPANOLA.SN', 224), ('PAGPA.L', 0), ('LOM.MT', 0), ('HLBB.KL', 0), ('UNESPA.SN', 0), ('BOKF.OQ', 0), ('SCIB.KL', 0), ('PNBK.OQ', 0), ('FUSB.OQ', 0), ('FNWD.OQ', 0), ('BITI.PA', 0), ('AGIN.CA', 0), ('ICDS.NS', 4362), ('NBN.OQ', 0), ('BANR.OQ', 0), ('MFX.L', 0), ('UBNC.PK', 0), ('BKMB.OM', 0), ('MFCI.OM', 0), ('GLBZ.OQ', 0), ('BAP.N', 0), ('PSB.PS', 0), ('BAOB.PK', 0), ('SKBB.LJ', 0), ('PFG.L', 0), ('LFIN.CM', 0), ('FMBM.PK', 0), ('SADG.OL', 0), ('ATLO.OQ', 0), ('CFVF.CM', 0), ('IL0A.I', 0), ('FNB.NM', 0), ('PB.N', 0), ('DIMC.PK', 0), ('CIWV.PK', 0), ('RAT.L', 0), ('TOXO.CY', 0), ('CPIP.CY', 228), ('ARZA.KW', 0), ('8518.T', 0), ('COSG.PK', 0), ('FORW.PK', 0), ('SOGEGH.GH', 0), ('UNB.OQ', 0), ('AATP.WA', 0), ('AUDI.BY', 4), ('0231.HK', 0), ('AMH.AX', 0), ('ALBY.PK', 0), ('BOLB.PK', 0), ('UWHR.PK', 0), ('PPSF.PK', 0), ('021880.KQ', 0), ('019590.KQ', 176), ('019570.KQ', 0), ('019550.KQ', 0), ('021080.KQ', 0), ('NWG.L', 0), ('016600.KQ', 0), ('007330.KQ', 0), ('023590.KS', 0), ('023760.KQ', 0), ('024110.KS', 0), ('026890.KS', 0), ('FTV.L', 0), ('OPOF.OQ', 0), ('CFFN.OQ', 0), ('CLRF.CY', 0), ('KEY.N', 0), ('NUBC.PK', 0), ('ACE.NZ', 0), ('MVCT.L', 0), ('ICBK.NS', 0), ('BHW.WA', 0), ('KMEF.KW', 0), ('PEO.WA', 0), ('000783.SZ', 0), ('TSBK.OQ', 0), ('0188.HK', 0), ('SDR.L', 0), ('8515.T', 0), ('SCYT.PK', 0), ('BSANTANDER.SN', 0), ('SAB1L.VL', 0), ('ADWJ.J', 0), ('ARBONa.NGM', 0), ('GCBC.OQ', 0), ('FXLG.PK', 0), ('EFSG.PK', 0), ('WDFN.PK', 0), ('HAN.L', 0), ('OMUJ.J', 0), ('IBWC.PK', 0), ('PEHN.S', 0), ('FTF.L', 0), ('THVB.PK', 0), ('ERST.VI', 0), ('SFST.OQ', 0), ('2836.TW', 0), ('1141.HK', 0), ('CRDFA.IS', 0), ('ARBB.L', 0), ('FHI.N', 0), ('MPCKk.DE', 0), ('CFGX.PK', 0), ('CFBK.OQ', 0), ('ACR.OL', 0), ('PPEJ.J', 0), ('AURG.OL', 0), ('MAYA.JK', 0), ('FBC.ZI', 0), ('8742.T', 0), ('STAN.L', 0), ('ESS.V', 0), ('SMMF.OQ', 0), ('BYB.BY', 0), ('FBPI.PK', 0), ('600120.SS', 0), ('CHILE.SN', 0), ('JDVB.PK', 0), ('SOHI.PK', 0), ('MCPH.PK', 0), ('CFFI.OQ', 0), ('MDVT.PK', 0), ('KBNK.NS', 0), ('VBFC.OQ', 0), ('ELC.V', 0), ('MOFG.OQ', 0), ('ORPB.PK', 0), ('PBF.WA', 0), ('ASX.AX', 0), ('OXF2.L', 0), ('CBKM.PK', 0), ('NWYF.PK', 0), ('RVSB.OQ', 0), ('SUS.L', 0), ('UCRE.BO', 0), ('BSPA.PK', 0), ('SOME.PK', 0), ('GS.N', 0), ('LAW.AX', 1060), ('FBVI.PK', 0), ('OWVI.PK', 0), ('2834.TW', 0), ('PNFP.OQ', 0), ('AAIC.N', 0), ('LB.TO', 0), ('GTN.WA', 0), ('PGC.OQ', 0), ('HRHO.CA', 0), ('BEGI.PK', 0), ('ISFIN.IS', 0), ('AMNZF.PK', 0), ('UNTN.PK', 0), ('WAM.AX', 0), ('RHEAG.IS', 0), ('DEQI.PK', 0), ('LLOY.L', 0), ('MSVB.OQ', 0), ('BRBS.A', 0), ('MIG1.L', 0), ('CIW.AX', 0), ('600016.SS', 0), ('0510.HK', 0), ('BRKL.OQ', 0), ('FRMO.PK', 0), ('UFCI.OM', 0), ('SPTG.F', 0), ('0273.HK', 0), ('HLFN.PK', 0), ('UBOH.OQ', 0), ('SPCE.S', 0), ('KBCA.BR', 0), ('ATLC.OQ', 0), ('MNCP.WA', 0), ('CAPL.AM', 0), ('CMHF.PK', 0), ('600139.SS', 0), ('AMP.AX', 0), ('JEF.N', 0), ('MZTF.TA', 0), ('EFSC.OQ', 0), ('BOAB.CI', 0), ('PBCO.PK', 0), ('EUXG.F', 0), ('PRO.MI', 0), ('INBK.NS', 0), ('PFBC.OQ', 0), ('NEDSE.AS', 0), ('EQV1V.HE', 0), ('WESP.NXX', 0), ('CFOK.PK', 0), ('EVBN.A', 0), ('CKI.TO', 0), ('ISBA.PK', 0), ('AMBK.PK', 0), ('SKUE.OL', 0), ('HSBK.KZ', 0), ('UCA1.F', 0), ('GAMH.S', 0), ('BKP.LJ', 0), ('TYFG.PK', 116), ('MBCN.OQ', 0), ('ACCESSCORP.LG', 0), ('GNTY.OQ', 0), ('HTBK.OQ', 0), ('BDRP.PA', 0), ('FMOO.PK', 100), ('MNC.V', 405), ('GSFN.BO', 1048), ('LINN.S', 0), ('DEFI.JK', 296), ('FCCO.OQ', 0), ('CBZ.ZI', 0), ('PVN.L', 0), ('MVBF.OQ', 0), ('BEMO.BY', 0), ('ALADV.PA', 0), ('8025.HK', 0), ('PTBS.PK', 0), ('TNPV.TA', 0), ('600155.SS', 0), ('KBC.BR', 0), ('FISB.PK', 0), ('QBTQ.L', 0), ('TCFC.OQ', 0), ('BHIP.BA', 0), ('CIZN.OQ', 0), ('PSBQ.PK', 0), ('RBCAA.OQ', 0), ('ACTG.CY', 130), ('8088.HK', 0), ('NTV.L', 0), ('BLKB.S', 0), ('PIU.TA', 0), ('KSWG.F', 0), ('0388.HK', 0), ('GOVB.PK', 0), ('PCF.L', 0), ('8029.HK', 0), ('FSA.AX', 0), ('CCNP.PA', 0), ('SMCE.PK', 0), ('CPE.S', 0), ('BSKP.S', 0), ('SAL.OQ', 0), ('MCI.WA', 0), ('BRMD.L', 0), ('SHBI.OQ', 0), ('QUFG.BR', 0), ('TCPL.CY', 984), ('CCBC.PK', 0), ('NTB.CM', 0), ('030610.KS', 0), ('SIHC.OM', 0), ('WNMLA.PK', 0), ('SEQ.AX', 439), ('CZBS.PK', 0), ('GWS.CD', 0), ('0768.HK', 0), ('ELF.CY', 0), ('SYTE.PK', 0), ('000987.SZ', 0), ('FKE.L', 0), ('VABK.OQ', 0), ('PXI.V', 0), ('BMRC.OQ', 0), ('REDW.PK', 0), ('ECPG.OQ', 0), ('BCTF.PK', 0), ('WFFS.BO', 0), ('WCFB.PK', 0), ('MEGA.JK', 0), ('BYLB.PK', 0), ('NAD.N', 0), ('TJL.TN', 0), ('FONP.WA', 0), ('CFT.S', 0), ('AMBZ.PK', 0), ('PGOO.L', 0), ('ESCOM.IS', 0), ('ARC.AX', 0), ('ABEV.VI', 0), ('FCOB.PK', 0), ('GGAL.BA', 0), ('FISI.OQ', 0), ('VLAN.AS', 0), ('SILI.NS', 0), ('GRKP.S', 0), ('BVIC.JK', 0), ('DEA.MI', 0), ('MRDH.PK', 0), ('0111.HK', 0), ('900957.SS', 0), ('0335.HK', 0), ('FOTB.PK', 0), ('SIEVI.HE', 0), ('BCAP.JK', 0), ('BBCA.JK', 0), ('CPKF.PK', 0), ('1073.HK', 854), ('600390.SS', 0), ('KARI.CY', 0), ('8421.T', 0), ('IVHI.PK', 0), ('SWKH.OQ', 0), ('BLK.N', 0), ('600291.SS', 0), ('038540.KQ', 0), ('VVVGn_p.DE', 0), ('CSGN.S', 0), ('NDASE.ST', 0), ('MIFF.PK', 95), ('ROBRD.BX', 0), ('9941.TW', 0), ('8019.HK', 153), ('BORT.PK', 0), ('PLAS.JK', 0), ('IAG.TO', 0), ('SMBK.OQ', 0), ('BSC.L', 0), ('BEKN.S', 0), ('AKSI.JK', 715), ('BEKS.JK', 0), ('SABE.MC', 0), ('SGXL.SI', 0), ('HELG.OL', 0), ('MACT.L', 0), ('TVD6.F', 0), ('KBC.AX', 21), ('ONCP.PK', 702), ('AATG.L', 0), ('VATN.S', 0), ('FDLB.PK', 0), ('RMC.AX', 0), ('LSEG.L', 0), ('OSCA.BO', 140), ('WTBFB.PK', 0), ('OBL.AX', 0), ('UPIF.BO', 0), ('SGKN.S', 0), ('PRIH.BO', 667), ('TRIM.JK', 0), ('SQN.S', 0), ('HLAN.PK', 0), ('GPK.CD', 0), ('EBMT.OQ', 0), ('4765.T', 0), ('GLJn.DE', 0), ('TOP.AX', 0), ('AMZN.PSX', 0), ('JFWV.PK', 0), ('SPBG.D', 0), ('PCG.AX', 0), ('PNBG.NS', 0), ('CNAF.PK', 0), ('ETRI.NFF', 0), ('8473.T', 0), ('CCP.AX', 0), ('UOKH.SI', 0), ('TIRU.L', 0), ('TCAPI.L', 0), ('INTF.CY', 0), ('FSI.AX', 0), ('DB1Gn.DE', 0), ('UCBI.OQ', 0), ('VPBN.S', 0), ('8063.HK', 0), ('600318.SS', 0), ('MIG5.L', 0), ('MIR.AX', 0), ('0290.HK', 449), ('USBN.MM', 3), ('0821.HK', 0), ('BAFI.PK', 668), ('8306.T', 0), ('CAPMAN.HE', 0), ('VONN.S', 0), ('CYSM.PK', 0), ('8628.T', 0), ('JLGC.AM', 0), ('JMRC.AM', 485), ('0329.HK', 0), ('ARIF.PSX', 0), ('EFSI.PK', 0), ('LUKN.S', 0), ('8524.T', 0), ('8303.T', 0), ('ZUGER.S', 0), ('8304.T', 0), ('HRRB.PK', 0), ('DOLA.NS', 0), ('LFGP.PK', 0), ('MTDS.TA', 0), ('WNRO.BO', 1918), ('YAMI.BO', 0), ('WILF.BO', 0), ('NFBK.OQ', 0), ('FGFH.PK', 0), ('WVFC.OQ', 0), ('FDHC.PK', 0), ('DLBG.SG', 0), ('SFDL.PK', 0), ('BIAT.TN', 0), ('FIZN.PK', 0), ('1834.JS', 0), ('ILK1.SG', 0), ('BFC.OQ', 0), ('IDGC.PK', 0), ('FBVA.PK', 0), ('GULF.PSX', 13), ('BNA.TN', 0), ('GFIL.BO', 0), ('CBHC.PK', 175), ('BI7G.MU', 0), ('COFS.OQ', 0), ('FMFG.PK', 0), ('DMKBA.PK', 19), ('WSSH.PK', 0), ('GBQG.H', 0), ('BTEI.TN', 0), ('8554.FU', 0), ('FMAO.OQ', 0), ('CZBC.PK', 0), ('EBTC.OQ', 0), ('FGBI.OQ', 0), ('CNBZ.PK', 0), ('CBCZ.PK', 0), ('CBFC.PK', 0), ('NDAQ.OQ', 0), ('PFLC.PK', 0), ('FCCT.PK', 0), ('7337.T', 0), ('SBTT.TTB', 0), ('8739.T', 0), ('600599.SS', 0), ('PKBK.OQ', 0), ('055550.KS', 0), ('AIB.PL', 0), ('PADICO.PL', 0), ('PIBC.PL', 0), ('QUDS.PL', 0), ('BROOKm.BK', 0), ('8369.T', 0), ('000686.SZ', 0), ('8462.T', 0), ('FIM.MT', 0), ('ADIB.AD', 0), ('FAB.AD', 0), ('WAHA.AD', 0), ('BMCS.PK', 0), ('TVOG.PK', 0), ('FYNBK.CO', 0), ('CIBH.PK', 0), ('CZBT.PK', 0), ('7350.T', 0), ('SHVA.DE', 0), ('WNEB.OQ', 0), ('CAGR.PA', 0), ('8308.T', 0), ('CWBK.PK', 0), ('0629.HK', 0), ('OLAK.KW', 0), ('ADCB.AD', 0), ('WAPO.CM', 0), ('AEONTS.BK', 0), ('CPF.N', 0), ('0310.HK', 0), ('MIG3.L', 0), ('MGHL.PK', 0), ('2880.TW', 0), ('NTN.L', 0), ('AMANAH.BK', 0), ('AFBA.PK', 0), ('CSB.PS', 0), ('8309.T', 0), ('2884.TW', 0), ('8331.T', 0), ('0812.HK', 0), ('2885.TW', 0), ('8109.HK', 449), ('2886.TW', 0), ('5820.TWO', 0), ('ZBB.ZA', 0), ('2887.TW', 0), ('CPIJ.J', 0), ('BCBP.OQ', 0), ('0901.HK', 0), ('8337.T', 0), ('0810.HK', 0), ('NBPK.PSX', 0), ('GRRB.PK', 0), ('ORBN.PK', 0), ('2889.TW', 0), ('CNI.AX', 0), ('OXFT.L', 0), ('600036.SS', 0), ('KTHN.PK', 0), ('CCB.BB', 0), ('TONY.CD', 255), ('CBI.AD', 0), ('HYG.L', 0), ('CCBN.KZ', 0), ('PNBK.NS', 0), ('BSWD.JK', 0), ('ITNM.PK', 0), ('2890.TW', 0), ('0766.HK', 0), ('ALF.NZ', 0), ('8544.T', 0), ('2891.TW', 0), ('LVPA.PK', 0), ('DLCG.TO', 0), ('BDO.PS', 0), ('BAMI.MI', 0), ('0064.HK', 0), ('WBHC.PK', 0), ('INTRUM.ST', 0), ('ARLG.DE', 0), ('8398.FU', 0), ('WHG.N', 0), ('CAF.AX', 0), ('KREN.JK', 0), ('AAYA.KW', 309), ('HNNA.OQ', 0), ('BABP.JK', 0), ('GARN.BO', 0), ('CALCi.PA', 0), ('0628.HK', 0), ('CADNi.PA', 0), ('CVBF.OQ', 0), ('8226.HK', 0), ('2388.HK', 0), ('INVP.L', 0), ('DESr.AT', 0), ('CNBW.PK', 296), ('1217.HK', 0), ('BANC.N', 0), ('CFIC.PK', 0), ('1226.HK', 0), ('UNBK.NS', 0), ('8382.T', 0), ('FNS.BK', 0), ('LETS.BT', 0), ('6020.TWO', 0), ('TCBI.OQ', 0), ('X.TO', 0), ('UGIC.BH', 447), ('PRAA.OQ', 0), ('MTVB.PK', 173), ('KTC.BK', 0), ('CME.OQ', 0), ('8530.T', 0), ('EZPW.OQ', 0), ('FBPA.PK', 0), ('ARTA.JK', 50), ('0379.HK', 0), ('8316.T', 0), ('8239.HK', 0), ('6021.TWO', 0), ('HRUG.MU', 0), ('DWNX.PK', 0), ('BKSW.JK', 0), ('TRUS.JK', 0), ('7327.T', 0), ('LOCA.EUA', 514), ('BCVN.S', 0), ('CNND.PK', 0), ('APIC.JK', 0), ('AEF.AX', 0), ('TNITY.BK', 0), ('PFS.N', 0), ('THANI.BK', 0), ('CCFC.PK', 0), ('CNBK.NS', 0), ('CM.TO', 0), ('FBMS.OQ', 0), ('2892.TW', 0), ('MFIN.PS', 0), ('600030.SS', 0), ('1GRT001E.BV', 0), ('1DRS001E.BV', 0), ('COG.AX', 0), ('8737.T', 0), ('8411.T', 0), ('FAKG.BE', 0), ('8601.T', 0), ('ATIJ.J', 0), ('1140.HK', 0), ('FCPB.PK', 0), ('FFI.S', 914), ('ASLR.L', 0), ('MVLY.PK', 0), ('CBD.DU', 0), ('BAYK.KW', 0), ('OPHC.OQ', 0), ('SICO.BH', 1992), ('8593.T', 0), ('NZX.NZ', 0), ('CMLJ.J', 0), ('OSUL.KW', 0), ('JQC.N', 0), ('SHCU.NS', 0), ('BMRI.JK', 0), ('FINC.OM', 0), ('MIDA.BK', 0), ('071050.KS', 0), ('NPFH.SI', 0), ('CWB.TO', 0), ('TSBN.KZ', 0), ('KFSK.KW', 10), ('SBL.PSX', 0), ('AGRO.JK', 373), ('WAX.AX', 0), ('FRVG.BU', 0), ('8439.T', 0), ('CBOBA.PK', 0), ('AADH.BO', 0), ('8377.T', 0), ('8541.T', 0), ('600015.SS', 0), ('KBZA.ZA', 0), ('IKBA.ZA', 703), ('ESOE.L', 0), ('TK.BK', 0), ('UCBK.NS', 0), ('CCVS.PK', 0), ('IPO.L', 0), ('KAMC.KW', 0), ('AMRP.BO', 0), ('SVEG.OL', 0), ('FCUS.BO', 403), ('GINV.BO', 0), ('GLAN.BO', 0), ('GOYA.BO', 441), ('HAST.BO', 76), ('OCAP.JK', 0), ('BBRI.JK', 0), ('HDFC.CM', 0), ('BKI.AX', 0), ('TAKA.BU', 0), ('000712.SZ', 0), ('IFL.AX', 0), ('PCB.OQ', 0), ('MST.BK', 0), ('RCG.TO', 0), ('NNI.N', 0), ('PSE.PS', 0), ('PIPR.N', 0), ('2388.T', 0), ('JHG.N', 0), ('TYBT.PK', 0), ('CSWC.OQ', 0), ('BOAN.CI', 0), ('ARLF.NS', 0), ('ELIX.BO', 0), ('BBSS.BO', 0), ('CFSL.NS', 0), ('COMF.BO', 0), ('REEN.SI', 0), ('GFHB.BH', 0), ('JAYA.BO', 190), ('BKOR.PK', 0), ('MCHA.PK', 0), ('BFE.MI', 0), ('TIRO.VI', 0), ('CAM.AX', 0), ('PZSG.DE', 0), ('HTH.N', 0), ('CLNV.PK', 0), ('NSC.AX', 0), ('MMS.AX', 0), ('8697.T', 0), ('TCFC.BO', 0), ('ECL.BK', 0), ('FSRL.PK', 0), ('8362.T', 0), ('DFN.TO', 0), ('OOA.L', 0), ('EQB.TO', 0), ('AMLK.DU', 1294), ('SCZC.PK', 0), ('SBNY.OQ', 0), ('KFL.NZ', 0), ('ADMF.JK', 0), ('BOBU.UG', 0), ('1160.HK', 0), ('SIEB.OQ', 0), ('FLMA11.SA', 0), ('CCYY.PK', 0), ('CZWI.OQ', 0), ('AINV.OQ', 0), ('BOS.AD', 0), ('HADE.JK', 0), ('BMBK.NS', 0), ('039490.KS', 0), ('GGIC.DU', 0), ('POON.NS', 0), ('CATY.OQ', 0), ('RWCB.PK', 0), ('TAVI.L', 0), ('GHL.N', 0), ('SANB4.SA', 0), ('MFG.AX', 0), ('PBK.BX', 0), ('BMNM.PK', 0), ('ICLE.CA', 304), ('2356.HK', 0), ('MEDCAP.ST', 0), ('8334.T', 0), ('ECT.AS', 0), ('AVBH.PK', 0), ('AZMT.MI', 0), ('CF.TO', 0), ('TDCB.PK', 0), ('8698.T', 0), ('GSH.NZ', 0), ('BAFL.PSX', 0), ('VMR1k.F', 0), ('BWFG.OQ', 0), ('8359.T', 0), ('BCP.CS', 0), ('GCCO.BO', 0), ('QCCO.PK', 0), ('FSWA.PK', 0), ('QCA.CD', 0), ('SEKFK.IS', 0), ('ESBS.PK', 0), ('FEN.L', 0), ('KBPH.PK', 80), ('5880.TW', 0), ('TAV.H', 0), ('CRV.L', 0), ('UBAB.PK', 0), ('ML.BK', 0), ('DFCU.UG', 0), ('FSS.BK', 0), ('BCML.OQ', 0), ('MR1R.LJ', 0), ('MKTX.OQ', 0), ('AFm.BK', 0), ('GRNYO.IS', 0), ('CNS.N', 0), ('IWSH.PK', 0), ('2897.TW', 0), ('BEOB.PK', 0), ('CPAP.WA', 0), ('FTEC.V', 0), ('FDVA.PK', 0), ('8425.T', 0), ('ELXR.V', 165), ('KRNY.OQ', 0), ('7381.T', 0), ('OXF.L', 0), ('OSKV.KL', 0), ('XTPG.DE', 0), ('HEM1.F', 0), ('CGA.AX', 0), ('HLTH.CD', 0), ('8699.T', 0), ('GBX.BK', 0), ('PBIP.OQ', 0), ('CAFI.PK', 0), ('8386.T', 0), ('SFIO.PK', 0), ('PVBK.PK', 0), ('GL.BK', 0), ('BGI.NZ', 540), ('SRV_u.TO', 0), ('SIB.AD', 0), ('ISGSY.IS', 0), ('8700.T', 0), ('WOMF.JK', 0), ('ZENITHB.LG', 0), ('8624.T', 0), ('OPY.N', 0), ('6023.TWO', 0), ('HHV.L', 0), ('8424.T', 0), ('HFBL.OQ', 0), ('BFIN.OQ', 0), ('CAL.GH', 0), ('PKO.WA', 0), ('HPBGn.DE', 0), ('BCAL.PK', 0), ('JPM.N', 0), ('INBK.OQ', 0), ('HPAC.L', 0), ('ASK.BK', 0), ('NRBN.KZ', 297), ('PFG.AX', 0), ('YULE.JK', 0), ('FSTF.PK', 0), ('NSX.AX', 0), ('BIND.AM', 0), ('AX.N', 0), ('8345.T', 0), ('LPBC.PK', 0), ('TBBK.OQ', 0), ('LAZ.N', 0), ('JIM.L', 0), ('FCMB.LG', 0), ('BCBF.PK', 0), ('FAVO.PK', 0), ('MLERO.EUA', 0), ('8793.T', 0), ('BVFL.PK', 0), ('8385.T', 0), ('GBFL.BO', 2), ('MICS.BO', 0), ('OCLC.BO', 0), ('PCAP.BO', 0), ('QFSL.BO', 287), ('SHSL.BO', 2), ('SUMF.BO', 0), ('WNFS.BO', 312), ('ACAPm.BK', 0), ('AMBL.PSX', 0), ('8584.T', 0), ('GBVLAC1.LM', 0), ('FORF.NXX', 0), ('FTU.TO', 0), ('GKCL.BO', 507), ('STSE.BO', 0), ('SCCL.BO', 0), ('WPH.NH', 205), ('ASBN.KZ', 2), ('INOV.BH', 0), ('ROBRK.BX', 0), ('VALU.TA', 0), ('KWG.L', 0), ('PWBO.PK', 0), ('PRMB.MM', 0), ('INDN.BO', 0), ('MAV4.L', 0), ('CAI.V', 0), ('BMYS.KL', 0), ('FDI.V', 0), ('BRK.L', 0), ('IIFL.NS', 0), ('8511.T', 0), ('KFFB.OQ', 0), ('8704.T', 0), ('MNBO.PK', 0), ('8705.T', 0), ('RBIV.VI', 0), ('INCT.BO', 0), ('8706.T', 0), ('YESB.NS', 0), ('UAB.AD', 0), ('NITL.MV', 0), ('7380.T', 0), ('NECE.L', 0), ('INVESTB.AD', 0), ('ICE.N', 0), ('PABC.CM', 0), ('JINP.NS', 0), ('TEK.AX', 0), ('EIBAN.DU', 1094), ('LFE.TO', 0), ('INV.AX', 0), ('WCCP.PK', 0), ('CHCO.OQ', 0), ('FRSB.PK', 0), ('IBTC.LG', 0), ('IGG.L', 0), ('1140.SE', 0), ('WAL.N', 0), ('CENC.NS', 0), ('8789.T', 0), ('UNIC.KW', 0), ('FIDELIT.LG', 0), ('EIB.DU', 191), ('8338.T', 0), ('IDFC.NS', 0), ('DVR.AX', 0), ('AUIV.L', 0), ('HTGC.N', 0), ('FNEL.PSX', 0), ('MADR.KW', 114), ('HITV.NFF', 0), ('JNSW.NS', 0), ('PEGE.JK', 0), ('NBQ.AD', 0), ('NA.TO', 0), ('ATW.CS', 0), ('FH.AD', 0), ('TAHS.KW', 37), ('HVLM.PK', 0), ('IDM.WA', 0), ('SCGX.PK', 0), ('CDM.AX', 0), ('BNRA.BO', 0), ('CITI.BO', 0), ('DLST.BO', 0), ('DBSB.NS', 0), ('8551.T', 0), ('DHCO.BO', 80), ('AFIN.BO', 0), ('SIGR.BO', 0), ('GOGC.BO', 0), ('UYFI.BO', 0), ('IAFN.BO', 0), ('JMDV.BO', 0), ('KIDA.BO', 0), ('LIBD.BO', 0), ('MNFL.NS', 0), ('8370.T', 0), ('INDH.BO', 0), ('NLEA.BO', 0), ('NOUV.BO', 0), ('ASIT.BO', 0), ('OASE.BO', 0), ('LFNS.BO', 0), ('RFLC.BO', 0), ('SAFN.BO', 0), ('SKPS.BO', 0), ('LUHA.BO', 0), ('8617.T', 0), ('OPTM.BO', 0), ('STEH.BO', 0), ('RELI.JK', 0), ('ADAA.L', 0), ('TGP.AX', 0), ('ARIH.BO', 0), ('GMTN.BO', 0), ('GOLC.BO', 0), ('HBPF.BO', 0), ('MINV.BO', 0), ('CMA.N', 0), ('MFIN.BO', 866), ('SICL.BO', 1948), ('SPCF.BO', 0), ('SRMA.BO', 0), ('BIOG.BO', 0), ('BERY.BO', 0), ('ESRI.BO', 0), ('ICAP.BO', 0), ('VISG.BO', 0), ('SYTX.BO', 1745), ('CBSH.OQ', 0), ('PRSM.BO', 1067), ('GLXY.TO', 42), ('WSBF.OQ', 0), ('OPBK.OQ', 0), ('SARC.BO', 1529), ('TRNI.BO', 12), ('UKFN.BO', 0), ('ENBT.BO', 1429), ('KPAC.BO', 1064), ('BICC.CI', 0), ('INTV.BO', 0), ('KKFI.BO', 0), ('MLTD.BO', 1463), ('MUNC.BO', 0), ('NIDH.BO', 0), ('STAE.NS', 0), ('POTX.BO', 71), ('RAFI.BO', 112), ('FINK.BO', 0), ('CBU.N', 0), ('SULE.BO', 197), ('TASH.BO', 490), ('VLTL.BO', 217), ('ANFI.BO', 0), ('UBL.PSX', 0), ('WBS_p.L', 0), ('INPR.BO', 0), ('LEND.L', 0), ('DEER.KW', 0), ('RAKBANK.AD', 0), ('8252.T', 0), ('SHIT.BO', 0), ('KHOB.BO', 0), ('RIUN.BO', 0), ('MUKB.BO', 0), ('CNDF.BO', 25), ('ABAT.BO', 0), ('STAM.NS', 0), ('ABL.PSX', 0), ('ABML.NS', 0), ('PGNN.PK', 0), ('8613.T', 0), ('AMP.N', 0), ('MNSB.OQ', 0), ('BAMS.BO', 0), ('CILS.BO', 0), ('CAPG.NS', 0), ('IKAB.BO', 0), ('INIS.BO', 0), ('JJFC.BO', 0), ('JONC.BO', 0), ('KJMA.BO', 0), ('CCUR.PK', 0), ('FMCC.PK', 0), ('MUNF.BO', 0), ('PRFN.BO', 0), ('RAMP.BO', 0), ('RLFL.BO', 269), ('SWOD.BO', 0), ('SAHR.BO', 0), ('SMIF.BO', 0), ('INDF.BO', 0), ('TKYO.BO', 0), ('TRNS.BO', 0), ('FFP.V', 0), ('VRTS.BO', 0), ('EASY.BO', 1225), ('BOTL.BO', 0), ('WAGE.BO', 129), ('STNM.BO', 0), ('DBIS.QA', 0), ('IBFM.AM', 0), ('MFIN.JK', 0), ('HXCKk.DE', 0), ('MGYR.OQ', 0), ('CIBN.PK', 0), ('EFGN.S', 0), ('AMUN.PA', 0), ('ASHC.BO', 0), ('SOAG.OL', 0), ('L1OGk.DE', 0), ('FBIZ.OQ', 0), ('CBOF.PK', 0), ('NBF.AD', 52), ('TFCI.OM', 0), ('WNLV.PK', 0), ('SAFC.CI', 0), ('HBMN.S', 0), ('HPBZ.ZA', 0), ('MTWL.L', 0), ('RTML.F', 0), ('TIP.MI', 0), ('EQFN.PK', 0), ('VAKBN.IS', 0), ('UOBKH.BK', 0), ('KAT.AX', 0), ('PDV.TO', 0), ('8393.T', 0), ('BOP.PL', 0), ('ALSAFAT.KW', 0), ('GVFF.PK', 0), ('ACSL.BO', 0), ('JDC.DE', 0), ('086790.KS', 0), ('GFL.AX', 0), ('TMLZ.KZ', 1798), ('DNBN.KZ', 524), ('E72.NH', 1055), ('SGBC.CI', 0), ('OPAL.TA', 0), ('ICLI.BO', 0), ('PEQA.NH', 1108), ('MMFS.NS', 0), ('EKTT.KW', 0), ('C9TG.H', 0), ('I8CKk.H', 0), ('AMAL.AM', 0), ('UNITYBN.LG', 0), ('MIG.L', 0), ('8336.T', 0), ('FA.V', 0), ('KYNC.PK', 124), ('8707.T', 0), ('8783.T', 0), ('FMBN.PK', 0), ('8708.T', 0), ('OSEC.L', 0), ('ROSB.MM', 0), ('8416.T', 0), ('INDB.UAX', 0), ('8522.T', 0), ('BPM.L', 0), ('7338.T', 0), ('EMKS.NS', 0), ('DCBA.NS', 0), ('SCYS.NS', 0), ('PGHN.S', 0), ('CARD3.SA', 0), ('TERNT.L', 0), ('ATRY.TA', 0), ('SMIV.SI', 0), ('0665.HK', 0), ('CFST.PK', 0), ('HOMB.N', 0), ('NGI.AX', 0), ('BOK.PSX', 0), ('MCEI.NS', 0), ('COWN.OQ', 0), ('BNBA.JK', 0), ('BACB.BB', 0), ('LSBK.OQ', 0), ('MFDB.PK', 0), ('BERK.PK', 0), ('CLIG.L', 0), ('LMST.OQ', 0), ('HTGR.L', 0), ('ECDP.PK', 0), ('SALAM.BH', 0), ('ABSPp.J', 0), ('COL.PS', 0), ('UNHOMES.LG', 180), ('NOOR.KW', 22), ('CMCX.L', 0), ('UNIB.PK', 0), ('PBBG.DE', 0), ('SCIR.L', 0), ('CHW.TO', 0), ('BRH.L', 0), ('BOUK.KW', 0), ('EVR.N', 0), ('GPIV33.SA', 0), ('HODL.CD', 0), ('BIR.AX', 479), ('BIPL.PSX', 0), ('OLY.TO', 0), ('8594.SP', 0), ('STB.HM', 0), ('SINV.BO', 0), ('SLCL.TA', 0), ('GVYB.PK', 0), ('LMS.L', 0), ('TAMI.KW', 0), ('EUYO.IS', 0), ('T7RAk.H', 0), ('JSEJ.J', 0), ('CPTP.TA', 0), ('8367.T', 0), ('PWFC.NS', 0), ('SPRG.TA', 0), ('TRVR.PK', 0), ('RUSI.MM', 0), ('JMBN.BEL', 0), ('601988.SS', 0), ('TRFI.NS', 0), ('FN.TO', 0), ('MARK.QA', 0), ('AR4G.DE', 0), ('NICK.OQ', 0), ('SCIG.H', 0), ('ABTO.PK', 0), ('NECB.OQ', 0), ('ABDN.L', 0), ('BBKP.JK', 0), ('GBNY.OQ', 0), ('O4BG.DE', 0), ('SSBI.OQ', 0), ('GEEI.BO', 0), ('EQTY.NR', 0), ('9318.T', 0), ('BGN.MI', 0), ('2497.T', 0), ('EGH.GH', 0), ('TIME.L', 0), ('AIQ.AX', 0), ('FRST.OQ', 0), ('INCP.WA', 0), ('MNY.AX', 0), ('REAC.CA', 0), ('KMBN.BEL', 0), ('OC.V', 0), ('WIFAK.TN', 0), ('BLOM.BY', 0), ('ARBV.PK', 0), ('KR1.NXX', 0), ('NXG.V', 0), ('BARKA.BH', 0), ('8418.T', 0), ('STTC.BO', 0), ('LERT.BO', 0), ('GOWL.BO', 0), ('CFR.N', 0), ('STUL.BO', 0), ('RVCB.PK', 0), ('M3Bk.DE', 0), ('LWD.D', 1101), ('HPIL.PK', 57), ('ASHM.L', 0), ('SDRA.JK', 0), ('ETI.LG', 0), ('BLAD.AM', 0), ('FFCO.AM', 0), ('NTRS.OQ', 0), ('STERLNB.LG', 0), ('RFHL.TTB', 0), ('ICBI.DH', 0), ('IFIC.DH', 0), ('ISLB.DH', 0), ('UISY.BO', 0), ('MNMB.PK', 1), ('MTBL.DH', 0), ('AMBL.TTB', 0), ('NCBS.OQ', 0), ('NRIM.OQ', 0), ('T2GG.F', 0), ('LUS1n.DE', 0), ('601398.SS', 0), ('BRM.NZ', 0), ('ALAF.KW', 0), ('B7EG.DE', 0), ('QB7G.DE', 0), ('TRUX.PK', 0), ('BVS.HN', 0), ('OAP3.L', 0), ('WFC.N', 0), ('CNKS.L', 0), ('SAR.N', 0), ('ALTUR.PA', 0), ('ACB.HM', 0), ('ZC.V', 0), ('WMI.AX', 0), ('TGA.AX', 0), ('UFUK.IS', 0), ('PLANVITAL.SN', 0), ('DFM.DU', 0), ('NMI.N', 0), ('SEBa.ST', 0), ('DF.TO', 0), ('NAHO.CA', 0), ('TCNB.PK', 0), ('HUM.AX', 0), ('SSI.HM', 0), ('FNX.AX', 1226), ('FNDM.PK', 0), ('IBKR.OQ', 0), ('MFF.AX', 0), ('ZEDJ.J', 0), ('NNY.N', 0), ('SBKO.PK', 0), ('LOHS.BO', 0), ('ESSA.OQ', 0), ('HUBVC.IS', 0), ('INBA.NS', 0), ('TFSL.OQ', 0), ('FMFP.PK', 0), ('FNR.V', 0), ('ZBFH.ZI', 0), ('BKSB.OM', 0), ('8604.T', 0), ('PBNK.PK', 0), ('POLR.L', 0), ('VG8G.DE', 0), ('FHLB.PK', 0), ('601166.SS', 0), ('8772.T', 0), ('EASB.CA', 0), ('USMT.PK', 0), ('A7AGn.DE', 0), ('RGLG.PK', 0), ('8361.T', 0), ('AUTH.BO', 0), ('LCAP.NXX', 0), ('078020.KQ', 0), ('AHL.PSX', 0), ('8771.T', 0), ('GUAA.PK', 1277), ('PINE4.SA', 0), ('1150.SE', 0), ('BE0003860773.BR', 0), ('VZN.S', 0), ('8392.T', 0), ('EBSC.CA', 41), ('KWIN.CA', 0), ('CARE.OQ', 0), ('SBU.UG', 0), ('CRSB.PK', 0), ('8354.T', 0), ('JSGC.PSX', 0), ('TIE.V', 157), ('LHGI.PK', 0), ('JSBL.PSX', 0), ('NUV.N', 0), ('PDBA.ZA', 0), ('SNBA.ZA', 0), ('SOHL.PK', 0), ('FRBA.OQ', 0), ('BX.N', 0), ('JAREN.OL', 0), ('DFS.N', 0), ('COPR.MI', 0), ('NCAx.L', 0), ('SUGR.PK', 0), ('8609.T', 0), ('601998.SS', 0), ('MOFS.NS', 0), ('AAEV.L', 0), ('VTBR.MM', 0), ('UAVP.L', 0), ('0717.HK', 0), ('SCBP.PSX', 0), ('HRGV.L', 0), ('601328.SS', 0), ('PME.TO', 0), ('CREDITC1.LM', 0), ('TNB.PL', 0), ('JSIL.PSX', 0), ('NGE.AX', 0), ('PTM.AX', 0), ('OYAYO.IS', 0), ('AVTUR.IS', 0), ('CRLA.PA', 0), ('HALKB.IS', 0), ('BKOM.PR', 0), ('DFTKn.DE', 0), ('VZLC.DE', 0), ('NAXS.ST', 0), ('FIEB.PK', 0), ('MUSH.NXX', 0), ('MAIN.N', 0), ('NAM.NM', 6), ('CFSU.PK', 0), ('ISMEN.IS', 0), ('FSMK.PK', 0), ('DVLN.PK', 0), ('MOL.MI', 0), ('SCOM.BB', 0), ('8732.T', 0), ('SALM.AM', 170), ('CBI.NS', 0), ('PNI.AX', 0), ('029780.KS', 0), ('HUB.AX', 0), ('FGLJ.J', 0), ('BNORDIK.CO', 0), ('CRPL.L', 0), ('ADCG.F', 0), ('ABCB4.SA', 0), ('IPF.L', 0), ('HACA.BO', 0), ('BPAT.BA', 0), ('PZN.N', 0), ('CRBP2.PA', 0), ('CAVALIC1.LM', 0), ('601939.SS', 0), ('FIB.BB', 0), ('ALBRK.IS', 0), ('NQP.N', 0), ('BVC.CN', 0), ('BRSR6.SA', 0), ('AVAN.MM', 0), ('BPVD.PFT', 593), ('KKR.N', 0), ('601009.SS', 0), ('002142.SZ', 0), ('GMAP.PS', 0), ('QNTO.PK', 0), ('PASL.PSX', 0), ('NEWT.OQ', 0), ('KRIP.WA', 0), ('IFRP.WA', 0), ('INVE.LZ', 238), ('AYI.AX', 0), ('KAFA.AM', 0), ('SIHL.L', 0), ('0412.HK', 0), ('TEAM.CD', 0), ('SBT.MKE', 0), ('TTK.MKE', 0), ('KMB.MKE', 0), ('601866.SS', 0), ('PEBC.PK', 0), ('EDEL.NS', 0), ('FFNW.OQ', 0), ('RECM.NS', 0), ('601169.SS', 0), ('QOIS.QA', 0), ('ALBAV.HE', 0), ('BILL.BO', 0), ('BPAN4.SA', 0), ('SQG.V', 0), ('HSTA.PK', 0), ('NCIL.NS', 0), ('BTPN.JK', 0), ('CABK.MC', 0), ('HBL.PSX', 0), ('SLRK.PK', 0), ('SFI.TO', 0), ('ONB.OQ', 0), ('601788.SS', 0), ('FINDEP.MX', 0), ('CAMb.TE', 0), ('ENBD.DU', 0), ('PISA.NS', 0), ('PDL.AX', 0), ('EEQP.NXX', 0), ('NW4G.BE', 0), ('AIB.AX', 0), ('RTA4.MC', 0), ('ONEX.TO', 0), ('069920.KQ', 0), ('PEY.L', 0), ('WAA.AX', 0), ('0806.HK', 0), ('SCU.N', 0), ('BFG.AX', 0), ('RUSE.S', 0), ('IDFB.PK', 0), ('CMUV.PK', 0), ('ANCR.KL', 0), ('AAB.TO', 0), ('VUNJ.J', 0), ('HVPEa.L', 0), ('5863.TWO', 0), ('FTRKk.BE', 0), ('MWTP.WA', 0), ('RECL.L', 0), ('BVB.HNO', 0), ('UCIX.PK', 0), ('SLF.CS', 0), ('VCB.HM', 0), ('OFG.N', 0), ('PHTN.BO', 95), ('HGBS11.SA', 0), ('ETYAT.IS', 0), ('BLU.WA', 0), ('YBR.AX', 0), ('MLVF.OQ', 0), ('SMBL.PSX', 0), ('1LSIT.DH', 0), ('BDFN.DH', 0), ('BIFC.DH', 0), ('DANSKE.CO', 0), ('DBBK.DH', 0), ('EXPT.DH', 0), ('IDLC.DH', 0), ('IFIL.DH', 0), ('ILFS.DH', 0), ('IPDC.DH', 0), ('LBFL.DH', 0), ('NBLL.DH', 0), ('NCCB.DH', 0), ('OBLT.DH', 0), ('JYSK.CO', 0), ('FNMA.PK', 0), ('PHXF.DH', 0), ('PLFS.DH', 0), ('PLSI.DH', 0), ('PRBN.DH', 0), ('TRBK.DH', 0), ('UCBL.DH', 0), ('UNCP.DH', 0), ('ABBK.DH', 0), ('CTBK.DH', 0), ('PBBK.DH', 0), ('LOLB.CO', 0), ('RPBK.DH', 0), ('UTBK.DH', 0), ('ENBK.DH', 0), ('UNIE.DH', 0), ('UTFN.DH', 0), ('AIBK.DH', 0), ('PRBK.DH', 0), ('SEBK.DH', 0), ('DHBK.DH', 0), ('SOCI.DH', 0), ('LUXORb.CO', 0), ('MDFL.DH', 0), ('STBL.DH', 0), ('BKAL.DH', 0), ('MCBL.DH', 0), ('PFIL.DH', 0), ('JMNB.DH', 0), ('BRAC.DH', 0), ('SIBL.DH', 0), ('JIHL.SI', 0), ('601099.SS', 0), ('RILBA.CO', 0), ('OTV2.L', 0), ('DCPL.MZ', 0), ('LFLS.PK', 0), ('LITT.V', 0), ('SFBC.OQ', 0), ('DEAPCAP.LG', 0), ('UTIA.NS', 0), ('TCA.V', 0), ('FASC.DH', 0), ('8410.T', 0), ('SKJE.CO', 0), ('KINGI.NXX', 0), ('AID.NH', 0), ('IGVI.L', 0), ('ARSA.MM', 0), ('BJBR.JK', 0), ('GAZS.MM', 999), ('AJBNK.DU', 0), ('EWG.CD', 0), ('BEES4.SA', 0), ('EVAEV.NXX', 0), ('MLXK.LU', 2342), ('IHGS.QA', 0), ('GAZC.MM', 67), ('PUNP.WA', 0), ('SHSA.BO', 1382), ('SWIN.BO', 0), ('TILV.BO', 270), ('PRIX.BO', 576), ('RAPI.BO', 1037), ('SVAR.BO', 0), ('IISL.BO', 0), ('PVTP.PR', 446), ('BANA.BO', 0), ('PSIT.BO', 0), ('BLUE.BO', 0), ('ZECL.BO', 0), ('SHKA.BO', 0), ('PFCS.BO', 0), ('MILG.BO', 0), ('ABAS.BO', 13), ('ESAR.BO', 0), ('NAHA.NS', 0), ('EGBN.OQ', 0), ('CARD.AM', 0), ('EFGH.PSX', 0), ('101140.KS', 0), ('DHAE.NS', 0), ('4RL.BE', 0), ('SKLP.WA', 0), ('BMC.CN', 58), ('TROO.OQ', 0), ('DEL.PSX', 0), ('SII.TO', 0), ('VALU8.AS', 0), ('VRNA.JK', 0), ('WMPN.OQ', 0), ('GFL.NZ', 0), ('B3SA3.SA', 0), ('DBHF.DH', 0), ('ASOSAVI.LG', 640), ('ASW.AX', 0), ('PRMH.CA', 0), ('6024.TW', 0), ('EXXr.AT', 37), ('EIBL.PSX', 0), ('8340.HK', 0), ('GPLJ.J', 0), ('EOSB.CA', 39), ('BOLSAA.MX', 0), ('PRIP.WA', 0), ('SSUD.DU', 0), ('ASPI.CA', 0), ('BTFH.CA', 0), ('MUXG.DE', 0), ('HBCP.OQ', 0), ('PNC.N', 0), ('RATOb.ST', 0), ('ARGOA.L', 0), ('SABK.AM', 0), ('SQL.BN', 75), ('BIPS.PSX', 0), ('ICBL.DH', 0), ('BLHK.PK', 0), ('DNAX.PK', 0), ('COOP.NR', 0), ('FCONFIC1.LM', 1), ('CCNB.PK', 0), ('PAI.N', 0), ('FUND.AM', 0), ('TMAK.PK', 0), ('DRF.WA', 0), ('ATRSr.AT', 0), ('FMB.MV', 0), ('NBM.MV', 0), ('NBS.MV', 0), ('SBC.MV', 0), ('KBSI.BO', 0), ('AMWJ.AM', 0), ('LUXP.LU', 0), ('IMPE.PSX', 0), ('TREE.OQ', 0), ('IDGP.WA', 0), ('MAN1.WA', 0), ('ABBB.PK', 0), ('EP_pc.N', 0), ('FCIB.PSX', 0), ('DCB.TZ', 0), ('NMB.TZ', 0), ('CGRN.BB', 0), ('TOTG.OL', 0), ('MARI.PSX', 0), ('QRS.WA', 0), ('CYB.TO', 0), ('JADE.L', 0), ('WICL.NS', 0), ('FIRS.DH', 0), ('105560.KS', 0), ('HTCL.SI', 0), ('FSFG.OQ', 0), ('REIT.LU', 0), ('BDMN.JK', 0), ('ANFI.CA', 0), ('ABBEYBD.LG', 0), ('AD_u.TO', 0), ('CAPR.CM', 0), ('CPIT.BO', 0), ('UTB.GH', 0), ('ZNCO.LZ', 0), ('CTG.HM', 0), ('AGR.HM', 0), ('ZUKB.PFT', 308), ('BPI.PS', 0), ('TCIh.V', 0), ('VRTS.OQ', 0), ('NHFI.DH', 0), ('TISCO.BK', 0), ('MCVT.PK', 0), ('MOOG.BO', 0), ('SFTC.BO', 0), ('BPFI.JK', 0), ('CTS.HM', 0), ('5864.TWO', 0), ('SAN.MC', 0), ('DAIF.AM', 2), ('KSUMh.V', 162), ('3266.T', 0), ('BAYL.DH', 0), ('SHB.HM', 0), ('CRDB.TZ', 0), ('ABSB.SJ', 0), ('BORB.SJ', 0), ('IKBZ.SJ', 0), ('KIBB.SJ', 1300), ('AFI.AX', 0), ('TZLB.SJ', 1542), ('UNIB.SJ', 19), ('UPIB.SJ', 94), ('HCM.HM', 0), ('IGEX.PK', 0), ('LEAS.AM', 67), ('TBNK.OQ', 0), ('CAIP.WA', 0), ('LETP.WA', 0), ('IPE.WA', 0), ('BOQ.AX', 0), ('FTKn.DE', 0), ('FFMH.PK', 0), ('KRLB.BJ', 0), ('IEFB.BJ', 1050), ('VBBB.BJ', 1176), ('PIBB.BJ', 222), ('NBLB.BJ', 0), ('NOVB.BJ', 0), ('GNRV.PK', 0), ('SHS.HN', 0), ('EMII.MI', 0), ('ATMK.BJ', 0), ('KMCB.BJ', 0), ('ISBK.PL', 0), ('AXIS.TO', 66), ('MYS.AX', 0), ('RILY.OQ', 0), ('FXC.TO', 0), ('APS.HN', 0), ('VDS.HM', 0), ('8713.T', 0), ('IBC.AX', 0), ('IPOKk.F', 0), ('GRCA.CA', 0), ('TLP_u.CD', 0), ('ESGTI.BN', 0), ('TETAA.PK', 0), ('8714.T', 0), ('LHFG.BK', 0), ('OTCM.PK', 0), ('BAER.S', 0), ('AKTIA.HE', 0), ('BURF.L', 0), ('CIN.AX', 0), ('CULL.OQ', 0), ('BIGP.CA', 0), ('INTH.BO', 0), ('PCST.PK', 0), ('ASIYA.KW', 0), ('EIB.HM', 0), ('IFCRCP.PFT', 0), ('600999.SS', 0), ('KASE.KZ', 0), ('BBTN.JK', 0), ('PRK.A', 0), ('ZIP.AX', 0), ('CCAP.CA', 0), ('VIG.HN', 0), ('PIBN.PFT', 154), ('QFBQ.QA', 0), ('WSS.HN', 0), ('BSEL.NS', 0), ('KAmad.KA', 0), ('RESORTS.LG', 187), ('PGT.HN', 0), ('CCWF.PK', 0), ('SAIC.BO', 1951), ('VIX.HM', 0), ('IFS.BK', 0), ('VERF.PK', 0), ('ADIN.BO', 0), ('FIBK.OQ', 0), ('IC.CD', 0), ('MUSGn.D', 0), ('GOZDE.IS', 0), ('601688.SS', 0), ('CMTV.PK', 0), ('EPY.AX', 0), ('IGSL.NS', 0), ('300059.SZ', 0), ('GDOT.N', 0), ('8600.T', 0), ('MIL.JS', 0), ('VALL.CM', 0), ('DBMF.DH', 0), ('1180.SE', 0), ('CBOE.Z', 0), ('VGM.N', 0), ('VND.HM', 0), ('RASI.KW', 0), ('APG.HM', 0), ('HIBP.MOT', 0), ('MONB.MOT', 0), ('NKBA.MOT', 122), ('ATLM.MOT', 765), ('MOBE.MOT', 164), ('MONP.MOT', 0), ('FFBN.MOT', 1195), ('TWCF.PK', 0), ('ATBN.MOT', 171), ('BOAC.CI', 0), ('GFLF.BO', 0), ('GBDC.OQ', 0), ('601288.SS', 0), ('PUNA.NS', 0), ('ACTINVRB.MX', 0), ('601818.SS', 0), ('002420.SZ', 0), ('002423.SZ', 0), ('TVNB.PK', 324), ('RACPp.J', 0), ('601229.SS', 0), ('FIIP11B.SO', 0), ('BSIM.JK', 0), ('VTI.WA', 0), ('ROBVB.BX', 0), ('JUP.L', 0), ('DRCh.V', 290), ('EUHOL.IS', 0), ('EMYB.PK', 0), ('ALB.MC', 0), ('1788.HK', 0), ('CSRP.WA', 0), ('ALMTH.PA', 0), ('SBS.HNO', 0), ('LFIC.NS', 0), ('HBS.HN', 0), ('ORS.HM', 0), ('LPLA.OQ', 0), ('PADI.JK', 0), ('CNBB.PK', 0), ('TWVG.EUA', 0), ('MONEXB.MX', 0), ('PSI.HN', 0), ('NCRF.BO', 221), ('LIGA.PK', 0), ('BGBSE.BB', 0), ('002500.SZ', 0), ('GEDIK.IS', 0), ('7148.T', 0), ('WD.N', 0), ('AMARF.KW', 0), ('PEBK.OQ', 0), ('SHBa.ST', 0), ('000416.SZ', 0), ('ESGW.V', 0), ('GARB.BO', 258), ('1428.HK', 0), ('ABSO.MOT', 139), ('SPAD.NS', 0), ('BAM.BK', 0), ('PTF.V', 0), ('LBI.V', 238), ('CSKL.PK', 0), ('TCC.CD', 0), ('CHIB.PS', 0), ('ERAP.WA', 0), ('WRLP.WA', 0), ('NVB.HN', 0), ('BMAS.JK', 0), ('601377.SS', 0), ('MATE.V', 0), ('CTUY.PK', 0), ('CDBF.CM', 0), ('MUTT.NS', 0), ('DVI_p.CN', 0), ('8527.T', 0), ('1551.HK', 0), ('NOAH.N', 0), ('LTFH.NS', 0), ('PDH.V', 0), ('BKU.N', 0), ('OFED.OQ', 0), ('GPW.WA', 0), ('DXF.A', 0), ('KRU.WA', 0), ('SIFI.CM', 0), ('CVC.AX', 0), ('MTR.BA', 880), ('FRC.N', 0), ('NPFMCRF.LG', 0), ('BKIRx.L', 871), ('601577.SS', 0), ('BJTM.JK', 0), ('PTCN.NS', 0), ('TMTI.L', 0), ('NWA.WA', 0), ('GENTERA.MX', 0), ('OEQ.AX', 141), ('ONEL.NS', 0), ('UNIO.CM', 0), ('BOABF.CI', 0), ('0080.HK', 0), ('TXF.WA', 0), ('AFDG.PK', 0), ('601077.SS', 0), ('GV2O.L', 0), ('GV1O.L', 0), ('KALA.NS', 0), ('CBA.AX', 0), ('BFIN.NS', 0), ('FSBS.DS', 0), ('SNGP.WA', 0), ('HGH.NZ', 0), ('ARBS.DS', 0), ('BASY.DS', 0), ('BOJS.DS', 0), ('BSO.DS', 0), ('BBSF.DS', 0), ('BBS.DS', 0), ('CTBI.OQ', 0), ('QNBS.DS', 0), ('SGB.DS', 0), ('SIIB.DS', 0), ('IBTF.DS', 0), ('SHRQ.DS', 0), ('REMS.WA', 0), ('AINP.WA', 0), ('FNXLF.PK', 534), ('HDFA.JK', 0), ('INNO.BO', 0), ('7150.T', 0), ('ECON.BO', 0), ('600919.SS', 0), ('EFN.TO', 0), ('HCGI.PK', 587), ('601825.SS', 0), ('IOU.V', 0), ('8098.HK', 0), ('IBFN.JK', 0), ('UKRGAZB_p.EP', 2), ('STB.OL', 0), ('ARNO.BO', 0), ('3360.HK', 0), ('AFC.WA', 0), ('BNP1.WA', 0), ('IROQ.OQ', 0), ('SFCL.CM', 0), ('APO.N', 0), ('GRM.WA', 0), ('138930.KS', 0), ('NWPP.PK', 0), ('FCBC.OQ', 0), ('INNN.BO', 0), ('JMSB.OQ', 0), ('BSST.PFT', 0), ('601236.SS', 0), ('IGLN.L', 0), ('FXI.TE', 0), ('BOK.RW', 0), ('DASL.BO', 0), ('AFS.JS', 0), ('BIL.JS', 0), ('EQT.AX', 0), ('CBKG.DE', 0), ('SGJ.JS', 0), ('SIJL.JS', 0), ('GTF.WA', 0), ('ITSL.NS', 0), ('AERP.WA', 0), ('BRTAh.V', 1052), ('HMST.OQ', 0), ('ICPb.CR', 195), ('AWLP.NXX', 0), ('RA.MX', 0), ('BLBP.EUA', 297), ('MSBI.OQ', 0), ('RM.N', 0), ('SWAR.CM', 493), ('601901.SS', 0), ('MULT.CM', 0), ('SOR.AX', 0), ('139130.KS', 0), ('MERC.CM', 0), ('COMN.CM', 0), ('BBSY.DS', 0), ('QNBFB.IS', 0), ('RUMI.AM', 0), ('AMCL.CM', 0), ('TIFA.JK', 0), ('OAB.OM', 0), ('BIMP.CM', 0), ('BKNZ.OM', 0), ('INFO.IS', 0), ('ASSO.CM', 0), ('AFSL.CM', 0), ('DELW.NS', 0), ('FNBB.BT', 0), ('SAWAD.BK', 0), ('GLBMD.IS', 0), ('DABA.CO', 0), ('5871.TW', 0), ('LOLF.CM', 0), ('MN.N', 0), ('RICH.CD', 0), ('CHKR.PK', 0), ('IVS.HN', 0), ('APAM.N', 0), ('GAES.SCT', 408), ('DYNC.BO', 0), ('DNA2_p.L', 0), ('LOLD.CM', 158), ('BSI.HM', 0), ('ELKD.KL', 0), ('TCPC.OQ', 0), ('CBOM.MM', 0), ('EUKYO.IS', 0), ('MANGS.ST', 0), ('GLOB.BO', 0), ('FSCI.OM', 71), ('SFBS.N', 0), ('BQDC.CA', 0), ('FIRE.NXX', 0), ('601555.SS', 0), ('ANIC.L', 0), ('BGTG.JK', 0), ('NANOCAPb.TE', 0), ('CSH.NH', 0), ('HUDC.NS', 0), ('PNBH.NS', 0), ('NBOB.OM', 0), ('LPC.V', 0), ('DOVA.MI', 0), ('DIAO.CM', 0), ('FSBW.OQ', 0), ('PEOP.CM', 0), ('STBS.L', 0), ('RHFL.NS', 0), ('NYCB_pu.N', 0), ('LC.N', 0), ('MFIK.MOT', 379), ('HBMO.OM', 0), ('BWF.AX', 0), ('MBB.HM', 0), ('002673.SZ', 0), ('AXV.V', 0), ('ASAS.CM', 0), ('PBAM.PK', 0), ('8215.HK', 0), ('HANL.TN', 0), ('BBMD.JK', 0), ('BID.HM', 0), ('TMEB.PK', 0), ('GNB.WA', 0), ('CFS.WA', 0), ('AGRS.JK', 0), ('DA1Od.L', 0), ('AMBA.MI', 0), ('JEV.V', 6), ('CUBI.N', 0), ('HTBI.OQ', 0), ('GEN.NZ', 0), ('CG.OQ', 0), ('TROW.OQ', 0), ('GRCR.BO', 0), ('GAZT.MM', 905), ('LCB.NH', 0), ('YAR.NH', 672), ('SSC.NH', 21), ('PBB.PS', 0), ('002839.SZ', 0), ('601128.SS', 0), ('ALRR.WA', 0), ('PYXI.BO', 56), ('C.N', 0), ('0260.HK', 0), ('OSMEN.IS', 0), ('BGEO.L', 0), ('CKB.MKE', 199), ('STB.MKE', 0), ('TNB.MKE', 0), ('INBR.MKE', 0), ('BBC.AX', 0), ('MB.MKE', 86), ('JMT.BK', 0), ('PRMF.BO', 0), ('FRBK.OQ', 0), ('FUTU.BO', 0), ('PSE.PL', 0), ('3698.HK', 0), ('BEYAZ.IS', 0), ('MAHL.BO', 0), ('SHRV.BO', 0), ('COOP.OQ', 0), ('EHMI.CY', 710), ('EDGH.L', 0), ('601838.SS', 0), ('HVID.CO', 0), ('GSPF.DH', 0), ('EW.PS', 0), ('FASTAT.ST', 0), ('002736.SZ', 0), ('603323.SS', 0), ('8030.HK', 0), ('600926.SS', 0), ('601997.SS', 0), ('NEXT.PSX', 0), ('INBN_p.KZ', 1492), ('8368.T', 0), ('MCBK.PK', 0), ('TCPJ.J', 0), ('MAXI.SI', 0), ('SANA.CM', 0), ('LATFb.TE', 0), ('SPKP.WA', 0), ('DUKE.L', 0), ('NOVP.WA', 0), ('MBF.WA', 0), ('BASH.ISX', 0), ('BNII.JK', 0), ('BBAY.ISX', 0), ('BBOB.ISX', 0), ('BCOI.ISX', 0), ('BDSI.ISX', 0), ('BEFI.ISX', 188), ('BELF.ISX', 0), ('BGUC.ISX', 0), ('BIBI.ISX', 0), ('BIME.ISX', 0), ('BKUI.ISX', 0), ('HDBK.NS', 0), ('BMFI.ISX', 0), ('BMNS.ISX', 0), ('BNOI.ISX', 0), ('BNOR.ISX', 91), ('BROI.ISX', 0), ('BSUC.ISX', 0), ('BUND.ISX', 0), ('BUOI.ISX', 416), ('VAMF.ISX', 90), ('VMES.ISX', 553), ('TINV.NS', 0), ('BIIB.ISX', 0), ('AD1k.MU', 0), ('OAKV.PK', 0), ('MLAZL.EUA', 157), ('CD1.AX', 0), ('BPEF.BB', 0), ('MOEX.MM', 0), ('CMFC.BO', 0), ('ABCB.MI', 147), ('GCCC.V', 0), ('PCF.N', 0), ('OSBK.PK', 0), ('DENGE.IS', 0), ('SRGH.BO', 0), ('KMEP.WA', 0), ('MIBANC1.LM', 402), ('DCE.NH', 0), ('RNP.V', 0), ('1468.HK', 0), ('PRIM.CM', 0), ('CTFP.WA', 0), ('PMM.N', 0), ('7161.T', 0), ('HMPP.WA', 0), ('AI.TO', 0), ('7162.T', 0), ('KUZB.MM', 0), ('ASIA.CM', 0), ('NBHC.N', 0), ('SAMG.OQ', 0), ('FCAD.BB', 92), ('FCRM.PK', 0), ('PPT.N', 0), ('CREAL.MX', 0), ('FIVP.WA', 0), ('AUB.PS', 0), ('VERUS.IS', 0), ('CIM.MZ', 0), ('CRECAPC1.LM', 0), ('SMCG.NS', 0), ('CASP.BO', 0), ('PIM.N', 0), ('0373.HK', 0), ('FSF.NZ', 0), ('VOYA.N', 0), ('601375.SS', 0), ('7164.T', 0), ('SOL.CD', 0), ('FF24.DE', 0), ('601878.SS', 0), ('FNWB.OQ', 0), ('PROVEN.JS', 0), ('NCC.AX', 0), ('RAND.OQ', 0), ('TRMT.BO', 0), ('3UKS.L', 0), ('SMA.TO', 0), ('INLZ_p.L', 0), ('PPK.CD', 0), ('NOBU.JK', 0), ('UCAP.LG', 0), ('AFRIPRU.LG', 0), ('FPROEMC1.LM', 422), ('600927.SS', 0), ('RJF.N', 0), ('002961.SZ', 0), ('1461.HK', 0), ('603093.SS', 0), ('VBNK.TO', 0), ('PFSI.N', 0), ('TXIM.BB', 0), ('GCMS.BO', 120), ('CFG.N', 0), ('1319.HK', 0), ('IBTX.OQ', 0), ('BLTZ.TA', 0), ('SNNY.PK', 0), ('CD2.AX', 0), ('COMO.BO', 0), ('BAYP.MZ', 496), ('IFIN.BO', 0), ('TSC.OQ', 0), ('FERRO.PS', 0), ('GBC.CD', 70), ('GTYP.WA', 0), ('EBML.PK', 0), ('MBT.PS', 0), ('TAALA.HE', 0), ('KIFS.BO', 0), ('UCSS.MM', 0), ('LITm.BK', 0), ('601881.SS', 0), ('ALCR.BO', 0), ('ADE.DE', 0), ('ALNOR.LS', 0), ('MILM.L', 0), ('601211.SS', 0), ('BLR.CD', 0), ('LRFC.OQ', 0), ('6877.HK', 0), ('MATE.BO', 184), ('CGP.NM', 0), ('ALMAN.KW', 0), ('AIRAm.BK', 0), ('FVCB.OQ', 0), ('VICO.JK', 0), ('HWIS.PK', 0), ('GCMC.BO', 10), ('MDBI.MI', 0), ('CSHX.PK', 0), ('MBS.HN', 0), ('AMRA.BO', 0), ('ROTSLA.BX', 0), ('INGA.AS', 0), ('175330.KS', 0), ('FSEN.PK', 295), ('INBF.NS', 0), ('2799.HK', 0), ('QRRY.PK', 0), ('1031.HK', 0), ('DMG.MI', 0), ('JSE.JS', 0), ('SRGS.BO', 0), ('BTE1R.RI', 0), ('GSBD.N', 0), ('A62.DE', 0), ('OMF.N', 0), ('2066.HK', 0), ('SATK.BO', 0), ('WARB.KW', 0), ('FSRJ.J', 0), ('STLL.BO', 0), ('DNAR.JK', 0), ('FAST.DH', 0), ('1273.HK', 0), ('1359.HK', 0), ('FFMR.PK', 0), ('CMBN.S', 0), ('RSER.L', 0), ('BL.TN', 0), ('FCIT.PK', 0), ('RY.TO', 0), ('6080.T', 0), ('PMHG.PK', 0), ('TCSq.L', 0), ('1290.HK', 0), ('TPVG.N', 0), ('UNCS.BO', 0), ('RDRB.MM', 574), ('3623.HK', 0), ('600909.SS', 0), ('BBAJIOO.MX', 0), ('NEWCAP.CO', 0), ('DBKGn.DE', 0), ('JINL.NS', 0), ('IMJS.JK', 0), ('SACE.NS', 0), ('EAC.BB', 0), ('PNBS.JK', 0), ('7167.T', 0), ('SRSF.BO', 0), ('DSPABb.NGM', 0), ('ABLT.CM', 0), ('6878.HK', 0), ('RVT.N', 0), ('NBS.L', 0), ('ALLY.N', 0), ('GCAPm.BK', 0), ('SNC.AX', 0), ('BCF.V', 0), ('BPCA.BO', 0), ('MODX.BO', 0), ('AGCM.BO', 7), ('BINA.JK', 0), ('8001.HK', 0), ('BISB.BH', 0), ('FTAI.OQ', 0), ('MC.N', 0), ('GRNQ.OQ', 0), ('3903.HK', 0), ('FCREDIC1.LM', 10), ('UNUR.BO', 0), ('TPVC.L', 0), ('SPSF.BO', 0), ('PARB.OL', 0), ('VIRT.OQ', 0), ('SEIC.OQ', 0), ('SKLN.TA', 0), ('601198.SS', 0), ('RATB.NS', 0), ('CFCP.NXX', 0), ('SYF.N', 0), ('GCMA.BO', 0), ('VIJI.NS', 0), ('NEGO.BO', 0), ('6138.HK', 0), ('600958.SS', 0), ('SFE.N', 0), ('BDS.MNE', 0), ('MSC.MNE', 0), ('SUN.MNE', 205), ('BSKY.MNE', 253), ('002807.SZ', 0), ('MONB.BO', 0), ('ACQ.AX', 0), ('ARES.N', 0), ('600908.SS', 0), ('PNC.AX', 0), ('INSS.KL', 0), ('TKBP.S', 0), ('KIRN.BO', 0), ('ANIM.MI', 0), ('LOB.OQ', 0), ('FCGFH.TTB', 0), ('FCI.TTB', 0), ('NAVI.OQ', 0), ('FBK.MI', 0), ('FFWM.OQ', 0), ('GDLN.BO', 0), ('BIC.CN', 0), ('LMEL.L', 0), ('OSBO.L', 0), ('ROSIFI.BX', 0), ('WMA.AX', 0), ('NSE.NR', 0), ('TRBK.PK', 0), ('ISTR.OQ', 0), ('PIAP.LU', 1222), ('ALML.L', 0), ('GLKBN.S', 0), ('PRIM.PS', 0), ('LOUD.HE', 0), ('AFET.BO', 0), ('RIV.L', 0), ('INR1L.VL', 0), ('MBP.TZ', 82), ('NAMS.BO', 0), ('ENX.PA', 0), ('ALPM.BO', 0), ('JACK.BO', 0), ('SARE.MZ', 0), ('FSZ.TO', 0), ('CHB.DS', 0), ('DHYA.BO', 0), ('WORT.BO', 51), ('BPII.JK', 0), ('THRP.BO', 0), ('AMNT.BO', 0), ('LIDFA.IS', 0), ('HANZA.ST', 0), ('KSTJ.J', 0), ('U4SBg.F', 0), ('PBC.PS', 0), ('CAPI.BO', 0), ('7172.T', 0), ('1848.HK', 0), ('MAP.V', 0), ('601963.SS', 0), ('RALF.BO', 0), ('QVE.AX', 0), ('AFHJ.J', 0), ('MAFS.LZ', 0), ('NAYS.BO', 0), ('PTC.PS', 0), ('DBANn.DE', 0), ('FKEK.F', 176), ('IIAN.NS', 0), ('FRUT.BO', 0), ('DDM.ST', 0), ('ECP.AX', 0), ('VPB.HM', 0), ('ALI.WA', 0), ('TTIE.BO', 0), ('TOYA.BO', 0), ('RALT.BO', 0), ('ABGJ.J', 0), ('MTC.BK', 0), ('5876.TW', 0), ('VBTX.OQ', 0), ('S11.BK', 0), ('7173.T', 0), ('ARYC.BO', 0), ('1578.HK', 0), ('601916.SS', 0), ('QGOF.BO', 0), ('PURS.BO', 0), ('HOPE.OQ', 0), ('UJVF.NS', 0), ('BSIG.N', 0), ('TBK.OQ', 0), ('6026.TWO', 0), ('APN.BN', 0), ('VIGC.BO', 0), ('STAO.BO', 0), ('OPCH.BO', 0), ('KRNA.BO', 0), ('PIC.AX', 0), ('BNS.TO', 0), ('SPOLS.OL', 0), ('RAHGF.PK', 0), ('NAC.AX', 0), ('MAB1.L', 0), ('ENVA.N', 0), ('LIVINGTRUST.LG', 653), ('ZICO.SI', 0), ('AINC.A', 0), ('208140.KQ', 0), ('BAWG.VI', 0), ('TD.TO', 0), ('KUR.NR', 615), ('FRU.DE', 0), ('NIYO.BO', 0), ('AMIL.BO', 0), ('7175.T', 0), ('BTI.AX', 0), ('SKH1.WA', 0), ('UBSG.S', 0), ('UNITED.HE', 0), ('TNI.AD', 0), ('SCHW.N', 0), ('ASCL.BO', 753), ('1669.HK', 0), ('AXI.L', 0), ('HGV.AX', 0), ('B2H.OL', 0), ('MERCM.L', 0), ('BOAS.CI', 0), ('MEEA.BO', 0), ('MSB.HM', 0), ('PVL.AX', 0), ('PNB.PS', 0), ('ML350.EUA', 0), ('MAC.GH', 612), ('6866.HK', 0), ('CGH.BK', 0), ('MYMO.BO', 119), ('PANF.BO', 0), ('SRIM.BO', 1280), ('CONN.BO', 68), ('NEXU.BO', 44), ('TVS.HM', 0), ('PUBM.KL', 0), ('BBYB.JK', 0), ('ONES.BO', 0), ('CENA.NS', 0), ('EMER.BO', 0), ('GALD.BO', 0), ('7176.T', 190), ('HFC.V', 0), ('SHRW.BO', 0), ('3454.T', 0), ('VCBC.L', 0), ('SBCF.OQ', 0), ('SMOD.PSX', 0), ('000166.SZ', 0), ('VNIC.BO', 147), ('BINI.ISX', 94), ('HDFGS.IS', 0), ('CMBL.BO', 30), ('AHIS.BO', 91), ('SOAL.BO', 0), ('NSF.L', 0), ('FID.AX', 0), ('SNFCA.OQ', 0), ('ABHI.BO', 0), ('ATLC.CA', 0), ('BNAI.ISX', 0), ('1606.HK', 0), ('BRIS.JK', 0), ('LNSX.DE', 0), ('HOFI.ST', 0), ('7177.T', 0), ('BTRI.ISX', 0), ('WTL.AX', 0), ('REG.PS', 0), ('EFFG.DE', 0), ('UNIFINA.MX', 0), ('MKCB.TZ', 0), ('KGI.NH', 747), ('DG6.H', 0), ('BQAB.ISX', 40), ('MRGT.BO', 0), ('PUSH.CD', 0), ('TRUP.BO', 0), ('RITA.BO', 0), ('SITL.M3', 1048), ('DNBK.NS', 0), ('NEIL.BO', 0), ('FRLF.BO', 0), ('ECX.AX', 0), ('KOMPK.OL', 0), ('BSTA.MI', 0), ('SNNS.L', 0), ('PEMB.L', 0), ('PBYG.DE', 0), ('PFHD.OQ', 0), ('MTUA.ISX', 0), ('RCB.PS', 0), ('ADB.GH', 0), ('IMR.RW', 0), ('RJPU.BO', 0), ('CNSE.BO', 735), ('2666.HK', 0), ('JMMBGL.JS', 0), ('EQHL.NS', 0), ('PAUL.BO', 0), ('MTRO.L', 0), ('CBP.L', 0), ('SEC.TO', 0), ('SUJA.BO', 0), ('CBWA.PK', 0), ('MCB.TZ', 0), ('TINCC.BR', 0), ('INFINITY.LG', 0), ('SARM.BO', 705), ('VBIN.BO', 0), ('AA4A.L', 0), ('BOAM.CI', 0), ('HFARM.MI', 0), ('KLIB.PK', 0), ('IQ3.AX', 0), ('AFG.AX', 0), ('ADV.WA', 0), ('0804.HK', 0), ('VIRA.BO', 0), ('COLLE.ST', 0), ('SWGI.PK', 241), ('HELP.BO', 75), ('MONY.M3', 94), ('AMRF.BO', 0), ('SBMH.MZ', 0), ('TVB.HM', 0), ('JP.N', 0), ('FLOW.AS', 0), ('PEGROpref.ST', 0), ('002926.SZ', 0), ('NEXTS.PA', 0), ('KSL.AX', 0), ('IBTN.PK', 0), ('0416.HK', 0), ('002797.SZ', 0), ('SGSG.D', 21), ('ORCH.L', 0), ('EBSG.H', 0), ('YETU.TZ', 0), ('CRPC.BX', 0), ('ALI.AX', 0), ('FGG.AX', 0), ('MOOI.BO', 0), ('SGFn.DE', 0), ('SAUY.BO', 0), ('BANH.NS', 0), ('SFNJ.J', 0), ('SRET.BO', 0), ('PVBC.OQ', 0), ('1476.HK', 0), ('HLI.N', 0), ('CRANDEC1.LM', 0), ('BBHI.JK', 0), ('601456.SS', 0), ('BINV.CA', 0), ('BAFN.OQ', 0), ('HVA.HNO', 0), ('8542.T', 0), ('PAI.AX', 0), ('SABK.PK', 0), ('PMTS.OQ', 0), ('AR2.NH', 0), ('GC1.AX', 0), ('52BGANA.VB', 0), ('52BILNA.VB', 0), ('52BISNU.VB', 0), ('52BMENU.VB', 0), ('52BSONU.VB', 0), ('52FEFNU.VB', 0), ('52FFONU.VB', 0), ('52FSLNU.VB', 0), ('52NFBNB.VB', 0), ('SATR.NS', 0), ('TFBANK.ST', 0), ('BINT.SN', 0), ('ABTX.OQ', 0), ('225430.KQ', 0), ('7180.T', 0), ('SIVB.OQ', 0), ('AMMB.KL', 0), ('CANO.BO', 248), ('NISH.BO', 0), ('7182.T', 0), ('EAI.AX', 0), ('PJT.N', 0), ('ALFAL.L', 0), ('MLAEM.EUA', 0), ('BMED.MI', 0), ('RYD.AX', 0), ('BVTP.WA', 0), ('KGI.BK', 0), ('1709.HK', 0), ('EMRA.M3', 0), ('EQBK.OQ', 0), ('KRIC.BO', 0), ('SYGJ.J', 0), ('VERTU.IS', 0), ('CNNB.OQ', 0), ('7183.T', 0), ('AVES.H', 0), ('2588.HK', 0), ('SFNC.OQ', 0), ('1469.HK', 0), ('6027.TWO', 0), ('ACME.BO', 0), ('IDFB.NS', 0), ('AC.N', 0), ('INAC.NS', 0), ('WINSF.PK', 0), ('ATIL.MZ', 103), ('ABNd.AS', 0), ('601995.SS', 0), ('BHLF.BO', 356), ('FELLOW.HE', 0), ('1543.HK', 0), ('601108.SS', 0), ('002948.SZ', 0), ('TYPO.BO', 133), ('ELVT.N', 0), ('THET.SI', 0), ('BHMCAPITAL.DU', 0), ('EABG.HE', 0), ('INQO.NXX', 0), ('CAPT.NS', 0), ('WSMx.CD', 0), ('AEG.AX', 0), ('SPKSJF.CO', 0), ('GROW.L', 0), ('AMD.GQ', 77), ('BLD.GQ', 0), ('PCD.GQ', 0), ('PRE.GQ', 0), ('SLA.GQ', 8), ('CHP.GQ', 0), ('SNBN.S', 0), ('MBG.GQ', 0), ('MPC.GQ', 0), ('PARF.BO', 0), ('LMFA.OQ', 0), ('VMUK.L', 0), ('ADHA.BO', 0), ('002936.SZ', 0), ('ADCN.BO', 135), ('3678.HK', 0), ('HSRN.H', 0), ('CHCI.BO', 95), ('601162.SS', 0), ('AEON.CY', 0), ('ALPC.PK', 0), ('WI.V', 0), ('ARTO.JK', 0), ('MIK.MNE', 0), ('3963.HK', 0), ('AASB.OL', 0), ('52BTBNU.VB', 0), ('ABCB.MZ', 0), ('UGRO.NS', 0), ('INTRA.CY', 0), ('SUNP.BO', 156), ('NATC.BO', 0), ('ORAC.BO', 0), ('1697.HK', 0), ('ECPE.NXX', 0), ('BCLE.BO', 0), ('9889.HK', 0), ('TAD.MZ', 0), ('AARC.BO', 37), ('CSLF.BO', 539), ('INS1.WA', 0), ('AWWA.PSX', 0), ('BWMY.PK', 0), ('SCM.MI', 0), ('7184.T', 0), ('7185.T', 0), ('BFLA.BO', 0), ('ORIT.CM', 0), ('N1H.AX', 0), ('RGFC.BO', 0), ('CUBI.BO', 0), ('7186.T', 0), ('DNAM.BO', 0), ('WEAL.NS', 0), ('8221.HK', 0), ('1577.HK', 0), ('HONE.OQ', 0), ('CLCCA.L', 2), ('8333.HK', 0), ('PDFI.CD', 0), ('MONET.PR', 0), ('SOR.N', 0), ('0129.HK', 0), ('ADVK.BO', 0), ('600918.SS', 0), ('MCBS.OQ', 0), ('XTB.WA', 0), ('5NB.D', 0), ('9677.HK', 0), ('SUER.BO', 3), ('WLE.AX', 0), ('RESURS.ST', 0), ('1572.HK', 0), ('TFC.N', 0), ('GOLN.BO', 0), ('VST.CD', 0), ('MCLM.L', 0), ('LEAI.BO', 0), ('RSDF.BO', 0), ('SVVB.PK', 0), ('NLBR.LJ', 0), ('600901.SS', 0), ('FRNTb.NGM', 0), ('7187.T', 0), ('000750.SZ', 284), ('BPRN.OQ', 0), ('LHV1T.TL', 0), ('8452.HK', 0), ('SUPV.BA', 0), ('SHAG.BO', 0), ('BDVC.PK', 383), ('3848.HK', 0), ('HAVA.BA', 0), ('8439.HK', 0), ('TRER.OL', 0), ('ESFS.BO', 0), ('MUCOBA.TZ', 0), ('PU12.L', 0), ('6058.HK', 0), ('BAZE.BO', 396), ('NSBC.CI', 0), ('JINE.BO', 0), ('PVF_u.V', 0), ('RNDB.OQ', 0), ('TF.TO', 0), ('001227.SZ', 0), ('PHCP.BO', 0), ('DSE.TZ', 0), ('SIDA.BO', 0), ('8365.HK', 0), ('EPEJ.J', 0), ('CD3.AX', 0), ('3329.HK', 0), ('FHB.OQ', 0), ('TBCG.L', 0), ('YYLBEEJ.J', 0), ('APQ.L', 0), ('TNVE.NS', 0), ('EPLY.JS', 0), ('6122.HK', 0), ('1915.HK', 0), ('CCR7.BB', 0), ('NAGD.NS', 0), ('PKKW.PK', 0), ('ZB.ZA', 0), ('7189.T', 0), ('CSTR.OQ', 0), ('FBK.N', 0), ('WSFS.OQ', 0), ('7347.T', 0), ('NTB.N', 0), ('VISC.BO', 0), ('BTRU.ISX', 86), ('PMIP.L', 0), ('ECN.TO', 0), ('002939.SZ', 0), ('MASF.NS', 0), ('ARCF.BO', 0), ('002945.SZ', 0), ('TSKB.IS', 0), ('INSTA.OL', 0), ('MASK.NS', 0), ('ACCESS.GH', 0), ('HAC.HNO', 0), ('PURP.BO', 0), ('AUFI.NS', 0), ('002958.SZ', 0), ('SIBC.CI', 0), ('ICBCT.IS', 0), ('SACH.A', 0), ('DCL.AX', 0), ('RGEN.BO', 0), ('PFGP.WA', 0), ('7191.T', 0), ('GSHN.PK', 0), ('246690.KQ', 0), ('241520.KQ', 0), ('SLEM.BO', 463), ('BRAB.OL', 0), ('STT.N', 0), ('FFIN.KZ', 0), ('ASS.NH', 0), ('NBII.NS', 0), ('CBIBF.CI', 0), ('601528.SS', 0), ('LKPS.BO', 0), ('74601669.KS', 0), ('002966.SZ', 0), ('ALPTR.LS', 0), ('601860.SS', 0), ('UMPQ.OQ', 0), ('BAY.BK', 0), ('SPAR.BO', 0), ('PCZ.DE', 0), ('G4B.H', 0), ('ASHC.CA', 0), ('VIB.HM', 0), ('FCEL.PSX', 0), ('RVRF.PK', 0), ('FOSSALC1.LM', 0), ('FTS.HM', 0), ('600928.SS', 0), ('SF.N', 0), ('TCB.HM', 0), ('HVBC.OQ', 0), ('52SBINU.VB', 0), ('BOCH.CY', 0), ('GOBE.BO', 0), ('DANV.NS', 0), ('MYBANK.NFF', 0), ('TKOO.PA', 0), ('RFXR.L', 0), ('HLNE.OQ', 0), ('KLNMA.IS', 0), ('ARIX.L', 0), ('MCBI.PK', 0), ('JAIZBANK.LG', 0), ('XPS.L', 0), ('ESCR.BO', 0), ('BPAC11.SA', 0), ('PPLA11.SA', 0), ('AAM_pa.N', 0), ('8350.HK', 0), ('52BIANU.VB', 0), ('GARAN.IS', 0), ('BFF.MI', 0), ('CTSB.CA', 0), ('KMIN.M3', 0), ('HOTH.M3', 0), ('601990.SS', 0), ('FPC.AX', 0), ('6069.HK', 0), ('ONTI.BO', 0), ('KDLE.BO', 151), ('PL8.AX', 0), ('CIMBT.BK', 0), ('K3C.L', 0), ('MAF.AX', 0), ('BHD.AX', 132), ('UNI.MC', 0), ('1905.HK', 0), ('8223.HK', 0), ('SOS.N', 0), ('601658.SS', 0), ('AFX.L', 0), ('PCSB.OQ', 0), ('BHWB.PK', 0), ('1216.HK', 0), ('HUSN.OQ', 0), ('AFBI.OQ', 0), ('601066.SS', 0), ('NCBFG.JS', 0), ('MEC.AX', 0), ('CLAL.BO', 24), ('PX.N', 0), ('52CBANU.VB', 0), ('WQG.AX', 0), ('SLM.OQ', 0), ('BWOR.ISX', 114), ('BYMA.BA', 0), ('BIDB.ISX', 0), ('CGBD.OQ', 0), ('GTAM.BO', 0), ('IGH.NH', 398), ('BLAD.ISX', 10), ('BY.N', 0), ('ESQ.OQ', 0), ('MPHX.PK', 0), ('2855.TW', 0), ('GBK.WA', 0), ('GRONG.OL', 0), ('KLB.HNO', 0), ('NIPF.NS', 0), ('FFBW.OQ', 0), ('AILJ.J', 0), ('JLGA.VI', 119), ('TAMT.L', 0), ('RBB.OQ', 0), ('CALB.OQ', 0), ('SWZ.N', 0), ('VCI.HM', 0), ('SIGC.L', 0), ('FHP.L', 0), ('HRGG.PK', 0), ('RHBJ.J', 0), ('EFBI.PK', 0), ('GNGE.NS', 0), ('MRIN.TA', 0), ('52BNLNU.VB', 0), ('52NVANU.VB', 0), ('600705.SS', 967), ('52SNANU.VB', 0), ('8313.HK', 0), ('ART.HN', 0), ('BUZp.V', 0), ('SNNF.PK', 0), ('INID.NS', 0), ('COSO.PK', 0), ('SNOR.OL', 0), ('SCAC.NS', 0), ('RE.V', 0), ('SNV.N', 0), ('0023.HK', 0), ('NEDJ.J', 0), ('CBBI.PK', 0), ('PVS_pf.TO', 0), ('2139.HK', 0), ('8168.HK', 0), ('VG1.AX', 0), ('QD.N', 0), ('RLIC.NS', 0), ('OBE.NXX', 0), ('CHAYO.BK', 0), ('LHN.NM', 0), ('KISB.PK', 0), ('7196.T', 0), ('UGHC.BH', 0), ('PDLB.OQ', 0), ('LPB.HM', 0), ('BRTB.ISX', 0), ('MCB.N', 0), ('TITAN.HE', 0), ('PNH.NM', 0), ('SWF.AX', 0), ('8540.HK', 0), ('TSI.N', 0), ('CBTX.OQ', 0), ('MBIN.OQ', 0), ('NWL.AX', 0), ('SEC.AX', 0), ('VTYB.PK', 0), ('BOURSA.KW', 0), ('CURO.N', 0), ('SUG.NXX', 0), ('SBT.OQ', 0), ('MRBK.OQ', 0), ('2858.HK', 0), ('7198.T', 0), ('EQUI.MI', 0), ('ICCI.NS', 0), ('LBC.OQ', 0), ('ECOC.CI', 0), ('PAIS.NS', 0), ('OREN.PSX', 0), ('MITSIBm.BK', 0), ('7199.T', 0), ('UCFI.AM', 0), ('EQH.N', 0), ('LX.OQ', 0), ('601187.SS', 0), ('ROMER.OL', 0), ('CRM2.L', 0), ('BVU.GQ', 0), ('TYSB.OL', 0), ('ALGW.L', 0), ('8525.HK', 0), ('HDFA.NS', 0), ('TWN.N', 0), ('BAB.HN', 0), ('CALI.CD', 0), ('HDB.HM', 0), ('DSC.HNO', 0), ('QLT.L', 0), ('CLBK.OQ', 0), ('PJX.JS', 0), ('VCTR.OQ', 0), ('70101781.KS', 0), ('SURE.L', 0), ('MLGF.PK', 0), ('LFS.AX', 0), ('SSBP.PK', 0), ('PBIC.CD', 0), ('CRDE.NS', 0), ('277070.KQ', 0), ('AUGM.L', 0), ('FCFE18.MX', 0), ('TASE.TA', 0), ('LRT.AX', 0), ('BTPS.JK', 0), ('PAIN.BO', 0), ('LSF.AX', 0), ('BWB.OQ', 0), ('7322.T', 0), ('2003.HK', 0), ('1916.HK', 0), ('JTC.L', 0), ('DWSG.DE', 0), ('KVIKA.IC', 0), ('SUNSB.OL', 0), ('LEND.MNE', 0), ('ACTF.BO', 0), ('FNTL.L', 0), ('CICH.CA', 0), ('AVAS.NS', 0), ('APXC.BO', 0), ('MAM.AX', 0), ('DTX.WA', 0), ('TICL.TZ', 0), ('EP1.AX', 0), ('TPB.HM', 0), ('GCI.AX', 0), ('LEAS.PK', 0), ('BFST.OQ', 0), ('8621.HK', 0), ('6190.HK', 0), ('MGOM.PK', 0), ('SVBT.PK', 0), ('WGB.AX', 0), ('OBNK.OQ', 0), ('ARION.IC', 0), ('PHCF.OQ', 0), ('FOCS.OQ', 0), ('CIEB.CA', 0), ('CIMB.KL', 0), ('AQX.L', 0), ('KSPI.KZ', 153), ('KRAB.OL', 0), ('289080.KQ', 0), ('AMAL.OQ', 0), ('AMGO.L', 0), ('CPXG.DE', 0), ('ACAMD.CA', 0), ('MYFW.OQ', 0), ('BARK.NXX', 0), ('BH.TN', 0), ('8210.HK', 0), ('1911.HK', 0), ('ENS.TO', 0), ('ASAI.L', 0), ('PU13.L', 0), ('1835.HK', 0), ('ANAA.NXX', 0), ('INFT.PK', 0), ('CSQG.DE', 0), ('AJCM.BO', 0), ('CNF.N', 0), ('CCB.OQ', 0), ('BJAB.ISX', 0), ('CNFN.CA', 0), ('EVS.HN', 0), ('CNBN.PK', 0), ('303030.KQ', 0), ('CNLCAr.AT', 0), ('EVF.HM', 0), ('SCIJMD.JS', 0), ('SIF4.BX', 0), ('VVV.NXX', 0), ('BMS.HNO', 0), ('AMTB.OQ', 0), ('BSFO.PK', 0), ('293580.KQ', 0), ('CNI5prefP2.NGM', 0), ('NBI.AX', 0), ('OMASP.HE', 0), ('TVAL.TN', 0), ('MJE.JS', 0), ('EMF.N', 0), ('BSVN.OQ', 0), ('TCI.HNO', 0), ('NF4.DE', 0), ('XYF.N', 0), ('BCIH.ISX', 0), ('1983.HK', 0), ('FCH.L', 0), ('ANGO.NS', 0), ('AJOT.L', 0), ('POLA.JK', 0), ('GIM.N', 0), ('TGF.AX', 0), ('KDFO.MKE', 0), ('CBNK.OQ', 0), ('TI1.L', 0), ('6592.TW', 0), ('GRID.L', 0), ('BCSF.N', 0), ('MLFMV.EUL', 0), ('HM1.AX', 0), ('APRILA.NFF', 0), ('BOGr.AT', 0), ('ORGT.CI', 0), ('LKSB.PK', 0), ('ISP.JS', 0), ('FNBT.PK', 0), ('AJBA.L', 0), ('027360.KQ', 0), ('WEI.N', 0), ('3877.HK', 0), ('309930.KQ', 0), ('MMBANK.NFF', 0), ('BKGM.PK', 0), ('SI.N', 0), ('4081.SE', 0), ('CDO.AX', 0), ('QRI.AX', 0), ('PUYI.OQ', 0), ('ACCESS.BT', 0), ('2718.HK', 0), ('FCAP.L', 0), ('QFIN.OQ', 0), ('EBE.DE', 0), ('CTBK.NS', 0), ('601696.SS', 0), ('FLEXD.LS', 0), ('MCHN.PK', 0), ('BERI.ISX', 0), ('BCOW.OQ', 0), ('316140.KS', 0), ('RBKB.OQ', 0), ('CITZ.PK', 0), ('FIBPRIME.LM', 0), ('1563.HK', 0), ('0851.HK', 0), ('GCMG.OQ', 0), ('100790.KQ', 0), ('BQUR.ISX', 0), ('TIGR.OQ', 0), ('PBKC.PK', 0), ('ILTY.MI', 0), ('EQUI.KL', 279), ('CFM.MI', 0), ('TW.OQ', 0), ('LHI.V', 0), ('FYBL.PSX', 0), ('0440.HK', 0), ('ADB.MNE', 0), ('CSI.HNO', 0), ('TIP.AX', 0), ('ERKH.PK', 0), ('WBZB.PK', 0), ('MRBL.CD', 0), ('ALPIB.PK', 0), ('ISCD.TA', 0), ('3938.HK', 0), ('RF1.AX', 0), ('KHSE.NS', 0), ('RRBI.OQ', 0), ('307930.KQ', 0), ('FOA.N', 0), ('SPFI.OQ', 0), ('322780.KQ', 0), ('TBBA.PK', 0), ('VFAL.BB', 0), ('DFCH.L', 0), ('7065.T', 0), ('FUJI.JK', 0), ('TMP.A', 0), ('SOLIDUS.CY', 0), ('VGI.AX', 0), ('1821.HK', 0), ('ORCC.N', 0), ('601665.SS', 0), ('INV.MNE', 0), ('PGL.AX', 0), ('CPA1T.TL', 0), ('NISB.OL', 0), ('LGHL.OQ', 0), ('QNBFL.IS', 0), ('AMTD.N', 0), ('AGFX.L', 0), ('2558.HK', 0), ('6199.HK', 0), ('NEOFI.VL', 0), ('SKOGa.NGM', 0), ('RMBI.OQ', 0), ('AMK.N', 0), ('ADKO.VI', 0), ('CREDIFAMI.CN', 0), ('BOAr.AT', 0), ('FSEA.OQ', 0), ('IFS.N', 0), ('PBFS.OQ', 0), ('BIDI11.SA', 0), ('GALT.BO', 0), ('COPE.MI', 0), ('OPRT.OQ', 0), ('VBB.HNO', 0), ('CFVT.MI', 0), ('ASCM.NS', 0), ('BSLI3.SA', 732), ('VG8.AX', 0), ('CFB.OQ', 0), ('JFU.OQ', 0), ('SBIC.NS', 0), ('2263.HK', 0), ('SILUS.JS', 0), ('VMIL.JS', 0), ('EQTAB.ST', 0), ('JARA.L', 0), ('CRCP.WA', 0), ('IDK.CD', 0), ('IIFW.NS', 0), ('IIFS.NS', 0), ('APMF.BO', 0), ('CBOXx.CD', 0), ('1601.HK', 0), ('HBT.OQ', 0), ('BOID.PK', 0), ('DSBX.PK', 0), ('MNG.L', 0), ('LAY.CY', 0), ('MLC.NLB', 0), ('UJJI.NS', 0), ('FRBP01p.J', 0), ('BMGB4.SA', 0), ('MBLU.PK', 0), ('MLALE.EUA', 0), ('VEL.N', 0), ('UCASU.PK', 0), ('ZAIM.L', 0), ('AMAR.JK', 0), ('BTIB.ISX', 0), ('VAAR.BO', 558), ('FCNCO.OQ', 0), ('ALBAp.V', 0), ('190650.KQ', 0), ('PBNC.PK', 0), ('SNO.NM', 0), ('PUAL.L', 0), ('XP.OQ', 0), ('CSBB.NS', 0), ('CPEI.NGM', 0), ('MTNZFJ.J', 0), ('FCA.ZI', 0), ('BG11C.BB', 0), ('MOOp.V', 0), ('XCXG.D', 0), ('JSGL.BO', 0), ('MME.AX', 0), ('GAG1n.DE', 0), ('OPY.AX', 0), ('AMOR.JK', 0), ('1182.SE', 0), ('600906.SS', 0), ('TRST.OQ', 0), ('EISG.F', 77), ('HOME.NS', 0), ('EASN.BO', 0), ('ASSM.BO', 0), ('INBC.PK', 0), ('BSBK.OQ', 0), ('BMUI.ISX', 0), ('MICRO.BK', 0), ('SAK.BK', 0), ('TAMA.JK', 0), ('HNBF.CM', 0), ('TRMK.OQ', 0), ('LNKB.PK', 0), ('N91.L', 0), ('UWMC.N', 0), ('NY1J.J', 0), ('BFSP.L', 0), ('QWI.JS', 0), ('ROMSB.OL', 0), ('CAP1.D', 0), ('SBPJ.J', 0), ('BRAJ.ISX', 0), ('ODIN.CA', 0), ('MBLPC.AX', 0), ('3LVO.L', 0), ('EBC.OQ', 0), ('BARM.BO', 0), ('BNK.TO', 0), ('NCAP.BK', 0), ('VFS.HNO', 0), ('9668.HK', 0), ('1945.HK', 0), ('SIRR.PK', 0), ('JKBK.NS', 0), ('RKT.N', 0), ('AAS.HNO', 0), ('FDHB.MV', 0), ('BGCDM.BB', 0), ('INVFALC1.LM', 0), ('STEP.OQ', 0), ('DIFI.TA', 0), ('SPGR.TE', 0), ('BBSI.JK', 0), ('BRBI11.SA', 0), ('ABSA.NR', 0), ('SVEN.NXX', 0), ('PLT.AX', 0), ('CAIROMEZr.AT', 0), ('EQUI.NS', 0), ('QLIRO.ST', 0), ('8657.HK', 0), ('GHLD.N', 0), ('SURO.NS', 0), ('NAB.HNO', 0), ('HMSI.PK', 0), ('SAIB.CA', 0), ('CUUG.D', 0), ('SGB.HNO', 0), ('BITW.PK', 0), ('TEEC.L', 0), ('HMY.NZ', 0), ('SAVE.ST', 0), ('KIST.L', 0), ('UPST.OQ', 0), ('PWP.OQ', 0), ('NRBC.DH', 0), ('SBIC.NR', 0), ('RS.TO', 0), ('AAN.N', 0), ('VBTC1.DE', 0), ('SOFI.OQ', 0), ('7360.T', 0), ('HUDL.OL', 0), ('BIOE.VI', 0), ('MTSI.MI', 0), ('OWL.N', 0), ('LFG.AX', 0), ('DTK.NR', 0), ('MNIF.TA', 0), ('MLRN.TA', 0), ('VCAP.L', 0), ('ABB.HNO', 0), ('PGB.HNO', 0), ('EASYLEASE.AD', 0), ('TIDLOR.BK', 0), ('PAX.OQ', 0), ('VINP.OQ', 0), ('KCB.NR', 0), ('GBFH.PK', 0), ('LDI.N', 0), ('SUNL.N', 0), ('FINY.NS', 0), ('05P.D', 0), ('CION.N', 0), ('TRLC.PK', 0), ('TRIN.OQ', 0), ('OCB.HM', 0), ('HMPT.OQ', 0), ('CANA.CA', 0), ('SABFG.PR', 0), ('BANK.JK', 0), ('MCMN.TA', 0), ('OFH.CA', 0), ('TEAMT.L', 0), ('MODL11.SA', 0), ('7345.T', 0), ('CYBAC.L', 0), ('HYW.OQ', 0), ('IARGp.TA', 0), ('NCBA.NR', 0), ('RHBC.KL', 0), ('PBBK.OQ', 0), ('SSB.HM', 0), ('SNTG.OQ', 0), ('ADIE.NS', 0), ('BIGZ.N', 0), ('ULUFA.IS', 0), ('OYYAT.IS', 0), ('DGI9.L', 0), ('PFIN.MI', 0), ('JPEG.NLB', 0), ('WCMa.TO', 0), ('FSBC.OQ', 0), ('WAR.AX', 0), ('NFT.NXX', 0), ('ALHGO.PA', 0), ('NORDI.CO', 0), ('CBTN.PK', 0), ('UNTCp.TA', 0), ('SB2.AX', 0), ('GLCVY.IS', 0), ('REVO.MI', 0), ('ADMF.BO', 0), ('ALEX.HE', 0), ('HENG.BK', 0), ('9D6.D', 0), ('PIVa.CR', 0), ('APTS.NS', 0), ('AOMR.N', 0), ('LIC.ST', 0), ('PPM.AX', 0), ('BFL.AX', 0), ('2270.HK', 0), ('UBSI.OQ', 0), ('BTN.AX', 0), ('ESGOp.V', 0), ('GMLA.TA', 0), ('PLRB.V', 0), ('ISB.IC', 0), ('TEC.NXX', 0), ('BULL.TA', 0), ('TRAN_p.PA', 0), ('GMA.TA', 0), ('MASB.JK', 0), ('ATB.TN', 0), ('BRDG.N', 0), ('GTCO.LG', 0), ('323410.KS', 0), ('GREO.BO', 0), ('HIVEp.TA', 0), ('PLNK.CD', 0), ('ESCAR.IS', 0), ('FWD.L', 0), ('SDOT.S', 0), ('PAPP.KL', 0), ('BS.TN', 0), ('BRKT.TA', 0), ('FOCB.BO', 0), ('LINV.L', 0), ('SOUT.DH', 0), ('BLFY.OQ', 0), ('TCBS.OQ', 0), ('SMTHp.V', 0), ('BPTB.L', 0), ('AC8.L', 0), ('VAB.HNO', 0), ('BT.TN', 0), ('USCB.OQ', 0), ('TCBC.OQ', 0), ('FINW.OQ', 0), ('SSBK.OQ', 0), ('HEDEF.IS', 0), ('MNRAp.TA', 0), ('ANAA.NS', 0), ('SSIC.OQ', 0), ('SIV.L', 0), ('MONAp.V', 0), ('FBNH.LG', 0), ('SB68.OL', 0), ('PVMEZZr.AT', 0), ('377450.KQ', 0), ('VER.NH', 0), ('JXN.N', 0), ('ANTIN.PA', 0), ('FSF.L', 0), ('VSA.NXX', 0), ('RPM.AD', 0), ('NZI.L', 0), ('UBN.LG', 0), ('DGR1R.RI', 0), ('GOAT.CD', 0), ('NSTS.OQ', 0), ('PHLL.L', 0), ('ECAT.N', 0), ('ALAUD.PA', 0), ('TVL.AX', 0), ('PEEL.L', 0), ('RWAY.OQ', 0), ('INDERES.HE', 0), ('UMBF.OQ', 0), ('GDWA.CA', 0), ('CLST.OQ', 0), ('INTM.MI', 0), ('OZ.A', 0), ('NGXGROUP.LG', 0), ('HZEN.PK', 0), ('FRG.L', 0), ('TCBX.OQ', 0), ('BXSL.N', 0), ('GQG.AX', 0), ('GROW.OQ', 0), ('FITB.OQ', 0), ('ROOFA.L', 0), ('ABE.AX', 0), ('JDO.AX', 0), ('REFI.OQ', 0), ('TLEI.L', 0), ('SPBE.MM', 0), ('ALUMA.TA', 0), ('CAPI.CM', 0), ('PSNT.L', 0), ('VHOG.BE', 0), ('WORK_u.TO', 0), ('160326.SZ', 0), ('SARV.CM', 0), ('3YO.D', 0), ('402340.KS', 0), ('SPRING.HE', 0), ('CASEG.ST', 0), ('ISCC.MI', 0), ('ODID.CA', 0), ('EXPO.TA', 0), ('ROSHp.V', 0), ('PROFT.MC', 0), ('DS.MI', 0), ('NAIGb.ST', 0), ('ANIJ.J', 0), ('BOGD.MNE', 0), ('298870.KQ', 0), ('MGDA.TA', 0), ('FZTC.MI', 0), ('PPHC.L', 0), ('COMI.CA', 0), ('IX.L', 0), ('TIN.HNO', 0), ('PCPp.V', 0), ('TPG.OQ', 0), ('BANS.ISX', 0), ('330730.KQ', 0), ('CFSB.OQ', 0), ('KUAIp.V', 0), ('VUA.HNO', 0), ('SPDI.TN', 0), ('ONE1.WA', 0), ('UNIB.DH', 0), ('WEALTH.CY', 0), ('MLMDV.EUA', 0), ('DAQp.V', 0), ('MRKIp.V', 0), ('MPP.TA', 0), ('7384.T', 0), ('BCBN.NLB', 0), ('MARKZ.KW', 0), ('JCFN.TA', 0), ('CTS.PS', 0), ('BNCOM.PS', 0), ('ACHU.BO', 0), ('MONP.ZA', 0), ('BHI.CN', 0), ('EVLI.HE', 0), ('ALTF.TA', 0), ('OFGO.L', 0), ('URB.TO', 0), ('LG.V', 0), ('KAVE.TE', 0), ('ASRV.OQ', 0), ('ADIB.CA', 0), ('VLY.OQ', 0), ('VLT.N', 0), ('0132.HK', 0), ('EXPA.CA', 0), ('FAITA.CA', 0), ('FINC.MZ', 0), ('OMVS.OM', 0), ('IDLE.BO', 0), ('FNFI.PK', 0), ('IGFL.BO', 1682), ('IMBS.NS', 0), ('SEIG.CA', 0), ('WAFD.OQ', 0), ('RF.N', 0), ('LCNB.OQ', 0), ('NBKE.CA', 0), ('WASH.OQ', 0), ('BOPr.AT', 0), ('WBS.N', 0), ('IFL.BO', 0), ('INDI.NS', 0), ('AFDI.CA', 0), ('WSBC.OQ', 0), ('MARO.BO', 0), ('0011.HK', 0), ('WABC.OQ', 0), ('DEFI.NLB', 0), ('BRBW.PK', 0), ('ISLC.BO', 1992), ('INCC.BO', 349), ('SRAC.TA', 0), ('ISFL.BO', 0), ('NAWI.TA', 0), ('JBNK.TA', 0), ('FBNC.OQ', 0), ('TORR.V', 101), ('JNCO.BO', 0), ('ZGCO.PK', 0), ('ZION.OQ', 0), ('ZTR.N', 0), ('KEYN.NS', 0), ('SEVE.BO', 0), ('AFIN.KL', 0), ('0165.HK', 0), ('SBKJ.J', 0), ('KZLE.BO', 0), ('WRLD.OQ', 0), ('CFOA.PA', 0), ('MACR.BO', 2405), ('MANF.BO', 238), ('MATH.BO', 0), ('ARUI.BO', 0), ('MEHF.BO', 1797), ('MEHS.BO', 1458), ('MKTC.BO', 0), ('FCFS.OQ', 0), ('MNPL.BO', 890), ('MDSS.BO', 0), ('MSTT.BO', 0), ('MUTH.NS', 0), ('BMEB4.SA', 153), ('HBLP.BO', 0), ('8559.FU', 0), ('BSRR.OQ', 0), ('PARI.BO', 0), ('MOAR3.SA', 0), ('FCNCA.OQ', 0), ('VTN.N', 0), ('BLX.N', 0), ('8622.T', 0), ('SCOTIAC1.LM', 0), ('8560.FU', 0), ('BBVAC1.LM', 0), ('AKCL.BO', 0), ('V.PS', 0), ('ALSL.NS', 0), ('BLB.NS', 0), ('FBP.N', 0), ('NIM.N', 0), ('SRTR.NS', 0), ('FDIB.PSX', 0), ('RETC.BO', 0), ('FJP.PS', 0), ('GFNORTEO.MX', 0), ('ABCB.BH', 0), ('SHAL.BO', 0), ('ABG.PS', 2038), ('BAZA3.SA', 0), ('MTB.N', 0), ('BBDC4.SA', 0), ('SILK.PSX', 0), ('ARG.AX', 0), ('AKBNK.IS', 0), ('BNBR3.SA', 14), ('BRIV3.SA', 0), ('CEFC.PK', 0), ('DDV1.L', 0), ('PCLB.PK', 0), ('APES.KL', 0), ('ARVL.BO', 0), ('FFG.AX', 2535), ('ARA.AX', 0), ('CRIV3.SA', 0), ('CRSV.NS', 0), ('GABC.OQ', 0), ('AUI.AX', 0), ('ITUB4.SA', 0), ('ITSA4.SA', 0), ('FFBC.OQ', 0), ('BCJ.S', 0), ('MERC3.SA', 0), ('RPAD3.SA', 0), ('AUB.OQ', 0), ('SHAR.BO', 0), ('SUDF.BO', 0), ('OSBC.OQ', 0), ('TCII.NS', 0), ('TRCF.BO', 0), ('TSEC.BO', 0), ('0068.HK', 0), ('AASA.BO', 1562), ('ANUM.BO', 1281), ('BCP.LS', 0), ('FFWC.PK', 0), ('FIBIH.TA', 0), ('MFGI.PK', 0), ('EFSG.MU', 0), ('SJP.L', 0), ('AIRE.S', 0), ('WETF.OQ', 0), ('0263.HK', 0), ('KAY.L', 0), ('BPICHC1.LM', 0), ('TREJ.J', 0), ('ENBP.PK', 0), ('MECM.BO', 0), ('BPSI.MI', 0), ('0139.HK', 0), ('NYCB.N', 0), ('8595.T', 0), ('THFF.OQ', 0), ('FLIC.OQ', 0), ('MPB.OQ', 0), ('ARM.CD', 0), ('ONXC.PK', 145), ('PFO.N', 0), ('NFCI.OM', 0), ('GKHS.SI', 0), ('FFIC.OQ', 0), ('SECB.PS', 0), ('MKP.TO', 0), ('UOBH.SI', 0), ('FRME.OQ', 0), ('OBER.VI', 0), ('SRYB.PK', 0), ('PPT.AX', 0), ('LASP.CO', 0), ('SKBNK.IS', 0), ('SPNO.CO', 0), ('0952.HK', 0), ('ASP.BK', 0), ('MLPG.DE', 0), ('8558.T', 0), ('CIV.PA', 0), ('MBSS.KL', 0), ('0993.HK', 0), ('JOTF.AM', 0), ('COUP.EUA', 0), ('CRLO.PA', 0), ('ACBr.AT', 0), ('ICCA.BO', 0), ('NBGr.AT', 0), ('IDVP.PA', 0), ('CVLY.OQ', 0), ('PEUG.PA', 0), ('ALLI.KL', 0), ('CHBH.PK', 0), ('CAIF.PA', 0), ('MLCFM.EUA', 0), ('CMO.PA', 0), ('TRAM.EUA', 113), ('CZFS.PK', 0), ('CZNC.OQ', 0), ('600621.SS', 0), ('CAT31.PA', 0), ('WPBI.VI', 0), ('0070.HK', 0), ('BMHL.SI', 104), ('UIAV.VI', 0), ('VBGVp.VI', 0), ('HWBK.OQ', 0), ('LOGN.PK', 0), ('BYFC.OQ', 0), ('CCFN.PK', 0), ('CATb.ST', 0), ('600061.SS', 0), ('GAA.CN', 0), ('USB.N', 0), ('ALMC.PK', 426), ('PIRI.L', 0), ('POLI.TA', 0), ('CVG.TO', 0), ('NWFL.OQ', 0), ('OXBC.PK', 0), ('2838.TW', 0), ('1060.SE', 0), ('2845.TW', 0), ('2849.TW', 0), ('SRCE.OQ', 0), ('6005.TW', 0), ('6015.TWO', 0), ('6016.TWO', 0), ('NKSH.OQ', 0), ('SBFG.OQ', 0), ('BWS_p.L', 0), ('HLGC.KL', 1043), ('PL.BK', 0), ('1020.SE', 0), ('SINV.SI', 0), ('FHN.N', 0), ('FFIN.OQ', 0), ('EMCF.OQ', 0), ('8508.T', 0), ('BAC.N', 0), ('BBN.S', 0), ('JCBK.AM', 0), ('ATSP.WA', 0), ('BLFI.PS', 0), ('MCHT.PK', 0), ('FABP.PK', 0), ('0218.HK', 0), ('UIB.TN', 0), ('SBDS.SI', 0), ('CASN.S', 0), ('WBC.AX', 0), ('WCW.L', 0), ('ONE.S', 0), ('SRNN.PK', 0), ('GEOJ.NS', 0), ('BBAR.BA', 0), ('BCI.SN', 0), ('0227.HK', 0), ('PRIMP.L', 0), ('8381.T', 0), ('8540.FU', 0), ('HDBK.CA', 0), ('AMII.OM', 0), ('EXCr.AT', 0), ('SGFm.BK', 1973), ('2812.TW', 0), ('HBLN.S', 0), ('ROTLV.BX', 0), ('0234.HK', 0), ('EWBC.OQ', 0), ('MCX.AX', 0), ('BEL.AX', 0), ('600369.SS', 0), ('CCNE.OQ', 0), ('IAM.AX', 0), ('DUI.AX', 0), ('DIV.TO', 0), ('CNOB.OQ', 0), ('LCE.AX', 0), ('MTVG.DE', 196), ('HFBK.PK', 0), ('PAC.AX', 0), ('8366.T', 0), ('DBIN.PK', 0), ('SVS.AX', 0), ('EZL.AX', 0), ('FBIP.PK', 0), ('FMNB.OQ', 0), ('LVEN.MI', 0), ('FBAK.PK', 0), ('SPOG.OL', 0), ('CVCY.OQ', 0), ('ABGA.OL', 0), ('8614.T', 0), ('GTGT.PK', 0), ('DNB.OL', 0), ('EGBE.CA', 0), ('MORGS.OL', 0), ('MWBG.DE', 0), ('HBNC.OQ', 0), ('IOFB.PK', 0), ('SVE.L', 0), ('0086.HK', 0), ('LBAI.OQ', 0), ('8387.T', 0), ('FBC.N', 0), ('000617.SZ', 0), ('CARV.OQ', 0), ('MMTRS.PK', 0), ('8616.T', 0), ('CILEASI.LG', 0), ('NBTB.OQ', 0), ('IF.MI', 0), ('0091.HK', 0), ('NACB.PK', 0), ('NFDa.V', 0), ('PWOD.OQ', 0), ('PFIS.OQ', 0), ('BOB.BY', 0), ('RAFI.PK', 0), ('PRPM.PK', 0), ('5103.T', 0), ('ANDC.PK', 0), ('TTYP.PK', 0), ('0279.HK', 75), ('DBSM.SI', 0), ('BUSE.OQ', 0), ('CGRA.PK', 0), ('BOI.NS', 0), ('WKB.S', 0), ('HLSF.SI', 0), ('UVSP.OQ', 0), ('BBHKk.F', 0), ('CIVB.OQ', 0), ('FAF.PS', 0), ('0267.HK', 0), ('8550.T', 0), ('8355.T', 0), ('CSF.CM', 0), ('8253.T', 0), ('8346.T', 0), ('8344.T', 0), ('FDBC.OQ', 0), ('8358.T', 0), ('8360.T', 0), ('8364.T', 0), ('0292.HK', 0), ('BANF.OQ', 0), ('BFIT.BK', 0), ('2801.TW', 0), ('016610.KS', 0), ('IPX.L', 0), ('WTFC.OQ', 0), ('010050.KS', 0), ('NXP.N', 0), ('016360.KS', 0), ('VLRT.S', 0), ('BEN.N', 0), ('PNP.TO', 0), ('JHHS.KL', 0), ('KKP.BK', 0), ('KTB.BK', 0), ('IMH.NR', 0), ('8563.T', 0), ('005940.KS', 0), ('MED.PS', 308), ('MFC.BK', 0), ('IDBI.NS', 0), ('AGFb.TO', 0), ('COLB.OQ', 0), ('FINN.PK', 0), ('FKYS.PK', 0), ('LTG.PS', 0), ('FMBL.PK', 0), ('TCAP.BK', 0), ('FRAF.OQ', 0), ('HAFC.OQ', 0), ('ITEX.PK', 0), ('JUVF.PK', 0), ('FULT.OQ', 0), ('CBGH.PK', 0), ('PMBY.PK', 0), ('MYBF.PK', 0), ('1010.SE', 0), ('1030.SE', 0), ('PEBO.OQ', 0), ('KRE.CO', 0), ('QNBC.PK', 0), ('1050.SE', 0), ('NXC.N', 0), ('GATX.N', 0), ('DHIL.OQ', 0), ('PIAC.PK', 0), ('NXN.N', 0), ('1080.SE', 0), ('BBL.BK', 0), ('DJUR.CO', 0), ('1120.SE', 0), ('GRLA.CO', 0), ('MNBA.CO', 0), ('2120.SE', 0), ('NRDF.CO', 0), ('VG1.F', 0), ('SYBT.OQ', 0), ('VJBA.CO', 0), ('SYDB.CO', 0), ('TOTA.CO', 0), ('BHB.A', 0), ('CBFV.OQ', 0), ('CLIO.BO', 0), ('CRGI.MI', 305), ('SQCF.PK', 0), ('AB.TN', 0), ('BBVA.MC', 0), ('SPR.CN', 0), ('BIMB.KL', 0), ('VVL.OL', 0), ('FNCB.OQ', 0), ('MBKG.DE', 0), ('FCF.N', 0), ('INLJ.J', 0), ('PSGJ.J', 0), ('ACD.TO', 0), ('0508.HK', 0), ('BKT.MC', 0), ('ACNB.OQ', 0), ('0668.HK', 0), ('0605.HK', 0), ('RNST.OQ', 0), ('STBA.OQ', 0), ('0626.HK', 0), ('PANS.JK', 0), ('0689.HK', 0), ('PACW.OQ', 0), ('SOMC.PK', 0), ('GGLT.PK', 206), ('UBFO.OQ', 0), ('0093.HK', 0), ('CTUM.NR', 0), ('SCBK.NR', 0), ('0619.HK', 0), ('0211.HK', 806), ('HSBA.L', 0), ('0431.HK', 0), ('FBTT.PK', 0), ('BEFG.F', 0), ('GBCI.N', 0), ('DSCT.TA', 0), ('041190.KQ', 0), ('MS.N', 0), ('BAM.N', 0), ('SBSI.OQ', 0), ('SWEDa.ST', 0), ('EURBr.AT', 0), ('MIG4.L', 0), ('AUBB.BH', 0), ('ABKK.KW', 0), ('AB.N', 0), ('NASB.PK', 0), ('MCHB.PK', 0), ('NEFB.PK', 0), ('IPC.AX', 5), ('8562.T', 0), ('LIO.L', 0), ('ISCTR.IS', 0), ('CZNL.PK', 0), ('NAB.AX', 0), ('PEN.TA', 0), ('YKBNK.IS', 0), ('BAVL.PFT', 25), ('600053.SS', 0), ('8585.T', 0), ('8591.T', 0), ('BBNI.JK', 0), ('8388.T', 0), ('KBANK.BK', 0), ('8341.T', 0), ('8343.T', 0), ('8399.T', 0), ('IRD.PA', 0), ('CPSS.OQ', 0), ('FC.TO', 0), ('WZR.AX', 44), ('HCBN.PK', 0), ('KUB1G.MU', 0), ('BPAR3.SA', 1366), ('BGIP3.SA', 0), ('SECH.KW', 285), ('BNLI.JK', 0), ('BBLD.JK', 0), ('EURA.PA', 0), ('BNGA.JK', 0), ('BFIN.JK', 0), ('CFIN.JK', 0), ('INPC.JK', 0), ('POOL.JK', 48), ('PNBN.JK', 0), ('FXNC.OQ', 0), ('BSV.L', 0), ('BBAS3.SA', 0), ('AAVC.L', 0), ('TEDE.PA', 0), ('ISP.MI', 0), ('VKFYO.IS', 0), ('AVANZ.ST', 0), ('RMOG.D', 0), ('CRAP.PA', 0), ('IBOC.OQ', 0), ('PBHC.OQ', 0), ('1VUB02AE.BV', 0), ('MTU.L', 0), ('ALPN.S', 0), ('SAUD.CA', 0), ('FIPP.PA', 0), ('HBNK.CY', 0), ('UNPA.PK', 33), ('QNBA.CA', 0), ('XPG.BK', 0), ('PLTU.TN', 0), ('STB.TN', 0), ('UBCI.TN', 0), ('UBA.LG', 0), ('NMB.ZI', 0), ('BKR.PS', 0), ('ATAX.OQ', 0), ('PMO.N', 0), ('BHLB.N', 0), ('HOTU.SI', 0), ('MGTI.PK', 0), ('BCIC.JK', 2515), ('GSY.TO', 0), ('WHI.L', 0), ('ANZ.AX', 0), ('SGE.V', 0), ('HBSI.PK', 0), ('WP.V', 0), ('ALMP.PA', 0), ('CAG0n.H', 0), ('600695.SS', 0), ('GCB.GH', 0), ('0900.HK', 0), ('KARU.NS', 0), ('CHMG.OQ', 0), ('BEN.AX', 0), ('ELRN.TA', 0), ('NIDB.PK', 0), ('SOGN.PA', 0), ('ITAUCORP.SN', 0), ('CACC.OQ', 0), ('HCBC.PK', 0), ('CAC.OQ', 0), ('0913.HK', 0), ('SOR.OL', 0), ('ABCO.AM', 0), ('AJIB.AM', 0), ('ARBK.AM', 0), ('BOJX.AM', 0), ('AXP.N', 0), ('CABK.AM', 0), ('SIBK.AM', 6), ('INVB.AM', 0), ('JOIB.AM', 0), ('JOKB.AM', 0), ('AHLI.AM', 0), ('MHFZ.AM', 0), ('THBK.AM', 0), ('UBSI.AM', 0), ('MASB.DU', 0), ('LEBO.PA', 0), ('TYCB.PK', 0), ('BMEB.BH', 33), ('BURG.KW', 0), ('TCBK.OQ', 0), ('BBO.CN', 0), ('BGA.CN', 0), ('BOC.CN', 0), ('CFV.CN', 0), ('MAB.CS', 0), ('003540.KS', 0), ('GSBC.OQ', 0), ('006800.KS', 0), ('003530.KS', 0), ('001290.KS', 0), ('SIBK.NS', 0), ('TSBA.PK', 0), ('CASH.OQ', 0), ('HONT.PK', 0), ('MCBC.OQ', 0), ('PPBI.OQ', 0), ('BCOR.OQ', 0), ('ROTH.PA', 0), ('PSBP.PK', 0), ('BJAT.NS', 0), ('TUZA.TA', 0), ('UBP.PS', 0), ('BBKB.BH', 0), ('UBCP.OQ', 0), ('2809.TW', 0), ('AXBK.NS', 0), ('CBKK.KW', 0), ('DCOM.OQ', 0), ('GCGa.TO', 0), ('CCBG.OQ', 0), ('GBKK.KW', 0), ('EICB.BH', 0), ('BNCC.PK', 0), ('KFH.KW', 0), ('KIBK.KW', 0), ('VLXC.PK', 0), ('NATB.BH', 0), ('CATC.OQ', 0), ('NBKK.KW', 0), ('HWC.OQ', 0), ('BNAB.BR', 0)])"
            ]
          },
          "metadata": {},
          "execution_count": 19
        }
      ]
    },
    {
      "cell_type": "code",
      "source": [
        "include_tickers = sorted(list(map(lambda x: x[0], filter(lambda x: x[1] <= 5, longest_gap.items()))), key=lambda x: x[1], reverse=True)"
      ],
      "metadata": {
        "id": "JngxLkke-k4u"
      },
      "execution_count": null,
      "outputs": []
    },
    {
      "cell_type": "code",
      "source": [
        "cleandf = stripped.loc[include_tickers, ].fillna(method=\"ffill\")\n",
        "cleandf"
      ],
      "metadata": {
        "colab": {
          "base_uri": "https://localhost:8080/",
          "height": 455
        },
        "id": "o9ItxyyCnukp",
        "outputId": "41279c46-1d91-4c4a-afeb-7e787f52eb20"
      },
      "execution_count": null,
      "outputs": [
        {
          "output_type": "execute_result",
          "data": {
            "text/plain": [
              "                 Date  Company Market Cap  Price Close Currency\n",
              "Instrument                                                     \n",
              "SZR.WA     2010-02-19       4316546.76259     0.061665      USD\n",
              "SZR.WA     2010-02-22      6255155.347814     0.089359      USD\n",
              "SZR.WA     2010-02-23      7567823.237272     0.108112      USD\n",
              "SZR.WA     2010-02-24      7851000.917649     0.112157      USD\n",
              "SZR.WA     2010-02-25       8833862.00075     0.126198      USD\n",
              "...               ...                 ...          ...      ...\n",
              "V.PS       2022-04-13     68554732.592664     0.016476      USD\n",
              "V.PS       2022-04-18      68253249.06501     0.016476      USD\n",
              "V.PS       2022-04-19     68045080.558521     0.016476      USD\n",
              "V.PS       2022-04-20     62572572.444699       0.0149      USD\n",
              "V.PS       2022-04-21     62572572.444699       0.0149      USD\n",
              "\n",
              "[20083229 rows x 4 columns]"
            ],
            "text/html": [
              "\n",
              "  <div id=\"df-11c2e43f-daa5-4212-be40-75483c0fec2d\">\n",
              "    <div class=\"colab-df-container\">\n",
              "      <div>\n",
              "<style scoped>\n",
              "    .dataframe tbody tr th:only-of-type {\n",
              "        vertical-align: middle;\n",
              "    }\n",
              "\n",
              "    .dataframe tbody tr th {\n",
              "        vertical-align: top;\n",
              "    }\n",
              "\n",
              "    .dataframe thead th {\n",
              "        text-align: right;\n",
              "    }\n",
              "</style>\n",
              "<table border=\"1\" class=\"dataframe\">\n",
              "  <thead>\n",
              "    <tr style=\"text-align: right;\">\n",
              "      <th></th>\n",
              "      <th>Date</th>\n",
              "      <th>Company Market Cap</th>\n",
              "      <th>Price Close</th>\n",
              "      <th>Currency</th>\n",
              "    </tr>\n",
              "    <tr>\n",
              "      <th>Instrument</th>\n",
              "      <th></th>\n",
              "      <th></th>\n",
              "      <th></th>\n",
              "      <th></th>\n",
              "    </tr>\n",
              "  </thead>\n",
              "  <tbody>\n",
              "    <tr>\n",
              "      <th>SZR.WA</th>\n",
              "      <td>2010-02-19</td>\n",
              "      <td>4316546.76259</td>\n",
              "      <td>0.061665</td>\n",
              "      <td>USD</td>\n",
              "    </tr>\n",
              "    <tr>\n",
              "      <th>SZR.WA</th>\n",
              "      <td>2010-02-22</td>\n",
              "      <td>6255155.347814</td>\n",
              "      <td>0.089359</td>\n",
              "      <td>USD</td>\n",
              "    </tr>\n",
              "    <tr>\n",
              "      <th>SZR.WA</th>\n",
              "      <td>2010-02-23</td>\n",
              "      <td>7567823.237272</td>\n",
              "      <td>0.108112</td>\n",
              "      <td>USD</td>\n",
              "    </tr>\n",
              "    <tr>\n",
              "      <th>SZR.WA</th>\n",
              "      <td>2010-02-24</td>\n",
              "      <td>7851000.917649</td>\n",
              "      <td>0.112157</td>\n",
              "      <td>USD</td>\n",
              "    </tr>\n",
              "    <tr>\n",
              "      <th>SZR.WA</th>\n",
              "      <td>2010-02-25</td>\n",
              "      <td>8833862.00075</td>\n",
              "      <td>0.126198</td>\n",
              "      <td>USD</td>\n",
              "    </tr>\n",
              "    <tr>\n",
              "      <th>...</th>\n",
              "      <td>...</td>\n",
              "      <td>...</td>\n",
              "      <td>...</td>\n",
              "      <td>...</td>\n",
              "    </tr>\n",
              "    <tr>\n",
              "      <th>V.PS</th>\n",
              "      <td>2022-04-13</td>\n",
              "      <td>68554732.592664</td>\n",
              "      <td>0.016476</td>\n",
              "      <td>USD</td>\n",
              "    </tr>\n",
              "    <tr>\n",
              "      <th>V.PS</th>\n",
              "      <td>2022-04-18</td>\n",
              "      <td>68253249.06501</td>\n",
              "      <td>0.016476</td>\n",
              "      <td>USD</td>\n",
              "    </tr>\n",
              "    <tr>\n",
              "      <th>V.PS</th>\n",
              "      <td>2022-04-19</td>\n",
              "      <td>68045080.558521</td>\n",
              "      <td>0.016476</td>\n",
              "      <td>USD</td>\n",
              "    </tr>\n",
              "    <tr>\n",
              "      <th>V.PS</th>\n",
              "      <td>2022-04-20</td>\n",
              "      <td>62572572.444699</td>\n",
              "      <td>0.0149</td>\n",
              "      <td>USD</td>\n",
              "    </tr>\n",
              "    <tr>\n",
              "      <th>V.PS</th>\n",
              "      <td>2022-04-21</td>\n",
              "      <td>62572572.444699</td>\n",
              "      <td>0.0149</td>\n",
              "      <td>USD</td>\n",
              "    </tr>\n",
              "  </tbody>\n",
              "</table>\n",
              "<p>20083229 rows × 4 columns</p>\n",
              "</div>\n",
              "      <button class=\"colab-df-convert\" onclick=\"convertToInteractive('df-11c2e43f-daa5-4212-be40-75483c0fec2d')\"\n",
              "              title=\"Convert this dataframe to an interactive table.\"\n",
              "              style=\"display:none;\">\n",
              "        \n",
              "  <svg xmlns=\"http://www.w3.org/2000/svg\" height=\"24px\"viewBox=\"0 0 24 24\"\n",
              "       width=\"24px\">\n",
              "    <path d=\"M0 0h24v24H0V0z\" fill=\"none\"/>\n",
              "    <path d=\"M18.56 5.44l.94 2.06.94-2.06 2.06-.94-2.06-.94-.94-2.06-.94 2.06-2.06.94zm-11 1L8.5 8.5l.94-2.06 2.06-.94-2.06-.94L8.5 2.5l-.94 2.06-2.06.94zm10 10l.94 2.06.94-2.06 2.06-.94-2.06-.94-.94-2.06-.94 2.06-2.06.94z\"/><path d=\"M17.41 7.96l-1.37-1.37c-.4-.4-.92-.59-1.43-.59-.52 0-1.04.2-1.43.59L10.3 9.45l-7.72 7.72c-.78.78-.78 2.05 0 2.83L4 21.41c.39.39.9.59 1.41.59.51 0 1.02-.2 1.41-.59l7.78-7.78 2.81-2.81c.8-.78.8-2.07 0-2.86zM5.41 20L4 18.59l7.72-7.72 1.47 1.35L5.41 20z\"/>\n",
              "  </svg>\n",
              "      </button>\n",
              "      \n",
              "  <style>\n",
              "    .colab-df-container {\n",
              "      display:flex;\n",
              "      flex-wrap:wrap;\n",
              "      gap: 12px;\n",
              "    }\n",
              "\n",
              "    .colab-df-convert {\n",
              "      background-color: #E8F0FE;\n",
              "      border: none;\n",
              "      border-radius: 50%;\n",
              "      cursor: pointer;\n",
              "      display: none;\n",
              "      fill: #1967D2;\n",
              "      height: 32px;\n",
              "      padding: 0 0 0 0;\n",
              "      width: 32px;\n",
              "    }\n",
              "\n",
              "    .colab-df-convert:hover {\n",
              "      background-color: #E2EBFA;\n",
              "      box-shadow: 0px 1px 2px rgba(60, 64, 67, 0.3), 0px 1px 3px 1px rgba(60, 64, 67, 0.15);\n",
              "      fill: #174EA6;\n",
              "    }\n",
              "\n",
              "    [theme=dark] .colab-df-convert {\n",
              "      background-color: #3B4455;\n",
              "      fill: #D2E3FC;\n",
              "    }\n",
              "\n",
              "    [theme=dark] .colab-df-convert:hover {\n",
              "      background-color: #434B5C;\n",
              "      box-shadow: 0px 1px 3px 1px rgba(0, 0, 0, 0.15);\n",
              "      filter: drop-shadow(0px 1px 2px rgba(0, 0, 0, 0.3));\n",
              "      fill: #FFFFFF;\n",
              "    }\n",
              "  </style>\n",
              "\n",
              "      <script>\n",
              "        const buttonEl =\n",
              "          document.querySelector('#df-11c2e43f-daa5-4212-be40-75483c0fec2d button.colab-df-convert');\n",
              "        buttonEl.style.display =\n",
              "          google.colab.kernel.accessAllowed ? 'block' : 'none';\n",
              "\n",
              "        async function convertToInteractive(key) {\n",
              "          const element = document.querySelector('#df-11c2e43f-daa5-4212-be40-75483c0fec2d');\n",
              "          const dataTable =\n",
              "            await google.colab.kernel.invokeFunction('convertToInteractive',\n",
              "                                                     [key], {});\n",
              "          if (!dataTable) return;\n",
              "\n",
              "          const docLinkHtml = 'Like what you see? Visit the ' +\n",
              "            '<a target=\"_blank\" href=https://colab.research.google.com/notebooks/data_table.ipynb>data table notebook</a>'\n",
              "            + ' to learn more about interactive tables.';\n",
              "          element.innerHTML = '';\n",
              "          dataTable['output_type'] = 'display_data';\n",
              "          await google.colab.output.renderOutput(dataTable, element);\n",
              "          const docLink = document.createElement('div');\n",
              "          docLink.innerHTML = docLinkHtml;\n",
              "          element.appendChild(docLink);\n",
              "        }\n",
              "      </script>\n",
              "    </div>\n",
              "  </div>\n",
              "  "
            ]
          },
          "metadata": {},
          "execution_count": 21
        }
      ]
    },
    {
      "cell_type": "code",
      "source": [
        "print(f\"After clean, {cleandf.index.unique().shape[0]} companies remain\")\n",
        "print(f\"After clean, {cleandf.shape[0]} datapoints remain\")"
      ],
      "metadata": {
        "colab": {
          "base_uri": "https://localhost:8080/"
        },
        "id": "eJZdGALqo36a",
        "outputId": "966bf98f-e367-4c17-c16f-e813364e9aa6"
      },
      "execution_count": null,
      "outputs": [
        {
          "output_type": "stream",
          "name": "stdout",
          "text": [
            "After clean, 5825 companies remain\n",
            "After clean, 20083229 datapoints remain\n"
          ]
        }
      ]
    },
    {
      "cell_type": "markdown",
      "source": [
        "## Remove companies that are traded over the counter\n",
        "\n",
        "Also called Pink Slips (PK)"
      ],
      "metadata": {
        "id": "aHBkFs6s7pCT"
      }
    },
    {
      "cell_type": "code",
      "source": [
        "cleandf = cleandf[~cleandf.index.str.endswith(\".PK\")]\n",
        "\n",
        "print(f\"After drop PK companies, {cleandf.index.unique().shape[0]} companies remain\")\n",
        "print(f\"After drop PK companies, {cleandf.shape[0]} datapoints remain\")"
      ],
      "metadata": {
        "colab": {
          "base_uri": "https://localhost:8080/"
        },
        "id": "z-Gtxm4_8oM9",
        "outputId": "069636db-feed-4474-df3d-ddcb0338b252"
      },
      "execution_count": null,
      "outputs": [
        {
          "output_type": "stream",
          "name": "stdout",
          "text": [
            "After drop PK companies, 5300 companies remain\n",
            "After drop PK companies, 18169814 datapoints remain\n"
          ]
        }
      ]
    },
    {
      "cell_type": "markdown",
      "source": [
        "## Remove companies with too little training or test data after split"
      ],
      "metadata": {
        "id": "7qB2sSqqBOiR"
      }
    },
    {
      "cell_type": "markdown",
      "source": [
        "### Rename columns to be easier to work with"
      ],
      "metadata": {
        "id": "IdRroXsYBeJB"
      }
    },
    {
      "cell_type": "code",
      "source": [
        "data = cleandf.reset_index().rename(columns=column_mapping)\n",
        "data.head()"
      ],
      "metadata": {
        "colab": {
          "base_uri": "https://localhost:8080/",
          "height": 206
        },
        "id": "eNyJLRI6BhCm",
        "outputId": "4c1d9d35-7067-434f-c90f-8d77a8618480"
      },
      "execution_count": null,
      "outputs": [
        {
          "output_type": "execute_result",
          "data": {
            "text/plain": [
              "   ticker       date      market_cap  close_price currency\n",
              "0  SZR.WA 2010-02-19   4316546.76259     0.061665      USD\n",
              "1  SZR.WA 2010-02-22  6255155.347814     0.089359      USD\n",
              "2  SZR.WA 2010-02-23  7567823.237272     0.108112      USD\n",
              "3  SZR.WA 2010-02-24  7851000.917649     0.112157      USD\n",
              "4  SZR.WA 2010-02-25   8833862.00075     0.126198      USD"
            ],
            "text/html": [
              "\n",
              "  <div id=\"df-1af6f08d-85de-4e10-a95d-8eb0ce11e5cb\">\n",
              "    <div class=\"colab-df-container\">\n",
              "      <div>\n",
              "<style scoped>\n",
              "    .dataframe tbody tr th:only-of-type {\n",
              "        vertical-align: middle;\n",
              "    }\n",
              "\n",
              "    .dataframe tbody tr th {\n",
              "        vertical-align: top;\n",
              "    }\n",
              "\n",
              "    .dataframe thead th {\n",
              "        text-align: right;\n",
              "    }\n",
              "</style>\n",
              "<table border=\"1\" class=\"dataframe\">\n",
              "  <thead>\n",
              "    <tr style=\"text-align: right;\">\n",
              "      <th></th>\n",
              "      <th>ticker</th>\n",
              "      <th>date</th>\n",
              "      <th>market_cap</th>\n",
              "      <th>close_price</th>\n",
              "      <th>currency</th>\n",
              "    </tr>\n",
              "  </thead>\n",
              "  <tbody>\n",
              "    <tr>\n",
              "      <th>0</th>\n",
              "      <td>SZR.WA</td>\n",
              "      <td>2010-02-19</td>\n",
              "      <td>4316546.76259</td>\n",
              "      <td>0.061665</td>\n",
              "      <td>USD</td>\n",
              "    </tr>\n",
              "    <tr>\n",
              "      <th>1</th>\n",
              "      <td>SZR.WA</td>\n",
              "      <td>2010-02-22</td>\n",
              "      <td>6255155.347814</td>\n",
              "      <td>0.089359</td>\n",
              "      <td>USD</td>\n",
              "    </tr>\n",
              "    <tr>\n",
              "      <th>2</th>\n",
              "      <td>SZR.WA</td>\n",
              "      <td>2010-02-23</td>\n",
              "      <td>7567823.237272</td>\n",
              "      <td>0.108112</td>\n",
              "      <td>USD</td>\n",
              "    </tr>\n",
              "    <tr>\n",
              "      <th>3</th>\n",
              "      <td>SZR.WA</td>\n",
              "      <td>2010-02-24</td>\n",
              "      <td>7851000.917649</td>\n",
              "      <td>0.112157</td>\n",
              "      <td>USD</td>\n",
              "    </tr>\n",
              "    <tr>\n",
              "      <th>4</th>\n",
              "      <td>SZR.WA</td>\n",
              "      <td>2010-02-25</td>\n",
              "      <td>8833862.00075</td>\n",
              "      <td>0.126198</td>\n",
              "      <td>USD</td>\n",
              "    </tr>\n",
              "  </tbody>\n",
              "</table>\n",
              "</div>\n",
              "      <button class=\"colab-df-convert\" onclick=\"convertToInteractive('df-1af6f08d-85de-4e10-a95d-8eb0ce11e5cb')\"\n",
              "              title=\"Convert this dataframe to an interactive table.\"\n",
              "              style=\"display:none;\">\n",
              "        \n",
              "  <svg xmlns=\"http://www.w3.org/2000/svg\" height=\"24px\"viewBox=\"0 0 24 24\"\n",
              "       width=\"24px\">\n",
              "    <path d=\"M0 0h24v24H0V0z\" fill=\"none\"/>\n",
              "    <path d=\"M18.56 5.44l.94 2.06.94-2.06 2.06-.94-2.06-.94-.94-2.06-.94 2.06-2.06.94zm-11 1L8.5 8.5l.94-2.06 2.06-.94-2.06-.94L8.5 2.5l-.94 2.06-2.06.94zm10 10l.94 2.06.94-2.06 2.06-.94-2.06-.94-.94-2.06-.94 2.06-2.06.94z\"/><path d=\"M17.41 7.96l-1.37-1.37c-.4-.4-.92-.59-1.43-.59-.52 0-1.04.2-1.43.59L10.3 9.45l-7.72 7.72c-.78.78-.78 2.05 0 2.83L4 21.41c.39.39.9.59 1.41.59.51 0 1.02-.2 1.41-.59l7.78-7.78 2.81-2.81c.8-.78.8-2.07 0-2.86zM5.41 20L4 18.59l7.72-7.72 1.47 1.35L5.41 20z\"/>\n",
              "  </svg>\n",
              "      </button>\n",
              "      \n",
              "  <style>\n",
              "    .colab-df-container {\n",
              "      display:flex;\n",
              "      flex-wrap:wrap;\n",
              "      gap: 12px;\n",
              "    }\n",
              "\n",
              "    .colab-df-convert {\n",
              "      background-color: #E8F0FE;\n",
              "      border: none;\n",
              "      border-radius: 50%;\n",
              "      cursor: pointer;\n",
              "      display: none;\n",
              "      fill: #1967D2;\n",
              "      height: 32px;\n",
              "      padding: 0 0 0 0;\n",
              "      width: 32px;\n",
              "    }\n",
              "\n",
              "    .colab-df-convert:hover {\n",
              "      background-color: #E2EBFA;\n",
              "      box-shadow: 0px 1px 2px rgba(60, 64, 67, 0.3), 0px 1px 3px 1px rgba(60, 64, 67, 0.15);\n",
              "      fill: #174EA6;\n",
              "    }\n",
              "\n",
              "    [theme=dark] .colab-df-convert {\n",
              "      background-color: #3B4455;\n",
              "      fill: #D2E3FC;\n",
              "    }\n",
              "\n",
              "    [theme=dark] .colab-df-convert:hover {\n",
              "      background-color: #434B5C;\n",
              "      box-shadow: 0px 1px 3px 1px rgba(0, 0, 0, 0.15);\n",
              "      filter: drop-shadow(0px 1px 2px rgba(0, 0, 0, 0.3));\n",
              "      fill: #FFFFFF;\n",
              "    }\n",
              "  </style>\n",
              "\n",
              "      <script>\n",
              "        const buttonEl =\n",
              "          document.querySelector('#df-1af6f08d-85de-4e10-a95d-8eb0ce11e5cb button.colab-df-convert');\n",
              "        buttonEl.style.display =\n",
              "          google.colab.kernel.accessAllowed ? 'block' : 'none';\n",
              "\n",
              "        async function convertToInteractive(key) {\n",
              "          const element = document.querySelector('#df-1af6f08d-85de-4e10-a95d-8eb0ce11e5cb');\n",
              "          const dataTable =\n",
              "            await google.colab.kernel.invokeFunction('convertToInteractive',\n",
              "                                                     [key], {});\n",
              "          if (!dataTable) return;\n",
              "\n",
              "          const docLinkHtml = 'Like what you see? Visit the ' +\n",
              "            '<a target=\"_blank\" href=https://colab.research.google.com/notebooks/data_table.ipynb>data table notebook</a>'\n",
              "            + ' to learn more about interactive tables.';\n",
              "          element.innerHTML = '';\n",
              "          dataTable['output_type'] = 'display_data';\n",
              "          await google.colab.output.renderOutput(dataTable, element);\n",
              "          const docLink = document.createElement('div');\n",
              "          docLink.innerHTML = docLinkHtml;\n",
              "          element.appendChild(docLink);\n",
              "        }\n",
              "      </script>\n",
              "    </div>\n",
              "  </div>\n",
              "  "
            ]
          },
          "metadata": {},
          "execution_count": 24
        }
      ]
    },
    {
      "cell_type": "markdown",
      "source": [
        "### Create a split of data for training and testing\n",
        "\n",
        "All data from, and including, January 1st, 2019 will be reserved for the test set. All other data can be used for training."
      ],
      "metadata": {
        "id": "ARspe6zWLdm8"
      }
    },
    {
      "cell_type": "code",
      "source": [
        "train_test_split = data.date < test_start_pd\n",
        "\n",
        "train = data[train_test_split]\n",
        "test = data[~train_test_split]\n",
        "\n",
        "train.shape, test.shape"
      ],
      "metadata": {
        "colab": {
          "base_uri": "https://localhost:8080/"
        },
        "id": "kX_g3hUscyct",
        "outputId": "5bef01ba-7bf4-4aad-e1f5-d3237763b930"
      },
      "execution_count": null,
      "outputs": [
        {
          "output_type": "execute_result",
          "data": {
            "text/plain": [
              "((14127897, 5), (4041917, 5))"
            ]
          },
          "metadata": {},
          "execution_count": 25
        }
      ]
    },
    {
      "cell_type": "markdown",
      "source": [
        "After the split, the training set contains ~14M stock prices, while the test set has ~4M. There are ~5 trading days in a week, ~20 in a month, ~60 in a quarter, and ~250 in a year. If forecasting a month into the future, it is reasonable to require at least a quarter's worth of training data, minimum. Therefore, we require included companies to have at least a quarter plus a month worth of days (i.e., 80) in the training set to be included.\n"
      ],
      "metadata": {
        "id": "MfnVcVmnL-dm"
      }
    },
    {
      "cell_type": "code",
      "source": [
        "trn_count = train.groupby(\"ticker\").count()\n",
        "tst_count = test.groupby(\"ticker\").count()\n",
        "\n",
        "exclude_tickers = pd.concat(\n",
        "    [\n",
        "     trn_count[trn_count.market_cap < 80],\n",
        "     tst_count[tst_count.market_cap < 20],\n",
        "    ]\n",
        ").index.unique()\n",
        "\n",
        "exclude_tickers.shape[0]"
      ],
      "metadata": {
        "colab": {
          "base_uri": "https://localhost:8080/"
        },
        "id": "-sA0bzvRIKFd",
        "outputId": "4cbb490c-29e9-4dba-c808-ae47b70ef31b"
      },
      "execution_count": null,
      "outputs": [
        {
          "output_type": "execute_result",
          "data": {
            "text/plain": [
              "87"
            ]
          },
          "metadata": {},
          "execution_count": 26
        }
      ]
    },
    {
      "cell_type": "markdown",
      "source": [
        "When imposing this requirement, we lose 87 tickers."
      ],
      "metadata": {
        "id": "_45XQYfyJAC9"
      }
    },
    {
      "cell_type": "code",
      "source": [
        "train = train[~train.ticker.isin(exclude_tickers)]\n",
        "test = test[~test.ticker.isin(exclude_tickers)]\n",
        "\n",
        "train.shape, test.shape"
      ],
      "metadata": {
        "colab": {
          "base_uri": "https://localhost:8080/"
        },
        "id": "heSL8m5VNscF",
        "outputId": "1fc3e667-be6f-459f-ce6b-134846746d5c"
      },
      "execution_count": null,
      "outputs": [
        {
          "output_type": "execute_result",
          "data": {
            "text/plain": [
              "((14123324, 5), (3989426, 5))"
            ]
          },
          "metadata": {},
          "execution_count": 27
        }
      ]
    },
    {
      "cell_type": "markdown",
      "source": [
        "### Combine into one frame"
      ],
      "metadata": {
        "id": "6nKtZQXuVq6L"
      }
    },
    {
      "cell_type": "code",
      "source": [
        "data = pd.concat([train, test], axis=0).sort_values(by=[\"ticker\", \"date\"]).reset_index().drop(columns=[\"index\"])\n",
        "\n",
        "data.ticker.unique().shape[0], data.shape[0]"
      ],
      "metadata": {
        "colab": {
          "base_uri": "https://localhost:8080/"
        },
        "id": "P2owMA2opcW4",
        "outputId": "768d6179-04ce-4b70-e5f3-96030c82eff2"
      },
      "execution_count": null,
      "outputs": [
        {
          "output_type": "execute_result",
          "data": {
            "text/plain": [
              "(5213, 18112750)"
            ]
          },
          "metadata": {},
          "execution_count": 28
        }
      ]
    },
    {
      "cell_type": "markdown",
      "source": [
        "# Save the data to WandB 👫"
      ],
      "metadata": {
        "id": "BAQOxqZxprDL"
      }
    },
    {
      "cell_type": "code",
      "source": [
        "filename = \"stock-data.feather\"\n",
        "\n",
        "put_dataset(data, filename, project=\"master\", description=\"Remove PK companies also and do sufficiency clean\")"
      ],
      "metadata": {
        "colab": {
          "base_uri": "https://localhost:8080/",
          "height": 141,
          "referenced_widgets": [
            "873444d2cd184038bb60a096feb20bc9",
            "1f732f3488754ead9ff81ef2590a5e93",
            "19bcd954485547a08574577b3e204492",
            "19b573aed0224ce1b16dd8836d8139ee",
            "9e470e1bdd024eb292ea246c36dcd19c",
            "e6079b910c3f425e9bc7ab03edb626ff",
            "79011785a10e49308186fd5b32349aae",
            "472a8dd2f30348dea670163abddd3f5c"
          ]
        },
        "id": "xI9a7KEjpVNq",
        "outputId": "1306c60a-2523-4308-b756-c92f3c80084a"
      },
      "execution_count": null,
      "outputs": [
        {
          "output_type": "display_data",
          "data": {
            "text/plain": [
              "<IPython.core.display.HTML object>"
            ],
            "text/html": [
              "Tracking run with wandb version 0.12.16"
            ]
          },
          "metadata": {}
        },
        {
          "output_type": "display_data",
          "data": {
            "text/plain": [
              "<IPython.core.display.HTML object>"
            ],
            "text/html": [
              "Run data is saved locally in <code>/content/wandb/run-20220525_082957-3gtg7rgf</code>"
            ]
          },
          "metadata": {}
        },
        {
          "output_type": "display_data",
          "data": {
            "text/plain": [
              "<IPython.core.display.HTML object>"
            ],
            "text/html": [
              "Syncing run <strong><a href=\"https://wandb.ai/krankile/master/runs/3gtg7rgf\" target=\"_blank\">different-tree-5</a></strong> to <a href=\"https://wandb.ai/krankile/master\" target=\"_blank\">Weights & Biases</a> (<a href=\"https://wandb.me/run\" target=\"_blank\">docs</a>)<br/>"
            ]
          },
          "metadata": {}
        },
        {
          "output_type": "display_data",
          "data": {
            "text/plain": [
              "<IPython.core.display.HTML object>"
            ],
            "text/html": [
              "Waiting for W&B process to finish... <strong style=\"color:green\">(success).</strong>"
            ]
          },
          "metadata": {}
        },
        {
          "output_type": "display_data",
          "data": {
            "text/plain": [
              "VBox(children=(Label(value='434.811 MB of 434.811 MB uploaded (0.000 MB deduped)\\r'), FloatProgress(value=1.0,…"
            ],
            "application/vnd.jupyter.widget-view+json": {
              "version_major": 2,
              "version_minor": 0,
              "model_id": "873444d2cd184038bb60a096feb20bc9"
            }
          },
          "metadata": {}
        },
        {
          "output_type": "display_data",
          "data": {
            "text/plain": [
              "<IPython.core.display.HTML object>"
            ],
            "text/html": [
              "Synced <strong style=\"color:#cdcd00\">different-tree-5</strong>: <a href=\"https://wandb.ai/krankile/master/runs/3gtg7rgf\" target=\"_blank\">https://wandb.ai/krankile/master/runs/3gtg7rgf</a><br/>Synced 4 W&B file(s), 0 media file(s), 1 artifact file(s) and 0 other file(s)"
            ]
          },
          "metadata": {}
        },
        {
          "output_type": "display_data",
          "data": {
            "text/plain": [
              "<IPython.core.display.HTML object>"
            ],
            "text/html": [
              "Find logs at: <code>./wandb/run-20220525_082957-3gtg7rgf/logs</code>"
            ]
          },
          "metadata": {}
        }
      ]
    },
    {
      "cell_type": "code",
      "source": [
        ""
      ],
      "metadata": {
        "id": "Igef4ZY3ErWO"
      },
      "execution_count": null,
      "outputs": []
    }
  ]
}