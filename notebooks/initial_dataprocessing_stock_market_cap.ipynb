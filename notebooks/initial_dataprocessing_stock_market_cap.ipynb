{
  "nbformat": 4,
  "nbformat_minor": 0,
  "metadata": {
    "colab": {
      "name": "initial_dataprocessing_stockvalue.ipynb",
      "provenance": [],
      "collapsed_sections": [],
      "toc_visible": true,
      "include_colab_link": true
    },
    "kernelspec": {
      "name": "python3",
      "display_name": "Python 3"
    },
    "language_info": {
      "name": "python"
    },
    "widgets": {
      "application/vnd.jupyter.widget-state+json": {
        "ed6d05cfb53043e6938efdb3c9785abd": {
          "model_module": "@jupyter-widgets/controls",
          "model_name": "VBoxModel",
          "model_module_version": "1.5.0",
          "state": {
            "_dom_classes": [],
            "_model_module": "@jupyter-widgets/controls",
            "_model_module_version": "1.5.0",
            "_model_name": "VBoxModel",
            "_view_count": null,
            "_view_module": "@jupyter-widgets/controls",
            "_view_module_version": "1.5.0",
            "_view_name": "VBoxView",
            "box_style": "",
            "children": [
              "IPY_MODEL_9bc1c3c4757c48ddb97fdd7001cf10bc",
              "IPY_MODEL_db7a330ddfe74dd8b5990788341be420"
            ],
            "layout": "IPY_MODEL_335ef0921a764cc286a4252b81841bdd"
          }
        },
        "9bc1c3c4757c48ddb97fdd7001cf10bc": {
          "model_module": "@jupyter-widgets/controls",
          "model_name": "LabelModel",
          "model_module_version": "1.5.0",
          "state": {
            "_dom_classes": [],
            "_model_module": "@jupyter-widgets/controls",
            "_model_module_version": "1.5.0",
            "_model_name": "LabelModel",
            "_view_count": null,
            "_view_module": "@jupyter-widgets/controls",
            "_view_module_version": "1.5.0",
            "_view_name": "LabelView",
            "description": "",
            "description_tooltip": null,
            "layout": "IPY_MODEL_9ef5a7935dc346c8b6ce16c7a1253478",
            "placeholder": "​",
            "style": "IPY_MODEL_806cca5c0d2c4f23a6da40297709d6b5",
            "value": "0.008 MB of 0.008 MB uploaded (0.000 MB deduped)\r"
          }
        },
        "db7a330ddfe74dd8b5990788341be420": {
          "model_module": "@jupyter-widgets/controls",
          "model_name": "FloatProgressModel",
          "model_module_version": "1.5.0",
          "state": {
            "_dom_classes": [],
            "_model_module": "@jupyter-widgets/controls",
            "_model_module_version": "1.5.0",
            "_model_name": "FloatProgressModel",
            "_view_count": null,
            "_view_module": "@jupyter-widgets/controls",
            "_view_module_version": "1.5.0",
            "_view_name": "ProgressView",
            "bar_style": "",
            "description": "",
            "description_tooltip": null,
            "layout": "IPY_MODEL_28a40691e2034048bdcd653080a140a6",
            "max": 1,
            "min": 0,
            "orientation": "horizontal",
            "style": "IPY_MODEL_8502b7c700f9471db1ac22d9b51e8999",
            "value": 1
          }
        },
        "335ef0921a764cc286a4252b81841bdd": {
          "model_module": "@jupyter-widgets/base",
          "model_name": "LayoutModel",
          "model_module_version": "1.2.0",
          "state": {
            "_model_module": "@jupyter-widgets/base",
            "_model_module_version": "1.2.0",
            "_model_name": "LayoutModel",
            "_view_count": null,
            "_view_module": "@jupyter-widgets/base",
            "_view_module_version": "1.2.0",
            "_view_name": "LayoutView",
            "align_content": null,
            "align_items": null,
            "align_self": null,
            "border": null,
            "bottom": null,
            "display": null,
            "flex": null,
            "flex_flow": null,
            "grid_area": null,
            "grid_auto_columns": null,
            "grid_auto_flow": null,
            "grid_auto_rows": null,
            "grid_column": null,
            "grid_gap": null,
            "grid_row": null,
            "grid_template_areas": null,
            "grid_template_columns": null,
            "grid_template_rows": null,
            "height": null,
            "justify_content": null,
            "justify_items": null,
            "left": null,
            "margin": null,
            "max_height": null,
            "max_width": null,
            "min_height": null,
            "min_width": null,
            "object_fit": null,
            "object_position": null,
            "order": null,
            "overflow": null,
            "overflow_x": null,
            "overflow_y": null,
            "padding": null,
            "right": null,
            "top": null,
            "visibility": null,
            "width": null
          }
        },
        "9ef5a7935dc346c8b6ce16c7a1253478": {
          "model_module": "@jupyter-widgets/base",
          "model_name": "LayoutModel",
          "model_module_version": "1.2.0",
          "state": {
            "_model_module": "@jupyter-widgets/base",
            "_model_module_version": "1.2.0",
            "_model_name": "LayoutModel",
            "_view_count": null,
            "_view_module": "@jupyter-widgets/base",
            "_view_module_version": "1.2.0",
            "_view_name": "LayoutView",
            "align_content": null,
            "align_items": null,
            "align_self": null,
            "border": null,
            "bottom": null,
            "display": null,
            "flex": null,
            "flex_flow": null,
            "grid_area": null,
            "grid_auto_columns": null,
            "grid_auto_flow": null,
            "grid_auto_rows": null,
            "grid_column": null,
            "grid_gap": null,
            "grid_row": null,
            "grid_template_areas": null,
            "grid_template_columns": null,
            "grid_template_rows": null,
            "height": null,
            "justify_content": null,
            "justify_items": null,
            "left": null,
            "margin": null,
            "max_height": null,
            "max_width": null,
            "min_height": null,
            "min_width": null,
            "object_fit": null,
            "object_position": null,
            "order": null,
            "overflow": null,
            "overflow_x": null,
            "overflow_y": null,
            "padding": null,
            "right": null,
            "top": null,
            "visibility": null,
            "width": null
          }
        },
        "806cca5c0d2c4f23a6da40297709d6b5": {
          "model_module": "@jupyter-widgets/controls",
          "model_name": "DescriptionStyleModel",
          "model_module_version": "1.5.0",
          "state": {
            "_model_module": "@jupyter-widgets/controls",
            "_model_module_version": "1.5.0",
            "_model_name": "DescriptionStyleModel",
            "_view_count": null,
            "_view_module": "@jupyter-widgets/base",
            "_view_module_version": "1.2.0",
            "_view_name": "StyleView",
            "description_width": ""
          }
        },
        "28a40691e2034048bdcd653080a140a6": {
          "model_module": "@jupyter-widgets/base",
          "model_name": "LayoutModel",
          "model_module_version": "1.2.0",
          "state": {
            "_model_module": "@jupyter-widgets/base",
            "_model_module_version": "1.2.0",
            "_model_name": "LayoutModel",
            "_view_count": null,
            "_view_module": "@jupyter-widgets/base",
            "_view_module_version": "1.2.0",
            "_view_name": "LayoutView",
            "align_content": null,
            "align_items": null,
            "align_self": null,
            "border": null,
            "bottom": null,
            "display": null,
            "flex": null,
            "flex_flow": null,
            "grid_area": null,
            "grid_auto_columns": null,
            "grid_auto_flow": null,
            "grid_auto_rows": null,
            "grid_column": null,
            "grid_gap": null,
            "grid_row": null,
            "grid_template_areas": null,
            "grid_template_columns": null,
            "grid_template_rows": null,
            "height": null,
            "justify_content": null,
            "justify_items": null,
            "left": null,
            "margin": null,
            "max_height": null,
            "max_width": null,
            "min_height": null,
            "min_width": null,
            "object_fit": null,
            "object_position": null,
            "order": null,
            "overflow": null,
            "overflow_x": null,
            "overflow_y": null,
            "padding": null,
            "right": null,
            "top": null,
            "visibility": null,
            "width": null
          }
        },
        "8502b7c700f9471db1ac22d9b51e8999": {
          "model_module": "@jupyter-widgets/controls",
          "model_name": "ProgressStyleModel",
          "model_module_version": "1.5.0",
          "state": {
            "_model_module": "@jupyter-widgets/controls",
            "_model_module_version": "1.5.0",
            "_model_name": "ProgressStyleModel",
            "_view_count": null,
            "_view_module": "@jupyter-widgets/base",
            "_view_module_version": "1.2.0",
            "_view_name": "StyleView",
            "bar_color": null,
            "description_width": ""
          }
        },
        "f29a2b3eb11f4972aa1b50defc15563c": {
          "model_module": "@jupyter-widgets/controls",
          "model_name": "VBoxModel",
          "model_module_version": "1.5.0",
          "state": {
            "_dom_classes": [],
            "_model_module": "@jupyter-widgets/controls",
            "_model_module_version": "1.5.0",
            "_model_name": "VBoxModel",
            "_view_count": null,
            "_view_module": "@jupyter-widgets/controls",
            "_view_module_version": "1.5.0",
            "_view_name": "VBoxView",
            "box_style": "",
            "children": [
              "IPY_MODEL_fda216165efe4323ae84fda3008109e8",
              "IPY_MODEL_0fe8810369d244f9900cca014ec13bf5"
            ],
            "layout": "IPY_MODEL_f5fe0c8a60884e2fa224058d486acf41"
          }
        },
        "fda216165efe4323ae84fda3008109e8": {
          "model_module": "@jupyter-widgets/controls",
          "model_name": "LabelModel",
          "model_module_version": "1.5.0",
          "state": {
            "_dom_classes": [],
            "_model_module": "@jupyter-widgets/controls",
            "_model_module_version": "1.5.0",
            "_model_name": "LabelModel",
            "_view_count": null,
            "_view_module": "@jupyter-widgets/controls",
            "_view_module_version": "1.5.0",
            "_view_name": "LabelView",
            "description": "",
            "description_tooltip": null,
            "layout": "IPY_MODEL_491e220d837a4ec984960d48975e5c15",
            "placeholder": "​",
            "style": "IPY_MODEL_e31679ca97bb465da728044d8478e908",
            "value": "126.383 MB of 126.383 MB uploaded (0.000 MB deduped)\r"
          }
        },
        "0fe8810369d244f9900cca014ec13bf5": {
          "model_module": "@jupyter-widgets/controls",
          "model_name": "FloatProgressModel",
          "model_module_version": "1.5.0",
          "state": {
            "_dom_classes": [],
            "_model_module": "@jupyter-widgets/controls",
            "_model_module_version": "1.5.0",
            "_model_name": "FloatProgressModel",
            "_view_count": null,
            "_view_module": "@jupyter-widgets/controls",
            "_view_module_version": "1.5.0",
            "_view_name": "ProgressView",
            "bar_style": "",
            "description": "",
            "description_tooltip": null,
            "layout": "IPY_MODEL_7ef1831fc6f1419d9f75631f5607a609",
            "max": 1,
            "min": 0,
            "orientation": "horizontal",
            "style": "IPY_MODEL_ff709de4d0ce4055aef2a7bf8f7e6f8e",
            "value": 1
          }
        },
        "f5fe0c8a60884e2fa224058d486acf41": {
          "model_module": "@jupyter-widgets/base",
          "model_name": "LayoutModel",
          "model_module_version": "1.2.0",
          "state": {
            "_model_module": "@jupyter-widgets/base",
            "_model_module_version": "1.2.0",
            "_model_name": "LayoutModel",
            "_view_count": null,
            "_view_module": "@jupyter-widgets/base",
            "_view_module_version": "1.2.0",
            "_view_name": "LayoutView",
            "align_content": null,
            "align_items": null,
            "align_self": null,
            "border": null,
            "bottom": null,
            "display": null,
            "flex": null,
            "flex_flow": null,
            "grid_area": null,
            "grid_auto_columns": null,
            "grid_auto_flow": null,
            "grid_auto_rows": null,
            "grid_column": null,
            "grid_gap": null,
            "grid_row": null,
            "grid_template_areas": null,
            "grid_template_columns": null,
            "grid_template_rows": null,
            "height": null,
            "justify_content": null,
            "justify_items": null,
            "left": null,
            "margin": null,
            "max_height": null,
            "max_width": null,
            "min_height": null,
            "min_width": null,
            "object_fit": null,
            "object_position": null,
            "order": null,
            "overflow": null,
            "overflow_x": null,
            "overflow_y": null,
            "padding": null,
            "right": null,
            "top": null,
            "visibility": null,
            "width": null
          }
        },
        "491e220d837a4ec984960d48975e5c15": {
          "model_module": "@jupyter-widgets/base",
          "model_name": "LayoutModel",
          "model_module_version": "1.2.0",
          "state": {
            "_model_module": "@jupyter-widgets/base",
            "_model_module_version": "1.2.0",
            "_model_name": "LayoutModel",
            "_view_count": null,
            "_view_module": "@jupyter-widgets/base",
            "_view_module_version": "1.2.0",
            "_view_name": "LayoutView",
            "align_content": null,
            "align_items": null,
            "align_self": null,
            "border": null,
            "bottom": null,
            "display": null,
            "flex": null,
            "flex_flow": null,
            "grid_area": null,
            "grid_auto_columns": null,
            "grid_auto_flow": null,
            "grid_auto_rows": null,
            "grid_column": null,
            "grid_gap": null,
            "grid_row": null,
            "grid_template_areas": null,
            "grid_template_columns": null,
            "grid_template_rows": null,
            "height": null,
            "justify_content": null,
            "justify_items": null,
            "left": null,
            "margin": null,
            "max_height": null,
            "max_width": null,
            "min_height": null,
            "min_width": null,
            "object_fit": null,
            "object_position": null,
            "order": null,
            "overflow": null,
            "overflow_x": null,
            "overflow_y": null,
            "padding": null,
            "right": null,
            "top": null,
            "visibility": null,
            "width": null
          }
        },
        "e31679ca97bb465da728044d8478e908": {
          "model_module": "@jupyter-widgets/controls",
          "model_name": "DescriptionStyleModel",
          "model_module_version": "1.5.0",
          "state": {
            "_model_module": "@jupyter-widgets/controls",
            "_model_module_version": "1.5.0",
            "_model_name": "DescriptionStyleModel",
            "_view_count": null,
            "_view_module": "@jupyter-widgets/base",
            "_view_module_version": "1.2.0",
            "_view_name": "StyleView",
            "description_width": ""
          }
        },
        "7ef1831fc6f1419d9f75631f5607a609": {
          "model_module": "@jupyter-widgets/base",
          "model_name": "LayoutModel",
          "model_module_version": "1.2.0",
          "state": {
            "_model_module": "@jupyter-widgets/base",
            "_model_module_version": "1.2.0",
            "_model_name": "LayoutModel",
            "_view_count": null,
            "_view_module": "@jupyter-widgets/base",
            "_view_module_version": "1.2.0",
            "_view_name": "LayoutView",
            "align_content": null,
            "align_items": null,
            "align_self": null,
            "border": null,
            "bottom": null,
            "display": null,
            "flex": null,
            "flex_flow": null,
            "grid_area": null,
            "grid_auto_columns": null,
            "grid_auto_flow": null,
            "grid_auto_rows": null,
            "grid_column": null,
            "grid_gap": null,
            "grid_row": null,
            "grid_template_areas": null,
            "grid_template_columns": null,
            "grid_template_rows": null,
            "height": null,
            "justify_content": null,
            "justify_items": null,
            "left": null,
            "margin": null,
            "max_height": null,
            "max_width": null,
            "min_height": null,
            "min_width": null,
            "object_fit": null,
            "object_position": null,
            "order": null,
            "overflow": null,
            "overflow_x": null,
            "overflow_y": null,
            "padding": null,
            "right": null,
            "top": null,
            "visibility": null,
            "width": null
          }
        },
        "ff709de4d0ce4055aef2a7bf8f7e6f8e": {
          "model_module": "@jupyter-widgets/controls",
          "model_name": "ProgressStyleModel",
          "model_module_version": "1.5.0",
          "state": {
            "_model_module": "@jupyter-widgets/controls",
            "_model_module_version": "1.5.0",
            "_model_name": "ProgressStyleModel",
            "_view_count": null,
            "_view_module": "@jupyter-widgets/base",
            "_view_module_version": "1.2.0",
            "_view_name": "StyleView",
            "bar_color": null,
            "description_width": ""
          }
        }
      }
    }
  },
  "cells": [
    {
      "cell_type": "markdown",
      "metadata": {
        "id": "view-in-github",
        "colab_type": "text"
      },
      "source": [
        "<a href=\"https://colab.research.google.com/github/Krankile/npmf/blob/main/notebooks/initial_dataprocessing_stockvalue.ipynb\" target=\"_parent\"><img src=\"https://colab.research.google.com/assets/colab-badge.svg\" alt=\"Open In Colab\"/></a>"
      ]
    },
    {
      "cell_type": "markdown",
      "source": [
        "#Setup"
      ],
      "metadata": {
        "id": "d8F5tl4NL7FZ"
      }
    },
    {
      "cell_type": "markdown",
      "source": [
        "## Kernel setup"
      ],
      "metadata": {
        "id": "Rwo44VGZLhAo"
      }
    },
    {
      "cell_type": "code",
      "source": [
        "%load_ext autoreload\n",
        "%autoreload 2"
      ],
      "metadata": {
        "id": "hKuFzk7aEmB9"
      },
      "execution_count": 2,
      "outputs": []
    },
    {
      "cell_type": "code",
      "source": [
        "%%capture\n",
        "!git clone https://github.com/Krankile/npmf.git\n",
        "!pip install wandb"
      ],
      "metadata": {
        "id": "91KPY7q0LUOw"
      },
      "execution_count": 3,
      "outputs": []
    },
    {
      "cell_type": "code",
      "source": [
        "!wandb login"
      ],
      "metadata": {
        "colab": {
          "base_uri": "https://localhost:8080/"
        },
        "id": "zLr0RXyY3WaA",
        "outputId": "1e384c7f-b203-45fc-b6b7-e524438fd881"
      },
      "execution_count": 5,
      "outputs": [
        {
          "output_type": "stream",
          "name": "stdout",
          "text": [
            "\u001b[34m\u001b[1mwandb\u001b[0m: You can find your API key in your browser here: https://wandb.ai/authorize\n",
            "\u001b[34m\u001b[1mwandb\u001b[0m: Paste an API key from your profile and hit enter, or press ctrl+c to quit: \n",
            "\u001b[34m\u001b[1mwandb\u001b[0m: Appending key for api.wandb.ai to your netrc file: /root/.netrc\n"
          ]
        }
      ]
    },
    {
      "cell_type": "markdown",
      "source": [
        "## General setup"
      ],
      "metadata": {
        "id": "CLAlA0htLgMY"
      }
    },
    {
      "cell_type": "code",
      "source": [
        "%%capture\n",
        "!cd npmf && git pull\n",
        "\n",
        "import os\n",
        "from collections import defaultdict\n",
        "from collections import Counter\n",
        "from datetime import datetime\n",
        "from operator import itemgetter\n",
        "\n",
        "import numpy as np\n",
        "from numpy.ma.core import outerproduct\n",
        "import pandas as pd\n",
        "import matplotlib as mpl\n",
        "import matplotlib.pyplot as plt\n",
        "from tqdm import tqdm\n",
        "\n",
        "import wandb as wb\n",
        "\n",
        "import torch\n",
        "from torch import nn\n",
        "from torch.utils.data import DataLoader\n",
        "from torchvision import datasets, transforms\n",
        "\n",
        "from npmf.utils.colors import main, main2, main3\n",
        "from npmf.utils.eikon import column_mapping\n",
        "from npmf.utils.wandb import put_dataset, get_df_artifact\n",
        "from npmf.utils.data import test_start_pd"
      ],
      "metadata": {
        "id": "1QSlgObXLq1p"
      },
      "execution_count": 30,
      "outputs": []
    },
    {
      "cell_type": "code",
      "source": [
        "mpl.rcParams['axes.prop_cycle'] = mpl.cycler(color=[main, main2, main3, \"black\"])\n",
        "mpl.rcParams['figure.figsize'] = (6, 4)  # (6, 4) is default and used in the paper"
      ],
      "metadata": {
        "id": "hkTjKKLmLvpl"
      },
      "execution_count": 7,
      "outputs": []
    },
    {
      "cell_type": "code",
      "source": [
        "device = \"cuda\" if torch.cuda.is_available() else \"cpu\"\n",
        "print(f\"Using {device} device\")"
      ],
      "metadata": {
        "colab": {
          "base_uri": "https://localhost:8080/"
        },
        "id": "Dqy02oAvY7GM",
        "outputId": "7949da63-2e1d-4f44-9844-8aad2b7aa1bb"
      },
      "execution_count": 8,
      "outputs": [
        {
          "output_type": "stream",
          "name": "stdout",
          "text": [
            "Using cpu device\n"
          ]
        }
      ]
    },
    {
      "cell_type": "code",
      "source": [
        "np.random.seed(420)"
      ],
      "metadata": {
        "id": "YVFtfDk0pYtd"
      },
      "execution_count": 9,
      "outputs": []
    },
    {
      "cell_type": "markdown",
      "source": [
        "# Let's get the data and and check it 😂✨KAWAIII ^^✨\n",
        "\n"
      ],
      "metadata": {
        "id": "5SjJBQhRLym1"
      }
    },
    {
      "cell_type": "code",
      "source": [
        "data = get_df_artifact(\"oil-company-data:v1\", project=\"master-test\").set_index(\"Instrument\")"
      ],
      "metadata": {
        "colab": {
          "base_uri": "https://localhost:8080/",
          "height": 173,
          "referenced_widgets": [
            "ed6d05cfb53043e6938efdb3c9785abd",
            "9bc1c3c4757c48ddb97fdd7001cf10bc",
            "db7a330ddfe74dd8b5990788341be420",
            "335ef0921a764cc286a4252b81841bdd",
            "9ef5a7935dc346c8b6ce16c7a1253478",
            "806cca5c0d2c4f23a6da40297709d6b5",
            "28a40691e2034048bdcd653080a140a6",
            "8502b7c700f9471db1ac22d9b51e8999"
          ]
        },
        "id": "k_Vm1L8H4A0m",
        "outputId": "918d8723-7723-4eda-d1e9-747158712bfb"
      },
      "execution_count": 10,
      "outputs": [
        {
          "output_type": "stream",
          "name": "stderr",
          "text": [
            "\u001b[34m\u001b[1mwandb\u001b[0m: Currently logged in as: \u001b[33mkrankile\u001b[0m (use `wandb login --relogin` to force relogin)\n"
          ]
        },
        {
          "output_type": "display_data",
          "data": {
            "text/plain": [
              "<IPython.core.display.HTML object>"
            ],
            "text/html": [
              "Tracking run with wandb version 0.12.15"
            ]
          },
          "metadata": {}
        },
        {
          "output_type": "display_data",
          "data": {
            "text/plain": [
              "<IPython.core.display.HTML object>"
            ],
            "text/html": [
              "Run data is saved locally in <code>/content/wandb/run-20220502_132828-27ltrs2k</code>"
            ]
          },
          "metadata": {}
        },
        {
          "output_type": "display_data",
          "data": {
            "text/plain": [
              "<IPython.core.display.HTML object>"
            ],
            "text/html": [
              "Syncing run <strong><a href=\"https://wandb.ai/krankile/master-test/runs/27ltrs2k\" target=\"_blank\">absurd-flower-85</a></strong> to <a href=\"https://wandb.ai/krankile/master-test\" target=\"_blank\">Weights & Biases</a> (<a href=\"https://wandb.me/run\" target=\"_blank\">docs</a>)<br/>"
            ]
          },
          "metadata": {}
        },
        {
          "output_type": "stream",
          "name": "stderr",
          "text": [
            "\u001b[34m\u001b[1mwandb\u001b[0m: Downloading large artifact oil-company-data:v1, 461.61MB. 1 files... Done. 0:0:0\n"
          ]
        },
        {
          "output_type": "display_data",
          "data": {
            "text/plain": [
              "<IPython.core.display.HTML object>"
            ],
            "text/html": [
              "Waiting for W&B process to finish... <strong style=\"color:green\">(success).</strong>"
            ]
          },
          "metadata": {}
        },
        {
          "output_type": "display_data",
          "data": {
            "text/plain": [
              "VBox(children=(Label(value='0.001 MB of 0.001 MB uploaded (0.000 MB deduped)\\r'), FloatProgress(value=1.0, max…"
            ],
            "application/vnd.jupyter.widget-view+json": {
              "version_major": 2,
              "version_minor": 0,
              "model_id": "ed6d05cfb53043e6938efdb3c9785abd"
            }
          },
          "metadata": {}
        },
        {
          "output_type": "display_data",
          "data": {
            "text/plain": [
              "<IPython.core.display.HTML object>"
            ],
            "text/html": [
              "Synced <strong style=\"color:#cdcd00\">absurd-flower-85</strong>: <a href=\"https://wandb.ai/krankile/master-test/runs/27ltrs2k\" target=\"_blank\">https://wandb.ai/krankile/master-test/runs/27ltrs2k</a><br/>Synced 5 W&B file(s), 0 media file(s), 0 artifact file(s) and 0 other file(s)"
            ]
          },
          "metadata": {}
        },
        {
          "output_type": "display_data",
          "data": {
            "text/plain": [
              "<IPython.core.display.HTML object>"
            ],
            "text/html": [
              "Find logs at: <code>./wandb/run-20220502_132828-27ltrs2k/logs</code>"
            ]
          },
          "metadata": {}
        }
      ]
    },
    {
      "cell_type": "code",
      "source": [
        "data = data[~(data.Date == \"\")].astype({\"Date\": np.datetime64})\n",
        "data"
      ],
      "metadata": {
        "colab": {
          "base_uri": "https://localhost:8080/",
          "height": 455
        },
        "id": "uyMibnZgvgXv",
        "outputId": "90bb4031-9c66-496e-db6f-85686e260e26"
      },
      "execution_count": 11,
      "outputs": [
        {
          "output_type": "execute_result",
          "data": {
            "text/plain": [
              "                 Date  Company Market Cap  Price Close Currency\n",
              "Instrument                                                     \n",
              "GGX.AX     2005-05-13      4510832.105479     0.116764      USD\n",
              "GGX.AX     2005-05-16      4486502.643904     0.116764      USD\n",
              "GGX.AX     2005-05-17      4483522.209137     0.116057      USD\n",
              "GGX.AX     2005-05-18       4519172.59536     0.116057      USD\n",
              "GGX.AX     2005-05-19      3827143.993207     0.099066      USD\n",
              "...               ...                 ...          ...      ...\n",
              "AEC.V      2022-04-14     43250854.906096      0.10716      USD\n",
              "AEC.V      2022-04-18     43082857.134364     0.107015      USD\n",
              "AEC.V      2022-04-19     43079442.196417     0.107015      USD\n",
              "AEC.V      2022-04-20     43486177.208353     0.107015      USD\n",
              "AEC.V      2022-04-21     35207815.352202     0.087454      USD\n",
              "\n",
              "[6230549 rows x 4 columns]"
            ],
            "text/html": [
              "\n",
              "  <div id=\"df-a992c850-92f7-4bab-99dc-7dbb91910c21\">\n",
              "    <div class=\"colab-df-container\">\n",
              "      <div>\n",
              "<style scoped>\n",
              "    .dataframe tbody tr th:only-of-type {\n",
              "        vertical-align: middle;\n",
              "    }\n",
              "\n",
              "    .dataframe tbody tr th {\n",
              "        vertical-align: top;\n",
              "    }\n",
              "\n",
              "    .dataframe thead th {\n",
              "        text-align: right;\n",
              "    }\n",
              "</style>\n",
              "<table border=\"1\" class=\"dataframe\">\n",
              "  <thead>\n",
              "    <tr style=\"text-align: right;\">\n",
              "      <th></th>\n",
              "      <th>Date</th>\n",
              "      <th>Company Market Cap</th>\n",
              "      <th>Price Close</th>\n",
              "      <th>Currency</th>\n",
              "    </tr>\n",
              "    <tr>\n",
              "      <th>Instrument</th>\n",
              "      <th></th>\n",
              "      <th></th>\n",
              "      <th></th>\n",
              "      <th></th>\n",
              "    </tr>\n",
              "  </thead>\n",
              "  <tbody>\n",
              "    <tr>\n",
              "      <th>GGX.AX</th>\n",
              "      <td>2005-05-13</td>\n",
              "      <td>4510832.105479</td>\n",
              "      <td>0.116764</td>\n",
              "      <td>USD</td>\n",
              "    </tr>\n",
              "    <tr>\n",
              "      <th>GGX.AX</th>\n",
              "      <td>2005-05-16</td>\n",
              "      <td>4486502.643904</td>\n",
              "      <td>0.116764</td>\n",
              "      <td>USD</td>\n",
              "    </tr>\n",
              "    <tr>\n",
              "      <th>GGX.AX</th>\n",
              "      <td>2005-05-17</td>\n",
              "      <td>4483522.209137</td>\n",
              "      <td>0.116057</td>\n",
              "      <td>USD</td>\n",
              "    </tr>\n",
              "    <tr>\n",
              "      <th>GGX.AX</th>\n",
              "      <td>2005-05-18</td>\n",
              "      <td>4519172.59536</td>\n",
              "      <td>0.116057</td>\n",
              "      <td>USD</td>\n",
              "    </tr>\n",
              "    <tr>\n",
              "      <th>GGX.AX</th>\n",
              "      <td>2005-05-19</td>\n",
              "      <td>3827143.993207</td>\n",
              "      <td>0.099066</td>\n",
              "      <td>USD</td>\n",
              "    </tr>\n",
              "    <tr>\n",
              "      <th>...</th>\n",
              "      <td>...</td>\n",
              "      <td>...</td>\n",
              "      <td>...</td>\n",
              "      <td>...</td>\n",
              "    </tr>\n",
              "    <tr>\n",
              "      <th>AEC.V</th>\n",
              "      <td>2022-04-14</td>\n",
              "      <td>43250854.906096</td>\n",
              "      <td>0.10716</td>\n",
              "      <td>USD</td>\n",
              "    </tr>\n",
              "    <tr>\n",
              "      <th>AEC.V</th>\n",
              "      <td>2022-04-18</td>\n",
              "      <td>43082857.134364</td>\n",
              "      <td>0.107015</td>\n",
              "      <td>USD</td>\n",
              "    </tr>\n",
              "    <tr>\n",
              "      <th>AEC.V</th>\n",
              "      <td>2022-04-19</td>\n",
              "      <td>43079442.196417</td>\n",
              "      <td>0.107015</td>\n",
              "      <td>USD</td>\n",
              "    </tr>\n",
              "    <tr>\n",
              "      <th>AEC.V</th>\n",
              "      <td>2022-04-20</td>\n",
              "      <td>43486177.208353</td>\n",
              "      <td>0.107015</td>\n",
              "      <td>USD</td>\n",
              "    </tr>\n",
              "    <tr>\n",
              "      <th>AEC.V</th>\n",
              "      <td>2022-04-21</td>\n",
              "      <td>35207815.352202</td>\n",
              "      <td>0.087454</td>\n",
              "      <td>USD</td>\n",
              "    </tr>\n",
              "  </tbody>\n",
              "</table>\n",
              "<p>6230549 rows × 4 columns</p>\n",
              "</div>\n",
              "      <button class=\"colab-df-convert\" onclick=\"convertToInteractive('df-a992c850-92f7-4bab-99dc-7dbb91910c21')\"\n",
              "              title=\"Convert this dataframe to an interactive table.\"\n",
              "              style=\"display:none;\">\n",
              "        \n",
              "  <svg xmlns=\"http://www.w3.org/2000/svg\" height=\"24px\"viewBox=\"0 0 24 24\"\n",
              "       width=\"24px\">\n",
              "    <path d=\"M0 0h24v24H0V0z\" fill=\"none\"/>\n",
              "    <path d=\"M18.56 5.44l.94 2.06.94-2.06 2.06-.94-2.06-.94-.94-2.06-.94 2.06-2.06.94zm-11 1L8.5 8.5l.94-2.06 2.06-.94-2.06-.94L8.5 2.5l-.94 2.06-2.06.94zm10 10l.94 2.06.94-2.06 2.06-.94-2.06-.94-.94-2.06-.94 2.06-2.06.94z\"/><path d=\"M17.41 7.96l-1.37-1.37c-.4-.4-.92-.59-1.43-.59-.52 0-1.04.2-1.43.59L10.3 9.45l-7.72 7.72c-.78.78-.78 2.05 0 2.83L4 21.41c.39.39.9.59 1.41.59.51 0 1.02-.2 1.41-.59l7.78-7.78 2.81-2.81c.8-.78.8-2.07 0-2.86zM5.41 20L4 18.59l7.72-7.72 1.47 1.35L5.41 20z\"/>\n",
              "  </svg>\n",
              "      </button>\n",
              "      \n",
              "  <style>\n",
              "    .colab-df-container {\n",
              "      display:flex;\n",
              "      flex-wrap:wrap;\n",
              "      gap: 12px;\n",
              "    }\n",
              "\n",
              "    .colab-df-convert {\n",
              "      background-color: #E8F0FE;\n",
              "      border: none;\n",
              "      border-radius: 50%;\n",
              "      cursor: pointer;\n",
              "      display: none;\n",
              "      fill: #1967D2;\n",
              "      height: 32px;\n",
              "      padding: 0 0 0 0;\n",
              "      width: 32px;\n",
              "    }\n",
              "\n",
              "    .colab-df-convert:hover {\n",
              "      background-color: #E2EBFA;\n",
              "      box-shadow: 0px 1px 2px rgba(60, 64, 67, 0.3), 0px 1px 3px 1px rgba(60, 64, 67, 0.15);\n",
              "      fill: #174EA6;\n",
              "    }\n",
              "\n",
              "    [theme=dark] .colab-df-convert {\n",
              "      background-color: #3B4455;\n",
              "      fill: #D2E3FC;\n",
              "    }\n",
              "\n",
              "    [theme=dark] .colab-df-convert:hover {\n",
              "      background-color: #434B5C;\n",
              "      box-shadow: 0px 1px 3px 1px rgba(0, 0, 0, 0.15);\n",
              "      filter: drop-shadow(0px 1px 2px rgba(0, 0, 0, 0.3));\n",
              "      fill: #FFFFFF;\n",
              "    }\n",
              "  </style>\n",
              "\n",
              "      <script>\n",
              "        const buttonEl =\n",
              "          document.querySelector('#df-a992c850-92f7-4bab-99dc-7dbb91910c21 button.colab-df-convert');\n",
              "        buttonEl.style.display =\n",
              "          google.colab.kernel.accessAllowed ? 'block' : 'none';\n",
              "\n",
              "        async function convertToInteractive(key) {\n",
              "          const element = document.querySelector('#df-a992c850-92f7-4bab-99dc-7dbb91910c21');\n",
              "          const dataTable =\n",
              "            await google.colab.kernel.invokeFunction('convertToInteractive',\n",
              "                                                     [key], {});\n",
              "          if (!dataTable) return;\n",
              "\n",
              "          const docLinkHtml = 'Like what you see? Visit the ' +\n",
              "            '<a target=\"_blank\" href=https://colab.research.google.com/notebooks/data_table.ipynb>data table notebook</a>'\n",
              "            + ' to learn more about interactive tables.';\n",
              "          element.innerHTML = '';\n",
              "          dataTable['output_type'] = 'display_data';\n",
              "          await google.colab.output.renderOutput(dataTable, element);\n",
              "          const docLink = document.createElement('div');\n",
              "          docLink.innerHTML = docLinkHtml;\n",
              "          element.appendChild(docLink);\n",
              "        }\n",
              "      </script>\n",
              "    </div>\n",
              "  </div>\n",
              "  "
            ]
          },
          "metadata": {},
          "execution_count": 11
        }
      ]
    },
    {
      "cell_type": "markdown",
      "source": [
        "## Number of unique companies"
      ],
      "metadata": {
        "id": "d4elNYJVk-LL"
      }
    },
    {
      "cell_type": "code",
      "source": [
        "tickers = data[~data[\"Company Market Cap\"].isna()].index.unique()\n",
        "\n",
        "print(f\"{tickers.shape[0]} unique companies in the set\")"
      ],
      "metadata": {
        "colab": {
          "base_uri": "https://localhost:8080/"
        },
        "id": "keZlJXjC_j4J",
        "outputId": "47a783ed-a58d-43ec-ba15-2e0af72aae7f"
      },
      "execution_count": 12,
      "outputs": [
        {
          "output_type": "stream",
          "name": "stdout",
          "text": [
            "1697 unique companies in the set\n"
          ]
        }
      ]
    },
    {
      "cell_type": "markdown",
      "source": [
        "## Number of datapoints for the market cap"
      ],
      "metadata": {
        "id": "s5TTq3INlLxb"
      }
    },
    {
      "cell_type": "code",
      "source": [
        "marketcaps = data.shape[0]\n",
        "print(f\"There is a total of {marketcaps} datapoints in the dataset\")\n",
        "\n",
        "marketcaps = data[~data[\"Company Market Cap\"].isna()].shape[0]\n",
        "print(f\"There is a total of {marketcaps} datapoints in the dataset that are not NAs\")"
      ],
      "metadata": {
        "colab": {
          "base_uri": "https://localhost:8080/"
        },
        "id": "3pFT5iSjCS5L",
        "outputId": "258a93ce-0f9b-44da-eb48-3d76f833fe21"
      },
      "execution_count": 13,
      "outputs": [
        {
          "output_type": "stream",
          "name": "stdout",
          "text": [
            "There is a total of 6230549 datapoints in the dataset\n",
            "There is a total of 6117652 datapoints in the dataset that are not NAs\n"
          ]
        }
      ]
    },
    {
      "cell_type": "markdown",
      "source": [
        "# Start process of sorting out data\n",
        "\n",
        "First, cut of leading and trailing NAs for all companies."
      ],
      "metadata": {
        "id": "KYS2wHRVmhHd"
      }
    },
    {
      "cell_type": "markdown",
      "source": [
        "## Remove leading and trailing NAs"
      ],
      "metadata": {
        "id": "n2Dga0OAp2ny"
      }
    },
    {
      "cell_type": "code",
      "source": [
        "stripped = []\n",
        "points_stripped = 0\n",
        "\n",
        "for ticker in tqdm(tickers):\n",
        "    d = data.loc[ticker, ]\n",
        "    start = 0\n",
        "    end = d.shape[0]\n",
        "\n",
        "    # Start at the beginning and find first real value\n",
        "    for i, val in enumerate(d[\"Company Market Cap\"]):\n",
        "        if not pd.isna(val):\n",
        "            start = i\n",
        "            break\n",
        "    points_stripped += i\n",
        "\n",
        "    for i, val in enumerate(d[\"Company Market Cap\"][::-1]):\n",
        "        if not pd.isna(val):\n",
        "            end -= i\n",
        "            break\n",
        "    points_stripped += i\n",
        "\n",
        "    stripped.append(d.iloc[start:end, ])\n",
        "\n",
        "stripped = pd.concat(stripped, axis=0)\n",
        "\n",
        "print(f\"Total of {stripped.shape[0]} datapoints after stripping\")"
      ],
      "metadata": {
        "colab": {
          "base_uri": "https://localhost:8080/"
        },
        "id": "Pyzjk2bMqJON",
        "outputId": "c220aba0-c6fc-4d62-e5e6-be9a964bd701"
      },
      "execution_count": 14,
      "outputs": [
        {
          "output_type": "stream",
          "name": "stderr",
          "text": [
            "100%|██████████| 1697/1697 [03:37<00:00,  7.81it/s]\n"
          ]
        },
        {
          "output_type": "stream",
          "name": "stdout",
          "text": [
            "Total of 6169474 datapoints after stripping\n"
          ]
        }
      ]
    },
    {
      "cell_type": "markdown",
      "source": [
        "Then, consider different strategies for sorting out companies. For example\n",
        "\n",
        "1.   Make sure companies have less than $p$% NAs for all quarters\n",
        "2.   Take out companies where each string of missing values are longer than $n$"
      ],
      "metadata": {
        "id": "_8fFG3PhsMYu"
      }
    },
    {
      "cell_type": "markdown",
      "source": [
        "## Remove companies with long streaks of NAs"
      ],
      "metadata": {
        "id": "amHHuADW3NIU"
      }
    },
    {
      "cell_type": "code",
      "source": [
        "def na_streak_maxlen(ser):\n",
        "\n",
        "    longest = 0\n",
        "    curr = 0\n",
        "\n",
        "    for val in ser:\n",
        "        if not pd.isna(val):\n",
        "            curr = 0\n",
        "            continue\n",
        "        \n",
        "        curr += 1\n",
        "\n",
        "        if curr > longest:\n",
        "            longest = curr\n",
        "\n",
        "    return longest"
      ],
      "metadata": {
        "id": "-fIRPkJ_3Xnk"
      },
      "execution_count": 15,
      "outputs": []
    },
    {
      "cell_type": "code",
      "source": [
        "s = pd.Series([1, 2, 3, pd.NA, pd.NA, pd.NA, 1, pd.NA, pd.NA, 5, 6, 7])\n",
        "na_streak_maxlen(s)"
      ],
      "metadata": {
        "colab": {
          "base_uri": "https://localhost:8080/"
        },
        "id": "BpC4teFKD387",
        "outputId": "6e2f127a-9401-4343-9f8c-93e245be51d7"
      },
      "execution_count": 16,
      "outputs": [
        {
          "output_type": "execute_result",
          "data": {
            "text/plain": [
              "3"
            ]
          },
          "metadata": {},
          "execution_count": 16
        }
      ]
    },
    {
      "cell_type": "code",
      "source": [
        "longest_gap = dict()\n",
        "\n",
        "for ticker in tqdm(tickers):\n",
        "    longest_gap[ticker] = na_streak_maxlen(stripped.loc[ticker, \"Company Market Cap\"])"
      ],
      "metadata": {
        "colab": {
          "base_uri": "https://localhost:8080/"
        },
        "id": "NcpUbqnL4ExV",
        "outputId": "776faf58-cfbd-4009-a96e-da4cee6e3f58"
      },
      "execution_count": 17,
      "outputs": [
        {
          "output_type": "stream",
          "name": "stderr",
          "text": [
            "100%|██████████| 1697/1697 [03:37<00:00,  7.81it/s]\n"
          ]
        }
      ]
    },
    {
      "cell_type": "code",
      "source": [
        "counts = stripped.reset_index().groupby(\"Instrument\").count()\n",
        "points = dict(zip(counts.index, counts[\"Company Market Cap\"]))"
      ],
      "metadata": {
        "id": "0Mrn9SfPKSiO"
      },
      "execution_count": 18,
      "outputs": []
    },
    {
      "cell_type": "code",
      "source": [
        "ks = sorted(set(longest_gap.values()))\n",
        "\n",
        "runtot_comp = 0\n",
        "runtot_data = 0\n",
        "left = set(tickers)\n",
        "\n",
        "companies = []\n",
        "datapoints = []\n",
        "\n",
        "for k in tqdm(ks):\n",
        "    for ticker in left.copy():\n",
        "        if longest_gap[ticker] <= k:\n",
        "            runtot_comp += 1\n",
        "            runtot_data += points[ticker]\n",
        "            left.remove(ticker)\n",
        "\n",
        "    companies.append(runtot_comp)\n",
        "    datapoints.append(runtot_data)"
      ],
      "metadata": {
        "colab": {
          "base_uri": "https://localhost:8080/"
        },
        "id": "xa02pJMSGDU9",
        "outputId": "3c590b53-0a59-4fff-f0dc-19b0b1194cb6"
      },
      "execution_count": 19,
      "outputs": [
        {
          "output_type": "stream",
          "name": "stderr",
          "text": [
            "100%|██████████| 102/102 [00:00<00:00, 18054.48it/s]\n"
          ]
        }
      ]
    },
    {
      "cell_type": "code",
      "source": [
        "np.array(datapoints) / sum(points.values())"
      ],
      "metadata": {
        "colab": {
          "base_uri": "https://localhost:8080/"
        },
        "id": "-WF5KO2nORMd",
        "outputId": "b1f7a001-1a25-48d1-e8e2-0bcbe9699051"
      },
      "execution_count": 20,
      "outputs": [
        {
          "output_type": "execute_result",
          "data": {
            "text/plain": [
              "array([0.93656946, 0.93749301, 0.9383538 , 0.93927703, 0.93954053,\n",
              "       0.94042077, 0.9413422 , 0.94193328, 0.94264384, 0.94340361,\n",
              "       0.94382355, 0.94470509, 0.94504264, 0.94561083, 0.94619815,\n",
              "       0.94680639, 0.94729089, 0.94797367, 0.94851195, 0.94911005,\n",
              "       0.94945299, 0.95030659, 0.95057205, 0.95112112, 0.9514567 ,\n",
              "       0.95209486, 0.95299504, 0.95389506, 0.95561189, 0.95626868,\n",
              "       0.95691321, 0.95824934, 0.95875051, 0.95961294, 0.95981579,\n",
              "       0.96045705, 0.96062362, 0.96143994, 0.96233228, 0.96309761,\n",
              "       0.96395186, 0.96481117, 0.96537152, 0.96623067, 0.96667251,\n",
              "       0.96720556, 0.96814366, 0.96884262, 0.96968249, 0.97053428,\n",
              "       0.97115985, 0.9728914 , 0.97365166, 0.97453386, 0.97504206,\n",
              "       0.97568217, 0.97647235, 0.97686547, 0.97724944, 0.9776169 ,\n",
              "       0.97848325, 0.9789192 , 0.9794735 , 0.97971885, 0.98054907,\n",
              "       0.98106332, 0.98156106, 0.98196628, 0.98258155, 0.98336911,\n",
              "       0.98350871, 0.98393272, 0.98474317, 0.98555214, 0.98614763,\n",
              "       0.98734596, 0.98790222, 0.98871168, 0.98924914, 0.99004847,\n",
              "       0.9908442 , 0.99116622, 0.99133916, 0.9915837 , 0.99222954,\n",
              "       0.99244449, 0.99321962, 0.99363154, 0.99374155, 0.994509  ,\n",
              "       0.99527073, 0.99570325, 0.99602871, 0.99643164, 0.99662812,\n",
              "       0.99720023, 0.99787582, 0.99835966, 0.99854013, 0.99919315,\n",
              "       0.99971067, 1.        ])"
            ]
          },
          "metadata": {},
          "execution_count": 20
        }
      ]
    },
    {
      "cell_type": "code",
      "source": [
        "total_comp = stripped.index.unique().shape[0]\n",
        "total_points = sum(points.values())\n",
        "\n",
        "c = np.array(companies) / total_comp\n",
        "d = np.array(datapoints) / total_points\n",
        "\n",
        "plt.plot(ks, c, label=\"% of companies\")\n",
        "plt.plot(ks, d, label=\"% of datapoints\")\n",
        "\n",
        "plt.xscale(\"log\")\n",
        "plt.ylim(bottom=0.9)\n",
        "plt.xlim(right=100)\n",
        "plt.xlabel(\"Longest run of consecutive missing values\")\n",
        "plt.ylabel(\"Share of total\")\n",
        "plt.axhline(y=0.94042077, color=\"gray\", linestyle=\"-.\")\n",
        "plt.axvline(x=5, color=\"gray\", linestyle=\"-.\")\n",
        "plt.legend(frameon=False);"
      ],
      "metadata": {
        "colab": {
          "base_uri": "https://localhost:8080/",
          "height": 283
        },
        "id": "xl6hqm2z8o88",
        "outputId": "90fdfd1b-042f-4db9-dc34-07716fd8df31"
      },
      "execution_count": 21,
      "outputs": [
        {
          "output_type": "display_data",
          "data": {
            "text/plain": [
              "<Figure size 432x288 with 1 Axes>"
            ],
            "image/png": "[encoded data removed]"
          },
          "metadata": {
            "needs_background": "light"
          }
        }
      ]
    },
    {
      "cell_type": "markdown",
      "source": [
        "### Find all tickers where the gaps are shorther than or equal to 5 points"
      ],
      "metadata": {
        "id": "MwFx_cfhlKx3"
      }
    },
    {
      "cell_type": "code",
      "source": [
        "longest_gap.items()"
      ],
      "metadata": {
        "colab": {
          "base_uri": "https://localhost:8080/"
        },
        "id": "8H4QJEqMn2EL",
        "outputId": "4a030f95-37ca-4866-b554-85b7338fc5df"
      },
      "execution_count": 22,
      "outputs": [
        {
          "output_type": "execute_result",
          "data": {
            "text/plain": [
              "dict_items([('GGX.AX', 0), ('AUSG.SI', 0), ('TNEN.PK', 0), ('CARM.KL', 0), ('6477.TW', 0), ('000968.SZ', 0), ('NEL.OL', 0), ('MTR.N', 0), ('MET.V', 0), ('INDY.JK', 0), ('HFC.HNO', 59), ('SZR.WA', 0), ('VMY.AX', 0), ('PIPE.TO', 0), ('OIL.CD', 0), ('WHD.N', 0), ('137950.KQ', 0), ('YITD.PK', 0), ('EFR.TO', 0), ('PPIH.OQ', 0), ('XL.V', 0), ('MUR.N', 0), ('NBR.N', 0), ('5015.T', 0), ('FPI.PS', 155), ('CEI.A', 0), ('NESTE.HE', 0), ('ROCOTN.BX', 0), ('FOSP.BX', 440), ('AGE.BK', 0), ('OANDO.LG', 0), ('PFC.L', 0), ('VLLP.PA', 0), ('BISI.L', 0), ('601798.SS', 0), ('CLC.WA', 0), ('IPEKE.IS', 0), ('PHEG.L', 0), ('APLP.TA', 0), ('000096.SZ', 0), ('SHE.AX', 428), ('TRXO.PK', 0), ('RAKP.OL', 0), ('603637.SS', 0), ('MG.N', 0), ('CHARC.L', 0), ('JGH.AX', 510), ('NC.N', 0), ('NR.N', 0), ('RVTI.PK', 0), ('PMG.HM', 0), ('BOSS.JK', 0), ('QGTS.QA', 0), ('PNE.TO', 0), ('BKEP.OQ', 0), ('KEY.AX', 0), ('BMN.AX', 0), ('MEG.TO', 0), ('TVK.TO', 0), ('JSKY.JK', 0), ('AAKA.NS', 0), ('ESI.TO', 0), ('OII.N', 0), ('OKE.N', 0), ('EASG.BO', 0), ('ALW.MI', 0), ('ADRO.JK', 0), ('TTG.V', 0), ('2012.HK', 0), ('MFGS.MM', 0), ('000983.SZ', 0), ('000985.SZ', 0), ('PMX.V', 0), ('OUTB.PK', 0), ('OSG.N', 14), ('POG.V', 0), ('LOIL.BEL', 739), ('MOX.V', 0), ('PTRD.KL', 208), ('002623.SZ', 0), ('PSSS.PK', 0), ('PKDC.PK', 0), ('GLV.AX', 0), ('BYE.AX', 0), ('7441.FU', 0), ('EP.A', 0), ('1516.TW', 0), ('GERS.PK', 0), ('GEI.TO', 0), ('PVL.N', 0), ('STRA.KL', 0), ('BEEM.OQ', 0), ('CMV.HM', 0), ('SQZ.L', 0), ('CHY.V', 0), ('ROCC.OQ', 3), ('WUC.CD', 0), ('INDII.L', 0), ('SAVOS.ST', 0), ('TUSK.OQ', 0), ('PET.L', 0), ('EZHL.SI', 0), ('OBE.TO', 0), ('PBT.N', 0), ('SOU.L', 0), ('TGLO.KL', 0), ('BSTH.L', 0), ('ALNG.OL', 0), ('RECV3.SA', 0), ('NTGAZ.IS', 0), ('CWV.V', 0), ('2178.HK', 0), ('PCO.V', 0), ('RUNh.V', 0), ('AOC.CD', 0), ('GEOS.OL', 0), ('EFX.TO', 0), ('ABMM.JK', 0), ('HIBI.KL', 0), ('NDRL.CA', 0), ('JBR.CD', 181), ('INTR.DH', 0), ('VIHD.PK', 0), ('BP.L', 0), ('PRDP.L', 0), ('CHX.OQ', 0), ('FEDL.SI', 0), ('BENh.V', 145), ('PD.TO', 0), ('HBR.L', 0), ('GUJM.BO', 0), ('ENER.KW', 0), ('SETG.BU', 0), ('0968.HK', 0), ('601088.SS', 0), ('TAGP.PK', 129), ('GCEH.PK', 0), ('1229.HK', 0), ('CIVI.N', 0), ('AVN.V', 0), ('PNRG.OQ', 0), ('RES.N', 0), ('000159.SZ', 0), ('CWC.V', 0), ('CNE.L', 0), ('ZEU.AX', 0), ('TMK.AX', 0), ('UHO.V', 67), ('MLBSP.EUA', 0), ('2798.HK', 0), ('PRT.N', 0), ('EMEL.L', 0), ('GPIK.KW', 0), ('BWTX.PK', 0), ('LCNTU.PK', 0), ('PPL.TO', 0), ('ATLA.CO', 0), ('DIGh.V', 0), ('SKK.V', 0), ('600028.SS', 0), ('TRKX.PK', 0), ('MGAG.PK', 0), ('HLHL.SI', 0), ('MCHL.SI', 0), ('BNE.TO', 0), ('SBR.N', 0), ('ICON.KL', 0), ('AKTa.TO', 0), ('600856.SS', 0), ('SGREN.MC', 0), ('8927.TWO', 0), ('TPNR.ZA', 0), ('MRGE.PK', 0), ('VEER.BO', 0), ('CTA.V', 0), ('FIND.V', 0), ('VVO.L', 0), ('POU.TO', 0), ('GENL.L', 0), ('KKO.AX', 319), ('MPIR.PK', 0), ('POGS.PK', 0), ('RSRV.PK', 0), ('UOS.L', 0), ('SNV.V', 0), ('MOLI.JK', 0), ('TRIN.L', 0), ('VIN.CD', 236), ('PTTEP.BK', 0), ('STNG.N', 0), ('SOOR.KW', 0), ('UZMA.KL', 0), ('IPO.TO', 0), ('BRLL.PK', 0), ('2686.HK', 0), ('SJT.N', 0), ('FO.V', 0), ('CLON.L', 0), ('BLOE.L', 0), ('ARAX.BX', 0), ('2728.HK', 0), ('DAYA.KL', 0), ('PRPS.PK', 0), ('TITA.DH', 0), ('SWN.N', 0), ('SRI.V', 0), ('NTQ.L', 0), ('SDI.V', 0), ('DOP.HNO', 0), ('CLEP.WA', 0), ('MONI.PK', 0), ('1205.HK', 0), ('600290.SS', 0), ('NS.N', 0), ('SU.TO', 0), ('SBOW.N', 1), ('SDRL.OL', 0), ('GIII.V', 734), ('CNFI.BO', 0), ('JIYA.NS', 0), ('PSH.V', 0), ('TTI.N', 0), ('1103.HK', 0), ('TELI.BO', 0), ('IKW.AX', 0), ('CRWEN.NGM', 0), ('VIKO.SI', 224), ('AOIXD.PK', 2120), ('PHL.CY', 0), ('8111.HK', 0), ('INSO.PK', 0), ('DPDW.PK', 0), ('JANF.ZA', 0), ('ICN.AX', 0), ('KEI.TO', 0), ('SNRY.PK', 0), ('FOJE.BX', 0), ('ARII.JK', 0), ('PVP.HNO', 0), ('GPP.OQ', 0), ('BSM.N', 0), ('GREP.WA', 191), ('002629.SZ', 0), ('SENX.L', 0), ('OET.OL', 0), ('TDW.N', 0), ('AZR.V', 0), ('UNTC.PK', 0), ('VET.TO', 0), ('HRST.PK', 0), ('YCA.L', 0), ('CWPE.PK', 0), ('USEG.OQ', 0), ('EGY.N', 0), ('TGRO.PK', 0), ('CAF.V', 0), ('DHPF.BO', 0), ('SLGJ.J', 0), ('AMI.V', 0), ('TOEN.TA', 0), ('FESTI.IC', 0), ('BRU.AX', 0), ('PSUR.BA', 0), ('STPIL.TN', 0), ('IGAS.L', 0), ('SUZL.NS', 0), ('WEE.V', 108), ('WLL.N', 0), ('VLE.TO', 0), ('OIS.N', 0), ('DBRM.PK', 0), ('SUNU.BO', 1471), ('SCNG.PK', 0), ('HWO.TO', 0), ('002610.SZ', 0), ('SAEN.KL', 0), ('CPLP.OQ', 0), ('ROG.AX', 0), ('ALENE.PA', 0), ('WEII.V', 359), ('QFUEL.OL', 0), ('SMHI.N', 0), ('NHOA.PA', 0), ('KUB.V', 0), ('NFTA.TA', 0), ('MMMW.PK', 0), ('MMP.N', 0), ('VJGZ.MM', 0), ('SAMY.BO', 1391), ('RZE.V', 116), ('1296.HK', 0), ('VEA.AX', 0), ('TRC.V', 0), ('RCON.OQ', 0), ('MEPET.IS', 0), ('SRLP.N', 0), ('TIG.AX', 0), ('CGEI.PK', 0), ('BBLS.PK', 0), ('PPR.TO', 0), ('600938.SS', 0), ('SIOFF.OL', 0), ('EMEG.BO', 0), ('MRCT.NS', 0), ('SEAM.NS', 0), ('WMB.N', 0), ('600871.SS', 0), ('MJLB.DH', 0), ('300274.SZ', 0), ('SMRU.JK', 0), ('GEOS.OQ', 0), ('AM.N', 0), ('CJ.TO', 0), ('EGH.WA', 0), ('1514.T', 0), ('EME.AX', 0), ('RKH.L', 0), ('ZEST.OQ', 0), ('BSR.HNO', 0), ('BLDP.TO', 0), ('1662.T', 0), ('NOA.TO', 0), ('CBLU.V', 0), ('URC.V', 0), ('AKRA.JK', 0), ('FSY.TO', 0), ('SAE.L', 0), ('SWC.HNO', 0), ('ABAN.NS', 0), ('AEGS.NS', 0), ('CSM.TO', 0), ('REY.AX', 0), ('ARACA.NFF', 0), ('GSFI.PK', 0), ('PVY.HNO', 0), ('MERUS.HE', 0), ('VUI.V', 0), ('RENER.MI', 0), ('GRN.TO', 0), ('KLXE.OQ', 0), ('SLEN.L', 0), ('TRGP.N', 0), ('SELA.NS', 0), ('WESL.NS', 0), ('AFEN.L', 0), ('AMNX.L', 0), ('NXE.TO', 0), ('VEN.AX', 0), ('RTLR.OQ', 0), ('BIR.TO', 0), ('WNDW.PK', 0), ('EXTN.N', 0), ('SPI.OQ', 0), ('GWTI.PK', 0), ('WCP.TO', 0), ('ETRN.N', 0), ('CRC.HM', 0), ('GLL.AX', 0), ('EMP.AX', 904), ('603906.SS', 0), ('5021.T', 0), ('CALS.BO', 0), ('GAGA.BO', 0), ('GAZP.MM', 0), ('CEN.V', 0), ('ALV.V', 0), ('HTG.L', 0), ('PARR.N', 0), ('MSGP.PK', 0), ('COTE.BX', 0), ('SANI.BO', 0), ('EQTE.L', 0), ('MVB.HN', 0), ('BLMC.PK', 0), ('STER.BO', 0), ('BANPU.BK', 0), ('BPT.AX', 0), ('GREG.MC', 0), ('PDCE.OQ', 0), ('WAGA.PA', 0), ('TMB.HN', 0), ('ONDP.WA', 0), ('PXT.TO', 0), ('QEM.AX', 0), ('MR1.AX', 0), ('CISH.ST', 0), ('SNGS.MM', 0), ('INPL.BO', 0), ('RHPG.SI', 0), ('SFL.N', 0), ('ANHL.SI', 0), ('AGGI.PK', 0), ('0346.HK', 0), ('LPI.N', 0), ('601225.SS', 0), ('VGREF.PK', 180), ('RAIZ4.SA', 0), ('USAC.N', 0), ('SPRC.BK', 0), ('SRSG.PK', 0), ('CCLP.OQ', 0), ('SENE.KW', 0), ('TK.N', 0), ('BSC.PS', 0), ('CCORb.ST', 0), ('BTE.TO', 0), ('CHNR.OQ', 0), ('601028.SS', 0), ('ADL.MNE', 0), ('KOPI.JK', 282), ('SGQ.TO', 0), ('ENX.AX', 0), ('600381.SS', 0), ('MMEX.PK', 0), ('HXPN.PK', 0), ('ENGN.BT', 0), ('CTPT.BO', 1529), ('COPEC.SN', 0), ('UKUZ.MM', 839), ('038870.KQ', 0), ('ZEL.NZ', 0), ('AGAS.OL', 0), ('SU3G.BE', 0), ('ET.N', 0), ('HUNT.OL', 0), ('6692.TWO', 0), ('KOS.N', 0), ('REGI.MZ', 0), ('600395.SS', 0), ('GLNG.OQ', 0), ('AMOC.CA', 0), ('DCP.N', 0), ('FZR.AX', 0), ('YPFD.BA', 0), ('SUUh.V', 0), ('ATH.TO', 0), ('603169.SS', 0), ('ADNOCDIST.AD', 0), ('DOID.JK', 0), ('SGC.AX', 0), ('CTP.AX', 0), ('CUE.AX', 0), ('9818.T', 0), ('DHT.N', 0), ('UNIV.SI', 0), ('INSW.N', 0), ('EVOA.PK', 0), ('VUL.V', 0), ('VLm.BK', 0), ('ADN.OQ', 0), ('ANMI.NS', 0), ('HMUG.DE', 0), ('0852.HK', 0), ('SR.V', 0), ('DOHOL.IS', 0), ('ROSN.MM', 0), ('3344.HK', 0), ('LOT.AX', 0), ('ENGT.PK', 0), ('DEC.L', 0), ('TCF.CD', 0), ('7462.T', 0), ('SAOL.NS', 0), ('AXL.V', 0), ('KZTO.KZ', 0), ('AIMS.JK', 101), ('MORr.AT', 0), ('BRK.AX', 0), ('VAR.OL', 0), ('URE.TO', 0), ('RKOS.PK', 0), ('PTG.BK', 0), ('AEGA.OL', 0), ('0704.HK', 0), ('ENI.MI', 0), ('IOX.OL', 0), ('NGAZ.BB', 0), ('PFC.V', 0), ('CLMT.OQ', 0), ('DVC.HNO', 0), ('DMMO3.SA', 0), ('SLKh.V', 334), ('GLSH.BO', 0), ('GESC.NS', 0), ('MANE.AM', 0), ('SIRC.PK', 0), ('MTG.HNO', 0), ('CEQP.N', 0), ('EGRE.L', 0), ('CLB.N', 0), ('NWF.L', 0), ('WEN.L', 0), ('URNM.CD', 0), ('DDG.HN', 0), ('SKEL.IC', 0), ('0065.HK', 0), ('603773.SS', 0), ('SAIV.NS', 5), ('PTH.HNO', 0), ('ETEK.PK', 0), ('GOAC.NS', 0), ('PCL.AX', 0), ('3899.HK', 0), ('UNOh.V', 693), ('600508.SS', 0), ('ROSNP.BX', 0), ('VTO.HM', 0), ('ADME.L', 0), ('MOVE.NLB', 0), ('CCNC.OQ', 75), ('NOL.OL', 0), ('TVM.HNO', 0), ('PENP.WA', 0), ('009830.KS', 0), ('INEP4.SA', 0), ('RCIT.PK', 0), ('TAE.BK', 0), ('SHG.MNE', 0), ('LUNE.ST', 0), ('DOR.AX', 0), ('NAT.N', 0), ('VENI.CD', 714), ('0931.HK', 0), ('MMPC.SI', 0), ('0206.HK', 0), ('GUJA.BO', 684), ('PAAE.BO', 0), ('CAST.NS', 0), ('DLEKG.TA', 0), ('ECHOE.L', 0), ('PLEX.L', 0), ('PGN.WA', 0), ('CPG.TO', 0), ('TEG.AX', 106), ('GEECq.L', 0), ('GEGI.PK', 0), ('ABAR.KW', 0), ('DANA.AD', 0), ('WNRG.L', 0), ('ALYE.PK', 0), ('HITE.PSX', 0), ('FWAV.PK', 0), ('CYAP.PK', 0), ('688121.SS', 0), ('OKEA.OL', 0), ('ANSA.KZ', 0), ('NGL.TTB', 0), ('EXXJ.J', 0), ('CNKO.JK', 0), ('TNP.AX', 0), ('HCD.AX', 0), ('MGC.HNO', 606), ('PLO.HNO', 0), ('BMF.HNO', 0), ('MAHAa.ST', 0), ('AZELIO.ST', 0), ('NBC.HN', 0), ('AZNO.KZ', 1320), ('GOLU.NS', 0), ('EGR1T.TL', 0), ('JACK.NFF', 0), ('688303.SS', 0), ('603619.SS', 0), ('PND.HNO', 0), ('UOGU.L', 0), ('PVC.HN', 0), ('DRQ.N', 0), ('SOFF.OL', 0), ('VLSV.L', 0), ('MMR.AX', 0), ('UAPC.PK', 107), ('SD.N', 0), ('KHKL.SJ', 503), ('PLIN.SJ', 0), ('RMUB.SJ', 0), ('JNDR.NS', 0), ('DYL.AX', 0), ('PSUD.PK', 0), ('SRNW.PK', 0), ('UEC.A', 0), ('MOLB.BU', 0), ('LKOH.MM', 0), ('PTC.V', 0), ('301158.SZ', 0), ('688660.SS', 0), ('PBF.N', 0), ('IPGK.KW', 0), ('SGU.N', 0), ('002129.SZ', 56), ('0475.HK', 0), ('AMPY.N', 0), ('INWN.NS', 0), ('ADD.AX', 0), ('003650.KS', 0), ('GEG.OL', 0), ('NOG.N', 0), ('HAFNI.OL', 0), ('1960.HK', 0), ('KEC.TO', 0), ('MNRL.N', 0), ('MIND.NS', 0), ('EXCE.PK', 2), ('DWGL.JK', 0), ('FCU.TO', 0), ('CUR.V', 0), ('CEU.TO', 0), ('300483.SZ', 0), ('SEPL.L', 0), ('SRG.MI', 0), ('HUSA.A', 0), ('ABO.BR', 0), ('TDO.AX', 0), ('0228.HK', 0), ('1164.HK', 0), ('SUNW.OQ', 0), ('ZNOG.PK', 0), ('SDX.L', 0), ('FLNG.OL', 0), ('IVZ.AX', 0), ('HHR.AX', 0), ('TOE.AX', 0), ('HE.TO', 0), ('AOI.TO', 0), ('TOME.L', 0), ('WAHE.KL', 0), ('CHI.NZ', 0), ('PSE.OL', 0), ('TPZ.TO', 0), ('1251.HK', 0), ('PZOL.TA', 0), ('PETR4.SA', 0), ('SCL.TO', 0), ('REVr.AT', 0), ('HEMN.BO', 0), ('605169.SS', 0), ('OX2SE.ST', 0), ('OCEN.KL', 0), ('BUY.AX', 0), ('COE.AX', 0), ('BDR.CD', 0), ('ANAN.SI', 0), ('ACEX.PS', 0), ('TOBA.JK', 0), ('TLP.HNO', 0), ('288620.KQ', 0), ('NTH.HN', 0), ('BWE.OL', 0), ('313760.KQ', 0), ('688408.SS', 0), ('BANE.MM', 0), ('VYEY.PK', 0), ('DEST.BJ', 0), ('KRPT.BJ', 115), ('1605.T', 0), ('600688.SS', 0), ('LAPD.TA', 0), ('GX.V', 710), ('MISE.ST', 0), ('ANTARCHILE.SN', 0), ('7486.T', 0), ('DMLP.OQ', 0), ('DAFR.BX', 223), ('4200.SE', 0), ('WTXR.PK', 0), ('300309.SZ', 0), ('OV.PS', 0), ('2904.TW', 0), ('POB.HNO', 0), ('POS.HNO', 0), ('DEEE.NS', 0), ('ASTI.PK', 0), ('GPRE.OQ', 0), ('ESSA.JK', 0), ('603071.SS', 0), ('600968.SS', 0), ('KLEh.V', 0), ('FTI.N', 0), ('8347.HK', 0), ('UNSS.PK', 619), ('ANK.V', 0), ('1436.T', 0), ('CDEV.OQ', 0), ('TMC.V', 0), ('NOVA.N', 0), ('ALAGP.PA', 0), ('RESR.KL', 0), ('INDO.A', 0), ('ERHE.PK', 0), ('RELI.NS', 0), ('NEVE.PK', 1098), ('7490.T', 0), ('PAE.BK', 1441), ('GSPI.PK', 0), ('PANR.L', 0), ('ESSO.BK', 0), ('2734.T', 0), ('ESKN.L', 0), ('RTSO.PK', 0), ('688390.SS', 0), ('MAH.V', 0), ('RIG.N', 0), ('STRA.BO', 65), ('PSX.N', 0), ('1281.HK', 0), ('ATLA.SI', 0), ('LOGP.L', 0), ('O2C.F', 0), ('PGC.HM', 0), ('NATEN.IS', 0), ('TA.OQ', 0), ('6873.TWO', 0), ('WOWS.JK', 0), ('SCC.PS', 0), ('SUSCO.BK', 0), ('010950.KS', 0), ('NORDIC.CO', 0), ('SRS.MI', 0), ('HPST.PK', 0), ('PTT.BK', 0), ('EPM.A', 0), ('TGS.OL', 0), ('GBXI.PK', 0), ('WG.L', 0), ('TVE.TO', 0), ('BSK.V', 0), ('AEE.AX', 0), ('EQNR.OL', 0), ('006120.KS', 0), ('PCG.HN', 0), ('OKTA.MKE', 0), ('SPH.N', 0), ('HEI.V', 0), ('GTBO.JK', 352), ('WIL.V', 0), ('ROYTL.PK', 0), ('AAZ.V', 0), ('SUGI.JK', 198), ('ENAG.MC', 0), ('PRQ.TO', 0), ('FDEL.PA', 0), ('SQ.BK', 0), ('GPRK.N', 0), ('CPIL.BO', 0), ('8203.HK', 0), ('BWO.OL', 0), ('GEVO.OQ', 0), ('GAS.HM', 0), ('RUIS.JK', 0), ('GGC.BK', 0), ('600397.SS', 0), ('APEX.JK', 0), ('603366.SS', 0), ('MIDSU.ST', 0), ('PRSO.OL', 0), ('ANE.NM', 0), ('BROG.OQ', 0), ('336260.KS', 0), ('TEBE.JK', 0), ('8011.HK', 0), ('600416.SS', 0), ('278990.KN', 0), ('TRMDa.CO', 0), ('TOTAL.GH', 0), ('TATN.MM', 0), ('TZR.V', 0), ('B7C.MI', 0), ('0663.HK', 0), ('TCC.BK', 0), ('COM.HM', 0), ('PJT.HM', 0), ('DENR.PK', 0), ('0866.HK', 0), ('TUPRS.IS', 0), ('UNTR.JK', 0), ('EZRA.SI', 0), ('KNMP.KL', 0), ('PQE.V', 80), ('TPD.AX', 0), ('LAS.L', 0), ('TLW.L', 0), ('002960.KS', 0), ('TAO.V', 0), ('GULTU.PK', 0), ('MLDYX.EUA', 0), ('QUER.MOT', 872), ('YRM.MI', 0), ('ENQ.L', 0), ('KEL.TO', 0), ('KNOP.N', 0), ('MCB.TO', 0), ('JNOS.MM', 0), ('FOSB.BX', 0), ('GNPG.PK', 0), ('5974.T', 0), ('8133.T', 0), ('ISO.V', 0), ('600348.SS', 0), ('018000.KQ', 0), ('603105.SS', 0), ('TOU.AX', 0), ('NINE.N', 0), ('TBN.AX', 0), ('ENER.MI', 0), ('FORZ.TO', 0), ('6806.TW', 0), ('OGDC.PSX', 0), ('600387.SS', 0), ('HITS.JK', 40), ('TRSI.PK', 0), ('SHLPH.PS', 0), ('EQTL.TA', 0), ('SUBC.OL', 0), ('SFT.V', 0), ('PEG.HNO', 0), ('ALDEI.PA', 0), ('MYE.AX', 0), ('GMDC.NS', 0), ('DOF.OL', 0), ('024060.KQ', 0), ('PUMA.LZ', 0), ('600121.SS', 0), ('GLP.N', 0), ('600438.SS', 0), ('OPVS.PK', 82), ('IPB.AX', 0), ('CASPC.L', 0), ('CAKE.CD', 1261), ('SLNX.PK', 69), ('CCI.HM', 0), ('CPI.TO', 0), ('SEAOILm.BK', 0), ('PBFX.N', 0), ('ISRAp.TA', 0), ('TOH.V', 1008), ('WHC.AX', 0), ('0397.HK', 0), ('GIVOp.TA', 0), ('ANGSA.L', 0), ('STWA.ST', 0), ('PARAN.BQB', 0), ('PGS.HN', 0), ('600623.SS', 0), ('HTC.HN', 0), ('5009.T', 0), ('8088.T', 0), ('TXP.TO', 0), ('ADLA.KZ', 0), ('LEK.L', 0), ('NOR.OL', 0), ('ALVER.PA', 0), ('3315.T', 0), ('WBE.AX', 0), ('USEI.PK', 0), ('SHUMBA.BT', 0), ('DLEU.KL', 0), ('NORAM.NFF', 0), ('TPL.V', 0), ('1555.HK', 0), ('VIK.CD', 0), ('MLPHO.EUA', 328), ('TMT.AX', 0), ('322000.KS', 0), ('TOTAL.LG', 0), ('HRUM.JK', 0), ('DRLCO.CO', 0), ('TOS.HNO', 0), ('BOE.AX', 0), ('OGD.TO', 0), ('ELIr.AT', 0), ('COI.AX', 0), ('SPG.BK', 0), ('AROC.N', 0), ('ITMA.JK', 455), ('MRPL.NS', 0), ('OIL.BX', 0), ('GGE.AX', 0), ('PUL.V', 71), ('MSEIS.OL', 0), ('300084.SZ', 0), ('688599.SS', 0), ('EU.V', 0), ('TWM.TO', 0), ('AERI3.SA', 0), ('NEX.N', 0), ('SMLP.N', 0), ('BSSR.JK', 0), ('8037.T', 0), ('1518.T', 0), ('IEC.AX', 0), ('BRZV.PK', 0), ('ONOF.NFF', 125), ('ADPE.BO', 0), ('BPCL.NS', 0), ('BWEN.OQ', 0), ('SCh.V', 0), ('CHPC.NS', 0), ('MUSA.N', 0), ('XPRO.N', 0), ('KEGX.PK', 0), ('BORR.OL', 0), ('PLNG.NS', 0), ('AKAST.OL', 0), ('TETY.ST', 0), ('RORRC.BX', 0), ('MAY.AX', 0), ('600188.SS', 0), ('VQC.HNO', 0), ('DQ.N', 0), ('ECTM.PK', 0), ('GXU.V', 0), ('600985.SS', 0), ('ARH.V', 0), ('002490.SZ', 0), ('CVRh.V', 0), ('MGUY.PK', 0), ('MARTI.LS', 0), ('PTV.HNO', 0), ('T2P.WA', 0), ('KRIS.SI', 0), ('1080.HK', 0), ('ENRA.KL', 0), ('KRP.N', 0), ('NGY.V', 0), ('KYSh.V', 0), ('GLFH.PK', 0), ('BRL.AX', 0), ('GCM.L', 0), ('DKL.V', 0), ('8131.T', 0), ('5010.T', 0), ('VWS.CO', 0), ('012700.KQ', 0), ('AMEN.PK', 0), ('POE.V', 0), ('REXI.SI', 0), ('NCCL.L', 0), ('PXS.HM', 0), ('SOIL.V', 0), ('ENEC.SI', 0), ('VHLD.PK', 0), ('MDS.MT', 0), ('0658.HK', 0), ('NFEI.PK', 0), ('UMSm.BK', 0), ('600997.SS', 0), ('1738.HK', 0), ('CMI.HNO', 0), ('HOEX.NS', 0), ('HPCL.NS', 0), ('GRX.AX', 694), ('ECO.CN', 0), ('IOC.NS', 0), ('AFE.V', 0), ('SM.N', 0), ('CHK.OQ', 0), ('TER.AX', 0), ('096770.KS', 0), ('OR.BK', 0), ('SNSR.SI', 0), ('VKIN.PK', 0), ('DOLP.NS', 0), ('8097.T', 0), ('8132.T', 0), ('ASC.N', 0), ('VLTP.WA', 0), ('BKRP.PK', 0), ('PZQA.I', 0), ('RISH.OL', 0), ('BATL.A', 0), ('KAR.AX', 0), ('KNF1L.VL', 0), ('BTU.N', 0), ('PAGP.OQ', 0), ('RESE.KL', 0), ('NSE.AX', 0), ('LSDh.V', 0), ('PVG.HN', 0), ('ACU.V', 15), ('ENRG.JK', 0), ('ZPHR.L', 0), ('LPG.N', 0), ('NOST.TA', 0), ('GLEXp.TA', 0), ('HLBYL.PK', 0), ('PTEN.OQ', 0), ('IFNY.PK', 0), ('XCPT.PK', 0), ('DIAH.PK', 0), ('NRT.N', 0), ('3800.HK', 0), ('KSNF.KZ', 941), ('HEP.N', 0), ('PTU.V', 0), ('PUMP.N', 0), ('RTPTp.TA', 0), ('DWSN.OQ', 0), ('IRPC.BK', 0), ('SAYAS.IS', 0), ('STEP.TO', 0), ('NWPN.PK', 0), ('CTBG.PK', 0), ('OSKA.PK', 0), ('ARGR.L', 0), ('002459.SZ', 0), ('MHAS.OM', 0), ('8250.HK', 0), ('REGI.OQ', 0), ('SHMh.V', 0), ('RUPV.MOT', 0), ('GASX.V', 0), ('SERB.KL', 0), ('WTLC.PK', 0), ('VBBR3.SA', 3638), ('IPWR.OQ', 0), ('KLR.AX', 551), ('AHEh.V', 0), ('ISOP.TA', 0), ('LNEh.V', 143), ('128820.KS', 0), ('VLO.N', 0), ('900948.SS', 0), ('0645.HK', 0), ('RPMG3.SA', 0), ('000554.SZ', 0), ('ONGC.NS', 0), ('JEC.V', 96), ('8835.T', 0), ('5008.T', 0), ('BGPET.BB', 0), ('ROPTR.BX', 0), ('PRIO3.SA', 0), ('300111.SZ', 0), ('SBMO.AS', 0), ('VOPA.AS', 0), ('HEPr.AT', 0), ('000820.SZ', 154), ('DEWA.JK', 0), ('OILY.PK', 0), ('MPT.MKE', 0), ('SLB.N', 0), ('COME.BA', 0), ('TPL.CN', 0), ('ROYE.PK', 0), ('BRNE.PK', 0), ('RBDR.L', 0), ('300118.SZ', 0), ('FET.N', 0), ('SPRN.PK', 0), ('ODLO.OL', 0), ('IOG.L', 0), ('ADX.AX', 0), ('HZN.AX', 0), ('DRAL.TA', 0), ('600180.SS', 0), ('BOIL.L', 0), ('PGRP.L', 0), ('QEC.TO', 0), ('BSGR.KZ', 0), ('USWS.OQ', 0), ('LBRT.N', 0), ('ALD.AX', 0), ('CRM.AX', 0), ('YAKG.MM', 138), ('NHC.AX', 0), ('600403.SS', 0), ('KRKN.MM', 6), ('SFBE.PK', 0), ('FTMh.V', 0), ('TNP.N', 0), ('000552.SZ', 0), ('DLNG.N', 0), ('GXE.TO', 0), ('XST.AX', 986), ('ERA.AX', 0), ('FAR.AX', 0), ('WTTR.N', 0), ('DK.N', 0), ('EXR.AX', 0), ('2222.SE', 0), ('PPTC.L', 0), ('MCM.AX', 0), ('GRV.AX', 0), ('LEU.A', 0), ('EPD.N', 0), ('1663.T', 0), ('PENR.OL', 0), ('002353.SZ', 0), ('PACI.SI', 0), ('300157.SZ', 0), ('TMA.CS', 0), ('3856.T', 0), ('WTRh.V', 0), ('EEG.AX', 0), ('LIO.AX', 0), ('CREG.OQ', 0), ('BUMI.JK', 0), ('VOG.L', 0), ('OOGI.PK', 21), ('DVFI.PK', 191), ('IMSOLb.NGM', 0), ('POV.HNO', 0), ('FRTM.PK', 0), ('BARA.KL', 0), ('CLR.N', 0), ('UNAF.PFT', 93), ('LKO.AX', 249), ('CVN.AX', 0), ('IMO.TO', 0), ('ENB.TO', 0), ('STX.AX', 0), ('600971.SS', 0), ('KKGI.JK', 0), ('PTRO.JK', 0), ('BWLPG.OL', 0), ('8326.HK', 0), ('CELP.N', 0), ('KNTK.OQ', 0), ('GTE.A', 0), ('EOG.V', 0), ('VTDRF.PK', 0), ('SOMS.OM', 0), ('TOPL.BB', 0), ('NGY.AX', 0), ('NZO.NZ', 0), ('AKRBP.OL', 0), ('SGP.BK', 0), ('STAST.L', 0), ('STO.AX', 0), ('078930.KS', 0), ('REP.MC', 0), ('DPAP.PA', 0), ('PERC.PS', 0), ('MAXM.BO', 0), ('SOI.N', 0), ('002506.SZ', 0), ('300129.SZ', 0), ('AMGZ_p.KZ', 0), ('MMGZ.KZ', 0), ('AGYP.PK', 0), ('PVRS.PK', 0), ('LEAD.JK', 0), ('MDINp.TA', 0), ('OMVV.VI', 0), ('ENLC.N', 0), ('SOL.AX', 0), ('EL8.AX', 0), ('IPCOR.ST', 0), ('FEC.TO', 0), ('1393.HK', 0), ('CTNGk.F', 0), ('OIL.HNO', 0), ('RDKV.BEL', 0), ('ADVAD.L', 0), ('ESSF.PA', 0), ('GALP.LS', 0), ('SPI.V', 0), ('PRM.AX', 0), ('WPL.AX', 0), ('QEGY.PK', 0), ('ABCE.PK', 0), ('AI.BK', 660), ('BAS.AX', 0), ('NCSM.OQ', 0), ('2337.HK', 0), ('ALMI.PSX', 0), ('JASP.SI', 101), ('014530.KS', 0), ('AWSL.PK', 0), ('IFR.V', 0), ('BONHR.OL', 0), ('DNO.OL', 0), ('ORCb.V', 0), ('LPHLp.TA', 0), ('FUU.V', 0), ('1421.HK', 0), ('SKPI.PK', 0), ('UNTP.WA', 0), ('0975.HK', 0), ('HE8.AX', 116), ('MTDR.N', 0), ('4030.SE', 0), ('4050.SE', 0), ('GKP.L', 0), ('PPL.PSX', 0), ('ESN.TO', 0), ('BKR.OQ', 0), ('NESR.OQ', 0), ('PRSN.BX', 58), ('3576.TW', 0), ('ODF.OL', 0), ('SPMI.MI', 0), ('MSMN.L', 0), ('SHP.CD', 0), ('PEY.TO', 0), ('CVX.N', 0), ('XOM.N', 0), ('TOTL.NR', 0), ('PLOh.V', 0), ('0342.HK', 0), ('PARh.V', 653), ('267250.KS', 0), ('CR.TO', 0), ('CTNR.PK', 0), ('NAE.AX', 951), ('PTRL.BJ', 0), ('ENPS.SJ', 0), ('APP.HN', 0), ('AB9.H', 0), ('ADVA.SI', 0), ('GPPE.NS', 0), ('SWCO.SI', 0), ('PAA.OQ', 0), ('HAL.N', 0), ('OXY.N', 0), ('095910.KQ', 0), ('GOIL.GH', 0), ('COP.N', 0), ('MRO.N', 0), ('000852.SZ', 0), ('RATIp.TA', 0), ('INDL.NS', 0), ('CLPE.PK', 278), ('ACPL.NS', 0), ('ARCHA.OL', 0), ('6885.HK', 0), ('TOT.TO', 0), ('SFC.HM', 0), ('XOP.CD', 0), ('PPC.PS', 0), ('NWX.V', 0), ('PNEGn.DE', 0), ('UVN.V', 0), ('SYH.V', 0), ('APC.PS', 0), ('SIFG.AS', 0), ('CET.TO', 0), ('KIMH.SI', 0), ('SWALA.TZ', 0), ('NVTK.MM', 0), ('ASCR.L', 0), ('MTFN.JK', 177), ('JKS.N', 0), ('688223.SS', 0), ('PETR.KL', 0), ('ESCLV.NH', 373), ('ENR1n.DE', 0), ('TTLS.CI', 0), ('ASP.HM', 0), ('093230.KS', 0), ('3585.TWO', 0), ('EOG.L', 0), ('FEGL.SI', 0), ('SHEL.L', 0), ('NRZ.AX', 0), ('LGGL.CM', 0), ('002554.SZ', 0), ('603800.SS', 0), ('603318.SS', 0), ('MDMP.PK', 0), ('112610.KS', 0), ('RWFC.PK', 792), ('MOPN.PK', 0), ('MKGP.PK', 0), ('PXD.N', 0), ('KUBM.KL', 0), ('PVE.AX', 0), ('EPSN.OQ', 0), ('HASC.PSX', 0), ('603036.SS', 0), ('GRVE.PK', 0), ('ALBS.PSX', 0), ('HLC.HN', 0), ('MDC.HN', 0), ('EGAB.PA', 0), ('PTMR.KL', 0), ('SAEC.PK', 940), ('600123.SS', 0), ('MVNT.PK', 0), ('CXU.AX', 0), ('CWR.L', 0), ('OPM.PS', 0), ('SPM.PS', 0), ('BLVN.L', 0), ('CEG.L', 0), ('MGY.N', 0), ('OYL.V', 0), ('PNX.PS', 0), ('HYTN.CD', 0), ('MIN.BT', 0), ('ITMG.JK', 0), ('PAK.AX', 0), ('300443.SZ', 0), ('603223.SS', 0), ('MGN.OL', 0), ('EUAV.BR', 0), ('FIRE.JK', 0), ('CZN.L', 0), ('MEL.AX', 0), ('WTI.N', 0), ('HENY.KL', 0), ('0276.HK', 0), ('VRDh.V', 644), ('034730.KS', 0), ('DEHB.KL', 0), ('WGO.AX', 0), ('MTAR.NS', 0), ('AXAS.PK', 0), ('NEWH.PK', 0), ('HUML.PK', 0), ('ATD.TO', 0), ('OEL.AX', 0), ('COEN.ST', 0), ('I3E.L', 0), ('BRY.OQ', 0), ('603798.SS', 0), ('AMAN.KZ', 0), ('GMS.L', 0), ('0438.HK', 0), ('SOBT.BO', 0), ('JAL.AX', 0), ('PTOI.PK', 0), ('MLECO.EUA', 826), ('CKK.V', 0), ('HGTXU.PK', 0), ('ATOR.PSX', 0), ('BLPL.PSX', 0), ('MXC.A', 0), ('AE.A', 0), ('RUN.OQ', 0), ('NWE.AX', 0), ('5018.T', 0), ('BWPC.PK', 33), ('601615.SS', 0), ('PRM.BK', 0), ('VISTAA.MX', 0), ('TDG.HM', 0), ('OOMS.OM', 0), ('CNX.N', 0), ('SIBN.MM', 0), ('HES.N', 0), ('IEP.OQ', 0), ('AMRC.N', 0), ('MCR.V', 0), ('TPC.V', 0), ('JOY.TO', 0), ('BDL.MNE', 0), ('4934.TW', 0), ('CPF.GQ', 0), ('EER.AX', 0), ('PEN.AX', 0), ('000571.SZ', 0), ('NAPS.KW', 0), ('HPR.AX', 0), ('KRh.V', 0), ('1101.HK', 0), ('COIL.PK', 0), ('FARF.L', 135), ('WATP.WA', 0), ('GTII.PK', 0), ('NATR.PSX', 0), ('ARCH.N', 0), ('ENSV.A', 0), ('6505.TW', 0), ('603507.SS', 0), ('ATS.AX', 0), ('MRM.AX', 0), ('BTG.MNE', 0), ('4DSG.DE', 0), ('TNZ.V', 0), ('SHV.MNE', 0), ('PKOL.PSX', 0), ('PDN.AX', 0), ('REX.N', 0), ('BPT.N', 0), ('SHEL.PSX', 0), ('REI.A', 0), ('GEPH.PA', 0), ('PKRF.PSX', 0), ('601918.SS', 0), ('3337.HK', 0), ('SINU.BO', 272), ('LWBP.WA', 0), ('VBHI.PK', 0), ('SGRE.WA', 0), ('ENAT3.SA', 0), ('ELEF.TO', 0), ('BRN.A', 0), ('OILI.NS', 0), ('0934.HK', 0), ('0061.HK', 0), ('E2E.AX', 0), ('ILDR.TA', 0), ('100130.KQ', 0), ('PNRC.PK', 0), ('CURE.CD', 54), ('TMRP.TA', 0), ('603353.SS', 0), ('RUBF.PA', 0), ('AWDR.OL', 0), ('1621.HK', 0), ('SGY.TO', 0), ('AJL.AX', 0), ('MAGN.SI', 0), ('ESTE.N', 0), ('ONVh.V', 0), ('258610.KQ', 0), ('BNRG.TA', 0), ('TTL.MNE', 0), ('SDPI.A', 0), ('TNK.N', 0), ('002202.SZ', 0), ('52PCHNU.VB', 0), ('PLX.HM', 0), ('LTSP.WA', 0), ('ATI.V', 0), ('BDCO.PK', 0), ('GLOP.N', 0), ('PSK.TO', 0), ('NXH.V', 0), ('1938.HK', 0), ('GEOE.SI', 0), ('KSTL.SI', 0), ('WEC.AX', 346), ('ARLP.OQ', 0), ('TRE.MC', 0), ('52TRDNU.VB', 0), ('8479.HK', 0), ('FLMN.OQ', 0), ('NVPTp.TA', 0), ('OECh.V', 0), ('CTRA.N', 0), ('CPE.N', 0), ('CCO.TO', 0), ('AGE.AX', 0), ('002531.SZ', 0), ('HMSGq.L', 0), ('ABIG.TE', 0), ('8270.HK', 0), ('METAC.NGM', 0), ('ORL.TA', 0), ('52EPANU.VB', 0), ('TRIY.SI', 0), ('STRXF.PK', 0), ('CEIX.N', 0), ('RNGR.N', 0), ('ECKS.MI', 0), ('VNOM.OQ', 0), ('TULA.BO', 53), ('KZAP.KZ', 0), ('PSO.PSX', 0), ('NWMDp.TA', 0), ('GSP.HM', 0), ('SDSD.OL', 0), ('CVV.V', 0), ('ATOM.V', 0), ('MATD.L', 0), ('CHGV.DH', 0), ('TGSU2.BA', 0), ('GBPq.L', 0), ('000937.SZ', 0), ('PLUG.OQ', 0), ('SES.TO', 0), ('CNQ.TO', 0), ('JPR.AX', 0), ('RES.AX', 28), ('AEPT.PK', 0), ('SHUP.KZ', 0), ('OAS.OQ', 0), ('UJO.L', 0), ('UPET.BX', 0), ('FGPR.PK', 0), ('WCE.V', 0), ('300164.SZ', 0), ('SOLT.ST', 0), ('RECO.V', 0), ('DML.TO', 0), ('CRK.N', 0), ('CAVERTON.LG', 0), ('VRY.V', 0), ('PPS.HN', 0), ('VOC.N', 0), ('SWVKk.F', 0), ('7623.T', 0), ('AURM.BO', 0), ('INAI.ZA', 0), ('MAUP.PA', 0), ('TTEF.PA', 0), ('BATE.SI', 0), ('LANNA.BK', 0), ('ASIE.NS', 0), ('BLNG.MM', 0), ('300191.SZ', 0), ('603003.SS', 0), ('PTCO.PK', 0), ('NRIS.PK', 0), ('ENLS.DH', 0), ('PDOC.DH', 0), ('TGNO2.BA', 0), ('LNG.A', 0), ('VGN.V', 0), ('PKN.WA', 0), ('PEHh.V', 0), ('LGO.TO', 0), ('DXIh.V', 0), ('NOGN.L', 0), ('WFRD.OQ', 0), ('MOIL.CA', 0), ('PNL.AX', 0), ('WES.N', 0), ('PVE.HNO', 0), ('PPRW.PK', 0), ('SNG.BX', 0), ('SPWR.OQ', 0), ('SDTTU.PK', 0), ('SHLX.N', 0), ('MBAP.JK', 0), ('CFW.TO', 0), ('DVN.N', 0), ('CAPL.SI', 0), ('0758.HK', 0), ('002207.SZ', 0), ('BDG.WA', 0), ('NZ.V', 0), ('ENOG.L', 0), ('GAS.AX', 0), ('2072.TWO', 0), ('TGL.TO', 0), ('ABSh.V', 0), ('BCP.BK', 0), ('JOPT.AM', 0), ('SNM.V', 0), ('SSh.V', 0), ('CSAN3.SA', 0), ('JSW.WA', 0), ('JOCL.DH', 0), ('0757.HK', 0), ('MEGP.DH', 0), ('CRC.N', 0), ('300569.SZ', 0), ('ERF.TO', 0), ('EOG.N', 0), ('STTX.PK', 0), ('BULL.JK', 0), ('VEC.V', 0), ('AQC.AX', 0), ('MLSEQ.EUA', 0), ('688196.SS', 0), ('002865.SZ', 0), ('NIIS.BEL', 0), ('RNFT.MM', 0), ('MHEB.KL', 0), ('018670.KS', 0), ('017940.KS', 0), ('TRRE.PK', 0), ('ERC.V', 95), ('MGAS.PSX', 0), ('603727.SS', 0), ('SHLF.OL', 0), ('PGY.AX', 0), ('88E.AX', 224), ('002218.SZ', 0), ('TVD.HN', 0), ('TGN.BX', 0), ('F3CG.DE', 0), ('CNE.TO', 0), ('SHEL.MZ', 0), ('UNRG.PK', 0), ('EQT.N', 0), ('BOOM.OQ', 0), ('FSEI.PK', 0), ('HMLP.N', 0), ('NEXT.OQ', 0), ('ONCP.WA', 0), ('OPTT.A', 0), ('600184.SS', 0), ('MPC.N', 0), ('NGL.N', 0), ('ZENZ.L', 0), ('0702.HK', 0), ('SMMT.JK', 1324), ('ALOD.PK', 0), ('MGA.TO', 0), ('PGAS.PK', 0), ('YGR.TO', 0), ('XCAN.PK', 0), ('MITI.JK', 222), ('000440.KQ', 0), ('002221.SZ', 0), ('AL.V', 0), ('PCOR.PS', 0), ('UNDR.NS', 144), ('1623.HK', 0), ('601218.SS', 0), ('UBE.BK', 0), ('AKSOA.OL', 0), ('SAVES.L', 0), ('THHE.KL', 0), ('UGPA3.SA', 0), ('AET.L', 0), ('PSD.TO', 0), ('GISS.QA', 0), ('SGBH.PK', 684), ('TRNF_p.MM', 0), ('PMG.L', 0), ('PFNO.PK', 0), ('STMP.V', 0), ('SFD.TO', 0), ('3167.T', 0), ('LIOC.CM', 0), ('TOWR.L', 0), ('APHE.PK', 0), ('002828.SZ', 0), ('PXEN.L', 0), ('PEI.V', 0), ('CELh.V', 0), ('GMR.CD', 0), ('QFI.L', 0), ('3361.T', 0), ('OCTL.NS', 0), ('601101.SS', 0), ('ALGS.TA', 0), ('EELJ.J', 0), ('PEA.TO', 0), ('VIRSI.RI', 0), ('NODL.OL', 0), ('600026.SS', 0), ('SEI.V', 0), ('HNRG.OQ', 0), ('HP.N', 0), ('300208.SZ', 0), ('JOG.L', 0), ('LXE.V', 0), ('KABR.BO', 0), ('0196.HK', 0), ('RAVI.BO', 108), ('BOPO.PK', 0), ('API.CD', 0), ('ACB.AX', 0), ('NTOG.L', 0), ('HME.V', 0), ('VRB.V', 0), ('ZHEN.SI', 0), ('STRLNG.ST', 0), ('ROYL.PK', 0), ('TOP.BK', 0), ('IO.N', 0), ('NOCN.OL', 0), ('GSPECPLC.LG', 0), ('8009.HK', 0), ('601857.SS', 0), ('EDLE.L', 0), ('GEV.AX', 0), ('SMGI.PK', 0), ('OSXB3.SA', 0), ('CTH.V', 0), ('UKOGa.L', 0), ('GGRN.PK', 0), ('EPEN.BO', 0), ('WEL.AX', 0), ('IOTA.NFF', 0), ('038620.KQ', 0), ('CBV.V', 0), ('HUR.L', 0), ('GMCI.CA', 0), ('DOFI.NFF', 65), ('BLAC.SI', 0), ('600256.SS', 0), ('300370.SZ', 0), ('300772.SZ', 0), ('ANR.NXX', 0), ('AMTX.OQ', 0), ('INT.N', 0), ('LAM.TO', 0), ('8631.HK', 0), ('PPPP.L', 0), ('HAVI.OL', 0), ('SOLAR.BK', 0), ('PXP.PS', 0), ('SUIC.PK', 0), ('ADPK.PSX', 0), ('RRC.N', 0), ('APL.PSX', 0), ('PLFF.PK', 0), ('TAL.V', 0), ('TALO.N', 0), ('ALTO.OQ', 0), ('0632.HK', 0), ('TELL.A', 0), ('MARPS.OQ', 0), ('ABTR.SI', 0), ('600248.SS', 72), ('MCMa.V', 0), ('MCS.V', 0), ('PETY.BX', 0), ('KMI.N', 0), ('EFV.V', 0), ('AEC.V', 0)])"
            ]
          },
          "metadata": {},
          "execution_count": 22
        }
      ]
    },
    {
      "cell_type": "code",
      "source": [
        "include_tickers = sorted(list(map(lambda x: x[0], filter(lambda x: x[1] <= 5, longest_gap.items()))), key=lambda x: x[1], reverse=True)"
      ],
      "metadata": {
        "id": "JngxLkke-k4u"
      },
      "execution_count": 23,
      "outputs": []
    },
    {
      "cell_type": "code",
      "source": [
        "cleandf = stripped.loc[include_tickers, ].fillna(method=\"ffill\")\n",
        "cleandf"
      ],
      "metadata": {
        "colab": {
          "base_uri": "https://localhost:8080/",
          "height": 455
        },
        "id": "o9ItxyyCnukp",
        "outputId": "9d793128-5e83-4591-8f99-c73955ef23c8"
      },
      "execution_count": 24,
      "outputs": [
        {
          "output_type": "execute_result",
          "data": {
            "text/plain": [
              "                 Date  Company Market Cap  Price Close Currency\n",
              "Instrument                                                     \n",
              "SZR.WA     2010-02-19       4316546.76259     0.061665      USD\n",
              "SZR.WA     2010-02-22      6255155.347814     0.089359      USD\n",
              "SZR.WA     2010-02-23      7567823.237272     0.108112      USD\n",
              "SZR.WA     2010-02-24      7851000.917649     0.112157      USD\n",
              "SZR.WA     2010-02-25       8833862.00075     0.126198      USD\n",
              "...               ...                 ...          ...      ...\n",
              "300772.SZ  2022-04-15    1421837745.71855     2.621458      USD\n",
              "300772.SZ  2022-04-18    1454200172.46267     2.681125      USD\n",
              "300772.SZ  2022-04-19    1438043708.32942     2.651337      USD\n",
              "300772.SZ  2022-04-20    1377339011.94927     2.539415      USD\n",
              "300772.SZ  2022-04-21    1305514584.94578     2.395349      USD\n",
              "\n",
              "[5747793 rows x 4 columns]"
            ],
            "text/html": [
              "\n",
              "  <div id=\"df-f09ea214-8614-4cbb-81ed-9f72323ca9e5\">\n",
              "    <div class=\"colab-df-container\">\n",
              "      <div>\n",
              "<style scoped>\n",
              "    .dataframe tbody tr th:only-of-type {\n",
              "        vertical-align: middle;\n",
              "    }\n",
              "\n",
              "    .dataframe tbody tr th {\n",
              "        vertical-align: top;\n",
              "    }\n",
              "\n",
              "    .dataframe thead th {\n",
              "        text-align: right;\n",
              "    }\n",
              "</style>\n",
              "<table border=\"1\" class=\"dataframe\">\n",
              "  <thead>\n",
              "    <tr style=\"text-align: right;\">\n",
              "      <th></th>\n",
              "      <th>Date</th>\n",
              "      <th>Company Market Cap</th>\n",
              "      <th>Price Close</th>\n",
              "      <th>Currency</th>\n",
              "    </tr>\n",
              "    <tr>\n",
              "      <th>Instrument</th>\n",
              "      <th></th>\n",
              "      <th></th>\n",
              "      <th></th>\n",
              "      <th></th>\n",
              "    </tr>\n",
              "  </thead>\n",
              "  <tbody>\n",
              "    <tr>\n",
              "      <th>SZR.WA</th>\n",
              "      <td>2010-02-19</td>\n",
              "      <td>4316546.76259</td>\n",
              "      <td>0.061665</td>\n",
              "      <td>USD</td>\n",
              "    </tr>\n",
              "    <tr>\n",
              "      <th>SZR.WA</th>\n",
              "      <td>2010-02-22</td>\n",
              "      <td>6255155.347814</td>\n",
              "      <td>0.089359</td>\n",
              "      <td>USD</td>\n",
              "    </tr>\n",
              "    <tr>\n",
              "      <th>SZR.WA</th>\n",
              "      <td>2010-02-23</td>\n",
              "      <td>7567823.237272</td>\n",
              "      <td>0.108112</td>\n",
              "      <td>USD</td>\n",
              "    </tr>\n",
              "    <tr>\n",
              "      <th>SZR.WA</th>\n",
              "      <td>2010-02-24</td>\n",
              "      <td>7851000.917649</td>\n",
              "      <td>0.112157</td>\n",
              "      <td>USD</td>\n",
              "    </tr>\n",
              "    <tr>\n",
              "      <th>SZR.WA</th>\n",
              "      <td>2010-02-25</td>\n",
              "      <td>8833862.00075</td>\n",
              "      <td>0.126198</td>\n",
              "      <td>USD</td>\n",
              "    </tr>\n",
              "    <tr>\n",
              "      <th>...</th>\n",
              "      <td>...</td>\n",
              "      <td>...</td>\n",
              "      <td>...</td>\n",
              "      <td>...</td>\n",
              "    </tr>\n",
              "    <tr>\n",
              "      <th>300772.SZ</th>\n",
              "      <td>2022-04-15</td>\n",
              "      <td>1421837745.71855</td>\n",
              "      <td>2.621458</td>\n",
              "      <td>USD</td>\n",
              "    </tr>\n",
              "    <tr>\n",
              "      <th>300772.SZ</th>\n",
              "      <td>2022-04-18</td>\n",
              "      <td>1454200172.46267</td>\n",
              "      <td>2.681125</td>\n",
              "      <td>USD</td>\n",
              "    </tr>\n",
              "    <tr>\n",
              "      <th>300772.SZ</th>\n",
              "      <td>2022-04-19</td>\n",
              "      <td>1438043708.32942</td>\n",
              "      <td>2.651337</td>\n",
              "      <td>USD</td>\n",
              "    </tr>\n",
              "    <tr>\n",
              "      <th>300772.SZ</th>\n",
              "      <td>2022-04-20</td>\n",
              "      <td>1377339011.94927</td>\n",
              "      <td>2.539415</td>\n",
              "      <td>USD</td>\n",
              "    </tr>\n",
              "    <tr>\n",
              "      <th>300772.SZ</th>\n",
              "      <td>2022-04-21</td>\n",
              "      <td>1305514584.94578</td>\n",
              "      <td>2.395349</td>\n",
              "      <td>USD</td>\n",
              "    </tr>\n",
              "  </tbody>\n",
              "</table>\n",
              "<p>5747793 rows × 4 columns</p>\n",
              "</div>\n",
              "      <button class=\"colab-df-convert\" onclick=\"convertToInteractive('df-f09ea214-8614-4cbb-81ed-9f72323ca9e5')\"\n",
              "              title=\"Convert this dataframe to an interactive table.\"\n",
              "              style=\"display:none;\">\n",
              "        \n",
              "  <svg xmlns=\"http://www.w3.org/2000/svg\" height=\"24px\"viewBox=\"0 0 24 24\"\n",
              "       width=\"24px\">\n",
              "    <path d=\"M0 0h24v24H0V0z\" fill=\"none\"/>\n",
              "    <path d=\"M18.56 5.44l.94 2.06.94-2.06 2.06-.94-2.06-.94-.94-2.06-.94 2.06-2.06.94zm-11 1L8.5 8.5l.94-2.06 2.06-.94-2.06-.94L8.5 2.5l-.94 2.06-2.06.94zm10 10l.94 2.06.94-2.06 2.06-.94-2.06-.94-.94-2.06-.94 2.06-2.06.94z\"/><path d=\"M17.41 7.96l-1.37-1.37c-.4-.4-.92-.59-1.43-.59-.52 0-1.04.2-1.43.59L10.3 9.45l-7.72 7.72c-.78.78-.78 2.05 0 2.83L4 21.41c.39.39.9.59 1.41.59.51 0 1.02-.2 1.41-.59l7.78-7.78 2.81-2.81c.8-.78.8-2.07 0-2.86zM5.41 20L4 18.59l7.72-7.72 1.47 1.35L5.41 20z\"/>\n",
              "  </svg>\n",
              "      </button>\n",
              "      \n",
              "  <style>\n",
              "    .colab-df-container {\n",
              "      display:flex;\n",
              "      flex-wrap:wrap;\n",
              "      gap: 12px;\n",
              "    }\n",
              "\n",
              "    .colab-df-convert {\n",
              "      background-color: #E8F0FE;\n",
              "      border: none;\n",
              "      border-radius: 50%;\n",
              "      cursor: pointer;\n",
              "      display: none;\n",
              "      fill: #1967D2;\n",
              "      height: 32px;\n",
              "      padding: 0 0 0 0;\n",
              "      width: 32px;\n",
              "    }\n",
              "\n",
              "    .colab-df-convert:hover {\n",
              "      background-color: #E2EBFA;\n",
              "      box-shadow: 0px 1px 2px rgba(60, 64, 67, 0.3), 0px 1px 3px 1px rgba(60, 64, 67, 0.15);\n",
              "      fill: #174EA6;\n",
              "    }\n",
              "\n",
              "    [theme=dark] .colab-df-convert {\n",
              "      background-color: #3B4455;\n",
              "      fill: #D2E3FC;\n",
              "    }\n",
              "\n",
              "    [theme=dark] .colab-df-convert:hover {\n",
              "      background-color: #434B5C;\n",
              "      box-shadow: 0px 1px 3px 1px rgba(0, 0, 0, 0.15);\n",
              "      filter: drop-shadow(0px 1px 2px rgba(0, 0, 0, 0.3));\n",
              "      fill: #FFFFFF;\n",
              "    }\n",
              "  </style>\n",
              "\n",
              "      <script>\n",
              "        const buttonEl =\n",
              "          document.querySelector('#df-f09ea214-8614-4cbb-81ed-9f72323ca9e5 button.colab-df-convert');\n",
              "        buttonEl.style.display =\n",
              "          google.colab.kernel.accessAllowed ? 'block' : 'none';\n",
              "\n",
              "        async function convertToInteractive(key) {\n",
              "          const element = document.querySelector('#df-f09ea214-8614-4cbb-81ed-9f72323ca9e5');\n",
              "          const dataTable =\n",
              "            await google.colab.kernel.invokeFunction('convertToInteractive',\n",
              "                                                     [key], {});\n",
              "          if (!dataTable) return;\n",
              "\n",
              "          const docLinkHtml = 'Like what you see? Visit the ' +\n",
              "            '<a target=\"_blank\" href=https://colab.research.google.com/notebooks/data_table.ipynb>data table notebook</a>'\n",
              "            + ' to learn more about interactive tables.';\n",
              "          element.innerHTML = '';\n",
              "          dataTable['output_type'] = 'display_data';\n",
              "          await google.colab.output.renderOutput(dataTable, element);\n",
              "          const docLink = document.createElement('div');\n",
              "          docLink.innerHTML = docLinkHtml;\n",
              "          element.appendChild(docLink);\n",
              "        }\n",
              "      </script>\n",
              "    </div>\n",
              "  </div>\n",
              "  "
            ]
          },
          "metadata": {},
          "execution_count": 24
        }
      ]
    },
    {
      "cell_type": "code",
      "source": [
        "print(f\"After clean, {cleandf.index.unique().shape[0]} companies remain\")\n",
        "print(f\"After clean, {cleandf.shape[0]} datapoints remain\")"
      ],
      "metadata": {
        "colab": {
          "base_uri": "https://localhost:8080/"
        },
        "id": "eJZdGALqo36a",
        "outputId": "126cd49a-c150-4c73-e3ba-4a6cad0d3ec5"
      },
      "execution_count": 25,
      "outputs": [
        {
          "output_type": "stream",
          "name": "stdout",
          "text": [
            "After clean, 1593 companies remain\n",
            "After clean, 5747793 datapoints remain\n"
          ]
        }
      ]
    },
    {
      "cell_type": "markdown",
      "source": [
        "## Remove companies that are traded over the counter\n",
        "\n",
        "Also called Pink Slips (PK)"
      ],
      "metadata": {
        "id": "aHBkFs6s7pCT"
      }
    },
    {
      "cell_type": "code",
      "source": [
        "cleandf = cleandf[~cleandf.index.str.endswith(\".PK\")]\n",
        "\n",
        "print(f\"After drop PK companies, {cleandf.index.unique().shape[0]} companies remain\")\n",
        "print(f\"After drop PK companies, {cleandf.shape[0]} datapoints remain\")"
      ],
      "metadata": {
        "colab": {
          "base_uri": "https://localhost:8080/"
        },
        "id": "z-Gtxm4_8oM9",
        "outputId": "454c5b18-0b86-4351-db9e-134537a144f4"
      },
      "execution_count": 27,
      "outputs": [
        {
          "output_type": "stream",
          "name": "stdout",
          "text": [
            "After drop PK companies, 1454 companies remain\n",
            "After drop PK companies, 5231629 datapoints remain\n"
          ]
        }
      ]
    },
    {
      "cell_type": "markdown",
      "source": [
        "## Remove companies with too little training or test data after split"
      ],
      "metadata": {
        "id": "7qB2sSqqBOiR"
      }
    },
    {
      "cell_type": "markdown",
      "source": [
        "### Rename columns to be easier to work with"
      ],
      "metadata": {
        "id": "IdRroXsYBeJB"
      }
    },
    {
      "cell_type": "code",
      "source": [
        "data = cleandf.reset_index().rename(columns=column_mapping)\n",
        "data.head()"
      ],
      "metadata": {
        "colab": {
          "base_uri": "https://localhost:8080/",
          "height": 206
        },
        "id": "eNyJLRI6BhCm",
        "outputId": "83c11cb1-1a69-4a1c-cd49-78af47f6b4dc"
      },
      "execution_count": 32,
      "outputs": [
        {
          "output_type": "execute_result",
          "data": {
            "text/plain": [
              "   ticker       date      market_cap  close_price currency\n",
              "0  SZR.WA 2010-02-19   4316546.76259     0.061665      USD\n",
              "1  SZR.WA 2010-02-22  6255155.347814     0.089359      USD\n",
              "2  SZR.WA 2010-02-23  7567823.237272     0.108112      USD\n",
              "3  SZR.WA 2010-02-24  7851000.917649     0.112157      USD\n",
              "4  SZR.WA 2010-02-25   8833862.00075     0.126198      USD"
            ],
            "text/html": [
              "\n",
              "  <div id=\"df-2f77aa2f-856f-403e-8b24-7e58501db481\">\n",
              "    <div class=\"colab-df-container\">\n",
              "      <div>\n",
              "<style scoped>\n",
              "    .dataframe tbody tr th:only-of-type {\n",
              "        vertical-align: middle;\n",
              "    }\n",
              "\n",
              "    .dataframe tbody tr th {\n",
              "        vertical-align: top;\n",
              "    }\n",
              "\n",
              "    .dataframe thead th {\n",
              "        text-align: right;\n",
              "    }\n",
              "</style>\n",
              "<table border=\"1\" class=\"dataframe\">\n",
              "  <thead>\n",
              "    <tr style=\"text-align: right;\">\n",
              "      <th></th>\n",
              "      <th>ticker</th>\n",
              "      <th>date</th>\n",
              "      <th>market_cap</th>\n",
              "      <th>close_price</th>\n",
              "      <th>currency</th>\n",
              "    </tr>\n",
              "  </thead>\n",
              "  <tbody>\n",
              "    <tr>\n",
              "      <th>0</th>\n",
              "      <td>SZR.WA</td>\n",
              "      <td>2010-02-19</td>\n",
              "      <td>4316546.76259</td>\n",
              "      <td>0.061665</td>\n",
              "      <td>USD</td>\n",
              "    </tr>\n",
              "    <tr>\n",
              "      <th>1</th>\n",
              "      <td>SZR.WA</td>\n",
              "      <td>2010-02-22</td>\n",
              "      <td>6255155.347814</td>\n",
              "      <td>0.089359</td>\n",
              "      <td>USD</td>\n",
              "    </tr>\n",
              "    <tr>\n",
              "      <th>2</th>\n",
              "      <td>SZR.WA</td>\n",
              "      <td>2010-02-23</td>\n",
              "      <td>7567823.237272</td>\n",
              "      <td>0.108112</td>\n",
              "      <td>USD</td>\n",
              "    </tr>\n",
              "    <tr>\n",
              "      <th>3</th>\n",
              "      <td>SZR.WA</td>\n",
              "      <td>2010-02-24</td>\n",
              "      <td>7851000.917649</td>\n",
              "      <td>0.112157</td>\n",
              "      <td>USD</td>\n",
              "    </tr>\n",
              "    <tr>\n",
              "      <th>4</th>\n",
              "      <td>SZR.WA</td>\n",
              "      <td>2010-02-25</td>\n",
              "      <td>8833862.00075</td>\n",
              "      <td>0.126198</td>\n",
              "      <td>USD</td>\n",
              "    </tr>\n",
              "  </tbody>\n",
              "</table>\n",
              "</div>\n",
              "      <button class=\"colab-df-convert\" onclick=\"convertToInteractive('df-2f77aa2f-856f-403e-8b24-7e58501db481')\"\n",
              "              title=\"Convert this dataframe to an interactive table.\"\n",
              "              style=\"display:none;\">\n",
              "        \n",
              "  <svg xmlns=\"http://www.w3.org/2000/svg\" height=\"24px\"viewBox=\"0 0 24 24\"\n",
              "       width=\"24px\">\n",
              "    <path d=\"M0 0h24v24H0V0z\" fill=\"none\"/>\n",
              "    <path d=\"M18.56 5.44l.94 2.06.94-2.06 2.06-.94-2.06-.94-.94-2.06-.94 2.06-2.06.94zm-11 1L8.5 8.5l.94-2.06 2.06-.94-2.06-.94L8.5 2.5l-.94 2.06-2.06.94zm10 10l.94 2.06.94-2.06 2.06-.94-2.06-.94-.94-2.06-.94 2.06-2.06.94z\"/><path d=\"M17.41 7.96l-1.37-1.37c-.4-.4-.92-.59-1.43-.59-.52 0-1.04.2-1.43.59L10.3 9.45l-7.72 7.72c-.78.78-.78 2.05 0 2.83L4 21.41c.39.39.9.59 1.41.59.51 0 1.02-.2 1.41-.59l7.78-7.78 2.81-2.81c.8-.78.8-2.07 0-2.86zM5.41 20L4 18.59l7.72-7.72 1.47 1.35L5.41 20z\"/>\n",
              "  </svg>\n",
              "      </button>\n",
              "      \n",
              "  <style>\n",
              "    .colab-df-container {\n",
              "      display:flex;\n",
              "      flex-wrap:wrap;\n",
              "      gap: 12px;\n",
              "    }\n",
              "\n",
              "    .colab-df-convert {\n",
              "      background-color: #E8F0FE;\n",
              "      border: none;\n",
              "      border-radius: 50%;\n",
              "      cursor: pointer;\n",
              "      display: none;\n",
              "      fill: #1967D2;\n",
              "      height: 32px;\n",
              "      padding: 0 0 0 0;\n",
              "      width: 32px;\n",
              "    }\n",
              "\n",
              "    .colab-df-convert:hover {\n",
              "      background-color: #E2EBFA;\n",
              "      box-shadow: 0px 1px 2px rgba(60, 64, 67, 0.3), 0px 1px 3px 1px rgba(60, 64, 67, 0.15);\n",
              "      fill: #174EA6;\n",
              "    }\n",
              "\n",
              "    [theme=dark] .colab-df-convert {\n",
              "      background-color: #3B4455;\n",
              "      fill: #D2E3FC;\n",
              "    }\n",
              "\n",
              "    [theme=dark] .colab-df-convert:hover {\n",
              "      background-color: #434B5C;\n",
              "      box-shadow: 0px 1px 3px 1px rgba(0, 0, 0, 0.15);\n",
              "      filter: drop-shadow(0px 1px 2px rgba(0, 0, 0, 0.3));\n",
              "      fill: #FFFFFF;\n",
              "    }\n",
              "  </style>\n",
              "\n",
              "      <script>\n",
              "        const buttonEl =\n",
              "          document.querySelector('#df-2f77aa2f-856f-403e-8b24-7e58501db481 button.colab-df-convert');\n",
              "        buttonEl.style.display =\n",
              "          google.colab.kernel.accessAllowed ? 'block' : 'none';\n",
              "\n",
              "        async function convertToInteractive(key) {\n",
              "          const element = document.querySelector('#df-2f77aa2f-856f-403e-8b24-7e58501db481');\n",
              "          const dataTable =\n",
              "            await google.colab.kernel.invokeFunction('convertToInteractive',\n",
              "                                                     [key], {});\n",
              "          if (!dataTable) return;\n",
              "\n",
              "          const docLinkHtml = 'Like what you see? Visit the ' +\n",
              "            '<a target=\"_blank\" href=https://colab.research.google.com/notebooks/data_table.ipynb>data table notebook</a>'\n",
              "            + ' to learn more about interactive tables.';\n",
              "          element.innerHTML = '';\n",
              "          dataTable['output_type'] = 'display_data';\n",
              "          await google.colab.output.renderOutput(dataTable, element);\n",
              "          const docLink = document.createElement('div');\n",
              "          docLink.innerHTML = docLinkHtml;\n",
              "          element.appendChild(docLink);\n",
              "        }\n",
              "      </script>\n",
              "    </div>\n",
              "  </div>\n",
              "  "
            ]
          },
          "metadata": {},
          "execution_count": 32
        }
      ]
    },
    {
      "cell_type": "markdown",
      "source": [
        "### Create a split of data for training and testing\n",
        "\n",
        "All data from, and including, January 1st, 2019 will be reserved for the test set. All other data can be used for training."
      ],
      "metadata": {
        "id": "ARspe6zWLdm8"
      }
    },
    {
      "cell_type": "code",
      "source": [
        "train_test_split = data.date < test_start_pd\n",
        "\n",
        "train = data[train_test_split]\n",
        "test = data[~train_test_split]\n",
        "\n",
        "train.shape, test.shape"
      ],
      "metadata": {
        "colab": {
          "base_uri": "https://localhost:8080/"
        },
        "id": "kX_g3hUscyct",
        "outputId": "6a2c8455-baf3-4914-bdbf-6af7894eeb92"
      },
      "execution_count": 33,
      "outputs": [
        {
          "output_type": "execute_result",
          "data": {
            "text/plain": [
              "((4083273, 5), (1148356, 5))"
            ]
          },
          "metadata": {},
          "execution_count": 33
        }
      ]
    },
    {
      "cell_type": "markdown",
      "source": [
        "After the split, the training set contains ~4.1M stock prices, while the test set has ~1.1M. There are ~5 trading days in a week, ~20 in a month, ~60 in a quarter, and ~250 in a year. If forecasting a month into the future, it is reasonable to require at least a quarter's worth of training data, minimum. Therefore, we require included companies to have at least a quarter plus a month worth of days (i.e., 80) in the training set to be included."
      ],
      "metadata": {
        "id": "MfnVcVmnL-dm"
      }
    },
    {
      "cell_type": "code",
      "source": [
        "trn_count = train.groupby(\"ticker\").count()\n",
        "tst_count = test.groupby(\"ticker\").count()\n",
        "\n",
        "exclude_tickers = pd.concat(\n",
        "    [\n",
        "     trn_count[trn_count.market_cap < 80],\n",
        "     tst_count[tst_count.market_cap < 20],\n",
        "    ]\n",
        ").index.unique()\n",
        "\n",
        "exclude_tickers.shape[0]"
      ],
      "metadata": {
        "colab": {
          "base_uri": "https://localhost:8080/"
        },
        "id": "-sA0bzvRIKFd",
        "outputId": "a7cafe32-9888-46d5-c45e-2831a2de81d9"
      },
      "execution_count": 38,
      "outputs": [
        {
          "output_type": "execute_result",
          "data": {
            "text/plain": [
              "18"
            ]
          },
          "metadata": {},
          "execution_count": 38
        }
      ]
    },
    {
      "cell_type": "markdown",
      "source": [
        "When imposing this requirement, we lose 18 tickers."
      ],
      "metadata": {
        "id": "_45XQYfyJAC9"
      }
    },
    {
      "cell_type": "code",
      "source": [
        "train = train[~train.ticker.isin(exclude_tickers)]\n",
        "test = test[~test.ticker.isin(exclude_tickers)]\n",
        "\n",
        "train.shape, test.shape"
      ],
      "metadata": {
        "colab": {
          "base_uri": "https://localhost:8080/"
        },
        "id": "heSL8m5VNscF",
        "outputId": "589fe885-631a-4146-b225-a445aebf87e7"
      },
      "execution_count": 39,
      "outputs": [
        {
          "output_type": "execute_result",
          "data": {
            "text/plain": [
              "((4080794, 5), (1136757, 5))"
            ]
          },
          "metadata": {},
          "execution_count": 39
        }
      ]
    },
    {
      "cell_type": "markdown",
      "source": [
        "### Combine into one frame"
      ],
      "metadata": {
        "id": "6nKtZQXuVq6L"
      }
    },
    {
      "cell_type": "code",
      "source": [
        "data = pd.concat([train, test], axis=0).sort_values(by=[\"ticker\", \"date\"]).reset_index().drop(columns=[\"index\"])\n",
        "\n",
        "data.ticker.unique().shape[0], data.shape[0]"
      ],
      "metadata": {
        "colab": {
          "base_uri": "https://localhost:8080/"
        },
        "id": "P2owMA2opcW4",
        "outputId": "e6235c10-ccc1-4b4a-f801-ebc11eb11205"
      },
      "execution_count": 42,
      "outputs": [
        {
          "output_type": "execute_result",
          "data": {
            "text/plain": [
              "(1436, 5217551)"
            ]
          },
          "metadata": {},
          "execution_count": 42
        }
      ]
    },
    {
      "cell_type": "markdown",
      "source": [
        "# Save the data to WandB 👫"
      ],
      "metadata": {
        "id": "BAQOxqZxprDL"
      }
    },
    {
      "cell_type": "code",
      "source": [
        "filename = \"stock-data-clean.feather\"\n",
        "\n",
        "put_dataset(data, filename, project=\"master-test\", description=\"Remove PK companies also and do sufficiency clean\")"
      ],
      "metadata": {
        "colab": {
          "base_uri": "https://localhost:8080/",
          "height": 139,
          "referenced_widgets": [
            "f29a2b3eb11f4972aa1b50defc15563c",
            "fda216165efe4323ae84fda3008109e8",
            "0fe8810369d244f9900cca014ec13bf5",
            "f5fe0c8a60884e2fa224058d486acf41",
            "491e220d837a4ec984960d48975e5c15",
            "e31679ca97bb465da728044d8478e908",
            "7ef1831fc6f1419d9f75631f5607a609",
            "ff709de4d0ce4055aef2a7bf8f7e6f8e"
          ]
        },
        "id": "xI9a7KEjpVNq",
        "outputId": "6001a619-8b82-45a8-e8d3-e108aabfdda1"
      },
      "execution_count": 43,
      "outputs": [
        {
          "output_type": "display_data",
          "data": {
            "text/plain": [
              "<IPython.core.display.HTML object>"
            ],
            "text/html": [
              "Tracking run with wandb version 0.12.15"
            ]
          },
          "metadata": {}
        },
        {
          "output_type": "display_data",
          "data": {
            "text/plain": [
              "<IPython.core.display.HTML object>"
            ],
            "text/html": [
              "Run data is saved locally in <code>/content/wandb/run-20220502_140041-nc2vun6w</code>"
            ]
          },
          "metadata": {}
        },
        {
          "output_type": "display_data",
          "data": {
            "text/plain": [
              "<IPython.core.display.HTML object>"
            ],
            "text/html": [
              "Syncing run <strong><a href=\"https://wandb.ai/krankile/master-test/runs/nc2vun6w\" target=\"_blank\">rare-sunset-86</a></strong> to <a href=\"https://wandb.ai/krankile/master-test\" target=\"_blank\">Weights & Biases</a> (<a href=\"https://wandb.me/run\" target=\"_blank\">docs</a>)<br/>"
            ]
          },
          "metadata": {}
        },
        {
          "output_type": "display_data",
          "data": {
            "text/plain": [
              "<IPython.core.display.HTML object>"
            ],
            "text/html": [
              "Waiting for W&B process to finish... <strong style=\"color:green\">(success).</strong>"
            ]
          },
          "metadata": {}
        },
        {
          "output_type": "display_data",
          "data": {
            "text/plain": [
              "VBox(children=(Label(value='126.376 MB of 126.376 MB uploaded (0.000 MB deduped)\\r'), FloatProgress(value=1.0,…"
            ],
            "application/vnd.jupyter.widget-view+json": {
              "version_major": 2,
              "version_minor": 0,
              "model_id": "f29a2b3eb11f4972aa1b50defc15563c"
            }
          },
          "metadata": {}
        },
        {
          "output_type": "display_data",
          "data": {
            "text/plain": [
              "<IPython.core.display.HTML object>"
            ],
            "text/html": [
              "Synced <strong style=\"color:#cdcd00\">rare-sunset-86</strong>: <a href=\"https://wandb.ai/krankile/master-test/runs/nc2vun6w\" target=\"_blank\">https://wandb.ai/krankile/master-test/runs/nc2vun6w</a><br/>Synced 4 W&B file(s), 0 media file(s), 1 artifact file(s) and 0 other file(s)"
            ]
          },
          "metadata": {}
        },
        {
          "output_type": "display_data",
          "data": {
            "text/plain": [
              "<IPython.core.display.HTML object>"
            ],
            "text/html": [
              "Find logs at: <code>./wandb/run-20220502_140041-nc2vun6w/logs</code>"
            ]
          },
          "metadata": {}
        }
      ]
    },
    {
      "cell_type": "code",
      "source": [
        ""
      ],
      "metadata": {
        "id": "Igef4ZY3ErWO"
      },
      "execution_count": null,
      "outputs": []
    }
  ]
}