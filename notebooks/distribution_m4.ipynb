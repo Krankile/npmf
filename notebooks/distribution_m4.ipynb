{
  "nbformat": 4,
  "nbformat_minor": 0,
  "metadata": {
    "colab": {
      "name": "distribution_m4.ipynb",
      "provenance": [],
      "authorship_tag": "ABX9TyMBZK4af72ttrZHevQOtCvI",
      "include_colab_link": true
    },
    "kernelspec": {
      "name": "python3",
      "display_name": "Python 3"
    },
    "language_info": {
      "name": "python"
    }
  },
  "cells": [
    {
      "cell_type": "markdown",
      "metadata": {
        "id": "view-in-github",
        "colab_type": "text"
      },
      "source": [
        "<a href=\"https://colab.research.google.com/github/Krankile/npmf/blob/main/notebooks/distribution_m4.ipynb\" target=\"_parent\"><img src=\"https://colab.research.google.com/assets/colab-badge.svg\" alt=\"Open In Colab\"/></a>"
      ]
    },
    {
      "cell_type": "markdown",
      "source": [
        "#Setup"
      ],
      "metadata": {
        "id": "yDBWsow6lLZT"
      }
    },
    {
      "cell_type": "code",
      "source": [
        "%load_ext autoreload\n",
        "%autoreload 2"
      ],
      "metadata": {
        "id": "hKuFzk7aEmB9"
      },
      "execution_count": 1,
      "outputs": []
    },
    {
      "cell_type": "code",
      "source": [
        "%%capture\n",
        "!git clone https://github.com/Krankile/npmf.git"
      ],
      "metadata": {
        "id": "91KPY7q0LUOw"
      },
      "execution_count": 2,
      "outputs": []
    },
    {
      "cell_type": "markdown",
      "source": [
        "##General setup"
      ],
      "metadata": {
        "id": "CLAlA0htLgMY"
      }
    },
    {
      "cell_type": "code",
      "source": [
        "%%capture\n",
        "!cd npmf && git pull\n",
        "from npmf.utils.colors import main,main2,main3"
      ],
      "metadata": {
        "id": "zGsSIhgXEkhz"
      },
      "execution_count": 3,
      "outputs": []
    },
    {
      "cell_type": "code",
      "execution_count": 4,
      "metadata": {
        "colab": {
          "base_uri": "https://localhost:8080/"
        },
        "id": "3x5yBrIIevQ9",
        "outputId": "c8629400-b1ba-419d-c4e9-8bf358da9320"
      },
      "outputs": [
        {
          "output_type": "stream",
          "name": "stdout",
          "text": [
            "Mounted at /content/drive/\n"
          ]
        }
      ],
      "source": [
        "from google.colab import drive\n",
        "drive.mount('/content/drive/')"
      ]
    },
    {
      "cell_type": "code",
      "source": [
        "import pandas as pd\n",
        "import numpy as np\n",
        "import matplotlib as mpl\n",
        "import matplotlib.pyplot as plt\n",
        "\n",
        "from pathlib import Path\n",
        "from scipy.stats import kurtosis\n",
        "from scipy.stats import norm"
      ],
      "metadata": {
        "id": "0VWavvYmgnPN"
      },
      "execution_count": 70,
      "outputs": []
    },
    {
      "cell_type": "code",
      "source": [
        "ROOT = Path(\"drive/MyDrive/Master, Ankile og Krange/Master\")"
      ],
      "metadata": {
        "id": "0hgKj6dblD6E"
      },
      "execution_count": 6,
      "outputs": []
    },
    {
      "cell_type": "code",
      "source": [
        "mpl.rcParams['axes.prop_cycle'] = mpl.cycler(color=[main, main2, main3,\"black\"]) "
      ],
      "metadata": {
        "id": "wmOfPPxYsc8Y"
      },
      "execution_count": 7,
      "outputs": []
    },
    {
      "cell_type": "markdown",
      "source": [
        "# Analyse the distirbution of M4 monthly data vs. a gaussian distribution"
      ],
      "metadata": {
        "id": "6ZB17ibslNsL"
      }
    },
    {
      "cell_type": "markdown",
      "source": [
        " Start by collecting m4 data"
      ],
      "metadata": {
        "id": "Dz1UVCU-lvqh"
      }
    },
    {
      "cell_type": "code",
      "source": [
        "df_test = pd.read_feather(ROOT/\"Data/arima_nn/monthly_test_48.feather\").set_index(\"V1\")\n",
        "df_train = pd.read_feather(ROOT/\"Data/arima_nn/monthly_train_48.feather\").set_index(\"V1\")"
      ],
      "metadata": {
        "id": "oaSdF5y3l1lE"
      },
      "execution_count": 8,
      "outputs": []
    },
    {
      "cell_type": "code",
      "source": [
        "df_return = (df_test.diff(axis=1).iloc[:,1:]/df_test.iloc[:,:-1].values)"
      ],
      "metadata": {
        "id": "IhqC7UDDr2zd"
      },
      "execution_count": 9,
      "outputs": []
    },
    {
      "cell_type": "code",
      "source": [
        "df_return"
      ],
      "metadata": {
        "colab": {
          "base_uri": "https://localhost:8080/",
          "height": 455
        },
        "id": "N2nmIRgQxRnM",
        "outputId": "c19ccef8-ef1c-4ef4-b5e2-0222cef6253e"
      },
      "execution_count": 10,
      "outputs": [
        {
          "output_type": "execute_result",
          "data": {
            "text/plain": [
              "              V3        V4        V5        V6        V7        V8        V9  \\\n",
              "V1                                                                             \n",
              "M1     -0.106651 -0.387677  0.060797 -0.067194 -0.057203  0.150562  0.164062   \n",
              "M2      0.043062 -0.192661  0.301136 -0.344978 -0.086667  0.321168 -0.198895   \n",
              "M3      0.025913  0.013178 -0.010550  0.000584  0.013138 -0.001369 -0.006348   \n",
              "M4      0.008301 -0.005031 -0.004137 -0.000615 -0.006928  0.001240 -0.003716   \n",
              "M5      0.018223 -0.026846  0.016092  0.013575 -0.008929 -0.022523 -0.013825   \n",
              "...          ...       ...       ...       ...       ...       ...       ...   \n",
              "M47996  0.162033  0.170573  0.026280  0.112900 -0.443097  0.181270 -0.134355   \n",
              "M47997 -0.106071 -0.006758  0.009593 -0.023091 -0.295408  0.116693  0.016386   \n",
              "M47998 -0.007921 -0.009980 -0.004032  0.006073  0.008048  0.017964 -0.001961   \n",
              "M47999 -0.002278  0.004566 -0.004545  0.006849 -0.006803  0.020548 -0.002237   \n",
              "M48000 -0.009823 -0.003968  0.003984 -0.003968  0.000000  0.007968 -0.009881   \n",
              "\n",
              "             V10       V11       V12       V13       V14       V15       V16  \\\n",
              "V1                                                                             \n",
              "M1      0.100671 -0.253049 -0.077551  0.630531  0.227951 -0.140331 -0.308483   \n",
              "M2     -0.055172  0.007299  0.239130  0.251462 -0.126168 -0.106952  0.077844   \n",
              "M3     -0.007042  0.019522  0.005666 -0.016402 -0.002973  0.004799  0.006007   \n",
              "M4      0.001710 -0.009775  0.001254  0.000000 -0.005790 -0.002518 -0.008995   \n",
              "M5     -0.016355  0.016627  0.016355 -0.013793  0.006993  0.011574  0.004577   \n",
              "...          ...       ...       ...       ...       ...       ...       ...   \n",
              "M47996  0.023089 -0.109077 -0.292429 -0.163882  0.212179  0.020801  0.088428   \n",
              "M47997  0.049781 -0.058467 -0.060381  0.023298  0.046131 -0.118492 -0.007423   \n",
              "M47998 -0.011788 -0.017893 -0.016194  0.004115 -0.010246  0.041408 -0.025845   \n",
              "M47999 -0.013453  0.013636 -0.017937  0.013699 -0.031532  0.013953 -0.004587   \n",
              "M48000 -0.003992 -0.004008  0.010060  0.001992 -0.009940  0.008032 -0.013944   \n",
              "\n",
              "             V17       V18       V19  \n",
              "V1                                    \n",
              "M1     -0.126394 -0.044681 -0.106904  \n",
              "M2      0.000000 -0.005556 -0.106145  \n",
              "M3      0.011222 -0.001423  0.008620  \n",
              "M4      0.000637  0.017982  0.005628  \n",
              "M5      0.020501 -0.020089 -0.002278  \n",
              "...          ...       ...       ...  \n",
              "M47996  0.144119  0.180920 -0.598693  \n",
              "M47997  0.062429  0.015608 -0.396565  \n",
              "M47998 -0.022449  0.098121 -0.030418  \n",
              "M47999  0.011521  0.041002 -0.019694  \n",
              "M48000 -0.018182  0.057613 -0.007782  \n",
              "\n",
              "[48000 rows x 17 columns]"
            ],
            "text/html": [
              "\n",
              "  <div id=\"df-a7960581-007b-4172-8e80-42819a14bee3\">\n",
              "    <div class=\"colab-df-container\">\n",
              "      <div>\n",
              "<style scoped>\n",
              "    .dataframe tbody tr th:only-of-type {\n",
              "        vertical-align: middle;\n",
              "    }\n",
              "\n",
              "    .dataframe tbody tr th {\n",
              "        vertical-align: top;\n",
              "    }\n",
              "\n",
              "    .dataframe thead th {\n",
              "        text-align: right;\n",
              "    }\n",
              "</style>\n",
              "<table border=\"1\" class=\"dataframe\">\n",
              "  <thead>\n",
              "    <tr style=\"text-align: right;\">\n",
              "      <th></th>\n",
              "      <th>V3</th>\n",
              "      <th>V4</th>\n",
              "      <th>V5</th>\n",
              "      <th>V6</th>\n",
              "      <th>V7</th>\n",
              "      <th>V8</th>\n",
              "      <th>V9</th>\n",
              "      <th>V10</th>\n",
              "      <th>V11</th>\n",
              "      <th>V12</th>\n",
              "      <th>V13</th>\n",
              "      <th>V14</th>\n",
              "      <th>V15</th>\n",
              "      <th>V16</th>\n",
              "      <th>V17</th>\n",
              "      <th>V18</th>\n",
              "      <th>V19</th>\n",
              "    </tr>\n",
              "    <tr>\n",
              "      <th>V1</th>\n",
              "      <th></th>\n",
              "      <th></th>\n",
              "      <th></th>\n",
              "      <th></th>\n",
              "      <th></th>\n",
              "      <th></th>\n",
              "      <th></th>\n",
              "      <th></th>\n",
              "      <th></th>\n",
              "      <th></th>\n",
              "      <th></th>\n",
              "      <th></th>\n",
              "      <th></th>\n",
              "      <th></th>\n",
              "      <th></th>\n",
              "      <th></th>\n",
              "      <th></th>\n",
              "    </tr>\n",
              "  </thead>\n",
              "  <tbody>\n",
              "    <tr>\n",
              "      <th>M1</th>\n",
              "      <td>-0.106651</td>\n",
              "      <td>-0.387677</td>\n",
              "      <td>0.060797</td>\n",
              "      <td>-0.067194</td>\n",
              "      <td>-0.057203</td>\n",
              "      <td>0.150562</td>\n",
              "      <td>0.164062</td>\n",
              "      <td>0.100671</td>\n",
              "      <td>-0.253049</td>\n",
              "      <td>-0.077551</td>\n",
              "      <td>0.630531</td>\n",
              "      <td>0.227951</td>\n",
              "      <td>-0.140331</td>\n",
              "      <td>-0.308483</td>\n",
              "      <td>-0.126394</td>\n",
              "      <td>-0.044681</td>\n",
              "      <td>-0.106904</td>\n",
              "    </tr>\n",
              "    <tr>\n",
              "      <th>M2</th>\n",
              "      <td>0.043062</td>\n",
              "      <td>-0.192661</td>\n",
              "      <td>0.301136</td>\n",
              "      <td>-0.344978</td>\n",
              "      <td>-0.086667</td>\n",
              "      <td>0.321168</td>\n",
              "      <td>-0.198895</td>\n",
              "      <td>-0.055172</td>\n",
              "      <td>0.007299</td>\n",
              "      <td>0.239130</td>\n",
              "      <td>0.251462</td>\n",
              "      <td>-0.126168</td>\n",
              "      <td>-0.106952</td>\n",
              "      <td>0.077844</td>\n",
              "      <td>0.000000</td>\n",
              "      <td>-0.005556</td>\n",
              "      <td>-0.106145</td>\n",
              "    </tr>\n",
              "    <tr>\n",
              "      <th>M3</th>\n",
              "      <td>0.025913</td>\n",
              "      <td>0.013178</td>\n",
              "      <td>-0.010550</td>\n",
              "      <td>0.000584</td>\n",
              "      <td>0.013138</td>\n",
              "      <td>-0.001369</td>\n",
              "      <td>-0.006348</td>\n",
              "      <td>-0.007042</td>\n",
              "      <td>0.019522</td>\n",
              "      <td>0.005666</td>\n",
              "      <td>-0.016402</td>\n",
              "      <td>-0.002973</td>\n",
              "      <td>0.004799</td>\n",
              "      <td>0.006007</td>\n",
              "      <td>0.011222</td>\n",
              "      <td>-0.001423</td>\n",
              "      <td>0.008620</td>\n",
              "    </tr>\n",
              "    <tr>\n",
              "      <th>M4</th>\n",
              "      <td>0.008301</td>\n",
              "      <td>-0.005031</td>\n",
              "      <td>-0.004137</td>\n",
              "      <td>-0.000615</td>\n",
              "      <td>-0.006928</td>\n",
              "      <td>0.001240</td>\n",
              "      <td>-0.003716</td>\n",
              "      <td>0.001710</td>\n",
              "      <td>-0.009775</td>\n",
              "      <td>0.001254</td>\n",
              "      <td>0.000000</td>\n",
              "      <td>-0.005790</td>\n",
              "      <td>-0.002518</td>\n",
              "      <td>-0.008995</td>\n",
              "      <td>0.000637</td>\n",
              "      <td>0.017982</td>\n",
              "      <td>0.005628</td>\n",
              "    </tr>\n",
              "    <tr>\n",
              "      <th>M5</th>\n",
              "      <td>0.018223</td>\n",
              "      <td>-0.026846</td>\n",
              "      <td>0.016092</td>\n",
              "      <td>0.013575</td>\n",
              "      <td>-0.008929</td>\n",
              "      <td>-0.022523</td>\n",
              "      <td>-0.013825</td>\n",
              "      <td>-0.016355</td>\n",
              "      <td>0.016627</td>\n",
              "      <td>0.016355</td>\n",
              "      <td>-0.013793</td>\n",
              "      <td>0.006993</td>\n",
              "      <td>0.011574</td>\n",
              "      <td>0.004577</td>\n",
              "      <td>0.020501</td>\n",
              "      <td>-0.020089</td>\n",
              "      <td>-0.002278</td>\n",
              "    </tr>\n",
              "    <tr>\n",
              "      <th>...</th>\n",
              "      <td>...</td>\n",
              "      <td>...</td>\n",
              "      <td>...</td>\n",
              "      <td>...</td>\n",
              "      <td>...</td>\n",
              "      <td>...</td>\n",
              "      <td>...</td>\n",
              "      <td>...</td>\n",
              "      <td>...</td>\n",
              "      <td>...</td>\n",
              "      <td>...</td>\n",
              "      <td>...</td>\n",
              "      <td>...</td>\n",
              "      <td>...</td>\n",
              "      <td>...</td>\n",
              "      <td>...</td>\n",
              "      <td>...</td>\n",
              "    </tr>\n",
              "    <tr>\n",
              "      <th>M47996</th>\n",
              "      <td>0.162033</td>\n",
              "      <td>0.170573</td>\n",
              "      <td>0.026280</td>\n",
              "      <td>0.112900</td>\n",
              "      <td>-0.443097</td>\n",
              "      <td>0.181270</td>\n",
              "      <td>-0.134355</td>\n",
              "      <td>0.023089</td>\n",
              "      <td>-0.109077</td>\n",
              "      <td>-0.292429</td>\n",
              "      <td>-0.163882</td>\n",
              "      <td>0.212179</td>\n",
              "      <td>0.020801</td>\n",
              "      <td>0.088428</td>\n",
              "      <td>0.144119</td>\n",
              "      <td>0.180920</td>\n",
              "      <td>-0.598693</td>\n",
              "    </tr>\n",
              "    <tr>\n",
              "      <th>M47997</th>\n",
              "      <td>-0.106071</td>\n",
              "      <td>-0.006758</td>\n",
              "      <td>0.009593</td>\n",
              "      <td>-0.023091</td>\n",
              "      <td>-0.295408</td>\n",
              "      <td>0.116693</td>\n",
              "      <td>0.016386</td>\n",
              "      <td>0.049781</td>\n",
              "      <td>-0.058467</td>\n",
              "      <td>-0.060381</td>\n",
              "      <td>0.023298</td>\n",
              "      <td>0.046131</td>\n",
              "      <td>-0.118492</td>\n",
              "      <td>-0.007423</td>\n",
              "      <td>0.062429</td>\n",
              "      <td>0.015608</td>\n",
              "      <td>-0.396565</td>\n",
              "    </tr>\n",
              "    <tr>\n",
              "      <th>M47998</th>\n",
              "      <td>-0.007921</td>\n",
              "      <td>-0.009980</td>\n",
              "      <td>-0.004032</td>\n",
              "      <td>0.006073</td>\n",
              "      <td>0.008048</td>\n",
              "      <td>0.017964</td>\n",
              "      <td>-0.001961</td>\n",
              "      <td>-0.011788</td>\n",
              "      <td>-0.017893</td>\n",
              "      <td>-0.016194</td>\n",
              "      <td>0.004115</td>\n",
              "      <td>-0.010246</td>\n",
              "      <td>0.041408</td>\n",
              "      <td>-0.025845</td>\n",
              "      <td>-0.022449</td>\n",
              "      <td>0.098121</td>\n",
              "      <td>-0.030418</td>\n",
              "    </tr>\n",
              "    <tr>\n",
              "      <th>M47999</th>\n",
              "      <td>-0.002278</td>\n",
              "      <td>0.004566</td>\n",
              "      <td>-0.004545</td>\n",
              "      <td>0.006849</td>\n",
              "      <td>-0.006803</td>\n",
              "      <td>0.020548</td>\n",
              "      <td>-0.002237</td>\n",
              "      <td>-0.013453</td>\n",
              "      <td>0.013636</td>\n",
              "      <td>-0.017937</td>\n",
              "      <td>0.013699</td>\n",
              "      <td>-0.031532</td>\n",
              "      <td>0.013953</td>\n",
              "      <td>-0.004587</td>\n",
              "      <td>0.011521</td>\n",
              "      <td>0.041002</td>\n",
              "      <td>-0.019694</td>\n",
              "    </tr>\n",
              "    <tr>\n",
              "      <th>M48000</th>\n",
              "      <td>-0.009823</td>\n",
              "      <td>-0.003968</td>\n",
              "      <td>0.003984</td>\n",
              "      <td>-0.003968</td>\n",
              "      <td>0.000000</td>\n",
              "      <td>0.007968</td>\n",
              "      <td>-0.009881</td>\n",
              "      <td>-0.003992</td>\n",
              "      <td>-0.004008</td>\n",
              "      <td>0.010060</td>\n",
              "      <td>0.001992</td>\n",
              "      <td>-0.009940</td>\n",
              "      <td>0.008032</td>\n",
              "      <td>-0.013944</td>\n",
              "      <td>-0.018182</td>\n",
              "      <td>0.057613</td>\n",
              "      <td>-0.007782</td>\n",
              "    </tr>\n",
              "  </tbody>\n",
              "</table>\n",
              "<p>48000 rows × 17 columns</p>\n",
              "</div>\n",
              "      <button class=\"colab-df-convert\" onclick=\"convertToInteractive('df-a7960581-007b-4172-8e80-42819a14bee3')\"\n",
              "              title=\"Convert this dataframe to an interactive table.\"\n",
              "              style=\"display:none;\">\n",
              "        \n",
              "  <svg xmlns=\"http://www.w3.org/2000/svg\" height=\"24px\"viewBox=\"0 0 24 24\"\n",
              "       width=\"24px\">\n",
              "    <path d=\"M0 0h24v24H0V0z\" fill=\"none\"/>\n",
              "    <path d=\"M18.56 5.44l.94 2.06.94-2.06 2.06-.94-2.06-.94-.94-2.06-.94 2.06-2.06.94zm-11 1L8.5 8.5l.94-2.06 2.06-.94-2.06-.94L8.5 2.5l-.94 2.06-2.06.94zm10 10l.94 2.06.94-2.06 2.06-.94-2.06-.94-.94-2.06-.94 2.06-2.06.94z\"/><path d=\"M17.41 7.96l-1.37-1.37c-.4-.4-.92-.59-1.43-.59-.52 0-1.04.2-1.43.59L10.3 9.45l-7.72 7.72c-.78.78-.78 2.05 0 2.83L4 21.41c.39.39.9.59 1.41.59.51 0 1.02-.2 1.41-.59l7.78-7.78 2.81-2.81c.8-.78.8-2.07 0-2.86zM5.41 20L4 18.59l7.72-7.72 1.47 1.35L5.41 20z\"/>\n",
              "  </svg>\n",
              "      </button>\n",
              "      \n",
              "  <style>\n",
              "    .colab-df-container {\n",
              "      display:flex;\n",
              "      flex-wrap:wrap;\n",
              "      gap: 12px;\n",
              "    }\n",
              "\n",
              "    .colab-df-convert {\n",
              "      background-color: #E8F0FE;\n",
              "      border: none;\n",
              "      border-radius: 50%;\n",
              "      cursor: pointer;\n",
              "      display: none;\n",
              "      fill: #1967D2;\n",
              "      height: 32px;\n",
              "      padding: 0 0 0 0;\n",
              "      width: 32px;\n",
              "    }\n",
              "\n",
              "    .colab-df-convert:hover {\n",
              "      background-color: #E2EBFA;\n",
              "      box-shadow: 0px 1px 2px rgba(60, 64, 67, 0.3), 0px 1px 3px 1px rgba(60, 64, 67, 0.15);\n",
              "      fill: #174EA6;\n",
              "    }\n",
              "\n",
              "    [theme=dark] .colab-df-convert {\n",
              "      background-color: #3B4455;\n",
              "      fill: #D2E3FC;\n",
              "    }\n",
              "\n",
              "    [theme=dark] .colab-df-convert:hover {\n",
              "      background-color: #434B5C;\n",
              "      box-shadow: 0px 1px 3px 1px rgba(0, 0, 0, 0.15);\n",
              "      filter: drop-shadow(0px 1px 2px rgba(0, 0, 0, 0.3));\n",
              "      fill: #FFFFFF;\n",
              "    }\n",
              "  </style>\n",
              "\n",
              "      <script>\n",
              "        const buttonEl =\n",
              "          document.querySelector('#df-a7960581-007b-4172-8e80-42819a14bee3 button.colab-df-convert');\n",
              "        buttonEl.style.display =\n",
              "          google.colab.kernel.accessAllowed ? 'block' : 'none';\n",
              "\n",
              "        async function convertToInteractive(key) {\n",
              "          const element = document.querySelector('#df-a7960581-007b-4172-8e80-42819a14bee3');\n",
              "          const dataTable =\n",
              "            await google.colab.kernel.invokeFunction('convertToInteractive',\n",
              "                                                     [key], {});\n",
              "          if (!dataTable) return;\n",
              "\n",
              "          const docLinkHtml = 'Like what you see? Visit the ' +\n",
              "            '<a target=\"_blank\" href=https://colab.research.google.com/notebooks/data_table.ipynb>data table notebook</a>'\n",
              "            + ' to learn more about interactive tables.';\n",
              "          element.innerHTML = '';\n",
              "          dataTable['output_type'] = 'display_data';\n",
              "          await google.colab.output.renderOutput(dataTable, element);\n",
              "          const docLink = document.createElement('div');\n",
              "          docLink.innerHTML = docLinkHtml;\n",
              "          element.appendChild(docLink);\n",
              "        }\n",
              "      </script>\n",
              "    </div>\n",
              "  </div>\n",
              "  "
            ]
          },
          "metadata": {},
          "execution_count": 10
        }
      ]
    },
    {
      "cell_type": "code",
      "source": [
        "all_returns = df_return.values.flatten()"
      ],
      "metadata": {
        "id": "qEBe7hsuzBZ7"
      },
      "execution_count": 11,
      "outputs": []
    },
    {
      "cell_type": "code",
      "source": [
        "alpha = all_returns.mean()\n",
        "sigma = all_returns.std()"
      ],
      "metadata": {
        "id": "wtmCifWM9OCa"
      },
      "execution_count": 85,
      "outputs": []
    },
    {
      "cell_type": "code",
      "source": [
        "def normal_dist(x , mean , sd):\n",
        "    prob_density = (np.pi*sd) * np.exp(-0.5*((x-mean)/sd)**2)\n",
        "    return prob_density"
      ],
      "metadata": {
        "id": "JGmNa41k9sZy"
      },
      "execution_count": 13,
      "outputs": []
    },
    {
      "cell_type": "code",
      "source": [
        "plt.ylim(0,0.009)\n",
        "plt.xlim(1,4.2)\n",
        "plt.hist(all_returns, bins=1000, density=True, label=\"M-o-M change %\")\n",
        "gaussian = np.random.normal(alpha, sigma, 10_000)\n",
        "xmin, xmax = plt.xlim()\n",
        "x = np.linspace(xmin, xmax, 100)\n",
        "distribution = normal_dist(x, alpha, sigma)\n",
        "\n",
        "plt.plot(x,distribution, label=\"Normal distribution\")\n",
        "plt.xlabel(\"M-o-M change\")\n",
        "plt.ylabel(\"Frequency\")\n",
        "plt.legend(frameon=False);"
      ],
      "metadata": {
        "colab": {
          "base_uri": "https://localhost:8080/",
          "height": 282
        },
        "id": "p9aWSFHj2PWr",
        "outputId": "59a80f9b-3436-42bc-83a5-dbfc2b0decda"
      },
      "execution_count": 109,
      "outputs": [
        {
          "output_type": "display_data",
          "data": {
            "text/plain": [
              "<Figure size 432x288 with 1 Axes>"
            ],
            "image/png": "[encoded data removed]"
          },
          "metadata": {
            "needs_background": "light"
          }
        }
      ]
    },
    {
      "cell_type": "code",
      "source": [
        "plt.ylim(0,3)\n",
        "plt.xlim(-2,2)\n",
        "hist = plt.hist(all_returns, bins=48_000, density=True, label=\"M-o-M change %\")"
      ],
      "metadata": {
        "colab": {
          "base_uri": "https://localhost:8080/",
          "height": 268
        },
        "id": "Jp-9_zdkS092",
        "outputId": "8d568ed2-46dc-4829-f933-0a4e910fb1a7"
      },
      "execution_count": 111,
      "outputs": [
        {
          "output_type": "display_data",
          "data": {
            "text/plain": [
              "<Figure size 432x288 with 1 Axes>"
            ],
            "image/png": "[encoded data removed]"
          },
          "metadata": {
            "needs_background": "light"
          }
        }
      ]
    },
    {
      "cell_type": "code",
      "source": [
        "histogram_y = hist[0]\n",
        "x = hist[1]\n",
        "bar_width = x[1]-x[0]"
      ],
      "metadata": {
        "id": "P5-Vh0rgHI1V"
      },
      "execution_count": 60,
      "outputs": []
    },
    {
      "cell_type": "code",
      "source": [
        "comparison_start_lower_bound = 1.8\n",
        "actual_comparison_start = None\n",
        "for i in range(len(x)):\n",
        "    if x[i] >= comparison_start_lower_bound:\n",
        "        actual_comparison_start = x[i]\n",
        "        hist_area = sum(histogram_y[i:] * bar_width)\n",
        "        cdf = 1-norm.cdf(actual_comparison_start,loc=alpha, scale=sigma)\n",
        "        break\n",
        "        \n"
      ],
      "metadata": {
        "id": "RKYw3IYhIEp8"
      },
      "execution_count": 77,
      "outputs": []
    },
    {
      "cell_type": "code",
      "source": [
        "print(f\"From x={round(actual_comparison_start,2)} the area of the actual bars to the gaussian estimate are {round(hist_area/cdf,2)}x\")"
      ],
      "metadata": {
        "colab": {
          "base_uri": "https://localhost:8080/"
        },
        "id": "6DNEyhTKJ5mF",
        "outputId": "2880a9e6-1cd3-4167-d7f6-50b82de67100"
      },
      "execution_count": 96,
      "outputs": [
        {
          "output_type": "stream",
          "name": "stdout",
          "text": [
            "From x=1.8 the area of the actual bars to the gaussian estimate are: 966.6x\n"
          ]
        }
      ]
    },
    {
      "cell_type": "code",
      "source": [
        "print(f\"The kurtosis of the Gaussian normal distribution: {kurtosis(gaussian, fisher=False)} \")\n",
        "print(f\"The kurtosis of the actual distribution: {kurtosis(all_returns, fisher=False)} \")"
      ],
      "metadata": {
        "colab": {
          "base_uri": "https://localhost:8080/"
        },
        "id": "4EDqwAjC8ZJP",
        "outputId": "0ef8a247-68a9-4ca7-cbf9-407b1fb9a7f2"
      },
      "execution_count": 92,
      "outputs": [
        {
          "output_type": "stream",
          "name": "stdout",
          "text": [
            "The kurtosis of the Gaussian normal distribution: 2.974091895367371 \n",
            "The kurtosis of the actual distribution: 4798.0589525808455 \n"
          ]
        }
      ]
    }
  ]
}