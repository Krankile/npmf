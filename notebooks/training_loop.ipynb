{
  "cells": [
    {
      "cell_type": "markdown",
      "metadata": {
        "id": "view-in-github",
        "colab_type": "text"
      },
      "source": [
        "<a href=\"https://colab.research.google.com/github/Krankile/npmf/blob/main/notebooks/training_loop.ipynb\" target=\"_parent\"><img src=\"https://colab.research.google.com/assets/colab-badge.svg\" alt=\"Open In Colab\"/></a>"
      ]
    },
    {
      "cell_type": "markdown",
      "metadata": {
        "id": "d8F5tl4NL7FZ"
      },
      "source": [
        "# Setup"
      ]
    },
    {
      "cell_type": "markdown",
      "metadata": {
        "id": "Rwo44VGZLhAo"
      },
      "source": [
        "## Kernel setup"
      ]
    },
    {
      "cell_type": "code",
      "execution_count": 11,
      "metadata": {
        "id": "hKuFzk7aEmB9",
        "colab": {
          "base_uri": "https://localhost:8080/"
        },
        "outputId": "430e1413-5931-4f72-a486-b7e2b72f9c51"
      },
      "outputs": [
        {
          "output_type": "stream",
          "name": "stdout",
          "text": [
            "The autoreload extension is already loaded. To reload it, use:\n",
            "  %reload_ext autoreload\n"
          ]
        }
      ],
      "source": [
        "%load_ext autoreload\n",
        "%autoreload 2"
      ]
    },
    {
      "cell_type": "code",
      "execution_count": 12,
      "metadata": {
        "id": "91KPY7q0LUOw"
      },
      "outputs": [],
      "source": [
        "%%capture\n",
        "!pip install wandb more_itertools\n",
        "!git clone https://github.com/Krankile/npmf.git"
      ]
    },
    {
      "cell_type": "code",
      "execution_count": 13,
      "metadata": {
        "colab": {
          "base_uri": "https://localhost:8080/"
        },
        "id": "gUXnibj8YEi1",
        "outputId": "ce1307ef-99f5-4070-b701-4fa8a92f5073"
      },
      "outputs": [
        {
          "output_type": "stream",
          "name": "stdout",
          "text": [
            "\u001b[34m\u001b[1mwandb\u001b[0m: Appending key for api.wandb.ai to your netrc file: /root/.netrc\n"
          ]
        }
      ],
      "source": [
        "# https://wandb.ai/authorize\n",
        "!wandb login"
      ]
    },
    {
      "cell_type": "markdown",
      "metadata": {
        "id": "CLAlA0htLgMY"
      },
      "source": [
        "## General setup"
      ]
    },
    {
      "cell_type": "code",
      "execution_count": 14,
      "metadata": {
        "id": "1QSlgObXLq1p"
      },
      "outputs": [],
      "source": [
        "%%capture\n",
        "!cd npmf && git pull\n",
        "\n",
        "import math\n",
        "import multiprocessing\n",
        "import os\n",
        "import pickle\n",
        "import random\n",
        "from collections import Counter, defaultdict\n",
        "from dataclasses import asdict, dataclass\n",
        "from datetime import datetime, timedelta\n",
        "from operator import itemgetter\n",
        "from typing import Callable, List, Tuple\n",
        "from functools import partial\n",
        "from glob import glob\n",
        "from enum import Enum\n",
        "from pathlib import Path\n",
        "\n",
        "from more_itertools import chunked\n",
        "\n",
        "import matplotlib as mpl\n",
        "import matplotlib.pyplot as plt\n",
        "import numpy as np\n",
        "import pandas as pd\n",
        "import torch\n",
        "\n",
        "from npmf.utils import Problem\n",
        "from npmf.utils.colors import main, main2, main3\n",
        "from npmf.utils.dataset import EraDataset, EraController\n",
        "from npmf.utils.dataset.utils import clamp_and_slice\n",
        "from npmf.utils.dtypes import fundamental_types\n",
        "from npmf.utils.eikon import column_mapping\n",
        "from npmf.utils.tests.utils import pickle_df\n",
        "from npmf.utils.wandb import get_datasets, put_dataset, put_nn_model, get_processed_data\n",
        "from npmf.utils.training import EarlyStop, to_device, TqdmPostFix, loss_fns, get_naive_pred\n",
        "from npmf.utils.models import models\n",
        "\n",
        "from numpy.ma.core import outerproduct\n",
        "from pandas.tseries.offsets import BDay, Day\n",
        "from sklearn.preprocessing import MinMaxScaler, minmax_scale\n",
        "from torch import nn\n",
        "from torch.utils.data import DataLoader, Dataset, ConcatDataset\n",
        "\n",
        "import wandb as wb"
      ]
    },
    {
      "cell_type": "code",
      "execution_count": 15,
      "metadata": {
        "id": "hkTjKKLmLvpl"
      },
      "outputs": [],
      "source": [
        "np.seterr(all=\"raise\")\n",
        "\n",
        "mpl.rcParams['axes.prop_cycle'] = mpl.cycler(color=[main, main2, main3, \"black\"])\n",
        "mpl.rcParams['figure.figsize'] = (6, 4)  # (6, 4) is default and used in the paper"
      ]
    },
    {
      "cell_type": "code",
      "execution_count": 16,
      "metadata": {
        "colab": {
          "base_uri": "https://localhost:8080/"
        },
        "id": "Dqy02oAvY7GM",
        "outputId": "847b766b-abf3-4cbe-eb28-1b14356cf880"
      },
      "outputs": [
        {
          "output_type": "stream",
          "name": "stdout",
          "text": [
            "Using cuda device\n"
          ]
        }
      ],
      "source": [
        "device = \"cuda\" if torch.cuda.is_available() else \"cpu\"\n",
        "print(f\"Using {device} device\")"
      ]
    },
    {
      "cell_type": "code",
      "execution_count": 17,
      "metadata": {
        "colab": {
          "base_uri": "https://localhost:8080/"
        },
        "id": "cy50qmXr5_8V",
        "outputId": "cbd012e7-ef68-4e07-eac8-5f43ae05020b"
      },
      "outputs": [
        {
          "output_type": "stream",
          "name": "stdout",
          "text": [
            "Wed Jun  8 12:26:41 2022       \n",
            "+-----------------------------------------------------------------------------+\n",
            "| NVIDIA-SMI 460.32.03    Driver Version: 460.32.03    CUDA Version: 11.2     |\n",
            "|-------------------------------+----------------------+----------------------+\n",
            "| GPU  Name        Persistence-M| Bus-Id        Disp.A | Volatile Uncorr. ECC |\n",
            "| Fan  Temp  Perf  Pwr:Usage/Cap|         Memory-Usage | GPU-Util  Compute M. |\n",
            "|                               |                      |               MIG M. |\n",
            "|===============================+======================+======================|\n",
            "|   0  Tesla P100-PCIE...  Off  | 00000000:00:04.0 Off |                    0 |\n",
            "| N/A   42C    P0    26W / 250W |      2MiB / 16280MiB |      0%      Default |\n",
            "|                               |                      |                  N/A |\n",
            "+-------------------------------+----------------------+----------------------+\n",
            "                                                                               \n",
            "+-----------------------------------------------------------------------------+\n",
            "| Processes:                                                                  |\n",
            "|  GPU   GI   CI        PID   Type   Process name                  GPU Memory |\n",
            "|        ID   ID                                                   Usage      |\n",
            "|=============================================================================|\n",
            "|  No running processes found                                                 |\n",
            "+-----------------------------------------------------------------------------+\n"
          ]
        }
      ],
      "source": [
        "!nvidia-smi"
      ]
    },
    {
      "cell_type": "code",
      "execution_count": 18,
      "metadata": {
        "id": "YVFtfDk0pYtd"
      },
      "outputs": [],
      "source": [
        "pre_proc_data_dir = None\n",
        "np.random.seed(69)"
      ]
    },
    {
      "cell_type": "markdown",
      "metadata": {
        "id": "PGuFgO6jHPWX"
      },
      "source": [
        "\n",
        "# Get some data"
      ]
    },
    {
      "cell_type": "code",
      "execution_count": 19,
      "metadata": {
        "id": "4GW-peR9fUqa"
      },
      "outputs": [],
      "source": [
        "%%capture\n",
        "reload_data = not True\n",
        "\n",
        "if reload_data or not \"stock_df\" in vars():\n",
        "    names = [\"stock-data:final\", \"fundamental-data:final\", \"meta-data:final\", \"macro-data:final\"]\n",
        "\n",
        "    stock_df, fundamental_df, meta_df, macro_df = get_datasets(names=names, project=\"master\")\n",
        "\n",
        "    stock_df = stock_df.drop(columns=[\"close_price\", \"currency\"]).astype({\"market_cap\": np.float32})\n",
        "    fundamental_df = fundamental_df.drop(columns=\"period_end_date\").astype(fundamental_types)\n",
        "    macro_df.iloc[:, 1:] = macro_df.iloc[:, 1:].astype(np.float32)"
      ]
    },
    {
      "cell_type": "markdown",
      "metadata": {
        "id": "xKB0ueURvYVp"
      },
      "source": [
        "# Create the loop! (Like Hans Gude Gudesen)"
      ]
    },
    {
      "cell_type": "code",
      "execution_count": 20,
      "metadata": {
        "id": "pZAHVCqKuIOb"
      },
      "outputs": [],
      "source": [
        "# Check if it's necessary to calculate naive loss every epoch\n",
        "def get_epoch_loss(model, optimizer, dataloader, loss_fn, device, run_type, conf) -> Tuple[np.array, np.array, np.array]:\n",
        "    model_losses = []\n",
        "    naive_losses = []\n",
        "    y_preds = []\n",
        "    for data, meta_cont, meta_cat, target in to_device(dataloader, device):\n",
        "        if run_type == \"train\":\n",
        "            optimizer.zero_grad()\n",
        "        \n",
        "        with torch.no_grad():\n",
        "            naive_pred = get_naive_pred(data, target, device, conf)\n",
        "            naive_loss = loss_fn(target.clone(), naive_pred)\n",
        "\n",
        "        y_pred: torch.Tensor = model(data, meta_cont, meta_cat)\n",
        "        loss = loss_fn(target, y_pred)\n",
        "        \n",
        "        model_losses.append(loss.item())\n",
        "        naive_losses.append(naive_loss.item())\n",
        "        y_preds.append(y_pred.detach().cpu().numpy())\n",
        "\n",
        "        if run_type == \"train\":\n",
        "            loss.backward()\n",
        "            optimizer.step()\n",
        "\n",
        "    return model_losses, naive_losses, np.concatenate(y_preds, axis=0)"
      ]
    },
    {
      "cell_type": "code",
      "execution_count": 21,
      "metadata": {
        "id": "g3bvK3f9iHmo"
      },
      "outputs": [],
      "source": [
        "def eras_ahead_loss(model, data_loaders, conf):\n",
        "    model_infront = []\n",
        "    naive_infront = []\n",
        "\n",
        "    with torch.no_grad():\n",
        "        for loader in data_loaders:\n",
        "            model_loss, naive_loss, _ = get_epoch_loss(model, None, loader, loss_fns[\"mape_2\"], device, \"inference\", conf)\n",
        "        \n",
        "            model_infront += model_loss\n",
        "            naive_infront += naive_loss\n",
        "    \n",
        "    return np.array(model_infront), np.array(naive_infront)"
      ]
    },
    {
      "cell_type": "code",
      "execution_count": 22,
      "metadata": {
        "id": "lRHUgmiYTrC-"
      },
      "outputs": [],
      "source": [
        "def train_one_era(run, model, optimizer, data_train, data_val, stopper, losses, device, conf, pbar):\n",
        "\n",
        "    for epoch in range(conf.max_epochs):\n",
        "        epoch_losses = dict(train=[], val=[])\n",
        "        \n",
        "        pbar.update_postfix({\"epoch\": epoch})\n",
        "        for run_type, dataloader in {\"train\": data_train, \"val\": data_val}.items():\n",
        "            model.train(run_type == \"train\")\n",
        "            \n",
        "            epoch_model_loss, naive_losses, y_preds = get_epoch_loss(model, optimizer, dataloader, loss_fns[conf[f\"{run_type}_loss\"]], device, run_type, conf)\n",
        "            epoch_losses[run_type] += epoch_model_loss\n",
        "\n",
        "            epoch_loss = np.mean(epoch_losses[run_type])\n",
        "            losses[run_type].append(epoch_loss)\n",
        "\n",
        "            run.log({f\"epoch_{run_type}\": epoch_loss, \"epoch\": epoch, \"ticker_var\": y_preds.std(axis=0).mean(), \"self_var\": y_preds.std(axis=1).mean()})\n",
        "\n",
        "        pbar.update_postfix({\"train_loss\": np.mean(epoch_losses[\"train\"]), \"val_loss\": np.mean(epoch_losses[\"val\"]), \"naive\": np.mean(naive_losses)})\n",
        "\n",
        "        # TODO: Implement checkpointing of the best model according to val_loss\n",
        "        if run_type == \"val\" and stopper(epoch_losses[\"val\"]):\n",
        "            losses[\"epoch_lens\"].append(epoch + 1)\n",
        "            break\n",
        "\n",
        "    return epoch_losses[\"train\"], epoch_losses[\"val\"]"
      ]
    },
    {
      "cell_type": "code",
      "source": [
        "def calculate_metrics(eras, model, train_losses, val_losses, i, run, conf, pbar):\n",
        "    loaders_infront, loaders_end = eras.validation_loaders()\n",
        "    model_infront, naive_infront = eras_ahead_loss(model, loaders_infront, conf)\n",
        "    model_end, naive_end = eras_ahead_loss(model, loaders_end, conf)\n",
        "\n",
        "    metric_loss = 0.5*(np.mean(model_infront/(naive_infront+1e-6)-1) + np.mean(model_end/(naive_end+1e-6)-1))\n",
        "\n",
        "    run.log({\"era_train\": np.mean(train_losses), \"era_val\" : np.mean(val_losses),\"model_infront\": np.mean(model_infront),\n",
        "            \"naive_infront\": np.mean(naive_infront), \"model_end\": np.mean(model_end), \"naive_end\": np.mean(naive_end),\n",
        "            \"metric_loss\": metric_loss, \"time\": eras.date.timestamp(), \"era\": i})\n",
        "\n",
        "    pbar.update_postfix(dict(metric_loss=metric_loss))"
      ],
      "metadata": {
        "id": "4B37VcZmDUX5"
      },
      "execution_count": 40,
      "outputs": []
    },
    {
      "cell_type": "code",
      "execution_count": 41,
      "metadata": {
        "id": "sOlLqBTsMW1G"
      },
      "outputs": [],
      "source": [
        "def train(config, project=None, entity=None, enablewb=True) -> nn.Module:\n",
        "    \n",
        "    mode = \"online\" if enablewb else \"disabled\"\n",
        "    with wb.init(config=config, project=project, entity=entity, job_type=\"training\", mode=mode) as run:\n",
        "\n",
        "        conf = run.config\n",
        "        print(conf)\n",
        "\n",
        "        pre_proc_data_dir = None\n",
        "        if conf.use_pre_proc_data:\n",
        "            pre_proc_data_dir = get_processed_data(run, conf=conf)\n",
        "\n",
        "        run.config.update(dict(pre_proc_data_dir=pre_proc_data_dir))\n",
        "        conf = run.config\n",
        "        \n",
        "        model = models[conf.model](**conf).to(device)\n",
        "\n",
        "        # Try decreasing learning rate underway\n",
        "        optimizer = torch.optim.Adam(model.parameters(), lr=conf.learning_rate)\n",
        "\n",
        "        losses = dict(train=[], val=[], epoch_lens=[])\n",
        "\n",
        "        eras = EraController(stock_df=stock_df, fundamental_df=fundamental_df, meta_df=meta_df, macro_df=macro_df, conf=conf, **conf)\n",
        "        pbar = TqdmPostFix(eras, total=eras.total)\n",
        "        eras.register_pbar(pbar)\n",
        "\n",
        "        stopper = EarlyStop(conf.patience, conf.min_delta, model=(model if conf.checkpoint else None), pbar=pbar)\n",
        "\n",
        "        for i, (data_train, data_val) in enumerate(pbar):\n",
        "            \n",
        "            train_losses, val_losses = train_one_era(\n",
        "                run=run, \n",
        "                model=model, \n",
        "                optimizer=optimizer, \n",
        "                data_train=data_train,\n",
        "                data_val=data_val,\n",
        "                stopper=stopper.reset(),\n",
        "                losses=losses,\n",
        "                device=device, \n",
        "                conf=conf,\n",
        "                pbar=pbar,\n",
        "            )\n",
        "\n",
        "            calculate_metrics(eras, model, train_losses, val_losses, i, run, conf, pbar)\n",
        "\n",
        "        if conf.save_model:\n",
        "            put_nn_model(model, run)\n",
        "\n",
        "    return model, losses"
      ]
    },
    {
      "cell_type": "code",
      "execution_count": 42,
      "metadata": {
        "id": "4rczchGmu__D"
      },
      "outputs": [],
      "source": [
        "def get_params_from_data(stock_df, fundamental_df, meta_df, macro_df, params):\n",
        "    meta_cont_len = 1\n",
        "    meta_cat_len = np.array([len(meta_df[col].unique()) for col in meta_df.iloc[:,1:] if col != \"founding_year\"]) + 1\n",
        "    \n",
        "    stock_feats = 1\n",
        "    macro_feats = (macro_df.shape[1]-1)\n",
        "    funda_feats = (fundamental_df.loc[:,\"revenue\":].shape[1] - 1) + 2\n",
        "\n",
        "    n_features = stock_feats + macro_feats + funda_feats\n",
        "\n",
        "    if params.get(\"feature_subset\") is not None:\n",
        "        n_features = len(params[\"feature_subset\"])\n",
        "    \n",
        "    data_given_params = dict(\n",
        "        meta_cont_lens=(meta_cont_len, 1),\n",
        "        meta_cat_lens=list(map(lambda x: (x, int(math.ceil(x**0.25))), meta_cat_len)),\n",
        "        out_len=1 if params[\"forecast_problem\"] == Problem.volatility.name else params[\"forecast_w\"] if params[\"forecast_problem\"] == Problem.market_cap.name else funda_feats,\n",
        "        input_size=n_features,\n",
        "    )\n",
        "\n",
        "    return data_given_params"
      ]
    },
    {
      "cell_type": "markdown",
      "metadata": {
        "id": "s5zbIHNQHUNH"
      },
      "source": [
        "# Run the loop! (Like Odd-Geir Lademo)"
      ]
    },
    {
      "cell_type": "code",
      "source": [
        "def validate(config):\n",
        "    assert pd.date_range(start=config[\"end_date\"], periods=config[\"forecast_w\"], freq=\"B\")[-1] < pd.to_datetime(\"2019-01-01\"), \"Training overlaps with test set\""
      ],
      "metadata": {
        "id": "RtXAX8FghjN6"
      },
      "execution_count": 44,
      "outputs": []
    },
    {
      "cell_type": "code",
      "execution_count": 50,
      "metadata": {
        "id": "wIKeTJNrln6X",
        "colab": {
          "base_uri": "https://localhost:8080/",
          "height": 270
        },
        "outputId": "e6ff6298-482c-43b1-ad86-60abd805f9bb"
      },
      "outputs": [
        {
          "output_type": "error",
          "ename": "AssertionError",
          "evalue": "ignored",
          "traceback": [
            "\u001b[0;31m---------------------------------------------------------------------------\u001b[0m",
            "\u001b[0;31mAssertionError\u001b[0m                            Traceback (most recent call last)",
            "\u001b[0;32m<ipython-input-50-40fde9b5d3e0>\u001b[0m in \u001b[0;36m<module>\u001b[0;34m()\u001b[0m\n\u001b[1;32m     65\u001b[0m }\n\u001b[1;32m     66\u001b[0m \u001b[0;34m\u001b[0m\u001b[0m\n\u001b[0;32m---> 67\u001b[0;31m \u001b[0mvalidate\u001b[0m\u001b[0;34m(\u001b[0m\u001b[0mconfig\u001b[0m\u001b[0;34m)\u001b[0m\u001b[0;34m\u001b[0m\u001b[0;34m\u001b[0m\u001b[0m\n\u001b[0m",
            "\u001b[0;32m<ipython-input-44-afbaf28b64bf>\u001b[0m in \u001b[0;36mvalidate\u001b[0;34m(config)\u001b[0m\n\u001b[1;32m      1\u001b[0m \u001b[0;32mdef\u001b[0m \u001b[0mvalidate\u001b[0m\u001b[0;34m(\u001b[0m\u001b[0mconfig\u001b[0m\u001b[0;34m)\u001b[0m\u001b[0;34m:\u001b[0m\u001b[0;34m\u001b[0m\u001b[0;34m\u001b[0m\u001b[0m\n\u001b[0;32m----> 2\u001b[0;31m     \u001b[0;32massert\u001b[0m \u001b[0mpd\u001b[0m\u001b[0;34m.\u001b[0m\u001b[0mdate_range\u001b[0m\u001b[0;34m(\u001b[0m\u001b[0mstart\u001b[0m\u001b[0;34m=\u001b[0m\u001b[0mconfig\u001b[0m\u001b[0;34m[\u001b[0m\u001b[0;34m\"end_date\"\u001b[0m\u001b[0;34m]\u001b[0m\u001b[0;34m,\u001b[0m \u001b[0mperiods\u001b[0m\u001b[0;34m=\u001b[0m\u001b[0mconfig\u001b[0m\u001b[0;34m[\u001b[0m\u001b[0;34m\"forecast_w\"\u001b[0m\u001b[0;34m]\u001b[0m\u001b[0;34m,\u001b[0m \u001b[0mfreq\u001b[0m\u001b[0;34m=\u001b[0m\u001b[0;34m\"B\"\u001b[0m\u001b[0;34m)\u001b[0m\u001b[0;34m[\u001b[0m\u001b[0;34m-\u001b[0m\u001b[0;36m1\u001b[0m\u001b[0;34m]\u001b[0m \u001b[0;34m<\u001b[0m \u001b[0mpd\u001b[0m\u001b[0;34m.\u001b[0m\u001b[0mto_datetime\u001b[0m\u001b[0;34m(\u001b[0m\u001b[0;34m\"2019-01-01\"\u001b[0m\u001b[0;34m)\u001b[0m\u001b[0;34m,\u001b[0m \u001b[0;34m\"Training overlaps with test set\"\u001b[0m\u001b[0;34m\u001b[0m\u001b[0;34m\u001b[0m\u001b[0m\n\u001b[0m",
            "\u001b[0;31mAssertionError\u001b[0m: Training overlaps with test set"
          ]
        }
      ],
      "source": [
        "forecast_problem = Problem.fundamentals\n",
        "\n",
        "params_human = dict(\n",
        "    forecast_problem=forecast_problem.name,\n",
        "\n",
        "    cpus=1,\n",
        "    training_w=240,\n",
        "    forecast_w=forecast_problem.forecast_w.h60,\n",
        "    start_date=\"2000-12-31\",\n",
        "    end_date=\"2018-06-30\",\n",
        "    save_model=True,\n",
        "    batch_size=512,\n",
        "    use_pre_proc_data=True,\n",
        "    clamp=2.5,\n",
        "    dtype=\"float32\",\n",
        "\n",
        "    checkpoint=False,\n",
        "    feature_subset=None,\n",
        "\n",
        "    fundamental_targets=None,\n",
        ")\n",
        "\n",
        "era_controller_params = dict(\n",
        "    sequential=dict(\n",
        "        mode=\"sequential\",\n",
        "        include_past=True,\n",
        "        queue_length=3,\n",
        "    ),\n",
        "    random=dict(\n",
        "        mode=\"random\",\n",
        "        sample_size=10,\n",
        "        distribution=[\"uniform\"][0],\n",
        "        max_samplings=100,\n",
        "    ),\n",
        ")[EraController.Mode.sequential]\n",
        "\n",
        "params_wb = dict(\n",
        "    max_epochs=100,\n",
        "    patience=10,\n",
        "    min_delta=0.0001,\n",
        "    learning_rate=1e-5,\n",
        "\n",
        "    hd=128,\n",
        "    dropout=0.1,\n",
        "    num_layers=6,\n",
        "    channels=128,\n",
        "    kernel_size=7,\n",
        "\n",
        "    meta_hd=16,\n",
        "\n",
        "    model=\"TcnV2\",\n",
        "    activation=\"leaky\",\n",
        "\n",
        "    train_loss=forecast_problem.loss.smape,\n",
        "    val_loss=forecast_problem.loss.mape,\n",
        ")\n",
        "\n",
        "params_from_data = get_params_from_data(stock_df, fundamental_df, meta_df, macro_df, {**params_human, **params_wb})\n",
        "\n",
        "config = {  \n",
        "    **params_human,\n",
        "    \"era_controller\": era_controller_params,\n",
        "    **params_wb,\n",
        "    **params_from_data,\n",
        "}\n",
        "\n",
        "validate(config)"
      ]
    },
    {
      "cell_type": "code",
      "execution_count": 48,
      "metadata": {
        "colab": {
          "base_uri": "https://localhost:8080/",
          "height": 1000,
          "referenced_widgets": [
            "71a1e025d0c44e63af9c8994bd446087",
            "40dee70c90d54d8e9e8f0bb4678f692f",
            "c04f1be8bcad4bdab67c645da2579d0b",
            "7ed1e0a28c8d412b9fa60503cd9bfe01",
            "fd7bf0855ef54c40b2d4518ef01aa9fc",
            "732c048f0c8a4a5989b9f8fa93c6f6be",
            "22f435ccb26c48a489f27fff450febbe",
            "cb97ded37142403282a5cab8b3510d59"
          ]
        },
        "id": "G3xYkJZgl_Vn",
        "outputId": "8ddb4fb4-8740-4d72-890b-031798f8c486"
      },
      "outputs": [
        {
          "output_type": "display_data",
          "data": {
            "text/plain": [
              "<IPython.core.display.HTML object>"
            ],
            "text/html": [
              "Tracking run with wandb version 0.12.17"
            ]
          },
          "metadata": {}
        },
        {
          "output_type": "display_data",
          "data": {
            "text/plain": [
              "<IPython.core.display.HTML object>"
            ],
            "text/html": [
              "Run data is saved locally in <code>/content/wandb/run-20220608_123132-3lvywe6n</code>"
            ]
          },
          "metadata": {}
        },
        {
          "output_type": "display_data",
          "data": {
            "text/plain": [
              "<IPython.core.display.HTML object>"
            ],
            "text/html": [
              "Syncing run <strong><a href=\"https://wandb.ai/krankile/master-test/runs/3lvywe6n\" target=\"_blank\">splendid-violet-289</a></strong> to <a href=\"https://wandb.ai/krankile/master-test\" target=\"_blank\">Weights & Biases</a> (<a href=\"https://wandb.me/run\" target=\"_blank\">docs</a>)<br/>"
            ]
          },
          "metadata": {}
        },
        {
          "output_type": "stream",
          "name": "stdout",
          "text": [
            "{'forecast_problem': 'fundamentals', 'cpus': 1, 'training_w': 240, 'forecast_w': 60, 'start_date': '2000-12-31', 'end_date': '2018-06-30', 'save_model': True, 'batch_size': 512, 'use_pre_proc_data': True, 'clamp': 2.5, 'dtype': 'float32', 'checkpoint': False, 'feature_subset': None, 'fundamental_targets': None, 'era_controller': {'mode': 'random', 'sample_size': 10, 'distribution': 'uniform', 'max_samplings': 100}, 'max_epochs': 100, 'patience': 10, 'min_delta': 0.0001, 'learning_rate': 1e-05, 'hd': 128, 'dropout': 0.1, 'num_layers': 6, 'channels': 128, 'kernel_size': 7, 'meta_hd': 16, 'model': 'TcnV2', 'activation': 'leaky', 'train_loss': 'smape', 'val_loss': 'mape_2', 'meta_cont_lens': [1, 1], 'meta_cat_lens': [[110, 4], [6, 2], [91, 4], [285, 5], [3, 2], [5, 2], [7, 2], [14, 2], [58, 3]], 'out_len': 18, 'input_size': 37}\n"
          ]
        },
        {
          "output_type": "stream",
          "name": "stderr",
          "text": [
            "Sampling before 2018-06-30 00:00:00 [2/100]:   0%|          | 0/100 [00:00<?, ?it/s, epoch=0]"
          ]
        },
        {
          "output_type": "stream",
          "name": "stdout",
          "text": [
            "random_dates [Timestamp('2005-06-30 00:00:00', freq='M')\n",
            " Timestamp('2017-11-30 00:00:00', freq='M')\n",
            " Timestamp('2017-09-30 00:00:00', freq='M')\n",
            " Timestamp('2009-11-30 00:00:00', freq='M')\n",
            " Timestamp('2008-06-30 00:00:00', freq='M')\n",
            " Timestamp('2016-03-31 00:00:00', freq='M')\n",
            " Timestamp('2013-04-30 00:00:00', freq='M')\n",
            " Timestamp('2005-01-31 00:00:00', freq='M')\n",
            " Timestamp('2002-10-31 00:00:00', freq='M')\n",
            " Timestamp('2001-09-30 00:00:00', freq='M')]\n"
          ]
        },
        {
          "output_type": "stream",
          "name": "stderr",
          "text": [
            "Sampling before 2018-06-30 00:00:00 [2/100]:   1%|          | 1/100 [00:22<36:47, 22.29s/it, epoch=10, train_loss=1.37, val_loss=1e+4, naive=570, triggers=10/10, best_loss=1e+4, metric_loss=162]"
          ]
        },
        {
          "output_type": "stream",
          "name": "stdout",
          "text": [
            "random_dates [Timestamp('2016-04-30 00:00:00', freq='M')\n",
            " Timestamp('2004-02-29 00:00:00', freq='M')\n",
            " Timestamp('2008-12-31 00:00:00', freq='M')\n",
            " Timestamp('2008-04-30 00:00:00', freq='M')\n",
            " Timestamp('2012-08-31 00:00:00', freq='M')\n",
            " Timestamp('2014-09-30 00:00:00', freq='M')\n",
            " Timestamp('2009-10-31 00:00:00', freq='M')\n",
            " Timestamp('2007-03-31 00:00:00', freq='M')\n",
            " Timestamp('2005-05-31 00:00:00', freq='M')\n",
            " Timestamp('2001-03-31 00:00:00', freq='M')]\n"
          ]
        },
        {
          "output_type": "stream",
          "name": "stderr",
          "text": [
            "Sampling before 2018-06-30 00:00:00 [3/100]:   2%|▏         | 2/100 [00:49<40:45, 24.95s/it, epoch=10, train_loss=1.16, val_loss=1e+4, naive=570, triggers=10/10, best_loss=1e+4, metric_loss=162]"
          ]
        },
        {
          "output_type": "stream",
          "name": "stdout",
          "text": [
            "random_dates [Timestamp('2007-08-31 00:00:00', freq='M')\n",
            " Timestamp('2014-11-30 00:00:00', freq='M')\n",
            " Timestamp('2002-12-31 00:00:00', freq='M')\n",
            " Timestamp('2001-02-28 00:00:00', freq='M')\n",
            " Timestamp('2004-03-31 00:00:00', freq='M')\n",
            " Timestamp('2013-08-31 00:00:00', freq='M')\n",
            " Timestamp('2015-07-31 00:00:00', freq='M')\n",
            " Timestamp('2011-01-31 00:00:00', freq='M')\n",
            " Timestamp('2008-06-30 00:00:00', freq='M')\n",
            " Timestamp('2007-03-31 00:00:00', freq='M')]\n"
          ]
        },
        {
          "output_type": "stream",
          "name": "stderr",
          "text": [
            "Sampling before 2018-06-30 00:00:00 [5/100]:   3%|▎         | 3/100 [01:19<43:58, 27.20s/it, epoch=0, train_loss=1.14, val_loss=1e+4, naive=570, triggers=10/10, best_loss=1e+4, metric_loss=156] "
          ]
        },
        {
          "output_type": "stream",
          "name": "stdout",
          "text": [
            "random_dates [Timestamp('2004-08-31 00:00:00', freq='M')\n",
            " Timestamp('2013-07-31 00:00:00', freq='M')\n",
            " Timestamp('2003-11-30 00:00:00', freq='M')\n",
            " Timestamp('2015-03-31 00:00:00', freq='M')\n",
            " Timestamp('2012-10-31 00:00:00', freq='M')\n",
            " Timestamp('2013-05-31 00:00:00', freq='M')\n",
            " Timestamp('2015-09-30 00:00:00', freq='M')\n",
            " Timestamp('2017-06-30 00:00:00', freq='M')\n",
            " Timestamp('2006-09-30 00:00:00', freq='M')\n",
            " Timestamp('2007-04-30 00:00:00', freq='M')]\n"
          ]
        },
        {
          "output_type": "stream",
          "name": "stderr",
          "text": [
            "Sampling before 2018-06-30 00:00:00 [6/100]:   4%|▍         | 4/100 [01:44<42:34, 26.61s/it, epoch=0, train_loss=1.11, val_loss=1e+4, naive=570, triggers=10/10, best_loss=1e+4, metric_loss=151] "
          ]
        },
        {
          "output_type": "stream",
          "name": "stdout",
          "text": [
            "random_dates [Timestamp('2012-10-31 00:00:00', freq='M')\n",
            " Timestamp('2010-03-31 00:00:00', freq='M')\n",
            " Timestamp('2002-02-28 00:00:00', freq='M')\n",
            " Timestamp('2008-07-31 00:00:00', freq='M')\n",
            " Timestamp('2016-09-30 00:00:00', freq='M')\n",
            " Timestamp('2010-11-30 00:00:00', freq='M')\n",
            " Timestamp('2015-08-31 00:00:00', freq='M')\n",
            " Timestamp('2015-05-31 00:00:00', freq='M')\n",
            " Timestamp('2002-04-30 00:00:00', freq='M')\n",
            " Timestamp('2008-09-30 00:00:00', freq='M')]\n"
          ]
        },
        {
          "output_type": "stream",
          "name": "stderr",
          "text": [
            "Sampling before 2018-06-30 00:00:00 [7/100]:   5%|▌         | 5/100 [02:15<44:17, 27.97s/it, epoch=0, train_loss=1.12, val_loss=1e+4, naive=570, triggers=10/10, best_loss=1e+4, metric_loss=151] "
          ]
        },
        {
          "output_type": "stream",
          "name": "stdout",
          "text": [
            "random_dates [Timestamp('2009-10-31 00:00:00', freq='M')\n",
            " Timestamp('2009-10-31 00:00:00', freq='M')\n",
            " Timestamp('2006-03-31 00:00:00', freq='M')\n",
            " Timestamp('2010-06-30 00:00:00', freq='M')\n",
            " Timestamp('2001-11-30 00:00:00', freq='M')\n",
            " Timestamp('2018-02-28 00:00:00', freq='M')\n",
            " Timestamp('2010-05-31 00:00:00', freq='M')\n",
            " Timestamp('2002-06-30 00:00:00', freq='M')\n",
            " Timestamp('2004-08-31 00:00:00', freq='M')\n",
            " Timestamp('2011-07-31 00:00:00', freq='M')]\n"
          ]
        },
        {
          "output_type": "stream",
          "name": "stderr",
          "text": [
            "Sampling before 2018-06-30 00:00:00 [8/100]:   6%|▌         | 6/100 [02:45<44:56, 28.68s/it, epoch=0, train_loss=1.15, val_loss=1e+4, naive=570, triggers=10/10, best_loss=1e+4, metric_loss=161] "
          ]
        },
        {
          "output_type": "stream",
          "name": "stdout",
          "text": [
            "random_dates [Timestamp('2002-12-31 00:00:00', freq='M')\n",
            " Timestamp('2018-02-28 00:00:00', freq='M')\n",
            " Timestamp('2014-01-31 00:00:00', freq='M')\n",
            " Timestamp('2011-08-31 00:00:00', freq='M')\n",
            " Timestamp('2004-09-30 00:00:00', freq='M')\n",
            " Timestamp('2016-10-31 00:00:00', freq='M')\n",
            " Timestamp('2004-05-31 00:00:00', freq='M')\n",
            " Timestamp('2010-06-30 00:00:00', freq='M')\n",
            " Timestamp('2015-06-30 00:00:00', freq='M')\n",
            " Timestamp('2007-11-30 00:00:00', freq='M')]\n"
          ]
        },
        {
          "output_type": "stream",
          "name": "stderr",
          "text": [
            "Sampling before 2018-06-30 00:00:00 [9/100]:   7%|▋         | 7/100 [03:17<46:09, 29.78s/it, epoch=0, train_loss=1.12, val_loss=1e+4, naive=570, triggers=10/10, best_loss=1e+4, metric_loss=152] "
          ]
        },
        {
          "output_type": "stream",
          "name": "stdout",
          "text": [
            "random_dates [Timestamp('2013-11-30 00:00:00', freq='M')\n",
            " Timestamp('2016-01-31 00:00:00', freq='M')\n",
            " Timestamp('2004-12-31 00:00:00', freq='M')\n",
            " Timestamp('2016-12-31 00:00:00', freq='M')\n",
            " Timestamp('2005-01-31 00:00:00', freq='M')\n",
            " Timestamp('2008-12-31 00:00:00', freq='M')\n",
            " Timestamp('2014-12-31 00:00:00', freq='M')\n",
            " Timestamp('2011-01-31 00:00:00', freq='M')\n",
            " Timestamp('2015-06-30 00:00:00', freq='M')\n",
            " Timestamp('2001-07-31 00:00:00', freq='M')]\n"
          ]
        },
        {
          "output_type": "stream",
          "name": "stderr",
          "text": [
            "Sampling before 2018-06-30 00:00:00 [9/100]:   7%|▋         | 7/100 [03:22<44:52, 28.95s/it, epoch=2, train_loss=1.12, val_loss=1e+4, naive=570, triggers=1/10, best_loss=1e+4, metric_loss=152]\n"
          ]
        },
        {
          "output_type": "display_data",
          "data": {
            "text/plain": [
              "<IPython.core.display.HTML object>"
            ],
            "text/html": [
              "Waiting for W&B process to finish... <strong style=\"color:red\">(failed 1).</strong> Press Control-C to abort syncing."
            ]
          },
          "metadata": {}
        },
        {
          "output_type": "display_data",
          "data": {
            "text/plain": [
              "VBox(children=(Label(value='0.001 MB of 0.001 MB uploaded (0.000 MB deduped)\\r'), FloatProgress(value=1.0, max…"
            ],
            "application/vnd.jupyter.widget-view+json": {
              "version_major": 2,
              "version_minor": 0,
              "model_id": "71a1e025d0c44e63af9c8994bd446087"
            }
          },
          "metadata": {}
        },
        {
          "output_type": "display_data",
          "data": {
            "text/plain": [
              "<IPython.core.display.HTML object>"
            ],
            "text/html": [
              "<style>\n",
              "    table.wandb td:nth-child(1) { padding: 0 10px; text-align: left ; width: auto;} td:nth-child(2) {text-align: left ; width: 100%}\n",
              "    .wandb-row { display: flex; flex-direction: row; flex-wrap: wrap; justify-content: flex-start; width: 100% }\n",
              "    .wandb-col { display: flex; flex-direction: column; flex-basis: 100%; flex: 1; padding: 10px; }\n",
              "    </style>\n",
              "<div class=\"wandb-row\"><div class=\"wandb-col\"><h3>Run history:</h3><br/><table class=\"wandb\"><tr><td>epoch</td><td>▁▂▄▅▇█▂▃▅▆▇▁▂▄▅▇█▂▃▅▆▇▁▂▄▅▇█▂▃▅▆▇▁▂▄▅▇█▂</td></tr><tr><td>epoch_train</td><td>███▇▇▆▅▄▃▃▂▂▂▂▂▂▂▁▁▁▁▁▁▁▂▁▂▁▁▁▂▁▁▂▂▂▂▁▁▁</td></tr><tr><td>epoch_val</td><td>▁▁▁▁▁▁▁▁▁▁▁▁▁▁▁▁▁▁▁▁▁▁▁▁▁▁▁▁▁▁▁▁▁▁▁▁▁▁▁▁</td></tr><tr><td>era</td><td>▁▂▃▅▆▇█</td></tr><tr><td>era_train</td><td>█▂▂▁▁▂▁</td></tr><tr><td>era_val</td><td>▁▁▁▁▁▁▁</td></tr><tr><td>metric_loss</td><td>██▅▁▁█▂</td></tr><tr><td>model_end</td><td>██▅▁▁█▂</td></tr><tr><td>model_infront</td><td>██▅▁▁█▂</td></tr><tr><td>naive_end</td><td>▁▁▁▁▁▁▁</td></tr><tr><td>naive_infront</td><td>▁▁▁▁▁▁▁</td></tr><tr><td>self_var</td><td>▁▁▁▁▂▂▃▅▅▆▆▇▆▇▇█▇█▇▇▇▇█▇▇▇▇█▇███▇▆▇▇████</td></tr><tr><td>ticker_var</td><td>▁▁▁▁▁▁▂▃▃▃▃▄▄▅▅▆▆▆▆▆▆▆▆▆▅▅▅▆▆▆██▇▆▆▆▆▆▆▆</td></tr><tr><td>time</td><td>▁▁▁▁▁▁▁</td></tr></table><br/></div><div class=\"wandb-col\"><h3>Run summary:</h3><br/><table class=\"wandb\"><tr><td>epoch</td><td>1</td></tr><tr><td>epoch_train</td><td>1.11651</td></tr><tr><td>epoch_val</td><td>10000.0</td></tr><tr><td>era</td><td>6</td></tr><tr><td>era_train</td><td>1.124</td></tr><tr><td>era_val</td><td>10000.0</td></tr><tr><td>metric_loss</td><td>152.0412</td></tr><tr><td>model_end</td><td>8444.28247</td></tr><tr><td>model_infront</td><td>8316.06406</td></tr><tr><td>naive_end</td><td>178.58788</td></tr><tr><td>naive_infront</td><td>348.63231</td></tr><tr><td>self_var</td><td>0.53618</td></tr><tr><td>ticker_var</td><td>0.05621</td></tr><tr><td>time</td><td>1530316800.0</td></tr></table><br/></div></div>"
            ]
          },
          "metadata": {}
        },
        {
          "output_type": "display_data",
          "data": {
            "text/plain": [
              "<IPython.core.display.HTML object>"
            ],
            "text/html": [
              "Synced <strong style=\"color:#cdcd00\">splendid-violet-289</strong>: <a href=\"https://wandb.ai/krankile/master-test/runs/3lvywe6n\" target=\"_blank\">https://wandb.ai/krankile/master-test/runs/3lvywe6n</a><br/>Synced 5 W&B file(s), 0 media file(s), 0 artifact file(s) and 0 other file(s)"
            ]
          },
          "metadata": {}
        },
        {
          "output_type": "display_data",
          "data": {
            "text/plain": [
              "<IPython.core.display.HTML object>"
            ],
            "text/html": [
              "Find logs at: <code>./wandb/run-20220608_123132-3lvywe6n/logs</code>"
            ]
          },
          "metadata": {}
        },
        {
          "output_type": "error",
          "ename": "KeyboardInterrupt",
          "evalue": "ignored",
          "traceback": [
            "\u001b[0;31m---------------------------------------------------------------------------\u001b[0m",
            "\u001b[0;31mKeyboardInterrupt\u001b[0m                         Traceback (most recent call last)",
            "\u001b[0;32m<ipython-input-48-1a8c1518af42>\u001b[0m in \u001b[0;36m<module>\u001b[0;34m()\u001b[0m\n\u001b[1;32m      7\u001b[0m \u001b[0;34m\u001b[0m\u001b[0m\n\u001b[1;32m      8\u001b[0m \u001b[0;32melse\u001b[0m\u001b[0;34m:\u001b[0m\u001b[0;34m\u001b[0m\u001b[0;34m\u001b[0m\u001b[0m\n\u001b[0;32m----> 9\u001b[0;31m     \u001b[0mmodel\u001b[0m\u001b[0;34m,\u001b[0m \u001b[0mlosses\u001b[0m \u001b[0;34m=\u001b[0m \u001b[0mtrain\u001b[0m\u001b[0;34m(\u001b[0m\u001b[0mconfig\u001b[0m\u001b[0;34m=\u001b[0m\u001b[0mconfig\u001b[0m\u001b[0;34m,\u001b[0m \u001b[0mproject\u001b[0m\u001b[0;34m=\u001b[0m\u001b[0;34m\"master-test\"\u001b[0m\u001b[0;34m,\u001b[0m \u001b[0mentity\u001b[0m\u001b[0;34m=\u001b[0m\u001b[0;34m\"krankile\"\u001b[0m\u001b[0;34m,\u001b[0m \u001b[0menablewb\u001b[0m\u001b[0;34m=\u001b[0m\u001b[0menablewb\u001b[0m\u001b[0;34m)\u001b[0m\u001b[0;34m\u001b[0m\u001b[0;34m\u001b[0m\u001b[0m\n\u001b[0m",
            "\u001b[0;32m<ipython-input-41-c075de13c3ee>\u001b[0m in \u001b[0;36mtrain\u001b[0;34m(config, project, entity, enablewb)\u001b[0m\n\u001b[1;32m     39\u001b[0m                 \u001b[0mdevice\u001b[0m\u001b[0;34m=\u001b[0m\u001b[0mdevice\u001b[0m\u001b[0;34m,\u001b[0m\u001b[0;34m\u001b[0m\u001b[0;34m\u001b[0m\u001b[0m\n\u001b[1;32m     40\u001b[0m                 \u001b[0mconf\u001b[0m\u001b[0;34m=\u001b[0m\u001b[0mconf\u001b[0m\u001b[0;34m,\u001b[0m\u001b[0;34m\u001b[0m\u001b[0;34m\u001b[0m\u001b[0m\n\u001b[0;32m---> 41\u001b[0;31m                 \u001b[0mpbar\u001b[0m\u001b[0;34m=\u001b[0m\u001b[0mpbar\u001b[0m\u001b[0;34m,\u001b[0m\u001b[0;34m\u001b[0m\u001b[0;34m\u001b[0m\u001b[0m\n\u001b[0m\u001b[1;32m     42\u001b[0m             )\n\u001b[1;32m     43\u001b[0m \u001b[0;34m\u001b[0m\u001b[0m\n",
            "\u001b[0;32m<ipython-input-22-713b7d2ee437>\u001b[0m in \u001b[0;36mtrain_one_era\u001b[0;34m(run, model, optimizer, data_train, data_val, stopper, losses, device, conf, pbar)\u001b[0m\n\u001b[1;32m      8\u001b[0m             \u001b[0mmodel\u001b[0m\u001b[0;34m.\u001b[0m\u001b[0mtrain\u001b[0m\u001b[0;34m(\u001b[0m\u001b[0mrun_type\u001b[0m \u001b[0;34m==\u001b[0m \u001b[0;34m\"train\"\u001b[0m\u001b[0;34m)\u001b[0m\u001b[0;34m\u001b[0m\u001b[0;34m\u001b[0m\u001b[0m\n\u001b[1;32m      9\u001b[0m \u001b[0;34m\u001b[0m\u001b[0m\n\u001b[0;32m---> 10\u001b[0;31m             \u001b[0mepoch_model_loss\u001b[0m\u001b[0;34m,\u001b[0m \u001b[0mnaive_losses\u001b[0m\u001b[0;34m,\u001b[0m \u001b[0my_preds\u001b[0m \u001b[0;34m=\u001b[0m \u001b[0mget_epoch_loss\u001b[0m\u001b[0;34m(\u001b[0m\u001b[0mmodel\u001b[0m\u001b[0;34m,\u001b[0m \u001b[0moptimizer\u001b[0m\u001b[0;34m,\u001b[0m \u001b[0mdataloader\u001b[0m\u001b[0;34m,\u001b[0m \u001b[0mloss_fns\u001b[0m\u001b[0;34m[\u001b[0m\u001b[0mconf\u001b[0m\u001b[0;34m[\u001b[0m\u001b[0;34mf\"{run_type}_loss\"\u001b[0m\u001b[0;34m]\u001b[0m\u001b[0;34m]\u001b[0m\u001b[0;34m,\u001b[0m \u001b[0mdevice\u001b[0m\u001b[0;34m,\u001b[0m \u001b[0mrun_type\u001b[0m\u001b[0;34m,\u001b[0m \u001b[0mconf\u001b[0m\u001b[0;34m)\u001b[0m\u001b[0;34m\u001b[0m\u001b[0;34m\u001b[0m\u001b[0m\n\u001b[0m\u001b[1;32m     11\u001b[0m             \u001b[0mepoch_losses\u001b[0m\u001b[0;34m[\u001b[0m\u001b[0mrun_type\u001b[0m\u001b[0;34m]\u001b[0m \u001b[0;34m+=\u001b[0m \u001b[0mepoch_model_loss\u001b[0m\u001b[0;34m\u001b[0m\u001b[0;34m\u001b[0m\u001b[0m\n\u001b[1;32m     12\u001b[0m \u001b[0;34m\u001b[0m\u001b[0m\n",
            "\u001b[0;32m<ipython-input-20-402ea16aef3e>\u001b[0m in \u001b[0;36mget_epoch_loss\u001b[0;34m(model, optimizer, dataloader, loss_fn, device, run_type, conf)\u001b[0m\n\u001b[1;32m     15\u001b[0m         \u001b[0mloss\u001b[0m \u001b[0;34m=\u001b[0m \u001b[0mloss_fn\u001b[0m\u001b[0;34m(\u001b[0m\u001b[0mtarget\u001b[0m\u001b[0;34m,\u001b[0m \u001b[0my_pred\u001b[0m\u001b[0;34m)\u001b[0m\u001b[0;34m\u001b[0m\u001b[0;34m\u001b[0m\u001b[0m\n\u001b[1;32m     16\u001b[0m \u001b[0;34m\u001b[0m\u001b[0m\n\u001b[0;32m---> 17\u001b[0;31m         \u001b[0mmodel_losses\u001b[0m\u001b[0;34m.\u001b[0m\u001b[0mappend\u001b[0m\u001b[0;34m(\u001b[0m\u001b[0mloss\u001b[0m\u001b[0;34m.\u001b[0m\u001b[0mitem\u001b[0m\u001b[0;34m(\u001b[0m\u001b[0;34m)\u001b[0m\u001b[0;34m)\u001b[0m\u001b[0;34m\u001b[0m\u001b[0;34m\u001b[0m\u001b[0m\n\u001b[0m\u001b[1;32m     18\u001b[0m         \u001b[0mnaive_losses\u001b[0m\u001b[0;34m.\u001b[0m\u001b[0mappend\u001b[0m\u001b[0;34m(\u001b[0m\u001b[0mnaive_loss\u001b[0m\u001b[0;34m.\u001b[0m\u001b[0mitem\u001b[0m\u001b[0;34m(\u001b[0m\u001b[0;34m)\u001b[0m\u001b[0;34m)\u001b[0m\u001b[0;34m\u001b[0m\u001b[0;34m\u001b[0m\u001b[0m\n\u001b[1;32m     19\u001b[0m         \u001b[0my_preds\u001b[0m\u001b[0;34m.\u001b[0m\u001b[0mappend\u001b[0m\u001b[0;34m(\u001b[0m\u001b[0my_pred\u001b[0m\u001b[0;34m.\u001b[0m\u001b[0mdetach\u001b[0m\u001b[0;34m(\u001b[0m\u001b[0;34m)\u001b[0m\u001b[0;34m.\u001b[0m\u001b[0mcpu\u001b[0m\u001b[0;34m(\u001b[0m\u001b[0;34m)\u001b[0m\u001b[0;34m.\u001b[0m\u001b[0mnumpy\u001b[0m\u001b[0;34m(\u001b[0m\u001b[0;34m)\u001b[0m\u001b[0;34m)\u001b[0m\u001b[0;34m\u001b[0m\u001b[0;34m\u001b[0m\u001b[0m\n",
            "\u001b[0;31mKeyboardInterrupt\u001b[0m: "
          ]
        }
      ],
      "source": [
        "enablewb = True\n",
        "sweepid = None  # \"krankile/master/q8hau0w8\"\n",
        "\n",
        "if sweepid:\n",
        "    count = 500 # number of runs to execute\n",
        "    wb.agent(sweepid, partial(train,config=config, enablewb=enablewb), count=count)\n",
        "\n",
        "else:\n",
        "    model, losses = train(config=config, project=\"master-test\", entity=\"krankile\", enablewb=enablewb)"
      ]
    },
    {
      "cell_type": "code",
      "execution_count": null,
      "metadata": {
        "id": "-hOuGkaIA1Dr"
      },
      "outputs": [],
      "source": [
        ""
      ]
    }
  ],
  "metadata": {
    "accelerator": "GPU",
    "colab": {
      "collapsed_sections": [],
      "name": "training_loop.ipynb",
      "provenance": [],
      "include_colab_link": true
    },
    "kernelspec": {
      "display_name": "Python 3",
      "name": "python3"
    },
    "language_info": {
      "name": "python"
    },
    "widgets": {
      "application/vnd.jupyter.widget-state+json": {
        "71a1e025d0c44e63af9c8994bd446087": {
          "model_module": "@jupyter-widgets/controls",
          "model_name": "VBoxModel",
          "model_module_version": "1.5.0",
          "state": {
            "_dom_classes": [],
            "_model_module": "@jupyter-widgets/controls",
            "_model_module_version": "1.5.0",
            "_model_name": "VBoxModel",
            "_view_count": null,
            "_view_module": "@jupyter-widgets/controls",
            "_view_module_version": "1.5.0",
            "_view_name": "VBoxView",
            "box_style": "",
            "children": [
              "IPY_MODEL_40dee70c90d54d8e9e8f0bb4678f692f",
              "IPY_MODEL_c04f1be8bcad4bdab67c645da2579d0b"
            ],
            "layout": "IPY_MODEL_7ed1e0a28c8d412b9fa60503cd9bfe01"
          }
        },
        "40dee70c90d54d8e9e8f0bb4678f692f": {
          "model_module": "@jupyter-widgets/controls",
          "model_name": "LabelModel",
          "model_module_version": "1.5.0",
          "state": {
            "_dom_classes": [],
            "_model_module": "@jupyter-widgets/controls",
            "_model_module_version": "1.5.0",
            "_model_name": "LabelModel",
            "_view_count": null,
            "_view_module": "@jupyter-widgets/controls",
            "_view_module_version": "1.5.0",
            "_view_name": "LabelView",
            "description": "",
            "description_tooltip": null,
            "layout": "IPY_MODEL_fd7bf0855ef54c40b2d4518ef01aa9fc",
            "placeholder": "​",
            "style": "IPY_MODEL_732c048f0c8a4a5989b9f8fa93c6f6be",
            "value": "0.015 MB of 0.015 MB uploaded (0.000 MB deduped)\r"
          }
        },
        "c04f1be8bcad4bdab67c645da2579d0b": {
          "model_module": "@jupyter-widgets/controls",
          "model_name": "FloatProgressModel",
          "model_module_version": "1.5.0",
          "state": {
            "_dom_classes": [],
            "_model_module": "@jupyter-widgets/controls",
            "_model_module_version": "1.5.0",
            "_model_name": "FloatProgressModel",
            "_view_count": null,
            "_view_module": "@jupyter-widgets/controls",
            "_view_module_version": "1.5.0",
            "_view_name": "ProgressView",
            "bar_style": "",
            "description": "",
            "description_tooltip": null,
            "layout": "IPY_MODEL_22f435ccb26c48a489f27fff450febbe",
            "max": 1,
            "min": 0,
            "orientation": "horizontal",
            "style": "IPY_MODEL_cb97ded37142403282a5cab8b3510d59",
            "value": 1
          }
        },
        "7ed1e0a28c8d412b9fa60503cd9bfe01": {
          "model_module": "@jupyter-widgets/base",
          "model_name": "LayoutModel",
          "model_module_version": "1.2.0",
          "state": {
            "_model_module": "@jupyter-widgets/base",
            "_model_module_version": "1.2.0",
            "_model_name": "LayoutModel",
            "_view_count": null,
            "_view_module": "@jupyter-widgets/base",
            "_view_module_version": "1.2.0",
            "_view_name": "LayoutView",
            "align_content": null,
            "align_items": null,
            "align_self": null,
            "border": null,
            "bottom": null,
            "display": null,
            "flex": null,
            "flex_flow": null,
            "grid_area": null,
            "grid_auto_columns": null,
            "grid_auto_flow": null,
            "grid_auto_rows": null,
            "grid_column": null,
            "grid_gap": null,
            "grid_row": null,
            "grid_template_areas": null,
            "grid_template_columns": null,
            "grid_template_rows": null,
            "height": null,
            "justify_content": null,
            "justify_items": null,
            "left": null,
            "margin": null,
            "max_height": null,
            "max_width": null,
            "min_height": null,
            "min_width": null,
            "object_fit": null,
            "object_position": null,
            "order": null,
            "overflow": null,
            "overflow_x": null,
            "overflow_y": null,
            "padding": null,
            "right": null,
            "top": null,
            "visibility": null,
            "width": null
          }
        },
        "fd7bf0855ef54c40b2d4518ef01aa9fc": {
          "model_module": "@jupyter-widgets/base",
          "model_name": "LayoutModel",
          "model_module_version": "1.2.0",
          "state": {
            "_model_module": "@jupyter-widgets/base",
            "_model_module_version": "1.2.0",
            "_model_name": "LayoutModel",
            "_view_count": null,
            "_view_module": "@jupyter-widgets/base",
            "_view_module_version": "1.2.0",
            "_view_name": "LayoutView",
            "align_content": null,
            "align_items": null,
            "align_self": null,
            "border": null,
            "bottom": null,
            "display": null,
            "flex": null,
            "flex_flow": null,
            "grid_area": null,
            "grid_auto_columns": null,
            "grid_auto_flow": null,
            "grid_auto_rows": null,
            "grid_column": null,
            "grid_gap": null,
            "grid_row": null,
            "grid_template_areas": null,
            "grid_template_columns": null,
            "grid_template_rows": null,
            "height": null,
            "justify_content": null,
            "justify_items": null,
            "left": null,
            "margin": null,
            "max_height": null,
            "max_width": null,
            "min_height": null,
            "min_width": null,
            "object_fit": null,
            "object_position": null,
            "order": null,
            "overflow": null,
            "overflow_x": null,
            "overflow_y": null,
            "padding": null,
            "right": null,
            "top": null,
            "visibility": null,
            "width": null
          }
        },
        "732c048f0c8a4a5989b9f8fa93c6f6be": {
          "model_module": "@jupyter-widgets/controls",
          "model_name": "DescriptionStyleModel",
          "model_module_version": "1.5.0",
          "state": {
            "_model_module": "@jupyter-widgets/controls",
            "_model_module_version": "1.5.0",
            "_model_name": "DescriptionStyleModel",
            "_view_count": null,
            "_view_module": "@jupyter-widgets/base",
            "_view_module_version": "1.2.0",
            "_view_name": "StyleView",
            "description_width": ""
          }
        },
        "22f435ccb26c48a489f27fff450febbe": {
          "model_module": "@jupyter-widgets/base",
          "model_name": "LayoutModel",
          "model_module_version": "1.2.0",
          "state": {
            "_model_module": "@jupyter-widgets/base",
            "_model_module_version": "1.2.0",
            "_model_name": "LayoutModel",
            "_view_count": null,
            "_view_module": "@jupyter-widgets/base",
            "_view_module_version": "1.2.0",
            "_view_name": "LayoutView",
            "align_content": null,
            "align_items": null,
            "align_self": null,
            "border": null,
            "bottom": null,
            "display": null,
            "flex": null,
            "flex_flow": null,
            "grid_area": null,
            "grid_auto_columns": null,
            "grid_auto_flow": null,
            "grid_auto_rows": null,
            "grid_column": null,
            "grid_gap": null,
            "grid_row": null,
            "grid_template_areas": null,
            "grid_template_columns": null,
            "grid_template_rows": null,
            "height": null,
            "justify_content": null,
            "justify_items": null,
            "left": null,
            "margin": null,
            "max_height": null,
            "max_width": null,
            "min_height": null,
            "min_width": null,
            "object_fit": null,
            "object_position": null,
            "order": null,
            "overflow": null,
            "overflow_x": null,
            "overflow_y": null,
            "padding": null,
            "right": null,
            "top": null,
            "visibility": null,
            "width": null
          }
        },
        "cb97ded37142403282a5cab8b3510d59": {
          "model_module": "@jupyter-widgets/controls",
          "model_name": "ProgressStyleModel",
          "model_module_version": "1.5.0",
          "state": {
            "_model_module": "@jupyter-widgets/controls",
            "_model_module_version": "1.5.0",
            "_model_name": "ProgressStyleModel",
            "_view_count": null,
            "_view_module": "@jupyter-widgets/base",
            "_view_module_version": "1.2.0",
            "_view_name": "StyleView",
            "bar_color": null,
            "description_width": ""
          }
        }
      }
    }
  },
  "nbformat": 4,
  "nbformat_minor": 0
}