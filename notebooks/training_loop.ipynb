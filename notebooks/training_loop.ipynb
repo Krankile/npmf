{
  "nbformat": 4,
  "nbformat_minor": 0,
  "metadata": {
    "colab": {
      "name": "training_loop.ipynb",
      "provenance": [],
      "collapsed_sections": [],
      "include_colab_link": true
    },
    "kernelspec": {
      "name": "python3",
      "display_name": "Python 3"
    },
    "language_info": {
      "name": "python"
    },
    "accelerator": "GPU"
  },
  "cells": [
    {
      "cell_type": "markdown",
      "metadata": {
        "id": "view-in-github",
        "colab_type": "text"
      },
      "source": [
        "<a href=\"https://colab.research.google.com/github/Krankile/npmf/blob/main/notebooks/training_loop.ipynb\" target=\"_parent\"><img src=\"https://colab.research.google.com/assets/colab-badge.svg\" alt=\"Open In Colab\"/></a>"
      ]
    },
    {
      "cell_type": "markdown",
      "source": [
        "#Setup"
      ],
      "metadata": {
        "id": "d8F5tl4NL7FZ"
      }
    },
    {
      "cell_type": "markdown",
      "source": [
        "##Kernel setup"
      ],
      "metadata": {
        "id": "Rwo44VGZLhAo"
      }
    },
    {
      "cell_type": "code",
      "source": [
        "%load_ext autoreload\n",
        "%autoreload 2"
      ],
      "metadata": {
        "id": "hKuFzk7aEmB9"
      },
      "execution_count": 1,
      "outputs": []
    },
    {
      "cell_type": "code",
      "source": [
        "%%capture\n",
        "!pip install wandb\n",
        "!git clone https://github.com/Krankile/npmf.git"
      ],
      "metadata": {
        "id": "91KPY7q0LUOw"
      },
      "execution_count": 2,
      "outputs": []
    },
    {
      "cell_type": "code",
      "source": [
        "!wandb login"
      ],
      "metadata": {
        "id": "gUXnibj8YEi1",
        "colab": {
          "base_uri": "https://localhost:8080/"
        },
        "outputId": "aa576f5e-5597-4d96-afee-cb4a1be72756"
      },
      "execution_count": 3,
      "outputs": [
        {
          "output_type": "stream",
          "name": "stdout",
          "text": [
            "\u001b[34m\u001b[1mwandb\u001b[0m: You can find your API key in your browser here: https://wandb.ai/authorize\n",
            "\u001b[34m\u001b[1mwandb\u001b[0m: Paste an API key from your profile and hit enter, or press ctrl+c to quit: \n",
            "\u001b[34m\u001b[1mwandb\u001b[0m: Appending key for api.wandb.ai to your netrc file: /root/.netrc\n"
          ]
        }
      ]
    },
    {
      "cell_type": "markdown",
      "source": [
        "##General setup"
      ],
      "metadata": {
        "id": "CLAlA0htLgMY"
      }
    },
    {
      "cell_type": "code",
      "source": [
        "%%capture\n",
        "!cd npmf && git pull\n",
        "\n",
        "import math\n",
        "import multiprocessing\n",
        "import os\n",
        "import pickle\n",
        "from collections import Counter, defaultdict\n",
        "from dataclasses import asdict, dataclass\n",
        "from datetime import datetime, timedelta\n",
        "from operator import itemgetter\n",
        "from typing import Callable, List, Tuple\n",
        "from functools import partial\n",
        "from more_itertools import chunked\n",
        "\n",
        "import matplotlib as mpl\n",
        "import matplotlib.pyplot as plt\n",
        "import numpy as np\n",
        "import pandas as pd\n",
        "import torch\n",
        "from npmf.utils.colors import main, main2, main3\n",
        "from npmf.utils.dataset import TimeDeltaDataset\n",
        "from npmf.utils.dtypes import fundamental_types\n",
        "from npmf.utils.eikon import column_mapping\n",
        "from npmf.utils.tests.utils import pickle_df\n",
        "from npmf.utils.wandb import get_datasets, put_dataset\n",
        "from npmf.utils.training import EarlyStop, to_device, TqdmPostFix, mape_loss\n",
        "\n",
        "from numpy.ma.core import outerproduct\n",
        "from pandas.tseries.offsets import BDay, Day\n",
        "from sklearn.preprocessing import MinMaxScaler, minmax_scale\n",
        "from torch import nn\n",
        "from torch.utils.data import DataLoader, Dataset\n",
        "\n",
        "import wandb as wb"
      ],
      "metadata": {
        "id": "1QSlgObXLq1p"
      },
      "execution_count": 18,
      "outputs": []
    },
    {
      "cell_type": "code",
      "source": [
        "mpl.rcParams['axes.prop_cycle'] = mpl.cycler(color=[main, main2, main3, \"black\"])\n",
        "mpl.rcParams['figure.figsize'] = (6, 4)  # (6, 4) is default and used in the paper"
      ],
      "metadata": {
        "id": "hkTjKKLmLvpl"
      },
      "execution_count": 5,
      "outputs": []
    },
    {
      "cell_type": "code",
      "source": [
        "device = \"cuda\" if torch.cuda.is_available() else \"cpu\"\n",
        "print(f\"Using {device} device\")"
      ],
      "metadata": {
        "colab": {
          "base_uri": "https://localhost:8080/"
        },
        "id": "Dqy02oAvY7GM",
        "outputId": "aa3a7145-a642-49fc-8092-682e65eb4f3f"
      },
      "execution_count": 6,
      "outputs": [
        {
          "output_type": "stream",
          "name": "stdout",
          "text": [
            "Using cuda device\n"
          ]
        }
      ]
    },
    {
      "cell_type": "code",
      "source": [
        "np.random.seed(69)"
      ],
      "metadata": {
        "id": "YVFtfDk0pYtd"
      },
      "execution_count": 7,
      "outputs": []
    },
    {
      "cell_type": "markdown",
      "source": [
        "# Create a Neural network class"
      ],
      "metadata": {
        "id": "qM4PhINrGVa2"
      }
    },
    {
      "cell_type": "code",
      "source": [
        "class MultivariateNetwork(nn.Module):\n",
        "    def __init__(self, sf_len, meta_cont_len, meta_cat_len, macro_len, hidden_dim, out_len, **params):\n",
        "        super().__init__()\n",
        "\n",
        "        self.lags = nn.Sequential(\n",
        "            nn.Linear(sf_len, hidden_dim),\n",
        "            nn.ReLU(),\n",
        "        )\n",
        "\n",
        "        self.meta_cont = nn.Sequential(\n",
        "            nn.Linear(meta_cont_len, hidden_dim),\n",
        "            nn.ReLU(),\n",
        "        )\n",
        "\n",
        "        self.meta_cat = nn.ModuleList([nn.Embedding(l, hidden_dim) for l in meta_cat_len])\n",
        "\n",
        "        self.macro = nn.Sequential(\n",
        "            nn.Linear(macro_len, hidden_dim),\n",
        "            nn.ReLU(),\n",
        "        )\n",
        "\n",
        "        self.predict = nn.Sequential(\n",
        "            nn.Linear(3*hidden_dim + 9*hidden_dim, 128),\n",
        "            nn.ReLU(),\n",
        "            nn.Linear(128, 64),\n",
        "            nn.ReLU(),\n",
        "            nn.Linear(64, out_len),\n",
        "        )\n",
        "\n",
        "\n",
        "    def forward(self, lags, meta_cont, meta_cat, macro):\n",
        "\n",
        "        lags = self.lags(lags)\n",
        "        meta_cont = self.meta_cont(meta_cont)\n",
        "        meta_cat = torch.cat([emb(meta_cat[:, i]) for i, emb in enumerate(self.meta_cat)], dim=1)\n",
        "        macro = self.macro(macro)\n",
        "\n",
        "        x = torch.cat((lags, meta_cont, meta_cat, macro), dim=1)\n",
        "        x = self.predict(x)\n",
        "\n",
        "        return x"
      ],
      "metadata": {
        "id": "jKqMY62PGZzj"
      },
      "execution_count": 20,
      "outputs": []
    },
    {
      "cell_type": "markdown",
      "source": [
        "\n",
        "# Get some data"
      ],
      "metadata": {
        "id": "PGuFgO6jHPWX"
      }
    },
    {
      "cell_type": "code",
      "source": [
        "%%capture\n",
        "names = [\"stock-data:final\", \"fundamental-data:final\", \"meta-data:final\", \"macro-data:final\"]\n",
        "\n",
        "stock_df, fundamentals_df, meta_df, macro_df = get_datasets(names=names, project=\"master\")"
      ],
      "metadata": {
        "id": "GHmOVxnnHYU_"
      },
      "execution_count": 9,
      "outputs": []
    },
    {
      "cell_type": "markdown",
      "source": [
        "# Run the loop! (Like Odd-Geir Lademo)"
      ],
      "metadata": {
        "id": "s5zbIHNQHUNH"
      }
    },
    {
      "cell_type": "markdown",
      "source": [
        "![picture](https://drive.google.com/uc?id=1Y55gFQSi4Baovmi0kUQGhbgGOBTI03E7)\n"
      ],
      "metadata": {
        "id": "tA8fn-daswS4"
      }
    },
    {
      "cell_type": "code",
      "source": [
        "loss_dict = dict(mape=mape_loss)"
      ],
      "metadata": {
        "id": "s80nCJtF7GFF"
      },
      "execution_count": 10,
      "outputs": []
    },
    {
      "cell_type": "code",
      "source": [
        "def get_epoch_loss(model, optimizer, dataloader, loss_dict, device, run_type, config):\n",
        "    epoch_losses = []\n",
        "    for stocks_and_fundamentals, meta_cont, meta_cat, macro, target in to_device(dataloader, device):\n",
        "                optimizer.zero_grad()\n",
        "                y_pred = model(stocks_and_fundamentals, meta_cont, meta_cat, macro)\n",
        "    \n",
        "                loss = loss_dict[config.loss_fn](target, y_pred)\n",
        "                epoch_losses.append(loss.item())\n",
        "                if run_type == \"train\":\n",
        "                    loss.backward()\n",
        "                    optimizer.step()\n",
        "    return epoch_losses"
      ],
      "metadata": {
        "id": "pZAHVCqKuIOb"
      },
      "execution_count": 11,
      "outputs": []
    },
    {
      "cell_type": "code",
      "source": [
        "def get_naive_epoch_loss(dataloader, loss_dict, device, config):\n",
        "    epoch_losses = []\n",
        "    for stocks_and_fundamentals, meta_cont, meta_cat, macro, target in to_device(dataloader, device):\n",
        "    \n",
        "                loss = loss_dict[config.loss_fn](target, torch.ones(target.shape, device=device))\n",
        "                epoch_losses.append(loss.item())\n",
        "                \n",
        "    return epoch_losses"
      ],
      "metadata": {
        "id": "IWIaujrqJv9Y"
      },
      "execution_count": 12,
      "outputs": []
    },
    {
      "cell_type": "code",
      "source": [
        "def train_one_era(run, model, optimizer, data_train, data_val, stopper, losses, device, config, pbar):\n",
        "\n",
        "    for epoch in range(config.max_epochs):\n",
        "        epoch_losses = dict(train=[], val=[])\n",
        "        \n",
        "        pbar.update_postfix({\"epoch\": epoch})\n",
        "        for run_type, dataloader in {\"train\": data_train, \"val\": data_val}.items():\n",
        "            model.train(run_type == \"train\")\n",
        "            \n",
        "            epoch_losses[run_type] += get_epoch_loss(model, optimizer, dataloader, loss_dict, device, run_type, config)\n",
        "\n",
        "            epoch_loss = np.mean(epoch_losses[run_type])\n",
        "            losses[run_type].append(\n",
        "                epoch_loss)\n",
        "            run.log({f\"epoch_{run_type}\": epoch_loss, \"epoch\": epoch} )\n",
        "        pbar.update_postfix({\"train_loss\": np.mean(epoch_losses[\"train\"]), \"val_loss\": np.mean(epoch_losses[\"val\"])})\n",
        "\n",
        "        if run_type == \"val\" and stopper(epoch_losses[\"val\"]):\n",
        "            losses[\"epoch_lens\"].append(epoch + 1)\n",
        "            break\n",
        "        \n",
        "        pbar.update_postfix({\"triggers\": f\"{stopper.triggers}/{stopper.patience}\"})\n",
        "\n",
        "    return epoch_losses[\"train\"], epoch_losses[\"val\"]"
      ],
      "metadata": {
        "id": "lRHUgmiYTrC-"
      },
      "execution_count": 22,
      "outputs": []
    },
    {
      "cell_type": "code",
      "source": [
        "def train(config, project, entity=\"krankile\", enablewb=True) -> nn.Module:\n",
        "    \n",
        "    mode = \"online\" if enablewb else \"online\"\n",
        "    with wb.init(config=config, job_type=\"training\", mode=mode) as run:\n",
        "        cpus = multiprocessing.cpu_count()\n",
        "\n",
        "        conf = run.config\n",
        "        print(conf)\n",
        "        \n",
        "        #TODO Define model from string given by conf\n",
        "        model = MultivariateNetwork(**conf)\n",
        "        model = model.to(device)\n",
        "        optimizer = torch.optim.Adam(model.parameters(), lr=conf.learning_rate)\n",
        "\n",
        "        stopper = EarlyStop(conf.patience, conf.min_delta)\n",
        "\n",
        "        date_range = pd.date_range(start=conf.start_date, end=conf.end_date, freq=\"M\")\n",
        "        n_ranges = len(date_range)\n",
        "        eras = iter(date_range)\n",
        "        era = next(eras)\n",
        "\n",
        "        losses = dict(train=[], val=[], epoch_lens=[])\n",
        "\n",
        "        val = TimeDeltaDataset(era, conf.training_w, conf.forecast_w, conf.n_reports, stock_df, fundamentals_df, meta_df, macro_df)\n",
        "        na_percentages = {df_key: [] for df_key in val.na_percentage}\n",
        "        \n",
        "        last_date = pd.to_datetime(\"2018-11-30\")\n",
        "        metric = TimeDeltaDataset(last_date, conf.training_w, conf.forecast_w, conf.n_reports, stock_df, fundamentals_df, meta_df, macro_df)\n",
        "        metric_loader = DataLoader(metric, conf.batch_size, shuffle=False, num_workers=cpus)\n",
        "        naive_metric_loss = get_naive_epoch_loss(metric_loader, loss_dict, device, conf)\n",
        "\n",
        "        pbar = TqdmPostFix(eras, total=(n_ranges-1))\n",
        "        for i, era in enumerate(pbar):\n",
        "            pbar.set_description(f\"Era {era.date()}\")\n",
        "            \n",
        "            tra = val\n",
        "            # TODO Refactor this class to only require the top-level conf once\n",
        "            val = TimeDeltaDataset(era, conf.training_w, conf.forecast_w, conf.n_reports, stock_df, fundamentals_df, meta_df, macro_df)\n",
        "            \n",
        "            for df_key in na_percentages:\n",
        "                na_percentages[df_key] += [val.na_percentage[df_key]]\n",
        "            \n",
        "            run.log({**val.na_percentage, \"time\":era.date, \"era\":i} )\n",
        "\n",
        "            data_train = DataLoader(tra, conf.batch_size, shuffle=True, drop_last=False, num_workers=cpus)\n",
        "            data_val = DataLoader(val, conf.batch_size, shuffle=False, num_workers=cpus)\n",
        "\n",
        "            stopper.reset()\n",
        "            train_losses, val_losses = train_one_era(\n",
        "                run=run, \n",
        "                model=model, \n",
        "                optimizer=optimizer, \n",
        "                data_train=data_train, \n",
        "                data_val=data_val, \n",
        "                stopper=stopper,\n",
        "                losses=losses,\n",
        "                device=device, \n",
        "                config=conf,\n",
        "                pbar=pbar,\n",
        "            )\n",
        "            era_naive = get_naive_epoch_loss(data_val, loss_dict, device, conf)\n",
        "            metric_loss = get_epoch_loss(model, optimizer, metric_loader, loss_dict, device, None, conf)\n",
        "            run.log( {\"era_train\": np.mean(train_losses), \"era_val\" : np.mean(val_losses), \"naive_era_loss\":np.mean(era_naive) ,\"metric_loss\":np.mean(metric_loss),\"naive_metric_loss\":np.mean(naive_metric_loss), \"time\":era.date, \"era\":i})\n",
        "\n",
        "    return model, losses, na_percentages"
      ],
      "metadata": {
        "id": "qvhDBuuccqfr"
      },
      "execution_count": 23,
      "outputs": []
    },
    {
      "cell_type": "code",
      "source": [
        "def get_params_from_data(stock_df, fundamental_df, meta_df, macro_df, params_human):\n",
        "    sf_len = params_human[\"training_w\"] + fundamental_df.iloc[:,4:].shape[1]*params_human[\"n_reports\"] - params_human[\"n_reports\"] + 2 #TimeDeltaSet removes n total_assets columns and adds global and local reference columns\n",
        "    meta_cont_len = 1\n",
        "    meta_cat_len = np.array([len(meta_df[col].unique()) for col in meta_df.iloc[:,1:] if col != \"founding_year\"]) + 1\n",
        "    macro_len = (macro_df.shape[1]-1)*params_human[\"training_w\"]\n",
        "    \n",
        "    data_given_params = dict(\n",
        "        sf_len=sf_len,\n",
        "        meta_cont_len=meta_cont_len,\n",
        "        meta_cat_len=meta_cat_len,\n",
        "        macro_len=macro_len,\n",
        "        out_len=params_human[\"forecast_w\"]\n",
        "        \n",
        "    )\n",
        "    return data_given_params"
      ],
      "metadata": {
        "id": "4rczchGmu__D"
      },
      "execution_count": 24,
      "outputs": []
    },
    {
      "cell_type": "code",
      "source": [
        "params_human = dict(\n",
        "    n_reports=4,\n",
        "    training_w=240,\n",
        "    forecast_w=20,\n",
        "    loss_fn=\"mape\",\n",
        "    start_date=\"2000-12-31\",\n",
        "    end_date=\"2018-10-31\",\n",
        ")\n",
        "\n",
        "params_wb = dict(\n",
        "    hidden_dim=32,\n",
        "    batch_size=1024,\n",
        "    max_epochs=50,\n",
        "    patience=50,\n",
        "    min_delta=0.0001,\n",
        "    learning_rate=0.001\n",
        ")\n",
        "\n",
        "params_from_data = get_params_from_data(stock_df, fundamentals_df, meta_df, macro_df, params_human)\n",
        "\n",
        "config = {\n",
        "    **params_human,\n",
        "    **params_wb,\n",
        "    **params_from_data,\n",
        "}\n"
      ],
      "metadata": {
        "id": "wIKeTJNrln6X"
      },
      "execution_count": 31,
      "outputs": []
    },
    {
      "cell_type": "code",
      "source": [
        "enablewb = True\n",
        "count = None\n",
        "sweepid = \"krankile/master/zyyq6y50\"\n",
        "\n",
        "if sweepid:\n",
        "    count = 500 # number of runs to execute\n",
        "    wb.agent(sweepid, partial(train,config=config, project=\"master-test\", entity=\"krankile\", enablewb=enablewb), count=count)\n",
        "\n",
        "else:\n",
        "    model, losses, _ = train(config=config, project=\"master-test\", entity=\"krankile\", enablewb=enablewb)"
      ],
      "metadata": {
        "colab": {
          "base_uri": "https://localhost:8080/",
          "height": 274
        },
        "id": "G3xYkJZgl_Vn",
        "outputId": "8152476e-2756-4187-a661-95a28ee4eeb6"
      },
      "execution_count": null,
      "outputs": [
        {
          "output_type": "stream",
          "name": "stderr",
          "text": [
            "\u001b[34m\u001b[1mwandb\u001b[0m: Agent Starting Run: o2gk855q with config:\n",
            "\u001b[34m\u001b[1mwandb\u001b[0m: \tbatch_size: 509\n",
            "\u001b[34m\u001b[1mwandb\u001b[0m: \thidden_dim: 92\n",
            "\u001b[34m\u001b[1mwandb\u001b[0m: \tlearning_rate: 0.001230076664691909\n",
            "\u001b[34m\u001b[1mwandb\u001b[0m: \tmax_epochs: 506\n",
            "\u001b[34m\u001b[1mwandb\u001b[0m: \tmin_delta: 0.128834398032854\n",
            "\u001b[34m\u001b[1mwandb\u001b[0m: \tpatience: 70\n"
          ]
        },
        {
          "output_type": "display_data",
          "data": {
            "text/plain": [
              "<IPython.core.display.HTML object>"
            ],
            "text/html": [
              "Tracking run with wandb version 0.12.17"
            ]
          },
          "metadata": {}
        },
        {
          "output_type": "display_data",
          "data": {
            "text/plain": [
              "<IPython.core.display.HTML object>"
            ],
            "text/html": [
              "Run data is saved locally in <code>/content/wandb/run-20220528_090523-o2gk855q</code>"
            ]
          },
          "metadata": {}
        },
        {
          "output_type": "display_data",
          "data": {
            "text/plain": [
              "<IPython.core.display.HTML object>"
            ],
            "text/html": [
              "Syncing run <strong><a href=\"https://wandb.ai/krankile/master/runs/o2gk855q\" target=\"_blank\">dandy-sweep-6</a></strong> to <a href=\"https://wandb.ai/krankile/master\" target=\"_blank\">Weights & Biases</a> (<a href=\"https://wandb.me/run\" target=\"_blank\">docs</a>)<br/>Sweep page:  <a href=\"https://wandb.ai/krankile/master/sweeps/zyyq6y50\" target=\"_blank\">https://wandb.ai/krankile/master/sweeps/zyyq6y50</a>"
            ]
          },
          "metadata": {}
        },
        {
          "output_type": "stream",
          "name": "stdout",
          "text": [
            "{'n_reports': 4, 'training_w': 240, 'forecast_w': 20, 'loss_fn': 'mape', 'start_date': '2000-12-31', 'end_date': '2018-10-31', 'hidden_dim': 92, 'batch_size': 509, 'max_epochs': 506, 'patience': 70, 'min_delta': 0.128834398032854, 'learning_rate': 0.001230076664691909, 'sf_len': 306, 'meta_cont_len': 1, 'meta_cat_len': [110, 6, 92, 296, 3, 5, 7, 14, 58], 'macro_len': 4320, 'out_len': 20}\n"
          ]
        },
        {
          "output_type": "stream",
          "name": "stderr",
          "text": [
            "Era 2001-01-31:   0%|          | 0/214 [00:36<?, ?it/s, epoch=33, train_loss=0.066, val_loss=0.112, triggers=29/70]"
          ]
        }
      ]
    },
    {
      "cell_type": "markdown",
      "source": [
        "# Plot the training loss"
      ],
      "metadata": {
        "id": "vOWTEiXHCHvc"
      }
    },
    {
      "cell_type": "markdown",
      "source": [
        "## All epochs"
      ],
      "metadata": {
        "id": "ezzzd44FRseD"
      }
    },
    {
      "cell_type": "code",
      "source": [
        "lines = []\n",
        "\n",
        "date_range = pd.date_range(start=\"2000-12-31\", end=\"2018-10-31\", freq=\"M\")\n",
        "for d, x_val in zip(date_range, np.cumsum(losses[\"epoch_lens\"])):\n",
        "    if d.month == 1:\n",
        "        lines.append(\n",
        "            (x_val, d)\n",
        "        )"
      ],
      "metadata": {
        "id": "IUy2yXdlMA_8"
      },
      "execution_count": null,
      "outputs": []
    },
    {
      "cell_type": "code",
      "source": [
        "plt.plot(losses[\"val\"])\n",
        "\n",
        "for (x1, _), (x2, _) in chunked(lines, n=2):\n",
        "    plt.axvspan(xmin=x1, xmax=x2, color=\"lightgrey\")\n",
        "\n",
        "plt.text(150, 0.8, \"2000\", rotation=\"vertical\")\n",
        "plt.text(2250, 0.8, \"2006\", rotation=\"vertical\")\n",
        "plt.text(4450, 0.8, \"2010\", rotation=\"vertical\")\n",
        "plt.text(5600, 0.8, \"2014\", rotation=\"vertical\")\n",
        "plt.text(6900, 0.8, \"2018\", rotation=\"vertical\")\n",
        "\n",
        "plt.xlabel(\"Cumulative epochs over all eras\")\n",
        "plt.ylabel(\"Mean MAPE loss over epoch\")\n",
        "plt.ylim(top=1, bottom=0);"
      ],
      "metadata": {
        "colab": {
          "base_uri": "https://localhost:8080/",
          "height": 283
        },
        "id": "Y_d4v-kWnrVS",
        "outputId": "66b76efe-b5f2-4bb3-928e-f7206502aeef"
      },
      "execution_count": null,
      "outputs": [
        {
          "output_type": "display_data",
          "data": {
            "text/plain": [
              "<Figure size 432x288 with 1 Axes>"
            ],
            "image/png": "[encoded data removed]"
          },
          "metadata": {
            "needs_background": "light"
          }
        }
      ]
    },
    {
      "cell_type": "markdown",
      "source": [
        "## Mean loss for each era"
      ],
      "metadata": {
        "id": "aLwdc07URyFQ"
      }
    },
    {
      "cell_type": "code",
      "source": [
        "date_range = pd.date_range(start=\"2000-12-31\", end=\"2018-10-31\", freq=\"M\")\n",
        "nums = [([d] * l) for d, l in zip(date_range, losses[\"epoch_lens\"])]\n",
        "flat = [item for sublist in nums for item in sublist]"
      ],
      "metadata": {
        "id": "GIVB-Hok-pUx"
      },
      "execution_count": null,
      "outputs": []
    },
    {
      "cell_type": "code",
      "source": [
        "start = 0\n",
        "months = []\n",
        "val_loss = losses[\"val\"]\n",
        "\n",
        "for l, d in zip(losses[\"epoch_lens\"], date_range):\n",
        "    months.append(\n",
        "        (d, np.mean(val_loss[start:start+l]))\n",
        "    )\n",
        "    start += l"
      ],
      "metadata": {
        "id": "v6hyLO7oezwZ"
      },
      "execution_count": null,
      "outputs": []
    },
    {
      "cell_type": "code",
      "source": [
        "plt.plot(*zip(*months))\n",
        "plt.ylim(top=1, bottom=0)\n",
        "\n",
        "plt.xlabel(\"Training era\")\n",
        "plt.ylabel(\"Mean MAPE loss over era\");"
      ],
      "metadata": {
        "colab": {
          "base_uri": "https://localhost:8080/",
          "height": 283
        },
        "id": "O0StYkf3TF8j",
        "outputId": "2c2cc053-c45f-4bb7-8223-f4605eac1103"
      },
      "execution_count": null,
      "outputs": [
        {
          "output_type": "display_data",
          "data": {
            "text/plain": [
              "<Figure size 432x288 with 1 Axes>"
            ],
            "image/png": "[encoded data removed]"
          },
          "metadata": {
            "needs_background": "light"
          }
        }
      ]
    },
    {
      "cell_type": "code",
      "source": [
        "\n"
      ],
      "metadata": {
        "id": "V1MQfBcVTHY_"
      },
      "execution_count": null,
      "outputs": []
    }
  ]
}