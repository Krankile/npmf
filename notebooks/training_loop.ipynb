{
  "nbformat": 4,
  "nbformat_minor": 0,
  "metadata": {
    "colab": {
      "name": "training_loop.ipynb",
      "provenance": [],
      "collapsed_sections": [],
      "toc_visible": true,
      "include_colab_link": true
    },
    "kernelspec": {
      "name": "python3",
      "display_name": "Python 3"
    },
    "language_info": {
      "name": "python"
    },
    "widgets": {
      "application/vnd.jupyter.widget-state+json": {
        "73e1768c0001460daf522ce6eaa77df0": {
          "model_module": "@jupyter-widgets/controls",
          "model_name": "VBoxModel",
          "model_module_version": "1.5.0",
          "state": {
            "_dom_classes": [],
            "_model_module": "@jupyter-widgets/controls",
            "_model_module_version": "1.5.0",
            "_model_name": "VBoxModel",
            "_view_count": null,
            "_view_module": "@jupyter-widgets/controls",
            "_view_module_version": "1.5.0",
            "_view_name": "VBoxView",
            "box_style": "",
            "children": [
              "IPY_MODEL_64266afa6a82478bae5fd13ece458040",
              "IPY_MODEL_9187319e8ab14d4ea63171ade7227e0a"
            ],
            "layout": "IPY_MODEL_8bc4c03f18304bb8ab749e8940a57018"
          }
        },
        "64266afa6a82478bae5fd13ece458040": {
          "model_module": "@jupyter-widgets/controls",
          "model_name": "LabelModel",
          "model_module_version": "1.5.0",
          "state": {
            "_dom_classes": [],
            "_model_module": "@jupyter-widgets/controls",
            "_model_module_version": "1.5.0",
            "_model_name": "LabelModel",
            "_view_count": null,
            "_view_module": "@jupyter-widgets/controls",
            "_view_module_version": "1.5.0",
            "_view_name": "LabelView",
            "description": "",
            "description_tooltip": null,
            "layout": "IPY_MODEL_6605a96a9b8a4065aaaa0dfab66e1dbb",
            "placeholder": "​",
            "style": "IPY_MODEL_e799da6d11db497c9e3622ff9de16abd",
            "value": "0.008 MB of 0.008 MB uploaded (0.000 MB deduped)\r"
          }
        },
        "9187319e8ab14d4ea63171ade7227e0a": {
          "model_module": "@jupyter-widgets/controls",
          "model_name": "FloatProgressModel",
          "model_module_version": "1.5.0",
          "state": {
            "_dom_classes": [],
            "_model_module": "@jupyter-widgets/controls",
            "_model_module_version": "1.5.0",
            "_model_name": "FloatProgressModel",
            "_view_count": null,
            "_view_module": "@jupyter-widgets/controls",
            "_view_module_version": "1.5.0",
            "_view_name": "ProgressView",
            "bar_style": "",
            "description": "",
            "description_tooltip": null,
            "layout": "IPY_MODEL_1cfd30019c7f4d18b85c3caf42f45b43",
            "max": 1,
            "min": 0,
            "orientation": "horizontal",
            "style": "IPY_MODEL_e695a9899ce84a139eae274aee3b8192",
            "value": 1
          }
        },
        "8bc4c03f18304bb8ab749e8940a57018": {
          "model_module": "@jupyter-widgets/base",
          "model_name": "LayoutModel",
          "model_module_version": "1.2.0",
          "state": {
            "_model_module": "@jupyter-widgets/base",
            "_model_module_version": "1.2.0",
            "_model_name": "LayoutModel",
            "_view_count": null,
            "_view_module": "@jupyter-widgets/base",
            "_view_module_version": "1.2.0",
            "_view_name": "LayoutView",
            "align_content": null,
            "align_items": null,
            "align_self": null,
            "border": null,
            "bottom": null,
            "display": null,
            "flex": null,
            "flex_flow": null,
            "grid_area": null,
            "grid_auto_columns": null,
            "grid_auto_flow": null,
            "grid_auto_rows": null,
            "grid_column": null,
            "grid_gap": null,
            "grid_row": null,
            "grid_template_areas": null,
            "grid_template_columns": null,
            "grid_template_rows": null,
            "height": null,
            "justify_content": null,
            "justify_items": null,
            "left": null,
            "margin": null,
            "max_height": null,
            "max_width": null,
            "min_height": null,
            "min_width": null,
            "object_fit": null,
            "object_position": null,
            "order": null,
            "overflow": null,
            "overflow_x": null,
            "overflow_y": null,
            "padding": null,
            "right": null,
            "top": null,
            "visibility": null,
            "width": null
          }
        },
        "6605a96a9b8a4065aaaa0dfab66e1dbb": {
          "model_module": "@jupyter-widgets/base",
          "model_name": "LayoutModel",
          "model_module_version": "1.2.0",
          "state": {
            "_model_module": "@jupyter-widgets/base",
            "_model_module_version": "1.2.0",
            "_model_name": "LayoutModel",
            "_view_count": null,
            "_view_module": "@jupyter-widgets/base",
            "_view_module_version": "1.2.0",
            "_view_name": "LayoutView",
            "align_content": null,
            "align_items": null,
            "align_self": null,
            "border": null,
            "bottom": null,
            "display": null,
            "flex": null,
            "flex_flow": null,
            "grid_area": null,
            "grid_auto_columns": null,
            "grid_auto_flow": null,
            "grid_auto_rows": null,
            "grid_column": null,
            "grid_gap": null,
            "grid_row": null,
            "grid_template_areas": null,
            "grid_template_columns": null,
            "grid_template_rows": null,
            "height": null,
            "justify_content": null,
            "justify_items": null,
            "left": null,
            "margin": null,
            "max_height": null,
            "max_width": null,
            "min_height": null,
            "min_width": null,
            "object_fit": null,
            "object_position": null,
            "order": null,
            "overflow": null,
            "overflow_x": null,
            "overflow_y": null,
            "padding": null,
            "right": null,
            "top": null,
            "visibility": null,
            "width": null
          }
        },
        "e799da6d11db497c9e3622ff9de16abd": {
          "model_module": "@jupyter-widgets/controls",
          "model_name": "DescriptionStyleModel",
          "model_module_version": "1.5.0",
          "state": {
            "_model_module": "@jupyter-widgets/controls",
            "_model_module_version": "1.5.0",
            "_model_name": "DescriptionStyleModel",
            "_view_count": null,
            "_view_module": "@jupyter-widgets/base",
            "_view_module_version": "1.2.0",
            "_view_name": "StyleView",
            "description_width": ""
          }
        },
        "1cfd30019c7f4d18b85c3caf42f45b43": {
          "model_module": "@jupyter-widgets/base",
          "model_name": "LayoutModel",
          "model_module_version": "1.2.0",
          "state": {
            "_model_module": "@jupyter-widgets/base",
            "_model_module_version": "1.2.0",
            "_model_name": "LayoutModel",
            "_view_count": null,
            "_view_module": "@jupyter-widgets/base",
            "_view_module_version": "1.2.0",
            "_view_name": "LayoutView",
            "align_content": null,
            "align_items": null,
            "align_self": null,
            "border": null,
            "bottom": null,
            "display": null,
            "flex": null,
            "flex_flow": null,
            "grid_area": null,
            "grid_auto_columns": null,
            "grid_auto_flow": null,
            "grid_auto_rows": null,
            "grid_column": null,
            "grid_gap": null,
            "grid_row": null,
            "grid_template_areas": null,
            "grid_template_columns": null,
            "grid_template_rows": null,
            "height": null,
            "justify_content": null,
            "justify_items": null,
            "left": null,
            "margin": null,
            "max_height": null,
            "max_width": null,
            "min_height": null,
            "min_width": null,
            "object_fit": null,
            "object_position": null,
            "order": null,
            "overflow": null,
            "overflow_x": null,
            "overflow_y": null,
            "padding": null,
            "right": null,
            "top": null,
            "visibility": null,
            "width": null
          }
        },
        "e695a9899ce84a139eae274aee3b8192": {
          "model_module": "@jupyter-widgets/controls",
          "model_name": "ProgressStyleModel",
          "model_module_version": "1.5.0",
          "state": {
            "_model_module": "@jupyter-widgets/controls",
            "_model_module_version": "1.5.0",
            "_model_name": "ProgressStyleModel",
            "_view_count": null,
            "_view_module": "@jupyter-widgets/base",
            "_view_module_version": "1.2.0",
            "_view_name": "StyleView",
            "bar_color": null,
            "description_width": ""
          }
        },
        "8446724d6b9245b19fd245233d78c17f": {
          "model_module": "@jupyter-widgets/controls",
          "model_name": "VBoxModel",
          "model_module_version": "1.5.0",
          "state": {
            "_dom_classes": [],
            "_model_module": "@jupyter-widgets/controls",
            "_model_module_version": "1.5.0",
            "_model_name": "VBoxModel",
            "_view_count": null,
            "_view_module": "@jupyter-widgets/controls",
            "_view_module_version": "1.5.0",
            "_view_name": "VBoxView",
            "box_style": "",
            "children": [
              "IPY_MODEL_3b5bf3e3e89645d6b5d3d8e40cb39dbf",
              "IPY_MODEL_d47670bbdc39455c9bfb60fb66cb7d86"
            ],
            "layout": "IPY_MODEL_76ae132615c34e5eb91bd42911ea5a21"
          }
        },
        "3b5bf3e3e89645d6b5d3d8e40cb39dbf": {
          "model_module": "@jupyter-widgets/controls",
          "model_name": "LabelModel",
          "model_module_version": "1.5.0",
          "state": {
            "_dom_classes": [],
            "_model_module": "@jupyter-widgets/controls",
            "_model_module_version": "1.5.0",
            "_model_name": "LabelModel",
            "_view_count": null,
            "_view_module": "@jupyter-widgets/controls",
            "_view_module_version": "1.5.0",
            "_view_name": "LabelView",
            "description": "",
            "description_tooltip": null,
            "layout": "IPY_MODEL_dce68f31ebbd48ebb33c80d30c18213a",
            "placeholder": "​",
            "style": "IPY_MODEL_334359ee8aba431190a7c3373fd13d96",
            "value": "0.008 MB of 0.008 MB uploaded (0.000 MB deduped)\r"
          }
        },
        "d47670bbdc39455c9bfb60fb66cb7d86": {
          "model_module": "@jupyter-widgets/controls",
          "model_name": "FloatProgressModel",
          "model_module_version": "1.5.0",
          "state": {
            "_dom_classes": [],
            "_model_module": "@jupyter-widgets/controls",
            "_model_module_version": "1.5.0",
            "_model_name": "FloatProgressModel",
            "_view_count": null,
            "_view_module": "@jupyter-widgets/controls",
            "_view_module_version": "1.5.0",
            "_view_name": "ProgressView",
            "bar_style": "",
            "description": "",
            "description_tooltip": null,
            "layout": "IPY_MODEL_e84c02981d654463817bbcf8588cb968",
            "max": 1,
            "min": 0,
            "orientation": "horizontal",
            "style": "IPY_MODEL_a7a0aafc3524422fafa0858c5b485d89",
            "value": 1
          }
        },
        "76ae132615c34e5eb91bd42911ea5a21": {
          "model_module": "@jupyter-widgets/base",
          "model_name": "LayoutModel",
          "model_module_version": "1.2.0",
          "state": {
            "_model_module": "@jupyter-widgets/base",
            "_model_module_version": "1.2.0",
            "_model_name": "LayoutModel",
            "_view_count": null,
            "_view_module": "@jupyter-widgets/base",
            "_view_module_version": "1.2.0",
            "_view_name": "LayoutView",
            "align_content": null,
            "align_items": null,
            "align_self": null,
            "border": null,
            "bottom": null,
            "display": null,
            "flex": null,
            "flex_flow": null,
            "grid_area": null,
            "grid_auto_columns": null,
            "grid_auto_flow": null,
            "grid_auto_rows": null,
            "grid_column": null,
            "grid_gap": null,
            "grid_row": null,
            "grid_template_areas": null,
            "grid_template_columns": null,
            "grid_template_rows": null,
            "height": null,
            "justify_content": null,
            "justify_items": null,
            "left": null,
            "margin": null,
            "max_height": null,
            "max_width": null,
            "min_height": null,
            "min_width": null,
            "object_fit": null,
            "object_position": null,
            "order": null,
            "overflow": null,
            "overflow_x": null,
            "overflow_y": null,
            "padding": null,
            "right": null,
            "top": null,
            "visibility": null,
            "width": null
          }
        },
        "dce68f31ebbd48ebb33c80d30c18213a": {
          "model_module": "@jupyter-widgets/base",
          "model_name": "LayoutModel",
          "model_module_version": "1.2.0",
          "state": {
            "_model_module": "@jupyter-widgets/base",
            "_model_module_version": "1.2.0",
            "_model_name": "LayoutModel",
            "_view_count": null,
            "_view_module": "@jupyter-widgets/base",
            "_view_module_version": "1.2.0",
            "_view_name": "LayoutView",
            "align_content": null,
            "align_items": null,
            "align_self": null,
            "border": null,
            "bottom": null,
            "display": null,
            "flex": null,
            "flex_flow": null,
            "grid_area": null,
            "grid_auto_columns": null,
            "grid_auto_flow": null,
            "grid_auto_rows": null,
            "grid_column": null,
            "grid_gap": null,
            "grid_row": null,
            "grid_template_areas": null,
            "grid_template_columns": null,
            "grid_template_rows": null,
            "height": null,
            "justify_content": null,
            "justify_items": null,
            "left": null,
            "margin": null,
            "max_height": null,
            "max_width": null,
            "min_height": null,
            "min_width": null,
            "object_fit": null,
            "object_position": null,
            "order": null,
            "overflow": null,
            "overflow_x": null,
            "overflow_y": null,
            "padding": null,
            "right": null,
            "top": null,
            "visibility": null,
            "width": null
          }
        },
        "334359ee8aba431190a7c3373fd13d96": {
          "model_module": "@jupyter-widgets/controls",
          "model_name": "DescriptionStyleModel",
          "model_module_version": "1.5.0",
          "state": {
            "_model_module": "@jupyter-widgets/controls",
            "_model_module_version": "1.5.0",
            "_model_name": "DescriptionStyleModel",
            "_view_count": null,
            "_view_module": "@jupyter-widgets/base",
            "_view_module_version": "1.2.0",
            "_view_name": "StyleView",
            "description_width": ""
          }
        },
        "e84c02981d654463817bbcf8588cb968": {
          "model_module": "@jupyter-widgets/base",
          "model_name": "LayoutModel",
          "model_module_version": "1.2.0",
          "state": {
            "_model_module": "@jupyter-widgets/base",
            "_model_module_version": "1.2.0",
            "_model_name": "LayoutModel",
            "_view_count": null,
            "_view_module": "@jupyter-widgets/base",
            "_view_module_version": "1.2.0",
            "_view_name": "LayoutView",
            "align_content": null,
            "align_items": null,
            "align_self": null,
            "border": null,
            "bottom": null,
            "display": null,
            "flex": null,
            "flex_flow": null,
            "grid_area": null,
            "grid_auto_columns": null,
            "grid_auto_flow": null,
            "grid_auto_rows": null,
            "grid_column": null,
            "grid_gap": null,
            "grid_row": null,
            "grid_template_areas": null,
            "grid_template_columns": null,
            "grid_template_rows": null,
            "height": null,
            "justify_content": null,
            "justify_items": null,
            "left": null,
            "margin": null,
            "max_height": null,
            "max_width": null,
            "min_height": null,
            "min_width": null,
            "object_fit": null,
            "object_position": null,
            "order": null,
            "overflow": null,
            "overflow_x": null,
            "overflow_y": null,
            "padding": null,
            "right": null,
            "top": null,
            "visibility": null,
            "width": null
          }
        },
        "a7a0aafc3524422fafa0858c5b485d89": {
          "model_module": "@jupyter-widgets/controls",
          "model_name": "ProgressStyleModel",
          "model_module_version": "1.5.0",
          "state": {
            "_model_module": "@jupyter-widgets/controls",
            "_model_module_version": "1.5.0",
            "_model_name": "ProgressStyleModel",
            "_view_count": null,
            "_view_module": "@jupyter-widgets/base",
            "_view_module_version": "1.2.0",
            "_view_name": "StyleView",
            "bar_color": null,
            "description_width": ""
          }
        },
        "4ecc677afa974b41a43866b88e1834d6": {
          "model_module": "@jupyter-widgets/controls",
          "model_name": "VBoxModel",
          "model_module_version": "1.5.0",
          "state": {
            "_dom_classes": [],
            "_model_module": "@jupyter-widgets/controls",
            "_model_module_version": "1.5.0",
            "_model_name": "VBoxModel",
            "_view_count": null,
            "_view_module": "@jupyter-widgets/controls",
            "_view_module_version": "1.5.0",
            "_view_name": "VBoxView",
            "box_style": "",
            "children": [
              "IPY_MODEL_a6bd004329104d45a94640970d9510da",
              "IPY_MODEL_7588c735d4114020a02d8a35a661bdcd"
            ],
            "layout": "IPY_MODEL_a4dcf69d15364c528411c1a62c8118c8"
          }
        },
        "a6bd004329104d45a94640970d9510da": {
          "model_module": "@jupyter-widgets/controls",
          "model_name": "LabelModel",
          "model_module_version": "1.5.0",
          "state": {
            "_dom_classes": [],
            "_model_module": "@jupyter-widgets/controls",
            "_model_module_version": "1.5.0",
            "_model_name": "LabelModel",
            "_view_count": null,
            "_view_module": "@jupyter-widgets/controls",
            "_view_module_version": "1.5.0",
            "_view_name": "LabelView",
            "description": "",
            "description_tooltip": null,
            "layout": "IPY_MODEL_47a7d1f68d5d4448a0c5f25d5e6f6285",
            "placeholder": "​",
            "style": "IPY_MODEL_9fba65cab67d47a8bc13adc475efa456",
            "value": "0.008 MB of 0.008 MB uploaded (0.000 MB deduped)\r"
          }
        },
        "7588c735d4114020a02d8a35a661bdcd": {
          "model_module": "@jupyter-widgets/controls",
          "model_name": "FloatProgressModel",
          "model_module_version": "1.5.0",
          "state": {
            "_dom_classes": [],
            "_model_module": "@jupyter-widgets/controls",
            "_model_module_version": "1.5.0",
            "_model_name": "FloatProgressModel",
            "_view_count": null,
            "_view_module": "@jupyter-widgets/controls",
            "_view_module_version": "1.5.0",
            "_view_name": "ProgressView",
            "bar_style": "",
            "description": "",
            "description_tooltip": null,
            "layout": "IPY_MODEL_794d8afc9b384d1a8e326783b7eab268",
            "max": 1,
            "min": 0,
            "orientation": "horizontal",
            "style": "IPY_MODEL_aea6e3fbc4fd42c986dbad9764c951aa",
            "value": 1
          }
        },
        "a4dcf69d15364c528411c1a62c8118c8": {
          "model_module": "@jupyter-widgets/base",
          "model_name": "LayoutModel",
          "model_module_version": "1.2.0",
          "state": {
            "_model_module": "@jupyter-widgets/base",
            "_model_module_version": "1.2.0",
            "_model_name": "LayoutModel",
            "_view_count": null,
            "_view_module": "@jupyter-widgets/base",
            "_view_module_version": "1.2.0",
            "_view_name": "LayoutView",
            "align_content": null,
            "align_items": null,
            "align_self": null,
            "border": null,
            "bottom": null,
            "display": null,
            "flex": null,
            "flex_flow": null,
            "grid_area": null,
            "grid_auto_columns": null,
            "grid_auto_flow": null,
            "grid_auto_rows": null,
            "grid_column": null,
            "grid_gap": null,
            "grid_row": null,
            "grid_template_areas": null,
            "grid_template_columns": null,
            "grid_template_rows": null,
            "height": null,
            "justify_content": null,
            "justify_items": null,
            "left": null,
            "margin": null,
            "max_height": null,
            "max_width": null,
            "min_height": null,
            "min_width": null,
            "object_fit": null,
            "object_position": null,
            "order": null,
            "overflow": null,
            "overflow_x": null,
            "overflow_y": null,
            "padding": null,
            "right": null,
            "top": null,
            "visibility": null,
            "width": null
          }
        },
        "47a7d1f68d5d4448a0c5f25d5e6f6285": {
          "model_module": "@jupyter-widgets/base",
          "model_name": "LayoutModel",
          "model_module_version": "1.2.0",
          "state": {
            "_model_module": "@jupyter-widgets/base",
            "_model_module_version": "1.2.0",
            "_model_name": "LayoutModel",
            "_view_count": null,
            "_view_module": "@jupyter-widgets/base",
            "_view_module_version": "1.2.0",
            "_view_name": "LayoutView",
            "align_content": null,
            "align_items": null,
            "align_self": null,
            "border": null,
            "bottom": null,
            "display": null,
            "flex": null,
            "flex_flow": null,
            "grid_area": null,
            "grid_auto_columns": null,
            "grid_auto_flow": null,
            "grid_auto_rows": null,
            "grid_column": null,
            "grid_gap": null,
            "grid_row": null,
            "grid_template_areas": null,
            "grid_template_columns": null,
            "grid_template_rows": null,
            "height": null,
            "justify_content": null,
            "justify_items": null,
            "left": null,
            "margin": null,
            "max_height": null,
            "max_width": null,
            "min_height": null,
            "min_width": null,
            "object_fit": null,
            "object_position": null,
            "order": null,
            "overflow": null,
            "overflow_x": null,
            "overflow_y": null,
            "padding": null,
            "right": null,
            "top": null,
            "visibility": null,
            "width": null
          }
        },
        "9fba65cab67d47a8bc13adc475efa456": {
          "model_module": "@jupyter-widgets/controls",
          "model_name": "DescriptionStyleModel",
          "model_module_version": "1.5.0",
          "state": {
            "_model_module": "@jupyter-widgets/controls",
            "_model_module_version": "1.5.0",
            "_model_name": "DescriptionStyleModel",
            "_view_count": null,
            "_view_module": "@jupyter-widgets/base",
            "_view_module_version": "1.2.0",
            "_view_name": "StyleView",
            "description_width": ""
          }
        },
        "794d8afc9b384d1a8e326783b7eab268": {
          "model_module": "@jupyter-widgets/base",
          "model_name": "LayoutModel",
          "model_module_version": "1.2.0",
          "state": {
            "_model_module": "@jupyter-widgets/base",
            "_model_module_version": "1.2.0",
            "_model_name": "LayoutModel",
            "_view_count": null,
            "_view_module": "@jupyter-widgets/base",
            "_view_module_version": "1.2.0",
            "_view_name": "LayoutView",
            "align_content": null,
            "align_items": null,
            "align_self": null,
            "border": null,
            "bottom": null,
            "display": null,
            "flex": null,
            "flex_flow": null,
            "grid_area": null,
            "grid_auto_columns": null,
            "grid_auto_flow": null,
            "grid_auto_rows": null,
            "grid_column": null,
            "grid_gap": null,
            "grid_row": null,
            "grid_template_areas": null,
            "grid_template_columns": null,
            "grid_template_rows": null,
            "height": null,
            "justify_content": null,
            "justify_items": null,
            "left": null,
            "margin": null,
            "max_height": null,
            "max_width": null,
            "min_height": null,
            "min_width": null,
            "object_fit": null,
            "object_position": null,
            "order": null,
            "overflow": null,
            "overflow_x": null,
            "overflow_y": null,
            "padding": null,
            "right": null,
            "top": null,
            "visibility": null,
            "width": null
          }
        },
        "aea6e3fbc4fd42c986dbad9764c951aa": {
          "model_module": "@jupyter-widgets/controls",
          "model_name": "ProgressStyleModel",
          "model_module_version": "1.5.0",
          "state": {
            "_model_module": "@jupyter-widgets/controls",
            "_model_module_version": "1.5.0",
            "_model_name": "ProgressStyleModel",
            "_view_count": null,
            "_view_module": "@jupyter-widgets/base",
            "_view_module_version": "1.2.0",
            "_view_name": "StyleView",
            "bar_color": null,
            "description_width": ""
          }
        },
        "3bfe4327013b419e8e5c451988a97d04": {
          "model_module": "@jupyter-widgets/controls",
          "model_name": "VBoxModel",
          "model_module_version": "1.5.0",
          "state": {
            "_dom_classes": [],
            "_model_module": "@jupyter-widgets/controls",
            "_model_module_version": "1.5.0",
            "_model_name": "VBoxModel",
            "_view_count": null,
            "_view_module": "@jupyter-widgets/controls",
            "_view_module_version": "1.5.0",
            "_view_name": "VBoxView",
            "box_style": "",
            "children": [
              "IPY_MODEL_dc37d5ce25ae4cb78f2d23a41010eb74",
              "IPY_MODEL_8a7aba3e7b5544118547e1c7eab773fe"
            ],
            "layout": "IPY_MODEL_029e22cfcef94243a6f41ac0978f3e5f"
          }
        },
        "dc37d5ce25ae4cb78f2d23a41010eb74": {
          "model_module": "@jupyter-widgets/controls",
          "model_name": "LabelModel",
          "model_module_version": "1.5.0",
          "state": {
            "_dom_classes": [],
            "_model_module": "@jupyter-widgets/controls",
            "_model_module_version": "1.5.0",
            "_model_name": "LabelModel",
            "_view_count": null,
            "_view_module": "@jupyter-widgets/controls",
            "_view_module_version": "1.5.0",
            "_view_name": "LabelView",
            "description": "",
            "description_tooltip": null,
            "layout": "IPY_MODEL_d9024d8e75484eebbf1b1c068c94a885",
            "placeholder": "​",
            "style": "IPY_MODEL_82a11cd3a5314347abca3cf06a7eb03f",
            "value": "0.008 MB of 0.008 MB uploaded (0.000 MB deduped)\r"
          }
        },
        "8a7aba3e7b5544118547e1c7eab773fe": {
          "model_module": "@jupyter-widgets/controls",
          "model_name": "FloatProgressModel",
          "model_module_version": "1.5.0",
          "state": {
            "_dom_classes": [],
            "_model_module": "@jupyter-widgets/controls",
            "_model_module_version": "1.5.0",
            "_model_name": "FloatProgressModel",
            "_view_count": null,
            "_view_module": "@jupyter-widgets/controls",
            "_view_module_version": "1.5.0",
            "_view_name": "ProgressView",
            "bar_style": "",
            "description": "",
            "description_tooltip": null,
            "layout": "IPY_MODEL_111ed993e1164f42b89c355fe27403e6",
            "max": 1,
            "min": 0,
            "orientation": "horizontal",
            "style": "IPY_MODEL_bb4b5a379ab24d35ba6477edd8109d91",
            "value": 1
          }
        },
        "029e22cfcef94243a6f41ac0978f3e5f": {
          "model_module": "@jupyter-widgets/base",
          "model_name": "LayoutModel",
          "model_module_version": "1.2.0",
          "state": {
            "_model_module": "@jupyter-widgets/base",
            "_model_module_version": "1.2.0",
            "_model_name": "LayoutModel",
            "_view_count": null,
            "_view_module": "@jupyter-widgets/base",
            "_view_module_version": "1.2.0",
            "_view_name": "LayoutView",
            "align_content": null,
            "align_items": null,
            "align_self": null,
            "border": null,
            "bottom": null,
            "display": null,
            "flex": null,
            "flex_flow": null,
            "grid_area": null,
            "grid_auto_columns": null,
            "grid_auto_flow": null,
            "grid_auto_rows": null,
            "grid_column": null,
            "grid_gap": null,
            "grid_row": null,
            "grid_template_areas": null,
            "grid_template_columns": null,
            "grid_template_rows": null,
            "height": null,
            "justify_content": null,
            "justify_items": null,
            "left": null,
            "margin": null,
            "max_height": null,
            "max_width": null,
            "min_height": null,
            "min_width": null,
            "object_fit": null,
            "object_position": null,
            "order": null,
            "overflow": null,
            "overflow_x": null,
            "overflow_y": null,
            "padding": null,
            "right": null,
            "top": null,
            "visibility": null,
            "width": null
          }
        },
        "d9024d8e75484eebbf1b1c068c94a885": {
          "model_module": "@jupyter-widgets/base",
          "model_name": "LayoutModel",
          "model_module_version": "1.2.0",
          "state": {
            "_model_module": "@jupyter-widgets/base",
            "_model_module_version": "1.2.0",
            "_model_name": "LayoutModel",
            "_view_count": null,
            "_view_module": "@jupyter-widgets/base",
            "_view_module_version": "1.2.0",
            "_view_name": "LayoutView",
            "align_content": null,
            "align_items": null,
            "align_self": null,
            "border": null,
            "bottom": null,
            "display": null,
            "flex": null,
            "flex_flow": null,
            "grid_area": null,
            "grid_auto_columns": null,
            "grid_auto_flow": null,
            "grid_auto_rows": null,
            "grid_column": null,
            "grid_gap": null,
            "grid_row": null,
            "grid_template_areas": null,
            "grid_template_columns": null,
            "grid_template_rows": null,
            "height": null,
            "justify_content": null,
            "justify_items": null,
            "left": null,
            "margin": null,
            "max_height": null,
            "max_width": null,
            "min_height": null,
            "min_width": null,
            "object_fit": null,
            "object_position": null,
            "order": null,
            "overflow": null,
            "overflow_x": null,
            "overflow_y": null,
            "padding": null,
            "right": null,
            "top": null,
            "visibility": null,
            "width": null
          }
        },
        "82a11cd3a5314347abca3cf06a7eb03f": {
          "model_module": "@jupyter-widgets/controls",
          "model_name": "DescriptionStyleModel",
          "model_module_version": "1.5.0",
          "state": {
            "_model_module": "@jupyter-widgets/controls",
            "_model_module_version": "1.5.0",
            "_model_name": "DescriptionStyleModel",
            "_view_count": null,
            "_view_module": "@jupyter-widgets/base",
            "_view_module_version": "1.2.0",
            "_view_name": "StyleView",
            "description_width": ""
          }
        },
        "111ed993e1164f42b89c355fe27403e6": {
          "model_module": "@jupyter-widgets/base",
          "model_name": "LayoutModel",
          "model_module_version": "1.2.0",
          "state": {
            "_model_module": "@jupyter-widgets/base",
            "_model_module_version": "1.2.0",
            "_model_name": "LayoutModel",
            "_view_count": null,
            "_view_module": "@jupyter-widgets/base",
            "_view_module_version": "1.2.0",
            "_view_name": "LayoutView",
            "align_content": null,
            "align_items": null,
            "align_self": null,
            "border": null,
            "bottom": null,
            "display": null,
            "flex": null,
            "flex_flow": null,
            "grid_area": null,
            "grid_auto_columns": null,
            "grid_auto_flow": null,
            "grid_auto_rows": null,
            "grid_column": null,
            "grid_gap": null,
            "grid_row": null,
            "grid_template_areas": null,
            "grid_template_columns": null,
            "grid_template_rows": null,
            "height": null,
            "justify_content": null,
            "justify_items": null,
            "left": null,
            "margin": null,
            "max_height": null,
            "max_width": null,
            "min_height": null,
            "min_width": null,
            "object_fit": null,
            "object_position": null,
            "order": null,
            "overflow": null,
            "overflow_x": null,
            "overflow_y": null,
            "padding": null,
            "right": null,
            "top": null,
            "visibility": null,
            "width": null
          }
        },
        "bb4b5a379ab24d35ba6477edd8109d91": {
          "model_module": "@jupyter-widgets/controls",
          "model_name": "ProgressStyleModel",
          "model_module_version": "1.5.0",
          "state": {
            "_model_module": "@jupyter-widgets/controls",
            "_model_module_version": "1.5.0",
            "_model_name": "ProgressStyleModel",
            "_view_count": null,
            "_view_module": "@jupyter-widgets/base",
            "_view_module_version": "1.2.0",
            "_view_name": "StyleView",
            "bar_color": null,
            "description_width": ""
          }
        }
      }
    }
  },
  "cells": [
    {
      "cell_type": "markdown",
      "metadata": {
        "id": "view-in-github",
        "colab_type": "text"
      },
      "source": [
        "<a href=\"https://colab.research.google.com/github/Krankile/npmf/blob/main/notebooks/training_loop.ipynb\" target=\"_parent\"><img src=\"https://colab.research.google.com/assets/colab-badge.svg\" alt=\"Open In Colab\"/></a>"
      ]
    },
    {
      "cell_type": "markdown",
      "source": [
        "#Setup"
      ],
      "metadata": {
        "id": "d8F5tl4NL7FZ"
      }
    },
    {
      "cell_type": "markdown",
      "source": [
        "##Kernel setup"
      ],
      "metadata": {
        "id": "Rwo44VGZLhAo"
      }
    },
    {
      "cell_type": "code",
      "source": [
        "%load_ext autoreload\n",
        "%autoreload 2"
      ],
      "metadata": {
        "id": "hKuFzk7aEmB9"
      },
      "execution_count": 1,
      "outputs": []
    },
    {
      "cell_type": "code",
      "source": [
        "%%capture\n",
        "!pip install wandb\n",
        "!git clone https://github.com/Krankile/npmf.git"
      ],
      "metadata": {
        "id": "91KPY7q0LUOw"
      },
      "execution_count": 2,
      "outputs": []
    },
    {
      "cell_type": "code",
      "source": [
        "!wandb login"
      ],
      "metadata": {
        "id": "gUXnibj8YEi1",
        "colab": {
          "base_uri": "https://localhost:8080/"
        },
        "outputId": "51a6ca9e-2625-4710-dac2-658e13e6b88b"
      },
      "execution_count": 3,
      "outputs": [
        {
          "output_type": "stream",
          "name": "stdout",
          "text": [
            "\u001b[34m\u001b[1mwandb\u001b[0m: You can find your API key in your browser here: https://wandb.ai/authorize\n",
            "\u001b[34m\u001b[1mwandb\u001b[0m: Paste an API key from your profile and hit enter, or press ctrl+c to quit: \n",
            "\u001b[34m\u001b[1mwandb\u001b[0m: Appending key for api.wandb.ai to your netrc file: /root/.netrc\n"
          ]
        }
      ]
    },
    {
      "cell_type": "markdown",
      "source": [
        "##General setup"
      ],
      "metadata": {
        "id": "CLAlA0htLgMY"
      }
    },
    {
      "cell_type": "code",
      "source": [
        "%%capture\n",
        "!cd npmf && git pull\n",
        "\n",
        "import os\n",
        "from collections import defaultdict\n",
        "from collections import Counter\n",
        "from datetime import datetime\n",
        "from datetime import timedelta\n",
        "from operator import itemgetter\n",
        "\n",
        "import numpy as np\n",
        "import math\n",
        "from numpy.ma.core import outerproduct\n",
        "import pandas as pd\n",
        "from pandas.tseries.offsets import Day, BDay\n",
        "import matplotlib as mpl\n",
        "import matplotlib.pyplot as plt\n",
        "from tqdm import tqdm\n",
        "\n",
        "\n",
        "import wandb as wb\n",
        "\n",
        "import torch\n",
        "from torch import nn\n",
        "from torch.utils.data import DataLoader\n",
        "from torch.utils.data import Dataset\n",
        "from torchvision import datasets, transforms\n",
        "from sklearn.preprocessing import MinMaxScaler, minmax_scale\n",
        "\n",
        "from npmf.utils.colors import main, main2, main3\n",
        "from npmf.utils.wandb import get_dataset, put_dataset\n",
        "from npmf.utils.eikon import column_mapping"
      ],
      "metadata": {
        "id": "1QSlgObXLq1p"
      },
      "execution_count": 24,
      "outputs": []
    },
    {
      "cell_type": "code",
      "source": [
        "mpl.rcParams['axes.prop_cycle'] = mpl.cycler(color=[main, main2, main3, \"black\"])\n",
        "mpl.rcParams['figure.figsize'] = (6, 4)  # (6, 4) is default and used in the paper"
      ],
      "metadata": {
        "id": "hkTjKKLmLvpl"
      },
      "execution_count": 5,
      "outputs": []
    },
    {
      "cell_type": "code",
      "source": [
        "device = \"cuda\" if torch.cuda.is_available() else \"cpu\"\n",
        "print(f\"Using {device} device\")"
      ],
      "metadata": {
        "colab": {
          "base_uri": "https://localhost:8080/"
        },
        "id": "Dqy02oAvY7GM",
        "outputId": "2f6f6c47-987a-416b-bb2f-e37a9bd4778b"
      },
      "execution_count": 6,
      "outputs": [
        {
          "output_type": "stream",
          "name": "stdout",
          "text": [
            "Using cpu device\n"
          ]
        }
      ]
    },
    {
      "cell_type": "code",
      "source": [
        "np.random.seed(69)"
      ],
      "metadata": {
        "id": "YVFtfDk0pYtd"
      },
      "execution_count": 7,
      "outputs": []
    },
    {
      "cell_type": "markdown",
      "source": [
        "# Create a Neural network class"
      ],
      "metadata": {
        "id": "qM4PhINrGVa2"
      }
    },
    {
      "cell_type": "code",
      "source": [
        "class MultivariateNetwork(nn.Module):\n",
        "    def __init__(self, lag_len, cat_len, out_len, hidden_dim):\n",
        "        super().__init__()\n",
        "\n",
        "        self.pre = nn.Sequential(\n",
        "            nn.Linear(lag_len, hidden_dim),\n",
        "            nn.ReLU(),\n",
        "        )\n",
        "\n",
        "        self.predict = nn.Sequential(\n",
        "            nn.Linear(hidden_dim + cat_len, 128),\n",
        "            nn.ReLU(),\n",
        "            nn.Linear(128, 64),\n",
        "            nn.ReLU(),\n",
        "            nn.Linear(64, out_len),\n",
        "        )\n",
        "\n",
        "\n",
        "    def forward(self, lags, cats):\n",
        "\n",
        "        x = self.pre(lags)\n",
        "        x = torch.cat((x, cats), dim=1)\n",
        "        x = self.predict(x)\n",
        "\n",
        "        return x"
      ],
      "metadata": {
        "id": "jKqMY62PGZzj"
      },
      "execution_count": 8,
      "outputs": []
    },
    {
      "cell_type": "markdown",
      "source": [
        "# Get some data"
      ],
      "metadata": {
        "id": "PGuFgO6jHPWX"
      }
    },
    {
      "cell_type": "code",
      "source": [
        "stock_df = get_dataset(\"stock-oil-final:latest\", project=\"master-test\")\n",
        "meta_df = get_dataset(\"meta-oil-final:latest\", project=\"master-test\")\n",
        "fundamentals_df = get_dataset(\"fundamentals-oil-final:latest\", project=\"master-test\")\n",
        "macro_df = get_dataset(\"macro-oil-final:latest\", project=\"master-test\")\n",
        "\n",
        "stock_df = stock_df.drop_duplicates(subset=[\"ticker\", \"date\"])"
      ],
      "metadata": {
        "colab": {
          "base_uri": "https://localhost:8080/",
          "referenced_widgets": [
            "73e1768c0001460daf522ce6eaa77df0",
            "64266afa6a82478bae5fd13ece458040",
            "9187319e8ab14d4ea63171ade7227e0a",
            "8bc4c03f18304bb8ab749e8940a57018",
            "6605a96a9b8a4065aaaa0dfab66e1dbb",
            "e799da6d11db497c9e3622ff9de16abd",
            "1cfd30019c7f4d18b85c3caf42f45b43",
            "e695a9899ce84a139eae274aee3b8192",
            "8446724d6b9245b19fd245233d78c17f",
            "3b5bf3e3e89645d6b5d3d8e40cb39dbf",
            "d47670bbdc39455c9bfb60fb66cb7d86",
            "76ae132615c34e5eb91bd42911ea5a21",
            "dce68f31ebbd48ebb33c80d30c18213a",
            "334359ee8aba431190a7c3373fd13d96",
            "e84c02981d654463817bbcf8588cb968",
            "a7a0aafc3524422fafa0858c5b485d89",
            "4ecc677afa974b41a43866b88e1834d6",
            "a6bd004329104d45a94640970d9510da",
            "7588c735d4114020a02d8a35a661bdcd",
            "a4dcf69d15364c528411c1a62c8118c8",
            "47a7d1f68d5d4448a0c5f25d5e6f6285",
            "9fba65cab67d47a8bc13adc475efa456",
            "794d8afc9b384d1a8e326783b7eab268",
            "aea6e3fbc4fd42c986dbad9764c951aa",
            "3bfe4327013b419e8e5c451988a97d04",
            "dc37d5ce25ae4cb78f2d23a41010eb74",
            "8a7aba3e7b5544118547e1c7eab773fe",
            "029e22cfcef94243a6f41ac0978f3e5f",
            "d9024d8e75484eebbf1b1c068c94a885",
            "82a11cd3a5314347abca3cf06a7eb03f",
            "111ed993e1164f42b89c355fe27403e6",
            "bb4b5a379ab24d35ba6477edd8109d91"
          ],
          "height": 548
        },
        "id": "GHmOVxnnHYU_",
        "outputId": "0d251e24-7d81-410a-b4e5-10bc2a23fe96"
      },
      "execution_count": 9,
      "outputs": [
        {
          "output_type": "stream",
          "name": "stderr",
          "text": [
            "\u001b[34m\u001b[1mwandb\u001b[0m: Currently logged in as: \u001b[33mankile\u001b[0m (\u001b[33mkrankile\u001b[0m). Use \u001b[1m`wandb login --relogin`\u001b[0m to force relogin\n"
          ]
        },
        {
          "output_type": "display_data",
          "data": {
            "text/plain": [
              "<IPython.core.display.HTML object>"
            ],
            "text/html": [
              "Tracking run with wandb version 0.12.16"
            ]
          },
          "metadata": {}
        },
        {
          "output_type": "display_data",
          "data": {
            "text/plain": [
              "<IPython.core.display.HTML object>"
            ],
            "text/html": [
              "Run data is saved locally in <code>/content/wandb/run-20220520_075327-s1c9l66e</code>"
            ]
          },
          "metadata": {}
        },
        {
          "output_type": "display_data",
          "data": {
            "text/plain": [
              "<IPython.core.display.HTML object>"
            ],
            "text/html": [
              "Syncing run <strong><a href=\"https://wandb.ai/krankile/master-test/runs/s1c9l66e\" target=\"_blank\">colorful-thunder-309</a></strong> to <a href=\"https://wandb.ai/krankile/master-test\" target=\"_blank\">Weights & Biases</a> (<a href=\"https://wandb.me/run\" target=\"_blank\">docs</a>)<br/>"
            ]
          },
          "metadata": {}
        },
        {
          "output_type": "stream",
          "name": "stderr",
          "text": [
            "\u001b[34m\u001b[1mwandb\u001b[0m: Downloading large artifact stock-oil-final:latest, 77.63MB. 1 files... Done. 0:0:0\n"
          ]
        },
        {
          "output_type": "display_data",
          "data": {
            "text/plain": [
              "<IPython.core.display.HTML object>"
            ],
            "text/html": [
              "Waiting for W&B process to finish... <strong style=\"color:green\">(success).</strong>"
            ]
          },
          "metadata": {}
        },
        {
          "output_type": "display_data",
          "data": {
            "text/plain": [
              "VBox(children=(Label(value='0.000 MB of 0.000 MB uploaded (0.000 MB deduped)\\r'), FloatProgress(value=1.0, max…"
            ],
            "application/vnd.jupyter.widget-view+json": {
              "version_major": 2,
              "version_minor": 0,
              "model_id": "73e1768c0001460daf522ce6eaa77df0"
            }
          },
          "metadata": {}
        },
        {
          "output_type": "display_data",
          "data": {
            "text/plain": [
              "<IPython.core.display.HTML object>"
            ],
            "text/html": [
              "Synced <strong style=\"color:#cdcd00\">colorful-thunder-309</strong>: <a href=\"https://wandb.ai/krankile/master-test/runs/s1c9l66e\" target=\"_blank\">https://wandb.ai/krankile/master-test/runs/s1c9l66e</a><br/>Synced 5 W&B file(s), 0 media file(s), 0 artifact file(s) and 0 other file(s)"
            ]
          },
          "metadata": {}
        },
        {
          "output_type": "display_data",
          "data": {
            "text/plain": [
              "<IPython.core.display.HTML object>"
            ],
            "text/html": [
              "Find logs at: <code>./wandb/run-20220520_075327-s1c9l66e/logs</code>"
            ]
          },
          "metadata": {}
        },
        {
          "output_type": "display_data",
          "data": {
            "text/plain": [
              "<IPython.core.display.HTML object>"
            ],
            "text/html": [
              "Tracking run with wandb version 0.12.16"
            ]
          },
          "metadata": {}
        },
        {
          "output_type": "display_data",
          "data": {
            "text/plain": [
              "<IPython.core.display.HTML object>"
            ],
            "text/html": [
              "Run data is saved locally in <code>/content/wandb/run-20220520_075340-15p3cxn9</code>"
            ]
          },
          "metadata": {}
        },
        {
          "output_type": "display_data",
          "data": {
            "text/plain": [
              "<IPython.core.display.HTML object>"
            ],
            "text/html": [
              "Syncing run <strong><a href=\"https://wandb.ai/krankile/master-test/runs/15p3cxn9\" target=\"_blank\">snowy-sunset-310</a></strong> to <a href=\"https://wandb.ai/krankile/master-test\" target=\"_blank\">Weights & Biases</a> (<a href=\"https://wandb.me/run\" target=\"_blank\">docs</a>)<br/>"
            ]
          },
          "metadata": {}
        },
        {
          "output_type": "display_data",
          "data": {
            "text/plain": [
              "<IPython.core.display.HTML object>"
            ],
            "text/html": [
              "Waiting for W&B process to finish... <strong style=\"color:green\">(success).</strong>"
            ]
          },
          "metadata": {}
        },
        {
          "output_type": "display_data",
          "data": {
            "text/plain": [
              "VBox(children=(Label(value='0.000 MB of 0.000 MB uploaded (0.000 MB deduped)\\r'), FloatProgress(value=1.0, max…"
            ],
            "application/vnd.jupyter.widget-view+json": {
              "version_major": 2,
              "version_minor": 0,
              "model_id": "8446724d6b9245b19fd245233d78c17f"
            }
          },
          "metadata": {}
        },
        {
          "output_type": "display_data",
          "data": {
            "text/plain": [
              "<IPython.core.display.HTML object>"
            ],
            "text/html": [
              "Synced <strong style=\"color:#cdcd00\">snowy-sunset-310</strong>: <a href=\"https://wandb.ai/krankile/master-test/runs/15p3cxn9\" target=\"_blank\">https://wandb.ai/krankile/master-test/runs/15p3cxn9</a><br/>Synced 4 W&B file(s), 0 media file(s), 0 artifact file(s) and 0 other file(s)"
            ]
          },
          "metadata": {}
        },
        {
          "output_type": "display_data",
          "data": {
            "text/plain": [
              "<IPython.core.display.HTML object>"
            ],
            "text/html": [
              "Find logs at: <code>./wandb/run-20220520_075340-15p3cxn9/logs</code>"
            ]
          },
          "metadata": {}
        },
        {
          "output_type": "display_data",
          "data": {
            "text/plain": [
              "<IPython.core.display.HTML object>"
            ],
            "text/html": [
              "Tracking run with wandb version 0.12.16"
            ]
          },
          "metadata": {}
        },
        {
          "output_type": "display_data",
          "data": {
            "text/plain": [
              "<IPython.core.display.HTML object>"
            ],
            "text/html": [
              "Run data is saved locally in <code>/content/wandb/run-20220520_075354-n6i8fpnv</code>"
            ]
          },
          "metadata": {}
        },
        {
          "output_type": "display_data",
          "data": {
            "text/plain": [
              "<IPython.core.display.HTML object>"
            ],
            "text/html": [
              "Syncing run <strong><a href=\"https://wandb.ai/krankile/master-test/runs/n6i8fpnv\" target=\"_blank\">solar-gorge-311</a></strong> to <a href=\"https://wandb.ai/krankile/master-test\" target=\"_blank\">Weights & Biases</a> (<a href=\"https://wandb.me/run\" target=\"_blank\">docs</a>)<br/>"
            ]
          },
          "metadata": {}
        },
        {
          "output_type": "display_data",
          "data": {
            "text/plain": [
              "<IPython.core.display.HTML object>"
            ],
            "text/html": [
              "Waiting for W&B process to finish... <strong style=\"color:green\">(success).</strong>"
            ]
          },
          "metadata": {}
        },
        {
          "output_type": "display_data",
          "data": {
            "text/plain": [
              "VBox(children=(Label(value='0.000 MB of 0.000 MB uploaded (0.000 MB deduped)\\r'), FloatProgress(value=1.0, max…"
            ],
            "application/vnd.jupyter.widget-view+json": {
              "version_major": 2,
              "version_minor": 0,
              "model_id": "4ecc677afa974b41a43866b88e1834d6"
            }
          },
          "metadata": {}
        },
        {
          "output_type": "display_data",
          "data": {
            "text/plain": [
              "<IPython.core.display.HTML object>"
            ],
            "text/html": [
              "Synced <strong style=\"color:#cdcd00\">solar-gorge-311</strong>: <a href=\"https://wandb.ai/krankile/master-test/runs/n6i8fpnv\" target=\"_blank\">https://wandb.ai/krankile/master-test/runs/n6i8fpnv</a><br/>Synced 4 W&B file(s), 0 media file(s), 0 artifact file(s) and 0 other file(s)"
            ]
          },
          "metadata": {}
        },
        {
          "output_type": "display_data",
          "data": {
            "text/plain": [
              "<IPython.core.display.HTML object>"
            ],
            "text/html": [
              "Find logs at: <code>./wandb/run-20220520_075354-n6i8fpnv/logs</code>"
            ]
          },
          "metadata": {}
        },
        {
          "output_type": "display_data",
          "data": {
            "text/plain": [
              "<IPython.core.display.HTML object>"
            ],
            "text/html": [
              "Tracking run with wandb version 0.12.16"
            ]
          },
          "metadata": {}
        },
        {
          "output_type": "display_data",
          "data": {
            "text/plain": [
              "<IPython.core.display.HTML object>"
            ],
            "text/html": [
              "Run data is saved locally in <code>/content/wandb/run-20220520_075404-129y5ic7</code>"
            ]
          },
          "metadata": {}
        },
        {
          "output_type": "display_data",
          "data": {
            "text/plain": [
              "<IPython.core.display.HTML object>"
            ],
            "text/html": [
              "Syncing run <strong><a href=\"https://wandb.ai/krankile/master-test/runs/129y5ic7\" target=\"_blank\">northern-wind-312</a></strong> to <a href=\"https://wandb.ai/krankile/master-test\" target=\"_blank\">Weights & Biases</a> (<a href=\"https://wandb.me/run\" target=\"_blank\">docs</a>)<br/>"
            ]
          },
          "metadata": {}
        },
        {
          "output_type": "display_data",
          "data": {
            "text/plain": [
              "<IPython.core.display.HTML object>"
            ],
            "text/html": [
              "Waiting for W&B process to finish... <strong style=\"color:green\">(success).</strong>"
            ]
          },
          "metadata": {}
        },
        {
          "output_type": "display_data",
          "data": {
            "text/plain": [
              "VBox(children=(Label(value='0.000 MB of 0.000 MB uploaded (0.000 MB deduped)\\r'), FloatProgress(value=1.0, max…"
            ],
            "application/vnd.jupyter.widget-view+json": {
              "version_major": 2,
              "version_minor": 0,
              "model_id": "3bfe4327013b419e8e5c451988a97d04"
            }
          },
          "metadata": {}
        },
        {
          "output_type": "display_data",
          "data": {
            "text/plain": [
              "<IPython.core.display.HTML object>"
            ],
            "text/html": [
              "Synced <strong style=\"color:#cdcd00\">northern-wind-312</strong>: <a href=\"https://wandb.ai/krankile/master-test/runs/129y5ic7\" target=\"_blank\">https://wandb.ai/krankile/master-test/runs/129y5ic7</a><br/>Synced 4 W&B file(s), 0 media file(s), 0 artifact file(s) and 0 other file(s)"
            ]
          },
          "metadata": {}
        },
        {
          "output_type": "display_data",
          "data": {
            "text/plain": [
              "<IPython.core.display.HTML object>"
            ],
            "text/html": [
              "Find logs at: <code>./wandb/run-20220520_075404-129y5ic7/logs</code>"
            ]
          },
          "metadata": {}
        }
      ]
    },
    {
      "cell_type": "markdown",
      "source": [
        "# Define a dataset which can iterate through time "
      ],
      "metadata": {
        "id": "CV5EqsYaPA0p"
      }
    },
    {
      "cell_type": "markdown",
      "source": [
        "We want to train our neural network like the person experiences the world. I.e. we have a window of time and look at recent financial reports and macro variables to predict future market capitalization. We want to train multiple epochs over one time window and validation period, in this manner we will not have any \"learned future\" effect which could occur if one were to have epochs run over the all time windows. "
      ],
      "metadata": {
        "id": "QCwNqchQPIH5"
      }
    },
    {
      "cell_type": "code",
      "source": [
        "d = pd.DataFrame([[1, np.nan, np.nan], [np.nan, np.nan, np.nan]], index=[\"a\", \"b\"], columns=[7, 8, 9])\n",
        "d.ffill(axis=1)"
      ],
      "metadata": {
        "colab": {
          "base_uri": "https://localhost:8080/",
          "height": 112
        },
        "id": "4VrQtaEihxhD",
        "outputId": "6d839fb0-9790-47ea-f8fc-2b9d99346642"
      },
      "execution_count": 41,
      "outputs": [
        {
          "output_type": "execute_result",
          "data": {
            "text/plain": [
              "     7    8    9\n",
              "a  1.0  1.0  1.0\n",
              "b  NaN  NaN  NaN"
            ],
            "text/html": [
              "\n",
              "  <div id=\"df-7f013c72-8e40-42f0-859a-ae54235be032\">\n",
              "    <div class=\"colab-df-container\">\n",
              "      <div>\n",
              "<style scoped>\n",
              "    .dataframe tbody tr th:only-of-type {\n",
              "        vertical-align: middle;\n",
              "    }\n",
              "\n",
              "    .dataframe tbody tr th {\n",
              "        vertical-align: top;\n",
              "    }\n",
              "\n",
              "    .dataframe thead th {\n",
              "        text-align: right;\n",
              "    }\n",
              "</style>\n",
              "<table border=\"1\" class=\"dataframe\">\n",
              "  <thead>\n",
              "    <tr style=\"text-align: right;\">\n",
              "      <th></th>\n",
              "      <th>7</th>\n",
              "      <th>8</th>\n",
              "      <th>9</th>\n",
              "    </tr>\n",
              "  </thead>\n",
              "  <tbody>\n",
              "    <tr>\n",
              "      <th>a</th>\n",
              "      <td>1.0</td>\n",
              "      <td>1.0</td>\n",
              "      <td>1.0</td>\n",
              "    </tr>\n",
              "    <tr>\n",
              "      <th>b</th>\n",
              "      <td>NaN</td>\n",
              "      <td>NaN</td>\n",
              "      <td>NaN</td>\n",
              "    </tr>\n",
              "  </tbody>\n",
              "</table>\n",
              "</div>\n",
              "      <button class=\"colab-df-convert\" onclick=\"convertToInteractive('df-7f013c72-8e40-42f0-859a-ae54235be032')\"\n",
              "              title=\"Convert this dataframe to an interactive table.\"\n",
              "              style=\"display:none;\">\n",
              "        \n",
              "  <svg xmlns=\"http://www.w3.org/2000/svg\" height=\"24px\"viewBox=\"0 0 24 24\"\n",
              "       width=\"24px\">\n",
              "    <path d=\"M0 0h24v24H0V0z\" fill=\"none\"/>\n",
              "    <path d=\"M18.56 5.44l.94 2.06.94-2.06 2.06-.94-2.06-.94-.94-2.06-.94 2.06-2.06.94zm-11 1L8.5 8.5l.94-2.06 2.06-.94-2.06-.94L8.5 2.5l-.94 2.06-2.06.94zm10 10l.94 2.06.94-2.06 2.06-.94-2.06-.94-.94-2.06-.94 2.06-2.06.94z\"/><path d=\"M17.41 7.96l-1.37-1.37c-.4-.4-.92-.59-1.43-.59-.52 0-1.04.2-1.43.59L10.3 9.45l-7.72 7.72c-.78.78-.78 2.05 0 2.83L4 21.41c.39.39.9.59 1.41.59.51 0 1.02-.2 1.41-.59l7.78-7.78 2.81-2.81c.8-.78.8-2.07 0-2.86zM5.41 20L4 18.59l7.72-7.72 1.47 1.35L5.41 20z\"/>\n",
              "  </svg>\n",
              "      </button>\n",
              "      \n",
              "  <style>\n",
              "    .colab-df-container {\n",
              "      display:flex;\n",
              "      flex-wrap:wrap;\n",
              "      gap: 12px;\n",
              "    }\n",
              "\n",
              "    .colab-df-convert {\n",
              "      background-color: #E8F0FE;\n",
              "      border: none;\n",
              "      border-radius: 50%;\n",
              "      cursor: pointer;\n",
              "      display: none;\n",
              "      fill: #1967D2;\n",
              "      height: 32px;\n",
              "      padding: 0 0 0 0;\n",
              "      width: 32px;\n",
              "    }\n",
              "\n",
              "    .colab-df-convert:hover {\n",
              "      background-color: #E2EBFA;\n",
              "      box-shadow: 0px 1px 2px rgba(60, 64, 67, 0.3), 0px 1px 3px 1px rgba(60, 64, 67, 0.15);\n",
              "      fill: #174EA6;\n",
              "    }\n",
              "\n",
              "    [theme=dark] .colab-df-convert {\n",
              "      background-color: #3B4455;\n",
              "      fill: #D2E3FC;\n",
              "    }\n",
              "\n",
              "    [theme=dark] .colab-df-convert:hover {\n",
              "      background-color: #434B5C;\n",
              "      box-shadow: 0px 1px 3px 1px rgba(0, 0, 0, 0.15);\n",
              "      filter: drop-shadow(0px 1px 2px rgba(0, 0, 0, 0.3));\n",
              "      fill: #FFFFFF;\n",
              "    }\n",
              "  </style>\n",
              "\n",
              "      <script>\n",
              "        const buttonEl =\n",
              "          document.querySelector('#df-7f013c72-8e40-42f0-859a-ae54235be032 button.colab-df-convert');\n",
              "        buttonEl.style.display =\n",
              "          google.colab.kernel.accessAllowed ? 'block' : 'none';\n",
              "\n",
              "        async function convertToInteractive(key) {\n",
              "          const element = document.querySelector('#df-7f013c72-8e40-42f0-859a-ae54235be032');\n",
              "          const dataTable =\n",
              "            await google.colab.kernel.invokeFunction('convertToInteractive',\n",
              "                                                     [key], {});\n",
              "          if (!dataTable) return;\n",
              "\n",
              "          const docLinkHtml = 'Like what you see? Visit the ' +\n",
              "            '<a target=\"_blank\" href=https://colab.research.google.com/notebooks/data_table.ipynb>data table notebook</a>'\n",
              "            + ' to learn more about interactive tables.';\n",
              "          element.innerHTML = '';\n",
              "          dataTable['output_type'] = 'display_data';\n",
              "          await google.colab.output.renderOutput(dataTable, element);\n",
              "          const docLink = document.createElement('div');\n",
              "          docLink.innerHTML = docLinkHtml;\n",
              "          element.appendChild(docLink);\n",
              "        }\n",
              "      </script>\n",
              "    </div>\n",
              "  </div>\n",
              "  "
            ]
          },
          "metadata": {},
          "execution_count": 41
        }
      ]
    },
    {
      "cell_type": "code",
      "source": [
        "class TimeDeltaDataset(Dataset):\n",
        "    def _get_last_q_fundamentals(self, target, fundamental_df, q):\n",
        "        for key, df in tqdm(fundamental_df.groupby(by=\"ticker\"), desc=\"1/3 Get fundamentals\"):\n",
        "\n",
        "            padding = pd.DataFrame(\n",
        "                np.empty((q, fundamental_df.loc[:, \"revenue\":].shape[1])),\n",
        "                columns=df.loc[:, \"revenue\":].columns,\n",
        "            )\n",
        "            padding[:] = np.nan\n",
        "            padded_df = pd.concat([padding, df.loc[:, \"revenue\":]], axis=0)\n",
        "\n",
        "            target = pd.concat([target, padded_df.iloc[-q:, :]], axis=0)\n",
        "        return target\n",
        "\n",
        "    def _get_global_local_column(self, stock_df):\n",
        "        \n",
        "        last_market_cap_col = stock_df[[\"ticker\", \"market_cap\"]].dropna(subset=[\"market_cap\"]).drop_duplicates(subset=[\"ticker\"], keep=\"last\").set_index(\"ticker\")\n",
        "        \n",
        "        min_max_scaler = MinMaxScaler()\n",
        "\n",
        "        # Add column to learn relative values\n",
        "        apple_market_cap = 2.687 * (10**12)  # ish as of may 2022 (USD)\n",
        "\n",
        "        relative_to_global_market_column = last_market_cap_col / apple_market_cap\n",
        "\n",
        "        relative_to_current_market_column = min_max_scaler.fit_transform(\n",
        "            last_market_cap_col.to_numpy().reshape((-1, 1))\n",
        "        )\n",
        "        relative_to_current_market_column = pd.Series(\n",
        "            relative_to_current_market_column[:, 0], index=last_market_cap_col.index\n",
        "        )\n",
        "\n",
        "        return (\n",
        "            relative_to_global_market_column,\n",
        "            relative_to_current_market_column,\n",
        "            last_market_cap_col,\n",
        "        )\n",
        "\n",
        "    def OLD_get_stocks_in_timeframe(self, stock_df, stock_dates, min_max_scaler=True, desc=\"\"):\n",
        "        # TODO this needs a speedup when getting forecasts\n",
        "\n",
        "        to_be_transposed = pd.DataFrame(index=stock_dates)\n",
        "\n",
        "        for i, (ticker, df) in enumerate(tqdm(stock_df.groupby(by=\"ticker\"), desc=desc)):\n",
        "\n",
        "            if min_max_scaler:\n",
        "                min_max_scaler = MinMaxScaler()\n",
        "\n",
        "                df.market_cap = min_max_scaler.fit_transform(\n",
        "                    df.market_cap.to_numpy().reshape((-1, 1))\n",
        "                )\n",
        "\n",
        "            ticker_df = (\n",
        "                pd.DataFrame(df[[\"date\", \"market_cap\"]])\n",
        "                .set_index(\"date\", drop=True)\n",
        "                .rename(columns={\"market_cap\": ticker})\n",
        "            )\n",
        "\n",
        "            to_be_transposed = to_be_transposed.join(ticker_df)\n",
        "            print(to_be_transposed)\n",
        "            if i % 50 and i != 0:\n",
        "                to_be_transposed = to_be_transposed.loc[\n",
        "                    ~to_be_transposed.index.duplicated(), :\n",
        "                ]\n",
        "\n",
        "        return to_be_transposed.T.loc[:, ~to_be_transposed.T.columns.duplicated()]\n",
        "\n",
        "\n",
        "    def _get_stocks_in_timeframe(self, stock_df, stock_dates, scale=True, desc=\"\"):\n",
        "\n",
        "        out = pd.DataFrame(data=0, columns=stock_dates, index=stock_df.ticker.unique(), dtype=np.float64)\n",
        "        stock_df = stock_df.pivot(index=\"ticker\", columns=\"date\", values=\"market_cap\")\n",
        "        out = out.add(stock_df).ffill()\n",
        "\n",
        "        # out.loc[out.isna()] = 0\n",
        "\n",
        "        print(out)\n",
        "        print(out.isna().sum().sum(), out.count().sum())\n",
        "    \n",
        "        # Perform MinMaxScaling on the full dataset\n",
        "        if scale:\n",
        "            out = pd.DataFrame(\n",
        "                data=minmax_scale(out.values),\n",
        "                index=out.index,\n",
        "                columns=out.columns,\n",
        "            )\n",
        "        return out\n",
        "\n",
        "    def _get_macro_normalized(self, legal_macro_df, macro_df):\n",
        "        df = legal_macro_df.copy()\n",
        "        for column in [\n",
        "            c for c in legal_macro_df.columns if (c != \"date\") and (\"_fx\" not in c)\n",
        "        ]:\n",
        "            df[column] = legal_macro_df[column] / (\n",
        "                int(math.ceil(macro_df[column].max() / 100.0)) * 100\n",
        "            )\n",
        "        return df\n",
        "\n",
        "    def __init__(\n",
        "        self,\n",
        "        current_time,\n",
        "        forecast_window,\n",
        "        number_of_trading_days,\n",
        "        n_quarterly_reports,\n",
        "        stock_df,\n",
        "        fundamental_df,\n",
        "        meta_df,\n",
        "        macro_df,\n",
        "    ):\n",
        "        back_in_time_buffer = timedelta(\n",
        "            number_of_trading_days + number_of_trading_days * 5\n",
        "        )\n",
        "        forward_in_time_buffer = timedelta(forecast_window + forecast_window * 5)\n",
        "\n",
        "        # Define relevant dates\n",
        "        historic_dates = pd.date_range(\n",
        "            start=current_time - back_in_time_buffer, end=current_time, freq=\"B\"\n",
        "        )[-number_of_trading_days:]\n",
        "        forecast_dates = pd.date_range(\n",
        "            start=current_time + timedelta(1),\n",
        "            end=current_time + forward_in_time_buffer,\n",
        "            freq=\"B\",\n",
        "        )[:forecast_window]\n",
        "\n",
        "        legal_stock_df = stock_df.copy().loc[stock_df.date.isin(historic_dates), :]\n",
        "        legal_fundamental_df = fundamental_df[\n",
        "            fundamental_df.announce_date < current_time\n",
        "        ]\n",
        "        legal_meta_df = meta_df.set_index(\"ticker\")\n",
        "        legal_macro_df = macro_df.loc[\n",
        "            macro_df.date.isin(historic_dates), :\n",
        "        ]  # TODO change to current_time - stock__macro_days_lookback_days\n",
        "\n",
        "        # Important dimensions\n",
        "        n_companies_with_fundamentals = len(legal_fundamental_df.ticker.unique())\n",
        "        m_fundamentals = legal_fundamental_df.loc[:, \"revenue\":].shape[1]\n",
        "\n",
        "        # Get last q fundamentals and return NA rows if they are still missing\n",
        "        fundamental_df_all_quarters = pd.DataFrame(\n",
        "            data=np.empty((0, m_fundamentals)),\n",
        "            columns=fundamental_df.loc[:, \"revenue\":].columns,\n",
        "        )\n",
        "        fundamental_df_all_quarters = self._get_last_q_fundamentals(\n",
        "            fundamental_df_all_quarters, legal_fundamental_df, n_quarterly_reports\n",
        "        )\n",
        "        fundamentals = fundamental_df_all_quarters.to_numpy().reshape(\n",
        "            (n_companies_with_fundamentals, n_quarterly_reports * m_fundamentals)\n",
        "        )\n",
        "\n",
        "        # Construct columns for relative information\n",
        "        (\n",
        "            relative_to_global_market_column,\n",
        "            relative_to_current_market_column,\n",
        "            last_market_cap_col,\n",
        "        ) = self._get_global_local_column(stock_df)\n",
        "\n",
        "        # Create dataframe\n",
        "        fund_columns = []\n",
        "        for i in range(n_quarterly_reports):\n",
        "            fund_columns.extend(\n",
        "                fundamental_df.loc[0, \"revenue\":]\n",
        "                .index.to_series()\n",
        "                .map(lambda title: f\"{title}_q=-{n_quarterly_reports-i}\")\n",
        "            )\n",
        "        columns = [\"global_relative\"] + [\"peers_relative\"] + fund_columns\n",
        "        fundamental_df = pd.DataFrame(\n",
        "            index=legal_fundamental_df.ticker.unique(), columns=columns\n",
        "        )\n",
        "\n",
        "        # Load data\n",
        "        fundamental_df[\"peers_relative\"] = relative_to_current_market_column.loc[\n",
        "            legal_fundamental_df.ticker.unique()\n",
        "        ]\n",
        "        fundamental_df[\"global_relative\"] = relative_to_global_market_column.loc[\n",
        "            legal_fundamental_df.ticker.unique()\n",
        "        ]\n",
        "\n",
        "        formated_stocks = self._get_stocks_in_timeframe(legal_stock_df, historic_dates, desc=\"2/3 Get stock data\")\n",
        "\n",
        "        fundamental_df.loc[\n",
        "            :, f\"revenue_q={-n_quarterly_reports}\":\"net_income_p_q=-1\"\n",
        "        ] = fundamentals\n",
        "        for q in range(n_quarterly_reports, 0, -1):\n",
        "            fundamental_df.loc[:, f\"revenue_q={-q}\":f\"fcf_q={-q}\"] = fundamental_df.loc[\n",
        "                :, f\"revenue_q={-q}\":f\"fcf_q={-q}\"\n",
        "            ].div(last_market_cap_col, axis=0)\n",
        "            fundamental_df.loc[\n",
        "                :, f\"total_assets_q={-q}\":f\"total_current_liabilities_q={-q}\"\n",
        "            ] = fundamental_df.loc[\n",
        "                :, f\"total_assets_q={-q}\":f\"total_current_liabilities_q={-q}\"\n",
        "            ].div(\n",
        "                fundamental_df.loc[:, f\"total_assets_q={-q}\"], axis=0\n",
        "            )\n",
        "            fundamental_df = fundamental_df.drop(columns=f\"total_assets_q={-q}\")\n",
        "\n",
        "        self.stocks_and_fundamentals = formated_stocks.join(fundamental_df)\n",
        "\n",
        "        # Get forecasts\n",
        "        forecasts = stock_df[stock_df.date.isin(forecast_dates)]\n",
        "\n",
        "        forecasts_unormalized = self._get_stocks_in_timeframe(\n",
        "            forecasts, forecast_dates, min_max_scaler=False, desc=\"3/3 Get actual values\"\n",
        "        )\n",
        "        forecasts_normalized = forecasts_unormalized.div(last_market_cap_col, axis=0)\n",
        "        self.forecast = forecasts_normalized.loc[self.stocks_and_fundamentals.index, :]\n",
        "\n",
        "        # Join meta and stock-fundamentals\n",
        "        legal_meta_df = legal_meta_df.loc[self.stocks_and_fundamentals.index, :]\n",
        "        legal_meta_df.loc[:, \"exchange_code\":\"state_province_hq\"] = legal_meta_df.loc[\n",
        "            :, \"exchange_code\":\"state_province_hq\"\n",
        "        ].astype(\"category\")\n",
        "        legal_meta_df.loc[:, \"economic_sector\":\"activity\"] = legal_meta_df.loc[\n",
        "            :, \"economic_sector\":\"activity\"\n",
        "        ].astype(\"category\")\n",
        "\n",
        "        legal_meta_df[\"founding_year\"] = legal_meta_df[\"founding_year\"] / 2000\n",
        "        self.meta_df = legal_meta_df\n",
        "\n",
        "        # Ready macro data\n",
        "        self.macro_df = self._get_macro_normalized(legal_macro_df, macro_df).iloc[:, 1:]\n",
        "\n",
        "    def __len__(self):\n",
        "        return self.stocks_and_fundamentals.shape[0]\n",
        "\n",
        "    def __getitem__(self, idx):\n",
        "\n",
        "        return (\n",
        "            self.stocks_and_fundamentals.iloc[idx, :],\n",
        "            self.meta_df.iloc[idx, :],\n",
        "            self.macro_df.T,\n",
        "        ), self.forecast.iloc[idx, :]\n"
      ],
      "metadata": {
        "id": "xW2ud-LpQOGI"
      },
      "execution_count": 35,
      "outputs": []
    },
    {
      "cell_type": "code",
      "source": [
        "current_time = pd.to_datetime(\"2010-03-01\")\n",
        "number_of_quarterly_reports = 4\n",
        "number_of_trading_days = 240\n",
        "forecast_window = 20\n",
        "\n",
        "delta_set = TimeDeltaDataset(current_time, forecast_window, number_of_trading_days, number_of_quarterly_reports, stock_df, fundamentals_df, meta_df, macro_df)"
      ],
      "metadata": {
        "colab": {
          "base_uri": "https://localhost:8080/",
          "height": 1000
        },
        "id": "Sb7OVdkI7rra",
        "outputId": "76b9582b-c846-439a-e181-c02dcc63e4b2"
      },
      "execution_count": 36,
      "outputs": [
        {
          "output_type": "stream",
          "name": "stderr",
          "text": [
            "1/3 Get fundamentals: 100%|██████████| 493/493 [00:04<00:00, 105.84it/s]\n"
          ]
        },
        {
          "output_type": "stream",
          "name": "stdout",
          "text": [
            "                    2009-03-31           2009-04-01        2009-04-02  \\\n",
            "000096.SZ     410320654.480527     418759419.950541  414890254.609306   \n",
            "000159.SZ     509453203.191909     535076403.576288  535068573.953761   \n",
            "000440.KQ      10799802.812796      10826818.265007   11147476.043625   \n",
            "000552.SZ     209032197.163722     226179824.112146  223834064.969271   \n",
            "000554.SZ     443296099.167264     450266648.326724  447445934.328358   \n",
            "...                        ...                  ...               ...   \n",
            "XOM.N      332308261487.398987  337822333961.419983    342799638318.5   \n",
            "XOP.CD            3642914.3809       3384585.492063    3713010.073571   \n",
            "YPFD.BA       9857994814.25683    9542566755.357861    3713010.073571   \n",
            "ZENZ.L          1128059.014833       1128685.714286    1149764.734417   \n",
            "ZEST.OQ         1128059.014833       1128685.714286    1149764.734417   \n",
            "\n",
            "                   2009-04-03           2009-04-06           2009-04-07  \\\n",
            "000096.SZ    416417189.763399                 <NA>     420941765.041471   \n",
            "000159.SZ    525188992.762975                 <NA>     534200383.473032   \n",
            "000440.KQ     11167335.342568      11337243.196627       11981612.56167   \n",
            "000552.SZ    220961371.318203      11337243.196627     225066265.853337   \n",
            "000554.SZ    468531306.966331      11337243.196627     467704623.688945   \n",
            "...                       ...                  ...                  ...   \n",
            "XOM.N      343726783247.76001  341823696287.700012  335284884681.338989   \n",
            "XOP.CD         4002168.849126       2913831.427649       2916421.918694   \n",
            "YPFD.BA      10239465257.6542     10277089857.8116     10080818691.5882   \n",
            "ZENZ.L         1156684.831232        765581.395349        766262.022145   \n",
            "ZEST.OQ        1156684.831232        765581.395349        766262.022145   \n",
            "\n",
            "                    2009-04-08           2009-04-09        2009-04-10  \\\n",
            "000096.SZ     421782004.389173     434978050.921861  440431416.738618   \n",
            "000159.SZ     503665200.961228     510075239.249341  544980922.184011   \n",
            "000440.KQ      11559066.802519      12184543.882979    12238561.21988   \n",
            "000552.SZ     216774996.342355     217327260.755048  225939385.070171   \n",
            "000554.SZ     442456471.514264     450963591.044776  460156631.905521   \n",
            "...                        ...                  ...               ...   \n",
            "XOM.N      336504812219.838989  340798957155.359985  274900373.599003   \n",
            "XOP.CD          3717217.450425       4286761.711859  274900373.599003   \n",
            "YPFD.BA     10379905028.077801       4286761.711859  274900373.599003   \n",
            "ZENZ.L           767378.389316         774335.18458  274900373.599003   \n",
            "ZEST.OQ          767378.389316         774335.18458  274900373.599003   \n",
            "\n",
            "                    2009-04-13  ...           2010-02-16           2010-02-17  \\\n",
            "000096.SZ     460399994.147854  ...                 <NA>                 <NA>   \n",
            "000159.SZ     556804116.331875  ...                 <NA>                 <NA>   \n",
            "000440.KQ      12228503.021148  ...      13856179.319372      13750330.782685   \n",
            "000552.SZ     237069786.835598  ...      13856179.319372      13750330.782685   \n",
            "000554.SZ     474807231.788854  ...      13856179.319372      13750330.782685   \n",
            "...                        ...  ...                  ...                  ...   \n",
            "XOM.N      331917884675.078979  ...  312925981929.640015  310470919910.880005   \n",
            "XOP.CD          4302927.561895  ...      14674371.877395      15286032.816982   \n",
            "YPFD.BA       10420651447.6222  ...     15801051349.2712     15904607735.9116   \n",
            "ZENZ.L        10420651447.6222  ...       3564403.855364       2965062.751004   \n",
            "ZEST.OQ       10420651447.6222  ...           20255500.0           25021500.0   \n",
            "\n",
            "                   2010-02-18           2010-02-19           2010-02-22  \\\n",
            "000096.SZ                <NA>                 <NA>     579327317.473338   \n",
            "000159.SZ                <NA>                 <NA>     598393385.394937   \n",
            "000440.KQ     13599917.008823      13490222.584006      13467726.762402   \n",
            "000552.SZ     13599917.008823      13490222.584006     415335726.004922   \n",
            "000554.SZ     13599917.008823      13490222.584006     502880625.922887   \n",
            "...                       ...                  ...                  ...   \n",
            "XOM.N      311415174533.47998  310990259953.309998  308771261590.200012   \n",
            "XOP.CD        14712421.242677       15055389.70857      14371883.199079   \n",
            "YPFD.BA      15916159720.7782     16322149369.9909   16313686816.850201   \n",
            "ZENZ.L         3148040.694324       2812032.773877       2888633.055236   \n",
            "ZEST.OQ            25021500.0           21447000.0           21685300.0   \n",
            "\n",
            "                    2010-02-23           2010-02-24           2010-02-25  \\\n",
            "000096.SZ      588583063.55926     607901097.130469     609465774.092899   \n",
            "000159.SZ     609291340.857222      611387800.53172     629730263.800958   \n",
            "000440.KQ      13318481.463878      13305372.923875        13383618.4663   \n",
            "000552.SZ     406979858.496784     413481506.979741     421831236.175604   \n",
            "000554.SZ     508492795.992207     517633318.490091     525395603.615216   \n",
            "...                        ...                  ...                  ...   \n",
            "XOM.N      306599475958.219971  309479452557.148987  307543730580.820007   \n",
            "XOP.CD         23664929.417338      18953491.795504      18849793.793038   \n",
            "YPFD.BA     16078504866.701099     16116032497.3547     16111854111.9522   \n",
            "ZENZ.L          2853876.409285       2857124.679882        2757919.51231   \n",
            "ZEST.OQ             21685300.0           22161900.0           21685300.0   \n",
            "\n",
            "                   2010-02-26           2010-03-01  \n",
            "000096.SZ    604131383.867092     613368882.117691  \n",
            "000159.SZ    623116903.360778     623776094.209161  \n",
            "000440.KQ     13270932.786885     623776094.209161  \n",
            "000552.SZ    415632819.596237     424982743.213746  \n",
            "000554.SZ    520534242.843329     530356664.606009  \n",
            "...                       ...                  ...  \n",
            "XOM.N          306882752345.0  308273170481.400024  \n",
            "XOP.CD        19929521.010638      19180904.588213  \n",
            "YPFD.BA    16224344040.186701     16211726274.2449  \n",
            "ZENZ.L          2777042.62443       2806364.441352  \n",
            "ZEST.OQ            21685300.0           21685300.0  \n",
            "\n",
            "[537 rows x 240 columns]\n",
            "667 128213\n"
          ]
        },
        {
          "output_type": "error",
          "ename": "TypeError",
          "evalue": "ignored",
          "traceback": [
            "\u001b[0;31m---------------------------------------------------------------------------\u001b[0m",
            "\u001b[0;31mTypeError\u001b[0m                                 Traceback (most recent call last)",
            "\u001b[0;32m<ipython-input-36-cb0db65e547d>\u001b[0m in \u001b[0;36m<module>\u001b[0;34m()\u001b[0m\n\u001b[1;32m      4\u001b[0m \u001b[0mforecast_window\u001b[0m \u001b[0;34m=\u001b[0m \u001b[0;36m20\u001b[0m\u001b[0;34m\u001b[0m\u001b[0;34m\u001b[0m\u001b[0m\n\u001b[1;32m      5\u001b[0m \u001b[0;34m\u001b[0m\u001b[0m\n\u001b[0;32m----> 6\u001b[0;31m \u001b[0mdelta_set\u001b[0m \u001b[0;34m=\u001b[0m \u001b[0mTimeDeltaDataset\u001b[0m\u001b[0;34m(\u001b[0m\u001b[0mcurrent_time\u001b[0m\u001b[0;34m,\u001b[0m \u001b[0mforecast_window\u001b[0m\u001b[0;34m,\u001b[0m \u001b[0mnumber_of_trading_days\u001b[0m\u001b[0;34m,\u001b[0m \u001b[0mnumber_of_quarterly_reports\u001b[0m\u001b[0;34m,\u001b[0m \u001b[0mstock_df\u001b[0m\u001b[0;34m,\u001b[0m \u001b[0mfundamentals_df\u001b[0m\u001b[0;34m,\u001b[0m \u001b[0mmeta_df\u001b[0m\u001b[0;34m,\u001b[0m \u001b[0mmacro_df\u001b[0m\u001b[0;34m)\u001b[0m\u001b[0;34m\u001b[0m\u001b[0;34m\u001b[0m\u001b[0m\n\u001b[0m",
            "\u001b[0;32m<ipython-input-35-1ac2ff740d1e>\u001b[0m in \u001b[0;36m__init__\u001b[0;34m(self, current_time, forecast_window, number_of_trading_days, n_quarterly_reports, stock_df, fundamental_df, meta_df, macro_df)\u001b[0m\n\u001b[1;32m    176\u001b[0m         ]\n\u001b[1;32m    177\u001b[0m \u001b[0;34m\u001b[0m\u001b[0m\n\u001b[0;32m--> 178\u001b[0;31m         \u001b[0mformated_stocks\u001b[0m \u001b[0;34m=\u001b[0m \u001b[0mself\u001b[0m\u001b[0;34m.\u001b[0m\u001b[0m_get_stocks_in_timeframe\u001b[0m\u001b[0;34m(\u001b[0m\u001b[0mlegal_stock_df\u001b[0m\u001b[0;34m,\u001b[0m \u001b[0mhistoric_dates\u001b[0m\u001b[0;34m,\u001b[0m \u001b[0mdesc\u001b[0m\u001b[0;34m=\u001b[0m\u001b[0;34m\"2/3 Get stock data\"\u001b[0m\u001b[0;34m)\u001b[0m\u001b[0;34m\u001b[0m\u001b[0;34m\u001b[0m\u001b[0m\n\u001b[0m\u001b[1;32m    179\u001b[0m \u001b[0;34m\u001b[0m\u001b[0m\n\u001b[1;32m    180\u001b[0m         fundamental_df.loc[\n",
            "\u001b[0;32m<ipython-input-35-1ac2ff740d1e>\u001b[0m in \u001b[0;36m_get_stocks_in_timeframe\u001b[0;34m(self, stock_df, stock_dates, scale, desc)\u001b[0m\n\u001b[1;32m     81\u001b[0m         \u001b[0;32mif\u001b[0m \u001b[0mscale\u001b[0m\u001b[0;34m:\u001b[0m\u001b[0;34m\u001b[0m\u001b[0;34m\u001b[0m\u001b[0m\n\u001b[1;32m     82\u001b[0m             out = pd.DataFrame(\n\u001b[0;32m---> 83\u001b[0;31m                 \u001b[0mdata\u001b[0m\u001b[0;34m=\u001b[0m\u001b[0mminmax_scale\u001b[0m\u001b[0;34m(\u001b[0m\u001b[0mout\u001b[0m\u001b[0;34m.\u001b[0m\u001b[0mvalues\u001b[0m\u001b[0;34m)\u001b[0m\u001b[0;34m,\u001b[0m\u001b[0;34m\u001b[0m\u001b[0;34m\u001b[0m\u001b[0m\n\u001b[0m\u001b[1;32m     84\u001b[0m                 \u001b[0mindex\u001b[0m\u001b[0;34m=\u001b[0m\u001b[0mout\u001b[0m\u001b[0;34m.\u001b[0m\u001b[0mindex\u001b[0m\u001b[0;34m,\u001b[0m\u001b[0;34m\u001b[0m\u001b[0;34m\u001b[0m\u001b[0m\n\u001b[1;32m     85\u001b[0m                 \u001b[0mcolumns\u001b[0m\u001b[0;34m=\u001b[0m\u001b[0mout\u001b[0m\u001b[0;34m.\u001b[0m\u001b[0mcolumns\u001b[0m\u001b[0;34m,\u001b[0m\u001b[0;34m\u001b[0m\u001b[0;34m\u001b[0m\u001b[0m\n",
            "\u001b[0;32m/usr/local/lib/python3.7/dist-packages/sklearn/preprocessing/_data.py\u001b[0m in \u001b[0;36mminmax_scale\u001b[0;34m(X, feature_range, axis, copy)\u001b[0m\n\u001b[1;32m    611\u001b[0m     \u001b[0;31m# If copy is required, it will be done inside the scaler object.\u001b[0m\u001b[0;34m\u001b[0m\u001b[0;34m\u001b[0m\u001b[0;34m\u001b[0m\u001b[0m\n\u001b[1;32m    612\u001b[0m     X = check_array(\n\u001b[0;32m--> 613\u001b[0;31m         \u001b[0mX\u001b[0m\u001b[0;34m,\u001b[0m \u001b[0mcopy\u001b[0m\u001b[0;34m=\u001b[0m\u001b[0;32mFalse\u001b[0m\u001b[0;34m,\u001b[0m \u001b[0mensure_2d\u001b[0m\u001b[0;34m=\u001b[0m\u001b[0;32mFalse\u001b[0m\u001b[0;34m,\u001b[0m \u001b[0mdtype\u001b[0m\u001b[0;34m=\u001b[0m\u001b[0mFLOAT_DTYPES\u001b[0m\u001b[0;34m,\u001b[0m \u001b[0mforce_all_finite\u001b[0m\u001b[0;34m=\u001b[0m\u001b[0;34m\"allow-nan\"\u001b[0m\u001b[0;34m\u001b[0m\u001b[0;34m\u001b[0m\u001b[0m\n\u001b[0m\u001b[1;32m    614\u001b[0m     )\n\u001b[1;32m    615\u001b[0m     \u001b[0moriginal_ndim\u001b[0m \u001b[0;34m=\u001b[0m \u001b[0mX\u001b[0m\u001b[0;34m.\u001b[0m\u001b[0mndim\u001b[0m\u001b[0;34m\u001b[0m\u001b[0;34m\u001b[0m\u001b[0m\n",
            "\u001b[0;32m/usr/local/lib/python3.7/dist-packages/sklearn/utils/validation.py\u001b[0m in \u001b[0;36mcheck_array\u001b[0;34m(array, accept_sparse, accept_large_sparse, dtype, order, copy, force_all_finite, ensure_2d, allow_nd, ensure_min_samples, ensure_min_features, estimator)\u001b[0m\n\u001b[1;32m    744\u001b[0m                     \u001b[0marray\u001b[0m \u001b[0;34m=\u001b[0m \u001b[0marray\u001b[0m\u001b[0;34m.\u001b[0m\u001b[0mastype\u001b[0m\u001b[0;34m(\u001b[0m\u001b[0mdtype\u001b[0m\u001b[0;34m,\u001b[0m \u001b[0mcasting\u001b[0m\u001b[0;34m=\u001b[0m\u001b[0;34m\"unsafe\"\u001b[0m\u001b[0;34m,\u001b[0m \u001b[0mcopy\u001b[0m\u001b[0;34m=\u001b[0m\u001b[0;32mFalse\u001b[0m\u001b[0;34m)\u001b[0m\u001b[0;34m\u001b[0m\u001b[0;34m\u001b[0m\u001b[0m\n\u001b[1;32m    745\u001b[0m                 \u001b[0;32melse\u001b[0m\u001b[0;34m:\u001b[0m\u001b[0;34m\u001b[0m\u001b[0;34m\u001b[0m\u001b[0m\n\u001b[0;32m--> 746\u001b[0;31m                     \u001b[0marray\u001b[0m \u001b[0;34m=\u001b[0m \u001b[0mnp\u001b[0m\u001b[0;34m.\u001b[0m\u001b[0masarray\u001b[0m\u001b[0;34m(\u001b[0m\u001b[0marray\u001b[0m\u001b[0;34m,\u001b[0m \u001b[0morder\u001b[0m\u001b[0;34m=\u001b[0m\u001b[0morder\u001b[0m\u001b[0;34m,\u001b[0m \u001b[0mdtype\u001b[0m\u001b[0;34m=\u001b[0m\u001b[0mdtype\u001b[0m\u001b[0;34m)\u001b[0m\u001b[0;34m\u001b[0m\u001b[0;34m\u001b[0m\u001b[0m\n\u001b[0m\u001b[1;32m    747\u001b[0m             \u001b[0;32mexcept\u001b[0m \u001b[0mComplexWarning\u001b[0m \u001b[0;32mas\u001b[0m \u001b[0mcomplex_warning\u001b[0m\u001b[0;34m:\u001b[0m\u001b[0;34m\u001b[0m\u001b[0;34m\u001b[0m\u001b[0m\n\u001b[1;32m    748\u001b[0m                 raise ValueError(\n",
            "\u001b[0;31mTypeError\u001b[0m: float() argument must be a string or a number, not 'NAType'"
          ]
        }
      ]
    },
    {
      "cell_type": "code",
      "source": [
        "stock_df.pivot(index=\"ticker\", columns=\"date\", values=\"market_cap\")"
      ],
      "metadata": {
        "id": "0LOoukqa192b"
      },
      "execution_count": null,
      "outputs": []
    },
    {
      "cell_type": "code",
      "source": [
        "it = iter(delta_set)\n",
        "(stock, meta, macro), actuals = next(it)\n",
        "(stock, meta, macro), actuals = next(it)"
      ],
      "metadata": {
        "id": "1IS63ejwl3Ci"
      },
      "execution_count": null,
      "outputs": []
    },
    {
      "cell_type": "code",
      "source": [
        "stock"
      ],
      "metadata": {
        "colab": {
          "base_uri": "https://localhost:8080/"
        },
        "id": "2Y4Eapt4m0TD",
        "outputId": "1a04a6ce-b0d4-424a-c28b-b1bc3e22612c"
      },
      "execution_count": null,
      "outputs": [
        {
          "output_type": "execute_result",
          "data": {
            "text/plain": [
              "2009-02-02 00:00:00                   0.0\n",
              "2009-02-03 00:00:00              0.059504\n",
              "2009-02-04 00:00:00              0.060508\n",
              "2009-02-05 00:00:00              0.045324\n",
              "2009-02-06 00:00:00              0.104092\n",
              "                                   ...   \n",
              "short_term_debt_p_assets_q=-1        <NA>\n",
              "gross_profit_p_q=-1             -0.145236\n",
              "ebitda_p_q=-1                   -0.214431\n",
              "ebit_p_q=-1                     -0.251064\n",
              "net_income_p_q=-1                     NaN\n",
              "Name: 000159.SZ, Length: 302, dtype: object"
            ]
          },
          "metadata": {},
          "execution_count": 43
        }
      ]
    },
    {
      "cell_type": "markdown",
      "source": [
        "# Run the loop! (Like Odd-Geir Lademo)"
      ],
      "metadata": {
        "id": "s5zbIHNQHUNH"
      }
    },
    {
      "cell_type": "markdown",
      "source": [
        "![picture](https://drive.google.com/uc?id=1Y55gFQSi4Baovmi0kUQGhbgGOBTI03E7)\n"
      ],
      "metadata": {
        "id": "tA8fn-daswS4"
      }
    },
    {
      "cell_type": "code",
      "source": [
        "def train_multivar(model, optimizer, loss_fn, data_train, data_val, one_hot_encoding, batch_number, forecast_window, epochs, device):\n",
        "\n",
        "    # print(model)\n",
        "    train_losses = []\n",
        "    val_losses = []\n",
        "    it = tqdm(range(epochs), disable=True)\n",
        "    for epoch in it: \n",
        "        for run_type in [\"train\", \"val\"]:\n",
        "            model.train(run_type == \"train\")\n",
        "\n",
        "            if run_type == \"train\":\n",
        "                optimizer.zero_grad()\n",
        "\n",
        "                mu, sigma = 0, 0.1\n",
        "                noise = np.random.normal(mu, sigma, data_train.shape)\n",
        "                noise[:,-forecast_window:] = 0\n",
        "\n",
        "                data_train = data_train + noise\n",
        "                data_encoded = pd.concat([one_hot_encoding, data_train], axis=1, join=\"inner\")\n",
        "\n",
        "            else:\n",
        "                data_encoded = pd.concat([one_hot_encoding, data_val], axis=1, join=\"inner\")\n",
        "\n",
        "            data_shuffled = torch.tensor(data_encoded.sample(frac=1).values, dtype=torch.float32)\n",
        "\n",
        "            for batch in torch.split(data_shuffled, batch_number, dim=0):\n",
        "\n",
        "                inputs = batch[:,:-forecast_window].to(device)\n",
        "                actuals = batch[:,-forecast_window:].to(device)\n",
        "\n",
        "                pred = model(inputs[:, 3:], inputs[:, 0:3])\n",
        "                loss = loss_fn(pred, actuals)\n",
        "\n",
        "                if run_type == \"train\":\n",
        "                    train_losses.append(loss.item())\n",
        "                    loss.backward()\n",
        "\n",
        "                    optimizer.step()\n",
        "                else:\n",
        "                    val_losses.append(loss.item())\n",
        "\n",
        "        it.set_postfix({\"train_loss\": np.mean(train_losses), \"val_loss\": np.mean(val_losses)})\n",
        "\n",
        "    return train_losses, val_losses"
      ],
      "metadata": {
        "id": "lRHUgmiYTrC-",
        "colab": {
          "base_uri": "https://localhost:8080/",
          "height": 135
        },
        "outputId": "0b68dab7-e123-44ec-ade9-aa7dc33c41b6"
      },
      "execution_count": null,
      "outputs": [
        {
          "output_type": "error",
          "ename": "IndentationError",
          "evalue": "ignored",
          "traceback": [
            "\u001b[0;36m  File \u001b[0;32m\"<ipython-input-12-27590b8b6a1f>\"\u001b[0;36m, line \u001b[0;32m4\u001b[0m\n\u001b[0;31m    train_losses = []\u001b[0m\n\u001b[0m               ^\u001b[0m\n\u001b[0;31mIndentationError\u001b[0m\u001b[0;31m:\u001b[0m expected an indented block\n"
          ]
        }
      ]
    },
    {
      "cell_type": "code",
      "source": [
        "def run_multivar(hidden_dim):\n",
        "    #Training loop params\n",
        "    forecast_window = 16\n",
        "    amount_of_time_series = 999\n",
        "    length_of_time_series = 500\n",
        "    epochs = 200\n",
        "    batch_size = 111\n",
        "    \n",
        "\n",
        "\n",
        "    #_, TS_signal, one_hot_encoding  = time_series_df(amount_of_time_series,length_of_time_series,periods, horisontal_shift, vertical_shift, forecast_window)\n",
        "\n",
        "    df_train = TS_signal.iloc[-int(amount_of_time_series/3):,:]\n",
        "    df_val = TS_signal.iloc[:-int(amount_of_time_series/3),:]\n",
        "\n",
        "    loss_fn = nn.L1Loss()\n",
        "    \n",
        "    model = MultivariateNetwork(length_of_time_series, one_hot_encoding.shape[1], forecast_window, hidden_dim)\n",
        "    model = model.to(device)\n",
        "    optimizer = torch.optim.Adam(model.parameters(), lr=0.001)\n",
        "\n",
        "    return train_multivar(model, optimizer, loss_fn, df_train, df_val, one_hot_encoding, batch_size, forecast_window, epochs, device)"
      ],
      "metadata": {
        "id": "bkgR_5stGCTm"
      },
      "execution_count": null,
      "outputs": []
    }
  ]
}