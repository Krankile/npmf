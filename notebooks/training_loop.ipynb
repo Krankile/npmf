{
  "nbformat": 4,
  "nbformat_minor": 0,
  "metadata": {
    "colab": {
      "name": "training_loop.ipynb",
      "provenance": [],
      "collapsed_sections": [
        "Rwo44VGZLhAo",
        "CLAlA0htLgMY",
        "qM4PhINrGVa2",
        "PGuFgO6jHPWX"
      ],
      "include_colab_link": true
    },
    "kernelspec": {
      "name": "python3",
      "display_name": "Python 3"
    },
    "language_info": {
      "name": "python"
    },
    "widgets": {
      "application/vnd.jupyter.widget-state+json": {
        "eb26442190c74800a2aa2f941e3375d2": {
          "model_module": "@jupyter-widgets/controls",
          "model_name": "VBoxModel",
          "model_module_version": "1.5.0",
          "state": {
            "_dom_classes": [],
            "_model_module": "@jupyter-widgets/controls",
            "_model_module_version": "1.5.0",
            "_model_name": "VBoxModel",
            "_view_count": null,
            "_view_module": "@jupyter-widgets/controls",
            "_view_module_version": "1.5.0",
            "_view_name": "VBoxView",
            "box_style": "",
            "children": [
              "IPY_MODEL_3cf0825d7a494dde85d480ba9c46f170",
              "IPY_MODEL_731bf7c51e7047b7b7ff88aba36f6215"
            ],
            "layout": "IPY_MODEL_a5b36c2dd2584176b7e3410720b1b4e3"
          }
        },
        "3cf0825d7a494dde85d480ba9c46f170": {
          "model_module": "@jupyter-widgets/controls",
          "model_name": "LabelModel",
          "model_module_version": "1.5.0",
          "state": {
            "_dom_classes": [],
            "_model_module": "@jupyter-widgets/controls",
            "_model_module_version": "1.5.0",
            "_model_name": "LabelModel",
            "_view_count": null,
            "_view_module": "@jupyter-widgets/controls",
            "_view_module_version": "1.5.0",
            "_view_name": "LabelView",
            "description": "",
            "description_tooltip": null,
            "layout": "IPY_MODEL_1dddba79d5c943cb97bf6c12fde2f436",
            "placeholder": "​",
            "style": "IPY_MODEL_57bb5f9fd41c4ef1abaa364db291a951",
            "value": "0.008 MB of 0.008 MB uploaded (0.000 MB deduped)\r"
          }
        },
        "731bf7c51e7047b7b7ff88aba36f6215": {
          "model_module": "@jupyter-widgets/controls",
          "model_name": "FloatProgressModel",
          "model_module_version": "1.5.0",
          "state": {
            "_dom_classes": [],
            "_model_module": "@jupyter-widgets/controls",
            "_model_module_version": "1.5.0",
            "_model_name": "FloatProgressModel",
            "_view_count": null,
            "_view_module": "@jupyter-widgets/controls",
            "_view_module_version": "1.5.0",
            "_view_name": "ProgressView",
            "bar_style": "",
            "description": "",
            "description_tooltip": null,
            "layout": "IPY_MODEL_4df9a6292cd1438591ab05e78e8c5435",
            "max": 1,
            "min": 0,
            "orientation": "horizontal",
            "style": "IPY_MODEL_f6dc6e51661b485b978ab28ce9fa72fe",
            "value": 1
          }
        },
        "a5b36c2dd2584176b7e3410720b1b4e3": {
          "model_module": "@jupyter-widgets/base",
          "model_name": "LayoutModel",
          "model_module_version": "1.2.0",
          "state": {
            "_model_module": "@jupyter-widgets/base",
            "_model_module_version": "1.2.0",
            "_model_name": "LayoutModel",
            "_view_count": null,
            "_view_module": "@jupyter-widgets/base",
            "_view_module_version": "1.2.0",
            "_view_name": "LayoutView",
            "align_content": null,
            "align_items": null,
            "align_self": null,
            "border": null,
            "bottom": null,
            "display": null,
            "flex": null,
            "flex_flow": null,
            "grid_area": null,
            "grid_auto_columns": null,
            "grid_auto_flow": null,
            "grid_auto_rows": null,
            "grid_column": null,
            "grid_gap": null,
            "grid_row": null,
            "grid_template_areas": null,
            "grid_template_columns": null,
            "grid_template_rows": null,
            "height": null,
            "justify_content": null,
            "justify_items": null,
            "left": null,
            "margin": null,
            "max_height": null,
            "max_width": null,
            "min_height": null,
            "min_width": null,
            "object_fit": null,
            "object_position": null,
            "order": null,
            "overflow": null,
            "overflow_x": null,
            "overflow_y": null,
            "padding": null,
            "right": null,
            "top": null,
            "visibility": null,
            "width": null
          }
        },
        "1dddba79d5c943cb97bf6c12fde2f436": {
          "model_module": "@jupyter-widgets/base",
          "model_name": "LayoutModel",
          "model_module_version": "1.2.0",
          "state": {
            "_model_module": "@jupyter-widgets/base",
            "_model_module_version": "1.2.0",
            "_model_name": "LayoutModel",
            "_view_count": null,
            "_view_module": "@jupyter-widgets/base",
            "_view_module_version": "1.2.0",
            "_view_name": "LayoutView",
            "align_content": null,
            "align_items": null,
            "align_self": null,
            "border": null,
            "bottom": null,
            "display": null,
            "flex": null,
            "flex_flow": null,
            "grid_area": null,
            "grid_auto_columns": null,
            "grid_auto_flow": null,
            "grid_auto_rows": null,
            "grid_column": null,
            "grid_gap": null,
            "grid_row": null,
            "grid_template_areas": null,
            "grid_template_columns": null,
            "grid_template_rows": null,
            "height": null,
            "justify_content": null,
            "justify_items": null,
            "left": null,
            "margin": null,
            "max_height": null,
            "max_width": null,
            "min_height": null,
            "min_width": null,
            "object_fit": null,
            "object_position": null,
            "order": null,
            "overflow": null,
            "overflow_x": null,
            "overflow_y": null,
            "padding": null,
            "right": null,
            "top": null,
            "visibility": null,
            "width": null
          }
        },
        "57bb5f9fd41c4ef1abaa364db291a951": {
          "model_module": "@jupyter-widgets/controls",
          "model_name": "DescriptionStyleModel",
          "model_module_version": "1.5.0",
          "state": {
            "_model_module": "@jupyter-widgets/controls",
            "_model_module_version": "1.5.0",
            "_model_name": "DescriptionStyleModel",
            "_view_count": null,
            "_view_module": "@jupyter-widgets/base",
            "_view_module_version": "1.2.0",
            "_view_name": "StyleView",
            "description_width": ""
          }
        },
        "4df9a6292cd1438591ab05e78e8c5435": {
          "model_module": "@jupyter-widgets/base",
          "model_name": "LayoutModel",
          "model_module_version": "1.2.0",
          "state": {
            "_model_module": "@jupyter-widgets/base",
            "_model_module_version": "1.2.0",
            "_model_name": "LayoutModel",
            "_view_count": null,
            "_view_module": "@jupyter-widgets/base",
            "_view_module_version": "1.2.0",
            "_view_name": "LayoutView",
            "align_content": null,
            "align_items": null,
            "align_self": null,
            "border": null,
            "bottom": null,
            "display": null,
            "flex": null,
            "flex_flow": null,
            "grid_area": null,
            "grid_auto_columns": null,
            "grid_auto_flow": null,
            "grid_auto_rows": null,
            "grid_column": null,
            "grid_gap": null,
            "grid_row": null,
            "grid_template_areas": null,
            "grid_template_columns": null,
            "grid_template_rows": null,
            "height": null,
            "justify_content": null,
            "justify_items": null,
            "left": null,
            "margin": null,
            "max_height": null,
            "max_width": null,
            "min_height": null,
            "min_width": null,
            "object_fit": null,
            "object_position": null,
            "order": null,
            "overflow": null,
            "overflow_x": null,
            "overflow_y": null,
            "padding": null,
            "right": null,
            "top": null,
            "visibility": null,
            "width": null
          }
        },
        "f6dc6e51661b485b978ab28ce9fa72fe": {
          "model_module": "@jupyter-widgets/controls",
          "model_name": "ProgressStyleModel",
          "model_module_version": "1.5.0",
          "state": {
            "_model_module": "@jupyter-widgets/controls",
            "_model_module_version": "1.5.0",
            "_model_name": "ProgressStyleModel",
            "_view_count": null,
            "_view_module": "@jupyter-widgets/base",
            "_view_module_version": "1.2.0",
            "_view_name": "StyleView",
            "bar_color": null,
            "description_width": ""
          }
        },
        "4d34b9863fc940dbaec9a6557a456b68": {
          "model_module": "@jupyter-widgets/controls",
          "model_name": "VBoxModel",
          "model_module_version": "1.5.0",
          "state": {
            "_dom_classes": [],
            "_model_module": "@jupyter-widgets/controls",
            "_model_module_version": "1.5.0",
            "_model_name": "VBoxModel",
            "_view_count": null,
            "_view_module": "@jupyter-widgets/controls",
            "_view_module_version": "1.5.0",
            "_view_name": "VBoxView",
            "box_style": "",
            "children": [
              "IPY_MODEL_c8f6d15ac6b447f8b4ca7031a553ceff",
              "IPY_MODEL_2f351a650db54f7aaf8830f40db38448"
            ],
            "layout": "IPY_MODEL_0669bccf25d846fb8fc3601fab96505b"
          }
        },
        "c8f6d15ac6b447f8b4ca7031a553ceff": {
          "model_module": "@jupyter-widgets/controls",
          "model_name": "LabelModel",
          "model_module_version": "1.5.0",
          "state": {
            "_dom_classes": [],
            "_model_module": "@jupyter-widgets/controls",
            "_model_module_version": "1.5.0",
            "_model_name": "LabelModel",
            "_view_count": null,
            "_view_module": "@jupyter-widgets/controls",
            "_view_module_version": "1.5.0",
            "_view_name": "LabelView",
            "description": "",
            "description_tooltip": null,
            "layout": "IPY_MODEL_09b1a83846734aec9e42c158ba96dc6f",
            "placeholder": "​",
            "style": "IPY_MODEL_3857e007309845f99067ecf689f00b1b",
            "value": "0.008 MB of 0.008 MB uploaded (0.000 MB deduped)\r"
          }
        },
        "2f351a650db54f7aaf8830f40db38448": {
          "model_module": "@jupyter-widgets/controls",
          "model_name": "FloatProgressModel",
          "model_module_version": "1.5.0",
          "state": {
            "_dom_classes": [],
            "_model_module": "@jupyter-widgets/controls",
            "_model_module_version": "1.5.0",
            "_model_name": "FloatProgressModel",
            "_view_count": null,
            "_view_module": "@jupyter-widgets/controls",
            "_view_module_version": "1.5.0",
            "_view_name": "ProgressView",
            "bar_style": "",
            "description": "",
            "description_tooltip": null,
            "layout": "IPY_MODEL_8d0312368618464481bb5d67515dc91d",
            "max": 1,
            "min": 0,
            "orientation": "horizontal",
            "style": "IPY_MODEL_b8ecb35f8e674a36aba70e3b90e752f8",
            "value": 1
          }
        },
        "0669bccf25d846fb8fc3601fab96505b": {
          "model_module": "@jupyter-widgets/base",
          "model_name": "LayoutModel",
          "model_module_version": "1.2.0",
          "state": {
            "_model_module": "@jupyter-widgets/base",
            "_model_module_version": "1.2.0",
            "_model_name": "LayoutModel",
            "_view_count": null,
            "_view_module": "@jupyter-widgets/base",
            "_view_module_version": "1.2.0",
            "_view_name": "LayoutView",
            "align_content": null,
            "align_items": null,
            "align_self": null,
            "border": null,
            "bottom": null,
            "display": null,
            "flex": null,
            "flex_flow": null,
            "grid_area": null,
            "grid_auto_columns": null,
            "grid_auto_flow": null,
            "grid_auto_rows": null,
            "grid_column": null,
            "grid_gap": null,
            "grid_row": null,
            "grid_template_areas": null,
            "grid_template_columns": null,
            "grid_template_rows": null,
            "height": null,
            "justify_content": null,
            "justify_items": null,
            "left": null,
            "margin": null,
            "max_height": null,
            "max_width": null,
            "min_height": null,
            "min_width": null,
            "object_fit": null,
            "object_position": null,
            "order": null,
            "overflow": null,
            "overflow_x": null,
            "overflow_y": null,
            "padding": null,
            "right": null,
            "top": null,
            "visibility": null,
            "width": null
          }
        },
        "09b1a83846734aec9e42c158ba96dc6f": {
          "model_module": "@jupyter-widgets/base",
          "model_name": "LayoutModel",
          "model_module_version": "1.2.0",
          "state": {
            "_model_module": "@jupyter-widgets/base",
            "_model_module_version": "1.2.0",
            "_model_name": "LayoutModel",
            "_view_count": null,
            "_view_module": "@jupyter-widgets/base",
            "_view_module_version": "1.2.0",
            "_view_name": "LayoutView",
            "align_content": null,
            "align_items": null,
            "align_self": null,
            "border": null,
            "bottom": null,
            "display": null,
            "flex": null,
            "flex_flow": null,
            "grid_area": null,
            "grid_auto_columns": null,
            "grid_auto_flow": null,
            "grid_auto_rows": null,
            "grid_column": null,
            "grid_gap": null,
            "grid_row": null,
            "grid_template_areas": null,
            "grid_template_columns": null,
            "grid_template_rows": null,
            "height": null,
            "justify_content": null,
            "justify_items": null,
            "left": null,
            "margin": null,
            "max_height": null,
            "max_width": null,
            "min_height": null,
            "min_width": null,
            "object_fit": null,
            "object_position": null,
            "order": null,
            "overflow": null,
            "overflow_x": null,
            "overflow_y": null,
            "padding": null,
            "right": null,
            "top": null,
            "visibility": null,
            "width": null
          }
        },
        "3857e007309845f99067ecf689f00b1b": {
          "model_module": "@jupyter-widgets/controls",
          "model_name": "DescriptionStyleModel",
          "model_module_version": "1.5.0",
          "state": {
            "_model_module": "@jupyter-widgets/controls",
            "_model_module_version": "1.5.0",
            "_model_name": "DescriptionStyleModel",
            "_view_count": null,
            "_view_module": "@jupyter-widgets/base",
            "_view_module_version": "1.2.0",
            "_view_name": "StyleView",
            "description_width": ""
          }
        },
        "8d0312368618464481bb5d67515dc91d": {
          "model_module": "@jupyter-widgets/base",
          "model_name": "LayoutModel",
          "model_module_version": "1.2.0",
          "state": {
            "_model_module": "@jupyter-widgets/base",
            "_model_module_version": "1.2.0",
            "_model_name": "LayoutModel",
            "_view_count": null,
            "_view_module": "@jupyter-widgets/base",
            "_view_module_version": "1.2.0",
            "_view_name": "LayoutView",
            "align_content": null,
            "align_items": null,
            "align_self": null,
            "border": null,
            "bottom": null,
            "display": null,
            "flex": null,
            "flex_flow": null,
            "grid_area": null,
            "grid_auto_columns": null,
            "grid_auto_flow": null,
            "grid_auto_rows": null,
            "grid_column": null,
            "grid_gap": null,
            "grid_row": null,
            "grid_template_areas": null,
            "grid_template_columns": null,
            "grid_template_rows": null,
            "height": null,
            "justify_content": null,
            "justify_items": null,
            "left": null,
            "margin": null,
            "max_height": null,
            "max_width": null,
            "min_height": null,
            "min_width": null,
            "object_fit": null,
            "object_position": null,
            "order": null,
            "overflow": null,
            "overflow_x": null,
            "overflow_y": null,
            "padding": null,
            "right": null,
            "top": null,
            "visibility": null,
            "width": null
          }
        },
        "b8ecb35f8e674a36aba70e3b90e752f8": {
          "model_module": "@jupyter-widgets/controls",
          "model_name": "ProgressStyleModel",
          "model_module_version": "1.5.0",
          "state": {
            "_model_module": "@jupyter-widgets/controls",
            "_model_module_version": "1.5.0",
            "_model_name": "ProgressStyleModel",
            "_view_count": null,
            "_view_module": "@jupyter-widgets/base",
            "_view_module_version": "1.2.0",
            "_view_name": "StyleView",
            "bar_color": null,
            "description_width": ""
          }
        },
        "95946b6e9e7442f5b342855f5d4956e6": {
          "model_module": "@jupyter-widgets/controls",
          "model_name": "VBoxModel",
          "model_module_version": "1.5.0",
          "state": {
            "_dom_classes": [],
            "_model_module": "@jupyter-widgets/controls",
            "_model_module_version": "1.5.0",
            "_model_name": "VBoxModel",
            "_view_count": null,
            "_view_module": "@jupyter-widgets/controls",
            "_view_module_version": "1.5.0",
            "_view_name": "VBoxView",
            "box_style": "",
            "children": [
              "IPY_MODEL_f33c7d1fe2a94bd0ad584393d4983809",
              "IPY_MODEL_b33f78fefa2544de97c470fa75e3cc89"
            ],
            "layout": "IPY_MODEL_9a0e539099624308be1d4a2d75cd5374"
          }
        },
        "f33c7d1fe2a94bd0ad584393d4983809": {
          "model_module": "@jupyter-widgets/controls",
          "model_name": "LabelModel",
          "model_module_version": "1.5.0",
          "state": {
            "_dom_classes": [],
            "_model_module": "@jupyter-widgets/controls",
            "_model_module_version": "1.5.0",
            "_model_name": "LabelModel",
            "_view_count": null,
            "_view_module": "@jupyter-widgets/controls",
            "_view_module_version": "1.5.0",
            "_view_name": "LabelView",
            "description": "",
            "description_tooltip": null,
            "layout": "IPY_MODEL_37664e9a015e41dbb5d09b0502092b16",
            "placeholder": "​",
            "style": "IPY_MODEL_c3668f6cfaec4f3ea567401dd1a8d9d5",
            "value": "0.008 MB of 0.008 MB uploaded (0.000 MB deduped)\r"
          }
        },
        "b33f78fefa2544de97c470fa75e3cc89": {
          "model_module": "@jupyter-widgets/controls",
          "model_name": "FloatProgressModel",
          "model_module_version": "1.5.0",
          "state": {
            "_dom_classes": [],
            "_model_module": "@jupyter-widgets/controls",
            "_model_module_version": "1.5.0",
            "_model_name": "FloatProgressModel",
            "_view_count": null,
            "_view_module": "@jupyter-widgets/controls",
            "_view_module_version": "1.5.0",
            "_view_name": "ProgressView",
            "bar_style": "",
            "description": "",
            "description_tooltip": null,
            "layout": "IPY_MODEL_90d8bac5b5b24430967ea899f9cee0a2",
            "max": 1,
            "min": 0,
            "orientation": "horizontal",
            "style": "IPY_MODEL_da7445a84f504a57983a9b63fc564283",
            "value": 1
          }
        },
        "9a0e539099624308be1d4a2d75cd5374": {
          "model_module": "@jupyter-widgets/base",
          "model_name": "LayoutModel",
          "model_module_version": "1.2.0",
          "state": {
            "_model_module": "@jupyter-widgets/base",
            "_model_module_version": "1.2.0",
            "_model_name": "LayoutModel",
            "_view_count": null,
            "_view_module": "@jupyter-widgets/base",
            "_view_module_version": "1.2.0",
            "_view_name": "LayoutView",
            "align_content": null,
            "align_items": null,
            "align_self": null,
            "border": null,
            "bottom": null,
            "display": null,
            "flex": null,
            "flex_flow": null,
            "grid_area": null,
            "grid_auto_columns": null,
            "grid_auto_flow": null,
            "grid_auto_rows": null,
            "grid_column": null,
            "grid_gap": null,
            "grid_row": null,
            "grid_template_areas": null,
            "grid_template_columns": null,
            "grid_template_rows": null,
            "height": null,
            "justify_content": null,
            "justify_items": null,
            "left": null,
            "margin": null,
            "max_height": null,
            "max_width": null,
            "min_height": null,
            "min_width": null,
            "object_fit": null,
            "object_position": null,
            "order": null,
            "overflow": null,
            "overflow_x": null,
            "overflow_y": null,
            "padding": null,
            "right": null,
            "top": null,
            "visibility": null,
            "width": null
          }
        },
        "37664e9a015e41dbb5d09b0502092b16": {
          "model_module": "@jupyter-widgets/base",
          "model_name": "LayoutModel",
          "model_module_version": "1.2.0",
          "state": {
            "_model_module": "@jupyter-widgets/base",
            "_model_module_version": "1.2.0",
            "_model_name": "LayoutModel",
            "_view_count": null,
            "_view_module": "@jupyter-widgets/base",
            "_view_module_version": "1.2.0",
            "_view_name": "LayoutView",
            "align_content": null,
            "align_items": null,
            "align_self": null,
            "border": null,
            "bottom": null,
            "display": null,
            "flex": null,
            "flex_flow": null,
            "grid_area": null,
            "grid_auto_columns": null,
            "grid_auto_flow": null,
            "grid_auto_rows": null,
            "grid_column": null,
            "grid_gap": null,
            "grid_row": null,
            "grid_template_areas": null,
            "grid_template_columns": null,
            "grid_template_rows": null,
            "height": null,
            "justify_content": null,
            "justify_items": null,
            "left": null,
            "margin": null,
            "max_height": null,
            "max_width": null,
            "min_height": null,
            "min_width": null,
            "object_fit": null,
            "object_position": null,
            "order": null,
            "overflow": null,
            "overflow_x": null,
            "overflow_y": null,
            "padding": null,
            "right": null,
            "top": null,
            "visibility": null,
            "width": null
          }
        },
        "c3668f6cfaec4f3ea567401dd1a8d9d5": {
          "model_module": "@jupyter-widgets/controls",
          "model_name": "DescriptionStyleModel",
          "model_module_version": "1.5.0",
          "state": {
            "_model_module": "@jupyter-widgets/controls",
            "_model_module_version": "1.5.0",
            "_model_name": "DescriptionStyleModel",
            "_view_count": null,
            "_view_module": "@jupyter-widgets/base",
            "_view_module_version": "1.2.0",
            "_view_name": "StyleView",
            "description_width": ""
          }
        },
        "90d8bac5b5b24430967ea899f9cee0a2": {
          "model_module": "@jupyter-widgets/base",
          "model_name": "LayoutModel",
          "model_module_version": "1.2.0",
          "state": {
            "_model_module": "@jupyter-widgets/base",
            "_model_module_version": "1.2.0",
            "_model_name": "LayoutModel",
            "_view_count": null,
            "_view_module": "@jupyter-widgets/base",
            "_view_module_version": "1.2.0",
            "_view_name": "LayoutView",
            "align_content": null,
            "align_items": null,
            "align_self": null,
            "border": null,
            "bottom": null,
            "display": null,
            "flex": null,
            "flex_flow": null,
            "grid_area": null,
            "grid_auto_columns": null,
            "grid_auto_flow": null,
            "grid_auto_rows": null,
            "grid_column": null,
            "grid_gap": null,
            "grid_row": null,
            "grid_template_areas": null,
            "grid_template_columns": null,
            "grid_template_rows": null,
            "height": null,
            "justify_content": null,
            "justify_items": null,
            "left": null,
            "margin": null,
            "max_height": null,
            "max_width": null,
            "min_height": null,
            "min_width": null,
            "object_fit": null,
            "object_position": null,
            "order": null,
            "overflow": null,
            "overflow_x": null,
            "overflow_y": null,
            "padding": null,
            "right": null,
            "top": null,
            "visibility": null,
            "width": null
          }
        },
        "da7445a84f504a57983a9b63fc564283": {
          "model_module": "@jupyter-widgets/controls",
          "model_name": "ProgressStyleModel",
          "model_module_version": "1.5.0",
          "state": {
            "_model_module": "@jupyter-widgets/controls",
            "_model_module_version": "1.5.0",
            "_model_name": "ProgressStyleModel",
            "_view_count": null,
            "_view_module": "@jupyter-widgets/base",
            "_view_module_version": "1.2.0",
            "_view_name": "StyleView",
            "bar_color": null,
            "description_width": ""
          }
        },
        "29ba1c5bcbcc402587cf25a32c1f752b": {
          "model_module": "@jupyter-widgets/controls",
          "model_name": "VBoxModel",
          "model_module_version": "1.5.0",
          "state": {
            "_dom_classes": [],
            "_model_module": "@jupyter-widgets/controls",
            "_model_module_version": "1.5.0",
            "_model_name": "VBoxModel",
            "_view_count": null,
            "_view_module": "@jupyter-widgets/controls",
            "_view_module_version": "1.5.0",
            "_view_name": "VBoxView",
            "box_style": "",
            "children": [
              "IPY_MODEL_ab7b41a530454fe4a2c8054c50eef32c",
              "IPY_MODEL_e534329b34b74fee87020256e1204cca"
            ],
            "layout": "IPY_MODEL_0d145047d6644766a51f1dbadfe822ef"
          }
        },
        "ab7b41a530454fe4a2c8054c50eef32c": {
          "model_module": "@jupyter-widgets/controls",
          "model_name": "LabelModel",
          "model_module_version": "1.5.0",
          "state": {
            "_dom_classes": [],
            "_model_module": "@jupyter-widgets/controls",
            "_model_module_version": "1.5.0",
            "_model_name": "LabelModel",
            "_view_count": null,
            "_view_module": "@jupyter-widgets/controls",
            "_view_module_version": "1.5.0",
            "_view_name": "LabelView",
            "description": "",
            "description_tooltip": null,
            "layout": "IPY_MODEL_21c1fb65fed54fb484c35a909bdf3daa",
            "placeholder": "​",
            "style": "IPY_MODEL_3e0e7e9b433346b4ba4a8b31952f77e6",
            "value": "0.008 MB of 0.008 MB uploaded (0.000 MB deduped)\r"
          }
        },
        "e534329b34b74fee87020256e1204cca": {
          "model_module": "@jupyter-widgets/controls",
          "model_name": "FloatProgressModel",
          "model_module_version": "1.5.0",
          "state": {
            "_dom_classes": [],
            "_model_module": "@jupyter-widgets/controls",
            "_model_module_version": "1.5.0",
            "_model_name": "FloatProgressModel",
            "_view_count": null,
            "_view_module": "@jupyter-widgets/controls",
            "_view_module_version": "1.5.0",
            "_view_name": "ProgressView",
            "bar_style": "",
            "description": "",
            "description_tooltip": null,
            "layout": "IPY_MODEL_b9373b13e5474424b184478efeed1156",
            "max": 1,
            "min": 0,
            "orientation": "horizontal",
            "style": "IPY_MODEL_6eb812a09e0a4fb699e727553c66565f",
            "value": 1
          }
        },
        "0d145047d6644766a51f1dbadfe822ef": {
          "model_module": "@jupyter-widgets/base",
          "model_name": "LayoutModel",
          "model_module_version": "1.2.0",
          "state": {
            "_model_module": "@jupyter-widgets/base",
            "_model_module_version": "1.2.0",
            "_model_name": "LayoutModel",
            "_view_count": null,
            "_view_module": "@jupyter-widgets/base",
            "_view_module_version": "1.2.0",
            "_view_name": "LayoutView",
            "align_content": null,
            "align_items": null,
            "align_self": null,
            "border": null,
            "bottom": null,
            "display": null,
            "flex": null,
            "flex_flow": null,
            "grid_area": null,
            "grid_auto_columns": null,
            "grid_auto_flow": null,
            "grid_auto_rows": null,
            "grid_column": null,
            "grid_gap": null,
            "grid_row": null,
            "grid_template_areas": null,
            "grid_template_columns": null,
            "grid_template_rows": null,
            "height": null,
            "justify_content": null,
            "justify_items": null,
            "left": null,
            "margin": null,
            "max_height": null,
            "max_width": null,
            "min_height": null,
            "min_width": null,
            "object_fit": null,
            "object_position": null,
            "order": null,
            "overflow": null,
            "overflow_x": null,
            "overflow_y": null,
            "padding": null,
            "right": null,
            "top": null,
            "visibility": null,
            "width": null
          }
        },
        "21c1fb65fed54fb484c35a909bdf3daa": {
          "model_module": "@jupyter-widgets/base",
          "model_name": "LayoutModel",
          "model_module_version": "1.2.0",
          "state": {
            "_model_module": "@jupyter-widgets/base",
            "_model_module_version": "1.2.0",
            "_model_name": "LayoutModel",
            "_view_count": null,
            "_view_module": "@jupyter-widgets/base",
            "_view_module_version": "1.2.0",
            "_view_name": "LayoutView",
            "align_content": null,
            "align_items": null,
            "align_self": null,
            "border": null,
            "bottom": null,
            "display": null,
            "flex": null,
            "flex_flow": null,
            "grid_area": null,
            "grid_auto_columns": null,
            "grid_auto_flow": null,
            "grid_auto_rows": null,
            "grid_column": null,
            "grid_gap": null,
            "grid_row": null,
            "grid_template_areas": null,
            "grid_template_columns": null,
            "grid_template_rows": null,
            "height": null,
            "justify_content": null,
            "justify_items": null,
            "left": null,
            "margin": null,
            "max_height": null,
            "max_width": null,
            "min_height": null,
            "min_width": null,
            "object_fit": null,
            "object_position": null,
            "order": null,
            "overflow": null,
            "overflow_x": null,
            "overflow_y": null,
            "padding": null,
            "right": null,
            "top": null,
            "visibility": null,
            "width": null
          }
        },
        "3e0e7e9b433346b4ba4a8b31952f77e6": {
          "model_module": "@jupyter-widgets/controls",
          "model_name": "DescriptionStyleModel",
          "model_module_version": "1.5.0",
          "state": {
            "_model_module": "@jupyter-widgets/controls",
            "_model_module_version": "1.5.0",
            "_model_name": "DescriptionStyleModel",
            "_view_count": null,
            "_view_module": "@jupyter-widgets/base",
            "_view_module_version": "1.2.0",
            "_view_name": "StyleView",
            "description_width": ""
          }
        },
        "b9373b13e5474424b184478efeed1156": {
          "model_module": "@jupyter-widgets/base",
          "model_name": "LayoutModel",
          "model_module_version": "1.2.0",
          "state": {
            "_model_module": "@jupyter-widgets/base",
            "_model_module_version": "1.2.0",
            "_model_name": "LayoutModel",
            "_view_count": null,
            "_view_module": "@jupyter-widgets/base",
            "_view_module_version": "1.2.0",
            "_view_name": "LayoutView",
            "align_content": null,
            "align_items": null,
            "align_self": null,
            "border": null,
            "bottom": null,
            "display": null,
            "flex": null,
            "flex_flow": null,
            "grid_area": null,
            "grid_auto_columns": null,
            "grid_auto_flow": null,
            "grid_auto_rows": null,
            "grid_column": null,
            "grid_gap": null,
            "grid_row": null,
            "grid_template_areas": null,
            "grid_template_columns": null,
            "grid_template_rows": null,
            "height": null,
            "justify_content": null,
            "justify_items": null,
            "left": null,
            "margin": null,
            "max_height": null,
            "max_width": null,
            "min_height": null,
            "min_width": null,
            "object_fit": null,
            "object_position": null,
            "order": null,
            "overflow": null,
            "overflow_x": null,
            "overflow_y": null,
            "padding": null,
            "right": null,
            "top": null,
            "visibility": null,
            "width": null
          }
        },
        "6eb812a09e0a4fb699e727553c66565f": {
          "model_module": "@jupyter-widgets/controls",
          "model_name": "ProgressStyleModel",
          "model_module_version": "1.5.0",
          "state": {
            "_model_module": "@jupyter-widgets/controls",
            "_model_module_version": "1.5.0",
            "_model_name": "ProgressStyleModel",
            "_view_count": null,
            "_view_module": "@jupyter-widgets/base",
            "_view_module_version": "1.2.0",
            "_view_name": "StyleView",
            "bar_color": null,
            "description_width": ""
          }
        }
      }
    }
  },
  "cells": [
    {
      "cell_type": "markdown",
      "metadata": {
        "id": "view-in-github",
        "colab_type": "text"
      },
      "source": [
        "<a href=\"https://colab.research.google.com/github/Krankile/npmf/blob/main/notebooks/training_loop.ipynb\" target=\"_parent\"><img src=\"https://colab.research.google.com/assets/colab-badge.svg\" alt=\"Open In Colab\"/></a>"
      ]
    },
    {
      "cell_type": "markdown",
      "source": [
        "#Setup"
      ],
      "metadata": {
        "id": "d8F5tl4NL7FZ"
      }
    },
    {
      "cell_type": "markdown",
      "source": [
        "##Kernel setup"
      ],
      "metadata": {
        "id": "Rwo44VGZLhAo"
      }
    },
    {
      "cell_type": "code",
      "source": [
        "%load_ext autoreload\n",
        "%autoreload 2"
      ],
      "metadata": {
        "id": "hKuFzk7aEmB9"
      },
      "execution_count": null,
      "outputs": []
    },
    {
      "cell_type": "code",
      "source": [
        "%%capture\n",
        "!pip install wandb\n",
        "!git clone https://github.com/Krankile/npmf.git"
      ],
      "metadata": {
        "id": "91KPY7q0LUOw"
      },
      "execution_count": null,
      "outputs": []
    },
    {
      "cell_type": "code",
      "source": [
        "%%capture\n",
        "!cd npmf && git pull"
      ],
      "metadata": {
        "id": "zGsSIhgXEkhz"
      },
      "execution_count": null,
      "outputs": []
    },
    {
      "cell_type": "code",
      "source": [
        "!wandb login"
      ],
      "metadata": {
        "id": "gUXnibj8YEi1",
        "colab": {
          "base_uri": "https://localhost:8080/"
        },
        "outputId": "b02bac8a-a20c-4a35-8807-2b626cc0ca8d"
      },
      "execution_count": null,
      "outputs": [
        {
          "output_type": "stream",
          "name": "stdout",
          "text": [
            "\u001b[34m\u001b[1mwandb\u001b[0m: You can find your API key in your browser here: https://wandb.ai/authorize\n",
            "\u001b[34m\u001b[1mwandb\u001b[0m: Paste an API key from your profile and hit enter, or press ctrl+c to quit: \n",
            "\u001b[34m\u001b[1mwandb\u001b[0m: Appending key for api.wandb.ai to your netrc file: /root/.netrc\n"
          ]
        }
      ]
    },
    {
      "cell_type": "markdown",
      "source": [
        "##General setup"
      ],
      "metadata": {
        "id": "CLAlA0htLgMY"
      }
    },
    {
      "cell_type": "code",
      "source": [
        "import os\n",
        "from collections import defaultdict\n",
        "from collections import Counter\n",
        "from datetime import datetime\n",
        "from datetime import timedelta\n",
        "from operator import itemgetter\n",
        "\n",
        "import numpy as np\n",
        "import math\n",
        "from numpy.ma.core import outerproduct\n",
        "import pandas as pd\n",
        "import matplotlib as mpl\n",
        "import matplotlib.pyplot as plt\n",
        "from tqdm import tqdm\n",
        "\n",
        "\n",
        "import wandb as wb\n",
        "\n",
        "import torch\n",
        "from torch import nn\n",
        "from torch.utils.data import DataLoader\n",
        "from torch.utils.data import Dataset\n",
        "from torchvision import datasets, transforms\n",
        "from sklearn.preprocessing import MinMaxScaler\n",
        "\n",
        "from npmf.utils.colors import main, main2, main3\n",
        "from npmf.utils.wandb import get_dataset, put_dataset\n",
        "from npmf.utils.eikon import column_mapping"
      ],
      "metadata": {
        "id": "1QSlgObXLq1p"
      },
      "execution_count": null,
      "outputs": []
    },
    {
      "cell_type": "code",
      "source": [
        "mpl.rcParams['axes.prop_cycle'] = mpl.cycler(color=[main, main2, main3, \"black\"])\n",
        "mpl.rcParams['figure.figsize'] = (6, 4)  # (6, 4) is default and used in the paper"
      ],
      "metadata": {
        "id": "hkTjKKLmLvpl"
      },
      "execution_count": null,
      "outputs": []
    },
    {
      "cell_type": "code",
      "source": [
        "device = \"cuda\" if torch.cuda.is_available() else \"cpu\"\n",
        "print(f\"Using {device} device\")"
      ],
      "metadata": {
        "colab": {
          "base_uri": "https://localhost:8080/"
        },
        "id": "Dqy02oAvY7GM",
        "outputId": "1aafa004-12bc-4b47-e1ea-509b50932944"
      },
      "execution_count": null,
      "outputs": [
        {
          "output_type": "stream",
          "name": "stdout",
          "text": [
            "Using cpu device\n"
          ]
        }
      ]
    },
    {
      "cell_type": "code",
      "source": [
        "np.random.seed(420)"
      ],
      "metadata": {
        "id": "YVFtfDk0pYtd"
      },
      "execution_count": null,
      "outputs": []
    },
    {
      "cell_type": "markdown",
      "source": [
        "# Create a Neural network class"
      ],
      "metadata": {
        "id": "qM4PhINrGVa2"
      }
    },
    {
      "cell_type": "code",
      "source": [
        "class MultivariateNetwork(nn.Module):\n",
        "    def __init__(self, lag_len, cat_len, out_len, hidden_dim):\n",
        "        super().__init__()\n",
        "\n",
        "        self.pre = nn.Sequential(\n",
        "            nn.Linear(lag_len, hidden_dim),\n",
        "            nn.ReLU(),\n",
        "        )\n",
        "\n",
        "        self.predict = nn.Sequential(\n",
        "            nn.Linear(hidden_dim + cat_len, 128),\n",
        "            nn.ReLU(),\n",
        "            nn.Linear(128, 64),\n",
        "            nn.ReLU(),\n",
        "            nn.Linear(64, out_len),\n",
        "        )\n",
        "\n",
        "\n",
        "    def forward(self, lags, cats):\n",
        "\n",
        "        x = self.pre(lags)\n",
        "        x = torch.cat((x, cats), dim=1)\n",
        "        x = self.predict(x)\n",
        "\n",
        "        return x"
      ],
      "metadata": {
        "id": "jKqMY62PGZzj"
      },
      "execution_count": null,
      "outputs": []
    },
    {
      "cell_type": "markdown",
      "source": [
        "# Get some data"
      ],
      "metadata": {
        "id": "PGuFgO6jHPWX"
      }
    },
    {
      "cell_type": "code",
      "source": [
        "stock_df = get_dataset(\"stock-oil-final:latest\", project=\"master-test\")\n",
        "meta_df = get_dataset(\"meta-oil-final:latest\", project=\"master-test\")\n",
        "fundamentals_df = get_dataset(\"fundamentals-oil-final:latest\", project=\"master-test\")\n",
        "macro_df = get_dataset(\"macro-oil-final:latest\", project=\"master-test\")"
      ],
      "metadata": {
        "colab": {
          "base_uri": "https://localhost:8080/",
          "referenced_widgets": [
            "eb26442190c74800a2aa2f941e3375d2",
            "3cf0825d7a494dde85d480ba9c46f170",
            "731bf7c51e7047b7b7ff88aba36f6215",
            "a5b36c2dd2584176b7e3410720b1b4e3",
            "1dddba79d5c943cb97bf6c12fde2f436",
            "57bb5f9fd41c4ef1abaa364db291a951",
            "4df9a6292cd1438591ab05e78e8c5435",
            "f6dc6e51661b485b978ab28ce9fa72fe",
            "4d34b9863fc940dbaec9a6557a456b68",
            "c8f6d15ac6b447f8b4ca7031a553ceff",
            "2f351a650db54f7aaf8830f40db38448",
            "0669bccf25d846fb8fc3601fab96505b",
            "09b1a83846734aec9e42c158ba96dc6f",
            "3857e007309845f99067ecf689f00b1b",
            "8d0312368618464481bb5d67515dc91d",
            "b8ecb35f8e674a36aba70e3b90e752f8",
            "95946b6e9e7442f5b342855f5d4956e6",
            "f33c7d1fe2a94bd0ad584393d4983809",
            "b33f78fefa2544de97c470fa75e3cc89",
            "9a0e539099624308be1d4a2d75cd5374",
            "37664e9a015e41dbb5d09b0502092b16",
            "c3668f6cfaec4f3ea567401dd1a8d9d5",
            "90d8bac5b5b24430967ea899f9cee0a2",
            "da7445a84f504a57983a9b63fc564283",
            "29ba1c5bcbcc402587cf25a32c1f752b",
            "ab7b41a530454fe4a2c8054c50eef32c",
            "e534329b34b74fee87020256e1204cca",
            "0d145047d6644766a51f1dbadfe822ef",
            "21c1fb65fed54fb484c35a909bdf3daa",
            "3e0e7e9b433346b4ba4a8b31952f77e6",
            "b9373b13e5474424b184478efeed1156",
            "6eb812a09e0a4fb699e727553c66565f"
          ]
        },
        "id": "GHmOVxnnHYU_",
        "outputId": "e6cfcb90-2a02-4659-f47f-9316dd14fbd8"
      },
      "execution_count": null,
      "outputs": [
        {
          "output_type": "stream",
          "name": "stderr",
          "text": [
            "\u001b[34m\u001b[1mwandb\u001b[0m: Currently logged in as: \u001b[33mkjartan\u001b[0m (\u001b[33mkrankile\u001b[0m). Use \u001b[1m`wandb login --relogin`\u001b[0m to force relogin\n"
          ]
        },
        {
          "output_type": "display_data",
          "data": {
            "text/plain": [
              "<IPython.core.display.HTML object>"
            ],
            "text/html": [
              "Tracking run with wandb version 0.12.16"
            ]
          },
          "metadata": {}
        },
        {
          "output_type": "display_data",
          "data": {
            "text/plain": [
              "<IPython.core.display.HTML object>"
            ],
            "text/html": [
              "Run data is saved locally in <code>/content/wandb/run-20220515_122127-37mo8j3f</code>"
            ]
          },
          "metadata": {}
        },
        {
          "output_type": "display_data",
          "data": {
            "text/plain": [
              "<IPython.core.display.HTML object>"
            ],
            "text/html": [
              "Syncing run <strong><a href=\"https://wandb.ai/krankile/master-test/runs/37mo8j3f\" target=\"_blank\">gallant-flower-250</a></strong> to <a href=\"https://wandb.ai/krankile/master-test\" target=\"_blank\">Weights & Biases</a> (<a href=\"https://wandb.me/run\" target=\"_blank\">docs</a>)<br/>"
            ]
          },
          "metadata": {}
        },
        {
          "output_type": "stream",
          "name": "stderr",
          "text": [
            "\u001b[34m\u001b[1mwandb\u001b[0m: Downloading large artifact stock-oil-final:latest, 77.63MB. 1 files... Done. 0:0:0\n"
          ]
        },
        {
          "output_type": "display_data",
          "data": {
            "text/plain": [
              "<IPython.core.display.HTML object>"
            ],
            "text/html": [
              "Waiting for W&B process to finish... <strong style=\"color:green\">(success).</strong>"
            ]
          },
          "metadata": {}
        },
        {
          "output_type": "display_data",
          "data": {
            "text/plain": [
              "VBox(children=(Label(value='0.000 MB of 0.000 MB uploaded (0.000 MB deduped)\\r'), FloatProgress(value=1.0, max…"
            ],
            "application/vnd.jupyter.widget-view+json": {
              "version_major": 2,
              "version_minor": 0,
              "model_id": "eb26442190c74800a2aa2f941e3375d2"
            }
          },
          "metadata": {}
        },
        {
          "output_type": "display_data",
          "data": {
            "text/plain": [
              "<IPython.core.display.HTML object>"
            ],
            "text/html": [
              "Synced <strong style=\"color:#cdcd00\">gallant-flower-250</strong>: <a href=\"https://wandb.ai/krankile/master-test/runs/37mo8j3f\" target=\"_blank\">https://wandb.ai/krankile/master-test/runs/37mo8j3f</a><br/>Synced 5 W&B file(s), 0 media file(s), 0 artifact file(s) and 0 other file(s)"
            ]
          },
          "metadata": {}
        },
        {
          "output_type": "display_data",
          "data": {
            "text/plain": [
              "<IPython.core.display.HTML object>"
            ],
            "text/html": [
              "Find logs at: <code>./wandb/run-20220515_122127-37mo8j3f/logs</code>"
            ]
          },
          "metadata": {}
        },
        {
          "output_type": "display_data",
          "data": {
            "text/plain": [
              "<IPython.core.display.HTML object>"
            ],
            "text/html": [
              "Tracking run with wandb version 0.12.16"
            ]
          },
          "metadata": {}
        },
        {
          "output_type": "display_data",
          "data": {
            "text/plain": [
              "<IPython.core.display.HTML object>"
            ],
            "text/html": [
              "Run data is saved locally in <code>/content/wandb/run-20220515_122142-37j7crtm</code>"
            ]
          },
          "metadata": {}
        },
        {
          "output_type": "display_data",
          "data": {
            "text/plain": [
              "<IPython.core.display.HTML object>"
            ],
            "text/html": [
              "Syncing run <strong><a href=\"https://wandb.ai/krankile/master-test/runs/37j7crtm\" target=\"_blank\">colorful-shadow-251</a></strong> to <a href=\"https://wandb.ai/krankile/master-test\" target=\"_blank\">Weights & Biases</a> (<a href=\"https://wandb.me/run\" target=\"_blank\">docs</a>)<br/>"
            ]
          },
          "metadata": {}
        },
        {
          "output_type": "display_data",
          "data": {
            "text/plain": [
              "<IPython.core.display.HTML object>"
            ],
            "text/html": [
              "Waiting for W&B process to finish... <strong style=\"color:green\">(success).</strong>"
            ]
          },
          "metadata": {}
        },
        {
          "output_type": "display_data",
          "data": {
            "text/plain": [
              "VBox(children=(Label(value='0.000 MB of 0.000 MB uploaded (0.000 MB deduped)\\r'), FloatProgress(value=1.0, max…"
            ],
            "application/vnd.jupyter.widget-view+json": {
              "version_major": 2,
              "version_minor": 0,
              "model_id": "4d34b9863fc940dbaec9a6557a456b68"
            }
          },
          "metadata": {}
        },
        {
          "output_type": "display_data",
          "data": {
            "text/plain": [
              "<IPython.core.display.HTML object>"
            ],
            "text/html": [
              "Synced <strong style=\"color:#cdcd00\">colorful-shadow-251</strong>: <a href=\"https://wandb.ai/krankile/master-test/runs/37j7crtm\" target=\"_blank\">https://wandb.ai/krankile/master-test/runs/37j7crtm</a><br/>Synced 4 W&B file(s), 0 media file(s), 0 artifact file(s) and 0 other file(s)"
            ]
          },
          "metadata": {}
        },
        {
          "output_type": "display_data",
          "data": {
            "text/plain": [
              "<IPython.core.display.HTML object>"
            ],
            "text/html": [
              "Find logs at: <code>./wandb/run-20220515_122142-37j7crtm/logs</code>"
            ]
          },
          "metadata": {}
        },
        {
          "output_type": "display_data",
          "data": {
            "text/plain": [
              "<IPython.core.display.HTML object>"
            ],
            "text/html": [
              "Tracking run with wandb version 0.12.16"
            ]
          },
          "metadata": {}
        },
        {
          "output_type": "display_data",
          "data": {
            "text/plain": [
              "<IPython.core.display.HTML object>"
            ],
            "text/html": [
              "Run data is saved locally in <code>/content/wandb/run-20220515_122151-17epuy3g</code>"
            ]
          },
          "metadata": {}
        },
        {
          "output_type": "display_data",
          "data": {
            "text/plain": [
              "<IPython.core.display.HTML object>"
            ],
            "text/html": [
              "Syncing run <strong><a href=\"https://wandb.ai/krankile/master-test/runs/17epuy3g\" target=\"_blank\">celestial-firefly-252</a></strong> to <a href=\"https://wandb.ai/krankile/master-test\" target=\"_blank\">Weights & Biases</a> (<a href=\"https://wandb.me/run\" target=\"_blank\">docs</a>)<br/>"
            ]
          },
          "metadata": {}
        },
        {
          "output_type": "display_data",
          "data": {
            "text/plain": [
              "<IPython.core.display.HTML object>"
            ],
            "text/html": [
              "Waiting for W&B process to finish... <strong style=\"color:green\">(success).</strong>"
            ]
          },
          "metadata": {}
        },
        {
          "output_type": "display_data",
          "data": {
            "text/plain": [
              "VBox(children=(Label(value='0.000 MB of 0.000 MB uploaded (0.000 MB deduped)\\r'), FloatProgress(value=1.0, max…"
            ],
            "application/vnd.jupyter.widget-view+json": {
              "version_major": 2,
              "version_minor": 0,
              "model_id": "95946b6e9e7442f5b342855f5d4956e6"
            }
          },
          "metadata": {}
        },
        {
          "output_type": "display_data",
          "data": {
            "text/plain": [
              "<IPython.core.display.HTML object>"
            ],
            "text/html": [
              "Synced <strong style=\"color:#cdcd00\">celestial-firefly-252</strong>: <a href=\"https://wandb.ai/krankile/master-test/runs/17epuy3g\" target=\"_blank\">https://wandb.ai/krankile/master-test/runs/17epuy3g</a><br/>Synced 4 W&B file(s), 0 media file(s), 0 artifact file(s) and 0 other file(s)"
            ]
          },
          "metadata": {}
        },
        {
          "output_type": "display_data",
          "data": {
            "text/plain": [
              "<IPython.core.display.HTML object>"
            ],
            "text/html": [
              "Find logs at: <code>./wandb/run-20220515_122151-17epuy3g/logs</code>"
            ]
          },
          "metadata": {}
        },
        {
          "output_type": "display_data",
          "data": {
            "text/plain": [
              "<IPython.core.display.HTML object>"
            ],
            "text/html": [
              "Tracking run with wandb version 0.12.16"
            ]
          },
          "metadata": {}
        },
        {
          "output_type": "display_data",
          "data": {
            "text/plain": [
              "<IPython.core.display.HTML object>"
            ],
            "text/html": [
              "Run data is saved locally in <code>/content/wandb/run-20220515_122201-1c0wfmq2</code>"
            ]
          },
          "metadata": {}
        },
        {
          "output_type": "display_data",
          "data": {
            "text/plain": [
              "<IPython.core.display.HTML object>"
            ],
            "text/html": [
              "Syncing run <strong><a href=\"https://wandb.ai/krankile/master-test/runs/1c0wfmq2\" target=\"_blank\">confused-armadillo-253</a></strong> to <a href=\"https://wandb.ai/krankile/master-test\" target=\"_blank\">Weights & Biases</a> (<a href=\"https://wandb.me/run\" target=\"_blank\">docs</a>)<br/>"
            ]
          },
          "metadata": {}
        },
        {
          "output_type": "display_data",
          "data": {
            "text/plain": [
              "<IPython.core.display.HTML object>"
            ],
            "text/html": [
              "Waiting for W&B process to finish... <strong style=\"color:green\">(success).</strong>"
            ]
          },
          "metadata": {}
        },
        {
          "output_type": "display_data",
          "data": {
            "text/plain": [
              "VBox(children=(Label(value='0.000 MB of 0.000 MB uploaded (0.000 MB deduped)\\r'), FloatProgress(value=1.0, max…"
            ],
            "application/vnd.jupyter.widget-view+json": {
              "version_major": 2,
              "version_minor": 0,
              "model_id": "29ba1c5bcbcc402587cf25a32c1f752b"
            }
          },
          "metadata": {}
        },
        {
          "output_type": "display_data",
          "data": {
            "text/plain": [
              "<IPython.core.display.HTML object>"
            ],
            "text/html": [
              "Synced <strong style=\"color:#cdcd00\">confused-armadillo-253</strong>: <a href=\"https://wandb.ai/krankile/master-test/runs/1c0wfmq2\" target=\"_blank\">https://wandb.ai/krankile/master-test/runs/1c0wfmq2</a><br/>Synced 4 W&B file(s), 0 media file(s), 0 artifact file(s) and 0 other file(s)"
            ]
          },
          "metadata": {}
        },
        {
          "output_type": "display_data",
          "data": {
            "text/plain": [
              "<IPython.core.display.HTML object>"
            ],
            "text/html": [
              "Find logs at: <code>./wandb/run-20220515_122201-1c0wfmq2/logs</code>"
            ]
          },
          "metadata": {}
        }
      ]
    },
    {
      "cell_type": "markdown",
      "source": [
        "# Define a dataset which can iterate through time "
      ],
      "metadata": {
        "id": "CV5EqsYaPA0p"
      }
    },
    {
      "cell_type": "markdown",
      "source": [
        "We want to train our neural network like the person experiences the world. I.e. we have a window of time and look at recent financial rapports, macro variables to predict future market capitalization. We want to train multiple epochs over one time window and validation period, in this manner we will not have any \"learned future\" effect which could occur if one were to have epochs run over the all time windows. "
      ],
      "metadata": {
        "id": "QCwNqchQPIH5"
      }
    },
    {
      "cell_type": "code",
      "source": [
        "class TimeDeltaDataset(Dataset):\n",
        "    \n",
        "    def _get_last_q_fundamentals(self, target, fundamental_df, q):\n",
        "        for key, df in tqdm(fundamental_df.groupby(by=\"ticker\")):\n",
        "            \n",
        "            padding = pd.DataFrame(np.empty((q, fundamental_df.loc[:,\"revenue\":].shape[1])),columns=df.loc[:,\"revenue\":].columns)\n",
        "            padding[:] = np.nan\n",
        "            padded_df = pd.concat([padding, df.loc[:,\"revenue\":]] , axis=0)\n",
        "            \n",
        "            target = pd.concat([target, padded_df.iloc[-q:,:]],axis=0)\n",
        "        return target         \n",
        "    \n",
        "    def _get_global_local_column(self, stock_df):\n",
        "        last_market_cap_col = pd.Series()\n",
        "        for ticker, df in stock_df.groupby(by=\"ticker\"):\n",
        "            last_market_cap_col[ticker] = stock_df.market_cap.iloc[df.market_cap.last_valid_index()]\n",
        "\n",
        "        min_max_scaler = MinMaxScaler()\n",
        "        \n",
        "        #Add column to learn relative values\n",
        "        apple_market_cap = 2.687*(10**12) #ish as of may 2022 (USD)\n",
        "        \n",
        "        relative_to_global_market_column = last_market_cap_col / apple_market_cap\n",
        "       \n",
        "        relative_to_current_market_column = min_max_scaler.fit_transform(last_market_cap_col.to_numpy().reshape((-1,1)))\n",
        "        relative_to_current_market_column = pd.Series(relative_to_current_market_column[:,0], index=last_market_cap_col.index) \n",
        "\n",
        "        return relative_to_global_market_column, relative_to_current_market_column, last_market_cap_col\n",
        "    \n",
        "    def _get_stocks_in_timeframe(self, stock_df, stock_dates, min_max_scaler=True):\n",
        "        #TODO this needs a speedup when getting forecasts \n",
        "        to_be_transposed = pd.DataFrame(index=stock_dates)\n",
        "\n",
        "        for i, (ticker, df) in enumerate(tqdm(stock_df.groupby(by=\"ticker\"))):\n",
        "            \n",
        "            if min_max_scaler:\n",
        "                min_max_scaler = MinMaxScaler()\n",
        "                \n",
        "                df.market_cap = min_max_scaler.fit_transform(df.market_cap.to_numpy().reshape((-1,1)))\n",
        "            \n",
        "            ticker_df = pd.DataFrame(df[[\"date\", \"market_cap\"]]).set_index(\"date\",drop=True).rename(columns={\"market_cap\":ticker})\n",
        "            \n",
        "            to_be_transposed = to_be_transposed.join(ticker_df)\n",
        "            if i % 50 and i != 0:\n",
        "                to_be_transposed = to_be_transposed.loc[~to_be_transposed.index.duplicated(),:]\n",
        "        \n",
        "        return to_be_transposed.T.loc[:,~to_be_transposed.T.columns.duplicated()]\n",
        "    \n",
        "    def _get_macro_normalized(self, legal_macro_df, macro_df):\n",
        "        df = legal_macro_df.copy()\n",
        "        for column in [c for c in legal_macro_df.columns if (c != \"date\") and (\"_fx\" not in c)]:\n",
        "            df[column] = legal_macro_df[column]/ (int(math.ceil(macro_df[column].max() / 100.0)) * 100)\n",
        "        return df\n",
        "\n",
        "    def __init__(self, current_time, forecast_window, number_of_trading_days, q_quarterly_rapports, stock_df, fundamental_df, meta_df, macro_df):\n",
        "        back_in_time = timedelta(number_of_trading_days)\n",
        "        forecast_horizon = timedelta(forecast_window)\n",
        "\n",
        "        legal_stock_df = stock_df[(stock_df.date >= current_time - back_in_time) & (stock_df.date < current_time)] #TODO change to current_time - stock__macro_days_lookback_days\n",
        "        legal_fundamental_df = fundamental_df[fundamental_df.announce_date < current_time]\n",
        "        legal_meta_df = meta_df.set_index(\"ticker\")\n",
        "        \n",
        "        legal_macro_df = macro_df[(macro_df.date >= current_time - back_in_time) & (stock_df.date < current_time)] #TODO change to current_time - stock__macro_days_lookback_days\n",
        "        \n",
        "        #Important dimensions\n",
        "        n_companies_with_fundamentals = len(legal_fundamental_df.ticker.unique())\n",
        "        m_fundamentals = legal_fundamental_df.loc[:,\"revenue\":].shape[1]\n",
        "\n",
        "        #Get last q fundamentals and return NA rows if they are still missing\n",
        "        fundamental_df_all_quarters = pd.DataFrame(data=np.empty((0,m_fundamentals)),columns=fundamental_df.loc[:,\"revenue\":].columns)   \n",
        "        fundamental_df_all_quarters = self._get_last_q_fundamentals(fundamental_df_all_quarters, legal_fundamental_df, q_quarterly_rapports)\n",
        "        fundamentals = fundamental_df_all_quarters.to_numpy().reshape((n_companies_with_fundamentals, q_quarterly_rapports*m_fundamentals))\n",
        "        \n",
        "        #Construct columns for relative information \n",
        "        relative_to_global_market_column, relative_to_current_market_column, last_market_cap_col = self._get_global_local_column(stock_df)\n",
        "        \n",
        "        #Create dataframe\n",
        "        historic_dates = pd.date_range(start=current_time-back_in_time, end=current_time, freq=\"D\")\n",
        "        forecast_dates = pd.date_range(start=current_time+timedelta(1), end=current_time+forecast_horizon, freq=\"D\")\n",
        "\n",
        "        fund_columns = []\n",
        "        for i in range(q_quarterly_rapports):\n",
        "            fund_columns.extend(fundamental_df.loc[0,\"revenue\":].index.to_series().map(lambda title: f\"{title}_q=-{q_quarterly_rapports-i}\"))    \n",
        "        columns =  [\"global_relative\"] + [\"peers_relative\"] + fund_columns\n",
        "        fundamental_df = pd.DataFrame(index=legal_fundamental_df.ticker.unique(), columns=columns)\n",
        "        \n",
        "        #Load data\n",
        "        fundamental_df[\"peers_relative\"]  = relative_to_current_market_column.loc[legal_fundamental_df.ticker.unique()]\n",
        "        fundamental_df[\"global_relative\"] = relative_to_global_market_column.loc[legal_fundamental_df.ticker.unique()]\n",
        "\n",
        "        formated_stocks = self._get_stocks_in_timeframe(legal_stock_df, historic_dates)\n",
        "         \n",
        "        fundamental_df.loc[:,f\"revenue_q={-q_quarterly_rapports}\":\"net_income_p_q=-1\"] = fundamentals\n",
        "        for q in range(q_quarterly_rapports,0,-1):\n",
        "            fundamental_df.loc[:,f\"revenue_q={-q}\":f\"fcf_q={-q}\"] = fundamental_df.loc[:,f\"revenue_q={-q}\":f\"fcf_q={-q}\"].div(last_market_cap_col, axis=0)\n",
        "            fundamental_df.loc[:,f\"total_assets_q={-q}\":f\"total_current_liabilities_q={-q}\"] = fundamental_df.loc[:,f\"total_assets_q={-q}\":f\"total_current_liabilities_q={-q}\"].div(fundamental_df.loc[:,f\"total_assets_q={-q}\"], axis=0)\n",
        "            fundamental_df = fundamental_df.drop(columns=f\"total_assets_q={-q}\")\n",
        "\n",
        "        self.stocks_and_fundamentals = formated_stocks.join(fundamental_df)\n",
        "        \n",
        "        # Get forecasts\n",
        "        \n",
        "        forecasts = stock_df[(stock_df.date > current_time) & (stock_df.date <= current_time + forecast_horizon)]\n",
        "        \n",
        "        forecasts_unormalized = self._get_stocks_in_timeframe(forecasts, forecast_dates, min_max_scaler=False)\n",
        "        forecasts_normalized = forecasts_unormalized.div(last_market_cap_col, axis=0)\n",
        "        self.forecast = forecasts_normalized.loc[self.stocks_and_fundamentals.index,:]\n",
        "        \n",
        "        #Join meta and stock-fundamentals\n",
        "        legal_meta_df = legal_meta_df.loc[self.stocks_and_fundamentals.index,:] \n",
        "        legal_meta_df.loc[:,\"exchange_code\":\"state_province_hq\"] = legal_meta_df.loc[:,\"exchange_code\":\"state_province_hq\"].astype(\"category\")\n",
        "        legal_meta_df.loc[:,\"economic_sector\":\"activity\"] = legal_meta_df.loc[:,\"economic_sector\":\"activity\"].astype(\"category\")\n",
        "        \n",
        "        legal_meta_df[\"founding_year\"] = legal_meta_df[\"founding_year\"]/2000  \n",
        "        self.meta_df = legal_meta_df\n",
        "        \n",
        "        #Ready macro data\n",
        "        self.macro_df = self._get_macro_normalized(legal_macro_df, macro_df).iloc[:,1:]\n",
        "\n",
        "\n",
        "    def __len__(self):\n",
        "        return self.stocks_and_fundamentals.shape[0]\n",
        "\n",
        "    def __getitem__(self, idx):\n",
        "        \n",
        "        return (self.stocks_and_fundamentals.iloc[idx,:].values, self.legal_meta_df.iloc[idx,:].values, self.macro_df.T.values().reshape((1,-1))), self.forecast.iloc[idx,:]"
      ],
      "metadata": {
        "id": "xW2ud-LpQOGI"
      },
      "execution_count": null,
      "outputs": []
    },
    {
      "cell_type": "code",
      "source": [
        "current_time = pd.to_datetime(\"2020-01-01\")\n",
        "number_of_quarterly_rapports = 4\n",
        "number_of_trading_days = 365\n",
        "forecast_window = 30\n",
        "\n",
        "delta_set = TimeDeltaDataset(current_time, forecast_window, number_of_trading_days, number_of_quarterly_rapports, stock_df, fundamentals_df, meta_df, macro_df)"
      ],
      "metadata": {
        "colab": {
          "base_uri": "https://localhost:8080/"
        },
        "id": "Sb7OVdkI7rra",
        "outputId": "445005c5-c9ee-47bd-8146-bf991e5f980b"
      },
      "execution_count": null,
      "outputs": [
        {
          "output_type": "stream",
          "name": "stderr",
          "text": [
            "/usr/local/lib/python3.7/dist-packages/ipykernel_launcher.py:63: UserWarning: Boolean Series key will be reindexed to match DataFrame index.\n",
            "100%|██████████| 862/862 [00:08<00:00, 101.56it/s]\n",
            "/usr/local/lib/python3.7/dist-packages/ipykernel_launcher.py:14: DeprecationWarning: The default dtype for empty Series will be 'object' instead of 'float64' in a future version. Specify a dtype explicitly to silence this warning.\n",
            "  \n",
            "100%|██████████| 866/866 [00:05<00:00, 157.62it/s]\n",
            "100%|██████████| 864/864 [00:50<00:00, 17.20it/s]\n"
          ]
        }
      ]
    },
    {
      "cell_type": "markdown",
      "source": [
        "# Run the loop! (Like Odd-Geir Lademo)"
      ],
      "metadata": {
        "id": "s5zbIHNQHUNH"
      }
    },
    {
      "cell_type": "markdown",
      "source": [
        "![picture](https://drive.google.com/uc?id=1Y55gFQSi4Baovmi0kUQGhbgGOBTI03E7)\n"
      ],
      "metadata": {
        "id": "tA8fn-daswS4"
      }
    },
    {
      "cell_type": "code",
      "source": [
        "def train_multivar(model, optimizer, loss_fn, data_train, data_val, one_hot_encoding, batch_number, forecast_window, epochs, device):\n",
        "\n",
        "# print(model)\n",
        "train_losses = []\n",
        "val_losses = []\n",
        "it = tqdm(range(epochs), disable=True)\n",
        "for epoch in it: \n",
        "    for run_type in [\"train\", \"val\"]:\n",
        "        model.train(run_type == \"train\")\n",
        "\n",
        "        if run_type == \"train\":\n",
        "            optimizer.zero_grad()\n",
        "\n",
        "            mu, sigma = 0, 0.1\n",
        "            noise = np.random.normal(mu, sigma, data_train.shape)\n",
        "            noise[:,-forecast_window:] = 0\n",
        "\n",
        "            data_train = data_train + noise\n",
        "            data_encoded = pd.concat([one_hot_encoding, data_train], axis=1, join=\"inner\")\n",
        "\n",
        "        else:\n",
        "            data_encoded = pd.concat([one_hot_encoding, data_val], axis=1, join=\"inner\")\n",
        "\n",
        "        data_shuffled = torch.tensor(data_encoded.sample(frac=1).values, dtype=torch.float32)\n",
        "\n",
        "        for batch in torch.split(data_shuffled, batch_number, dim=0):\n",
        "\n",
        "            inputs = batch[:,:-forecast_window].to(device)\n",
        "            actuals = batch[:,-forecast_window:].to(device)\n",
        "\n",
        "            pred = model(inputs[:, 3:], inputs[:, 0:3])\n",
        "            loss = loss_fn(pred, actuals)\n",
        "\n",
        "            if run_type == \"train\":\n",
        "                train_losses.append(loss.item())\n",
        "                loss.backward()\n",
        "\n",
        "                optimizer.step()\n",
        "            else:\n",
        "                val_losses.append(loss.item())\n",
        "\n",
        "    it.set_postfix({\"train_loss\": np.mean(train_losses), \"val_loss\": np.mean(val_losses)})\n",
        "\n",
        "return train_losses, val_losses"
      ],
      "metadata": {
        "id": "lRHUgmiYTrC-",
        "colab": {
          "base_uri": "https://localhost:8080/",
          "height": 135
        },
        "outputId": "0b68dab7-e123-44ec-ade9-aa7dc33c41b6"
      },
      "execution_count": null,
      "outputs": [
        {
          "output_type": "error",
          "ename": "IndentationError",
          "evalue": "ignored",
          "traceback": [
            "\u001b[0;36m  File \u001b[0;32m\"<ipython-input-12-27590b8b6a1f>\"\u001b[0;36m, line \u001b[0;32m4\u001b[0m\n\u001b[0;31m    train_losses = []\u001b[0m\n\u001b[0m               ^\u001b[0m\n\u001b[0;31mIndentationError\u001b[0m\u001b[0;31m:\u001b[0m expected an indented block\n"
          ]
        }
      ]
    },
    {
      "cell_type": "code",
      "source": [
        "def run_multivar(hidden_dim):\n",
        "    #Training loop params\n",
        "    forecast_window = 16\n",
        "    amount_of_time_series = 999\n",
        "    length_of_time_series = 500\n",
        "    epochs = 200\n",
        "    batch_size = 111\n",
        "    \n",
        "\n",
        "\n",
        "    #_, TS_signal, one_hot_encoding  = time_series_df(amount_of_time_series,length_of_time_series,periods, horisontal_shift, vertical_shift, forecast_window)\n",
        "\n",
        "    df_train = TS_signal.iloc[-int(amount_of_time_series/3):,:]\n",
        "    df_val = TS_signal.iloc[:-int(amount_of_time_series/3),:]\n",
        "\n",
        "    loss_fn = nn.L1Loss()\n",
        "    \n",
        "    model = MultivariateNetwork(length_of_time_series, one_hot_encoding.shape[1], forecast_window, hidden_dim)\n",
        "    model = model.to(device)\n",
        "    optimizer = torch.optim.Adam(model.parameters(), lr=0.001)\n",
        "\n",
        "    return train_multivar(model, optimizer, loss_fn, df_train, df_val, one_hot_encoding, batch_size, forecast_window, epochs, device)"
      ],
      "metadata": {
        "id": "bkgR_5stGCTm"
      },
      "execution_count": null,
      "outputs": []
    }
  ]
}