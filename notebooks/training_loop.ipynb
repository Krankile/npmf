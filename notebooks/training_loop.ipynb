{
  "nbformat": 4,
  "nbformat_minor": 0,
  "metadata": {
    "colab": {
      "name": "training_loop.ipynb",
      "provenance": [],
      "collapsed_sections": [],
      "machine_shape": "hm",
      "include_colab_link": true
    },
    "kernelspec": {
      "name": "python3",
      "display_name": "Python 3"
    },
    "language_info": {
      "name": "python"
    },
    "accelerator": "GPU"
  },
  "cells": [
    {
      "cell_type": "markdown",
      "metadata": {
        "id": "view-in-github",
        "colab_type": "text"
      },
      "source": [
        "<a href=\"https://colab.research.google.com/github/Krankile/npmf/blob/main/notebooks/training_loop.ipynb\" target=\"_parent\"><img src=\"https://colab.research.google.com/assets/colab-badge.svg\" alt=\"Open In Colab\"/></a>"
      ]
    },
    {
      "cell_type": "markdown",
      "source": [
        "# Setup"
      ],
      "metadata": {
        "id": "d8F5tl4NL7FZ"
      }
    },
    {
      "cell_type": "markdown",
      "source": [
        "## Kernel setup"
      ],
      "metadata": {
        "id": "Rwo44VGZLhAo"
      }
    },
    {
      "cell_type": "code",
      "source": [
        "%load_ext autoreload\n",
        "%autoreload 2"
      ],
      "metadata": {
        "id": "hKuFzk7aEmB9"
      },
      "execution_count": 1,
      "outputs": []
    },
    {
      "cell_type": "code",
      "source": [
        "%%capture\n",
        "!pip install wandb\n",
        "!git clone https://github.com/Krankile/npmf.git"
      ],
      "metadata": {
        "id": "91KPY7q0LUOw"
      },
      "execution_count": 2,
      "outputs": []
    },
    {
      "cell_type": "code",
      "source": [
        "!wandb login"
      ],
      "metadata": {
        "id": "gUXnibj8YEi1",
        "colab": {
          "base_uri": "https://localhost:8080/"
        },
        "outputId": "57255918-0c98-4843-a49a-541a191b5c3f"
      },
      "execution_count": 3,
      "outputs": [
        {
          "output_type": "stream",
          "name": "stdout",
          "text": [
            "\u001b[34m\u001b[1mwandb\u001b[0m: Currently logged in as: \u001b[33mankile\u001b[0m (\u001b[33mkrankile\u001b[0m). Use \u001b[1m`wandb login --relogin`\u001b[0m to force relogin\n"
          ]
        }
      ]
    },
    {
      "cell_type": "markdown",
      "source": [
        "## General setup"
      ],
      "metadata": {
        "id": "CLAlA0htLgMY"
      }
    },
    {
      "cell_type": "code",
      "source": [
        "%%capture\n",
        "!cd npmf && git pull\n",
        "\n",
        "import math\n",
        "import multiprocessing\n",
        "import os\n",
        "import pickle\n",
        "from collections import Counter, defaultdict\n",
        "from dataclasses import asdict, dataclass\n",
        "from datetime import datetime, timedelta\n",
        "from operator import itemgetter\n",
        "from typing import Callable, List, Tuple\n",
        "from functools import partial\n",
        "from glob import glob\n",
        "\n",
        "\n",
        "from more_itertools import chunked\n",
        "\n",
        "import matplotlib as mpl\n",
        "import matplotlib.pyplot as plt\n",
        "import numpy as np\n",
        "import pandas as pd\n",
        "import torch\n",
        "\n",
        "from npmf.utils.colors import main, main2, main3\n",
        "from npmf.utils.dataset import TimeDeltaDataset, EraDataset\n",
        "from npmf.utils.dtypes import fundamental_types\n",
        "from npmf.utils.eikon import column_mapping\n",
        "from npmf.utils.tests.utils import pickle_df\n",
        "from npmf.utils.wandb import get_datasets, put_dataset, put_nn_model\n",
        "from npmf.utils.training import EarlyStop, to_device, TqdmPostFix, loss_fns\n",
        "from npmf.utils.models import models\n",
        "\n",
        "from numpy.ma.core import outerproduct\n",
        "from pandas.tseries.offsets import BDay, Day\n",
        "from sklearn.preprocessing import MinMaxScaler, minmax_scale\n",
        "from torch import nn\n",
        "from torch.utils.data import DataLoader, Dataset\n",
        "\n",
        "import wandb as wb"
      ],
      "metadata": {
        "id": "1QSlgObXLq1p"
      },
      "execution_count": 4,
      "outputs": []
    },
    {
      "cell_type": "code",
      "source": [
        "np.seterr(all=\"raise\")\n",
        "\n",
        "mpl.rcParams['axes.prop_cycle'] = mpl.cycler(color=[main, main2, main3, \"black\"])\n",
        "mpl.rcParams['figure.figsize'] = (6, 4)  # (6, 4) is default and used in the paper"
      ],
      "metadata": {
        "id": "hkTjKKLmLvpl"
      },
      "execution_count": 5,
      "outputs": []
    },
    {
      "cell_type": "code",
      "source": [
        "device = \"cuda\" if torch.cuda.is_available() else \"cpu\"\n",
        "print(f\"Using {device} device\")"
      ],
      "metadata": {
        "id": "Dqy02oAvY7GM",
        "colab": {
          "base_uri": "https://localhost:8080/"
        },
        "outputId": "ff4c6d35-ce61-4ac3-d0cb-138c7e861a76"
      },
      "execution_count": 6,
      "outputs": [
        {
          "output_type": "stream",
          "name": "stdout",
          "text": [
            "Using cuda device\n"
          ]
        }
      ]
    },
    {
      "cell_type": "code",
      "source": [
        "gpu_info = !nvidia-smi\n",
        "gpu_info = '\\n'.join(gpu_info)\n",
        "if gpu_info.find('failed') >= 0:\n",
        "  print('Not connected to a GPU')\n",
        "else:\n",
        "  print(gpu_info)"
      ],
      "metadata": {
        "colab": {
          "base_uri": "https://localhost:8080/"
        },
        "id": "cy50qmXr5_8V",
        "outputId": "3831abdd-fbd6-423d-bb76-96024a9f1be4"
      },
      "execution_count": 7,
      "outputs": [
        {
          "output_type": "stream",
          "name": "stdout",
          "text": [
            "Wed Jun  1 19:46:06 2022       \n",
            "+-----------------------------------------------------------------------------+\n",
            "| NVIDIA-SMI 460.32.03    Driver Version: 460.32.03    CUDA Version: 11.2     |\n",
            "|-------------------------------+----------------------+----------------------+\n",
            "| GPU  Name        Persistence-M| Bus-Id        Disp.A | Volatile Uncorr. ECC |\n",
            "| Fan  Temp  Perf  Pwr:Usage/Cap|         Memory-Usage | GPU-Util  Compute M. |\n",
            "|                               |                      |               MIG M. |\n",
            "|===============================+======================+======================|\n",
            "|   0  Tesla T4            Off  | 00000000:00:04.0 Off |                    0 |\n",
            "| N/A   67C    P8    12W /  70W |      3MiB / 15109MiB |      0%      Default |\n",
            "|                               |                      |                  N/A |\n",
            "+-------------------------------+----------------------+----------------------+\n",
            "                                                                               \n",
            "+-----------------------------------------------------------------------------+\n",
            "| Processes:                                                                  |\n",
            "|  GPU   GI   CI        PID   Type   Process name                  GPU Memory |\n",
            "|        ID   ID                                                   Usage      |\n",
            "|=============================================================================|\n",
            "|  No running processes found                                                 |\n",
            "+-----------------------------------------------------------------------------+\n"
          ]
        }
      ]
    },
    {
      "cell_type": "code",
      "source": [
        "pre_proc_data_dir = None\n",
        "np.random.seed(69)"
      ],
      "metadata": {
        "id": "YVFtfDk0pYtd"
      },
      "execution_count": 8,
      "outputs": []
    },
    {
      "cell_type": "markdown",
      "source": [
        "\n",
        "# Get some data"
      ],
      "metadata": {
        "id": "PGuFgO6jHPWX"
      }
    },
    {
      "cell_type": "code",
      "source": [
        "%%capture\n",
        "reload_data = True\n",
        "\n",
        "if reload_data or not \"stock_df\" in vars():\n",
        "    names = [\"stock-data:final\", \"fundamental-data:final\", \"meta-data:final\", \"macro-data:final\"]\n",
        "\n",
        "    stock_df, fundamental_df, meta_df, macro_df = get_datasets(names=names, project=\"master\")\n",
        "\n",
        "    stock_df = stock_df.drop(columns=[\"close_price\", \"currency\"]).astype({\"market_cap\": np.float32})\n",
        "    fundamental_df = fundamental_df.drop(columns=\"period_end_date\").astype(fundamental_types)\n",
        "    macro_df.iloc[:, 1:] = macro_df.iloc[:, 1:].astype(np.float32)"
      ],
      "metadata": {
        "id": "GHmOVxnnHYU_"
      },
      "execution_count": 9,
      "outputs": []
    },
    {
      "cell_type": "code",
      "source": [
        "%%capture\n",
        "reload_proc_data = True\n",
        "\n",
        "if reload_proc_data or not \"pre_proc_data_dir\" in vars():\n",
        "    with wb.init(job_type=\"get-data\", project=\"master\", entity=\"krankile\") as run:\n",
        "        art = run.use_artifact(\"era-datasets:v0\")\n",
        "        pre_proc_data_dir = art.download()"
      ],
      "metadata": {
        "id": "iZ7BM-BIDTZG"
      },
      "execution_count": 10,
      "outputs": []
    },
    {
      "cell_type": "markdown",
      "source": [
        "## Define a class to handle information across eras"
      ],
      "metadata": {
        "id": "txepzrB_QFNE"
      }
    },
    {
      "cell_type": "code",
      "source": [
        "class EraController:\n",
        "    def __init__(\n",
        "        self,\n",
        "        start_date,\n",
        "        end_metric_start_date,\n",
        "        queue_length,\n",
        "        stock_df,\n",
        "        fundamental_df,\n",
        "        meta_df,\n",
        "        macro_df,\n",
        "        conf,\n",
        "    ):\n",
        "        self.conf = conf\n",
        "        self.stock_df, self.fundamental_df, self.meta_df, self.macro_df = (\n",
        "            stock_df,\n",
        "            fundamental_df,\n",
        "            meta_df,\n",
        "            macro_df,\n",
        "        )\n",
        "\n",
        "        self.path_dict = None\n",
        "        if \"pre_proc_data_dir\" in self.conf and self.conf.pre_proc_data_dir is not None:\n",
        "            self.path_dict = {path.split(\"/\")[-1]: path for path in sorted(glob(self.conf.pre_proc_data_dir + \"/*\"))}\n",
        "\n",
        "\n",
        "        self.dates_have_overlapped = False\n",
        "        self.loader_to_na_dict = {}\n",
        "\n",
        "        self.infront_dates = pd.date_range(\n",
        "            start=start_date, periods=queue_length, freq=\"M\"\n",
        "        )\n",
        "        self.end_dates = pd.date_range(\n",
        "            start=end_metric_start_date, periods=queue_length, freq=\"M\"\n",
        "        )\n",
        "\n",
        "        self.infront_loaders = self.dates_to_loader(self.infront_dates)\n",
        "        self.end_loaders = self.dates_to_loader(self.end_dates)\n",
        "\n",
        "        self.total = len(\n",
        "            pd.date_range(start=self.infront_dates[0], end=self.end_dates[0], freq=\"M\")\n",
        "        )\n",
        "        \n",
        "        self.date = self.infront_dates[0]\n",
        "\n",
        "    def date_to_loader(self, date):\n",
        "        if self.path_dict is not None:\n",
        "            with open(self.path_dict[str(date)], \"rb\") as f:\n",
        "                dataset_infront = pickle.load(f)\n",
        "        else:\n",
        "            dataset_infront = EraDataset(\n",
        "                date,\n",
        "                self.conf.training_w,\n",
        "                self.conf.forecast_w,\n",
        "                self.conf.n_reports,\n",
        "                self.stock_df,\n",
        "                self.fundamental_df,\n",
        "                self.meta_df,\n",
        "                self.macro_df,\n",
        "            )\n",
        "\n",
        "        loader = DataLoader(\n",
        "            dataset_infront,\n",
        "            batch_size=len(dataset_infront),\n",
        "            shuffle=False,\n",
        "            num_workers=self.conf.cpus,\n",
        "        )\n",
        "        self.loader_to_na_dict[loader] = dataset_infront.na_percentage\n",
        "        return loader\n",
        "\n",
        "    def dates_to_loader(self, dates):\n",
        "        dataloaders = []\n",
        "        for date in dates:\n",
        "            loader_infront = self.date_to_loader(date)\n",
        "            dataloaders.append(loader_infront)\n",
        "        return dataloaders\n",
        "    \n",
        "    def get_next_month(self, date):\n",
        "        month_factor = 1 if date.day == date.days_in_month else 2\n",
        "        next_month_end = date + pd.tseries.offsets.MonthEnd() * month_factor\n",
        "        return next_month_end\n",
        "\n",
        "    def validation_loaders(self):\n",
        "        return self.infront_loaders, self.end_loaders\n",
        "\n",
        "    def __iter__(self):\n",
        "        return self\n",
        "\n",
        "    def __next__(self):\n",
        "        if self.infront_dates[-1] == self.end_dates[-1]:\n",
        "            raise StopIteration\n",
        "\n",
        "        self.date = self.infront_dates[0]\n",
        "        dataloader_train, dataloader_val, self.date = (\n",
        "            self.infront_loaders.pop(0),\n",
        "            self.infront_loaders[0],\n",
        "            self.infront_dates[0],\n",
        "        )\n",
        "\n",
        "        self.infront_dates = self.infront_dates[1:]\n",
        "        next_date = self.get_next_month(self.infront_dates[-1])\n",
        "        \n",
        "        if (\n",
        "            (self.infront_dates[0] <= self.end_dates[-1])\n",
        "            and (next_date >= self.end_dates[0])\n",
        "            and not self.dates_have_overlapped\n",
        "        ):  # If overlap\n",
        "            self.dates_have_overlapped = True\n",
        "\n",
        "            self.infront_dates = self.infront_dates.append(\n",
        "                pd.DatetimeIndex([self.end_dates[0]])\n",
        "            )  # At first overlap, fix infront_dates to end_date start\n",
        "            self.infront_loaders.append(self.end_loaders[0])\n",
        "\n",
        "        else:\n",
        "            self.infront_dates = self.infront_dates.append(\n",
        "                pd.DatetimeIndex([next_date])\n",
        "            )\n",
        "            self.infront_loaders.append(self.date_to_loader(next_date))\n",
        "\n",
        "        return dataloader_train, dataloader_val"
      ],
      "metadata": {
        "id": "PBGrBFNSYbWF"
      },
      "execution_count": 11,
      "outputs": []
    },
    {
      "cell_type": "markdown",
      "source": [
        "# Run the loop! (Like Odd-Geir Lademo)"
      ],
      "metadata": {
        "id": "s5zbIHNQHUNH"
      }
    },
    {
      "cell_type": "code",
      "source": [
        "# Check if it's necessary to calculate naive loss every epoch\n",
        "def get_epoch_loss(model, optimizer, dataloader, loss_fns, device, run_type, conf):\n",
        "    model_losses = []\n",
        "    naive_losses = []\n",
        "    for data, meta_cont, meta_cat, target in to_device(dataloader, device):\n",
        "\n",
        "        optimizer.zero_grad()\n",
        "        y_pred: torch.Tensor = model(data, meta_cont, meta_cat)\n",
        "\n",
        "        naive_loss = loss_fns[conf.loss_fn](target.clone(), torch.ones(target.shape, device=device))\n",
        "        loss = loss_fns[conf.loss_fn](target, y_pred)\n",
        "\n",
        "        model_losses.append(loss.item())\n",
        "        naive_losses.append(naive_loss.item())\n",
        "\n",
        "        if run_type == \"train\":\n",
        "            loss.backward()\n",
        "            optimizer.step()\n",
        "\n",
        "    return model_losses, naive_losses"
      ],
      "metadata": {
        "id": "pZAHVCqKuIOb"
      },
      "execution_count": 12,
      "outputs": []
    },
    {
      "cell_type": "code",
      "source": [
        "def eras_ahead_loss(model, data_loaders, optimizer, conf):\n",
        "    model_infront = []\n",
        "    naive_infront = []\n",
        "    \n",
        "    for loader in data_loaders:\n",
        "        model_loss, naive_loss = get_epoch_loss(model, optimizer, loader, loss_fns, device, None, conf)\n",
        "    \n",
        "        model_infront += model_loss\n",
        "        naive_infront += naive_loss\n",
        "    \n",
        "    return np.array(model_infront), np.array(naive_infront)"
      ],
      "metadata": {
        "id": "g3bvK3f9iHmo"
      },
      "execution_count": 13,
      "outputs": []
    },
    {
      "cell_type": "code",
      "source": [
        "def train_one_era(run, model, optimizer, data_train, data_val, stopper, losses, device, config, pbar):\n",
        "\n",
        "    for epoch in range(config.max_epochs):\n",
        "        epoch_losses = dict(train=[], val=[])\n",
        "        \n",
        "        pbar.update_postfix({\"epoch\": epoch})\n",
        "        for run_type, dataloader in {\"train\": data_train, \"val\": data_val}.items():\n",
        "            model.train(run_type == \"train\")\n",
        "            \n",
        "            epoch_model_loss, naive_losses = get_epoch_loss(model, optimizer, dataloader, loss_fns, device, run_type, config)\n",
        "            epoch_losses[run_type] += epoch_model_loss\n",
        "\n",
        "            epoch_loss = np.mean(epoch_losses[run_type])\n",
        "            losses[run_type].append(epoch_loss)\n",
        "\n",
        "            run.log({f\"epoch_{run_type}\": epoch_loss, \"epoch\": epoch})\n",
        "\n",
        "        pbar.update_postfix({\"train_loss\": np.mean(epoch_losses[\"train\"]), \"val_loss\": np.mean(epoch_losses[\"val\"]), \"naive\": np.mean(naive_losses)})\n",
        "\n",
        "        if run_type == \"val\" and stopper(epoch_losses[\"val\"], pbar):\n",
        "            losses[\"epoch_lens\"].append(epoch + 1)\n",
        "            break\n",
        "\n",
        "    return epoch_losses[\"train\"], epoch_losses[\"val\"]"
      ],
      "metadata": {
        "id": "lRHUgmiYTrC-"
      },
      "execution_count": 14,
      "outputs": []
    },
    {
      "cell_type": "code",
      "source": [
        "def train(config, project=None, entity=None, enablewb=True) -> nn.Module:\n",
        "    \n",
        "    mode = \"online\" if enablewb else \"offline\"\n",
        "    with wb.init(config=config, project=project, entity=entity, job_type=\"training\", mode=mode) as run:\n",
        "\n",
        "        conf = run.config\n",
        "        print(conf)\n",
        "\n",
        "        #TODO Define model from string given by conf\n",
        "        model = models[conf.model](**conf).to(device)\n",
        "        optimizer = torch.optim.Adam(model.parameters(), lr=conf.learning_rate)\n",
        "\n",
        "        stopper = EarlyStop(conf.patience, conf.min_delta)\n",
        "        losses = dict(train=[], val=[], epoch_lens=[])\n",
        "\n",
        "        eras = EraController(start_date=conf.start_date, end_metric_start_date=conf.end_date, queue_length=6, stock_df=stock_df, fundamental_df=fundamental_df, meta_df=meta_df, macro_df=macro_df, conf=conf)\n",
        "        pbar = TqdmPostFix(eras, total=eras.total)\n",
        "        for i, (data_train, data_val) in enumerate(pbar):\n",
        "            # Does this work??\n",
        "            torch.cuda.empty_cache()\n",
        "            \n",
        "            pbar.set_description(f\"Era {eras.date} [{i+1}/{eras.total}]\")\n",
        "\n",
        "            train_losses, val_losses = train_one_era(\n",
        "                run=run, \n",
        "                model=model, \n",
        "                optimizer=optimizer, \n",
        "                data_train=data_train, \n",
        "                data_val=data_val,\n",
        "                stopper=stopper.reset(),\n",
        "                losses=losses,\n",
        "                device=device, \n",
        "                config=conf,\n",
        "                pbar=pbar,\n",
        "            )\n",
        "\n",
        "            loaders_infront, loaders_end = eras.validation_loaders()\n",
        "            model_infront, naive_infront = eras_ahead_loss(model, loaders_infront, optimizer, conf)\n",
        "            model_end, naive_end = eras_ahead_loss(model, loaders_end, optimizer, conf)\n",
        "\n",
        "            metric_loss = 0.5*(np.mean(model_infront/naive_infront-1) +  np.mean(model_end/naive_end-1))\n",
        "\n",
        "            run.log({\"era_train\": np.mean(train_losses), \"era_val\" : np.mean(val_losses),\"model_infront\": np.mean(model_infront),\n",
        "                     \"naive_infront\": np.mean(naive_infront), \"model_end\": np.mean(model_end), \"naive_end\": np.mean(naive_end),\n",
        "                     \"metric_loss\": metric_loss, **eras.loader_to_na_dict[data_val], \"time\": eras.date.timestamp(), \"era\": i})\n",
        "\n",
        "        if conf.save_model:\n",
        "            put_nn_model(model, run)\n",
        "\n",
        "    return model, losses"
      ],
      "metadata": {
        "id": "sOlLqBTsMW1G"
      },
      "execution_count": 15,
      "outputs": []
    },
    {
      "cell_type": "code",
      "source": [
        "def get_params_from_data(stock_df, fundamental_df, meta_df, macro_df, params_human):\n",
        "    meta_cont_len = 1\n",
        "    meta_cat_len = np.array([len(meta_df[col].unique()) for col in meta_df.iloc[:,1:] if col != \"founding_year\"]) + 1\n",
        "    \n",
        "    stock_feats = 1\n",
        "    macro_feats = (macro_df.shape[1]-1)\n",
        "    funda_feats = (fundamental_df.loc[:,\"revenue\":].shape[1] - 1) + 2\n",
        "\n",
        "    n_features = stock_feats + macro_feats + funda_feats\n",
        "    \n",
        "    data_given_params = dict(\n",
        "        n_reports=4,\n",
        "        meta_cont_lens=(meta_cont_len, 1),\n",
        "        meta_cat_lens=list(map(lambda x: (x, int(math.ceil(x**0.5))), meta_cat_len)),\n",
        "        out_len=params_human[\"forecast_w\"],\n",
        "        input_size=n_features,\n",
        "    )\n",
        "    return data_given_params"
      ],
      "metadata": {
        "id": "4rczchGmu__D"
      },
      "execution_count": 16,
      "outputs": []
    },
    {
      "cell_type": "code",
      "source": [
        "params_human = dict(\n",
        "    cpus=1,\n",
        "    n_reports=4,\n",
        "    training_w=240,\n",
        "    forecast_w=20,\n",
        "    loss_fn=\"mape\",\n",
        "    start_date=\"2000-12-31\",\n",
        "    end_date=\"2018-10-31\",\n",
        "    model=\"TcnV1\",\n",
        "    save_model=True,\n",
        "    batch_size=256,\n",
        "    pre_proc_data_dir=pre_proc_data_dir,\n",
        "    clamp=None,\n",
        "    dtype=\"float32\",\n",
        "    queue_length=6,\n",
        ")\n",
        "\n",
        "params_wb = dict(\n",
        "    max_epochs=5,\n",
        "    patience=10,\n",
        "    min_delta=0.0001,\n",
        "    learning_rate=0.001,\n",
        "\n",
        "    hd=128,\n",
        "    dropout=0.5,\n",
        "    num_layers=7,\n",
        "    channels=256,\n",
        "    kernel_size=3,\n",
        "\n",
        "    meta_hd=32,\n",
        ")\n",
        "\n",
        "params_from_data = get_params_from_data(stock_df, fundamental_df, meta_df, macro_df, params_human)\n",
        "\n",
        "config = {\n",
        "    **params_human,\n",
        "    **params_wb,\n",
        "    **params_from_data,\n",
        "}"
      ],
      "metadata": {
        "id": "wIKeTJNrln6X"
      },
      "execution_count": 17,
      "outputs": []
    },
    {
      "cell_type": "code",
      "source": [
        "enablewb = False\n",
        "sweepid = \"krankile/master/nuxe3sw7\"\n",
        "\n",
        "if sweepid:\n",
        "    count = 500 # number of runs to execute\n",
        "    wb.agent(sweepid, partial(train,config=config, enablewb=enablewb), count=count)\n",
        "\n",
        "else:\n",
        "    model, losses = train(config=config, project=\"master-test\", entity=\"krankile\", enablewb=enablewb)"
      ],
      "metadata": {
        "id": "G3xYkJZgl_Vn",
        "colab": {
          "base_uri": "https://localhost:8080/",
          "height": 331
        },
        "outputId": "2951701d-eb5b-4f2e-b067-97b5c8d707d7"
      },
      "execution_count": null,
      "outputs": [
        {
          "output_type": "stream",
          "name": "stderr",
          "text": [
            "\u001b[34m\u001b[1mwandb\u001b[0m: Agent Starting Run: ekdhpgzw with config:\n",
            "\u001b[34m\u001b[1mwandb\u001b[0m: \tchannels: 64\n",
            "\u001b[34m\u001b[1mwandb\u001b[0m: \tdropout: 0.7241806217479805\n",
            "\u001b[34m\u001b[1mwandb\u001b[0m: \thd: 512\n",
            "\u001b[34m\u001b[1mwandb\u001b[0m: \tkernel_size: 7\n",
            "\u001b[34m\u001b[1mwandb\u001b[0m: \tlearning_rate: 0.026080648168121223\n",
            "\u001b[34m\u001b[1mwandb\u001b[0m: \tmax_epochs: 711\n",
            "\u001b[34m\u001b[1mwandb\u001b[0m: \tmeta_hd: 64\n",
            "\u001b[34m\u001b[1mwandb\u001b[0m: \tmin_delta: 0.01624266609493051\n",
            "\u001b[34m\u001b[1mwandb\u001b[0m: \tnum_layers: 7\n",
            "\u001b[34m\u001b[1mwandb\u001b[0m: \tpatience: 5\n"
          ]
        },
        {
          "output_type": "display_data",
          "data": {
            "text/plain": [
              "<IPython.core.display.HTML object>"
            ],
            "text/html": [
              "Tracking run with wandb version 0.12.17"
            ]
          },
          "metadata": {}
        },
        {
          "output_type": "display_data",
          "data": {
            "text/plain": [
              "<IPython.core.display.HTML object>"
            ],
            "text/html": [
              "W&B syncing is set to <code>`offline`<code> in this directory.  <br/>Run <code>`wandb online`<code> or set <code>WANDB_MODE=online<code> to enable cloud syncing."
            ]
          },
          "metadata": {}
        },
        {
          "output_type": "stream",
          "name": "stdout",
          "text": [
            "{'cpus': 1, 'n_reports': 4, 'training_w': 240, 'forecast_w': 20, 'loss_fn': 'mape', 'start_date': '2000-12-31', 'end_date': '2018-10-31', 'model': 'TcnV1', 'save_model': True, 'batch_size': 256, 'pre_proc_data_dir': './artifacts/era-datasets:v0', 'clamp': None, 'dtype': 'float32', 'queue_length': 6, 'max_epochs': 711, 'patience': 5, 'min_delta': 0.01624266609493051, 'learning_rate': 0.026080648168121223, 'hd': 512, 'dropout': 0.7241806217479805, 'num_layers': 7, 'channels': 64, 'kernel_size': 7, 'meta_hd': 64, 'meta_cont_lens': [1, 1], 'meta_cat_lens': [[110, 11], [6, 3], [91, 10], [285, 17], [3, 2], [5, 3], [7, 3], [14, 4], [58, 8]], 'out_len': 20, 'input_size': 37}\n"
          ]
        },
        {
          "output_type": "stream",
          "name": "stderr",
          "text": [
            "Era 2000-12-31 00:00:00 [1/215]:   0%|          | 0/215 [00:06<?, ?it/s, epoch=6, train_loss=0.947, val_loss=0.899, naive=0.0679, triggers=5/5, best_loss=0.299]"
          ]
        }
      ]
    },
    {
      "cell_type": "code",
      "source": [
        ""
      ],
      "metadata": {
        "id": "mh0Br_DiWixV"
      },
      "execution_count": 18,
      "outputs": []
    }
  ]
}