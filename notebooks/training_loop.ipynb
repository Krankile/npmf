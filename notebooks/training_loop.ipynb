{
  "nbformat": 4,
  "nbformat_minor": 0,
  "metadata": {
    "colab": {
      "name": "training_loop.ipynb",
      "provenance": [],
      "collapsed_sections": [
        "Rwo44VGZLhAo",
        "CLAlA0htLgMY",
        "qM4PhINrGVa2",
        "PGuFgO6jHPWX",
        "s5zbIHNQHUNH"
      ],
      "include_colab_link": true
    },
    "kernelspec": {
      "name": "python3",
      "display_name": "Python 3"
    },
    "language_info": {
      "name": "python"
    },
    "widgets": {
      "application/vnd.jupyter.widget-state+json": {
        "95b467f9a05147aeb0dd473e70236949": {
          "model_module": "@jupyter-widgets/controls",
          "model_name": "VBoxModel",
          "model_module_version": "1.5.0",
          "state": {
            "_dom_classes": [],
            "_model_module": "@jupyter-widgets/controls",
            "_model_module_version": "1.5.0",
            "_model_name": "VBoxModel",
            "_view_count": null,
            "_view_module": "@jupyter-widgets/controls",
            "_view_module_version": "1.5.0",
            "_view_name": "VBoxView",
            "box_style": "",
            "children": [
              "IPY_MODEL_b53d29ace4b7487b92bba1901adac858",
              "IPY_MODEL_0df0f9c517da4957ba9f25d3d77889b0"
            ],
            "layout": "IPY_MODEL_abebe99eb1e545f8bee22ff5a45fe299"
          }
        },
        "b53d29ace4b7487b92bba1901adac858": {
          "model_module": "@jupyter-widgets/controls",
          "model_name": "LabelModel",
          "model_module_version": "1.5.0",
          "state": {
            "_dom_classes": [],
            "_model_module": "@jupyter-widgets/controls",
            "_model_module_version": "1.5.0",
            "_model_name": "LabelModel",
            "_view_count": null,
            "_view_module": "@jupyter-widgets/controls",
            "_view_module_version": "1.5.0",
            "_view_name": "LabelView",
            "description": "",
            "description_tooltip": null,
            "layout": "IPY_MODEL_6c997f3ffd294c4c8794b6e2b8d232ab",
            "placeholder": "​",
            "style": "IPY_MODEL_dec6c2b1482d4b77b5a669c4868a134f",
            "value": "0.008 MB of 0.008 MB uploaded (0.000 MB deduped)\r"
          }
        },
        "0df0f9c517da4957ba9f25d3d77889b0": {
          "model_module": "@jupyter-widgets/controls",
          "model_name": "FloatProgressModel",
          "model_module_version": "1.5.0",
          "state": {
            "_dom_classes": [],
            "_model_module": "@jupyter-widgets/controls",
            "_model_module_version": "1.5.0",
            "_model_name": "FloatProgressModel",
            "_view_count": null,
            "_view_module": "@jupyter-widgets/controls",
            "_view_module_version": "1.5.0",
            "_view_name": "ProgressView",
            "bar_style": "",
            "description": "",
            "description_tooltip": null,
            "layout": "IPY_MODEL_3a79935bbabd4aefba993c8a3076e747",
            "max": 1,
            "min": 0,
            "orientation": "horizontal",
            "style": "IPY_MODEL_eadad77bbd8d4970b893553f1a781d8b",
            "value": 1
          }
        },
        "abebe99eb1e545f8bee22ff5a45fe299": {
          "model_module": "@jupyter-widgets/base",
          "model_name": "LayoutModel",
          "model_module_version": "1.2.0",
          "state": {
            "_model_module": "@jupyter-widgets/base",
            "_model_module_version": "1.2.0",
            "_model_name": "LayoutModel",
            "_view_count": null,
            "_view_module": "@jupyter-widgets/base",
            "_view_module_version": "1.2.0",
            "_view_name": "LayoutView",
            "align_content": null,
            "align_items": null,
            "align_self": null,
            "border": null,
            "bottom": null,
            "display": null,
            "flex": null,
            "flex_flow": null,
            "grid_area": null,
            "grid_auto_columns": null,
            "grid_auto_flow": null,
            "grid_auto_rows": null,
            "grid_column": null,
            "grid_gap": null,
            "grid_row": null,
            "grid_template_areas": null,
            "grid_template_columns": null,
            "grid_template_rows": null,
            "height": null,
            "justify_content": null,
            "justify_items": null,
            "left": null,
            "margin": null,
            "max_height": null,
            "max_width": null,
            "min_height": null,
            "min_width": null,
            "object_fit": null,
            "object_position": null,
            "order": null,
            "overflow": null,
            "overflow_x": null,
            "overflow_y": null,
            "padding": null,
            "right": null,
            "top": null,
            "visibility": null,
            "width": null
          }
        },
        "6c997f3ffd294c4c8794b6e2b8d232ab": {
          "model_module": "@jupyter-widgets/base",
          "model_name": "LayoutModel",
          "model_module_version": "1.2.0",
          "state": {
            "_model_module": "@jupyter-widgets/base",
            "_model_module_version": "1.2.0",
            "_model_name": "LayoutModel",
            "_view_count": null,
            "_view_module": "@jupyter-widgets/base",
            "_view_module_version": "1.2.0",
            "_view_name": "LayoutView",
            "align_content": null,
            "align_items": null,
            "align_self": null,
            "border": null,
            "bottom": null,
            "display": null,
            "flex": null,
            "flex_flow": null,
            "grid_area": null,
            "grid_auto_columns": null,
            "grid_auto_flow": null,
            "grid_auto_rows": null,
            "grid_column": null,
            "grid_gap": null,
            "grid_row": null,
            "grid_template_areas": null,
            "grid_template_columns": null,
            "grid_template_rows": null,
            "height": null,
            "justify_content": null,
            "justify_items": null,
            "left": null,
            "margin": null,
            "max_height": null,
            "max_width": null,
            "min_height": null,
            "min_width": null,
            "object_fit": null,
            "object_position": null,
            "order": null,
            "overflow": null,
            "overflow_x": null,
            "overflow_y": null,
            "padding": null,
            "right": null,
            "top": null,
            "visibility": null,
            "width": null
          }
        },
        "dec6c2b1482d4b77b5a669c4868a134f": {
          "model_module": "@jupyter-widgets/controls",
          "model_name": "DescriptionStyleModel",
          "model_module_version": "1.5.0",
          "state": {
            "_model_module": "@jupyter-widgets/controls",
            "_model_module_version": "1.5.0",
            "_model_name": "DescriptionStyleModel",
            "_view_count": null,
            "_view_module": "@jupyter-widgets/base",
            "_view_module_version": "1.2.0",
            "_view_name": "StyleView",
            "description_width": ""
          }
        },
        "3a79935bbabd4aefba993c8a3076e747": {
          "model_module": "@jupyter-widgets/base",
          "model_name": "LayoutModel",
          "model_module_version": "1.2.0",
          "state": {
            "_model_module": "@jupyter-widgets/base",
            "_model_module_version": "1.2.0",
            "_model_name": "LayoutModel",
            "_view_count": null,
            "_view_module": "@jupyter-widgets/base",
            "_view_module_version": "1.2.0",
            "_view_name": "LayoutView",
            "align_content": null,
            "align_items": null,
            "align_self": null,
            "border": null,
            "bottom": null,
            "display": null,
            "flex": null,
            "flex_flow": null,
            "grid_area": null,
            "grid_auto_columns": null,
            "grid_auto_flow": null,
            "grid_auto_rows": null,
            "grid_column": null,
            "grid_gap": null,
            "grid_row": null,
            "grid_template_areas": null,
            "grid_template_columns": null,
            "grid_template_rows": null,
            "height": null,
            "justify_content": null,
            "justify_items": null,
            "left": null,
            "margin": null,
            "max_height": null,
            "max_width": null,
            "min_height": null,
            "min_width": null,
            "object_fit": null,
            "object_position": null,
            "order": null,
            "overflow": null,
            "overflow_x": null,
            "overflow_y": null,
            "padding": null,
            "right": null,
            "top": null,
            "visibility": null,
            "width": null
          }
        },
        "eadad77bbd8d4970b893553f1a781d8b": {
          "model_module": "@jupyter-widgets/controls",
          "model_name": "ProgressStyleModel",
          "model_module_version": "1.5.0",
          "state": {
            "_model_module": "@jupyter-widgets/controls",
            "_model_module_version": "1.5.0",
            "_model_name": "ProgressStyleModel",
            "_view_count": null,
            "_view_module": "@jupyter-widgets/base",
            "_view_module_version": "1.2.0",
            "_view_name": "StyleView",
            "bar_color": null,
            "description_width": ""
          }
        },
        "60eb504d0db14de696e568683e69ce3f": {
          "model_module": "@jupyter-widgets/controls",
          "model_name": "VBoxModel",
          "model_module_version": "1.5.0",
          "state": {
            "_dom_classes": [],
            "_model_module": "@jupyter-widgets/controls",
            "_model_module_version": "1.5.0",
            "_model_name": "VBoxModel",
            "_view_count": null,
            "_view_module": "@jupyter-widgets/controls",
            "_view_module_version": "1.5.0",
            "_view_name": "VBoxView",
            "box_style": "",
            "children": [
              "IPY_MODEL_d2b80777ce784e02982fecfe87a9ef5c",
              "IPY_MODEL_ca9080e558c34020a639eace222ced82"
            ],
            "layout": "IPY_MODEL_3e376f56462a44ed9a9a7888b9afb1e5"
          }
        },
        "d2b80777ce784e02982fecfe87a9ef5c": {
          "model_module": "@jupyter-widgets/controls",
          "model_name": "LabelModel",
          "model_module_version": "1.5.0",
          "state": {
            "_dom_classes": [],
            "_model_module": "@jupyter-widgets/controls",
            "_model_module_version": "1.5.0",
            "_model_name": "LabelModel",
            "_view_count": null,
            "_view_module": "@jupyter-widgets/controls",
            "_view_module_version": "1.5.0",
            "_view_name": "LabelView",
            "description": "",
            "description_tooltip": null,
            "layout": "IPY_MODEL_fd9a34da0cd4408bb05fe73492324f82",
            "placeholder": "​",
            "style": "IPY_MODEL_6223cab286e84eaeaa7aba7955a65d8a",
            "value": "0.008 MB of 0.008 MB uploaded (0.000 MB deduped)\r"
          }
        },
        "ca9080e558c34020a639eace222ced82": {
          "model_module": "@jupyter-widgets/controls",
          "model_name": "FloatProgressModel",
          "model_module_version": "1.5.0",
          "state": {
            "_dom_classes": [],
            "_model_module": "@jupyter-widgets/controls",
            "_model_module_version": "1.5.0",
            "_model_name": "FloatProgressModel",
            "_view_count": null,
            "_view_module": "@jupyter-widgets/controls",
            "_view_module_version": "1.5.0",
            "_view_name": "ProgressView",
            "bar_style": "",
            "description": "",
            "description_tooltip": null,
            "layout": "IPY_MODEL_67bfe81807094671a64a0c64adf07884",
            "max": 1,
            "min": 0,
            "orientation": "horizontal",
            "style": "IPY_MODEL_bc374ca5d1214526a72edba259dfaea3",
            "value": 1
          }
        },
        "3e376f56462a44ed9a9a7888b9afb1e5": {
          "model_module": "@jupyter-widgets/base",
          "model_name": "LayoutModel",
          "model_module_version": "1.2.0",
          "state": {
            "_model_module": "@jupyter-widgets/base",
            "_model_module_version": "1.2.0",
            "_model_name": "LayoutModel",
            "_view_count": null,
            "_view_module": "@jupyter-widgets/base",
            "_view_module_version": "1.2.0",
            "_view_name": "LayoutView",
            "align_content": null,
            "align_items": null,
            "align_self": null,
            "border": null,
            "bottom": null,
            "display": null,
            "flex": null,
            "flex_flow": null,
            "grid_area": null,
            "grid_auto_columns": null,
            "grid_auto_flow": null,
            "grid_auto_rows": null,
            "grid_column": null,
            "grid_gap": null,
            "grid_row": null,
            "grid_template_areas": null,
            "grid_template_columns": null,
            "grid_template_rows": null,
            "height": null,
            "justify_content": null,
            "justify_items": null,
            "left": null,
            "margin": null,
            "max_height": null,
            "max_width": null,
            "min_height": null,
            "min_width": null,
            "object_fit": null,
            "object_position": null,
            "order": null,
            "overflow": null,
            "overflow_x": null,
            "overflow_y": null,
            "padding": null,
            "right": null,
            "top": null,
            "visibility": null,
            "width": null
          }
        },
        "fd9a34da0cd4408bb05fe73492324f82": {
          "model_module": "@jupyter-widgets/base",
          "model_name": "LayoutModel",
          "model_module_version": "1.2.0",
          "state": {
            "_model_module": "@jupyter-widgets/base",
            "_model_module_version": "1.2.0",
            "_model_name": "LayoutModel",
            "_view_count": null,
            "_view_module": "@jupyter-widgets/base",
            "_view_module_version": "1.2.0",
            "_view_name": "LayoutView",
            "align_content": null,
            "align_items": null,
            "align_self": null,
            "border": null,
            "bottom": null,
            "display": null,
            "flex": null,
            "flex_flow": null,
            "grid_area": null,
            "grid_auto_columns": null,
            "grid_auto_flow": null,
            "grid_auto_rows": null,
            "grid_column": null,
            "grid_gap": null,
            "grid_row": null,
            "grid_template_areas": null,
            "grid_template_columns": null,
            "grid_template_rows": null,
            "height": null,
            "justify_content": null,
            "justify_items": null,
            "left": null,
            "margin": null,
            "max_height": null,
            "max_width": null,
            "min_height": null,
            "min_width": null,
            "object_fit": null,
            "object_position": null,
            "order": null,
            "overflow": null,
            "overflow_x": null,
            "overflow_y": null,
            "padding": null,
            "right": null,
            "top": null,
            "visibility": null,
            "width": null
          }
        },
        "6223cab286e84eaeaa7aba7955a65d8a": {
          "model_module": "@jupyter-widgets/controls",
          "model_name": "DescriptionStyleModel",
          "model_module_version": "1.5.0",
          "state": {
            "_model_module": "@jupyter-widgets/controls",
            "_model_module_version": "1.5.0",
            "_model_name": "DescriptionStyleModel",
            "_view_count": null,
            "_view_module": "@jupyter-widgets/base",
            "_view_module_version": "1.2.0",
            "_view_name": "StyleView",
            "description_width": ""
          }
        },
        "67bfe81807094671a64a0c64adf07884": {
          "model_module": "@jupyter-widgets/base",
          "model_name": "LayoutModel",
          "model_module_version": "1.2.0",
          "state": {
            "_model_module": "@jupyter-widgets/base",
            "_model_module_version": "1.2.0",
            "_model_name": "LayoutModel",
            "_view_count": null,
            "_view_module": "@jupyter-widgets/base",
            "_view_module_version": "1.2.0",
            "_view_name": "LayoutView",
            "align_content": null,
            "align_items": null,
            "align_self": null,
            "border": null,
            "bottom": null,
            "display": null,
            "flex": null,
            "flex_flow": null,
            "grid_area": null,
            "grid_auto_columns": null,
            "grid_auto_flow": null,
            "grid_auto_rows": null,
            "grid_column": null,
            "grid_gap": null,
            "grid_row": null,
            "grid_template_areas": null,
            "grid_template_columns": null,
            "grid_template_rows": null,
            "height": null,
            "justify_content": null,
            "justify_items": null,
            "left": null,
            "margin": null,
            "max_height": null,
            "max_width": null,
            "min_height": null,
            "min_width": null,
            "object_fit": null,
            "object_position": null,
            "order": null,
            "overflow": null,
            "overflow_x": null,
            "overflow_y": null,
            "padding": null,
            "right": null,
            "top": null,
            "visibility": null,
            "width": null
          }
        },
        "bc374ca5d1214526a72edba259dfaea3": {
          "model_module": "@jupyter-widgets/controls",
          "model_name": "ProgressStyleModel",
          "model_module_version": "1.5.0",
          "state": {
            "_model_module": "@jupyter-widgets/controls",
            "_model_module_version": "1.5.0",
            "_model_name": "ProgressStyleModel",
            "_view_count": null,
            "_view_module": "@jupyter-widgets/base",
            "_view_module_version": "1.2.0",
            "_view_name": "StyleView",
            "bar_color": null,
            "description_width": ""
          }
        },
        "6d7cb4196c364915b8619774b841e14c": {
          "model_module": "@jupyter-widgets/controls",
          "model_name": "VBoxModel",
          "model_module_version": "1.5.0",
          "state": {
            "_dom_classes": [],
            "_model_module": "@jupyter-widgets/controls",
            "_model_module_version": "1.5.0",
            "_model_name": "VBoxModel",
            "_view_count": null,
            "_view_module": "@jupyter-widgets/controls",
            "_view_module_version": "1.5.0",
            "_view_name": "VBoxView",
            "box_style": "",
            "children": [
              "IPY_MODEL_d0f585b706704d0c9dc552565d72f0be",
              "IPY_MODEL_0f67f684087c4575b72d267ff7bc6fbd"
            ],
            "layout": "IPY_MODEL_ff974a5429e944f6b8c5051f7f82762a"
          }
        },
        "d0f585b706704d0c9dc552565d72f0be": {
          "model_module": "@jupyter-widgets/controls",
          "model_name": "LabelModel",
          "model_module_version": "1.5.0",
          "state": {
            "_dom_classes": [],
            "_model_module": "@jupyter-widgets/controls",
            "_model_module_version": "1.5.0",
            "_model_name": "LabelModel",
            "_view_count": null,
            "_view_module": "@jupyter-widgets/controls",
            "_view_module_version": "1.5.0",
            "_view_name": "LabelView",
            "description": "",
            "description_tooltip": null,
            "layout": "IPY_MODEL_5dbfc85271e94065b4293267dff647d6",
            "placeholder": "​",
            "style": "IPY_MODEL_42cb6150b3c3437daef3156ef9b59d44",
            "value": "0.008 MB of 0.008 MB uploaded (0.000 MB deduped)\r"
          }
        },
        "0f67f684087c4575b72d267ff7bc6fbd": {
          "model_module": "@jupyter-widgets/controls",
          "model_name": "FloatProgressModel",
          "model_module_version": "1.5.0",
          "state": {
            "_dom_classes": [],
            "_model_module": "@jupyter-widgets/controls",
            "_model_module_version": "1.5.0",
            "_model_name": "FloatProgressModel",
            "_view_count": null,
            "_view_module": "@jupyter-widgets/controls",
            "_view_module_version": "1.5.0",
            "_view_name": "ProgressView",
            "bar_style": "",
            "description": "",
            "description_tooltip": null,
            "layout": "IPY_MODEL_9bb5fa1a113e49349279d81bb388296b",
            "max": 1,
            "min": 0,
            "orientation": "horizontal",
            "style": "IPY_MODEL_130d9568283c40c9a73aa0848b1a5f78",
            "value": 1
          }
        },
        "ff974a5429e944f6b8c5051f7f82762a": {
          "model_module": "@jupyter-widgets/base",
          "model_name": "LayoutModel",
          "model_module_version": "1.2.0",
          "state": {
            "_model_module": "@jupyter-widgets/base",
            "_model_module_version": "1.2.0",
            "_model_name": "LayoutModel",
            "_view_count": null,
            "_view_module": "@jupyter-widgets/base",
            "_view_module_version": "1.2.0",
            "_view_name": "LayoutView",
            "align_content": null,
            "align_items": null,
            "align_self": null,
            "border": null,
            "bottom": null,
            "display": null,
            "flex": null,
            "flex_flow": null,
            "grid_area": null,
            "grid_auto_columns": null,
            "grid_auto_flow": null,
            "grid_auto_rows": null,
            "grid_column": null,
            "grid_gap": null,
            "grid_row": null,
            "grid_template_areas": null,
            "grid_template_columns": null,
            "grid_template_rows": null,
            "height": null,
            "justify_content": null,
            "justify_items": null,
            "left": null,
            "margin": null,
            "max_height": null,
            "max_width": null,
            "min_height": null,
            "min_width": null,
            "object_fit": null,
            "object_position": null,
            "order": null,
            "overflow": null,
            "overflow_x": null,
            "overflow_y": null,
            "padding": null,
            "right": null,
            "top": null,
            "visibility": null,
            "width": null
          }
        },
        "5dbfc85271e94065b4293267dff647d6": {
          "model_module": "@jupyter-widgets/base",
          "model_name": "LayoutModel",
          "model_module_version": "1.2.0",
          "state": {
            "_model_module": "@jupyter-widgets/base",
            "_model_module_version": "1.2.0",
            "_model_name": "LayoutModel",
            "_view_count": null,
            "_view_module": "@jupyter-widgets/base",
            "_view_module_version": "1.2.0",
            "_view_name": "LayoutView",
            "align_content": null,
            "align_items": null,
            "align_self": null,
            "border": null,
            "bottom": null,
            "display": null,
            "flex": null,
            "flex_flow": null,
            "grid_area": null,
            "grid_auto_columns": null,
            "grid_auto_flow": null,
            "grid_auto_rows": null,
            "grid_column": null,
            "grid_gap": null,
            "grid_row": null,
            "grid_template_areas": null,
            "grid_template_columns": null,
            "grid_template_rows": null,
            "height": null,
            "justify_content": null,
            "justify_items": null,
            "left": null,
            "margin": null,
            "max_height": null,
            "max_width": null,
            "min_height": null,
            "min_width": null,
            "object_fit": null,
            "object_position": null,
            "order": null,
            "overflow": null,
            "overflow_x": null,
            "overflow_y": null,
            "padding": null,
            "right": null,
            "top": null,
            "visibility": null,
            "width": null
          }
        },
        "42cb6150b3c3437daef3156ef9b59d44": {
          "model_module": "@jupyter-widgets/controls",
          "model_name": "DescriptionStyleModel",
          "model_module_version": "1.5.0",
          "state": {
            "_model_module": "@jupyter-widgets/controls",
            "_model_module_version": "1.5.0",
            "_model_name": "DescriptionStyleModel",
            "_view_count": null,
            "_view_module": "@jupyter-widgets/base",
            "_view_module_version": "1.2.0",
            "_view_name": "StyleView",
            "description_width": ""
          }
        },
        "9bb5fa1a113e49349279d81bb388296b": {
          "model_module": "@jupyter-widgets/base",
          "model_name": "LayoutModel",
          "model_module_version": "1.2.0",
          "state": {
            "_model_module": "@jupyter-widgets/base",
            "_model_module_version": "1.2.0",
            "_model_name": "LayoutModel",
            "_view_count": null,
            "_view_module": "@jupyter-widgets/base",
            "_view_module_version": "1.2.0",
            "_view_name": "LayoutView",
            "align_content": null,
            "align_items": null,
            "align_self": null,
            "border": null,
            "bottom": null,
            "display": null,
            "flex": null,
            "flex_flow": null,
            "grid_area": null,
            "grid_auto_columns": null,
            "grid_auto_flow": null,
            "grid_auto_rows": null,
            "grid_column": null,
            "grid_gap": null,
            "grid_row": null,
            "grid_template_areas": null,
            "grid_template_columns": null,
            "grid_template_rows": null,
            "height": null,
            "justify_content": null,
            "justify_items": null,
            "left": null,
            "margin": null,
            "max_height": null,
            "max_width": null,
            "min_height": null,
            "min_width": null,
            "object_fit": null,
            "object_position": null,
            "order": null,
            "overflow": null,
            "overflow_x": null,
            "overflow_y": null,
            "padding": null,
            "right": null,
            "top": null,
            "visibility": null,
            "width": null
          }
        },
        "130d9568283c40c9a73aa0848b1a5f78": {
          "model_module": "@jupyter-widgets/controls",
          "model_name": "ProgressStyleModel",
          "model_module_version": "1.5.0",
          "state": {
            "_model_module": "@jupyter-widgets/controls",
            "_model_module_version": "1.5.0",
            "_model_name": "ProgressStyleModel",
            "_view_count": null,
            "_view_module": "@jupyter-widgets/base",
            "_view_module_version": "1.2.0",
            "_view_name": "StyleView",
            "bar_color": null,
            "description_width": ""
          }
        },
        "42dd494cdbee4941af0a7c3a26f02190": {
          "model_module": "@jupyter-widgets/controls",
          "model_name": "VBoxModel",
          "model_module_version": "1.5.0",
          "state": {
            "_dom_classes": [],
            "_model_module": "@jupyter-widgets/controls",
            "_model_module_version": "1.5.0",
            "_model_name": "VBoxModel",
            "_view_count": null,
            "_view_module": "@jupyter-widgets/controls",
            "_view_module_version": "1.5.0",
            "_view_name": "VBoxView",
            "box_style": "",
            "children": [
              "IPY_MODEL_f67a930c39154a719db014acc716a4da",
              "IPY_MODEL_50956431674749579c67876523387ad9"
            ],
            "layout": "IPY_MODEL_0752959c81bc49b2a392d3b72c645baa"
          }
        },
        "f67a930c39154a719db014acc716a4da": {
          "model_module": "@jupyter-widgets/controls",
          "model_name": "LabelModel",
          "model_module_version": "1.5.0",
          "state": {
            "_dom_classes": [],
            "_model_module": "@jupyter-widgets/controls",
            "_model_module_version": "1.5.0",
            "_model_name": "LabelModel",
            "_view_count": null,
            "_view_module": "@jupyter-widgets/controls",
            "_view_module_version": "1.5.0",
            "_view_name": "LabelView",
            "description": "",
            "description_tooltip": null,
            "layout": "IPY_MODEL_1353bedf823b4804ae3fa50251d4a561",
            "placeholder": "​",
            "style": "IPY_MODEL_cec29c1047bb4151b26e9ce425c44baa",
            "value": "0.008 MB of 0.008 MB uploaded (0.000 MB deduped)\r"
          }
        },
        "50956431674749579c67876523387ad9": {
          "model_module": "@jupyter-widgets/controls",
          "model_name": "FloatProgressModel",
          "model_module_version": "1.5.0",
          "state": {
            "_dom_classes": [],
            "_model_module": "@jupyter-widgets/controls",
            "_model_module_version": "1.5.0",
            "_model_name": "FloatProgressModel",
            "_view_count": null,
            "_view_module": "@jupyter-widgets/controls",
            "_view_module_version": "1.5.0",
            "_view_name": "ProgressView",
            "bar_style": "",
            "description": "",
            "description_tooltip": null,
            "layout": "IPY_MODEL_003db11e70834ddd8316a42702931f4d",
            "max": 1,
            "min": 0,
            "orientation": "horizontal",
            "style": "IPY_MODEL_df75603d358847f2a674c136d508a9b2",
            "value": 1
          }
        },
        "0752959c81bc49b2a392d3b72c645baa": {
          "model_module": "@jupyter-widgets/base",
          "model_name": "LayoutModel",
          "model_module_version": "1.2.0",
          "state": {
            "_model_module": "@jupyter-widgets/base",
            "_model_module_version": "1.2.0",
            "_model_name": "LayoutModel",
            "_view_count": null,
            "_view_module": "@jupyter-widgets/base",
            "_view_module_version": "1.2.0",
            "_view_name": "LayoutView",
            "align_content": null,
            "align_items": null,
            "align_self": null,
            "border": null,
            "bottom": null,
            "display": null,
            "flex": null,
            "flex_flow": null,
            "grid_area": null,
            "grid_auto_columns": null,
            "grid_auto_flow": null,
            "grid_auto_rows": null,
            "grid_column": null,
            "grid_gap": null,
            "grid_row": null,
            "grid_template_areas": null,
            "grid_template_columns": null,
            "grid_template_rows": null,
            "height": null,
            "justify_content": null,
            "justify_items": null,
            "left": null,
            "margin": null,
            "max_height": null,
            "max_width": null,
            "min_height": null,
            "min_width": null,
            "object_fit": null,
            "object_position": null,
            "order": null,
            "overflow": null,
            "overflow_x": null,
            "overflow_y": null,
            "padding": null,
            "right": null,
            "top": null,
            "visibility": null,
            "width": null
          }
        },
        "1353bedf823b4804ae3fa50251d4a561": {
          "model_module": "@jupyter-widgets/base",
          "model_name": "LayoutModel",
          "model_module_version": "1.2.0",
          "state": {
            "_model_module": "@jupyter-widgets/base",
            "_model_module_version": "1.2.0",
            "_model_name": "LayoutModel",
            "_view_count": null,
            "_view_module": "@jupyter-widgets/base",
            "_view_module_version": "1.2.0",
            "_view_name": "LayoutView",
            "align_content": null,
            "align_items": null,
            "align_self": null,
            "border": null,
            "bottom": null,
            "display": null,
            "flex": null,
            "flex_flow": null,
            "grid_area": null,
            "grid_auto_columns": null,
            "grid_auto_flow": null,
            "grid_auto_rows": null,
            "grid_column": null,
            "grid_gap": null,
            "grid_row": null,
            "grid_template_areas": null,
            "grid_template_columns": null,
            "grid_template_rows": null,
            "height": null,
            "justify_content": null,
            "justify_items": null,
            "left": null,
            "margin": null,
            "max_height": null,
            "max_width": null,
            "min_height": null,
            "min_width": null,
            "object_fit": null,
            "object_position": null,
            "order": null,
            "overflow": null,
            "overflow_x": null,
            "overflow_y": null,
            "padding": null,
            "right": null,
            "top": null,
            "visibility": null,
            "width": null
          }
        },
        "cec29c1047bb4151b26e9ce425c44baa": {
          "model_module": "@jupyter-widgets/controls",
          "model_name": "DescriptionStyleModel",
          "model_module_version": "1.5.0",
          "state": {
            "_model_module": "@jupyter-widgets/controls",
            "_model_module_version": "1.5.0",
            "_model_name": "DescriptionStyleModel",
            "_view_count": null,
            "_view_module": "@jupyter-widgets/base",
            "_view_module_version": "1.2.0",
            "_view_name": "StyleView",
            "description_width": ""
          }
        },
        "003db11e70834ddd8316a42702931f4d": {
          "model_module": "@jupyter-widgets/base",
          "model_name": "LayoutModel",
          "model_module_version": "1.2.0",
          "state": {
            "_model_module": "@jupyter-widgets/base",
            "_model_module_version": "1.2.0",
            "_model_name": "LayoutModel",
            "_view_count": null,
            "_view_module": "@jupyter-widgets/base",
            "_view_module_version": "1.2.0",
            "_view_name": "LayoutView",
            "align_content": null,
            "align_items": null,
            "align_self": null,
            "border": null,
            "bottom": null,
            "display": null,
            "flex": null,
            "flex_flow": null,
            "grid_area": null,
            "grid_auto_columns": null,
            "grid_auto_flow": null,
            "grid_auto_rows": null,
            "grid_column": null,
            "grid_gap": null,
            "grid_row": null,
            "grid_template_areas": null,
            "grid_template_columns": null,
            "grid_template_rows": null,
            "height": null,
            "justify_content": null,
            "justify_items": null,
            "left": null,
            "margin": null,
            "max_height": null,
            "max_width": null,
            "min_height": null,
            "min_width": null,
            "object_fit": null,
            "object_position": null,
            "order": null,
            "overflow": null,
            "overflow_x": null,
            "overflow_y": null,
            "padding": null,
            "right": null,
            "top": null,
            "visibility": null,
            "width": null
          }
        },
        "df75603d358847f2a674c136d508a9b2": {
          "model_module": "@jupyter-widgets/controls",
          "model_name": "ProgressStyleModel",
          "model_module_version": "1.5.0",
          "state": {
            "_model_module": "@jupyter-widgets/controls",
            "_model_module_version": "1.5.0",
            "_model_name": "ProgressStyleModel",
            "_view_count": null,
            "_view_module": "@jupyter-widgets/base",
            "_view_module_version": "1.2.0",
            "_view_name": "StyleView",
            "bar_color": null,
            "description_width": ""
          }
        }
      }
    }
  },
  "cells": [
    {
      "cell_type": "markdown",
      "metadata": {
        "id": "view-in-github",
        "colab_type": "text"
      },
      "source": [
        "<a href=\"https://colab.research.google.com/github/Krankile/npmf/blob/main/notebooks/training_loop.ipynb\" target=\"_parent\"><img src=\"https://colab.research.google.com/assets/colab-badge.svg\" alt=\"Open In Colab\"/></a>"
      ]
    },
    {
      "cell_type": "markdown",
      "source": [
        "#Setup"
      ],
      "metadata": {
        "id": "d8F5tl4NL7FZ"
      }
    },
    {
      "cell_type": "markdown",
      "source": [
        "##Kernel setup"
      ],
      "metadata": {
        "id": "Rwo44VGZLhAo"
      }
    },
    {
      "cell_type": "code",
      "source": [
        "%load_ext autoreload\n",
        "%autoreload 2"
      ],
      "metadata": {
        "id": "hKuFzk7aEmB9"
      },
      "execution_count": 1,
      "outputs": []
    },
    {
      "cell_type": "code",
      "source": [
        "%%capture\n",
        "!pip install wandb\n",
        "!git clone https://github.com/Krankile/npmf.git"
      ],
      "metadata": {
        "id": "91KPY7q0LUOw"
      },
      "execution_count": 2,
      "outputs": []
    },
    {
      "cell_type": "code",
      "source": [
        "%%capture\n",
        "!cd npmf && git pull"
      ],
      "metadata": {
        "id": "zGsSIhgXEkhz"
      },
      "execution_count": 3,
      "outputs": []
    },
    {
      "cell_type": "code",
      "source": [
        "!wandb login"
      ],
      "metadata": {
        "id": "gUXnibj8YEi1",
        "colab": {
          "base_uri": "https://localhost:8080/"
        },
        "outputId": "01c0135b-d9f2-424c-bd80-2dbb60f9a4e4"
      },
      "execution_count": 4,
      "outputs": [
        {
          "output_type": "stream",
          "name": "stdout",
          "text": [
            "\u001b[34m\u001b[1mwandb\u001b[0m: Currently logged in as: \u001b[33mkjartan\u001b[0m (\u001b[33mkrankile\u001b[0m). Use \u001b[1m`wandb login --relogin`\u001b[0m to force relogin\n"
          ]
        }
      ]
    },
    {
      "cell_type": "markdown",
      "source": [
        "##General setup"
      ],
      "metadata": {
        "id": "CLAlA0htLgMY"
      }
    },
    {
      "cell_type": "code",
      "source": [
        "import os\n",
        "from collections import defaultdict\n",
        "from collections import Counter\n",
        "from datetime import datetime\n",
        "from datetime import timedelta\n",
        "from operator import itemgetter\n",
        "\n",
        "import numpy as np\n",
        "import math\n",
        "from numpy.ma.core import outerproduct\n",
        "import pandas as pd\n",
        "import matplotlib as mpl\n",
        "import matplotlib.pyplot as plt\n",
        "from tqdm import tqdm\n",
        "\n",
        "\n",
        "import wandb as wb\n",
        "\n",
        "import torch\n",
        "from torch import nn\n",
        "from torch.utils.data import DataLoader\n",
        "from torch.utils.data import Dataset\n",
        "from torchvision import datasets, transforms\n",
        "from sklearn.preprocessing import MinMaxScaler\n",
        "\n",
        "from npmf.utils.colors import main, main2, main3\n",
        "from npmf.utils.wandb import get_dataset, put_dataset\n",
        "from npmf.utils.eikon import column_mapping"
      ],
      "metadata": {
        "id": "1QSlgObXLq1p"
      },
      "execution_count": 5,
      "outputs": []
    },
    {
      "cell_type": "code",
      "source": [
        "mpl.rcParams['axes.prop_cycle'] = mpl.cycler(color=[main, main2, main3, \"black\"])\n",
        "mpl.rcParams['figure.figsize'] = (6, 4)  # (6, 4) is default and used in the paper"
      ],
      "metadata": {
        "id": "hkTjKKLmLvpl"
      },
      "execution_count": 6,
      "outputs": []
    },
    {
      "cell_type": "code",
      "source": [
        "device = \"cuda\" if torch.cuda.is_available() else \"cpu\"\n",
        "print(f\"Using {device} device\")"
      ],
      "metadata": {
        "colab": {
          "base_uri": "https://localhost:8080/"
        },
        "id": "Dqy02oAvY7GM",
        "outputId": "2d2246f7-a953-416d-b550-13d9bebc82a3"
      },
      "execution_count": 7,
      "outputs": [
        {
          "output_type": "stream",
          "name": "stdout",
          "text": [
            "Using cpu device\n"
          ]
        }
      ]
    },
    {
      "cell_type": "code",
      "source": [
        "np.random.seed(420)"
      ],
      "metadata": {
        "id": "YVFtfDk0pYtd"
      },
      "execution_count": 8,
      "outputs": []
    },
    {
      "cell_type": "markdown",
      "source": [
        "# Create a Neural network class"
      ],
      "metadata": {
        "id": "qM4PhINrGVa2"
      }
    },
    {
      "cell_type": "code",
      "source": [
        "class MultivariateNetwork(nn.Module):\n",
        "    def __init__(self, lag_len, cat_len, out_len, hidden_dim):\n",
        "        super().__init__()\n",
        "\n",
        "        self.pre = nn.Sequential(\n",
        "            nn.Linear(lag_len, hidden_dim),\n",
        "            nn.ReLU(),\n",
        "        )\n",
        "\n",
        "        self.predict = nn.Sequential(\n",
        "            nn.Linear(hidden_dim + cat_len, 128),\n",
        "            nn.ReLU(),\n",
        "            nn.Linear(128, 64),\n",
        "            nn.ReLU(),\n",
        "            nn.Linear(64, out_len),\n",
        "        )\n",
        "\n",
        "\n",
        "    def forward(self, lags, cats):\n",
        "\n",
        "        x = self.pre(lags)\n",
        "        x = torch.cat((x, cats), dim=1)\n",
        "        x = self.predict(x)\n",
        "\n",
        "        return x"
      ],
      "metadata": {
        "id": "jKqMY62PGZzj"
      },
      "execution_count": 9,
      "outputs": []
    },
    {
      "cell_type": "markdown",
      "source": [
        "# Get some data"
      ],
      "metadata": {
        "id": "PGuFgO6jHPWX"
      }
    },
    {
      "cell_type": "code",
      "source": [
        "stock_df = get_dataset(\"stock-oil-final:latest\", project=\"master-test\")\n",
        "meta_df = get_dataset(\"meta-oil-final:latest\", project=\"master-test\")\n",
        "fundamentals_df = get_dataset(\"fundamentals-oil-final:latest\", project=\"master-test\")\n",
        "macro_df = get_dataset(\"macro-oil-final:latest\", project=\"master-test\")"
      ],
      "metadata": {
        "colab": {
          "base_uri": "https://localhost:8080/",
          "height": 0,
          "referenced_widgets": [
            "95b467f9a05147aeb0dd473e70236949",
            "b53d29ace4b7487b92bba1901adac858",
            "0df0f9c517da4957ba9f25d3d77889b0",
            "abebe99eb1e545f8bee22ff5a45fe299",
            "6c997f3ffd294c4c8794b6e2b8d232ab",
            "dec6c2b1482d4b77b5a669c4868a134f",
            "3a79935bbabd4aefba993c8a3076e747",
            "eadad77bbd8d4970b893553f1a781d8b",
            "60eb504d0db14de696e568683e69ce3f",
            "d2b80777ce784e02982fecfe87a9ef5c",
            "ca9080e558c34020a639eace222ced82",
            "3e376f56462a44ed9a9a7888b9afb1e5",
            "fd9a34da0cd4408bb05fe73492324f82",
            "6223cab286e84eaeaa7aba7955a65d8a",
            "67bfe81807094671a64a0c64adf07884",
            "bc374ca5d1214526a72edba259dfaea3",
            "6d7cb4196c364915b8619774b841e14c",
            "d0f585b706704d0c9dc552565d72f0be",
            "0f67f684087c4575b72d267ff7bc6fbd",
            "ff974a5429e944f6b8c5051f7f82762a",
            "5dbfc85271e94065b4293267dff647d6",
            "42cb6150b3c3437daef3156ef9b59d44",
            "9bb5fa1a113e49349279d81bb388296b",
            "130d9568283c40c9a73aa0848b1a5f78",
            "42dd494cdbee4941af0a7c3a26f02190",
            "f67a930c39154a719db014acc716a4da",
            "50956431674749579c67876523387ad9",
            "0752959c81bc49b2a392d3b72c645baa",
            "1353bedf823b4804ae3fa50251d4a561",
            "cec29c1047bb4151b26e9ce425c44baa",
            "003db11e70834ddd8316a42702931f4d",
            "df75603d358847f2a674c136d508a9b2"
          ]
        },
        "id": "GHmOVxnnHYU_",
        "outputId": "d952eb3c-60c3-4109-bd7b-11eff6d07e65"
      },
      "execution_count": 10,
      "outputs": [
        {
          "output_type": "stream",
          "name": "stderr",
          "text": [
            "\u001b[34m\u001b[1mwandb\u001b[0m: Currently logged in as: \u001b[33mkjartan\u001b[0m (\u001b[33mkrankile\u001b[0m). Use \u001b[1m`wandb login --relogin`\u001b[0m to force relogin\n"
          ]
        },
        {
          "output_type": "display_data",
          "data": {
            "text/plain": [
              "<IPython.core.display.HTML object>"
            ],
            "text/html": [
              "Tracking run with wandb version 0.12.16"
            ]
          },
          "metadata": {}
        },
        {
          "output_type": "display_data",
          "data": {
            "text/plain": [
              "<IPython.core.display.HTML object>"
            ],
            "text/html": [
              "Run data is saved locally in <code>/content/wandb/run-20220513_114434-34pt4cx4</code>"
            ]
          },
          "metadata": {}
        },
        {
          "output_type": "display_data",
          "data": {
            "text/plain": [
              "<IPython.core.display.HTML object>"
            ],
            "text/html": [
              "Syncing run <strong><a href=\"https://wandb.ai/krankile/master-test/runs/34pt4cx4\" target=\"_blank\">jumping-energy-228</a></strong> to <a href=\"https://wandb.ai/krankile/master-test\" target=\"_blank\">Weights & Biases</a> (<a href=\"https://wandb.me/run\" target=\"_blank\">docs</a>)<br/>"
            ]
          },
          "metadata": {}
        },
        {
          "output_type": "stream",
          "name": "stderr",
          "text": [
            "\u001b[34m\u001b[1mwandb\u001b[0m: Downloading large artifact stock-oil-final:latest, 77.63MB. 1 files... Done. 0:0:0\n"
          ]
        },
        {
          "output_type": "display_data",
          "data": {
            "text/plain": [
              "<IPython.core.display.HTML object>"
            ],
            "text/html": [
              "Waiting for W&B process to finish... <strong style=\"color:green\">(success).</strong>"
            ]
          },
          "metadata": {}
        },
        {
          "output_type": "display_data",
          "data": {
            "text/plain": [
              "VBox(children=(Label(value='0.000 MB of 0.000 MB uploaded (0.000 MB deduped)\\r'), FloatProgress(value=1.0, max…"
            ],
            "application/vnd.jupyter.widget-view+json": {
              "version_major": 2,
              "version_minor": 0,
              "model_id": "95b467f9a05147aeb0dd473e70236949"
            }
          },
          "metadata": {}
        },
        {
          "output_type": "display_data",
          "data": {
            "text/plain": [
              "<IPython.core.display.HTML object>"
            ],
            "text/html": [
              "Synced <strong style=\"color:#cdcd00\">jumping-energy-228</strong>: <a href=\"https://wandb.ai/krankile/master-test/runs/34pt4cx4\" target=\"_blank\">https://wandb.ai/krankile/master-test/runs/34pt4cx4</a><br/>Synced 5 W&B file(s), 0 media file(s), 0 artifact file(s) and 0 other file(s)"
            ]
          },
          "metadata": {}
        },
        {
          "output_type": "display_data",
          "data": {
            "text/plain": [
              "<IPython.core.display.HTML object>"
            ],
            "text/html": [
              "Find logs at: <code>./wandb/run-20220513_114434-34pt4cx4/logs</code>"
            ]
          },
          "metadata": {}
        },
        {
          "output_type": "display_data",
          "data": {
            "text/plain": [
              "<IPython.core.display.HTML object>"
            ],
            "text/html": [
              "Tracking run with wandb version 0.12.16"
            ]
          },
          "metadata": {}
        },
        {
          "output_type": "display_data",
          "data": {
            "text/plain": [
              "<IPython.core.display.HTML object>"
            ],
            "text/html": [
              "Run data is saved locally in <code>/content/wandb/run-20220513_114450-3n6z8vlf</code>"
            ]
          },
          "metadata": {}
        },
        {
          "output_type": "display_data",
          "data": {
            "text/plain": [
              "<IPython.core.display.HTML object>"
            ],
            "text/html": [
              "Syncing run <strong><a href=\"https://wandb.ai/krankile/master-test/runs/3n6z8vlf\" target=\"_blank\">prime-totem-230</a></strong> to <a href=\"https://wandb.ai/krankile/master-test\" target=\"_blank\">Weights & Biases</a> (<a href=\"https://wandb.me/run\" target=\"_blank\">docs</a>)<br/>"
            ]
          },
          "metadata": {}
        },
        {
          "output_type": "display_data",
          "data": {
            "text/plain": [
              "<IPython.core.display.HTML object>"
            ],
            "text/html": [
              "Waiting for W&B process to finish... <strong style=\"color:green\">(success).</strong>"
            ]
          },
          "metadata": {}
        },
        {
          "output_type": "display_data",
          "data": {
            "text/plain": [
              "VBox(children=(Label(value='0.000 MB of 0.000 MB uploaded (0.000 MB deduped)\\r'), FloatProgress(value=1.0, max…"
            ],
            "application/vnd.jupyter.widget-view+json": {
              "version_major": 2,
              "version_minor": 0,
              "model_id": "60eb504d0db14de696e568683e69ce3f"
            }
          },
          "metadata": {}
        },
        {
          "output_type": "display_data",
          "data": {
            "text/plain": [
              "<IPython.core.display.HTML object>"
            ],
            "text/html": [
              "Synced <strong style=\"color:#cdcd00\">prime-totem-230</strong>: <a href=\"https://wandb.ai/krankile/master-test/runs/3n6z8vlf\" target=\"_blank\">https://wandb.ai/krankile/master-test/runs/3n6z8vlf</a><br/>Synced 4 W&B file(s), 0 media file(s), 0 artifact file(s) and 0 other file(s)"
            ]
          },
          "metadata": {}
        },
        {
          "output_type": "display_data",
          "data": {
            "text/plain": [
              "<IPython.core.display.HTML object>"
            ],
            "text/html": [
              "Find logs at: <code>./wandb/run-20220513_114450-3n6z8vlf/logs</code>"
            ]
          },
          "metadata": {}
        },
        {
          "output_type": "display_data",
          "data": {
            "text/plain": [
              "<IPython.core.display.HTML object>"
            ],
            "text/html": [
              "Tracking run with wandb version 0.12.16"
            ]
          },
          "metadata": {}
        },
        {
          "output_type": "display_data",
          "data": {
            "text/plain": [
              "<IPython.core.display.HTML object>"
            ],
            "text/html": [
              "Run data is saved locally in <code>/content/wandb/run-20220513_114500-3eaa8rx7</code>"
            ]
          },
          "metadata": {}
        },
        {
          "output_type": "display_data",
          "data": {
            "text/plain": [
              "<IPython.core.display.HTML object>"
            ],
            "text/html": [
              "Syncing run <strong><a href=\"https://wandb.ai/krankile/master-test/runs/3eaa8rx7\" target=\"_blank\">ethereal-salad-231</a></strong> to <a href=\"https://wandb.ai/krankile/master-test\" target=\"_blank\">Weights & Biases</a> (<a href=\"https://wandb.me/run\" target=\"_blank\">docs</a>)<br/>"
            ]
          },
          "metadata": {}
        },
        {
          "output_type": "display_data",
          "data": {
            "text/plain": [
              "<IPython.core.display.HTML object>"
            ],
            "text/html": [
              "Waiting for W&B process to finish... <strong style=\"color:green\">(success).</strong>"
            ]
          },
          "metadata": {}
        },
        {
          "output_type": "display_data",
          "data": {
            "text/plain": [
              "VBox(children=(Label(value='0.000 MB of 0.000 MB uploaded (0.000 MB deduped)\\r'), FloatProgress(value=1.0, max…"
            ],
            "application/vnd.jupyter.widget-view+json": {
              "version_major": 2,
              "version_minor": 0,
              "model_id": "6d7cb4196c364915b8619774b841e14c"
            }
          },
          "metadata": {}
        },
        {
          "output_type": "display_data",
          "data": {
            "text/plain": [
              "<IPython.core.display.HTML object>"
            ],
            "text/html": [
              "Synced <strong style=\"color:#cdcd00\">ethereal-salad-231</strong>: <a href=\"https://wandb.ai/krankile/master-test/runs/3eaa8rx7\" target=\"_blank\">https://wandb.ai/krankile/master-test/runs/3eaa8rx7</a><br/>Synced 4 W&B file(s), 0 media file(s), 0 artifact file(s) and 0 other file(s)"
            ]
          },
          "metadata": {}
        },
        {
          "output_type": "display_data",
          "data": {
            "text/plain": [
              "<IPython.core.display.HTML object>"
            ],
            "text/html": [
              "Find logs at: <code>./wandb/run-20220513_114500-3eaa8rx7/logs</code>"
            ]
          },
          "metadata": {}
        },
        {
          "output_type": "display_data",
          "data": {
            "text/plain": [
              "<IPython.core.display.HTML object>"
            ],
            "text/html": [
              "Tracking run with wandb version 0.12.16"
            ]
          },
          "metadata": {}
        },
        {
          "output_type": "display_data",
          "data": {
            "text/plain": [
              "<IPython.core.display.HTML object>"
            ],
            "text/html": [
              "Run data is saved locally in <code>/content/wandb/run-20220513_114512-p4b3y9bh</code>"
            ]
          },
          "metadata": {}
        },
        {
          "output_type": "display_data",
          "data": {
            "text/plain": [
              "<IPython.core.display.HTML object>"
            ],
            "text/html": [
              "Syncing run <strong><a href=\"https://wandb.ai/krankile/master-test/runs/p4b3y9bh\" target=\"_blank\">neat-dragon-232</a></strong> to <a href=\"https://wandb.ai/krankile/master-test\" target=\"_blank\">Weights & Biases</a> (<a href=\"https://wandb.me/run\" target=\"_blank\">docs</a>)<br/>"
            ]
          },
          "metadata": {}
        },
        {
          "output_type": "display_data",
          "data": {
            "text/plain": [
              "<IPython.core.display.HTML object>"
            ],
            "text/html": [
              "Waiting for W&B process to finish... <strong style=\"color:green\">(success).</strong>"
            ]
          },
          "metadata": {}
        },
        {
          "output_type": "display_data",
          "data": {
            "text/plain": [
              "VBox(children=(Label(value='0.000 MB of 0.000 MB uploaded (0.000 MB deduped)\\r'), FloatProgress(value=1.0, max…"
            ],
            "application/vnd.jupyter.widget-view+json": {
              "version_major": 2,
              "version_minor": 0,
              "model_id": "42dd494cdbee4941af0a7c3a26f02190"
            }
          },
          "metadata": {}
        },
        {
          "output_type": "display_data",
          "data": {
            "text/plain": [
              "<IPython.core.display.HTML object>"
            ],
            "text/html": [
              "Synced <strong style=\"color:#cdcd00\">neat-dragon-232</strong>: <a href=\"https://wandb.ai/krankile/master-test/runs/p4b3y9bh\" target=\"_blank\">https://wandb.ai/krankile/master-test/runs/p4b3y9bh</a><br/>Synced 4 W&B file(s), 0 media file(s), 0 artifact file(s) and 0 other file(s)"
            ]
          },
          "metadata": {}
        },
        {
          "output_type": "display_data",
          "data": {
            "text/plain": [
              "<IPython.core.display.HTML object>"
            ],
            "text/html": [
              "Find logs at: <code>./wandb/run-20220513_114512-p4b3y9bh/logs</code>"
            ]
          },
          "metadata": {}
        }
      ]
    },
    {
      "cell_type": "markdown",
      "source": [
        "# Define a dataset which can iterate through time "
      ],
      "metadata": {
        "id": "CV5EqsYaPA0p"
      }
    },
    {
      "cell_type": "markdown",
      "source": [
        "We want to train our neural network like the person experiences the world. I.e. we have a window of time and look at recent financial rapports, macro variables to predict future market capitalization. We want to train multiple epochs over one time window and validation period, in this manner we will not have any \"learned future\" effect which could occur if one were to have epochs run over the all time windows. "
      ],
      "metadata": {
        "id": "QCwNqchQPIH5"
      }
    },
    {
      "cell_type": "code",
      "source": [
        "class TimeDeltaDataset(Dataset):\n",
        "    \n",
        "    def _get_last_q_fundamentals(self, target, fundamental_df, q):\n",
        "        for key, df in tqdm(fundamental_df.groupby(by=\"ticker\")):\n",
        "            \n",
        "            padding = pd.DataFrame(np.empty((q, fundamental_df.loc[:,\"revenue\":].shape[1])),columns=df.loc[:,\"revenue\":].columns)\n",
        "            padding[:] = np.nan\n",
        "            padded_df = pd.concat([padding, df.loc[:,\"revenue\":]] , axis=0)\n",
        "            \n",
        "            target = pd.concat([target, padded_df.iloc[-q:,:]],axis=0)\n",
        "        return target         \n",
        "    \n",
        "    def _get_global_local_column(self, stock_df):\n",
        "        last_market_cap_col = pd.Series()\n",
        "        for ticker, df in stock_df.groupby(by=\"ticker\"):\n",
        "            last_market_cap_col[ticker] = stock_df.market_cap.iloc[df.market_cap.last_valid_index()]\n",
        "\n",
        "        min_max_scaler = MinMaxScaler()\n",
        "        \n",
        "        #Add column to learn relative values\n",
        "        apple_market_cap = 2.687*(10**12) #ish as of may 2022 (USD)\n",
        "        \n",
        "        relative_to_global_market_column = last_market_cap_col / apple_market_cap\n",
        "       \n",
        "        relative_to_current_market_column = min_max_scaler.fit_transform(last_market_cap_col.to_numpy().reshape((-1,1)))\n",
        "        relative_to_current_market_column = pd.Series(relative_to_current_market_column[:,0], index=last_market_cap_col.index) \n",
        "\n",
        "        return relative_to_global_market_column, relative_to_current_market_column, last_market_cap_col\n",
        "    \n",
        "    def _get_stocks_in_timeframe(self, stock_df, stock_dates, min_max_scaler=True):\n",
        "        #TODO this needs a speedup when getting forecasts \n",
        "        to_be_transposed = pd.DataFrame(index=stock_dates)\n",
        "\n",
        "        for i, (ticker, df) in enumerate(tqdm(stock_df.groupby(by=\"ticker\"))):\n",
        "            \n",
        "            if min_max_scaler:\n",
        "                min_max_scaler = MinMaxScaler()\n",
        "                \n",
        "                df.market_cap = min_max_scaler.fit_transform(df.market_cap.to_numpy().reshape((-1,1)))\n",
        "            \n",
        "            ticker_df = pd.DataFrame(df[[\"date\", \"market_cap\"]]).set_index(\"date\",drop=True).rename(columns={\"market_cap\":ticker})\n",
        "            \n",
        "            to_be_transposed = to_be_transposed.join(ticker_df)\n",
        "            if i % 50 and i != 0:\n",
        "                to_be_transposed = to_be_transposed.loc[~to_be_transposed.index.duplicated(),:]\n",
        "        \n",
        "        return to_be_transposed.T.loc[:,~to_be_transposed.T.columns.duplicated()]\n",
        "    \n",
        "    def _get_macro_normalized(self, macro_df):\n",
        "        df = macro_df.copy()\n",
        "        for column in [c for c in macro_df.columns if (c != \"date\") and (\"=\" not in c)]:\n",
        "            df[column] = macro_df[column]/ (int(math.ceil(macro_df[column].max() / 100.0)) * 100)\n",
        "        return df\n",
        "\n",
        "    def __init__(self, current_time, forecast_window, number_of_trading_days, q_quarterly_rapports, stock_df, fundamental_df, meta_df, macro_df):\n",
        "        back_in_time = timedelta(number_of_trading_days)\n",
        "        forecast_horizon = timedelta(forecast_window)\n",
        "\n",
        "        legal_stock_df = stock_df[(stock_df.date >= current_time - back_in_time) & (stock_df.date < current_time)] #TODO change to current_time - stock__macro_days_lookback_days\n",
        "        legal_fundamental_df = fundamental_df[fundamental_df.announce_date < current_time]\n",
        "        legal_meta_df = meta_df.set_index(\"ticker\")\n",
        "        \n",
        "        legal_macro_df = macro_df[(macro_df.date >= current_time - back_in_time) & (stock_df.date < current_time)] #TODO change to current_time - stock__macro_days_lookback_days\n",
        "        \n",
        "        #Important dimensions\n",
        "        n_companies_with_fundamentals = len(legal_fundamental_df.ticker.unique())\n",
        "        m_fundamentals = legal_fundamental_df.loc[:,\"revenue\":].shape[1]\n",
        "\n",
        "        #Get last q fundamentals and return NA rows if they are still missing\n",
        "        fundamental_df_all_quarters = pd.DataFrame(data=np.empty((0,m_fundamentals)),columns=fundamental_df.loc[:,\"revenue\":].columns)   \n",
        "        fundamental_df_all_quarters = self._get_last_q_fundamentals(fundamental_df_all_quarters, legal_fundamental_df, q_quarterly_rapports)\n",
        "        fundamentals = fundamental_df_all_quarters.to_numpy().reshape((n_companies_with_fundamentals, q_quarterly_rapports*m_fundamentals))\n",
        "        \n",
        "        #Construct columns for relative information \n",
        "        relative_to_global_market_column, relative_to_current_market_column, last_market_cap_col = self._get_global_local_column(stock_df)\n",
        "        \n",
        "        #Create dataframe\n",
        "        historic_dates = pd.date_range(start=current_time-back_in_time, end=current_time, freq=\"D\")\n",
        "        forecast_dates = pd.date_range(start=current_time+timedelta(1), end=current_time+forecast_horizon, freq=\"D\")\n",
        "\n",
        "        fund_columns = []\n",
        "        for i in range(q_quarterly_rapports):\n",
        "            fund_columns.extend(fundamental_df.loc[0,\"revenue\":].index.to_series().map(lambda title: f\"{title}_q=-{q_quarterly_rapports-i}\"))    \n",
        "        columns =  [\"global_relative\"] + [\"peers_relative\"] + fund_columns\n",
        "        fundamental_df = pd.DataFrame(index=legal_fundamental_df.ticker.unique(), columns=columns)\n",
        "        \n",
        "        #Load data\n",
        "        fundamental_df[\"peers_relative\"]  = relative_to_current_market_column.loc[legal_fundamental_df.ticker.unique()]\n",
        "        fundamental_df[\"global_relative\"] = relative_to_global_market_column.loc[legal_fundamental_df.ticker.unique()]\n",
        "\n",
        "        formated_stocks = self._get_stocks_in_timeframe(legal_stock_df, historic_dates)\n",
        "         \n",
        "        fundamental_df.loc[:,f\"revenue_q={-q_quarterly_rapports}\":\"net_income_p_q=-1\"] = fundamentals\n",
        "        for q in range(q_quarterly_rapports,0,-1):\n",
        "            fundamental_df.loc[:,f\"revenue_q={-q}\":f\"fcf_q={-q}\"] = fundamental_df.loc[:,f\"revenue_q={-q}\":f\"fcf_q={-q}\"].div(last_market_cap_col, axis=0)\n",
        "            fundamental_df.loc[:,f\"total_assets_q={-q}\":f\"total_current_liabilities_q={-q}\"] = fundamental_df.loc[:,f\"total_assets_q={-q}\":f\"total_current_liabilities_q={-q}\"].div(fundamental_df.loc[:,f\"total_assets_q={-q}\"], axis=0)\n",
        "            fundamental_df = fundamental_df.drop(columns=f\"total_assets_q={-q}\")\n",
        "\n",
        "        self.stocks_and_fundamentals = formated_stocks.join(fundamental_df)\n",
        "        \n",
        "        # Get forecasts\n",
        "        \n",
        "        forecasts = stock_df[(stock_df.date > current_time) & (stock_df.date <= current_time + forecast_horizon)]\n",
        "        \n",
        "        forecasts_unormalized = self._get_stocks_in_timeframe(forecasts, forecast_dates, min_max_scaler=False)\n",
        "        forecasts_normalized = forecasts_unormalized.div(last_market_cap_col, axis=0)\n",
        "        self.forecast = forecasts_normalized.loc[self.stocks_and_fundamentals.index,:]\n",
        "        \n",
        "        #Join meta and stock-fundamentals\n",
        "        legal_meta_df = legal_meta_df.loc[self.stocks_and_fundamentals.index,:] \n",
        "        legal_meta_df.loc[:,\"exchange_code\":\"state_province_hq\"] = legal_meta_df.loc[:,\"exchange_code\":\"state_province_hq\"].astype(\"category\")\n",
        "        legal_meta_df.loc[:,\"economic_sector\":\"activity\"] = legal_meta_df.loc[:,\"economic_sector\":\"activity\"].astype(\"category\")\n",
        "        \n",
        "        legal_meta_df[\"founding_year\"] = legal_meta_df[\"founding_year\"]/2000  \n",
        "        self.meta_df = legal_meta_df\n",
        "        \n",
        "        #Ready macro data\n",
        "        self.macro_df = self._get_macro_normalized(legal_macro_df).iloc[:,1:]\n",
        "\n",
        "\n",
        "    def __len__(self):\n",
        "        return self.stocks_and_fundamentals.shape[0]\n",
        "\n",
        "    def __getitem__(self, idx):\n",
        "        \n",
        "        return (self.stocks_and_fundamentals.iloc[idx,:].values, self.legal_meta_df.iloc[idx,:].values, self.macro_df.T.values().reshape((1,-1))), self.forecast.iloc[idx,:]"
      ],
      "metadata": {
        "id": "xW2ud-LpQOGI"
      },
      "execution_count": 11,
      "outputs": []
    },
    {
      "cell_type": "code",
      "source": [
        "current_time = pd.to_datetime(\"2020-01-01\")\n",
        "number_of_quarterly_rapports = 4\n",
        "number_of_trading_days = 365\n",
        "forecast_window = 30\n",
        "\n",
        "delta_set = TimeDeltaDataset(current_time, forecast_window, number_of_trading_days, number_of_quarterly_rapports, stock_df, fundamentals_df, meta_df, macro_df)"
      ],
      "metadata": {
        "colab": {
          "base_uri": "https://localhost:8080/"
        },
        "id": "Sb7OVdkI7rra",
        "outputId": "0f46b8dd-d40a-44a3-9d7c-5ee21438c5ea"
      },
      "execution_count": 12,
      "outputs": [
        {
          "output_type": "stream",
          "name": "stderr",
          "text": [
            "/usr/local/lib/python3.7/dist-packages/ipykernel_launcher.py:63: UserWarning: Boolean Series key will be reindexed to match DataFrame index.\n",
            "100%|██████████| 862/862 [00:10<00:00, 81.91it/s]\n",
            "/usr/local/lib/python3.7/dist-packages/ipykernel_launcher.py:14: DeprecationWarning: The default dtype for empty Series will be 'object' instead of 'float64' in a future version. Specify a dtype explicitly to silence this warning.\n",
            "  \n",
            "100%|██████████| 866/866 [00:08<00:00, 103.85it/s]\n",
            "100%|██████████| 864/864 [00:47<00:00, 18.11it/s]\n"
          ]
        }
      ]
    },
    {
      "cell_type": "markdown",
      "source": [
        "# Run the loop! (Like Odd-Geir Lademo)"
      ],
      "metadata": {
        "id": "s5zbIHNQHUNH"
      }
    },
    {
      "cell_type": "code",
      "source": [
        "def train_multivar(model, optimizer, loss_fn, data_train, data_val, one_hot_encoding, batch_number, forecast_window, epochs, device):\n",
        "\n",
        "# print(model)\n",
        "train_losses = []\n",
        "val_losses = []\n",
        "it = tqdm(range(epochs), disable=True)\n",
        "for epoch in it: \n",
        "    for run_type in [\"train\", \"val\"]:\n",
        "        model.train(run_type == \"train\")\n",
        "\n",
        "        if run_type == \"train\":\n",
        "            optimizer.zero_grad()\n",
        "\n",
        "            mu, sigma = 0, 0.1\n",
        "            noise = np.random.normal(mu, sigma, data_train.shape)\n",
        "            noise[:,-forecast_window:] = 0\n",
        "\n",
        "            data_train = data_train + noise\n",
        "            data_encoded = pd.concat([one_hot_encoding, data_train], axis=1, join=\"inner\")\n",
        "\n",
        "        else:\n",
        "            data_encoded = pd.concat([one_hot_encoding, data_val], axis=1, join=\"inner\")\n",
        "\n",
        "        data_shuffled = torch.tensor(data_encoded.sample(frac=1).values, dtype=torch.float32)\n",
        "\n",
        "        for batch in torch.split(data_shuffled, batch_number, dim=0):\n",
        "\n",
        "            inputs = batch[:,:-forecast_window].to(device)\n",
        "            actuals = batch[:,-forecast_window:].to(device)\n",
        "\n",
        "            pred = model(inputs[:, 3:], inputs[:, 0:3])\n",
        "            loss = loss_fn(pred, actuals)\n",
        "\n",
        "            if run_type == \"train\":\n",
        "                train_losses.append(loss.item())\n",
        "                loss.backward()\n",
        "\n",
        "                optimizer.step()\n",
        "            else:\n",
        "                val_losses.append(loss.item())\n",
        "\n",
        "    it.set_postfix({\"train_loss\": np.mean(train_losses), \"val_loss\": np.mean(val_losses)})\n",
        "\n",
        "return train_losses, val_losses"
      ],
      "metadata": {
        "id": "lRHUgmiYTrC-",
        "colab": {
          "base_uri": "https://localhost:8080/",
          "height": 135
        },
        "outputId": "0b68dab7-e123-44ec-ade9-aa7dc33c41b6"
      },
      "execution_count": null,
      "outputs": [
        {
          "output_type": "error",
          "ename": "IndentationError",
          "evalue": "ignored",
          "traceback": [
            "\u001b[0;36m  File \u001b[0;32m\"<ipython-input-12-27590b8b6a1f>\"\u001b[0;36m, line \u001b[0;32m4\u001b[0m\n\u001b[0;31m    train_losses = []\u001b[0m\n\u001b[0m               ^\u001b[0m\n\u001b[0;31mIndentationError\u001b[0m\u001b[0;31m:\u001b[0m expected an indented block\n"
          ]
        }
      ]
    },
    {
      "cell_type": "code",
      "source": [
        "def run_multivar(hidden_dim):\n",
        "    #Training loop params\n",
        "    forecast_window = 16\n",
        "    amount_of_time_series = 999\n",
        "    length_of_time_series = 500\n",
        "    epochs = 200\n",
        "    batch_size = 111\n",
        "    \n",
        "\n",
        "\n",
        "    #_, TS_signal, one_hot_encoding  = time_series_df(amount_of_time_series,length_of_time_series,periods, horisontal_shift, vertical_shift, forecast_window)\n",
        "\n",
        "    df_train = TS_signal.iloc[-int(amount_of_time_series/3):,:]\n",
        "    df_val = TS_signal.iloc[:-int(amount_of_time_series/3),:]\n",
        "\n",
        "    loss_fn = nn.L1Loss()\n",
        "    \n",
        "    model = MultivariateNetwork(length_of_time_series, one_hot_encoding.shape[1], forecast_window, hidden_dim)\n",
        "    model = model.to(device)\n",
        "    optimizer = torch.optim.Adam(model.parameters(), lr=0.001)\n",
        "\n",
        "    return train_multivar(model, optimizer, loss_fn, df_train, df_val, one_hot_encoding, batch_size, forecast_window, epochs, device)"
      ],
      "metadata": {
        "id": "bkgR_5stGCTm"
      },
      "execution_count": null,
      "outputs": []
    }
  ]
}