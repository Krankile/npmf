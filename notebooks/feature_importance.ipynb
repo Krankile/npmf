{
  "nbformat": 4,
  "nbformat_minor": 0,
  "metadata": {
    "colab": {
      "name": "feature_importance.ipynb",
      "provenance": [],
      "collapsed_sections": [
        "Q5SUdWPCYeTL",
        "_gUXh_4gpDKc"
      ],
      "include_colab_link": true
    },
    "kernelspec": {
      "name": "python3",
      "display_name": "Python 3"
    },
    "language_info": {
      "name": "python"
    },
    "widgets": {
      "application/vnd.jupyter.widget-state+json": {
        "65309f3ea0a14a9ea1a01b54c7fbdec0": {
          "model_module": "@jupyter-widgets/controls",
          "model_name": "VBoxModel",
          "model_module_version": "1.5.0",
          "state": {
            "_dom_classes": [],
            "_model_module": "@jupyter-widgets/controls",
            "_model_module_version": "1.5.0",
            "_model_name": "VBoxModel",
            "_view_count": null,
            "_view_module": "@jupyter-widgets/controls",
            "_view_module_version": "1.5.0",
            "_view_name": "VBoxView",
            "box_style": "",
            "children": [
              "IPY_MODEL_b81f0fa4d05840ab8232af2b95bbcfef",
              "IPY_MODEL_6afad33d5fdf434b986aedbe1c493dca"
            ],
            "layout": "IPY_MODEL_e7eee78b05e94064845a5258b02ec12b"
          }
        },
        "b81f0fa4d05840ab8232af2b95bbcfef": {
          "model_module": "@jupyter-widgets/controls",
          "model_name": "LabelModel",
          "model_module_version": "1.5.0",
          "state": {
            "_dom_classes": [],
            "_model_module": "@jupyter-widgets/controls",
            "_model_module_version": "1.5.0",
            "_model_name": "LabelModel",
            "_view_count": null,
            "_view_module": "@jupyter-widgets/controls",
            "_view_module_version": "1.5.0",
            "_view_name": "LabelView",
            "description": "",
            "description_tooltip": null,
            "layout": "IPY_MODEL_1359593a02174602b440a7e2d0761e53",
            "placeholder": "​",
            "style": "IPY_MODEL_3c194aa04d4d477e854deb2409b8e8e0",
            "value": "0.008 MB of 0.008 MB uploaded (0.000 MB deduped)\r"
          }
        },
        "6afad33d5fdf434b986aedbe1c493dca": {
          "model_module": "@jupyter-widgets/controls",
          "model_name": "FloatProgressModel",
          "model_module_version": "1.5.0",
          "state": {
            "_dom_classes": [],
            "_model_module": "@jupyter-widgets/controls",
            "_model_module_version": "1.5.0",
            "_model_name": "FloatProgressModel",
            "_view_count": null,
            "_view_module": "@jupyter-widgets/controls",
            "_view_module_version": "1.5.0",
            "_view_name": "ProgressView",
            "bar_style": "",
            "description": "",
            "description_tooltip": null,
            "layout": "IPY_MODEL_286d73feaff444439d8af91d279392b3",
            "max": 1,
            "min": 0,
            "orientation": "horizontal",
            "style": "IPY_MODEL_bd352475fd754449bb931ddcad0bfa4c",
            "value": 1
          }
        },
        "e7eee78b05e94064845a5258b02ec12b": {
          "model_module": "@jupyter-widgets/base",
          "model_name": "LayoutModel",
          "model_module_version": "1.2.0",
          "state": {
            "_model_module": "@jupyter-widgets/base",
            "_model_module_version": "1.2.0",
            "_model_name": "LayoutModel",
            "_view_count": null,
            "_view_module": "@jupyter-widgets/base",
            "_view_module_version": "1.2.0",
            "_view_name": "LayoutView",
            "align_content": null,
            "align_items": null,
            "align_self": null,
            "border": null,
            "bottom": null,
            "display": null,
            "flex": null,
            "flex_flow": null,
            "grid_area": null,
            "grid_auto_columns": null,
            "grid_auto_flow": null,
            "grid_auto_rows": null,
            "grid_column": null,
            "grid_gap": null,
            "grid_row": null,
            "grid_template_areas": null,
            "grid_template_columns": null,
            "grid_template_rows": null,
            "height": null,
            "justify_content": null,
            "justify_items": null,
            "left": null,
            "margin": null,
            "max_height": null,
            "max_width": null,
            "min_height": null,
            "min_width": null,
            "object_fit": null,
            "object_position": null,
            "order": null,
            "overflow": null,
            "overflow_x": null,
            "overflow_y": null,
            "padding": null,
            "right": null,
            "top": null,
            "visibility": null,
            "width": null
          }
        },
        "1359593a02174602b440a7e2d0761e53": {
          "model_module": "@jupyter-widgets/base",
          "model_name": "LayoutModel",
          "model_module_version": "1.2.0",
          "state": {
            "_model_module": "@jupyter-widgets/base",
            "_model_module_version": "1.2.0",
            "_model_name": "LayoutModel",
            "_view_count": null,
            "_view_module": "@jupyter-widgets/base",
            "_view_module_version": "1.2.0",
            "_view_name": "LayoutView",
            "align_content": null,
            "align_items": null,
            "align_self": null,
            "border": null,
            "bottom": null,
            "display": null,
            "flex": null,
            "flex_flow": null,
            "grid_area": null,
            "grid_auto_columns": null,
            "grid_auto_flow": null,
            "grid_auto_rows": null,
            "grid_column": null,
            "grid_gap": null,
            "grid_row": null,
            "grid_template_areas": null,
            "grid_template_columns": null,
            "grid_template_rows": null,
            "height": null,
            "justify_content": null,
            "justify_items": null,
            "left": null,
            "margin": null,
            "max_height": null,
            "max_width": null,
            "min_height": null,
            "min_width": null,
            "object_fit": null,
            "object_position": null,
            "order": null,
            "overflow": null,
            "overflow_x": null,
            "overflow_y": null,
            "padding": null,
            "right": null,
            "top": null,
            "visibility": null,
            "width": null
          }
        },
        "3c194aa04d4d477e854deb2409b8e8e0": {
          "model_module": "@jupyter-widgets/controls",
          "model_name": "DescriptionStyleModel",
          "model_module_version": "1.5.0",
          "state": {
            "_model_module": "@jupyter-widgets/controls",
            "_model_module_version": "1.5.0",
            "_model_name": "DescriptionStyleModel",
            "_view_count": null,
            "_view_module": "@jupyter-widgets/base",
            "_view_module_version": "1.2.0",
            "_view_name": "StyleView",
            "description_width": ""
          }
        },
        "286d73feaff444439d8af91d279392b3": {
          "model_module": "@jupyter-widgets/base",
          "model_name": "LayoutModel",
          "model_module_version": "1.2.0",
          "state": {
            "_model_module": "@jupyter-widgets/base",
            "_model_module_version": "1.2.0",
            "_model_name": "LayoutModel",
            "_view_count": null,
            "_view_module": "@jupyter-widgets/base",
            "_view_module_version": "1.2.0",
            "_view_name": "LayoutView",
            "align_content": null,
            "align_items": null,
            "align_self": null,
            "border": null,
            "bottom": null,
            "display": null,
            "flex": null,
            "flex_flow": null,
            "grid_area": null,
            "grid_auto_columns": null,
            "grid_auto_flow": null,
            "grid_auto_rows": null,
            "grid_column": null,
            "grid_gap": null,
            "grid_row": null,
            "grid_template_areas": null,
            "grid_template_columns": null,
            "grid_template_rows": null,
            "height": null,
            "justify_content": null,
            "justify_items": null,
            "left": null,
            "margin": null,
            "max_height": null,
            "max_width": null,
            "min_height": null,
            "min_width": null,
            "object_fit": null,
            "object_position": null,
            "order": null,
            "overflow": null,
            "overflow_x": null,
            "overflow_y": null,
            "padding": null,
            "right": null,
            "top": null,
            "visibility": null,
            "width": null
          }
        },
        "bd352475fd754449bb931ddcad0bfa4c": {
          "model_module": "@jupyter-widgets/controls",
          "model_name": "ProgressStyleModel",
          "model_module_version": "1.5.0",
          "state": {
            "_model_module": "@jupyter-widgets/controls",
            "_model_module_version": "1.5.0",
            "_model_name": "ProgressStyleModel",
            "_view_count": null,
            "_view_module": "@jupyter-widgets/base",
            "_view_module_version": "1.2.0",
            "_view_name": "StyleView",
            "bar_color": null,
            "description_width": ""
          }
        }
      }
    },
    "accelerator": "GPU"
  },
  "cells": [
    {
      "cell_type": "markdown",
      "metadata": {
        "id": "view-in-github",
        "colab_type": "text"
      },
      "source": [
        "<a href=\"https://colab.research.google.com/github/Krankile/npmf/blob/main/notebooks/feature_importance.ipynb\" target=\"_parent\"><img src=\"https://colab.research.google.com/assets/colab-badge.svg\" alt=\"Open In Colab\"/></a>"
      ]
    },
    {
      "cell_type": "markdown",
      "source": [
        "#Setup"
      ],
      "metadata": {
        "id": "d8F5tl4NL7FZ"
      }
    },
    {
      "cell_type": "markdown",
      "source": [
        "##Kernel setup"
      ],
      "metadata": {
        "id": "Rwo44VGZLhAo"
      }
    },
    {
      "cell_type": "code",
      "source": [
        "%load_ext autoreload\n",
        "%autoreload 2"
      ],
      "metadata": {
        "id": "hKuFzk7aEmB9",
        "colab": {
          "base_uri": "https://localhost:8080/"
        },
        "outputId": "586ff392-2844-4ab8-f4fa-74466da69d2f"
      },
      "execution_count": 32,
      "outputs": [
        {
          "output_type": "stream",
          "name": "stdout",
          "text": [
            "The autoreload extension is already loaded. To reload it, use:\n",
            "  %reload_ext autoreload\n"
          ]
        }
      ]
    },
    {
      "cell_type": "code",
      "source": [
        "%%capture\n",
        "!git clone https://github.com/Krankile/npmf.git"
      ],
      "metadata": {
        "id": "91KPY7q0LUOw"
      },
      "execution_count": 33,
      "outputs": []
    },
    {
      "cell_type": "code",
      "source": [
        "%%capture\n",
        "!cd npmf && git pull"
      ],
      "metadata": {
        "id": "zGsSIhgXEkhz"
      },
      "execution_count": 34,
      "outputs": []
    },
    {
      "cell_type": "code",
      "source": [
        "%%capture\n",
        "!pip install wandb"
      ],
      "metadata": {
        "id": "AP0ibj0flPkH"
      },
      "execution_count": 35,
      "outputs": []
    },
    {
      "cell_type": "code",
      "source": [
        "!wandb login"
      ],
      "metadata": {
        "id": "gUXnibj8YEi1",
        "colab": {
          "base_uri": "https://localhost:8080/"
        },
        "outputId": "913dd155-e359-4f88-a3dc-07094bc5e8a5"
      },
      "execution_count": 36,
      "outputs": [
        {
          "output_type": "stream",
          "name": "stdout",
          "text": [
            "\u001b[34m\u001b[1mwandb\u001b[0m: Currently logged in as: \u001b[33mkjartan\u001b[0m (\u001b[33mkrankile\u001b[0m). Use \u001b[1m`wandb login --relogin`\u001b[0m to force relogin\n"
          ]
        }
      ]
    },
    {
      "cell_type": "markdown",
      "source": [
        "##General setup"
      ],
      "metadata": {
        "id": "CLAlA0htLgMY"
      }
    },
    {
      "cell_type": "code",
      "source": [
        "import os\n",
        "import multiprocessing\n",
        "\n",
        "from collections import defaultdict\n",
        "from collections import Counter\n",
        "from datetime import datetime\n",
        "from operator import itemgetter\n",
        "\n",
        "import numpy as np\n",
        "from numpy.ma.core import outerproduct\n",
        "import pandas as pd\n",
        "import matplotlib as mpl\n",
        "import matplotlib.pyplot as plt\n",
        "from tqdm import tqdm\n",
        "\n",
        "import wandb as wb\n",
        "\n",
        "import torch\n",
        "from torch import nn\n",
        "from torch.utils.data import DataLoader\n",
        "from torchvision import datasets, transforms\n",
        "\n",
        "from npmf.utils.colors import main, main2, main3\n",
        "from npmf.utils.eikon import column_mapping\n",
        "from npmf.utils.wandb import get_dataset, put_dataset, get_datasets, get_nn_model\n",
        "from npmf.utils.training import EarlyStop, to_device, TqdmPostFix, mape_loss\n",
        "from npmf.utils.dataset import EraDataset\n",
        "from npmf.utils.dtypes import fundamental_types\n",
        "from npmf.utils.training import mape_loss_2\n"
      ],
      "metadata": {
        "id": "1QSlgObXLq1p"
      },
      "execution_count": 37,
      "outputs": []
    },
    {
      "cell_type": "code",
      "source": [
        "mpl.rcParams['axes.prop_cycle'] = mpl.cycler(color=[main, main2, main3, \"black\"])\n",
        "mpl.rcParams['figure.figsize'] = (6, 4)  # (6, 4) is default and used in the paper"
      ],
      "metadata": {
        "id": "hkTjKKLmLvpl"
      },
      "execution_count": 38,
      "outputs": []
    },
    {
      "cell_type": "code",
      "source": [
        "device = \"cuda\" if torch.cuda.is_available() else \"cpu\"\n",
        "print(f\"Using {device} device\")"
      ],
      "metadata": {
        "id": "Dqy02oAvY7GM",
        "colab": {
          "base_uri": "https://localhost:8080/"
        },
        "outputId": "41883e97-1eb3-40a7-e052-79f4b0681dd6"
      },
      "execution_count": 39,
      "outputs": [
        {
          "output_type": "stream",
          "name": "stdout",
          "text": [
            "Using cuda device\n"
          ]
        }
      ]
    },
    {
      "cell_type": "code",
      "source": [
        "device = \"cpu\""
      ],
      "metadata": {
        "id": "5gMY85cgDeTZ"
      },
      "execution_count": 40,
      "outputs": []
    },
    {
      "cell_type": "code",
      "source": [
        "np.random.seed(420)"
      ],
      "metadata": {
        "id": "YVFtfDk0pYtd"
      },
      "execution_count": 41,
      "outputs": []
    },
    {
      "cell_type": "markdown",
      "source": [
        "# Set up a permutation loop to find what feature a net is utilizing \n"
      ],
      "metadata": {
        "id": "5SjJBQhRLym1"
      }
    },
    {
      "cell_type": "code",
      "source": [
        "#load model from cloud and get logged date, then create dataloader with fixed batchsize of this date \n",
        "# (batches, date, features)"
      ],
      "metadata": {
        "id": "K0J2M-YL07Uq"
      },
      "execution_count": 42,
      "outputs": []
    },
    {
      "cell_type": "markdown",
      "source": [
        "## Create a dataloader and get load a neural network"
      ],
      "metadata": {
        "id": "oxO8C0ISyamQ"
      }
    },
    {
      "cell_type": "code",
      "source": [
        "%%capture\n",
        "reload_data = False\n",
        "\n",
        "if reload_data or not \"stock_df\" in vars():\n",
        "    names = [\"stock-data:final\", \"fundamental-data:final\", \"meta-data:final\", \"macro-data:final\"]\n",
        "\n",
        "    stock_df, fundamental_df, meta_df, macro_df = get_datasets(names=names, project=\"master\")\n",
        "\n",
        "    fundamental_df = fundamental_df.drop(columns=\"period_end_date\").astype(fundamental_types)\n"
      ],
      "metadata": {
        "id": "Be6qShAhrA3A"
      },
      "execution_count": 43,
      "outputs": []
    },
    {
      "cell_type": "code",
      "source": [
        "model, conf = get_nn_model(\"TcnV1:v8\", project=\"master\") #TODO: conf should be updated with next model >v4 "
      ],
      "metadata": {
        "colab": {
          "base_uri": "https://localhost:8080/",
          "height": 138,
          "referenced_widgets": [
            "65309f3ea0a14a9ea1a01b54c7fbdec0",
            "b81f0fa4d05840ab8232af2b95bbcfef",
            "6afad33d5fdf434b986aedbe1c493dca",
            "e7eee78b05e94064845a5258b02ec12b",
            "1359593a02174602b440a7e2d0761e53",
            "3c194aa04d4d477e854deb2409b8e8e0",
            "286d73feaff444439d8af91d279392b3",
            "bd352475fd754449bb931ddcad0bfa4c"
          ]
        },
        "id": "oEiYdOGXpQn0",
        "outputId": "c3a9650d-a20a-4fdd-84a7-cba322d4bdd9"
      },
      "execution_count": 44,
      "outputs": [
        {
          "output_type": "display_data",
          "data": {
            "text/plain": [
              "<IPython.core.display.HTML object>"
            ],
            "text/html": [
              "Tracking run with wandb version 0.12.17"
            ]
          },
          "metadata": {}
        },
        {
          "output_type": "display_data",
          "data": {
            "text/plain": [
              "<IPython.core.display.HTML object>"
            ],
            "text/html": [
              "Run data is saved locally in <code>/content/wandb/run-20220602_184655-11d0erz2</code>"
            ]
          },
          "metadata": {}
        },
        {
          "output_type": "display_data",
          "data": {
            "text/plain": [
              "<IPython.core.display.HTML object>"
            ],
            "text/html": [
              "Syncing run <strong><a href=\"https://wandb.ai/krankile/master/runs/11d0erz2\" target=\"_blank\">pretty-salad-640</a></strong> to <a href=\"https://wandb.ai/krankile/master\" target=\"_blank\">Weights & Biases</a> (<a href=\"https://wandb.me/run\" target=\"_blank\">docs</a>)<br/>"
            ]
          },
          "metadata": {}
        },
        {
          "output_type": "display_data",
          "data": {
            "text/plain": [
              "<IPython.core.display.HTML object>"
            ],
            "text/html": [
              "Waiting for W&B process to finish... <strong style=\"color:green\">(success).</strong>"
            ]
          },
          "metadata": {}
        },
        {
          "output_type": "display_data",
          "data": {
            "text/plain": [
              "VBox(children=(Label(value='0.001 MB of 0.001 MB uploaded (0.000 MB deduped)\\r'), FloatProgress(value=1.0, max…"
            ],
            "application/vnd.jupyter.widget-view+json": {
              "version_major": 2,
              "version_minor": 0,
              "model_id": "65309f3ea0a14a9ea1a01b54c7fbdec0"
            }
          },
          "metadata": {}
        },
        {
          "output_type": "display_data",
          "data": {
            "text/plain": [
              "<IPython.core.display.HTML object>"
            ],
            "text/html": [
              "Synced <strong style=\"color:#cdcd00\">pretty-salad-640</strong>: <a href=\"https://wandb.ai/krankile/master/runs/11d0erz2\" target=\"_blank\">https://wandb.ai/krankile/master/runs/11d0erz2</a><br/>Synced 4 W&B file(s), 0 media file(s), 0 artifact file(s) and 0 other file(s)"
            ]
          },
          "metadata": {}
        },
        {
          "output_type": "display_data",
          "data": {
            "text/plain": [
              "<IPython.core.display.HTML object>"
            ],
            "text/html": [
              "Find logs at: <code>./wandb/run-20220602_184655-11d0erz2/logs</code>"
            ]
          },
          "metadata": {}
        }
      ]
    },
    {
      "cell_type": "code",
      "source": [
        "era_dataset = EraDataset(current_time=pd.to_datetime(\"2002-01-01\"), stock_df=stock_df, fundamental_df=fundamental_df, meta_df=meta_df, training_window=conf[\"training_w\"], target_window=conf[\"forecast_w\"], macro_df=macro_df, **conf)"
      ],
      "metadata": {
        "id": "4sJuQQQRqsmQ"
      },
      "execution_count": 45,
      "outputs": []
    },
    {
      "cell_type": "code",
      "source": [
        "era_dataloader = DataLoader(era_dataset, batch_size=len(era_dataset), shuffle=False, num_workers=multiprocessing.cpu_count())"
      ],
      "metadata": {
        "id": "K5bg2RX1xshe"
      },
      "execution_count": 46,
      "outputs": []
    },
    {
      "cell_type": "markdown",
      "source": [
        "## Plotting function"
      ],
      "metadata": {
        "id": "KuFXjrhpfDEk"
      }
    },
    {
      "cell_type": "code",
      "source": [
        "def plot_feature_importance(\n",
        "    importances,\n",
        "    *,\n",
        "    savepath=None,\n",
        "    useerror=None,\n",
        "    show=True,\n",
        "    normalize=False,\n",
        "    figheight=12,\n",
        "    figwidth=None,\n",
        "    yticksize=10,\n",
        "    cols=None,\n",
        "):\n",
        "    mean_results = {k: np.mean(v) for k, v in importances.items()}\n",
        "    lab, vals = zip(*sorted(mean_results.items(), key=lambda x: x[1], reverse=True))\n",
        "    vals = np.array(vals)\n",
        "\n",
        "    if normalize:\n",
        "        vals /= vals.sum()\n",
        "\n",
        "    error = None\n",
        "    if useerror is not None:\n",
        "        if useerror == \"sd\":\n",
        "            err = {k: np.std(importances[k]) for k in lab}\n",
        "        elif useerror == \"se\":\n",
        "            err = {\n",
        "                k: np.std(importances[k]) / np.sqrt(len(importances[k])) for k in lab\n",
        "            }\n",
        "\n",
        "        error = [v for k, v in err.items()]\n",
        "\n",
        "    plt.figure(figsize=(6,4))\n",
        "\n",
        "    zero = np.zeros(len(lab))\n",
        "    plt.barh(lab, zero, color=main)\n",
        "\n",
        "    if cols:\n",
        "        plt.barh(\n",
        "            y=lab, width=vals, alpha=1, color=main, xerr=err.values(), label=\"Clusters\"\n",
        "        )\n",
        "    else:\n",
        "        plt.barh(\n",
        "            lab, \n",
        "            vals,\n",
        "            alpha=1,\n",
        "            color=main,\n",
        "            xerr=error,\n",
        "            label=\"Model inputs\",\n",
        "        )\n",
        "\n",
        "    plt.xlabel(\"Mape loss relative to baseline\", fontsize=14)\n",
        "\n",
        "    plt.legend(loc=\"upper right\", frameon=False)\n",
        "    if savepath is not None:\n",
        "        plt.savefig(savepath)\n",
        "\n",
        "    if show:\n",
        "        plt.show()"
      ],
      "metadata": {
        "id": "W50dz2HY58WY"
      },
      "execution_count": 53,
      "outputs": []
    },
    {
      "cell_type": "markdown",
      "source": [
        "## Define a permutation function"
      ],
      "metadata": {
        "id": "NILGXr8syu0o"
      }
    },
    {
      "cell_type": "code",
      "source": [
        "def baseline_permutation_loss(model, data_loader, name_to_slice, time_windows, n_permutations, conf):\n",
        "      \n",
        "    for data, meta_cont, meta_cat, target in to_device(data_loader, device):\n",
        "            \n",
        "        org_np = data.detach().numpy()\n",
        "        with torch.no_grad():\n",
        "            y_pred: torch.Tensor = model(data, meta_cont, meta_cat) #Do we need optimizer.zero_grad() here? \n",
        "            baseline = mape_loss(target, y_pred)\n",
        "        permutation_losses = {}\n",
        "        for (start, end) in tqdm(time_windows):\n",
        "            for features_name, features_slice in tqdm(name_to_slice.items(), leave=False):\n",
        "                permuted_org_np = org_np.copy()\n",
        "                sub_np = org_np[:,start:end, features_slice]\n",
        "                \n",
        "                n_permutation_losses = []\n",
        "                \n",
        "                ypred_tensor_save = []\n",
        "                for permuation in range(n_permutations):\n",
        "                    sub_np_copy = sub_np.copy()\n",
        "                    np.random.shuffle(sub_np_copy)\n",
        "                    permuted_org_np[:,start:end, features_slice] = sub_np_copy\n",
        "                    with torch.no_grad():\n",
        "                        y_pred_sub = model(torch.Tensor(permuted_org_np), meta_cont, meta_cat)\n",
        "                        ypred_tensor_save.append(y_pred_sub)\n",
        "                        loss = mape_loss_2(target, y_pred_sub)\n",
        "                        \n",
        "                        n_permutation_losses.append(loss.item() - baseline.item())\n",
        "                permutation_losses[f\"{features_name}:({start}:{end})\"] = n_permutation_losses\n",
        "            \n",
        "\n",
        "    return permutation_losses, baseline, ypred_tensor_save"
      ],
      "metadata": {
        "id": "u52HqPGWYXZ8"
      },
      "execution_count": 48,
      "outputs": []
    },
    {
      "cell_type": "markdown",
      "source": [
        "## Get basline and deviation for interesting features and times"
      ],
      "metadata": {
        "id": "ywYIqyi7yyyA"
      }
    },
    {
      "cell_type": "code",
      "source": [
        "name_to_slice = dict(\n",
        "    market_cap=slice(0,0),\n",
        "    income_and_cashflow=slice(1,10),\n",
        "    balance=slice(10,19),\n",
        ")"
      ],
      "metadata": {
        "id": "640rzOKJELqJ"
      },
      "execution_count": 49,
      "outputs": []
    },
    {
      "cell_type": "markdown",
      "source": [
        "Define the input :) "
      ],
      "metadata": {
        "id": "wjBS13GAaHdi"
      }
    },
    {
      "cell_type": "code",
      "source": [
        "era_dataset.data_fields\n",
        "fields_to_scramble = pd.Series(era_dataset.data_fields)\n",
        "time_windows = [(0,240)] #[(0,60), (60,120), (120,180), (180,240)]"
      ],
      "metadata": {
        "id": "Sk8L7g1jKXtI"
      },
      "execution_count": 50,
      "outputs": []
    },
    {
      "cell_type": "markdown",
      "source": [
        "## Now plot the losses"
      ],
      "metadata": {
        "id": "WvbbkQdkfWEs"
      }
    },
    {
      "cell_type": "code",
      "source": [
        "permutation_losses_8, baseline_8  , y_pred_lst_8 = baseline_permutation_loss(model, era_dataloader, name_to_slice=name_to_slice, time_windows=time_windows, n_permutations=50, conf=conf) #constant\n",
        "\n",
        "if False:\n",
        "    permutation_losses_3, baseline_3, y_pred_lst_3 = baseline_permutation_loss(model, era_dataloader, name_to_slice=name_to_slice, time_windows=time_windows, n_permutations=20, conf=conf) #constant\n",
        "    permutation_losses, baseline, y_pred_lst = baseline_permutation_loss(model, era_dataloader, fields_to_scramble=fields_to_scramble, time_windows=time_windows, n_permutations=5, conf=conf) #constant \n",
        "    permutation_losses_1, baseline_1, y_pred_lst_1 = baseline_permutation_loss(model, era_dataloader, name_to_slice=name_to_slice, time_windows=time_windows, n_permutations=20, conf=conf) #not constant(but non-logical dependecy on signal)\n",
        "    permutation_losses_4, baseline_4, y_pred_lst_4 = baseline_permutation_loss(model, era_dataloader, name_to_slice=name_to_slice, time_windows=time_windows, n_permutations=20, conf=conf) #constant\n"
      ],
      "metadata": {
        "colab": {
          "base_uri": "https://localhost:8080/"
        },
        "id": "UBcQqoO_BdJf",
        "outputId": "5e018fd4-f9bd-4bc2-a416-b3e8a9bf6ff0"
      },
      "execution_count": 55,
      "outputs": [
        {
          "output_type": "stream",
          "name": "stderr",
          "text": [
            "  0%|          | 0/1 [00:00<?, ?it/s]\n",
            "  0%|          | 0/3 [00:00<?, ?it/s]\u001b[A\n",
            " 33%|███▎      | 1/3 [02:19<04:38, 139.38s/it]\u001b[A\n",
            " 67%|██████▋   | 2/3 [04:40<02:20, 140.50s/it]\u001b[A\n",
            "100%|██████████| 3/3 [07:02<00:00, 140.91s/it]\u001b[A\n",
            "100%|██████████| 1/1 [07:02<00:00, 422.09s/it]\n"
          ]
        }
      ]
    },
    {
      "cell_type": "markdown",
      "source": [
        "## Make some visualisations\n"
      ],
      "metadata": {
        "id": "0RDZ0qp_af9z"
      }
    },
    {
      "cell_type": "code",
      "source": [
        "plot_feature_importance(permutation_losses_8, useerror=\"se\")"
      ],
      "metadata": {
        "colab": {
          "base_uri": "https://localhost:8080/",
          "height": 283
        },
        "id": "oaFibJpQ1N50",
        "outputId": "daa252f0-4b5e-4bd3-d7e0-0db4a9307460"
      },
      "execution_count": 56,
      "outputs": [
        {
          "output_type": "display_data",
          "data": {
            "text/plain": [
              "<Figure size 432x288 with 1 Axes>"
            ],
            "image/png": "[encoded data removed]"
          },
          "metadata": {
            "needs_background": "light"
          }
        }
      ]
    },
    {
      "cell_type": "code",
      "source": [
        "y_pred_lst_3"
      ],
      "metadata": {
        "id": "QDOVKN5tqVLJ"
      },
      "execution_count": null,
      "outputs": []
    },
    {
      "cell_type": "markdown",
      "source": [
        "## Some parameter experimentation"
      ],
      "metadata": {
        "id": "mY-yMvrdfbwj"
      }
    },
    {
      "cell_type": "code",
      "source": [
        "def get_amount_of_params(model):\n",
        "    model_parameters = filter(lambda p: p.requires_grad, model.parameters())\n",
        "    params = sum([np.prod(p.size()) for p in model_parameters])\n",
        "    return params"
      ],
      "metadata": {
        "id": "NcBHiJ0MLc6C"
      },
      "execution_count": 22,
      "outputs": []
    },
    {
      "cell_type": "code",
      "source": [
        "tcn_params = get_amount_of_params(model.tcn)\n",
        "params = get_amount_of_params(model)"
      ],
      "metadata": {
        "id": "ExVoz5OeLktK"
      },
      "execution_count": 23,
      "outputs": []
    },
    {
      "cell_type": "code",
      "source": [
        ""
      ],
      "metadata": {
        "colab": {
          "base_uri": "https://localhost:8080/"
        },
        "id": "tZ6BTvAXLmPD",
        "outputId": "83fff5fe-7c99-4fee-8802-f3ccac5af59c"
      },
      "execution_count": 25,
      "outputs": [
        {
          "output_type": "execute_result",
          "data": {
            "text/plain": [
              "0.8947055831209334"
            ]
          },
          "metadata": {},
          "execution_count": 25
        }
      ]
    },
    {
      "cell_type": "markdown",
      "source": [
        "## Save runs"
      ],
      "metadata": {
        "id": "d-X_WjjjfUvf"
      }
    },
    {
      "cell_type": "code",
      "source": [
        "import pickle\n",
        "def to_pickle(data,filename):\n",
        "    with open(f'{filename}.pickle', 'wb') as handle:\n",
        "        pickle.dump(data, handle, protocol=pickle.HIGHEST_PROTOCOL)"
      ],
      "metadata": {
        "id": "agJ__PjfdV6W"
      },
      "execution_count": 41,
      "outputs": []
    },
    {
      "cell_type": "code",
      "source": [
        "def load_pickle(filename):\n",
        "    with open(f'{filename}.pickle', 'rb') as handle:\n",
        "        return pickle.load(handle) "
      ],
      "metadata": {
        "id": "0rx8YktplwPi"
      },
      "execution_count": 42,
      "outputs": []
    },
    {
      "cell_type": "code",
      "source": [
        "permutation_losses_1 = load_pickle(\"permutation_losses_v1\")"
      ],
      "metadata": {
        "id": "BezeCzyjmTJb"
      },
      "execution_count": 74,
      "outputs": []
    },
    {
      "cell_type": "markdown",
      "source": [
        "## Test sheesh! 😪"
      ],
      "metadata": {
        "id": "Q5SUdWPCYeTL"
      }
    },
    {
      "cell_type": "code",
      "source": [
        "arr = np.array([[11,12,13],\n",
        "                [21,22,23]])\n",
        "arr_2 = arr.reshape(3,2)\n",
        "print(arr_2)\n",
        "np.random.shuffle(arr_2)\n",
        "print(arr_2.shape)\n",
        "arr_2\n"
      ],
      "metadata": {
        "colab": {
          "base_uri": "https://localhost:8080/"
        },
        "id": "0z0XnyqvDYqt",
        "outputId": "892b6b77-6627-492a-e3b7-85c2e66227b4"
      },
      "execution_count": null,
      "outputs": [
        {
          "output_type": "stream",
          "name": "stdout",
          "text": [
            "[[11 12]\n",
            " [13 21]\n",
            " [22 23]]\n",
            "(3, 2)\n"
          ]
        },
        {
          "output_type": "execute_result",
          "data": {
            "text/plain": [
              "array([[11, 12],\n",
              "       [13, 21],\n",
              "       [22, 23]])"
            ]
          },
          "metadata": {},
          "execution_count": 30
        }
      ]
    },
    {
      "cell_type": "code",
      "source": [
        "arr = np.array([[[1, 2, 3], [3, 4, 5]], [[6,7,8], [9, 10, 11]]])\n",
        "arr_test = arr[:, :60, 2]"
      ],
      "metadata": {
        "id": "Xhb1V2cDKjY-"
      },
      "execution_count": null,
      "outputs": []
    },
    {
      "cell_type": "code",
      "source": [
        "start, end = 0, 2\n",
        "feature_i = 3\n",
        "n_premutations = 1 \n",
        "\n",
        "sub_np = arr[:,start:end, feature_i]\n",
        "n_permutation_losses = []\n",
        "for permuation in range(n_premutations):\n",
        "    sub_np_copy = sub_np.copy()\n",
        "    np.random.shuffle(sub_np_copy)\n",
        "\n",
        "    permuted_org_np = arr.copy()\n",
        "    permuted_org_np[:,start:end, feature_i] = sub_np_copy"
      ],
      "metadata": {
        "id": "nK0b9fawVEWZ"
      },
      "execution_count": null,
      "outputs": []
    },
    {
      "cell_type": "code",
      "source": [
        "np.random.shuffle(arr_test)\n",
        "arr_test"
      ],
      "metadata": {
        "colab": {
          "base_uri": "https://localhost:8080/"
        },
        "id": "-vzxO4WuMCjR",
        "outputId": "69e1df2b-ccce-491f-8141-09e13842c513"
      },
      "execution_count": null,
      "outputs": [
        {
          "output_type": "execute_result",
          "data": {
            "text/plain": [
              "array([[ 8, 11],\n",
              "       [ 3,  5]])"
            ]
          },
          "metadata": {},
          "execution_count": 54
        }
      ]
    },
    {
      "cell_type": "code",
      "source": [
        "arr"
      ],
      "metadata": {
        "colab": {
          "base_uri": "https://localhost:8080/"
        },
        "id": "Xk5vCnL4MuGI",
        "outputId": "aa8c9192-0aa9-4cb9-bead-1821d06b2eb7"
      },
      "execution_count": null,
      "outputs": [
        {
          "output_type": "execute_result",
          "data": {
            "text/plain": [
              "array([[[ 1,  2,  3],\n",
              "        [ 3,  4,  5]],\n",
              "\n",
              "       [[ 6,  7,  8],\n",
              "        [ 9, 10, 11]]])"
            ]
          },
          "metadata": {},
          "execution_count": 59
        }
      ]
    },
    {
      "cell_type": "code",
      "source": [
        "arr_test"
      ],
      "metadata": {
        "colab": {
          "base_uri": "https://localhost:8080/"
        },
        "id": "J7CUJegzLznw",
        "outputId": "adfb623f-4af5-434e-def5-a73a88ead0e1"
      },
      "execution_count": null,
      "outputs": [
        {
          "output_type": "execute_result",
          "data": {
            "text/plain": [
              "array([3, 8])"
            ]
          },
          "metadata": {},
          "execution_count": 58
        }
      ]
    },
    {
      "cell_type": "code",
      "source": [
        "np.ones((3,4,3)).cumsum().reshape(3,4,3)"
      ],
      "metadata": {
        "colab": {
          "base_uri": "https://localhost:8080/"
        },
        "id": "mAE2V7xlRGH8",
        "outputId": "fdfd3dd3-d8f6-424a-ec0c-e1413c791684"
      },
      "execution_count": null,
      "outputs": [
        {
          "output_type": "execute_result",
          "data": {
            "text/plain": [
              "array([[[ 1.,  2.,  3.],\n",
              "        [ 4.,  5.,  6.],\n",
              "        [ 7.,  8.,  9.],\n",
              "        [10., 11., 12.]],\n",
              "\n",
              "       [[13., 14., 15.],\n",
              "        [16., 17., 18.],\n",
              "        [19., 20., 21.],\n",
              "        [22., 23., 24.]],\n",
              "\n",
              "       [[25., 26., 27.],\n",
              "        [28., 29., 30.],\n",
              "        [31., 32., 33.],\n",
              "        [34., 35., 36.]]])"
            ]
          },
          "metadata": {},
          "execution_count": 64
        }
      ]
    },
    {
      "cell_type": "code",
      "source": [
        "arr = np.arange(27).reshape(3,3,3)\n",
        "arr"
      ],
      "metadata": {
        "colab": {
          "base_uri": "https://localhost:8080/"
        },
        "id": "Q6Y5wBsdTTPX",
        "outputId": "38b8eb0d-18a7-40b8-abe4-e90eb6488291"
      },
      "execution_count": null,
      "outputs": [
        {
          "output_type": "execute_result",
          "data": {
            "text/plain": [
              "array([[[ 0,  1,  2],\n",
              "        [ 3,  4,  5],\n",
              "        [ 6,  7,  8]],\n",
              "\n",
              "       [[ 9, 10, 11],\n",
              "        [12, 13, 14],\n",
              "        [15, 16, 17]],\n",
              "\n",
              "       [[18, 19, 20],\n",
              "        [21, 22, 23],\n",
              "        [24, 25, 26]]])"
            ]
          },
          "metadata": {},
          "execution_count": 68
        }
      ]
    },
    {
      "cell_type": "code",
      "source": [
        "np.meshgrid(np.ones((5)).cumsum(),np.ones((240)).cumsum(), np.ones((10)).cumsum())"
      ],
      "metadata": {
        "colab": {
          "base_uri": "https://localhost:8080/"
        },
        "id": "xCcr0UKWRJeV",
        "outputId": "6994785d-5121-40b8-8378-0fe826dcae2d"
      },
      "execution_count": null,
      "outputs": [
        {
          "output_type": "execute_result",
          "data": {
            "text/plain": [
              "[array([[[1., 1., 1., ..., 1., 1., 1.],\n",
              "         [2., 2., 2., ..., 2., 2., 2.],\n",
              "         [3., 3., 3., ..., 3., 3., 3.],\n",
              "         [4., 4., 4., ..., 4., 4., 4.],\n",
              "         [5., 5., 5., ..., 5., 5., 5.]],\n",
              " \n",
              "        [[1., 1., 1., ..., 1., 1., 1.],\n",
              "         [2., 2., 2., ..., 2., 2., 2.],\n",
              "         [3., 3., 3., ..., 3., 3., 3.],\n",
              "         [4., 4., 4., ..., 4., 4., 4.],\n",
              "         [5., 5., 5., ..., 5., 5., 5.]],\n",
              " \n",
              "        [[1., 1., 1., ..., 1., 1., 1.],\n",
              "         [2., 2., 2., ..., 2., 2., 2.],\n",
              "         [3., 3., 3., ..., 3., 3., 3.],\n",
              "         [4., 4., 4., ..., 4., 4., 4.],\n",
              "         [5., 5., 5., ..., 5., 5., 5.]],\n",
              " \n",
              "        ...,\n",
              " \n",
              "        [[1., 1., 1., ..., 1., 1., 1.],\n",
              "         [2., 2., 2., ..., 2., 2., 2.],\n",
              "         [3., 3., 3., ..., 3., 3., 3.],\n",
              "         [4., 4., 4., ..., 4., 4., 4.],\n",
              "         [5., 5., 5., ..., 5., 5., 5.]],\n",
              " \n",
              "        [[1., 1., 1., ..., 1., 1., 1.],\n",
              "         [2., 2., 2., ..., 2., 2., 2.],\n",
              "         [3., 3., 3., ..., 3., 3., 3.],\n",
              "         [4., 4., 4., ..., 4., 4., 4.],\n",
              "         [5., 5., 5., ..., 5., 5., 5.]],\n",
              " \n",
              "        [[1., 1., 1., ..., 1., 1., 1.],\n",
              "         [2., 2., 2., ..., 2., 2., 2.],\n",
              "         [3., 3., 3., ..., 3., 3., 3.],\n",
              "         [4., 4., 4., ..., 4., 4., 4.],\n",
              "         [5., 5., 5., ..., 5., 5., 5.]]]),\n",
              " array([[[  1.,   1.,   1., ...,   1.,   1.,   1.],\n",
              "         [  1.,   1.,   1., ...,   1.,   1.,   1.],\n",
              "         [  1.,   1.,   1., ...,   1.,   1.,   1.],\n",
              "         [  1.,   1.,   1., ...,   1.,   1.,   1.],\n",
              "         [  1.,   1.,   1., ...,   1.,   1.,   1.]],\n",
              " \n",
              "        [[  2.,   2.,   2., ...,   2.,   2.,   2.],\n",
              "         [  2.,   2.,   2., ...,   2.,   2.,   2.],\n",
              "         [  2.,   2.,   2., ...,   2.,   2.,   2.],\n",
              "         [  2.,   2.,   2., ...,   2.,   2.,   2.],\n",
              "         [  2.,   2.,   2., ...,   2.,   2.,   2.]],\n",
              " \n",
              "        [[  3.,   3.,   3., ...,   3.,   3.,   3.],\n",
              "         [  3.,   3.,   3., ...,   3.,   3.,   3.],\n",
              "         [  3.,   3.,   3., ...,   3.,   3.,   3.],\n",
              "         [  3.,   3.,   3., ...,   3.,   3.,   3.],\n",
              "         [  3.,   3.,   3., ...,   3.,   3.,   3.]],\n",
              " \n",
              "        ...,\n",
              " \n",
              "        [[238., 238., 238., ..., 238., 238., 238.],\n",
              "         [238., 238., 238., ..., 238., 238., 238.],\n",
              "         [238., 238., 238., ..., 238., 238., 238.],\n",
              "         [238., 238., 238., ..., 238., 238., 238.],\n",
              "         [238., 238., 238., ..., 238., 238., 238.]],\n",
              " \n",
              "        [[239., 239., 239., ..., 239., 239., 239.],\n",
              "         [239., 239., 239., ..., 239., 239., 239.],\n",
              "         [239., 239., 239., ..., 239., 239., 239.],\n",
              "         [239., 239., 239., ..., 239., 239., 239.],\n",
              "         [239., 239., 239., ..., 239., 239., 239.]],\n",
              " \n",
              "        [[240., 240., 240., ..., 240., 240., 240.],\n",
              "         [240., 240., 240., ..., 240., 240., 240.],\n",
              "         [240., 240., 240., ..., 240., 240., 240.],\n",
              "         [240., 240., 240., ..., 240., 240., 240.],\n",
              "         [240., 240., 240., ..., 240., 240., 240.]]]),\n",
              " array([[[ 1.,  2.,  3., ...,  8.,  9., 10.],\n",
              "         [ 1.,  2.,  3., ...,  8.,  9., 10.],\n",
              "         [ 1.,  2.,  3., ...,  8.,  9., 10.],\n",
              "         [ 1.,  2.,  3., ...,  8.,  9., 10.],\n",
              "         [ 1.,  2.,  3., ...,  8.,  9., 10.]],\n",
              " \n",
              "        [[ 1.,  2.,  3., ...,  8.,  9., 10.],\n",
              "         [ 1.,  2.,  3., ...,  8.,  9., 10.],\n",
              "         [ 1.,  2.,  3., ...,  8.,  9., 10.],\n",
              "         [ 1.,  2.,  3., ...,  8.,  9., 10.],\n",
              "         [ 1.,  2.,  3., ...,  8.,  9., 10.]],\n",
              " \n",
              "        [[ 1.,  2.,  3., ...,  8.,  9., 10.],\n",
              "         [ 1.,  2.,  3., ...,  8.,  9., 10.],\n",
              "         [ 1.,  2.,  3., ...,  8.,  9., 10.],\n",
              "         [ 1.,  2.,  3., ...,  8.,  9., 10.],\n",
              "         [ 1.,  2.,  3., ...,  8.,  9., 10.]],\n",
              " \n",
              "        ...,\n",
              " \n",
              "        [[ 1.,  2.,  3., ...,  8.,  9., 10.],\n",
              "         [ 1.,  2.,  3., ...,  8.,  9., 10.],\n",
              "         [ 1.,  2.,  3., ...,  8.,  9., 10.],\n",
              "         [ 1.,  2.,  3., ...,  8.,  9., 10.],\n",
              "         [ 1.,  2.,  3., ...,  8.,  9., 10.]],\n",
              " \n",
              "        [[ 1.,  2.,  3., ...,  8.,  9., 10.],\n",
              "         [ 1.,  2.,  3., ...,  8.,  9., 10.],\n",
              "         [ 1.,  2.,  3., ...,  8.,  9., 10.],\n",
              "         [ 1.,  2.,  3., ...,  8.,  9., 10.],\n",
              "         [ 1.,  2.,  3., ...,  8.,  9., 10.]],\n",
              " \n",
              "        [[ 1.,  2.,  3., ...,  8.,  9., 10.],\n",
              "         [ 1.,  2.,  3., ...,  8.,  9., 10.],\n",
              "         [ 1.,  2.,  3., ...,  8.,  9., 10.],\n",
              "         [ 1.,  2.,  3., ...,  8.,  9., 10.],\n",
              "         [ 1.,  2.,  3., ...,  8.,  9., 10.]]])]"
            ]
          },
          "metadata": {},
          "execution_count": 66
        }
      ]
    },
    {
      "cell_type": "code",
      "source": [
        "dim_1, dim_2, dim_3 = 3, 240, 5\n",
        "a = np.ones(dim_1).cumsum()\n",
        "b = np.ones(dim_2).cumsum()\n",
        "c = np.ones(dim_3).cumsum()\n",
        "\n",
        "def cartesian_product(*arrays):\n",
        "    la = len(arrays)\n",
        "    dtype = np.result_type(*arrays)\n",
        "    arr = np.empty([len(a) for a in arrays] + [la], dtype=dtype)\n",
        "    for i, a in enumerate(np.ix_(*arrays)):\n",
        "        arr[...,i] = a\n",
        "    return arr.reshape(-1, la)\n",
        "\n",
        "arr = cartesian_product(a, b, c).reshape(3, 240, 5, 3)"
      ],
      "metadata": {
        "id": "wrWuDWeoTxqP"
      },
      "execution_count": null,
      "outputs": []
    },
    {
      "cell_type": "markdown",
      "source": [
        "## Delete below once we have moved timedeltadataset to eradataset"
      ],
      "metadata": {
        "id": "_gUXh_4gpDKc"
      }
    },
    {
      "cell_type": "code",
      "source": [
        "def baseline_permutation_loss_fcnn(model, data_loader, dates_per_permutation, n_permuatations, conf):\n",
        "      \n",
        "    for (batches, date, features), meta_cont, meta_cat, target in to_device(data_loader, device):\n",
        "        org_tensor = (batches, date, features)    \n",
        "        org_np = org_tensor.detach().to_numpy()\n",
        "        \n",
        "        y_pred: torch.Tensor = model(org_tensor, meta_cont, meta_cat) #Do we need optimizer.zero_grad() here? \n",
        "\n",
        "        baseline = mape_loss(target, y_pred)\n",
        "        permutation_losses = {}\n",
        "        \n",
        "        permutation_loss_dict = {}\n",
        "        lst_of_features = [\"test, \"] #INSERT Feature ORDER HERE\n",
        "        for (start, end) in tqdm([(0,60), (60,120), (120,180), (180,240)]):\n",
        "            for feature_i, feature in enumerate(lst_of_features):\n",
        "                sub_np = org_np[:,start:end, feature_i]\n",
        "                n_permutation_losses = []\n",
        "                for permuation in range(n_permuatations):\n",
        "                    sub_np_copy = sub_np.copy()\n",
        "                    np.random.shuffle(sub_np_copy)\n",
        "\n",
        "                    permuted_org_np = org_np.copy()\n",
        "                    permuted_org_np[:,start:end, feature_i] = sub_np_copy\n",
        "\n",
        "                    y_pred = model(permuted_org_np, meta_cont, meta_cat)\n",
        "                    loss = mape_loss(target, y_pred)\n",
        "                permutation_loss_dict[f\"{feature}:({start}:{end})\" ] = n_permutation_losses\n",
        "            \n",
        "\n",
        "    return baseline, permutation_losses"
      ],
      "metadata": {
        "id": "2ZPr1rGxbPhO"
      },
      "execution_count": null,
      "outputs": []
    }
  ]
}