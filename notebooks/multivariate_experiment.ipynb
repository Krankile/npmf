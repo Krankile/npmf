{
  "nbformat": 4,
  "nbformat_minor": 0,
  "metadata": {
    "colab": {
      "name": "multivariate_experiment.ipynb",
      "provenance": [],
      "collapsed_sections": [],
      "include_colab_link": true
    },
    "kernelspec": {
      "name": "python3",
      "display_name": "Python 3"
    },
    "language_info": {
      "name": "python"
    },
    "accelerator": "GPU"
  },
  "cells": [
    {
      "cell_type": "markdown",
      "metadata": {
        "id": "view-in-github",
        "colab_type": "text"
      },
      "source": [
        "<a href=\"https://colab.research.google.com/github/Krankile/npmf/blob/main/notebooks/multivariate_experiment.ipynb\" target=\"_parent\"><img src=\"https://colab.research.google.com/assets/colab-badge.svg\" alt=\"Open In Colab\"/></a>"
      ]
    },
    {
      "cell_type": "markdown",
      "source": [
        "#Setup"
      ],
      "metadata": {
        "id": "d8F5tl4NL7FZ"
      }
    },
    {
      "cell_type": "markdown",
      "source": [
        "##Kernel setup"
      ],
      "metadata": {
        "id": "Rwo44VGZLhAo"
      }
    },
    {
      "cell_type": "code",
      "source": [
        "%load_ext autoreload\n",
        "%autoreload 2"
      ],
      "metadata": {
        "id": "hKuFzk7aEmB9"
      },
      "execution_count": 1,
      "outputs": []
    },
    {
      "cell_type": "code",
      "source": [
        "%%capture\n",
        "!git clone https://github.com/Krankile/npmf.git"
      ],
      "metadata": {
        "id": "91KPY7q0LUOw"
      },
      "execution_count": 2,
      "outputs": []
    },
    {
      "cell_type": "code",
      "source": [
        "%%capture\n",
        "!cd npmf && git pull"
      ],
      "metadata": {
        "id": "zGsSIhgXEkhz"
      },
      "execution_count": 3,
      "outputs": []
    },
    {
      "cell_type": "markdown",
      "source": [
        "##General setup"
      ],
      "metadata": {
        "id": "CLAlA0htLgMY"
      }
    },
    {
      "cell_type": "code",
      "source": [
        "import os\n",
        "from collections import defaultdict\n",
        "from datetime import datetime\n",
        "\n",
        "import numpy as np\n",
        "from numpy.ma.core import outerproduct\n",
        "import pandas as pd\n",
        "import matplotlib as mpl\n",
        "import matplotlib.pyplot as plt\n",
        "from tqdm import tqdm\n",
        "\n",
        "import torch\n",
        "from torch import nn\n",
        "from torch.utils.data import DataLoader\n",
        "from torchvision import datasets, transforms\n",
        "\n",
        "from npmf.utils.colors import main, main2, main3"
      ],
      "metadata": {
        "id": "1QSlgObXLq1p"
      },
      "execution_count": 4,
      "outputs": []
    },
    {
      "cell_type": "code",
      "source": [
        "mpl.rcParams['axes.prop_cycle'] = mpl.cycler(color=[main, main2, main3,\"black\"])"
      ],
      "metadata": {
        "id": "hkTjKKLmLvpl"
      },
      "execution_count": 5,
      "outputs": []
    },
    {
      "cell_type": "code",
      "source": [
        "device = \"cuda\" if torch.cuda.is_available() else \"cpu\"\n",
        "print(f\"Using {device} device\")"
      ],
      "metadata": {
        "colab": {
          "base_uri": "https://localhost:8080/"
        },
        "id": "Dqy02oAvY7GM",
        "outputId": "e726afae-6732-43d9-cec2-20939ce7352f"
      },
      "execution_count": 6,
      "outputs": [
        {
          "output_type": "stream",
          "name": "stdout",
          "text": [
            "Using cuda device\n"
          ]
        }
      ]
    },
    {
      "cell_type": "code",
      "source": [
        "np.random.seed(420)"
      ],
      "metadata": {
        "id": "YVFtfDk0pYtd"
      },
      "execution_count": 7,
      "outputs": []
    },
    {
      "cell_type": "markdown",
      "source": [
        "#Lets build our multivariate experiment 😂✨KAWAIII ^^✨ "
      ],
      "metadata": {
        "id": "5SjJBQhRLym1"
      }
    },
    {
      "cell_type": "markdown",
      "source": [
        "## 1) Build timeseries dataframe 🎶🐱‍🚀"
      ],
      "metadata": {
        "id": "W-GX1J84T_i0"
      }
    },
    {
      "cell_type": "markdown",
      "source": [
        "Define some function to easily generate many timeseries $y_t$ "
      ],
      "metadata": {
        "id": "WvtNUjpVTm0c"
      }
    },
    {
      "cell_type": "code",
      "source": [
        "def wave_function(periods, horisontal_shift, vertical_shift, T):\n",
        "    x = np.linspace(horisontal_shift,T+horisontal_shift,T)\n",
        "    \n",
        "    return np.sin(np.pi*periods*2*x)*(1-vertical_shift) + vertical_shift "
      ],
      "metadata": {
        "id": "O3OcOnzlMkDB"
      },
      "execution_count": 8,
      "outputs": []
    },
    {
      "cell_type": "code",
      "source": [
        "def rolling_mean(np_array, window_size):\n",
        "    return np.convolve(np_array, np.ones(window_size)/window_size, mode='valid')"
      ],
      "metadata": {
        "id": "DZCuB0xC0rpl"
      },
      "execution_count": 9,
      "outputs": []
    },
    {
      "cell_type": "markdown",
      "source": [
        "Visualise the function"
      ],
      "metadata": {
        "id": "iuKkIu1FaSsR"
      }
    },
    {
      "cell_type": "code",
      "source": [
        "periods = 10\n",
        "horisontal_shift = 100\n",
        "vertical_shift = .25\n",
        "T = 1000\n",
        "\n",
        "\n",
        "plt.plot(wave_function(periods, horisontal_shift, vertical_shift, T))\n",
        "plt.plot(wave_function(2, horisontal_shift, 0, T));"
      ],
      "metadata": {
        "colab": {
          "base_uri": "https://localhost:8080/",
          "height": 264
        },
        "id": "ukztOKYMOcBv",
        "outputId": "d565b5c3-6b26-48f4-83e8-561628368eb3"
      },
      "execution_count": 10,
      "outputs": [
        {
          "output_type": "display_data",
          "data": {
            "text/plain": [
              "<Figure size 432x288 with 1 Axes>"
            ],
            "image/png": "[encoded data removed]"
          },
          "metadata": {
            "needs_background": "light"
          }
        }
      ]
    },
    {
      "cell_type": "markdown",
      "source": [
        "Make an outer to create $\\mathcal{S}:\\{y_t^1,y_t^2...y_t^k$\\}, $|\\mathcal{S}|=K$ we should also have $\\mathcal{S_{sub}} \\in \\mathcal{S} | |y_t^i-y_t^j|, (i\\neq j)$ "
      ],
      "metadata": {
        "id": "pTqOPjAFaYMI"
      }
    },
    {
      "cell_type": "markdown",
      "source": [
        "Now we create a dataframe of $\\mathcal{S}$ with indistingushable timeseries with distingushable $y_{t+h}$"
      ],
      "metadata": {
        "id": "zQVkSfGgl_pJ"
      }
    },
    {
      "cell_type": "code",
      "source": [
        "def time_series_df(K,T, periods, horisontal_shift, vertical_shift, forecast_length):\n",
        "    series = []\n",
        "    output_series = [np.array([1 for i in range(forecast_length)]),\n",
        "                     np.array([2*i for i in range(forecast_length)]),\n",
        "                     np.array([2**i*(-1**i) for i in range(forecast_length)])]\n",
        "    for j in range(len(output_series)):\n",
        "        output_series[j] = output_series[j]/max(abs(output_series[j]))  \n",
        "    \n",
        "    for i in range(K):\n",
        "        series.append(wave_function(periods, horisontal_shift, vertical_shift,T))\n",
        "    TS_signal_df = pd.DataFrame(series)\n",
        "    \n",
        "    #add noise\n",
        "    mu, sigma = 0, 0.1  \n",
        "    noise = np.random.normal(mu, sigma, [K,T]) \n",
        "    \n",
        "    TS_df = TS_signal_df + noise\n",
        "    \n",
        "    output_df = pd.DataFrame(int(K/3)*output_series,columns=[f\"forecast_{x}\" for x in range(forecast_length)])\n",
        "    category_columns = pd.get_dummies(pd.Series(int(K/3)*[\"theta_0\", \"theta_1\", \"theta_2\"], name=\"category\",dtype=\"category\"))\n",
        "\n",
        "\n",
        "    TS_df = pd.concat([TS_df,output_df], join=\"inner\",axis=1)\n",
        "    TS_signal_df = pd.concat([TS_signal_df,output_df], join=\"inner\",axis=1)\n",
        "    return TS_df, TS_signal_df, category_columns"
      ],
      "metadata": {
        "id": "5WiX91tOmiuo"
      },
      "execution_count": 11,
      "outputs": []
    },
    {
      "cell_type": "markdown",
      "source": [
        "example_below"
      ],
      "metadata": {
        "id": "qDFy0pXZLuHv"
      }
    },
    {
      "cell_type": "code",
      "source": [
        "K = 9999  # make divisible by three\n",
        "T = 500\n",
        "forecast_length = 16\n",
        "\n",
        "periods = 10\n",
        "horisontal_shift = 100\n",
        "vertical_shift = .25\n",
        "\n",
        "TS_df, TS_signal_df, category_columns  = time_series_df(K,T,periods, horisontal_shift, vertical_shift, forecast_length)"
      ],
      "metadata": {
        "id": "AMmhQD-mn22g"
      },
      "execution_count": 12,
      "outputs": []
    },
    {
      "cell_type": "code",
      "source": [
        "TS_signal_df\n",
        "pd.concat([category_columns, TS_signal_df], axis=1, join=\"inner\") "
      ],
      "metadata": {
        "colab": {
          "base_uri": "https://localhost:8080/",
          "height": 443
        },
        "id": "IaHd7KHYxTu2",
        "outputId": "2179a9c2-d449-4f19-bf42-9ca07f688bb5"
      },
      "execution_count": 13,
      "outputs": [
        {
          "output_type": "execute_result",
          "data": {
            "text/plain": [
              "      theta_0  theta_1  theta_2     0         1         2        3         4  \\\n",
              "0           1        0        0  0.25  0.344187  0.436883  0.52662  0.611977   \n",
              "1           0        1        0  0.25  0.344187  0.436883  0.52662  0.611977   \n",
              "2           0        0        1  0.25  0.344187  0.436883  0.52662  0.611977   \n",
              "3           1        0        0  0.25  0.344187  0.436883  0.52662  0.611977   \n",
              "4           0        1        0  0.25  0.344187  0.436883  0.52662  0.611977   \n",
              "...       ...      ...      ...   ...       ...       ...      ...       ...   \n",
              "9994        0        1        0  0.25  0.344187  0.436883  0.52662  0.611977   \n",
              "9995        0        0        1  0.25  0.344187  0.436883  0.52662  0.611977   \n",
              "9996        1        0        0  0.25  0.344187  0.436883  0.52662  0.611977   \n",
              "9997        0        1        0  0.25  0.344187  0.436883  0.52662  0.611977   \n",
              "9998        0        0        1  0.25  0.344187  0.436883  0.52662  0.611977   \n",
              "\n",
              "             5         6  ...  forecast_6  forecast_7  forecast_8  forecast_9  \\\n",
              "0     0.691603  0.764236  ...    1.000000    1.000000    1.000000    1.000000   \n",
              "1     0.691603  0.764236  ...    0.400000    0.466667    0.533333    0.600000   \n",
              "2     0.691603  0.764236  ...   -0.001953   -0.003906   -0.007812   -0.015625   \n",
              "3     0.691603  0.764236  ...    1.000000    1.000000    1.000000    1.000000   \n",
              "4     0.691603  0.764236  ...    0.400000    0.466667    0.533333    0.600000   \n",
              "...        ...       ...  ...         ...         ...         ...         ...   \n",
              "9994  0.691603  0.764236  ...    0.400000    0.466667    0.533333    0.600000   \n",
              "9995  0.691603  0.764236  ...   -0.001953   -0.003906   -0.007812   -0.015625   \n",
              "9996  0.691603  0.764236  ...    1.000000    1.000000    1.000000    1.000000   \n",
              "9997  0.691603  0.764236  ...    0.400000    0.466667    0.533333    0.600000   \n",
              "9998  0.691603  0.764236  ...   -0.001953   -0.003906   -0.007812   -0.015625   \n",
              "\n",
              "      forecast_10  forecast_11  forecast_12  forecast_13  forecast_14  \\\n",
              "0        1.000000     1.000000        1.000     1.000000     1.000000   \n",
              "1        0.666667     0.733333        0.800     0.866667     0.933333   \n",
              "2       -0.031250    -0.062500       -0.125    -0.250000    -0.500000   \n",
              "3        1.000000     1.000000        1.000     1.000000     1.000000   \n",
              "4        0.666667     0.733333        0.800     0.866667     0.933333   \n",
              "...           ...          ...          ...          ...          ...   \n",
              "9994     0.666667     0.733333        0.800     0.866667     0.933333   \n",
              "9995    -0.031250    -0.062500       -0.125    -0.250000    -0.500000   \n",
              "9996     1.000000     1.000000        1.000     1.000000     1.000000   \n",
              "9997     0.666667     0.733333        0.800     0.866667     0.933333   \n",
              "9998    -0.031250    -0.062500       -0.125    -0.250000    -0.500000   \n",
              "\n",
              "      forecast_15  \n",
              "0             1.0  \n",
              "1             1.0  \n",
              "2            -1.0  \n",
              "3             1.0  \n",
              "4             1.0  \n",
              "...           ...  \n",
              "9994          1.0  \n",
              "9995         -1.0  \n",
              "9996          1.0  \n",
              "9997          1.0  \n",
              "9998         -1.0  \n",
              "\n",
              "[9999 rows x 519 columns]"
            ],
            "text/html": [
              "<div>\n",
              "<style scoped>\n",
              "    .dataframe tbody tr th:only-of-type {\n",
              "        vertical-align: middle;\n",
              "    }\n",
              "\n",
              "    .dataframe tbody tr th {\n",
              "        vertical-align: top;\n",
              "    }\n",
              "\n",
              "    .dataframe thead th {\n",
              "        text-align: right;\n",
              "    }\n",
              "</style>\n",
              "<table border=\"1\" class=\"dataframe\">\n",
              "  <thead>\n",
              "    <tr style=\"text-align: right;\">\n",
              "      <th></th>\n",
              "      <th>theta_0</th>\n",
              "      <th>theta_1</th>\n",
              "      <th>theta_2</th>\n",
              "      <th>0</th>\n",
              "      <th>1</th>\n",
              "      <th>2</th>\n",
              "      <th>3</th>\n",
              "      <th>4</th>\n",
              "      <th>5</th>\n",
              "      <th>6</th>\n",
              "      <th>...</th>\n",
              "      <th>forecast_6</th>\n",
              "      <th>forecast_7</th>\n",
              "      <th>forecast_8</th>\n",
              "      <th>forecast_9</th>\n",
              "      <th>forecast_10</th>\n",
              "      <th>forecast_11</th>\n",
              "      <th>forecast_12</th>\n",
              "      <th>forecast_13</th>\n",
              "      <th>forecast_14</th>\n",
              "      <th>forecast_15</th>\n",
              "    </tr>\n",
              "  </thead>\n",
              "  <tbody>\n",
              "    <tr>\n",
              "      <th>0</th>\n",
              "      <td>1</td>\n",
              "      <td>0</td>\n",
              "      <td>0</td>\n",
              "      <td>0.25</td>\n",
              "      <td>0.344187</td>\n",
              "      <td>0.436883</td>\n",
              "      <td>0.52662</td>\n",
              "      <td>0.611977</td>\n",
              "      <td>0.691603</td>\n",
              "      <td>0.764236</td>\n",
              "      <td>...</td>\n",
              "      <td>1.000000</td>\n",
              "      <td>1.000000</td>\n",
              "      <td>1.000000</td>\n",
              "      <td>1.000000</td>\n",
              "      <td>1.000000</td>\n",
              "      <td>1.000000</td>\n",
              "      <td>1.000</td>\n",
              "      <td>1.000000</td>\n",
              "      <td>1.000000</td>\n",
              "      <td>1.0</td>\n",
              "    </tr>\n",
              "    <tr>\n",
              "      <th>1</th>\n",
              "      <td>0</td>\n",
              "      <td>1</td>\n",
              "      <td>0</td>\n",
              "      <td>0.25</td>\n",
              "      <td>0.344187</td>\n",
              "      <td>0.436883</td>\n",
              "      <td>0.52662</td>\n",
              "      <td>0.611977</td>\n",
              "      <td>0.691603</td>\n",
              "      <td>0.764236</td>\n",
              "      <td>...</td>\n",
              "      <td>0.400000</td>\n",
              "      <td>0.466667</td>\n",
              "      <td>0.533333</td>\n",
              "      <td>0.600000</td>\n",
              "      <td>0.666667</td>\n",
              "      <td>0.733333</td>\n",
              "      <td>0.800</td>\n",
              "      <td>0.866667</td>\n",
              "      <td>0.933333</td>\n",
              "      <td>1.0</td>\n",
              "    </tr>\n",
              "    <tr>\n",
              "      <th>2</th>\n",
              "      <td>0</td>\n",
              "      <td>0</td>\n",
              "      <td>1</td>\n",
              "      <td>0.25</td>\n",
              "      <td>0.344187</td>\n",
              "      <td>0.436883</td>\n",
              "      <td>0.52662</td>\n",
              "      <td>0.611977</td>\n",
              "      <td>0.691603</td>\n",
              "      <td>0.764236</td>\n",
              "      <td>...</td>\n",
              "      <td>-0.001953</td>\n",
              "      <td>-0.003906</td>\n",
              "      <td>-0.007812</td>\n",
              "      <td>-0.015625</td>\n",
              "      <td>-0.031250</td>\n",
              "      <td>-0.062500</td>\n",
              "      <td>-0.125</td>\n",
              "      <td>-0.250000</td>\n",
              "      <td>-0.500000</td>\n",
              "      <td>-1.0</td>\n",
              "    </tr>\n",
              "    <tr>\n",
              "      <th>3</th>\n",
              "      <td>1</td>\n",
              "      <td>0</td>\n",
              "      <td>0</td>\n",
              "      <td>0.25</td>\n",
              "      <td>0.344187</td>\n",
              "      <td>0.436883</td>\n",
              "      <td>0.52662</td>\n",
              "      <td>0.611977</td>\n",
              "      <td>0.691603</td>\n",
              "      <td>0.764236</td>\n",
              "      <td>...</td>\n",
              "      <td>1.000000</td>\n",
              "      <td>1.000000</td>\n",
              "      <td>1.000000</td>\n",
              "      <td>1.000000</td>\n",
              "      <td>1.000000</td>\n",
              "      <td>1.000000</td>\n",
              "      <td>1.000</td>\n",
              "      <td>1.000000</td>\n",
              "      <td>1.000000</td>\n",
              "      <td>1.0</td>\n",
              "    </tr>\n",
              "    <tr>\n",
              "      <th>4</th>\n",
              "      <td>0</td>\n",
              "      <td>1</td>\n",
              "      <td>0</td>\n",
              "      <td>0.25</td>\n",
              "      <td>0.344187</td>\n",
              "      <td>0.436883</td>\n",
              "      <td>0.52662</td>\n",
              "      <td>0.611977</td>\n",
              "      <td>0.691603</td>\n",
              "      <td>0.764236</td>\n",
              "      <td>...</td>\n",
              "      <td>0.400000</td>\n",
              "      <td>0.466667</td>\n",
              "      <td>0.533333</td>\n",
              "      <td>0.600000</td>\n",
              "      <td>0.666667</td>\n",
              "      <td>0.733333</td>\n",
              "      <td>0.800</td>\n",
              "      <td>0.866667</td>\n",
              "      <td>0.933333</td>\n",
              "      <td>1.0</td>\n",
              "    </tr>\n",
              "    <tr>\n",
              "      <th>...</th>\n",
              "      <td>...</td>\n",
              "      <td>...</td>\n",
              "      <td>...</td>\n",
              "      <td>...</td>\n",
              "      <td>...</td>\n",
              "      <td>...</td>\n",
              "      <td>...</td>\n",
              "      <td>...</td>\n",
              "      <td>...</td>\n",
              "      <td>...</td>\n",
              "      <td>...</td>\n",
              "      <td>...</td>\n",
              "      <td>...</td>\n",
              "      <td>...</td>\n",
              "      <td>...</td>\n",
              "      <td>...</td>\n",
              "      <td>...</td>\n",
              "      <td>...</td>\n",
              "      <td>...</td>\n",
              "      <td>...</td>\n",
              "      <td>...</td>\n",
              "    </tr>\n",
              "    <tr>\n",
              "      <th>9994</th>\n",
              "      <td>0</td>\n",
              "      <td>1</td>\n",
              "      <td>0</td>\n",
              "      <td>0.25</td>\n",
              "      <td>0.344187</td>\n",
              "      <td>0.436883</td>\n",
              "      <td>0.52662</td>\n",
              "      <td>0.611977</td>\n",
              "      <td>0.691603</td>\n",
              "      <td>0.764236</td>\n",
              "      <td>...</td>\n",
              "      <td>0.400000</td>\n",
              "      <td>0.466667</td>\n",
              "      <td>0.533333</td>\n",
              "      <td>0.600000</td>\n",
              "      <td>0.666667</td>\n",
              "      <td>0.733333</td>\n",
              "      <td>0.800</td>\n",
              "      <td>0.866667</td>\n",
              "      <td>0.933333</td>\n",
              "      <td>1.0</td>\n",
              "    </tr>\n",
              "    <tr>\n",
              "      <th>9995</th>\n",
              "      <td>0</td>\n",
              "      <td>0</td>\n",
              "      <td>1</td>\n",
              "      <td>0.25</td>\n",
              "      <td>0.344187</td>\n",
              "      <td>0.436883</td>\n",
              "      <td>0.52662</td>\n",
              "      <td>0.611977</td>\n",
              "      <td>0.691603</td>\n",
              "      <td>0.764236</td>\n",
              "      <td>...</td>\n",
              "      <td>-0.001953</td>\n",
              "      <td>-0.003906</td>\n",
              "      <td>-0.007812</td>\n",
              "      <td>-0.015625</td>\n",
              "      <td>-0.031250</td>\n",
              "      <td>-0.062500</td>\n",
              "      <td>-0.125</td>\n",
              "      <td>-0.250000</td>\n",
              "      <td>-0.500000</td>\n",
              "      <td>-1.0</td>\n",
              "    </tr>\n",
              "    <tr>\n",
              "      <th>9996</th>\n",
              "      <td>1</td>\n",
              "      <td>0</td>\n",
              "      <td>0</td>\n",
              "      <td>0.25</td>\n",
              "      <td>0.344187</td>\n",
              "      <td>0.436883</td>\n",
              "      <td>0.52662</td>\n",
              "      <td>0.611977</td>\n",
              "      <td>0.691603</td>\n",
              "      <td>0.764236</td>\n",
              "      <td>...</td>\n",
              "      <td>1.000000</td>\n",
              "      <td>1.000000</td>\n",
              "      <td>1.000000</td>\n",
              "      <td>1.000000</td>\n",
              "      <td>1.000000</td>\n",
              "      <td>1.000000</td>\n",
              "      <td>1.000</td>\n",
              "      <td>1.000000</td>\n",
              "      <td>1.000000</td>\n",
              "      <td>1.0</td>\n",
              "    </tr>\n",
              "    <tr>\n",
              "      <th>9997</th>\n",
              "      <td>0</td>\n",
              "      <td>1</td>\n",
              "      <td>0</td>\n",
              "      <td>0.25</td>\n",
              "      <td>0.344187</td>\n",
              "      <td>0.436883</td>\n",
              "      <td>0.52662</td>\n",
              "      <td>0.611977</td>\n",
              "      <td>0.691603</td>\n",
              "      <td>0.764236</td>\n",
              "      <td>...</td>\n",
              "      <td>0.400000</td>\n",
              "      <td>0.466667</td>\n",
              "      <td>0.533333</td>\n",
              "      <td>0.600000</td>\n",
              "      <td>0.666667</td>\n",
              "      <td>0.733333</td>\n",
              "      <td>0.800</td>\n",
              "      <td>0.866667</td>\n",
              "      <td>0.933333</td>\n",
              "      <td>1.0</td>\n",
              "    </tr>\n",
              "    <tr>\n",
              "      <th>9998</th>\n",
              "      <td>0</td>\n",
              "      <td>0</td>\n",
              "      <td>1</td>\n",
              "      <td>0.25</td>\n",
              "      <td>0.344187</td>\n",
              "      <td>0.436883</td>\n",
              "      <td>0.52662</td>\n",
              "      <td>0.611977</td>\n",
              "      <td>0.691603</td>\n",
              "      <td>0.764236</td>\n",
              "      <td>...</td>\n",
              "      <td>-0.001953</td>\n",
              "      <td>-0.003906</td>\n",
              "      <td>-0.007812</td>\n",
              "      <td>-0.015625</td>\n",
              "      <td>-0.031250</td>\n",
              "      <td>-0.062500</td>\n",
              "      <td>-0.125</td>\n",
              "      <td>-0.250000</td>\n",
              "      <td>-0.500000</td>\n",
              "      <td>-1.0</td>\n",
              "    </tr>\n",
              "  </tbody>\n",
              "</table>\n",
              "<p>9999 rows × 519 columns</p>\n",
              "</div>"
            ]
          },
          "metadata": {},
          "execution_count": 13
        }
      ]
    },
    {
      "cell_type": "code",
      "source": [
        "def min_search(one_d_points, loss_type, start, stop, iterations):\n",
        "    min_loss = float(\"inf\")\n",
        "    min_y = None\n",
        "    for y in np.linspace(start,stop,iterations):\n",
        "        if loss_type == \"abs\":\n",
        "            loss = np.abs(one_d_points-y).mean()\n",
        "        else:\n",
        "            loss = ((one_d_points-y)**2).mean()\n",
        "        if loss < min_loss:\n",
        "            min_loss = loss\n",
        "            min_y = y\n",
        "    return min_loss, min_y\n",
        "\n",
        "def two_d_min_search(list_of_series, loss_type):\n",
        "    min_losses = []\n",
        "    ys = []\n",
        "    for i in range(list_of_series[0].shape[0]):\n",
        "        cross_sectional_min, y = min_search([list_of_series[0][i], list_of_series[1][i], list_of_series[2][i]], loss_type, -1, 1, 1000)\n",
        "        min_losses.append(cross_sectional_min)\n",
        "        ys.append(y)\n",
        "    return np.array(min_losses), ys"
      ],
      "metadata": {
        "id": "8X4EhKeAnQU9"
      },
      "execution_count": 14,
      "outputs": []
    },
    {
      "cell_type": "code",
      "source": [
        "plt.plot(TS_df.iloc[1,-forecast_length:].values,color=main)\n",
        "plt.plot(TS_df.iloc[2,-forecast_length:].values, color=main2)\n",
        "plt.plot(TS_df.iloc[3,-forecast_length:].values, color=main3)\n",
        "\n",
        "list_of_forecasts = [TS_df.iloc[0,-forecast_length:].values, TS_df.iloc[1,-forecast_length:].values, TS_df.iloc[2,-forecast_length:].values]\n",
        "\n",
        "perfect_predict, ys = two_d_min_search(list_of_forecasts, \"abs\") \n",
        "\n",
        "mean_predict = (TS_df.iloc[1,-forecast_length:].values+TS_df.iloc[2,-forecast_length:].values+TS_df.iloc[3,-forecast_length:].values)/3\n",
        "\n",
        "plt.plot(ys,linestyle=\"-.\",color=\"black\")\n",
        "\n",
        "print(perfect_predict.mean())"
      ],
      "metadata": {
        "colab": {
          "base_uri": "https://localhost:8080/",
          "height": 283
        },
        "id": "cqThzG8pCuK0",
        "outputId": "805ecd24-feb5-4eaa-eb2c-7b645c13be74"
      },
      "execution_count": 15,
      "outputs": [
        {
          "output_type": "stream",
          "name": "stdout",
          "text": [
            "0.3751661977172892\n"
          ]
        },
        {
          "output_type": "display_data",
          "data": {
            "text/plain": [
              "<Figure size 432x288 with 1 Axes>"
            ],
            "image/png": "[encoded data removed]"
          },
          "metadata": {
            "needs_background": "light"
          }
        }
      ]
    },
    {
      "cell_type": "code",
      "source": [
        "plt.plot(TS_df.iloc[1,3:].values, color=main3)\n",
        "plt.plot(TS_df.iloc[2,3:].values, color=main2)\n",
        "plt.plot(TS_df.iloc[3,3:].values, color=main);"
      ],
      "metadata": {
        "colab": {
          "base_uri": "https://localhost:8080/",
          "height": 264
        },
        "id": "U_GloLX1ocCw",
        "outputId": "0e93ffa3-b5e4-4c52-c6f1-d8cc98d6ecbf"
      },
      "execution_count": 16,
      "outputs": [
        {
          "output_type": "display_data",
          "data": {
            "text/plain": [
              "<Figure size 432x288 with 1 Axes>"
            ],
            "image/png": "[encoded data removed]"
          },
          "metadata": {
            "needs_background": "light"
          }
        }
      ]
    },
    {
      "cell_type": "markdown",
      "source": [
        "All set 👍"
      ],
      "metadata": {
        "id": "oV6eerKwYLKa"
      }
    },
    {
      "cell_type": "markdown",
      "source": [
        "## 2) Create a neural net 🦾🧠🦾                                     \n",
        "                                        🦿🦿\n",
        "\n",
        "\n",
        "\n"
      ],
      "metadata": {
        "id": "VqOCw4qIYPea"
      }
    },
    {
      "cell_type": "markdown",
      "source": [
        "### Simple Neural Net"
      ],
      "metadata": {
        "id": "BxxxUfYaQ7Ke"
      }
    },
    {
      "cell_type": "code",
      "source": [
        "class NeuralNetwork(nn.Module):\n",
        "    def __init__(self, in_size, out_size):\n",
        "        super(NeuralNetwork, self).__init__()\n",
        "        self.flatten = nn.Flatten()\n",
        "        self.linear_relu_stack = nn.Sequential(\n",
        "            nn.Linear(in_size, 512*2),\n",
        "            nn.ReLU(),\n",
        "            nn.Linear(512*2, 512),\n",
        "            nn.ReLU(),\n",
        "            nn.Linear(512, out_size),\n",
        "        )\n",
        "\n",
        "    def forward(self, x):\n",
        "        x = self.flatten(x)\n",
        "        logits = self.linear_relu_stack(x)\n",
        "        return logits"
      ],
      "metadata": {
        "id": "qoOH5LyeWUHJ"
      },
      "execution_count": 17,
      "outputs": []
    },
    {
      "cell_type": "markdown",
      "source": [
        "### Multivariate Network Architecture 🤗"
      ],
      "metadata": {
        "id": "2BhlOrr65p-N"
      }
    },
    {
      "cell_type": "code",
      "source": [
        "class MultivariateNetwork(nn.Module):\n",
        "    def __init__(self, lag_len, cat_len, out_len, hidden_dim):\n",
        "        super().__init__()\n",
        "\n",
        "        self.pre = nn.Sequential(\n",
        "            nn.Linear(lag_len, hidden_dim),\n",
        "            nn.ReLU(),\n",
        "        )\n",
        "\n",
        "        self.predict = nn.Sequential(\n",
        "            nn.Linear(hidden_dim + cat_len, 128),\n",
        "            nn.ReLU(),\n",
        "            nn.Linear(128, 64),\n",
        "            nn.ReLU(),\n",
        "            nn.Linear(64, out_len),\n",
        "        )\n",
        "\n",
        "\n",
        "    def forward(self, lags, cats):\n",
        "\n",
        "        x = self.pre(lags)\n",
        "        x = torch.cat((x, cats), dim=1)\n",
        "        x = self.predict(x)\n",
        "\n",
        "        return x"
      ],
      "metadata": {
        "id": "HAr0SiR54Dbb"
      },
      "execution_count": 18,
      "outputs": []
    },
    {
      "cell_type": "markdown",
      "source": [
        "## 3) Lets make a training loop 🤣❤ "
      ],
      "metadata": {
        "id": "V623D_5vaiR-"
      }
    },
    {
      "cell_type": "markdown",
      "source": [
        "### First version"
      ],
      "metadata": {
        "id": "wUxWc8_dRL8_"
      }
    },
    {
      "cell_type": "code",
      "source": [
        "def train(model, optimizer, loss_fn, data_train, data_val, one_hot_encoding, batch_number, forecast_window, epochs, device, show_progress=True):\n",
        "    # print(model)\n",
        "    train_losses = []\n",
        "    val_losses = []\n",
        "    it = tqdm(range(epochs), disable=not show_progress)\n",
        "    for epoch in it: \n",
        "        for run_type in [\"train\", \"val\"]:\n",
        "            model.train(run_type == \"train\")\n",
        "            \n",
        "            if run_type == \"train\":\n",
        "                optimizer.zero_grad()\n",
        "                \n",
        "                mu, sigma = 0, 0.1\n",
        "                noise = np.random.normal(mu, sigma, data_train.shape)\n",
        "                noise[:,-forecast_window:] = 0\n",
        "\n",
        "                data_train = data_train + noise\n",
        "                \n",
        "                if one_hot_encoding is not None:\n",
        "                    data_train_encoded = pd.concat([one_hot_encoding, data_train], axis=1, join=\"inner\")\n",
        "                else:\n",
        "                    data_train_encoded = data_train                \n",
        "                data_shuffled = torch.tensor(data_train_encoded.sample(frac=1).values, dtype=torch.float32).to(device)\n",
        "\n",
        "            else:\n",
        "                if one_hot_encoding is not None:\n",
        "                    data_val_encoded = pd.concat([one_hot_encoding, data_val], axis=1, join=\"inner\")\n",
        "                else:\n",
        "                    data_val_encoded = data_val\n",
        "\n",
        "                data_shuffled = torch.tensor(data_val_encoded.sample(frac=1).values, dtype=torch.float32).to(device)\n",
        "            \n",
        "            for batch in torch.split(data_shuffled, batch_number, dim=0):\n",
        "                \n",
        "            \n",
        "                inputs = batch[:,:-forecast_window]\n",
        "                actuals = batch[:,-forecast_window:]\n",
        "\n",
        "                \n",
        "                pred = model(inputs)\n",
        "                loss = loss_fn(pred, actuals)\n",
        "                \n",
        "                if run_type == \"train\":\n",
        "                    train_losses.append(loss.item())\n",
        "                    loss.backward()\n",
        "\n",
        "                    optimizer.step()\n",
        "                else:\n",
        "                    val_losses.append(loss.item())\n",
        "        it.set_postfix({\"train_loss\": np.mean(train_losses), \"val_loss\": np.mean(val_losses)})\n",
        "\n",
        "    return train_losses, val_losses"
      ],
      "metadata": {
        "id": "A8sVwKOnZEA3"
      },
      "execution_count": 19,
      "outputs": []
    },
    {
      "cell_type": "code",
      "source": [
        "def run(use_multivariate, length_of_time_series=10, show_progress=True):\n",
        "    #Training loop params\n",
        "    forecast_window = 16\n",
        "    amount_of_time_series = 999\n",
        "    epochs = 200\n",
        "    batch_size = 220\n",
        "    \n",
        "    #Wave params\n",
        "    periods = 10\n",
        "    horisontal_shift = 100\n",
        "    vertical_shift = 0\n",
        "\n",
        "    _, TS_signal, one_hot_encoding  = time_series_df(amount_of_time_series, length_of_time_series, periods, horisontal_shift, vertical_shift, forecast_window)\n",
        "\n",
        "    df_train = TS_signal.iloc[:-int(amount_of_time_series/3),:]\n",
        "    df_val = TS_signal.iloc[-int(amount_of_time_series/3):,:]\n",
        "\n",
        "    loss_fn = nn.L1Loss()\n",
        "    \n",
        "    # print(f\"use_multivariate: {use_multivariate}\")\n",
        "    if use_multivariate:        \n",
        "        model = NeuralNetwork(length_of_time_series + one_hot_encoding.shape[1], forecast_window).to(device)\n",
        "        optimizer = torch.optim.Adam(model.parameters(),lr=0.001) \n",
        "        return train(model, optimizer, loss_fn, df_train, df_val, one_hot_encoding, batch_size,forecast_window, epochs, device, show_progress)\n",
        "    \n",
        "    else:\n",
        "        model = NeuralNetwork(length_of_time_series, forecast_window).to(device)\n",
        "        optimizer = torch.optim.Adam(model.parameters(), lr=0.001)\n",
        "        return train(model, optimizer, loss_fn, df_train, df_val, None, batch_size,forecast_window, epochs, device, show_progress)\n"
      ],
      "metadata": {
        "id": "WRb8R6vaylkq"
      },
      "execution_count": 20,
      "outputs": []
    },
    {
      "cell_type": "markdown",
      "source": [
        "### Second version"
      ],
      "metadata": {
        "id": "oDASfafqRO5u"
      }
    },
    {
      "cell_type": "code",
      "source": [
        "def train_multivar(model, optimizer, loss_fn, data_train, data_val, one_hot_encoding, batch_number, forecast_window, epochs, device):\n",
        "    # print(model)\n",
        "    train_losses = []\n",
        "    val_losses = []\n",
        "    it = tqdm(range(epochs), disable=True)\n",
        "    for epoch in it: \n",
        "        for run_type in [\"train\", \"val\"]:\n",
        "            model.train(run_type == \"train\")\n",
        "            \n",
        "            if run_type == \"train\":\n",
        "                optimizer.zero_grad()\n",
        "                \n",
        "                mu, sigma = 0, 0.1\n",
        "                noise = np.random.normal(mu, sigma, data_train.shape)\n",
        "                noise[:,-forecast_window:] = 0\n",
        "\n",
        "                data_train = data_train + noise\n",
        "                data_encoded = pd.concat([one_hot_encoding, data_train], axis=1, join=\"inner\")\n",
        "\n",
        "            else:\n",
        "                data_encoded = pd.concat([one_hot_encoding, data_val], axis=1, join=\"inner\")\n",
        "\n",
        "            data_shuffled = torch.tensor(data_encoded.sample(frac=1).values, dtype=torch.float32)\n",
        "            \n",
        "            for batch in torch.split(data_shuffled, batch_number, dim=0):\n",
        "\n",
        "                inputs = batch[:,:-forecast_window].to(device)\n",
        "                actuals = batch[:,-forecast_window:].to(device)\n",
        "\n",
        "                pred = model(inputs[:, 3:], inputs[:, 0:3])\n",
        "                loss = loss_fn(pred, actuals)\n",
        "                \n",
        "                if run_type == \"train\":\n",
        "                    train_losses.append(loss.item())\n",
        "                    loss.backward()\n",
        "\n",
        "                    optimizer.step()\n",
        "                else:\n",
        "                    val_losses.append(loss.item())\n",
        "        \n",
        "        it.set_postfix({\"train_loss\": np.mean(train_losses), \"val_loss\": np.mean(val_losses)})\n",
        "\n",
        "    return train_losses, val_losses"
      ],
      "metadata": {
        "id": "W9Jp7aIG6mp2"
      },
      "execution_count": 21,
      "outputs": []
    },
    {
      "cell_type": "code",
      "source": [
        "def run_multivar(hidden_dim):\n",
        "    #Training loop params\n",
        "    forecast_window = 16\n",
        "    amount_of_time_series = 999\n",
        "    length_of_time_series = 500\n",
        "    epochs = 200\n",
        "    batch_size = 111\n",
        "    \n",
        "    #Wave params\n",
        "    periods = 10\n",
        "    horisontal_shift = 100\n",
        "    vertical_shift = 0\n",
        "\n",
        "    _, TS_signal, one_hot_encoding  = time_series_df(amount_of_time_series,length_of_time_series,periods, horisontal_shift, vertical_shift, forecast_window)\n",
        "\n",
        "    df_train = TS_signal.iloc[-int(amount_of_time_series/3):,:]\n",
        "    df_val = TS_signal.iloc[:-int(amount_of_time_series/3),:]\n",
        "\n",
        "    loss_fn = nn.L1Loss()\n",
        "    \n",
        "    model = MultivariateNetwork(length_of_time_series, one_hot_encoding.shape[1], forecast_window, hidden_dim)\n",
        "    model = model.to(device)\n",
        "    optimizer = torch.optim.Adam(model.parameters(), lr=0.001)\n",
        "\n",
        "    return train_multivar(model, optimizer, loss_fn, df_train, df_val, one_hot_encoding, batch_size, forecast_window, epochs, device)"
      ],
      "metadata": {
        "id": "OV99S9nD5uTd"
      },
      "execution_count": 22,
      "outputs": []
    },
    {
      "cell_type": "markdown",
      "source": [
        "## 4) Finally run experiments"
      ],
      "metadata": {
        "id": "QbuBsFPndNJp"
      }
    },
    {
      "cell_type": "markdown",
      "source": [
        "### First experiment"
      ],
      "metadata": {
        "id": "wukjPjGtRjHA"
      }
    },
    {
      "cell_type": "code",
      "source": [
        "train_losses_multi, val_losses_multi = run(use_multivariate=True)\n",
        "train_losses_uni, val_losses_uni = run(use_multivariate=False)"
      ],
      "metadata": {
        "id": "MTAKI6hjb_or"
      },
      "execution_count": null,
      "outputs": []
    },
    {
      "cell_type": "code",
      "source": [
        "plt.plot(rolling_mean(train_losses_multi, 150),color=main);\n",
        "plt.plot(rolling_mean(train_losses_uni, 150),color=main2);\n",
        "plt.axhline(y=perfect_predict.mean(), color=\"black\", linestyle='-.')\n",
        "plt.show()"
      ],
      "metadata": {
        "id": "kkUct_Cf0ZL-"
      },
      "execution_count": null,
      "outputs": []
    },
    {
      "cell_type": "code",
      "source": [
        "plt.plot(rolling_mean(val_losses_multi,150), color=main, label=\"Multivariate\")\n",
        "plt.plot(rolling_mean(val_losses_uni,150),color=main2, label=\"Univariate\")\n",
        "plt.axhline(y=perfect_predict.mean(), color='black', linestyle='-.', label=\"Optimal univariate\")\n",
        "plt.legend(frameon=False)\n",
        "plt.show()"
      ],
      "metadata": {
        "id": "1dtyDElXezl-"
      },
      "execution_count": null,
      "outputs": []
    },
    {
      "cell_type": "markdown",
      "source": [
        "The train loss converges to ≈0.28, and the validation loss is the neural net does not have sufficient information of what the underlyding data generating process is. "
      ],
      "metadata": {
        "id": "bPEfGJqwjVEE"
      }
    },
    {
      "cell_type": "markdown",
      "source": [
        "### Second experiment"
      ],
      "metadata": {
        "id": "MqQulQrjRl8v"
      }
    },
    {
      "cell_type": "code",
      "source": [
        "trains = defaultdict(list)\n",
        "vals = defaultdict(list)"
      ],
      "metadata": {
        "id": "gtZWiJ34Q8vL"
      },
      "execution_count": 23,
      "outputs": []
    },
    {
      "cell_type": "code",
      "source": [
        "trials = 15\n",
        "hds = [3, 8, 16, 32, 64, 96, 128, 160, 192, 230, 256, 320, 384, 400, 512, 650, 768, 1024, 1300, 1536, 1700, 2048][::]\n",
        "\n",
        "n_runs = 0\n",
        "tot_runs = trials * len(hds)\n",
        "\n",
        "starttime = datetime.now()\n",
        "elapsed = 0\n",
        "remaining = 0\n",
        "\n",
        "it = tqdm(total=tot_runs)\n",
        "\n",
        "for n, hd in enumerate(hds, start=1):\n",
        "    for i in range(trials):\n",
        "        it.set_postfix_str(f\"HD: {hd} ({n}/{len(hds)}), trial: {i+1}/{trials}\")\n",
        "\n",
        "        tra, val = run_multivar(hd)\n",
        "\n",
        "        trains[hd].append(tra)\n",
        "        vals[hd].append(val)\n",
        "\n",
        "        n_runs += 1\n",
        "        elapsed = datetime.now() - starttime\n",
        "        remaining = (tot_runs - n_runs) * (elapsed / n_runs)\n",
        "        it.update()"
      ],
      "metadata": {
        "colab": {
          "base_uri": "https://localhost:8080/"
        },
        "id": "mWxg7Ako99IS",
        "outputId": "53421dd2-e4ab-4425-bb3b-1e6bb090b5b0"
      },
      "execution_count": 28,
      "outputs": [
        {
          "output_type": "stream",
          "name": "stderr",
          "text": [
            "\n",
            "  1%|          | 2/330 [00:11<30:41,  5.62s/it, HD: 3 (1/22), trial: 2/15]\u001b[A\n",
            "  1%|          | 2/330 [00:11<30:41,  5.62s/it, HD: 3 (1/22), trial: 3/15]\u001b[A\n",
            "  1%|          | 3/330 [00:16<29:54,  5.49s/it, HD: 3 (1/22), trial: 3/15]\u001b[A\n",
            "  1%|          | 3/330 [00:16<29:54,  5.49s/it, HD: 3 (1/22), trial: 4/15]\u001b[A\n",
            "  1%|          | 4/330 [00:21<29:17,  5.39s/it, HD: 3 (1/22), trial: 4/15]\u001b[A\n",
            "  1%|          | 4/330 [00:21<29:17,  5.39s/it, HD: 3 (1/22), trial: 5/15]\u001b[A\n",
            "  2%|▏         | 5/330 [00:27<29:14,  5.40s/it, HD: 3 (1/22), trial: 5/15]\u001b[A\n",
            "  2%|▏         | 5/330 [00:27<29:14,  5.40s/it, HD: 3 (1/22), trial: 6/15]\u001b[A\n",
            "  2%|▏         | 6/330 [00:32<29:03,  5.38s/it, HD: 3 (1/22), trial: 6/15]\u001b[A\n",
            "  2%|▏         | 6/330 [00:32<29:03,  5.38s/it, HD: 3 (1/22), trial: 7/15]\u001b[A\n",
            "  2%|▏         | 7/330 [00:37<28:49,  5.36s/it, HD: 3 (1/22), trial: 7/15]\u001b[A\n",
            "  2%|▏         | 7/330 [00:38<28:49,  5.36s/it, HD: 3 (1/22), trial: 8/15]\u001b[A\n",
            "  2%|▏         | 8/330 [00:43<28:47,  5.37s/it, HD: 3 (1/22), trial: 8/15]\u001b[A\n",
            "  2%|▏         | 8/330 [00:43<28:47,  5.37s/it, HD: 3 (1/22), trial: 9/15]\u001b[A\n",
            "  3%|▎         | 9/330 [00:48<28:34,  5.34s/it, HD: 3 (1/22), trial: 9/15]\u001b[A\n",
            "  3%|▎         | 9/330 [00:48<28:34,  5.34s/it, HD: 3 (1/22), trial: 10/15]\u001b[A\n",
            "  3%|▎         | 10/330 [00:53<28:26,  5.33s/it, HD: 3 (1/22), trial: 10/15]\u001b[A\n",
            "  3%|▎         | 10/330 [00:54<28:26,  5.33s/it, HD: 3 (1/22), trial: 11/15]\u001b[A\n",
            "  3%|▎         | 11/330 [01:00<29:31,  5.55s/it, HD: 3 (1/22), trial: 11/15]\u001b[A\n",
            "  3%|▎         | 11/330 [01:00<29:31,  5.55s/it, HD: 3 (1/22), trial: 12/15]\u001b[A\n",
            "  4%|▎         | 12/330 [01:05<29:06,  5.49s/it, HD: 3 (1/22), trial: 12/15]\u001b[A\n",
            "  4%|▎         | 12/330 [01:05<29:06,  5.49s/it, HD: 3 (1/22), trial: 13/15]\u001b[A\n",
            "  4%|▍         | 13/330 [01:10<28:44,  5.44s/it, HD: 3 (1/22), trial: 13/15]\u001b[A\n",
            "  4%|▍         | 13/330 [01:10<28:44,  5.44s/it, HD: 3 (1/22), trial: 14/15]\u001b[A\n",
            "  4%|▍         | 14/330 [01:16<28:31,  5.42s/it, HD: 3 (1/22), trial: 14/15]\u001b[A\n",
            "  4%|▍         | 14/330 [01:16<28:31,  5.42s/it, HD: 3 (1/22), trial: 15/15]\u001b[A\n",
            "  5%|▍         | 15/330 [01:21<28:24,  5.41s/it, HD: 3 (1/22), trial: 15/15]\u001b[A\n",
            "  5%|▍         | 15/330 [01:21<28:24,  5.41s/it, HD: 8 (2/22), trial: 1/15] \u001b[A\n",
            "  5%|▍         | 16/330 [01:26<28:27,  5.44s/it, HD: 8 (2/22), trial: 1/15]\u001b[A\n",
            "  5%|▍         | 16/330 [01:26<28:27,  5.44s/it, HD: 8 (2/22), trial: 2/15]\u001b[A\n",
            "  5%|▌         | 17/330 [01:32<28:14,  5.41s/it, HD: 8 (2/22), trial: 2/15]\u001b[A\n",
            "  5%|▌         | 17/330 [01:32<28:14,  5.41s/it, HD: 8 (2/22), trial: 3/15]\u001b[A\n",
            "  5%|▌         | 18/330 [01:37<27:56,  5.37s/it, HD: 8 (2/22), trial: 3/15]\u001b[A\n",
            "  5%|▌         | 18/330 [01:37<27:56,  5.37s/it, HD: 8 (2/22), trial: 4/15]\u001b[A\n",
            "  6%|▌         | 19/330 [01:42<27:37,  5.33s/it, HD: 8 (2/22), trial: 4/15]\u001b[A\n",
            "  6%|▌         | 19/330 [01:42<27:37,  5.33s/it, HD: 8 (2/22), trial: 5/15]\u001b[A\n",
            "  6%|▌         | 20/330 [01:48<27:35,  5.34s/it, HD: 8 (2/22), trial: 5/15]\u001b[A\n",
            "  6%|▌         | 20/330 [01:48<27:35,  5.34s/it, HD: 8 (2/22), trial: 6/15]\u001b[A\n",
            "  6%|▋         | 21/330 [01:53<27:32,  5.35s/it, HD: 8 (2/22), trial: 6/15]\u001b[A\n",
            "  6%|▋         | 21/330 [01:53<27:32,  5.35s/it, HD: 8 (2/22), trial: 7/15]\u001b[A\n",
            "  7%|▋         | 22/330 [01:58<27:32,  5.37s/it, HD: 8 (2/22), trial: 7/15]\u001b[A\n",
            "  7%|▋         | 22/330 [01:58<27:32,  5.37s/it, HD: 8 (2/22), trial: 8/15]\u001b[A\n",
            "  7%|▋         | 23/330 [02:04<27:25,  5.36s/it, HD: 8 (2/22), trial: 8/15]\u001b[A\n",
            "  7%|▋         | 23/330 [02:04<27:25,  5.36s/it, HD: 8 (2/22), trial: 9/15]\u001b[A\n",
            "  7%|▋         | 24/330 [02:09<27:22,  5.37s/it, HD: 8 (2/22), trial: 9/15]\u001b[A\n",
            "  7%|▋         | 24/330 [02:09<27:22,  5.37s/it, HD: 8 (2/22), trial: 10/15]\u001b[A\n",
            "  8%|▊         | 25/330 [02:15<27:18,  5.37s/it, HD: 8 (2/22), trial: 10/15]\u001b[A\n",
            "  8%|▊         | 25/330 [02:15<27:18,  5.37s/it, HD: 8 (2/22), trial: 11/15]\u001b[A\n",
            "  8%|▊         | 26/330 [02:20<27:17,  5.39s/it, HD: 8 (2/22), trial: 11/15]\u001b[A\n",
            "  8%|▊         | 26/330 [02:20<27:17,  5.39s/it, HD: 8 (2/22), trial: 12/15]\u001b[A\n",
            "  8%|▊         | 27/330 [02:25<27:12,  5.39s/it, HD: 8 (2/22), trial: 12/15]\u001b[A\n",
            "  8%|▊         | 27/330 [02:25<27:12,  5.39s/it, HD: 8 (2/22), trial: 13/15]\u001b[A\n",
            "  8%|▊         | 28/330 [02:31<27:09,  5.40s/it, HD: 8 (2/22), trial: 13/15]\u001b[A\n",
            "  8%|▊         | 28/330 [02:31<27:09,  5.40s/it, HD: 8 (2/22), trial: 14/15]\u001b[A\n",
            "  9%|▉         | 29/330 [02:36<27:09,  5.41s/it, HD: 8 (2/22), trial: 14/15]\u001b[A\n",
            "  9%|▉         | 29/330 [02:36<27:09,  5.41s/it, HD: 8 (2/22), trial: 15/15]\u001b[A\n",
            "  9%|▉         | 30/330 [02:42<27:03,  5.41s/it, HD: 8 (2/22), trial: 15/15]\u001b[A\n",
            "  9%|▉         | 30/330 [02:42<27:03,  5.41s/it, HD: 16 (3/22), trial: 1/15]\u001b[A\n",
            "  9%|▉         | 31/330 [02:47<27:09,  5.45s/it, HD: 16 (3/22), trial: 1/15]\u001b[A\n",
            "  9%|▉         | 31/330 [02:47<27:09,  5.45s/it, HD: 16 (3/22), trial: 2/15]\u001b[A\n",
            " 10%|▉         | 32/330 [02:53<27:02,  5.44s/it, HD: 16 (3/22), trial: 2/15]\u001b[A\n",
            " 10%|▉         | 32/330 [02:53<27:02,  5.44s/it, HD: 16 (3/22), trial: 3/15]\u001b[A\n",
            " 10%|█         | 33/330 [02:58<27:03,  5.47s/it, HD: 16 (3/22), trial: 3/15]\u001b[A\n",
            " 10%|█         | 33/330 [02:58<27:03,  5.47s/it, HD: 16 (3/22), trial: 4/15]\u001b[A\n",
            " 10%|█         | 34/330 [03:04<26:45,  5.42s/it, HD: 16 (3/22), trial: 4/15]\u001b[A\n",
            " 10%|█         | 34/330 [03:04<26:45,  5.42s/it, HD: 16 (3/22), trial: 5/15]\u001b[A\n",
            " 11%|█         | 35/330 [03:09<26:37,  5.41s/it, HD: 16 (3/22), trial: 5/15]\u001b[A\n",
            " 11%|█         | 35/330 [03:09<26:37,  5.41s/it, HD: 16 (3/22), trial: 6/15]\u001b[A\n",
            " 11%|█         | 36/330 [03:14<26:28,  5.40s/it, HD: 16 (3/22), trial: 6/15]\u001b[A\n",
            " 11%|█         | 36/330 [03:14<26:28,  5.40s/it, HD: 16 (3/22), trial: 7/15]\u001b[A\n",
            " 11%|█         | 37/330 [03:20<26:29,  5.43s/it, HD: 16 (3/22), trial: 7/15]\u001b[A\n",
            " 11%|█         | 37/330 [03:20<26:29,  5.43s/it, HD: 16 (3/22), trial: 8/15]\u001b[A\n",
            " 12%|█▏        | 38/330 [03:25<26:21,  5.42s/it, HD: 16 (3/22), trial: 8/15]\u001b[A\n",
            " 12%|█▏        | 38/330 [03:25<26:21,  5.42s/it, HD: 16 (3/22), trial: 9/15]\u001b[A\n",
            " 12%|█▏        | 39/330 [03:30<26:09,  5.39s/it, HD: 16 (3/22), trial: 9/15]\u001b[A\n",
            " 12%|█▏        | 39/330 [03:30<26:09,  5.39s/it, HD: 16 (3/22), trial: 10/15]\u001b[A\n",
            " 12%|█▏        | 40/330 [03:36<26:09,  5.41s/it, HD: 16 (3/22), trial: 10/15]\u001b[A\n",
            " 12%|█▏        | 40/330 [03:36<26:09,  5.41s/it, HD: 16 (3/22), trial: 11/15]\u001b[A\n",
            " 12%|█▏        | 41/330 [03:41<26:02,  5.41s/it, HD: 16 (3/22), trial: 11/15]\u001b[A\n",
            " 12%|█▏        | 41/330 [03:41<26:02,  5.41s/it, HD: 16 (3/22), trial: 12/15]\u001b[A\n",
            " 13%|█▎        | 42/330 [03:47<25:59,  5.41s/it, HD: 16 (3/22), trial: 12/15]\u001b[A\n",
            " 13%|█▎        | 42/330 [03:47<25:59,  5.41s/it, HD: 16 (3/22), trial: 13/15]\u001b[A\n",
            " 13%|█▎        | 43/330 [03:52<25:59,  5.43s/it, HD: 16 (3/22), trial: 13/15]\u001b[A\n",
            " 13%|█▎        | 43/330 [03:52<25:59,  5.43s/it, HD: 16 (3/22), trial: 14/15]\u001b[A\n",
            " 13%|█▎        | 44/330 [03:58<26:05,  5.47s/it, HD: 16 (3/22), trial: 14/15]\u001b[A\n",
            " 13%|█▎        | 44/330 [03:58<26:05,  5.47s/it, HD: 16 (3/22), trial: 15/15]\u001b[A\n",
            " 14%|█▎        | 45/330 [04:03<26:07,  5.50s/it, HD: 16 (3/22), trial: 15/15]\u001b[A\n",
            " 14%|█▎        | 45/330 [04:03<26:07,  5.50s/it, HD: 32 (4/22), trial: 1/15] \u001b[A\n",
            " 14%|█▍        | 46/330 [04:09<26:04,  5.51s/it, HD: 32 (4/22), trial: 1/15]\u001b[A\n",
            " 14%|█▍        | 46/330 [04:09<26:04,  5.51s/it, HD: 32 (4/22), trial: 2/15]\u001b[A\n",
            " 14%|█▍        | 47/330 [04:14<25:59,  5.51s/it, HD: 32 (4/22), trial: 2/15]\u001b[A\n",
            " 14%|█▍        | 47/330 [04:14<25:59,  5.51s/it, HD: 32 (4/22), trial: 3/15]\u001b[A\n",
            " 15%|█▍        | 48/330 [04:20<25:53,  5.51s/it, HD: 32 (4/22), trial: 3/15]\u001b[A\n",
            " 15%|█▍        | 48/330 [04:20<25:53,  5.51s/it, HD: 32 (4/22), trial: 4/15]\u001b[A\n",
            " 15%|█▍        | 49/330 [04:25<25:49,  5.51s/it, HD: 32 (4/22), trial: 4/15]\u001b[A\n",
            " 15%|█▍        | 49/330 [04:25<25:49,  5.51s/it, HD: 32 (4/22), trial: 5/15]\u001b[A\n",
            " 15%|█▌        | 50/330 [04:31<25:33,  5.48s/it, HD: 32 (4/22), trial: 5/15]\u001b[A\n",
            " 15%|█▌        | 50/330 [04:31<25:33,  5.48s/it, HD: 32 (4/22), trial: 6/15]\u001b[A\n",
            " 15%|█▌        | 51/330 [04:36<25:14,  5.43s/it, HD: 32 (4/22), trial: 6/15]\u001b[A\n",
            " 15%|█▌        | 51/330 [04:36<25:14,  5.43s/it, HD: 32 (4/22), trial: 7/15]\u001b[A\n",
            " 16%|█▌        | 52/330 [04:42<25:04,  5.41s/it, HD: 32 (4/22), trial: 7/15]\u001b[A\n",
            " 16%|█▌        | 52/330 [04:42<25:04,  5.41s/it, HD: 32 (4/22), trial: 8/15]\u001b[A\n",
            " 16%|█▌        | 53/330 [04:47<25:02,  5.42s/it, HD: 32 (4/22), trial: 8/15]\u001b[A\n",
            " 16%|█▌        | 53/330 [04:47<25:02,  5.42s/it, HD: 32 (4/22), trial: 9/15]\u001b[A\n",
            " 16%|█▋        | 54/330 [04:52<25:00,  5.44s/it, HD: 32 (4/22), trial: 9/15]\u001b[A\n",
            " 16%|█▋        | 54/330 [04:52<25:00,  5.44s/it, HD: 32 (4/22), trial: 10/15]\u001b[A\n",
            " 17%|█▋        | 55/330 [04:58<24:52,  5.43s/it, HD: 32 (4/22), trial: 10/15]\u001b[A\n",
            " 17%|█▋        | 55/330 [04:58<24:52,  5.43s/it, HD: 32 (4/22), trial: 11/15]\u001b[A\n",
            " 17%|█▋        | 56/330 [05:03<24:40,  5.41s/it, HD: 32 (4/22), trial: 11/15]\u001b[A\n",
            " 17%|█▋        | 56/330 [05:03<24:40,  5.41s/it, HD: 32 (4/22), trial: 12/15]\u001b[A\n",
            " 17%|█▋        | 57/330 [05:09<24:33,  5.40s/it, HD: 32 (4/22), trial: 12/15]\u001b[A\n",
            " 17%|█▋        | 57/330 [05:09<24:33,  5.40s/it, HD: 32 (4/22), trial: 13/15]\u001b[A\n",
            " 18%|█▊        | 58/330 [05:14<24:23,  5.38s/it, HD: 32 (4/22), trial: 13/15]\u001b[A\n",
            " 18%|█▊        | 58/330 [05:14<24:23,  5.38s/it, HD: 32 (4/22), trial: 14/15]\u001b[A\n",
            " 18%|█▊        | 59/330 [05:19<24:21,  5.39s/it, HD: 32 (4/22), trial: 14/15]\u001b[A\n",
            " 18%|█▊        | 59/330 [05:19<24:21,  5.39s/it, HD: 32 (4/22), trial: 15/15]\u001b[A\n",
            " 18%|█▊        | 60/330 [05:25<24:11,  5.38s/it, HD: 32 (4/22), trial: 15/15]\u001b[A\n",
            " 18%|█▊        | 60/330 [05:25<24:11,  5.38s/it, HD: 64 (5/22), trial: 1/15] \u001b[A\n",
            " 18%|█▊        | 61/330 [05:30<24:23,  5.44s/it, HD: 64 (5/22), trial: 1/15]\u001b[A\n",
            " 18%|█▊        | 61/330 [05:30<24:23,  5.44s/it, HD: 64 (5/22), trial: 2/15]\u001b[A\n",
            " 19%|█▉        | 62/330 [05:36<24:26,  5.47s/it, HD: 64 (5/22), trial: 2/15]\u001b[A\n",
            " 19%|█▉        | 62/330 [05:36<24:26,  5.47s/it, HD: 64 (5/22), trial: 3/15]\u001b[A\n",
            " 19%|█▉        | 63/330 [05:41<24:21,  5.48s/it, HD: 64 (5/22), trial: 3/15]\u001b[A\n",
            " 19%|█▉        | 63/330 [05:41<24:21,  5.48s/it, HD: 64 (5/22), trial: 4/15]\u001b[A\n",
            " 19%|█▉        | 64/330 [05:47<24:28,  5.52s/it, HD: 64 (5/22), trial: 4/15]\u001b[A\n",
            " 19%|█▉        | 64/330 [05:47<24:28,  5.52s/it, HD: 64 (5/22), trial: 5/15]\u001b[A\n",
            " 20%|█▉        | 65/330 [05:53<24:31,  5.55s/it, HD: 64 (5/22), trial: 5/15]\u001b[A\n",
            " 20%|█▉        | 65/330 [05:53<24:31,  5.55s/it, HD: 64 (5/22), trial: 6/15]\u001b[A\n",
            " 20%|██        | 66/330 [05:58<24:32,  5.58s/it, HD: 64 (5/22), trial: 6/15]\u001b[A\n",
            " 20%|██        | 66/330 [05:58<24:32,  5.58s/it, HD: 64 (5/22), trial: 7/15]\u001b[A\n",
            " 20%|██        | 67/330 [06:04<24:17,  5.54s/it, HD: 64 (5/22), trial: 7/15]\u001b[A\n",
            " 20%|██        | 67/330 [06:04<24:17,  5.54s/it, HD: 64 (5/22), trial: 8/15]\u001b[A\n",
            " 21%|██        | 68/330 [06:09<24:17,  5.56s/it, HD: 64 (5/22), trial: 8/15]\u001b[A\n",
            " 21%|██        | 68/330 [06:09<24:17,  5.56s/it, HD: 64 (5/22), trial: 9/15]\u001b[A\n",
            " 21%|██        | 69/330 [06:15<24:09,  5.55s/it, HD: 64 (5/22), trial: 9/15]\u001b[A\n",
            " 21%|██        | 69/330 [06:15<24:09,  5.55s/it, HD: 64 (5/22), trial: 10/15]\u001b[A\n",
            " 21%|██        | 70/330 [06:20<24:10,  5.58s/it, HD: 64 (5/22), trial: 10/15]\u001b[A\n",
            " 21%|██        | 70/330 [06:20<24:10,  5.58s/it, HD: 64 (5/22), trial: 11/15]\u001b[A\n",
            " 22%|██▏       | 71/330 [06:26<23:56,  5.55s/it, HD: 64 (5/22), trial: 11/15]\u001b[A\n",
            " 22%|██▏       | 71/330 [06:26<23:56,  5.55s/it, HD: 64 (5/22), trial: 12/15]\u001b[A\n",
            " 22%|██▏       | 72/330 [06:31<23:47,  5.53s/it, HD: 64 (5/22), trial: 12/15]\u001b[A\n",
            " 22%|██▏       | 72/330 [06:31<23:47,  5.53s/it, HD: 64 (5/22), trial: 13/15]\u001b[A\n",
            " 22%|██▏       | 73/330 [06:37<23:36,  5.51s/it, HD: 64 (5/22), trial: 13/15]\u001b[A\n",
            " 22%|██▏       | 73/330 [06:37<23:36,  5.51s/it, HD: 64 (5/22), trial: 14/15]\u001b[A\n",
            " 22%|██▏       | 74/330 [06:42<23:36,  5.53s/it, HD: 64 (5/22), trial: 14/15]\u001b[A\n",
            " 22%|██▏       | 74/330 [06:42<23:36,  5.53s/it, HD: 64 (5/22), trial: 15/15]\u001b[A\n",
            " 23%|██▎       | 75/330 [06:48<23:37,  5.56s/it, HD: 64 (5/22), trial: 15/15]\u001b[A\n",
            " 23%|██▎       | 75/330 [06:48<23:37,  5.56s/it, HD: 96 (6/22), trial: 1/15] \u001b[A\n",
            " 23%|██▎       | 76/330 [06:54<23:33,  5.56s/it, HD: 96 (6/22), trial: 1/15]\u001b[A\n",
            " 23%|██▎       | 76/330 [06:54<23:33,  5.56s/it, HD: 96 (6/22), trial: 2/15]\u001b[A\n",
            " 23%|██▎       | 77/330 [06:59<23:32,  5.58s/it, HD: 96 (6/22), trial: 2/15]\u001b[A\n",
            " 23%|██▎       | 77/330 [06:59<23:32,  5.58s/it, HD: 96 (6/22), trial: 3/15]\u001b[A\n",
            " 24%|██▎       | 78/330 [07:05<23:21,  5.56s/it, HD: 96 (6/22), trial: 3/15]\u001b[A\n",
            " 24%|██▎       | 78/330 [07:05<23:21,  5.56s/it, HD: 96 (6/22), trial: 4/15]\u001b[A\n",
            " 24%|██▍       | 79/330 [07:10<23:24,  5.60s/it, HD: 96 (6/22), trial: 4/15]\u001b[A\n",
            " 24%|██▍       | 79/330 [07:10<23:24,  5.60s/it, HD: 96 (6/22), trial: 5/15]\u001b[A\n",
            " 24%|██▍       | 80/330 [07:16<23:17,  5.59s/it, HD: 96 (6/22), trial: 5/15]\u001b[A\n",
            " 24%|██▍       | 80/330 [07:16<23:17,  5.59s/it, HD: 96 (6/22), trial: 6/15]\u001b[A\n",
            " 25%|██▍       | 81/330 [07:22<23:10,  5.58s/it, HD: 96 (6/22), trial: 6/15]\u001b[A\n",
            " 25%|██▍       | 81/330 [07:22<23:10,  5.58s/it, HD: 96 (6/22), trial: 7/15]\u001b[A\n",
            " 25%|██▍       | 82/330 [07:27<22:55,  5.55s/it, HD: 96 (6/22), trial: 7/15]\u001b[A\n",
            " 25%|██▍       | 82/330 [07:27<22:55,  5.55s/it, HD: 96 (6/22), trial: 8/15]\u001b[A\n",
            " 25%|██▌       | 83/330 [07:33<22:51,  5.55s/it, HD: 96 (6/22), trial: 8/15]\u001b[A\n",
            " 25%|██▌       | 83/330 [07:33<22:51,  5.55s/it, HD: 96 (6/22), trial: 9/15]\u001b[A\n",
            " 25%|██▌       | 84/330 [07:38<22:48,  5.56s/it, HD: 96 (6/22), trial: 9/15]\u001b[A\n",
            " 25%|██▌       | 84/330 [07:38<22:48,  5.56s/it, HD: 96 (6/22), trial: 10/15]\u001b[A\n",
            " 26%|██▌       | 85/330 [07:44<22:38,  5.55s/it, HD: 96 (6/22), trial: 10/15]\u001b[A\n",
            " 26%|██▌       | 85/330 [07:44<22:38,  5.55s/it, HD: 96 (6/22), trial: 11/15]\u001b[A\n",
            " 26%|██▌       | 86/330 [07:49<22:30,  5.54s/it, HD: 96 (6/22), trial: 11/15]\u001b[A\n",
            " 26%|██▌       | 86/330 [07:49<22:30,  5.54s/it, HD: 96 (6/22), trial: 12/15]\u001b[A\n",
            " 26%|██▋       | 87/330 [07:55<22:22,  5.53s/it, HD: 96 (6/22), trial: 12/15]\u001b[A\n",
            " 26%|██▋       | 87/330 [07:55<22:22,  5.53s/it, HD: 96 (6/22), trial: 13/15]\u001b[A\n",
            " 27%|██▋       | 88/330 [08:00<22:12,  5.51s/it, HD: 96 (6/22), trial: 13/15]\u001b[A\n",
            " 27%|██▋       | 88/330 [08:00<22:12,  5.51s/it, HD: 96 (6/22), trial: 14/15]\u001b[A\n",
            " 27%|██▋       | 89/330 [08:06<22:03,  5.49s/it, HD: 96 (6/22), trial: 14/15]\u001b[A\n",
            " 27%|██▋       | 89/330 [08:06<22:03,  5.49s/it, HD: 96 (6/22), trial: 15/15]\u001b[A\n",
            " 27%|██▋       | 90/330 [08:11<22:00,  5.50s/it, HD: 96 (6/22), trial: 15/15]\u001b[A\n",
            " 27%|██▋       | 90/330 [08:11<22:00,  5.50s/it, HD: 128 (7/22), trial: 1/15]\u001b[A\n",
            " 28%|██▊       | 91/330 [08:17<21:56,  5.51s/it, HD: 128 (7/22), trial: 1/15]\u001b[A\n",
            " 28%|██▊       | 91/330 [08:17<21:56,  5.51s/it, HD: 128 (7/22), trial: 2/15]\u001b[A\n",
            " 28%|██▊       | 92/330 [08:22<22:04,  5.57s/it, HD: 128 (7/22), trial: 2/15]\u001b[A\n",
            " 28%|██▊       | 92/330 [08:22<22:04,  5.57s/it, HD: 128 (7/22), trial: 3/15]\u001b[A\n",
            " 28%|██▊       | 93/330 [08:28<22:13,  5.62s/it, HD: 128 (7/22), trial: 3/15]\u001b[A\n",
            " 28%|██▊       | 93/330 [08:28<22:13,  5.62s/it, HD: 128 (7/22), trial: 4/15]\u001b[A\n",
            " 28%|██▊       | 94/330 [08:34<22:16,  5.67s/it, HD: 128 (7/22), trial: 4/15]\u001b[A\n",
            " 28%|██▊       | 94/330 [08:34<22:16,  5.67s/it, HD: 128 (7/22), trial: 5/15]\u001b[A\n",
            " 29%|██▉       | 95/330 [08:39<22:03,  5.63s/it, HD: 128 (7/22), trial: 5/15]\u001b[A\n",
            " 29%|██▉       | 95/330 [08:39<22:03,  5.63s/it, HD: 128 (7/22), trial: 6/15]\u001b[A\n",
            " 29%|██▉       | 96/330 [08:45<22:01,  5.65s/it, HD: 128 (7/22), trial: 6/15]\u001b[A\n",
            " 29%|██▉       | 96/330 [08:45<22:01,  5.65s/it, HD: 128 (7/22), trial: 7/15]\u001b[A\n",
            " 29%|██▉       | 97/330 [08:51<21:53,  5.64s/it, HD: 128 (7/22), trial: 7/15]\u001b[A\n",
            " 29%|██▉       | 97/330 [08:51<21:53,  5.64s/it, HD: 128 (7/22), trial: 8/15]\u001b[A\n",
            " 30%|██▉       | 98/330 [08:56<21:51,  5.65s/it, HD: 128 (7/22), trial: 8/15]\u001b[A\n",
            " 30%|██▉       | 98/330 [08:56<21:51,  5.65s/it, HD: 128 (7/22), trial: 9/15]\u001b[A\n",
            " 30%|███       | 99/330 [09:02<21:42,  5.64s/it, HD: 128 (7/22), trial: 9/15]\u001b[A\n",
            " 30%|███       | 99/330 [09:02<21:42,  5.64s/it, HD: 128 (7/22), trial: 10/15]\u001b[A\n",
            " 30%|███       | 100/330 [09:08<21:39,  5.65s/it, HD: 128 (7/22), trial: 10/15]\u001b[A\n",
            " 30%|███       | 100/330 [09:08<21:39,  5.65s/it, HD: 128 (7/22), trial: 11/15]\u001b[A\n",
            " 31%|███       | 101/330 [09:13<21:37,  5.66s/it, HD: 128 (7/22), trial: 11/15]\u001b[A\n",
            " 31%|███       | 101/330 [09:13<21:37,  5.66s/it, HD: 128 (7/22), trial: 12/15]\u001b[A\n",
            " 31%|███       | 102/330 [09:19<21:27,  5.65s/it, HD: 128 (7/22), trial: 12/15]\u001b[A\n",
            " 31%|███       | 102/330 [09:19<21:27,  5.65s/it, HD: 128 (7/22), trial: 13/15]\u001b[A\n",
            " 31%|███       | 103/330 [09:25<21:22,  5.65s/it, HD: 128 (7/22), trial: 13/15]\u001b[A\n",
            " 31%|███       | 103/330 [09:25<21:22,  5.65s/it, HD: 128 (7/22), trial: 14/15]\u001b[A\n",
            " 32%|███▏      | 104/330 [09:30<21:19,  5.66s/it, HD: 128 (7/22), trial: 14/15]\u001b[A\n",
            " 32%|███▏      | 104/330 [09:30<21:19,  5.66s/it, HD: 128 (7/22), trial: 15/15]\u001b[A\n",
            " 32%|███▏      | 105/330 [09:36<21:11,  5.65s/it, HD: 128 (7/22), trial: 15/15]\u001b[A\n",
            " 32%|███▏      | 105/330 [09:36<21:11,  5.65s/it, HD: 160 (8/22), trial: 1/15] \u001b[A\n",
            " 32%|███▏      | 106/330 [09:42<21:10,  5.67s/it, HD: 160 (8/22), trial: 1/15]\u001b[A\n",
            " 32%|███▏      | 106/330 [09:42<21:10,  5.67s/it, HD: 160 (8/22), trial: 2/15]\u001b[A\n",
            " 32%|███▏      | 107/330 [09:47<21:10,  5.70s/it, HD: 160 (8/22), trial: 2/15]\u001b[A\n",
            " 32%|███▏      | 107/330 [09:48<21:10,  5.70s/it, HD: 160 (8/22), trial: 3/15]\u001b[A\n",
            " 33%|███▎      | 108/330 [09:53<21:06,  5.71s/it, HD: 160 (8/22), trial: 3/15]\u001b[A\n",
            " 33%|███▎      | 108/330 [09:53<21:06,  5.71s/it, HD: 160 (8/22), trial: 4/15]\u001b[A\n",
            " 33%|███▎      | 109/330 [09:59<21:06,  5.73s/it, HD: 160 (8/22), trial: 4/15]\u001b[A\n",
            " 33%|███▎      | 109/330 [09:59<21:06,  5.73s/it, HD: 160 (8/22), trial: 5/15]\u001b[A\n",
            " 33%|███▎      | 110/330 [10:05<21:02,  5.74s/it, HD: 160 (8/22), trial: 5/15]\u001b[A\n",
            " 33%|███▎      | 110/330 [10:05<21:02,  5.74s/it, HD: 160 (8/22), trial: 6/15]\u001b[A\n",
            " 34%|███▎      | 111/330 [10:10<20:55,  5.73s/it, HD: 160 (8/22), trial: 6/15]\u001b[A\n",
            " 34%|███▎      | 111/330 [10:10<20:55,  5.73s/it, HD: 160 (8/22), trial: 7/15]\u001b[A\n",
            " 34%|███▍      | 112/330 [10:16<20:48,  5.73s/it, HD: 160 (8/22), trial: 7/15]\u001b[A\n",
            " 34%|███▍      | 112/330 [10:16<20:48,  5.73s/it, HD: 160 (8/22), trial: 8/15]\u001b[A\n",
            " 34%|███▍      | 113/330 [10:22<20:46,  5.74s/it, HD: 160 (8/22), trial: 8/15]\u001b[A\n",
            " 34%|███▍      | 113/330 [10:22<20:46,  5.74s/it, HD: 160 (8/22), trial: 9/15]\u001b[A\n",
            " 35%|███▍      | 114/330 [10:28<20:38,  5.73s/it, HD: 160 (8/22), trial: 9/15]\u001b[A\n",
            " 35%|███▍      | 114/330 [10:28<20:38,  5.73s/it, HD: 160 (8/22), trial: 10/15]\u001b[A\n",
            " 35%|███▍      | 115/330 [10:33<20:32,  5.73s/it, HD: 160 (8/22), trial: 10/15]\u001b[A\n",
            " 35%|███▍      | 115/330 [10:33<20:32,  5.73s/it, HD: 160 (8/22), trial: 11/15]\u001b[A\n",
            " 35%|███▌      | 116/330 [10:39<20:19,  5.70s/it, HD: 160 (8/22), trial: 11/15]\u001b[A\n",
            " 35%|███▌      | 116/330 [10:39<20:19,  5.70s/it, HD: 160 (8/22), trial: 12/15]\u001b[A\n",
            " 35%|███▌      | 117/330 [10:45<20:08,  5.68s/it, HD: 160 (8/22), trial: 12/15]\u001b[A\n",
            " 35%|███▌      | 117/330 [10:45<20:08,  5.68s/it, HD: 160 (8/22), trial: 13/15]\u001b[A\n",
            " 36%|███▌      | 118/330 [10:50<20:02,  5.67s/it, HD: 160 (8/22), trial: 13/15]\u001b[A\n",
            " 36%|███▌      | 118/330 [10:50<20:02,  5.67s/it, HD: 160 (8/22), trial: 14/15]\u001b[A\n",
            " 36%|███▌      | 119/330 [10:56<20:00,  5.69s/it, HD: 160 (8/22), trial: 14/15]\u001b[A\n",
            " 36%|███▌      | 119/330 [10:56<20:00,  5.69s/it, HD: 160 (8/22), trial: 15/15]\u001b[A\n",
            " 36%|███▋      | 120/330 [11:02<19:59,  5.71s/it, HD: 160 (8/22), trial: 15/15]\u001b[A\n",
            " 36%|███▋      | 120/330 [11:02<19:59,  5.71s/it, HD: 192 (9/22), trial: 1/15] \u001b[A\n",
            " 37%|███▋      | 121/330 [11:08<19:53,  5.71s/it, HD: 192 (9/22), trial: 1/15]\u001b[A\n",
            " 37%|███▋      | 121/330 [11:08<19:53,  5.71s/it, HD: 192 (9/22), trial: 2/15]\u001b[A\n",
            " 37%|███▋      | 122/330 [11:13<19:53,  5.74s/it, HD: 192 (9/22), trial: 2/15]\u001b[A\n",
            " 37%|███▋      | 122/330 [11:13<19:53,  5.74s/it, HD: 192 (9/22), trial: 3/15]\u001b[A\n",
            " 37%|███▋      | 123/330 [11:19<19:50,  5.75s/it, HD: 192 (9/22), trial: 3/15]\u001b[A\n",
            " 37%|███▋      | 123/330 [11:19<19:50,  5.75s/it, HD: 192 (9/22), trial: 4/15]\u001b[A\n",
            " 38%|███▊      | 124/330 [11:25<19:47,  5.76s/it, HD: 192 (9/22), trial: 4/15]\u001b[A\n",
            " 38%|███▊      | 124/330 [11:25<19:47,  5.76s/it, HD: 192 (9/22), trial: 5/15]\u001b[A\n",
            " 38%|███▊      | 125/330 [11:31<19:46,  5.79s/it, HD: 192 (9/22), trial: 5/15]\u001b[A\n",
            " 38%|███▊      | 125/330 [11:31<19:46,  5.79s/it, HD: 192 (9/22), trial: 6/15]\u001b[A\n",
            " 38%|███▊      | 126/330 [11:36<19:35,  5.76s/it, HD: 192 (9/22), trial: 6/15]\u001b[A\n",
            " 38%|███▊      | 126/330 [11:36<19:35,  5.76s/it, HD: 192 (9/22), trial: 7/15]\u001b[A\n",
            " 38%|███▊      | 127/330 [11:42<19:31,  5.77s/it, HD: 192 (9/22), trial: 7/15]\u001b[A\n",
            " 38%|███▊      | 127/330 [11:42<19:31,  5.77s/it, HD: 192 (9/22), trial: 8/15]\u001b[A\n",
            " 39%|███▉      | 128/330 [11:48<19:19,  5.74s/it, HD: 192 (9/22), trial: 8/15]\u001b[A\n",
            " 39%|███▉      | 128/330 [11:48<19:19,  5.74s/it, HD: 192 (9/22), trial: 9/15]\u001b[A\n",
            " 39%|███▉      | 129/330 [11:54<19:17,  5.76s/it, HD: 192 (9/22), trial: 9/15]\u001b[A\n",
            " 39%|███▉      | 129/330 [11:54<19:17,  5.76s/it, HD: 192 (9/22), trial: 10/15]\u001b[A\n",
            " 39%|███▉      | 130/330 [12:00<19:15,  5.78s/it, HD: 192 (9/22), trial: 10/15]\u001b[A\n",
            " 39%|███▉      | 130/330 [12:00<19:15,  5.78s/it, HD: 192 (9/22), trial: 11/15]\u001b[A\n",
            " 40%|███▉      | 131/330 [12:05<19:10,  5.78s/it, HD: 192 (9/22), trial: 11/15]\u001b[A\n",
            " 40%|███▉      | 131/330 [12:05<19:10,  5.78s/it, HD: 192 (9/22), trial: 12/15]\u001b[A\n",
            " 40%|████      | 132/330 [12:11<18:56,  5.74s/it, HD: 192 (9/22), trial: 12/15]\u001b[A\n",
            " 40%|████      | 132/330 [12:11<18:56,  5.74s/it, HD: 192 (9/22), trial: 13/15]\u001b[A\n",
            " 40%|████      | 133/330 [12:17<18:52,  5.75s/it, HD: 192 (9/22), trial: 13/15]\u001b[A\n",
            " 40%|████      | 133/330 [12:17<18:52,  5.75s/it, HD: 192 (9/22), trial: 14/15]\u001b[A\n",
            " 41%|████      | 134/330 [12:23<18:51,  5.78s/it, HD: 192 (9/22), trial: 14/15]\u001b[A\n",
            " 41%|████      | 134/330 [12:23<18:51,  5.78s/it, HD: 192 (9/22), trial: 15/15]\u001b[A\n",
            " 41%|████      | 135/330 [12:28<18:48,  5.78s/it, HD: 192 (9/22), trial: 15/15]\u001b[A\n",
            " 41%|████      | 135/330 [12:28<18:48,  5.78s/it, HD: 230 (10/22), trial: 1/15]\u001b[A\n",
            " 41%|████      | 136/330 [12:34<18:46,  5.81s/it, HD: 230 (10/22), trial: 1/15]\u001b[A\n",
            " 41%|████      | 136/330 [12:34<18:46,  5.81s/it, HD: 230 (10/22), trial: 2/15]\u001b[A\n",
            " 42%|████▏     | 137/330 [12:40<18:45,  5.83s/it, HD: 230 (10/22), trial: 2/15]\u001b[A\n",
            " 42%|████▏     | 137/330 [12:40<18:45,  5.83s/it, HD: 230 (10/22), trial: 3/15]\u001b[A\n",
            " 42%|████▏     | 138/330 [12:46<18:33,  5.80s/it, HD: 230 (10/22), trial: 3/15]\u001b[A\n",
            " 42%|████▏     | 138/330 [12:46<18:33,  5.80s/it, HD: 230 (10/22), trial: 4/15]\u001b[A\n",
            " 42%|████▏     | 139/330 [12:52<18:24,  5.78s/it, HD: 230 (10/22), trial: 4/15]\u001b[A\n",
            " 42%|████▏     | 139/330 [12:52<18:24,  5.78s/it, HD: 230 (10/22), trial: 5/15]\u001b[A\n",
            " 42%|████▏     | 140/330 [12:57<18:18,  5.78s/it, HD: 230 (10/22), trial: 5/15]\u001b[A\n",
            " 42%|████▏     | 140/330 [12:57<18:18,  5.78s/it, HD: 230 (10/22), trial: 6/15]\u001b[A\n",
            " 43%|████▎     | 141/330 [13:03<18:16,  5.80s/it, HD: 230 (10/22), trial: 6/15]\u001b[A\n",
            " 43%|████▎     | 141/330 [13:03<18:16,  5.80s/it, HD: 230 (10/22), trial: 7/15]\u001b[A\n",
            " 43%|████▎     | 142/330 [13:09<18:07,  5.78s/it, HD: 230 (10/22), trial: 7/15]\u001b[A\n",
            " 43%|████▎     | 142/330 [13:09<18:07,  5.78s/it, HD: 230 (10/22), trial: 8/15]\u001b[A\n",
            " 43%|████▎     | 143/330 [13:15<18:00,  5.78s/it, HD: 230 (10/22), trial: 8/15]\u001b[A\n",
            " 43%|████▎     | 143/330 [13:15<18:00,  5.78s/it, HD: 230 (10/22), trial: 9/15]\u001b[A\n",
            " 44%|████▎     | 144/330 [13:20<17:49,  5.75s/it, HD: 230 (10/22), trial: 9/15]\u001b[A\n",
            " 44%|████▎     | 144/330 [13:20<17:49,  5.75s/it, HD: 230 (10/22), trial: 10/15]\u001b[A\n",
            " 44%|████▍     | 145/330 [13:26<17:43,  5.75s/it, HD: 230 (10/22), trial: 10/15]\u001b[A\n",
            " 44%|████▍     | 145/330 [13:26<17:43,  5.75s/it, HD: 230 (10/22), trial: 11/15]\u001b[A\n",
            " 44%|████▍     | 146/330 [13:32<17:40,  5.76s/it, HD: 230 (10/22), trial: 11/15]\u001b[A\n",
            " 44%|████▍     | 146/330 [13:32<17:40,  5.76s/it, HD: 230 (10/22), trial: 12/15]\u001b[A\n",
            " 45%|████▍     | 147/330 [13:38<17:35,  5.77s/it, HD: 230 (10/22), trial: 12/15]\u001b[A\n",
            " 45%|████▍     | 147/330 [13:38<17:35,  5.77s/it, HD: 230 (10/22), trial: 13/15]\u001b[A\n",
            " 45%|████▍     | 148/330 [13:44<17:30,  5.77s/it, HD: 230 (10/22), trial: 13/15]\u001b[A\n",
            " 45%|████▍     | 148/330 [13:44<17:30,  5.77s/it, HD: 230 (10/22), trial: 14/15]\u001b[A\n",
            " 45%|████▌     | 149/330 [13:49<17:27,  5.79s/it, HD: 230 (10/22), trial: 14/15]\u001b[A\n",
            " 45%|████▌     | 149/330 [13:49<17:27,  5.79s/it, HD: 230 (10/22), trial: 15/15]\u001b[A\n",
            " 45%|████▌     | 150/330 [13:55<17:17,  5.76s/it, HD: 230 (10/22), trial: 15/15]\u001b[A\n",
            " 45%|████▌     | 150/330 [13:55<17:17,  5.76s/it, HD: 256 (11/22), trial: 1/15] \u001b[A\n",
            " 46%|████▌     | 151/330 [14:01<17:11,  5.76s/it, HD: 256 (11/22), trial: 1/15]\u001b[A\n",
            " 46%|████▌     | 151/330 [14:01<17:11,  5.76s/it, HD: 256 (11/22), trial: 2/15]\u001b[A\n",
            " 46%|████▌     | 152/330 [14:07<17:05,  5.76s/it, HD: 256 (11/22), trial: 2/15]\u001b[A\n",
            " 46%|████▌     | 152/330 [14:07<17:05,  5.76s/it, HD: 256 (11/22), trial: 3/15]\u001b[A\n",
            " 46%|████▋     | 153/330 [14:12<16:55,  5.74s/it, HD: 256 (11/22), trial: 3/15]\u001b[A\n",
            " 46%|████▋     | 153/330 [14:12<16:55,  5.74s/it, HD: 256 (11/22), trial: 4/15]\u001b[A\n",
            " 47%|████▋     | 154/330 [14:18<16:51,  5.74s/it, HD: 256 (11/22), trial: 4/15]\u001b[A\n",
            " 47%|████▋     | 154/330 [14:18<16:51,  5.74s/it, HD: 256 (11/22), trial: 5/15]\u001b[A\n",
            " 47%|████▋     | 155/330 [14:24<16:48,  5.77s/it, HD: 256 (11/22), trial: 5/15]\u001b[A\n",
            " 47%|████▋     | 155/330 [14:24<16:48,  5.77s/it, HD: 256 (11/22), trial: 6/15]\u001b[A\n",
            " 47%|████▋     | 156/330 [14:30<16:43,  5.77s/it, HD: 256 (11/22), trial: 6/15]\u001b[A\n",
            " 47%|████▋     | 156/330 [14:30<16:43,  5.77s/it, HD: 256 (11/22), trial: 7/15]\u001b[A\n",
            " 48%|████▊     | 157/330 [14:35<16:41,  5.79s/it, HD: 256 (11/22), trial: 7/15]\u001b[A\n",
            " 48%|████▊     | 157/330 [14:35<16:41,  5.79s/it, HD: 256 (11/22), trial: 8/15]\u001b[A\n",
            " 48%|████▊     | 158/330 [14:41<16:31,  5.77s/it, HD: 256 (11/22), trial: 8/15]\u001b[A\n",
            " 48%|████▊     | 158/330 [14:41<16:31,  5.77s/it, HD: 256 (11/22), trial: 9/15]\u001b[A\n",
            " 48%|████▊     | 159/330 [14:47<16:26,  5.77s/it, HD: 256 (11/22), trial: 9/15]\u001b[A\n",
            " 48%|████▊     | 159/330 [14:47<16:26,  5.77s/it, HD: 256 (11/22), trial: 10/15]\u001b[A\n",
            " 48%|████▊     | 160/330 [14:53<16:19,  5.76s/it, HD: 256 (11/22), trial: 10/15]\u001b[A\n",
            " 48%|████▊     | 160/330 [14:53<16:19,  5.76s/it, HD: 256 (11/22), trial: 11/15]\u001b[A\n",
            " 49%|████▉     | 161/330 [14:58<16:08,  5.73s/it, HD: 256 (11/22), trial: 11/15]\u001b[A\n",
            " 49%|████▉     | 161/330 [14:58<16:08,  5.73s/it, HD: 256 (11/22), trial: 12/15]\u001b[A\n",
            " 49%|████▉     | 162/330 [15:04<16:05,  5.75s/it, HD: 256 (11/22), trial: 12/15]\u001b[A\n",
            " 49%|████▉     | 162/330 [15:04<16:05,  5.75s/it, HD: 256 (11/22), trial: 13/15]\u001b[A\n",
            " 49%|████▉     | 163/330 [15:10<15:58,  5.74s/it, HD: 256 (11/22), trial: 13/15]\u001b[A\n",
            " 49%|████▉     | 163/330 [15:10<15:58,  5.74s/it, HD: 256 (11/22), trial: 14/15]\u001b[A\n",
            " 50%|████▉     | 164/330 [15:16<15:51,  5.73s/it, HD: 256 (11/22), trial: 14/15]\u001b[A\n",
            " 50%|████▉     | 164/330 [15:16<15:51,  5.73s/it, HD: 256 (11/22), trial: 15/15]\u001b[A\n",
            " 50%|█████     | 165/330 [15:21<15:47,  5.74s/it, HD: 256 (11/22), trial: 15/15]\u001b[A\n",
            " 50%|█████     | 165/330 [15:21<15:47,  5.74s/it, HD: 320 (12/22), trial: 1/15] \u001b[A\n",
            " 50%|█████     | 166/330 [15:27<15:45,  5.76s/it, HD: 320 (12/22), trial: 1/15]\u001b[A\n",
            " 50%|█████     | 166/330 [15:27<15:45,  5.76s/it, HD: 320 (12/22), trial: 2/15]\u001b[A\n",
            " 51%|█████     | 167/330 [15:33<15:39,  5.76s/it, HD: 320 (12/22), trial: 2/15]\u001b[A\n",
            " 51%|█████     | 167/330 [15:33<15:39,  5.76s/it, HD: 320 (12/22), trial: 3/15]\u001b[A\n",
            " 51%|█████     | 168/330 [15:39<15:33,  5.76s/it, HD: 320 (12/22), trial: 3/15]\u001b[A\n",
            " 51%|█████     | 168/330 [15:39<15:33,  5.76s/it, HD: 320 (12/22), trial: 4/15]\u001b[A\n",
            " 51%|█████     | 169/330 [15:44<15:26,  5.76s/it, HD: 320 (12/22), trial: 4/15]\u001b[A\n",
            " 51%|█████     | 169/330 [15:44<15:26,  5.76s/it, HD: 320 (12/22), trial: 5/15]\u001b[A\n",
            " 52%|█████▏    | 170/330 [15:50<15:20,  5.75s/it, HD: 320 (12/22), trial: 5/15]\u001b[A\n",
            " 52%|█████▏    | 170/330 [15:50<15:20,  5.75s/it, HD: 320 (12/22), trial: 6/15]\u001b[A\n",
            " 52%|█████▏    | 171/330 [15:56<15:18,  5.78s/it, HD: 320 (12/22), trial: 6/15]\u001b[A\n",
            " 52%|█████▏    | 171/330 [15:56<15:18,  5.78s/it, HD: 320 (12/22), trial: 7/15]\u001b[A\n",
            " 52%|█████▏    | 172/330 [16:02<15:15,  5.79s/it, HD: 320 (12/22), trial: 7/15]\u001b[A\n",
            " 52%|█████▏    | 172/330 [16:02<15:15,  5.79s/it, HD: 320 (12/22), trial: 8/15]\u001b[A\n",
            " 52%|█████▏    | 173/330 [16:08<15:14,  5.82s/it, HD: 320 (12/22), trial: 8/15]\u001b[A\n",
            " 52%|█████▏    | 173/330 [16:08<15:14,  5.82s/it, HD: 320 (12/22), trial: 9/15]\u001b[A\n",
            " 53%|█████▎    | 174/330 [16:14<15:17,  5.88s/it, HD: 320 (12/22), trial: 9/15]\u001b[A\n",
            " 53%|█████▎    | 174/330 [16:14<15:17,  5.88s/it, HD: 320 (12/22), trial: 10/15]\u001b[A\n",
            " 53%|█████▎    | 175/330 [16:20<15:09,  5.87s/it, HD: 320 (12/22), trial: 10/15]\u001b[A\n",
            " 53%|█████▎    | 175/330 [16:20<15:09,  5.87s/it, HD: 320 (12/22), trial: 11/15]\u001b[A\n",
            " 53%|█████▎    | 176/330 [16:25<14:57,  5.83s/it, HD: 320 (12/22), trial: 11/15]\u001b[A\n",
            " 53%|█████▎    | 176/330 [16:25<14:57,  5.83s/it, HD: 320 (12/22), trial: 12/15]\u001b[A\n",
            " 54%|█████▎    | 177/330 [16:31<14:50,  5.82s/it, HD: 320 (12/22), trial: 12/15]\u001b[A\n",
            " 54%|█████▎    | 177/330 [16:31<14:50,  5.82s/it, HD: 320 (12/22), trial: 13/15]\u001b[A\n",
            " 54%|█████▍    | 178/330 [16:37<14:45,  5.82s/it, HD: 320 (12/22), trial: 13/15]\u001b[A\n",
            " 54%|█████▍    | 178/330 [16:37<14:45,  5.82s/it, HD: 320 (12/22), trial: 14/15]\u001b[A\n",
            " 54%|█████▍    | 179/330 [16:43<14:34,  5.79s/it, HD: 320 (12/22), trial: 14/15]\u001b[A\n",
            " 54%|█████▍    | 179/330 [16:43<14:34,  5.79s/it, HD: 320 (12/22), trial: 15/15]\u001b[A\n",
            " 55%|█████▍    | 180/330 [16:48<14:25,  5.77s/it, HD: 320 (12/22), trial: 15/15]\u001b[A\n",
            " 55%|█████▍    | 180/330 [16:48<14:25,  5.77s/it, HD: 384 (13/22), trial: 1/15] \u001b[A\n",
            " 55%|█████▍    | 181/330 [16:54<14:25,  5.81s/it, HD: 384 (13/22), trial: 1/15]\u001b[A\n",
            " 55%|█████▍    | 181/330 [16:54<14:25,  5.81s/it, HD: 384 (13/22), trial: 2/15]\u001b[A\n",
            " 55%|█████▌    | 182/330 [17:00<14:20,  5.82s/it, HD: 384 (13/22), trial: 2/15]\u001b[A\n",
            " 55%|█████▌    | 182/330 [17:00<14:20,  5.82s/it, HD: 384 (13/22), trial: 3/15]\u001b[A\n",
            " 55%|█████▌    | 183/330 [17:06<14:17,  5.83s/it, HD: 384 (13/22), trial: 3/15]\u001b[A\n",
            " 55%|█████▌    | 183/330 [17:06<14:17,  5.83s/it, HD: 384 (13/22), trial: 4/15]\u001b[A\n",
            " 56%|█████▌    | 184/330 [17:12<14:08,  5.81s/it, HD: 384 (13/22), trial: 4/15]\u001b[A\n",
            " 56%|█████▌    | 184/330 [17:12<14:08,  5.81s/it, HD: 384 (13/22), trial: 5/15]\u001b[A\n",
            " 56%|█████▌    | 185/330 [17:17<13:59,  5.79s/it, HD: 384 (13/22), trial: 5/15]\u001b[A\n",
            " 56%|█████▌    | 185/330 [17:17<13:59,  5.79s/it, HD: 384 (13/22), trial: 6/15]\u001b[A\n",
            " 56%|█████▋    | 186/330 [17:23<13:52,  5.78s/it, HD: 384 (13/22), trial: 6/15]\u001b[A\n",
            " 56%|█████▋    | 186/330 [17:23<13:52,  5.78s/it, HD: 384 (13/22), trial: 7/15]\u001b[A\n",
            " 57%|█████▋    | 187/330 [17:29<13:44,  5.77s/it, HD: 384 (13/22), trial: 7/15]\u001b[A\n",
            " 57%|█████▋    | 187/330 [17:29<13:44,  5.77s/it, HD: 384 (13/22), trial: 8/15]\u001b[A\n",
            " 57%|█████▋    | 188/330 [17:35<13:39,  5.77s/it, HD: 384 (13/22), trial: 8/15]\u001b[A\n",
            " 57%|█████▋    | 188/330 [17:35<13:39,  5.77s/it, HD: 384 (13/22), trial: 9/15]\u001b[A\n",
            " 57%|█████▋    | 189/330 [17:41<13:42,  5.84s/it, HD: 384 (13/22), trial: 9/15]\u001b[A\n",
            " 57%|█████▋    | 189/330 [17:41<13:42,  5.84s/it, HD: 384 (13/22), trial: 10/15]\u001b[A\n",
            " 58%|█████▊    | 190/330 [17:47<13:38,  5.84s/it, HD: 384 (13/22), trial: 10/15]\u001b[A\n",
            " 58%|█████▊    | 190/330 [17:47<13:38,  5.84s/it, HD: 384 (13/22), trial: 11/15]\u001b[A\n",
            " 58%|█████▊    | 191/330 [17:52<13:27,  5.81s/it, HD: 384 (13/22), trial: 11/15]\u001b[A\n",
            " 58%|█████▊    | 191/330 [17:52<13:27,  5.81s/it, HD: 384 (13/22), trial: 12/15]\u001b[A\n",
            " 58%|█████▊    | 192/330 [17:58<13:20,  5.80s/it, HD: 384 (13/22), trial: 12/15]\u001b[A\n",
            " 58%|█████▊    | 192/330 [17:58<13:20,  5.80s/it, HD: 384 (13/22), trial: 13/15]\u001b[A\n",
            " 58%|█████▊    | 193/330 [18:04<13:14,  5.80s/it, HD: 384 (13/22), trial: 13/15]\u001b[A\n",
            " 58%|█████▊    | 193/330 [18:04<13:14,  5.80s/it, HD: 384 (13/22), trial: 14/15]\u001b[A\n",
            " 59%|█████▉    | 194/330 [18:10<13:11,  5.82s/it, HD: 384 (13/22), trial: 14/15]\u001b[A\n",
            " 59%|█████▉    | 194/330 [18:10<13:11,  5.82s/it, HD: 384 (13/22), trial: 15/15]\u001b[A\n",
            " 59%|█████▉    | 195/330 [18:16<13:05,  5.82s/it, HD: 384 (13/22), trial: 15/15]\u001b[A\n",
            " 59%|█████▉    | 195/330 [18:16<13:05,  5.82s/it, HD: 400 (14/22), trial: 1/15] \u001b[A\n",
            " 59%|█████▉    | 196/330 [18:21<12:58,  5.81s/it, HD: 400 (14/22), trial: 1/15]\u001b[A\n",
            " 59%|█████▉    | 196/330 [18:21<12:58,  5.81s/it, HD: 400 (14/22), trial: 2/15]\u001b[A\n",
            " 60%|█████▉    | 197/330 [18:27<12:51,  5.80s/it, HD: 400 (14/22), trial: 2/15]\u001b[A\n",
            " 60%|█████▉    | 197/330 [18:27<12:51,  5.80s/it, HD: 400 (14/22), trial: 3/15]\u001b[A\n",
            " 60%|██████    | 198/330 [18:33<12:44,  5.79s/it, HD: 400 (14/22), trial: 3/15]\u001b[A\n",
            " 60%|██████    | 198/330 [18:33<12:44,  5.79s/it, HD: 400 (14/22), trial: 4/15]\u001b[A\n",
            " 60%|██████    | 199/330 [18:39<12:36,  5.77s/it, HD: 400 (14/22), trial: 4/15]\u001b[A\n",
            " 60%|██████    | 199/330 [18:39<12:36,  5.77s/it, HD: 400 (14/22), trial: 5/15]\u001b[A\n",
            " 61%|██████    | 200/330 [18:44<12:28,  5.76s/it, HD: 400 (14/22), trial: 5/15]\u001b[A\n",
            " 61%|██████    | 200/330 [18:44<12:28,  5.76s/it, HD: 400 (14/22), trial: 6/15]\u001b[A\n",
            " 61%|██████    | 201/330 [18:50<12:22,  5.76s/it, HD: 400 (14/22), trial: 6/15]\u001b[A\n",
            " 61%|██████    | 201/330 [18:50<12:22,  5.76s/it, HD: 400 (14/22), trial: 7/15]\u001b[A\n",
            " 61%|██████    | 202/330 [18:56<12:14,  5.74s/it, HD: 400 (14/22), trial: 7/15]\u001b[A\n",
            " 61%|██████    | 202/330 [18:56<12:14,  5.74s/it, HD: 400 (14/22), trial: 8/15]\u001b[A\n",
            " 62%|██████▏   | 203/330 [19:02<12:09,  5.75s/it, HD: 400 (14/22), trial: 8/15]\u001b[A\n",
            " 62%|██████▏   | 203/330 [19:02<12:09,  5.75s/it, HD: 400 (14/22), trial: 9/15]\u001b[A\n",
            " 62%|██████▏   | 204/330 [19:07<12:06,  5.77s/it, HD: 400 (14/22), trial: 9/15]\u001b[A\n",
            " 62%|██████▏   | 204/330 [19:07<12:06,  5.77s/it, HD: 400 (14/22), trial: 10/15]\u001b[A\n",
            " 62%|██████▏   | 205/330 [19:13<12:05,  5.80s/it, HD: 400 (14/22), trial: 10/15]\u001b[A\n",
            " 62%|██████▏   | 205/330 [19:13<12:05,  5.80s/it, HD: 400 (14/22), trial: 11/15]\u001b[A\n",
            " 62%|██████▏   | 206/330 [19:19<11:59,  5.80s/it, HD: 400 (14/22), trial: 11/15]\u001b[A\n",
            " 62%|██████▏   | 206/330 [19:19<11:59,  5.80s/it, HD: 400 (14/22), trial: 12/15]\u001b[A\n",
            " 63%|██████▎   | 207/330 [19:25<11:52,  5.79s/it, HD: 400 (14/22), trial: 12/15]\u001b[A\n",
            " 63%|██████▎   | 207/330 [19:25<11:52,  5.79s/it, HD: 400 (14/22), trial: 13/15]\u001b[A\n",
            " 63%|██████▎   | 208/330 [19:31<11:43,  5.77s/it, HD: 400 (14/22), trial: 13/15]\u001b[A\n",
            " 63%|██████▎   | 208/330 [19:31<11:43,  5.77s/it, HD: 400 (14/22), trial: 14/15]\u001b[A\n",
            " 63%|██████▎   | 209/330 [19:36<11:34,  5.74s/it, HD: 400 (14/22), trial: 14/15]\u001b[A\n",
            " 63%|██████▎   | 209/330 [19:36<11:34,  5.74s/it, HD: 400 (14/22), trial: 15/15]\u001b[A\n",
            " 64%|██████▎   | 210/330 [19:42<11:31,  5.76s/it, HD: 400 (14/22), trial: 15/15]\u001b[A\n",
            " 64%|██████▎   | 210/330 [19:42<11:31,  5.76s/it, HD: 512 (15/22), trial: 1/15] \u001b[A\n",
            " 64%|██████▍   | 211/330 [19:48<11:24,  5.75s/it, HD: 512 (15/22), trial: 1/15]\u001b[A\n",
            " 64%|██████▍   | 211/330 [19:48<11:24,  5.75s/it, HD: 512 (15/22), trial: 2/15]\u001b[A\n",
            " 64%|██████▍   | 212/330 [19:54<11:21,  5.78s/it, HD: 512 (15/22), trial: 2/15]\u001b[A\n",
            " 64%|██████▍   | 212/330 [19:54<11:21,  5.78s/it, HD: 512 (15/22), trial: 3/15]\u001b[A\n",
            " 65%|██████▍   | 213/330 [19:59<11:18,  5.80s/it, HD: 512 (15/22), trial: 3/15]\u001b[A\n",
            " 65%|██████▍   | 213/330 [19:59<11:18,  5.80s/it, HD: 512 (15/22), trial: 4/15]\u001b[A\n",
            " 65%|██████▍   | 214/330 [20:05<11:12,  5.79s/it, HD: 512 (15/22), trial: 4/15]\u001b[A\n",
            " 65%|██████▍   | 214/330 [20:05<11:12,  5.79s/it, HD: 512 (15/22), trial: 5/15]\u001b[A\n",
            " 65%|██████▌   | 215/330 [20:11<11:08,  5.81s/it, HD: 512 (15/22), trial: 5/15]\u001b[A\n",
            " 65%|██████▌   | 215/330 [20:11<11:08,  5.81s/it, HD: 512 (15/22), trial: 6/15]\u001b[A\n",
            " 65%|██████▌   | 216/330 [20:17<10:59,  5.79s/it, HD: 512 (15/22), trial: 6/15]\u001b[A\n",
            " 65%|██████▌   | 216/330 [20:17<10:59,  5.79s/it, HD: 512 (15/22), trial: 7/15]\u001b[A\n",
            " 66%|██████▌   | 217/330 [20:23<10:57,  5.82s/it, HD: 512 (15/22), trial: 7/15]\u001b[A\n",
            " 66%|██████▌   | 217/330 [20:23<10:57,  5.82s/it, HD: 512 (15/22), trial: 8/15]\u001b[A\n",
            " 66%|██████▌   | 218/330 [20:29<10:52,  5.83s/it, HD: 512 (15/22), trial: 8/15]\u001b[A\n",
            " 66%|██████▌   | 218/330 [20:29<10:52,  5.83s/it, HD: 512 (15/22), trial: 9/15]\u001b[A\n",
            " 66%|██████▋   | 219/330 [20:34<10:44,  5.81s/it, HD: 512 (15/22), trial: 9/15]\u001b[A\n",
            " 66%|██████▋   | 219/330 [20:34<10:44,  5.81s/it, HD: 512 (15/22), trial: 10/15]\u001b[A\n",
            " 67%|██████▋   | 220/330 [20:40<10:38,  5.80s/it, HD: 512 (15/22), trial: 10/15]\u001b[A\n",
            " 67%|██████▋   | 220/330 [20:40<10:38,  5.80s/it, HD: 512 (15/22), trial: 11/15]\u001b[A\n",
            " 67%|██████▋   | 221/330 [20:46<10:32,  5.80s/it, HD: 512 (15/22), trial: 11/15]\u001b[A\n",
            " 67%|██████▋   | 221/330 [20:46<10:32,  5.80s/it, HD: 512 (15/22), trial: 12/15]\u001b[A\n",
            " 67%|██████▋   | 222/330 [20:52<10:25,  5.79s/it, HD: 512 (15/22), trial: 12/15]\u001b[A\n",
            " 67%|██████▋   | 222/330 [20:52<10:25,  5.79s/it, HD: 512 (15/22), trial: 13/15]\u001b[A\n",
            " 68%|██████▊   | 223/330 [20:58<10:20,  5.80s/it, HD: 512 (15/22), trial: 13/15]\u001b[A\n",
            " 68%|██████▊   | 223/330 [20:58<10:20,  5.80s/it, HD: 512 (15/22), trial: 14/15]\u001b[A\n",
            " 68%|██████▊   | 224/330 [21:03<10:15,  5.81s/it, HD: 512 (15/22), trial: 14/15]\u001b[A\n",
            " 68%|██████▊   | 224/330 [21:03<10:15,  5.81s/it, HD: 512 (15/22), trial: 15/15]\u001b[A\n",
            " 68%|██████▊   | 225/330 [21:09<10:08,  5.80s/it, HD: 512 (15/22), trial: 15/15]\u001b[A\n",
            " 68%|██████▊   | 225/330 [21:09<10:08,  5.80s/it, HD: 650 (16/22), trial: 1/15] \u001b[A\n",
            " 68%|██████▊   | 226/330 [21:15<10:04,  5.81s/it, HD: 650 (16/22), trial: 1/15]\u001b[A\n",
            " 68%|██████▊   | 226/330 [21:15<10:04,  5.81s/it, HD: 650 (16/22), trial: 2/15]\u001b[A\n",
            " 69%|██████▉   | 227/330 [21:21<09:59,  5.82s/it, HD: 650 (16/22), trial: 2/15]\u001b[A\n",
            " 69%|██████▉   | 227/330 [21:21<09:59,  5.82s/it, HD: 650 (16/22), trial: 3/15]\u001b[A\n",
            " 69%|██████▉   | 228/330 [21:27<09:54,  5.83s/it, HD: 650 (16/22), trial: 3/15]\u001b[A\n",
            " 69%|██████▉   | 228/330 [21:27<09:54,  5.83s/it, HD: 650 (16/22), trial: 4/15]\u001b[A\n",
            " 69%|██████▉   | 229/330 [21:32<09:47,  5.82s/it, HD: 650 (16/22), trial: 4/15]\u001b[A\n",
            " 69%|██████▉   | 229/330 [21:32<09:47,  5.82s/it, HD: 650 (16/22), trial: 5/15]\u001b[A\n",
            " 70%|██████▉   | 230/330 [21:38<09:37,  5.77s/it, HD: 650 (16/22), trial: 5/15]\u001b[A\n",
            " 70%|██████▉   | 230/330 [21:38<09:37,  5.77s/it, HD: 650 (16/22), trial: 6/15]\u001b[A\n",
            " 70%|███████   | 231/330 [21:44<09:31,  5.78s/it, HD: 650 (16/22), trial: 6/15]\u001b[A\n",
            " 70%|███████   | 231/330 [21:44<09:31,  5.78s/it, HD: 650 (16/22), trial: 7/15]\u001b[A\n",
            " 70%|███████   | 232/330 [21:50<09:29,  5.81s/it, HD: 650 (16/22), trial: 7/15]\u001b[A\n",
            " 70%|███████   | 232/330 [21:50<09:29,  5.81s/it, HD: 650 (16/22), trial: 8/15]\u001b[A\n",
            " 71%|███████   | 233/330 [21:56<09:25,  5.83s/it, HD: 650 (16/22), trial: 8/15]\u001b[A\n",
            " 71%|███████   | 233/330 [21:56<09:25,  5.83s/it, HD: 650 (16/22), trial: 9/15]\u001b[A\n",
            " 71%|███████   | 234/330 [22:01<09:17,  5.81s/it, HD: 650 (16/22), trial: 9/15]\u001b[A\n",
            " 71%|███████   | 234/330 [22:01<09:17,  5.81s/it, HD: 650 (16/22), trial: 10/15]\u001b[A\n",
            " 71%|███████   | 235/330 [22:07<09:08,  5.78s/it, HD: 650 (16/22), trial: 10/15]\u001b[A\n",
            " 71%|███████   | 235/330 [22:07<09:08,  5.78s/it, HD: 650 (16/22), trial: 11/15]\u001b[A\n",
            " 72%|███████▏  | 236/330 [22:13<09:04,  5.79s/it, HD: 650 (16/22), trial: 11/15]\u001b[A\n",
            " 72%|███████▏  | 236/330 [22:13<09:04,  5.79s/it, HD: 650 (16/22), trial: 12/15]\u001b[A\n",
            " 72%|███████▏  | 237/330 [22:19<08:58,  5.79s/it, HD: 650 (16/22), trial: 12/15]\u001b[A\n",
            " 72%|███████▏  | 237/330 [22:19<08:58,  5.79s/it, HD: 650 (16/22), trial: 13/15]\u001b[A\n",
            " 72%|███████▏  | 238/330 [22:24<08:50,  5.77s/it, HD: 650 (16/22), trial: 13/15]\u001b[A\n",
            " 72%|███████▏  | 238/330 [22:24<08:50,  5.77s/it, HD: 650 (16/22), trial: 14/15]\u001b[A\n",
            " 72%|███████▏  | 239/330 [22:30<08:45,  5.78s/it, HD: 650 (16/22), trial: 14/15]\u001b[A\n",
            " 72%|███████▏  | 239/330 [22:30<08:45,  5.78s/it, HD: 650 (16/22), trial: 15/15]\u001b[A\n",
            " 73%|███████▎  | 240/330 [22:36<08:40,  5.78s/it, HD: 650 (16/22), trial: 15/15]\u001b[A\n",
            " 73%|███████▎  | 240/330 [22:36<08:40,  5.78s/it, HD: 768 (17/22), trial: 1/15] \u001b[A\n",
            " 73%|███████▎  | 241/330 [22:42<08:35,  5.79s/it, HD: 768 (17/22), trial: 1/15]\u001b[A\n",
            " 73%|███████▎  | 241/330 [22:42<08:35,  5.79s/it, HD: 768 (17/22), trial: 2/15]\u001b[A\n",
            " 73%|███████▎  | 242/330 [22:48<08:28,  5.78s/it, HD: 768 (17/22), trial: 2/15]\u001b[A\n",
            " 73%|███████▎  | 242/330 [22:48<08:28,  5.78s/it, HD: 768 (17/22), trial: 3/15]\u001b[A\n",
            " 74%|███████▎  | 243/330 [22:53<08:23,  5.79s/it, HD: 768 (17/22), trial: 3/15]\u001b[A\n",
            " 74%|███████▎  | 243/330 [22:53<08:23,  5.79s/it, HD: 768 (17/22), trial: 4/15]\u001b[A\n",
            " 74%|███████▍  | 244/330 [22:59<08:18,  5.80s/it, HD: 768 (17/22), trial: 4/15]\u001b[A\n",
            " 74%|███████▍  | 244/330 [22:59<08:18,  5.80s/it, HD: 768 (17/22), trial: 5/15]\u001b[A\n",
            " 74%|███████▍  | 245/330 [23:05<08:11,  5.79s/it, HD: 768 (17/22), trial: 5/15]\u001b[A\n",
            " 74%|███████▍  | 245/330 [23:05<08:11,  5.79s/it, HD: 768 (17/22), trial: 6/15]\u001b[A\n",
            " 75%|███████▍  | 246/330 [23:11<08:06,  5.79s/it, HD: 768 (17/22), trial: 6/15]\u001b[A\n",
            " 75%|███████▍  | 246/330 [23:11<08:06,  5.79s/it, HD: 768 (17/22), trial: 7/15]\u001b[A\n",
            " 75%|███████▍  | 247/330 [23:17<08:03,  5.82s/it, HD: 768 (17/22), trial: 7/15]\u001b[A\n",
            " 75%|███████▍  | 247/330 [23:17<08:03,  5.82s/it, HD: 768 (17/22), trial: 8/15]\u001b[A\n",
            " 75%|███████▌  | 248/330 [23:22<07:56,  5.82s/it, HD: 768 (17/22), trial: 8/15]\u001b[A\n",
            " 75%|███████▌  | 248/330 [23:23<07:56,  5.82s/it, HD: 768 (17/22), trial: 9/15]\u001b[A\n",
            " 75%|███████▌  | 249/330 [23:28<07:50,  5.81s/it, HD: 768 (17/22), trial: 9/15]\u001b[A\n",
            " 75%|███████▌  | 249/330 [23:28<07:50,  5.81s/it, HD: 768 (17/22), trial: 10/15]\u001b[A\n",
            " 76%|███████▌  | 250/330 [23:34<07:43,  5.80s/it, HD: 768 (17/22), trial: 10/15]\u001b[A\n",
            " 76%|███████▌  | 250/330 [23:34<07:43,  5.80s/it, HD: 768 (17/22), trial: 11/15]\u001b[A\n",
            " 76%|███████▌  | 251/330 [23:40<07:35,  5.77s/it, HD: 768 (17/22), trial: 11/15]\u001b[A\n",
            " 76%|███████▌  | 251/330 [23:40<07:35,  5.77s/it, HD: 768 (17/22), trial: 12/15]\u001b[A\n",
            " 76%|███████▋  | 252/330 [23:45<07:28,  5.75s/it, HD: 768 (17/22), trial: 12/15]\u001b[A\n",
            " 76%|███████▋  | 252/330 [23:45<07:28,  5.75s/it, HD: 768 (17/22), trial: 13/15]\u001b[A\n",
            " 77%|███████▋  | 253/330 [23:51<07:24,  5.78s/it, HD: 768 (17/22), trial: 13/15]\u001b[A\n",
            " 77%|███████▋  | 253/330 [23:51<07:24,  5.78s/it, HD: 768 (17/22), trial: 14/15]\u001b[A\n",
            " 77%|███████▋  | 254/330 [23:57<07:19,  5.78s/it, HD: 768 (17/22), trial: 14/15]\u001b[A\n",
            " 77%|███████▋  | 254/330 [23:57<07:19,  5.78s/it, HD: 768 (17/22), trial: 15/15]\u001b[A\n",
            " 77%|███████▋  | 255/330 [24:03<07:13,  5.79s/it, HD: 768 (17/22), trial: 15/15]\u001b[A\n",
            " 77%|███████▋  | 255/330 [24:03<07:13,  5.79s/it, HD: 1024 (18/22), trial: 1/15]\u001b[A\n",
            " 78%|███████▊  | 256/330 [24:09<07:06,  5.77s/it, HD: 1024 (18/22), trial: 1/15]\u001b[A\n",
            " 78%|███████▊  | 256/330 [24:09<07:06,  5.77s/it, HD: 1024 (18/22), trial: 2/15]\u001b[A\n",
            " 78%|███████▊  | 257/330 [24:14<07:02,  5.78s/it, HD: 1024 (18/22), trial: 2/15]\u001b[A\n",
            " 78%|███████▊  | 257/330 [24:14<07:02,  5.78s/it, HD: 1024 (18/22), trial: 3/15]\u001b[A\n",
            " 78%|███████▊  | 258/330 [24:20<06:59,  5.82s/it, HD: 1024 (18/22), trial: 3/15]\u001b[A\n",
            " 78%|███████▊  | 258/330 [24:20<06:59,  5.82s/it, HD: 1024 (18/22), trial: 4/15]\u001b[A\n",
            " 78%|███████▊  | 259/330 [24:26<06:52,  5.81s/it, HD: 1024 (18/22), trial: 4/15]\u001b[A\n",
            " 78%|███████▊  | 259/330 [24:26<06:52,  5.81s/it, HD: 1024 (18/22), trial: 5/15]\u001b[A\n",
            " 79%|███████▉  | 260/330 [24:32<06:46,  5.81s/it, HD: 1024 (18/22), trial: 5/15]\u001b[A\n",
            " 79%|███████▉  | 260/330 [24:32<06:46,  5.81s/it, HD: 1024 (18/22), trial: 6/15]\u001b[A\n",
            " 79%|███████▉  | 261/330 [24:38<06:38,  5.78s/it, HD: 1024 (18/22), trial: 6/15]\u001b[A\n",
            " 79%|███████▉  | 261/330 [24:38<06:38,  5.78s/it, HD: 1024 (18/22), trial: 7/15]\u001b[A\n",
            " 79%|███████▉  | 262/330 [24:43<06:33,  5.79s/it, HD: 1024 (18/22), trial: 7/15]\u001b[A\n",
            " 79%|███████▉  | 262/330 [24:43<06:33,  5.79s/it, HD: 1024 (18/22), trial: 8/15]\u001b[A\n",
            " 80%|███████▉  | 263/330 [24:49<06:26,  5.78s/it, HD: 1024 (18/22), trial: 8/15]\u001b[A\n",
            " 80%|███████▉  | 263/330 [24:49<06:26,  5.78s/it, HD: 1024 (18/22), trial: 9/15]\u001b[A\n",
            " 80%|████████  | 264/330 [24:55<06:20,  5.77s/it, HD: 1024 (18/22), trial: 9/15]\u001b[A\n",
            " 80%|████████  | 264/330 [24:55<06:20,  5.77s/it, HD: 1024 (18/22), trial: 10/15]\u001b[A\n",
            " 80%|████████  | 265/330 [25:01<06:13,  5.75s/it, HD: 1024 (18/22), trial: 10/15]\u001b[A\n",
            " 80%|████████  | 265/330 [25:01<06:13,  5.75s/it, HD: 1024 (18/22), trial: 11/15]\u001b[A\n",
            " 81%|████████  | 266/330 [25:06<06:05,  5.72s/it, HD: 1024 (18/22), trial: 11/15]\u001b[A\n",
            " 81%|████████  | 266/330 [25:06<06:05,  5.72s/it, HD: 1024 (18/22), trial: 12/15]\u001b[A\n",
            " 81%|████████  | 267/330 [25:12<06:00,  5.72s/it, HD: 1024 (18/22), trial: 12/15]\u001b[A\n",
            " 81%|████████  | 267/330 [25:12<06:00,  5.72s/it, HD: 1024 (18/22), trial: 13/15]\u001b[A\n",
            " 81%|████████  | 268/330 [25:18<05:57,  5.77s/it, HD: 1024 (18/22), trial: 13/15]\u001b[A\n",
            " 81%|████████  | 268/330 [25:18<05:57,  5.77s/it, HD: 1024 (18/22), trial: 14/15]\u001b[A\n",
            " 82%|████████▏ | 269/330 [25:24<05:48,  5.71s/it, HD: 1024 (18/22), trial: 14/15]\u001b[A\n",
            " 82%|████████▏ | 269/330 [25:24<05:48,  5.71s/it, HD: 1024 (18/22), trial: 15/15]\u001b[A\n",
            " 82%|████████▏ | 270/330 [25:29<05:40,  5.67s/it, HD: 1024 (18/22), trial: 15/15]\u001b[A\n",
            " 82%|████████▏ | 270/330 [25:29<05:40,  5.67s/it, HD: 1300 (19/22), trial: 1/15] \u001b[A\n",
            " 82%|████████▏ | 271/330 [25:35<05:32,  5.64s/it, HD: 1300 (19/22), trial: 1/15]\u001b[A\n",
            " 82%|████████▏ | 271/330 [25:35<05:32,  5.64s/it, HD: 1300 (19/22), trial: 2/15]\u001b[A\n",
            " 82%|████████▏ | 272/330 [25:40<05:27,  5.64s/it, HD: 1300 (19/22), trial: 2/15]\u001b[A\n",
            " 82%|████████▏ | 272/330 [25:40<05:27,  5.64s/it, HD: 1300 (19/22), trial: 3/15]\u001b[A\n",
            " 83%|████████▎ | 273/330 [25:46<05:22,  5.66s/it, HD: 1300 (19/22), trial: 3/15]\u001b[A\n",
            " 83%|████████▎ | 273/330 [25:46<05:22,  5.66s/it, HD: 1300 (19/22), trial: 4/15]\u001b[A\n",
            " 83%|████████▎ | 274/330 [25:52<05:18,  5.69s/it, HD: 1300 (19/22), trial: 4/15]\u001b[A\n",
            " 83%|████████▎ | 274/330 [25:52<05:18,  5.69s/it, HD: 1300 (19/22), trial: 5/15]\u001b[A\n",
            " 83%|████████▎ | 275/330 [25:57<05:12,  5.68s/it, HD: 1300 (19/22), trial: 5/15]\u001b[A\n",
            " 83%|████████▎ | 275/330 [25:57<05:12,  5.68s/it, HD: 1300 (19/22), trial: 6/15]\u001b[A\n",
            " 84%|████████▎ | 276/330 [26:03<05:06,  5.68s/it, HD: 1300 (19/22), trial: 6/15]\u001b[A\n",
            " 84%|████████▎ | 276/330 [26:03<05:06,  5.68s/it, HD: 1300 (19/22), trial: 7/15]\u001b[A\n",
            " 84%|████████▍ | 277/330 [26:09<04:59,  5.65s/it, HD: 1300 (19/22), trial: 7/15]\u001b[A\n",
            " 84%|████████▍ | 277/330 [26:09<04:59,  5.65s/it, HD: 1300 (19/22), trial: 8/15]\u001b[A\n",
            " 84%|████████▍ | 278/330 [26:14<04:52,  5.62s/it, HD: 1300 (19/22), trial: 8/15]\u001b[A\n",
            " 84%|████████▍ | 278/330 [26:14<04:52,  5.62s/it, HD: 1300 (19/22), trial: 9/15]\u001b[A\n",
            " 85%|████████▍ | 279/330 [26:20<04:47,  5.64s/it, HD: 1300 (19/22), trial: 9/15]\u001b[A\n",
            " 85%|████████▍ | 279/330 [26:20<04:47,  5.64s/it, HD: 1300 (19/22), trial: 10/15]\u001b[A\n",
            " 85%|████████▍ | 280/330 [26:26<04:41,  5.64s/it, HD: 1300 (19/22), trial: 10/15]\u001b[A\n",
            " 85%|████████▍ | 280/330 [26:26<04:41,  5.64s/it, HD: 1300 (19/22), trial: 11/15]\u001b[A\n",
            " 85%|████████▌ | 281/330 [26:31<04:37,  5.66s/it, HD: 1300 (19/22), trial: 11/15]\u001b[A\n",
            " 85%|████████▌ | 281/330 [26:31<04:37,  5.66s/it, HD: 1300 (19/22), trial: 12/15]\u001b[A\n",
            " 85%|████████▌ | 282/330 [26:37<04:32,  5.67s/it, HD: 1300 (19/22), trial: 12/15]\u001b[A\n",
            " 85%|████████▌ | 282/330 [26:37<04:32,  5.67s/it, HD: 1300 (19/22), trial: 13/15]\u001b[A\n",
            " 86%|████████▌ | 283/330 [26:43<04:25,  5.66s/it, HD: 1300 (19/22), trial: 13/15]\u001b[A\n",
            " 86%|████████▌ | 283/330 [26:43<04:25,  5.66s/it, HD: 1300 (19/22), trial: 14/15]\u001b[A\n",
            " 86%|████████▌ | 284/330 [26:48<04:19,  5.64s/it, HD: 1300 (19/22), trial: 14/15]\u001b[A\n",
            " 86%|████████▌ | 284/330 [26:48<04:19,  5.64s/it, HD: 1300 (19/22), trial: 15/15]\u001b[A\n",
            " 86%|████████▋ | 285/330 [26:54<04:13,  5.64s/it, HD: 1300 (19/22), trial: 15/15]\u001b[A\n",
            " 86%|████████▋ | 285/330 [26:54<04:13,  5.64s/it, HD: 1536 (20/22), trial: 1/15] \u001b[A\n",
            " 87%|████████▋ | 286/330 [26:59<04:07,  5.63s/it, HD: 1536 (20/22), trial: 1/15]\u001b[A\n",
            " 87%|████████▋ | 286/330 [26:59<04:07,  5.63s/it, HD: 1536 (20/22), trial: 2/15]\u001b[A\n",
            " 87%|████████▋ | 287/330 [27:05<04:02,  5.63s/it, HD: 1536 (20/22), trial: 2/15]\u001b[A\n",
            " 87%|████████▋ | 287/330 [27:05<04:02,  5.63s/it, HD: 1536 (20/22), trial: 3/15]\u001b[A\n",
            " 87%|████████▋ | 288/330 [27:11<03:56,  5.63s/it, HD: 1536 (20/22), trial: 3/15]\u001b[A\n",
            " 87%|████████▋ | 288/330 [27:11<03:56,  5.63s/it, HD: 1536 (20/22), trial: 4/15]\u001b[A\n",
            " 88%|████████▊ | 289/330 [27:16<03:52,  5.66s/it, HD: 1536 (20/22), trial: 4/15]\u001b[A\n",
            " 88%|████████▊ | 289/330 [27:16<03:52,  5.66s/it, HD: 1536 (20/22), trial: 5/15]\u001b[A\n",
            " 88%|████████▊ | 290/330 [27:22<03:47,  5.70s/it, HD: 1536 (20/22), trial: 5/15]\u001b[A\n",
            " 88%|████████▊ | 290/330 [27:22<03:47,  5.70s/it, HD: 1536 (20/22), trial: 6/15]\u001b[A\n",
            " 88%|████████▊ | 291/330 [27:28<03:42,  5.70s/it, HD: 1536 (20/22), trial: 6/15]\u001b[A\n",
            " 88%|████████▊ | 291/330 [27:28<03:42,  5.70s/it, HD: 1536 (20/22), trial: 7/15]\u001b[A\n",
            " 88%|████████▊ | 292/330 [27:34<03:36,  5.69s/it, HD: 1536 (20/22), trial: 7/15]\u001b[A\n",
            " 88%|████████▊ | 292/330 [27:34<03:36,  5.69s/it, HD: 1536 (20/22), trial: 8/15]\u001b[A\n",
            " 89%|████████▉ | 293/330 [27:39<03:31,  5.72s/it, HD: 1536 (20/22), trial: 8/15]\u001b[A\n",
            " 89%|████████▉ | 293/330 [27:39<03:31,  5.72s/it, HD: 1536 (20/22), trial: 9/15]\u001b[A\n",
            " 89%|████████▉ | 294/330 [27:45<03:25,  5.71s/it, HD: 1536 (20/22), trial: 9/15]\u001b[A\n",
            " 89%|████████▉ | 294/330 [27:45<03:25,  5.71s/it, HD: 1536 (20/22), trial: 10/15]\u001b[A\n",
            " 89%|████████▉ | 295/330 [27:51<03:20,  5.72s/it, HD: 1536 (20/22), trial: 10/15]\u001b[A\n",
            " 89%|████████▉ | 295/330 [27:51<03:20,  5.72s/it, HD: 1536 (20/22), trial: 11/15]\u001b[A\n",
            " 90%|████████▉ | 296/330 [27:57<03:14,  5.72s/it, HD: 1536 (20/22), trial: 11/15]\u001b[A\n",
            " 90%|████████▉ | 296/330 [27:57<03:14,  5.72s/it, HD: 1536 (20/22), trial: 12/15]\u001b[A\n",
            " 90%|█████████ | 297/330 [28:02<03:08,  5.71s/it, HD: 1536 (20/22), trial: 12/15]\u001b[A\n",
            " 90%|█████████ | 297/330 [28:02<03:08,  5.71s/it, HD: 1536 (20/22), trial: 13/15]\u001b[A\n",
            " 90%|█████████ | 298/330 [28:08<03:01,  5.68s/it, HD: 1536 (20/22), trial: 13/15]\u001b[A\n",
            " 90%|█████████ | 298/330 [28:08<03:01,  5.68s/it, HD: 1536 (20/22), trial: 14/15]\u001b[A\n",
            " 91%|█████████ | 299/330 [28:13<02:56,  5.68s/it, HD: 1536 (20/22), trial: 14/15]\u001b[A\n",
            " 91%|█████████ | 299/330 [28:14<02:56,  5.68s/it, HD: 1536 (20/22), trial: 15/15]\u001b[A\n",
            " 91%|█████████ | 300/330 [28:19<02:50,  5.70s/it, HD: 1536 (20/22), trial: 15/15]\u001b[A\n",
            " 91%|█████████ | 300/330 [28:19<02:50,  5.70s/it, HD: 1700 (21/22), trial: 1/15] \u001b[A\n",
            " 91%|█████████ | 301/330 [28:25<02:45,  5.69s/it, HD: 1700 (21/22), trial: 1/15]\u001b[A\n",
            " 91%|█████████ | 301/330 [28:25<02:45,  5.69s/it, HD: 1700 (21/22), trial: 2/15]\u001b[A\n",
            " 92%|█████████▏| 302/330 [28:31<02:39,  5.68s/it, HD: 1700 (21/22), trial: 2/15]\u001b[A\n",
            " 92%|█████████▏| 302/330 [28:31<02:39,  5.68s/it, HD: 1700 (21/22), trial: 3/15]\u001b[A\n",
            " 92%|█████████▏| 303/330 [28:36<02:33,  5.68s/it, HD: 1700 (21/22), trial: 3/15]\u001b[A\n",
            " 92%|█████████▏| 303/330 [28:36<02:33,  5.68s/it, HD: 1700 (21/22), trial: 4/15]\u001b[A\n",
            " 92%|█████████▏| 304/330 [28:42<02:28,  5.71s/it, HD: 1700 (21/22), trial: 4/15]\u001b[A\n",
            " 92%|█████████▏| 304/330 [28:42<02:28,  5.71s/it, HD: 1700 (21/22), trial: 5/15]\u001b[A\n",
            " 92%|█████████▏| 305/330 [28:48<02:22,  5.70s/it, HD: 1700 (21/22), trial: 5/15]\u001b[A\n",
            " 92%|█████████▏| 305/330 [28:48<02:22,  5.70s/it, HD: 1700 (21/22), trial: 6/15]\u001b[A\n",
            " 93%|█████████▎| 306/330 [28:54<02:17,  5.73s/it, HD: 1700 (21/22), trial: 6/15]\u001b[A\n",
            " 93%|█████████▎| 306/330 [28:54<02:17,  5.73s/it, HD: 1700 (21/22), trial: 7/15]\u001b[A\n",
            " 93%|█████████▎| 307/330 [28:59<02:11,  5.73s/it, HD: 1700 (21/22), trial: 7/15]\u001b[A\n",
            " 93%|█████████▎| 307/330 [28:59<02:11,  5.73s/it, HD: 1700 (21/22), trial: 8/15]\u001b[A\n",
            " 93%|█████████▎| 308/330 [29:06<02:12,  6.03s/it, HD: 1700 (21/22), trial: 8/15]\u001b[A\n",
            " 93%|█████████▎| 308/330 [29:06<02:12,  6.03s/it, HD: 1700 (21/22), trial: 9/15]\u001b[A\n",
            " 94%|█████████▎| 309/330 [29:12<02:04,  5.94s/it, HD: 1700 (21/22), trial: 9/15]\u001b[A\n",
            " 94%|█████████▎| 309/330 [29:12<02:04,  5.94s/it, HD: 1700 (21/22), trial: 10/15]\u001b[A\n",
            " 94%|█████████▍| 310/330 [29:17<01:57,  5.89s/it, HD: 1700 (21/22), trial: 10/15]\u001b[A\n",
            " 94%|█████████▍| 310/330 [29:17<01:57,  5.89s/it, HD: 1700 (21/22), trial: 11/15]\u001b[A\n",
            " 94%|█████████▍| 311/330 [29:23<01:50,  5.82s/it, HD: 1700 (21/22), trial: 11/15]\u001b[A\n",
            " 94%|█████████▍| 311/330 [29:23<01:50,  5.82s/it, HD: 1700 (21/22), trial: 12/15]\u001b[A\n",
            " 95%|█████████▍| 312/330 [29:29<01:43,  5.75s/it, HD: 1700 (21/22), trial: 12/15]\u001b[A\n",
            " 95%|█████████▍| 312/330 [29:29<01:43,  5.75s/it, HD: 1700 (21/22), trial: 13/15]\u001b[A\n",
            " 95%|█████████▍| 313/330 [29:34<01:36,  5.70s/it, HD: 1700 (21/22), trial: 13/15]\u001b[A\n",
            " 95%|█████████▍| 313/330 [29:34<01:36,  5.70s/it, HD: 1700 (21/22), trial: 14/15]\u001b[A\n",
            " 95%|█████████▌| 314/330 [29:40<01:31,  5.70s/it, HD: 1700 (21/22), trial: 14/15]\u001b[A\n",
            " 95%|█████████▌| 314/330 [29:40<01:31,  5.70s/it, HD: 1700 (21/22), trial: 15/15]\u001b[A\n",
            " 95%|█████████▌| 315/330 [29:46<01:24,  5.66s/it, HD: 1700 (21/22), trial: 15/15]\u001b[A\n",
            " 95%|█████████▌| 315/330 [29:46<01:24,  5.66s/it, HD: 2048 (22/22), trial: 1/15] \u001b[A\n",
            " 96%|█████████▌| 316/330 [29:51<01:19,  5.66s/it, HD: 2048 (22/22), trial: 1/15]\u001b[A\n",
            " 96%|█████████▌| 316/330 [29:51<01:19,  5.66s/it, HD: 2048 (22/22), trial: 2/15]\u001b[A\n",
            " 96%|█████████▌| 317/330 [29:57<01:13,  5.66s/it, HD: 2048 (22/22), trial: 2/15]\u001b[A\n",
            " 96%|█████████▌| 317/330 [29:57<01:13,  5.66s/it, HD: 2048 (22/22), trial: 3/15]\u001b[A\n",
            " 96%|█████████▋| 318/330 [30:02<01:07,  5.63s/it, HD: 2048 (22/22), trial: 3/15]\u001b[A\n",
            " 96%|█████████▋| 318/330 [30:02<01:07,  5.63s/it, HD: 2048 (22/22), trial: 4/15]\u001b[A\n",
            " 97%|█████████▋| 319/330 [30:08<01:02,  5.66s/it, HD: 2048 (22/22), trial: 4/15]\u001b[A\n",
            " 97%|█████████▋| 319/330 [30:08<01:02,  5.66s/it, HD: 2048 (22/22), trial: 5/15]\u001b[A\n",
            " 97%|█████████▋| 320/330 [30:14<00:57,  5.79s/it, HD: 2048 (22/22), trial: 5/15]\u001b[A\n",
            " 97%|█████████▋| 320/330 [30:14<00:57,  5.79s/it, HD: 2048 (22/22), trial: 6/15]\u001b[A\n",
            " 97%|█████████▋| 321/330 [30:20<00:51,  5.74s/it, HD: 2048 (22/22), trial: 6/15]\u001b[A\n",
            " 97%|█████████▋| 321/330 [30:20<00:51,  5.74s/it, HD: 2048 (22/22), trial: 7/15]\u001b[A\n",
            " 98%|█████████▊| 322/330 [30:26<00:46,  5.78s/it, HD: 2048 (22/22), trial: 7/15]\u001b[A\n",
            " 98%|█████████▊| 322/330 [30:26<00:46,  5.78s/it, HD: 2048 (22/22), trial: 8/15]\u001b[A\n",
            " 98%|█████████▊| 323/330 [30:31<00:40,  5.76s/it, HD: 2048 (22/22), trial: 8/15]\u001b[A\n",
            " 98%|█████████▊| 323/330 [30:31<00:40,  5.76s/it, HD: 2048 (22/22), trial: 9/15]\u001b[A\n",
            " 98%|█████████▊| 324/330 [30:37<00:34,  5.74s/it, HD: 2048 (22/22), trial: 9/15]\u001b[A\n",
            " 98%|█████████▊| 324/330 [30:37<00:34,  5.74s/it, HD: 2048 (22/22), trial: 10/15]\u001b[A\n",
            " 98%|█████████▊| 325/330 [30:43<00:28,  5.69s/it, HD: 2048 (22/22), trial: 10/15]\u001b[A\n",
            " 98%|█████████▊| 325/330 [30:43<00:28,  5.69s/it, HD: 2048 (22/22), trial: 11/15]\u001b[A\n",
            " 99%|█████████▉| 326/330 [30:48<00:22,  5.65s/it, HD: 2048 (22/22), trial: 11/15]\u001b[A\n",
            " 99%|█████████▉| 326/330 [30:48<00:22,  5.65s/it, HD: 2048 (22/22), trial: 12/15]\u001b[A\n",
            " 99%|█████████▉| 327/330 [30:54<00:16,  5.63s/it, HD: 2048 (22/22), trial: 12/15]\u001b[A\n",
            " 99%|█████████▉| 327/330 [30:54<00:16,  5.63s/it, HD: 2048 (22/22), trial: 13/15]\u001b[A\n",
            " 99%|█████████▉| 328/330 [31:00<00:11,  5.66s/it, HD: 2048 (22/22), trial: 13/15]\u001b[A\n",
            " 99%|█████████▉| 328/330 [31:00<00:11,  5.66s/it, HD: 2048 (22/22), trial: 14/15]\u001b[A\n",
            "100%|█████████▉| 329/330 [31:05<00:05,  5.68s/it, HD: 2048 (22/22), trial: 14/15]\u001b[A\n",
            "100%|█████████▉| 329/330 [31:05<00:05,  5.68s/it, HD: 2048 (22/22), trial: 15/15]\u001b[A\n",
            "100%|██████████| 330/330 [31:11<00:00,  5.64s/it, HD: 2048 (22/22), trial: 15/15]\u001b[A"
          ]
        }
      ]
    },
    {
      "cell_type": "code",
      "source": [
        "n_per_batch = 111\n",
        "last_batches = 100\n",
        "optimal = 0.3751661977172892\n",
        "\n",
        "trains_sort = dict(sorted(trains.items(), key=lambda x: x[0]))\n",
        "\n",
        "plot_data = []\n",
        "for hd, runs in trains_sort.items():\n",
        "\n",
        "    losses = np.array(runs)[:, -(n_per_batch*last_batches):].mean(axis=1)\n",
        "    success_rate = (losses < optimal).mean()\n",
        "    stn_ratio = 3 / hd\n",
        "\n",
        "    plot_data.append((f\"{stn_ratio:.4f}\", success_rate))\n",
        "\n",
        "\n",
        "plt.bar(*zip(*plot_data), label=\"Convergence ratio\")\n",
        "plt.xlabel(\"Signal-to-noise ratio\")\n",
        "plt.ylabel(\"Share of runs converging\")\n",
        "plt.xticks(rotation=60, ha='right');\n",
        "#plt.legend(frameon=False);"
      ],
      "metadata": {
        "colab": {
          "base_uri": "https://localhost:8080/",
          "height": 304
        },
        "id": "YY4leI8N-M5Y",
        "outputId": "81f88cce-5f77-48ef-bc86-f37a8d5d9281"
      },
      "execution_count": 45,
      "outputs": [
        {
          "output_type": "display_data",
          "data": {
            "text/plain": [
              "<Figure size 432x288 with 1 Axes>"
            ],
            "image/png": "[encoded data removed]"
          },
          "metadata": {
            "needs_background": "light"
          }
        }
      ]
    },
    {
      "cell_type": "code",
      "source": [
        "optimal = 0.3751661977172892\n",
        "\n",
        "plt.plot(np.linspace(0, 200, len(trains[3][0])), trains[2048][0])\n",
        "plt.axhline(y=optimal, color=\"grey\", linestyle=\"-.\");"
      ],
      "metadata": {
        "id": "jRLDbpGiImC3",
        "outputId": "3653b07d-9651-421d-cb35-03a74eee3c8c",
        "colab": {
          "base_uri": "https://localhost:8080/",
          "height": 264
        }
      },
      "execution_count": 27,
      "outputs": [
        {
          "output_type": "display_data",
          "data": {
            "text/plain": [
              "<Figure size 432x288 with 1 Axes>"
            ],
            "image/png": "[encoded data removed]"
          },
          "metadata": {
            "needs_background": "light"
          }
        }
      ]
    },
    {
      "cell_type": "markdown",
      "source": [
        "### Third experiment: Try with original network instead"
      ],
      "metadata": {
        "id": "oMxYl7Trp1Ph"
      }
    },
    {
      "cell_type": "code",
      "source": [
        "trains = defaultdict(list)\n",
        "vals = defaultdict(list)"
      ],
      "metadata": {
        "id": "RqKMAVaxa7HN"
      },
      "execution_count": 23,
      "outputs": []
    },
    {
      "cell_type": "code",
      "source": [
        "trials = 20\n",
        "lags = range(3, 800, 30)\n",
        "\n",
        "n_runs = 0\n",
        "tot_runs = trials * len(lags)\n",
        "\n",
        "it = tqdm(total=tot_runs)\n",
        "\n",
        "for n, lag in enumerate(lags, start=1):\n",
        "    for i in range(trials):\n",
        "        it.set_postfix_str(f\"Lags: {lag} ({n}/{len(lags)}), trial: {i+1}/{trials}\")\n",
        "\n",
        "        tra, val = run(use_multivariate=True, length_of_time_series=lag, show_progress=False)\n",
        "\n",
        "        trains[lag].append(tra)\n",
        "        vals[lag].append(val)\n",
        "\n",
        "        it.update()"
      ],
      "metadata": {
        "id": "QJ1TVvUDUTZA",
        "colab": {
          "base_uri": "https://localhost:8080/"
        },
        "outputId": "cdaadb60-cc7d-4018-b4ee-a675a88e5ee4"
      },
      "execution_count": 24,
      "outputs": [
        {
          "output_type": "stream",
          "name": "stderr",
          "text": [
            "100%|██████████| 540/540 [54:55<00:00,  9.78s/it, Lags: 783 (27/27), trial: 20/20]"
          ]
        }
      ]
    },
    {
      "cell_type": "markdown",
      "source": [
        "#### Test number of runs converging"
      ],
      "metadata": {
        "id": "uudf2BsDS7Lv"
      }
    },
    {
      "cell_type": "code",
      "source": [
        "data = rolling_mean(trains[33][5], 1)\n",
        "optimal = 0.3751661977172892\n",
        "\n",
        "plt.plot(np.linspace(0, 200, len(data)), data)\n",
        "plt.axhline(y=optimal, color=\"grey\", linestyle=\"-.\");"
      ],
      "metadata": {
        "colab": {
          "base_uri": "https://localhost:8080/",
          "height": 245
        },
        "id": "Fbq6is7-UW-b",
        "outputId": "bd237a19-6a1b-4709-83cc-87f948bb83ff"
      },
      "execution_count": 48,
      "outputs": [
        {
          "output_type": "error",
          "ename": "IndexError",
          "evalue": "ignored",
          "traceback": [
            "\u001b[0;31m---------------------------------------------------------------------------\u001b[0m",
            "\u001b[0;31mIndexError\u001b[0m                                Traceback (most recent call last)",
            "\u001b[0;32m<ipython-input-48-1a3ad74f510c>\u001b[0m in \u001b[0;36m<module>\u001b[0;34m()\u001b[0m\n\u001b[0;32m----> 1\u001b[0;31m \u001b[0mdata\u001b[0m \u001b[0;34m=\u001b[0m \u001b[0mrolling_mean\u001b[0m\u001b[0;34m(\u001b[0m\u001b[0mtrains\u001b[0m\u001b[0;34m[\u001b[0m\u001b[0;36m33\u001b[0m\u001b[0;34m]\u001b[0m\u001b[0;34m[\u001b[0m\u001b[0;36m5\u001b[0m\u001b[0;34m]\u001b[0m\u001b[0;34m,\u001b[0m \u001b[0;36m1\u001b[0m\u001b[0;34m)\u001b[0m\u001b[0;34m\u001b[0m\u001b[0;34m\u001b[0m\u001b[0m\n\u001b[0m\u001b[1;32m      2\u001b[0m \u001b[0moptimal\u001b[0m \u001b[0;34m=\u001b[0m \u001b[0;36m0.3751661977172892\u001b[0m\u001b[0;34m\u001b[0m\u001b[0;34m\u001b[0m\u001b[0m\n\u001b[1;32m      3\u001b[0m \u001b[0;34m\u001b[0m\u001b[0m\n\u001b[1;32m      4\u001b[0m \u001b[0mplt\u001b[0m\u001b[0;34m.\u001b[0m\u001b[0mplot\u001b[0m\u001b[0;34m(\u001b[0m\u001b[0mnp\u001b[0m\u001b[0;34m.\u001b[0m\u001b[0mlinspace\u001b[0m\u001b[0;34m(\u001b[0m\u001b[0;36m0\u001b[0m\u001b[0;34m,\u001b[0m \u001b[0;36m200\u001b[0m\u001b[0;34m,\u001b[0m \u001b[0mlen\u001b[0m\u001b[0;34m(\u001b[0m\u001b[0mdata\u001b[0m\u001b[0;34m)\u001b[0m\u001b[0;34m)\u001b[0m\u001b[0;34m,\u001b[0m \u001b[0mdata\u001b[0m\u001b[0;34m)\u001b[0m\u001b[0;34m\u001b[0m\u001b[0;34m\u001b[0m\u001b[0m\n\u001b[1;32m      5\u001b[0m \u001b[0mplt\u001b[0m\u001b[0;34m.\u001b[0m\u001b[0maxhline\u001b[0m\u001b[0;34m(\u001b[0m\u001b[0my\u001b[0m\u001b[0;34m=\u001b[0m\u001b[0moptimal\u001b[0m\u001b[0;34m,\u001b[0m \u001b[0mcolor\u001b[0m\u001b[0;34m=\u001b[0m\u001b[0;34m\"grey\"\u001b[0m\u001b[0;34m,\u001b[0m \u001b[0mlinestyle\u001b[0m\u001b[0;34m=\u001b[0m\u001b[0;34m\"-.\"\u001b[0m\u001b[0;34m)\u001b[0m\u001b[0;34m;\u001b[0m\u001b[0;34m\u001b[0m\u001b[0;34m\u001b[0m\u001b[0m\n",
            "\u001b[0;31mIndexError\u001b[0m: list index out of range"
          ]
        }
      ]
    },
    {
      "cell_type": "code",
      "source": [
        "n_per_batch = 3\n",
        "last_batches = 100\n",
        "optimal = 0.3751661977172892\n",
        "\n",
        "trains_sort = dict(sorted(trains.items(), key=lambda x: x[0]))\n",
        "\n",
        "plot_data = []\n",
        "for hd, runs in trains_sort.items():\n",
        "\n",
        "    losses = np.array(runs)[:, -(n_per_batch*last_batches):].mean(axis=1)\n",
        "    success_rate = (losses < optimal).mean()\n",
        "    stn_ratio = 3 / hd\n",
        "\n",
        "    plot_data.append((f\"{stn_ratio:.4f}\", success_rate))\n",
        "\n",
        "\n",
        "plt.bar(*zip(*plot_data), label=\"Convergence ratio\")\n",
        "plt.xlabel(\"Signal-to-noise ratio\")\n",
        "plt.ylabel(\"Share of runs converging\")\n",
        "plt.xticks(rotation=60, ha='right');"
      ],
      "metadata": {
        "outputId": "ac203a97-1877-4908-b259-7408c1038f63",
        "colab": {
          "base_uri": "https://localhost:8080/",
          "height": 304
        },
        "id": "T4Z90bc4UTZA"
      },
      "execution_count": 52,
      "outputs": [
        {
          "output_type": "display_data",
          "data": {
            "text/plain": [
              "<Figure size 432x288 with 1 Axes>"
            ],
            "image/png": "[encoded data removed]"
          },
          "metadata": {
            "needs_background": "light"
          }
        }
      ]
    },
    {
      "cell_type": "markdown",
      "source": [
        "#### Test how fast the runs converge for each SNR"
      ],
      "metadata": {
        "id": "Hdna_zuFTCc_"
      }
    },
    {
      "cell_type": "code",
      "source": [
        "def opt_index(d):\n",
        "\n",
        "    for i, loss in enumerate(rolling_mean(d, 10)):\n",
        "        if loss < optimal:\n",
        "            return i"
      ],
      "metadata": {
        "colab": {
          "base_uri": "https://localhost:8080/"
        },
        "id": "f-QgXM2AeFG1",
        "outputId": "8cfa05b0-cc6f-4bb8-93e8-663f1a939346"
      },
      "execution_count": 38,
      "outputs": [
        {
          "output_type": "execute_result",
          "data": {
            "text/plain": [
              "81"
            ]
          },
          "metadata": {},
          "execution_count": 38
        }
      ]
    },
    {
      "cell_type": "code",
      "source": [
        "def convergence_pace(series):\n",
        "    snrs = []\n",
        "    datas = []\n",
        "\n",
        "    for size, ds in series.items():\n",
        "        snrs.append(f\"{3 / size:.1e}\")\n",
        "\n",
        "        data = [opt_index(d) for d in ds]\n",
        "        datas.append(data)\n",
        "\n",
        "    datas = np.array(datas, dtype=np.float32)\n",
        "\n",
        "    datas /= datas.max()\n",
        "\n",
        "    return datas.T, snrs"
      ],
      "metadata": {
        "id": "HSNKgqzLTItR"
      },
      "execution_count": 54,
      "outputs": []
    },
    {
      "cell_type": "code",
      "source": [
        "x, labels = convergence_pace(trains)\n",
        "\n",
        "midpoint = labels[len(labels) // 2]\n",
        "labels = labels[:1] + [\"\"] * (len(labels) - 2) + labels[-1:]\n",
        "labels[len(labels) // 2] = midpoint\n",
        "\n",
        "fig, ax = plt.subplots()\n",
        "\n",
        "ax.set_ylabel(\"Relative time to convergence\")\n",
        "ax.set_xlabel(\"Signal-to-noise ratio\")\n",
        "ax.boxplot(\n",
        "    x,\n",
        "    vert=True,\n",
        "    labels=labels,\n",
        "    medianprops={\"color\": main2},\n",
        "    boxprops={\"color\": main},\n",
        "    whiskerprops={\"color\": main},\n",
        "    capprops={\"color\": main},\n",
        "    showfliers=False,\n",
        ");"
      ],
      "metadata": {
        "colab": {
          "base_uri": "https://localhost:8080/",
          "height": 278
        },
        "id": "tjlNGnHqfLH1",
        "outputId": "429d29e5-bb8a-4120-e8cb-18cdceb589aa"
      },
      "execution_count": 104,
      "outputs": [
        {
          "output_type": "display_data",
          "data": {
            "text/plain": [
              "<Figure size 432x288 with 1 Axes>"
            ],
            "image/png": "[encoded data removed]"
          },
          "metadata": {
            "needs_background": "light"
          }
        }
      ]
    },
    {
      "cell_type": "code",
      "source": [
        ""
      ],
      "metadata": {
        "id": "bAdHOoC0fXRm"
      },
      "execution_count": null,
      "outputs": []
    }
  ]
}