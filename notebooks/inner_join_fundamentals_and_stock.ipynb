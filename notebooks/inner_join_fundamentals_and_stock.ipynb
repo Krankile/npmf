{
  "cells": [
    {
      "cell_type": "markdown",
      "metadata": {
        "id": "view-in-github",
        "colab_type": "text"
      },
      "source": [
        "<a href=\"https://colab.research.google.com/github/Krankile/npmf/blob/main/notebooks/inner_join_fundamentals_and_stock.ipynb\" target=\"_parent\"><img src=\"https://colab.research.google.com/assets/colab-badge.svg\" alt=\"Open In Colab\"/></a>"
      ]
    },
    {
      "cell_type": "markdown",
      "metadata": {
        "id": "d8F5tl4NL7FZ"
      },
      "source": [
        "#Setup"
      ]
    },
    {
      "cell_type": "markdown",
      "metadata": {
        "id": "Rwo44VGZLhAo"
      },
      "source": [
        "##Kernel setup"
      ]
    },
    {
      "cell_type": "code",
      "execution_count": null,
      "metadata": {
        "id": "hKuFzk7aEmB9"
      },
      "outputs": [],
      "source": [
        "%load_ext autoreload\n",
        "%autoreload 2"
      ]
    },
    {
      "cell_type": "code",
      "execution_count": null,
      "metadata": {
        "id": "YapyvlhQSpEj"
      },
      "outputs": [],
      "source": [
        "%%capture\n",
        "!pip install wandb\n",
        "!git clone https://github.com/Krankile/npmf.git"
      ]
    },
    {
      "cell_type": "code",
      "execution_count": null,
      "metadata": {
        "colab": {
          "base_uri": "https://localhost:8080/"
        },
        "id": "gUXnibj8YEi1",
        "outputId": "26a0ac7c-89aa-4a59-a32b-fc3acf14ccc7"
      },
      "outputs": [
        {
          "output_type": "stream",
          "name": "stdout",
          "text": [
            "\u001b[34m\u001b[1mwandb\u001b[0m: You can find your API key in your browser here: https://wandb.ai/authorize\n",
            "\u001b[34m\u001b[1mwandb\u001b[0m: Paste an API key from your profile and hit enter, or press ctrl+c to quit: \n",
            "\u001b[34m\u001b[1mwandb\u001b[0m: Appending key for api.wandb.ai to your netrc file: /root/.netrc\n"
          ]
        }
      ],
      "source": [
        "!wandb login"
      ]
    },
    {
      "cell_type": "markdown",
      "metadata": {
        "id": "CLAlA0htLgMY"
      },
      "source": [
        "##General setup"
      ]
    },
    {
      "cell_type": "code",
      "execution_count": null,
      "metadata": {
        "id": "1QSlgObXLq1p"
      },
      "outputs": [],
      "source": [
        "%%capture\n",
        "!cd npmf && git pull\n",
        "\n",
        "import os\n",
        "from collections import defaultdict\n",
        "from collections import Counter\n",
        "from datetime import datetime\n",
        "from operator import itemgetter\n",
        "\n",
        "import numpy as np\n",
        "from numpy.ma.core import outerproduct\n",
        "import pandas as pd\n",
        "import matplotlib as mpl\n",
        "import matplotlib.pyplot as plt\n",
        "from tqdm import tqdm\n",
        "\n",
        "import wandb as wb\n",
        "\n",
        "import torch\n",
        "from torch import nn\n",
        "from torch.utils.data import DataLoader\n",
        "from torchvision import datasets, transforms\n",
        "\n",
        "from npmf.utils.colors import main, main2, main3\n",
        "from npmf.utils.wandb import get_dataset, get_datasets, put_dataset, update_aliases\n",
        "from npmf.utils.eikon import column_mapping "
      ]
    },
    {
      "cell_type": "code",
      "execution_count": null,
      "metadata": {
        "id": "hkTjKKLmLvpl"
      },
      "outputs": [],
      "source": [
        "mpl.rcParams['axes.prop_cycle'] = mpl.cycler(color=[main, main2, main3, \"black\"])\n",
        "mpl.rcParams['figure.figsize'] = (6, 4)  # (6, 4) is default and used in the paper"
      ]
    },
    {
      "cell_type": "code",
      "execution_count": null,
      "metadata": {
        "colab": {
          "base_uri": "https://localhost:8080/"
        },
        "id": "Dqy02oAvY7GM",
        "outputId": "940037f5-0dd1-4ce0-972b-f6187a281dbf"
      },
      "outputs": [
        {
          "output_type": "stream",
          "name": "stdout",
          "text": [
            "Using cpu device\n"
          ]
        }
      ],
      "source": [
        "device = \"cuda\" if torch.cuda.is_available() else \"cpu\"\n",
        "print(f\"Using {device} device\")"
      ]
    },
    {
      "cell_type": "code",
      "execution_count": null,
      "metadata": {
        "id": "YVFtfDk0pYtd"
      },
      "outputs": [],
      "source": [
        "np.random.seed(420)"
      ]
    },
    {
      "cell_type": "markdown",
      "metadata": {
        "id": "hATNzG1f6PBS"
      },
      "source": [
        "# Data processing"
      ]
    },
    {
      "cell_type": "markdown",
      "metadata": {
        "id": "zpWr19ZFlsqV"
      },
      "source": [
        "## Collect data from stock and fundamental and find intersection of unique tickers"
      ]
    },
    {
      "cell_type": "code",
      "execution_count": null,
      "metadata": {
        "colab": {
          "base_uri": "https://localhost:8080/",
          "height": 425,
          "referenced_widgets": [
            "af294ef00b2e4d7ea0a16babe3cd8b13",
            "d323cea98789410c80d682f5bbe6c03d",
            "7048607a7fc0467db03006ff4046fdee",
            "134661a953684e30ae3cb454d063bf3e",
            "8e1b15764e9249549cce079947743a95",
            "4cfe6663a376415e839781cdab680e1c",
            "734015f07178429e917c6a158d6e68f4",
            "eb3206ae3fac4237abf6da2727c74ed9",
            "f61d1190c9f3429285ada73ea6bb92f5",
            "54f4364ea5294ec395b2e9a33a951005",
            "54f6928d81d24167bb6be9d22111d3f6",
            "b96271ed07c74d399acc1e72254ac3e2",
            "a5d71b45ed614e938ffc6f6cda883155",
            "c7ae08ee36d54fbabf5a28d0da56d2c9",
            "0efd29f84347467d8122bacd05892703",
            "492550532f6d4b8bade5b4f2af08219c",
            "b85befab2aa04089a18cd45f6237d0ef",
            "838988e6541a464a87f4539c6538562b",
            "f92c34790c994ea8af4c32429b25f973",
            "969426235eef40318602ff0f585add93",
            "6d6650e63fc1456d8ed76eeb260e6919",
            "6a2c6000bc17456d985e2c70f986d79e",
            "a2fc733b35d747a19adecec51fb941ca",
            "62064ee7720643d5923585f8f06f1a42"
          ]
        },
        "id": "_PqYqpDHl_uu",
        "outputId": "c21b460f-bc65-46a4-db44-5b7931822d25"
      },
      "outputs": [
        {
          "output_type": "stream",
          "name": "stderr",
          "text": [
            "\u001b[34m\u001b[1mwandb\u001b[0m: Currently logged in as: \u001b[33mkjartan\u001b[0m (\u001b[33mkrankile\u001b[0m). Use \u001b[1m`wandb login --relogin`\u001b[0m to force relogin\n"
          ]
        },
        {
          "output_type": "display_data",
          "data": {
            "text/plain": [
              "<IPython.core.display.HTML object>"
            ],
            "text/html": [
              "Tracking run with wandb version 0.12.17"
            ]
          },
          "metadata": {}
        },
        {
          "output_type": "display_data",
          "data": {
            "text/plain": [
              "<IPython.core.display.HTML object>"
            ],
            "text/html": [
              "Run data is saved locally in <code>/content/wandb/run-20220529_093218-1sa638s9</code>"
            ]
          },
          "metadata": {}
        },
        {
          "output_type": "display_data",
          "data": {
            "text/plain": [
              "<IPython.core.display.HTML object>"
            ],
            "text/html": [
              "Syncing run <strong><a href=\"https://wandb.ai/krankile/master/runs/1sa638s9\" target=\"_blank\">legendary-monkey-21</a></strong> to <a href=\"https://wandb.ai/krankile/master\" target=\"_blank\">Weights & Biases</a> (<a href=\"https://wandb.me/run\" target=\"_blank\">docs</a>)<br/>"
            ]
          },
          "metadata": {}
        },
        {
          "output_type": "stream",
          "name": "stderr",
          "text": [
            "\u001b[34m\u001b[1mwandb\u001b[0m: Downloading large artifact stock-data:v2, 434.28MB. 1 files... Done. 0:0:0\n"
          ]
        },
        {
          "output_type": "display_data",
          "data": {
            "text/plain": [
              "<IPython.core.display.HTML object>"
            ],
            "text/html": [
              "Waiting for W&B process to finish... <strong style=\"color:green\">(success).</strong>"
            ]
          },
          "metadata": {}
        },
        {
          "output_type": "display_data",
          "data": {
            "text/plain": [
              "VBox(children=(Label(value='0.001 MB of 0.001 MB uploaded (0.000 MB deduped)\\r'), FloatProgress(value=1.0, max…"
            ],
            "application/vnd.jupyter.widget-view+json": {
              "version_major": 2,
              "version_minor": 0,
              "model_id": "af294ef00b2e4d7ea0a16babe3cd8b13"
            }
          },
          "metadata": {}
        },
        {
          "output_type": "display_data",
          "data": {
            "text/plain": [
              "<IPython.core.display.HTML object>"
            ],
            "text/html": [
              "Synced <strong style=\"color:#cdcd00\">legendary-monkey-21</strong>: <a href=\"https://wandb.ai/krankile/master/runs/1sa638s9\" target=\"_blank\">https://wandb.ai/krankile/master/runs/1sa638s9</a><br/>Synced 5 W&B file(s), 0 media file(s), 0 artifact file(s) and 0 other file(s)"
            ]
          },
          "metadata": {}
        },
        {
          "output_type": "display_data",
          "data": {
            "text/plain": [
              "<IPython.core.display.HTML object>"
            ],
            "text/html": [
              "Find logs at: <code>./wandb/run-20220529_093218-1sa638s9/logs</code>"
            ]
          },
          "metadata": {}
        },
        {
          "output_type": "display_data",
          "data": {
            "text/plain": [
              "<IPython.core.display.HTML object>"
            ],
            "text/html": [
              "Tracking run with wandb version 0.12.17"
            ]
          },
          "metadata": {}
        },
        {
          "output_type": "display_data",
          "data": {
            "text/plain": [
              "<IPython.core.display.HTML object>"
            ],
            "text/html": [
              "Run data is saved locally in <code>/content/wandb/run-20220529_093240-pfrhtd2b</code>"
            ]
          },
          "metadata": {}
        },
        {
          "output_type": "display_data",
          "data": {
            "text/plain": [
              "<IPython.core.display.HTML object>"
            ],
            "text/html": [
              "Syncing run <strong><a href=\"https://wandb.ai/krankile/master/runs/pfrhtd2b\" target=\"_blank\">lucky-spaceship-22</a></strong> to <a href=\"https://wandb.ai/krankile/master\" target=\"_blank\">Weights & Biases</a> (<a href=\"https://wandb.me/run\" target=\"_blank\">docs</a>)<br/>"
            ]
          },
          "metadata": {}
        },
        {
          "output_type": "display_data",
          "data": {
            "text/plain": [
              "<IPython.core.display.HTML object>"
            ],
            "text/html": [
              "Waiting for W&B process to finish... <strong style=\"color:green\">(success).</strong>"
            ]
          },
          "metadata": {}
        },
        {
          "output_type": "display_data",
          "data": {
            "text/plain": [
              "VBox(children=(Label(value='0.001 MB of 0.001 MB uploaded (0.000 MB deduped)\\r'), FloatProgress(value=1.0, max…"
            ],
            "application/vnd.jupyter.widget-view+json": {
              "version_major": 2,
              "version_minor": 0,
              "model_id": "f61d1190c9f3429285ada73ea6bb92f5"
            }
          },
          "metadata": {}
        },
        {
          "output_type": "display_data",
          "data": {
            "text/plain": [
              "<IPython.core.display.HTML object>"
            ],
            "text/html": [
              "Synced <strong style=\"color:#cdcd00\">lucky-spaceship-22</strong>: <a href=\"https://wandb.ai/krankile/master/runs/pfrhtd2b\" target=\"_blank\">https://wandb.ai/krankile/master/runs/pfrhtd2b</a><br/>Synced 4 W&B file(s), 0 media file(s), 0 artifact file(s) and 0 other file(s)"
            ]
          },
          "metadata": {}
        },
        {
          "output_type": "display_data",
          "data": {
            "text/plain": [
              "<IPython.core.display.HTML object>"
            ],
            "text/html": [
              "Find logs at: <code>./wandb/run-20220529_093240-pfrhtd2b/logs</code>"
            ]
          },
          "metadata": {}
        },
        {
          "output_type": "display_data",
          "data": {
            "text/plain": [
              "<IPython.core.display.HTML object>"
            ],
            "text/html": [
              "Tracking run with wandb version 0.12.17"
            ]
          },
          "metadata": {}
        },
        {
          "output_type": "display_data",
          "data": {
            "text/plain": [
              "<IPython.core.display.HTML object>"
            ],
            "text/html": [
              "Run data is saved locally in <code>/content/wandb/run-20220529_093250-1yg1nqf3</code>"
            ]
          },
          "metadata": {}
        },
        {
          "output_type": "display_data",
          "data": {
            "text/plain": [
              "<IPython.core.display.HTML object>"
            ],
            "text/html": [
              "Syncing run <strong><a href=\"https://wandb.ai/krankile/master/runs/1yg1nqf3\" target=\"_blank\">tough-music-23</a></strong> to <a href=\"https://wandb.ai/krankile/master\" target=\"_blank\">Weights & Biases</a> (<a href=\"https://wandb.me/run\" target=\"_blank\">docs</a>)<br/>"
            ]
          },
          "metadata": {}
        },
        {
          "output_type": "display_data",
          "data": {
            "text/plain": [
              "<IPython.core.display.HTML object>"
            ],
            "text/html": [
              "Waiting for W&B process to finish... <strong style=\"color:green\">(success).</strong>"
            ]
          },
          "metadata": {}
        },
        {
          "output_type": "display_data",
          "data": {
            "text/plain": [
              "VBox(children=(Label(value='0.001 MB of 0.001 MB uploaded (0.000 MB deduped)\\r'), FloatProgress(value=1.0, max…"
            ],
            "application/vnd.jupyter.widget-view+json": {
              "version_major": 2,
              "version_minor": 0,
              "model_id": "b85befab2aa04089a18cd45f6237d0ef"
            }
          },
          "metadata": {}
        },
        {
          "output_type": "display_data",
          "data": {
            "text/plain": [
              "<IPython.core.display.HTML object>"
            ],
            "text/html": [
              "Synced <strong style=\"color:#cdcd00\">tough-music-23</strong>: <a href=\"https://wandb.ai/krankile/master/runs/1yg1nqf3\" target=\"_blank\">https://wandb.ai/krankile/master/runs/1yg1nqf3</a><br/>Synced 4 W&B file(s), 0 media file(s), 0 artifact file(s) and 0 other file(s)"
            ]
          },
          "metadata": {}
        },
        {
          "output_type": "display_data",
          "data": {
            "text/plain": [
              "<IPython.core.display.HTML object>"
            ],
            "text/html": [
              "Find logs at: <code>./wandb/run-20220529_093250-1yg1nqf3/logs</code>"
            ]
          },
          "metadata": {}
        }
      ],
      "source": [
        "stock_df = get_dataset(\"stock-data:v2\", \"master\")\n",
        "fundamental_df = get_dataset(\"fundamental-data:v1\", \"master\")\n",
        "meta_df = get_dataset(\"meta-data:v1\", \"master\").drop(columns=[\"index\"])"
      ]
    },
    {
      "cell_type": "markdown",
      "source": [
        "## We start by seeing the amount of data we have before joining the stock and fundamental data"
      ],
      "metadata": {
        "id": "jCupIMtuIPVf"
      }
    },
    {
      "cell_type": "code",
      "source": [
        "stock_na = stock_df.market_cap.isna()"
      ],
      "metadata": {
        "id": "iJWnPQIRXCJy"
      },
      "execution_count": null,
      "outputs": []
    },
    {
      "cell_type": "code",
      "source": [
        "len(stock_df.ticker.unique())"
      ],
      "metadata": {
        "colab": {
          "base_uri": "https://localhost:8080/"
        },
        "id": "uu_7rK5fvbYb",
        "outputId": "ba9bcbcc-268c-4f6f-9d3e-70069e86921a"
      },
      "execution_count": null,
      "outputs": [
        {
          "output_type": "execute_result",
          "data": {
            "text/plain": [
              "5213"
            ]
          },
          "metadata": {},
          "execution_count": 10
        }
      ]
    },
    {
      "cell_type": "code",
      "source": [
        "fundamental_df.ticker.unique()"
      ],
      "metadata": {
        "colab": {
          "base_uri": "https://localhost:8080/"
        },
        "id": "LvLBNHdCven0",
        "outputId": "d8ac3963-5597-45c4-ec11-1c904df0ddf7"
      },
      "execution_count": null,
      "outputs": [
        {
          "output_type": "execute_result",
          "data": {
            "text/plain": [
              "<StringArray>\n",
              "[  'OMVV.VI',     'MUR.N',     'NBR.N',    'OIL.CD', '600256.SS', '600248.SS',\n",
              "    'AGE.BK',     'CEI.A',  'NESTE.HE',  'OANDO.LG',\n",
              " ...\n",
              "   'MCPH.PK',   'CFFI.OQ',   'VBFC.OQ',   'MOFG.OQ',   'KBNK.NS',   'CRDI.MI',\n",
              "    '8359.T',   'CIEB.CA',   'AMMB.KL',  'QNBFL.IS']\n",
              "Length: 3179, dtype: string"
            ]
          },
          "metadata": {},
          "execution_count": 11
        }
      ]
    },
    {
      "cell_type": "code",
      "source": [
        "fundamental_without_copies = fundamental_df.loc[:,:\"short_term_debt_p_assets\"]\n",
        "\n",
        "print(\"\\t   ----STOCK----\")\n",
        "\n",
        "print(f\"stock entries left: {stock_df.shape[0]:,}\")\n",
        "\n",
        "print(\"\\n\\t----FUNDAMENTALS----\")\n",
        "print(f\"datapoints in rapports left: {fundamental_without_copies.count(axis=0, numeric_only=True).sum():,}\")\n",
        "print(f\"quarterly rapports left: {fundamental_without_copies.shape[0]:,}\")\n",
        "print(f\"average entries per rapports left: {fundamental_without_copies.count(axis=0, numeric_only=True).sum()/fundamental_without_copies.shape[0]}\") "
      ],
      "metadata": {
        "colab": {
          "base_uri": "https://localhost:8080/"
        },
        "id": "j_3UOXhVG3We",
        "outputId": "f6976cb3-aa92-42e5-edd5-feac70108f2b"
      },
      "execution_count": null,
      "outputs": [
        {
          "output_type": "stream",
          "name": "stdout",
          "text": [
            "\t   ----STOCK----\n",
            "stock entries left: 18,085,295\n",
            "\n",
            "\t----FUNDAMENTALS----\n",
            "datapoints in rapports left: 1,384,410\n",
            "quarterly rapports left: 145,531\n",
            "average entries per rapports left: 9.512818574736654\n"
          ]
        }
      ]
    },
    {
      "cell_type": "code",
      "execution_count": null,
      "metadata": {
        "id": "0OaOinv2sumo"
      },
      "outputs": [],
      "source": [
        "unique_fundamental = set(fundamental_df.ticker.unique())\n",
        "unique_stock = set(stock_df.ticker.unique())\n",
        "\n",
        "full_data_companies = unique_fundamental & unique_stock"
      ]
    },
    {
      "cell_type": "code",
      "execution_count": null,
      "metadata": {
        "colab": {
          "base_uri": "https://localhost:8080/",
          "height": 265
        },
        "id": "kpbLNmljd6Ih",
        "outputId": "2539b7a9-c044-4694-aad5-5d96e4e455b4"
      },
      "outputs": [
        {
          "output_type": "display_data",
          "data": {
            "text/plain": [
              "<Figure size 432x288 with 1 Axes>"
            ],
            "image/png": "[encoded data removed]"
          },
          "metadata": {
            "needs_background": "light"
          }
        }
      ],
      "source": [
        " meta_df[meta_df.ticker.isin(full_data_companies)].economic_sector.hist(grid=False, color=main);"
      ]
    },
    {
      "cell_type": "markdown",
      "metadata": {
        "id": "OwAY5TmweBrx"
      },
      "source": [
        "There are more banking services companies than there are energy. We want the selection to be 50/50 overall (will in reality be time dependent), and thus find the ~850 companies  "
      ]
    },
    {
      "cell_type": "markdown",
      "metadata": {
        "id": "Z_yD98K_d5YA"
      },
      "source": [
        "## Select the most data rich companies from the banking sector category"
      ]
    },
    {
      "cell_type": "code",
      "execution_count": null,
      "metadata": {
        "id": "VNtobXMPaf1l"
      },
      "outputs": [],
      "source": [
        "oil_inner_joined = meta_df[(meta_df.ticker.isin(full_data_companies)) & (meta_df.economic_sector == \"Energy\")].ticker\n",
        "banking_services_inner_joined = meta_df[(meta_df.ticker.isin(full_data_companies)) & (meta_df.industry_group == \"Banking Services\")].ticker"
      ]
    },
    {
      "cell_type": "code",
      "execution_count": null,
      "metadata": {
        "id": "LXa-G95pe-AC"
      },
      "outputs": [],
      "source": [
        "banking_lst = []\n",
        "for ticker, banking_df in fundamental_df[fundamental_df.ticker.isin(banking_services_inner_joined)].groupby(by=\"ticker\"):\n",
        "    banking_lst.append((ticker, banking_df.count(axis=0, numeric_only=True).sum()))\n",
        "\n",
        "sorted_by_non_na_count = sorted(banking_lst, key=lambda tup: tup[1])"
      ]
    },
    {
      "cell_type": "code",
      "execution_count": null,
      "metadata": {
        "colab": {
          "base_uri": "https://localhost:8080/",
          "height": 297
        },
        "id": "3epusg-Bf_WS",
        "outputId": "58bc5e7d-3d03-4ca6-f865-ae1517ccd2c7"
      },
      "outputs": [
        {
          "output_type": "stream",
          "name": "stdout",
          "text": [
            "679\n"
          ]
        },
        {
          "output_type": "display_data",
          "data": {
            "text/plain": [
              "<Figure size 432x288 with 1 Axes>"
            ],
            "image/png": "[encoded data removed]"
          },
          "metadata": {
            "needs_background": "light"
          }
        }
      ],
      "source": [
        "banking_services_sorted = list(list(zip(*sorted_by_non_na_count))[0])\n",
        "entries = list(list(zip(*sorted_by_non_na_count))[1])\n",
        "\n",
        "cutoff_idex = len(banking_services_sorted) - len(oil_inner_joined)\n",
        "print(cutoff_idex)\n",
        "cutoff_entries = entries[:cutoff_idex] + [None]*(len(banking_services_sorted)-cutoff_idex)\n",
        "kept_entries = [None]*(cutoff_idex) + entries[cutoff_idex:] \n",
        "\n",
        "plt.vlines(cutoff_idex, 0, max(entries), color=\"grey\", linestyle=\"-.\")\n",
        "plt.hlines(entries[cutoff_idex], 0, len(banking_services_sorted), color=\"grey\", linestyle=\"-.\")\n",
        "\n",
        "plt.ylabel(\"Number of fundamental entries\")\n",
        "plt.xlabel(\"Company sorted by fundamental entries\")\n",
        "\n",
        "plt.plot([i for i in range(len(banking_services_sorted))], kept_entries, label=\"Banking fundamentals\")\n",
        "plt.plot([i for i in range(len(banking_services_sorted))], cutoff_entries, label=\"Cut data\")\n",
        "plt.legend(frameon=False);"
      ]
    },
    {
      "cell_type": "code",
      "execution_count": null,
      "metadata": {
        "colab": {
          "base_uri": "https://localhost:8080/"
        },
        "id": "VIyGxyKTk3wl",
        "outputId": "dae1cbfc-7b86-4bc8-fa29-4e3927959bb9"
      },
      "outputs": [
        {
          "output_type": "stream",
          "name": "stdout",
          "text": [
            "Hurray now we have matching length of data with 923 companies of each sector\n"
          ]
        }
      ],
      "source": [
        "signal_rich_banking = banking_services_sorted[cutoff_idex:]\n",
        "\n",
        "if len(signal_rich_banking) == len(oil_inner_joined):\n",
        "    print(f\"Hurray now we have matching length of data with {len(oil_inner_joined)} companies of each sector\") "
      ]
    },
    {
      "cell_type": "code",
      "execution_count": null,
      "metadata": {
        "id": "y96ntjbEpsRQ"
      },
      "outputs": [],
      "source": [
        "banking_oil_equal_tickers = full_data_companies & (set(signal_rich_banking) | set(oil_inner_joined.to_list()) )"
      ]
    },
    {
      "cell_type": "markdown",
      "metadata": {
        "id": "Q0LS11l97am_"
      },
      "source": [
        "## Inspect the raw data\n",
        "\n",
        "To know what we're working with"
      ]
    },
    {
      "cell_type": "code",
      "execution_count": null,
      "metadata": {
        "id": "IwLo7CT5vIVM"
      },
      "outputs": [],
      "source": [
        "fundamental_df = fundamental_df.rename(columns=column_mapping).astype({\"announce_date\":\"datetime64[ns]\"})\n",
        "meta_df = meta_df.rename(columns=column_mapping)\n",
        "\n",
        "full_data_fundamentals = fundamental_df[fundamental_df[\"ticker\"].isin(banking_oil_equal_tickers)]\n",
        "full_data_stock = stock_df[stock_df[\"ticker\"].isin(banking_oil_equal_tickers)]\n",
        "full_data_meta = meta_df[meta_df[\"ticker\"].isin(banking_oil_equal_tickers)]"
      ]
    },
    {
      "cell_type": "code",
      "source": [
        "full_data_fundamentals = full_data_fundamentals.iloc[:,1:] "
      ],
      "metadata": {
        "id": "dnLw_uY02ew_"
      },
      "execution_count": null,
      "outputs": []
    },
    {
      "cell_type": "code",
      "execution_count": null,
      "metadata": {
        "colab": {
          "base_uri": "https://localhost:8080/"
        },
        "id": "8f9zWG0XRs_k",
        "outputId": "fe3c0b37-5d3e-42c3-d252-72fbeac55371"
      },
      "outputs": [
        {
          "output_type": "execute_result",
          "data": {
            "text/plain": [
              "(7474182, 1141603, 1773)"
            ]
          },
          "metadata": {},
          "execution_count": 22
        }
      ],
      "source": [
        "(\n",
        "    full_data_stock.shape[0],\n",
        "    full_data_fundamentals.count(axis=0, numeric_only=True).sum(),\n",
        "    full_data_meta.count(axis=0, numeric_only=True).sum(),\n",
        ")"
      ]
    },
    {
      "cell_type": "code",
      "source": [
        "inner_joined_without_augmentation = full_data_fundamentals.loc[:,:\"short_term_debt_p_assets\"]"
      ],
      "metadata": {
        "id": "4j8Oj0LgE0eF"
      },
      "execution_count": null,
      "outputs": []
    },
    {
      "cell_type": "code",
      "source": [
        "print(\"\\t   ----STOCK----\")\n",
        "print(f\"stock in entries left: {full_data_stock.shape[0]:,}\")\n",
        "\n",
        "print(\"\\n\\t----FUNDAMENTALS----\")\n",
        "print(f\"datapoints in rapports left: {inner_joined_without_augmentation.count(axis=0, numeric_only=True).sum():,}\")\n",
        "print(f\"quarterly rapports left: {inner_joined_without_augmentation.shape[0]:,}\")\n",
        "print(f\"average entries per rapports left: {inner_joined_without_augmentation.count(axis=0, numeric_only=True).sum()/full_data_fundamentals.shape[0]}\") "
      ],
      "metadata": {
        "colab": {
          "base_uri": "https://localhost:8080/"
        },
        "id": "DRWFyCA3EQA-",
        "outputId": "cb936e23-6737-4631-c067-dfe31e45ab0c"
      },
      "execution_count": null,
      "outputs": [
        {
          "output_type": "stream",
          "name": "stdout",
          "text": [
            "\t   ----STOCK----\n",
            "stock in entries left: 7,474,182\n",
            "\n",
            "\t----FUNDAMENTALS----\n",
            "datapoints in rapports left: 917,887\n",
            "quarterly rapports left: 104,178\n",
            "average entries per rapports left: 8.810756589683043\n"
          ]
        }
      ]
    },
    {
      "cell_type": "code",
      "execution_count": null,
      "metadata": {
        "colab": {
          "base_uri": "https://localhost:8080/"
        },
        "id": "fB8qxW61Czwn",
        "outputId": "e730a0c7-cc2b-4302-cf38-85194536f575"
      },
      "outputs": [
        {
          "output_type": "stream",
          "name": "stderr",
          "text": [
            "100%|██████████| 1846/1846 [00:31<00:00, 58.02it/s]\n"
          ]
        }
      ],
      "source": [
        "full_data_fundamentals[(full_data_fundamentals.duplicated(subset=['ticker','announce_date', \"date\"] , keep=False))]\n",
        "forward_filled_df = pd.DataFrame(columns=full_data_fundamentals.columns) \n",
        "\n",
        "for ric in tqdm(full_data_fundamentals[\"ticker\"].unique()):\n",
        "    forward_filled_df = pd.concat( [forward_filled_df, full_data_fundamentals[full_data_fundamentals[\"ticker\"] == ric].ffill(axis = 0)], axis=0)"
      ]
    },
    {
      "cell_type": "code",
      "source": [
        "print(\"\\t   ----STOCK----\")\n",
        "print(f\"stock in entries left: {full_data_stock.shape[0]:,}\")\n",
        "print(f\"stock values na: {full_data_stock.market_cap.isna().sum().sum():,}\")\n",
        "\n",
        "print(\"\\n\\t----FUNDAMENTALS----\")\n",
        "print(f\"datapoints in rapports left: {forward_filled_df.count(axis=0, numeric_only=True).sum():,}\")\n",
        "print(f\"quarterly rapports left: {forward_filled_df.shape[0]:,}\")\n",
        "print(f\"average entries per rapports left: {forward_filled_df.count(axis=0, numeric_only=True).sum()/forward_filled_df.shape[0]}\") "
      ],
      "metadata": {
        "colab": {
          "base_uri": "https://localhost:8080/"
        },
        "id": "AUK7dHXaCg5E",
        "outputId": "6e2b99d3-e04e-460f-dac4-82a9af942d71"
      },
      "execution_count": null,
      "outputs": [
        {
          "output_type": "stream",
          "name": "stdout",
          "text": [
            "\t   ----STOCK----\n",
            "stock in entries left: 7,474,182\n",
            "stock values na: 8\n",
            "\n",
            "\t----FUNDAMENTALS----\n",
            "datapoints in rapports left: 1,206,983\n",
            "quarterly rapports left: 104,178\n",
            "average entries per rapports left: 11.58577626754209\n"
          ]
        }
      ]
    },
    {
      "cell_type": "markdown",
      "source": [
        "Wow! After this rather strict datacleaning process we have 14.9m day closing prices for 1846 companies, "
      ],
      "metadata": {
        "id": "lbhexWwcKd1f"
      }
    },
    {
      "cell_type": "markdown",
      "metadata": {
        "id": "r6j_cgwPGmC4"
      },
      "source": [
        "## Upload full data to WandB"
      ]
    },
    {
      "cell_type": "code",
      "source": [
        "bogus_stock_entries = full_data_stock[(full_data_stock.groupby(by=\"ticker\").market_cap.pct_change() > 10)  | (full_data_stock.groupby(by=\"ticker\").market_cap.pct_change() < -.99)].ticker.unique()\n",
        "full_data_stock = full_data_stock[~full_data_stock.ticker.isin(bogus_stock_entries)] "
      ],
      "metadata": {
        "id": "jrx1K-XY8Utn"
      },
      "execution_count": null,
      "outputs": []
    },
    {
      "cell_type": "code",
      "source": [
        "full_data_stock = full_data_stock[~full_data_stock.market_cap.isnull()] \n",
        "legal_tickers = full_data_stock.ticker "
      ],
      "metadata": {
        "id": "n6mMt_wQvxsE"
      },
      "execution_count": null,
      "outputs": []
    },
    {
      "cell_type": "code",
      "source": [
        "none_dates = forward_filled_df.date.isnull()\n",
        "forward_filled_df.loc[none_dates,\"date\"] = forward_filled_df.loc[none_dates, \"announce_date\"]  \n",
        "forward_filled_df[\"date\"] = forward_filled_df[\"date\"].astype(np.datetime64,) \n",
        "\n"
      ],
      "metadata": {
        "id": "n6zjz8jDxwmN",
        "colab": {
          "base_uri": "https://localhost:8080/"
        },
        "outputId": "b052a9c1-2b93-46fa-ed1c-f4617f9ba080"
      },
      "execution_count": null,
      "outputs": [
        {
          "output_type": "stream",
          "name": "stdout",
          "text": [
            "(104178, 21)\n",
            "(103201, 21)\n"
          ]
        }
      ]
    },
    {
      "cell_type": "code",
      "source": [
        "forward_filled_df = forward_filled_df[forward_filled_df[\"ticker\"].isin(legal_tickers)]\n",
        "full_data_meta = full_data_meta[full_data_meta[\"ticker\"].isin(legal_tickers)]\n",
        "\n",
        "forward_filled_df = forward_filled_df[(forward_filled_df.total_assets != 0) | (forward_filled_df.total_assets.isna())]"
      ],
      "metadata": {
        "id": "l14XdpHP-_1z"
      },
      "execution_count": null,
      "outputs": []
    },
    {
      "cell_type": "code",
      "source": [
        "print(\"\\t   ----STOCK----\")\n",
        "print(f\"stock entries left: {full_data_stock.shape[0]:,}\")\n",
        "print(f\"stock values na: {full_data_stock.market_cap.isna().sum().sum():,}\")\n",
        "\n",
        "print(\"\\n\\t----FUNDAMENTALS----\")\n",
        "print(f\"datapoints in rapports left: {forward_filled_df.count(axis=0, numeric_only=True).sum():,}\")\n",
        "print(f\"quarterly rapports left: {forward_filled_df.shape[0]:,}\")\n",
        "print(f\"average entries per rapports left: {forward_filled_df.count(axis=0, numeric_only=True).sum()/forward_filled_df.shape[0]}\") "
      ],
      "metadata": {
        "colab": {
          "base_uri": "https://localhost:8080/"
        },
        "id": "OTPgfzOY4qZI",
        "outputId": "984f662a-d508-4d82-e1c8-83816a6c62ef"
      },
      "execution_count": null,
      "outputs": [
        {
          "output_type": "stream",
          "name": "stdout",
          "text": [
            "\t   ----STOCK----\n",
            "stock entries left: 6,969,379\n",
            "stock values na: 0\n",
            "\n",
            "\t----FUNDAMENTALS----\n",
            "datapoints in rapports left: 1,122,395\n",
            "quarterly rapports left: 97,266\n",
            "average entries per rapports left: 11.539438241523246\n"
          ]
        }
      ]
    },
    {
      "cell_type": "code",
      "source": [
        "forward_filled_df"
      ],
      "metadata": {
        "colab": {
          "base_uri": "https://localhost:8080/",
          "height": 661
        },
        "id": "H3gE3eiRkirY",
        "outputId": "e9615e28-aa13-4abc-c210-6f931146f8d1"
      },
      "execution_count": null,
      "outputs": [
        {
          "output_type": "execute_result",
          "data": {
            "text/plain": [
              "          ticker                  date period_end_date announce_date  \\\n",
              "0        OMVV.VI  2000-06-30T00:00:00Z      2000-06-30    2000-10-23   \n",
              "1        OMVV.VI  2000-12-31T00:00:00Z      2000-12-31    2001-04-30   \n",
              "2        OMVV.VI  2001-03-31T00:00:00Z      2001-03-31    2001-11-15   \n",
              "3        OMVV.VI  2001-06-30T00:00:00Z      2001-06-30    2001-11-15   \n",
              "4        OMVV.VI  2001-09-30T00:00:00Z      2001-09-30    2001-11-08   \n",
              "...          ...                   ...             ...           ...   \n",
              "145362  QNBFL.IS  2020-12-31T00:00:00Z      2020-12-31    2021-01-27   \n",
              "145363  QNBFL.IS  2021-03-31T00:00:00Z      2021-03-31    2021-04-27   \n",
              "145364  QNBFL.IS  2021-06-30T00:00:00Z      2021-06-30    2021-07-28   \n",
              "145365  QNBFL.IS  2021-09-30T00:00:00Z      2021-09-30    2021-10-26   \n",
              "145366  QNBFL.IS  2021-12-31T00:00:00Z      2021-12-31    2022-02-01   \n",
              "\n",
              "                 revenue      gross_profit            ebitda  \\\n",
              "0       1591395023.28372  230190745.555143  181045434.200878   \n",
              "1       1938098647.94837  372273990.672257  228378009.139304   \n",
              "2        1675754784.0278  270127135.374168  246253937.336036   \n",
              "3       1704178457.61632  261593371.574251  199438283.407691   \n",
              "4       1692966706.46458   247021992.14371  223213423.136865   \n",
              "...                  ...               ...               ...   \n",
              "145362    22561625.40366   23938961.038961   19901776.103337   \n",
              "145363   22040660.367059   23938961.038961   19429517.582697   \n",
              "145364   22471477.647437   23938961.038961   19866148.879212   \n",
              "145365   23414395.354595   23938961.038961   20764106.142108   \n",
              "145366   20297384.369297   23938961.038961   18528097.566104   \n",
              "\n",
              "                    ebit      net_income              fcf  ...  \\\n",
              "0       105530002.190288            <NA>             <NA>  ...   \n",
              "1       132398360.578508            <NA>             <NA>  ...   \n",
              "2       174937923.894256            <NA>             <NA>  ...   \n",
              "3       139758657.318887            <NA>             <NA>  ...   \n",
              "4        133206040.77615            <NA>             <NA>  ...   \n",
              "...                  ...             ...              ...  ...   \n",
              "145362   19684876.210979   4358783.68047 -55370641.251227  ...   \n",
              "145363   19229733.499921  5300725.873309   2229011.378327  ...   \n",
              "145364   19660604.110895  5087399.819672 -19495675.682312  ...   \n",
              "145365   20558956.584367  5429177.975195 -11886504.625681  ...   \n",
              "145366   18373322.519356  6798117.716261 -19144963.345648  ...   \n",
              "\n",
              "        total_current_assets  total_liabilites  total_current_liabilities  \\\n",
              "0                       <NA>              <NA>                       <NA>   \n",
              "1                       <NA>              <NA>                       <NA>   \n",
              "2                       <NA>              <NA>                       <NA>   \n",
              "3                       <NA>              <NA>                       <NA>   \n",
              "4                       <NA>              <NA>                       <NA>   \n",
              "...                      ...               ...                        ...   \n",
              "145362      976299863.343528  914465419.806243                        0.0   \n",
              "145363      976299863.343528   883333373.76727                        0.0   \n",
              "145364      976299863.343528  890567919.390604                        0.0   \n",
              "145365      976299863.343528  956602934.887804                        0.0   \n",
              "145366      976299863.343528  875527969.901097                        0.0   \n",
              "\n",
              "        long_term_debt_p_assets  short_term_debt_p_assets  \\\n",
              "0                          <NA>                      <NA>   \n",
              "1                          <NA>                      <NA>   \n",
              "2                          <NA>                      <NA>   \n",
              "3                          <NA>                      <NA>   \n",
              "4                          <NA>                      <NA>   \n",
              "...                         ...                       ...   \n",
              "145362                 79.43442                  16.24148   \n",
              "145363                 78.55885                  16.24148   \n",
              "145364                 46.78473                  23.34352   \n",
              "145365                 57.43615                   17.6007   \n",
              "145366                 48.95672                  14.50307   \n",
              "\n",
              "        gross_profit_p_revenue  ebitda_p_revenue  ebit_p_revenue  \\\n",
              "0                     0.144647          0.113765        0.066313   \n",
              "1                     0.192082          0.117836        0.068314   \n",
              "2                     0.161197          0.146951        0.104394   \n",
              "3                     0.153501          0.117029        0.082009   \n",
              "4                     0.145911          0.131847        0.078682   \n",
              "...                        ...               ...             ...   \n",
              "145362                1.000000          0.882107        0.872494   \n",
              "145363                1.000000          0.881531        0.872466   \n",
              "145364                1.000000          0.884061        0.874914   \n",
              "145365                1.000000          0.886809        0.878048   \n",
              "145366                1.000000          0.912832        0.905206   \n",
              "\n",
              "        net_income_p_revenue  fcf_p_revenue  \n",
              "0                        NaN            NaN  \n",
              "1                        NaN            NaN  \n",
              "2                        NaN            NaN  \n",
              "3                        NaN            NaN  \n",
              "4                        NaN            NaN  \n",
              "...                      ...            ...  \n",
              "145362              0.193195      -2.454196  \n",
              "145363              0.240498       0.101132  \n",
              "145364              0.226394      -0.867574  \n",
              "145365              0.231874      -0.507658  \n",
              "145366              0.334926      -0.943223  \n",
              "\n",
              "[97266 rows x 21 columns]"
            ],
            "text/html": [
              "\n",
              "  <div id=\"df-ada8592b-0d57-41fa-8a1d-054f67f1e02e\">\n",
              "    <div class=\"colab-df-container\">\n",
              "      <div>\n",
              "<style scoped>\n",
              "    .dataframe tbody tr th:only-of-type {\n",
              "        vertical-align: middle;\n",
              "    }\n",
              "\n",
              "    .dataframe tbody tr th {\n",
              "        vertical-align: top;\n",
              "    }\n",
              "\n",
              "    .dataframe thead th {\n",
              "        text-align: right;\n",
              "    }\n",
              "</style>\n",
              "<table border=\"1\" class=\"dataframe\">\n",
              "  <thead>\n",
              "    <tr style=\"text-align: right;\">\n",
              "      <th></th>\n",
              "      <th>ticker</th>\n",
              "      <th>date</th>\n",
              "      <th>period_end_date</th>\n",
              "      <th>announce_date</th>\n",
              "      <th>revenue</th>\n",
              "      <th>gross_profit</th>\n",
              "      <th>ebitda</th>\n",
              "      <th>ebit</th>\n",
              "      <th>net_income</th>\n",
              "      <th>fcf</th>\n",
              "      <th>...</th>\n",
              "      <th>total_current_assets</th>\n",
              "      <th>total_liabilites</th>\n",
              "      <th>total_current_liabilities</th>\n",
              "      <th>long_term_debt_p_assets</th>\n",
              "      <th>short_term_debt_p_assets</th>\n",
              "      <th>gross_profit_p_revenue</th>\n",
              "      <th>ebitda_p_revenue</th>\n",
              "      <th>ebit_p_revenue</th>\n",
              "      <th>net_income_p_revenue</th>\n",
              "      <th>fcf_p_revenue</th>\n",
              "    </tr>\n",
              "  </thead>\n",
              "  <tbody>\n",
              "    <tr>\n",
              "      <th>0</th>\n",
              "      <td>OMVV.VI</td>\n",
              "      <td>2000-06-30T00:00:00Z</td>\n",
              "      <td>2000-06-30</td>\n",
              "      <td>2000-10-23</td>\n",
              "      <td>1591395023.28372</td>\n",
              "      <td>230190745.555143</td>\n",
              "      <td>181045434.200878</td>\n",
              "      <td>105530002.190288</td>\n",
              "      <td>&lt;NA&gt;</td>\n",
              "      <td>&lt;NA&gt;</td>\n",
              "      <td>...</td>\n",
              "      <td>&lt;NA&gt;</td>\n",
              "      <td>&lt;NA&gt;</td>\n",
              "      <td>&lt;NA&gt;</td>\n",
              "      <td>&lt;NA&gt;</td>\n",
              "      <td>&lt;NA&gt;</td>\n",
              "      <td>0.144647</td>\n",
              "      <td>0.113765</td>\n",
              "      <td>0.066313</td>\n",
              "      <td>NaN</td>\n",
              "      <td>NaN</td>\n",
              "    </tr>\n",
              "    <tr>\n",
              "      <th>1</th>\n",
              "      <td>OMVV.VI</td>\n",
              "      <td>2000-12-31T00:00:00Z</td>\n",
              "      <td>2000-12-31</td>\n",
              "      <td>2001-04-30</td>\n",
              "      <td>1938098647.94837</td>\n",
              "      <td>372273990.672257</td>\n",
              "      <td>228378009.139304</td>\n",
              "      <td>132398360.578508</td>\n",
              "      <td>&lt;NA&gt;</td>\n",
              "      <td>&lt;NA&gt;</td>\n",
              "      <td>...</td>\n",
              "      <td>&lt;NA&gt;</td>\n",
              "      <td>&lt;NA&gt;</td>\n",
              "      <td>&lt;NA&gt;</td>\n",
              "      <td>&lt;NA&gt;</td>\n",
              "      <td>&lt;NA&gt;</td>\n",
              "      <td>0.192082</td>\n",
              "      <td>0.117836</td>\n",
              "      <td>0.068314</td>\n",
              "      <td>NaN</td>\n",
              "      <td>NaN</td>\n",
              "    </tr>\n",
              "    <tr>\n",
              "      <th>2</th>\n",
              "      <td>OMVV.VI</td>\n",
              "      <td>2001-03-31T00:00:00Z</td>\n",
              "      <td>2001-03-31</td>\n",
              "      <td>2001-11-15</td>\n",
              "      <td>1675754784.0278</td>\n",
              "      <td>270127135.374168</td>\n",
              "      <td>246253937.336036</td>\n",
              "      <td>174937923.894256</td>\n",
              "      <td>&lt;NA&gt;</td>\n",
              "      <td>&lt;NA&gt;</td>\n",
              "      <td>...</td>\n",
              "      <td>&lt;NA&gt;</td>\n",
              "      <td>&lt;NA&gt;</td>\n",
              "      <td>&lt;NA&gt;</td>\n",
              "      <td>&lt;NA&gt;</td>\n",
              "      <td>&lt;NA&gt;</td>\n",
              "      <td>0.161197</td>\n",
              "      <td>0.146951</td>\n",
              "      <td>0.104394</td>\n",
              "      <td>NaN</td>\n",
              "      <td>NaN</td>\n",
              "    </tr>\n",
              "    <tr>\n",
              "      <th>3</th>\n",
              "      <td>OMVV.VI</td>\n",
              "      <td>2001-06-30T00:00:00Z</td>\n",
              "      <td>2001-06-30</td>\n",
              "      <td>2001-11-15</td>\n",
              "      <td>1704178457.61632</td>\n",
              "      <td>261593371.574251</td>\n",
              "      <td>199438283.407691</td>\n",
              "      <td>139758657.318887</td>\n",
              "      <td>&lt;NA&gt;</td>\n",
              "      <td>&lt;NA&gt;</td>\n",
              "      <td>...</td>\n",
              "      <td>&lt;NA&gt;</td>\n",
              "      <td>&lt;NA&gt;</td>\n",
              "      <td>&lt;NA&gt;</td>\n",
              "      <td>&lt;NA&gt;</td>\n",
              "      <td>&lt;NA&gt;</td>\n",
              "      <td>0.153501</td>\n",
              "      <td>0.117029</td>\n",
              "      <td>0.082009</td>\n",
              "      <td>NaN</td>\n",
              "      <td>NaN</td>\n",
              "    </tr>\n",
              "    <tr>\n",
              "      <th>4</th>\n",
              "      <td>OMVV.VI</td>\n",
              "      <td>2001-09-30T00:00:00Z</td>\n",
              "      <td>2001-09-30</td>\n",
              "      <td>2001-11-08</td>\n",
              "      <td>1692966706.46458</td>\n",
              "      <td>247021992.14371</td>\n",
              "      <td>223213423.136865</td>\n",
              "      <td>133206040.77615</td>\n",
              "      <td>&lt;NA&gt;</td>\n",
              "      <td>&lt;NA&gt;</td>\n",
              "      <td>...</td>\n",
              "      <td>&lt;NA&gt;</td>\n",
              "      <td>&lt;NA&gt;</td>\n",
              "      <td>&lt;NA&gt;</td>\n",
              "      <td>&lt;NA&gt;</td>\n",
              "      <td>&lt;NA&gt;</td>\n",
              "      <td>0.145911</td>\n",
              "      <td>0.131847</td>\n",
              "      <td>0.078682</td>\n",
              "      <td>NaN</td>\n",
              "      <td>NaN</td>\n",
              "    </tr>\n",
              "    <tr>\n",
              "      <th>...</th>\n",
              "      <td>...</td>\n",
              "      <td>...</td>\n",
              "      <td>...</td>\n",
              "      <td>...</td>\n",
              "      <td>...</td>\n",
              "      <td>...</td>\n",
              "      <td>...</td>\n",
              "      <td>...</td>\n",
              "      <td>...</td>\n",
              "      <td>...</td>\n",
              "      <td>...</td>\n",
              "      <td>...</td>\n",
              "      <td>...</td>\n",
              "      <td>...</td>\n",
              "      <td>...</td>\n",
              "      <td>...</td>\n",
              "      <td>...</td>\n",
              "      <td>...</td>\n",
              "      <td>...</td>\n",
              "      <td>...</td>\n",
              "      <td>...</td>\n",
              "    </tr>\n",
              "    <tr>\n",
              "      <th>145362</th>\n",
              "      <td>QNBFL.IS</td>\n",
              "      <td>2020-12-31T00:00:00Z</td>\n",
              "      <td>2020-12-31</td>\n",
              "      <td>2021-01-27</td>\n",
              "      <td>22561625.40366</td>\n",
              "      <td>23938961.038961</td>\n",
              "      <td>19901776.103337</td>\n",
              "      <td>19684876.210979</td>\n",
              "      <td>4358783.68047</td>\n",
              "      <td>-55370641.251227</td>\n",
              "      <td>...</td>\n",
              "      <td>976299863.343528</td>\n",
              "      <td>914465419.806243</td>\n",
              "      <td>0.0</td>\n",
              "      <td>79.43442</td>\n",
              "      <td>16.24148</td>\n",
              "      <td>1.000000</td>\n",
              "      <td>0.882107</td>\n",
              "      <td>0.872494</td>\n",
              "      <td>0.193195</td>\n",
              "      <td>-2.454196</td>\n",
              "    </tr>\n",
              "    <tr>\n",
              "      <th>145363</th>\n",
              "      <td>QNBFL.IS</td>\n",
              "      <td>2021-03-31T00:00:00Z</td>\n",
              "      <td>2021-03-31</td>\n",
              "      <td>2021-04-27</td>\n",
              "      <td>22040660.367059</td>\n",
              "      <td>23938961.038961</td>\n",
              "      <td>19429517.582697</td>\n",
              "      <td>19229733.499921</td>\n",
              "      <td>5300725.873309</td>\n",
              "      <td>2229011.378327</td>\n",
              "      <td>...</td>\n",
              "      <td>976299863.343528</td>\n",
              "      <td>883333373.76727</td>\n",
              "      <td>0.0</td>\n",
              "      <td>78.55885</td>\n",
              "      <td>16.24148</td>\n",
              "      <td>1.000000</td>\n",
              "      <td>0.881531</td>\n",
              "      <td>0.872466</td>\n",
              "      <td>0.240498</td>\n",
              "      <td>0.101132</td>\n",
              "    </tr>\n",
              "    <tr>\n",
              "      <th>145364</th>\n",
              "      <td>QNBFL.IS</td>\n",
              "      <td>2021-06-30T00:00:00Z</td>\n",
              "      <td>2021-06-30</td>\n",
              "      <td>2021-07-28</td>\n",
              "      <td>22471477.647437</td>\n",
              "      <td>23938961.038961</td>\n",
              "      <td>19866148.879212</td>\n",
              "      <td>19660604.110895</td>\n",
              "      <td>5087399.819672</td>\n",
              "      <td>-19495675.682312</td>\n",
              "      <td>...</td>\n",
              "      <td>976299863.343528</td>\n",
              "      <td>890567919.390604</td>\n",
              "      <td>0.0</td>\n",
              "      <td>46.78473</td>\n",
              "      <td>23.34352</td>\n",
              "      <td>1.000000</td>\n",
              "      <td>0.884061</td>\n",
              "      <td>0.874914</td>\n",
              "      <td>0.226394</td>\n",
              "      <td>-0.867574</td>\n",
              "    </tr>\n",
              "    <tr>\n",
              "      <th>145365</th>\n",
              "      <td>QNBFL.IS</td>\n",
              "      <td>2021-09-30T00:00:00Z</td>\n",
              "      <td>2021-09-30</td>\n",
              "      <td>2021-10-26</td>\n",
              "      <td>23414395.354595</td>\n",
              "      <td>23938961.038961</td>\n",
              "      <td>20764106.142108</td>\n",
              "      <td>20558956.584367</td>\n",
              "      <td>5429177.975195</td>\n",
              "      <td>-11886504.625681</td>\n",
              "      <td>...</td>\n",
              "      <td>976299863.343528</td>\n",
              "      <td>956602934.887804</td>\n",
              "      <td>0.0</td>\n",
              "      <td>57.43615</td>\n",
              "      <td>17.6007</td>\n",
              "      <td>1.000000</td>\n",
              "      <td>0.886809</td>\n",
              "      <td>0.878048</td>\n",
              "      <td>0.231874</td>\n",
              "      <td>-0.507658</td>\n",
              "    </tr>\n",
              "    <tr>\n",
              "      <th>145366</th>\n",
              "      <td>QNBFL.IS</td>\n",
              "      <td>2021-12-31T00:00:00Z</td>\n",
              "      <td>2021-12-31</td>\n",
              "      <td>2022-02-01</td>\n",
              "      <td>20297384.369297</td>\n",
              "      <td>23938961.038961</td>\n",
              "      <td>18528097.566104</td>\n",
              "      <td>18373322.519356</td>\n",
              "      <td>6798117.716261</td>\n",
              "      <td>-19144963.345648</td>\n",
              "      <td>...</td>\n",
              "      <td>976299863.343528</td>\n",
              "      <td>875527969.901097</td>\n",
              "      <td>0.0</td>\n",
              "      <td>48.95672</td>\n",
              "      <td>14.50307</td>\n",
              "      <td>1.000000</td>\n",
              "      <td>0.912832</td>\n",
              "      <td>0.905206</td>\n",
              "      <td>0.334926</td>\n",
              "      <td>-0.943223</td>\n",
              "    </tr>\n",
              "  </tbody>\n",
              "</table>\n",
              "<p>97266 rows × 21 columns</p>\n",
              "</div>\n",
              "      <button class=\"colab-df-convert\" onclick=\"convertToInteractive('df-ada8592b-0d57-41fa-8a1d-054f67f1e02e')\"\n",
              "              title=\"Convert this dataframe to an interactive table.\"\n",
              "              style=\"display:none;\">\n",
              "        \n",
              "  <svg xmlns=\"http://www.w3.org/2000/svg\" height=\"24px\"viewBox=\"0 0 24 24\"\n",
              "       width=\"24px\">\n",
              "    <path d=\"M0 0h24v24H0V0z\" fill=\"none\"/>\n",
              "    <path d=\"M18.56 5.44l.94 2.06.94-2.06 2.06-.94-2.06-.94-.94-2.06-.94 2.06-2.06.94zm-11 1L8.5 8.5l.94-2.06 2.06-.94-2.06-.94L8.5 2.5l-.94 2.06-2.06.94zm10 10l.94 2.06.94-2.06 2.06-.94-2.06-.94-.94-2.06-.94 2.06-2.06.94z\"/><path d=\"M17.41 7.96l-1.37-1.37c-.4-.4-.92-.59-1.43-.59-.52 0-1.04.2-1.43.59L10.3 9.45l-7.72 7.72c-.78.78-.78 2.05 0 2.83L4 21.41c.39.39.9.59 1.41.59.51 0 1.02-.2 1.41-.59l7.78-7.78 2.81-2.81c.8-.78.8-2.07 0-2.86zM5.41 20L4 18.59l7.72-7.72 1.47 1.35L5.41 20z\"/>\n",
              "  </svg>\n",
              "      </button>\n",
              "      \n",
              "  <style>\n",
              "    .colab-df-container {\n",
              "      display:flex;\n",
              "      flex-wrap:wrap;\n",
              "      gap: 12px;\n",
              "    }\n",
              "\n",
              "    .colab-df-convert {\n",
              "      background-color: #E8F0FE;\n",
              "      border: none;\n",
              "      border-radius: 50%;\n",
              "      cursor: pointer;\n",
              "      display: none;\n",
              "      fill: #1967D2;\n",
              "      height: 32px;\n",
              "      padding: 0 0 0 0;\n",
              "      width: 32px;\n",
              "    }\n",
              "\n",
              "    .colab-df-convert:hover {\n",
              "      background-color: #E2EBFA;\n",
              "      box-shadow: 0px 1px 2px rgba(60, 64, 67, 0.3), 0px 1px 3px 1px rgba(60, 64, 67, 0.15);\n",
              "      fill: #174EA6;\n",
              "    }\n",
              "\n",
              "    [theme=dark] .colab-df-convert {\n",
              "      background-color: #3B4455;\n",
              "      fill: #D2E3FC;\n",
              "    }\n",
              "\n",
              "    [theme=dark] .colab-df-convert:hover {\n",
              "      background-color: #434B5C;\n",
              "      box-shadow: 0px 1px 3px 1px rgba(0, 0, 0, 0.15);\n",
              "      filter: drop-shadow(0px 1px 2px rgba(0, 0, 0, 0.3));\n",
              "      fill: #FFFFFF;\n",
              "    }\n",
              "  </style>\n",
              "\n",
              "      <script>\n",
              "        const buttonEl =\n",
              "          document.querySelector('#df-ada8592b-0d57-41fa-8a1d-054f67f1e02e button.colab-df-convert');\n",
              "        buttonEl.style.display =\n",
              "          google.colab.kernel.accessAllowed ? 'block' : 'none';\n",
              "\n",
              "        async function convertToInteractive(key) {\n",
              "          const element = document.querySelector('#df-ada8592b-0d57-41fa-8a1d-054f67f1e02e');\n",
              "          const dataTable =\n",
              "            await google.colab.kernel.invokeFunction('convertToInteractive',\n",
              "                                                     [key], {});\n",
              "          if (!dataTable) return;\n",
              "\n",
              "          const docLinkHtml = 'Like what you see? Visit the ' +\n",
              "            '<a target=\"_blank\" href=https://colab.research.google.com/notebooks/data_table.ipynb>data table notebook</a>'\n",
              "            + ' to learn more about interactive tables.';\n",
              "          element.innerHTML = '';\n",
              "          dataTable['output_type'] = 'display_data';\n",
              "          await google.colab.output.renderOutput(dataTable, element);\n",
              "          const docLink = document.createElement('div');\n",
              "          docLink.innerHTML = docLinkHtml;\n",
              "          element.appendChild(docLink);\n",
              "        }\n",
              "      </script>\n",
              "    </div>\n",
              "  </div>\n",
              "  "
            ]
          },
          "metadata": {},
          "execution_count": 53
        }
      ]
    },
    {
      "cell_type": "code",
      "execution_count": null,
      "metadata": {
        "id": "5rDKdq95EU3O",
        "colab": {
          "base_uri": "https://localhost:8080/",
          "height": 141,
          "referenced_widgets": [
            "b7a617df48f0467b82d086b67894ab0c",
            "908f71a148b64197ad44991c2445e652",
            "2e6d4653dc2844bebd953aa6ca6ad422",
            "dbb8ae109cb74335bcc5d69bf39706b7",
            "e717c43c03ae4b0d80b22b08ba3bb767",
            "c99619d6c5d543c1bf8540e2a624d38f",
            "ca73ac34540f40729acb4d16face706d",
            "4264f04db2b84bf5bbb81f97098761da"
          ]
        },
        "outputId": "c50a7a1b-1125-4916-9a11-b1667a53b666"
      },
      "outputs": [
        {
          "output_type": "display_data",
          "data": {
            "text/plain": [
              "<IPython.core.display.HTML object>"
            ],
            "text/html": [
              "Tracking run with wandb version 0.12.17"
            ]
          },
          "metadata": {}
        },
        {
          "output_type": "display_data",
          "data": {
            "text/plain": [
              "<IPython.core.display.HTML object>"
            ],
            "text/html": [
              "Run data is saved locally in <code>/content/wandb/run-20220529_094526-15geyw68</code>"
            ]
          },
          "metadata": {}
        },
        {
          "output_type": "display_data",
          "data": {
            "text/plain": [
              "<IPython.core.display.HTML object>"
            ],
            "text/html": [
              "Syncing run <strong><a href=\"https://wandb.ai/krankile/master/runs/15geyw68\" target=\"_blank\">flowing-sea-24</a></strong> to <a href=\"https://wandb.ai/krankile/master\" target=\"_blank\">Weights & Biases</a> (<a href=\"https://wandb.me/run\" target=\"_blank\">docs</a>)<br/>"
            ]
          },
          "metadata": {}
        },
        {
          "output_type": "display_data",
          "data": {
            "text/plain": [
              "<IPython.core.display.HTML object>"
            ],
            "text/html": [
              "Waiting for W&B process to finish... <strong style=\"color:green\">(success).</strong>"
            ]
          },
          "metadata": {}
        },
        {
          "output_type": "display_data",
          "data": {
            "text/plain": [
              "VBox(children=(Label(value='8.939 MB of 8.939 MB uploaded (0.000 MB deduped)\\r'), FloatProgress(value=1.0, max…"
            ],
            "application/vnd.jupyter.widget-view+json": {
              "version_major": 2,
              "version_minor": 0,
              "model_id": "b7a617df48f0467b82d086b67894ab0c"
            }
          },
          "metadata": {}
        },
        {
          "output_type": "display_data",
          "data": {
            "text/plain": [
              "<IPython.core.display.HTML object>"
            ],
            "text/html": [
              "Synced <strong style=\"color:#cdcd00\">flowing-sea-24</strong>: <a href=\"https://wandb.ai/krankile/master/runs/15geyw68\" target=\"_blank\">https://wandb.ai/krankile/master/runs/15geyw68</a><br/>Synced 4 W&B file(s), 0 media file(s), 1 artifact file(s) and 0 other file(s)"
            ]
          },
          "metadata": {}
        },
        {
          "output_type": "display_data",
          "data": {
            "text/plain": [
              "<IPython.core.display.HTML object>"
            ],
            "text/html": [
              "Find logs at: <code>./wandb/run-20220529_094526-15geyw68/logs</code>"
            ]
          },
          "metadata": {}
        }
      ],
      "source": [
        "upload_fundamental = True\n",
        "upload_stock = False\n",
        "upload_meta = False\n",
        "\n",
        "if upload_fundamental:\n",
        "    put_dataset(forward_filled_df, filename=\"fundamental-data.feather\", project=\"master\")\n",
        "\n",
        "if upload_stock: \n",
        "    put_dataset(full_data_stock, filename=\"stock-data.feather\", project=\"master\")\n",
        "\n",
        "if upload_meta: \n",
        "    put_dataset(full_data_meta, filename=\"meta-data.feather\", project=\"master\")"
      ]
    },
    {
      "cell_type": "markdown",
      "source": [
        "## Now add some aliases to recognize the version "
      ],
      "metadata": {
        "id": "D-9hdZ1b6hIR"
      }
    },
    {
      "cell_type": "code",
      "execution_count": null,
      "metadata": {
        "id": "41vo3NRC8NDA"
      },
      "outputs": [],
      "source": [
        "update_alias = True\n",
        "project = \"master\"\n",
        "alias = \"final\"\n",
        "artifacts = [\"fundamental-data:v6\"]#[\"fundamental-data:\",\"meta-data:\", \"stock-data:\"]\n",
        "\n",
        "if update_alias:\n",
        "    update_aliases(project=project, alias=alias, artifacts=artifacts)"
      ]
    },
    {
      "cell_type": "code",
      "source": [
        "fund_df, stock_df, meta_df, macro_df = get_datasets([\"fundamental-data:final\",\"stock-data:final\",\"meta-data:final\", \"macro-data:final\"], project=\"master\")"
      ],
      "metadata": {
        "colab": {
          "base_uri": "https://localhost:8080/",
          "height": 178,
          "referenced_widgets": [
            "948875aeb402465691d1a2d0ecb41e16",
            "c40601ce3ec84cd8bf6d88083c585d28",
            "cd493ecd95644a9fa4c513431d8e616e",
            "940aa2424fbc4312a432c234f08f8fef",
            "57f0fef835a04e21a1398a9a8729d698",
            "dd4f384ae7824ef8a134cf32fab31e9b",
            "aa233106a6ef4670a1913bad897cdac7",
            "e4e550943a76440da584183e4b0e8c5f"
          ]
        },
        "id": "6_LcoBlxcpkT",
        "outputId": "2c9c2422-3908-44c1-fa18-28ac2d6130d6"
      },
      "execution_count": null,
      "outputs": [
        {
          "output_type": "stream",
          "name": "stderr",
          "text": [
            "\u001b[34m\u001b[1mwandb\u001b[0m: Currently logged in as: \u001b[33mkjartan\u001b[0m (\u001b[33mkrankile\u001b[0m). Use \u001b[1m`wandb login --relogin`\u001b[0m to force relogin\n"
          ]
        },
        {
          "output_type": "display_data",
          "data": {
            "text/plain": [
              "<IPython.core.display.HTML object>"
            ],
            "text/html": [
              "Tracking run with wandb version 0.12.17"
            ]
          },
          "metadata": {}
        },
        {
          "output_type": "display_data",
          "data": {
            "text/plain": [
              "<IPython.core.display.HTML object>"
            ],
            "text/html": [
              "Run data is saved locally in <code>/content/wandb/run-20220527_133923-2090m7oi</code>"
            ]
          },
          "metadata": {}
        },
        {
          "output_type": "display_data",
          "data": {
            "text/plain": [
              "<IPython.core.display.HTML object>"
            ],
            "text/html": [
              "Syncing run <strong><a href=\"https://wandb.ai/krankile/master/runs/2090m7oi\" target=\"_blank\">chocolate-planet-98</a></strong> to <a href=\"https://wandb.ai/krankile/master\" target=\"_blank\">Weights & Biases</a> (<a href=\"https://wandb.me/run\" target=\"_blank\">docs</a>)<br/>"
            ]
          },
          "metadata": {}
        },
        {
          "output_type": "stream",
          "name": "stderr",
          "text": [
            "\u001b[34m\u001b[1mwandb\u001b[0m: Downloading large artifact stock-data:final, 178.18MB. 1 files... Done. 0:0:0\n"
          ]
        },
        {
          "output_type": "display_data",
          "data": {
            "text/plain": [
              "<IPython.core.display.HTML object>"
            ],
            "text/html": [
              "Waiting for W&B process to finish... <strong style=\"color:green\">(success).</strong>"
            ]
          },
          "metadata": {}
        },
        {
          "output_type": "display_data",
          "data": {
            "text/plain": [
              "VBox(children=(Label(value='0.001 MB of 0.001 MB uploaded (0.000 MB deduped)\\r'), FloatProgress(value=1.0, max…"
            ],
            "application/vnd.jupyter.widget-view+json": {
              "version_major": 2,
              "version_minor": 0,
              "model_id": "948875aeb402465691d1a2d0ecb41e16"
            }
          },
          "metadata": {}
        },
        {
          "output_type": "display_data",
          "data": {
            "text/plain": [
              "<IPython.core.display.HTML object>"
            ],
            "text/html": [
              "Synced <strong style=\"color:#cdcd00\">chocolate-planet-98</strong>: <a href=\"https://wandb.ai/krankile/master/runs/2090m7oi\" target=\"_blank\">https://wandb.ai/krankile/master/runs/2090m7oi</a><br/>Synced 5 W&B file(s), 0 media file(s), 0 artifact file(s) and 0 other file(s)"
            ]
          },
          "metadata": {}
        },
        {
          "output_type": "display_data",
          "data": {
            "text/plain": [
              "<IPython.core.display.HTML object>"
            ],
            "text/html": [
              "Find logs at: <code>./wandb/run-20220527_133923-2090m7oi/logs</code>"
            ]
          },
          "metadata": {}
        }
      ]
    }
  ],
  "metadata": {
    "colab": {
      "collapsed_sections": [],
      "machine_shape": "hm",
      "name": "inner_join_fundamentals_and_stock.ipynb",
      "provenance": [],
      "include_colab_link": true
    },
    "kernelspec": {
      "display_name": "Python 3",
      "name": "python3"
    },
    "language_info": {
      "name": "python"
    },
    "widgets": {
      "application/vnd.jupyter.widget-state+json": {
        "948875aeb402465691d1a2d0ecb41e16": {
          "model_module": "@jupyter-widgets/controls",
          "model_name": "VBoxModel",
          "model_module_version": "1.5.0",
          "state": {
            "_dom_classes": [],
            "_model_module": "@jupyter-widgets/controls",
            "_model_module_version": "1.5.0",
            "_model_name": "VBoxModel",
            "_view_count": null,
            "_view_module": "@jupyter-widgets/controls",
            "_view_module_version": "1.5.0",
            "_view_name": "VBoxView",
            "box_style": "",
            "children": [
              "IPY_MODEL_c40601ce3ec84cd8bf6d88083c585d28",
              "IPY_MODEL_cd493ecd95644a9fa4c513431d8e616e"
            ],
            "layout": "IPY_MODEL_940aa2424fbc4312a432c234f08f8fef"
          }
        },
        "c40601ce3ec84cd8bf6d88083c585d28": {
          "model_module": "@jupyter-widgets/controls",
          "model_name": "LabelModel",
          "model_module_version": "1.5.0",
          "state": {
            "_dom_classes": [],
            "_model_module": "@jupyter-widgets/controls",
            "_model_module_version": "1.5.0",
            "_model_name": "LabelModel",
            "_view_count": null,
            "_view_module": "@jupyter-widgets/controls",
            "_view_module_version": "1.5.0",
            "_view_name": "LabelView",
            "description": "",
            "description_tooltip": null,
            "layout": "IPY_MODEL_57f0fef835a04e21a1398a9a8729d698",
            "placeholder": "​",
            "style": "IPY_MODEL_dd4f384ae7824ef8a134cf32fab31e9b",
            "value": "0.008 MB of 0.008 MB uploaded (0.000 MB deduped)\r"
          }
        },
        "cd493ecd95644a9fa4c513431d8e616e": {
          "model_module": "@jupyter-widgets/controls",
          "model_name": "FloatProgressModel",
          "model_module_version": "1.5.0",
          "state": {
            "_dom_classes": [],
            "_model_module": "@jupyter-widgets/controls",
            "_model_module_version": "1.5.0",
            "_model_name": "FloatProgressModel",
            "_view_count": null,
            "_view_module": "@jupyter-widgets/controls",
            "_view_module_version": "1.5.0",
            "_view_name": "ProgressView",
            "bar_style": "",
            "description": "",
            "description_tooltip": null,
            "layout": "IPY_MODEL_aa233106a6ef4670a1913bad897cdac7",
            "max": 1,
            "min": 0,
            "orientation": "horizontal",
            "style": "IPY_MODEL_e4e550943a76440da584183e4b0e8c5f",
            "value": 1
          }
        },
        "940aa2424fbc4312a432c234f08f8fef": {
          "model_module": "@jupyter-widgets/base",
          "model_name": "LayoutModel",
          "model_module_version": "1.2.0",
          "state": {
            "_model_module": "@jupyter-widgets/base",
            "_model_module_version": "1.2.0",
            "_model_name": "LayoutModel",
            "_view_count": null,
            "_view_module": "@jupyter-widgets/base",
            "_view_module_version": "1.2.0",
            "_view_name": "LayoutView",
            "align_content": null,
            "align_items": null,
            "align_self": null,
            "border": null,
            "bottom": null,
            "display": null,
            "flex": null,
            "flex_flow": null,
            "grid_area": null,
            "grid_auto_columns": null,
            "grid_auto_flow": null,
            "grid_auto_rows": null,
            "grid_column": null,
            "grid_gap": null,
            "grid_row": null,
            "grid_template_areas": null,
            "grid_template_columns": null,
            "grid_template_rows": null,
            "height": null,
            "justify_content": null,
            "justify_items": null,
            "left": null,
            "margin": null,
            "max_height": null,
            "max_width": null,
            "min_height": null,
            "min_width": null,
            "object_fit": null,
            "object_position": null,
            "order": null,
            "overflow": null,
            "overflow_x": null,
            "overflow_y": null,
            "padding": null,
            "right": null,
            "top": null,
            "visibility": null,
            "width": null
          }
        },
        "57f0fef835a04e21a1398a9a8729d698": {
          "model_module": "@jupyter-widgets/base",
          "model_name": "LayoutModel",
          "model_module_version": "1.2.0",
          "state": {
            "_model_module": "@jupyter-widgets/base",
            "_model_module_version": "1.2.0",
            "_model_name": "LayoutModel",
            "_view_count": null,
            "_view_module": "@jupyter-widgets/base",
            "_view_module_version": "1.2.0",
            "_view_name": "LayoutView",
            "align_content": null,
            "align_items": null,
            "align_self": null,
            "border": null,
            "bottom": null,
            "display": null,
            "flex": null,
            "flex_flow": null,
            "grid_area": null,
            "grid_auto_columns": null,
            "grid_auto_flow": null,
            "grid_auto_rows": null,
            "grid_column": null,
            "grid_gap": null,
            "grid_row": null,
            "grid_template_areas": null,
            "grid_template_columns": null,
            "grid_template_rows": null,
            "height": null,
            "justify_content": null,
            "justify_items": null,
            "left": null,
            "margin": null,
            "max_height": null,
            "max_width": null,
            "min_height": null,
            "min_width": null,
            "object_fit": null,
            "object_position": null,
            "order": null,
            "overflow": null,
            "overflow_x": null,
            "overflow_y": null,
            "padding": null,
            "right": null,
            "top": null,
            "visibility": null,
            "width": null
          }
        },
        "dd4f384ae7824ef8a134cf32fab31e9b": {
          "model_module": "@jupyter-widgets/controls",
          "model_name": "DescriptionStyleModel",
          "model_module_version": "1.5.0",
          "state": {
            "_model_module": "@jupyter-widgets/controls",
            "_model_module_version": "1.5.0",
            "_model_name": "DescriptionStyleModel",
            "_view_count": null,
            "_view_module": "@jupyter-widgets/base",
            "_view_module_version": "1.2.0",
            "_view_name": "StyleView",
            "description_width": ""
          }
        },
        "aa233106a6ef4670a1913bad897cdac7": {
          "model_module": "@jupyter-widgets/base",
          "model_name": "LayoutModel",
          "model_module_version": "1.2.0",
          "state": {
            "_model_module": "@jupyter-widgets/base",
            "_model_module_version": "1.2.0",
            "_model_name": "LayoutModel",
            "_view_count": null,
            "_view_module": "@jupyter-widgets/base",
            "_view_module_version": "1.2.0",
            "_view_name": "LayoutView",
            "align_content": null,
            "align_items": null,
            "align_self": null,
            "border": null,
            "bottom": null,
            "display": null,
            "flex": null,
            "flex_flow": null,
            "grid_area": null,
            "grid_auto_columns": null,
            "grid_auto_flow": null,
            "grid_auto_rows": null,
            "grid_column": null,
            "grid_gap": null,
            "grid_row": null,
            "grid_template_areas": null,
            "grid_template_columns": null,
            "grid_template_rows": null,
            "height": null,
            "justify_content": null,
            "justify_items": null,
            "left": null,
            "margin": null,
            "max_height": null,
            "max_width": null,
            "min_height": null,
            "min_width": null,
            "object_fit": null,
            "object_position": null,
            "order": null,
            "overflow": null,
            "overflow_x": null,
            "overflow_y": null,
            "padding": null,
            "right": null,
            "top": null,
            "visibility": null,
            "width": null
          }
        },
        "e4e550943a76440da584183e4b0e8c5f": {
          "model_module": "@jupyter-widgets/controls",
          "model_name": "ProgressStyleModel",
          "model_module_version": "1.5.0",
          "state": {
            "_model_module": "@jupyter-widgets/controls",
            "_model_module_version": "1.5.0",
            "_model_name": "ProgressStyleModel",
            "_view_count": null,
            "_view_module": "@jupyter-widgets/base",
            "_view_module_version": "1.2.0",
            "_view_name": "StyleView",
            "bar_color": null,
            "description_width": ""
          }
        },
        "af294ef00b2e4d7ea0a16babe3cd8b13": {
          "model_module": "@jupyter-widgets/controls",
          "model_name": "VBoxModel",
          "model_module_version": "1.5.0",
          "state": {
            "_dom_classes": [],
            "_model_module": "@jupyter-widgets/controls",
            "_model_module_version": "1.5.0",
            "_model_name": "VBoxModel",
            "_view_count": null,
            "_view_module": "@jupyter-widgets/controls",
            "_view_module_version": "1.5.0",
            "_view_name": "VBoxView",
            "box_style": "",
            "children": [
              "IPY_MODEL_d323cea98789410c80d682f5bbe6c03d",
              "IPY_MODEL_7048607a7fc0467db03006ff4046fdee"
            ],
            "layout": "IPY_MODEL_134661a953684e30ae3cb454d063bf3e"
          }
        },
        "d323cea98789410c80d682f5bbe6c03d": {
          "model_module": "@jupyter-widgets/controls",
          "model_name": "LabelModel",
          "model_module_version": "1.5.0",
          "state": {
            "_dom_classes": [],
            "_model_module": "@jupyter-widgets/controls",
            "_model_module_version": "1.5.0",
            "_model_name": "LabelModel",
            "_view_count": null,
            "_view_module": "@jupyter-widgets/controls",
            "_view_module_version": "1.5.0",
            "_view_name": "LabelView",
            "description": "",
            "description_tooltip": null,
            "layout": "IPY_MODEL_8e1b15764e9249549cce079947743a95",
            "placeholder": "​",
            "style": "IPY_MODEL_4cfe6663a376415e839781cdab680e1c",
            "value": "0.008 MB of 0.008 MB uploaded (0.000 MB deduped)\r"
          }
        },
        "7048607a7fc0467db03006ff4046fdee": {
          "model_module": "@jupyter-widgets/controls",
          "model_name": "FloatProgressModel",
          "model_module_version": "1.5.0",
          "state": {
            "_dom_classes": [],
            "_model_module": "@jupyter-widgets/controls",
            "_model_module_version": "1.5.0",
            "_model_name": "FloatProgressModel",
            "_view_count": null,
            "_view_module": "@jupyter-widgets/controls",
            "_view_module_version": "1.5.0",
            "_view_name": "ProgressView",
            "bar_style": "",
            "description": "",
            "description_tooltip": null,
            "layout": "IPY_MODEL_734015f07178429e917c6a158d6e68f4",
            "max": 1,
            "min": 0,
            "orientation": "horizontal",
            "style": "IPY_MODEL_eb3206ae3fac4237abf6da2727c74ed9",
            "value": 1
          }
        },
        "134661a953684e30ae3cb454d063bf3e": {
          "model_module": "@jupyter-widgets/base",
          "model_name": "LayoutModel",
          "model_module_version": "1.2.0",
          "state": {
            "_model_module": "@jupyter-widgets/base",
            "_model_module_version": "1.2.0",
            "_model_name": "LayoutModel",
            "_view_count": null,
            "_view_module": "@jupyter-widgets/base",
            "_view_module_version": "1.2.0",
            "_view_name": "LayoutView",
            "align_content": null,
            "align_items": null,
            "align_self": null,
            "border": null,
            "bottom": null,
            "display": null,
            "flex": null,
            "flex_flow": null,
            "grid_area": null,
            "grid_auto_columns": null,
            "grid_auto_flow": null,
            "grid_auto_rows": null,
            "grid_column": null,
            "grid_gap": null,
            "grid_row": null,
            "grid_template_areas": null,
            "grid_template_columns": null,
            "grid_template_rows": null,
            "height": null,
            "justify_content": null,
            "justify_items": null,
            "left": null,
            "margin": null,
            "max_height": null,
            "max_width": null,
            "min_height": null,
            "min_width": null,
            "object_fit": null,
            "object_position": null,
            "order": null,
            "overflow": null,
            "overflow_x": null,
            "overflow_y": null,
            "padding": null,
            "right": null,
            "top": null,
            "visibility": null,
            "width": null
          }
        },
        "8e1b15764e9249549cce079947743a95": {
          "model_module": "@jupyter-widgets/base",
          "model_name": "LayoutModel",
          "model_module_version": "1.2.0",
          "state": {
            "_model_module": "@jupyter-widgets/base",
            "_model_module_version": "1.2.0",
            "_model_name": "LayoutModel",
            "_view_count": null,
            "_view_module": "@jupyter-widgets/base",
            "_view_module_version": "1.2.0",
            "_view_name": "LayoutView",
            "align_content": null,
            "align_items": null,
            "align_self": null,
            "border": null,
            "bottom": null,
            "display": null,
            "flex": null,
            "flex_flow": null,
            "grid_area": null,
            "grid_auto_columns": null,
            "grid_auto_flow": null,
            "grid_auto_rows": null,
            "grid_column": null,
            "grid_gap": null,
            "grid_row": null,
            "grid_template_areas": null,
            "grid_template_columns": null,
            "grid_template_rows": null,
            "height": null,
            "justify_content": null,
            "justify_items": null,
            "left": null,
            "margin": null,
            "max_height": null,
            "max_width": null,
            "min_height": null,
            "min_width": null,
            "object_fit": null,
            "object_position": null,
            "order": null,
            "overflow": null,
            "overflow_x": null,
            "overflow_y": null,
            "padding": null,
            "right": null,
            "top": null,
            "visibility": null,
            "width": null
          }
        },
        "4cfe6663a376415e839781cdab680e1c": {
          "model_module": "@jupyter-widgets/controls",
          "model_name": "DescriptionStyleModel",
          "model_module_version": "1.5.0",
          "state": {
            "_model_module": "@jupyter-widgets/controls",
            "_model_module_version": "1.5.0",
            "_model_name": "DescriptionStyleModel",
            "_view_count": null,
            "_view_module": "@jupyter-widgets/base",
            "_view_module_version": "1.2.0",
            "_view_name": "StyleView",
            "description_width": ""
          }
        },
        "734015f07178429e917c6a158d6e68f4": {
          "model_module": "@jupyter-widgets/base",
          "model_name": "LayoutModel",
          "model_module_version": "1.2.0",
          "state": {
            "_model_module": "@jupyter-widgets/base",
            "_model_module_version": "1.2.0",
            "_model_name": "LayoutModel",
            "_view_count": null,
            "_view_module": "@jupyter-widgets/base",
            "_view_module_version": "1.2.0",
            "_view_name": "LayoutView",
            "align_content": null,
            "align_items": null,
            "align_self": null,
            "border": null,
            "bottom": null,
            "display": null,
            "flex": null,
            "flex_flow": null,
            "grid_area": null,
            "grid_auto_columns": null,
            "grid_auto_flow": null,
            "grid_auto_rows": null,
            "grid_column": null,
            "grid_gap": null,
            "grid_row": null,
            "grid_template_areas": null,
            "grid_template_columns": null,
            "grid_template_rows": null,
            "height": null,
            "justify_content": null,
            "justify_items": null,
            "left": null,
            "margin": null,
            "max_height": null,
            "max_width": null,
            "min_height": null,
            "min_width": null,
            "object_fit": null,
            "object_position": null,
            "order": null,
            "overflow": null,
            "overflow_x": null,
            "overflow_y": null,
            "padding": null,
            "right": null,
            "top": null,
            "visibility": null,
            "width": null
          }
        },
        "eb3206ae3fac4237abf6da2727c74ed9": {
          "model_module": "@jupyter-widgets/controls",
          "model_name": "ProgressStyleModel",
          "model_module_version": "1.5.0",
          "state": {
            "_model_module": "@jupyter-widgets/controls",
            "_model_module_version": "1.5.0",
            "_model_name": "ProgressStyleModel",
            "_view_count": null,
            "_view_module": "@jupyter-widgets/base",
            "_view_module_version": "1.2.0",
            "_view_name": "StyleView",
            "bar_color": null,
            "description_width": ""
          }
        },
        "f61d1190c9f3429285ada73ea6bb92f5": {
          "model_module": "@jupyter-widgets/controls",
          "model_name": "VBoxModel",
          "model_module_version": "1.5.0",
          "state": {
            "_dom_classes": [],
            "_model_module": "@jupyter-widgets/controls",
            "_model_module_version": "1.5.0",
            "_model_name": "VBoxModel",
            "_view_count": null,
            "_view_module": "@jupyter-widgets/controls",
            "_view_module_version": "1.5.0",
            "_view_name": "VBoxView",
            "box_style": "",
            "children": [
              "IPY_MODEL_54f4364ea5294ec395b2e9a33a951005",
              "IPY_MODEL_54f6928d81d24167bb6be9d22111d3f6"
            ],
            "layout": "IPY_MODEL_b96271ed07c74d399acc1e72254ac3e2"
          }
        },
        "54f4364ea5294ec395b2e9a33a951005": {
          "model_module": "@jupyter-widgets/controls",
          "model_name": "LabelModel",
          "model_module_version": "1.5.0",
          "state": {
            "_dom_classes": [],
            "_model_module": "@jupyter-widgets/controls",
            "_model_module_version": "1.5.0",
            "_model_name": "LabelModel",
            "_view_count": null,
            "_view_module": "@jupyter-widgets/controls",
            "_view_module_version": "1.5.0",
            "_view_name": "LabelView",
            "description": "",
            "description_tooltip": null,
            "layout": "IPY_MODEL_a5d71b45ed614e938ffc6f6cda883155",
            "placeholder": "​",
            "style": "IPY_MODEL_c7ae08ee36d54fbabf5a28d0da56d2c9",
            "value": "0.008 MB of 0.008 MB uploaded (0.000 MB deduped)\r"
          }
        },
        "54f6928d81d24167bb6be9d22111d3f6": {
          "model_module": "@jupyter-widgets/controls",
          "model_name": "FloatProgressModel",
          "model_module_version": "1.5.0",
          "state": {
            "_dom_classes": [],
            "_model_module": "@jupyter-widgets/controls",
            "_model_module_version": "1.5.0",
            "_model_name": "FloatProgressModel",
            "_view_count": null,
            "_view_module": "@jupyter-widgets/controls",
            "_view_module_version": "1.5.0",
            "_view_name": "ProgressView",
            "bar_style": "",
            "description": "",
            "description_tooltip": null,
            "layout": "IPY_MODEL_0efd29f84347467d8122bacd05892703",
            "max": 1,
            "min": 0,
            "orientation": "horizontal",
            "style": "IPY_MODEL_492550532f6d4b8bade5b4f2af08219c",
            "value": 1
          }
        },
        "b96271ed07c74d399acc1e72254ac3e2": {
          "model_module": "@jupyter-widgets/base",
          "model_name": "LayoutModel",
          "model_module_version": "1.2.0",
          "state": {
            "_model_module": "@jupyter-widgets/base",
            "_model_module_version": "1.2.0",
            "_model_name": "LayoutModel",
            "_view_count": null,
            "_view_module": "@jupyter-widgets/base",
            "_view_module_version": "1.2.0",
            "_view_name": "LayoutView",
            "align_content": null,
            "align_items": null,
            "align_self": null,
            "border": null,
            "bottom": null,
            "display": null,
            "flex": null,
            "flex_flow": null,
            "grid_area": null,
            "grid_auto_columns": null,
            "grid_auto_flow": null,
            "grid_auto_rows": null,
            "grid_column": null,
            "grid_gap": null,
            "grid_row": null,
            "grid_template_areas": null,
            "grid_template_columns": null,
            "grid_template_rows": null,
            "height": null,
            "justify_content": null,
            "justify_items": null,
            "left": null,
            "margin": null,
            "max_height": null,
            "max_width": null,
            "min_height": null,
            "min_width": null,
            "object_fit": null,
            "object_position": null,
            "order": null,
            "overflow": null,
            "overflow_x": null,
            "overflow_y": null,
            "padding": null,
            "right": null,
            "top": null,
            "visibility": null,
            "width": null
          }
        },
        "a5d71b45ed614e938ffc6f6cda883155": {
          "model_module": "@jupyter-widgets/base",
          "model_name": "LayoutModel",
          "model_module_version": "1.2.0",
          "state": {
            "_model_module": "@jupyter-widgets/base",
            "_model_module_version": "1.2.0",
            "_model_name": "LayoutModel",
            "_view_count": null,
            "_view_module": "@jupyter-widgets/base",
            "_view_module_version": "1.2.0",
            "_view_name": "LayoutView",
            "align_content": null,
            "align_items": null,
            "align_self": null,
            "border": null,
            "bottom": null,
            "display": null,
            "flex": null,
            "flex_flow": null,
            "grid_area": null,
            "grid_auto_columns": null,
            "grid_auto_flow": null,
            "grid_auto_rows": null,
            "grid_column": null,
            "grid_gap": null,
            "grid_row": null,
            "grid_template_areas": null,
            "grid_template_columns": null,
            "grid_template_rows": null,
            "height": null,
            "justify_content": null,
            "justify_items": null,
            "left": null,
            "margin": null,
            "max_height": null,
            "max_width": null,
            "min_height": null,
            "min_width": null,
            "object_fit": null,
            "object_position": null,
            "order": null,
            "overflow": null,
            "overflow_x": null,
            "overflow_y": null,
            "padding": null,
            "right": null,
            "top": null,
            "visibility": null,
            "width": null
          }
        },
        "c7ae08ee36d54fbabf5a28d0da56d2c9": {
          "model_module": "@jupyter-widgets/controls",
          "model_name": "DescriptionStyleModel",
          "model_module_version": "1.5.0",
          "state": {
            "_model_module": "@jupyter-widgets/controls",
            "_model_module_version": "1.5.0",
            "_model_name": "DescriptionStyleModel",
            "_view_count": null,
            "_view_module": "@jupyter-widgets/base",
            "_view_module_version": "1.2.0",
            "_view_name": "StyleView",
            "description_width": ""
          }
        },
        "0efd29f84347467d8122bacd05892703": {
          "model_module": "@jupyter-widgets/base",
          "model_name": "LayoutModel",
          "model_module_version": "1.2.0",
          "state": {
            "_model_module": "@jupyter-widgets/base",
            "_model_module_version": "1.2.0",
            "_model_name": "LayoutModel",
            "_view_count": null,
            "_view_module": "@jupyter-widgets/base",
            "_view_module_version": "1.2.0",
            "_view_name": "LayoutView",
            "align_content": null,
            "align_items": null,
            "align_self": null,
            "border": null,
            "bottom": null,
            "display": null,
            "flex": null,
            "flex_flow": null,
            "grid_area": null,
            "grid_auto_columns": null,
            "grid_auto_flow": null,
            "grid_auto_rows": null,
            "grid_column": null,
            "grid_gap": null,
            "grid_row": null,
            "grid_template_areas": null,
            "grid_template_columns": null,
            "grid_template_rows": null,
            "height": null,
            "justify_content": null,
            "justify_items": null,
            "left": null,
            "margin": null,
            "max_height": null,
            "max_width": null,
            "min_height": null,
            "min_width": null,
            "object_fit": null,
            "object_position": null,
            "order": null,
            "overflow": null,
            "overflow_x": null,
            "overflow_y": null,
            "padding": null,
            "right": null,
            "top": null,
            "visibility": null,
            "width": null
          }
        },
        "492550532f6d4b8bade5b4f2af08219c": {
          "model_module": "@jupyter-widgets/controls",
          "model_name": "ProgressStyleModel",
          "model_module_version": "1.5.0",
          "state": {
            "_model_module": "@jupyter-widgets/controls",
            "_model_module_version": "1.5.0",
            "_model_name": "ProgressStyleModel",
            "_view_count": null,
            "_view_module": "@jupyter-widgets/base",
            "_view_module_version": "1.2.0",
            "_view_name": "StyleView",
            "bar_color": null,
            "description_width": ""
          }
        },
        "b85befab2aa04089a18cd45f6237d0ef": {
          "model_module": "@jupyter-widgets/controls",
          "model_name": "VBoxModel",
          "model_module_version": "1.5.0",
          "state": {
            "_dom_classes": [],
            "_model_module": "@jupyter-widgets/controls",
            "_model_module_version": "1.5.0",
            "_model_name": "VBoxModel",
            "_view_count": null,
            "_view_module": "@jupyter-widgets/controls",
            "_view_module_version": "1.5.0",
            "_view_name": "VBoxView",
            "box_style": "",
            "children": [
              "IPY_MODEL_838988e6541a464a87f4539c6538562b",
              "IPY_MODEL_f92c34790c994ea8af4c32429b25f973"
            ],
            "layout": "IPY_MODEL_969426235eef40318602ff0f585add93"
          }
        },
        "838988e6541a464a87f4539c6538562b": {
          "model_module": "@jupyter-widgets/controls",
          "model_name": "LabelModel",
          "model_module_version": "1.5.0",
          "state": {
            "_dom_classes": [],
            "_model_module": "@jupyter-widgets/controls",
            "_model_module_version": "1.5.0",
            "_model_name": "LabelModel",
            "_view_count": null,
            "_view_module": "@jupyter-widgets/controls",
            "_view_module_version": "1.5.0",
            "_view_name": "LabelView",
            "description": "",
            "description_tooltip": null,
            "layout": "IPY_MODEL_6d6650e63fc1456d8ed76eeb260e6919",
            "placeholder": "​",
            "style": "IPY_MODEL_6a2c6000bc17456d985e2c70f986d79e",
            "value": "0.008 MB of 0.008 MB uploaded (0.000 MB deduped)\r"
          }
        },
        "f92c34790c994ea8af4c32429b25f973": {
          "model_module": "@jupyter-widgets/controls",
          "model_name": "FloatProgressModel",
          "model_module_version": "1.5.0",
          "state": {
            "_dom_classes": [],
            "_model_module": "@jupyter-widgets/controls",
            "_model_module_version": "1.5.0",
            "_model_name": "FloatProgressModel",
            "_view_count": null,
            "_view_module": "@jupyter-widgets/controls",
            "_view_module_version": "1.5.0",
            "_view_name": "ProgressView",
            "bar_style": "",
            "description": "",
            "description_tooltip": null,
            "layout": "IPY_MODEL_a2fc733b35d747a19adecec51fb941ca",
            "max": 1,
            "min": 0,
            "orientation": "horizontal",
            "style": "IPY_MODEL_62064ee7720643d5923585f8f06f1a42",
            "value": 1
          }
        },
        "969426235eef40318602ff0f585add93": {
          "model_module": "@jupyter-widgets/base",
          "model_name": "LayoutModel",
          "model_module_version": "1.2.0",
          "state": {
            "_model_module": "@jupyter-widgets/base",
            "_model_module_version": "1.2.0",
            "_model_name": "LayoutModel",
            "_view_count": null,
            "_view_module": "@jupyter-widgets/base",
            "_view_module_version": "1.2.0",
            "_view_name": "LayoutView",
            "align_content": null,
            "align_items": null,
            "align_self": null,
            "border": null,
            "bottom": null,
            "display": null,
            "flex": null,
            "flex_flow": null,
            "grid_area": null,
            "grid_auto_columns": null,
            "grid_auto_flow": null,
            "grid_auto_rows": null,
            "grid_column": null,
            "grid_gap": null,
            "grid_row": null,
            "grid_template_areas": null,
            "grid_template_columns": null,
            "grid_template_rows": null,
            "height": null,
            "justify_content": null,
            "justify_items": null,
            "left": null,
            "margin": null,
            "max_height": null,
            "max_width": null,
            "min_height": null,
            "min_width": null,
            "object_fit": null,
            "object_position": null,
            "order": null,
            "overflow": null,
            "overflow_x": null,
            "overflow_y": null,
            "padding": null,
            "right": null,
            "top": null,
            "visibility": null,
            "width": null
          }
        },
        "6d6650e63fc1456d8ed76eeb260e6919": {
          "model_module": "@jupyter-widgets/base",
          "model_name": "LayoutModel",
          "model_module_version": "1.2.0",
          "state": {
            "_model_module": "@jupyter-widgets/base",
            "_model_module_version": "1.2.0",
            "_model_name": "LayoutModel",
            "_view_count": null,
            "_view_module": "@jupyter-widgets/base",
            "_view_module_version": "1.2.0",
            "_view_name": "LayoutView",
            "align_content": null,
            "align_items": null,
            "align_self": null,
            "border": null,
            "bottom": null,
            "display": null,
            "flex": null,
            "flex_flow": null,
            "grid_area": null,
            "grid_auto_columns": null,
            "grid_auto_flow": null,
            "grid_auto_rows": null,
            "grid_column": null,
            "grid_gap": null,
            "grid_row": null,
            "grid_template_areas": null,
            "grid_template_columns": null,
            "grid_template_rows": null,
            "height": null,
            "justify_content": null,
            "justify_items": null,
            "left": null,
            "margin": null,
            "max_height": null,
            "max_width": null,
            "min_height": null,
            "min_width": null,
            "object_fit": null,
            "object_position": null,
            "order": null,
            "overflow": null,
            "overflow_x": null,
            "overflow_y": null,
            "padding": null,
            "right": null,
            "top": null,
            "visibility": null,
            "width": null
          }
        },
        "6a2c6000bc17456d985e2c70f986d79e": {
          "model_module": "@jupyter-widgets/controls",
          "model_name": "DescriptionStyleModel",
          "model_module_version": "1.5.0",
          "state": {
            "_model_module": "@jupyter-widgets/controls",
            "_model_module_version": "1.5.0",
            "_model_name": "DescriptionStyleModel",
            "_view_count": null,
            "_view_module": "@jupyter-widgets/base",
            "_view_module_version": "1.2.0",
            "_view_name": "StyleView",
            "description_width": ""
          }
        },
        "a2fc733b35d747a19adecec51fb941ca": {
          "model_module": "@jupyter-widgets/base",
          "model_name": "LayoutModel",
          "model_module_version": "1.2.0",
          "state": {
            "_model_module": "@jupyter-widgets/base",
            "_model_module_version": "1.2.0",
            "_model_name": "LayoutModel",
            "_view_count": null,
            "_view_module": "@jupyter-widgets/base",
            "_view_module_version": "1.2.0",
            "_view_name": "LayoutView",
            "align_content": null,
            "align_items": null,
            "align_self": null,
            "border": null,
            "bottom": null,
            "display": null,
            "flex": null,
            "flex_flow": null,
            "grid_area": null,
            "grid_auto_columns": null,
            "grid_auto_flow": null,
            "grid_auto_rows": null,
            "grid_column": null,
            "grid_gap": null,
            "grid_row": null,
            "grid_template_areas": null,
            "grid_template_columns": null,
            "grid_template_rows": null,
            "height": null,
            "justify_content": null,
            "justify_items": null,
            "left": null,
            "margin": null,
            "max_height": null,
            "max_width": null,
            "min_height": null,
            "min_width": null,
            "object_fit": null,
            "object_position": null,
            "order": null,
            "overflow": null,
            "overflow_x": null,
            "overflow_y": null,
            "padding": null,
            "right": null,
            "top": null,
            "visibility": null,
            "width": null
          }
        },
        "62064ee7720643d5923585f8f06f1a42": {
          "model_module": "@jupyter-widgets/controls",
          "model_name": "ProgressStyleModel",
          "model_module_version": "1.5.0",
          "state": {
            "_model_module": "@jupyter-widgets/controls",
            "_model_module_version": "1.5.0",
            "_model_name": "ProgressStyleModel",
            "_view_count": null,
            "_view_module": "@jupyter-widgets/base",
            "_view_module_version": "1.2.0",
            "_view_name": "StyleView",
            "bar_color": null,
            "description_width": ""
          }
        },
        "b7a617df48f0467b82d086b67894ab0c": {
          "model_module": "@jupyter-widgets/controls",
          "model_name": "VBoxModel",
          "model_module_version": "1.5.0",
          "state": {
            "_dom_classes": [],
            "_model_module": "@jupyter-widgets/controls",
            "_model_module_version": "1.5.0",
            "_model_name": "VBoxModel",
            "_view_count": null,
            "_view_module": "@jupyter-widgets/controls",
            "_view_module_version": "1.5.0",
            "_view_name": "VBoxView",
            "box_style": "",
            "children": [
              "IPY_MODEL_908f71a148b64197ad44991c2445e652",
              "IPY_MODEL_2e6d4653dc2844bebd953aa6ca6ad422"
            ],
            "layout": "IPY_MODEL_dbb8ae109cb74335bcc5d69bf39706b7"
          }
        },
        "908f71a148b64197ad44991c2445e652": {
          "model_module": "@jupyter-widgets/controls",
          "model_name": "LabelModel",
          "model_module_version": "1.5.0",
          "state": {
            "_dom_classes": [],
            "_model_module": "@jupyter-widgets/controls",
            "_model_module_version": "1.5.0",
            "_model_name": "LabelModel",
            "_view_count": null,
            "_view_module": "@jupyter-widgets/controls",
            "_view_module_version": "1.5.0",
            "_view_name": "LabelView",
            "description": "",
            "description_tooltip": null,
            "layout": "IPY_MODEL_e717c43c03ae4b0d80b22b08ba3bb767",
            "placeholder": "​",
            "style": "IPY_MODEL_c99619d6c5d543c1bf8540e2a624d38f",
            "value": "8.947 MB of 8.947 MB uploaded (0.000 MB deduped)\r"
          }
        },
        "2e6d4653dc2844bebd953aa6ca6ad422": {
          "model_module": "@jupyter-widgets/controls",
          "model_name": "FloatProgressModel",
          "model_module_version": "1.5.0",
          "state": {
            "_dom_classes": [],
            "_model_module": "@jupyter-widgets/controls",
            "_model_module_version": "1.5.0",
            "_model_name": "FloatProgressModel",
            "_view_count": null,
            "_view_module": "@jupyter-widgets/controls",
            "_view_module_version": "1.5.0",
            "_view_name": "ProgressView",
            "bar_style": "",
            "description": "",
            "description_tooltip": null,
            "layout": "IPY_MODEL_ca73ac34540f40729acb4d16face706d",
            "max": 1,
            "min": 0,
            "orientation": "horizontal",
            "style": "IPY_MODEL_4264f04db2b84bf5bbb81f97098761da",
            "value": 1
          }
        },
        "dbb8ae109cb74335bcc5d69bf39706b7": {
          "model_module": "@jupyter-widgets/base",
          "model_name": "LayoutModel",
          "model_module_version": "1.2.0",
          "state": {
            "_model_module": "@jupyter-widgets/base",
            "_model_module_version": "1.2.0",
            "_model_name": "LayoutModel",
            "_view_count": null,
            "_view_module": "@jupyter-widgets/base",
            "_view_module_version": "1.2.0",
            "_view_name": "LayoutView",
            "align_content": null,
            "align_items": null,
            "align_self": null,
            "border": null,
            "bottom": null,
            "display": null,
            "flex": null,
            "flex_flow": null,
            "grid_area": null,
            "grid_auto_columns": null,
            "grid_auto_flow": null,
            "grid_auto_rows": null,
            "grid_column": null,
            "grid_gap": null,
            "grid_row": null,
            "grid_template_areas": null,
            "grid_template_columns": null,
            "grid_template_rows": null,
            "height": null,
            "justify_content": null,
            "justify_items": null,
            "left": null,
            "margin": null,
            "max_height": null,
            "max_width": null,
            "min_height": null,
            "min_width": null,
            "object_fit": null,
            "object_position": null,
            "order": null,
            "overflow": null,
            "overflow_x": null,
            "overflow_y": null,
            "padding": null,
            "right": null,
            "top": null,
            "visibility": null,
            "width": null
          }
        },
        "e717c43c03ae4b0d80b22b08ba3bb767": {
          "model_module": "@jupyter-widgets/base",
          "model_name": "LayoutModel",
          "model_module_version": "1.2.0",
          "state": {
            "_model_module": "@jupyter-widgets/base",
            "_model_module_version": "1.2.0",
            "_model_name": "LayoutModel",
            "_view_count": null,
            "_view_module": "@jupyter-widgets/base",
            "_view_module_version": "1.2.0",
            "_view_name": "LayoutView",
            "align_content": null,
            "align_items": null,
            "align_self": null,
            "border": null,
            "bottom": null,
            "display": null,
            "flex": null,
            "flex_flow": null,
            "grid_area": null,
            "grid_auto_columns": null,
            "grid_auto_flow": null,
            "grid_auto_rows": null,
            "grid_column": null,
            "grid_gap": null,
            "grid_row": null,
            "grid_template_areas": null,
            "grid_template_columns": null,
            "grid_template_rows": null,
            "height": null,
            "justify_content": null,
            "justify_items": null,
            "left": null,
            "margin": null,
            "max_height": null,
            "max_width": null,
            "min_height": null,
            "min_width": null,
            "object_fit": null,
            "object_position": null,
            "order": null,
            "overflow": null,
            "overflow_x": null,
            "overflow_y": null,
            "padding": null,
            "right": null,
            "top": null,
            "visibility": null,
            "width": null
          }
        },
        "c99619d6c5d543c1bf8540e2a624d38f": {
          "model_module": "@jupyter-widgets/controls",
          "model_name": "DescriptionStyleModel",
          "model_module_version": "1.5.0",
          "state": {
            "_model_module": "@jupyter-widgets/controls",
            "_model_module_version": "1.5.0",
            "_model_name": "DescriptionStyleModel",
            "_view_count": null,
            "_view_module": "@jupyter-widgets/base",
            "_view_module_version": "1.2.0",
            "_view_name": "StyleView",
            "description_width": ""
          }
        },
        "ca73ac34540f40729acb4d16face706d": {
          "model_module": "@jupyter-widgets/base",
          "model_name": "LayoutModel",
          "model_module_version": "1.2.0",
          "state": {
            "_model_module": "@jupyter-widgets/base",
            "_model_module_version": "1.2.0",
            "_model_name": "LayoutModel",
            "_view_count": null,
            "_view_module": "@jupyter-widgets/base",
            "_view_module_version": "1.2.0",
            "_view_name": "LayoutView",
            "align_content": null,
            "align_items": null,
            "align_self": null,
            "border": null,
            "bottom": null,
            "display": null,
            "flex": null,
            "flex_flow": null,
            "grid_area": null,
            "grid_auto_columns": null,
            "grid_auto_flow": null,
            "grid_auto_rows": null,
            "grid_column": null,
            "grid_gap": null,
            "grid_row": null,
            "grid_template_areas": null,
            "grid_template_columns": null,
            "grid_template_rows": null,
            "height": null,
            "justify_content": null,
            "justify_items": null,
            "left": null,
            "margin": null,
            "max_height": null,
            "max_width": null,
            "min_height": null,
            "min_width": null,
            "object_fit": null,
            "object_position": null,
            "order": null,
            "overflow": null,
            "overflow_x": null,
            "overflow_y": null,
            "padding": null,
            "right": null,
            "top": null,
            "visibility": null,
            "width": null
          }
        },
        "4264f04db2b84bf5bbb81f97098761da": {
          "model_module": "@jupyter-widgets/controls",
          "model_name": "ProgressStyleModel",
          "model_module_version": "1.5.0",
          "state": {
            "_model_module": "@jupyter-widgets/controls",
            "_model_module_version": "1.5.0",
            "_model_name": "ProgressStyleModel",
            "_view_count": null,
            "_view_module": "@jupyter-widgets/base",
            "_view_module_version": "1.2.0",
            "_view_name": "StyleView",
            "bar_color": null,
            "description_width": ""
          }
        }
      }
    }
  },
  "nbformat": 4,
  "nbformat_minor": 0
}