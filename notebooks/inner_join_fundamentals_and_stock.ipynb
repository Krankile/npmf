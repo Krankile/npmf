{
  "cells": [
    {
      "cell_type": "markdown",
      "metadata": {
        "id": "view-in-github",
        "colab_type": "text"
      },
      "source": [
        "<a href=\"https://colab.research.google.com/github/Krankile/npmf/blob/main/notebooks/inner_join_fundamentals_and_stock.ipynb\" target=\"_parent\"><img src=\"https://colab.research.google.com/assets/colab-badge.svg\" alt=\"Open In Colab\"/></a>"
      ]
    },
    {
      "cell_type": "markdown",
      "metadata": {
        "id": "d8F5tl4NL7FZ"
      },
      "source": [
        "#Setup"
      ]
    },
    {
      "cell_type": "markdown",
      "metadata": {
        "id": "Rwo44VGZLhAo"
      },
      "source": [
        "##Kernel setup"
      ]
    },
    {
      "cell_type": "code",
      "execution_count": null,
      "metadata": {
        "id": "hKuFzk7aEmB9",
        "colab": {
          "base_uri": "https://localhost:8080/"
        },
        "outputId": "070df75d-2f1d-49fd-d251-5e8bc984f4d3"
      },
      "outputs": [
        {
          "output_type": "stream",
          "name": "stdout",
          "text": [
            "The autoreload extension is already loaded. To reload it, use:\n",
            "  %reload_ext autoreload\n"
          ]
        }
      ],
      "source": [
        "%load_ext autoreload\n",
        "%autoreload 2"
      ]
    },
    {
      "cell_type": "code",
      "execution_count": null,
      "metadata": {
        "id": "YapyvlhQSpEj"
      },
      "outputs": [],
      "source": [
        "%%capture\n",
        "!pip install wandb\n",
        "!git clone https://github.com/Krankile/npmf.git"
      ]
    },
    {
      "cell_type": "code",
      "execution_count": null,
      "metadata": {
        "colab": {
          "base_uri": "https://localhost:8080/"
        },
        "id": "gUXnibj8YEi1",
        "outputId": "6dc0d8f5-c9ed-42b6-c020-14af0a9461cd"
      },
      "outputs": [
        {
          "output_type": "stream",
          "name": "stdout",
          "text": [
            "\u001b[34m\u001b[1mwandb\u001b[0m: Currently logged in as: \u001b[33mkjartan\u001b[0m (\u001b[33mkrankile\u001b[0m). Use \u001b[1m`wandb login --relogin`\u001b[0m to force relogin\n"
          ]
        }
      ],
      "source": [
        "!wandb login"
      ]
    },
    {
      "cell_type": "markdown",
      "metadata": {
        "id": "CLAlA0htLgMY"
      },
      "source": [
        "##General setup"
      ]
    },
    {
      "cell_type": "code",
      "execution_count": null,
      "metadata": {
        "id": "1QSlgObXLq1p"
      },
      "outputs": [],
      "source": [
        "%%capture\n",
        "!cd npmf && git pull\n",
        "\n",
        "import os\n",
        "from collections import defaultdict\n",
        "from collections import Counter\n",
        "from datetime import datetime\n",
        "from operator import itemgetter\n",
        "\n",
        "import numpy as np\n",
        "from numpy.ma.core import outerproduct\n",
        "import pandas as pd\n",
        "import matplotlib as mpl\n",
        "import matplotlib.pyplot as plt\n",
        "from tqdm import tqdm\n",
        "\n",
        "import wandb as wb\n",
        "\n",
        "import torch\n",
        "from torch import nn\n",
        "from torch.utils.data import DataLoader\n",
        "from torchvision import datasets, transforms\n",
        "\n",
        "from npmf.utils.colors import main, main2, main3\n",
        "from npmf.utils.wandb import get_dataset, put_dataset, update_aliases\n",
        "from npmf.utils.eikon import column_mapping "
      ]
    },
    {
      "cell_type": "code",
      "execution_count": null,
      "metadata": {
        "id": "hkTjKKLmLvpl"
      },
      "outputs": [],
      "source": [
        "mpl.rcParams['axes.prop_cycle'] = mpl.cycler(color=[main, main2, main3, \"black\"])\n",
        "mpl.rcParams['figure.figsize'] = (6, 4)  # (6, 4) is default and used in the paper"
      ]
    },
    {
      "cell_type": "code",
      "execution_count": null,
      "metadata": {
        "colab": {
          "base_uri": "https://localhost:8080/"
        },
        "id": "Dqy02oAvY7GM",
        "outputId": "b55da5d3-54c9-4a75-9368-7afdc0d9c430"
      },
      "outputs": [
        {
          "output_type": "stream",
          "name": "stdout",
          "text": [
            "Using cpu device\n"
          ]
        }
      ],
      "source": [
        "device = \"cuda\" if torch.cuda.is_available() else \"cpu\"\n",
        "print(f\"Using {device} device\")"
      ]
    },
    {
      "cell_type": "code",
      "execution_count": null,
      "metadata": {
        "id": "YVFtfDk0pYtd"
      },
      "outputs": [],
      "source": [
        "np.random.seed(420)"
      ]
    },
    {
      "cell_type": "markdown",
      "metadata": {
        "id": "hATNzG1f6PBS"
      },
      "source": [
        "# Data processing"
      ]
    },
    {
      "cell_type": "markdown",
      "metadata": {
        "id": "zpWr19ZFlsqV"
      },
      "source": [
        "## Collect data from stock and fundamental and find intersection of unique tickers"
      ]
    },
    {
      "cell_type": "code",
      "execution_count": null,
      "metadata": {
        "colab": {
          "base_uri": "https://localhost:8080/",
          "height": 458,
          "referenced_widgets": [
            "cc8e0bc484e54933adc4cd6d9a269bc9",
            "bde9f44ecf574cd5842df4dc769f6a6c",
            "0ca7c496c2b9428d8edf8a2e7cbd4e0a",
            "7440db4aa89342d6872d87e7c44a03a4",
            "59e15a707641442f9633648c6efd202d",
            "da36027af032456e92a22b16d826b79d",
            "7e189876d21040b9936f53815c7cbb49",
            "90828d940d6e4a3a9390d602756d4323",
            "8987214076e24e2993203cfa5e44b46a",
            "7fe74457052b41239aec5d23199ee88a",
            "c1111e3c201c441f96b1094e5b701731",
            "49b005f76fb045b0ada0d95c840f1280",
            "780b368693c846a4a944089f8b1b6fb7",
            "ddf9423938da48f983f3527bae023d05",
            "d0c215093f0f4a8b995b509b4bf78fa0",
            "3e743eee2b314b24b7d459551dbec61c",
            "249f547e6bd74924bd92b4c099704862",
            "4c8ec8d612c14c699fb31be30e0ae941",
            "a0999ee2e65242af99dddb5092ec9fcc",
            "bc08b65b4ba842859020307d646e4581",
            "89fe1ca086a641689878f0b5612a7a62",
            "a58f5cb758b94218bfe7b2d70b2ad268",
            "ff026185ecbe41ef88f58a69d31b92f3",
            "cf810b97201e483f869d9bafc82213fa"
          ]
        },
        "id": "_PqYqpDHl_uu",
        "outputId": "8286e4f0-7242-4f1c-996b-8d45d72a1340"
      },
      "outputs": [
        {
          "output_type": "display_data",
          "data": {
            "text/plain": [
              "<IPython.core.display.HTML object>"
            ],
            "text/html": [
              "wandb version 0.12.17 is available!  To upgrade, please run:\n",
              " $ pip install wandb --upgrade"
            ]
          },
          "metadata": {}
        },
        {
          "output_type": "display_data",
          "data": {
            "text/plain": [
              "<IPython.core.display.HTML object>"
            ],
            "text/html": [
              "Tracking run with wandb version 0.12.16"
            ]
          },
          "metadata": {}
        },
        {
          "output_type": "display_data",
          "data": {
            "text/plain": [
              "<IPython.core.display.HTML object>"
            ],
            "text/html": [
              "Run data is saved locally in <code>/content/wandb/run-20220526_103151-2qbnwram</code>"
            ]
          },
          "metadata": {}
        },
        {
          "output_type": "display_data",
          "data": {
            "text/plain": [
              "<IPython.core.display.HTML object>"
            ],
            "text/html": [
              "Syncing run <strong><a href=\"https://wandb.ai/krankile/master/runs/2qbnwram\" target=\"_blank\">wild-microwave-46</a></strong> to <a href=\"https://wandb.ai/krankile/master\" target=\"_blank\">Weights & Biases</a> (<a href=\"https://wandb.me/run\" target=\"_blank\">docs</a>)<br/>"
            ]
          },
          "metadata": {}
        },
        {
          "output_type": "stream",
          "name": "stderr",
          "text": [
            "\u001b[34m\u001b[1mwandb\u001b[0m: Downloading large artifact stock-data:v0, 434.81MB. 1 files... Done. 0:0:0\n"
          ]
        },
        {
          "output_type": "display_data",
          "data": {
            "text/plain": [
              "<IPython.core.display.HTML object>"
            ],
            "text/html": [
              "Waiting for W&B process to finish... <strong style=\"color:green\">(success).</strong>"
            ]
          },
          "metadata": {}
        },
        {
          "output_type": "display_data",
          "data": {
            "text/plain": [
              "VBox(children=(Label(value='0.001 MB of 0.001 MB uploaded (0.000 MB deduped)\\r'), FloatProgress(value=1.0, max…"
            ],
            "application/vnd.jupyter.widget-view+json": {
              "version_major": 2,
              "version_minor": 0,
              "model_id": "cc8e0bc484e54933adc4cd6d9a269bc9"
            }
          },
          "metadata": {}
        },
        {
          "output_type": "display_data",
          "data": {
            "text/plain": [
              "<IPython.core.display.HTML object>"
            ],
            "text/html": [
              "Synced <strong style=\"color:#cdcd00\">wild-microwave-46</strong>: <a href=\"https://wandb.ai/krankile/master/runs/2qbnwram\" target=\"_blank\">https://wandb.ai/krankile/master/runs/2qbnwram</a><br/>Synced 5 W&B file(s), 0 media file(s), 0 artifact file(s) and 0 other file(s)"
            ]
          },
          "metadata": {}
        },
        {
          "output_type": "display_data",
          "data": {
            "text/plain": [
              "<IPython.core.display.HTML object>"
            ],
            "text/html": [
              "Find logs at: <code>./wandb/run-20220526_103151-2qbnwram/logs</code>"
            ]
          },
          "metadata": {}
        },
        {
          "output_type": "display_data",
          "data": {
            "text/plain": [
              "<IPython.core.display.HTML object>"
            ],
            "text/html": [
              "wandb version 0.12.17 is available!  To upgrade, please run:\n",
              " $ pip install wandb --upgrade"
            ]
          },
          "metadata": {}
        },
        {
          "output_type": "display_data",
          "data": {
            "text/plain": [
              "<IPython.core.display.HTML object>"
            ],
            "text/html": [
              "Tracking run with wandb version 0.12.16"
            ]
          },
          "metadata": {}
        },
        {
          "output_type": "display_data",
          "data": {
            "text/plain": [
              "<IPython.core.display.HTML object>"
            ],
            "text/html": [
              "Run data is saved locally in <code>/content/wandb/run-20220526_103201-3cdg19a8</code>"
            ]
          },
          "metadata": {}
        },
        {
          "output_type": "display_data",
          "data": {
            "text/plain": [
              "<IPython.core.display.HTML object>"
            ],
            "text/html": [
              "Syncing run <strong><a href=\"https://wandb.ai/krankile/master/runs/3cdg19a8\" target=\"_blank\">skilled-snow-47</a></strong> to <a href=\"https://wandb.ai/krankile/master\" target=\"_blank\">Weights & Biases</a> (<a href=\"https://wandb.me/run\" target=\"_blank\">docs</a>)<br/>"
            ]
          },
          "metadata": {}
        },
        {
          "output_type": "display_data",
          "data": {
            "text/plain": [
              "<IPython.core.display.HTML object>"
            ],
            "text/html": [
              "Waiting for W&B process to finish... <strong style=\"color:green\">(success).</strong>"
            ]
          },
          "metadata": {}
        },
        {
          "output_type": "display_data",
          "data": {
            "text/plain": [
              "VBox(children=(Label(value='0.001 MB of 0.001 MB uploaded (0.000 MB deduped)\\r'), FloatProgress(value=1.0, max…"
            ],
            "application/vnd.jupyter.widget-view+json": {
              "version_major": 2,
              "version_minor": 0,
              "model_id": "8987214076e24e2993203cfa5e44b46a"
            }
          },
          "metadata": {}
        },
        {
          "output_type": "display_data",
          "data": {
            "text/plain": [
              "<IPython.core.display.HTML object>"
            ],
            "text/html": [
              "Synced <strong style=\"color:#cdcd00\">skilled-snow-47</strong>: <a href=\"https://wandb.ai/krankile/master/runs/3cdg19a8\" target=\"_blank\">https://wandb.ai/krankile/master/runs/3cdg19a8</a><br/>Synced 4 W&B file(s), 0 media file(s), 0 artifact file(s) and 0 other file(s)"
            ]
          },
          "metadata": {}
        },
        {
          "output_type": "display_data",
          "data": {
            "text/plain": [
              "<IPython.core.display.HTML object>"
            ],
            "text/html": [
              "Find logs at: <code>./wandb/run-20220526_103201-3cdg19a8/logs</code>"
            ]
          },
          "metadata": {}
        },
        {
          "output_type": "display_data",
          "data": {
            "text/plain": [
              "<IPython.core.display.HTML object>"
            ],
            "text/html": [
              "wandb version 0.12.17 is available!  To upgrade, please run:\n",
              " $ pip install wandb --upgrade"
            ]
          },
          "metadata": {}
        },
        {
          "output_type": "display_data",
          "data": {
            "text/plain": [
              "<IPython.core.display.HTML object>"
            ],
            "text/html": [
              "Tracking run with wandb version 0.12.16"
            ]
          },
          "metadata": {}
        },
        {
          "output_type": "display_data",
          "data": {
            "text/plain": [
              "<IPython.core.display.HTML object>"
            ],
            "text/html": [
              "Run data is saved locally in <code>/content/wandb/run-20220526_103209-3ovjd0e8</code>"
            ]
          },
          "metadata": {}
        },
        {
          "output_type": "display_data",
          "data": {
            "text/plain": [
              "<IPython.core.display.HTML object>"
            ],
            "text/html": [
              "Syncing run <strong><a href=\"https://wandb.ai/krankile/master/runs/3ovjd0e8\" target=\"_blank\">eager-smoke-48</a></strong> to <a href=\"https://wandb.ai/krankile/master\" target=\"_blank\">Weights & Biases</a> (<a href=\"https://wandb.me/run\" target=\"_blank\">docs</a>)<br/>"
            ]
          },
          "metadata": {}
        },
        {
          "output_type": "display_data",
          "data": {
            "text/plain": [
              "<IPython.core.display.HTML object>"
            ],
            "text/html": [
              "Waiting for W&B process to finish... <strong style=\"color:green\">(success).</strong>"
            ]
          },
          "metadata": {}
        },
        {
          "output_type": "display_data",
          "data": {
            "text/plain": [
              "VBox(children=(Label(value='0.001 MB of 0.001 MB uploaded (0.000 MB deduped)\\r'), FloatProgress(value=1.0, max…"
            ],
            "application/vnd.jupyter.widget-view+json": {
              "version_major": 2,
              "version_minor": 0,
              "model_id": "249f547e6bd74924bd92b4c099704862"
            }
          },
          "metadata": {}
        },
        {
          "output_type": "display_data",
          "data": {
            "text/plain": [
              "<IPython.core.display.HTML object>"
            ],
            "text/html": [
              "Synced <strong style=\"color:#cdcd00\">eager-smoke-48</strong>: <a href=\"https://wandb.ai/krankile/master/runs/3ovjd0e8\" target=\"_blank\">https://wandb.ai/krankile/master/runs/3ovjd0e8</a><br/>Synced 4 W&B file(s), 0 media file(s), 0 artifact file(s) and 0 other file(s)"
            ]
          },
          "metadata": {}
        },
        {
          "output_type": "display_data",
          "data": {
            "text/plain": [
              "<IPython.core.display.HTML object>"
            ],
            "text/html": [
              "Find logs at: <code>./wandb/run-20220526_103209-3ovjd0e8/logs</code>"
            ]
          },
          "metadata": {}
        }
      ],
      "source": [
        "stock_df = get_dataset(\"stock-data:v0\", \"master\")\n",
        "fundamental_df = get_dataset(\"fundamental-data:v1\", \"master\")\n",
        "meta_df = get_dataset(\"meta-data:v1\", \"master\")"
      ]
    },
    {
      "cell_type": "markdown",
      "source": [
        "## We start by seeing the amount of data we have before joining the stock and fundamental data"
      ],
      "metadata": {
        "id": "jCupIMtuIPVf"
      }
    },
    {
      "cell_type": "code",
      "source": [
        "len(stock_df.ticker.unique())"
      ],
      "metadata": {
        "colab": {
          "base_uri": "https://localhost:8080/"
        },
        "id": "uu_7rK5fvbYb",
        "outputId": "0ecea336-35f2-40b7-e329-d513497a0232"
      },
      "execution_count": null,
      "outputs": [
        {
          "output_type": "execute_result",
          "data": {
            "text/plain": [
              "5213"
            ]
          },
          "metadata": {},
          "execution_count": 93
        }
      ]
    },
    {
      "cell_type": "code",
      "source": [
        "fundamental_df.ticker.unique()"
      ],
      "metadata": {
        "colab": {
          "base_uri": "https://localhost:8080/"
        },
        "id": "LvLBNHdCven0",
        "outputId": "c3bc5e69-6a9e-4797-e099-407437435d80"
      },
      "execution_count": null,
      "outputs": [
        {
          "output_type": "execute_result",
          "data": {
            "text/plain": [
              "<StringArray>\n",
              "[  'OMVV.VI',     'MUR.N',     'NBR.N',    'OIL.CD', '600256.SS', '600248.SS',\n",
              "    'AGE.BK',     'CEI.A',  'NESTE.HE',  'OANDO.LG',\n",
              " ...\n",
              "   'MCPH.PK',   'CFFI.OQ',   'VBFC.OQ',   'MOFG.OQ',   'KBNK.NS',   'CRDI.MI',\n",
              "    '8359.T',   'CIEB.CA',   'AMMB.KL',  'QNBFL.IS']\n",
              "Length: 3179, dtype: string"
            ]
          },
          "metadata": {},
          "execution_count": 94
        }
      ]
    },
    {
      "cell_type": "code",
      "source": [
        "fundamental_without_copies = fundamental_df.loc[:,:\"short_term_debt_p_assets\"]\n",
        "\n",
        "print(\"\\t   ----STOCK----\")\n",
        "\n",
        "print(f\"stock entries left: {stock_df.shape[0]:,}\")\n",
        "\n",
        "print(\"\\n\\t----FUNDAMENTALS----\")\n",
        "print(f\"datapoints in rapports left: {fundamental_without_copies.count(axis=0, numeric_only=True).sum():,}\")\n",
        "print(f\"quarterly rapports left: {fundamental_without_copies.shape[0]:,}\")\n",
        "print(f\"average entries per rapports left: {fundamental_without_copies.count(axis=0, numeric_only=True).sum()/fundamental_without_copies.shape[0]}\") "
      ],
      "metadata": {
        "colab": {
          "base_uri": "https://localhost:8080/"
        },
        "id": "j_3UOXhVG3We",
        "outputId": "77120a95-c08c-409c-b57d-fba6255ed9fc"
      },
      "execution_count": null,
      "outputs": [
        {
          "output_type": "stream",
          "name": "stdout",
          "text": [
            "\t   ----STOCK----\n",
            "stock entries left: 18,112,750\n",
            "\n",
            "\t----FUNDAMENTALS----\n",
            "datapoints in rapports left: 1,384,410\n",
            "quarterly rapports left: 145,531\n",
            "average entries per rapports left: 9.512818574736654\n"
          ]
        }
      ]
    },
    {
      "cell_type": "code",
      "execution_count": null,
      "metadata": {
        "id": "0OaOinv2sumo"
      },
      "outputs": [],
      "source": [
        "unique_fundamental = set(fundamental_df.ticker.unique())\n",
        "unique_stock = set(stock_df.ticker.unique())\n",
        "\n",
        "full_data_companies = unique_fundamental & unique_stock"
      ]
    },
    {
      "cell_type": "code",
      "source": [
        "meta_df"
      ],
      "metadata": {
        "colab": {
          "base_uri": "https://localhost:8080/",
          "height": 624
        },
        "id": "8WVGQRQG6-n8",
        "outputId": "9b149a5f-0a9e-4569-f409-7160c55011bf"
      },
      "execution_count": null,
      "outputs": [
        {
          "output_type": "execute_result",
          "data": {
            "text/plain": [
              "      index     ticker exchange_code region_hq                country_hq  \\\n",
              "0         0    KAER.VI          WBAH    Europe                   Austria   \n",
              "1         1    TIRO.VI          WBAH    Europe                   Austria   \n",
              "2         2  000416.SZ          XSHE      Asia                     China   \n",
              "3         3     NEDJ.J          XJSE    Africa              South Africa   \n",
              "4         4     SBKJ.J          XJSE    Africa              South Africa   \n",
              "...     ...        ...           ...       ...                       ...   \n",
              "4688   4688   ALHAF.PA          ALXP    Europe                    France   \n",
              "4689   4689   SMRTG.IS          XEQY      Asia                    Turkey   \n",
              "4690   4690     FDR.AX          XASX   Oceania                 Australia   \n",
              "4691   4691     DINO.N          XNYS   America  United States of America   \n",
              "4692   4692    SICO.JK          XIDX      Asia                 Indonesia   \n",
              "\n",
              "      state_province_hq  founding_year economic_sector  \\\n",
              "0              KAERNTEN           1922      Financials   \n",
              "1                 TIROL           1904      Financials   \n",
              "2               BEIJING           1993      Financials   \n",
              "3               GAUTENG           1966      Financials   \n",
              "4               GAUTENG           1969      Financials   \n",
              "...                 ...            ...             ...   \n",
              "4688          GRAND EST           2015          Energy   \n",
              "4689               <NA>           2014          Energy   \n",
              "4690  WESTERN AUSTRALIA           2004          Energy   \n",
              "4691              TEXAS           2021          Energy   \n",
              "4692               Java           2007          Energy   \n",
              "\n",
              "                    business_sector                            industry_group  \\\n",
              "0     Banking & Investment Services                          Banking Services   \n",
              "1     Banking & Investment Services                          Banking Services   \n",
              "2     Banking & Investment Services                          Banking Services   \n",
              "3     Banking & Investment Services                          Banking Services   \n",
              "4     Banking & Investment Services                          Banking Services   \n",
              "...                             ...                                       ...   \n",
              "4688               Renewable Energy                          Renewable Energy   \n",
              "4689               Renewable Energy                          Renewable Energy   \n",
              "4690          Energy - Fossil Fuels                                 Oil & Gas   \n",
              "4691          Energy - Fossil Fuels                                 Oil & Gas   \n",
              "4692          Energy - Fossil Fuels  Oil & Gas Related Equipment and Services   \n",
              "\n",
              "                                   industry  \\\n",
              "0                                     Banks   \n",
              "1                                     Banks   \n",
              "2                          Consumer Lending   \n",
              "3                                     Banks   \n",
              "4                                     Banks   \n",
              "...                                     ...   \n",
              "4688                        Renewable Fuels   \n",
              "4689  Renewable Energy Equipment & Services   \n",
              "4690   Oil & Gas Exploration and Production   \n",
              "4691       Oil & Gas Refining and Marketing   \n",
              "4692     Oil Related Services and Equipment   \n",
              "\n",
              "                                         activity  \n",
              "0                                     Banks (NEC)  \n",
              "1                                     Banks (NEC)  \n",
              "2                          Consumer Lending (NEC)  \n",
              "3                                     Banks (NEC)  \n",
              "4                                 Corporate Banks  \n",
              "...                                           ...  \n",
              "4688                       Biomass & Biogas Fuels  \n",
              "4689  Renewable Energy Equipment & Services (NEC)  \n",
              "4690   Oil & Gas Exploration and Production (NEC)  \n",
              "4691                           Petroleum Refining  \n",
              "4692                         Oil Related Services  \n",
              "\n",
              "[4693 rows x 12 columns]"
            ],
            "text/html": [
              "\n",
              "  <div id=\"df-f30a66d7-801a-45b7-8a5f-e6597386aec5\">\n",
              "    <div class=\"colab-df-container\">\n",
              "      <div>\n",
              "<style scoped>\n",
              "    .dataframe tbody tr th:only-of-type {\n",
              "        vertical-align: middle;\n",
              "    }\n",
              "\n",
              "    .dataframe tbody tr th {\n",
              "        vertical-align: top;\n",
              "    }\n",
              "\n",
              "    .dataframe thead th {\n",
              "        text-align: right;\n",
              "    }\n",
              "</style>\n",
              "<table border=\"1\" class=\"dataframe\">\n",
              "  <thead>\n",
              "    <tr style=\"text-align: right;\">\n",
              "      <th></th>\n",
              "      <th>index</th>\n",
              "      <th>ticker</th>\n",
              "      <th>exchange_code</th>\n",
              "      <th>region_hq</th>\n",
              "      <th>country_hq</th>\n",
              "      <th>state_province_hq</th>\n",
              "      <th>founding_year</th>\n",
              "      <th>economic_sector</th>\n",
              "      <th>business_sector</th>\n",
              "      <th>industry_group</th>\n",
              "      <th>industry</th>\n",
              "      <th>activity</th>\n",
              "    </tr>\n",
              "  </thead>\n",
              "  <tbody>\n",
              "    <tr>\n",
              "      <th>0</th>\n",
              "      <td>0</td>\n",
              "      <td>KAER.VI</td>\n",
              "      <td>WBAH</td>\n",
              "      <td>Europe</td>\n",
              "      <td>Austria</td>\n",
              "      <td>KAERNTEN</td>\n",
              "      <td>1922</td>\n",
              "      <td>Financials</td>\n",
              "      <td>Banking &amp; Investment Services</td>\n",
              "      <td>Banking Services</td>\n",
              "      <td>Banks</td>\n",
              "      <td>Banks (NEC)</td>\n",
              "    </tr>\n",
              "    <tr>\n",
              "      <th>1</th>\n",
              "      <td>1</td>\n",
              "      <td>TIRO.VI</td>\n",
              "      <td>WBAH</td>\n",
              "      <td>Europe</td>\n",
              "      <td>Austria</td>\n",
              "      <td>TIROL</td>\n",
              "      <td>1904</td>\n",
              "      <td>Financials</td>\n",
              "      <td>Banking &amp; Investment Services</td>\n",
              "      <td>Banking Services</td>\n",
              "      <td>Banks</td>\n",
              "      <td>Banks (NEC)</td>\n",
              "    </tr>\n",
              "    <tr>\n",
              "      <th>2</th>\n",
              "      <td>2</td>\n",
              "      <td>000416.SZ</td>\n",
              "      <td>XSHE</td>\n",
              "      <td>Asia</td>\n",
              "      <td>China</td>\n",
              "      <td>BEIJING</td>\n",
              "      <td>1993</td>\n",
              "      <td>Financials</td>\n",
              "      <td>Banking &amp; Investment Services</td>\n",
              "      <td>Banking Services</td>\n",
              "      <td>Consumer Lending</td>\n",
              "      <td>Consumer Lending (NEC)</td>\n",
              "    </tr>\n",
              "    <tr>\n",
              "      <th>3</th>\n",
              "      <td>3</td>\n",
              "      <td>NEDJ.J</td>\n",
              "      <td>XJSE</td>\n",
              "      <td>Africa</td>\n",
              "      <td>South Africa</td>\n",
              "      <td>GAUTENG</td>\n",
              "      <td>1966</td>\n",
              "      <td>Financials</td>\n",
              "      <td>Banking &amp; Investment Services</td>\n",
              "      <td>Banking Services</td>\n",
              "      <td>Banks</td>\n",
              "      <td>Banks (NEC)</td>\n",
              "    </tr>\n",
              "    <tr>\n",
              "      <th>4</th>\n",
              "      <td>4</td>\n",
              "      <td>SBKJ.J</td>\n",
              "      <td>XJSE</td>\n",
              "      <td>Africa</td>\n",
              "      <td>South Africa</td>\n",
              "      <td>GAUTENG</td>\n",
              "      <td>1969</td>\n",
              "      <td>Financials</td>\n",
              "      <td>Banking &amp; Investment Services</td>\n",
              "      <td>Banking Services</td>\n",
              "      <td>Banks</td>\n",
              "      <td>Corporate Banks</td>\n",
              "    </tr>\n",
              "    <tr>\n",
              "      <th>...</th>\n",
              "      <td>...</td>\n",
              "      <td>...</td>\n",
              "      <td>...</td>\n",
              "      <td>...</td>\n",
              "      <td>...</td>\n",
              "      <td>...</td>\n",
              "      <td>...</td>\n",
              "      <td>...</td>\n",
              "      <td>...</td>\n",
              "      <td>...</td>\n",
              "      <td>...</td>\n",
              "      <td>...</td>\n",
              "    </tr>\n",
              "    <tr>\n",
              "      <th>4688</th>\n",
              "      <td>4688</td>\n",
              "      <td>ALHAF.PA</td>\n",
              "      <td>ALXP</td>\n",
              "      <td>Europe</td>\n",
              "      <td>France</td>\n",
              "      <td>GRAND EST</td>\n",
              "      <td>2015</td>\n",
              "      <td>Energy</td>\n",
              "      <td>Renewable Energy</td>\n",
              "      <td>Renewable Energy</td>\n",
              "      <td>Renewable Fuels</td>\n",
              "      <td>Biomass &amp; Biogas Fuels</td>\n",
              "    </tr>\n",
              "    <tr>\n",
              "      <th>4689</th>\n",
              "      <td>4689</td>\n",
              "      <td>SMRTG.IS</td>\n",
              "      <td>XEQY</td>\n",
              "      <td>Asia</td>\n",
              "      <td>Turkey</td>\n",
              "      <td>&lt;NA&gt;</td>\n",
              "      <td>2014</td>\n",
              "      <td>Energy</td>\n",
              "      <td>Renewable Energy</td>\n",
              "      <td>Renewable Energy</td>\n",
              "      <td>Renewable Energy Equipment &amp; Services</td>\n",
              "      <td>Renewable Energy Equipment &amp; Services (NEC)</td>\n",
              "    </tr>\n",
              "    <tr>\n",
              "      <th>4690</th>\n",
              "      <td>4690</td>\n",
              "      <td>FDR.AX</td>\n",
              "      <td>XASX</td>\n",
              "      <td>Oceania</td>\n",
              "      <td>Australia</td>\n",
              "      <td>WESTERN AUSTRALIA</td>\n",
              "      <td>2004</td>\n",
              "      <td>Energy</td>\n",
              "      <td>Energy - Fossil Fuels</td>\n",
              "      <td>Oil &amp; Gas</td>\n",
              "      <td>Oil &amp; Gas Exploration and Production</td>\n",
              "      <td>Oil &amp; Gas Exploration and Production (NEC)</td>\n",
              "    </tr>\n",
              "    <tr>\n",
              "      <th>4691</th>\n",
              "      <td>4691</td>\n",
              "      <td>DINO.N</td>\n",
              "      <td>XNYS</td>\n",
              "      <td>America</td>\n",
              "      <td>United States of America</td>\n",
              "      <td>TEXAS</td>\n",
              "      <td>2021</td>\n",
              "      <td>Energy</td>\n",
              "      <td>Energy - Fossil Fuels</td>\n",
              "      <td>Oil &amp; Gas</td>\n",
              "      <td>Oil &amp; Gas Refining and Marketing</td>\n",
              "      <td>Petroleum Refining</td>\n",
              "    </tr>\n",
              "    <tr>\n",
              "      <th>4692</th>\n",
              "      <td>4692</td>\n",
              "      <td>SICO.JK</td>\n",
              "      <td>XIDX</td>\n",
              "      <td>Asia</td>\n",
              "      <td>Indonesia</td>\n",
              "      <td>Java</td>\n",
              "      <td>2007</td>\n",
              "      <td>Energy</td>\n",
              "      <td>Energy - Fossil Fuels</td>\n",
              "      <td>Oil &amp; Gas Related Equipment and Services</td>\n",
              "      <td>Oil Related Services and Equipment</td>\n",
              "      <td>Oil Related Services</td>\n",
              "    </tr>\n",
              "  </tbody>\n",
              "</table>\n",
              "<p>4693 rows × 12 columns</p>\n",
              "</div>\n",
              "      <button class=\"colab-df-convert\" onclick=\"convertToInteractive('df-f30a66d7-801a-45b7-8a5f-e6597386aec5')\"\n",
              "              title=\"Convert this dataframe to an interactive table.\"\n",
              "              style=\"display:none;\">\n",
              "        \n",
              "  <svg xmlns=\"http://www.w3.org/2000/svg\" height=\"24px\"viewBox=\"0 0 24 24\"\n",
              "       width=\"24px\">\n",
              "    <path d=\"M0 0h24v24H0V0z\" fill=\"none\"/>\n",
              "    <path d=\"M18.56 5.44l.94 2.06.94-2.06 2.06-.94-2.06-.94-.94-2.06-.94 2.06-2.06.94zm-11 1L8.5 8.5l.94-2.06 2.06-.94-2.06-.94L8.5 2.5l-.94 2.06-2.06.94zm10 10l.94 2.06.94-2.06 2.06-.94-2.06-.94-.94-2.06-.94 2.06-2.06.94z\"/><path d=\"M17.41 7.96l-1.37-1.37c-.4-.4-.92-.59-1.43-.59-.52 0-1.04.2-1.43.59L10.3 9.45l-7.72 7.72c-.78.78-.78 2.05 0 2.83L4 21.41c.39.39.9.59 1.41.59.51 0 1.02-.2 1.41-.59l7.78-7.78 2.81-2.81c.8-.78.8-2.07 0-2.86zM5.41 20L4 18.59l7.72-7.72 1.47 1.35L5.41 20z\"/>\n",
              "  </svg>\n",
              "      </button>\n",
              "      \n",
              "  <style>\n",
              "    .colab-df-container {\n",
              "      display:flex;\n",
              "      flex-wrap:wrap;\n",
              "      gap: 12px;\n",
              "    }\n",
              "\n",
              "    .colab-df-convert {\n",
              "      background-color: #E8F0FE;\n",
              "      border: none;\n",
              "      border-radius: 50%;\n",
              "      cursor: pointer;\n",
              "      display: none;\n",
              "      fill: #1967D2;\n",
              "      height: 32px;\n",
              "      padding: 0 0 0 0;\n",
              "      width: 32px;\n",
              "    }\n",
              "\n",
              "    .colab-df-convert:hover {\n",
              "      background-color: #E2EBFA;\n",
              "      box-shadow: 0px 1px 2px rgba(60, 64, 67, 0.3), 0px 1px 3px 1px rgba(60, 64, 67, 0.15);\n",
              "      fill: #174EA6;\n",
              "    }\n",
              "\n",
              "    [theme=dark] .colab-df-convert {\n",
              "      background-color: #3B4455;\n",
              "      fill: #D2E3FC;\n",
              "    }\n",
              "\n",
              "    [theme=dark] .colab-df-convert:hover {\n",
              "      background-color: #434B5C;\n",
              "      box-shadow: 0px 1px 3px 1px rgba(0, 0, 0, 0.15);\n",
              "      filter: drop-shadow(0px 1px 2px rgba(0, 0, 0, 0.3));\n",
              "      fill: #FFFFFF;\n",
              "    }\n",
              "  </style>\n",
              "\n",
              "      <script>\n",
              "        const buttonEl =\n",
              "          document.querySelector('#df-f30a66d7-801a-45b7-8a5f-e6597386aec5 button.colab-df-convert');\n",
              "        buttonEl.style.display =\n",
              "          google.colab.kernel.accessAllowed ? 'block' : 'none';\n",
              "\n",
              "        async function convertToInteractive(key) {\n",
              "          const element = document.querySelector('#df-f30a66d7-801a-45b7-8a5f-e6597386aec5');\n",
              "          const dataTable =\n",
              "            await google.colab.kernel.invokeFunction('convertToInteractive',\n",
              "                                                     [key], {});\n",
              "          if (!dataTable) return;\n",
              "\n",
              "          const docLinkHtml = 'Like what you see? Visit the ' +\n",
              "            '<a target=\"_blank\" href=https://colab.research.google.com/notebooks/data_table.ipynb>data table notebook</a>'\n",
              "            + ' to learn more about interactive tables.';\n",
              "          element.innerHTML = '';\n",
              "          dataTable['output_type'] = 'display_data';\n",
              "          await google.colab.output.renderOutput(dataTable, element);\n",
              "          const docLink = document.createElement('div');\n",
              "          docLink.innerHTML = docLinkHtml;\n",
              "          element.appendChild(docLink);\n",
              "        }\n",
              "      </script>\n",
              "    </div>\n",
              "  </div>\n",
              "  "
            ]
          },
          "metadata": {},
          "execution_count": 97
        }
      ]
    },
    {
      "cell_type": "code",
      "execution_count": null,
      "metadata": {
        "colab": {
          "base_uri": "https://localhost:8080/",
          "height": 265
        },
        "id": "kpbLNmljd6Ih",
        "outputId": "66157957-0e5e-49d3-8b50-33faabbbd989"
      },
      "outputs": [
        {
          "output_type": "display_data",
          "data": {
            "text/plain": [
              "<Figure size 432x288 with 1 Axes>"
            ],
            "image/png": "[encoded data removed]"
          },
          "metadata": {
            "needs_background": "light"
          }
        }
      ],
      "source": [
        " meta_df[meta_df.ticker.isin(full_data_companies)].economic_sector.hist();"
      ]
    },
    {
      "cell_type": "markdown",
      "metadata": {
        "id": "OwAY5TmweBrx"
      },
      "source": [
        "There are more banking services companies than there are energy. We want the selection to be 50/50 overall (will in reality be time dependent), and thus find the ~850 companies  "
      ]
    },
    {
      "cell_type": "markdown",
      "metadata": {
        "id": "Z_yD98K_d5YA"
      },
      "source": [
        "## Select the most data rich companies from the banking sector category"
      ]
    },
    {
      "cell_type": "code",
      "execution_count": null,
      "metadata": {
        "id": "VNtobXMPaf1l"
      },
      "outputs": [],
      "source": [
        "oil_inner_joined = meta_df[(meta_df.ticker.isin(full_data_companies)) & (meta_df.economic_sector == \"Energy\")].ticker\n",
        "banking_services_inner_joined = meta_df[(meta_df.ticker.isin(full_data_companies)) & (meta_df.industry_group == \"Banking Services\")].ticker"
      ]
    },
    {
      "cell_type": "code",
      "execution_count": null,
      "metadata": {
        "id": "LXa-G95pe-AC"
      },
      "outputs": [],
      "source": [
        "banking_lst = []\n",
        "for ticker, banking_df in fundamental_df[fundamental_df.ticker.isin(banking_services_inner_joined)].groupby(by=\"ticker\"):\n",
        "    banking_lst.append((ticker, banking_df.count(axis=0, numeric_only=True).sum()))\n",
        "\n",
        "sorted_by_non_na_count = sorted(banking_lst, key=lambda tup: tup[1])"
      ]
    },
    {
      "cell_type": "code",
      "execution_count": null,
      "metadata": {
        "colab": {
          "base_uri": "https://localhost:8080/",
          "height": 297
        },
        "id": "3epusg-Bf_WS",
        "outputId": "c22a74d2-8952-4f26-a2b5-99571ef55d0d"
      },
      "outputs": [
        {
          "output_type": "stream",
          "name": "stdout",
          "text": [
            "679\n"
          ]
        },
        {
          "output_type": "display_data",
          "data": {
            "text/plain": [
              "<Figure size 432x288 with 1 Axes>"
            ],
            "image/png": "[encoded data removed]"
          },
          "metadata": {
            "needs_background": "light"
          }
        }
      ],
      "source": [
        "banking_services_sorted = list(list(zip(*sorted_by_non_na_count))[0])\n",
        "entries = list(list(zip(*sorted_by_non_na_count))[1])\n",
        "\n",
        "cutoff_idex = len(banking_services_sorted) - len(oil_inner_joined)\n",
        "print(cutoff_idex)\n",
        "cutoff_entries = entries[:cutoff_idex] + [None]*(len(banking_services_sorted)-cutoff_idex)\n",
        "kept_entries = [None]*(cutoff_idex) + entries[cutoff_idex:] \n",
        "\n",
        "plt.vlines(cutoff_idex, 0, max(entries), color=\"grey\", linestyle=\"-.\")\n",
        "plt.hlines(entries[cutoff_idex], 0, len(banking_services_sorted), color=\"grey\", linestyle=\"-.\")\n",
        "\n",
        "plt.ylabel(\"Number of fundamental entries\")\n",
        "plt.xlabel(\"Company sorted by fundamental entries\")\n",
        "\n",
        "plt.plot([i for i in range(len(banking_services_sorted))], kept_entries)\n",
        "plt.plot([i for i in range(len(banking_services_sorted))], cutoff_entries);"
      ]
    },
    {
      "cell_type": "code",
      "execution_count": null,
      "metadata": {
        "colab": {
          "base_uri": "https://localhost:8080/"
        },
        "id": "VIyGxyKTk3wl",
        "outputId": "292c1d1e-97f8-4afe-c83f-efbde666d237"
      },
      "outputs": [
        {
          "output_type": "stream",
          "name": "stdout",
          "text": [
            "Hurray now we have matching length of data with 923 companies of each sector\n"
          ]
        }
      ],
      "source": [
        "signal_rich_banking = banking_services_sorted[cutoff_idex:]\n",
        "\n",
        "if len(signal_rich_banking) == len(oil_inner_joined):\n",
        "    print(f\"Hurray now we have matching length of data with {len(oil_inner_joined)} companies of each sector\") "
      ]
    },
    {
      "cell_type": "code",
      "execution_count": null,
      "metadata": {
        "id": "y96ntjbEpsRQ"
      },
      "outputs": [],
      "source": [
        "banking_oil_equal_tickers = full_data_companies & (set(signal_rich_banking) | set(oil_inner_joined.to_list()) )"
      ]
    },
    {
      "cell_type": "markdown",
      "metadata": {
        "id": "Q0LS11l97am_"
      },
      "source": [
        "## Inspect the raw data\n",
        "\n",
        "To know what we're working with"
      ]
    },
    {
      "cell_type": "code",
      "execution_count": null,
      "metadata": {
        "id": "IwLo7CT5vIVM"
      },
      "outputs": [],
      "source": [
        "fundamental_df = fundamental_df.rename(columns=column_mapping).astype({\"announce_date\":\"datetime64[ns]\"})\n",
        "meta_df = meta_df.rename(columns=column_mapping)\n",
        "\n",
        "full_data_fundamentals = fundamental_df[fundamental_df[\"ticker\"].isin(banking_oil_equal_tickers)]\n",
        "full_data_stock = stock_df[stock_df[\"ticker\"].isin(banking_oil_equal_tickers)]\n",
        "full_data_meta = meta_df[meta_df[\"ticker\"].isin(banking_oil_equal_tickers)]"
      ]
    },
    {
      "cell_type": "code",
      "source": [
        "full_data_fundamentals = full_data_fundamentals.iloc[:,1:] "
      ],
      "metadata": {
        "id": "dnLw_uY02ew_"
      },
      "execution_count": null,
      "outputs": []
    },
    {
      "cell_type": "code",
      "execution_count": null,
      "metadata": {
        "colab": {
          "base_uri": "https://localhost:8080/"
        },
        "id": "8f9zWG0XRs_k",
        "outputId": "08e271a0-c517-4384-e144-8530b72fc4d8"
      },
      "outputs": [
        {
          "output_type": "execute_result",
          "data": {
            "text/plain": [
              "(7480362, 1141603, 3619)"
            ]
          },
          "metadata": {},
          "execution_count": 34
        }
      ],
      "source": [
        "(\n",
        "    full_data_stock.shape[0],\n",
        "    full_data_fundamentals.count(axis=0, numeric_only=True).sum(),\n",
        "    full_data_meta.count(axis=0, numeric_only=True).sum(),\n",
        ")"
      ]
    },
    {
      "cell_type": "code",
      "source": [
        "inner_joined_without_augmentation = full_data_fundamentals.loc[:,:\"short_term_debt_p_assets\"]"
      ],
      "metadata": {
        "id": "4j8Oj0LgE0eF"
      },
      "execution_count": null,
      "outputs": []
    },
    {
      "cell_type": "code",
      "source": [
        "print(\"\\t   ----STOCK----\")\n",
        "print(f\"stock in entries left: {full_data_stock.shape[0]:,}\")\n",
        "\n",
        "print(\"\\n\\t----FUNDAMENTALS----\")\n",
        "print(f\"datapoints in rapports left: {inner_joined_without_augmentation.count(axis=0, numeric_only=True).sum():,}\")\n",
        "print(f\"quarterly rapports left: {inner_joined_without_augmentation.shape[0]:,}\")\n",
        "print(f\"average entries per rapports left: {inner_joined_without_augmentation.count(axis=0, numeric_only=True).sum()/full_data_fundamentals.shape[0]}\") "
      ],
      "metadata": {
        "colab": {
          "base_uri": "https://localhost:8080/"
        },
        "id": "DRWFyCA3EQA-",
        "outputId": "2a77ac04-eebc-4b11-ae66-d167a2951dcc"
      },
      "execution_count": null,
      "outputs": [
        {
          "output_type": "stream",
          "name": "stdout",
          "text": [
            "\t   ----STOCK----\n",
            "stock in entries left: 7,480,362\n",
            "\n",
            "\t----FUNDAMENTALS----\n",
            "datapoints in rapports left: 917,887\n",
            "quarterly rapports left: 104,178\n",
            "average entries per rapports left: 8.810756589683043\n"
          ]
        }
      ]
    },
    {
      "cell_type": "markdown",
      "source": [
        ""
      ],
      "metadata": {
        "id": "3oqtvEvDEOz0"
      }
    },
    {
      "cell_type": "code",
      "execution_count": null,
      "metadata": {
        "colab": {
          "base_uri": "https://localhost:8080/"
        },
        "id": "fB8qxW61Czwn",
        "outputId": "00d400e7-7eb0-433d-d3d4-475a60a9aaed"
      },
      "outputs": [
        {
          "output_type": "stream",
          "name": "stderr",
          "text": [
            "100%|██████████| 1846/1846 [00:41<00:00, 44.20it/s]\n"
          ]
        }
      ],
      "source": [
        "forward_filled_df = pd.DataFrame(columns=full_data_fundamentals.columns) \n",
        "\n",
        "for ric in tqdm(full_data_fundamentals[\"ticker\"].unique()):\n",
        "    forward_filled_df = pd.concat( [forward_filled_df, full_data_fundamentals[full_data_fundamentals[\"ticker\"] == ric].ffill(axis = 0)], axis=0)\n"
      ]
    },
    {
      "cell_type": "code",
      "source": [
        "print(\"\\t   ----STOCK----\")\n",
        "print(f\"stock in entries left: {full_data_stock.shape[0]:,}\")\n",
        "\n",
        "print(\"\\n\\t----FUNDAMENTALS----\")\n",
        "print(f\"datapoints in rapports left: {forward_filled_df.count(axis=0, numeric_only=True).sum():,}\")\n",
        "print(f\"quarterly rapports left: {forward_filled_df.shape[0]:,}\")\n",
        "print(f\"average entries per rapports left: {forward_filled_df.count(axis=0, numeric_only=True).sum()/forward_filled_df.shape[0]}\") "
      ],
      "metadata": {
        "colab": {
          "base_uri": "https://localhost:8080/"
        },
        "id": "AUK7dHXaCg5E",
        "outputId": "1d8284c6-c180-4914-bfa3-e6ed5fdc24da"
      },
      "execution_count": null,
      "outputs": [
        {
          "output_type": "stream",
          "name": "stdout",
          "text": [
            "\t   ----STOCK----\n",
            "stock in entries left: 7,480,362\n",
            "\n",
            "\t----FUNDAMENTALS----\n",
            "datapoints in rapports left: 1,206,983\n",
            "quarterly rapports left: 104,178\n",
            "average entries per rapports left: 11.58577626754209\n"
          ]
        }
      ]
    },
    {
      "cell_type": "markdown",
      "source": [
        "Wow! After this rather strict datacleaning process we have 14.9m day closing prices for 1846 companies, "
      ],
      "metadata": {
        "id": "lbhexWwcKd1f"
      }
    },
    {
      "cell_type": "markdown",
      "metadata": {
        "id": "r6j_cgwPGmC4"
      },
      "source": [
        "## Upload full data to WandB"
      ]
    },
    {
      "cell_type": "code",
      "execution_count": null,
      "metadata": {
        "colab": {
          "base_uri": "https://localhost:8080/",
          "height": 388,
          "referenced_widgets": [
            "0771f8207a494a37975aa94d2d1c3b90",
            "5c9cd32e681e4698bf8d89eb9eb4ed20",
            "cf4cce3c439a4d04ab77cc7cbfd33c40",
            "d9bc156480a547f6add92a39b9344a13",
            "f728399c739041e292bdf358d57f5720",
            "76276d8ae7964f98bdd3395ffb243ebc",
            "ead601245ec748b49d89a2b0f23b32eb",
            "fbf4269604ac4cadb8f9b07b0ad1d851",
            "60bb1f0ce3d945efa229868e6aa1b1aa",
            "d09aa4e4b28c4ce4ba92d2293033d7da",
            "5e641b1f4dc54e57af868d3bed413812",
            "e5ce72156ae448c58c6a542356d27d3c",
            "f59b4ce5964e4d9ea41db04d99127edc",
            "327bf4a80a0a4bdaaa567c78418822f0",
            "8ee7f5402073493fb8c4342aad6823cb",
            "0e370477b2784f9ba733d160b91f3c7b",
            "92e700a16430432facbcecd71820a33c",
            "56dd61aa20b54551b9ae3de22be326e2",
            "8bf6490b8f994deea60e353dc56f300b",
            "7d7dc54b3bad40379b861a5fc7a7b57e",
            "ef45757dba444f5f9bcf51b738582d80",
            "1fc98f9e88744e6db1c187bf104826dd",
            "26125a51807b4d1e9c016ebf59928852",
            "b31674a6acaf440fa53da055ef946a07"
          ]
        },
        "id": "5rDKdq95EU3O",
        "outputId": "2bacde90-2c05-467a-e1d6-7dd51f27fcd0"
      },
      "outputs": [
        {
          "output_type": "display_data",
          "data": {
            "text/plain": [
              "<IPython.core.display.HTML object>"
            ],
            "text/html": [
              "Tracking run with wandb version 0.12.16"
            ]
          },
          "metadata": {}
        },
        {
          "output_type": "display_data",
          "data": {
            "text/plain": [
              "<IPython.core.display.HTML object>"
            ],
            "text/html": [
              "Run data is saved locally in <code>/content/wandb/run-20220525_110817-1i6e69mb</code>"
            ]
          },
          "metadata": {}
        },
        {
          "output_type": "display_data",
          "data": {
            "text/plain": [
              "<IPython.core.display.HTML object>"
            ],
            "text/html": [
              "Syncing run <strong><a href=\"https://wandb.ai/krankile/master/runs/1i6e69mb\" target=\"_blank\">logical-voice-19</a></strong> to <a href=\"https://wandb.ai/krankile/master\" target=\"_blank\">Weights & Biases</a> (<a href=\"https://wandb.me/run\" target=\"_blank\">docs</a>)<br/>"
            ]
          },
          "metadata": {}
        },
        {
          "output_type": "display_data",
          "data": {
            "text/plain": [
              "<IPython.core.display.HTML object>"
            ],
            "text/html": [
              "Waiting for W&B process to finish... <strong style=\"color:green\">(success).</strong>"
            ]
          },
          "metadata": {}
        },
        {
          "output_type": "display_data",
          "data": {
            "text/plain": [
              "VBox(children=(Label(value='9.177 MB of 9.177 MB uploaded (0.000 MB deduped)\\r'), FloatProgress(value=1.0, max…"
            ],
            "application/vnd.jupyter.widget-view+json": {
              "version_major": 2,
              "version_minor": 0,
              "model_id": "0771f8207a494a37975aa94d2d1c3b90"
            }
          },
          "metadata": {}
        },
        {
          "output_type": "display_data",
          "data": {
            "text/plain": [
              "<IPython.core.display.HTML object>"
            ],
            "text/html": [
              "Synced <strong style=\"color:#cdcd00\">logical-voice-19</strong>: <a href=\"https://wandb.ai/krankile/master/runs/1i6e69mb\" target=\"_blank\">https://wandb.ai/krankile/master/runs/1i6e69mb</a><br/>Synced 4 W&B file(s), 0 media file(s), 1 artifact file(s) and 0 other file(s)"
            ]
          },
          "metadata": {}
        },
        {
          "output_type": "display_data",
          "data": {
            "text/plain": [
              "<IPython.core.display.HTML object>"
            ],
            "text/html": [
              "Find logs at: <code>./wandb/run-20220525_110817-1i6e69mb/logs</code>"
            ]
          },
          "metadata": {}
        },
        {
          "output_type": "display_data",
          "data": {
            "text/plain": [
              "<IPython.core.display.HTML object>"
            ],
            "text/html": [
              "Tracking run with wandb version 0.12.16"
            ]
          },
          "metadata": {}
        },
        {
          "output_type": "display_data",
          "data": {
            "text/plain": [
              "<IPython.core.display.HTML object>"
            ],
            "text/html": [
              "Run data is saved locally in <code>/content/wandb/run-20220525_110830-39mzyv65</code>"
            ]
          },
          "metadata": {}
        },
        {
          "output_type": "display_data",
          "data": {
            "text/plain": [
              "<IPython.core.display.HTML object>"
            ],
            "text/html": [
              "Syncing run <strong><a href=\"https://wandb.ai/krankile/master/runs/39mzyv65\" target=\"_blank\">autumn-dust-20</a></strong> to <a href=\"https://wandb.ai/krankile/master\" target=\"_blank\">Weights & Biases</a> (<a href=\"https://wandb.me/run\" target=\"_blank\">docs</a>)<br/>"
            ]
          },
          "metadata": {}
        },
        {
          "output_type": "display_data",
          "data": {
            "text/plain": [
              "<IPython.core.display.HTML object>"
            ],
            "text/html": [
              "Waiting for W&B process to finish... <strong style=\"color:green\">(success).</strong>"
            ]
          },
          "metadata": {}
        },
        {
          "output_type": "display_data",
          "data": {
            "text/plain": [
              "VBox(children=(Label(value='178.127 MB of 178.127 MB uploaded (0.000 MB deduped)\\r'), FloatProgress(value=1.0,…"
            ],
            "application/vnd.jupyter.widget-view+json": {
              "version_major": 2,
              "version_minor": 0,
              "model_id": "60bb1f0ce3d945efa229868e6aa1b1aa"
            }
          },
          "metadata": {}
        },
        {
          "output_type": "display_data",
          "data": {
            "text/plain": [
              "<IPython.core.display.HTML object>"
            ],
            "text/html": [
              "Synced <strong style=\"color:#cdcd00\">autumn-dust-20</strong>: <a href=\"https://wandb.ai/krankile/master/runs/39mzyv65\" target=\"_blank\">https://wandb.ai/krankile/master/runs/39mzyv65</a><br/>Synced 4 W&B file(s), 0 media file(s), 1 artifact file(s) and 0 other file(s)"
            ]
          },
          "metadata": {}
        },
        {
          "output_type": "display_data",
          "data": {
            "text/plain": [
              "<IPython.core.display.HTML object>"
            ],
            "text/html": [
              "Find logs at: <code>./wandb/run-20220525_110830-39mzyv65/logs</code>"
            ]
          },
          "metadata": {}
        },
        {
          "output_type": "display_data",
          "data": {
            "text/plain": [
              "<IPython.core.display.HTML object>"
            ],
            "text/html": [
              "Tracking run with wandb version 0.12.16"
            ]
          },
          "metadata": {}
        },
        {
          "output_type": "display_data",
          "data": {
            "text/plain": [
              "<IPython.core.display.HTML object>"
            ],
            "text/html": [
              "Run data is saved locally in <code>/content/wandb/run-20220525_110842-2wmo3l1v</code>"
            ]
          },
          "metadata": {}
        },
        {
          "output_type": "display_data",
          "data": {
            "text/plain": [
              "<IPython.core.display.HTML object>"
            ],
            "text/html": [
              "Syncing run <strong><a href=\"https://wandb.ai/krankile/master/runs/2wmo3l1v\" target=\"_blank\">effortless-water-21</a></strong> to <a href=\"https://wandb.ai/krankile/master\" target=\"_blank\">Weights & Biases</a> (<a href=\"https://wandb.me/run\" target=\"_blank\">docs</a>)<br/>"
            ]
          },
          "metadata": {}
        },
        {
          "output_type": "display_data",
          "data": {
            "text/plain": [
              "<IPython.core.display.HTML object>"
            ],
            "text/html": [
              "Waiting for W&B process to finish... <strong style=\"color:green\">(success).</strong>"
            ]
          },
          "metadata": {}
        },
        {
          "output_type": "display_data",
          "data": {
            "text/plain": [
              "VBox(children=(Label(value='0.133 MB of 0.133 MB uploaded (0.000 MB deduped)\\r'), FloatProgress(value=1.0, max…"
            ],
            "application/vnd.jupyter.widget-view+json": {
              "version_major": 2,
              "version_minor": 0,
              "model_id": "92e700a16430432facbcecd71820a33c"
            }
          },
          "metadata": {}
        },
        {
          "output_type": "display_data",
          "data": {
            "text/plain": [
              "<IPython.core.display.HTML object>"
            ],
            "text/html": [
              "Synced <strong style=\"color:#cdcd00\">effortless-water-21</strong>: <a href=\"https://wandb.ai/krankile/master/runs/2wmo3l1v\" target=\"_blank\">https://wandb.ai/krankile/master/runs/2wmo3l1v</a><br/>Synced 4 W&B file(s), 0 media file(s), 1 artifact file(s) and 0 other file(s)"
            ]
          },
          "metadata": {}
        },
        {
          "output_type": "display_data",
          "data": {
            "text/plain": [
              "<IPython.core.display.HTML object>"
            ],
            "text/html": [
              "Find logs at: <code>./wandb/run-20220525_110842-2wmo3l1v/logs</code>"
            ]
          },
          "metadata": {}
        }
      ],
      "source": [
        "upload = False\n",
        "\n",
        "if upload:\n",
        "    put_dataset(forward_filled_df, filename=\"fundamental-data.feather\", project=\"master\")\n",
        "    put_dataset(full_data_stock, filename=\"stock-data.feather\", project=\"master\")\n",
        "    put_dataset(full_data_meta, filename=\"meta-data.feather\", project=\"master\")"
      ]
    },
    {
      "cell_type": "markdown",
      "source": [
        "## Now add some aliases to recognize the version "
      ],
      "metadata": {
        "id": "D-9hdZ1b6hIR"
      }
    },
    {
      "cell_type": "code",
      "execution_count": null,
      "metadata": {
        "id": "41vo3NRC8NDA"
      },
      "outputs": [],
      "source": [
        "update_alias = True\n",
        "project = \"master\"\n",
        "alias = \"final\"\n",
        "artifacts = ['fundamental-data:v2', \"stock-data:v1\", \"meta-data:v2\", \"macro-data:v0\"]\n",
        "\n",
        "if update_alias:\n",
        "    update_aliases(project=project, alias=alias, artifacts=artifacts)"
      ]
    },
    {
      "cell_type": "code",
      "source": [
        ""
      ],
      "metadata": {
        "id": "Kk6o3xzS7UDX"
      },
      "execution_count": null,
      "outputs": []
    }
  ],
  "metadata": {
    "colab": {
      "collapsed_sections": [],
      "machine_shape": "hm",
      "name": "inner_join_fundamentals_and_stock.ipynb",
      "provenance": [],
      "toc_visible": true,
      "include_colab_link": true
    },
    "kernelspec": {
      "display_name": "Python 3",
      "name": "python3"
    },
    "language_info": {
      "name": "python"
    },
    "widgets": {
      "application/vnd.jupyter.widget-state+json": {
        "0771f8207a494a37975aa94d2d1c3b90": {
          "model_module": "@jupyter-widgets/controls",
          "model_name": "VBoxModel",
          "model_module_version": "1.5.0",
          "state": {
            "_dom_classes": [],
            "_model_module": "@jupyter-widgets/controls",
            "_model_module_version": "1.5.0",
            "_model_name": "VBoxModel",
            "_view_count": null,
            "_view_module": "@jupyter-widgets/controls",
            "_view_module_version": "1.5.0",
            "_view_name": "VBoxView",
            "box_style": "",
            "children": [
              "IPY_MODEL_5c9cd32e681e4698bf8d89eb9eb4ed20",
              "IPY_MODEL_cf4cce3c439a4d04ab77cc7cbfd33c40"
            ],
            "layout": "IPY_MODEL_d9bc156480a547f6add92a39b9344a13"
          }
        },
        "5c9cd32e681e4698bf8d89eb9eb4ed20": {
          "model_module": "@jupyter-widgets/controls",
          "model_name": "LabelModel",
          "model_module_version": "1.5.0",
          "state": {
            "_dom_classes": [],
            "_model_module": "@jupyter-widgets/controls",
            "_model_module_version": "1.5.0",
            "_model_name": "LabelModel",
            "_view_count": null,
            "_view_module": "@jupyter-widgets/controls",
            "_view_module_version": "1.5.0",
            "_view_name": "LabelView",
            "description": "",
            "description_tooltip": null,
            "layout": "IPY_MODEL_f728399c739041e292bdf358d57f5720",
            "placeholder": "​",
            "style": "IPY_MODEL_76276d8ae7964f98bdd3395ffb243ebc",
            "value": "9.185 MB of 9.185 MB uploaded (0.000 MB deduped)\r"
          }
        },
        "cf4cce3c439a4d04ab77cc7cbfd33c40": {
          "model_module": "@jupyter-widgets/controls",
          "model_name": "FloatProgressModel",
          "model_module_version": "1.5.0",
          "state": {
            "_dom_classes": [],
            "_model_module": "@jupyter-widgets/controls",
            "_model_module_version": "1.5.0",
            "_model_name": "FloatProgressModel",
            "_view_count": null,
            "_view_module": "@jupyter-widgets/controls",
            "_view_module_version": "1.5.0",
            "_view_name": "ProgressView",
            "bar_style": "",
            "description": "",
            "description_tooltip": null,
            "layout": "IPY_MODEL_ead601245ec748b49d89a2b0f23b32eb",
            "max": 1,
            "min": 0,
            "orientation": "horizontal",
            "style": "IPY_MODEL_fbf4269604ac4cadb8f9b07b0ad1d851",
            "value": 1
          }
        },
        "d9bc156480a547f6add92a39b9344a13": {
          "model_module": "@jupyter-widgets/base",
          "model_name": "LayoutModel",
          "model_module_version": "1.2.0",
          "state": {
            "_model_module": "@jupyter-widgets/base",
            "_model_module_version": "1.2.0",
            "_model_name": "LayoutModel",
            "_view_count": null,
            "_view_module": "@jupyter-widgets/base",
            "_view_module_version": "1.2.0",
            "_view_name": "LayoutView",
            "align_content": null,
            "align_items": null,
            "align_self": null,
            "border": null,
            "bottom": null,
            "display": null,
            "flex": null,
            "flex_flow": null,
            "grid_area": null,
            "grid_auto_columns": null,
            "grid_auto_flow": null,
            "grid_auto_rows": null,
            "grid_column": null,
            "grid_gap": null,
            "grid_row": null,
            "grid_template_areas": null,
            "grid_template_columns": null,
            "grid_template_rows": null,
            "height": null,
            "justify_content": null,
            "justify_items": null,
            "left": null,
            "margin": null,
            "max_height": null,
            "max_width": null,
            "min_height": null,
            "min_width": null,
            "object_fit": null,
            "object_position": null,
            "order": null,
            "overflow": null,
            "overflow_x": null,
            "overflow_y": null,
            "padding": null,
            "right": null,
            "top": null,
            "visibility": null,
            "width": null
          }
        },
        "f728399c739041e292bdf358d57f5720": {
          "model_module": "@jupyter-widgets/base",
          "model_name": "LayoutModel",
          "model_module_version": "1.2.0",
          "state": {
            "_model_module": "@jupyter-widgets/base",
            "_model_module_version": "1.2.0",
            "_model_name": "LayoutModel",
            "_view_count": null,
            "_view_module": "@jupyter-widgets/base",
            "_view_module_version": "1.2.0",
            "_view_name": "LayoutView",
            "align_content": null,
            "align_items": null,
            "align_self": null,
            "border": null,
            "bottom": null,
            "display": null,
            "flex": null,
            "flex_flow": null,
            "grid_area": null,
            "grid_auto_columns": null,
            "grid_auto_flow": null,
            "grid_auto_rows": null,
            "grid_column": null,
            "grid_gap": null,
            "grid_row": null,
            "grid_template_areas": null,
            "grid_template_columns": null,
            "grid_template_rows": null,
            "height": null,
            "justify_content": null,
            "justify_items": null,
            "left": null,
            "margin": null,
            "max_height": null,
            "max_width": null,
            "min_height": null,
            "min_width": null,
            "object_fit": null,
            "object_position": null,
            "order": null,
            "overflow": null,
            "overflow_x": null,
            "overflow_y": null,
            "padding": null,
            "right": null,
            "top": null,
            "visibility": null,
            "width": null
          }
        },
        "76276d8ae7964f98bdd3395ffb243ebc": {
          "model_module": "@jupyter-widgets/controls",
          "model_name": "DescriptionStyleModel",
          "model_module_version": "1.5.0",
          "state": {
            "_model_module": "@jupyter-widgets/controls",
            "_model_module_version": "1.5.0",
            "_model_name": "DescriptionStyleModel",
            "_view_count": null,
            "_view_module": "@jupyter-widgets/base",
            "_view_module_version": "1.2.0",
            "_view_name": "StyleView",
            "description_width": ""
          }
        },
        "ead601245ec748b49d89a2b0f23b32eb": {
          "model_module": "@jupyter-widgets/base",
          "model_name": "LayoutModel",
          "model_module_version": "1.2.0",
          "state": {
            "_model_module": "@jupyter-widgets/base",
            "_model_module_version": "1.2.0",
            "_model_name": "LayoutModel",
            "_view_count": null,
            "_view_module": "@jupyter-widgets/base",
            "_view_module_version": "1.2.0",
            "_view_name": "LayoutView",
            "align_content": null,
            "align_items": null,
            "align_self": null,
            "border": null,
            "bottom": null,
            "display": null,
            "flex": null,
            "flex_flow": null,
            "grid_area": null,
            "grid_auto_columns": null,
            "grid_auto_flow": null,
            "grid_auto_rows": null,
            "grid_column": null,
            "grid_gap": null,
            "grid_row": null,
            "grid_template_areas": null,
            "grid_template_columns": null,
            "grid_template_rows": null,
            "height": null,
            "justify_content": null,
            "justify_items": null,
            "left": null,
            "margin": null,
            "max_height": null,
            "max_width": null,
            "min_height": null,
            "min_width": null,
            "object_fit": null,
            "object_position": null,
            "order": null,
            "overflow": null,
            "overflow_x": null,
            "overflow_y": null,
            "padding": null,
            "right": null,
            "top": null,
            "visibility": null,
            "width": null
          }
        },
        "fbf4269604ac4cadb8f9b07b0ad1d851": {
          "model_module": "@jupyter-widgets/controls",
          "model_name": "ProgressStyleModel",
          "model_module_version": "1.5.0",
          "state": {
            "_model_module": "@jupyter-widgets/controls",
            "_model_module_version": "1.5.0",
            "_model_name": "ProgressStyleModel",
            "_view_count": null,
            "_view_module": "@jupyter-widgets/base",
            "_view_module_version": "1.2.0",
            "_view_name": "StyleView",
            "bar_color": null,
            "description_width": ""
          }
        },
        "60bb1f0ce3d945efa229868e6aa1b1aa": {
          "model_module": "@jupyter-widgets/controls",
          "model_name": "VBoxModel",
          "model_module_version": "1.5.0",
          "state": {
            "_dom_classes": [],
            "_model_module": "@jupyter-widgets/controls",
            "_model_module_version": "1.5.0",
            "_model_name": "VBoxModel",
            "_view_count": null,
            "_view_module": "@jupyter-widgets/controls",
            "_view_module_version": "1.5.0",
            "_view_name": "VBoxView",
            "box_style": "",
            "children": [
              "IPY_MODEL_d09aa4e4b28c4ce4ba92d2293033d7da",
              "IPY_MODEL_5e641b1f4dc54e57af868d3bed413812"
            ],
            "layout": "IPY_MODEL_e5ce72156ae448c58c6a542356d27d3c"
          }
        },
        "d09aa4e4b28c4ce4ba92d2293033d7da": {
          "model_module": "@jupyter-widgets/controls",
          "model_name": "LabelModel",
          "model_module_version": "1.5.0",
          "state": {
            "_dom_classes": [],
            "_model_module": "@jupyter-widgets/controls",
            "_model_module_version": "1.5.0",
            "_model_name": "LabelModel",
            "_view_count": null,
            "_view_module": "@jupyter-widgets/controls",
            "_view_module_version": "1.5.0",
            "_view_name": "LabelView",
            "description": "",
            "description_tooltip": null,
            "layout": "IPY_MODEL_f59b4ce5964e4d9ea41db04d99127edc",
            "placeholder": "​",
            "style": "IPY_MODEL_327bf4a80a0a4bdaaa567c78418822f0",
            "value": "178.135 MB of 178.135 MB uploaded (0.000 MB deduped)\r"
          }
        },
        "5e641b1f4dc54e57af868d3bed413812": {
          "model_module": "@jupyter-widgets/controls",
          "model_name": "FloatProgressModel",
          "model_module_version": "1.5.0",
          "state": {
            "_dom_classes": [],
            "_model_module": "@jupyter-widgets/controls",
            "_model_module_version": "1.5.0",
            "_model_name": "FloatProgressModel",
            "_view_count": null,
            "_view_module": "@jupyter-widgets/controls",
            "_view_module_version": "1.5.0",
            "_view_name": "ProgressView",
            "bar_style": "",
            "description": "",
            "description_tooltip": null,
            "layout": "IPY_MODEL_8ee7f5402073493fb8c4342aad6823cb",
            "max": 1,
            "min": 0,
            "orientation": "horizontal",
            "style": "IPY_MODEL_0e370477b2784f9ba733d160b91f3c7b",
            "value": 1
          }
        },
        "e5ce72156ae448c58c6a542356d27d3c": {
          "model_module": "@jupyter-widgets/base",
          "model_name": "LayoutModel",
          "model_module_version": "1.2.0",
          "state": {
            "_model_module": "@jupyter-widgets/base",
            "_model_module_version": "1.2.0",
            "_model_name": "LayoutModel",
            "_view_count": null,
            "_view_module": "@jupyter-widgets/base",
            "_view_module_version": "1.2.0",
            "_view_name": "LayoutView",
            "align_content": null,
            "align_items": null,
            "align_self": null,
            "border": null,
            "bottom": null,
            "display": null,
            "flex": null,
            "flex_flow": null,
            "grid_area": null,
            "grid_auto_columns": null,
            "grid_auto_flow": null,
            "grid_auto_rows": null,
            "grid_column": null,
            "grid_gap": null,
            "grid_row": null,
            "grid_template_areas": null,
            "grid_template_columns": null,
            "grid_template_rows": null,
            "height": null,
            "justify_content": null,
            "justify_items": null,
            "left": null,
            "margin": null,
            "max_height": null,
            "max_width": null,
            "min_height": null,
            "min_width": null,
            "object_fit": null,
            "object_position": null,
            "order": null,
            "overflow": null,
            "overflow_x": null,
            "overflow_y": null,
            "padding": null,
            "right": null,
            "top": null,
            "visibility": null,
            "width": null
          }
        },
        "f59b4ce5964e4d9ea41db04d99127edc": {
          "model_module": "@jupyter-widgets/base",
          "model_name": "LayoutModel",
          "model_module_version": "1.2.0",
          "state": {
            "_model_module": "@jupyter-widgets/base",
            "_model_module_version": "1.2.0",
            "_model_name": "LayoutModel",
            "_view_count": null,
            "_view_module": "@jupyter-widgets/base",
            "_view_module_version": "1.2.0",
            "_view_name": "LayoutView",
            "align_content": null,
            "align_items": null,
            "align_self": null,
            "border": null,
            "bottom": null,
            "display": null,
            "flex": null,
            "flex_flow": null,
            "grid_area": null,
            "grid_auto_columns": null,
            "grid_auto_flow": null,
            "grid_auto_rows": null,
            "grid_column": null,
            "grid_gap": null,
            "grid_row": null,
            "grid_template_areas": null,
            "grid_template_columns": null,
            "grid_template_rows": null,
            "height": null,
            "justify_content": null,
            "justify_items": null,
            "left": null,
            "margin": null,
            "max_height": null,
            "max_width": null,
            "min_height": null,
            "min_width": null,
            "object_fit": null,
            "object_position": null,
            "order": null,
            "overflow": null,
            "overflow_x": null,
            "overflow_y": null,
            "padding": null,
            "right": null,
            "top": null,
            "visibility": null,
            "width": null
          }
        },
        "327bf4a80a0a4bdaaa567c78418822f0": {
          "model_module": "@jupyter-widgets/controls",
          "model_name": "DescriptionStyleModel",
          "model_module_version": "1.5.0",
          "state": {
            "_model_module": "@jupyter-widgets/controls",
            "_model_module_version": "1.5.0",
            "_model_name": "DescriptionStyleModel",
            "_view_count": null,
            "_view_module": "@jupyter-widgets/base",
            "_view_module_version": "1.2.0",
            "_view_name": "StyleView",
            "description_width": ""
          }
        },
        "8ee7f5402073493fb8c4342aad6823cb": {
          "model_module": "@jupyter-widgets/base",
          "model_name": "LayoutModel",
          "model_module_version": "1.2.0",
          "state": {
            "_model_module": "@jupyter-widgets/base",
            "_model_module_version": "1.2.0",
            "_model_name": "LayoutModel",
            "_view_count": null,
            "_view_module": "@jupyter-widgets/base",
            "_view_module_version": "1.2.0",
            "_view_name": "LayoutView",
            "align_content": null,
            "align_items": null,
            "align_self": null,
            "border": null,
            "bottom": null,
            "display": null,
            "flex": null,
            "flex_flow": null,
            "grid_area": null,
            "grid_auto_columns": null,
            "grid_auto_flow": null,
            "grid_auto_rows": null,
            "grid_column": null,
            "grid_gap": null,
            "grid_row": null,
            "grid_template_areas": null,
            "grid_template_columns": null,
            "grid_template_rows": null,
            "height": null,
            "justify_content": null,
            "justify_items": null,
            "left": null,
            "margin": null,
            "max_height": null,
            "max_width": null,
            "min_height": null,
            "min_width": null,
            "object_fit": null,
            "object_position": null,
            "order": null,
            "overflow": null,
            "overflow_x": null,
            "overflow_y": null,
            "padding": null,
            "right": null,
            "top": null,
            "visibility": null,
            "width": null
          }
        },
        "0e370477b2784f9ba733d160b91f3c7b": {
          "model_module": "@jupyter-widgets/controls",
          "model_name": "ProgressStyleModel",
          "model_module_version": "1.5.0",
          "state": {
            "_model_module": "@jupyter-widgets/controls",
            "_model_module_version": "1.5.0",
            "_model_name": "ProgressStyleModel",
            "_view_count": null,
            "_view_module": "@jupyter-widgets/base",
            "_view_module_version": "1.2.0",
            "_view_name": "StyleView",
            "bar_color": null,
            "description_width": ""
          }
        },
        "92e700a16430432facbcecd71820a33c": {
          "model_module": "@jupyter-widgets/controls",
          "model_name": "VBoxModel",
          "model_module_version": "1.5.0",
          "state": {
            "_dom_classes": [],
            "_model_module": "@jupyter-widgets/controls",
            "_model_module_version": "1.5.0",
            "_model_name": "VBoxModel",
            "_view_count": null,
            "_view_module": "@jupyter-widgets/controls",
            "_view_module_version": "1.5.0",
            "_view_name": "VBoxView",
            "box_style": "",
            "children": [
              "IPY_MODEL_56dd61aa20b54551b9ae3de22be326e2",
              "IPY_MODEL_8bf6490b8f994deea60e353dc56f300b"
            ],
            "layout": "IPY_MODEL_7d7dc54b3bad40379b861a5fc7a7b57e"
          }
        },
        "56dd61aa20b54551b9ae3de22be326e2": {
          "model_module": "@jupyter-widgets/controls",
          "model_name": "LabelModel",
          "model_module_version": "1.5.0",
          "state": {
            "_dom_classes": [],
            "_model_module": "@jupyter-widgets/controls",
            "_model_module_version": "1.5.0",
            "_model_name": "LabelModel",
            "_view_count": null,
            "_view_module": "@jupyter-widgets/controls",
            "_view_module_version": "1.5.0",
            "_view_name": "LabelView",
            "description": "",
            "description_tooltip": null,
            "layout": "IPY_MODEL_ef45757dba444f5f9bcf51b738582d80",
            "placeholder": "​",
            "style": "IPY_MODEL_1fc98f9e88744e6db1c187bf104826dd",
            "value": "0.141 MB of 0.141 MB uploaded (0.000 MB deduped)\r"
          }
        },
        "8bf6490b8f994deea60e353dc56f300b": {
          "model_module": "@jupyter-widgets/controls",
          "model_name": "FloatProgressModel",
          "model_module_version": "1.5.0",
          "state": {
            "_dom_classes": [],
            "_model_module": "@jupyter-widgets/controls",
            "_model_module_version": "1.5.0",
            "_model_name": "FloatProgressModel",
            "_view_count": null,
            "_view_module": "@jupyter-widgets/controls",
            "_view_module_version": "1.5.0",
            "_view_name": "ProgressView",
            "bar_style": "",
            "description": "",
            "description_tooltip": null,
            "layout": "IPY_MODEL_26125a51807b4d1e9c016ebf59928852",
            "max": 1,
            "min": 0,
            "orientation": "horizontal",
            "style": "IPY_MODEL_b31674a6acaf440fa53da055ef946a07",
            "value": 1
          }
        },
        "7d7dc54b3bad40379b861a5fc7a7b57e": {
          "model_module": "@jupyter-widgets/base",
          "model_name": "LayoutModel",
          "model_module_version": "1.2.0",
          "state": {
            "_model_module": "@jupyter-widgets/base",
            "_model_module_version": "1.2.0",
            "_model_name": "LayoutModel",
            "_view_count": null,
            "_view_module": "@jupyter-widgets/base",
            "_view_module_version": "1.2.0",
            "_view_name": "LayoutView",
            "align_content": null,
            "align_items": null,
            "align_self": null,
            "border": null,
            "bottom": null,
            "display": null,
            "flex": null,
            "flex_flow": null,
            "grid_area": null,
            "grid_auto_columns": null,
            "grid_auto_flow": null,
            "grid_auto_rows": null,
            "grid_column": null,
            "grid_gap": null,
            "grid_row": null,
            "grid_template_areas": null,
            "grid_template_columns": null,
            "grid_template_rows": null,
            "height": null,
            "justify_content": null,
            "justify_items": null,
            "left": null,
            "margin": null,
            "max_height": null,
            "max_width": null,
            "min_height": null,
            "min_width": null,
            "object_fit": null,
            "object_position": null,
            "order": null,
            "overflow": null,
            "overflow_x": null,
            "overflow_y": null,
            "padding": null,
            "right": null,
            "top": null,
            "visibility": null,
            "width": null
          }
        },
        "ef45757dba444f5f9bcf51b738582d80": {
          "model_module": "@jupyter-widgets/base",
          "model_name": "LayoutModel",
          "model_module_version": "1.2.0",
          "state": {
            "_model_module": "@jupyter-widgets/base",
            "_model_module_version": "1.2.0",
            "_model_name": "LayoutModel",
            "_view_count": null,
            "_view_module": "@jupyter-widgets/base",
            "_view_module_version": "1.2.0",
            "_view_name": "LayoutView",
            "align_content": null,
            "align_items": null,
            "align_self": null,
            "border": null,
            "bottom": null,
            "display": null,
            "flex": null,
            "flex_flow": null,
            "grid_area": null,
            "grid_auto_columns": null,
            "grid_auto_flow": null,
            "grid_auto_rows": null,
            "grid_column": null,
            "grid_gap": null,
            "grid_row": null,
            "grid_template_areas": null,
            "grid_template_columns": null,
            "grid_template_rows": null,
            "height": null,
            "justify_content": null,
            "justify_items": null,
            "left": null,
            "margin": null,
            "max_height": null,
            "max_width": null,
            "min_height": null,
            "min_width": null,
            "object_fit": null,
            "object_position": null,
            "order": null,
            "overflow": null,
            "overflow_x": null,
            "overflow_y": null,
            "padding": null,
            "right": null,
            "top": null,
            "visibility": null,
            "width": null
          }
        },
        "1fc98f9e88744e6db1c187bf104826dd": {
          "model_module": "@jupyter-widgets/controls",
          "model_name": "DescriptionStyleModel",
          "model_module_version": "1.5.0",
          "state": {
            "_model_module": "@jupyter-widgets/controls",
            "_model_module_version": "1.5.0",
            "_model_name": "DescriptionStyleModel",
            "_view_count": null,
            "_view_module": "@jupyter-widgets/base",
            "_view_module_version": "1.2.0",
            "_view_name": "StyleView",
            "description_width": ""
          }
        },
        "26125a51807b4d1e9c016ebf59928852": {
          "model_module": "@jupyter-widgets/base",
          "model_name": "LayoutModel",
          "model_module_version": "1.2.0",
          "state": {
            "_model_module": "@jupyter-widgets/base",
            "_model_module_version": "1.2.0",
            "_model_name": "LayoutModel",
            "_view_count": null,
            "_view_module": "@jupyter-widgets/base",
            "_view_module_version": "1.2.0",
            "_view_name": "LayoutView",
            "align_content": null,
            "align_items": null,
            "align_self": null,
            "border": null,
            "bottom": null,
            "display": null,
            "flex": null,
            "flex_flow": null,
            "grid_area": null,
            "grid_auto_columns": null,
            "grid_auto_flow": null,
            "grid_auto_rows": null,
            "grid_column": null,
            "grid_gap": null,
            "grid_row": null,
            "grid_template_areas": null,
            "grid_template_columns": null,
            "grid_template_rows": null,
            "height": null,
            "justify_content": null,
            "justify_items": null,
            "left": null,
            "margin": null,
            "max_height": null,
            "max_width": null,
            "min_height": null,
            "min_width": null,
            "object_fit": null,
            "object_position": null,
            "order": null,
            "overflow": null,
            "overflow_x": null,
            "overflow_y": null,
            "padding": null,
            "right": null,
            "top": null,
            "visibility": null,
            "width": null
          }
        },
        "b31674a6acaf440fa53da055ef946a07": {
          "model_module": "@jupyter-widgets/controls",
          "model_name": "ProgressStyleModel",
          "model_module_version": "1.5.0",
          "state": {
            "_model_module": "@jupyter-widgets/controls",
            "_model_module_version": "1.5.0",
            "_model_name": "ProgressStyleModel",
            "_view_count": null,
            "_view_module": "@jupyter-widgets/base",
            "_view_module_version": "1.2.0",
            "_view_name": "StyleView",
            "bar_color": null,
            "description_width": ""
          }
        },
        "cc8e0bc484e54933adc4cd6d9a269bc9": {
          "model_module": "@jupyter-widgets/controls",
          "model_name": "VBoxModel",
          "model_module_version": "1.5.0",
          "state": {
            "_dom_classes": [],
            "_model_module": "@jupyter-widgets/controls",
            "_model_module_version": "1.5.0",
            "_model_name": "VBoxModel",
            "_view_count": null,
            "_view_module": "@jupyter-widgets/controls",
            "_view_module_version": "1.5.0",
            "_view_name": "VBoxView",
            "box_style": "",
            "children": [
              "IPY_MODEL_bde9f44ecf574cd5842df4dc769f6a6c",
              "IPY_MODEL_0ca7c496c2b9428d8edf8a2e7cbd4e0a"
            ],
            "layout": "IPY_MODEL_7440db4aa89342d6872d87e7c44a03a4"
          }
        },
        "bde9f44ecf574cd5842df4dc769f6a6c": {
          "model_module": "@jupyter-widgets/controls",
          "model_name": "LabelModel",
          "model_module_version": "1.5.0",
          "state": {
            "_dom_classes": [],
            "_model_module": "@jupyter-widgets/controls",
            "_model_module_version": "1.5.0",
            "_model_name": "LabelModel",
            "_view_count": null,
            "_view_module": "@jupyter-widgets/controls",
            "_view_module_version": "1.5.0",
            "_view_name": "LabelView",
            "description": "",
            "description_tooltip": null,
            "layout": "IPY_MODEL_59e15a707641442f9633648c6efd202d",
            "placeholder": "​",
            "style": "IPY_MODEL_da36027af032456e92a22b16d826b79d",
            "value": "0.008 MB of 0.008 MB uploaded (0.000 MB deduped)\r"
          }
        },
        "0ca7c496c2b9428d8edf8a2e7cbd4e0a": {
          "model_module": "@jupyter-widgets/controls",
          "model_name": "FloatProgressModel",
          "model_module_version": "1.5.0",
          "state": {
            "_dom_classes": [],
            "_model_module": "@jupyter-widgets/controls",
            "_model_module_version": "1.5.0",
            "_model_name": "FloatProgressModel",
            "_view_count": null,
            "_view_module": "@jupyter-widgets/controls",
            "_view_module_version": "1.5.0",
            "_view_name": "ProgressView",
            "bar_style": "",
            "description": "",
            "description_tooltip": null,
            "layout": "IPY_MODEL_7e189876d21040b9936f53815c7cbb49",
            "max": 1,
            "min": 0,
            "orientation": "horizontal",
            "style": "IPY_MODEL_90828d940d6e4a3a9390d602756d4323",
            "value": 1
          }
        },
        "7440db4aa89342d6872d87e7c44a03a4": {
          "model_module": "@jupyter-widgets/base",
          "model_name": "LayoutModel",
          "model_module_version": "1.2.0",
          "state": {
            "_model_module": "@jupyter-widgets/base",
            "_model_module_version": "1.2.0",
            "_model_name": "LayoutModel",
            "_view_count": null,
            "_view_module": "@jupyter-widgets/base",
            "_view_module_version": "1.2.0",
            "_view_name": "LayoutView",
            "align_content": null,
            "align_items": null,
            "align_self": null,
            "border": null,
            "bottom": null,
            "display": null,
            "flex": null,
            "flex_flow": null,
            "grid_area": null,
            "grid_auto_columns": null,
            "grid_auto_flow": null,
            "grid_auto_rows": null,
            "grid_column": null,
            "grid_gap": null,
            "grid_row": null,
            "grid_template_areas": null,
            "grid_template_columns": null,
            "grid_template_rows": null,
            "height": null,
            "justify_content": null,
            "justify_items": null,
            "left": null,
            "margin": null,
            "max_height": null,
            "max_width": null,
            "min_height": null,
            "min_width": null,
            "object_fit": null,
            "object_position": null,
            "order": null,
            "overflow": null,
            "overflow_x": null,
            "overflow_y": null,
            "padding": null,
            "right": null,
            "top": null,
            "visibility": null,
            "width": null
          }
        },
        "59e15a707641442f9633648c6efd202d": {
          "model_module": "@jupyter-widgets/base",
          "model_name": "LayoutModel",
          "model_module_version": "1.2.0",
          "state": {
            "_model_module": "@jupyter-widgets/base",
            "_model_module_version": "1.2.0",
            "_model_name": "LayoutModel",
            "_view_count": null,
            "_view_module": "@jupyter-widgets/base",
            "_view_module_version": "1.2.0",
            "_view_name": "LayoutView",
            "align_content": null,
            "align_items": null,
            "align_self": null,
            "border": null,
            "bottom": null,
            "display": null,
            "flex": null,
            "flex_flow": null,
            "grid_area": null,
            "grid_auto_columns": null,
            "grid_auto_flow": null,
            "grid_auto_rows": null,
            "grid_column": null,
            "grid_gap": null,
            "grid_row": null,
            "grid_template_areas": null,
            "grid_template_columns": null,
            "grid_template_rows": null,
            "height": null,
            "justify_content": null,
            "justify_items": null,
            "left": null,
            "margin": null,
            "max_height": null,
            "max_width": null,
            "min_height": null,
            "min_width": null,
            "object_fit": null,
            "object_position": null,
            "order": null,
            "overflow": null,
            "overflow_x": null,
            "overflow_y": null,
            "padding": null,
            "right": null,
            "top": null,
            "visibility": null,
            "width": null
          }
        },
        "da36027af032456e92a22b16d826b79d": {
          "model_module": "@jupyter-widgets/controls",
          "model_name": "DescriptionStyleModel",
          "model_module_version": "1.5.0",
          "state": {
            "_model_module": "@jupyter-widgets/controls",
            "_model_module_version": "1.5.0",
            "_model_name": "DescriptionStyleModel",
            "_view_count": null,
            "_view_module": "@jupyter-widgets/base",
            "_view_module_version": "1.2.0",
            "_view_name": "StyleView",
            "description_width": ""
          }
        },
        "7e189876d21040b9936f53815c7cbb49": {
          "model_module": "@jupyter-widgets/base",
          "model_name": "LayoutModel",
          "model_module_version": "1.2.0",
          "state": {
            "_model_module": "@jupyter-widgets/base",
            "_model_module_version": "1.2.0",
            "_model_name": "LayoutModel",
            "_view_count": null,
            "_view_module": "@jupyter-widgets/base",
            "_view_module_version": "1.2.0",
            "_view_name": "LayoutView",
            "align_content": null,
            "align_items": null,
            "align_self": null,
            "border": null,
            "bottom": null,
            "display": null,
            "flex": null,
            "flex_flow": null,
            "grid_area": null,
            "grid_auto_columns": null,
            "grid_auto_flow": null,
            "grid_auto_rows": null,
            "grid_column": null,
            "grid_gap": null,
            "grid_row": null,
            "grid_template_areas": null,
            "grid_template_columns": null,
            "grid_template_rows": null,
            "height": null,
            "justify_content": null,
            "justify_items": null,
            "left": null,
            "margin": null,
            "max_height": null,
            "max_width": null,
            "min_height": null,
            "min_width": null,
            "object_fit": null,
            "object_position": null,
            "order": null,
            "overflow": null,
            "overflow_x": null,
            "overflow_y": null,
            "padding": null,
            "right": null,
            "top": null,
            "visibility": null,
            "width": null
          }
        },
        "90828d940d6e4a3a9390d602756d4323": {
          "model_module": "@jupyter-widgets/controls",
          "model_name": "ProgressStyleModel",
          "model_module_version": "1.5.0",
          "state": {
            "_model_module": "@jupyter-widgets/controls",
            "_model_module_version": "1.5.0",
            "_model_name": "ProgressStyleModel",
            "_view_count": null,
            "_view_module": "@jupyter-widgets/base",
            "_view_module_version": "1.2.0",
            "_view_name": "StyleView",
            "bar_color": null,
            "description_width": ""
          }
        },
        "8987214076e24e2993203cfa5e44b46a": {
          "model_module": "@jupyter-widgets/controls",
          "model_name": "VBoxModel",
          "model_module_version": "1.5.0",
          "state": {
            "_dom_classes": [],
            "_model_module": "@jupyter-widgets/controls",
            "_model_module_version": "1.5.0",
            "_model_name": "VBoxModel",
            "_view_count": null,
            "_view_module": "@jupyter-widgets/controls",
            "_view_module_version": "1.5.0",
            "_view_name": "VBoxView",
            "box_style": "",
            "children": [
              "IPY_MODEL_7fe74457052b41239aec5d23199ee88a",
              "IPY_MODEL_c1111e3c201c441f96b1094e5b701731"
            ],
            "layout": "IPY_MODEL_49b005f76fb045b0ada0d95c840f1280"
          }
        },
        "7fe74457052b41239aec5d23199ee88a": {
          "model_module": "@jupyter-widgets/controls",
          "model_name": "LabelModel",
          "model_module_version": "1.5.0",
          "state": {
            "_dom_classes": [],
            "_model_module": "@jupyter-widgets/controls",
            "_model_module_version": "1.5.0",
            "_model_name": "LabelModel",
            "_view_count": null,
            "_view_module": "@jupyter-widgets/controls",
            "_view_module_version": "1.5.0",
            "_view_name": "LabelView",
            "description": "",
            "description_tooltip": null,
            "layout": "IPY_MODEL_780b368693c846a4a944089f8b1b6fb7",
            "placeholder": "​",
            "style": "IPY_MODEL_ddf9423938da48f983f3527bae023d05",
            "value": "0.008 MB of 0.008 MB uploaded (0.000 MB deduped)\r"
          }
        },
        "c1111e3c201c441f96b1094e5b701731": {
          "model_module": "@jupyter-widgets/controls",
          "model_name": "FloatProgressModel",
          "model_module_version": "1.5.0",
          "state": {
            "_dom_classes": [],
            "_model_module": "@jupyter-widgets/controls",
            "_model_module_version": "1.5.0",
            "_model_name": "FloatProgressModel",
            "_view_count": null,
            "_view_module": "@jupyter-widgets/controls",
            "_view_module_version": "1.5.0",
            "_view_name": "ProgressView",
            "bar_style": "",
            "description": "",
            "description_tooltip": null,
            "layout": "IPY_MODEL_d0c215093f0f4a8b995b509b4bf78fa0",
            "max": 1,
            "min": 0,
            "orientation": "horizontal",
            "style": "IPY_MODEL_3e743eee2b314b24b7d459551dbec61c",
            "value": 1
          }
        },
        "49b005f76fb045b0ada0d95c840f1280": {
          "model_module": "@jupyter-widgets/base",
          "model_name": "LayoutModel",
          "model_module_version": "1.2.0",
          "state": {
            "_model_module": "@jupyter-widgets/base",
            "_model_module_version": "1.2.0",
            "_model_name": "LayoutModel",
            "_view_count": null,
            "_view_module": "@jupyter-widgets/base",
            "_view_module_version": "1.2.0",
            "_view_name": "LayoutView",
            "align_content": null,
            "align_items": null,
            "align_self": null,
            "border": null,
            "bottom": null,
            "display": null,
            "flex": null,
            "flex_flow": null,
            "grid_area": null,
            "grid_auto_columns": null,
            "grid_auto_flow": null,
            "grid_auto_rows": null,
            "grid_column": null,
            "grid_gap": null,
            "grid_row": null,
            "grid_template_areas": null,
            "grid_template_columns": null,
            "grid_template_rows": null,
            "height": null,
            "justify_content": null,
            "justify_items": null,
            "left": null,
            "margin": null,
            "max_height": null,
            "max_width": null,
            "min_height": null,
            "min_width": null,
            "object_fit": null,
            "object_position": null,
            "order": null,
            "overflow": null,
            "overflow_x": null,
            "overflow_y": null,
            "padding": null,
            "right": null,
            "top": null,
            "visibility": null,
            "width": null
          }
        },
        "780b368693c846a4a944089f8b1b6fb7": {
          "model_module": "@jupyter-widgets/base",
          "model_name": "LayoutModel",
          "model_module_version": "1.2.0",
          "state": {
            "_model_module": "@jupyter-widgets/base",
            "_model_module_version": "1.2.0",
            "_model_name": "LayoutModel",
            "_view_count": null,
            "_view_module": "@jupyter-widgets/base",
            "_view_module_version": "1.2.0",
            "_view_name": "LayoutView",
            "align_content": null,
            "align_items": null,
            "align_self": null,
            "border": null,
            "bottom": null,
            "display": null,
            "flex": null,
            "flex_flow": null,
            "grid_area": null,
            "grid_auto_columns": null,
            "grid_auto_flow": null,
            "grid_auto_rows": null,
            "grid_column": null,
            "grid_gap": null,
            "grid_row": null,
            "grid_template_areas": null,
            "grid_template_columns": null,
            "grid_template_rows": null,
            "height": null,
            "justify_content": null,
            "justify_items": null,
            "left": null,
            "margin": null,
            "max_height": null,
            "max_width": null,
            "min_height": null,
            "min_width": null,
            "object_fit": null,
            "object_position": null,
            "order": null,
            "overflow": null,
            "overflow_x": null,
            "overflow_y": null,
            "padding": null,
            "right": null,
            "top": null,
            "visibility": null,
            "width": null
          }
        },
        "ddf9423938da48f983f3527bae023d05": {
          "model_module": "@jupyter-widgets/controls",
          "model_name": "DescriptionStyleModel",
          "model_module_version": "1.5.0",
          "state": {
            "_model_module": "@jupyter-widgets/controls",
            "_model_module_version": "1.5.0",
            "_model_name": "DescriptionStyleModel",
            "_view_count": null,
            "_view_module": "@jupyter-widgets/base",
            "_view_module_version": "1.2.0",
            "_view_name": "StyleView",
            "description_width": ""
          }
        },
        "d0c215093f0f4a8b995b509b4bf78fa0": {
          "model_module": "@jupyter-widgets/base",
          "model_name": "LayoutModel",
          "model_module_version": "1.2.0",
          "state": {
            "_model_module": "@jupyter-widgets/base",
            "_model_module_version": "1.2.0",
            "_model_name": "LayoutModel",
            "_view_count": null,
            "_view_module": "@jupyter-widgets/base",
            "_view_module_version": "1.2.0",
            "_view_name": "LayoutView",
            "align_content": null,
            "align_items": null,
            "align_self": null,
            "border": null,
            "bottom": null,
            "display": null,
            "flex": null,
            "flex_flow": null,
            "grid_area": null,
            "grid_auto_columns": null,
            "grid_auto_flow": null,
            "grid_auto_rows": null,
            "grid_column": null,
            "grid_gap": null,
            "grid_row": null,
            "grid_template_areas": null,
            "grid_template_columns": null,
            "grid_template_rows": null,
            "height": null,
            "justify_content": null,
            "justify_items": null,
            "left": null,
            "margin": null,
            "max_height": null,
            "max_width": null,
            "min_height": null,
            "min_width": null,
            "object_fit": null,
            "object_position": null,
            "order": null,
            "overflow": null,
            "overflow_x": null,
            "overflow_y": null,
            "padding": null,
            "right": null,
            "top": null,
            "visibility": null,
            "width": null
          }
        },
        "3e743eee2b314b24b7d459551dbec61c": {
          "model_module": "@jupyter-widgets/controls",
          "model_name": "ProgressStyleModel",
          "model_module_version": "1.5.0",
          "state": {
            "_model_module": "@jupyter-widgets/controls",
            "_model_module_version": "1.5.0",
            "_model_name": "ProgressStyleModel",
            "_view_count": null,
            "_view_module": "@jupyter-widgets/base",
            "_view_module_version": "1.2.0",
            "_view_name": "StyleView",
            "bar_color": null,
            "description_width": ""
          }
        },
        "249f547e6bd74924bd92b4c099704862": {
          "model_module": "@jupyter-widgets/controls",
          "model_name": "VBoxModel",
          "model_module_version": "1.5.0",
          "state": {
            "_dom_classes": [],
            "_model_module": "@jupyter-widgets/controls",
            "_model_module_version": "1.5.0",
            "_model_name": "VBoxModel",
            "_view_count": null,
            "_view_module": "@jupyter-widgets/controls",
            "_view_module_version": "1.5.0",
            "_view_name": "VBoxView",
            "box_style": "",
            "children": [
              "IPY_MODEL_4c8ec8d612c14c699fb31be30e0ae941",
              "IPY_MODEL_a0999ee2e65242af99dddb5092ec9fcc"
            ],
            "layout": "IPY_MODEL_bc08b65b4ba842859020307d646e4581"
          }
        },
        "4c8ec8d612c14c699fb31be30e0ae941": {
          "model_module": "@jupyter-widgets/controls",
          "model_name": "LabelModel",
          "model_module_version": "1.5.0",
          "state": {
            "_dom_classes": [],
            "_model_module": "@jupyter-widgets/controls",
            "_model_module_version": "1.5.0",
            "_model_name": "LabelModel",
            "_view_count": null,
            "_view_module": "@jupyter-widgets/controls",
            "_view_module_version": "1.5.0",
            "_view_name": "LabelView",
            "description": "",
            "description_tooltip": null,
            "layout": "IPY_MODEL_89fe1ca086a641689878f0b5612a7a62",
            "placeholder": "​",
            "style": "IPY_MODEL_a58f5cb758b94218bfe7b2d70b2ad268",
            "value": "0.008 MB of 0.008 MB uploaded (0.000 MB deduped)\r"
          }
        },
        "a0999ee2e65242af99dddb5092ec9fcc": {
          "model_module": "@jupyter-widgets/controls",
          "model_name": "FloatProgressModel",
          "model_module_version": "1.5.0",
          "state": {
            "_dom_classes": [],
            "_model_module": "@jupyter-widgets/controls",
            "_model_module_version": "1.5.0",
            "_model_name": "FloatProgressModel",
            "_view_count": null,
            "_view_module": "@jupyter-widgets/controls",
            "_view_module_version": "1.5.0",
            "_view_name": "ProgressView",
            "bar_style": "",
            "description": "",
            "description_tooltip": null,
            "layout": "IPY_MODEL_ff026185ecbe41ef88f58a69d31b92f3",
            "max": 1,
            "min": 0,
            "orientation": "horizontal",
            "style": "IPY_MODEL_cf810b97201e483f869d9bafc82213fa",
            "value": 1
          }
        },
        "bc08b65b4ba842859020307d646e4581": {
          "model_module": "@jupyter-widgets/base",
          "model_name": "LayoutModel",
          "model_module_version": "1.2.0",
          "state": {
            "_model_module": "@jupyter-widgets/base",
            "_model_module_version": "1.2.0",
            "_model_name": "LayoutModel",
            "_view_count": null,
            "_view_module": "@jupyter-widgets/base",
            "_view_module_version": "1.2.0",
            "_view_name": "LayoutView",
            "align_content": null,
            "align_items": null,
            "align_self": null,
            "border": null,
            "bottom": null,
            "display": null,
            "flex": null,
            "flex_flow": null,
            "grid_area": null,
            "grid_auto_columns": null,
            "grid_auto_flow": null,
            "grid_auto_rows": null,
            "grid_column": null,
            "grid_gap": null,
            "grid_row": null,
            "grid_template_areas": null,
            "grid_template_columns": null,
            "grid_template_rows": null,
            "height": null,
            "justify_content": null,
            "justify_items": null,
            "left": null,
            "margin": null,
            "max_height": null,
            "max_width": null,
            "min_height": null,
            "min_width": null,
            "object_fit": null,
            "object_position": null,
            "order": null,
            "overflow": null,
            "overflow_x": null,
            "overflow_y": null,
            "padding": null,
            "right": null,
            "top": null,
            "visibility": null,
            "width": null
          }
        },
        "89fe1ca086a641689878f0b5612a7a62": {
          "model_module": "@jupyter-widgets/base",
          "model_name": "LayoutModel",
          "model_module_version": "1.2.0",
          "state": {
            "_model_module": "@jupyter-widgets/base",
            "_model_module_version": "1.2.0",
            "_model_name": "LayoutModel",
            "_view_count": null,
            "_view_module": "@jupyter-widgets/base",
            "_view_module_version": "1.2.0",
            "_view_name": "LayoutView",
            "align_content": null,
            "align_items": null,
            "align_self": null,
            "border": null,
            "bottom": null,
            "display": null,
            "flex": null,
            "flex_flow": null,
            "grid_area": null,
            "grid_auto_columns": null,
            "grid_auto_flow": null,
            "grid_auto_rows": null,
            "grid_column": null,
            "grid_gap": null,
            "grid_row": null,
            "grid_template_areas": null,
            "grid_template_columns": null,
            "grid_template_rows": null,
            "height": null,
            "justify_content": null,
            "justify_items": null,
            "left": null,
            "margin": null,
            "max_height": null,
            "max_width": null,
            "min_height": null,
            "min_width": null,
            "object_fit": null,
            "object_position": null,
            "order": null,
            "overflow": null,
            "overflow_x": null,
            "overflow_y": null,
            "padding": null,
            "right": null,
            "top": null,
            "visibility": null,
            "width": null
          }
        },
        "a58f5cb758b94218bfe7b2d70b2ad268": {
          "model_module": "@jupyter-widgets/controls",
          "model_name": "DescriptionStyleModel",
          "model_module_version": "1.5.0",
          "state": {
            "_model_module": "@jupyter-widgets/controls",
            "_model_module_version": "1.5.0",
            "_model_name": "DescriptionStyleModel",
            "_view_count": null,
            "_view_module": "@jupyter-widgets/base",
            "_view_module_version": "1.2.0",
            "_view_name": "StyleView",
            "description_width": ""
          }
        },
        "ff026185ecbe41ef88f58a69d31b92f3": {
          "model_module": "@jupyter-widgets/base",
          "model_name": "LayoutModel",
          "model_module_version": "1.2.0",
          "state": {
            "_model_module": "@jupyter-widgets/base",
            "_model_module_version": "1.2.0",
            "_model_name": "LayoutModel",
            "_view_count": null,
            "_view_module": "@jupyter-widgets/base",
            "_view_module_version": "1.2.0",
            "_view_name": "LayoutView",
            "align_content": null,
            "align_items": null,
            "align_self": null,
            "border": null,
            "bottom": null,
            "display": null,
            "flex": null,
            "flex_flow": null,
            "grid_area": null,
            "grid_auto_columns": null,
            "grid_auto_flow": null,
            "grid_auto_rows": null,
            "grid_column": null,
            "grid_gap": null,
            "grid_row": null,
            "grid_template_areas": null,
            "grid_template_columns": null,
            "grid_template_rows": null,
            "height": null,
            "justify_content": null,
            "justify_items": null,
            "left": null,
            "margin": null,
            "max_height": null,
            "max_width": null,
            "min_height": null,
            "min_width": null,
            "object_fit": null,
            "object_position": null,
            "order": null,
            "overflow": null,
            "overflow_x": null,
            "overflow_y": null,
            "padding": null,
            "right": null,
            "top": null,
            "visibility": null,
            "width": null
          }
        },
        "cf810b97201e483f869d9bafc82213fa": {
          "model_module": "@jupyter-widgets/controls",
          "model_name": "ProgressStyleModel",
          "model_module_version": "1.5.0",
          "state": {
            "_model_module": "@jupyter-widgets/controls",
            "_model_module_version": "1.5.0",
            "_model_name": "ProgressStyleModel",
            "_view_count": null,
            "_view_module": "@jupyter-widgets/base",
            "_view_module_version": "1.2.0",
            "_view_name": "StyleView",
            "bar_color": null,
            "description_width": ""
          }
        }
      }
    }
  },
  "nbformat": 4,
  "nbformat_minor": 0
}