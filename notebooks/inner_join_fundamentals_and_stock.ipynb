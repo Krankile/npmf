{
  "cells": [
    {
      "cell_type": "markdown",
      "metadata": {
        "id": "view-in-github",
        "colab_type": "text"
      },
      "source": [
        "<a href=\"https://colab.research.google.com/github/Krankile/npmf/blob/main/notebooks/inner_join_fundamentals_and_stock.ipynb\" target=\"_parent\"><img src=\"https://colab.research.google.com/assets/colab-badge.svg\" alt=\"Open In Colab\"/></a>"
      ]
    },
    {
      "cell_type": "markdown",
      "metadata": {
        "id": "d8F5tl4NL7FZ"
      },
      "source": [
        "#Setup"
      ]
    },
    {
      "cell_type": "markdown",
      "metadata": {
        "id": "Rwo44VGZLhAo"
      },
      "source": [
        "##Kernel setup"
      ]
    },
    {
      "cell_type": "code",
      "execution_count": 55,
      "metadata": {
        "id": "hKuFzk7aEmB9",
        "colab": {
          "base_uri": "https://localhost:8080/"
        },
        "outputId": "18e821b4-b24f-4b5f-954a-a09c0f4a8daf"
      },
      "outputs": [
        {
          "output_type": "stream",
          "name": "stdout",
          "text": [
            "The autoreload extension is already loaded. To reload it, use:\n",
            "  %reload_ext autoreload\n"
          ]
        }
      ],
      "source": [
        "%load_ext autoreload\n",
        "%autoreload 2"
      ]
    },
    {
      "cell_type": "code",
      "execution_count": 56,
      "metadata": {
        "id": "YapyvlhQSpEj"
      },
      "outputs": [],
      "source": [
        "%%capture\n",
        "!pip install wandb\n",
        "!git clone https://github.com/Krankile/npmf.git"
      ]
    },
    {
      "cell_type": "code",
      "execution_count": 57,
      "metadata": {
        "colab": {
          "base_uri": "https://localhost:8080/"
        },
        "id": "gUXnibj8YEi1",
        "outputId": "092552e5-ae83-4f5d-b7f7-2bae552efc01"
      },
      "outputs": [
        {
          "output_type": "stream",
          "name": "stdout",
          "text": [
            "\u001b[34m\u001b[1mwandb\u001b[0m: Currently logged in as: \u001b[33mkjartan\u001b[0m (\u001b[33mkrankile\u001b[0m). Use \u001b[1m`wandb login --relogin`\u001b[0m to force relogin\n"
          ]
        }
      ],
      "source": [
        "!wandb login"
      ]
    },
    {
      "cell_type": "markdown",
      "metadata": {
        "id": "CLAlA0htLgMY"
      },
      "source": [
        "##General setup"
      ]
    },
    {
      "cell_type": "code",
      "execution_count": 58,
      "metadata": {
        "id": "1QSlgObXLq1p"
      },
      "outputs": [],
      "source": [
        "%%capture\n",
        "!cd npmf && git pull\n",
        "\n",
        "import os\n",
        "from collections import defaultdict\n",
        "from collections import Counter\n",
        "from datetime import datetime\n",
        "from operator import itemgetter\n",
        "\n",
        "import numpy as np\n",
        "from numpy.ma.core import outerproduct\n",
        "import pandas as pd\n",
        "import matplotlib as mpl\n",
        "import matplotlib.pyplot as plt\n",
        "from tqdm import tqdm\n",
        "\n",
        "import wandb as wb\n",
        "\n",
        "import torch\n",
        "from torch import nn\n",
        "from torch.utils.data import DataLoader\n",
        "from torchvision import datasets, transforms\n",
        "\n",
        "from npmf.utils.colors import main, main2, main3\n",
        "from npmf.utils.wandb import get_dataset, put_dataset\n",
        "from npmf.utils.eikon import column_mapping "
      ]
    },
    {
      "cell_type": "code",
      "execution_count": 59,
      "metadata": {
        "id": "hkTjKKLmLvpl"
      },
      "outputs": [],
      "source": [
        "mpl.rcParams['axes.prop_cycle'] = mpl.cycler(color=[main, main2, main3, \"black\"])\n",
        "mpl.rcParams['figure.figsize'] = (6, 4)  # (6, 4) is default and used in the paper"
      ]
    },
    {
      "cell_type": "code",
      "execution_count": 60,
      "metadata": {
        "colab": {
          "base_uri": "https://localhost:8080/"
        },
        "id": "Dqy02oAvY7GM",
        "outputId": "27a9c736-607f-477a-e04f-a133c931b9d8"
      },
      "outputs": [
        {
          "output_type": "stream",
          "name": "stdout",
          "text": [
            "Using cpu device\n"
          ]
        }
      ],
      "source": [
        "device = \"cuda\" if torch.cuda.is_available() else \"cpu\"\n",
        "print(f\"Using {device} device\")"
      ]
    },
    {
      "cell_type": "code",
      "execution_count": 61,
      "metadata": {
        "id": "YVFtfDk0pYtd"
      },
      "outputs": [],
      "source": [
        "np.random.seed(420)"
      ]
    },
    {
      "cell_type": "markdown",
      "source": [
        "# Data processing"
      ],
      "metadata": {
        "id": "hATNzG1f6PBS"
      }
    },
    {
      "cell_type": "markdown",
      "source": [
        "## Collect data from stock and fundamental and find intersection of unique tickers"
      ],
      "metadata": {
        "id": "zpWr19ZFlsqV"
      }
    },
    {
      "cell_type": "code",
      "source": [
        "stock_df = get_dataset(\"stock-data-clean:latest\", \"master-test\")\n",
        "fundamental_df = get_dataset(\"fundamental-data-clean:latest\", \"master-test\")\n",
        "meta_df = get_dataset(\"oil-meta-data:latest\", \"master-test\")"
      ],
      "metadata": {
        "colab": {
          "base_uri": "https://localhost:8080/",
          "height": 406,
          "referenced_widgets": [
            "a91e152883cf4cff887900fdd2ce70f2",
            "1edded10e11b4b00b0cd2ed92a729601",
            "0a465f78714a44ffb524af89dc4a0698",
            "39b3a94ddc4e4737b48c1c298c92ea44",
            "30519bea542a47fabbaf3fa75f044aa2",
            "18b8a8fb398e4c789e7ae6b03a77fd25",
            "648f105196384faca77c980ca7c70da3",
            "b4900e03841445b0b05dc3e74fbb5160",
            "aff77a980c2748328f165d38981efdc5",
            "c000c202e7bd4c06a1db5c4f7fe98a25",
            "765cad9f2c5145899e1ee6e8ec9754a6",
            "b14097ce45ea48239736f0734769c376",
            "556e38a7b28c4525aa898106ca65de04",
            "0c38c47245c942c5bd78172cc1a68ff4",
            "6dcc31fb59c94d5f8af3e8a5e2011749",
            "922f30e452f94bde95839dfa6cbee09f",
            "b017a08b6b7f40dc9346baaa1bf0462c",
            "d302b2c57164432b8e52e579790184cb",
            "8cfab37d17e74842b83fda2111a5611e",
            "90bbc4579fa34316bb097bf8740e077b",
            "74eb59c6f8024adfa751bf63526742e2",
            "04f3e89249334bf59dd6e28f6a0352ff",
            "896c81f337984846aa9a9c606b477dbc",
            "7bf17682513f416cba428df06d1f7829"
          ]
        },
        "id": "_PqYqpDHl_uu",
        "outputId": "1f8f9d9f-fe3b-45f5-e1cd-30599d62fbf1"
      },
      "execution_count": 62,
      "outputs": [
        {
          "output_type": "display_data",
          "data": {
            "text/plain": [
              "<IPython.core.display.HTML object>"
            ],
            "text/html": [
              "Tracking run with wandb version 0.12.16"
            ]
          },
          "metadata": {}
        },
        {
          "output_type": "display_data",
          "data": {
            "text/plain": [
              "<IPython.core.display.HTML object>"
            ],
            "text/html": [
              "Run data is saved locally in <code>/content/wandb/run-20220505_114547-efins9kx</code>"
            ]
          },
          "metadata": {}
        },
        {
          "output_type": "display_data",
          "data": {
            "text/plain": [
              "<IPython.core.display.HTML object>"
            ],
            "text/html": [
              "Syncing run <strong><a href=\"https://wandb.ai/krankile/master-test/runs/efins9kx\" target=\"_blank\">ancient-tie-fighter-184</a></strong> to <a href=\"https://wandb.ai/krankile/master-test\" target=\"_blank\">Weights & Biases</a> (<a href=\"https://wandb.me/run\" target=\"_blank\">docs</a>)<br/>"
            ]
          },
          "metadata": {}
        },
        {
          "output_type": "stream",
          "name": "stderr",
          "text": [
            "\u001b[34m\u001b[1mwandb\u001b[0m: Downloading large artifact stock-data-clean:latest, 126.38MB. 1 files... Done. 0:0:0\n"
          ]
        },
        {
          "output_type": "display_data",
          "data": {
            "text/plain": [
              "<IPython.core.display.HTML object>"
            ],
            "text/html": [
              "Waiting for W&B process to finish... <strong style=\"color:green\">(success).</strong>"
            ]
          },
          "metadata": {}
        },
        {
          "output_type": "display_data",
          "data": {
            "text/plain": [
              "VBox(children=(Label(value='0.001 MB of 0.001 MB uploaded (0.000 MB deduped)\\r'), FloatProgress(value=1.0, max…"
            ],
            "application/vnd.jupyter.widget-view+json": {
              "version_major": 2,
              "version_minor": 0,
              "model_id": "a91e152883cf4cff887900fdd2ce70f2"
            }
          },
          "metadata": {}
        },
        {
          "output_type": "display_data",
          "data": {
            "text/plain": [
              "<IPython.core.display.HTML object>"
            ],
            "text/html": [
              "Synced <strong style=\"color:#cdcd00\">ancient-tie-fighter-184</strong>: <a href=\"https://wandb.ai/krankile/master-test/runs/efins9kx\" target=\"_blank\">https://wandb.ai/krankile/master-test/runs/efins9kx</a><br/>Synced 5 W&B file(s), 0 media file(s), 0 artifact file(s) and 0 other file(s)"
            ]
          },
          "metadata": {}
        },
        {
          "output_type": "display_data",
          "data": {
            "text/plain": [
              "<IPython.core.display.HTML object>"
            ],
            "text/html": [
              "Find logs at: <code>./wandb/run-20220505_114547-efins9kx/logs</code>"
            ]
          },
          "metadata": {}
        },
        {
          "output_type": "display_data",
          "data": {
            "text/plain": [
              "<IPython.core.display.HTML object>"
            ],
            "text/html": [
              "Tracking run with wandb version 0.12.16"
            ]
          },
          "metadata": {}
        },
        {
          "output_type": "display_data",
          "data": {
            "text/plain": [
              "<IPython.core.display.HTML object>"
            ],
            "text/html": [
              "Run data is saved locally in <code>/content/wandb/run-20220505_114603-23j8fci6</code>"
            ]
          },
          "metadata": {}
        },
        {
          "output_type": "display_data",
          "data": {
            "text/plain": [
              "<IPython.core.display.HTML object>"
            ],
            "text/html": [
              "Syncing run <strong><a href=\"https://wandb.ai/krankile/master-test/runs/23j8fci6\" target=\"_blank\">galactic-emperor-185</a></strong> to <a href=\"https://wandb.ai/krankile/master-test\" target=\"_blank\">Weights & Biases</a> (<a href=\"https://wandb.me/run\" target=\"_blank\">docs</a>)<br/>"
            ]
          },
          "metadata": {}
        },
        {
          "output_type": "display_data",
          "data": {
            "text/plain": [
              "<IPython.core.display.HTML object>"
            ],
            "text/html": [
              "Waiting for W&B process to finish... <strong style=\"color:green\">(success).</strong>"
            ]
          },
          "metadata": {}
        },
        {
          "output_type": "display_data",
          "data": {
            "text/plain": [
              "VBox(children=(Label(value='0.001 MB of 0.001 MB uploaded (0.000 MB deduped)\\r'), FloatProgress(value=1.0, max…"
            ],
            "application/vnd.jupyter.widget-view+json": {
              "version_major": 2,
              "version_minor": 0,
              "model_id": "aff77a980c2748328f165d38981efdc5"
            }
          },
          "metadata": {}
        },
        {
          "output_type": "display_data",
          "data": {
            "text/plain": [
              "<IPython.core.display.HTML object>"
            ],
            "text/html": [
              "Synced <strong style=\"color:#cdcd00\">galactic-emperor-185</strong>: <a href=\"https://wandb.ai/krankile/master-test/runs/23j8fci6\" target=\"_blank\">https://wandb.ai/krankile/master-test/runs/23j8fci6</a><br/>Synced 4 W&B file(s), 0 media file(s), 0 artifact file(s) and 0 other file(s)"
            ]
          },
          "metadata": {}
        },
        {
          "output_type": "display_data",
          "data": {
            "text/plain": [
              "<IPython.core.display.HTML object>"
            ],
            "text/html": [
              "Find logs at: <code>./wandb/run-20220505_114603-23j8fci6/logs</code>"
            ]
          },
          "metadata": {}
        },
        {
          "output_type": "display_data",
          "data": {
            "text/plain": [
              "<IPython.core.display.HTML object>"
            ],
            "text/html": [
              "Tracking run with wandb version 0.12.16"
            ]
          },
          "metadata": {}
        },
        {
          "output_type": "display_data",
          "data": {
            "text/plain": [
              "<IPython.core.display.HTML object>"
            ],
            "text/html": [
              "Run data is saved locally in <code>/content/wandb/run-20220505_114618-lfmfp6t7</code>"
            ]
          },
          "metadata": {}
        },
        {
          "output_type": "display_data",
          "data": {
            "text/plain": [
              "<IPython.core.display.HTML object>"
            ],
            "text/html": [
              "Syncing run <strong><a href=\"https://wandb.ai/krankile/master-test/runs/lfmfp6t7\" target=\"_blank\">rogue-womprat-186</a></strong> to <a href=\"https://wandb.ai/krankile/master-test\" target=\"_blank\">Weights & Biases</a> (<a href=\"https://wandb.me/run\" target=\"_blank\">docs</a>)<br/>"
            ]
          },
          "metadata": {}
        },
        {
          "output_type": "display_data",
          "data": {
            "text/plain": [
              "<IPython.core.display.HTML object>"
            ],
            "text/html": [
              "Waiting for W&B process to finish... <strong style=\"color:green\">(success).</strong>"
            ]
          },
          "metadata": {}
        },
        {
          "output_type": "display_data",
          "data": {
            "text/plain": [
              "VBox(children=(Label(value='0.001 MB of 0.001 MB uploaded (0.000 MB deduped)\\r'), FloatProgress(value=1.0, max…"
            ],
            "application/vnd.jupyter.widget-view+json": {
              "version_major": 2,
              "version_minor": 0,
              "model_id": "b017a08b6b7f40dc9346baaa1bf0462c"
            }
          },
          "metadata": {}
        },
        {
          "output_type": "display_data",
          "data": {
            "text/plain": [
              "<IPython.core.display.HTML object>"
            ],
            "text/html": [
              "Synced <strong style=\"color:#cdcd00\">rogue-womprat-186</strong>: <a href=\"https://wandb.ai/krankile/master-test/runs/lfmfp6t7\" target=\"_blank\">https://wandb.ai/krankile/master-test/runs/lfmfp6t7</a><br/>Synced 4 W&B file(s), 0 media file(s), 0 artifact file(s) and 0 other file(s)"
            ]
          },
          "metadata": {}
        },
        {
          "output_type": "display_data",
          "data": {
            "text/plain": [
              "<IPython.core.display.HTML object>"
            ],
            "text/html": [
              "Find logs at: <code>./wandb/run-20220505_114618-lfmfp6t7/logs</code>"
            ]
          },
          "metadata": {}
        }
      ]
    },
    {
      "cell_type": "code",
      "source": [
        "fundamental_df"
      ],
      "metadata": {
        "colab": {
          "base_uri": "https://localhost:8080/",
          "height": 730
        },
        "id": "dFnxMy-O_sBv",
        "outputId": "be91b92b-b696-48a2-fb4f-251f34e49def"
      },
      "execution_count": 63,
      "outputs": [
        {
          "output_type": "execute_result",
          "data": {
            "text/plain": [
              "       index Instrument                  Date Period End Date  \\\n",
              "0          1    OMVV.VI  2000-06-30T00:00:00Z      2000-06-30   \n",
              "1          3    OMVV.VI  2000-12-31T00:00:00Z      2000-12-31   \n",
              "2          4    OMVV.VI  2001-03-31T00:00:00Z      2001-03-31   \n",
              "3          5    OMVV.VI  2001-06-30T00:00:00Z      2001-06-30   \n",
              "4          6    OMVV.VI  2001-09-30T00:00:00Z      2001-09-30   \n",
              "...      ...        ...                   ...             ...   \n",
              "57598  88073  ARACA.NFF  2008-12-31T00:00:00Z      2008-12-31   \n",
              "57599  88074  ARACA.NFF  2009-03-31T00:00:00Z      2009-03-31   \n",
              "57600  88075  ARACA.NFF  2009-06-30T00:00:00Z      2009-06-30   \n",
              "57601  88076  ARACA.NFF  2009-09-30T00:00:00Z      2009-09-30   \n",
              "57602  88077  ARACA.NFF  2009-12-31T00:00:00Z      2009-12-31   \n",
              "\n",
              "      Balance Sheet Orig Announce Date     Total Revenue      Gross Profit  \\\n",
              "0                           2000-10-23  1591395023.28372  230190745.555143   \n",
              "1                           2001-04-30  1938098647.94837  372273990.672257   \n",
              "2                           2001-11-15   1675754784.0278  270127135.374168   \n",
              "3                           2001-11-15  1704178457.61632  261593371.574251   \n",
              "4                           2001-11-08  1692966706.46458   247021992.14371   \n",
              "...                                ...               ...               ...   \n",
              "57598                       2011-03-03      92904.554159   -2117171.324493   \n",
              "57599                       2009-07-02      10549.150125    -144567.930584   \n",
              "57600                       2009-09-03      37654.234545     -51969.067513   \n",
              "57601                       2010-01-07     478926.658462      345792.09208   \n",
              "57602                       2011-10-19     577752.269824   -1150196.775641   \n",
              "\n",
              "                 EBITDA              EBIT  Net Income after Tax  ...  \\\n",
              "0      181045434.200878  105530002.190288                  <NA>  ...   \n",
              "1      228378009.139304  132398360.578508                  <NA>  ...   \n",
              "2      246253937.336036  174937923.894256                  <NA>  ...   \n",
              "3      199438283.407691  139758657.318887                  <NA>  ...   \n",
              "4      223213423.136865   133206040.77615                  <NA>  ...   \n",
              "...                 ...               ...                   ...  ...   \n",
              "57598   -4619760.125553   -7909109.757678       -2137357.171855  ...   \n",
              "57599   -1106769.285629   -1137376.678949       -4988326.377089  ...   \n",
              "57600   -1521106.598827   -1548491.496678       -1570316.767768  ...   \n",
              "57601    -961160.706547    -969172.632564       -4784882.925321  ...   \n",
              "57602   -4429205.647806   -4629050.298616       13198529.320555  ...   \n",
              "\n",
              "       Total Current Assets  Total Liabilities  Total Current Liabilities  \\\n",
              "0                      <NA>               <NA>                       <NA>   \n",
              "1                      <NA>               <NA>                       <NA>   \n",
              "2                      <NA>               <NA>                       <NA>   \n",
              "3                      <NA>               <NA>                       <NA>   \n",
              "4                      <NA>               <NA>                       <NA>   \n",
              "...                     ...                ...                        ...   \n",
              "57598        5109582.451442    21447887.060314             9690425.035636   \n",
              "57599        6308391.774634    26654730.773803            11597379.056223   \n",
              "57600        6098274.440243      27039941.4959            12361947.439668   \n",
              "57601        2744454.228709    29735080.691293             5689130.510149   \n",
              "57602        3386439.741775    32043877.515794            14782338.523147   \n",
              "\n",
              "       Long Term Debt Percentage of Total Assets  \\\n",
              "0                                           <NA>   \n",
              "1                                           <NA>   \n",
              "2                                           <NA>   \n",
              "3                                           <NA>   \n",
              "4                                           <NA>   \n",
              "...                                          ...   \n",
              "57598                                   18.99665   \n",
              "57599                                   16.66563   \n",
              "57600                                   17.77714   \n",
              "57601                                   34.19498   \n",
              "57602                                   26.03993   \n",
              "\n",
              "       Short Term Debt Percentage of Total Assets  Free Cash Flow  \\\n",
              "0                                            <NA>            <NA>   \n",
              "1                                            <NA>            <NA>   \n",
              "2                                            <NA>            <NA>   \n",
              "3                                            <NA>            <NA>   \n",
              "4                                            <NA>            <NA>   \n",
              "...                                           ...             ...   \n",
              "57598                                        <NA>            <NA>   \n",
              "57599                                        <NA> -6881572.556783   \n",
              "57600                                        <NA> -2599751.794234   \n",
              "57601                                        <NA> -8585810.204493   \n",
              "57602                                        <NA>  8328573.372822   \n",
              "\n",
              "       Gross Profitp     EBITDAp       EBITp  Net Income after Taxp  \n",
              "0           0.144647    0.113765    0.066313                    NaN  \n",
              "1           0.192082    0.117836    0.068314                    NaN  \n",
              "2           0.161197    0.146951    0.104394                    NaN  \n",
              "3           0.153501    0.117029    0.082009                    NaN  \n",
              "4           0.145911    0.131847    0.078682                    NaN  \n",
              "...              ...         ...         ...                    ...  \n",
              "57598     -22.788671  -49.725874  -85.131561             -23.005946  \n",
              "57599     -13.704225 -104.915493 -107.816901            -472.865237  \n",
              "57600      -1.380165  -40.396694  -41.123967             -41.703590  \n",
              "57601       0.722015   -2.006906   -2.023635              -9.990847  \n",
              "57602      -1.990813   -7.666271   -8.012172              22.844617  \n",
              "\n",
              "[57603 rows x 21 columns]"
            ],
            "text/html": [
              "\n",
              "  <div id=\"df-cbac4300-dc34-4c9b-aa0f-63668708e685\">\n",
              "    <div class=\"colab-df-container\">\n",
              "      <div>\n",
              "<style scoped>\n",
              "    .dataframe tbody tr th:only-of-type {\n",
              "        vertical-align: middle;\n",
              "    }\n",
              "\n",
              "    .dataframe tbody tr th {\n",
              "        vertical-align: top;\n",
              "    }\n",
              "\n",
              "    .dataframe thead th {\n",
              "        text-align: right;\n",
              "    }\n",
              "</style>\n",
              "<table border=\"1\" class=\"dataframe\">\n",
              "  <thead>\n",
              "    <tr style=\"text-align: right;\">\n",
              "      <th></th>\n",
              "      <th>index</th>\n",
              "      <th>Instrument</th>\n",
              "      <th>Date</th>\n",
              "      <th>Period End Date</th>\n",
              "      <th>Balance Sheet Orig Announce Date</th>\n",
              "      <th>Total Revenue</th>\n",
              "      <th>Gross Profit</th>\n",
              "      <th>EBITDA</th>\n",
              "      <th>EBIT</th>\n",
              "      <th>Net Income after Tax</th>\n",
              "      <th>...</th>\n",
              "      <th>Total Current Assets</th>\n",
              "      <th>Total Liabilities</th>\n",
              "      <th>Total Current Liabilities</th>\n",
              "      <th>Long Term Debt Percentage of Total Assets</th>\n",
              "      <th>Short Term Debt Percentage of Total Assets</th>\n",
              "      <th>Free Cash Flow</th>\n",
              "      <th>Gross Profitp</th>\n",
              "      <th>EBITDAp</th>\n",
              "      <th>EBITp</th>\n",
              "      <th>Net Income after Taxp</th>\n",
              "    </tr>\n",
              "  </thead>\n",
              "  <tbody>\n",
              "    <tr>\n",
              "      <th>0</th>\n",
              "      <td>1</td>\n",
              "      <td>OMVV.VI</td>\n",
              "      <td>2000-06-30T00:00:00Z</td>\n",
              "      <td>2000-06-30</td>\n",
              "      <td>2000-10-23</td>\n",
              "      <td>1591395023.28372</td>\n",
              "      <td>230190745.555143</td>\n",
              "      <td>181045434.200878</td>\n",
              "      <td>105530002.190288</td>\n",
              "      <td>&lt;NA&gt;</td>\n",
              "      <td>...</td>\n",
              "      <td>&lt;NA&gt;</td>\n",
              "      <td>&lt;NA&gt;</td>\n",
              "      <td>&lt;NA&gt;</td>\n",
              "      <td>&lt;NA&gt;</td>\n",
              "      <td>&lt;NA&gt;</td>\n",
              "      <td>&lt;NA&gt;</td>\n",
              "      <td>0.144647</td>\n",
              "      <td>0.113765</td>\n",
              "      <td>0.066313</td>\n",
              "      <td>NaN</td>\n",
              "    </tr>\n",
              "    <tr>\n",
              "      <th>1</th>\n",
              "      <td>3</td>\n",
              "      <td>OMVV.VI</td>\n",
              "      <td>2000-12-31T00:00:00Z</td>\n",
              "      <td>2000-12-31</td>\n",
              "      <td>2001-04-30</td>\n",
              "      <td>1938098647.94837</td>\n",
              "      <td>372273990.672257</td>\n",
              "      <td>228378009.139304</td>\n",
              "      <td>132398360.578508</td>\n",
              "      <td>&lt;NA&gt;</td>\n",
              "      <td>...</td>\n",
              "      <td>&lt;NA&gt;</td>\n",
              "      <td>&lt;NA&gt;</td>\n",
              "      <td>&lt;NA&gt;</td>\n",
              "      <td>&lt;NA&gt;</td>\n",
              "      <td>&lt;NA&gt;</td>\n",
              "      <td>&lt;NA&gt;</td>\n",
              "      <td>0.192082</td>\n",
              "      <td>0.117836</td>\n",
              "      <td>0.068314</td>\n",
              "      <td>NaN</td>\n",
              "    </tr>\n",
              "    <tr>\n",
              "      <th>2</th>\n",
              "      <td>4</td>\n",
              "      <td>OMVV.VI</td>\n",
              "      <td>2001-03-31T00:00:00Z</td>\n",
              "      <td>2001-03-31</td>\n",
              "      <td>2001-11-15</td>\n",
              "      <td>1675754784.0278</td>\n",
              "      <td>270127135.374168</td>\n",
              "      <td>246253937.336036</td>\n",
              "      <td>174937923.894256</td>\n",
              "      <td>&lt;NA&gt;</td>\n",
              "      <td>...</td>\n",
              "      <td>&lt;NA&gt;</td>\n",
              "      <td>&lt;NA&gt;</td>\n",
              "      <td>&lt;NA&gt;</td>\n",
              "      <td>&lt;NA&gt;</td>\n",
              "      <td>&lt;NA&gt;</td>\n",
              "      <td>&lt;NA&gt;</td>\n",
              "      <td>0.161197</td>\n",
              "      <td>0.146951</td>\n",
              "      <td>0.104394</td>\n",
              "      <td>NaN</td>\n",
              "    </tr>\n",
              "    <tr>\n",
              "      <th>3</th>\n",
              "      <td>5</td>\n",
              "      <td>OMVV.VI</td>\n",
              "      <td>2001-06-30T00:00:00Z</td>\n",
              "      <td>2001-06-30</td>\n",
              "      <td>2001-11-15</td>\n",
              "      <td>1704178457.61632</td>\n",
              "      <td>261593371.574251</td>\n",
              "      <td>199438283.407691</td>\n",
              "      <td>139758657.318887</td>\n",
              "      <td>&lt;NA&gt;</td>\n",
              "      <td>...</td>\n",
              "      <td>&lt;NA&gt;</td>\n",
              "      <td>&lt;NA&gt;</td>\n",
              "      <td>&lt;NA&gt;</td>\n",
              "      <td>&lt;NA&gt;</td>\n",
              "      <td>&lt;NA&gt;</td>\n",
              "      <td>&lt;NA&gt;</td>\n",
              "      <td>0.153501</td>\n",
              "      <td>0.117029</td>\n",
              "      <td>0.082009</td>\n",
              "      <td>NaN</td>\n",
              "    </tr>\n",
              "    <tr>\n",
              "      <th>4</th>\n",
              "      <td>6</td>\n",
              "      <td>OMVV.VI</td>\n",
              "      <td>2001-09-30T00:00:00Z</td>\n",
              "      <td>2001-09-30</td>\n",
              "      <td>2001-11-08</td>\n",
              "      <td>1692966706.46458</td>\n",
              "      <td>247021992.14371</td>\n",
              "      <td>223213423.136865</td>\n",
              "      <td>133206040.77615</td>\n",
              "      <td>&lt;NA&gt;</td>\n",
              "      <td>...</td>\n",
              "      <td>&lt;NA&gt;</td>\n",
              "      <td>&lt;NA&gt;</td>\n",
              "      <td>&lt;NA&gt;</td>\n",
              "      <td>&lt;NA&gt;</td>\n",
              "      <td>&lt;NA&gt;</td>\n",
              "      <td>&lt;NA&gt;</td>\n",
              "      <td>0.145911</td>\n",
              "      <td>0.131847</td>\n",
              "      <td>0.078682</td>\n",
              "      <td>NaN</td>\n",
              "    </tr>\n",
              "    <tr>\n",
              "      <th>...</th>\n",
              "      <td>...</td>\n",
              "      <td>...</td>\n",
              "      <td>...</td>\n",
              "      <td>...</td>\n",
              "      <td>...</td>\n",
              "      <td>...</td>\n",
              "      <td>...</td>\n",
              "      <td>...</td>\n",
              "      <td>...</td>\n",
              "      <td>...</td>\n",
              "      <td>...</td>\n",
              "      <td>...</td>\n",
              "      <td>...</td>\n",
              "      <td>...</td>\n",
              "      <td>...</td>\n",
              "      <td>...</td>\n",
              "      <td>...</td>\n",
              "      <td>...</td>\n",
              "      <td>...</td>\n",
              "      <td>...</td>\n",
              "      <td>...</td>\n",
              "    </tr>\n",
              "    <tr>\n",
              "      <th>57598</th>\n",
              "      <td>88073</td>\n",
              "      <td>ARACA.NFF</td>\n",
              "      <td>2008-12-31T00:00:00Z</td>\n",
              "      <td>2008-12-31</td>\n",
              "      <td>2011-03-03</td>\n",
              "      <td>92904.554159</td>\n",
              "      <td>-2117171.324493</td>\n",
              "      <td>-4619760.125553</td>\n",
              "      <td>-7909109.757678</td>\n",
              "      <td>-2137357.171855</td>\n",
              "      <td>...</td>\n",
              "      <td>5109582.451442</td>\n",
              "      <td>21447887.060314</td>\n",
              "      <td>9690425.035636</td>\n",
              "      <td>18.99665</td>\n",
              "      <td>&lt;NA&gt;</td>\n",
              "      <td>&lt;NA&gt;</td>\n",
              "      <td>-22.788671</td>\n",
              "      <td>-49.725874</td>\n",
              "      <td>-85.131561</td>\n",
              "      <td>-23.005946</td>\n",
              "    </tr>\n",
              "    <tr>\n",
              "      <th>57599</th>\n",
              "      <td>88074</td>\n",
              "      <td>ARACA.NFF</td>\n",
              "      <td>2009-03-31T00:00:00Z</td>\n",
              "      <td>2009-03-31</td>\n",
              "      <td>2009-07-02</td>\n",
              "      <td>10549.150125</td>\n",
              "      <td>-144567.930584</td>\n",
              "      <td>-1106769.285629</td>\n",
              "      <td>-1137376.678949</td>\n",
              "      <td>-4988326.377089</td>\n",
              "      <td>...</td>\n",
              "      <td>6308391.774634</td>\n",
              "      <td>26654730.773803</td>\n",
              "      <td>11597379.056223</td>\n",
              "      <td>16.66563</td>\n",
              "      <td>&lt;NA&gt;</td>\n",
              "      <td>-6881572.556783</td>\n",
              "      <td>-13.704225</td>\n",
              "      <td>-104.915493</td>\n",
              "      <td>-107.816901</td>\n",
              "      <td>-472.865237</td>\n",
              "    </tr>\n",
              "    <tr>\n",
              "      <th>57600</th>\n",
              "      <td>88075</td>\n",
              "      <td>ARACA.NFF</td>\n",
              "      <td>2009-06-30T00:00:00Z</td>\n",
              "      <td>2009-06-30</td>\n",
              "      <td>2009-09-03</td>\n",
              "      <td>37654.234545</td>\n",
              "      <td>-51969.067513</td>\n",
              "      <td>-1521106.598827</td>\n",
              "      <td>-1548491.496678</td>\n",
              "      <td>-1570316.767768</td>\n",
              "      <td>...</td>\n",
              "      <td>6098274.440243</td>\n",
              "      <td>27039941.4959</td>\n",
              "      <td>12361947.439668</td>\n",
              "      <td>17.77714</td>\n",
              "      <td>&lt;NA&gt;</td>\n",
              "      <td>-2599751.794234</td>\n",
              "      <td>-1.380165</td>\n",
              "      <td>-40.396694</td>\n",
              "      <td>-41.123967</td>\n",
              "      <td>-41.703590</td>\n",
              "    </tr>\n",
              "    <tr>\n",
              "      <th>57601</th>\n",
              "      <td>88076</td>\n",
              "      <td>ARACA.NFF</td>\n",
              "      <td>2009-09-30T00:00:00Z</td>\n",
              "      <td>2009-09-30</td>\n",
              "      <td>2010-01-07</td>\n",
              "      <td>478926.658462</td>\n",
              "      <td>345792.09208</td>\n",
              "      <td>-961160.706547</td>\n",
              "      <td>-969172.632564</td>\n",
              "      <td>-4784882.925321</td>\n",
              "      <td>...</td>\n",
              "      <td>2744454.228709</td>\n",
              "      <td>29735080.691293</td>\n",
              "      <td>5689130.510149</td>\n",
              "      <td>34.19498</td>\n",
              "      <td>&lt;NA&gt;</td>\n",
              "      <td>-8585810.204493</td>\n",
              "      <td>0.722015</td>\n",
              "      <td>-2.006906</td>\n",
              "      <td>-2.023635</td>\n",
              "      <td>-9.990847</td>\n",
              "    </tr>\n",
              "    <tr>\n",
              "      <th>57602</th>\n",
              "      <td>88077</td>\n",
              "      <td>ARACA.NFF</td>\n",
              "      <td>2009-12-31T00:00:00Z</td>\n",
              "      <td>2009-12-31</td>\n",
              "      <td>2011-10-19</td>\n",
              "      <td>577752.269824</td>\n",
              "      <td>-1150196.775641</td>\n",
              "      <td>-4429205.647806</td>\n",
              "      <td>-4629050.298616</td>\n",
              "      <td>13198529.320555</td>\n",
              "      <td>...</td>\n",
              "      <td>3386439.741775</td>\n",
              "      <td>32043877.515794</td>\n",
              "      <td>14782338.523147</td>\n",
              "      <td>26.03993</td>\n",
              "      <td>&lt;NA&gt;</td>\n",
              "      <td>8328573.372822</td>\n",
              "      <td>-1.990813</td>\n",
              "      <td>-7.666271</td>\n",
              "      <td>-8.012172</td>\n",
              "      <td>22.844617</td>\n",
              "    </tr>\n",
              "  </tbody>\n",
              "</table>\n",
              "<p>57603 rows × 21 columns</p>\n",
              "</div>\n",
              "      <button class=\"colab-df-convert\" onclick=\"convertToInteractive('df-cbac4300-dc34-4c9b-aa0f-63668708e685')\"\n",
              "              title=\"Convert this dataframe to an interactive table.\"\n",
              "              style=\"display:none;\">\n",
              "        \n",
              "  <svg xmlns=\"http://www.w3.org/2000/svg\" height=\"24px\"viewBox=\"0 0 24 24\"\n",
              "       width=\"24px\">\n",
              "    <path d=\"M0 0h24v24H0V0z\" fill=\"none\"/>\n",
              "    <path d=\"M18.56 5.44l.94 2.06.94-2.06 2.06-.94-2.06-.94-.94-2.06-.94 2.06-2.06.94zm-11 1L8.5 8.5l.94-2.06 2.06-.94-2.06-.94L8.5 2.5l-.94 2.06-2.06.94zm10 10l.94 2.06.94-2.06 2.06-.94-2.06-.94-.94-2.06-.94 2.06-2.06.94z\"/><path d=\"M17.41 7.96l-1.37-1.37c-.4-.4-.92-.59-1.43-.59-.52 0-1.04.2-1.43.59L10.3 9.45l-7.72 7.72c-.78.78-.78 2.05 0 2.83L4 21.41c.39.39.9.59 1.41.59.51 0 1.02-.2 1.41-.59l7.78-7.78 2.81-2.81c.8-.78.8-2.07 0-2.86zM5.41 20L4 18.59l7.72-7.72 1.47 1.35L5.41 20z\"/>\n",
              "  </svg>\n",
              "      </button>\n",
              "      \n",
              "  <style>\n",
              "    .colab-df-container {\n",
              "      display:flex;\n",
              "      flex-wrap:wrap;\n",
              "      gap: 12px;\n",
              "    }\n",
              "\n",
              "    .colab-df-convert {\n",
              "      background-color: #E8F0FE;\n",
              "      border: none;\n",
              "      border-radius: 50%;\n",
              "      cursor: pointer;\n",
              "      display: none;\n",
              "      fill: #1967D2;\n",
              "      height: 32px;\n",
              "      padding: 0 0 0 0;\n",
              "      width: 32px;\n",
              "    }\n",
              "\n",
              "    .colab-df-convert:hover {\n",
              "      background-color: #E2EBFA;\n",
              "      box-shadow: 0px 1px 2px rgba(60, 64, 67, 0.3), 0px 1px 3px 1px rgba(60, 64, 67, 0.15);\n",
              "      fill: #174EA6;\n",
              "    }\n",
              "\n",
              "    [theme=dark] .colab-df-convert {\n",
              "      background-color: #3B4455;\n",
              "      fill: #D2E3FC;\n",
              "    }\n",
              "\n",
              "    [theme=dark] .colab-df-convert:hover {\n",
              "      background-color: #434B5C;\n",
              "      box-shadow: 0px 1px 3px 1px rgba(0, 0, 0, 0.15);\n",
              "      filter: drop-shadow(0px 1px 2px rgba(0, 0, 0, 0.3));\n",
              "      fill: #FFFFFF;\n",
              "    }\n",
              "  </style>\n",
              "\n",
              "      <script>\n",
              "        const buttonEl =\n",
              "          document.querySelector('#df-cbac4300-dc34-4c9b-aa0f-63668708e685 button.colab-df-convert');\n",
              "        buttonEl.style.display =\n",
              "          google.colab.kernel.accessAllowed ? 'block' : 'none';\n",
              "\n",
              "        async function convertToInteractive(key) {\n",
              "          const element = document.querySelector('#df-cbac4300-dc34-4c9b-aa0f-63668708e685');\n",
              "          const dataTable =\n",
              "            await google.colab.kernel.invokeFunction('convertToInteractive',\n",
              "                                                     [key], {});\n",
              "          if (!dataTable) return;\n",
              "\n",
              "          const docLinkHtml = 'Like what you see? Visit the ' +\n",
              "            '<a target=\"_blank\" href=https://colab.research.google.com/notebooks/data_table.ipynb>data table notebook</a>'\n",
              "            + ' to learn more about interactive tables.';\n",
              "          element.innerHTML = '';\n",
              "          dataTable['output_type'] = 'display_data';\n",
              "          await google.colab.output.renderOutput(dataTable, element);\n",
              "          const docLink = document.createElement('div');\n",
              "          docLink.innerHTML = docLinkHtml;\n",
              "          element.appendChild(docLink);\n",
              "        }\n",
              "      </script>\n",
              "    </div>\n",
              "  </div>\n",
              "  "
            ]
          },
          "metadata": {},
          "execution_count": 63
        }
      ]
    },
    {
      "cell_type": "code",
      "source": [
        "unique_fundamental = set(fundamental_df[\"Instrument\"].unique())\n",
        "unique_stock = set(stock_df[\"ticker\"].unique())\n",
        "\n",
        "full_data_companies = unique_fundamental & unique_stock"
      ],
      "metadata": {
        "id": "0OaOinv2sumo"
      },
      "execution_count": 64,
      "outputs": []
    },
    {
      "cell_type": "markdown",
      "source": [
        "## Inspect the raw data\n",
        "\n",
        "To know what we're working with"
      ],
      "metadata": {
        "id": "Q0LS11l97am_"
      }
    },
    {
      "cell_type": "code",
      "source": [
        "fundamental_df = fundamental_df.rename(columns=column_mapping).astype({\"announce_date\":\"datetime64[ns]\"})\n",
        "meta_df = meta_df.rename(columns=column_mapping)\n",
        "\n",
        "full_data_fundamentals = fundamental_df[fundamental_df[\"ticker\"].isin(full_data_companies)].drop(columns=[\"index\"])\n",
        "full_data_stock = stock_df[stock_df[\"ticker\"].isin(full_data_companies)]\n",
        "full_data_meta = meta_df[meta_df[\"ticker\"].isin(full_data_companies)]"
      ],
      "metadata": {
        "id": "IwLo7CT5vIVM"
      },
      "execution_count": 65,
      "outputs": []
    },
    {
      "cell_type": "code",
      "source": [
        "(\n",
        "    full_data_stock.shape[0],\n",
        "    full_data_fundamentals.count(axis=0, numeric_only=True).sum(),\n",
        "    full_data_meta.count(axis=0, numeric_only=True).sum(),\n",
        ")"
      ],
      "metadata": {
        "colab": {
          "base_uri": "https://localhost:8080/"
        },
        "id": "8f9zWG0XRs_k",
        "outputId": "8f08344a-0d8d-486a-d53e-b68d464e7abe"
      },
      "execution_count": 66,
      "outputs": [
        {
          "output_type": "execute_result",
          "data": {
            "text/plain": [
              "(3206180, 621023, 861)"
            ]
          },
          "metadata": {},
          "execution_count": 66
        }
      ]
    },
    {
      "cell_type": "markdown",
      "source": [
        "## Upload full data to WandB"
      ],
      "metadata": {
        "id": "r6j_cgwPGmC4"
      }
    },
    {
      "cell_type": "code",
      "source": [
        "put_dataset(full_data_fundamentals, filename=\"fundamentals-oil-final.feather\", project=\"master-test\")\n",
        "put_dataset(full_data_stock, filename=\"stock-oil-final.feather\", project=\"master-test\")\n",
        "put_dataset(full_data_meta, filename=\"meta-oil-final.feather\", project=\"master-test\")"
      ],
      "metadata": {
        "colab": {
          "base_uri": "https://localhost:8080/",
          "height": 141,
          "referenced_widgets": [
            "8fec3bc4fa034118bfdd58bc27e08540",
            "adde3605ad4b4ca7b26e829c658d4ded",
            "581e6e16fb52474a9dc66219e56935e4",
            "f5c42d5b74af48dcb93182692b6c0735",
            "9eee7e60d5c14768b886fb5734fef275",
            "60e25e176de349a49c32daca896702c7",
            "a911298192964337a274508ca605e7a3",
            "9d9b2768af4b46699a8fd6d7b47eb768"
          ]
        },
        "id": "5rDKdq95EU3O",
        "outputId": "7a098ba2-2ccb-470e-a1ef-420a4049e739"
      },
      "execution_count": 67,
      "outputs": [
        {
          "output_type": "display_data",
          "data": {
            "text/plain": [
              "<IPython.core.display.HTML object>"
            ],
            "text/html": [
              "Tracking run with wandb version 0.12.16"
            ]
          },
          "metadata": {}
        },
        {
          "output_type": "display_data",
          "data": {
            "text/plain": [
              "<IPython.core.display.HTML object>"
            ],
            "text/html": [
              "Run data is saved locally in <code>/content/wandb/run-20220505_114632-qk33mock</code>"
            ]
          },
          "metadata": {}
        },
        {
          "output_type": "display_data",
          "data": {
            "text/plain": [
              "<IPython.core.display.HTML object>"
            ],
            "text/html": [
              "Syncing run <strong><a href=\"https://wandb.ai/krankile/master-test/runs/qk33mock\" target=\"_blank\">scruffy-looking-nerf-herder-187</a></strong> to <a href=\"https://wandb.ai/krankile/master-test\" target=\"_blank\">Weights & Biases</a> (<a href=\"https://wandb.me/run\" target=\"_blank\">docs</a>)<br/>"
            ]
          },
          "metadata": {}
        },
        {
          "output_type": "display_data",
          "data": {
            "text/plain": [
              "<IPython.core.display.HTML object>"
            ],
            "text/html": [
              "Waiting for W&B process to finish... <strong style=\"color:green\">(success).</strong>"
            ]
          },
          "metadata": {}
        },
        {
          "output_type": "display_data",
          "data": {
            "text/plain": [
              "VBox(children=(Label(value='4.995 MB of 4.995 MB uploaded (0.000 MB deduped)\\r'), FloatProgress(value=1.0, max…"
            ],
            "application/vnd.jupyter.widget-view+json": {
              "version_major": 2,
              "version_minor": 0,
              "model_id": "8fec3bc4fa034118bfdd58bc27e08540"
            }
          },
          "metadata": {}
        },
        {
          "output_type": "display_data",
          "data": {
            "text/plain": [
              "<IPython.core.display.HTML object>"
            ],
            "text/html": [
              "Synced <strong style=\"color:#cdcd00\">scruffy-looking-nerf-herder-187</strong>: <a href=\"https://wandb.ai/krankile/master-test/runs/qk33mock\" target=\"_blank\">https://wandb.ai/krankile/master-test/runs/qk33mock</a><br/>Synced 4 W&B file(s), 0 media file(s), 1 artifact file(s) and 0 other file(s)"
            ]
          },
          "metadata": {}
        },
        {
          "output_type": "display_data",
          "data": {
            "text/plain": [
              "<IPython.core.display.HTML object>"
            ],
            "text/html": [
              "Find logs at: <code>./wandb/run-20220505_114632-qk33mock/logs</code>"
            ]
          },
          "metadata": {}
        }
      ]
    },
    {
      "cell_type": "code",
      "source": [
        ""
      ],
      "metadata": {
        "id": "41vo3NRC8NDA"
      },
      "execution_count": null,
      "outputs": []
    }
  ],
  "metadata": {
    "colab": {
      "collapsed_sections": [],
      "name": "inner_join_fundamentals_and_stock.ipynb",
      "provenance": [],
      "toc_visible": true,
      "include_colab_link": true
    },
    "kernelspec": {
      "display_name": "Python 3",
      "name": "python3"
    },
    "language_info": {
      "name": "python"
    },
    "widgets": {
      "application/vnd.jupyter.widget-state+json": {
        "a91e152883cf4cff887900fdd2ce70f2": {
          "model_module": "@jupyter-widgets/controls",
          "model_name": "VBoxModel",
          "model_module_version": "1.5.0",
          "state": {
            "_dom_classes": [],
            "_model_module": "@jupyter-widgets/controls",
            "_model_module_version": "1.5.0",
            "_model_name": "VBoxModel",
            "_view_count": null,
            "_view_module": "@jupyter-widgets/controls",
            "_view_module_version": "1.5.0",
            "_view_name": "VBoxView",
            "box_style": "",
            "children": [
              "IPY_MODEL_1edded10e11b4b00b0cd2ed92a729601",
              "IPY_MODEL_0a465f78714a44ffb524af89dc4a0698"
            ],
            "layout": "IPY_MODEL_39b3a94ddc4e4737b48c1c298c92ea44"
          }
        },
        "1edded10e11b4b00b0cd2ed92a729601": {
          "model_module": "@jupyter-widgets/controls",
          "model_name": "LabelModel",
          "model_module_version": "1.5.0",
          "state": {
            "_dom_classes": [],
            "_model_module": "@jupyter-widgets/controls",
            "_model_module_version": "1.5.0",
            "_model_name": "LabelModel",
            "_view_count": null,
            "_view_module": "@jupyter-widgets/controls",
            "_view_module_version": "1.5.0",
            "_view_name": "LabelView",
            "description": "",
            "description_tooltip": null,
            "layout": "IPY_MODEL_30519bea542a47fabbaf3fa75f044aa2",
            "placeholder": "​",
            "style": "IPY_MODEL_18b8a8fb398e4c789e7ae6b03a77fd25",
            "value": "0.008 MB of 0.008 MB uploaded (0.000 MB deduped)\r"
          }
        },
        "0a465f78714a44ffb524af89dc4a0698": {
          "model_module": "@jupyter-widgets/controls",
          "model_name": "FloatProgressModel",
          "model_module_version": "1.5.0",
          "state": {
            "_dom_classes": [],
            "_model_module": "@jupyter-widgets/controls",
            "_model_module_version": "1.5.0",
            "_model_name": "FloatProgressModel",
            "_view_count": null,
            "_view_module": "@jupyter-widgets/controls",
            "_view_module_version": "1.5.0",
            "_view_name": "ProgressView",
            "bar_style": "",
            "description": "",
            "description_tooltip": null,
            "layout": "IPY_MODEL_648f105196384faca77c980ca7c70da3",
            "max": 1,
            "min": 0,
            "orientation": "horizontal",
            "style": "IPY_MODEL_b4900e03841445b0b05dc3e74fbb5160",
            "value": 1
          }
        },
        "39b3a94ddc4e4737b48c1c298c92ea44": {
          "model_module": "@jupyter-widgets/base",
          "model_name": "LayoutModel",
          "model_module_version": "1.2.0",
          "state": {
            "_model_module": "@jupyter-widgets/base",
            "_model_module_version": "1.2.0",
            "_model_name": "LayoutModel",
            "_view_count": null,
            "_view_module": "@jupyter-widgets/base",
            "_view_module_version": "1.2.0",
            "_view_name": "LayoutView",
            "align_content": null,
            "align_items": null,
            "align_self": null,
            "border": null,
            "bottom": null,
            "display": null,
            "flex": null,
            "flex_flow": null,
            "grid_area": null,
            "grid_auto_columns": null,
            "grid_auto_flow": null,
            "grid_auto_rows": null,
            "grid_column": null,
            "grid_gap": null,
            "grid_row": null,
            "grid_template_areas": null,
            "grid_template_columns": null,
            "grid_template_rows": null,
            "height": null,
            "justify_content": null,
            "justify_items": null,
            "left": null,
            "margin": null,
            "max_height": null,
            "max_width": null,
            "min_height": null,
            "min_width": null,
            "object_fit": null,
            "object_position": null,
            "order": null,
            "overflow": null,
            "overflow_x": null,
            "overflow_y": null,
            "padding": null,
            "right": null,
            "top": null,
            "visibility": null,
            "width": null
          }
        },
        "30519bea542a47fabbaf3fa75f044aa2": {
          "model_module": "@jupyter-widgets/base",
          "model_name": "LayoutModel",
          "model_module_version": "1.2.0",
          "state": {
            "_model_module": "@jupyter-widgets/base",
            "_model_module_version": "1.2.0",
            "_model_name": "LayoutModel",
            "_view_count": null,
            "_view_module": "@jupyter-widgets/base",
            "_view_module_version": "1.2.0",
            "_view_name": "LayoutView",
            "align_content": null,
            "align_items": null,
            "align_self": null,
            "border": null,
            "bottom": null,
            "display": null,
            "flex": null,
            "flex_flow": null,
            "grid_area": null,
            "grid_auto_columns": null,
            "grid_auto_flow": null,
            "grid_auto_rows": null,
            "grid_column": null,
            "grid_gap": null,
            "grid_row": null,
            "grid_template_areas": null,
            "grid_template_columns": null,
            "grid_template_rows": null,
            "height": null,
            "justify_content": null,
            "justify_items": null,
            "left": null,
            "margin": null,
            "max_height": null,
            "max_width": null,
            "min_height": null,
            "min_width": null,
            "object_fit": null,
            "object_position": null,
            "order": null,
            "overflow": null,
            "overflow_x": null,
            "overflow_y": null,
            "padding": null,
            "right": null,
            "top": null,
            "visibility": null,
            "width": null
          }
        },
        "18b8a8fb398e4c789e7ae6b03a77fd25": {
          "model_module": "@jupyter-widgets/controls",
          "model_name": "DescriptionStyleModel",
          "model_module_version": "1.5.0",
          "state": {
            "_model_module": "@jupyter-widgets/controls",
            "_model_module_version": "1.5.0",
            "_model_name": "DescriptionStyleModel",
            "_view_count": null,
            "_view_module": "@jupyter-widgets/base",
            "_view_module_version": "1.2.0",
            "_view_name": "StyleView",
            "description_width": ""
          }
        },
        "648f105196384faca77c980ca7c70da3": {
          "model_module": "@jupyter-widgets/base",
          "model_name": "LayoutModel",
          "model_module_version": "1.2.0",
          "state": {
            "_model_module": "@jupyter-widgets/base",
            "_model_module_version": "1.2.0",
            "_model_name": "LayoutModel",
            "_view_count": null,
            "_view_module": "@jupyter-widgets/base",
            "_view_module_version": "1.2.0",
            "_view_name": "LayoutView",
            "align_content": null,
            "align_items": null,
            "align_self": null,
            "border": null,
            "bottom": null,
            "display": null,
            "flex": null,
            "flex_flow": null,
            "grid_area": null,
            "grid_auto_columns": null,
            "grid_auto_flow": null,
            "grid_auto_rows": null,
            "grid_column": null,
            "grid_gap": null,
            "grid_row": null,
            "grid_template_areas": null,
            "grid_template_columns": null,
            "grid_template_rows": null,
            "height": null,
            "justify_content": null,
            "justify_items": null,
            "left": null,
            "margin": null,
            "max_height": null,
            "max_width": null,
            "min_height": null,
            "min_width": null,
            "object_fit": null,
            "object_position": null,
            "order": null,
            "overflow": null,
            "overflow_x": null,
            "overflow_y": null,
            "padding": null,
            "right": null,
            "top": null,
            "visibility": null,
            "width": null
          }
        },
        "b4900e03841445b0b05dc3e74fbb5160": {
          "model_module": "@jupyter-widgets/controls",
          "model_name": "ProgressStyleModel",
          "model_module_version": "1.5.0",
          "state": {
            "_model_module": "@jupyter-widgets/controls",
            "_model_module_version": "1.5.0",
            "_model_name": "ProgressStyleModel",
            "_view_count": null,
            "_view_module": "@jupyter-widgets/base",
            "_view_module_version": "1.2.0",
            "_view_name": "StyleView",
            "bar_color": null,
            "description_width": ""
          }
        },
        "aff77a980c2748328f165d38981efdc5": {
          "model_module": "@jupyter-widgets/controls",
          "model_name": "VBoxModel",
          "model_module_version": "1.5.0",
          "state": {
            "_dom_classes": [],
            "_model_module": "@jupyter-widgets/controls",
            "_model_module_version": "1.5.0",
            "_model_name": "VBoxModel",
            "_view_count": null,
            "_view_module": "@jupyter-widgets/controls",
            "_view_module_version": "1.5.0",
            "_view_name": "VBoxView",
            "box_style": "",
            "children": [
              "IPY_MODEL_c000c202e7bd4c06a1db5c4f7fe98a25",
              "IPY_MODEL_765cad9f2c5145899e1ee6e8ec9754a6"
            ],
            "layout": "IPY_MODEL_b14097ce45ea48239736f0734769c376"
          }
        },
        "c000c202e7bd4c06a1db5c4f7fe98a25": {
          "model_module": "@jupyter-widgets/controls",
          "model_name": "LabelModel",
          "model_module_version": "1.5.0",
          "state": {
            "_dom_classes": [],
            "_model_module": "@jupyter-widgets/controls",
            "_model_module_version": "1.5.0",
            "_model_name": "LabelModel",
            "_view_count": null,
            "_view_module": "@jupyter-widgets/controls",
            "_view_module_version": "1.5.0",
            "_view_name": "LabelView",
            "description": "",
            "description_tooltip": null,
            "layout": "IPY_MODEL_556e38a7b28c4525aa898106ca65de04",
            "placeholder": "​",
            "style": "IPY_MODEL_0c38c47245c942c5bd78172cc1a68ff4",
            "value": "0.008 MB of 0.008 MB uploaded (0.000 MB deduped)\r"
          }
        },
        "765cad9f2c5145899e1ee6e8ec9754a6": {
          "model_module": "@jupyter-widgets/controls",
          "model_name": "FloatProgressModel",
          "model_module_version": "1.5.0",
          "state": {
            "_dom_classes": [],
            "_model_module": "@jupyter-widgets/controls",
            "_model_module_version": "1.5.0",
            "_model_name": "FloatProgressModel",
            "_view_count": null,
            "_view_module": "@jupyter-widgets/controls",
            "_view_module_version": "1.5.0",
            "_view_name": "ProgressView",
            "bar_style": "",
            "description": "",
            "description_tooltip": null,
            "layout": "IPY_MODEL_6dcc31fb59c94d5f8af3e8a5e2011749",
            "max": 1,
            "min": 0,
            "orientation": "horizontal",
            "style": "IPY_MODEL_922f30e452f94bde95839dfa6cbee09f",
            "value": 1
          }
        },
        "b14097ce45ea48239736f0734769c376": {
          "model_module": "@jupyter-widgets/base",
          "model_name": "LayoutModel",
          "model_module_version": "1.2.0",
          "state": {
            "_model_module": "@jupyter-widgets/base",
            "_model_module_version": "1.2.0",
            "_model_name": "LayoutModel",
            "_view_count": null,
            "_view_module": "@jupyter-widgets/base",
            "_view_module_version": "1.2.0",
            "_view_name": "LayoutView",
            "align_content": null,
            "align_items": null,
            "align_self": null,
            "border": null,
            "bottom": null,
            "display": null,
            "flex": null,
            "flex_flow": null,
            "grid_area": null,
            "grid_auto_columns": null,
            "grid_auto_flow": null,
            "grid_auto_rows": null,
            "grid_column": null,
            "grid_gap": null,
            "grid_row": null,
            "grid_template_areas": null,
            "grid_template_columns": null,
            "grid_template_rows": null,
            "height": null,
            "justify_content": null,
            "justify_items": null,
            "left": null,
            "margin": null,
            "max_height": null,
            "max_width": null,
            "min_height": null,
            "min_width": null,
            "object_fit": null,
            "object_position": null,
            "order": null,
            "overflow": null,
            "overflow_x": null,
            "overflow_y": null,
            "padding": null,
            "right": null,
            "top": null,
            "visibility": null,
            "width": null
          }
        },
        "556e38a7b28c4525aa898106ca65de04": {
          "model_module": "@jupyter-widgets/base",
          "model_name": "LayoutModel",
          "model_module_version": "1.2.0",
          "state": {
            "_model_module": "@jupyter-widgets/base",
            "_model_module_version": "1.2.0",
            "_model_name": "LayoutModel",
            "_view_count": null,
            "_view_module": "@jupyter-widgets/base",
            "_view_module_version": "1.2.0",
            "_view_name": "LayoutView",
            "align_content": null,
            "align_items": null,
            "align_self": null,
            "border": null,
            "bottom": null,
            "display": null,
            "flex": null,
            "flex_flow": null,
            "grid_area": null,
            "grid_auto_columns": null,
            "grid_auto_flow": null,
            "grid_auto_rows": null,
            "grid_column": null,
            "grid_gap": null,
            "grid_row": null,
            "grid_template_areas": null,
            "grid_template_columns": null,
            "grid_template_rows": null,
            "height": null,
            "justify_content": null,
            "justify_items": null,
            "left": null,
            "margin": null,
            "max_height": null,
            "max_width": null,
            "min_height": null,
            "min_width": null,
            "object_fit": null,
            "object_position": null,
            "order": null,
            "overflow": null,
            "overflow_x": null,
            "overflow_y": null,
            "padding": null,
            "right": null,
            "top": null,
            "visibility": null,
            "width": null
          }
        },
        "0c38c47245c942c5bd78172cc1a68ff4": {
          "model_module": "@jupyter-widgets/controls",
          "model_name": "DescriptionStyleModel",
          "model_module_version": "1.5.0",
          "state": {
            "_model_module": "@jupyter-widgets/controls",
            "_model_module_version": "1.5.0",
            "_model_name": "DescriptionStyleModel",
            "_view_count": null,
            "_view_module": "@jupyter-widgets/base",
            "_view_module_version": "1.2.0",
            "_view_name": "StyleView",
            "description_width": ""
          }
        },
        "6dcc31fb59c94d5f8af3e8a5e2011749": {
          "model_module": "@jupyter-widgets/base",
          "model_name": "LayoutModel",
          "model_module_version": "1.2.0",
          "state": {
            "_model_module": "@jupyter-widgets/base",
            "_model_module_version": "1.2.0",
            "_model_name": "LayoutModel",
            "_view_count": null,
            "_view_module": "@jupyter-widgets/base",
            "_view_module_version": "1.2.0",
            "_view_name": "LayoutView",
            "align_content": null,
            "align_items": null,
            "align_self": null,
            "border": null,
            "bottom": null,
            "display": null,
            "flex": null,
            "flex_flow": null,
            "grid_area": null,
            "grid_auto_columns": null,
            "grid_auto_flow": null,
            "grid_auto_rows": null,
            "grid_column": null,
            "grid_gap": null,
            "grid_row": null,
            "grid_template_areas": null,
            "grid_template_columns": null,
            "grid_template_rows": null,
            "height": null,
            "justify_content": null,
            "justify_items": null,
            "left": null,
            "margin": null,
            "max_height": null,
            "max_width": null,
            "min_height": null,
            "min_width": null,
            "object_fit": null,
            "object_position": null,
            "order": null,
            "overflow": null,
            "overflow_x": null,
            "overflow_y": null,
            "padding": null,
            "right": null,
            "top": null,
            "visibility": null,
            "width": null
          }
        },
        "922f30e452f94bde95839dfa6cbee09f": {
          "model_module": "@jupyter-widgets/controls",
          "model_name": "ProgressStyleModel",
          "model_module_version": "1.5.0",
          "state": {
            "_model_module": "@jupyter-widgets/controls",
            "_model_module_version": "1.5.0",
            "_model_name": "ProgressStyleModel",
            "_view_count": null,
            "_view_module": "@jupyter-widgets/base",
            "_view_module_version": "1.2.0",
            "_view_name": "StyleView",
            "bar_color": null,
            "description_width": ""
          }
        },
        "b017a08b6b7f40dc9346baaa1bf0462c": {
          "model_module": "@jupyter-widgets/controls",
          "model_name": "VBoxModel",
          "model_module_version": "1.5.0",
          "state": {
            "_dom_classes": [],
            "_model_module": "@jupyter-widgets/controls",
            "_model_module_version": "1.5.0",
            "_model_name": "VBoxModel",
            "_view_count": null,
            "_view_module": "@jupyter-widgets/controls",
            "_view_module_version": "1.5.0",
            "_view_name": "VBoxView",
            "box_style": "",
            "children": [
              "IPY_MODEL_d302b2c57164432b8e52e579790184cb",
              "IPY_MODEL_8cfab37d17e74842b83fda2111a5611e"
            ],
            "layout": "IPY_MODEL_90bbc4579fa34316bb097bf8740e077b"
          }
        },
        "d302b2c57164432b8e52e579790184cb": {
          "model_module": "@jupyter-widgets/controls",
          "model_name": "LabelModel",
          "model_module_version": "1.5.0",
          "state": {
            "_dom_classes": [],
            "_model_module": "@jupyter-widgets/controls",
            "_model_module_version": "1.5.0",
            "_model_name": "LabelModel",
            "_view_count": null,
            "_view_module": "@jupyter-widgets/controls",
            "_view_module_version": "1.5.0",
            "_view_name": "LabelView",
            "description": "",
            "description_tooltip": null,
            "layout": "IPY_MODEL_74eb59c6f8024adfa751bf63526742e2",
            "placeholder": "​",
            "style": "IPY_MODEL_04f3e89249334bf59dd6e28f6a0352ff",
            "value": "0.008 MB of 0.008 MB uploaded (0.000 MB deduped)\r"
          }
        },
        "8cfab37d17e74842b83fda2111a5611e": {
          "model_module": "@jupyter-widgets/controls",
          "model_name": "FloatProgressModel",
          "model_module_version": "1.5.0",
          "state": {
            "_dom_classes": [],
            "_model_module": "@jupyter-widgets/controls",
            "_model_module_version": "1.5.0",
            "_model_name": "FloatProgressModel",
            "_view_count": null,
            "_view_module": "@jupyter-widgets/controls",
            "_view_module_version": "1.5.0",
            "_view_name": "ProgressView",
            "bar_style": "",
            "description": "",
            "description_tooltip": null,
            "layout": "IPY_MODEL_896c81f337984846aa9a9c606b477dbc",
            "max": 1,
            "min": 0,
            "orientation": "horizontal",
            "style": "IPY_MODEL_7bf17682513f416cba428df06d1f7829",
            "value": 1
          }
        },
        "90bbc4579fa34316bb097bf8740e077b": {
          "model_module": "@jupyter-widgets/base",
          "model_name": "LayoutModel",
          "model_module_version": "1.2.0",
          "state": {
            "_model_module": "@jupyter-widgets/base",
            "_model_module_version": "1.2.0",
            "_model_name": "LayoutModel",
            "_view_count": null,
            "_view_module": "@jupyter-widgets/base",
            "_view_module_version": "1.2.0",
            "_view_name": "LayoutView",
            "align_content": null,
            "align_items": null,
            "align_self": null,
            "border": null,
            "bottom": null,
            "display": null,
            "flex": null,
            "flex_flow": null,
            "grid_area": null,
            "grid_auto_columns": null,
            "grid_auto_flow": null,
            "grid_auto_rows": null,
            "grid_column": null,
            "grid_gap": null,
            "grid_row": null,
            "grid_template_areas": null,
            "grid_template_columns": null,
            "grid_template_rows": null,
            "height": null,
            "justify_content": null,
            "justify_items": null,
            "left": null,
            "margin": null,
            "max_height": null,
            "max_width": null,
            "min_height": null,
            "min_width": null,
            "object_fit": null,
            "object_position": null,
            "order": null,
            "overflow": null,
            "overflow_x": null,
            "overflow_y": null,
            "padding": null,
            "right": null,
            "top": null,
            "visibility": null,
            "width": null
          }
        },
        "74eb59c6f8024adfa751bf63526742e2": {
          "model_module": "@jupyter-widgets/base",
          "model_name": "LayoutModel",
          "model_module_version": "1.2.0",
          "state": {
            "_model_module": "@jupyter-widgets/base",
            "_model_module_version": "1.2.0",
            "_model_name": "LayoutModel",
            "_view_count": null,
            "_view_module": "@jupyter-widgets/base",
            "_view_module_version": "1.2.0",
            "_view_name": "LayoutView",
            "align_content": null,
            "align_items": null,
            "align_self": null,
            "border": null,
            "bottom": null,
            "display": null,
            "flex": null,
            "flex_flow": null,
            "grid_area": null,
            "grid_auto_columns": null,
            "grid_auto_flow": null,
            "grid_auto_rows": null,
            "grid_column": null,
            "grid_gap": null,
            "grid_row": null,
            "grid_template_areas": null,
            "grid_template_columns": null,
            "grid_template_rows": null,
            "height": null,
            "justify_content": null,
            "justify_items": null,
            "left": null,
            "margin": null,
            "max_height": null,
            "max_width": null,
            "min_height": null,
            "min_width": null,
            "object_fit": null,
            "object_position": null,
            "order": null,
            "overflow": null,
            "overflow_x": null,
            "overflow_y": null,
            "padding": null,
            "right": null,
            "top": null,
            "visibility": null,
            "width": null
          }
        },
        "04f3e89249334bf59dd6e28f6a0352ff": {
          "model_module": "@jupyter-widgets/controls",
          "model_name": "DescriptionStyleModel",
          "model_module_version": "1.5.0",
          "state": {
            "_model_module": "@jupyter-widgets/controls",
            "_model_module_version": "1.5.0",
            "_model_name": "DescriptionStyleModel",
            "_view_count": null,
            "_view_module": "@jupyter-widgets/base",
            "_view_module_version": "1.2.0",
            "_view_name": "StyleView",
            "description_width": ""
          }
        },
        "896c81f337984846aa9a9c606b477dbc": {
          "model_module": "@jupyter-widgets/base",
          "model_name": "LayoutModel",
          "model_module_version": "1.2.0",
          "state": {
            "_model_module": "@jupyter-widgets/base",
            "_model_module_version": "1.2.0",
            "_model_name": "LayoutModel",
            "_view_count": null,
            "_view_module": "@jupyter-widgets/base",
            "_view_module_version": "1.2.0",
            "_view_name": "LayoutView",
            "align_content": null,
            "align_items": null,
            "align_self": null,
            "border": null,
            "bottom": null,
            "display": null,
            "flex": null,
            "flex_flow": null,
            "grid_area": null,
            "grid_auto_columns": null,
            "grid_auto_flow": null,
            "grid_auto_rows": null,
            "grid_column": null,
            "grid_gap": null,
            "grid_row": null,
            "grid_template_areas": null,
            "grid_template_columns": null,
            "grid_template_rows": null,
            "height": null,
            "justify_content": null,
            "justify_items": null,
            "left": null,
            "margin": null,
            "max_height": null,
            "max_width": null,
            "min_height": null,
            "min_width": null,
            "object_fit": null,
            "object_position": null,
            "order": null,
            "overflow": null,
            "overflow_x": null,
            "overflow_y": null,
            "padding": null,
            "right": null,
            "top": null,
            "visibility": null,
            "width": null
          }
        },
        "7bf17682513f416cba428df06d1f7829": {
          "model_module": "@jupyter-widgets/controls",
          "model_name": "ProgressStyleModel",
          "model_module_version": "1.5.0",
          "state": {
            "_model_module": "@jupyter-widgets/controls",
            "_model_module_version": "1.5.0",
            "_model_name": "ProgressStyleModel",
            "_view_count": null,
            "_view_module": "@jupyter-widgets/base",
            "_view_module_version": "1.2.0",
            "_view_name": "StyleView",
            "bar_color": null,
            "description_width": ""
          }
        },
        "8fec3bc4fa034118bfdd58bc27e08540": {
          "model_module": "@jupyter-widgets/controls",
          "model_name": "VBoxModel",
          "model_module_version": "1.5.0",
          "state": {
            "_dom_classes": [],
            "_model_module": "@jupyter-widgets/controls",
            "_model_module_version": "1.5.0",
            "_model_name": "VBoxModel",
            "_view_count": null,
            "_view_module": "@jupyter-widgets/controls",
            "_view_module_version": "1.5.0",
            "_view_name": "VBoxView",
            "box_style": "",
            "children": [
              "IPY_MODEL_adde3605ad4b4ca7b26e829c658d4ded",
              "IPY_MODEL_581e6e16fb52474a9dc66219e56935e4"
            ],
            "layout": "IPY_MODEL_f5c42d5b74af48dcb93182692b6c0735"
          }
        },
        "adde3605ad4b4ca7b26e829c658d4ded": {
          "model_module": "@jupyter-widgets/controls",
          "model_name": "LabelModel",
          "model_module_version": "1.5.0",
          "state": {
            "_dom_classes": [],
            "_model_module": "@jupyter-widgets/controls",
            "_model_module_version": "1.5.0",
            "_model_name": "LabelModel",
            "_view_count": null,
            "_view_module": "@jupyter-widgets/controls",
            "_view_module_version": "1.5.0",
            "_view_name": "LabelView",
            "description": "",
            "description_tooltip": null,
            "layout": "IPY_MODEL_9eee7e60d5c14768b886fb5734fef275",
            "placeholder": "​",
            "style": "IPY_MODEL_60e25e176de349a49c32daca896702c7",
            "value": "5.002 MB of 5.002 MB uploaded (0.000 MB deduped)\r"
          }
        },
        "581e6e16fb52474a9dc66219e56935e4": {
          "model_module": "@jupyter-widgets/controls",
          "model_name": "FloatProgressModel",
          "model_module_version": "1.5.0",
          "state": {
            "_dom_classes": [],
            "_model_module": "@jupyter-widgets/controls",
            "_model_module_version": "1.5.0",
            "_model_name": "FloatProgressModel",
            "_view_count": null,
            "_view_module": "@jupyter-widgets/controls",
            "_view_module_version": "1.5.0",
            "_view_name": "ProgressView",
            "bar_style": "",
            "description": "",
            "description_tooltip": null,
            "layout": "IPY_MODEL_a911298192964337a274508ca605e7a3",
            "max": 1,
            "min": 0,
            "orientation": "horizontal",
            "style": "IPY_MODEL_9d9b2768af4b46699a8fd6d7b47eb768",
            "value": 1
          }
        },
        "f5c42d5b74af48dcb93182692b6c0735": {
          "model_module": "@jupyter-widgets/base",
          "model_name": "LayoutModel",
          "model_module_version": "1.2.0",
          "state": {
            "_model_module": "@jupyter-widgets/base",
            "_model_module_version": "1.2.0",
            "_model_name": "LayoutModel",
            "_view_count": null,
            "_view_module": "@jupyter-widgets/base",
            "_view_module_version": "1.2.0",
            "_view_name": "LayoutView",
            "align_content": null,
            "align_items": null,
            "align_self": null,
            "border": null,
            "bottom": null,
            "display": null,
            "flex": null,
            "flex_flow": null,
            "grid_area": null,
            "grid_auto_columns": null,
            "grid_auto_flow": null,
            "grid_auto_rows": null,
            "grid_column": null,
            "grid_gap": null,
            "grid_row": null,
            "grid_template_areas": null,
            "grid_template_columns": null,
            "grid_template_rows": null,
            "height": null,
            "justify_content": null,
            "justify_items": null,
            "left": null,
            "margin": null,
            "max_height": null,
            "max_width": null,
            "min_height": null,
            "min_width": null,
            "object_fit": null,
            "object_position": null,
            "order": null,
            "overflow": null,
            "overflow_x": null,
            "overflow_y": null,
            "padding": null,
            "right": null,
            "top": null,
            "visibility": null,
            "width": null
          }
        },
        "9eee7e60d5c14768b886fb5734fef275": {
          "model_module": "@jupyter-widgets/base",
          "model_name": "LayoutModel",
          "model_module_version": "1.2.0",
          "state": {
            "_model_module": "@jupyter-widgets/base",
            "_model_module_version": "1.2.0",
            "_model_name": "LayoutModel",
            "_view_count": null,
            "_view_module": "@jupyter-widgets/base",
            "_view_module_version": "1.2.0",
            "_view_name": "LayoutView",
            "align_content": null,
            "align_items": null,
            "align_self": null,
            "border": null,
            "bottom": null,
            "display": null,
            "flex": null,
            "flex_flow": null,
            "grid_area": null,
            "grid_auto_columns": null,
            "grid_auto_flow": null,
            "grid_auto_rows": null,
            "grid_column": null,
            "grid_gap": null,
            "grid_row": null,
            "grid_template_areas": null,
            "grid_template_columns": null,
            "grid_template_rows": null,
            "height": null,
            "justify_content": null,
            "justify_items": null,
            "left": null,
            "margin": null,
            "max_height": null,
            "max_width": null,
            "min_height": null,
            "min_width": null,
            "object_fit": null,
            "object_position": null,
            "order": null,
            "overflow": null,
            "overflow_x": null,
            "overflow_y": null,
            "padding": null,
            "right": null,
            "top": null,
            "visibility": null,
            "width": null
          }
        },
        "60e25e176de349a49c32daca896702c7": {
          "model_module": "@jupyter-widgets/controls",
          "model_name": "DescriptionStyleModel",
          "model_module_version": "1.5.0",
          "state": {
            "_model_module": "@jupyter-widgets/controls",
            "_model_module_version": "1.5.0",
            "_model_name": "DescriptionStyleModel",
            "_view_count": null,
            "_view_module": "@jupyter-widgets/base",
            "_view_module_version": "1.2.0",
            "_view_name": "StyleView",
            "description_width": ""
          }
        },
        "a911298192964337a274508ca605e7a3": {
          "model_module": "@jupyter-widgets/base",
          "model_name": "LayoutModel",
          "model_module_version": "1.2.0",
          "state": {
            "_model_module": "@jupyter-widgets/base",
            "_model_module_version": "1.2.0",
            "_model_name": "LayoutModel",
            "_view_count": null,
            "_view_module": "@jupyter-widgets/base",
            "_view_module_version": "1.2.0",
            "_view_name": "LayoutView",
            "align_content": null,
            "align_items": null,
            "align_self": null,
            "border": null,
            "bottom": null,
            "display": null,
            "flex": null,
            "flex_flow": null,
            "grid_area": null,
            "grid_auto_columns": null,
            "grid_auto_flow": null,
            "grid_auto_rows": null,
            "grid_column": null,
            "grid_gap": null,
            "grid_row": null,
            "grid_template_areas": null,
            "grid_template_columns": null,
            "grid_template_rows": null,
            "height": null,
            "justify_content": null,
            "justify_items": null,
            "left": null,
            "margin": null,
            "max_height": null,
            "max_width": null,
            "min_height": null,
            "min_width": null,
            "object_fit": null,
            "object_position": null,
            "order": null,
            "overflow": null,
            "overflow_x": null,
            "overflow_y": null,
            "padding": null,
            "right": null,
            "top": null,
            "visibility": null,
            "width": null
          }
        },
        "9d9b2768af4b46699a8fd6d7b47eb768": {
          "model_module": "@jupyter-widgets/controls",
          "model_name": "ProgressStyleModel",
          "model_module_version": "1.5.0",
          "state": {
            "_model_module": "@jupyter-widgets/controls",
            "_model_module_version": "1.5.0",
            "_model_name": "ProgressStyleModel",
            "_view_count": null,
            "_view_module": "@jupyter-widgets/base",
            "_view_module_version": "1.2.0",
            "_view_name": "StyleView",
            "bar_color": null,
            "description_width": ""
          }
        }
      }
    }
  },
  "nbformat": 4,
  "nbformat_minor": 0
}