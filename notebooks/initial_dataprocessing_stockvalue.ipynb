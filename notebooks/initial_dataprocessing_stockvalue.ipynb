{
  "nbformat": 4,
  "nbformat_minor": 0,
  "metadata": {
    "colab": {
      "name": "initial_dataprocessing_stockvalue.ipynb",
      "provenance": [],
      "collapsed_sections": [
        "d4elNYJVk-LL"
      ],
      "include_colab_link": true
    },
    "kernelspec": {
      "name": "python3",
      "display_name": "Python 3"
    },
    "language_info": {
      "name": "python"
    },
    "widgets": {
      "application/vnd.jupyter.widget-state+json": {
        "6c5fecde83c440a983abc290564801de": {
          "model_module": "@jupyter-widgets/controls",
          "model_name": "VBoxModel",
          "model_module_version": "1.5.0",
          "state": {
            "_dom_classes": [],
            "_model_module": "@jupyter-widgets/controls",
            "_model_module_version": "1.5.0",
            "_model_name": "VBoxModel",
            "_view_count": null,
            "_view_module": "@jupyter-widgets/controls",
            "_view_module_version": "1.5.0",
            "_view_name": "VBoxView",
            "box_style": "",
            "children": [
              "IPY_MODEL_8715612154ec49b58d5e6822cbc6bdc1",
              "IPY_MODEL_9af217805cf941068dfce7fcc05cb6ca"
            ],
            "layout": "IPY_MODEL_86e82b9613f64067932b4c774df1d409"
          }
        },
        "8715612154ec49b58d5e6822cbc6bdc1": {
          "model_module": "@jupyter-widgets/controls",
          "model_name": "LabelModel",
          "model_module_version": "1.5.0",
          "state": {
            "_dom_classes": [],
            "_model_module": "@jupyter-widgets/controls",
            "_model_module_version": "1.5.0",
            "_model_name": "LabelModel",
            "_view_count": null,
            "_view_module": "@jupyter-widgets/controls",
            "_view_module_version": "1.5.0",
            "_view_name": "LabelView",
            "description": "",
            "description_tooltip": null,
            "layout": "IPY_MODEL_01838919a105462d9c230dcffec8cf1a",
            "placeholder": "​",
            "style": "IPY_MODEL_e2a98a85c527433b9f49a4e18e29b754",
            "value": "0.008 MB of 0.008 MB uploaded (0.000 MB deduped)\r"
          }
        },
        "9af217805cf941068dfce7fcc05cb6ca": {
          "model_module": "@jupyter-widgets/controls",
          "model_name": "FloatProgressModel",
          "model_module_version": "1.5.0",
          "state": {
            "_dom_classes": [],
            "_model_module": "@jupyter-widgets/controls",
            "_model_module_version": "1.5.0",
            "_model_name": "FloatProgressModel",
            "_view_count": null,
            "_view_module": "@jupyter-widgets/controls",
            "_view_module_version": "1.5.0",
            "_view_name": "ProgressView",
            "bar_style": "",
            "description": "",
            "description_tooltip": null,
            "layout": "IPY_MODEL_1ab083245a6c4483b247ba70f8ce1bf9",
            "max": 1,
            "min": 0,
            "orientation": "horizontal",
            "style": "IPY_MODEL_142bf0fc71154f9dbef2a76450614628",
            "value": 1
          }
        },
        "86e82b9613f64067932b4c774df1d409": {
          "model_module": "@jupyter-widgets/base",
          "model_name": "LayoutModel",
          "model_module_version": "1.2.0",
          "state": {
            "_model_module": "@jupyter-widgets/base",
            "_model_module_version": "1.2.0",
            "_model_name": "LayoutModel",
            "_view_count": null,
            "_view_module": "@jupyter-widgets/base",
            "_view_module_version": "1.2.0",
            "_view_name": "LayoutView",
            "align_content": null,
            "align_items": null,
            "align_self": null,
            "border": null,
            "bottom": null,
            "display": null,
            "flex": null,
            "flex_flow": null,
            "grid_area": null,
            "grid_auto_columns": null,
            "grid_auto_flow": null,
            "grid_auto_rows": null,
            "grid_column": null,
            "grid_gap": null,
            "grid_row": null,
            "grid_template_areas": null,
            "grid_template_columns": null,
            "grid_template_rows": null,
            "height": null,
            "justify_content": null,
            "justify_items": null,
            "left": null,
            "margin": null,
            "max_height": null,
            "max_width": null,
            "min_height": null,
            "min_width": null,
            "object_fit": null,
            "object_position": null,
            "order": null,
            "overflow": null,
            "overflow_x": null,
            "overflow_y": null,
            "padding": null,
            "right": null,
            "top": null,
            "visibility": null,
            "width": null
          }
        },
        "01838919a105462d9c230dcffec8cf1a": {
          "model_module": "@jupyter-widgets/base",
          "model_name": "LayoutModel",
          "model_module_version": "1.2.0",
          "state": {
            "_model_module": "@jupyter-widgets/base",
            "_model_module_version": "1.2.0",
            "_model_name": "LayoutModel",
            "_view_count": null,
            "_view_module": "@jupyter-widgets/base",
            "_view_module_version": "1.2.0",
            "_view_name": "LayoutView",
            "align_content": null,
            "align_items": null,
            "align_self": null,
            "border": null,
            "bottom": null,
            "display": null,
            "flex": null,
            "flex_flow": null,
            "grid_area": null,
            "grid_auto_columns": null,
            "grid_auto_flow": null,
            "grid_auto_rows": null,
            "grid_column": null,
            "grid_gap": null,
            "grid_row": null,
            "grid_template_areas": null,
            "grid_template_columns": null,
            "grid_template_rows": null,
            "height": null,
            "justify_content": null,
            "justify_items": null,
            "left": null,
            "margin": null,
            "max_height": null,
            "max_width": null,
            "min_height": null,
            "min_width": null,
            "object_fit": null,
            "object_position": null,
            "order": null,
            "overflow": null,
            "overflow_x": null,
            "overflow_y": null,
            "padding": null,
            "right": null,
            "top": null,
            "visibility": null,
            "width": null
          }
        },
        "e2a98a85c527433b9f49a4e18e29b754": {
          "model_module": "@jupyter-widgets/controls",
          "model_name": "DescriptionStyleModel",
          "model_module_version": "1.5.0",
          "state": {
            "_model_module": "@jupyter-widgets/controls",
            "_model_module_version": "1.5.0",
            "_model_name": "DescriptionStyleModel",
            "_view_count": null,
            "_view_module": "@jupyter-widgets/base",
            "_view_module_version": "1.2.0",
            "_view_name": "StyleView",
            "description_width": ""
          }
        },
        "1ab083245a6c4483b247ba70f8ce1bf9": {
          "model_module": "@jupyter-widgets/base",
          "model_name": "LayoutModel",
          "model_module_version": "1.2.0",
          "state": {
            "_model_module": "@jupyter-widgets/base",
            "_model_module_version": "1.2.0",
            "_model_name": "LayoutModel",
            "_view_count": null,
            "_view_module": "@jupyter-widgets/base",
            "_view_module_version": "1.2.0",
            "_view_name": "LayoutView",
            "align_content": null,
            "align_items": null,
            "align_self": null,
            "border": null,
            "bottom": null,
            "display": null,
            "flex": null,
            "flex_flow": null,
            "grid_area": null,
            "grid_auto_columns": null,
            "grid_auto_flow": null,
            "grid_auto_rows": null,
            "grid_column": null,
            "grid_gap": null,
            "grid_row": null,
            "grid_template_areas": null,
            "grid_template_columns": null,
            "grid_template_rows": null,
            "height": null,
            "justify_content": null,
            "justify_items": null,
            "left": null,
            "margin": null,
            "max_height": null,
            "max_width": null,
            "min_height": null,
            "min_width": null,
            "object_fit": null,
            "object_position": null,
            "order": null,
            "overflow": null,
            "overflow_x": null,
            "overflow_y": null,
            "padding": null,
            "right": null,
            "top": null,
            "visibility": null,
            "width": null
          }
        },
        "142bf0fc71154f9dbef2a76450614628": {
          "model_module": "@jupyter-widgets/controls",
          "model_name": "ProgressStyleModel",
          "model_module_version": "1.5.0",
          "state": {
            "_model_module": "@jupyter-widgets/controls",
            "_model_module_version": "1.5.0",
            "_model_name": "ProgressStyleModel",
            "_view_count": null,
            "_view_module": "@jupyter-widgets/base",
            "_view_module_version": "1.2.0",
            "_view_name": "StyleView",
            "bar_color": null,
            "description_width": ""
          }
        }
      }
    }
  },
  "cells": [
    {
      "cell_type": "markdown",
      "metadata": {
        "id": "view-in-github",
        "colab_type": "text"
      },
      "source": [
        "<a href=\"https://colab.research.google.com/github/Krankile/npmf/blob/main/notebooks/initial_dataprocessing_stockvalue.ipynb\" target=\"_parent\"><img src=\"https://colab.research.google.com/assets/colab-badge.svg\" alt=\"Open In Colab\"/></a>"
      ]
    },
    {
      "cell_type": "markdown",
      "source": [
        "#Setup"
      ],
      "metadata": {
        "id": "d8F5tl4NL7FZ"
      }
    },
    {
      "cell_type": "markdown",
      "source": [
        "##Kernel setup"
      ],
      "metadata": {
        "id": "Rwo44VGZLhAo"
      }
    },
    {
      "cell_type": "code",
      "source": [
        "%load_ext autoreload\n",
        "%autoreload 2"
      ],
      "metadata": {
        "id": "hKuFzk7aEmB9"
      },
      "execution_count": 1,
      "outputs": []
    },
    {
      "cell_type": "code",
      "source": [
        "%%capture\n",
        "!git clone https://github.com/Krankile/npmf.git\n",
        "!pip install wandb"
      ],
      "metadata": {
        "id": "91KPY7q0LUOw"
      },
      "execution_count": 2,
      "outputs": []
    },
    {
      "cell_type": "code",
      "source": [
        "%%capture\n",
        "!cd npmf && git pull"
      ],
      "metadata": {
        "id": "zGsSIhgXEkhz"
      },
      "execution_count": 3,
      "outputs": []
    },
    {
      "cell_type": "code",
      "source": [
        "!wandb login"
      ],
      "metadata": {
        "colab": {
          "base_uri": "https://localhost:8080/"
        },
        "id": "zLr0RXyY3WaA",
        "outputId": "9b57d4b7-791a-4f5a-b583-a4c5217e52c6"
      },
      "execution_count": 4,
      "outputs": [
        {
          "output_type": "stream",
          "name": "stdout",
          "text": [
            "\u001b[34m\u001b[1mwandb\u001b[0m: You can find your API key in your browser here: https://wandb.ai/authorize\n",
            "\u001b[34m\u001b[1mwandb\u001b[0m: Paste an API key from your profile and hit enter, or press ctrl+c to quit: \n",
            "\u001b[34m\u001b[1mwandb\u001b[0m: Appending key for api.wandb.ai to your netrc file: /root/.netrc\n"
          ]
        }
      ]
    },
    {
      "cell_type": "markdown",
      "source": [
        "##General setup"
      ],
      "metadata": {
        "id": "CLAlA0htLgMY"
      }
    },
    {
      "cell_type": "code",
      "source": [
        "import os\n",
        "from collections import defaultdict\n",
        "from collections import Counter\n",
        "from datetime import datetime\n",
        "from operator import itemgetter\n",
        "\n",
        "import numpy as np\n",
        "from numpy.ma.core import outerproduct\n",
        "import pandas as pd\n",
        "import matplotlib as mpl\n",
        "import matplotlib.pyplot as plt\n",
        "from tqdm import tqdm\n",
        "\n",
        "import wandb as wb\n",
        "\n",
        "import torch\n",
        "from torch import nn\n",
        "from torch.utils.data import DataLoader\n",
        "from torchvision import datasets, transforms\n",
        "\n",
        "from npmf.utils.colors import main, main2, main3"
      ],
      "metadata": {
        "id": "1QSlgObXLq1p"
      },
      "execution_count": 28,
      "outputs": []
    },
    {
      "cell_type": "code",
      "source": [
        "mpl.rcParams['axes.prop_cycle'] = mpl.cycler(color=[main, main2, main3, \"black\"])\n",
        "mpl.rcParams['figure.figsize'] = (8, 6)"
      ],
      "metadata": {
        "id": "hkTjKKLmLvpl"
      },
      "execution_count": 60,
      "outputs": []
    },
    {
      "cell_type": "code",
      "source": [
        "device = \"cuda\" if torch.cuda.is_available() else \"cpu\"\n",
        "print(f\"Using {device} device\")"
      ],
      "metadata": {
        "colab": {
          "base_uri": "https://localhost:8080/"
        },
        "id": "Dqy02oAvY7GM",
        "outputId": "88c6d72b-3b3a-4233-87b2-d284b37dd806"
      },
      "execution_count": 7,
      "outputs": [
        {
          "output_type": "stream",
          "name": "stdout",
          "text": [
            "Using cpu device\n"
          ]
        }
      ]
    },
    {
      "cell_type": "code",
      "source": [
        "np.random.seed(420)"
      ],
      "metadata": {
        "id": "YVFtfDk0pYtd"
      },
      "execution_count": 8,
      "outputs": []
    },
    {
      "cell_type": "markdown",
      "source": [
        "# Let's get the data and and check it 😂✨KAWAIII ^^✨\n",
        "\n"
      ],
      "metadata": {
        "id": "5SjJBQhRLym1"
      }
    },
    {
      "cell_type": "code",
      "source": [
        "def get_df_artifact(name):\n",
        "    with wb.init(project=\"master-test\") as run:\n",
        "        art = run.use_artifact(name)\n",
        "        art.download()\n",
        "        filepath = art.file()\n",
        "\n",
        "        return pd.read_feather(filepath)"
      ],
      "metadata": {
        "id": "vnWyuq9h__PJ"
      },
      "execution_count": 9,
      "outputs": []
    },
    {
      "cell_type": "code",
      "source": [
        "data = get_df_artifact(\"oil-company-data:v1\").set_index(\"Instrument\")"
      ],
      "metadata": {
        "colab": {
          "base_uri": "https://localhost:8080/",
          "height": 177,
          "referenced_widgets": [
            "6c5fecde83c440a983abc290564801de",
            "8715612154ec49b58d5e6822cbc6bdc1",
            "9af217805cf941068dfce7fcc05cb6ca",
            "86e82b9613f64067932b4c774df1d409",
            "01838919a105462d9c230dcffec8cf1a",
            "e2a98a85c527433b9f49a4e18e29b754",
            "1ab083245a6c4483b247ba70f8ce1bf9",
            "142bf0fc71154f9dbef2a76450614628"
          ]
        },
        "id": "k_Vm1L8H4A0m",
        "outputId": "f5c6ccd7-2aa6-4751-8c29-f2cb60348040"
      },
      "execution_count": 10,
      "outputs": [
        {
          "output_type": "stream",
          "name": "stderr",
          "text": [
            "\u001b[34m\u001b[1mwandb\u001b[0m: Currently logged in as: \u001b[33mkrankile\u001b[0m (use `wandb login --relogin` to force relogin)\n"
          ]
        },
        {
          "output_type": "display_data",
          "data": {
            "text/plain": [
              "<IPython.core.display.HTML object>"
            ],
            "text/html": [
              "Tracking run with wandb version 0.12.15"
            ]
          },
          "metadata": {}
        },
        {
          "output_type": "display_data",
          "data": {
            "text/plain": [
              "<IPython.core.display.HTML object>"
            ],
            "text/html": [
              "Run data is saved locally in <code>/content/wandb/run-20220427_124640-6j3upore</code>"
            ]
          },
          "metadata": {}
        },
        {
          "output_type": "display_data",
          "data": {
            "text/plain": [
              "<IPython.core.display.HTML object>"
            ],
            "text/html": [
              "Syncing run <strong><a href=\"https://wandb.ai/krankile/master-test/runs/6j3upore\" target=\"_blank\">winter-energy-23</a></strong> to <a href=\"https://wandb.ai/krankile/master-test\" target=\"_blank\">Weights & Biases</a> (<a href=\"https://wandb.me/run\" target=\"_blank\">docs</a>)<br/>"
            ]
          },
          "metadata": {}
        },
        {
          "output_type": "stream",
          "name": "stderr",
          "text": [
            "\u001b[34m\u001b[1mwandb\u001b[0m: Downloading large artifact oil-company-data:v1, 461.61MB. 1 files... Done. 0:0:0\n"
          ]
        },
        {
          "output_type": "display_data",
          "data": {
            "text/plain": [
              "<IPython.core.display.HTML object>"
            ],
            "text/html": [
              "Waiting for W&B process to finish... <strong style=\"color:green\">(success).</strong>"
            ]
          },
          "metadata": {}
        },
        {
          "output_type": "display_data",
          "data": {
            "text/plain": [
              "VBox(children=(Label(value='0.001 MB of 0.001 MB uploaded (0.000 MB deduped)\\r'), FloatProgress(value=1.0, max…"
            ],
            "application/vnd.jupyter.widget-view+json": {
              "version_major": 2,
              "version_minor": 0,
              "model_id": "6c5fecde83c440a983abc290564801de"
            }
          },
          "metadata": {}
        },
        {
          "output_type": "display_data",
          "data": {
            "text/plain": [
              "<IPython.core.display.HTML object>"
            ],
            "text/html": [
              "Synced <strong style=\"color:#cdcd00\">winter-energy-23</strong>: <a href=\"https://wandb.ai/krankile/master-test/runs/6j3upore\" target=\"_blank\">https://wandb.ai/krankile/master-test/runs/6j3upore</a><br/>Synced 5 W&B file(s), 0 media file(s), 0 artifact file(s) and 0 other file(s)"
            ]
          },
          "metadata": {}
        },
        {
          "output_type": "display_data",
          "data": {
            "text/plain": [
              "<IPython.core.display.HTML object>"
            ],
            "text/html": [
              "Find logs at: <code>./wandb/run-20220427_124640-6j3upore/logs</code>"
            ]
          },
          "metadata": {}
        }
      ]
    },
    {
      "cell_type": "code",
      "source": [
        "data = data[~(data.Date == \"\")].astype({\"Date\": np.datetime64})\n",
        "data"
      ],
      "metadata": {
        "colab": {
          "base_uri": "https://localhost:8080/",
          "height": 454
        },
        "id": "uyMibnZgvgXv",
        "outputId": "5db576d4-9895-4c76-aa83-f3898d49e70b"
      },
      "execution_count": 11,
      "outputs": [
        {
          "output_type": "execute_result",
          "data": {
            "text/plain": [
              "                 Date  Company Market Cap  Price Close Currency\n",
              "Instrument                                                     \n",
              "GGX.AX     2005-05-13      4510832.105479     0.116764      USD\n",
              "GGX.AX     2005-05-16      4486502.643904     0.116764      USD\n",
              "GGX.AX     2005-05-17      4483522.209137     0.116057      USD\n",
              "GGX.AX     2005-05-18       4519172.59536     0.116057      USD\n",
              "GGX.AX     2005-05-19      3827143.993207     0.099066      USD\n",
              "...               ...                 ...          ...      ...\n",
              "AEC.V      2022-04-14     43250854.906096      0.10716      USD\n",
              "AEC.V      2022-04-18     43082857.134364     0.107015      USD\n",
              "AEC.V      2022-04-19     43079442.196417     0.107015      USD\n",
              "AEC.V      2022-04-20     43486177.208353     0.107015      USD\n",
              "AEC.V      2022-04-21     35207815.352202     0.087454      USD\n",
              "\n",
              "[6230549 rows x 4 columns]"
            ],
            "text/html": [
              "\n",
              "  <div id=\"df-6b0cca7e-5a39-4bb8-ba97-e3b17289c4b6\">\n",
              "    <div class=\"colab-df-container\">\n",
              "      <div>\n",
              "<style scoped>\n",
              "    .dataframe tbody tr th:only-of-type {\n",
              "        vertical-align: middle;\n",
              "    }\n",
              "\n",
              "    .dataframe tbody tr th {\n",
              "        vertical-align: top;\n",
              "    }\n",
              "\n",
              "    .dataframe thead th {\n",
              "        text-align: right;\n",
              "    }\n",
              "</style>\n",
              "<table border=\"1\" class=\"dataframe\">\n",
              "  <thead>\n",
              "    <tr style=\"text-align: right;\">\n",
              "      <th></th>\n",
              "      <th>Date</th>\n",
              "      <th>Company Market Cap</th>\n",
              "      <th>Price Close</th>\n",
              "      <th>Currency</th>\n",
              "    </tr>\n",
              "    <tr>\n",
              "      <th>Instrument</th>\n",
              "      <th></th>\n",
              "      <th></th>\n",
              "      <th></th>\n",
              "      <th></th>\n",
              "    </tr>\n",
              "  </thead>\n",
              "  <tbody>\n",
              "    <tr>\n",
              "      <th>GGX.AX</th>\n",
              "      <td>2005-05-13</td>\n",
              "      <td>4510832.105479</td>\n",
              "      <td>0.116764</td>\n",
              "      <td>USD</td>\n",
              "    </tr>\n",
              "    <tr>\n",
              "      <th>GGX.AX</th>\n",
              "      <td>2005-05-16</td>\n",
              "      <td>4486502.643904</td>\n",
              "      <td>0.116764</td>\n",
              "      <td>USD</td>\n",
              "    </tr>\n",
              "    <tr>\n",
              "      <th>GGX.AX</th>\n",
              "      <td>2005-05-17</td>\n",
              "      <td>4483522.209137</td>\n",
              "      <td>0.116057</td>\n",
              "      <td>USD</td>\n",
              "    </tr>\n",
              "    <tr>\n",
              "      <th>GGX.AX</th>\n",
              "      <td>2005-05-18</td>\n",
              "      <td>4519172.59536</td>\n",
              "      <td>0.116057</td>\n",
              "      <td>USD</td>\n",
              "    </tr>\n",
              "    <tr>\n",
              "      <th>GGX.AX</th>\n",
              "      <td>2005-05-19</td>\n",
              "      <td>3827143.993207</td>\n",
              "      <td>0.099066</td>\n",
              "      <td>USD</td>\n",
              "    </tr>\n",
              "    <tr>\n",
              "      <th>...</th>\n",
              "      <td>...</td>\n",
              "      <td>...</td>\n",
              "      <td>...</td>\n",
              "      <td>...</td>\n",
              "    </tr>\n",
              "    <tr>\n",
              "      <th>AEC.V</th>\n",
              "      <td>2022-04-14</td>\n",
              "      <td>43250854.906096</td>\n",
              "      <td>0.10716</td>\n",
              "      <td>USD</td>\n",
              "    </tr>\n",
              "    <tr>\n",
              "      <th>AEC.V</th>\n",
              "      <td>2022-04-18</td>\n",
              "      <td>43082857.134364</td>\n",
              "      <td>0.107015</td>\n",
              "      <td>USD</td>\n",
              "    </tr>\n",
              "    <tr>\n",
              "      <th>AEC.V</th>\n",
              "      <td>2022-04-19</td>\n",
              "      <td>43079442.196417</td>\n",
              "      <td>0.107015</td>\n",
              "      <td>USD</td>\n",
              "    </tr>\n",
              "    <tr>\n",
              "      <th>AEC.V</th>\n",
              "      <td>2022-04-20</td>\n",
              "      <td>43486177.208353</td>\n",
              "      <td>0.107015</td>\n",
              "      <td>USD</td>\n",
              "    </tr>\n",
              "    <tr>\n",
              "      <th>AEC.V</th>\n",
              "      <td>2022-04-21</td>\n",
              "      <td>35207815.352202</td>\n",
              "      <td>0.087454</td>\n",
              "      <td>USD</td>\n",
              "    </tr>\n",
              "  </tbody>\n",
              "</table>\n",
              "<p>6230549 rows × 4 columns</p>\n",
              "</div>\n",
              "      <button class=\"colab-df-convert\" onclick=\"convertToInteractive('df-6b0cca7e-5a39-4bb8-ba97-e3b17289c4b6')\"\n",
              "              title=\"Convert this dataframe to an interactive table.\"\n",
              "              style=\"display:none;\">\n",
              "        \n",
              "  <svg xmlns=\"http://www.w3.org/2000/svg\" height=\"24px\"viewBox=\"0 0 24 24\"\n",
              "       width=\"24px\">\n",
              "    <path d=\"M0 0h24v24H0V0z\" fill=\"none\"/>\n",
              "    <path d=\"M18.56 5.44l.94 2.06.94-2.06 2.06-.94-2.06-.94-.94-2.06-.94 2.06-2.06.94zm-11 1L8.5 8.5l.94-2.06 2.06-.94-2.06-.94L8.5 2.5l-.94 2.06-2.06.94zm10 10l.94 2.06.94-2.06 2.06-.94-2.06-.94-.94-2.06-.94 2.06-2.06.94z\"/><path d=\"M17.41 7.96l-1.37-1.37c-.4-.4-.92-.59-1.43-.59-.52 0-1.04.2-1.43.59L10.3 9.45l-7.72 7.72c-.78.78-.78 2.05 0 2.83L4 21.41c.39.39.9.59 1.41.59.51 0 1.02-.2 1.41-.59l7.78-7.78 2.81-2.81c.8-.78.8-2.07 0-2.86zM5.41 20L4 18.59l7.72-7.72 1.47 1.35L5.41 20z\"/>\n",
              "  </svg>\n",
              "      </button>\n",
              "      \n",
              "  <style>\n",
              "    .colab-df-container {\n",
              "      display:flex;\n",
              "      flex-wrap:wrap;\n",
              "      gap: 12px;\n",
              "    }\n",
              "\n",
              "    .colab-df-convert {\n",
              "      background-color: #E8F0FE;\n",
              "      border: none;\n",
              "      border-radius: 50%;\n",
              "      cursor: pointer;\n",
              "      display: none;\n",
              "      fill: #1967D2;\n",
              "      height: 32px;\n",
              "      padding: 0 0 0 0;\n",
              "      width: 32px;\n",
              "    }\n",
              "\n",
              "    .colab-df-convert:hover {\n",
              "      background-color: #E2EBFA;\n",
              "      box-shadow: 0px 1px 2px rgba(60, 64, 67, 0.3), 0px 1px 3px 1px rgba(60, 64, 67, 0.15);\n",
              "      fill: #174EA6;\n",
              "    }\n",
              "\n",
              "    [theme=dark] .colab-df-convert {\n",
              "      background-color: #3B4455;\n",
              "      fill: #D2E3FC;\n",
              "    }\n",
              "\n",
              "    [theme=dark] .colab-df-convert:hover {\n",
              "      background-color: #434B5C;\n",
              "      box-shadow: 0px 1px 3px 1px rgba(0, 0, 0, 0.15);\n",
              "      filter: drop-shadow(0px 1px 2px rgba(0, 0, 0, 0.3));\n",
              "      fill: #FFFFFF;\n",
              "    }\n",
              "  </style>\n",
              "\n",
              "      <script>\n",
              "        const buttonEl =\n",
              "          document.querySelector('#df-6b0cca7e-5a39-4bb8-ba97-e3b17289c4b6 button.colab-df-convert');\n",
              "        buttonEl.style.display =\n",
              "          google.colab.kernel.accessAllowed ? 'block' : 'none';\n",
              "\n",
              "        async function convertToInteractive(key) {\n",
              "          const element = document.querySelector('#df-6b0cca7e-5a39-4bb8-ba97-e3b17289c4b6');\n",
              "          const dataTable =\n",
              "            await google.colab.kernel.invokeFunction('convertToInteractive',\n",
              "                                                     [key], {});\n",
              "          if (!dataTable) return;\n",
              "\n",
              "          const docLinkHtml = 'Like what you see? Visit the ' +\n",
              "            '<a target=\"_blank\" href=https://colab.research.google.com/notebooks/data_table.ipynb>data table notebook</a>'\n",
              "            + ' to learn more about interactive tables.';\n",
              "          element.innerHTML = '';\n",
              "          dataTable['output_type'] = 'display_data';\n",
              "          await google.colab.output.renderOutput(dataTable, element);\n",
              "          const docLink = document.createElement('div');\n",
              "          docLink.innerHTML = docLinkHtml;\n",
              "          element.appendChild(docLink);\n",
              "        }\n",
              "      </script>\n",
              "    </div>\n",
              "  </div>\n",
              "  "
            ]
          },
          "metadata": {},
          "execution_count": 11
        }
      ]
    },
    {
      "cell_type": "markdown",
      "source": [
        "### Number of unique companies"
      ],
      "metadata": {
        "id": "d4elNYJVk-LL"
      }
    },
    {
      "cell_type": "code",
      "source": [
        "tickers = data[~data[\"Company Market Cap\"].isna()].index.unique()\n",
        "\n",
        "print(f\"{tickers.shape[0]} unique companies in the set\")"
      ],
      "metadata": {
        "colab": {
          "base_uri": "https://localhost:8080/"
        },
        "id": "keZlJXjC_j4J",
        "outputId": "addb4305-927c-463f-a391-c06e6d203f8f"
      },
      "execution_count": 12,
      "outputs": [
        {
          "output_type": "stream",
          "name": "stdout",
          "text": [
            "1697 unique companies in the set\n"
          ]
        }
      ]
    },
    {
      "cell_type": "markdown",
      "source": [
        "### Number of datapoints for the market cap"
      ],
      "metadata": {
        "id": "s5TTq3INlLxb"
      }
    },
    {
      "cell_type": "code",
      "source": [
        "marketcaps = data.shape[0]\n",
        "print(f\"There is a total of {marketcaps} datapoints in the dataset\")\n",
        "\n",
        "marketcaps = data[~data[\"Company Market Cap\"].isna()].shape[0]\n",
        "print(f\"There is a total of {marketcaps} datapoints in the dataset that are not NAs\")"
      ],
      "metadata": {
        "colab": {
          "base_uri": "https://localhost:8080/"
        },
        "id": "3pFT5iSjCS5L",
        "outputId": "d26311c2-d4d4-407b-f827-5cff64b66f83"
      },
      "execution_count": 13,
      "outputs": [
        {
          "output_type": "stream",
          "name": "stdout",
          "text": [
            "There is a total of 6230549 datapoints in the dataset\n",
            "There is a total of 6117652 datapoints in the dataset that are not NAs\n"
          ]
        }
      ]
    },
    {
      "cell_type": "markdown",
      "source": [
        "## Start process of sorting out data"
      ],
      "metadata": {
        "id": "KYS2wHRVmhHd"
      }
    },
    {
      "cell_type": "markdown",
      "source": [
        "First, cut of leading and trailing NAs for all companies."
      ],
      "metadata": {
        "id": "oeCEaZxInhgs"
      }
    },
    {
      "cell_type": "markdown",
      "source": [
        "### Remove leading and trailing NAs"
      ],
      "metadata": {
        "id": "n2Dga0OAp2ny"
      }
    },
    {
      "cell_type": "code",
      "source": [
        "stripped = []\n",
        "points_stripped = 0\n",
        "\n",
        "for ticker in tqdm(tickers):\n",
        "    d = data.loc[ticker, ]\n",
        "    start = 0\n",
        "    end = d.shape[0]\n",
        "\n",
        "    # Start at the beginning and find first real value\n",
        "    for i, val in enumerate(d[\"Company Market Cap\"]):\n",
        "        if not pd.isna(val):\n",
        "            start = i\n",
        "            break\n",
        "    points_stripped += i\n",
        "\n",
        "    for i, val in enumerate(d[\"Company Market Cap\"][::-1]):\n",
        "        if not pd.isna(val):\n",
        "            end -= i\n",
        "            break\n",
        "    points_stripped += i\n",
        "\n",
        "    stripped.append(d.iloc[start:end, ])\n",
        "\n",
        "stripped = pd.concat(stripped, axis=0)\n",
        "\n",
        "print(f\"Total of {stripped.shape[0]} datapoints after stripping\")"
      ],
      "metadata": {
        "colab": {
          "base_uri": "https://localhost:8080/"
        },
        "id": "Pyzjk2bMqJON",
        "outputId": "f5af1d48-fc94-4446-87b5-6dc31730fa18"
      },
      "execution_count": 14,
      "outputs": [
        {
          "output_type": "stream",
          "name": "stderr",
          "text": [
            "100%|██████████| 1697/1697 [03:58<00:00,  7.13it/s]\n"
          ]
        },
        {
          "output_type": "stream",
          "name": "stdout",
          "text": [
            "Total of 6169474 datapoints after stripping\n"
          ]
        }
      ]
    },
    {
      "cell_type": "markdown",
      "source": [
        "Then, consider different strategies for sorting out companies. For example\n",
        "\n",
        "1.   Make sure companies have less than $p$% NAs for all quarters\n",
        "2.   Take out companies where each string of missing values are longer than $n$"
      ],
      "metadata": {
        "id": "_8fFG3PhsMYu"
      }
    },
    {
      "cell_type": "markdown",
      "source": [
        "### Remove companies with long streaks of NAs"
      ],
      "metadata": {
        "id": "amHHuADW3NIU"
      }
    },
    {
      "cell_type": "code",
      "source": [
        "def na_streak_maxlen(ser):\n",
        "\n",
        "    longest = 0\n",
        "    curr = 0\n",
        "\n",
        "    for val in ser:\n",
        "        if not pd.isna(val):\n",
        "            curr = 0\n",
        "            continue\n",
        "        \n",
        "        curr += 1\n",
        "\n",
        "        if curr > longest:\n",
        "            longest = curr\n",
        "\n",
        "    return longest"
      ],
      "metadata": {
        "id": "-fIRPkJ_3Xnk"
      },
      "execution_count": 16,
      "outputs": []
    },
    {
      "cell_type": "code",
      "source": [
        "s = pd.Series([1, 2, 3, pd.NA, pd.NA, pd.NA, 1, pd.NA, pd.NA, 5, 6, 7])\n",
        "na_streak_maxlen(s)"
      ],
      "metadata": {
        "colab": {
          "base_uri": "https://localhost:8080/"
        },
        "id": "BpC4teFKD387",
        "outputId": "93b1104e-8500-4ccf-e21f-2125f574a358"
      },
      "execution_count": 25,
      "outputs": [
        {
          "output_type": "execute_result",
          "data": {
            "text/plain": [
              "3"
            ]
          },
          "metadata": {},
          "execution_count": 25
        }
      ]
    },
    {
      "cell_type": "code",
      "source": [
        "longest_gap = dict()\n",
        "\n",
        "for ticker in tqdm(tickers):\n",
        "    longest_gap[ticker] = na_streak_maxlen(stripped.loc[ticker, \"Company Market Cap\"])"
      ],
      "metadata": {
        "colab": {
          "base_uri": "https://localhost:8080/"
        },
        "id": "NcpUbqnL4ExV",
        "outputId": "a2d44654-0451-431d-e2f7-613db3cd9a61"
      },
      "execution_count": 26,
      "outputs": [
        {
          "output_type": "stream",
          "name": "stderr",
          "text": [
            "100%|██████████| 1697/1697 [03:45<00:00,  7.54it/s]\n"
          ]
        }
      ]
    },
    {
      "cell_type": "code",
      "source": [
        "counts = stripped.reset_index().groupby(\"Instrument\").count()\n",
        "points = dict(zip(counts.index, counts[\"Company Market Cap\"]))"
      ],
      "metadata": {
        "id": "0Mrn9SfPKSiO"
      },
      "execution_count": 39,
      "outputs": []
    },
    {
      "cell_type": "code",
      "source": [
        "ks = sorted(set(longest_gap.values()))\n",
        "\n",
        "runtot_comp = 0\n",
        "runtot_data = 0\n",
        "left = set(tickers)\n",
        "\n",
        "companies = []\n",
        "datapoints = []\n",
        "\n",
        "for k in tqdm(ks):\n",
        "    for ticker in left.copy():\n",
        "        if longest_gap[ticker] <= k:\n",
        "            runtot_comp += 1\n",
        "            runtot_data += points[ticker]\n",
        "            left.remove(ticker)\n",
        "\n",
        "    companies.append(runtot_comp)\n",
        "    datapoints.append(runtot_data)"
      ],
      "metadata": {
        "colab": {
          "base_uri": "https://localhost:8080/"
        },
        "id": "xa02pJMSGDU9",
        "outputId": "45931672-afae-4c96-c1b2-8d6b222c687c"
      },
      "execution_count": 53,
      "outputs": [
        {
          "output_type": "stream",
          "name": "stderr",
          "text": [
            "100%|██████████| 102/102 [00:00<00:00, 10448.63it/s]\n"
          ]
        }
      ]
    },
    {
      "cell_type": "code",
      "source": [
        "np.array(datapoints) / sum(points.values())"
      ],
      "metadata": {
        "colab": {
          "base_uri": "https://localhost:8080/"
        },
        "id": "-WF5KO2nORMd",
        "outputId": "cc9487e9-09a9-4cba-f51c-911e3919aa08"
      },
      "execution_count": 77,
      "outputs": [
        {
          "output_type": "execute_result",
          "data": {
            "text/plain": [
              "array([0.93656946, 0.93749301, 0.9383538 , 0.93927703, 0.93954053,\n",
              "       0.94042077, 0.9413422 , 0.94193328, 0.94264384, 0.94340361,\n",
              "       0.94382355, 0.94470509, 0.94504264, 0.94561083, 0.94619815,\n",
              "       0.94680639, 0.94729089, 0.94797367, 0.94851195, 0.94911005,\n",
              "       0.94945299, 0.95030659, 0.95057205, 0.95112112, 0.9514567 ,\n",
              "       0.95209486, 0.95299504, 0.95389506, 0.95561189, 0.95626868,\n",
              "       0.95691321, 0.95824934, 0.95875051, 0.95961294, 0.95981579,\n",
              "       0.96045705, 0.96062362, 0.96143994, 0.96233228, 0.96309761,\n",
              "       0.96395186, 0.96481117, 0.96537152, 0.96623067, 0.96667251,\n",
              "       0.96720556, 0.96814366, 0.96884262, 0.96968249, 0.97053428,\n",
              "       0.97115985, 0.9728914 , 0.97365166, 0.97453386, 0.97504206,\n",
              "       0.97568217, 0.97647235, 0.97686547, 0.97724944, 0.9776169 ,\n",
              "       0.97848325, 0.9789192 , 0.9794735 , 0.97971885, 0.98054907,\n",
              "       0.98106332, 0.98156106, 0.98196628, 0.98258155, 0.98336911,\n",
              "       0.98350871, 0.98393272, 0.98474317, 0.98555214, 0.98614763,\n",
              "       0.98734596, 0.98790222, 0.98871168, 0.98924914, 0.99004847,\n",
              "       0.9908442 , 0.99116622, 0.99133916, 0.9915837 , 0.99222954,\n",
              "       0.99244449, 0.99321962, 0.99363154, 0.99374155, 0.994509  ,\n",
              "       0.99527073, 0.99570325, 0.99602871, 0.99643164, 0.99662812,\n",
              "       0.99720023, 0.99787582, 0.99835966, 0.99854013, 0.99919315,\n",
              "       0.99971067, 1.        ])"
            ]
          },
          "metadata": {},
          "execution_count": 77
        }
      ]
    },
    {
      "cell_type": "code",
      "source": [
        "total_comp = stripped.index.unique().shape[0]\n",
        "total_points = sum(points.values())\n",
        "\n",
        "c = np.array(companies) / total_comp\n",
        "d = np.array(datapoints) / total_points\n",
        "\n",
        "plt.plot(ks, c, label=\"% of companies\")\n",
        "plt.plot(ks, d, label=\"% of datapoints\")\n",
        "\n",
        "plt.xscale(\"log\")\n",
        "plt.ylim(bottom=0.9)\n",
        "plt.xlim(right=500)\n",
        "plt.xlabel(\"Longest run of consecutive missing values\")\n",
        "plt.ylabel(\"Share of total\")\n",
        "plt.axhline(y=0.94042077, color=\"gray\", linestyle=\"-.\")\n",
        "plt.axvline(x=5, color=\"gray\", linestyle=\"-.\")\n",
        "plt.legend();"
      ],
      "metadata": {
        "colab": {
          "base_uri": "https://localhost:8080/",
          "height": 392
        },
        "id": "xl6hqm2z8o88",
        "outputId": "0d88a947-a21a-4e6d-f6d1-e963a87deef4"
      },
      "execution_count": 88,
      "outputs": [
        {
          "output_type": "display_data",
          "data": {
            "text/plain": [
              "<Figure size 576x432 with 1 Axes>"
            ],
            "image/png": "[encoded data removed]"
          },
          "metadata": {
            "needs_background": "light"
          }
        }
      ]
    },
    {
      "cell_type": "code",
      "source": [
        ""
      ],
      "metadata": {
        "id": "JngxLkke-k4u"
      },
      "execution_count": null,
      "outputs": []
    }
  ]
}