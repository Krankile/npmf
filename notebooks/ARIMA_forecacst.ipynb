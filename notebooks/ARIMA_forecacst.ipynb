{
  "nbformat": 4,
  "nbformat_minor": 0,
  "metadata": {
    "colab": {
      "name": "ARIMA_forecacst.ipynb",
      "provenance": [],
      "collapsed_sections": [],
      "include_colab_link": true
    },
    "kernelspec": {
      "name": "python3",
      "display_name": "Python 3"
    },
    "language_info": {
      "name": "python"
    },
    "widgets": {
      "application/vnd.jupyter.widget-state+json": {
        "0b61f6d1a8c547799265b72d2736da3e": {
          "model_module": "@jupyter-widgets/controls",
          "model_name": "VBoxModel",
          "model_module_version": "1.5.0",
          "state": {
            "_dom_classes": [],
            "_model_module": "@jupyter-widgets/controls",
            "_model_module_version": "1.5.0",
            "_model_name": "VBoxModel",
            "_view_count": null,
            "_view_module": "@jupyter-widgets/controls",
            "_view_module_version": "1.5.0",
            "_view_name": "VBoxView",
            "box_style": "",
            "children": [
              "IPY_MODEL_8389d470201b48bbb85542d871f49441",
              "IPY_MODEL_596519b4b71449c28598b69a3abc44ba"
            ],
            "layout": "IPY_MODEL_0cd934a06ace440fbe412a227d75f1f6"
          }
        },
        "8389d470201b48bbb85542d871f49441": {
          "model_module": "@jupyter-widgets/controls",
          "model_name": "LabelModel",
          "model_module_version": "1.5.0",
          "state": {
            "_dom_classes": [],
            "_model_module": "@jupyter-widgets/controls",
            "_model_module_version": "1.5.0",
            "_model_name": "LabelModel",
            "_view_count": null,
            "_view_module": "@jupyter-widgets/controls",
            "_view_module_version": "1.5.0",
            "_view_name": "LabelView",
            "description": "",
            "description_tooltip": null,
            "layout": "IPY_MODEL_8267ab1bd84f4ff8801e0ae07e150279",
            "placeholder": "​",
            "style": "IPY_MODEL_22c0a1bd65914e578b893eb4b14c277d",
            "value": "0.008 MB of 0.008 MB uploaded (0.000 MB deduped)\r"
          }
        },
        "596519b4b71449c28598b69a3abc44ba": {
          "model_module": "@jupyter-widgets/controls",
          "model_name": "FloatProgressModel",
          "model_module_version": "1.5.0",
          "state": {
            "_dom_classes": [],
            "_model_module": "@jupyter-widgets/controls",
            "_model_module_version": "1.5.0",
            "_model_name": "FloatProgressModel",
            "_view_count": null,
            "_view_module": "@jupyter-widgets/controls",
            "_view_module_version": "1.5.0",
            "_view_name": "ProgressView",
            "bar_style": "",
            "description": "",
            "description_tooltip": null,
            "layout": "IPY_MODEL_cc42c34a23244babbbea5baff7f0d65e",
            "max": 1,
            "min": 0,
            "orientation": "horizontal",
            "style": "IPY_MODEL_3195cf53d46b4ea3beb445e8667c48a5",
            "value": 1
          }
        },
        "0cd934a06ace440fbe412a227d75f1f6": {
          "model_module": "@jupyter-widgets/base",
          "model_name": "LayoutModel",
          "model_module_version": "1.2.0",
          "state": {
            "_model_module": "@jupyter-widgets/base",
            "_model_module_version": "1.2.0",
            "_model_name": "LayoutModel",
            "_view_count": null,
            "_view_module": "@jupyter-widgets/base",
            "_view_module_version": "1.2.0",
            "_view_name": "LayoutView",
            "align_content": null,
            "align_items": null,
            "align_self": null,
            "border": null,
            "bottom": null,
            "display": null,
            "flex": null,
            "flex_flow": null,
            "grid_area": null,
            "grid_auto_columns": null,
            "grid_auto_flow": null,
            "grid_auto_rows": null,
            "grid_column": null,
            "grid_gap": null,
            "grid_row": null,
            "grid_template_areas": null,
            "grid_template_columns": null,
            "grid_template_rows": null,
            "height": null,
            "justify_content": null,
            "justify_items": null,
            "left": null,
            "margin": null,
            "max_height": null,
            "max_width": null,
            "min_height": null,
            "min_width": null,
            "object_fit": null,
            "object_position": null,
            "order": null,
            "overflow": null,
            "overflow_x": null,
            "overflow_y": null,
            "padding": null,
            "right": null,
            "top": null,
            "visibility": null,
            "width": null
          }
        },
        "8267ab1bd84f4ff8801e0ae07e150279": {
          "model_module": "@jupyter-widgets/base",
          "model_name": "LayoutModel",
          "model_module_version": "1.2.0",
          "state": {
            "_model_module": "@jupyter-widgets/base",
            "_model_module_version": "1.2.0",
            "_model_name": "LayoutModel",
            "_view_count": null,
            "_view_module": "@jupyter-widgets/base",
            "_view_module_version": "1.2.0",
            "_view_name": "LayoutView",
            "align_content": null,
            "align_items": null,
            "align_self": null,
            "border": null,
            "bottom": null,
            "display": null,
            "flex": null,
            "flex_flow": null,
            "grid_area": null,
            "grid_auto_columns": null,
            "grid_auto_flow": null,
            "grid_auto_rows": null,
            "grid_column": null,
            "grid_gap": null,
            "grid_row": null,
            "grid_template_areas": null,
            "grid_template_columns": null,
            "grid_template_rows": null,
            "height": null,
            "justify_content": null,
            "justify_items": null,
            "left": null,
            "margin": null,
            "max_height": null,
            "max_width": null,
            "min_height": null,
            "min_width": null,
            "object_fit": null,
            "object_position": null,
            "order": null,
            "overflow": null,
            "overflow_x": null,
            "overflow_y": null,
            "padding": null,
            "right": null,
            "top": null,
            "visibility": null,
            "width": null
          }
        },
        "22c0a1bd65914e578b893eb4b14c277d": {
          "model_module": "@jupyter-widgets/controls",
          "model_name": "DescriptionStyleModel",
          "model_module_version": "1.5.0",
          "state": {
            "_model_module": "@jupyter-widgets/controls",
            "_model_module_version": "1.5.0",
            "_model_name": "DescriptionStyleModel",
            "_view_count": null,
            "_view_module": "@jupyter-widgets/base",
            "_view_module_version": "1.2.0",
            "_view_name": "StyleView",
            "description_width": ""
          }
        },
        "cc42c34a23244babbbea5baff7f0d65e": {
          "model_module": "@jupyter-widgets/base",
          "model_name": "LayoutModel",
          "model_module_version": "1.2.0",
          "state": {
            "_model_module": "@jupyter-widgets/base",
            "_model_module_version": "1.2.0",
            "_model_name": "LayoutModel",
            "_view_count": null,
            "_view_module": "@jupyter-widgets/base",
            "_view_module_version": "1.2.0",
            "_view_name": "LayoutView",
            "align_content": null,
            "align_items": null,
            "align_self": null,
            "border": null,
            "bottom": null,
            "display": null,
            "flex": null,
            "flex_flow": null,
            "grid_area": null,
            "grid_auto_columns": null,
            "grid_auto_flow": null,
            "grid_auto_rows": null,
            "grid_column": null,
            "grid_gap": null,
            "grid_row": null,
            "grid_template_areas": null,
            "grid_template_columns": null,
            "grid_template_rows": null,
            "height": null,
            "justify_content": null,
            "justify_items": null,
            "left": null,
            "margin": null,
            "max_height": null,
            "max_width": null,
            "min_height": null,
            "min_width": null,
            "object_fit": null,
            "object_position": null,
            "order": null,
            "overflow": null,
            "overflow_x": null,
            "overflow_y": null,
            "padding": null,
            "right": null,
            "top": null,
            "visibility": null,
            "width": null
          }
        },
        "3195cf53d46b4ea3beb445e8667c48a5": {
          "model_module": "@jupyter-widgets/controls",
          "model_name": "ProgressStyleModel",
          "model_module_version": "1.5.0",
          "state": {
            "_model_module": "@jupyter-widgets/controls",
            "_model_module_version": "1.5.0",
            "_model_name": "ProgressStyleModel",
            "_view_count": null,
            "_view_module": "@jupyter-widgets/base",
            "_view_module_version": "1.2.0",
            "_view_name": "StyleView",
            "bar_color": null,
            "description_width": ""
          }
        }
      }
    }
  },
  "cells": [
    {
      "cell_type": "markdown",
      "metadata": {
        "id": "view-in-github",
        "colab_type": "text"
      },
      "source": [
        "<a href=\"https://colab.research.google.com/github/Krankile/npmf/blob/main/notebooks/ARIMA_forecacst.ipynb\" target=\"_parent\"><img src=\"https://colab.research.google.com/assets/colab-badge.svg\" alt=\"Open In Colab\"/></a>"
      ]
    },
    {
      "cell_type": "markdown",
      "source": [
        "#Setup"
      ],
      "metadata": {
        "id": "d8F5tl4NL7FZ"
      }
    },
    {
      "cell_type": "markdown",
      "source": [
        "##Kernel setup"
      ],
      "metadata": {
        "id": "Rwo44VGZLhAo"
      }
    },
    {
      "cell_type": "code",
      "source": [
        "%load_ext autoreload\n",
        "%autoreload 2"
      ],
      "metadata": {
        "id": "hKuFzk7aEmB9"
      },
      "execution_count": null,
      "outputs": []
    },
    {
      "cell_type": "code",
      "source": [
        "%%capture\n",
        "!git clone https://github.com/Krankile/npmf.git\n",
        "!pip install wandb"
      ],
      "metadata": {
        "id": "91KPY7q0LUOw"
      },
      "execution_count": null,
      "outputs": []
    },
    {
      "cell_type": "code",
      "source": [
        "!wandb login"
      ],
      "metadata": {
        "colab": {
          "base_uri": "https://localhost:8080/"
        },
        "id": "zLr0RXyY3WaA",
        "outputId": "8f6bc1a7-6b41-4198-da6e-368e809a1393"
      },
      "execution_count": null,
      "outputs": [
        {
          "output_type": "stream",
          "name": "stdout",
          "text": [
            "\u001b[34m\u001b[1mwandb\u001b[0m: Currently logged in as: \u001b[33mkrankile\u001b[0m (use `wandb login --relogin` to force relogin)\n"
          ]
        }
      ]
    },
    {
      "cell_type": "markdown",
      "source": [
        "##General setup"
      ],
      "metadata": {
        "id": "CLAlA0htLgMY"
      }
    },
    {
      "cell_type": "code",
      "source": [
        "%%capture\n",
        "!pip install pmdarima"
      ],
      "metadata": {
        "id": "KR7SqgvTIX5B"
      },
      "execution_count": null,
      "outputs": []
    },
    {
      "cell_type": "code",
      "source": [
        "%%capture\n",
        "!cd npmf && git pull\n",
        "\n",
        "import os\n",
        "import pickle\n",
        "from collections import defaultdict\n",
        "from datetime import datetime\n",
        "from operator import itemgetter\n",
        "\n",
        "import numpy as np\n",
        "from numpy.ma.core import outerproduct\n",
        "import pandas as pd\n",
        "import matplotlib as mpl\n",
        "import matplotlib.pyplot as plt\n",
        "from tqdm import tqdm\n",
        "\n",
        "import pmdarima as pm\n",
        "\n",
        "import wandb as wb\n",
        "\n",
        "import torch\n",
        "from torch import nn\n",
        "from torch.utils.data import DataLoader\n",
        "from torchvision import datasets, transforms\n",
        "\n",
        "from npmf.utils.colors import main, main2, main3\n",
        "from npmf.utils.wandb import get_df_artifact\n",
        "from npmf.utils.data import test_start_pd\n",
        "from npmf.utils.measurement import mape"
      ],
      "metadata": {
        "id": "1QSlgObXLq1p"
      },
      "execution_count": null,
      "outputs": []
    },
    {
      "cell_type": "code",
      "source": [
        "mpl.rcParams['axes.prop_cycle'] = mpl.cycler(color=[main, main2, main3, \"black\"])\n",
        "mpl.rcParams['figure.figsize'] = (6, 4)  # (6, 4) is default and used in the paper"
      ],
      "metadata": {
        "id": "hkTjKKLmLvpl"
      },
      "execution_count": null,
      "outputs": []
    },
    {
      "cell_type": "code",
      "source": [
        "device = \"cuda\" if torch.cuda.is_available() else \"cpu\"\n",
        "print(f\"Using {device} device\")"
      ],
      "metadata": {
        "colab": {
          "base_uri": "https://localhost:8080/"
        },
        "id": "Dqy02oAvY7GM",
        "outputId": "72282c60-bbf3-4495-ef17-59e9dcb810f1"
      },
      "execution_count": null,
      "outputs": [
        {
          "output_type": "stream",
          "name": "stdout",
          "text": [
            "Using cpu device\n"
          ]
        }
      ]
    },
    {
      "cell_type": "code",
      "source": [
        "np.random.seed(420)"
      ],
      "metadata": {
        "id": "YVFtfDk0pYtd"
      },
      "execution_count": null,
      "outputs": []
    },
    {
      "cell_type": "markdown",
      "source": [
        "# Let's get the data and split into training and testing 😂✨KAWAIII ^^✨\n",
        "\n"
      ],
      "metadata": {
        "id": "5SjJBQhRLym1"
      }
    },
    {
      "cell_type": "code",
      "source": [
        "data = get_df_artifact(\"stock-oil-final:v3\", \"master-test\")\n",
        "data = data[data.date > \"01.01.2000\"]"
      ],
      "metadata": {
        "colab": {
          "base_uri": "https://localhost:8080/",
          "height": 173,
          "referenced_widgets": [
            "0b61f6d1a8c547799265b72d2736da3e",
            "8389d470201b48bbb85542d871f49441",
            "596519b4b71449c28598b69a3abc44ba",
            "0cd934a06ace440fbe412a227d75f1f6",
            "8267ab1bd84f4ff8801e0ae07e150279",
            "22c0a1bd65914e578b893eb4b14c277d",
            "cc42c34a23244babbbea5baff7f0d65e",
            "3195cf53d46b4ea3beb445e8667c48a5"
          ]
        },
        "id": "k_Vm1L8H4A0m",
        "outputId": "59168ef5-c10a-4d27-d90e-5a2e6a86d966"
      },
      "execution_count": null,
      "outputs": [
        {
          "output_type": "stream",
          "name": "stderr",
          "text": [
            "\u001b[34m\u001b[1mwandb\u001b[0m: Currently logged in as: \u001b[33mkrankile\u001b[0m (use `wandb login --relogin` to force relogin)\n"
          ]
        },
        {
          "output_type": "display_data",
          "data": {
            "text/plain": [
              "<IPython.core.display.HTML object>"
            ],
            "text/html": [
              "Tracking run with wandb version 0.12.15"
            ]
          },
          "metadata": {}
        },
        {
          "output_type": "display_data",
          "data": {
            "text/plain": [
              "<IPython.core.display.HTML object>"
            ],
            "text/html": [
              "Run data is saved locally in <code>/content/wandb/run-20220502_095553-211vlw1c</code>"
            ]
          },
          "metadata": {}
        },
        {
          "output_type": "display_data",
          "data": {
            "text/plain": [
              "<IPython.core.display.HTML object>"
            ],
            "text/html": [
              "Syncing run <strong><a href=\"https://wandb.ai/krankile/master-test/runs/211vlw1c\" target=\"_blank\">blooming-wildflower-80</a></strong> to <a href=\"https://wandb.ai/krankile/master-test\" target=\"_blank\">Weights & Biases</a> (<a href=\"https://wandb.me/run\" target=\"_blank\">docs</a>)<br/>"
            ]
          },
          "metadata": {}
        },
        {
          "output_type": "stream",
          "name": "stderr",
          "text": [
            "\u001b[34m\u001b[1mwandb\u001b[0m: Downloading large artifact stock-oil-final:v3, 82.95MB. 1 files... Done. 0:0:0\n"
          ]
        },
        {
          "output_type": "display_data",
          "data": {
            "text/plain": [
              "<IPython.core.display.HTML object>"
            ],
            "text/html": [
              "Waiting for W&B process to finish... <strong style=\"color:green\">(success).</strong>"
            ]
          },
          "metadata": {}
        },
        {
          "output_type": "display_data",
          "data": {
            "text/plain": [
              "VBox(children=(Label(value='0.001 MB of 0.001 MB uploaded (0.000 MB deduped)\\r'), FloatProgress(value=1.0, max…"
            ],
            "application/vnd.jupyter.widget-view+json": {
              "version_major": 2,
              "version_minor": 0,
              "model_id": "0b61f6d1a8c547799265b72d2736da3e"
            }
          },
          "metadata": {}
        },
        {
          "output_type": "display_data",
          "data": {
            "text/plain": [
              "<IPython.core.display.HTML object>"
            ],
            "text/html": [
              "Synced <strong style=\"color:#cdcd00\">blooming-wildflower-80</strong>: <a href=\"https://wandb.ai/krankile/master-test/runs/211vlw1c\" target=\"_blank\">https://wandb.ai/krankile/master-test/runs/211vlw1c</a><br/>Synced 5 W&B file(s), 0 media file(s), 0 artifact file(s) and 0 other file(s)"
            ]
          },
          "metadata": {}
        },
        {
          "output_type": "display_data",
          "data": {
            "text/plain": [
              "<IPython.core.display.HTML object>"
            ],
            "text/html": [
              "Find logs at: <code>./wandb/run-20220502_095553-211vlw1c/logs</code>"
            ]
          },
          "metadata": {}
        }
      ]
    },
    {
      "cell_type": "code",
      "source": [
        "#trn = data[(data.date >= \"2018-10-01\") & (data.date < test_start_pd)].copy()\n",
        "trn = data[(data.date < test_start_pd)].copy()\n",
        "tst = data[data.date >= test_start_pd].copy()\n",
        "\n",
        "tst[\"obs_number\"] = tst.groupby(\"ticker\").date.rank(method='first', ascending=True).astype(int)\n",
        "tst = tst[tst.obs_number <= 20]\n",
        "\n",
        "tickers = set(trn.ticker.unique()) & set(tst.ticker.unique())\n",
        "\n",
        "trn.shape, tst.shape"
      ],
      "metadata": {
        "colab": {
          "base_uri": "https://localhost:8080/"
        },
        "id": "262ks5SjC_o2",
        "outputId": "38b99641-1135-443c-8dc2-79c8a889b6a9"
      },
      "execution_count": null,
      "outputs": [
        {
          "output_type": "execute_result",
          "data": {
            "text/plain": [
              "((2761377, 5), (19898, 6))"
            ]
          },
          "metadata": {},
          "execution_count": 10
        }
      ]
    },
    {
      "cell_type": "markdown",
      "source": [
        "## Decide the length of lags that should be used for training the ARIMA models"
      ],
      "metadata": {
        "id": "YRv42LqI7fj3"
      }
    },
    {
      "cell_type": "code",
      "source": [
        "# Measure the length of series for all series\n",
        "trn.groupby(\"ticker\").count().date.hist()\n",
        "trn.groupby(\"ticker\").count().date.max()"
      ],
      "metadata": {
        "colab": {
          "base_uri": "https://localhost:8080/",
          "height": 285
        },
        "id": "fEaT-WiD-KZX",
        "outputId": "190e40d3-a7a6-4456-bbcf-bc76087c6327"
      },
      "execution_count": null,
      "outputs": [
        {
          "output_type": "execute_result",
          "data": {
            "text/plain": [
              "4916"
            ]
          },
          "metadata": {},
          "execution_count": 11
        },
        {
          "output_type": "display_data",
          "data": {
            "text/plain": [
              "<Figure size 432x288 with 1 Axes>"
            ],
            "image/png": "[encoded data removed]"
          },
          "metadata": {
            "needs_background": "light"
          }
        }
      ]
    },
    {
      "cell_type": "code",
      "source": [
        "# List of lags to test: 1 month, 2 months, 1 quarter, 2 quarters, 3 quarters, 1 year -> 20 years\n",
        "lags = [20, 40] + list(range(60, 60*4, 60)) + list(range(240, 5000, 240))\n",
        "\n",
        "len(lags)"
      ],
      "metadata": {
        "colab": {
          "base_uri": "https://localhost:8080/"
        },
        "id": "LV0IMwZd-1j6",
        "outputId": "67220ec9-cef0-458a-a42a-4a64fa7539c6"
      },
      "execution_count": null,
      "outputs": [
        {
          "output_type": "execute_result",
          "data": {
            "text/plain": [
              "25"
            ]
          },
          "metadata": {},
          "execution_count": 12
        }
      ]
    },
    {
      "cell_type": "code",
      "source": [
        "# Choose a subset of the 934 tickers to test for\n",
        "ticker_subset = np.random.choice(np.array(list(tickers)), size=50, replace=False)\n",
        "len(ticker_subset)"
      ],
      "metadata": {
        "colab": {
          "base_uri": "https://localhost:8080/"
        },
        "id": "UDL5klzG_7pQ",
        "outputId": "01c86ff1-6e67-40f1-abcc-2493aeb65c0f"
      },
      "execution_count": null,
      "outputs": [
        {
          "output_type": "execute_result",
          "data": {
            "text/plain": [
              "50"
            ]
          },
          "metadata": {},
          "execution_count": 22
        }
      ]
    },
    {
      "cell_type": "code",
      "source": [
        "# Create the validation set\n",
        "traval = trn[trn.ticker.isin(ticker_subset)].copy()\n",
        "print(traval.shape)\n",
        "traval[\"obs_number\"] = traval.groupby(\"ticker\").date.rank(method='first', ascending=False).astype(int)\n",
        "\n",
        "val = traval[traval.obs_number <= 20]\n",
        "val.head()"
      ],
      "metadata": {
        "colab": {
          "base_uri": "https://localhost:8080/",
          "height": 224
        },
        "id": "FvtdFt2-A0na",
        "outputId": "3f36e2de-134b-4786-be8b-3a4e09c81085"
      },
      "execution_count": null,
      "outputs": [
        {
          "output_type": "stream",
          "name": "stdout",
          "text": [
            "(150918, 5)\n"
          ]
        },
        {
          "output_type": "execute_result",
          "data": {
            "text/plain": [
              "          ticker       date        market_cap  close_price currency  \\\n",
              "47432  000985.SZ 2018-12-03  260417147.300793     2.008779      USD   \n",
              "47433  000985.SZ 2018-12-04  266893136.824546     2.058733      USD   \n",
              "47434  000985.SZ 2018-12-05  262509301.782744     2.024918      USD   \n",
              "47435  000985.SZ 2018-12-06  255827774.064171     1.973378      USD   \n",
              "47436  000985.SZ 2018-12-07  256325317.533062     1.977216      USD   \n",
              "\n",
              "       obs_number  \n",
              "47432          20  \n",
              "47433          19  \n",
              "47434          18  \n",
              "47435          17  \n",
              "47436          16  "
            ],
            "text/html": [
              "\n",
              "  <div id=\"df-d7121a53-bf7d-462f-8dab-409db84e5ac8\">\n",
              "    <div class=\"colab-df-container\">\n",
              "      <div>\n",
              "<style scoped>\n",
              "    .dataframe tbody tr th:only-of-type {\n",
              "        vertical-align: middle;\n",
              "    }\n",
              "\n",
              "    .dataframe tbody tr th {\n",
              "        vertical-align: top;\n",
              "    }\n",
              "\n",
              "    .dataframe thead th {\n",
              "        text-align: right;\n",
              "    }\n",
              "</style>\n",
              "<table border=\"1\" class=\"dataframe\">\n",
              "  <thead>\n",
              "    <tr style=\"text-align: right;\">\n",
              "      <th></th>\n",
              "      <th>ticker</th>\n",
              "      <th>date</th>\n",
              "      <th>market_cap</th>\n",
              "      <th>close_price</th>\n",
              "      <th>currency</th>\n",
              "      <th>obs_number</th>\n",
              "    </tr>\n",
              "  </thead>\n",
              "  <tbody>\n",
              "    <tr>\n",
              "      <th>47432</th>\n",
              "      <td>000985.SZ</td>\n",
              "      <td>2018-12-03</td>\n",
              "      <td>260417147.300793</td>\n",
              "      <td>2.008779</td>\n",
              "      <td>USD</td>\n",
              "      <td>20</td>\n",
              "    </tr>\n",
              "    <tr>\n",
              "      <th>47433</th>\n",
              "      <td>000985.SZ</td>\n",
              "      <td>2018-12-04</td>\n",
              "      <td>266893136.824546</td>\n",
              "      <td>2.058733</td>\n",
              "      <td>USD</td>\n",
              "      <td>19</td>\n",
              "    </tr>\n",
              "    <tr>\n",
              "      <th>47434</th>\n",
              "      <td>000985.SZ</td>\n",
              "      <td>2018-12-05</td>\n",
              "      <td>262509301.782744</td>\n",
              "      <td>2.024918</td>\n",
              "      <td>USD</td>\n",
              "      <td>18</td>\n",
              "    </tr>\n",
              "    <tr>\n",
              "      <th>47435</th>\n",
              "      <td>000985.SZ</td>\n",
              "      <td>2018-12-06</td>\n",
              "      <td>255827774.064171</td>\n",
              "      <td>1.973378</td>\n",
              "      <td>USD</td>\n",
              "      <td>17</td>\n",
              "    </tr>\n",
              "    <tr>\n",
              "      <th>47436</th>\n",
              "      <td>000985.SZ</td>\n",
              "      <td>2018-12-07</td>\n",
              "      <td>256325317.533062</td>\n",
              "      <td>1.977216</td>\n",
              "      <td>USD</td>\n",
              "      <td>16</td>\n",
              "    </tr>\n",
              "  </tbody>\n",
              "</table>\n",
              "</div>\n",
              "      <button class=\"colab-df-convert\" onclick=\"convertToInteractive('df-d7121a53-bf7d-462f-8dab-409db84e5ac8')\"\n",
              "              title=\"Convert this dataframe to an interactive table.\"\n",
              "              style=\"display:none;\">\n",
              "        \n",
              "  <svg xmlns=\"http://www.w3.org/2000/svg\" height=\"24px\"viewBox=\"0 0 24 24\"\n",
              "       width=\"24px\">\n",
              "    <path d=\"M0 0h24v24H0V0z\" fill=\"none\"/>\n",
              "    <path d=\"M18.56 5.44l.94 2.06.94-2.06 2.06-.94-2.06-.94-.94-2.06-.94 2.06-2.06.94zm-11 1L8.5 8.5l.94-2.06 2.06-.94-2.06-.94L8.5 2.5l-.94 2.06-2.06.94zm10 10l.94 2.06.94-2.06 2.06-.94-2.06-.94-.94-2.06-.94 2.06-2.06.94z\"/><path d=\"M17.41 7.96l-1.37-1.37c-.4-.4-.92-.59-1.43-.59-.52 0-1.04.2-1.43.59L10.3 9.45l-7.72 7.72c-.78.78-.78 2.05 0 2.83L4 21.41c.39.39.9.59 1.41.59.51 0 1.02-.2 1.41-.59l7.78-7.78 2.81-2.81c.8-.78.8-2.07 0-2.86zM5.41 20L4 18.59l7.72-7.72 1.47 1.35L5.41 20z\"/>\n",
              "  </svg>\n",
              "      </button>\n",
              "      \n",
              "  <style>\n",
              "    .colab-df-container {\n",
              "      display:flex;\n",
              "      flex-wrap:wrap;\n",
              "      gap: 12px;\n",
              "    }\n",
              "\n",
              "    .colab-df-convert {\n",
              "      background-color: #E8F0FE;\n",
              "      border: none;\n",
              "      border-radius: 50%;\n",
              "      cursor: pointer;\n",
              "      display: none;\n",
              "      fill: #1967D2;\n",
              "      height: 32px;\n",
              "      padding: 0 0 0 0;\n",
              "      width: 32px;\n",
              "    }\n",
              "\n",
              "    .colab-df-convert:hover {\n",
              "      background-color: #E2EBFA;\n",
              "      box-shadow: 0px 1px 2px rgba(60, 64, 67, 0.3), 0px 1px 3px 1px rgba(60, 64, 67, 0.15);\n",
              "      fill: #174EA6;\n",
              "    }\n",
              "\n",
              "    [theme=dark] .colab-df-convert {\n",
              "      background-color: #3B4455;\n",
              "      fill: #D2E3FC;\n",
              "    }\n",
              "\n",
              "    [theme=dark] .colab-df-convert:hover {\n",
              "      background-color: #434B5C;\n",
              "      box-shadow: 0px 1px 3px 1px rgba(0, 0, 0, 0.15);\n",
              "      filter: drop-shadow(0px 1px 2px rgba(0, 0, 0, 0.3));\n",
              "      fill: #FFFFFF;\n",
              "    }\n",
              "  </style>\n",
              "\n",
              "      <script>\n",
              "        const buttonEl =\n",
              "          document.querySelector('#df-d7121a53-bf7d-462f-8dab-409db84e5ac8 button.colab-df-convert');\n",
              "        buttonEl.style.display =\n",
              "          google.colab.kernel.accessAllowed ? 'block' : 'none';\n",
              "\n",
              "        async function convertToInteractive(key) {\n",
              "          const element = document.querySelector('#df-d7121a53-bf7d-462f-8dab-409db84e5ac8');\n",
              "          const dataTable =\n",
              "            await google.colab.kernel.invokeFunction('convertToInteractive',\n",
              "                                                     [key], {});\n",
              "          if (!dataTable) return;\n",
              "\n",
              "          const docLinkHtml = 'Like what you see? Visit the ' +\n",
              "            '<a target=\"_blank\" href=https://colab.research.google.com/notebooks/data_table.ipynb>data table notebook</a>'\n",
              "            + ' to learn more about interactive tables.';\n",
              "          element.innerHTML = '';\n",
              "          dataTable['output_type'] = 'display_data';\n",
              "          await google.colab.output.renderOutput(dataTable, element);\n",
              "          const docLink = document.createElement('div');\n",
              "          docLink.innerHTML = docLinkHtml;\n",
              "          element.appendChild(docLink);\n",
              "        }\n",
              "      </script>\n",
              "    </div>\n",
              "  </div>\n",
              "  "
            ]
          },
          "metadata": {},
          "execution_count": 27
        }
      ]
    },
    {
      "cell_type": "code",
      "source": [
        "train = traval[traval.obs_number > 20].copy()\n",
        "train[\"obs_number\"] = train.groupby(\"ticker\").date.rank(method='first', ascending=False).astype(int)\n",
        "\n",
        "train.head()"
      ],
      "metadata": {
        "colab": {
          "base_uri": "https://localhost:8080/",
          "height": 206
        },
        "id": "yUSTmhsTCNL1",
        "outputId": "4f8b6ffa-439f-48a9-8fa6-f486217a967c"
      },
      "execution_count": null,
      "outputs": [
        {
          "output_type": "execute_result",
          "data": {
            "text/plain": [
              "          ticker       date        market_cap  close_price currency  \\\n",
              "42973  000985.SZ 2000-07-26  310848350.161843      2.39779      USD   \n",
              "42974  000985.SZ 2000-07-27  299053060.041307     2.306804      USD   \n",
              "42975  000985.SZ 2000-07-28  299188346.981665     2.307848      USD   \n",
              "42976  000985.SZ 2000-07-31  295723016.716591     2.281117      USD   \n",
              "42977  000985.SZ 2000-08-01  297543122.191621     2.295157      USD   \n",
              "\n",
              "       obs_number  \n",
              "42973        4459  \n",
              "42974        4458  \n",
              "42975        4457  \n",
              "42976        4456  \n",
              "42977        4455  "
            ],
            "text/html": [
              "\n",
              "  <div id=\"df-607e7494-f8b2-4a64-8741-c24dea166eb4\">\n",
              "    <div class=\"colab-df-container\">\n",
              "      <div>\n",
              "<style scoped>\n",
              "    .dataframe tbody tr th:only-of-type {\n",
              "        vertical-align: middle;\n",
              "    }\n",
              "\n",
              "    .dataframe tbody tr th {\n",
              "        vertical-align: top;\n",
              "    }\n",
              "\n",
              "    .dataframe thead th {\n",
              "        text-align: right;\n",
              "    }\n",
              "</style>\n",
              "<table border=\"1\" class=\"dataframe\">\n",
              "  <thead>\n",
              "    <tr style=\"text-align: right;\">\n",
              "      <th></th>\n",
              "      <th>ticker</th>\n",
              "      <th>date</th>\n",
              "      <th>market_cap</th>\n",
              "      <th>close_price</th>\n",
              "      <th>currency</th>\n",
              "      <th>obs_number</th>\n",
              "    </tr>\n",
              "  </thead>\n",
              "  <tbody>\n",
              "    <tr>\n",
              "      <th>42973</th>\n",
              "      <td>000985.SZ</td>\n",
              "      <td>2000-07-26</td>\n",
              "      <td>310848350.161843</td>\n",
              "      <td>2.39779</td>\n",
              "      <td>USD</td>\n",
              "      <td>4459</td>\n",
              "    </tr>\n",
              "    <tr>\n",
              "      <th>42974</th>\n",
              "      <td>000985.SZ</td>\n",
              "      <td>2000-07-27</td>\n",
              "      <td>299053060.041307</td>\n",
              "      <td>2.306804</td>\n",
              "      <td>USD</td>\n",
              "      <td>4458</td>\n",
              "    </tr>\n",
              "    <tr>\n",
              "      <th>42975</th>\n",
              "      <td>000985.SZ</td>\n",
              "      <td>2000-07-28</td>\n",
              "      <td>299188346.981665</td>\n",
              "      <td>2.307848</td>\n",
              "      <td>USD</td>\n",
              "      <td>4457</td>\n",
              "    </tr>\n",
              "    <tr>\n",
              "      <th>42976</th>\n",
              "      <td>000985.SZ</td>\n",
              "      <td>2000-07-31</td>\n",
              "      <td>295723016.716591</td>\n",
              "      <td>2.281117</td>\n",
              "      <td>USD</td>\n",
              "      <td>4456</td>\n",
              "    </tr>\n",
              "    <tr>\n",
              "      <th>42977</th>\n",
              "      <td>000985.SZ</td>\n",
              "      <td>2000-08-01</td>\n",
              "      <td>297543122.191621</td>\n",
              "      <td>2.295157</td>\n",
              "      <td>USD</td>\n",
              "      <td>4455</td>\n",
              "    </tr>\n",
              "  </tbody>\n",
              "</table>\n",
              "</div>\n",
              "      <button class=\"colab-df-convert\" onclick=\"convertToInteractive('df-607e7494-f8b2-4a64-8741-c24dea166eb4')\"\n",
              "              title=\"Convert this dataframe to an interactive table.\"\n",
              "              style=\"display:none;\">\n",
              "        \n",
              "  <svg xmlns=\"http://www.w3.org/2000/svg\" height=\"24px\"viewBox=\"0 0 24 24\"\n",
              "       width=\"24px\">\n",
              "    <path d=\"M0 0h24v24H0V0z\" fill=\"none\"/>\n",
              "    <path d=\"M18.56 5.44l.94 2.06.94-2.06 2.06-.94-2.06-.94-.94-2.06-.94 2.06-2.06.94zm-11 1L8.5 8.5l.94-2.06 2.06-.94-2.06-.94L8.5 2.5l-.94 2.06-2.06.94zm10 10l.94 2.06.94-2.06 2.06-.94-2.06-.94-.94-2.06-.94 2.06-2.06.94z\"/><path d=\"M17.41 7.96l-1.37-1.37c-.4-.4-.92-.59-1.43-.59-.52 0-1.04.2-1.43.59L10.3 9.45l-7.72 7.72c-.78.78-.78 2.05 0 2.83L4 21.41c.39.39.9.59 1.41.59.51 0 1.02-.2 1.41-.59l7.78-7.78 2.81-2.81c.8-.78.8-2.07 0-2.86zM5.41 20L4 18.59l7.72-7.72 1.47 1.35L5.41 20z\"/>\n",
              "  </svg>\n",
              "      </button>\n",
              "      \n",
              "  <style>\n",
              "    .colab-df-container {\n",
              "      display:flex;\n",
              "      flex-wrap:wrap;\n",
              "      gap: 12px;\n",
              "    }\n",
              "\n",
              "    .colab-df-convert {\n",
              "      background-color: #E8F0FE;\n",
              "      border: none;\n",
              "      border-radius: 50%;\n",
              "      cursor: pointer;\n",
              "      display: none;\n",
              "      fill: #1967D2;\n",
              "      height: 32px;\n",
              "      padding: 0 0 0 0;\n",
              "      width: 32px;\n",
              "    }\n",
              "\n",
              "    .colab-df-convert:hover {\n",
              "      background-color: #E2EBFA;\n",
              "      box-shadow: 0px 1px 2px rgba(60, 64, 67, 0.3), 0px 1px 3px 1px rgba(60, 64, 67, 0.15);\n",
              "      fill: #174EA6;\n",
              "    }\n",
              "\n",
              "    [theme=dark] .colab-df-convert {\n",
              "      background-color: #3B4455;\n",
              "      fill: #D2E3FC;\n",
              "    }\n",
              "\n",
              "    [theme=dark] .colab-df-convert:hover {\n",
              "      background-color: #434B5C;\n",
              "      box-shadow: 0px 1px 3px 1px rgba(0, 0, 0, 0.15);\n",
              "      filter: drop-shadow(0px 1px 2px rgba(0, 0, 0, 0.3));\n",
              "      fill: #FFFFFF;\n",
              "    }\n",
              "  </style>\n",
              "\n",
              "      <script>\n",
              "        const buttonEl =\n",
              "          document.querySelector('#df-607e7494-f8b2-4a64-8741-c24dea166eb4 button.colab-df-convert');\n",
              "        buttonEl.style.display =\n",
              "          google.colab.kernel.accessAllowed ? 'block' : 'none';\n",
              "\n",
              "        async function convertToInteractive(key) {\n",
              "          const element = document.querySelector('#df-607e7494-f8b2-4a64-8741-c24dea166eb4');\n",
              "          const dataTable =\n",
              "            await google.colab.kernel.invokeFunction('convertToInteractive',\n",
              "                                                     [key], {});\n",
              "          if (!dataTable) return;\n",
              "\n",
              "          const docLinkHtml = 'Like what you see? Visit the ' +\n",
              "            '<a target=\"_blank\" href=https://colab.research.google.com/notebooks/data_table.ipynb>data table notebook</a>'\n",
              "            + ' to learn more about interactive tables.';\n",
              "          element.innerHTML = '';\n",
              "          dataTable['output_type'] = 'display_data';\n",
              "          await google.colab.output.renderOutput(dataTable, element);\n",
              "          const docLink = document.createElement('div');\n",
              "          docLink.innerHTML = docLinkHtml;\n",
              "          element.appendChild(docLink);\n",
              "        }\n",
              "      </script>\n",
              "    </div>\n",
              "  </div>\n",
              "  "
            ]
          },
          "metadata": {},
          "execution_count": 28
        }
      ]
    },
    {
      "cell_type": "code",
      "source": [
        "def calculate_mean_mapes(ls, tcks):\n",
        "    mean_mapes = []\n",
        "\n",
        "    it = tqdm(total=len(ls)*len(tcks))\n",
        "\n",
        "    for lag in ls:\n",
        "        it.set_postfix(dict(lag=lag))\n",
        "        mapes = []\n",
        "        for ticker in tcks:\n",
        "            series = train.loc[(train.ticker == ticker) & (train.obs_number <= lag), [\"date\", \"market_cap\"]].set_index(\"date\").squeeze()\n",
        "\n",
        "            mod = pm.arima.AutoARIMA(seasonal=False)\n",
        "            mod.fit(series)\n",
        "\n",
        "            forecast = mod.predict(20)\n",
        "            actual = val.loc[(val.ticker == ticker), [\"date\", \"market_cap\"]].set_index(\"date\").squeeze()\n",
        "            mapes.append(mape(actual, forecast))\n",
        "            it.update()\n",
        "\n",
        "        mean_mapes.append(np.mean(mapes))\n",
        "\n",
        "    return mean_mapes"
      ],
      "metadata": {
        "id": "nPuDwW72CmpT"
      },
      "execution_count": null,
      "outputs": []
    },
    {
      "cell_type": "code",
      "source": [
        "import cProfile\n",
        "\n",
        "cmd = lambda: calculate_mean_mapes(lags[:2], ticker_subset[:20])\n",
        "\n",
        "cProfile.run(\"calculate_mean_mapes(lags[:2], ticker_subset[:20])\")"
      ],
      "metadata": {
        "id": "6rgJtnlbEwFM"
      },
      "execution_count": null,
      "outputs": []
    },
    {
      "cell_type": "code",
      "source": [
        "mmapes = calculate_mean_mapes(lags[::2], ticker_subset[:20])"
      ],
      "metadata": {
        "colab": {
          "base_uri": "https://localhost:8080/"
        },
        "id": "6oMGhXexH3Gk",
        "outputId": "5fb73670-0864-4d74-9689-4b6e08aecc2f"
      },
      "execution_count": null,
      "outputs": [
        {
          "output_type": "stream",
          "name": "stderr",
          "text": [
            "100%|██████████| 260/260 [1:25:41<00:00, 19.77s/it, lag=4800]\n"
          ]
        }
      ]
    },
    {
      "cell_type": "code",
      "source": [
        "plt.plot(lags[::2], mmapes);"
      ],
      "metadata": {
        "colab": {
          "base_uri": "https://localhost:8080/",
          "height": 265
        },
        "id": "iNBnwl-qgjhW",
        "outputId": "04365b09-872f-449e-ce10-5eef4499b157"
      },
      "execution_count": null,
      "outputs": [
        {
          "output_type": "display_data",
          "data": {
            "text/plain": [
              "<Figure size 432x288 with 1 Axes>"
            ],
            "image/png": "[encoded data removed]"
          },
          "metadata": {
            "needs_background": "light"
          }
        }
      ]
    },
    {
      "cell_type": "code",
      "source": [
        "# Do a more thorough search around the optimal above\n",
        "\n",
        "mmapes = calculate_mean_mapes(lags[1:9], ticker_subset)"
      ],
      "metadata": {
        "id": "yqNfUilfg7UO"
      },
      "execution_count": null,
      "outputs": []
    },
    {
      "cell_type": "code",
      "source": [
        "plt.plot(lags[1:9], mmapes);"
      ],
      "metadata": {
        "colab": {
          "base_uri": "https://localhost:8080/",
          "height": 265
        },
        "id": "j-IRi-AGojip",
        "outputId": "644b42b5-15d7-4ae0-a873-63679b4b0742"
      },
      "execution_count": 35,
      "outputs": [
        {
          "output_type": "display_data",
          "data": {
            "text/plain": [
              "<Figure size 432x288 with 1 Axes>"
            ],
            "image/png": "[encoded data removed]"
          },
          "metadata": {
            "needs_background": "light"
          }
        }
      ]
    },
    {
      "cell_type": "code",
      "source": [
        "# Finding the lag with the lowest loss\n",
        "min(zip(lags[1:9], mmapes), key=lambda x: x[1])"
      ],
      "metadata": {
        "colab": {
          "base_uri": "https://localhost:8080/"
        },
        "id": "TJ4mfPsho9nY",
        "outputId": "c0e68ed4-ee02-4423-a428-812fcb2ff9f2"
      },
      "execution_count": null,
      "outputs": [
        {
          "output_type": "execute_result",
          "data": {
            "text/plain": [
              "(60, 0.1310619774505307)"
            ]
          },
          "metadata": {},
          "execution_count": 34
        }
      ]
    },
    {
      "cell_type": "markdown",
      "source": [
        "From the above, we can conclude that ARIMA performs best when using the previous 6 datapoints, i.e., around a quarter of data before the month it shall predict."
      ],
      "metadata": {
        "id": "n8e1ziQzpb7Q"
      }
    },
    {
      "cell_type": "markdown",
      "source": [
        "## Train ARIMA models on last quarter of 2018 🎯\n",
        "\n",
        "And upload the result to WandB\n"
      ],
      "metadata": {
        "id": "pMhXyF6JCuS2"
      }
    },
    {
      "cell_type": "code",
      "source": [
        "trained_models = dict()\n",
        "\n",
        "for ticker in tqdm(tickers):\n",
        "\n",
        "    series = trn.loc[trn.ticker == ticker, [\"date\", \"market_cap\"]].set_index(\"date\").squeeze()\n",
        "    \n",
        "    mod = pm.arima.AutoARIMA()\n",
        "    mod.fit(series)\n",
        "\n",
        "    trained_models[ticker] = mod"
      ],
      "metadata": {
        "id": "Ebxj_jUrDL7K"
      },
      "execution_count": null,
      "outputs": []
    },
    {
      "cell_type": "code",
      "source": [
        "filename = \"arima-trained-1Q.pickle\"\n",
        "\n",
        "with open(filename, mode=\"wb\") as f:\n",
        "    pickle.dump(trained_models, f)\n",
        "\n",
        "with wb.init(project=\"master-test\") as run:\n",
        "    art = wb.Artifact(filename.split(\".\")[0], type=\"model\")\n",
        "    art.add_file(filename)\n",
        "\n",
        "    run.log_artifact(art)\n",
        "    "
      ],
      "metadata": {
        "id": "_WPMZFsXHzLX"
      },
      "execution_count": null,
      "outputs": []
    },
    {
      "cell_type": "markdown",
      "source": [
        "## Predict for first month of 2019"
      ],
      "metadata": {
        "id": "-UZEslTIjRId"
      }
    },
    {
      "cell_type": "code",
      "source": [
        "# outdf = pd.DataFrame(columns=[f\"V{i+1}\" for i in range(20)], index=tickers, dtype=np.float64)\n",
        "\n",
        "ob_num = list(range(1, 21))\n",
        "out = dict(ticker=[], market_cap=[], obs_number=[])\n",
        "\n",
        "for ticker, model in tqdm(trained_models.items()):\n",
        "    forec = model.predict(20)\n",
        "    ts = [ticker] * 20\n",
        "\n",
        "    out[\"ticker\"].extend(ts)\n",
        "    out[\"market_cap\"].extend(forec)\n",
        "    out[\"obs_number\"].extend(ob_num)\n",
        "\n",
        "forec_df = pd.DataFrame(out)\n",
        "\n",
        "forec_df"
      ],
      "metadata": {
        "colab": {
          "base_uri": "https://localhost:8080/",
          "height": 441
        },
        "id": "rrT0uoDoHW73",
        "outputId": "ca791d2a-4a25-491f-dd80-71f94d6ef34e"
      },
      "execution_count": null,
      "outputs": [
        {
          "output_type": "stream",
          "name": "stderr",
          "text": [
            "100%|██████████| 933/933 [00:03<00:00, 273.80it/s]\n"
          ]
        },
        {
          "output_type": "execute_result",
          "data": {
            "text/plain": [
              "         ticker    market_cap  obs_number\n",
              "0      CSAN3.SA  3.517287e+09           1\n",
              "1      CSAN3.SA  3.517287e+09           2\n",
              "2      CSAN3.SA  3.517287e+09           3\n",
              "3      CSAN3.SA  3.517287e+09           4\n",
              "4      CSAN3.SA  3.517287e+09           5\n",
              "...         ...           ...         ...\n",
              "18655  OANDO.LG  2.024660e+08          16\n",
              "18656  OANDO.LG  2.024660e+08          17\n",
              "18657  OANDO.LG  2.024660e+08          18\n",
              "18658  OANDO.LG  2.024660e+08          19\n",
              "18659  OANDO.LG  2.024660e+08          20\n",
              "\n",
              "[18660 rows x 3 columns]"
            ],
            "text/html": [
              "\n",
              "  <div id=\"df-9e1aa860-f682-4de4-9c41-4625e98169f0\">\n",
              "    <div class=\"colab-df-container\">\n",
              "      <div>\n",
              "<style scoped>\n",
              "    .dataframe tbody tr th:only-of-type {\n",
              "        vertical-align: middle;\n",
              "    }\n",
              "\n",
              "    .dataframe tbody tr th {\n",
              "        vertical-align: top;\n",
              "    }\n",
              "\n",
              "    .dataframe thead th {\n",
              "        text-align: right;\n",
              "    }\n",
              "</style>\n",
              "<table border=\"1\" class=\"dataframe\">\n",
              "  <thead>\n",
              "    <tr style=\"text-align: right;\">\n",
              "      <th></th>\n",
              "      <th>ticker</th>\n",
              "      <th>market_cap</th>\n",
              "      <th>obs_number</th>\n",
              "    </tr>\n",
              "  </thead>\n",
              "  <tbody>\n",
              "    <tr>\n",
              "      <th>0</th>\n",
              "      <td>CSAN3.SA</td>\n",
              "      <td>3.517287e+09</td>\n",
              "      <td>1</td>\n",
              "    </tr>\n",
              "    <tr>\n",
              "      <th>1</th>\n",
              "      <td>CSAN3.SA</td>\n",
              "      <td>3.517287e+09</td>\n",
              "      <td>2</td>\n",
              "    </tr>\n",
              "    <tr>\n",
              "      <th>2</th>\n",
              "      <td>CSAN3.SA</td>\n",
              "      <td>3.517287e+09</td>\n",
              "      <td>3</td>\n",
              "    </tr>\n",
              "    <tr>\n",
              "      <th>3</th>\n",
              "      <td>CSAN3.SA</td>\n",
              "      <td>3.517287e+09</td>\n",
              "      <td>4</td>\n",
              "    </tr>\n",
              "    <tr>\n",
              "      <th>4</th>\n",
              "      <td>CSAN3.SA</td>\n",
              "      <td>3.517287e+09</td>\n",
              "      <td>5</td>\n",
              "    </tr>\n",
              "    <tr>\n",
              "      <th>...</th>\n",
              "      <td>...</td>\n",
              "      <td>...</td>\n",
              "      <td>...</td>\n",
              "    </tr>\n",
              "    <tr>\n",
              "      <th>18655</th>\n",
              "      <td>OANDO.LG</td>\n",
              "      <td>2.024660e+08</td>\n",
              "      <td>16</td>\n",
              "    </tr>\n",
              "    <tr>\n",
              "      <th>18656</th>\n",
              "      <td>OANDO.LG</td>\n",
              "      <td>2.024660e+08</td>\n",
              "      <td>17</td>\n",
              "    </tr>\n",
              "    <tr>\n",
              "      <th>18657</th>\n",
              "      <td>OANDO.LG</td>\n",
              "      <td>2.024660e+08</td>\n",
              "      <td>18</td>\n",
              "    </tr>\n",
              "    <tr>\n",
              "      <th>18658</th>\n",
              "      <td>OANDO.LG</td>\n",
              "      <td>2.024660e+08</td>\n",
              "      <td>19</td>\n",
              "    </tr>\n",
              "    <tr>\n",
              "      <th>18659</th>\n",
              "      <td>OANDO.LG</td>\n",
              "      <td>2.024660e+08</td>\n",
              "      <td>20</td>\n",
              "    </tr>\n",
              "  </tbody>\n",
              "</table>\n",
              "<p>18660 rows × 3 columns</p>\n",
              "</div>\n",
              "      <button class=\"colab-df-convert\" onclick=\"convertToInteractive('df-9e1aa860-f682-4de4-9c41-4625e98169f0')\"\n",
              "              title=\"Convert this dataframe to an interactive table.\"\n",
              "              style=\"display:none;\">\n",
              "        \n",
              "  <svg xmlns=\"http://www.w3.org/2000/svg\" height=\"24px\"viewBox=\"0 0 24 24\"\n",
              "       width=\"24px\">\n",
              "    <path d=\"M0 0h24v24H0V0z\" fill=\"none\"/>\n",
              "    <path d=\"M18.56 5.44l.94 2.06.94-2.06 2.06-.94-2.06-.94-.94-2.06-.94 2.06-2.06.94zm-11 1L8.5 8.5l.94-2.06 2.06-.94-2.06-.94L8.5 2.5l-.94 2.06-2.06.94zm10 10l.94 2.06.94-2.06 2.06-.94-2.06-.94-.94-2.06-.94 2.06-2.06.94z\"/><path d=\"M17.41 7.96l-1.37-1.37c-.4-.4-.92-.59-1.43-.59-.52 0-1.04.2-1.43.59L10.3 9.45l-7.72 7.72c-.78.78-.78 2.05 0 2.83L4 21.41c.39.39.9.59 1.41.59.51 0 1.02-.2 1.41-.59l7.78-7.78 2.81-2.81c.8-.78.8-2.07 0-2.86zM5.41 20L4 18.59l7.72-7.72 1.47 1.35L5.41 20z\"/>\n",
              "  </svg>\n",
              "      </button>\n",
              "      \n",
              "  <style>\n",
              "    .colab-df-container {\n",
              "      display:flex;\n",
              "      flex-wrap:wrap;\n",
              "      gap: 12px;\n",
              "    }\n",
              "\n",
              "    .colab-df-convert {\n",
              "      background-color: #E8F0FE;\n",
              "      border: none;\n",
              "      border-radius: 50%;\n",
              "      cursor: pointer;\n",
              "      display: none;\n",
              "      fill: #1967D2;\n",
              "      height: 32px;\n",
              "      padding: 0 0 0 0;\n",
              "      width: 32px;\n",
              "    }\n",
              "\n",
              "    .colab-df-convert:hover {\n",
              "      background-color: #E2EBFA;\n",
              "      box-shadow: 0px 1px 2px rgba(60, 64, 67, 0.3), 0px 1px 3px 1px rgba(60, 64, 67, 0.15);\n",
              "      fill: #174EA6;\n",
              "    }\n",
              "\n",
              "    [theme=dark] .colab-df-convert {\n",
              "      background-color: #3B4455;\n",
              "      fill: #D2E3FC;\n",
              "    }\n",
              "\n",
              "    [theme=dark] .colab-df-convert:hover {\n",
              "      background-color: #434B5C;\n",
              "      box-shadow: 0px 1px 3px 1px rgba(0, 0, 0, 0.15);\n",
              "      filter: drop-shadow(0px 1px 2px rgba(0, 0, 0, 0.3));\n",
              "      fill: #FFFFFF;\n",
              "    }\n",
              "  </style>\n",
              "\n",
              "      <script>\n",
              "        const buttonEl =\n",
              "          document.querySelector('#df-9e1aa860-f682-4de4-9c41-4625e98169f0 button.colab-df-convert');\n",
              "        buttonEl.style.display =\n",
              "          google.colab.kernel.accessAllowed ? 'block' : 'none';\n",
              "\n",
              "        async function convertToInteractive(key) {\n",
              "          const element = document.querySelector('#df-9e1aa860-f682-4de4-9c41-4625e98169f0');\n",
              "          const dataTable =\n",
              "            await google.colab.kernel.invokeFunction('convertToInteractive',\n",
              "                                                     [key], {});\n",
              "          if (!dataTable) return;\n",
              "\n",
              "          const docLinkHtml = 'Like what you see? Visit the ' +\n",
              "            '<a target=\"_blank\" href=https://colab.research.google.com/notebooks/data_table.ipynb>data table notebook</a>'\n",
              "            + ' to learn more about interactive tables.';\n",
              "          element.innerHTML = '';\n",
              "          dataTable['output_type'] = 'display_data';\n",
              "          await google.colab.output.renderOutput(dataTable, element);\n",
              "          const docLink = document.createElement('div');\n",
              "          docLink.innerHTML = docLinkHtml;\n",
              "          element.appendChild(docLink);\n",
              "        }\n",
              "      </script>\n",
              "    </div>\n",
              "  </div>\n",
              "  "
            ]
          },
          "metadata": {},
          "execution_count": 143
        }
      ]
    },
    {
      "cell_type": "code",
      "source": [
        "errors = (forec_df.set_index([\"ticker\", \"obs_number\"]) - tst.set_index([\"ticker\", \"obs_number\"])).drop(columns=[\"close_price\", \"currency\", \"date\"]).dropna()"
      ],
      "metadata": {
        "id": "wCb9tGX9nfgR"
      },
      "execution_count": null,
      "outputs": []
    },
    {
      "cell_type": "code",
      "source": [
        "errors.abs().groupby(\"ticker\").mean().mean()"
      ],
      "metadata": {
        "colab": {
          "base_uri": "https://localhost:8080/"
        },
        "id": "aPh5sNlgkhnh",
        "outputId": "09b24305-95d6-45ac-8e9c-e72d4492b3a6"
      },
      "execution_count": null,
      "outputs": [
        {
          "output_type": "execute_result",
          "data": {
            "text/plain": [
              "market_cap    3.680191e+08\n",
              "dtype: float64"
            ]
          },
          "metadata": {},
          "execution_count": 164
        }
      ]
    },
    {
      "cell_type": "code",
      "source": [
        ""
      ],
      "metadata": {
        "id": "Q8sCTlSuk-AT"
      },
      "execution_count": null,
      "outputs": []
    }
  ]
}