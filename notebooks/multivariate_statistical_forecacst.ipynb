{
  "nbformat": 4,
  "nbformat_minor": 0,
  "metadata": {
    "colab": {
      "name": "multivariate_statistical_forecacst.ipynb",
      "provenance": [],
      "collapsed_sections": [
        "5SjJBQhRLym1",
        "_1jtFktEISDY"
      ],
      "toc_visible": true,
      "machine_shape": "hm",
      "include_colab_link": true
    },
    "kernelspec": {
      "name": "python3",
      "display_name": "Python 3"
    },
    "language_info": {
      "name": "python"
    },
    "widgets": {
      "application/vnd.jupyter.widget-state+json": {
        "2fe99dfa34124fafb0260717bcb86351": {
          "model_module": "@jupyter-widgets/controls",
          "model_name": "VBoxModel",
          "model_module_version": "1.5.0",
          "state": {
            "_dom_classes": [],
            "_model_module": "@jupyter-widgets/controls",
            "_model_module_version": "1.5.0",
            "_model_name": "VBoxModel",
            "_view_count": null,
            "_view_module": "@jupyter-widgets/controls",
            "_view_module_version": "1.5.0",
            "_view_name": "VBoxView",
            "box_style": "",
            "children": [
              "IPY_MODEL_2e94a77b933a42638d540a0e5c62f9c4",
              "IPY_MODEL_16274c2f9306419ebbcdb5b66169e23a"
            ],
            "layout": "IPY_MODEL_93ebc1119b1b4003a08164c1287121fe"
          }
        },
        "2e94a77b933a42638d540a0e5c62f9c4": {
          "model_module": "@jupyter-widgets/controls",
          "model_name": "LabelModel",
          "model_module_version": "1.5.0",
          "state": {
            "_dom_classes": [],
            "_model_module": "@jupyter-widgets/controls",
            "_model_module_version": "1.5.0",
            "_model_name": "LabelModel",
            "_view_count": null,
            "_view_module": "@jupyter-widgets/controls",
            "_view_module_version": "1.5.0",
            "_view_name": "LabelView",
            "description": "",
            "description_tooltip": null,
            "layout": "IPY_MODEL_565c1663c2e843c6961d14afb69fc49e",
            "placeholder": "​",
            "style": "IPY_MODEL_a355a72efca94c888f3d7dc0834eafba",
            "value": "97.318 MB of 97.318 MB uploaded (0.000 MB deduped)\r"
          }
        },
        "16274c2f9306419ebbcdb5b66169e23a": {
          "model_module": "@jupyter-widgets/controls",
          "model_name": "FloatProgressModel",
          "model_module_version": "1.5.0",
          "state": {
            "_dom_classes": [],
            "_model_module": "@jupyter-widgets/controls",
            "_model_module_version": "1.5.0",
            "_model_name": "FloatProgressModel",
            "_view_count": null,
            "_view_module": "@jupyter-widgets/controls",
            "_view_module_version": "1.5.0",
            "_view_name": "ProgressView",
            "bar_style": "",
            "description": "",
            "description_tooltip": null,
            "layout": "IPY_MODEL_72fc2c1601984a51a53975b889920603",
            "max": 1,
            "min": 0,
            "orientation": "horizontal",
            "style": "IPY_MODEL_962e2ea358aa4b46a592853869e9e2b6",
            "value": 1
          }
        },
        "93ebc1119b1b4003a08164c1287121fe": {
          "model_module": "@jupyter-widgets/base",
          "model_name": "LayoutModel",
          "model_module_version": "1.2.0",
          "state": {
            "_model_module": "@jupyter-widgets/base",
            "_model_module_version": "1.2.0",
            "_model_name": "LayoutModel",
            "_view_count": null,
            "_view_module": "@jupyter-widgets/base",
            "_view_module_version": "1.2.0",
            "_view_name": "LayoutView",
            "align_content": null,
            "align_items": null,
            "align_self": null,
            "border": null,
            "bottom": null,
            "display": null,
            "flex": null,
            "flex_flow": null,
            "grid_area": null,
            "grid_auto_columns": null,
            "grid_auto_flow": null,
            "grid_auto_rows": null,
            "grid_column": null,
            "grid_gap": null,
            "grid_row": null,
            "grid_template_areas": null,
            "grid_template_columns": null,
            "grid_template_rows": null,
            "height": null,
            "justify_content": null,
            "justify_items": null,
            "left": null,
            "margin": null,
            "max_height": null,
            "max_width": null,
            "min_height": null,
            "min_width": null,
            "object_fit": null,
            "object_position": null,
            "order": null,
            "overflow": null,
            "overflow_x": null,
            "overflow_y": null,
            "padding": null,
            "right": null,
            "top": null,
            "visibility": null,
            "width": null
          }
        },
        "565c1663c2e843c6961d14afb69fc49e": {
          "model_module": "@jupyter-widgets/base",
          "model_name": "LayoutModel",
          "model_module_version": "1.2.0",
          "state": {
            "_model_module": "@jupyter-widgets/base",
            "_model_module_version": "1.2.0",
            "_model_name": "LayoutModel",
            "_view_count": null,
            "_view_module": "@jupyter-widgets/base",
            "_view_module_version": "1.2.0",
            "_view_name": "LayoutView",
            "align_content": null,
            "align_items": null,
            "align_self": null,
            "border": null,
            "bottom": null,
            "display": null,
            "flex": null,
            "flex_flow": null,
            "grid_area": null,
            "grid_auto_columns": null,
            "grid_auto_flow": null,
            "grid_auto_rows": null,
            "grid_column": null,
            "grid_gap": null,
            "grid_row": null,
            "grid_template_areas": null,
            "grid_template_columns": null,
            "grid_template_rows": null,
            "height": null,
            "justify_content": null,
            "justify_items": null,
            "left": null,
            "margin": null,
            "max_height": null,
            "max_width": null,
            "min_height": null,
            "min_width": null,
            "object_fit": null,
            "object_position": null,
            "order": null,
            "overflow": null,
            "overflow_x": null,
            "overflow_y": null,
            "padding": null,
            "right": null,
            "top": null,
            "visibility": null,
            "width": null
          }
        },
        "a355a72efca94c888f3d7dc0834eafba": {
          "model_module": "@jupyter-widgets/controls",
          "model_name": "DescriptionStyleModel",
          "model_module_version": "1.5.0",
          "state": {
            "_model_module": "@jupyter-widgets/controls",
            "_model_module_version": "1.5.0",
            "_model_name": "DescriptionStyleModel",
            "_view_count": null,
            "_view_module": "@jupyter-widgets/base",
            "_view_module_version": "1.2.0",
            "_view_name": "StyleView",
            "description_width": ""
          }
        },
        "72fc2c1601984a51a53975b889920603": {
          "model_module": "@jupyter-widgets/base",
          "model_name": "LayoutModel",
          "model_module_version": "1.2.0",
          "state": {
            "_model_module": "@jupyter-widgets/base",
            "_model_module_version": "1.2.0",
            "_model_name": "LayoutModel",
            "_view_count": null,
            "_view_module": "@jupyter-widgets/base",
            "_view_module_version": "1.2.0",
            "_view_name": "LayoutView",
            "align_content": null,
            "align_items": null,
            "align_self": null,
            "border": null,
            "bottom": null,
            "display": null,
            "flex": null,
            "flex_flow": null,
            "grid_area": null,
            "grid_auto_columns": null,
            "grid_auto_flow": null,
            "grid_auto_rows": null,
            "grid_column": null,
            "grid_gap": null,
            "grid_row": null,
            "grid_template_areas": null,
            "grid_template_columns": null,
            "grid_template_rows": null,
            "height": null,
            "justify_content": null,
            "justify_items": null,
            "left": null,
            "margin": null,
            "max_height": null,
            "max_width": null,
            "min_height": null,
            "min_width": null,
            "object_fit": null,
            "object_position": null,
            "order": null,
            "overflow": null,
            "overflow_x": null,
            "overflow_y": null,
            "padding": null,
            "right": null,
            "top": null,
            "visibility": null,
            "width": null
          }
        },
        "962e2ea358aa4b46a592853869e9e2b6": {
          "model_module": "@jupyter-widgets/controls",
          "model_name": "ProgressStyleModel",
          "model_module_version": "1.5.0",
          "state": {
            "_model_module": "@jupyter-widgets/controls",
            "_model_module_version": "1.5.0",
            "_model_name": "ProgressStyleModel",
            "_view_count": null,
            "_view_module": "@jupyter-widgets/base",
            "_view_module_version": "1.2.0",
            "_view_name": "StyleView",
            "bar_color": null,
            "description_width": ""
          }
        },
        "570ba9e564e6464f904f06615245a636": {
          "model_module": "@jupyter-widgets/controls",
          "model_name": "VBoxModel",
          "model_module_version": "1.5.0",
          "state": {
            "_dom_classes": [],
            "_model_module": "@jupyter-widgets/controls",
            "_model_module_version": "1.5.0",
            "_model_name": "VBoxModel",
            "_view_count": null,
            "_view_module": "@jupyter-widgets/controls",
            "_view_module_version": "1.5.0",
            "_view_name": "VBoxView",
            "box_style": "",
            "children": [
              "IPY_MODEL_9ff0e6f120344deeb9f46f59950c2f19",
              "IPY_MODEL_f630918d0f3746618d1132a4c6fe9ada"
            ],
            "layout": "IPY_MODEL_29a83a27535544e983a9f55272c95f1c"
          }
        },
        "9ff0e6f120344deeb9f46f59950c2f19": {
          "model_module": "@jupyter-widgets/controls",
          "model_name": "LabelModel",
          "model_module_version": "1.5.0",
          "state": {
            "_dom_classes": [],
            "_model_module": "@jupyter-widgets/controls",
            "_model_module_version": "1.5.0",
            "_model_name": "LabelModel",
            "_view_count": null,
            "_view_module": "@jupyter-widgets/controls",
            "_view_module_version": "1.5.0",
            "_view_name": "LabelView",
            "description": "",
            "description_tooltip": null,
            "layout": "IPY_MODEL_10292300a7d148ff9d8bde0245c97b57",
            "placeholder": "​",
            "style": "IPY_MODEL_2210a3e2aaad4a42a477de9ce8c8138b",
            "value": "0.008 MB of 0.008 MB uploaded (0.000 MB deduped)\r"
          }
        },
        "f630918d0f3746618d1132a4c6fe9ada": {
          "model_module": "@jupyter-widgets/controls",
          "model_name": "FloatProgressModel",
          "model_module_version": "1.5.0",
          "state": {
            "_dom_classes": [],
            "_model_module": "@jupyter-widgets/controls",
            "_model_module_version": "1.5.0",
            "_model_name": "FloatProgressModel",
            "_view_count": null,
            "_view_module": "@jupyter-widgets/controls",
            "_view_module_version": "1.5.0",
            "_view_name": "ProgressView",
            "bar_style": "",
            "description": "",
            "description_tooltip": null,
            "layout": "IPY_MODEL_3d1fbced54184b9cbd598ccfabf29a4a",
            "max": 1,
            "min": 0,
            "orientation": "horizontal",
            "style": "IPY_MODEL_8afb6388d2be4e30a1137072d9d26502",
            "value": 1
          }
        },
        "29a83a27535544e983a9f55272c95f1c": {
          "model_module": "@jupyter-widgets/base",
          "model_name": "LayoutModel",
          "model_module_version": "1.2.0",
          "state": {
            "_model_module": "@jupyter-widgets/base",
            "_model_module_version": "1.2.0",
            "_model_name": "LayoutModel",
            "_view_count": null,
            "_view_module": "@jupyter-widgets/base",
            "_view_module_version": "1.2.0",
            "_view_name": "LayoutView",
            "align_content": null,
            "align_items": null,
            "align_self": null,
            "border": null,
            "bottom": null,
            "display": null,
            "flex": null,
            "flex_flow": null,
            "grid_area": null,
            "grid_auto_columns": null,
            "grid_auto_flow": null,
            "grid_auto_rows": null,
            "grid_column": null,
            "grid_gap": null,
            "grid_row": null,
            "grid_template_areas": null,
            "grid_template_columns": null,
            "grid_template_rows": null,
            "height": null,
            "justify_content": null,
            "justify_items": null,
            "left": null,
            "margin": null,
            "max_height": null,
            "max_width": null,
            "min_height": null,
            "min_width": null,
            "object_fit": null,
            "object_position": null,
            "order": null,
            "overflow": null,
            "overflow_x": null,
            "overflow_y": null,
            "padding": null,
            "right": null,
            "top": null,
            "visibility": null,
            "width": null
          }
        },
        "10292300a7d148ff9d8bde0245c97b57": {
          "model_module": "@jupyter-widgets/base",
          "model_name": "LayoutModel",
          "model_module_version": "1.2.0",
          "state": {
            "_model_module": "@jupyter-widgets/base",
            "_model_module_version": "1.2.0",
            "_model_name": "LayoutModel",
            "_view_count": null,
            "_view_module": "@jupyter-widgets/base",
            "_view_module_version": "1.2.0",
            "_view_name": "LayoutView",
            "align_content": null,
            "align_items": null,
            "align_self": null,
            "border": null,
            "bottom": null,
            "display": null,
            "flex": null,
            "flex_flow": null,
            "grid_area": null,
            "grid_auto_columns": null,
            "grid_auto_flow": null,
            "grid_auto_rows": null,
            "grid_column": null,
            "grid_gap": null,
            "grid_row": null,
            "grid_template_areas": null,
            "grid_template_columns": null,
            "grid_template_rows": null,
            "height": null,
            "justify_content": null,
            "justify_items": null,
            "left": null,
            "margin": null,
            "max_height": null,
            "max_width": null,
            "min_height": null,
            "min_width": null,
            "object_fit": null,
            "object_position": null,
            "order": null,
            "overflow": null,
            "overflow_x": null,
            "overflow_y": null,
            "padding": null,
            "right": null,
            "top": null,
            "visibility": null,
            "width": null
          }
        },
        "2210a3e2aaad4a42a477de9ce8c8138b": {
          "model_module": "@jupyter-widgets/controls",
          "model_name": "DescriptionStyleModel",
          "model_module_version": "1.5.0",
          "state": {
            "_model_module": "@jupyter-widgets/controls",
            "_model_module_version": "1.5.0",
            "_model_name": "DescriptionStyleModel",
            "_view_count": null,
            "_view_module": "@jupyter-widgets/base",
            "_view_module_version": "1.2.0",
            "_view_name": "StyleView",
            "description_width": ""
          }
        },
        "3d1fbced54184b9cbd598ccfabf29a4a": {
          "model_module": "@jupyter-widgets/base",
          "model_name": "LayoutModel",
          "model_module_version": "1.2.0",
          "state": {
            "_model_module": "@jupyter-widgets/base",
            "_model_module_version": "1.2.0",
            "_model_name": "LayoutModel",
            "_view_count": null,
            "_view_module": "@jupyter-widgets/base",
            "_view_module_version": "1.2.0",
            "_view_name": "LayoutView",
            "align_content": null,
            "align_items": null,
            "align_self": null,
            "border": null,
            "bottom": null,
            "display": null,
            "flex": null,
            "flex_flow": null,
            "grid_area": null,
            "grid_auto_columns": null,
            "grid_auto_flow": null,
            "grid_auto_rows": null,
            "grid_column": null,
            "grid_gap": null,
            "grid_row": null,
            "grid_template_areas": null,
            "grid_template_columns": null,
            "grid_template_rows": null,
            "height": null,
            "justify_content": null,
            "justify_items": null,
            "left": null,
            "margin": null,
            "max_height": null,
            "max_width": null,
            "min_height": null,
            "min_width": null,
            "object_fit": null,
            "object_position": null,
            "order": null,
            "overflow": null,
            "overflow_x": null,
            "overflow_y": null,
            "padding": null,
            "right": null,
            "top": null,
            "visibility": null,
            "width": null
          }
        },
        "8afb6388d2be4e30a1137072d9d26502": {
          "model_module": "@jupyter-widgets/controls",
          "model_name": "ProgressStyleModel",
          "model_module_version": "1.5.0",
          "state": {
            "_model_module": "@jupyter-widgets/controls",
            "_model_module_version": "1.5.0",
            "_model_name": "ProgressStyleModel",
            "_view_count": null,
            "_view_module": "@jupyter-widgets/base",
            "_view_module_version": "1.2.0",
            "_view_name": "StyleView",
            "bar_color": null,
            "description_width": ""
          }
        },
        "d7ff58614a434bef90bf9298082c0530": {
          "model_module": "@jupyter-widgets/controls",
          "model_name": "VBoxModel",
          "model_module_version": "1.5.0",
          "state": {
            "_dom_classes": [],
            "_model_module": "@jupyter-widgets/controls",
            "_model_module_version": "1.5.0",
            "_model_name": "VBoxModel",
            "_view_count": null,
            "_view_module": "@jupyter-widgets/controls",
            "_view_module_version": "1.5.0",
            "_view_name": "VBoxView",
            "box_style": "",
            "children": [
              "IPY_MODEL_93a360276f4a47479c54b0ffb45acc73",
              "IPY_MODEL_689259ad75524e22841c4499fcdf1dc4"
            ],
            "layout": "IPY_MODEL_ce3a5ae7699f405388209d8f2dc9d59a"
          }
        },
        "93a360276f4a47479c54b0ffb45acc73": {
          "model_module": "@jupyter-widgets/controls",
          "model_name": "LabelModel",
          "model_module_version": "1.5.0",
          "state": {
            "_dom_classes": [],
            "_model_module": "@jupyter-widgets/controls",
            "_model_module_version": "1.5.0",
            "_model_name": "LabelModel",
            "_view_count": null,
            "_view_module": "@jupyter-widgets/controls",
            "_view_module_version": "1.5.0",
            "_view_name": "LabelView",
            "description": "",
            "description_tooltip": null,
            "layout": "IPY_MODEL_a729ac5bc8584fe9ac5010785f3dedca",
            "placeholder": "​",
            "style": "IPY_MODEL_42e0303f66ea422cb0cf4b9cdd11e6ec",
            "value": "0.179 MB of 0.179 MB uploaded (0.000 MB deduped)\r"
          }
        },
        "689259ad75524e22841c4499fcdf1dc4": {
          "model_module": "@jupyter-widgets/controls",
          "model_name": "FloatProgressModel",
          "model_module_version": "1.5.0",
          "state": {
            "_dom_classes": [],
            "_model_module": "@jupyter-widgets/controls",
            "_model_module_version": "1.5.0",
            "_model_name": "FloatProgressModel",
            "_view_count": null,
            "_view_module": "@jupyter-widgets/controls",
            "_view_module_version": "1.5.0",
            "_view_name": "ProgressView",
            "bar_style": "",
            "description": "",
            "description_tooltip": null,
            "layout": "IPY_MODEL_1555fd015ccf48488c6c3f378d8a5fcb",
            "max": 1,
            "min": 0,
            "orientation": "horizontal",
            "style": "IPY_MODEL_365e7bf1ae4048cdbfac4d369961f7fd",
            "value": 1
          }
        },
        "ce3a5ae7699f405388209d8f2dc9d59a": {
          "model_module": "@jupyter-widgets/base",
          "model_name": "LayoutModel",
          "model_module_version": "1.2.0",
          "state": {
            "_model_module": "@jupyter-widgets/base",
            "_model_module_version": "1.2.0",
            "_model_name": "LayoutModel",
            "_view_count": null,
            "_view_module": "@jupyter-widgets/base",
            "_view_module_version": "1.2.0",
            "_view_name": "LayoutView",
            "align_content": null,
            "align_items": null,
            "align_self": null,
            "border": null,
            "bottom": null,
            "display": null,
            "flex": null,
            "flex_flow": null,
            "grid_area": null,
            "grid_auto_columns": null,
            "grid_auto_flow": null,
            "grid_auto_rows": null,
            "grid_column": null,
            "grid_gap": null,
            "grid_row": null,
            "grid_template_areas": null,
            "grid_template_columns": null,
            "grid_template_rows": null,
            "height": null,
            "justify_content": null,
            "justify_items": null,
            "left": null,
            "margin": null,
            "max_height": null,
            "max_width": null,
            "min_height": null,
            "min_width": null,
            "object_fit": null,
            "object_position": null,
            "order": null,
            "overflow": null,
            "overflow_x": null,
            "overflow_y": null,
            "padding": null,
            "right": null,
            "top": null,
            "visibility": null,
            "width": null
          }
        },
        "a729ac5bc8584fe9ac5010785f3dedca": {
          "model_module": "@jupyter-widgets/base",
          "model_name": "LayoutModel",
          "model_module_version": "1.2.0",
          "state": {
            "_model_module": "@jupyter-widgets/base",
            "_model_module_version": "1.2.0",
            "_model_name": "LayoutModel",
            "_view_count": null,
            "_view_module": "@jupyter-widgets/base",
            "_view_module_version": "1.2.0",
            "_view_name": "LayoutView",
            "align_content": null,
            "align_items": null,
            "align_self": null,
            "border": null,
            "bottom": null,
            "display": null,
            "flex": null,
            "flex_flow": null,
            "grid_area": null,
            "grid_auto_columns": null,
            "grid_auto_flow": null,
            "grid_auto_rows": null,
            "grid_column": null,
            "grid_gap": null,
            "grid_row": null,
            "grid_template_areas": null,
            "grid_template_columns": null,
            "grid_template_rows": null,
            "height": null,
            "justify_content": null,
            "justify_items": null,
            "left": null,
            "margin": null,
            "max_height": null,
            "max_width": null,
            "min_height": null,
            "min_width": null,
            "object_fit": null,
            "object_position": null,
            "order": null,
            "overflow": null,
            "overflow_x": null,
            "overflow_y": null,
            "padding": null,
            "right": null,
            "top": null,
            "visibility": null,
            "width": null
          }
        },
        "42e0303f66ea422cb0cf4b9cdd11e6ec": {
          "model_module": "@jupyter-widgets/controls",
          "model_name": "DescriptionStyleModel",
          "model_module_version": "1.5.0",
          "state": {
            "_model_module": "@jupyter-widgets/controls",
            "_model_module_version": "1.5.0",
            "_model_name": "DescriptionStyleModel",
            "_view_count": null,
            "_view_module": "@jupyter-widgets/base",
            "_view_module_version": "1.2.0",
            "_view_name": "StyleView",
            "description_width": ""
          }
        },
        "1555fd015ccf48488c6c3f378d8a5fcb": {
          "model_module": "@jupyter-widgets/base",
          "model_name": "LayoutModel",
          "model_module_version": "1.2.0",
          "state": {
            "_model_module": "@jupyter-widgets/base",
            "_model_module_version": "1.2.0",
            "_model_name": "LayoutModel",
            "_view_count": null,
            "_view_module": "@jupyter-widgets/base",
            "_view_module_version": "1.2.0",
            "_view_name": "LayoutView",
            "align_content": null,
            "align_items": null,
            "align_self": null,
            "border": null,
            "bottom": null,
            "display": null,
            "flex": null,
            "flex_flow": null,
            "grid_area": null,
            "grid_auto_columns": null,
            "grid_auto_flow": null,
            "grid_auto_rows": null,
            "grid_column": null,
            "grid_gap": null,
            "grid_row": null,
            "grid_template_areas": null,
            "grid_template_columns": null,
            "grid_template_rows": null,
            "height": null,
            "justify_content": null,
            "justify_items": null,
            "left": null,
            "margin": null,
            "max_height": null,
            "max_width": null,
            "min_height": null,
            "min_width": null,
            "object_fit": null,
            "object_position": null,
            "order": null,
            "overflow": null,
            "overflow_x": null,
            "overflow_y": null,
            "padding": null,
            "right": null,
            "top": null,
            "visibility": null,
            "width": null
          }
        },
        "365e7bf1ae4048cdbfac4d369961f7fd": {
          "model_module": "@jupyter-widgets/controls",
          "model_name": "ProgressStyleModel",
          "model_module_version": "1.5.0",
          "state": {
            "_model_module": "@jupyter-widgets/controls",
            "_model_module_version": "1.5.0",
            "_model_name": "ProgressStyleModel",
            "_view_count": null,
            "_view_module": "@jupyter-widgets/base",
            "_view_module_version": "1.2.0",
            "_view_name": "StyleView",
            "bar_color": null,
            "description_width": ""
          }
        },
        "bef0eba2cd7648c99a0f1905a9d9f307": {
          "model_module": "@jupyter-widgets/controls",
          "model_name": "VBoxModel",
          "model_module_version": "1.5.0",
          "state": {
            "_dom_classes": [],
            "_model_module": "@jupyter-widgets/controls",
            "_model_module_version": "1.5.0",
            "_model_name": "VBoxModel",
            "_view_count": null,
            "_view_module": "@jupyter-widgets/controls",
            "_view_module_version": "1.5.0",
            "_view_name": "VBoxView",
            "box_style": "",
            "children": [
              "IPY_MODEL_bde1c2592c2f4a908433d85028397ab4",
              "IPY_MODEL_8555e42c9c2f440a88000f4420992251"
            ],
            "layout": "IPY_MODEL_0888dde3637a4a61bfb311e5139df6d4"
          }
        },
        "bde1c2592c2f4a908433d85028397ab4": {
          "model_module": "@jupyter-widgets/controls",
          "model_name": "LabelModel",
          "model_module_version": "1.5.0",
          "state": {
            "_dom_classes": [],
            "_model_module": "@jupyter-widgets/controls",
            "_model_module_version": "1.5.0",
            "_model_name": "LabelModel",
            "_view_count": null,
            "_view_module": "@jupyter-widgets/controls",
            "_view_module_version": "1.5.0",
            "_view_name": "LabelView",
            "description": "",
            "description_tooltip": null,
            "layout": "IPY_MODEL_f1741984e2ee4d59808e52aa6a369d9f",
            "placeholder": "​",
            "style": "IPY_MODEL_5c0ff7b10fd54412b0c9a3af7f50ff2e",
            "value": "0.008 MB of 0.008 MB uploaded (0.000 MB deduped)\r"
          }
        },
        "8555e42c9c2f440a88000f4420992251": {
          "model_module": "@jupyter-widgets/controls",
          "model_name": "FloatProgressModel",
          "model_module_version": "1.5.0",
          "state": {
            "_dom_classes": [],
            "_model_module": "@jupyter-widgets/controls",
            "_model_module_version": "1.5.0",
            "_model_name": "FloatProgressModel",
            "_view_count": null,
            "_view_module": "@jupyter-widgets/controls",
            "_view_module_version": "1.5.0",
            "_view_name": "ProgressView",
            "bar_style": "",
            "description": "",
            "description_tooltip": null,
            "layout": "IPY_MODEL_e63c2b32dd43496f97992e174e68245d",
            "max": 1,
            "min": 0,
            "orientation": "horizontal",
            "style": "IPY_MODEL_d14a4c39378f44ed868e596cd0fa5ab8",
            "value": 1
          }
        },
        "0888dde3637a4a61bfb311e5139df6d4": {
          "model_module": "@jupyter-widgets/base",
          "model_name": "LayoutModel",
          "model_module_version": "1.2.0",
          "state": {
            "_model_module": "@jupyter-widgets/base",
            "_model_module_version": "1.2.0",
            "_model_name": "LayoutModel",
            "_view_count": null,
            "_view_module": "@jupyter-widgets/base",
            "_view_module_version": "1.2.0",
            "_view_name": "LayoutView",
            "align_content": null,
            "align_items": null,
            "align_self": null,
            "border": null,
            "bottom": null,
            "display": null,
            "flex": null,
            "flex_flow": null,
            "grid_area": null,
            "grid_auto_columns": null,
            "grid_auto_flow": null,
            "grid_auto_rows": null,
            "grid_column": null,
            "grid_gap": null,
            "grid_row": null,
            "grid_template_areas": null,
            "grid_template_columns": null,
            "grid_template_rows": null,
            "height": null,
            "justify_content": null,
            "justify_items": null,
            "left": null,
            "margin": null,
            "max_height": null,
            "max_width": null,
            "min_height": null,
            "min_width": null,
            "object_fit": null,
            "object_position": null,
            "order": null,
            "overflow": null,
            "overflow_x": null,
            "overflow_y": null,
            "padding": null,
            "right": null,
            "top": null,
            "visibility": null,
            "width": null
          }
        },
        "f1741984e2ee4d59808e52aa6a369d9f": {
          "model_module": "@jupyter-widgets/base",
          "model_name": "LayoutModel",
          "model_module_version": "1.2.0",
          "state": {
            "_model_module": "@jupyter-widgets/base",
            "_model_module_version": "1.2.0",
            "_model_name": "LayoutModel",
            "_view_count": null,
            "_view_module": "@jupyter-widgets/base",
            "_view_module_version": "1.2.0",
            "_view_name": "LayoutView",
            "align_content": null,
            "align_items": null,
            "align_self": null,
            "border": null,
            "bottom": null,
            "display": null,
            "flex": null,
            "flex_flow": null,
            "grid_area": null,
            "grid_auto_columns": null,
            "grid_auto_flow": null,
            "grid_auto_rows": null,
            "grid_column": null,
            "grid_gap": null,
            "grid_row": null,
            "grid_template_areas": null,
            "grid_template_columns": null,
            "grid_template_rows": null,
            "height": null,
            "justify_content": null,
            "justify_items": null,
            "left": null,
            "margin": null,
            "max_height": null,
            "max_width": null,
            "min_height": null,
            "min_width": null,
            "object_fit": null,
            "object_position": null,
            "order": null,
            "overflow": null,
            "overflow_x": null,
            "overflow_y": null,
            "padding": null,
            "right": null,
            "top": null,
            "visibility": null,
            "width": null
          }
        },
        "5c0ff7b10fd54412b0c9a3af7f50ff2e": {
          "model_module": "@jupyter-widgets/controls",
          "model_name": "DescriptionStyleModel",
          "model_module_version": "1.5.0",
          "state": {
            "_model_module": "@jupyter-widgets/controls",
            "_model_module_version": "1.5.0",
            "_model_name": "DescriptionStyleModel",
            "_view_count": null,
            "_view_module": "@jupyter-widgets/base",
            "_view_module_version": "1.2.0",
            "_view_name": "StyleView",
            "description_width": ""
          }
        },
        "e63c2b32dd43496f97992e174e68245d": {
          "model_module": "@jupyter-widgets/base",
          "model_name": "LayoutModel",
          "model_module_version": "1.2.0",
          "state": {
            "_model_module": "@jupyter-widgets/base",
            "_model_module_version": "1.2.0",
            "_model_name": "LayoutModel",
            "_view_count": null,
            "_view_module": "@jupyter-widgets/base",
            "_view_module_version": "1.2.0",
            "_view_name": "LayoutView",
            "align_content": null,
            "align_items": null,
            "align_self": null,
            "border": null,
            "bottom": null,
            "display": null,
            "flex": null,
            "flex_flow": null,
            "grid_area": null,
            "grid_auto_columns": null,
            "grid_auto_flow": null,
            "grid_auto_rows": null,
            "grid_column": null,
            "grid_gap": null,
            "grid_row": null,
            "grid_template_areas": null,
            "grid_template_columns": null,
            "grid_template_rows": null,
            "height": null,
            "justify_content": null,
            "justify_items": null,
            "left": null,
            "margin": null,
            "max_height": null,
            "max_width": null,
            "min_height": null,
            "min_width": null,
            "object_fit": null,
            "object_position": null,
            "order": null,
            "overflow": null,
            "overflow_x": null,
            "overflow_y": null,
            "padding": null,
            "right": null,
            "top": null,
            "visibility": null,
            "width": null
          }
        },
        "d14a4c39378f44ed868e596cd0fa5ab8": {
          "model_module": "@jupyter-widgets/controls",
          "model_name": "ProgressStyleModel",
          "model_module_version": "1.5.0",
          "state": {
            "_model_module": "@jupyter-widgets/controls",
            "_model_module_version": "1.5.0",
            "_model_name": "ProgressStyleModel",
            "_view_count": null,
            "_view_module": "@jupyter-widgets/base",
            "_view_module_version": "1.2.0",
            "_view_name": "StyleView",
            "bar_color": null,
            "description_width": ""
          }
        }
      }
    }
  },
  "cells": [
    {
      "cell_type": "markdown",
      "metadata": {
        "id": "view-in-github",
        "colab_type": "text"
      },
      "source": [
        "<a href=\"https://colab.research.google.com/github/Krankile/npmf/blob/main/notebooks/multivariate_statistical_forecacst.ipynb\" target=\"_parent\"><img src=\"https://colab.research.google.com/assets/colab-badge.svg\" alt=\"Open In Colab\"/></a>"
      ]
    },
    {
      "cell_type": "markdown",
      "source": [
        "# Setup"
      ],
      "metadata": {
        "id": "d8F5tl4NL7FZ"
      }
    },
    {
      "cell_type": "markdown",
      "source": [
        "##Kernel setup"
      ],
      "metadata": {
        "id": "Rwo44VGZLhAo"
      }
    },
    {
      "cell_type": "code",
      "source": [
        "%load_ext autoreload\n",
        "%autoreload 2"
      ],
      "metadata": {
        "id": "hKuFzk7aEmB9"
      },
      "execution_count": 1,
      "outputs": []
    },
    {
      "cell_type": "code",
      "source": [
        "%%capture\n",
        "!git clone https://github.com/Krankile/npmf.git\n",
        "!pip install wandb\n",
        "!pip install pmdarima"
      ],
      "metadata": {
        "id": "91KPY7q0LUOw"
      },
      "execution_count": 2,
      "outputs": []
    },
    {
      "cell_type": "code",
      "source": [
        "!wandb login"
      ],
      "metadata": {
        "colab": {
          "base_uri": "https://localhost:8080/"
        },
        "id": "zLr0RXyY3WaA",
        "outputId": "31e19449-80c6-4034-c47c-47ccd16b181d"
      },
      "execution_count": 3,
      "outputs": [
        {
          "output_type": "stream",
          "name": "stdout",
          "text": [
            "\u001b[34m\u001b[1mwandb\u001b[0m: You can find your API key in your browser here: https://wandb.ai/authorize\n",
            "\u001b[34m\u001b[1mwandb\u001b[0m: Paste an API key from your profile and hit enter, or press ctrl+c to quit: \n",
            "\u001b[34m\u001b[1mwandb\u001b[0m: Appending key for api.wandb.ai to your netrc file: /root/.netrc\n"
          ]
        }
      ]
    },
    {
      "cell_type": "markdown",
      "source": [
        "##General setup"
      ],
      "metadata": {
        "id": "CLAlA0htLgMY"
      }
    },
    {
      "cell_type": "code",
      "source": [
        "%%capture\n",
        "!cd npmf && git pull\n",
        "\n",
        "import os\n",
        "import pickle\n",
        "from collections import defaultdict\n",
        "from datetime import datetime\n",
        "from operator import itemgetter\n",
        "\n",
        "import numpy as np\n",
        "from numpy.ma.core import outerproduct\n",
        "import pandas as pd\n",
        "import matplotlib as mpl\n",
        "import matplotlib.pyplot as plt\n",
        "from tqdm import tqdm\n",
        "\n",
        "import pmdarima as pm\n",
        "\n",
        "import wandb as wb\n",
        "\n",
        "import torch\n",
        "from torch import nn\n",
        "from torch.utils.data import DataLoader\n",
        "from torchvision import datasets, transforms\n",
        "\n",
        "from npmf.utils.colors import main, main2, main3\n",
        "from npmf.utils.wandb import get_dataset, put_dataset, put_models, get_models\n",
        "from npmf.utils.data import test_start_pd, get_1_month_test_set, get_train_set\n",
        "from npmf.utils.measurement import mape\n",
        "from npmf.utils.eikon import col_map_macro"
      ],
      "metadata": {
        "id": "1QSlgObXLq1p"
      },
      "execution_count": 4,
      "outputs": []
    },
    {
      "cell_type": "code",
      "source": [
        "mpl.rcParams['axes.prop_cycle'] = mpl.cycler(color=[main, main2, main3, \"black\"])\n",
        "mpl.rcParams['figure.figsize'] = (12, 4)  # (6, 4) is default and used in the paper\n",
        "pd.DataFrame.np = lambda self: self.to_numpy()\n",
        "pd.Series.np = lambda self: self.to_numpy()"
      ],
      "metadata": {
        "id": "hkTjKKLmLvpl"
      },
      "execution_count": 5,
      "outputs": []
    },
    {
      "cell_type": "code",
      "source": [
        "device = \"cuda\" if torch.cuda.is_available() else \"cpu\"\n",
        "print(f\"Using {device} device\")"
      ],
      "metadata": {
        "colab": {
          "base_uri": "https://localhost:8080/"
        },
        "id": "Dqy02oAvY7GM",
        "outputId": "bc426fa6-cefa-4982-bccd-83f1deb192e0"
      },
      "execution_count": 6,
      "outputs": [
        {
          "output_type": "stream",
          "name": "stdout",
          "text": [
            "Using cpu device\n"
          ]
        }
      ]
    },
    {
      "cell_type": "code",
      "source": [
        "np.random.seed(420)"
      ],
      "metadata": {
        "id": "YVFtfDk0pYtd"
      },
      "execution_count": 7,
      "outputs": []
    },
    {
      "cell_type": "code",
      "source": [
        "def plot_market_cap(df):\n",
        "    plt.plot(df.date.to_numpy(), df.market_cap.to_numpy())"
      ],
      "metadata": {
        "id": "J3sm9o2uCQ0P"
      },
      "execution_count": 8,
      "outputs": []
    },
    {
      "cell_type": "markdown",
      "source": [
        "# Initial validation on synthetic data\n",
        "\n"
      ],
      "metadata": {
        "id": "5SjJBQhRLym1"
      }
    },
    {
      "cell_type": "code",
      "source": [
        "mod = pm.arima.AutoARIMA(seasonal=False)\n",
        "\n",
        "xs = np.linspace(0, 10, 100)\n",
        "ys = np.sin(xs)\n",
        "\n",
        "\n",
        "mod.fit(ys[:-50])\n",
        "\n",
        "fs = mod.predict(50)\n",
        "\n",
        "plt.plot(xs[:-50], ys[:-50])\n",
        "plt.plot(xs[-50:], fs)"
      ],
      "metadata": {
        "colab": {
          "base_uri": "https://localhost:8080/"
        },
        "id": "eDFLM7Fs1HmL",
        "outputId": "2f4dce96-eea9-4af8-9d26-a9c8fde7d7ac"
      },
      "execution_count": null,
      "outputs": [
        {
          "output_type": "execute_result",
          "data": {
            "text/plain": [
              "[<matplotlib.lines.Line2D at 0x7f00f0657750>]"
            ]
          },
          "metadata": {},
          "execution_count": 12
        },
        {
          "output_type": "display_data",
          "data": {
            "text/plain": [
              "<Figure size 864x288 with 1 Axes>"
            ],
            "image/png": "[encoded data removed]"
          },
          "metadata": {
            "needs_background": "light"
          }
        }
      ]
    },
    {
      "cell_type": "code",
      "source": [
        "def plot_pred(ax, xs, ys, f1, f2):\n",
        "\n",
        "    ax.plot(xs, ys)\n",
        "    ax.plot(xs, f1, linestyle=\"-.\")\n",
        "    ax.plot(10 + xs, f2, linestyle=\"-.\", color=main2)"
      ],
      "metadata": {
        "id": "UiNbAyCA8MUB"
      },
      "execution_count": null,
      "outputs": []
    },
    {
      "cell_type": "code",
      "source": [
        "mod = pm.arima.AutoARIMA(seasonal=False)\n",
        "xs = np.linspace(0, 10, 100)\n",
        "x1 = np.concatenate((np.zeros(50), np.ones(50)))\n",
        "ys = np.sin(xs) + 2 * x1\n",
        "fig, (ax1, ax2, ax3) = plt.subplots(ncols=3)\n",
        "\n",
        "mod.fit(ys)\n",
        "f1 = mod.predict_in_sample()\n",
        "f2 = mod.predict(100)\n",
        "plot_pred(ax1, xs, ys, f1, f2)\n",
        "\n",
        "mod.fit(ys, x1.reshape((100, 1)))\n",
        "f1 = mod.predict_in_sample(x1.reshape((100, 1)))\n",
        "f2 = mod.predict(100, np.zeros((100, 1)))\n",
        "plot_pred(ax2, xs, ys, f1, f2)\n",
        "\n",
        "mod.fit(ys, x1.reshape((100, 1)))\n",
        "f1 = mod.predict_in_sample(x1.reshape((100, 1)))\n",
        "f2 = mod.predict(100, np.ones((100, 1)))\n",
        "plot_pred(ax3, xs, ys, f1, f2)\n",
        "\n",
        "ax2.axes.yaxis.set_visible(False)\n",
        "ax3.axes.yaxis.set_visible(False)"
      ],
      "metadata": {
        "colab": {
          "base_uri": "https://localhost:8080/"
        },
        "id": "3IC7rbCI4AN1",
        "outputId": "451ebc92-c7f6-49db-a6f1-4e2a7a0be138"
      },
      "execution_count": null,
      "outputs": [
        {
          "output_type": "stream",
          "name": "stderr",
          "text": [
            "/usr/local/lib/python3.7/dist-packages/pmdarima/arima/arima.py:692: UserWarning: As of version 1.5.0 'typ' is no longer a valid arg for predict. In future versions this will raise a TypeError.\n",
            "  warnings.warn(\"As of version 1.5.0 'typ' is no longer a valid \"\n",
            "/usr/local/lib/python3.7/dist-packages/pmdarima/arima/arima.py:692: UserWarning: As of version 1.5.0 'typ' is no longer a valid arg for predict. In future versions this will raise a TypeError.\n",
            "  warnings.warn(\"As of version 1.5.0 'typ' is no longer a valid \"\n",
            "/usr/local/lib/python3.7/dist-packages/pmdarima/arima/arima.py:692: UserWarning: As of version 1.5.0 'typ' is no longer a valid arg for predict. In future versions this will raise a TypeError.\n",
            "  warnings.warn(\"As of version 1.5.0 'typ' is no longer a valid \"\n"
          ]
        },
        {
          "output_type": "display_data",
          "data": {
            "text/plain": [
              "<Figure size 864x288 with 3 Axes>"
            ],
            "image/png": "[encoded data removed]"
          },
          "metadata": {
            "needs_background": "light"
          }
        }
      ]
    },
    {
      "cell_type": "markdown",
      "source": [
        "# Fit ARIMAX for all tickers"
      ],
      "metadata": {
        "id": "FsJV4xFoGqbi"
      }
    },
    {
      "cell_type": "markdown",
      "source": [
        "## Get data and prepare"
      ],
      "metadata": {
        "id": "O4PLM4sHHc_n"
      }
    },
    {
      "cell_type": "markdown",
      "source": [
        "### Download from WandB"
      ],
      "metadata": {
        "id": "sNpN-vwBNxcy"
      }
    },
    {
      "cell_type": "code",
      "source": [
        "%%capture\n",
        "all_stck = get_dataset(\"stock-oil-final:v4\", \"master-test\").set_index([\"ticker\", \"date\"]).sort_index()\n",
        "all_fund = (\n",
        "    get_dataset(\"fundamentals-oil-final:v4\", \"master-test\")\n",
        "    .astype(\n",
        "        {\n",
        "            \"date\": np.datetime64,\n",
        "            \"period_end_date\": np.datetime64,\n",
        "            \"announce_date\": np.datetime64,\n",
        "        }\n",
        "    )\n",
        "    .set_index([\"ticker\", \"announce_date\"])\n",
        "    .drop(columns=[\"period_end_date\"])\n",
        "    .sort_index()\n",
        ")\n",
        "all_macro = get_dataset(\"macro-oil-final:v1\", \"master-test\").set_index(\"date\").sort_index().rename(columns=col_map_macro)"
      ],
      "metadata": {
        "id": "ZCN9ZwLBHcIh"
      },
      "execution_count": 46,
      "outputs": []
    },
    {
      "cell_type": "code",
      "source": [
        "print(f\"Shape stock: {all_stck.shape}, shape fundamental: {all_fund.shape}, shape macro: {all_macro.shape}\")"
      ],
      "metadata": {
        "colab": {
          "base_uri": "https://localhost:8080/"
        },
        "id": "eXJ_wCIZITyq",
        "outputId": "c072fa8a-b129-49d8-b8eb-26cf6e04d4a4"
      },
      "execution_count": 47,
      "outputs": [
        {
          "output_type": "stream",
          "name": "stdout",
          "text": [
            "Shape stock: (3206180, 3), shape fundamental: (41580, 17), shape macro: (5818, 8)\n"
          ]
        }
      ]
    },
    {
      "cell_type": "markdown",
      "source": [
        "### Process fundamental and stock data"
      ],
      "metadata": {
        "id": "GTclyuhQN0Do"
      }
    },
    {
      "cell_type": "code",
      "source": [
        "all_stck = all_stck[~all_stck.index.duplicated(keep=\"first\")]\n",
        "all_stck.shape"
      ],
      "metadata": {
        "colab": {
          "base_uri": "https://localhost:8080/"
        },
        "id": "Fgk2_LqrN8sR",
        "outputId": "2e83db58-9132-4f1c-f37e-54ba49b6890d"
      },
      "execution_count": 48,
      "outputs": [
        {
          "output_type": "execute_result",
          "data": {
            "text/plain": [
              "(3180722, 3)"
            ]
          },
          "metadata": {},
          "execution_count": 48
        }
      ]
    },
    {
      "cell_type": "code",
      "source": [
        "all_fund = all_fund[~all_fund.index.duplicated(keep=\"last\")]\n",
        "all_fund.shape"
      ],
      "metadata": {
        "colab": {
          "base_uri": "https://localhost:8080/"
        },
        "id": "fbcaBuNMM_bu",
        "outputId": "6884a5d0-ab0e-4c60-ba75-374ce8f429bf"
      },
      "execution_count": 49,
      "outputs": [
        {
          "output_type": "execute_result",
          "data": {
            "text/plain": [
              "(38419, 17)"
            ]
          },
          "metadata": {},
          "execution_count": 49
        }
      ]
    },
    {
      "cell_type": "code",
      "source": [
        "len(set(all_fund.index.levels[0]) | set(all_stck.index.levels[0])) - len(set(all_fund.index.levels[0]) & set(all_stck.index.levels[0]))"
      ],
      "metadata": {
        "colab": {
          "base_uri": "https://localhost:8080/"
        },
        "id": "F-4K7IWIP2dc",
        "outputId": "e4b91379-f93d-467e-f4ae-d21635e59f06"
      },
      "execution_count": 50,
      "outputs": [
        {
          "output_type": "execute_result",
          "data": {
            "text/plain": [
              "0"
            ]
          },
          "metadata": {},
          "execution_count": 50
        }
      ]
    },
    {
      "cell_type": "code",
      "source": [
        "tickers = all_fund.index.levels[0]"
      ],
      "metadata": {
        "id": "QTtlYN9aQXH2"
      },
      "execution_count": 51,
      "outputs": []
    },
    {
      "cell_type": "code",
      "source": [
        "stck = all_stck[all_stck.index.get_level_values(1) < test_start_pd]\n",
        "fund = all_fund[all_fund.index.get_level_values(1) < test_start_pd]\n",
        "macr = all_macro[all_macro.index < test_start_pd]"
      ],
      "metadata": {
        "id": "7JvX4ARlSXPZ"
      },
      "execution_count": 52,
      "outputs": []
    },
    {
      "cell_type": "markdown",
      "source": [
        "## Create the training procedure\n",
        "\n",
        "Create the procedure in such a way that it drops constant columns because they carry no actionable information and causes the ARIMAX model to crash epically."
      ],
      "metadata": {
        "id": "Jo51AJ2VN54Y"
      }
    },
    {
      "cell_type": "code",
      "source": [
        "models = dict()\n",
        "errors = []\n",
        "\n",
        "it = tqdm(tickers, desc=\"Training ARIMAX\", postfix=dict(errors=len(errors)))\n",
        "\n",
        "for ticker in it:\n",
        "    try:\n",
        "\n",
        "        s = stck.loc[(ticker,)]\n",
        "        f = fund.loc[(ticker,)]\n",
        "\n",
        "        s = (\n",
        "            s.join(f, how=\"left\", rsuffix=\"_fund\")\n",
        "            .join(macr, how=\"left\", rsuffix=\"_macr\")\n",
        "            .ffill()\n",
        "        )\n",
        "        s = s.iloc[-60:, :]\n",
        "\n",
        "        ys = s.market_cap\n",
        "        exs = s.drop(columns=[\"market_cap\", \"close_price\", \"currency\", \"date\"])\n",
        "        exs = exs.loc[:, exs.nunique() > 1].dropna()\n",
        "\n",
        "        ex_cols = exs.columns.to_list()\n",
        "\n",
        "        mod = pm.arima.AutoARIMA(seasonal=False, error_action=\"ignore\")\n",
        "        mod.fit(ys, exs.np())\n",
        "\n",
        "        models[ticker] = (mod, ex_cols)\n",
        "\n",
        "    except Exception as e:\n",
        "        errors.append((ticker, e))\n",
        "        it.set_postfix(dict(errors=len(errors)))"
      ],
      "metadata": {
        "id": "1rhSHQVrPzv0"
      },
      "execution_count": null,
      "outputs": []
    },
    {
      "cell_type": "markdown",
      "source": [
        "## Save the trained models to WandB"
      ],
      "metadata": {
        "id": "coxbSyY2SLvK"
      }
    },
    {
      "cell_type": "code",
      "source": [
        "filename = \"arimax-trained-1Q.pickle\"\n",
        "metadata = {\n",
        "    \"type\": \"ARIMAX\",\n",
        "    \"n_models\": len(models),\n",
        "    \"macro\": True,\n",
        "    \"fundamentals\": True,\n",
        "}\n",
        "\n",
        "put_models(filename, models, metadata)"
      ],
      "metadata": {
        "colab": {
          "base_uri": "https://localhost:8080/",
          "height": 141,
          "referenced_widgets": [
            "2fe99dfa34124fafb0260717bcb86351",
            "2e94a77b933a42638d540a0e5c62f9c4",
            "16274c2f9306419ebbcdb5b66169e23a",
            "93ebc1119b1b4003a08164c1287121fe",
            "565c1663c2e843c6961d14afb69fc49e",
            "a355a72efca94c888f3d7dc0834eafba",
            "72fc2c1601984a51a53975b889920603",
            "962e2ea358aa4b46a592853869e9e2b6"
          ]
        },
        "id": "nTpJtjz8VJMn",
        "outputId": "c7ee8091-59ea-41f5-f24c-b1e0b32768a4"
      },
      "execution_count": 171,
      "outputs": [
        {
          "output_type": "display_data",
          "data": {
            "text/plain": [
              "<IPython.core.display.HTML object>"
            ],
            "text/html": [
              "Tracking run with wandb version 0.12.16"
            ]
          },
          "metadata": {}
        },
        {
          "output_type": "display_data",
          "data": {
            "text/plain": [
              "<IPython.core.display.HTML object>"
            ],
            "text/html": [
              "Run data is saved locally in <code>/content/wandb/run-20220513_144124-4rd49fb7</code>"
            ]
          },
          "metadata": {}
        },
        {
          "output_type": "display_data",
          "data": {
            "text/plain": [
              "<IPython.core.display.HTML object>"
            ],
            "text/html": [
              "Syncing run <strong><a href=\"https://wandb.ai/krankile/master-test/runs/4rd49fb7\" target=\"_blank\">youthful-sky-242</a></strong> to <a href=\"https://wandb.ai/krankile/master-test\" target=\"_blank\">Weights & Biases</a> (<a href=\"https://wandb.me/run\" target=\"_blank\">docs</a>)<br/>"
            ]
          },
          "metadata": {}
        },
        {
          "output_type": "display_data",
          "data": {
            "text/plain": [
              "<IPython.core.display.HTML object>"
            ],
            "text/html": [
              "Waiting for W&B process to finish... <strong style=\"color:green\">(success).</strong>"
            ]
          },
          "metadata": {}
        },
        {
          "output_type": "display_data",
          "data": {
            "text/plain": [
              "VBox(children=(Label(value='97.310 MB of 97.310 MB uploaded (0.000 MB deduped)\\r'), FloatProgress(value=1.0, m…"
            ],
            "application/vnd.jupyter.widget-view+json": {
              "version_major": 2,
              "version_minor": 0,
              "model_id": "2fe99dfa34124fafb0260717bcb86351"
            }
          },
          "metadata": {}
        },
        {
          "output_type": "display_data",
          "data": {
            "text/plain": [
              "<IPython.core.display.HTML object>"
            ],
            "text/html": [
              "Synced <strong style=\"color:#cdcd00\">youthful-sky-242</strong>: <a href=\"https://wandb.ai/krankile/master-test/runs/4rd49fb7\" target=\"_blank\">https://wandb.ai/krankile/master-test/runs/4rd49fb7</a><br/>Synced 4 W&B file(s), 0 media file(s), 1 artifact file(s) and 0 other file(s)"
            ]
          },
          "metadata": {}
        },
        {
          "output_type": "display_data",
          "data": {
            "text/plain": [
              "<IPython.core.display.HTML object>"
            ],
            "text/html": [
              "Find logs at: <code>./wandb/run-20220513_144124-4rd49fb7/logs</code>"
            ]
          },
          "metadata": {}
        }
      ]
    },
    {
      "cell_type": "markdown",
      "source": [
        "# Test the fitted models on the test set"
      ],
      "metadata": {
        "id": "nlgdtSAyVrZY"
      }
    },
    {
      "cell_type": "markdown",
      "source": [
        "## Get the models from WandB"
      ],
      "metadata": {
        "id": "3vOanIrlSXLY"
      }
    },
    {
      "cell_type": "code",
      "source": [
        "models = get_models(\"arimax-trained-1Q:v0\")"
      ],
      "metadata": {
        "colab": {
          "base_uri": "https://localhost:8080/",
          "height": 178,
          "referenced_widgets": [
            "570ba9e564e6464f904f06615245a636",
            "9ff0e6f120344deeb9f46f59950c2f19",
            "f630918d0f3746618d1132a4c6fe9ada",
            "29a83a27535544e983a9f55272c95f1c",
            "10292300a7d148ff9d8bde0245c97b57",
            "2210a3e2aaad4a42a477de9ce8c8138b",
            "3d1fbced54184b9cbd598ccfabf29a4a",
            "8afb6388d2be4e30a1137072d9d26502"
          ]
        },
        "id": "iCTXxlzxSZoI",
        "outputId": "4bc4451a-94ac-4a98-fead-5c98dfefaa45"
      },
      "execution_count": 9,
      "outputs": [
        {
          "output_type": "stream",
          "name": "stderr",
          "text": [
            "\u001b[34m\u001b[1mwandb\u001b[0m: Currently logged in as: \u001b[33mankile\u001b[0m (\u001b[33mkrankile\u001b[0m). Use \u001b[1m`wandb login --relogin`\u001b[0m to force relogin\n"
          ]
        },
        {
          "output_type": "display_data",
          "data": {
            "text/plain": [
              "<IPython.core.display.HTML object>"
            ],
            "text/html": [
              "Tracking run with wandb version 0.12.16"
            ]
          },
          "metadata": {}
        },
        {
          "output_type": "display_data",
          "data": {
            "text/plain": [
              "<IPython.core.display.HTML object>"
            ],
            "text/html": [
              "Run data is saved locally in <code>/content/wandb/run-20220514_100349-2jv1bwbf</code>"
            ]
          },
          "metadata": {}
        },
        {
          "output_type": "display_data",
          "data": {
            "text/plain": [
              "<IPython.core.display.HTML object>"
            ],
            "text/html": [
              "Syncing run <strong><a href=\"https://wandb.ai/krankile/master-test/runs/2jv1bwbf\" target=\"_blank\">rosy-firebrand-244</a></strong> to <a href=\"https://wandb.ai/krankile/master-test\" target=\"_blank\">Weights & Biases</a> (<a href=\"https://wandb.me/run\" target=\"_blank\">docs</a>)<br/>"
            ]
          },
          "metadata": {}
        },
        {
          "output_type": "stream",
          "name": "stderr",
          "text": [
            "\u001b[34m\u001b[1mwandb\u001b[0m: Downloading large artifact arimax-trained-1Q:v0, 97.31MB. 1 files... Done. 0:0:0\n"
          ]
        },
        {
          "output_type": "display_data",
          "data": {
            "text/plain": [
              "<IPython.core.display.HTML object>"
            ],
            "text/html": [
              "Waiting for W&B process to finish... <strong style=\"color:green\">(success).</strong>"
            ]
          },
          "metadata": {}
        },
        {
          "output_type": "display_data",
          "data": {
            "text/plain": [
              "VBox(children=(Label(value='0.001 MB of 0.001 MB uploaded (0.000 MB deduped)\\r'), FloatProgress(value=1.0, max…"
            ],
            "application/vnd.jupyter.widget-view+json": {
              "version_major": 2,
              "version_minor": 0,
              "model_id": "570ba9e564e6464f904f06615245a636"
            }
          },
          "metadata": {}
        },
        {
          "output_type": "display_data",
          "data": {
            "text/plain": [
              "<IPython.core.display.HTML object>"
            ],
            "text/html": [
              "Synced <strong style=\"color:#cdcd00\">rosy-firebrand-244</strong>: <a href=\"https://wandb.ai/krankile/master-test/runs/2jv1bwbf\" target=\"_blank\">https://wandb.ai/krankile/master-test/runs/2jv1bwbf</a><br/>Synced 5 W&B file(s), 0 media file(s), 0 artifact file(s) and 0 other file(s)"
            ]
          },
          "metadata": {}
        },
        {
          "output_type": "display_data",
          "data": {
            "text/plain": [
              "<IPython.core.display.HTML object>"
            ],
            "text/html": [
              "Find logs at: <code>./wandb/run-20220514_100349-2jv1bwbf/logs</code>"
            ]
          },
          "metadata": {}
        }
      ]
    },
    {
      "cell_type": "markdown",
      "source": [
        "## Predict for January 2019"
      ],
      "metadata": {
        "id": "kvI_vjn7nU1H"
      }
    },
    {
      "cell_type": "code",
      "source": [
        "ob_num = list(range(1, 21))\n",
        "out = dict(ticker=[], market_cap=[], obs_number=[])\n",
        "\n",
        "# Get last fundamental values for use in forecasting\n",
        "fund_exo = (\n",
        "    fund.reset_index()\n",
        "    .drop_duplicates(subset=\"ticker\", keep=\"last\")\n",
        "    .set_index(\"ticker\")\n",
        "    .drop(columns=[\"date\", \"announce_date\"])\n",
        "    .fillna(0)\n",
        ")\n",
        "\n",
        "# Get last macro data\n",
        "macr_exo = macr.ffill().iloc[-1, :]\n",
        "\n",
        "\n",
        "for ticker, (model, columns) in tqdm(models.items()):\n",
        "\n",
        "    exo = pd.concat(\n",
        "        [fund_exo.loc[ticker, :], macr_exo],\n",
        "        axis=0,\n",
        "    )[columns]\n",
        "\n",
        "    exo = np.repeat(exo.np().reshape((1, -1)), 20, axis=0)\n",
        "\n",
        "    forec = model.predict(20, exo)\n",
        "    ts = [ticker] * 20\n",
        "\n",
        "    out[\"ticker\"].extend(ts)\n",
        "    out[\"market_cap\"].extend(forec)\n",
        "    out[\"obs_number\"].extend(ob_num)\n",
        "\n",
        "\n",
        "forec_df = pd.DataFrame(out)\n",
        "\n",
        "put_dataset(\n",
        "    forec_df,\n",
        "    \"arimax-2Q-forecast-2019M1.feather\",\n",
        "    \"master-test\",\n",
        "    type_=\"forecast\",\n",
        "    metadata={\"model\": \"ARIMAX\", \"n_forecasts\": len(models)},\n",
        ")\n",
        "\n",
        "forec_df = forec_df.set_index([\"ticker\", \"obs_number\"])"
      ],
      "metadata": {
        "id": "6amy_m7nV975",
        "colab": {
          "base_uri": "https://localhost:8080/",
          "height": 159,
          "referenced_widgets": [
            "d7ff58614a434bef90bf9298082c0530",
            "93a360276f4a47479c54b0ffb45acc73",
            "689259ad75524e22841c4499fcdf1dc4",
            "ce3a5ae7699f405388209d8f2dc9d59a",
            "a729ac5bc8584fe9ac5010785f3dedca",
            "42e0303f66ea422cb0cf4b9cdd11e6ec",
            "1555fd015ccf48488c6c3f378d8a5fcb",
            "365e7bf1ae4048cdbfac4d369961f7fd"
          ]
        },
        "outputId": "43ca0204-2804-4658-cb33-11b5a02d1b9f"
      },
      "execution_count": 173,
      "outputs": [
        {
          "output_type": "stream",
          "name": "stderr",
          "text": [
            "100%|██████████| 806/806 [00:04<00:00, 197.33it/s]\n"
          ]
        },
        {
          "output_type": "display_data",
          "data": {
            "text/plain": [
              "<IPython.core.display.HTML object>"
            ],
            "text/html": [
              "Tracking run with wandb version 0.12.16"
            ]
          },
          "metadata": {}
        },
        {
          "output_type": "display_data",
          "data": {
            "text/plain": [
              "<IPython.core.display.HTML object>"
            ],
            "text/html": [
              "Run data is saved locally in <code>/content/wandb/run-20220513_144159-1p15vfx3</code>"
            ]
          },
          "metadata": {}
        },
        {
          "output_type": "display_data",
          "data": {
            "text/plain": [
              "<IPython.core.display.HTML object>"
            ],
            "text/html": [
              "Syncing run <strong><a href=\"https://wandb.ai/krankile/master-test/runs/1p15vfx3\" target=\"_blank\">bumbling-brook-243</a></strong> to <a href=\"https://wandb.ai/krankile/master-test\" target=\"_blank\">Weights & Biases</a> (<a href=\"https://wandb.me/run\" target=\"_blank\">docs</a>)<br/>"
            ]
          },
          "metadata": {}
        },
        {
          "output_type": "display_data",
          "data": {
            "text/plain": [
              "<IPython.core.display.HTML object>"
            ],
            "text/html": [
              "Waiting for W&B process to finish... <strong style=\"color:green\">(success).</strong>"
            ]
          },
          "metadata": {}
        },
        {
          "output_type": "display_data",
          "data": {
            "text/plain": [
              "VBox(children=(Label(value='0.172 MB of 0.172 MB uploaded (0.000 MB deduped)\\r'), FloatProgress(value=1.0, max…"
            ],
            "application/vnd.jupyter.widget-view+json": {
              "version_major": 2,
              "version_minor": 0,
              "model_id": "d7ff58614a434bef90bf9298082c0530"
            }
          },
          "metadata": {}
        },
        {
          "output_type": "display_data",
          "data": {
            "text/plain": [
              "<IPython.core.display.HTML object>"
            ],
            "text/html": [
              "Synced <strong style=\"color:#cdcd00\">bumbling-brook-243</strong>: <a href=\"https://wandb.ai/krankile/master-test/runs/1p15vfx3\" target=\"_blank\">https://wandb.ai/krankile/master-test/runs/1p15vfx3</a><br/>Synced 4 W&B file(s), 0 media file(s), 1 artifact file(s) and 0 other file(s)"
            ]
          },
          "metadata": {}
        },
        {
          "output_type": "display_data",
          "data": {
            "text/plain": [
              "<IPython.core.display.HTML object>"
            ],
            "text/html": [
              "Find logs at: <code>./wandb/run-20220513_144159-1p15vfx3/logs</code>"
            ]
          },
          "metadata": {}
        }
      ]
    },
    {
      "cell_type": "code",
      "source": [
        "forec_df"
      ],
      "metadata": {
        "colab": {
          "base_uri": "https://localhost:8080/",
          "height": 455
        },
        "id": "xKt9GRc7sQIy",
        "outputId": "0fe924a3-5047-442a-8a74-0bef2518b717"
      },
      "execution_count": 174,
      "outputs": [
        {
          "output_type": "execute_result",
          "data": {
            "text/plain": [
              "                        market_cap\n",
              "ticker    obs_number              \n",
              "000096.SZ 1           7.256019e+08\n",
              "          2           7.288937e+08\n",
              "          3           7.317511e+08\n",
              "          4           7.342316e+08\n",
              "          5           7.363847e+08\n",
              "...                            ...\n",
              "ZHEN.SI   16          4.782008e+08\n",
              "          17          4.782008e+08\n",
              "          18          4.782008e+08\n",
              "          19          4.782008e+08\n",
              "          20          4.782008e+08\n",
              "\n",
              "[16120 rows x 1 columns]"
            ],
            "text/html": [
              "\n",
              "  <div id=\"df-8577fed0-2bec-4765-85a3-e9aaee95c3e0\">\n",
              "    <div class=\"colab-df-container\">\n",
              "      <div>\n",
              "<style scoped>\n",
              "    .dataframe tbody tr th:only-of-type {\n",
              "        vertical-align: middle;\n",
              "    }\n",
              "\n",
              "    .dataframe tbody tr th {\n",
              "        vertical-align: top;\n",
              "    }\n",
              "\n",
              "    .dataframe thead th {\n",
              "        text-align: right;\n",
              "    }\n",
              "</style>\n",
              "<table border=\"1\" class=\"dataframe\">\n",
              "  <thead>\n",
              "    <tr style=\"text-align: right;\">\n",
              "      <th></th>\n",
              "      <th></th>\n",
              "      <th>market_cap</th>\n",
              "    </tr>\n",
              "    <tr>\n",
              "      <th>ticker</th>\n",
              "      <th>obs_number</th>\n",
              "      <th></th>\n",
              "    </tr>\n",
              "  </thead>\n",
              "  <tbody>\n",
              "    <tr>\n",
              "      <th rowspan=\"5\" valign=\"top\">000096.SZ</th>\n",
              "      <th>1</th>\n",
              "      <td>7.256019e+08</td>\n",
              "    </tr>\n",
              "    <tr>\n",
              "      <th>2</th>\n",
              "      <td>7.288937e+08</td>\n",
              "    </tr>\n",
              "    <tr>\n",
              "      <th>3</th>\n",
              "      <td>7.317511e+08</td>\n",
              "    </tr>\n",
              "    <tr>\n",
              "      <th>4</th>\n",
              "      <td>7.342316e+08</td>\n",
              "    </tr>\n",
              "    <tr>\n",
              "      <th>5</th>\n",
              "      <td>7.363847e+08</td>\n",
              "    </tr>\n",
              "    <tr>\n",
              "      <th>...</th>\n",
              "      <th>...</th>\n",
              "      <td>...</td>\n",
              "    </tr>\n",
              "    <tr>\n",
              "      <th rowspan=\"5\" valign=\"top\">ZHEN.SI</th>\n",
              "      <th>16</th>\n",
              "      <td>4.782008e+08</td>\n",
              "    </tr>\n",
              "    <tr>\n",
              "      <th>17</th>\n",
              "      <td>4.782008e+08</td>\n",
              "    </tr>\n",
              "    <tr>\n",
              "      <th>18</th>\n",
              "      <td>4.782008e+08</td>\n",
              "    </tr>\n",
              "    <tr>\n",
              "      <th>19</th>\n",
              "      <td>4.782008e+08</td>\n",
              "    </tr>\n",
              "    <tr>\n",
              "      <th>20</th>\n",
              "      <td>4.782008e+08</td>\n",
              "    </tr>\n",
              "  </tbody>\n",
              "</table>\n",
              "<p>16120 rows × 1 columns</p>\n",
              "</div>\n",
              "      <button class=\"colab-df-convert\" onclick=\"convertToInteractive('df-8577fed0-2bec-4765-85a3-e9aaee95c3e0')\"\n",
              "              title=\"Convert this dataframe to an interactive table.\"\n",
              "              style=\"display:none;\">\n",
              "        \n",
              "  <svg xmlns=\"http://www.w3.org/2000/svg\" height=\"24px\"viewBox=\"0 0 24 24\"\n",
              "       width=\"24px\">\n",
              "    <path d=\"M0 0h24v24H0V0z\" fill=\"none\"/>\n",
              "    <path d=\"M18.56 5.44l.94 2.06.94-2.06 2.06-.94-2.06-.94-.94-2.06-.94 2.06-2.06.94zm-11 1L8.5 8.5l.94-2.06 2.06-.94-2.06-.94L8.5 2.5l-.94 2.06-2.06.94zm10 10l.94 2.06.94-2.06 2.06-.94-2.06-.94-.94-2.06-.94 2.06-2.06.94z\"/><path d=\"M17.41 7.96l-1.37-1.37c-.4-.4-.92-.59-1.43-.59-.52 0-1.04.2-1.43.59L10.3 9.45l-7.72 7.72c-.78.78-.78 2.05 0 2.83L4 21.41c.39.39.9.59 1.41.59.51 0 1.02-.2 1.41-.59l7.78-7.78 2.81-2.81c.8-.78.8-2.07 0-2.86zM5.41 20L4 18.59l7.72-7.72 1.47 1.35L5.41 20z\"/>\n",
              "  </svg>\n",
              "      </button>\n",
              "      \n",
              "  <style>\n",
              "    .colab-df-container {\n",
              "      display:flex;\n",
              "      flex-wrap:wrap;\n",
              "      gap: 12px;\n",
              "    }\n",
              "\n",
              "    .colab-df-convert {\n",
              "      background-color: #E8F0FE;\n",
              "      border: none;\n",
              "      border-radius: 50%;\n",
              "      cursor: pointer;\n",
              "      display: none;\n",
              "      fill: #1967D2;\n",
              "      height: 32px;\n",
              "      padding: 0 0 0 0;\n",
              "      width: 32px;\n",
              "    }\n",
              "\n",
              "    .colab-df-convert:hover {\n",
              "      background-color: #E2EBFA;\n",
              "      box-shadow: 0px 1px 2px rgba(60, 64, 67, 0.3), 0px 1px 3px 1px rgba(60, 64, 67, 0.15);\n",
              "      fill: #174EA6;\n",
              "    }\n",
              "\n",
              "    [theme=dark] .colab-df-convert {\n",
              "      background-color: #3B4455;\n",
              "      fill: #D2E3FC;\n",
              "    }\n",
              "\n",
              "    [theme=dark] .colab-df-convert:hover {\n",
              "      background-color: #434B5C;\n",
              "      box-shadow: 0px 1px 3px 1px rgba(0, 0, 0, 0.15);\n",
              "      filter: drop-shadow(0px 1px 2px rgba(0, 0, 0, 0.3));\n",
              "      fill: #FFFFFF;\n",
              "    }\n",
              "  </style>\n",
              "\n",
              "      <script>\n",
              "        const buttonEl =\n",
              "          document.querySelector('#df-8577fed0-2bec-4765-85a3-e9aaee95c3e0 button.colab-df-convert');\n",
              "        buttonEl.style.display =\n",
              "          google.colab.kernel.accessAllowed ? 'block' : 'none';\n",
              "\n",
              "        async function convertToInteractive(key) {\n",
              "          const element = document.querySelector('#df-8577fed0-2bec-4765-85a3-e9aaee95c3e0');\n",
              "          const dataTable =\n",
              "            await google.colab.kernel.invokeFunction('convertToInteractive',\n",
              "                                                     [key], {});\n",
              "          if (!dataTable) return;\n",
              "\n",
              "          const docLinkHtml = 'Like what you see? Visit the ' +\n",
              "            '<a target=\"_blank\" href=https://colab.research.google.com/notebooks/data_table.ipynb>data table notebook</a>'\n",
              "            + ' to learn more about interactive tables.';\n",
              "          element.innerHTML = '';\n",
              "          dataTable['output_type'] = 'display_data';\n",
              "          await google.colab.output.renderOutput(dataTable, element);\n",
              "          const docLink = document.createElement('div');\n",
              "          docLink.innerHTML = docLinkHtml;\n",
              "          element.appendChild(docLink);\n",
              "        }\n",
              "      </script>\n",
              "    </div>\n",
              "  </div>\n",
              "  "
            ]
          },
          "metadata": {},
          "execution_count": 174
        }
      ]
    },
    {
      "cell_type": "markdown",
      "source": [
        "## Create actual and compare"
      ],
      "metadata": {
        "id": "UnaYUdVTpyeI"
      }
    },
    {
      "cell_type": "code",
      "source": [
        "tst = all_stck[all_stck.index.get_level_values(1) >= test_start_pd].reset_index()\n",
        "tst[\"obs_number\"] = tst.groupby(\"ticker\").date.rank(method='first', ascending=True).astype(int)\n",
        "tst = tst[tst.obs_number <= 20].set_index([\"ticker\", \"obs_number\"]).loc[:, [\"market_cap\"]]\n",
        "tst.market_cap = tst.market_cap.astype(np.float64)\n",
        "tst"
      ],
      "metadata": {
        "id": "8wGLL-sCEhxO",
        "colab": {
          "base_uri": "https://localhost:8080/",
          "height": 455
        },
        "outputId": "548ba92d-ed8d-41a8-d2ed-124fa4269a73"
      },
      "execution_count": 175,
      "outputs": [
        {
          "output_type": "execute_result",
          "data": {
            "text/plain": [
              "                        market_cap\n",
              "ticker    obs_number              \n",
              "000096.SZ 1           6.935114e+08\n",
              "          2           6.931595e+08\n",
              "          3           7.005345e+08\n",
              "          4           7.052744e+08\n",
              "          5           7.127950e+08\n",
              "...                            ...\n",
              "ZHEN.SI   16          5.736022e+08\n",
              "          17          5.939724e+08\n",
              "          18          5.864256e+08\n",
              "          19          5.869460e+08\n",
              "          20          5.871631e+08\n",
              "\n",
              "[17980 rows x 1 columns]"
            ],
            "text/html": [
              "\n",
              "  <div id=\"df-874619bc-ed20-4122-9c31-7efb9979d1aa\">\n",
              "    <div class=\"colab-df-container\">\n",
              "      <div>\n",
              "<style scoped>\n",
              "    .dataframe tbody tr th:only-of-type {\n",
              "        vertical-align: middle;\n",
              "    }\n",
              "\n",
              "    .dataframe tbody tr th {\n",
              "        vertical-align: top;\n",
              "    }\n",
              "\n",
              "    .dataframe thead th {\n",
              "        text-align: right;\n",
              "    }\n",
              "</style>\n",
              "<table border=\"1\" class=\"dataframe\">\n",
              "  <thead>\n",
              "    <tr style=\"text-align: right;\">\n",
              "      <th></th>\n",
              "      <th></th>\n",
              "      <th>market_cap</th>\n",
              "    </tr>\n",
              "    <tr>\n",
              "      <th>ticker</th>\n",
              "      <th>obs_number</th>\n",
              "      <th></th>\n",
              "    </tr>\n",
              "  </thead>\n",
              "  <tbody>\n",
              "    <tr>\n",
              "      <th rowspan=\"5\" valign=\"top\">000096.SZ</th>\n",
              "      <th>1</th>\n",
              "      <td>6.935114e+08</td>\n",
              "    </tr>\n",
              "    <tr>\n",
              "      <th>2</th>\n",
              "      <td>6.931595e+08</td>\n",
              "    </tr>\n",
              "    <tr>\n",
              "      <th>3</th>\n",
              "      <td>7.005345e+08</td>\n",
              "    </tr>\n",
              "    <tr>\n",
              "      <th>4</th>\n",
              "      <td>7.052744e+08</td>\n",
              "    </tr>\n",
              "    <tr>\n",
              "      <th>5</th>\n",
              "      <td>7.127950e+08</td>\n",
              "    </tr>\n",
              "    <tr>\n",
              "      <th>...</th>\n",
              "      <th>...</th>\n",
              "      <td>...</td>\n",
              "    </tr>\n",
              "    <tr>\n",
              "      <th rowspan=\"5\" valign=\"top\">ZHEN.SI</th>\n",
              "      <th>16</th>\n",
              "      <td>5.736022e+08</td>\n",
              "    </tr>\n",
              "    <tr>\n",
              "      <th>17</th>\n",
              "      <td>5.939724e+08</td>\n",
              "    </tr>\n",
              "    <tr>\n",
              "      <th>18</th>\n",
              "      <td>5.864256e+08</td>\n",
              "    </tr>\n",
              "    <tr>\n",
              "      <th>19</th>\n",
              "      <td>5.869460e+08</td>\n",
              "    </tr>\n",
              "    <tr>\n",
              "      <th>20</th>\n",
              "      <td>5.871631e+08</td>\n",
              "    </tr>\n",
              "  </tbody>\n",
              "</table>\n",
              "<p>17980 rows × 1 columns</p>\n",
              "</div>\n",
              "      <button class=\"colab-df-convert\" onclick=\"convertToInteractive('df-874619bc-ed20-4122-9c31-7efb9979d1aa')\"\n",
              "              title=\"Convert this dataframe to an interactive table.\"\n",
              "              style=\"display:none;\">\n",
              "        \n",
              "  <svg xmlns=\"http://www.w3.org/2000/svg\" height=\"24px\"viewBox=\"0 0 24 24\"\n",
              "       width=\"24px\">\n",
              "    <path d=\"M0 0h24v24H0V0z\" fill=\"none\"/>\n",
              "    <path d=\"M18.56 5.44l.94 2.06.94-2.06 2.06-.94-2.06-.94-.94-2.06-.94 2.06-2.06.94zm-11 1L8.5 8.5l.94-2.06 2.06-.94-2.06-.94L8.5 2.5l-.94 2.06-2.06.94zm10 10l.94 2.06.94-2.06 2.06-.94-2.06-.94-.94-2.06-.94 2.06-2.06.94z\"/><path d=\"M17.41 7.96l-1.37-1.37c-.4-.4-.92-.59-1.43-.59-.52 0-1.04.2-1.43.59L10.3 9.45l-7.72 7.72c-.78.78-.78 2.05 0 2.83L4 21.41c.39.39.9.59 1.41.59.51 0 1.02-.2 1.41-.59l7.78-7.78 2.81-2.81c.8-.78.8-2.07 0-2.86zM5.41 20L4 18.59l7.72-7.72 1.47 1.35L5.41 20z\"/>\n",
              "  </svg>\n",
              "      </button>\n",
              "      \n",
              "  <style>\n",
              "    .colab-df-container {\n",
              "      display:flex;\n",
              "      flex-wrap:wrap;\n",
              "      gap: 12px;\n",
              "    }\n",
              "\n",
              "    .colab-df-convert {\n",
              "      background-color: #E8F0FE;\n",
              "      border: none;\n",
              "      border-radius: 50%;\n",
              "      cursor: pointer;\n",
              "      display: none;\n",
              "      fill: #1967D2;\n",
              "      height: 32px;\n",
              "      padding: 0 0 0 0;\n",
              "      width: 32px;\n",
              "    }\n",
              "\n",
              "    .colab-df-convert:hover {\n",
              "      background-color: #E2EBFA;\n",
              "      box-shadow: 0px 1px 2px rgba(60, 64, 67, 0.3), 0px 1px 3px 1px rgba(60, 64, 67, 0.15);\n",
              "      fill: #174EA6;\n",
              "    }\n",
              "\n",
              "    [theme=dark] .colab-df-convert {\n",
              "      background-color: #3B4455;\n",
              "      fill: #D2E3FC;\n",
              "    }\n",
              "\n",
              "    [theme=dark] .colab-df-convert:hover {\n",
              "      background-color: #434B5C;\n",
              "      box-shadow: 0px 1px 3px 1px rgba(0, 0, 0, 0.15);\n",
              "      filter: drop-shadow(0px 1px 2px rgba(0, 0, 0, 0.3));\n",
              "      fill: #FFFFFF;\n",
              "    }\n",
              "  </style>\n",
              "\n",
              "      <script>\n",
              "        const buttonEl =\n",
              "          document.querySelector('#df-874619bc-ed20-4122-9c31-7efb9979d1aa button.colab-df-convert');\n",
              "        buttonEl.style.display =\n",
              "          google.colab.kernel.accessAllowed ? 'block' : 'none';\n",
              "\n",
              "        async function convertToInteractive(key) {\n",
              "          const element = document.querySelector('#df-874619bc-ed20-4122-9c31-7efb9979d1aa');\n",
              "          const dataTable =\n",
              "            await google.colab.kernel.invokeFunction('convertToInteractive',\n",
              "                                                     [key], {});\n",
              "          if (!dataTable) return;\n",
              "\n",
              "          const docLinkHtml = 'Like what you see? Visit the ' +\n",
              "            '<a target=\"_blank\" href=https://colab.research.google.com/notebooks/data_table.ipynb>data table notebook</a>'\n",
              "            + ' to learn more about interactive tables.';\n",
              "          element.innerHTML = '';\n",
              "          dataTable['output_type'] = 'display_data';\n",
              "          await google.colab.output.renderOutput(dataTable, element);\n",
              "          const docLink = document.createElement('div');\n",
              "          docLink.innerHTML = docLinkHtml;\n",
              "          element.appendChild(docLink);\n",
              "        }\n",
              "      </script>\n",
              "    </div>\n",
              "  </div>\n",
              "  "
            ]
          },
          "metadata": {},
          "execution_count": 175
        }
      ]
    },
    {
      "cell_type": "code",
      "source": [
        "tickers = forec_df.index.unique(level=\"ticker\").intersection(tst.index.unique(level=\"ticker\"))\n",
        "\n",
        "tst = tst[tst.index.get_level_values(0).isin(tickers)]\n",
        "forec_df = forec_df[forec_df.index.get_level_values(0).isin(tickers)]"
      ],
      "metadata": {
        "id": "48Vf1FOWsvWC"
      },
      "execution_count": 176,
      "outputs": []
    },
    {
      "cell_type": "code",
      "source": [
        "errors = ((tst - forec_df).abs() / tst.abs())\n",
        "errors"
      ],
      "metadata": {
        "colab": {
          "base_uri": "https://localhost:8080/",
          "height": 455
        },
        "id": "n4fN693DqKFh",
        "outputId": "ac6927ac-b649-4379-8395-63a29acba98a"
      },
      "execution_count": 180,
      "outputs": [
        {
          "output_type": "execute_result",
          "data": {
            "text/plain": [
              "                      market_cap\n",
              "ticker    obs_number            \n",
              "000096.SZ 1             0.046272\n",
              "          2             0.051553\n",
              "          3             0.044561\n",
              "          4             0.041058\n",
              "          5             0.033095\n",
              "...                          ...\n",
              "ZHEN.SI   16            0.166320\n",
              "          17            0.194911\n",
              "          18            0.184550\n",
              "          19            0.185273\n",
              "          20            0.185574\n",
              "\n",
              "[16120 rows x 1 columns]"
            ],
            "text/html": [
              "\n",
              "  <div id=\"df-7a1c10cc-6b24-4b8b-bb54-724b2e041bdf\">\n",
              "    <div class=\"colab-df-container\">\n",
              "      <div>\n",
              "<style scoped>\n",
              "    .dataframe tbody tr th:only-of-type {\n",
              "        vertical-align: middle;\n",
              "    }\n",
              "\n",
              "    .dataframe tbody tr th {\n",
              "        vertical-align: top;\n",
              "    }\n",
              "\n",
              "    .dataframe thead th {\n",
              "        text-align: right;\n",
              "    }\n",
              "</style>\n",
              "<table border=\"1\" class=\"dataframe\">\n",
              "  <thead>\n",
              "    <tr style=\"text-align: right;\">\n",
              "      <th></th>\n",
              "      <th></th>\n",
              "      <th>market_cap</th>\n",
              "    </tr>\n",
              "    <tr>\n",
              "      <th>ticker</th>\n",
              "      <th>obs_number</th>\n",
              "      <th></th>\n",
              "    </tr>\n",
              "  </thead>\n",
              "  <tbody>\n",
              "    <tr>\n",
              "      <th rowspan=\"5\" valign=\"top\">000096.SZ</th>\n",
              "      <th>1</th>\n",
              "      <td>0.046272</td>\n",
              "    </tr>\n",
              "    <tr>\n",
              "      <th>2</th>\n",
              "      <td>0.051553</td>\n",
              "    </tr>\n",
              "    <tr>\n",
              "      <th>3</th>\n",
              "      <td>0.044561</td>\n",
              "    </tr>\n",
              "    <tr>\n",
              "      <th>4</th>\n",
              "      <td>0.041058</td>\n",
              "    </tr>\n",
              "    <tr>\n",
              "      <th>5</th>\n",
              "      <td>0.033095</td>\n",
              "    </tr>\n",
              "    <tr>\n",
              "      <th>...</th>\n",
              "      <th>...</th>\n",
              "      <td>...</td>\n",
              "    </tr>\n",
              "    <tr>\n",
              "      <th rowspan=\"5\" valign=\"top\">ZHEN.SI</th>\n",
              "      <th>16</th>\n",
              "      <td>0.166320</td>\n",
              "    </tr>\n",
              "    <tr>\n",
              "      <th>17</th>\n",
              "      <td>0.194911</td>\n",
              "    </tr>\n",
              "    <tr>\n",
              "      <th>18</th>\n",
              "      <td>0.184550</td>\n",
              "    </tr>\n",
              "    <tr>\n",
              "      <th>19</th>\n",
              "      <td>0.185273</td>\n",
              "    </tr>\n",
              "    <tr>\n",
              "      <th>20</th>\n",
              "      <td>0.185574</td>\n",
              "    </tr>\n",
              "  </tbody>\n",
              "</table>\n",
              "<p>16120 rows × 1 columns</p>\n",
              "</div>\n",
              "      <button class=\"colab-df-convert\" onclick=\"convertToInteractive('df-7a1c10cc-6b24-4b8b-bb54-724b2e041bdf')\"\n",
              "              title=\"Convert this dataframe to an interactive table.\"\n",
              "              style=\"display:none;\">\n",
              "        \n",
              "  <svg xmlns=\"http://www.w3.org/2000/svg\" height=\"24px\"viewBox=\"0 0 24 24\"\n",
              "       width=\"24px\">\n",
              "    <path d=\"M0 0h24v24H0V0z\" fill=\"none\"/>\n",
              "    <path d=\"M18.56 5.44l.94 2.06.94-2.06 2.06-.94-2.06-.94-.94-2.06-.94 2.06-2.06.94zm-11 1L8.5 8.5l.94-2.06 2.06-.94-2.06-.94L8.5 2.5l-.94 2.06-2.06.94zm10 10l.94 2.06.94-2.06 2.06-.94-2.06-.94-.94-2.06-.94 2.06-2.06.94z\"/><path d=\"M17.41 7.96l-1.37-1.37c-.4-.4-.92-.59-1.43-.59-.52 0-1.04.2-1.43.59L10.3 9.45l-7.72 7.72c-.78.78-.78 2.05 0 2.83L4 21.41c.39.39.9.59 1.41.59.51 0 1.02-.2 1.41-.59l7.78-7.78 2.81-2.81c.8-.78.8-2.07 0-2.86zM5.41 20L4 18.59l7.72-7.72 1.47 1.35L5.41 20z\"/>\n",
              "  </svg>\n",
              "      </button>\n",
              "      \n",
              "  <style>\n",
              "    .colab-df-container {\n",
              "      display:flex;\n",
              "      flex-wrap:wrap;\n",
              "      gap: 12px;\n",
              "    }\n",
              "\n",
              "    .colab-df-convert {\n",
              "      background-color: #E8F0FE;\n",
              "      border: none;\n",
              "      border-radius: 50%;\n",
              "      cursor: pointer;\n",
              "      display: none;\n",
              "      fill: #1967D2;\n",
              "      height: 32px;\n",
              "      padding: 0 0 0 0;\n",
              "      width: 32px;\n",
              "    }\n",
              "\n",
              "    .colab-df-convert:hover {\n",
              "      background-color: #E2EBFA;\n",
              "      box-shadow: 0px 1px 2px rgba(60, 64, 67, 0.3), 0px 1px 3px 1px rgba(60, 64, 67, 0.15);\n",
              "      fill: #174EA6;\n",
              "    }\n",
              "\n",
              "    [theme=dark] .colab-df-convert {\n",
              "      background-color: #3B4455;\n",
              "      fill: #D2E3FC;\n",
              "    }\n",
              "\n",
              "    [theme=dark] .colab-df-convert:hover {\n",
              "      background-color: #434B5C;\n",
              "      box-shadow: 0px 1px 3px 1px rgba(0, 0, 0, 0.15);\n",
              "      filter: drop-shadow(0px 1px 2px rgba(0, 0, 0, 0.3));\n",
              "      fill: #FFFFFF;\n",
              "    }\n",
              "  </style>\n",
              "\n",
              "      <script>\n",
              "        const buttonEl =\n",
              "          document.querySelector('#df-7a1c10cc-6b24-4b8b-bb54-724b2e041bdf button.colab-df-convert');\n",
              "        buttonEl.style.display =\n",
              "          google.colab.kernel.accessAllowed ? 'block' : 'none';\n",
              "\n",
              "        async function convertToInteractive(key) {\n",
              "          const element = document.querySelector('#df-7a1c10cc-6b24-4b8b-bb54-724b2e041bdf');\n",
              "          const dataTable =\n",
              "            await google.colab.kernel.invokeFunction('convertToInteractive',\n",
              "                                                     [key], {});\n",
              "          if (!dataTable) return;\n",
              "\n",
              "          const docLinkHtml = 'Like what you see? Visit the ' +\n",
              "            '<a target=\"_blank\" href=https://colab.research.google.com/notebooks/data_table.ipynb>data table notebook</a>'\n",
              "            + ' to learn more about interactive tables.';\n",
              "          element.innerHTML = '';\n",
              "          dataTable['output_type'] = 'display_data';\n",
              "          await google.colab.output.renderOutput(dataTable, element);\n",
              "          const docLink = document.createElement('div');\n",
              "          docLink.innerHTML = docLinkHtml;\n",
              "          element.appendChild(docLink);\n",
              "        }\n",
              "      </script>\n",
              "    </div>\n",
              "  </div>\n",
              "  "
            ]
          },
          "metadata": {},
          "execution_count": 180
        }
      ]
    },
    {
      "cell_type": "code",
      "source": [
        "errors.groupby(\"ticker\").mean().mean().item()"
      ],
      "metadata": {
        "colab": {
          "base_uri": "https://localhost:8080/"
        },
        "id": "2pyQedaoqrOw",
        "outputId": "47971c64-f75f-4248-e751-55a6051db8a0"
      },
      "execution_count": 181,
      "outputs": [
        {
          "output_type": "execute_result",
          "data": {
            "text/plain": [
              "0.0893091398716737"
            ]
          },
          "metadata": {},
          "execution_count": 181
        }
      ]
    },
    {
      "cell_type": "code",
      "source": [
        ""
      ],
      "metadata": {
        "id": "BMhiHL3fsl2R"
      },
      "execution_count": null,
      "outputs": []
    },
    {
      "cell_type": "markdown",
      "source": [
        "# Analyze the resulting models"
      ],
      "metadata": {
        "id": "2guE6vcAEikG"
      }
    },
    {
      "cell_type": "code",
      "source": [
        "models = get_models(\"arimax-trained-1Q:v0\")"
      ],
      "metadata": {
        "colab": {
          "base_uri": "https://localhost:8080/",
          "height": 159,
          "referenced_widgets": [
            "bef0eba2cd7648c99a0f1905a9d9f307",
            "bde1c2592c2f4a908433d85028397ab4",
            "8555e42c9c2f440a88000f4420992251",
            "0888dde3637a4a61bfb311e5139df6d4",
            "f1741984e2ee4d59808e52aa6a369d9f",
            "5c0ff7b10fd54412b0c9a3af7f50ff2e",
            "e63c2b32dd43496f97992e174e68245d",
            "d14a4c39378f44ed868e596cd0fa5ab8"
          ]
        },
        "id": "QWIxErvZE2Hb",
        "outputId": "6d6f39f6-8d9e-4763-d639-d70e2779245b"
      },
      "execution_count": 26,
      "outputs": [
        {
          "output_type": "display_data",
          "data": {
            "text/plain": [
              "<IPython.core.display.HTML object>"
            ],
            "text/html": [
              "Tracking run with wandb version 0.12.16"
            ]
          },
          "metadata": {}
        },
        {
          "output_type": "display_data",
          "data": {
            "text/plain": [
              "<IPython.core.display.HTML object>"
            ],
            "text/html": [
              "Run data is saved locally in <code>/content/wandb/run-20220514_101816-3ox0c6by</code>"
            ]
          },
          "metadata": {}
        },
        {
          "output_type": "display_data",
          "data": {
            "text/plain": [
              "<IPython.core.display.HTML object>"
            ],
            "text/html": [
              "Syncing run <strong><a href=\"https://wandb.ai/krankile/master-test/runs/3ox0c6by\" target=\"_blank\">warm-water-245</a></strong> to <a href=\"https://wandb.ai/krankile/master-test\" target=\"_blank\">Weights & Biases</a> (<a href=\"https://wandb.me/run\" target=\"_blank\">docs</a>)<br/>"
            ]
          },
          "metadata": {}
        },
        {
          "output_type": "stream",
          "name": "stderr",
          "text": [
            "\u001b[34m\u001b[1mwandb\u001b[0m: Downloading large artifact arimax-trained-1Q:v0, 97.31MB. 1 files... Done. 0:0:0\n"
          ]
        },
        {
          "output_type": "display_data",
          "data": {
            "text/plain": [
              "<IPython.core.display.HTML object>"
            ],
            "text/html": [
              "Waiting for W&B process to finish... <strong style=\"color:green\">(success).</strong>"
            ]
          },
          "metadata": {}
        },
        {
          "output_type": "display_data",
          "data": {
            "text/plain": [
              "VBox(children=(Label(value='0.001 MB of 0.001 MB uploaded (0.000 MB deduped)\\r'), FloatProgress(value=1.0, max…"
            ],
            "application/vnd.jupyter.widget-view+json": {
              "version_major": 2,
              "version_minor": 0,
              "model_id": "bef0eba2cd7648c99a0f1905a9d9f307"
            }
          },
          "metadata": {}
        },
        {
          "output_type": "display_data",
          "data": {
            "text/plain": [
              "<IPython.core.display.HTML object>"
            ],
            "text/html": [
              "Synced <strong style=\"color:#cdcd00\">warm-water-245</strong>: <a href=\"https://wandb.ai/krankile/master-test/runs/3ox0c6by\" target=\"_blank\">https://wandb.ai/krankile/master-test/runs/3ox0c6by</a><br/>Synced 5 W&B file(s), 0 media file(s), 0 artifact file(s) and 0 other file(s)"
            ]
          },
          "metadata": {}
        },
        {
          "output_type": "display_data",
          "data": {
            "text/plain": [
              "<IPython.core.display.HTML object>"
            ],
            "text/html": [
              "Find logs at: <code>./wandb/run-20220514_101816-3ox0c6by/logs</code>"
            ]
          },
          "metadata": {}
        }
      ]
    },
    {
      "cell_type": "code",
      "source": [
        "revenues = {}\n",
        "for ticker, (model, columns) in tqdm(models.items()):\n",
        "    if \"revenue\" not in columns:\n",
        "        continue\n",
        "    rev_idx = columns.index(\"revenue\")\n",
        "    \n",
        "    revenues[ticker] = model.model_.params()[rev_idx]"
      ],
      "metadata": {
        "colab": {
          "base_uri": "https://localhost:8080/"
        },
        "id": "_02AyCQ2E3L2",
        "outputId": "7a75bb50-b5e0-44e1-cf8f-13081397acdf"
      },
      "execution_count": 42,
      "outputs": [
        {
          "output_type": "stream",
          "name": "stderr",
          "text": [
            "100%|██████████| 806/806 [00:00<00:00, 59433.01it/s]\n"
          ]
        }
      ]
    },
    {
      "cell_type": "code",
      "source": [
        "scaled_rev = []\n",
        "\n",
        "for ticker, revenue in tqdm(revenues.items()):\n",
        "    s = stck.loc[(ticker,)]\n",
        "    f = fund.loc[(ticker,)]\n",
        "\n",
        "    s = (\n",
        "        s.join(f, how=\"left\", rsuffix=\"_fund\")\n",
        "        .join(macr, how=\"left\", rsuffix=\"_macr\")\n",
        "        .ffill()\n",
        "    )\n",
        "    max_rev = s.iloc[-60:, :].revenue.max()\n",
        "\n",
        "    print(max_rev)\n",
        "    break"
      ],
      "metadata": {
        "colab": {
          "base_uri": "https://localhost:8080/",
          "height": 264
        },
        "id": "AnvneDSaFieX",
        "outputId": "94248b62-0a2a-4313-ddd8-486c03ec026e"
      },
      "execution_count": 44,
      "outputs": [
        {
          "output_type": "stream",
          "name": "stderr",
          "text": [
            "  0%|          | 0/660 [00:00<?, ?it/s]\n"
          ]
        },
        {
          "output_type": "error",
          "ename": "NameError",
          "evalue": "ignored",
          "traceback": [
            "\u001b[0;31m---------------------------------------------------------------------------\u001b[0m",
            "\u001b[0;31mNameError\u001b[0m                                 Traceback (most recent call last)",
            "\u001b[0;32m<ipython-input-44-95b44f08d16f>\u001b[0m in \u001b[0;36m<module>\u001b[0;34m()\u001b[0m\n\u001b[1;32m      2\u001b[0m \u001b[0;34m\u001b[0m\u001b[0m\n\u001b[1;32m      3\u001b[0m \u001b[0;32mfor\u001b[0m \u001b[0mticker\u001b[0m\u001b[0;34m,\u001b[0m \u001b[0mrevenue\u001b[0m \u001b[0;32min\u001b[0m \u001b[0mtqdm\u001b[0m\u001b[0;34m(\u001b[0m\u001b[0mrevenues\u001b[0m\u001b[0;34m.\u001b[0m\u001b[0mitems\u001b[0m\u001b[0;34m(\u001b[0m\u001b[0;34m)\u001b[0m\u001b[0;34m)\u001b[0m\u001b[0;34m:\u001b[0m\u001b[0;34m\u001b[0m\u001b[0;34m\u001b[0m\u001b[0m\n\u001b[0;32m----> 4\u001b[0;31m     \u001b[0ms\u001b[0m \u001b[0;34m=\u001b[0m \u001b[0mstck\u001b[0m\u001b[0;34m.\u001b[0m\u001b[0mloc\u001b[0m\u001b[0;34m[\u001b[0m\u001b[0;34m(\u001b[0m\u001b[0mticker\u001b[0m\u001b[0;34m,\u001b[0m\u001b[0;34m)\u001b[0m\u001b[0;34m]\u001b[0m\u001b[0;34m\u001b[0m\u001b[0;34m\u001b[0m\u001b[0m\n\u001b[0m\u001b[1;32m      5\u001b[0m     \u001b[0mf\u001b[0m \u001b[0;34m=\u001b[0m \u001b[0mfund\u001b[0m\u001b[0;34m.\u001b[0m\u001b[0mloc\u001b[0m\u001b[0;34m[\u001b[0m\u001b[0;34m(\u001b[0m\u001b[0mticker\u001b[0m\u001b[0;34m,\u001b[0m\u001b[0;34m)\u001b[0m\u001b[0;34m]\u001b[0m\u001b[0;34m\u001b[0m\u001b[0;34m\u001b[0m\u001b[0m\n\u001b[1;32m      6\u001b[0m \u001b[0;34m\u001b[0m\u001b[0m\n",
            "\u001b[0;31mNameError\u001b[0m: name 'stck' is not defined"
          ]
        }
      ]
    },
    {
      "cell_type": "code",
      "source": [
        "revenues"
      ],
      "metadata": {
        "id": "oipXY-OJHZwv"
      },
      "execution_count": null,
      "outputs": []
    },
    {
      "cell_type": "code",
      "source": [
        ""
      ],
      "metadata": {
        "id": "YB0GDYJlHa3H"
      },
      "execution_count": null,
      "outputs": []
    },
    {
      "cell_type": "markdown",
      "source": [
        "# Initial experiments\n",
        "\n",
        "The below experiments were performed in order to get familiarized with the `pmdarima` library and included here for reference."
      ],
      "metadata": {
        "id": "_1jtFktEISDY"
      }
    },
    {
      "cell_type": "markdown",
      "source": [
        "## A little real-world data\n",
        "\n",
        "Take one company (Aker BP) and prepare the data and test one ARIMAX-model."
      ],
      "metadata": {
        "id": "Qg3fokfd22sX"
      }
    },
    {
      "cell_type": "code",
      "source": [
        "%%capture\n",
        "stck = get_dataset(\"stock-oil-final:v4\", \"master-test\")\n",
        "fund = get_dataset(\"fundamentals-oil-final:v4\", \"master-test\").astype({\"date\": np.datetime64, \"period_end_date\": np.datetime64, \"announce_date\": np.datetime64})\n",
        "meta = get_dataset(\"meta-oil-final:v4\", \"master-test\")"
      ],
      "metadata": {
        "id": "k_Vm1L8H4A0m"
      },
      "execution_count": null,
      "outputs": []
    },
    {
      "cell_type": "markdown",
      "source": [
        "### Prepare the data"
      ],
      "metadata": {
        "id": "1tPYEJN4dc1y"
      }
    },
    {
      "cell_type": "code",
      "source": [
        "ticker = \"AKRBP.OL\"\n",
        "\n",
        "aker_s = stck[(stck.ticker == ticker) & (stck.date >= \"2018-01-01\")].set_index(\"date\")\n",
        "print(aker_s.shape)\n",
        "aker_s.head()"
      ],
      "metadata": {
        "colab": {
          "base_uri": "https://localhost:8080/",
          "height": 255
        },
        "id": "uNENvmSwAERw",
        "outputId": "ab6d6650-4833-4e80-ef82-964fdd603e98"
      },
      "execution_count": null,
      "outputs": [
        {
          "output_type": "stream",
          "name": "stdout",
          "text": [
            "(1078, 4)\n"
          ]
        },
        {
          "output_type": "execute_result",
          "data": {
            "text/plain": [
              "              ticker         market_cap  close_price currency\n",
              "date                                                         \n",
              "2018-01-02  AKRBP.OL  9049035666.637951    25.128287      USD\n",
              "2018-01-03  AKRBP.OL   9200288357.99711    25.548301      USD\n",
              "2018-01-04  AKRBP.OL   9298265319.07136    25.820374      USD\n",
              "2018-01-05  AKRBP.OL  9380450069.769461    26.048593      USD\n",
              "2018-01-08  AKRBP.OL  9417996570.013371    26.152856      USD"
            ],
            "text/html": [
              "\n",
              "  <div id=\"df-e549959e-b144-4571-8e5e-aa6eca0f2d21\">\n",
              "    <div class=\"colab-df-container\">\n",
              "      <div>\n",
              "<style scoped>\n",
              "    .dataframe tbody tr th:only-of-type {\n",
              "        vertical-align: middle;\n",
              "    }\n",
              "\n",
              "    .dataframe tbody tr th {\n",
              "        vertical-align: top;\n",
              "    }\n",
              "\n",
              "    .dataframe thead th {\n",
              "        text-align: right;\n",
              "    }\n",
              "</style>\n",
              "<table border=\"1\" class=\"dataframe\">\n",
              "  <thead>\n",
              "    <tr style=\"text-align: right;\">\n",
              "      <th></th>\n",
              "      <th>ticker</th>\n",
              "      <th>market_cap</th>\n",
              "      <th>close_price</th>\n",
              "      <th>currency</th>\n",
              "    </tr>\n",
              "    <tr>\n",
              "      <th>date</th>\n",
              "      <th></th>\n",
              "      <th></th>\n",
              "      <th></th>\n",
              "      <th></th>\n",
              "    </tr>\n",
              "  </thead>\n",
              "  <tbody>\n",
              "    <tr>\n",
              "      <th>2018-01-02</th>\n",
              "      <td>AKRBP.OL</td>\n",
              "      <td>9049035666.637951</td>\n",
              "      <td>25.128287</td>\n",
              "      <td>USD</td>\n",
              "    </tr>\n",
              "    <tr>\n",
              "      <th>2018-01-03</th>\n",
              "      <td>AKRBP.OL</td>\n",
              "      <td>9200288357.99711</td>\n",
              "      <td>25.548301</td>\n",
              "      <td>USD</td>\n",
              "    </tr>\n",
              "    <tr>\n",
              "      <th>2018-01-04</th>\n",
              "      <td>AKRBP.OL</td>\n",
              "      <td>9298265319.07136</td>\n",
              "      <td>25.820374</td>\n",
              "      <td>USD</td>\n",
              "    </tr>\n",
              "    <tr>\n",
              "      <th>2018-01-05</th>\n",
              "      <td>AKRBP.OL</td>\n",
              "      <td>9380450069.769461</td>\n",
              "      <td>26.048593</td>\n",
              "      <td>USD</td>\n",
              "    </tr>\n",
              "    <tr>\n",
              "      <th>2018-01-08</th>\n",
              "      <td>AKRBP.OL</td>\n",
              "      <td>9417996570.013371</td>\n",
              "      <td>26.152856</td>\n",
              "      <td>USD</td>\n",
              "    </tr>\n",
              "  </tbody>\n",
              "</table>\n",
              "</div>\n",
              "      <button class=\"colab-df-convert\" onclick=\"convertToInteractive('df-e549959e-b144-4571-8e5e-aa6eca0f2d21')\"\n",
              "              title=\"Convert this dataframe to an interactive table.\"\n",
              "              style=\"display:none;\">\n",
              "        \n",
              "  <svg xmlns=\"http://www.w3.org/2000/svg\" height=\"24px\"viewBox=\"0 0 24 24\"\n",
              "       width=\"24px\">\n",
              "    <path d=\"M0 0h24v24H0V0z\" fill=\"none\"/>\n",
              "    <path d=\"M18.56 5.44l.94 2.06.94-2.06 2.06-.94-2.06-.94-.94-2.06-.94 2.06-2.06.94zm-11 1L8.5 8.5l.94-2.06 2.06-.94-2.06-.94L8.5 2.5l-.94 2.06-2.06.94zm10 10l.94 2.06.94-2.06 2.06-.94-2.06-.94-.94-2.06-.94 2.06-2.06.94z\"/><path d=\"M17.41 7.96l-1.37-1.37c-.4-.4-.92-.59-1.43-.59-.52 0-1.04.2-1.43.59L10.3 9.45l-7.72 7.72c-.78.78-.78 2.05 0 2.83L4 21.41c.39.39.9.59 1.41.59.51 0 1.02-.2 1.41-.59l7.78-7.78 2.81-2.81c.8-.78.8-2.07 0-2.86zM5.41 20L4 18.59l7.72-7.72 1.47 1.35L5.41 20z\"/>\n",
              "  </svg>\n",
              "      </button>\n",
              "      \n",
              "  <style>\n",
              "    .colab-df-container {\n",
              "      display:flex;\n",
              "      flex-wrap:wrap;\n",
              "      gap: 12px;\n",
              "    }\n",
              "\n",
              "    .colab-df-convert {\n",
              "      background-color: #E8F0FE;\n",
              "      border: none;\n",
              "      border-radius: 50%;\n",
              "      cursor: pointer;\n",
              "      display: none;\n",
              "      fill: #1967D2;\n",
              "      height: 32px;\n",
              "      padding: 0 0 0 0;\n",
              "      width: 32px;\n",
              "    }\n",
              "\n",
              "    .colab-df-convert:hover {\n",
              "      background-color: #E2EBFA;\n",
              "      box-shadow: 0px 1px 2px rgba(60, 64, 67, 0.3), 0px 1px 3px 1px rgba(60, 64, 67, 0.15);\n",
              "      fill: #174EA6;\n",
              "    }\n",
              "\n",
              "    [theme=dark] .colab-df-convert {\n",
              "      background-color: #3B4455;\n",
              "      fill: #D2E3FC;\n",
              "    }\n",
              "\n",
              "    [theme=dark] .colab-df-convert:hover {\n",
              "      background-color: #434B5C;\n",
              "      box-shadow: 0px 1px 3px 1px rgba(0, 0, 0, 0.15);\n",
              "      filter: drop-shadow(0px 1px 2px rgba(0, 0, 0, 0.3));\n",
              "      fill: #FFFFFF;\n",
              "    }\n",
              "  </style>\n",
              "\n",
              "      <script>\n",
              "        const buttonEl =\n",
              "          document.querySelector('#df-e549959e-b144-4571-8e5e-aa6eca0f2d21 button.colab-df-convert');\n",
              "        buttonEl.style.display =\n",
              "          google.colab.kernel.accessAllowed ? 'block' : 'none';\n",
              "\n",
              "        async function convertToInteractive(key) {\n",
              "          const element = document.querySelector('#df-e549959e-b144-4571-8e5e-aa6eca0f2d21');\n",
              "          const dataTable =\n",
              "            await google.colab.kernel.invokeFunction('convertToInteractive',\n",
              "                                                     [key], {});\n",
              "          if (!dataTable) return;\n",
              "\n",
              "          const docLinkHtml = 'Like what you see? Visit the ' +\n",
              "            '<a target=\"_blank\" href=https://colab.research.google.com/notebooks/data_table.ipynb>data table notebook</a>'\n",
              "            + ' to learn more about interactive tables.';\n",
              "          element.innerHTML = '';\n",
              "          dataTable['output_type'] = 'display_data';\n",
              "          await google.colab.output.renderOutput(dataTable, element);\n",
              "          const docLink = document.createElement('div');\n",
              "          docLink.innerHTML = docLinkHtml;\n",
              "          element.appendChild(docLink);\n",
              "        }\n",
              "      </script>\n",
              "    </div>\n",
              "  </div>\n",
              "  "
            ]
          },
          "metadata": {},
          "execution_count": 15
        }
      ]
    },
    {
      "cell_type": "code",
      "source": [
        "aker_f = (\n",
        "    fund[(fund.ticker == ticker) & (fund.announce_date >= \"2018-01-01\")]\n",
        "    .set_index(\"announce_date\")\n",
        "    .drop(columns=[\"period_end_date\"])\n",
        ")\n",
        "\n",
        "aker_f = aker_f.sort_index()\n",
        "aker_f = aker_f[~aker_f.index.duplicated(keep=\"last\")]\n",
        "\n",
        "print(aker_f.shape)\n",
        "aker_f.head()"
      ],
      "metadata": {
        "colab": {
          "base_uri": "https://localhost:8080/",
          "height": 406
        },
        "id": "C9GJE3i0AnI6",
        "outputId": "361cf03e-4da1-4a8f-8e5d-a35b30f3fdfd"
      },
      "execution_count": null,
      "outputs": [
        {
          "output_type": "stream",
          "name": "stdout",
          "text": [
            "(13, 18)\n"
          ]
        },
        {
          "output_type": "execute_result",
          "data": {
            "text/plain": [
              "                 ticker       date       revenue  gross_profit       ebitda  \\\n",
              "announce_date                                                                 \n",
              "2018-02-02     AKRBP.OL 2017-12-31   725994000.0   578918000.0  509189000.0   \n",
              "2019-04-26     AKRBP.OL 2019-03-31   836262000.0   635800000.0  538582000.0   \n",
              "2019-07-12     AKRBP.OL 2019-06-30   784816000.0   586496000.0  522353000.0   \n",
              "2019-10-22     AKRBP.OL 2019-09-30   723338000.0   556071000.0  479821000.0   \n",
              "2020-02-11     AKRBP.OL 2019-12-31  1002672000.0   848400000.0  745169000.0   \n",
              "\n",
              "                      ebit   net_income   total_assets  total_current_assets  \\\n",
              "announce_date                                                                  \n",
              "2018-02-02     326051000.0   34037000.0  12018560000.0          2532069000.0   \n",
              "2019-04-26     355479000.0   10426000.0  11116582000.0           618708000.0   \n",
              "2019-07-12     354464000.0   62498000.0  11492580000.0           603432000.0   \n",
              "2019-10-22     273954000.0  -43423000.0  11726805000.0           578073000.0   \n",
              "2020-02-11     490153000.0  111550000.0  12226786000.0           718603000.0   \n",
              "\n",
              "               total_liabilites  total_current_liabilities  \\\n",
              "announce_date                                                \n",
              "2018-02-02         9029964000.0               2888476000.0   \n",
              "2019-04-26         8317118000.0               1443653000.0   \n",
              "2019-07-12         8828783000.0               1390355000.0   \n",
              "2019-10-22         9283266000.0               1530037000.0   \n",
              "2020-02-11         9859201000.0               1715361000.0   \n",
              "\n",
              "               long_term_debt_p_assets  short_term_debt_p_assets          fcf  \\\n",
              "announce_date                                                                   \n",
              "2018-02-02                    15.74727                  12.45053  266124000.0   \n",
              "2019-04-26                    22.50158                       0.0  100244000.0   \n",
              "2019-07-12                    25.12101                       0.0 -114713000.0   \n",
              "2019-10-22                    24.99394                   0.12791 -167192000.0   \n",
              "2020-02-11                    26.68453                   0.12791   -6592000.0   \n",
              "\n",
              "               gross_profit_p  ebitda_p    ebit_p  net_income_p  \n",
              "announce_date                                                    \n",
              "2018-02-02           0.797414  0.701368  0.449110      0.046883  \n",
              "2019-04-26           0.760288  0.644035  0.425081      0.012467  \n",
              "2019-07-12           0.747304  0.665574  0.451652      0.079634  \n",
              "2019-10-22           0.768757  0.663343  0.378736     -0.060031  \n",
              "2020-02-11           0.846139  0.743183  0.488847      0.111253  "
            ],
            "text/html": [
              "\n",
              "  <div id=\"df-14d93b69-6709-44c6-af82-15494bc86730\">\n",
              "    <div class=\"colab-df-container\">\n",
              "      <div>\n",
              "<style scoped>\n",
              "    .dataframe tbody tr th:only-of-type {\n",
              "        vertical-align: middle;\n",
              "    }\n",
              "\n",
              "    .dataframe tbody tr th {\n",
              "        vertical-align: top;\n",
              "    }\n",
              "\n",
              "    .dataframe thead th {\n",
              "        text-align: right;\n",
              "    }\n",
              "</style>\n",
              "<table border=\"1\" class=\"dataframe\">\n",
              "  <thead>\n",
              "    <tr style=\"text-align: right;\">\n",
              "      <th></th>\n",
              "      <th>ticker</th>\n",
              "      <th>date</th>\n",
              "      <th>revenue</th>\n",
              "      <th>gross_profit</th>\n",
              "      <th>ebitda</th>\n",
              "      <th>ebit</th>\n",
              "      <th>net_income</th>\n",
              "      <th>total_assets</th>\n",
              "      <th>total_current_assets</th>\n",
              "      <th>total_liabilites</th>\n",
              "      <th>total_current_liabilities</th>\n",
              "      <th>long_term_debt_p_assets</th>\n",
              "      <th>short_term_debt_p_assets</th>\n",
              "      <th>fcf</th>\n",
              "      <th>gross_profit_p</th>\n",
              "      <th>ebitda_p</th>\n",
              "      <th>ebit_p</th>\n",
              "      <th>net_income_p</th>\n",
              "    </tr>\n",
              "    <tr>\n",
              "      <th>announce_date</th>\n",
              "      <th></th>\n",
              "      <th></th>\n",
              "      <th></th>\n",
              "      <th></th>\n",
              "      <th></th>\n",
              "      <th></th>\n",
              "      <th></th>\n",
              "      <th></th>\n",
              "      <th></th>\n",
              "      <th></th>\n",
              "      <th></th>\n",
              "      <th></th>\n",
              "      <th></th>\n",
              "      <th></th>\n",
              "      <th></th>\n",
              "      <th></th>\n",
              "      <th></th>\n",
              "      <th></th>\n",
              "    </tr>\n",
              "  </thead>\n",
              "  <tbody>\n",
              "    <tr>\n",
              "      <th>2018-02-02</th>\n",
              "      <td>AKRBP.OL</td>\n",
              "      <td>2017-12-31</td>\n",
              "      <td>725994000.0</td>\n",
              "      <td>578918000.0</td>\n",
              "      <td>509189000.0</td>\n",
              "      <td>326051000.0</td>\n",
              "      <td>34037000.0</td>\n",
              "      <td>12018560000.0</td>\n",
              "      <td>2532069000.0</td>\n",
              "      <td>9029964000.0</td>\n",
              "      <td>2888476000.0</td>\n",
              "      <td>15.74727</td>\n",
              "      <td>12.45053</td>\n",
              "      <td>266124000.0</td>\n",
              "      <td>0.797414</td>\n",
              "      <td>0.701368</td>\n",
              "      <td>0.449110</td>\n",
              "      <td>0.046883</td>\n",
              "    </tr>\n",
              "    <tr>\n",
              "      <th>2019-04-26</th>\n",
              "      <td>AKRBP.OL</td>\n",
              "      <td>2019-03-31</td>\n",
              "      <td>836262000.0</td>\n",
              "      <td>635800000.0</td>\n",
              "      <td>538582000.0</td>\n",
              "      <td>355479000.0</td>\n",
              "      <td>10426000.0</td>\n",
              "      <td>11116582000.0</td>\n",
              "      <td>618708000.0</td>\n",
              "      <td>8317118000.0</td>\n",
              "      <td>1443653000.0</td>\n",
              "      <td>22.50158</td>\n",
              "      <td>0.0</td>\n",
              "      <td>100244000.0</td>\n",
              "      <td>0.760288</td>\n",
              "      <td>0.644035</td>\n",
              "      <td>0.425081</td>\n",
              "      <td>0.012467</td>\n",
              "    </tr>\n",
              "    <tr>\n",
              "      <th>2019-07-12</th>\n",
              "      <td>AKRBP.OL</td>\n",
              "      <td>2019-06-30</td>\n",
              "      <td>784816000.0</td>\n",
              "      <td>586496000.0</td>\n",
              "      <td>522353000.0</td>\n",
              "      <td>354464000.0</td>\n",
              "      <td>62498000.0</td>\n",
              "      <td>11492580000.0</td>\n",
              "      <td>603432000.0</td>\n",
              "      <td>8828783000.0</td>\n",
              "      <td>1390355000.0</td>\n",
              "      <td>25.12101</td>\n",
              "      <td>0.0</td>\n",
              "      <td>-114713000.0</td>\n",
              "      <td>0.747304</td>\n",
              "      <td>0.665574</td>\n",
              "      <td>0.451652</td>\n",
              "      <td>0.079634</td>\n",
              "    </tr>\n",
              "    <tr>\n",
              "      <th>2019-10-22</th>\n",
              "      <td>AKRBP.OL</td>\n",
              "      <td>2019-09-30</td>\n",
              "      <td>723338000.0</td>\n",
              "      <td>556071000.0</td>\n",
              "      <td>479821000.0</td>\n",
              "      <td>273954000.0</td>\n",
              "      <td>-43423000.0</td>\n",
              "      <td>11726805000.0</td>\n",
              "      <td>578073000.0</td>\n",
              "      <td>9283266000.0</td>\n",
              "      <td>1530037000.0</td>\n",
              "      <td>24.99394</td>\n",
              "      <td>0.12791</td>\n",
              "      <td>-167192000.0</td>\n",
              "      <td>0.768757</td>\n",
              "      <td>0.663343</td>\n",
              "      <td>0.378736</td>\n",
              "      <td>-0.060031</td>\n",
              "    </tr>\n",
              "    <tr>\n",
              "      <th>2020-02-11</th>\n",
              "      <td>AKRBP.OL</td>\n",
              "      <td>2019-12-31</td>\n",
              "      <td>1002672000.0</td>\n",
              "      <td>848400000.0</td>\n",
              "      <td>745169000.0</td>\n",
              "      <td>490153000.0</td>\n",
              "      <td>111550000.0</td>\n",
              "      <td>12226786000.0</td>\n",
              "      <td>718603000.0</td>\n",
              "      <td>9859201000.0</td>\n",
              "      <td>1715361000.0</td>\n",
              "      <td>26.68453</td>\n",
              "      <td>0.12791</td>\n",
              "      <td>-6592000.0</td>\n",
              "      <td>0.846139</td>\n",
              "      <td>0.743183</td>\n",
              "      <td>0.488847</td>\n",
              "      <td>0.111253</td>\n",
              "    </tr>\n",
              "  </tbody>\n",
              "</table>\n",
              "</div>\n",
              "      <button class=\"colab-df-convert\" onclick=\"convertToInteractive('df-14d93b69-6709-44c6-af82-15494bc86730')\"\n",
              "              title=\"Convert this dataframe to an interactive table.\"\n",
              "              style=\"display:none;\">\n",
              "        \n",
              "  <svg xmlns=\"http://www.w3.org/2000/svg\" height=\"24px\"viewBox=\"0 0 24 24\"\n",
              "       width=\"24px\">\n",
              "    <path d=\"M0 0h24v24H0V0z\" fill=\"none\"/>\n",
              "    <path d=\"M18.56 5.44l.94 2.06.94-2.06 2.06-.94-2.06-.94-.94-2.06-.94 2.06-2.06.94zm-11 1L8.5 8.5l.94-2.06 2.06-.94-2.06-.94L8.5 2.5l-.94 2.06-2.06.94zm10 10l.94 2.06.94-2.06 2.06-.94-2.06-.94-.94-2.06-.94 2.06-2.06.94z\"/><path d=\"M17.41 7.96l-1.37-1.37c-.4-.4-.92-.59-1.43-.59-.52 0-1.04.2-1.43.59L10.3 9.45l-7.72 7.72c-.78.78-.78 2.05 0 2.83L4 21.41c.39.39.9.59 1.41.59.51 0 1.02-.2 1.41-.59l7.78-7.78 2.81-2.81c.8-.78.8-2.07 0-2.86zM5.41 20L4 18.59l7.72-7.72 1.47 1.35L5.41 20z\"/>\n",
              "  </svg>\n",
              "      </button>\n",
              "      \n",
              "  <style>\n",
              "    .colab-df-container {\n",
              "      display:flex;\n",
              "      flex-wrap:wrap;\n",
              "      gap: 12px;\n",
              "    }\n",
              "\n",
              "    .colab-df-convert {\n",
              "      background-color: #E8F0FE;\n",
              "      border: none;\n",
              "      border-radius: 50%;\n",
              "      cursor: pointer;\n",
              "      display: none;\n",
              "      fill: #1967D2;\n",
              "      height: 32px;\n",
              "      padding: 0 0 0 0;\n",
              "      width: 32px;\n",
              "    }\n",
              "\n",
              "    .colab-df-convert:hover {\n",
              "      background-color: #E2EBFA;\n",
              "      box-shadow: 0px 1px 2px rgba(60, 64, 67, 0.3), 0px 1px 3px 1px rgba(60, 64, 67, 0.15);\n",
              "      fill: #174EA6;\n",
              "    }\n",
              "\n",
              "    [theme=dark] .colab-df-convert {\n",
              "      background-color: #3B4455;\n",
              "      fill: #D2E3FC;\n",
              "    }\n",
              "\n",
              "    [theme=dark] .colab-df-convert:hover {\n",
              "      background-color: #434B5C;\n",
              "      box-shadow: 0px 1px 3px 1px rgba(0, 0, 0, 0.15);\n",
              "      filter: drop-shadow(0px 1px 2px rgba(0, 0, 0, 0.3));\n",
              "      fill: #FFFFFF;\n",
              "    }\n",
              "  </style>\n",
              "\n",
              "      <script>\n",
              "        const buttonEl =\n",
              "          document.querySelector('#df-14d93b69-6709-44c6-af82-15494bc86730 button.colab-df-convert');\n",
              "        buttonEl.style.display =\n",
              "          google.colab.kernel.accessAllowed ? 'block' : 'none';\n",
              "\n",
              "        async function convertToInteractive(key) {\n",
              "          const element = document.querySelector('#df-14d93b69-6709-44c6-af82-15494bc86730');\n",
              "          const dataTable =\n",
              "            await google.colab.kernel.invokeFunction('convertToInteractive',\n",
              "                                                     [key], {});\n",
              "          if (!dataTable) return;\n",
              "\n",
              "          const docLinkHtml = 'Like what you see? Visit the ' +\n",
              "            '<a target=\"_blank\" href=https://colab.research.google.com/notebooks/data_table.ipynb>data table notebook</a>'\n",
              "            + ' to learn more about interactive tables.';\n",
              "          element.innerHTML = '';\n",
              "          dataTable['output_type'] = 'display_data';\n",
              "          await google.colab.output.renderOutput(dataTable, element);\n",
              "          const docLink = document.createElement('div');\n",
              "          docLink.innerHTML = docLinkHtml;\n",
              "          element.appendChild(docLink);\n",
              "        }\n",
              "      </script>\n",
              "    </div>\n",
              "  </div>\n",
              "  "
            ]
          },
          "metadata": {},
          "execution_count": 16
        }
      ]
    },
    {
      "cell_type": "code",
      "source": [
        "aker_m = meta[(meta.ticker == ticker)]\n",
        "aker_m.head()"
      ],
      "metadata": {
        "colab": {
          "base_uri": "https://localhost:8080/",
          "height": 142
        },
        "id": "timcnWu5Bp-m",
        "outputId": "f70e42e8-11fd-4fe3-93cb-79244d0a6222"
      },
      "execution_count": null,
      "outputs": [
        {
          "output_type": "execute_result",
          "data": {
            "text/plain": [
              "       ticker exchange_code region_hq country_hq state_province_hq  \\\n",
              "241  AKRBP.OL          XOSL    Europe     Norway          AKERSHUS   \n",
              "\n",
              "     founding_year economic_sector        business_sector industry_group  \\\n",
              "241           2006          Energy  Energy - Fossil Fuels      Oil & Gas   \n",
              "\n",
              "                                 industry  \\\n",
              "241  Oil & Gas Exploration and Production   \n",
              "\n",
              "                                       activity  \n",
              "241  Oil & Gas Exploration and Production (NEC)  "
            ],
            "text/html": [
              "\n",
              "  <div id=\"df-b7fe399d-9e56-4614-9515-451c4291152c\">\n",
              "    <div class=\"colab-df-container\">\n",
              "      <div>\n",
              "<style scoped>\n",
              "    .dataframe tbody tr th:only-of-type {\n",
              "        vertical-align: middle;\n",
              "    }\n",
              "\n",
              "    .dataframe tbody tr th {\n",
              "        vertical-align: top;\n",
              "    }\n",
              "\n",
              "    .dataframe thead th {\n",
              "        text-align: right;\n",
              "    }\n",
              "</style>\n",
              "<table border=\"1\" class=\"dataframe\">\n",
              "  <thead>\n",
              "    <tr style=\"text-align: right;\">\n",
              "      <th></th>\n",
              "      <th>ticker</th>\n",
              "      <th>exchange_code</th>\n",
              "      <th>region_hq</th>\n",
              "      <th>country_hq</th>\n",
              "      <th>state_province_hq</th>\n",
              "      <th>founding_year</th>\n",
              "      <th>economic_sector</th>\n",
              "      <th>business_sector</th>\n",
              "      <th>industry_group</th>\n",
              "      <th>industry</th>\n",
              "      <th>activity</th>\n",
              "    </tr>\n",
              "  </thead>\n",
              "  <tbody>\n",
              "    <tr>\n",
              "      <th>241</th>\n",
              "      <td>AKRBP.OL</td>\n",
              "      <td>XOSL</td>\n",
              "      <td>Europe</td>\n",
              "      <td>Norway</td>\n",
              "      <td>AKERSHUS</td>\n",
              "      <td>2006</td>\n",
              "      <td>Energy</td>\n",
              "      <td>Energy - Fossil Fuels</td>\n",
              "      <td>Oil &amp; Gas</td>\n",
              "      <td>Oil &amp; Gas Exploration and Production</td>\n",
              "      <td>Oil &amp; Gas Exploration and Production (NEC)</td>\n",
              "    </tr>\n",
              "  </tbody>\n",
              "</table>\n",
              "</div>\n",
              "      <button class=\"colab-df-convert\" onclick=\"convertToInteractive('df-b7fe399d-9e56-4614-9515-451c4291152c')\"\n",
              "              title=\"Convert this dataframe to an interactive table.\"\n",
              "              style=\"display:none;\">\n",
              "        \n",
              "  <svg xmlns=\"http://www.w3.org/2000/svg\" height=\"24px\"viewBox=\"0 0 24 24\"\n",
              "       width=\"24px\">\n",
              "    <path d=\"M0 0h24v24H0V0z\" fill=\"none\"/>\n",
              "    <path d=\"M18.56 5.44l.94 2.06.94-2.06 2.06-.94-2.06-.94-.94-2.06-.94 2.06-2.06.94zm-11 1L8.5 8.5l.94-2.06 2.06-.94-2.06-.94L8.5 2.5l-.94 2.06-2.06.94zm10 10l.94 2.06.94-2.06 2.06-.94-2.06-.94-.94-2.06-.94 2.06-2.06.94z\"/><path d=\"M17.41 7.96l-1.37-1.37c-.4-.4-.92-.59-1.43-.59-.52 0-1.04.2-1.43.59L10.3 9.45l-7.72 7.72c-.78.78-.78 2.05 0 2.83L4 21.41c.39.39.9.59 1.41.59.51 0 1.02-.2 1.41-.59l7.78-7.78 2.81-2.81c.8-.78.8-2.07 0-2.86zM5.41 20L4 18.59l7.72-7.72 1.47 1.35L5.41 20z\"/>\n",
              "  </svg>\n",
              "      </button>\n",
              "      \n",
              "  <style>\n",
              "    .colab-df-container {\n",
              "      display:flex;\n",
              "      flex-wrap:wrap;\n",
              "      gap: 12px;\n",
              "    }\n",
              "\n",
              "    .colab-df-convert {\n",
              "      background-color: #E8F0FE;\n",
              "      border: none;\n",
              "      border-radius: 50%;\n",
              "      cursor: pointer;\n",
              "      display: none;\n",
              "      fill: #1967D2;\n",
              "      height: 32px;\n",
              "      padding: 0 0 0 0;\n",
              "      width: 32px;\n",
              "    }\n",
              "\n",
              "    .colab-df-convert:hover {\n",
              "      background-color: #E2EBFA;\n",
              "      box-shadow: 0px 1px 2px rgba(60, 64, 67, 0.3), 0px 1px 3px 1px rgba(60, 64, 67, 0.15);\n",
              "      fill: #174EA6;\n",
              "    }\n",
              "\n",
              "    [theme=dark] .colab-df-convert {\n",
              "      background-color: #3B4455;\n",
              "      fill: #D2E3FC;\n",
              "    }\n",
              "\n",
              "    [theme=dark] .colab-df-convert:hover {\n",
              "      background-color: #434B5C;\n",
              "      box-shadow: 0px 1px 3px 1px rgba(0, 0, 0, 0.15);\n",
              "      filter: drop-shadow(0px 1px 2px rgba(0, 0, 0, 0.3));\n",
              "      fill: #FFFFFF;\n",
              "    }\n",
              "  </style>\n",
              "\n",
              "      <script>\n",
              "        const buttonEl =\n",
              "          document.querySelector('#df-b7fe399d-9e56-4614-9515-451c4291152c button.colab-df-convert');\n",
              "        buttonEl.style.display =\n",
              "          google.colab.kernel.accessAllowed ? 'block' : 'none';\n",
              "\n",
              "        async function convertToInteractive(key) {\n",
              "          const element = document.querySelector('#df-b7fe399d-9e56-4614-9515-451c4291152c');\n",
              "          const dataTable =\n",
              "            await google.colab.kernel.invokeFunction('convertToInteractive',\n",
              "                                                     [key], {});\n",
              "          if (!dataTable) return;\n",
              "\n",
              "          const docLinkHtml = 'Like what you see? Visit the ' +\n",
              "            '<a target=\"_blank\" href=https://colab.research.google.com/notebooks/data_table.ipynb>data table notebook</a>'\n",
              "            + ' to learn more about interactive tables.';\n",
              "          element.innerHTML = '';\n",
              "          dataTable['output_type'] = 'display_data';\n",
              "          await google.colab.output.renderOutput(dataTable, element);\n",
              "          const docLink = document.createElement('div');\n",
              "          docLink.innerHTML = docLinkHtml;\n",
              "          element.appendChild(docLink);\n",
              "        }\n",
              "      </script>\n",
              "    </div>\n",
              "  </div>\n",
              "  "
            ]
          },
          "metadata": {},
          "execution_count": 17
        }
      ]
    },
    {
      "cell_type": "code",
      "source": [
        "joined = aker_s.join(aker_f, how=\"left\", rsuffix=\"_fund\")"
      ],
      "metadata": {
        "id": "6IToAsjIL4QC"
      },
      "execution_count": null,
      "outputs": []
    },
    {
      "cell_type": "code",
      "source": [
        "joined = joined.ffill()\n",
        "joined = joined[~joined.revenue.isna()].copy()\n",
        "joined.head()"
      ],
      "metadata": {
        "colab": {
          "base_uri": "https://localhost:8080/",
          "height": 418
        },
        "id": "3r1RvWEIOQ2T",
        "outputId": "29f605c1-b55e-4c40-ebba-dc48ce30490c"
      },
      "execution_count": null,
      "outputs": [
        {
          "output_type": "execute_result",
          "data": {
            "text/plain": [
              "              ticker          market_cap  close_price currency ticker_fund  \\\n",
              "date                                                                         \n",
              "2018-02-02  AKRBP.OL  10163724135.478701    28.223668      USD    AKRBP.OL   \n",
              "2018-02-05  AKRBP.OL    9891561424.55262    27.467899      USD    AKRBP.OL   \n",
              "2018-02-06  AKRBP.OL   9429975035.055611    26.186119      USD    AKRBP.OL   \n",
              "2018-02-07  AKRBP.OL    9577268822.42494    26.595139      USD    AKRBP.OL   \n",
              "2018-02-08  AKRBP.OL   9345333280.791651    25.951077      USD    AKRBP.OL   \n",
              "\n",
              "                 date      revenue  gross_profit       ebitda         ebit  \\\n",
              "date                                                                         \n",
              "2018-02-02 2017-12-31  725994000.0   578918000.0  509189000.0  326051000.0   \n",
              "2018-02-05 2017-12-31  725994000.0   578918000.0  509189000.0  326051000.0   \n",
              "2018-02-06 2017-12-31  725994000.0   578918000.0  509189000.0  326051000.0   \n",
              "2018-02-07 2017-12-31  725994000.0   578918000.0  509189000.0  326051000.0   \n",
              "2018-02-08 2017-12-31  725994000.0   578918000.0  509189000.0  326051000.0   \n",
              "\n",
              "            ...  total_current_assets  total_liabilites  \\\n",
              "date        ...                                           \n",
              "2018-02-02  ...          2532069000.0      9029964000.0   \n",
              "2018-02-05  ...          2532069000.0      9029964000.0   \n",
              "2018-02-06  ...          2532069000.0      9029964000.0   \n",
              "2018-02-07  ...          2532069000.0      9029964000.0   \n",
              "2018-02-08  ...          2532069000.0      9029964000.0   \n",
              "\n",
              "            total_current_liabilities  long_term_debt_p_assets  \\\n",
              "date                                                             \n",
              "2018-02-02               2888476000.0                 15.74727   \n",
              "2018-02-05               2888476000.0                 15.74727   \n",
              "2018-02-06               2888476000.0                 15.74727   \n",
              "2018-02-07               2888476000.0                 15.74727   \n",
              "2018-02-08               2888476000.0                 15.74727   \n",
              "\n",
              "            short_term_debt_p_assets          fcf  gross_profit_p  ebitda_p  \\\n",
              "date                                                                          \n",
              "2018-02-02                  12.45053  266124000.0        0.797414  0.701368   \n",
              "2018-02-05                  12.45053  266124000.0        0.797414  0.701368   \n",
              "2018-02-06                  12.45053  266124000.0        0.797414  0.701368   \n",
              "2018-02-07                  12.45053  266124000.0        0.797414  0.701368   \n",
              "2018-02-08                  12.45053  266124000.0        0.797414  0.701368   \n",
              "\n",
              "             ebit_p  net_income_p  \n",
              "date                               \n",
              "2018-02-02  0.44911      0.046883  \n",
              "2018-02-05  0.44911      0.046883  \n",
              "2018-02-06  0.44911      0.046883  \n",
              "2018-02-07  0.44911      0.046883  \n",
              "2018-02-08  0.44911      0.046883  \n",
              "\n",
              "[5 rows x 22 columns]"
            ],
            "text/html": [
              "\n",
              "  <div id=\"df-d8898e5d-1dd7-4319-b09f-f9049333dce2\">\n",
              "    <div class=\"colab-df-container\">\n",
              "      <div>\n",
              "<style scoped>\n",
              "    .dataframe tbody tr th:only-of-type {\n",
              "        vertical-align: middle;\n",
              "    }\n",
              "\n",
              "    .dataframe tbody tr th {\n",
              "        vertical-align: top;\n",
              "    }\n",
              "\n",
              "    .dataframe thead th {\n",
              "        text-align: right;\n",
              "    }\n",
              "</style>\n",
              "<table border=\"1\" class=\"dataframe\">\n",
              "  <thead>\n",
              "    <tr style=\"text-align: right;\">\n",
              "      <th></th>\n",
              "      <th>ticker</th>\n",
              "      <th>market_cap</th>\n",
              "      <th>close_price</th>\n",
              "      <th>currency</th>\n",
              "      <th>ticker_fund</th>\n",
              "      <th>date</th>\n",
              "      <th>revenue</th>\n",
              "      <th>gross_profit</th>\n",
              "      <th>ebitda</th>\n",
              "      <th>ebit</th>\n",
              "      <th>...</th>\n",
              "      <th>total_current_assets</th>\n",
              "      <th>total_liabilites</th>\n",
              "      <th>total_current_liabilities</th>\n",
              "      <th>long_term_debt_p_assets</th>\n",
              "      <th>short_term_debt_p_assets</th>\n",
              "      <th>fcf</th>\n",
              "      <th>gross_profit_p</th>\n",
              "      <th>ebitda_p</th>\n",
              "      <th>ebit_p</th>\n",
              "      <th>net_income_p</th>\n",
              "    </tr>\n",
              "    <tr>\n",
              "      <th>date</th>\n",
              "      <th></th>\n",
              "      <th></th>\n",
              "      <th></th>\n",
              "      <th></th>\n",
              "      <th></th>\n",
              "      <th></th>\n",
              "      <th></th>\n",
              "      <th></th>\n",
              "      <th></th>\n",
              "      <th></th>\n",
              "      <th></th>\n",
              "      <th></th>\n",
              "      <th></th>\n",
              "      <th></th>\n",
              "      <th></th>\n",
              "      <th></th>\n",
              "      <th></th>\n",
              "      <th></th>\n",
              "      <th></th>\n",
              "      <th></th>\n",
              "      <th></th>\n",
              "    </tr>\n",
              "  </thead>\n",
              "  <tbody>\n",
              "    <tr>\n",
              "      <th>2018-02-02</th>\n",
              "      <td>AKRBP.OL</td>\n",
              "      <td>10163724135.478701</td>\n",
              "      <td>28.223668</td>\n",
              "      <td>USD</td>\n",
              "      <td>AKRBP.OL</td>\n",
              "      <td>2017-12-31</td>\n",
              "      <td>725994000.0</td>\n",
              "      <td>578918000.0</td>\n",
              "      <td>509189000.0</td>\n",
              "      <td>326051000.0</td>\n",
              "      <td>...</td>\n",
              "      <td>2532069000.0</td>\n",
              "      <td>9029964000.0</td>\n",
              "      <td>2888476000.0</td>\n",
              "      <td>15.74727</td>\n",
              "      <td>12.45053</td>\n",
              "      <td>266124000.0</td>\n",
              "      <td>0.797414</td>\n",
              "      <td>0.701368</td>\n",
              "      <td>0.44911</td>\n",
              "      <td>0.046883</td>\n",
              "    </tr>\n",
              "    <tr>\n",
              "      <th>2018-02-05</th>\n",
              "      <td>AKRBP.OL</td>\n",
              "      <td>9891561424.55262</td>\n",
              "      <td>27.467899</td>\n",
              "      <td>USD</td>\n",
              "      <td>AKRBP.OL</td>\n",
              "      <td>2017-12-31</td>\n",
              "      <td>725994000.0</td>\n",
              "      <td>578918000.0</td>\n",
              "      <td>509189000.0</td>\n",
              "      <td>326051000.0</td>\n",
              "      <td>...</td>\n",
              "      <td>2532069000.0</td>\n",
              "      <td>9029964000.0</td>\n",
              "      <td>2888476000.0</td>\n",
              "      <td>15.74727</td>\n",
              "      <td>12.45053</td>\n",
              "      <td>266124000.0</td>\n",
              "      <td>0.797414</td>\n",
              "      <td>0.701368</td>\n",
              "      <td>0.44911</td>\n",
              "      <td>0.046883</td>\n",
              "    </tr>\n",
              "    <tr>\n",
              "      <th>2018-02-06</th>\n",
              "      <td>AKRBP.OL</td>\n",
              "      <td>9429975035.055611</td>\n",
              "      <td>26.186119</td>\n",
              "      <td>USD</td>\n",
              "      <td>AKRBP.OL</td>\n",
              "      <td>2017-12-31</td>\n",
              "      <td>725994000.0</td>\n",
              "      <td>578918000.0</td>\n",
              "      <td>509189000.0</td>\n",
              "      <td>326051000.0</td>\n",
              "      <td>...</td>\n",
              "      <td>2532069000.0</td>\n",
              "      <td>9029964000.0</td>\n",
              "      <td>2888476000.0</td>\n",
              "      <td>15.74727</td>\n",
              "      <td>12.45053</td>\n",
              "      <td>266124000.0</td>\n",
              "      <td>0.797414</td>\n",
              "      <td>0.701368</td>\n",
              "      <td>0.44911</td>\n",
              "      <td>0.046883</td>\n",
              "    </tr>\n",
              "    <tr>\n",
              "      <th>2018-02-07</th>\n",
              "      <td>AKRBP.OL</td>\n",
              "      <td>9577268822.42494</td>\n",
              "      <td>26.595139</td>\n",
              "      <td>USD</td>\n",
              "      <td>AKRBP.OL</td>\n",
              "      <td>2017-12-31</td>\n",
              "      <td>725994000.0</td>\n",
              "      <td>578918000.0</td>\n",
              "      <td>509189000.0</td>\n",
              "      <td>326051000.0</td>\n",
              "      <td>...</td>\n",
              "      <td>2532069000.0</td>\n",
              "      <td>9029964000.0</td>\n",
              "      <td>2888476000.0</td>\n",
              "      <td>15.74727</td>\n",
              "      <td>12.45053</td>\n",
              "      <td>266124000.0</td>\n",
              "      <td>0.797414</td>\n",
              "      <td>0.701368</td>\n",
              "      <td>0.44911</td>\n",
              "      <td>0.046883</td>\n",
              "    </tr>\n",
              "    <tr>\n",
              "      <th>2018-02-08</th>\n",
              "      <td>AKRBP.OL</td>\n",
              "      <td>9345333280.791651</td>\n",
              "      <td>25.951077</td>\n",
              "      <td>USD</td>\n",
              "      <td>AKRBP.OL</td>\n",
              "      <td>2017-12-31</td>\n",
              "      <td>725994000.0</td>\n",
              "      <td>578918000.0</td>\n",
              "      <td>509189000.0</td>\n",
              "      <td>326051000.0</td>\n",
              "      <td>...</td>\n",
              "      <td>2532069000.0</td>\n",
              "      <td>9029964000.0</td>\n",
              "      <td>2888476000.0</td>\n",
              "      <td>15.74727</td>\n",
              "      <td>12.45053</td>\n",
              "      <td>266124000.0</td>\n",
              "      <td>0.797414</td>\n",
              "      <td>0.701368</td>\n",
              "      <td>0.44911</td>\n",
              "      <td>0.046883</td>\n",
              "    </tr>\n",
              "  </tbody>\n",
              "</table>\n",
              "<p>5 rows × 22 columns</p>\n",
              "</div>\n",
              "      <button class=\"colab-df-convert\" onclick=\"convertToInteractive('df-d8898e5d-1dd7-4319-b09f-f9049333dce2')\"\n",
              "              title=\"Convert this dataframe to an interactive table.\"\n",
              "              style=\"display:none;\">\n",
              "        \n",
              "  <svg xmlns=\"http://www.w3.org/2000/svg\" height=\"24px\"viewBox=\"0 0 24 24\"\n",
              "       width=\"24px\">\n",
              "    <path d=\"M0 0h24v24H0V0z\" fill=\"none\"/>\n",
              "    <path d=\"M18.56 5.44l.94 2.06.94-2.06 2.06-.94-2.06-.94-.94-2.06-.94 2.06-2.06.94zm-11 1L8.5 8.5l.94-2.06 2.06-.94-2.06-.94L8.5 2.5l-.94 2.06-2.06.94zm10 10l.94 2.06.94-2.06 2.06-.94-2.06-.94-.94-2.06-.94 2.06-2.06.94z\"/><path d=\"M17.41 7.96l-1.37-1.37c-.4-.4-.92-.59-1.43-.59-.52 0-1.04.2-1.43.59L10.3 9.45l-7.72 7.72c-.78.78-.78 2.05 0 2.83L4 21.41c.39.39.9.59 1.41.59.51 0 1.02-.2 1.41-.59l7.78-7.78 2.81-2.81c.8-.78.8-2.07 0-2.86zM5.41 20L4 18.59l7.72-7.72 1.47 1.35L5.41 20z\"/>\n",
              "  </svg>\n",
              "      </button>\n",
              "      \n",
              "  <style>\n",
              "    .colab-df-container {\n",
              "      display:flex;\n",
              "      flex-wrap:wrap;\n",
              "      gap: 12px;\n",
              "    }\n",
              "\n",
              "    .colab-df-convert {\n",
              "      background-color: #E8F0FE;\n",
              "      border: none;\n",
              "      border-radius: 50%;\n",
              "      cursor: pointer;\n",
              "      display: none;\n",
              "      fill: #1967D2;\n",
              "      height: 32px;\n",
              "      padding: 0 0 0 0;\n",
              "      width: 32px;\n",
              "    }\n",
              "\n",
              "    .colab-df-convert:hover {\n",
              "      background-color: #E2EBFA;\n",
              "      box-shadow: 0px 1px 2px rgba(60, 64, 67, 0.3), 0px 1px 3px 1px rgba(60, 64, 67, 0.15);\n",
              "      fill: #174EA6;\n",
              "    }\n",
              "\n",
              "    [theme=dark] .colab-df-convert {\n",
              "      background-color: #3B4455;\n",
              "      fill: #D2E3FC;\n",
              "    }\n",
              "\n",
              "    [theme=dark] .colab-df-convert:hover {\n",
              "      background-color: #434B5C;\n",
              "      box-shadow: 0px 1px 3px 1px rgba(0, 0, 0, 0.15);\n",
              "      filter: drop-shadow(0px 1px 2px rgba(0, 0, 0, 0.3));\n",
              "      fill: #FFFFFF;\n",
              "    }\n",
              "  </style>\n",
              "\n",
              "      <script>\n",
              "        const buttonEl =\n",
              "          document.querySelector('#df-d8898e5d-1dd7-4319-b09f-f9049333dce2 button.colab-df-convert');\n",
              "        buttonEl.style.display =\n",
              "          google.colab.kernel.accessAllowed ? 'block' : 'none';\n",
              "\n",
              "        async function convertToInteractive(key) {\n",
              "          const element = document.querySelector('#df-d8898e5d-1dd7-4319-b09f-f9049333dce2');\n",
              "          const dataTable =\n",
              "            await google.colab.kernel.invokeFunction('convertToInteractive',\n",
              "                                                     [key], {});\n",
              "          if (!dataTable) return;\n",
              "\n",
              "          const docLinkHtml = 'Like what you see? Visit the ' +\n",
              "            '<a target=\"_blank\" href=https://colab.research.google.com/notebooks/data_table.ipynb>data table notebook</a>'\n",
              "            + ' to learn more about interactive tables.';\n",
              "          element.innerHTML = '';\n",
              "          dataTable['output_type'] = 'display_data';\n",
              "          await google.colab.output.renderOutput(dataTable, element);\n",
              "          const docLink = document.createElement('div');\n",
              "          docLink.innerHTML = docLinkHtml;\n",
              "          element.appendChild(docLink);\n",
              "        }\n",
              "      </script>\n",
              "    </div>\n",
              "  </div>\n",
              "  "
            ]
          },
          "metadata": {},
          "execution_count": 19
        }
      ]
    },
    {
      "cell_type": "code",
      "source": [
        "trn = get_train_set(joined, limit=120)\n",
        "\n",
        "tst = get_1_month_test_set(joined)\n",
        "trn.shape[0], tst.shape[0]"
      ],
      "metadata": {
        "colab": {
          "base_uri": "https://localhost:8080/"
        },
        "id": "yWvFkGxhrhOJ",
        "outputId": "4531243e-d018-4a10-c631-d3534a0cc626"
      },
      "execution_count": null,
      "outputs": [
        {
          "output_type": "execute_result",
          "data": {
            "text/plain": [
              "(120, 20)"
            ]
          },
          "metadata": {},
          "execution_count": 20
        }
      ]
    },
    {
      "cell_type": "markdown",
      "source": [
        "### Fit ARIMAX"
      ],
      "metadata": {
        "id": "cgWJYL7dcxxq"
      }
    },
    {
      "cell_type": "code",
      "source": [
        "mod_uni = pm.arima.AutoARIMA(seasonal=False, max_p=10, max_q=10)\n",
        "\n",
        "ys = trn.market_cap\n",
        "\n",
        "mod_uni.fit(ys)\n",
        "print(f\"Model residuals: {mod_uni.model_.resid().mean():.3e}\")\n",
        "mod_uni.summary()"
      ],
      "metadata": {
        "colab": {
          "base_uri": "https://localhost:8080/",
          "height": 444
        },
        "outputId": "03dd0795-89ec-466b-e528-938fd04c2b4a",
        "id": "lx321Qe0gjYN"
      },
      "execution_count": null,
      "outputs": [
        {
          "output_type": "stream",
          "name": "stdout",
          "text": [
            "Model residuals: 1.182e+08\n"
          ]
        },
        {
          "output_type": "execute_result",
          "data": {
            "text/plain": [
              "<class 'statsmodels.iolib.summary.Summary'>\n",
              "\"\"\"\n",
              "                               SARIMAX Results                                \n",
              "==============================================================================\n",
              "Dep. Variable:                      y   No. Observations:                  120\n",
              "Model:               SARIMAX(0, 1, 0)   Log Likelihood               -2501.048\n",
              "Date:                Wed, 04 May 2022   AIC                           5006.096\n",
              "Time:                        12:46:54   BIC                           5011.654\n",
              "Sample:                             0   HQIC                          5008.353\n",
              "                                - 120                                         \n",
              "Covariance Type:                  opg                                         \n",
              "==============================================================================\n",
              "                 coef    std err          z      P>|z|      [0.025      0.975]\n",
              "------------------------------------------------------------------------------\n",
              "intercept  -4.313e+07   2.98e+07     -1.449      0.147   -1.01e+08    1.52e+07\n",
              "sigma2      1.054e+17      0.005   2.03e+19      0.000    1.05e+17    1.05e+17\n",
              "===================================================================================\n",
              "Ljung-Box (L1) (Q):                   0.05   Jarque-Bera (JB):                 0.43\n",
              "Prob(Q):                              0.82   Prob(JB):                         0.81\n",
              "Heteroskedasticity (H):               2.04   Skew:                             0.11\n",
              "Prob(H) (two-sided):                  0.03   Kurtosis:                         3.19\n",
              "===================================================================================\n",
              "\n",
              "Warnings:\n",
              "[1] Covariance matrix calculated using the outer product of gradients (complex-step).\n",
              "[2] Covariance matrix is singular or near-singular, with condition number    inf. Standard errors may be unstable.\n",
              "\"\"\""
            ],
            "text/html": [
              "<table class=\"simpletable\">\n",
              "<caption>SARIMAX Results</caption>\n",
              "<tr>\n",
              "  <th>Dep. Variable:</th>           <td>y</td>        <th>  No. Observations:  </th>    <td>120</td>   \n",
              "</tr>\n",
              "<tr>\n",
              "  <th>Model:</th>           <td>SARIMAX(0, 1, 0)</td> <th>  Log Likelihood     </th> <td>-2501.048</td>\n",
              "</tr>\n",
              "<tr>\n",
              "  <th>Date:</th>            <td>Wed, 04 May 2022</td> <th>  AIC                </th> <td>5006.096</td> \n",
              "</tr>\n",
              "<tr>\n",
              "  <th>Time:</th>                <td>12:46:54</td>     <th>  BIC                </th> <td>5011.654</td> \n",
              "</tr>\n",
              "<tr>\n",
              "  <th>Sample:</th>                  <td>0</td>        <th>  HQIC               </th> <td>5008.353</td> \n",
              "</tr>\n",
              "<tr>\n",
              "  <th></th>                      <td> - 120</td>      <th>                     </th>     <td> </td>    \n",
              "</tr>\n",
              "<tr>\n",
              "  <th>Covariance Type:</th>        <td>opg</td>       <th>                     </th>     <td> </td>    \n",
              "</tr>\n",
              "</table>\n",
              "<table class=\"simpletable\">\n",
              "<tr>\n",
              "      <td></td>         <th>coef</th>     <th>std err</th>      <th>z</th>      <th>P>|z|</th>  <th>[0.025</th>    <th>0.975]</th>  \n",
              "</tr>\n",
              "<tr>\n",
              "  <th>intercept</th> <td>-4.313e+07</td> <td> 2.98e+07</td> <td>   -1.449</td> <td> 0.147</td> <td>-1.01e+08</td> <td> 1.52e+07</td>\n",
              "</tr>\n",
              "<tr>\n",
              "  <th>sigma2</th>    <td> 1.054e+17</td> <td>    0.005</td> <td> 2.03e+19</td> <td> 0.000</td> <td> 1.05e+17</td> <td> 1.05e+17</td>\n",
              "</tr>\n",
              "</table>\n",
              "<table class=\"simpletable\">\n",
              "<tr>\n",
              "  <th>Ljung-Box (L1) (Q):</th>     <td>0.05</td> <th>  Jarque-Bera (JB):  </th> <td>0.43</td>\n",
              "</tr>\n",
              "<tr>\n",
              "  <th>Prob(Q):</th>                <td>0.82</td> <th>  Prob(JB):          </th> <td>0.81</td>\n",
              "</tr>\n",
              "<tr>\n",
              "  <th>Heteroskedasticity (H):</th> <td>2.04</td> <th>  Skew:              </th> <td>0.11</td>\n",
              "</tr>\n",
              "<tr>\n",
              "  <th>Prob(H) (two-sided):</th>    <td>0.03</td> <th>  Kurtosis:          </th> <td>3.19</td>\n",
              "</tr>\n",
              "</table><br/><br/>Warnings:<br/>[1] Covariance matrix calculated using the outer product of gradients (complex-step).<br/>[2] Covariance matrix is singular or near-singular, with condition number    inf. Standard errors may be unstable."
            ]
          },
          "metadata": {},
          "execution_count": 21
        }
      ]
    },
    {
      "cell_type": "code",
      "source": [
        "mod_mul = pm.arima.AutoARIMA(seasonal=False, with_intercept=False)\n",
        "\n",
        "ys = trn.market_cap\n",
        "\n",
        "exs = trn.drop(columns=[\"ticker\", \"market_cap\", \"close_price\", \"currency\", \"ticker_fund\", \"date\"]).np()\n",
        "\n",
        "mod_mul.fit(ys, exs)\n",
        "print(f\"Model residuals: {mod_mul.model_.resid().mean():.3e}\")\n",
        "mod_mul.summary()"
      ],
      "metadata": {
        "colab": {
          "base_uri": "https://localhost:8080/",
          "height": 764
        },
        "id": "QH6LsObPdmoP",
        "outputId": "2a430844-428a-4be3-8484-98b252539a80"
      },
      "execution_count": null,
      "outputs": [
        {
          "output_type": "stream",
          "name": "stdout",
          "text": [
            "Model residuals: 3.767e-06\n"
          ]
        },
        {
          "output_type": "execute_result",
          "data": {
            "text/plain": [
              "<class 'statsmodels.iolib.summary.Summary'>\n",
              "\"\"\"\n",
              "                               SARIMAX Results                                \n",
              "==============================================================================\n",
              "Dep. Variable:                      y   No. Observations:                  120\n",
              "Model:                        SARIMAX   Log Likelihood               -2939.431\n",
              "Date:                Wed, 04 May 2022   AIC                           5912.862\n",
              "Time:                        12:47:41   BIC                           5960.249\n",
              "Sample:                             0   HQIC                          5932.106\n",
              "                                - 120                                         \n",
              "Covariance Type:                  opg                                         \n",
              "==============================================================================\n",
              "                 coef    std err          z      P>|z|      [0.025      0.975]\n",
              "------------------------------------------------------------------------------\n",
              "const          0.0363      0.052      0.701      0.483      -0.065       0.138\n",
              "x1             0.0289      0.041      0.701      0.483      -0.052       0.110\n",
              "x2             0.0255      0.036      0.701      0.483      -0.046       0.097\n",
              "x3             0.0163      0.023      0.701      0.483      -0.029       0.062\n",
              "x4             0.0017      0.002      0.701      0.483      -0.003       0.006\n",
              "x5             0.6009      0.857      0.701      0.483      -1.080       2.282\n",
              "x6             0.1266      0.181      0.701      0.483      -0.227       0.481\n",
              "x7             0.4515      0.644      0.701      0.483      -0.811       1.714\n",
              "x8             0.1444      0.206      0.701      0.483      -0.259       0.548\n",
              "x9          7.873e-10   1.12e-09      0.701      0.483   -1.41e-09    2.99e-09\n",
              "x10         6.225e-10   8.88e-10      0.701      0.483   -1.12e-09    2.36e-09\n",
              "x11            0.0133      0.019      0.701      0.483      -0.024       0.051\n",
              "x12         3.987e-11   5.69e-11      0.701      0.483   -7.16e-11    1.51e-10\n",
              "x13         3.507e-11      5e-11      0.701      0.483    -6.3e-11    1.33e-10\n",
              "x14         2.245e-11    3.2e-11      0.701      0.483   -4.03e-11    8.53e-11\n",
              "x15         2.344e-12   3.34e-12      0.701      0.483   -4.21e-12     8.9e-12\n",
              "sigma2      2.982e+20   2.31e-23   1.29e+43      0.000    2.98e+20    2.98e+20\n",
              "===================================================================================\n",
              "Ljung-Box (L1) (Q):                 112.34   Jarque-Bera (JB):                 1.87\n",
              "Prob(Q):                              0.00   Prob(JB):                         0.39\n",
              "Heteroskedasticity (H):               8.61   Skew:                            -0.12\n",
              "Prob(H) (two-sided):                  0.00   Kurtosis:                         2.44\n",
              "===================================================================================\n",
              "\n",
              "Warnings:\n",
              "[1] Covariance matrix calculated using the outer product of gradients (complex-step).\n",
              "[2] Covariance matrix is singular or near-singular, with condition number 5.61e+60. Standard errors may be unstable.\n",
              "\"\"\""
            ],
            "text/html": [
              "<table class=\"simpletable\">\n",
              "<caption>SARIMAX Results</caption>\n",
              "<tr>\n",
              "  <th>Dep. Variable:</th>           <td>y</td>        <th>  No. Observations:  </th>    <td>120</td>   \n",
              "</tr>\n",
              "<tr>\n",
              "  <th>Model:</th>                <td>SARIMAX</td>     <th>  Log Likelihood     </th> <td>-2939.431</td>\n",
              "</tr>\n",
              "<tr>\n",
              "  <th>Date:</th>            <td>Wed, 04 May 2022</td> <th>  AIC                </th> <td>5912.862</td> \n",
              "</tr>\n",
              "<tr>\n",
              "  <th>Time:</th>                <td>12:47:41</td>     <th>  BIC                </th> <td>5960.249</td> \n",
              "</tr>\n",
              "<tr>\n",
              "  <th>Sample:</th>                  <td>0</td>        <th>  HQIC               </th> <td>5932.106</td> \n",
              "</tr>\n",
              "<tr>\n",
              "  <th></th>                      <td> - 120</td>      <th>                     </th>     <td> </td>    \n",
              "</tr>\n",
              "<tr>\n",
              "  <th>Covariance Type:</th>        <td>opg</td>       <th>                     </th>     <td> </td>    \n",
              "</tr>\n",
              "</table>\n",
              "<table class=\"simpletable\">\n",
              "<tr>\n",
              "     <td></td>       <th>coef</th>     <th>std err</th>      <th>z</th>      <th>P>|z|</th>  <th>[0.025</th>    <th>0.975]</th>  \n",
              "</tr>\n",
              "<tr>\n",
              "  <th>const</th>  <td>    0.0363</td> <td>    0.052</td> <td>    0.701</td> <td> 0.483</td> <td>   -0.065</td> <td>    0.138</td>\n",
              "</tr>\n",
              "<tr>\n",
              "  <th>x1</th>     <td>    0.0289</td> <td>    0.041</td> <td>    0.701</td> <td> 0.483</td> <td>   -0.052</td> <td>    0.110</td>\n",
              "</tr>\n",
              "<tr>\n",
              "  <th>x2</th>     <td>    0.0255</td> <td>    0.036</td> <td>    0.701</td> <td> 0.483</td> <td>   -0.046</td> <td>    0.097</td>\n",
              "</tr>\n",
              "<tr>\n",
              "  <th>x3</th>     <td>    0.0163</td> <td>    0.023</td> <td>    0.701</td> <td> 0.483</td> <td>   -0.029</td> <td>    0.062</td>\n",
              "</tr>\n",
              "<tr>\n",
              "  <th>x4</th>     <td>    0.0017</td> <td>    0.002</td> <td>    0.701</td> <td> 0.483</td> <td>   -0.003</td> <td>    0.006</td>\n",
              "</tr>\n",
              "<tr>\n",
              "  <th>x5</th>     <td>    0.6009</td> <td>    0.857</td> <td>    0.701</td> <td> 0.483</td> <td>   -1.080</td> <td>    2.282</td>\n",
              "</tr>\n",
              "<tr>\n",
              "  <th>x6</th>     <td>    0.1266</td> <td>    0.181</td> <td>    0.701</td> <td> 0.483</td> <td>   -0.227</td> <td>    0.481</td>\n",
              "</tr>\n",
              "<tr>\n",
              "  <th>x7</th>     <td>    0.4515</td> <td>    0.644</td> <td>    0.701</td> <td> 0.483</td> <td>   -0.811</td> <td>    1.714</td>\n",
              "</tr>\n",
              "<tr>\n",
              "  <th>x8</th>     <td>    0.1444</td> <td>    0.206</td> <td>    0.701</td> <td> 0.483</td> <td>   -0.259</td> <td>    0.548</td>\n",
              "</tr>\n",
              "<tr>\n",
              "  <th>x9</th>     <td> 7.873e-10</td> <td> 1.12e-09</td> <td>    0.701</td> <td> 0.483</td> <td>-1.41e-09</td> <td> 2.99e-09</td>\n",
              "</tr>\n",
              "<tr>\n",
              "  <th>x10</th>    <td> 6.225e-10</td> <td> 8.88e-10</td> <td>    0.701</td> <td> 0.483</td> <td>-1.12e-09</td> <td> 2.36e-09</td>\n",
              "</tr>\n",
              "<tr>\n",
              "  <th>x11</th>    <td>    0.0133</td> <td>    0.019</td> <td>    0.701</td> <td> 0.483</td> <td>   -0.024</td> <td>    0.051</td>\n",
              "</tr>\n",
              "<tr>\n",
              "  <th>x12</th>    <td> 3.987e-11</td> <td> 5.69e-11</td> <td>    0.701</td> <td> 0.483</td> <td>-7.16e-11</td> <td> 1.51e-10</td>\n",
              "</tr>\n",
              "<tr>\n",
              "  <th>x13</th>    <td> 3.507e-11</td> <td>    5e-11</td> <td>    0.701</td> <td> 0.483</td> <td> -6.3e-11</td> <td> 1.33e-10</td>\n",
              "</tr>\n",
              "<tr>\n",
              "  <th>x14</th>    <td> 2.245e-11</td> <td>  3.2e-11</td> <td>    0.701</td> <td> 0.483</td> <td>-4.03e-11</td> <td> 8.53e-11</td>\n",
              "</tr>\n",
              "<tr>\n",
              "  <th>x15</th>    <td> 2.344e-12</td> <td> 3.34e-12</td> <td>    0.701</td> <td> 0.483</td> <td>-4.21e-12</td> <td>  8.9e-12</td>\n",
              "</tr>\n",
              "<tr>\n",
              "  <th>sigma2</th> <td> 2.982e+20</td> <td> 2.31e-23</td> <td> 1.29e+43</td> <td> 0.000</td> <td> 2.98e+20</td> <td> 2.98e+20</td>\n",
              "</tr>\n",
              "</table>\n",
              "<table class=\"simpletable\">\n",
              "<tr>\n",
              "  <th>Ljung-Box (L1) (Q):</th>     <td>112.34</td> <th>  Jarque-Bera (JB):  </th> <td>1.87</td> \n",
              "</tr>\n",
              "<tr>\n",
              "  <th>Prob(Q):</th>                 <td>0.00</td>  <th>  Prob(JB):          </th> <td>0.39</td> \n",
              "</tr>\n",
              "<tr>\n",
              "  <th>Heteroskedasticity (H):</th>  <td>8.61</td>  <th>  Skew:              </th> <td>-0.12</td>\n",
              "</tr>\n",
              "<tr>\n",
              "  <th>Prob(H) (two-sided):</th>     <td>0.00</td>  <th>  Kurtosis:          </th> <td>2.44</td> \n",
              "</tr>\n",
              "</table><br/><br/>Warnings:<br/>[1] Covariance matrix calculated using the outer product of gradients (complex-step).<br/>[2] Covariance matrix is singular or near-singular, with condition number 5.61e+60. Standard errors may be unstable."
            ]
          },
          "metadata": {},
          "execution_count": 23
        }
      ]
    }
  ]
}