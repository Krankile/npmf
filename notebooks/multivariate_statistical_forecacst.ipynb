{
  "nbformat": 4,
  "nbformat_minor": 0,
  "metadata": {
    "colab": {
      "name": "multivariate_statistical_forecacst.ipynb",
      "provenance": [],
      "collapsed_sections": [
        "_1jtFktEISDY"
      ],
      "machine_shape": "hm",
      "toc_visible": true,
      "include_colab_link": true
    },
    "kernelspec": {
      "name": "python3",
      "display_name": "Python 3"
    },
    "language_info": {
      "name": "python"
    },
    "widgets": {
      "application/vnd.jupyter.widget-state+json": {
        "9098a47d25ff4ff48ddae37309c635f3": {
          "model_module": "@jupyter-widgets/controls",
          "model_name": "VBoxModel",
          "model_module_version": "1.5.0",
          "state": {
            "_dom_classes": [],
            "_model_module": "@jupyter-widgets/controls",
            "_model_module_version": "1.5.0",
            "_model_name": "VBoxModel",
            "_view_count": null,
            "_view_module": "@jupyter-widgets/controls",
            "_view_module_version": "1.5.0",
            "_view_name": "VBoxView",
            "box_style": "",
            "children": [
              "IPY_MODEL_fd64721b080c4602afdc03ef44b6c8d5",
              "IPY_MODEL_7ebaa09d75534ea88e9076c10f28b177"
            ],
            "layout": "IPY_MODEL_f74de5c104b34d27ab5f44688a440c65"
          }
        },
        "fd64721b080c4602afdc03ef44b6c8d5": {
          "model_module": "@jupyter-widgets/controls",
          "model_name": "LabelModel",
          "model_module_version": "1.5.0",
          "state": {
            "_dom_classes": [],
            "_model_module": "@jupyter-widgets/controls",
            "_model_module_version": "1.5.0",
            "_model_name": "LabelModel",
            "_view_count": null,
            "_view_module": "@jupyter-widgets/controls",
            "_view_module_version": "1.5.0",
            "_view_name": "LabelView",
            "description": "",
            "description_tooltip": null,
            "layout": "IPY_MODEL_97b137365410475da34d71cb62af4c21",
            "placeholder": "​",
            "style": "IPY_MODEL_14b8fd55b91d4cffa308856243858d2a",
            "value": "315.929 MB of 315.929 MB uploaded (0.000 MB deduped)\r"
          }
        },
        "7ebaa09d75534ea88e9076c10f28b177": {
          "model_module": "@jupyter-widgets/controls",
          "model_name": "FloatProgressModel",
          "model_module_version": "1.5.0",
          "state": {
            "_dom_classes": [],
            "_model_module": "@jupyter-widgets/controls",
            "_model_module_version": "1.5.0",
            "_model_name": "FloatProgressModel",
            "_view_count": null,
            "_view_module": "@jupyter-widgets/controls",
            "_view_module_version": "1.5.0",
            "_view_name": "ProgressView",
            "bar_style": "",
            "description": "",
            "description_tooltip": null,
            "layout": "IPY_MODEL_ea959615f23446abac4898ba7a2fc9c0",
            "max": 1,
            "min": 0,
            "orientation": "horizontal",
            "style": "IPY_MODEL_759b9d6c0a1649eb87fb84af84ae4868",
            "value": 1
          }
        },
        "f74de5c104b34d27ab5f44688a440c65": {
          "model_module": "@jupyter-widgets/base",
          "model_name": "LayoutModel",
          "model_module_version": "1.2.0",
          "state": {
            "_model_module": "@jupyter-widgets/base",
            "_model_module_version": "1.2.0",
            "_model_name": "LayoutModel",
            "_view_count": null,
            "_view_module": "@jupyter-widgets/base",
            "_view_module_version": "1.2.0",
            "_view_name": "LayoutView",
            "align_content": null,
            "align_items": null,
            "align_self": null,
            "border": null,
            "bottom": null,
            "display": null,
            "flex": null,
            "flex_flow": null,
            "grid_area": null,
            "grid_auto_columns": null,
            "grid_auto_flow": null,
            "grid_auto_rows": null,
            "grid_column": null,
            "grid_gap": null,
            "grid_row": null,
            "grid_template_areas": null,
            "grid_template_columns": null,
            "grid_template_rows": null,
            "height": null,
            "justify_content": null,
            "justify_items": null,
            "left": null,
            "margin": null,
            "max_height": null,
            "max_width": null,
            "min_height": null,
            "min_width": null,
            "object_fit": null,
            "object_position": null,
            "order": null,
            "overflow": null,
            "overflow_x": null,
            "overflow_y": null,
            "padding": null,
            "right": null,
            "top": null,
            "visibility": null,
            "width": null
          }
        },
        "97b137365410475da34d71cb62af4c21": {
          "model_module": "@jupyter-widgets/base",
          "model_name": "LayoutModel",
          "model_module_version": "1.2.0",
          "state": {
            "_model_module": "@jupyter-widgets/base",
            "_model_module_version": "1.2.0",
            "_model_name": "LayoutModel",
            "_view_count": null,
            "_view_module": "@jupyter-widgets/base",
            "_view_module_version": "1.2.0",
            "_view_name": "LayoutView",
            "align_content": null,
            "align_items": null,
            "align_self": null,
            "border": null,
            "bottom": null,
            "display": null,
            "flex": null,
            "flex_flow": null,
            "grid_area": null,
            "grid_auto_columns": null,
            "grid_auto_flow": null,
            "grid_auto_rows": null,
            "grid_column": null,
            "grid_gap": null,
            "grid_row": null,
            "grid_template_areas": null,
            "grid_template_columns": null,
            "grid_template_rows": null,
            "height": null,
            "justify_content": null,
            "justify_items": null,
            "left": null,
            "margin": null,
            "max_height": null,
            "max_width": null,
            "min_height": null,
            "min_width": null,
            "object_fit": null,
            "object_position": null,
            "order": null,
            "overflow": null,
            "overflow_x": null,
            "overflow_y": null,
            "padding": null,
            "right": null,
            "top": null,
            "visibility": null,
            "width": null
          }
        },
        "14b8fd55b91d4cffa308856243858d2a": {
          "model_module": "@jupyter-widgets/controls",
          "model_name": "DescriptionStyleModel",
          "model_module_version": "1.5.0",
          "state": {
            "_model_module": "@jupyter-widgets/controls",
            "_model_module_version": "1.5.0",
            "_model_name": "DescriptionStyleModel",
            "_view_count": null,
            "_view_module": "@jupyter-widgets/base",
            "_view_module_version": "1.2.0",
            "_view_name": "StyleView",
            "description_width": ""
          }
        },
        "ea959615f23446abac4898ba7a2fc9c0": {
          "model_module": "@jupyter-widgets/base",
          "model_name": "LayoutModel",
          "model_module_version": "1.2.0",
          "state": {
            "_model_module": "@jupyter-widgets/base",
            "_model_module_version": "1.2.0",
            "_model_name": "LayoutModel",
            "_view_count": null,
            "_view_module": "@jupyter-widgets/base",
            "_view_module_version": "1.2.0",
            "_view_name": "LayoutView",
            "align_content": null,
            "align_items": null,
            "align_self": null,
            "border": null,
            "bottom": null,
            "display": null,
            "flex": null,
            "flex_flow": null,
            "grid_area": null,
            "grid_auto_columns": null,
            "grid_auto_flow": null,
            "grid_auto_rows": null,
            "grid_column": null,
            "grid_gap": null,
            "grid_row": null,
            "grid_template_areas": null,
            "grid_template_columns": null,
            "grid_template_rows": null,
            "height": null,
            "justify_content": null,
            "justify_items": null,
            "left": null,
            "margin": null,
            "max_height": null,
            "max_width": null,
            "min_height": null,
            "min_width": null,
            "object_fit": null,
            "object_position": null,
            "order": null,
            "overflow": null,
            "overflow_x": null,
            "overflow_y": null,
            "padding": null,
            "right": null,
            "top": null,
            "visibility": null,
            "width": null
          }
        },
        "759b9d6c0a1649eb87fb84af84ae4868": {
          "model_module": "@jupyter-widgets/controls",
          "model_name": "ProgressStyleModel",
          "model_module_version": "1.5.0",
          "state": {
            "_model_module": "@jupyter-widgets/controls",
            "_model_module_version": "1.5.0",
            "_model_name": "ProgressStyleModel",
            "_view_count": null,
            "_view_module": "@jupyter-widgets/base",
            "_view_module_version": "1.2.0",
            "_view_name": "StyleView",
            "bar_color": null,
            "description_width": ""
          }
        },
        "b58667f499824597973e7f8648f2dbe5": {
          "model_module": "@jupyter-widgets/controls",
          "model_name": "VBoxModel",
          "model_module_version": "1.5.0",
          "state": {
            "_dom_classes": [],
            "_model_module": "@jupyter-widgets/controls",
            "_model_module_version": "1.5.0",
            "_model_name": "VBoxModel",
            "_view_count": null,
            "_view_module": "@jupyter-widgets/controls",
            "_view_module_version": "1.5.0",
            "_view_name": "VBoxView",
            "box_style": "",
            "children": [
              "IPY_MODEL_4c2627838dcc40c596f60127a069440d",
              "IPY_MODEL_51657ce481f4414e8e016fa1af91a2b0"
            ],
            "layout": "IPY_MODEL_61aa2f5f5f0c47daaec7f40658e93718"
          }
        },
        "4c2627838dcc40c596f60127a069440d": {
          "model_module": "@jupyter-widgets/controls",
          "model_name": "LabelModel",
          "model_module_version": "1.5.0",
          "state": {
            "_dom_classes": [],
            "_model_module": "@jupyter-widgets/controls",
            "_model_module_version": "1.5.0",
            "_model_name": "LabelModel",
            "_view_count": null,
            "_view_module": "@jupyter-widgets/controls",
            "_view_module_version": "1.5.0",
            "_view_name": "LabelView",
            "description": "",
            "description_tooltip": null,
            "layout": "IPY_MODEL_8de12b6b65c24657ad4d18b1a5c270d2",
            "placeholder": "​",
            "style": "IPY_MODEL_f5f910b0dd2242cabc7fe48c4d32277c",
            "value": "0.008 MB of 0.008 MB uploaded (0.000 MB deduped)\r"
          }
        },
        "51657ce481f4414e8e016fa1af91a2b0": {
          "model_module": "@jupyter-widgets/controls",
          "model_name": "FloatProgressModel",
          "model_module_version": "1.5.0",
          "state": {
            "_dom_classes": [],
            "_model_module": "@jupyter-widgets/controls",
            "_model_module_version": "1.5.0",
            "_model_name": "FloatProgressModel",
            "_view_count": null,
            "_view_module": "@jupyter-widgets/controls",
            "_view_module_version": "1.5.0",
            "_view_name": "ProgressView",
            "bar_style": "",
            "description": "",
            "description_tooltip": null,
            "layout": "IPY_MODEL_331f235221ed4cccb1fe8665d94360df",
            "max": 1,
            "min": 0,
            "orientation": "horizontal",
            "style": "IPY_MODEL_1f38d1c092df454a928d5146554e65de",
            "value": 1
          }
        },
        "61aa2f5f5f0c47daaec7f40658e93718": {
          "model_module": "@jupyter-widgets/base",
          "model_name": "LayoutModel",
          "model_module_version": "1.2.0",
          "state": {
            "_model_module": "@jupyter-widgets/base",
            "_model_module_version": "1.2.0",
            "_model_name": "LayoutModel",
            "_view_count": null,
            "_view_module": "@jupyter-widgets/base",
            "_view_module_version": "1.2.0",
            "_view_name": "LayoutView",
            "align_content": null,
            "align_items": null,
            "align_self": null,
            "border": null,
            "bottom": null,
            "display": null,
            "flex": null,
            "flex_flow": null,
            "grid_area": null,
            "grid_auto_columns": null,
            "grid_auto_flow": null,
            "grid_auto_rows": null,
            "grid_column": null,
            "grid_gap": null,
            "grid_row": null,
            "grid_template_areas": null,
            "grid_template_columns": null,
            "grid_template_rows": null,
            "height": null,
            "justify_content": null,
            "justify_items": null,
            "left": null,
            "margin": null,
            "max_height": null,
            "max_width": null,
            "min_height": null,
            "min_width": null,
            "object_fit": null,
            "object_position": null,
            "order": null,
            "overflow": null,
            "overflow_x": null,
            "overflow_y": null,
            "padding": null,
            "right": null,
            "top": null,
            "visibility": null,
            "width": null
          }
        },
        "8de12b6b65c24657ad4d18b1a5c270d2": {
          "model_module": "@jupyter-widgets/base",
          "model_name": "LayoutModel",
          "model_module_version": "1.2.0",
          "state": {
            "_model_module": "@jupyter-widgets/base",
            "_model_module_version": "1.2.0",
            "_model_name": "LayoutModel",
            "_view_count": null,
            "_view_module": "@jupyter-widgets/base",
            "_view_module_version": "1.2.0",
            "_view_name": "LayoutView",
            "align_content": null,
            "align_items": null,
            "align_self": null,
            "border": null,
            "bottom": null,
            "display": null,
            "flex": null,
            "flex_flow": null,
            "grid_area": null,
            "grid_auto_columns": null,
            "grid_auto_flow": null,
            "grid_auto_rows": null,
            "grid_column": null,
            "grid_gap": null,
            "grid_row": null,
            "grid_template_areas": null,
            "grid_template_columns": null,
            "grid_template_rows": null,
            "height": null,
            "justify_content": null,
            "justify_items": null,
            "left": null,
            "margin": null,
            "max_height": null,
            "max_width": null,
            "min_height": null,
            "min_width": null,
            "object_fit": null,
            "object_position": null,
            "order": null,
            "overflow": null,
            "overflow_x": null,
            "overflow_y": null,
            "padding": null,
            "right": null,
            "top": null,
            "visibility": null,
            "width": null
          }
        },
        "f5f910b0dd2242cabc7fe48c4d32277c": {
          "model_module": "@jupyter-widgets/controls",
          "model_name": "DescriptionStyleModel",
          "model_module_version": "1.5.0",
          "state": {
            "_model_module": "@jupyter-widgets/controls",
            "_model_module_version": "1.5.0",
            "_model_name": "DescriptionStyleModel",
            "_view_count": null,
            "_view_module": "@jupyter-widgets/base",
            "_view_module_version": "1.2.0",
            "_view_name": "StyleView",
            "description_width": ""
          }
        },
        "331f235221ed4cccb1fe8665d94360df": {
          "model_module": "@jupyter-widgets/base",
          "model_name": "LayoutModel",
          "model_module_version": "1.2.0",
          "state": {
            "_model_module": "@jupyter-widgets/base",
            "_model_module_version": "1.2.0",
            "_model_name": "LayoutModel",
            "_view_count": null,
            "_view_module": "@jupyter-widgets/base",
            "_view_module_version": "1.2.0",
            "_view_name": "LayoutView",
            "align_content": null,
            "align_items": null,
            "align_self": null,
            "border": null,
            "bottom": null,
            "display": null,
            "flex": null,
            "flex_flow": null,
            "grid_area": null,
            "grid_auto_columns": null,
            "grid_auto_flow": null,
            "grid_auto_rows": null,
            "grid_column": null,
            "grid_gap": null,
            "grid_row": null,
            "grid_template_areas": null,
            "grid_template_columns": null,
            "grid_template_rows": null,
            "height": null,
            "justify_content": null,
            "justify_items": null,
            "left": null,
            "margin": null,
            "max_height": null,
            "max_width": null,
            "min_height": null,
            "min_width": null,
            "object_fit": null,
            "object_position": null,
            "order": null,
            "overflow": null,
            "overflow_x": null,
            "overflow_y": null,
            "padding": null,
            "right": null,
            "top": null,
            "visibility": null,
            "width": null
          }
        },
        "1f38d1c092df454a928d5146554e65de": {
          "model_module": "@jupyter-widgets/controls",
          "model_name": "ProgressStyleModel",
          "model_module_version": "1.5.0",
          "state": {
            "_model_module": "@jupyter-widgets/controls",
            "_model_module_version": "1.5.0",
            "_model_name": "ProgressStyleModel",
            "_view_count": null,
            "_view_module": "@jupyter-widgets/base",
            "_view_module_version": "1.2.0",
            "_view_name": "StyleView",
            "bar_color": null,
            "description_width": ""
          }
        },
        "8e6dc998503b4c07b8c2b3db88a6d11a": {
          "model_module": "@jupyter-widgets/controls",
          "model_name": "VBoxModel",
          "model_module_version": "1.5.0",
          "state": {
            "_dom_classes": [],
            "_model_module": "@jupyter-widgets/controls",
            "_model_module_version": "1.5.0",
            "_model_name": "VBoxModel",
            "_view_count": null,
            "_view_module": "@jupyter-widgets/controls",
            "_view_module_version": "1.5.0",
            "_view_name": "VBoxView",
            "box_style": "",
            "children": [
              "IPY_MODEL_07fdc2b2f3224c7fb9b2ed16c3822ea3",
              "IPY_MODEL_f7f6f0a35d2b4935959d1b01257613ec"
            ],
            "layout": "IPY_MODEL_ce340b53c00045a09b532368e8d20753"
          }
        },
        "07fdc2b2f3224c7fb9b2ed16c3822ea3": {
          "model_module": "@jupyter-widgets/controls",
          "model_name": "LabelModel",
          "model_module_version": "1.5.0",
          "state": {
            "_dom_classes": [],
            "_model_module": "@jupyter-widgets/controls",
            "_model_module_version": "1.5.0",
            "_model_name": "LabelModel",
            "_view_count": null,
            "_view_module": "@jupyter-widgets/controls",
            "_view_module_version": "1.5.0",
            "_view_name": "LabelView",
            "description": "",
            "description_tooltip": null,
            "layout": "IPY_MODEL_11bc95e35f144ef5897d542ad40b6c7f",
            "placeholder": "​",
            "style": "IPY_MODEL_dba06f1a86c34d418f24887404b44dc6",
            "value": "0.193 MB of 0.193 MB uploaded (0.000 MB deduped)\r"
          }
        },
        "f7f6f0a35d2b4935959d1b01257613ec": {
          "model_module": "@jupyter-widgets/controls",
          "model_name": "FloatProgressModel",
          "model_module_version": "1.5.0",
          "state": {
            "_dom_classes": [],
            "_model_module": "@jupyter-widgets/controls",
            "_model_module_version": "1.5.0",
            "_model_name": "FloatProgressModel",
            "_view_count": null,
            "_view_module": "@jupyter-widgets/controls",
            "_view_module_version": "1.5.0",
            "_view_name": "ProgressView",
            "bar_style": "",
            "description": "",
            "description_tooltip": null,
            "layout": "IPY_MODEL_94d496d659dd4e66b58f1a0fd6e8d79f",
            "max": 1,
            "min": 0,
            "orientation": "horizontal",
            "style": "IPY_MODEL_7832f20455954657be6d3e8aab1f1d15",
            "value": 1
          }
        },
        "ce340b53c00045a09b532368e8d20753": {
          "model_module": "@jupyter-widgets/base",
          "model_name": "LayoutModel",
          "model_module_version": "1.2.0",
          "state": {
            "_model_module": "@jupyter-widgets/base",
            "_model_module_version": "1.2.0",
            "_model_name": "LayoutModel",
            "_view_count": null,
            "_view_module": "@jupyter-widgets/base",
            "_view_module_version": "1.2.0",
            "_view_name": "LayoutView",
            "align_content": null,
            "align_items": null,
            "align_self": null,
            "border": null,
            "bottom": null,
            "display": null,
            "flex": null,
            "flex_flow": null,
            "grid_area": null,
            "grid_auto_columns": null,
            "grid_auto_flow": null,
            "grid_auto_rows": null,
            "grid_column": null,
            "grid_gap": null,
            "grid_row": null,
            "grid_template_areas": null,
            "grid_template_columns": null,
            "grid_template_rows": null,
            "height": null,
            "justify_content": null,
            "justify_items": null,
            "left": null,
            "margin": null,
            "max_height": null,
            "max_width": null,
            "min_height": null,
            "min_width": null,
            "object_fit": null,
            "object_position": null,
            "order": null,
            "overflow": null,
            "overflow_x": null,
            "overflow_y": null,
            "padding": null,
            "right": null,
            "top": null,
            "visibility": null,
            "width": null
          }
        },
        "11bc95e35f144ef5897d542ad40b6c7f": {
          "model_module": "@jupyter-widgets/base",
          "model_name": "LayoutModel",
          "model_module_version": "1.2.0",
          "state": {
            "_model_module": "@jupyter-widgets/base",
            "_model_module_version": "1.2.0",
            "_model_name": "LayoutModel",
            "_view_count": null,
            "_view_module": "@jupyter-widgets/base",
            "_view_module_version": "1.2.0",
            "_view_name": "LayoutView",
            "align_content": null,
            "align_items": null,
            "align_self": null,
            "border": null,
            "bottom": null,
            "display": null,
            "flex": null,
            "flex_flow": null,
            "grid_area": null,
            "grid_auto_columns": null,
            "grid_auto_flow": null,
            "grid_auto_rows": null,
            "grid_column": null,
            "grid_gap": null,
            "grid_row": null,
            "grid_template_areas": null,
            "grid_template_columns": null,
            "grid_template_rows": null,
            "height": null,
            "justify_content": null,
            "justify_items": null,
            "left": null,
            "margin": null,
            "max_height": null,
            "max_width": null,
            "min_height": null,
            "min_width": null,
            "object_fit": null,
            "object_position": null,
            "order": null,
            "overflow": null,
            "overflow_x": null,
            "overflow_y": null,
            "padding": null,
            "right": null,
            "top": null,
            "visibility": null,
            "width": null
          }
        },
        "dba06f1a86c34d418f24887404b44dc6": {
          "model_module": "@jupyter-widgets/controls",
          "model_name": "DescriptionStyleModel",
          "model_module_version": "1.5.0",
          "state": {
            "_model_module": "@jupyter-widgets/controls",
            "_model_module_version": "1.5.0",
            "_model_name": "DescriptionStyleModel",
            "_view_count": null,
            "_view_module": "@jupyter-widgets/base",
            "_view_module_version": "1.2.0",
            "_view_name": "StyleView",
            "description_width": ""
          }
        },
        "94d496d659dd4e66b58f1a0fd6e8d79f": {
          "model_module": "@jupyter-widgets/base",
          "model_name": "LayoutModel",
          "model_module_version": "1.2.0",
          "state": {
            "_model_module": "@jupyter-widgets/base",
            "_model_module_version": "1.2.0",
            "_model_name": "LayoutModel",
            "_view_count": null,
            "_view_module": "@jupyter-widgets/base",
            "_view_module_version": "1.2.0",
            "_view_name": "LayoutView",
            "align_content": null,
            "align_items": null,
            "align_self": null,
            "border": null,
            "bottom": null,
            "display": null,
            "flex": null,
            "flex_flow": null,
            "grid_area": null,
            "grid_auto_columns": null,
            "grid_auto_flow": null,
            "grid_auto_rows": null,
            "grid_column": null,
            "grid_gap": null,
            "grid_row": null,
            "grid_template_areas": null,
            "grid_template_columns": null,
            "grid_template_rows": null,
            "height": null,
            "justify_content": null,
            "justify_items": null,
            "left": null,
            "margin": null,
            "max_height": null,
            "max_width": null,
            "min_height": null,
            "min_width": null,
            "object_fit": null,
            "object_position": null,
            "order": null,
            "overflow": null,
            "overflow_x": null,
            "overflow_y": null,
            "padding": null,
            "right": null,
            "top": null,
            "visibility": null,
            "width": null
          }
        },
        "7832f20455954657be6d3e8aab1f1d15": {
          "model_module": "@jupyter-widgets/controls",
          "model_name": "ProgressStyleModel",
          "model_module_version": "1.5.0",
          "state": {
            "_model_module": "@jupyter-widgets/controls",
            "_model_module_version": "1.5.0",
            "_model_name": "ProgressStyleModel",
            "_view_count": null,
            "_view_module": "@jupyter-widgets/base",
            "_view_module_version": "1.2.0",
            "_view_name": "StyleView",
            "bar_color": null,
            "description_width": ""
          }
        },
        "87b8d3e037be4fbcac3434096173e3d8": {
          "model_module": "@jupyter-widgets/controls",
          "model_name": "VBoxModel",
          "model_module_version": "1.5.0",
          "state": {
            "_dom_classes": [],
            "_model_module": "@jupyter-widgets/controls",
            "_model_module_version": "1.5.0",
            "_model_name": "VBoxModel",
            "_view_count": null,
            "_view_module": "@jupyter-widgets/controls",
            "_view_module_version": "1.5.0",
            "_view_name": "VBoxView",
            "box_style": "",
            "children": [
              "IPY_MODEL_d91d930581fb464798b19bdf3ce74453",
              "IPY_MODEL_a938a00f8e134790b2b0c6fd6c8be0d5"
            ],
            "layout": "IPY_MODEL_74fa619d26134bbf913f885e0dde669b"
          }
        },
        "d91d930581fb464798b19bdf3ce74453": {
          "model_module": "@jupyter-widgets/controls",
          "model_name": "LabelModel",
          "model_module_version": "1.5.0",
          "state": {
            "_dom_classes": [],
            "_model_module": "@jupyter-widgets/controls",
            "_model_module_version": "1.5.0",
            "_model_name": "LabelModel",
            "_view_count": null,
            "_view_module": "@jupyter-widgets/controls",
            "_view_module_version": "1.5.0",
            "_view_name": "LabelView",
            "description": "",
            "description_tooltip": null,
            "layout": "IPY_MODEL_55cc4aab098f496ab9d725db5939e91c",
            "placeholder": "​",
            "style": "IPY_MODEL_968eed27937d4624a063be3ba0499895",
            "value": "0.008 MB of 0.008 MB uploaded (0.000 MB deduped)\r"
          }
        },
        "a938a00f8e134790b2b0c6fd6c8be0d5": {
          "model_module": "@jupyter-widgets/controls",
          "model_name": "FloatProgressModel",
          "model_module_version": "1.5.0",
          "state": {
            "_dom_classes": [],
            "_model_module": "@jupyter-widgets/controls",
            "_model_module_version": "1.5.0",
            "_model_name": "FloatProgressModel",
            "_view_count": null,
            "_view_module": "@jupyter-widgets/controls",
            "_view_module_version": "1.5.0",
            "_view_name": "ProgressView",
            "bar_style": "",
            "description": "",
            "description_tooltip": null,
            "layout": "IPY_MODEL_8089c3f79dc14b52b09c5c7dbbc83a81",
            "max": 1,
            "min": 0,
            "orientation": "horizontal",
            "style": "IPY_MODEL_d226b22604164a93b0035f5bdb9c11ae",
            "value": 1
          }
        },
        "74fa619d26134bbf913f885e0dde669b": {
          "model_module": "@jupyter-widgets/base",
          "model_name": "LayoutModel",
          "model_module_version": "1.2.0",
          "state": {
            "_model_module": "@jupyter-widgets/base",
            "_model_module_version": "1.2.0",
            "_model_name": "LayoutModel",
            "_view_count": null,
            "_view_module": "@jupyter-widgets/base",
            "_view_module_version": "1.2.0",
            "_view_name": "LayoutView",
            "align_content": null,
            "align_items": null,
            "align_self": null,
            "border": null,
            "bottom": null,
            "display": null,
            "flex": null,
            "flex_flow": null,
            "grid_area": null,
            "grid_auto_columns": null,
            "grid_auto_flow": null,
            "grid_auto_rows": null,
            "grid_column": null,
            "grid_gap": null,
            "grid_row": null,
            "grid_template_areas": null,
            "grid_template_columns": null,
            "grid_template_rows": null,
            "height": null,
            "justify_content": null,
            "justify_items": null,
            "left": null,
            "margin": null,
            "max_height": null,
            "max_width": null,
            "min_height": null,
            "min_width": null,
            "object_fit": null,
            "object_position": null,
            "order": null,
            "overflow": null,
            "overflow_x": null,
            "overflow_y": null,
            "padding": null,
            "right": null,
            "top": null,
            "visibility": null,
            "width": null
          }
        },
        "55cc4aab098f496ab9d725db5939e91c": {
          "model_module": "@jupyter-widgets/base",
          "model_name": "LayoutModel",
          "model_module_version": "1.2.0",
          "state": {
            "_model_module": "@jupyter-widgets/base",
            "_model_module_version": "1.2.0",
            "_model_name": "LayoutModel",
            "_view_count": null,
            "_view_module": "@jupyter-widgets/base",
            "_view_module_version": "1.2.0",
            "_view_name": "LayoutView",
            "align_content": null,
            "align_items": null,
            "align_self": null,
            "border": null,
            "bottom": null,
            "display": null,
            "flex": null,
            "flex_flow": null,
            "grid_area": null,
            "grid_auto_columns": null,
            "grid_auto_flow": null,
            "grid_auto_rows": null,
            "grid_column": null,
            "grid_gap": null,
            "grid_row": null,
            "grid_template_areas": null,
            "grid_template_columns": null,
            "grid_template_rows": null,
            "height": null,
            "justify_content": null,
            "justify_items": null,
            "left": null,
            "margin": null,
            "max_height": null,
            "max_width": null,
            "min_height": null,
            "min_width": null,
            "object_fit": null,
            "object_position": null,
            "order": null,
            "overflow": null,
            "overflow_x": null,
            "overflow_y": null,
            "padding": null,
            "right": null,
            "top": null,
            "visibility": null,
            "width": null
          }
        },
        "968eed27937d4624a063be3ba0499895": {
          "model_module": "@jupyter-widgets/controls",
          "model_name": "DescriptionStyleModel",
          "model_module_version": "1.5.0",
          "state": {
            "_model_module": "@jupyter-widgets/controls",
            "_model_module_version": "1.5.0",
            "_model_name": "DescriptionStyleModel",
            "_view_count": null,
            "_view_module": "@jupyter-widgets/base",
            "_view_module_version": "1.2.0",
            "_view_name": "StyleView",
            "description_width": ""
          }
        },
        "8089c3f79dc14b52b09c5c7dbbc83a81": {
          "model_module": "@jupyter-widgets/base",
          "model_name": "LayoutModel",
          "model_module_version": "1.2.0",
          "state": {
            "_model_module": "@jupyter-widgets/base",
            "_model_module_version": "1.2.0",
            "_model_name": "LayoutModel",
            "_view_count": null,
            "_view_module": "@jupyter-widgets/base",
            "_view_module_version": "1.2.0",
            "_view_name": "LayoutView",
            "align_content": null,
            "align_items": null,
            "align_self": null,
            "border": null,
            "bottom": null,
            "display": null,
            "flex": null,
            "flex_flow": null,
            "grid_area": null,
            "grid_auto_columns": null,
            "grid_auto_flow": null,
            "grid_auto_rows": null,
            "grid_column": null,
            "grid_gap": null,
            "grid_row": null,
            "grid_template_areas": null,
            "grid_template_columns": null,
            "grid_template_rows": null,
            "height": null,
            "justify_content": null,
            "justify_items": null,
            "left": null,
            "margin": null,
            "max_height": null,
            "max_width": null,
            "min_height": null,
            "min_width": null,
            "object_fit": null,
            "object_position": null,
            "order": null,
            "overflow": null,
            "overflow_x": null,
            "overflow_y": null,
            "padding": null,
            "right": null,
            "top": null,
            "visibility": null,
            "width": null
          }
        },
        "d226b22604164a93b0035f5bdb9c11ae": {
          "model_module": "@jupyter-widgets/controls",
          "model_name": "ProgressStyleModel",
          "model_module_version": "1.5.0",
          "state": {
            "_model_module": "@jupyter-widgets/controls",
            "_model_module_version": "1.5.0",
            "_model_name": "ProgressStyleModel",
            "_view_count": null,
            "_view_module": "@jupyter-widgets/base",
            "_view_module_version": "1.2.0",
            "_view_name": "StyleView",
            "bar_color": null,
            "description_width": ""
          }
        }
      }
    }
  },
  "cells": [
    {
      "cell_type": "markdown",
      "metadata": {
        "id": "view-in-github",
        "colab_type": "text"
      },
      "source": [
        "<a href=\"https://colab.research.google.com/github/Krankile/npmf/blob/main/notebooks/multivariate_statistical_forecacst.ipynb\" target=\"_parent\"><img src=\"https://colab.research.google.com/assets/colab-badge.svg\" alt=\"Open In Colab\"/></a>"
      ]
    },
    {
      "cell_type": "markdown",
      "source": [
        "# Setup"
      ],
      "metadata": {
        "id": "d8F5tl4NL7FZ"
      }
    },
    {
      "cell_type": "markdown",
      "source": [
        "##Kernel setup"
      ],
      "metadata": {
        "id": "Rwo44VGZLhAo"
      }
    },
    {
      "cell_type": "code",
      "source": [
        "%load_ext autoreload\n",
        "%autoreload 2"
      ],
      "metadata": {
        "id": "hKuFzk7aEmB9"
      },
      "execution_count": null,
      "outputs": []
    },
    {
      "cell_type": "code",
      "source": [
        "%%capture\n",
        "!git clone https://github.com/Krankile/npmf.git\n",
        "!pip install wandb\n",
        "!pip install pmdarima"
      ],
      "metadata": {
        "id": "91KPY7q0LUOw"
      },
      "execution_count": null,
      "outputs": []
    },
    {
      "cell_type": "code",
      "source": [
        "!wandb login"
      ],
      "metadata": {
        "colab": {
          "base_uri": "https://localhost:8080/"
        },
        "id": "zLr0RXyY3WaA",
        "outputId": "d3970d24-bddd-4ba6-8310-0388f355d117"
      },
      "execution_count": null,
      "outputs": [
        {
          "output_type": "stream",
          "name": "stdout",
          "text": [
            "\u001b[34m\u001b[1mwandb\u001b[0m: You can find your API key in your browser here: https://wandb.ai/authorize\n",
            "\u001b[34m\u001b[1mwandb\u001b[0m: Paste an API key from your profile and hit enter, or press ctrl+c to quit: \n",
            "\u001b[34m\u001b[1mwandb\u001b[0m: Appending key for api.wandb.ai to your netrc file: /root/.netrc\n"
          ]
        }
      ]
    },
    {
      "cell_type": "markdown",
      "source": [
        "##General setup"
      ],
      "metadata": {
        "id": "CLAlA0htLgMY"
      }
    },
    {
      "cell_type": "code",
      "source": [
        "%%capture\n",
        "!cd npmf && git pull\n",
        "\n",
        "import os\n",
        "import pickle\n",
        "from collections import defaultdict, OrderedDict\n",
        "from datetime import datetime\n",
        "from operator import itemgetter\n",
        "\n",
        "import numpy as np\n",
        "from numpy.ma.core import outerproduct\n",
        "import pandas as pd\n",
        "import matplotlib as mpl\n",
        "import matplotlib.pyplot as plt\n",
        "from tqdm import tqdm\n",
        "\n",
        "import pmdarima as pm\n",
        "\n",
        "import wandb as wb\n",
        "\n",
        "import torch\n",
        "from torch import nn\n",
        "from torch.utils.data import DataLoader\n",
        "from torchvision import datasets, transforms\n",
        "\n",
        "from npmf.utils.colors import main, main2, main3\n",
        "from npmf.utils.wandb import get_dataset, put_dataset, put_models, get_models\n",
        "from npmf.utils.data import test_start_pd, get_1_month_test_set, get_train_set\n",
        "from npmf.utils.measurement import mape\n",
        "from npmf.utils.eikon import col_map_macro"
      ],
      "metadata": {
        "id": "1QSlgObXLq1p"
      },
      "execution_count": null,
      "outputs": []
    },
    {
      "cell_type": "code",
      "source": [
        "mpl.rcParams['axes.prop_cycle'] = mpl.cycler(color=[main, main2, main3, \"black\"])\n",
        "mpl.rcParams['figure.figsize'] = (12, 4)  # (6, 4) is default and used in the paper\n",
        "pd.DataFrame.np = lambda self: self.to_numpy()\n",
        "pd.Series.np = lambda self: self.to_numpy()"
      ],
      "metadata": {
        "id": "hkTjKKLmLvpl"
      },
      "execution_count": null,
      "outputs": []
    },
    {
      "cell_type": "code",
      "source": [
        "device = \"cuda\" if torch.cuda.is_available() else \"cpu\"\n",
        "print(f\"Using {device} device\")"
      ],
      "metadata": {
        "colab": {
          "base_uri": "https://localhost:8080/"
        },
        "id": "Dqy02oAvY7GM",
        "outputId": "9ad96cfb-55fd-4787-d568-d01f1cc04150"
      },
      "execution_count": null,
      "outputs": [
        {
          "output_type": "stream",
          "name": "stdout",
          "text": [
            "Using cpu device\n"
          ]
        }
      ]
    },
    {
      "cell_type": "code",
      "source": [
        "np.random.seed(420)"
      ],
      "metadata": {
        "id": "YVFtfDk0pYtd"
      },
      "execution_count": null,
      "outputs": []
    },
    {
      "cell_type": "code",
      "source": [
        "def plot_market_cap(df):\n",
        "    plt.plot(df.date.to_numpy(), df.market_cap.to_numpy())"
      ],
      "metadata": {
        "id": "J3sm9o2uCQ0P"
      },
      "execution_count": null,
      "outputs": []
    },
    {
      "cell_type": "markdown",
      "source": [
        "# Initial validation on synthetic data\n",
        "\n"
      ],
      "metadata": {
        "id": "5SjJBQhRLym1"
      }
    },
    {
      "cell_type": "code",
      "source": [
        "mod = pm.arima.AutoARIMA(seasonal=False)\n",
        "\n",
        "xs = np.linspace(0, 10, 100)\n",
        "ys = np.sin(xs)\n",
        "\n",
        "\n",
        "mod.fit(ys[:-50])\n",
        "\n",
        "fs = mod.predict(50)\n",
        "\n",
        "plt.plot(xs[:-50], ys[:-50])\n",
        "plt.plot(xs[-50:], fs)"
      ],
      "metadata": {
        "colab": {
          "base_uri": "https://localhost:8080/",
          "height": 283
        },
        "id": "eDFLM7Fs1HmL",
        "outputId": "954b28ae-1137-4033-b5e8-f12a88fdac7f"
      },
      "execution_count": null,
      "outputs": [
        {
          "output_type": "execute_result",
          "data": {
            "text/plain": [
              "[<matplotlib.lines.Line2D at 0x7f128bad1850>]"
            ]
          },
          "metadata": {},
          "execution_count": 14
        },
        {
          "output_type": "display_data",
          "data": {
            "text/plain": [
              "<Figure size 864x288 with 1 Axes>"
            ],
            "image/png": "[encoded data removed]"
          },
          "metadata": {
            "needs_background": "light"
          }
        }
      ]
    },
    {
      "cell_type": "code",
      "source": [
        "def plot_pred(ax, xs, ys, f1, f2, text=\"\"):\n",
        "    ax.text(0, 3, text, va=\"top\", ha=\"left\", size=14)\n",
        "    ax.plot(xs, ys, label=\"Data\")\n",
        "    ax.plot(xs, f1, linestyle=\"-.\")\n",
        "    ax.plot(10 + xs, f2, linestyle=\"-.\", color=main2, label=\"Forecast\")"
      ],
      "metadata": {
        "id": "UiNbAyCA8MUB"
      },
      "execution_count": null,
      "outputs": []
    },
    {
      "cell_type": "code",
      "source": [
        "mod = pm.arima.AutoARIMA(seasonal=False)\n",
        "xs = np.linspace(0, 10, 100)\n",
        "x1 = np.concatenate((np.zeros(50), np.ones(50)))\n",
        "ys = np.sin(xs) + 2 * x1\n",
        "\n",
        "fig = plt.figure()\n",
        "ax = fig.add_subplot(111)\n",
        "# Turn off axis lines and ticks of the big subplot\n",
        "ax.spines['top'].set_color('none')\n",
        "ax.spines['bottom'].set_color('none')\n",
        "ax.spines['left'].set_color('none')\n",
        "ax.spines['right'].set_color('none')\n",
        "ax.tick_params(labelcolor='w', top=False, bottom=False, left=False, right=False)\n",
        "\n",
        "ax1 = fig.add_subplot(131)\n",
        "ax2 = fig.add_subplot(132)\n",
        "ax3 = fig.add_subplot(133)\n",
        "\n",
        "mod.fit(ys)\n",
        "f1 = mod.predict_in_sample()\n",
        "f2 = mod.predict(100)\n",
        "plot_pred(ax1, xs, ys, f1, f2, \"(a)\")\n",
        "\n",
        "mod.fit(ys, x1.reshape((100, 1)))\n",
        "f1 = mod.predict_in_sample(x1.reshape((100, 1)))\n",
        "f2 = mod.predict(100, np.zeros((100, 1)))\n",
        "plot_pred(ax2, xs, ys, f1, f2, \"(b)\")\n",
        "\n",
        "mod.fit(ys, x1.reshape((100, 1)))\n",
        "f1 = mod.predict_in_sample(x1.reshape((100, 1)))\n",
        "f2 = mod.predict(100, np.ones((100, 1)))\n",
        "plot_pred(ax3, xs, ys, f1, f2, \"(c)\")\n",
        "ax1.legend(frameon=False)\n",
        "ax2.axes.yaxis.set_visible(False)\n",
        "ax3.axes.yaxis.set_visible(False)\n",
        "\n",
        "ax.set_xlabel(\"Time step\")\n",
        "ax.set_ylabel(\"Level\")\n",
        "\n",
        "fig.add_axes(xlabel=\"Time step\")"
      ],
      "metadata": {
        "colab": {
          "base_uri": "https://localhost:8080/",
          "height": 394
        },
        "id": "3IC7rbCI4AN1",
        "outputId": "cf81f598-e050-4914-aeb1-75d4be7e4d50"
      },
      "execution_count": null,
      "outputs": [
        {
          "output_type": "stream",
          "name": "stderr",
          "text": [
            "/usr/local/lib/python3.7/dist-packages/pmdarima/arima/arima.py:692: UserWarning: As of version 1.5.0 'typ' is no longer a valid arg for predict. In future versions this will raise a TypeError.\n",
            "  warnings.warn(\"As of version 1.5.0 'typ' is no longer a valid \"\n",
            "/usr/local/lib/python3.7/dist-packages/pmdarima/arima/arima.py:692: UserWarning: As of version 1.5.0 'typ' is no longer a valid arg for predict. In future versions this will raise a TypeError.\n",
            "  warnings.warn(\"As of version 1.5.0 'typ' is no longer a valid \"\n",
            "/usr/local/lib/python3.7/dist-packages/pmdarima/arima/arima.py:692: UserWarning: As of version 1.5.0 'typ' is no longer a valid arg for predict. In future versions this will raise a TypeError.\n",
            "  warnings.warn(\"As of version 1.5.0 'typ' is no longer a valid \"\n"
          ]
        },
        {
          "output_type": "display_data",
          "data": {
            "text/plain": [
              "<Figure size 864x288 with 4 Axes>"
            ],
            "image/png": "[encoded data removed]"
          },
          "metadata": {}
        }
      ]
    },
    {
      "cell_type": "markdown",
      "source": [
        "# Fit ARIMAX for all tickers"
      ],
      "metadata": {
        "id": "FsJV4xFoGqbi"
      }
    },
    {
      "cell_type": "markdown",
      "source": [
        "## Get data and prepare"
      ],
      "metadata": {
        "id": "O4PLM4sHHc_n"
      }
    },
    {
      "cell_type": "markdown",
      "source": [
        "### Download from WandB"
      ],
      "metadata": {
        "id": "sNpN-vwBNxcy"
      }
    },
    {
      "cell_type": "code",
      "source": [
        "def get_all_data():\n",
        "    all_stck = get_dataset(\"stock-oil-final:v4\", \"master-test\").set_index([\"ticker\", \"date\"]).sort_index()\n",
        "    all_fund = (\n",
        "        get_dataset(\"fundamentals-oil-final:v4\", \"master-test\")\n",
        "        .astype(\n",
        "            {\n",
        "                \"date\": np.datetime64,\n",
        "                \"period_end_date\": np.datetime64,\n",
        "                \"announce_date\": np.datetime64,\n",
        "            }\n",
        "        )\n",
        "        .set_index([\"ticker\", \"announce_date\"])\n",
        "        .drop(columns=[\"period_end_date\"])\n",
        "        .sort_index()\n",
        "    )\n",
        "    all_macr = get_dataset(\"macro-oil-final:v1\", \"master-test\").set_index(\"date\").sort_index().rename(columns=col_map_macro)\n",
        "\n",
        "    print(f\"Shape stock: {all_stck.shape}, shape fundamental: {all_fund.shape}, shape macro: {all_macr.shape}\")\n",
        "    \n",
        "    all_stck = all_stck[~all_stck.index.duplicated(keep=\"first\")]\n",
        "    all_fund = all_fund[~all_fund.index.duplicated(keep=\"last\")]\n",
        "    \n",
        "    return all_stck, all_fund, all_macr\n",
        "\n",
        "def get_training_data(all_data: list = None):\n",
        "\n",
        "    if all_data is None:\n",
        "        s, f, m = get_all_data()\n",
        "    else:\n",
        "        s, f, m = all_data\n",
        "    \n",
        "    stck = s[s.index.get_level_values(1) < test_start_pd]\n",
        "    fund = f[f.index.get_level_values(1) < test_start_pd]\n",
        "    macr = m[m.index < test_start_pd]\n",
        "\n",
        "    return stck, fund, macr"
      ],
      "metadata": {
        "id": "ZCN9ZwLBHcIh"
      },
      "execution_count": null,
      "outputs": []
    },
    {
      "cell_type": "code",
      "source": [
        "stck, fund, macr = get_training_data()\n",
        "\n",
        "tickers = fund.index.levels[0]\n"
      ],
      "metadata": {
        "id": "CT4gJtfAjdjT"
      },
      "execution_count": null,
      "outputs": []
    },
    {
      "cell_type": "markdown",
      "source": [
        "## Create the training procedure\n",
        "\n",
        "Create the procedure in such a way that it drops constant columns because they carry no actionable information and causes the ARIMAX model to crash epically."
      ],
      "metadata": {
        "id": "Jo51AJ2VN54Y"
      }
    },
    {
      "cell_type": "code",
      "source": [
        "def get_arimax_training_data(\n",
        "    stck: pd.DataFrame, fund: pd.DataFrame, macr: pd.DataFrame, ticker: str, tw: int = 60,\n",
        "):\n",
        "    s = stck.loc[(ticker,)]\n",
        "    f = fund.loc[(ticker,)]\n",
        "\n",
        "    s = (\n",
        "        s.join(f, how=\"left\", rsuffix=\"_fund\")\n",
        "        .join(macr, how=\"left\", rsuffix=\"_macr\")\n",
        "        .ffill()\n",
        "    )\n",
        "    s = s.iloc[-tw:, :]\n",
        "\n",
        "    ys = s.market_cap\n",
        "    exs = s.drop(columns=[\"market_cap\", \"close_price\", \"currency\", \"date\"])\n",
        "    exs = exs.loc[:, exs.nunique() > 1].dropna()\n",
        "\n",
        "    return ys, exs"
      ],
      "metadata": {
        "id": "IvzeuG_YLXRR"
      },
      "execution_count": null,
      "outputs": []
    },
    {
      "cell_type": "code",
      "source": [
        "models = dict()\n",
        "errors = []\n",
        "\n",
        "arima_args = dict(seasonal=False, error_action=\"ignore\", n_jobs=1, stepwise=True, with_intercept=True)\n",
        "\n",
        "it = tqdm(tickers[:10], desc=\"Training ARIMAX\", postfix=dict(errors=len(errors)))\n",
        "\n",
        "for ticker in it:\n",
        "    try:\n",
        "\n",
        "        ys, exs = get_arimax_training_data(stck, fund, macr, ticker, 240)\n",
        "\n",
        "        ex_cols = exs.columns.to_list()\n",
        "\n",
        "        mod = pm.arima.AutoARIMA(**arima_args)\n",
        "        mod.fit(ys, exs.np())\n",
        "\n",
        "        models[ticker] = (mod, ex_cols)\n",
        "\n",
        "    except Exception as e:\n",
        "        errors.append((ticker, e))\n",
        "        it.set_postfix(dict(errors=len(errors)))"
      ],
      "metadata": {
        "id": "1rhSHQVrPzv0",
        "colab": {
          "base_uri": "https://localhost:8080/"
        },
        "outputId": "224f0482-43b7-47ac-90c3-ca8737a1b48a"
      },
      "execution_count": null,
      "outputs": [
        {
          "output_type": "stream",
          "name": "stderr",
          "text": [
            "Training ARIMAX: 100%|██████████| 10/10 [03:32<00:00, 21.26s/it, errors=0]\n"
          ]
        }
      ]
    },
    {
      "cell_type": "markdown",
      "source": [
        "## Save the trained models to WandB"
      ],
      "metadata": {
        "id": "coxbSyY2SLvK"
      }
    },
    {
      "cell_type": "code",
      "source": [
        "filename = \"arimax-trained-4Q.pickle\"\n",
        "metadata = {\n",
        "    \"type\": \"ARIMAX\",\n",
        "    \"n_models\": len(models),\n",
        "    \"macro\": True,\n",
        "    \"fundamentals\": True,\n",
        "    \"training_window\": 240,\n",
        "    \"arima_args\": arima_args,\n",
        "}\n",
        "\n",
        "put_models(filename, models, metadata)"
      ],
      "metadata": {
        "colab": {
          "base_uri": "https://localhost:8080/",
          "height": 141,
          "referenced_widgets": [
            "9098a47d25ff4ff48ddae37309c635f3",
            "fd64721b080c4602afdc03ef44b6c8d5",
            "7ebaa09d75534ea88e9076c10f28b177",
            "f74de5c104b34d27ab5f44688a440c65",
            "97b137365410475da34d71cb62af4c21",
            "14b8fd55b91d4cffa308856243858d2a",
            "ea959615f23446abac4898ba7a2fc9c0",
            "759b9d6c0a1649eb87fb84af84ae4868"
          ]
        },
        "id": "nTpJtjz8VJMn",
        "outputId": "16c370f1-db6e-4d84-e371-c093afacfa4b"
      },
      "execution_count": null,
      "outputs": [
        {
          "output_type": "display_data",
          "data": {
            "text/plain": [
              "<IPython.core.display.HTML object>"
            ],
            "text/html": [
              "Tracking run with wandb version 0.12.16"
            ]
          },
          "metadata": {}
        },
        {
          "output_type": "display_data",
          "data": {
            "text/plain": [
              "<IPython.core.display.HTML object>"
            ],
            "text/html": [
              "Run data is saved locally in <code>/content/wandb/run-20220516_114248-283ugeje</code>"
            ]
          },
          "metadata": {}
        },
        {
          "output_type": "display_data",
          "data": {
            "text/plain": [
              "<IPython.core.display.HTML object>"
            ],
            "text/html": [
              "Syncing run <strong><a href=\"https://wandb.ai/krankile/master-test/runs/283ugeje\" target=\"_blank\">wandering-shadow-289</a></strong> to <a href=\"https://wandb.ai/krankile/master-test\" target=\"_blank\">Weights & Biases</a> (<a href=\"https://wandb.me/run\" target=\"_blank\">docs</a>)<br/>"
            ]
          },
          "metadata": {}
        },
        {
          "output_type": "display_data",
          "data": {
            "text/plain": [
              "<IPython.core.display.HTML object>"
            ],
            "text/html": [
              "Waiting for W&B process to finish... <strong style=\"color:green\">(success).</strong>"
            ]
          },
          "metadata": {}
        },
        {
          "output_type": "display_data",
          "data": {
            "text/plain": [
              "VBox(children=(Label(value='315.921 MB of 315.921 MB uploaded (0.000 MB deduped)\\r'), FloatProgress(value=1.0,…"
            ],
            "application/vnd.jupyter.widget-view+json": {
              "version_major": 2,
              "version_minor": 0,
              "model_id": "9098a47d25ff4ff48ddae37309c635f3"
            }
          },
          "metadata": {}
        },
        {
          "output_type": "display_data",
          "data": {
            "text/plain": [
              "<IPython.core.display.HTML object>"
            ],
            "text/html": [
              "Synced <strong style=\"color:#cdcd00\">wandering-shadow-289</strong>: <a href=\"https://wandb.ai/krankile/master-test/runs/283ugeje\" target=\"_blank\">https://wandb.ai/krankile/master-test/runs/283ugeje</a><br/>Synced 4 W&B file(s), 0 media file(s), 1 artifact file(s) and 0 other file(s)"
            ]
          },
          "metadata": {}
        },
        {
          "output_type": "display_data",
          "data": {
            "text/plain": [
              "<IPython.core.display.HTML object>"
            ],
            "text/html": [
              "Find logs at: <code>./wandb/run-20220516_114248-283ugeje/logs</code>"
            ]
          },
          "metadata": {}
        }
      ]
    },
    {
      "cell_type": "markdown",
      "source": [
        "# Test the fitted models on the test set"
      ],
      "metadata": {
        "id": "nlgdtSAyVrZY"
      }
    },
    {
      "cell_type": "markdown",
      "source": [
        "## Get the models from WandB"
      ],
      "metadata": {
        "id": "3vOanIrlSXLY"
      }
    },
    {
      "cell_type": "code",
      "source": [
        "models = get_models(\"arimax-trained-4Q:v0\")"
      ],
      "metadata": {
        "colab": {
          "base_uri": "https://localhost:8080/",
          "height": 178,
          "referenced_widgets": [
            "b58667f499824597973e7f8648f2dbe5",
            "4c2627838dcc40c596f60127a069440d",
            "51657ce481f4414e8e016fa1af91a2b0",
            "61aa2f5f5f0c47daaec7f40658e93718",
            "8de12b6b65c24657ad4d18b1a5c270d2",
            "f5f910b0dd2242cabc7fe48c4d32277c",
            "331f235221ed4cccb1fe8665d94360df",
            "1f38d1c092df454a928d5146554e65de"
          ]
        },
        "id": "iCTXxlzxSZoI",
        "outputId": "3f9399e1-3d54-4120-bb95-d467fad0e93f"
      },
      "execution_count": null,
      "outputs": [
        {
          "output_type": "stream",
          "name": "stderr",
          "text": [
            "\u001b[34m\u001b[1mwandb\u001b[0m: Currently logged in as: \u001b[33mankile\u001b[0m (\u001b[33mkrankile\u001b[0m). Use \u001b[1m`wandb login --relogin`\u001b[0m to force relogin\n"
          ]
        },
        {
          "output_type": "display_data",
          "data": {
            "text/plain": [
              "<IPython.core.display.HTML object>"
            ],
            "text/html": [
              "Tracking run with wandb version 0.12.16"
            ]
          },
          "metadata": {}
        },
        {
          "output_type": "display_data",
          "data": {
            "text/plain": [
              "<IPython.core.display.HTML object>"
            ],
            "text/html": [
              "Run data is saved locally in <code>/content/wandb/run-20220519_090010-3hn7taa0</code>"
            ]
          },
          "metadata": {}
        },
        {
          "output_type": "display_data",
          "data": {
            "text/plain": [
              "<IPython.core.display.HTML object>"
            ],
            "text/html": [
              "Syncing run <strong><a href=\"https://wandb.ai/krankile/master-test/runs/3hn7taa0\" target=\"_blank\">royal-hill-294</a></strong> to <a href=\"https://wandb.ai/krankile/master-test\" target=\"_blank\">Weights & Biases</a> (<a href=\"https://wandb.me/run\" target=\"_blank\">docs</a>)<br/>"
            ]
          },
          "metadata": {}
        },
        {
          "output_type": "stream",
          "name": "stderr",
          "text": [
            "\u001b[34m\u001b[1mwandb\u001b[0m: Downloading large artifact arimax-trained-4Q:v0, 315.92MB. 1 files... Done. 0:0:0\n"
          ]
        },
        {
          "output_type": "display_data",
          "data": {
            "text/plain": [
              "<IPython.core.display.HTML object>"
            ],
            "text/html": [
              "Waiting for W&B process to finish... <strong style=\"color:green\">(success).</strong>"
            ]
          },
          "metadata": {}
        },
        {
          "output_type": "display_data",
          "data": {
            "text/plain": [
              "VBox(children=(Label(value='0.001 MB of 0.001 MB uploaded (0.000 MB deduped)\\r'), FloatProgress(value=1.0, max…"
            ],
            "application/vnd.jupyter.widget-view+json": {
              "version_major": 2,
              "version_minor": 0,
              "model_id": "b58667f499824597973e7f8648f2dbe5"
            }
          },
          "metadata": {}
        },
        {
          "output_type": "display_data",
          "data": {
            "text/plain": [
              "<IPython.core.display.HTML object>"
            ],
            "text/html": [
              "Synced <strong style=\"color:#cdcd00\">royal-hill-294</strong>: <a href=\"https://wandb.ai/krankile/master-test/runs/3hn7taa0\" target=\"_blank\">https://wandb.ai/krankile/master-test/runs/3hn7taa0</a><br/>Synced 5 W&B file(s), 0 media file(s), 0 artifact file(s) and 0 other file(s)"
            ]
          },
          "metadata": {}
        },
        {
          "output_type": "display_data",
          "data": {
            "text/plain": [
              "<IPython.core.display.HTML object>"
            ],
            "text/html": [
              "Find logs at: <code>./wandb/run-20220519_090010-3hn7taa0/logs</code>"
            ]
          },
          "metadata": {}
        }
      ]
    },
    {
      "cell_type": "code",
      "source": [
        "%%capture\n",
        "all_stck, all_fund, all_macr = get_all_data()\n",
        "stck, fund, macr = get_training_data([all_stck, all_fund, all_macr])"
      ],
      "metadata": {
        "id": "IDSwuk9kjvt3"
      },
      "execution_count": null,
      "outputs": []
    },
    {
      "cell_type": "markdown",
      "source": [
        "## Predict for January 2019"
      ],
      "metadata": {
        "id": "kvI_vjn7nU1H"
      }
    },
    {
      "cell_type": "code",
      "source": [
        "ob_num = list(range(1, 21))\n",
        "out = dict(ticker=[], market_cap=[], obs_number=[])\n",
        "\n",
        "# Get last fundamental values for use in forecasting\n",
        "fund_exo = (\n",
        "    fund.reset_index()\n",
        "    .drop_duplicates(subset=\"ticker\", keep=\"last\")\n",
        "    .set_index(\"ticker\")\n",
        "    .drop(columns=[\"date\", \"announce_date\"])\n",
        "    .fillna(0)\n",
        ")\n",
        "\n",
        "# Get last macro data\n",
        "macr_exo = macr.ffill().iloc[-1, :]\n",
        "\n",
        "\n",
        "for ticker, (model, columns) in tqdm(models.items()):\n",
        "\n",
        "    exo = pd.concat(\n",
        "        [fund_exo.loc[ticker, :], macr_exo],\n",
        "        axis=0,\n",
        "    )[columns]\n",
        "\n",
        "    exo = np.repeat(exo.np().reshape((1, -1)), 20, axis=0)\n",
        "\n",
        "    forec = model.predict(20, exo)\n",
        "    ts = [ticker] * 20\n",
        "\n",
        "    out[\"ticker\"].extend(ts)\n",
        "    out[\"market_cap\"].extend(forec)\n",
        "    out[\"obs_number\"].extend(ob_num)\n",
        "\n",
        "\n",
        "forec_df = pd.DataFrame(out)\n",
        "\n",
        "put_dataset(\n",
        "    forec_df,\n",
        "    \"arimax-4Q-forecast-2019M1.feather\",\n",
        "    \"master-test\",\n",
        "    type_=\"forecast\",\n",
        "    metadata={\"model\": \"ARIMAX\", \"n_forecasts\": len(models), \"training_window\": 240},\n",
        ")\n",
        "\n",
        "forec_df = forec_df.set_index([\"ticker\", \"obs_number\"])"
      ],
      "metadata": {
        "id": "6amy_m7nV975",
        "colab": {
          "base_uri": "https://localhost:8080/",
          "height": 159,
          "referenced_widgets": [
            "8e6dc998503b4c07b8c2b3db88a6d11a",
            "07fdc2b2f3224c7fb9b2ed16c3822ea3",
            "f7f6f0a35d2b4935959d1b01257613ec",
            "ce340b53c00045a09b532368e8d20753",
            "11bc95e35f144ef5897d542ad40b6c7f",
            "dba06f1a86c34d418f24887404b44dc6",
            "94d496d659dd4e66b58f1a0fd6e8d79f",
            "7832f20455954657be6d3e8aab1f1d15"
          ]
        },
        "outputId": "0e97ea3f-8d58-4840-94da-c63f481bb957"
      },
      "execution_count": null,
      "outputs": [
        {
          "output_type": "stream",
          "name": "stderr",
          "text": [
            "100%|██████████| 770/770 [00:04<00:00, 170.06it/s]\n"
          ]
        },
        {
          "output_type": "display_data",
          "data": {
            "text/plain": [
              "<IPython.core.display.HTML object>"
            ],
            "text/html": [
              "Tracking run with wandb version 0.12.16"
            ]
          },
          "metadata": {}
        },
        {
          "output_type": "display_data",
          "data": {
            "text/plain": [
              "<IPython.core.display.HTML object>"
            ],
            "text/html": [
              "Run data is saved locally in <code>/content/wandb/run-20220519_090556-z5us1f8r</code>"
            ]
          },
          "metadata": {}
        },
        {
          "output_type": "display_data",
          "data": {
            "text/plain": [
              "<IPython.core.display.HTML object>"
            ],
            "text/html": [
              "Syncing run <strong><a href=\"https://wandb.ai/krankile/master-test/runs/z5us1f8r\" target=\"_blank\">dutiful-dragon-298</a></strong> to <a href=\"https://wandb.ai/krankile/master-test\" target=\"_blank\">Weights & Biases</a> (<a href=\"https://wandb.me/run\" target=\"_blank\">docs</a>)<br/>"
            ]
          },
          "metadata": {}
        },
        {
          "output_type": "display_data",
          "data": {
            "text/plain": [
              "<IPython.core.display.HTML object>"
            ],
            "text/html": [
              "Waiting for W&B process to finish... <strong style=\"color:green\">(success).</strong>"
            ]
          },
          "metadata": {}
        },
        {
          "output_type": "display_data",
          "data": {
            "text/plain": [
              "VBox(children=(Label(value='0.185 MB of 0.185 MB uploaded (0.000 MB deduped)\\r'), FloatProgress(value=1.0, max…"
            ],
            "application/vnd.jupyter.widget-view+json": {
              "version_major": 2,
              "version_minor": 0,
              "model_id": "8e6dc998503b4c07b8c2b3db88a6d11a"
            }
          },
          "metadata": {}
        },
        {
          "output_type": "display_data",
          "data": {
            "text/plain": [
              "<IPython.core.display.HTML object>"
            ],
            "text/html": [
              "Synced <strong style=\"color:#cdcd00\">dutiful-dragon-298</strong>: <a href=\"https://wandb.ai/krankile/master-test/runs/z5us1f8r\" target=\"_blank\">https://wandb.ai/krankile/master-test/runs/z5us1f8r</a><br/>Synced 4 W&B file(s), 0 media file(s), 1 artifact file(s) and 0 other file(s)"
            ]
          },
          "metadata": {}
        },
        {
          "output_type": "display_data",
          "data": {
            "text/plain": [
              "<IPython.core.display.HTML object>"
            ],
            "text/html": [
              "Find logs at: <code>./wandb/run-20220519_090556-z5us1f8r/logs</code>"
            ]
          },
          "metadata": {}
        }
      ]
    },
    {
      "cell_type": "code",
      "source": [
        "forec_df"
      ],
      "metadata": {
        "colab": {
          "base_uri": "https://localhost:8080/",
          "height": 455
        },
        "id": "xKt9GRc7sQIy",
        "outputId": "17d360a3-0680-4b1e-98b0-3066f1ac1909"
      },
      "execution_count": null,
      "outputs": [
        {
          "output_type": "execute_result",
          "data": {
            "text/plain": [
              "                        market_cap\n",
              "ticker    obs_number              \n",
              "000096.SZ 1           7.177950e+08\n",
              "          2           7.204327e+08\n",
              "          3           7.229668e+08\n",
              "          4           7.254015e+08\n",
              "          5           7.277406e+08\n",
              "...                            ...\n",
              "ZHEN.SI   16          5.207521e+08\n",
              "          17          5.216346e+08\n",
              "          18          5.224399e+08\n",
              "          19          5.231748e+08\n",
              "          20          5.238453e+08\n",
              "\n",
              "[15400 rows x 1 columns]"
            ],
            "text/html": [
              "\n",
              "  <div id=\"df-d06684d9-d266-4616-8805-5da1fecd82e9\">\n",
              "    <div class=\"colab-df-container\">\n",
              "      <div>\n",
              "<style scoped>\n",
              "    .dataframe tbody tr th:only-of-type {\n",
              "        vertical-align: middle;\n",
              "    }\n",
              "\n",
              "    .dataframe tbody tr th {\n",
              "        vertical-align: top;\n",
              "    }\n",
              "\n",
              "    .dataframe thead th {\n",
              "        text-align: right;\n",
              "    }\n",
              "</style>\n",
              "<table border=\"1\" class=\"dataframe\">\n",
              "  <thead>\n",
              "    <tr style=\"text-align: right;\">\n",
              "      <th></th>\n",
              "      <th></th>\n",
              "      <th>market_cap</th>\n",
              "    </tr>\n",
              "    <tr>\n",
              "      <th>ticker</th>\n",
              "      <th>obs_number</th>\n",
              "      <th></th>\n",
              "    </tr>\n",
              "  </thead>\n",
              "  <tbody>\n",
              "    <tr>\n",
              "      <th rowspan=\"5\" valign=\"top\">000096.SZ</th>\n",
              "      <th>1</th>\n",
              "      <td>7.177950e+08</td>\n",
              "    </tr>\n",
              "    <tr>\n",
              "      <th>2</th>\n",
              "      <td>7.204327e+08</td>\n",
              "    </tr>\n",
              "    <tr>\n",
              "      <th>3</th>\n",
              "      <td>7.229668e+08</td>\n",
              "    </tr>\n",
              "    <tr>\n",
              "      <th>4</th>\n",
              "      <td>7.254015e+08</td>\n",
              "    </tr>\n",
              "    <tr>\n",
              "      <th>5</th>\n",
              "      <td>7.277406e+08</td>\n",
              "    </tr>\n",
              "    <tr>\n",
              "      <th>...</th>\n",
              "      <th>...</th>\n",
              "      <td>...</td>\n",
              "    </tr>\n",
              "    <tr>\n",
              "      <th rowspan=\"5\" valign=\"top\">ZHEN.SI</th>\n",
              "      <th>16</th>\n",
              "      <td>5.207521e+08</td>\n",
              "    </tr>\n",
              "    <tr>\n",
              "      <th>17</th>\n",
              "      <td>5.216346e+08</td>\n",
              "    </tr>\n",
              "    <tr>\n",
              "      <th>18</th>\n",
              "      <td>5.224399e+08</td>\n",
              "    </tr>\n",
              "    <tr>\n",
              "      <th>19</th>\n",
              "      <td>5.231748e+08</td>\n",
              "    </tr>\n",
              "    <tr>\n",
              "      <th>20</th>\n",
              "      <td>5.238453e+08</td>\n",
              "    </tr>\n",
              "  </tbody>\n",
              "</table>\n",
              "<p>15400 rows × 1 columns</p>\n",
              "</div>\n",
              "      <button class=\"colab-df-convert\" onclick=\"convertToInteractive('df-d06684d9-d266-4616-8805-5da1fecd82e9')\"\n",
              "              title=\"Convert this dataframe to an interactive table.\"\n",
              "              style=\"display:none;\">\n",
              "        \n",
              "  <svg xmlns=\"http://www.w3.org/2000/svg\" height=\"24px\"viewBox=\"0 0 24 24\"\n",
              "       width=\"24px\">\n",
              "    <path d=\"M0 0h24v24H0V0z\" fill=\"none\"/>\n",
              "    <path d=\"M18.56 5.44l.94 2.06.94-2.06 2.06-.94-2.06-.94-.94-2.06-.94 2.06-2.06.94zm-11 1L8.5 8.5l.94-2.06 2.06-.94-2.06-.94L8.5 2.5l-.94 2.06-2.06.94zm10 10l.94 2.06.94-2.06 2.06-.94-2.06-.94-.94-2.06-.94 2.06-2.06.94z\"/><path d=\"M17.41 7.96l-1.37-1.37c-.4-.4-.92-.59-1.43-.59-.52 0-1.04.2-1.43.59L10.3 9.45l-7.72 7.72c-.78.78-.78 2.05 0 2.83L4 21.41c.39.39.9.59 1.41.59.51 0 1.02-.2 1.41-.59l7.78-7.78 2.81-2.81c.8-.78.8-2.07 0-2.86zM5.41 20L4 18.59l7.72-7.72 1.47 1.35L5.41 20z\"/>\n",
              "  </svg>\n",
              "      </button>\n",
              "      \n",
              "  <style>\n",
              "    .colab-df-container {\n",
              "      display:flex;\n",
              "      flex-wrap:wrap;\n",
              "      gap: 12px;\n",
              "    }\n",
              "\n",
              "    .colab-df-convert {\n",
              "      background-color: #E8F0FE;\n",
              "      border: none;\n",
              "      border-radius: 50%;\n",
              "      cursor: pointer;\n",
              "      display: none;\n",
              "      fill: #1967D2;\n",
              "      height: 32px;\n",
              "      padding: 0 0 0 0;\n",
              "      width: 32px;\n",
              "    }\n",
              "\n",
              "    .colab-df-convert:hover {\n",
              "      background-color: #E2EBFA;\n",
              "      box-shadow: 0px 1px 2px rgba(60, 64, 67, 0.3), 0px 1px 3px 1px rgba(60, 64, 67, 0.15);\n",
              "      fill: #174EA6;\n",
              "    }\n",
              "\n",
              "    [theme=dark] .colab-df-convert {\n",
              "      background-color: #3B4455;\n",
              "      fill: #D2E3FC;\n",
              "    }\n",
              "\n",
              "    [theme=dark] .colab-df-convert:hover {\n",
              "      background-color: #434B5C;\n",
              "      box-shadow: 0px 1px 3px 1px rgba(0, 0, 0, 0.15);\n",
              "      filter: drop-shadow(0px 1px 2px rgba(0, 0, 0, 0.3));\n",
              "      fill: #FFFFFF;\n",
              "    }\n",
              "  </style>\n",
              "\n",
              "      <script>\n",
              "        const buttonEl =\n",
              "          document.querySelector('#df-d06684d9-d266-4616-8805-5da1fecd82e9 button.colab-df-convert');\n",
              "        buttonEl.style.display =\n",
              "          google.colab.kernel.accessAllowed ? 'block' : 'none';\n",
              "\n",
              "        async function convertToInteractive(key) {\n",
              "          const element = document.querySelector('#df-d06684d9-d266-4616-8805-5da1fecd82e9');\n",
              "          const dataTable =\n",
              "            await google.colab.kernel.invokeFunction('convertToInteractive',\n",
              "                                                     [key], {});\n",
              "          if (!dataTable) return;\n",
              "\n",
              "          const docLinkHtml = 'Like what you see? Visit the ' +\n",
              "            '<a target=\"_blank\" href=https://colab.research.google.com/notebooks/data_table.ipynb>data table notebook</a>'\n",
              "            + ' to learn more about interactive tables.';\n",
              "          element.innerHTML = '';\n",
              "          dataTable['output_type'] = 'display_data';\n",
              "          await google.colab.output.renderOutput(dataTable, element);\n",
              "          const docLink = document.createElement('div');\n",
              "          docLink.innerHTML = docLinkHtml;\n",
              "          element.appendChild(docLink);\n",
              "        }\n",
              "      </script>\n",
              "    </div>\n",
              "  </div>\n",
              "  "
            ]
          },
          "metadata": {},
          "execution_count": 15
        }
      ]
    },
    {
      "cell_type": "markdown",
      "source": [
        "## Create actual and compare"
      ],
      "metadata": {
        "id": "UnaYUdVTpyeI"
      }
    },
    {
      "cell_type": "code",
      "source": [
        "tst = all_stck[all_stck.index.get_level_values(1) >= test_start_pd].reset_index()\n",
        "tst[\"obs_number\"] = tst.groupby(\"ticker\").date.rank(method='first', ascending=True).astype(int)\n",
        "tst = tst[tst.obs_number <= 20].set_index([\"ticker\", \"obs_number\"]).loc[:, [\"market_cap\"]]\n",
        "tst.market_cap = tst.market_cap.astype(np.float64)\n",
        "tst"
      ],
      "metadata": {
        "id": "8wGLL-sCEhxO",
        "colab": {
          "base_uri": "https://localhost:8080/",
          "height": 455
        },
        "outputId": "340b9889-4be3-4962-bf04-b570fb6767dd"
      },
      "execution_count": null,
      "outputs": [
        {
          "output_type": "execute_result",
          "data": {
            "text/plain": [
              "                        market_cap\n",
              "ticker    obs_number              \n",
              "000096.SZ 1           6.935114e+08\n",
              "          2           6.931595e+08\n",
              "          3           7.005345e+08\n",
              "          4           7.052744e+08\n",
              "          5           7.127950e+08\n",
              "...                            ...\n",
              "ZHEN.SI   16          5.736022e+08\n",
              "          17          5.939724e+08\n",
              "          18          5.864256e+08\n",
              "          19          5.869460e+08\n",
              "          20          5.871631e+08\n",
              "\n",
              "[17980 rows x 1 columns]"
            ],
            "text/html": [
              "\n",
              "  <div id=\"df-bf22ff07-c7a6-4f7e-b1f3-4d3c358ee67c\">\n",
              "    <div class=\"colab-df-container\">\n",
              "      <div>\n",
              "<style scoped>\n",
              "    .dataframe tbody tr th:only-of-type {\n",
              "        vertical-align: middle;\n",
              "    }\n",
              "\n",
              "    .dataframe tbody tr th {\n",
              "        vertical-align: top;\n",
              "    }\n",
              "\n",
              "    .dataframe thead th {\n",
              "        text-align: right;\n",
              "    }\n",
              "</style>\n",
              "<table border=\"1\" class=\"dataframe\">\n",
              "  <thead>\n",
              "    <tr style=\"text-align: right;\">\n",
              "      <th></th>\n",
              "      <th></th>\n",
              "      <th>market_cap</th>\n",
              "    </tr>\n",
              "    <tr>\n",
              "      <th>ticker</th>\n",
              "      <th>obs_number</th>\n",
              "      <th></th>\n",
              "    </tr>\n",
              "  </thead>\n",
              "  <tbody>\n",
              "    <tr>\n",
              "      <th rowspan=\"5\" valign=\"top\">000096.SZ</th>\n",
              "      <th>1</th>\n",
              "      <td>6.935114e+08</td>\n",
              "    </tr>\n",
              "    <tr>\n",
              "      <th>2</th>\n",
              "      <td>6.931595e+08</td>\n",
              "    </tr>\n",
              "    <tr>\n",
              "      <th>3</th>\n",
              "      <td>7.005345e+08</td>\n",
              "    </tr>\n",
              "    <tr>\n",
              "      <th>4</th>\n",
              "      <td>7.052744e+08</td>\n",
              "    </tr>\n",
              "    <tr>\n",
              "      <th>5</th>\n",
              "      <td>7.127950e+08</td>\n",
              "    </tr>\n",
              "    <tr>\n",
              "      <th>...</th>\n",
              "      <th>...</th>\n",
              "      <td>...</td>\n",
              "    </tr>\n",
              "    <tr>\n",
              "      <th rowspan=\"5\" valign=\"top\">ZHEN.SI</th>\n",
              "      <th>16</th>\n",
              "      <td>5.736022e+08</td>\n",
              "    </tr>\n",
              "    <tr>\n",
              "      <th>17</th>\n",
              "      <td>5.939724e+08</td>\n",
              "    </tr>\n",
              "    <tr>\n",
              "      <th>18</th>\n",
              "      <td>5.864256e+08</td>\n",
              "    </tr>\n",
              "    <tr>\n",
              "      <th>19</th>\n",
              "      <td>5.869460e+08</td>\n",
              "    </tr>\n",
              "    <tr>\n",
              "      <th>20</th>\n",
              "      <td>5.871631e+08</td>\n",
              "    </tr>\n",
              "  </tbody>\n",
              "</table>\n",
              "<p>17980 rows × 1 columns</p>\n",
              "</div>\n",
              "      <button class=\"colab-df-convert\" onclick=\"convertToInteractive('df-bf22ff07-c7a6-4f7e-b1f3-4d3c358ee67c')\"\n",
              "              title=\"Convert this dataframe to an interactive table.\"\n",
              "              style=\"display:none;\">\n",
              "        \n",
              "  <svg xmlns=\"http://www.w3.org/2000/svg\" height=\"24px\"viewBox=\"0 0 24 24\"\n",
              "       width=\"24px\">\n",
              "    <path d=\"M0 0h24v24H0V0z\" fill=\"none\"/>\n",
              "    <path d=\"M18.56 5.44l.94 2.06.94-2.06 2.06-.94-2.06-.94-.94-2.06-.94 2.06-2.06.94zm-11 1L8.5 8.5l.94-2.06 2.06-.94-2.06-.94L8.5 2.5l-.94 2.06-2.06.94zm10 10l.94 2.06.94-2.06 2.06-.94-2.06-.94-.94-2.06-.94 2.06-2.06.94z\"/><path d=\"M17.41 7.96l-1.37-1.37c-.4-.4-.92-.59-1.43-.59-.52 0-1.04.2-1.43.59L10.3 9.45l-7.72 7.72c-.78.78-.78 2.05 0 2.83L4 21.41c.39.39.9.59 1.41.59.51 0 1.02-.2 1.41-.59l7.78-7.78 2.81-2.81c.8-.78.8-2.07 0-2.86zM5.41 20L4 18.59l7.72-7.72 1.47 1.35L5.41 20z\"/>\n",
              "  </svg>\n",
              "      </button>\n",
              "      \n",
              "  <style>\n",
              "    .colab-df-container {\n",
              "      display:flex;\n",
              "      flex-wrap:wrap;\n",
              "      gap: 12px;\n",
              "    }\n",
              "\n",
              "    .colab-df-convert {\n",
              "      background-color: #E8F0FE;\n",
              "      border: none;\n",
              "      border-radius: 50%;\n",
              "      cursor: pointer;\n",
              "      display: none;\n",
              "      fill: #1967D2;\n",
              "      height: 32px;\n",
              "      padding: 0 0 0 0;\n",
              "      width: 32px;\n",
              "    }\n",
              "\n",
              "    .colab-df-convert:hover {\n",
              "      background-color: #E2EBFA;\n",
              "      box-shadow: 0px 1px 2px rgba(60, 64, 67, 0.3), 0px 1px 3px 1px rgba(60, 64, 67, 0.15);\n",
              "      fill: #174EA6;\n",
              "    }\n",
              "\n",
              "    [theme=dark] .colab-df-convert {\n",
              "      background-color: #3B4455;\n",
              "      fill: #D2E3FC;\n",
              "    }\n",
              "\n",
              "    [theme=dark] .colab-df-convert:hover {\n",
              "      background-color: #434B5C;\n",
              "      box-shadow: 0px 1px 3px 1px rgba(0, 0, 0, 0.15);\n",
              "      filter: drop-shadow(0px 1px 2px rgba(0, 0, 0, 0.3));\n",
              "      fill: #FFFFFF;\n",
              "    }\n",
              "  </style>\n",
              "\n",
              "      <script>\n",
              "        const buttonEl =\n",
              "          document.querySelector('#df-bf22ff07-c7a6-4f7e-b1f3-4d3c358ee67c button.colab-df-convert');\n",
              "        buttonEl.style.display =\n",
              "          google.colab.kernel.accessAllowed ? 'block' : 'none';\n",
              "\n",
              "        async function convertToInteractive(key) {\n",
              "          const element = document.querySelector('#df-bf22ff07-c7a6-4f7e-b1f3-4d3c358ee67c');\n",
              "          const dataTable =\n",
              "            await google.colab.kernel.invokeFunction('convertToInteractive',\n",
              "                                                     [key], {});\n",
              "          if (!dataTable) return;\n",
              "\n",
              "          const docLinkHtml = 'Like what you see? Visit the ' +\n",
              "            '<a target=\"_blank\" href=https://colab.research.google.com/notebooks/data_table.ipynb>data table notebook</a>'\n",
              "            + ' to learn more about interactive tables.';\n",
              "          element.innerHTML = '';\n",
              "          dataTable['output_type'] = 'display_data';\n",
              "          await google.colab.output.renderOutput(dataTable, element);\n",
              "          const docLink = document.createElement('div');\n",
              "          docLink.innerHTML = docLinkHtml;\n",
              "          element.appendChild(docLink);\n",
              "        }\n",
              "      </script>\n",
              "    </div>\n",
              "  </div>\n",
              "  "
            ]
          },
          "metadata": {},
          "execution_count": 21
        }
      ]
    },
    {
      "cell_type": "code",
      "source": [
        "tickers = forec_df.index.unique(level=\"ticker\").intersection(tst.index.unique(level=\"ticker\"))\n",
        "\n",
        "tst = tst[tst.index.get_level_values(0).isin(tickers)]\n",
        "forec_df = forec_df[forec_df.index.get_level_values(0).isin(tickers)]"
      ],
      "metadata": {
        "id": "48Vf1FOWsvWC"
      },
      "execution_count": null,
      "outputs": []
    },
    {
      "cell_type": "code",
      "source": [
        "errors = ((tst - forec_df).abs() / tst.abs())\n",
        "errors"
      ],
      "metadata": {
        "colab": {
          "base_uri": "https://localhost:8080/",
          "height": 455
        },
        "id": "n4fN693DqKFh",
        "outputId": "80ec8867-3ec5-44a0-c55d-bfa85b510aa5"
      },
      "execution_count": null,
      "outputs": [
        {
          "output_type": "execute_result",
          "data": {
            "text/plain": [
              "                      market_cap\n",
              "ticker    obs_number            \n",
              "000096.SZ 1             0.035016\n",
              "          2             0.039346\n",
              "          3             0.032022\n",
              "          4             0.028538\n",
              "          5             0.020968\n",
              "...                          ...\n",
              "ZHEN.SI   16            0.092137\n",
              "          17            0.121786\n",
              "          18            0.109111\n",
              "          19            0.108649\n",
              "          20            0.107837\n",
              "\n",
              "[15340 rows x 1 columns]"
            ],
            "text/html": [
              "\n",
              "  <div id=\"df-e3027d03-fee0-4523-ad63-dcec93e68f30\">\n",
              "    <div class=\"colab-df-container\">\n",
              "      <div>\n",
              "<style scoped>\n",
              "    .dataframe tbody tr th:only-of-type {\n",
              "        vertical-align: middle;\n",
              "    }\n",
              "\n",
              "    .dataframe tbody tr th {\n",
              "        vertical-align: top;\n",
              "    }\n",
              "\n",
              "    .dataframe thead th {\n",
              "        text-align: right;\n",
              "    }\n",
              "</style>\n",
              "<table border=\"1\" class=\"dataframe\">\n",
              "  <thead>\n",
              "    <tr style=\"text-align: right;\">\n",
              "      <th></th>\n",
              "      <th></th>\n",
              "      <th>market_cap</th>\n",
              "    </tr>\n",
              "    <tr>\n",
              "      <th>ticker</th>\n",
              "      <th>obs_number</th>\n",
              "      <th></th>\n",
              "    </tr>\n",
              "  </thead>\n",
              "  <tbody>\n",
              "    <tr>\n",
              "      <th rowspan=\"5\" valign=\"top\">000096.SZ</th>\n",
              "      <th>1</th>\n",
              "      <td>0.035016</td>\n",
              "    </tr>\n",
              "    <tr>\n",
              "      <th>2</th>\n",
              "      <td>0.039346</td>\n",
              "    </tr>\n",
              "    <tr>\n",
              "      <th>3</th>\n",
              "      <td>0.032022</td>\n",
              "    </tr>\n",
              "    <tr>\n",
              "      <th>4</th>\n",
              "      <td>0.028538</td>\n",
              "    </tr>\n",
              "    <tr>\n",
              "      <th>5</th>\n",
              "      <td>0.020968</td>\n",
              "    </tr>\n",
              "    <tr>\n",
              "      <th>...</th>\n",
              "      <th>...</th>\n",
              "      <td>...</td>\n",
              "    </tr>\n",
              "    <tr>\n",
              "      <th rowspan=\"5\" valign=\"top\">ZHEN.SI</th>\n",
              "      <th>16</th>\n",
              "      <td>0.092137</td>\n",
              "    </tr>\n",
              "    <tr>\n",
              "      <th>17</th>\n",
              "      <td>0.121786</td>\n",
              "    </tr>\n",
              "    <tr>\n",
              "      <th>18</th>\n",
              "      <td>0.109111</td>\n",
              "    </tr>\n",
              "    <tr>\n",
              "      <th>19</th>\n",
              "      <td>0.108649</td>\n",
              "    </tr>\n",
              "    <tr>\n",
              "      <th>20</th>\n",
              "      <td>0.107837</td>\n",
              "    </tr>\n",
              "  </tbody>\n",
              "</table>\n",
              "<p>15340 rows × 1 columns</p>\n",
              "</div>\n",
              "      <button class=\"colab-df-convert\" onclick=\"convertToInteractive('df-e3027d03-fee0-4523-ad63-dcec93e68f30')\"\n",
              "              title=\"Convert this dataframe to an interactive table.\"\n",
              "              style=\"display:none;\">\n",
              "        \n",
              "  <svg xmlns=\"http://www.w3.org/2000/svg\" height=\"24px\"viewBox=\"0 0 24 24\"\n",
              "       width=\"24px\">\n",
              "    <path d=\"M0 0h24v24H0V0z\" fill=\"none\"/>\n",
              "    <path d=\"M18.56 5.44l.94 2.06.94-2.06 2.06-.94-2.06-.94-.94-2.06-.94 2.06-2.06.94zm-11 1L8.5 8.5l.94-2.06 2.06-.94-2.06-.94L8.5 2.5l-.94 2.06-2.06.94zm10 10l.94 2.06.94-2.06 2.06-.94-2.06-.94-.94-2.06-.94 2.06-2.06.94z\"/><path d=\"M17.41 7.96l-1.37-1.37c-.4-.4-.92-.59-1.43-.59-.52 0-1.04.2-1.43.59L10.3 9.45l-7.72 7.72c-.78.78-.78 2.05 0 2.83L4 21.41c.39.39.9.59 1.41.59.51 0 1.02-.2 1.41-.59l7.78-7.78 2.81-2.81c.8-.78.8-2.07 0-2.86zM5.41 20L4 18.59l7.72-7.72 1.47 1.35L5.41 20z\"/>\n",
              "  </svg>\n",
              "      </button>\n",
              "      \n",
              "  <style>\n",
              "    .colab-df-container {\n",
              "      display:flex;\n",
              "      flex-wrap:wrap;\n",
              "      gap: 12px;\n",
              "    }\n",
              "\n",
              "    .colab-df-convert {\n",
              "      background-color: #E8F0FE;\n",
              "      border: none;\n",
              "      border-radius: 50%;\n",
              "      cursor: pointer;\n",
              "      display: none;\n",
              "      fill: #1967D2;\n",
              "      height: 32px;\n",
              "      padding: 0 0 0 0;\n",
              "      width: 32px;\n",
              "    }\n",
              "\n",
              "    .colab-df-convert:hover {\n",
              "      background-color: #E2EBFA;\n",
              "      box-shadow: 0px 1px 2px rgba(60, 64, 67, 0.3), 0px 1px 3px 1px rgba(60, 64, 67, 0.15);\n",
              "      fill: #174EA6;\n",
              "    }\n",
              "\n",
              "    [theme=dark] .colab-df-convert {\n",
              "      background-color: #3B4455;\n",
              "      fill: #D2E3FC;\n",
              "    }\n",
              "\n",
              "    [theme=dark] .colab-df-convert:hover {\n",
              "      background-color: #434B5C;\n",
              "      box-shadow: 0px 1px 3px 1px rgba(0, 0, 0, 0.15);\n",
              "      filter: drop-shadow(0px 1px 2px rgba(0, 0, 0, 0.3));\n",
              "      fill: #FFFFFF;\n",
              "    }\n",
              "  </style>\n",
              "\n",
              "      <script>\n",
              "        const buttonEl =\n",
              "          document.querySelector('#df-e3027d03-fee0-4523-ad63-dcec93e68f30 button.colab-df-convert');\n",
              "        buttonEl.style.display =\n",
              "          google.colab.kernel.accessAllowed ? 'block' : 'none';\n",
              "\n",
              "        async function convertToInteractive(key) {\n",
              "          const element = document.querySelector('#df-e3027d03-fee0-4523-ad63-dcec93e68f30');\n",
              "          const dataTable =\n",
              "            await google.colab.kernel.invokeFunction('convertToInteractive',\n",
              "                                                     [key], {});\n",
              "          if (!dataTable) return;\n",
              "\n",
              "          const docLinkHtml = 'Like what you see? Visit the ' +\n",
              "            '<a target=\"_blank\" href=https://colab.research.google.com/notebooks/data_table.ipynb>data table notebook</a>'\n",
              "            + ' to learn more about interactive tables.';\n",
              "          element.innerHTML = '';\n",
              "          dataTable['output_type'] = 'display_data';\n",
              "          await google.colab.output.renderOutput(dataTable, element);\n",
              "          const docLink = document.createElement('div');\n",
              "          docLink.innerHTML = docLinkHtml;\n",
              "          element.appendChild(docLink);\n",
              "        }\n",
              "      </script>\n",
              "    </div>\n",
              "  </div>\n",
              "  "
            ]
          },
          "metadata": {},
          "execution_count": 23
        }
      ]
    },
    {
      "cell_type": "code",
      "source": [
        "errors.groupby(\"ticker\").mean().mean().item()"
      ],
      "metadata": {
        "colab": {
          "base_uri": "https://localhost:8080/"
        },
        "id": "2pyQedaoqrOw",
        "outputId": "8a3a53f4-cb52-4409-dda9-ee782e07d62d"
      },
      "execution_count": null,
      "outputs": [
        {
          "output_type": "execute_result",
          "data": {
            "text/plain": [
              "45.635188892215545"
            ]
          },
          "metadata": {},
          "execution_count": 33
        }
      ]
    },
    {
      "cell_type": "markdown",
      "source": [
        "# Analyze the resulting models"
      ],
      "metadata": {
        "id": "2guE6vcAEikG"
      }
    },
    {
      "cell_type": "code",
      "source": [
        "models = get_models(\"arimax-trained-2Q:v0\")"
      ],
      "metadata": {
        "colab": {
          "base_uri": "https://localhost:8080/",
          "height": 159,
          "referenced_widgets": [
            "87b8d3e037be4fbcac3434096173e3d8",
            "d91d930581fb464798b19bdf3ce74453",
            "a938a00f8e134790b2b0c6fd6c8be0d5",
            "74fa619d26134bbf913f885e0dde669b",
            "55cc4aab098f496ab9d725db5939e91c",
            "968eed27937d4624a063be3ba0499895",
            "8089c3f79dc14b52b09c5c7dbbc83a81",
            "d226b22604164a93b0035f5bdb9c11ae"
          ]
        },
        "id": "QWIxErvZE2Hb",
        "outputId": "53468fcf-ca27-4c26-96e5-39fcaa65eac3"
      },
      "execution_count": null,
      "outputs": [
        {
          "output_type": "display_data",
          "data": {
            "text/plain": [
              "<IPython.core.display.HTML object>"
            ],
            "text/html": [
              "Tracking run with wandb version 0.12.16"
            ]
          },
          "metadata": {}
        },
        {
          "output_type": "display_data",
          "data": {
            "text/plain": [
              "<IPython.core.display.HTML object>"
            ],
            "text/html": [
              "Run data is saved locally in <code>/content/wandb/run-20220519_092223-386zxqg8</code>"
            ]
          },
          "metadata": {}
        },
        {
          "output_type": "display_data",
          "data": {
            "text/plain": [
              "<IPython.core.display.HTML object>"
            ],
            "text/html": [
              "Syncing run <strong><a href=\"https://wandb.ai/krankile/master-test/runs/386zxqg8\" target=\"_blank\">wobbly-violet-302</a></strong> to <a href=\"https://wandb.ai/krankile/master-test\" target=\"_blank\">Weights & Biases</a> (<a href=\"https://wandb.me/run\" target=\"_blank\">docs</a>)<br/>"
            ]
          },
          "metadata": {}
        },
        {
          "output_type": "stream",
          "name": "stderr",
          "text": [
            "\u001b[34m\u001b[1mwandb\u001b[0m: Downloading large artifact arimax-trained-2Q:v0, 163.17MB. 1 files... Done. 0:0:0\n"
          ]
        },
        {
          "output_type": "display_data",
          "data": {
            "text/plain": [
              "<IPython.core.display.HTML object>"
            ],
            "text/html": [
              "Waiting for W&B process to finish... <strong style=\"color:green\">(success).</strong>"
            ]
          },
          "metadata": {}
        },
        {
          "output_type": "display_data",
          "data": {
            "text/plain": [
              "VBox(children=(Label(value='0.001 MB of 0.001 MB uploaded (0.000 MB deduped)\\r'), FloatProgress(value=1.0, max…"
            ],
            "application/vnd.jupyter.widget-view+json": {
              "version_major": 2,
              "version_minor": 0,
              "model_id": "87b8d3e037be4fbcac3434096173e3d8"
            }
          },
          "metadata": {}
        },
        {
          "output_type": "display_data",
          "data": {
            "text/plain": [
              "<IPython.core.display.HTML object>"
            ],
            "text/html": [
              "Synced <strong style=\"color:#cdcd00\">wobbly-violet-302</strong>: <a href=\"https://wandb.ai/krankile/master-test/runs/386zxqg8\" target=\"_blank\">https://wandb.ai/krankile/master-test/runs/386zxqg8</a><br/>Synced 5 W&B file(s), 0 media file(s), 0 artifact file(s) and 0 other file(s)"
            ]
          },
          "metadata": {}
        },
        {
          "output_type": "display_data",
          "data": {
            "text/plain": [
              "<IPython.core.display.HTML object>"
            ],
            "text/html": [
              "Find logs at: <code>./wandb/run-20220519_092223-386zxqg8/logs</code>"
            ]
          },
          "metadata": {}
        }
      ]
    },
    {
      "cell_type": "markdown",
      "source": [
        "## Initial analysis of brent spot to market cap"
      ],
      "metadata": {
        "id": "61dUY1sbIwo2"
      }
    },
    {
      "cell_type": "code",
      "source": [
        "brent = {}\n",
        "for ticker, (model, columns) in tqdm(models.items()):\n",
        "    if \"revenue\" not in columns:\n",
        "        continue\n",
        "    rev_idx = columns.index(\"brt\")\n",
        "    \n",
        "    brent[ticker] = model.model_.params()[rev_idx]"
      ],
      "metadata": {
        "colab": {
          "base_uri": "https://localhost:8080/"
        },
        "outputId": "83bf41a0-0f80-4891-e8ba-164c7f14620d",
        "id": "_A5XZqSMMWRq"
      },
      "execution_count": null,
      "outputs": [
        {
          "output_type": "stream",
          "name": "stderr",
          "text": [
            "100%|██████████| 809/809 [00:00<00:00, 88389.69it/s]\n"
          ]
        }
      ]
    },
    {
      "cell_type": "code",
      "source": [
        "scld_brt_coeff = []\n",
        "\n",
        "for ticker, brt in tqdm(brent.items()):\n",
        "    s = stck.loc[(ticker,)]\n",
        "    f = fund.loc[(ticker,)]\n",
        "\n",
        "    s = (\n",
        "        s.join(f, how=\"left\", rsuffix=\"_fund\")\n",
        "        .join(macr, how=\"left\", rsuffix=\"_macr\")\n",
        "        .ffill()\n",
        "    )\n",
        "    max_brt = s.iloc[-60:, :].brt.max()\n",
        "\n",
        "    scld_brt_coeff.append(brt / max_brt)\n",
        "\n",
        "brt_coeff = np.array(scld_brt_coeff)"
      ],
      "metadata": {
        "colab": {
          "base_uri": "https://localhost:8080/"
        },
        "outputId": "58a1e059-bf38-45ff-badd-0d057c9dcc9b",
        "id": "H1k9wHXyMWRr"
      },
      "execution_count": null,
      "outputs": [
        {
          "output_type": "stream",
          "name": "stderr",
          "text": [
            "100%|██████████| 680/680 [00:11<00:00, 57.08it/s]\n"
          ]
        }
      ]
    },
    {
      "cell_type": "code",
      "source": [
        "brt_coeff /= 1e6"
      ],
      "metadata": {
        "id": "kSQcwh7_Ro1s"
      },
      "execution_count": null,
      "outputs": []
    },
    {
      "cell_type": "code",
      "source": [
        "mean = brt_coeff.mean()\n",
        "medi = np.median(brt_coeff)\n",
        "\n",
        "print(\"Mean:\", mean, \"Median:\", medi)\n",
        "\n",
        "plt.hist(brt_coeff, bins=500, weights=np.ones(len(brt_coeff)) / len(brt_coeff), label=\"BRT spot coeff\");\n",
        "plt.axvline(x=mean, color=\"black\", linestyle=\"-.\", label=f\"Mean ({mean:.1e})\")\n",
        "plt.axvline(x=np.median(brt_coeff), color=\"#222\", linestyle=\"--\", label=f\"Median ({medi:.1e})\")\n",
        "plt.xlim(-0.5, 0.5);\n",
        "plt.xlabel(\"BRT spot coefficient (scaled)\")\n",
        "plt.ylabel(\"Share of coefficients\")\n",
        "plt.legend(loc=2);"
      ],
      "metadata": {
        "colab": {
          "base_uri": "https://localhost:8080/",
          "height": 301
        },
        "outputId": "71ad9700-3b10-494c-a2d1-823604d90d9b",
        "id": "gbLd9FC8MWRr"
      },
      "execution_count": null,
      "outputs": [
        {
          "output_type": "stream",
          "name": "stdout",
          "text": [
            "Mean: 0.05767503140955913 Median: -0.0010867377211033016\n"
          ]
        },
        {
          "output_type": "display_data",
          "data": {
            "text/plain": [
              "<Figure size 864x288 with 1 Axes>"
            ],
            "image/png": "[encoded data removed]"
          },
          "metadata": {
            "needs_background": "light"
          }
        }
      ]
    },
    {
      "cell_type": "markdown",
      "source": [
        "## Average absolute impact per individual coefficient"
      ],
      "metadata": {
        "id": "_5L526ggI2Rg"
      }
    },
    {
      "cell_type": "code",
      "source": [
        "coeffs = defaultdict(dict)\n",
        "\n",
        "for ticker, (model, columns) in tqdm(sorted(models.items(), key=lambda x: len(x[1][1]), reverse=True)):\n",
        "    for idx, col in enumerate(columns):\n",
        "        coeffs[col][ticker] = model.model_.params()[idx]\n",
        "len(coeffs)"
      ],
      "metadata": {
        "colab": {
          "base_uri": "https://localhost:8080/"
        },
        "id": "f5a7ng3HI2Dm",
        "outputId": "71b6b9b3-e1cd-4585-ea4c-2be32e7c12d5"
      },
      "execution_count": null,
      "outputs": [
        {
          "output_type": "stream",
          "name": "stderr",
          "text": [
            "100%|██████████| 809/809 [00:00<00:00, 5801.29it/s]\n"
          ]
        },
        {
          "output_type": "execute_result",
          "data": {
            "text/plain": [
              "24"
            ]
          },
          "metadata": {},
          "execution_count": 39
        }
      ]
    },
    {
      "cell_type": "code",
      "source": [
        "coeff_df = pd.DataFrame(coeffs).rename(columns={\"eur\": \"eur_fx\", \"gbp\": \"gbp_fx\", \"cny\": \"cny_fx\"})\n",
        "coeff_df.isna().sum(axis=0) / coeff_df.shape[0]"
      ],
      "metadata": {
        "colab": {
          "base_uri": "https://localhost:8080/"
        },
        "id": "Bss7nvFYJ06v",
        "outputId": "f8140e90-dfa6-45ff-f071-e9944517faa0"
      },
      "execution_count": null,
      "outputs": [
        {
          "output_type": "execute_result",
          "data": {
            "text/plain": [
              "revenue                      0.159456\n",
              "gross_profit                 0.203956\n",
              "ebitda                       0.087763\n",
              "ebit                         0.087763\n",
              "net_income                   0.096415\n",
              "total_assets                 0.106304\n",
              "total_current_assets         0.106304\n",
              "total_liabilites             0.108776\n",
              "total_current_liabilities    0.110012\n",
              "long_term_debt_p_assets      0.318912\n",
              "short_term_debt_p_assets     0.650185\n",
              "fcf                          0.197775\n",
              "gross_profit_p               0.207664\n",
              "ebitda_p                     0.161928\n",
              "ebit_p                       0.161928\n",
              "net_income_p                 0.169345\n",
              "brt                          0.000000\n",
              "clc                          0.000000\n",
              "wtc                          0.000000\n",
              "lng                          0.001236\n",
              "vix                          0.000000\n",
              "eur_fx                       0.000000\n",
              "gbp_fx                       0.000000\n",
              "cny_fx                       0.000000\n",
              "dtype: float64"
            ]
          },
          "metadata": {},
          "execution_count": 40
        }
      ]
    },
    {
      "cell_type": "code",
      "source": [
        "denom_df = pd.DataFrame(index=coeff_df.index, columns=coeff_df.columns)\n",
        "\n",
        "for ticker in tqdm(coeff_df.index):\n",
        "\n",
        "    ys, exs = get_arimax_training_data(stck, fund, macr, ticker, 240)\n",
        "    denom_df.loc[ticker, :] = ys.mean() / exs.mean(axis=0, skipna=True)\n",
        "\n",
        "denom_df"
      ],
      "metadata": {
        "colab": {
          "base_uri": "https://localhost:8080/",
          "height": 506
        },
        "id": "gBJx4RaEKYXf",
        "outputId": "27e6221b-67af-4245-c9a9-cb791b50e196"
      },
      "execution_count": null,
      "outputs": [
        {
          "output_type": "stream",
          "name": "stderr",
          "text": [
            "100%|██████████| 809/809 [00:22<00:00, 36.67it/s]\n"
          ]
        },
        {
          "output_type": "execute_result",
          "data": {
            "text/plain": [
              "            revenue gross_profit      ebitda        ebit   net_income  \\\n",
              "000159.SZ  14.21774    97.062298 -624.053675 -624.053675   -251.25537   \n",
              "000554.SZ  4.224383    52.214505  764.596078  764.596078  9306.877289   \n",
              "000937.SZ  3.018769     14.04864   27.373519   27.373519    49.877116   \n",
              "000983.SZ  3.100296    11.149412   23.669852   23.669852    41.647504   \n",
              "002202.SZ  7.773578     26.46283   61.284266   61.284266    58.525348   \n",
              "...             ...          ...         ...         ...          ...   \n",
              "SWCO.SI         NaN          NaN         NaN         NaN          NaN   \n",
              "UPET.BX         NaN          NaN         NaN         NaN          NaN   \n",
              "VQC.HNO     1.62809     7.154339   10.911636   67.089277          NaN   \n",
              "VVO.L           NaN          NaN         NaN         NaN          NaN   \n",
              "INTR.DH         NaN          NaN         NaN         NaN          NaN   \n",
              "\n",
              "          total_assets total_current_assets total_liabilites  \\\n",
              "000159.SZ     0.712707             1.202728         2.606939   \n",
              "000554.SZ     2.349505             9.984808         7.777427   \n",
              "000937.SZ     0.352609             0.887218         0.659636   \n",
              "000983.SZ     0.402577             1.332056         0.647161   \n",
              "002202.SZ     0.632736             1.434451         0.937274   \n",
              "...                ...                  ...              ...   \n",
              "SWCO.SI            NaN                  NaN              NaN   \n",
              "UPET.BX            NaN                  NaN              NaN   \n",
              "VQC.HNO            NaN                  NaN              NaN   \n",
              "VVO.L              NaN                  NaN              NaN   \n",
              "INTR.DH            NaN                  NaN              NaN   \n",
              "\n",
              "          total_current_liabilities long_term_debt_p_assets  ...  \\\n",
              "000159.SZ                  2.951618        196501140.276914  ...   \n",
              "000554.SZ                  8.241654        721821169.052027  ...   \n",
              "000937.SZ                   1.12847         127935417.11938  ...   \n",
              "000983.SZ                  1.035503        158967842.881939  ...   \n",
              "002202.SZ                  1.632472         300473828.29949  ...   \n",
              "...                             ...                     ...  ...   \n",
              "SWCO.SI                         NaN                     NaN  ...   \n",
              "UPET.BX                         NaN                     NaN  ...   \n",
              "VQC.HNO                         NaN                     NaN  ...   \n",
              "VVO.L                           NaN                     NaN  ...   \n",
              "INTR.DH                         NaN                     NaN  ...   \n",
              "\n",
              "                       ebit_p         net_income_p               brt  \\\n",
              "000159.SZ  -4563860384.980545   -2542761633.181752    4397230.333364   \n",
              "000554.SZ  81043566620.942062  1034815555819.22168    6523249.620538   \n",
              "000937.SZ  22363188845.744347   40753913605.152168    34715132.85103   \n",
              "000983.SZ  27544526535.745609   48510354039.697693   50778235.403525   \n",
              "002202.SZ  57416611769.117485   57217077835.114006  100214271.549174   \n",
              "...                       ...                  ...               ...   \n",
              "SWCO.SI                   NaN                  NaN     457864.933308   \n",
              "UPET.BX                   NaN                  NaN      26601.219207   \n",
              "VQC.HNO       72776849.474108                  NaN      23941.344192   \n",
              "VVO.L                     NaN                  NaN   29535406.104679   \n",
              "INTR.DH                   NaN                  NaN     434724.978975   \n",
              "\n",
              "                        clc               wtc               lng  \\\n",
              "000159.SZ    4816725.802737      4817940.9875    32063931.22287   \n",
              "000554.SZ    7145567.182719    7147369.897824   47566538.781365   \n",
              "000937.SZ    38026954.12162   38036547.728795  253137440.557218   \n",
              "000983.SZ   55622475.545541   55636508.228221  370267128.206557   \n",
              "002202.SZ  109774706.116927  109802400.562422  730747144.656567   \n",
              "...                     ...               ...               ...   \n",
              "SWCO.SI       491715.392821     491375.419324    3427305.757958   \n",
              "UPET.BX        29117.140726       29121.76093     195815.026193   \n",
              "VQC.HNO        26238.543712      26246.500658     175816.216403   \n",
              "VVO.L       32740881.758842   32751088.430608  209568200.285082   \n",
              "INTR.DH       482521.980523     482679.002675               NaN   \n",
              "\n",
              "                        vix             eur_fx             gbp_fx  \\\n",
              "000159.SZ   18563420.666049   264483134.000157   233927778.041083   \n",
              "000554.SZ   27538659.027456   392358228.409065   347029646.766867   \n",
              "000937.SZ   146553981.87852  2088034157.321229  1846806575.181278   \n",
              "000983.SZ  214366242.614869  3054192257.481464  2701345820.041949   \n",
              "002202.SZ  423066234.532667  6027654364.558448  5331288127.809155   \n",
              "...                     ...                ...                ...   \n",
              "SWCO.SI      2186013.877793    22241974.610693    19605970.334169   \n",
              "UPET.BX       112301.520345     1607479.256803     1421818.214676   \n",
              "VQC.HNO       100743.251431     1447748.005123     1280259.608404   \n",
              "VVO.L      131915885.034994  1851456791.860244   1641910548.18159   \n",
              "INTR.DH       1916240.85055    27273288.867907    24191711.127634   \n",
              "\n",
              "                     cny_fx  \n",
              "000159.SZ   47119062.513022  \n",
              "000554.SZ   69900683.693103  \n",
              "000937.SZ  371994276.157084  \n",
              "000983.SZ  544120427.380345  \n",
              "002202.SZ  1073858353.51737  \n",
              "...                     ...  \n",
              "SWCO.SI      3860777.761834  \n",
              "UPET.BX       286424.734279  \n",
              "VQC.HNO       257396.819979  \n",
              "VVO.L      316227798.126609  \n",
              "INTR.DH      4641470.984502  \n",
              "\n",
              "[809 rows x 24 columns]"
            ],
            "text/html": [
              "\n",
              "  <div id=\"df-3d2dbe97-0559-40ff-82ca-4a088b3bc558\">\n",
              "    <div class=\"colab-df-container\">\n",
              "      <div>\n",
              "<style scoped>\n",
              "    .dataframe tbody tr th:only-of-type {\n",
              "        vertical-align: middle;\n",
              "    }\n",
              "\n",
              "    .dataframe tbody tr th {\n",
              "        vertical-align: top;\n",
              "    }\n",
              "\n",
              "    .dataframe thead th {\n",
              "        text-align: right;\n",
              "    }\n",
              "</style>\n",
              "<table border=\"1\" class=\"dataframe\">\n",
              "  <thead>\n",
              "    <tr style=\"text-align: right;\">\n",
              "      <th></th>\n",
              "      <th>revenue</th>\n",
              "      <th>gross_profit</th>\n",
              "      <th>ebitda</th>\n",
              "      <th>ebit</th>\n",
              "      <th>net_income</th>\n",
              "      <th>total_assets</th>\n",
              "      <th>total_current_assets</th>\n",
              "      <th>total_liabilites</th>\n",
              "      <th>total_current_liabilities</th>\n",
              "      <th>long_term_debt_p_assets</th>\n",
              "      <th>...</th>\n",
              "      <th>ebit_p</th>\n",
              "      <th>net_income_p</th>\n",
              "      <th>brt</th>\n",
              "      <th>clc</th>\n",
              "      <th>wtc</th>\n",
              "      <th>lng</th>\n",
              "      <th>vix</th>\n",
              "      <th>eur_fx</th>\n",
              "      <th>gbp_fx</th>\n",
              "      <th>cny_fx</th>\n",
              "    </tr>\n",
              "  </thead>\n",
              "  <tbody>\n",
              "    <tr>\n",
              "      <th>000159.SZ</th>\n",
              "      <td>14.21774</td>\n",
              "      <td>97.062298</td>\n",
              "      <td>-624.053675</td>\n",
              "      <td>-624.053675</td>\n",
              "      <td>-251.25537</td>\n",
              "      <td>0.712707</td>\n",
              "      <td>1.202728</td>\n",
              "      <td>2.606939</td>\n",
              "      <td>2.951618</td>\n",
              "      <td>196501140.276914</td>\n",
              "      <td>...</td>\n",
              "      <td>-4563860384.980545</td>\n",
              "      <td>-2542761633.181752</td>\n",
              "      <td>4397230.333364</td>\n",
              "      <td>4816725.802737</td>\n",
              "      <td>4817940.9875</td>\n",
              "      <td>32063931.22287</td>\n",
              "      <td>18563420.666049</td>\n",
              "      <td>264483134.000157</td>\n",
              "      <td>233927778.041083</td>\n",
              "      <td>47119062.513022</td>\n",
              "    </tr>\n",
              "    <tr>\n",
              "      <th>000554.SZ</th>\n",
              "      <td>4.224383</td>\n",
              "      <td>52.214505</td>\n",
              "      <td>764.596078</td>\n",
              "      <td>764.596078</td>\n",
              "      <td>9306.877289</td>\n",
              "      <td>2.349505</td>\n",
              "      <td>9.984808</td>\n",
              "      <td>7.777427</td>\n",
              "      <td>8.241654</td>\n",
              "      <td>721821169.052027</td>\n",
              "      <td>...</td>\n",
              "      <td>81043566620.942062</td>\n",
              "      <td>1034815555819.22168</td>\n",
              "      <td>6523249.620538</td>\n",
              "      <td>7145567.182719</td>\n",
              "      <td>7147369.897824</td>\n",
              "      <td>47566538.781365</td>\n",
              "      <td>27538659.027456</td>\n",
              "      <td>392358228.409065</td>\n",
              "      <td>347029646.766867</td>\n",
              "      <td>69900683.693103</td>\n",
              "    </tr>\n",
              "    <tr>\n",
              "      <th>000937.SZ</th>\n",
              "      <td>3.018769</td>\n",
              "      <td>14.04864</td>\n",
              "      <td>27.373519</td>\n",
              "      <td>27.373519</td>\n",
              "      <td>49.877116</td>\n",
              "      <td>0.352609</td>\n",
              "      <td>0.887218</td>\n",
              "      <td>0.659636</td>\n",
              "      <td>1.12847</td>\n",
              "      <td>127935417.11938</td>\n",
              "      <td>...</td>\n",
              "      <td>22363188845.744347</td>\n",
              "      <td>40753913605.152168</td>\n",
              "      <td>34715132.85103</td>\n",
              "      <td>38026954.12162</td>\n",
              "      <td>38036547.728795</td>\n",
              "      <td>253137440.557218</td>\n",
              "      <td>146553981.87852</td>\n",
              "      <td>2088034157.321229</td>\n",
              "      <td>1846806575.181278</td>\n",
              "      <td>371994276.157084</td>\n",
              "    </tr>\n",
              "    <tr>\n",
              "      <th>000983.SZ</th>\n",
              "      <td>3.100296</td>\n",
              "      <td>11.149412</td>\n",
              "      <td>23.669852</td>\n",
              "      <td>23.669852</td>\n",
              "      <td>41.647504</td>\n",
              "      <td>0.402577</td>\n",
              "      <td>1.332056</td>\n",
              "      <td>0.647161</td>\n",
              "      <td>1.035503</td>\n",
              "      <td>158967842.881939</td>\n",
              "      <td>...</td>\n",
              "      <td>27544526535.745609</td>\n",
              "      <td>48510354039.697693</td>\n",
              "      <td>50778235.403525</td>\n",
              "      <td>55622475.545541</td>\n",
              "      <td>55636508.228221</td>\n",
              "      <td>370267128.206557</td>\n",
              "      <td>214366242.614869</td>\n",
              "      <td>3054192257.481464</td>\n",
              "      <td>2701345820.041949</td>\n",
              "      <td>544120427.380345</td>\n",
              "    </tr>\n",
              "    <tr>\n",
              "      <th>002202.SZ</th>\n",
              "      <td>7.773578</td>\n",
              "      <td>26.46283</td>\n",
              "      <td>61.284266</td>\n",
              "      <td>61.284266</td>\n",
              "      <td>58.525348</td>\n",
              "      <td>0.632736</td>\n",
              "      <td>1.434451</td>\n",
              "      <td>0.937274</td>\n",
              "      <td>1.632472</td>\n",
              "      <td>300473828.29949</td>\n",
              "      <td>...</td>\n",
              "      <td>57416611769.117485</td>\n",
              "      <td>57217077835.114006</td>\n",
              "      <td>100214271.549174</td>\n",
              "      <td>109774706.116927</td>\n",
              "      <td>109802400.562422</td>\n",
              "      <td>730747144.656567</td>\n",
              "      <td>423066234.532667</td>\n",
              "      <td>6027654364.558448</td>\n",
              "      <td>5331288127.809155</td>\n",
              "      <td>1073858353.51737</td>\n",
              "    </tr>\n",
              "    <tr>\n",
              "      <th>...</th>\n",
              "      <td>...</td>\n",
              "      <td>...</td>\n",
              "      <td>...</td>\n",
              "      <td>...</td>\n",
              "      <td>...</td>\n",
              "      <td>...</td>\n",
              "      <td>...</td>\n",
              "      <td>...</td>\n",
              "      <td>...</td>\n",
              "      <td>...</td>\n",
              "      <td>...</td>\n",
              "      <td>...</td>\n",
              "      <td>...</td>\n",
              "      <td>...</td>\n",
              "      <td>...</td>\n",
              "      <td>...</td>\n",
              "      <td>...</td>\n",
              "      <td>...</td>\n",
              "      <td>...</td>\n",
              "      <td>...</td>\n",
              "      <td>...</td>\n",
              "    </tr>\n",
              "    <tr>\n",
              "      <th>SWCO.SI</th>\n",
              "      <td>NaN</td>\n",
              "      <td>NaN</td>\n",
              "      <td>NaN</td>\n",
              "      <td>NaN</td>\n",
              "      <td>NaN</td>\n",
              "      <td>NaN</td>\n",
              "      <td>NaN</td>\n",
              "      <td>NaN</td>\n",
              "      <td>NaN</td>\n",
              "      <td>NaN</td>\n",
              "      <td>...</td>\n",
              "      <td>NaN</td>\n",
              "      <td>NaN</td>\n",
              "      <td>457864.933308</td>\n",
              "      <td>491715.392821</td>\n",
              "      <td>491375.419324</td>\n",
              "      <td>3427305.757958</td>\n",
              "      <td>2186013.877793</td>\n",
              "      <td>22241974.610693</td>\n",
              "      <td>19605970.334169</td>\n",
              "      <td>3860777.761834</td>\n",
              "    </tr>\n",
              "    <tr>\n",
              "      <th>UPET.BX</th>\n",
              "      <td>NaN</td>\n",
              "      <td>NaN</td>\n",
              "      <td>NaN</td>\n",
              "      <td>NaN</td>\n",
              "      <td>NaN</td>\n",
              "      <td>NaN</td>\n",
              "      <td>NaN</td>\n",
              "      <td>NaN</td>\n",
              "      <td>NaN</td>\n",
              "      <td>NaN</td>\n",
              "      <td>...</td>\n",
              "      <td>NaN</td>\n",
              "      <td>NaN</td>\n",
              "      <td>26601.219207</td>\n",
              "      <td>29117.140726</td>\n",
              "      <td>29121.76093</td>\n",
              "      <td>195815.026193</td>\n",
              "      <td>112301.520345</td>\n",
              "      <td>1607479.256803</td>\n",
              "      <td>1421818.214676</td>\n",
              "      <td>286424.734279</td>\n",
              "    </tr>\n",
              "    <tr>\n",
              "      <th>VQC.HNO</th>\n",
              "      <td>1.62809</td>\n",
              "      <td>7.154339</td>\n",
              "      <td>10.911636</td>\n",
              "      <td>67.089277</td>\n",
              "      <td>NaN</td>\n",
              "      <td>NaN</td>\n",
              "      <td>NaN</td>\n",
              "      <td>NaN</td>\n",
              "      <td>NaN</td>\n",
              "      <td>NaN</td>\n",
              "      <td>...</td>\n",
              "      <td>72776849.474108</td>\n",
              "      <td>NaN</td>\n",
              "      <td>23941.344192</td>\n",
              "      <td>26238.543712</td>\n",
              "      <td>26246.500658</td>\n",
              "      <td>175816.216403</td>\n",
              "      <td>100743.251431</td>\n",
              "      <td>1447748.005123</td>\n",
              "      <td>1280259.608404</td>\n",
              "      <td>257396.819979</td>\n",
              "    </tr>\n",
              "    <tr>\n",
              "      <th>VVO.L</th>\n",
              "      <td>NaN</td>\n",
              "      <td>NaN</td>\n",
              "      <td>NaN</td>\n",
              "      <td>NaN</td>\n",
              "      <td>NaN</td>\n",
              "      <td>NaN</td>\n",
              "      <td>NaN</td>\n",
              "      <td>NaN</td>\n",
              "      <td>NaN</td>\n",
              "      <td>NaN</td>\n",
              "      <td>...</td>\n",
              "      <td>NaN</td>\n",
              "      <td>NaN</td>\n",
              "      <td>29535406.104679</td>\n",
              "      <td>32740881.758842</td>\n",
              "      <td>32751088.430608</td>\n",
              "      <td>209568200.285082</td>\n",
              "      <td>131915885.034994</td>\n",
              "      <td>1851456791.860244</td>\n",
              "      <td>1641910548.18159</td>\n",
              "      <td>316227798.126609</td>\n",
              "    </tr>\n",
              "    <tr>\n",
              "      <th>INTR.DH</th>\n",
              "      <td>NaN</td>\n",
              "      <td>NaN</td>\n",
              "      <td>NaN</td>\n",
              "      <td>NaN</td>\n",
              "      <td>NaN</td>\n",
              "      <td>NaN</td>\n",
              "      <td>NaN</td>\n",
              "      <td>NaN</td>\n",
              "      <td>NaN</td>\n",
              "      <td>NaN</td>\n",
              "      <td>...</td>\n",
              "      <td>NaN</td>\n",
              "      <td>NaN</td>\n",
              "      <td>434724.978975</td>\n",
              "      <td>482521.980523</td>\n",
              "      <td>482679.002675</td>\n",
              "      <td>NaN</td>\n",
              "      <td>1916240.85055</td>\n",
              "      <td>27273288.867907</td>\n",
              "      <td>24191711.127634</td>\n",
              "      <td>4641470.984502</td>\n",
              "    </tr>\n",
              "  </tbody>\n",
              "</table>\n",
              "<p>809 rows × 24 columns</p>\n",
              "</div>\n",
              "      <button class=\"colab-df-convert\" onclick=\"convertToInteractive('df-3d2dbe97-0559-40ff-82ca-4a088b3bc558')\"\n",
              "              title=\"Convert this dataframe to an interactive table.\"\n",
              "              style=\"display:none;\">\n",
              "        \n",
              "  <svg xmlns=\"http://www.w3.org/2000/svg\" height=\"24px\"viewBox=\"0 0 24 24\"\n",
              "       width=\"24px\">\n",
              "    <path d=\"M0 0h24v24H0V0z\" fill=\"none\"/>\n",
              "    <path d=\"M18.56 5.44l.94 2.06.94-2.06 2.06-.94-2.06-.94-.94-2.06-.94 2.06-2.06.94zm-11 1L8.5 8.5l.94-2.06 2.06-.94-2.06-.94L8.5 2.5l-.94 2.06-2.06.94zm10 10l.94 2.06.94-2.06 2.06-.94-2.06-.94-.94-2.06-.94 2.06-2.06.94z\"/><path d=\"M17.41 7.96l-1.37-1.37c-.4-.4-.92-.59-1.43-.59-.52 0-1.04.2-1.43.59L10.3 9.45l-7.72 7.72c-.78.78-.78 2.05 0 2.83L4 21.41c.39.39.9.59 1.41.59.51 0 1.02-.2 1.41-.59l7.78-7.78 2.81-2.81c.8-.78.8-2.07 0-2.86zM5.41 20L4 18.59l7.72-7.72 1.47 1.35L5.41 20z\"/>\n",
              "  </svg>\n",
              "      </button>\n",
              "      \n",
              "  <style>\n",
              "    .colab-df-container {\n",
              "      display:flex;\n",
              "      flex-wrap:wrap;\n",
              "      gap: 12px;\n",
              "    }\n",
              "\n",
              "    .colab-df-convert {\n",
              "      background-color: #E8F0FE;\n",
              "      border: none;\n",
              "      border-radius: 50%;\n",
              "      cursor: pointer;\n",
              "      display: none;\n",
              "      fill: #1967D2;\n",
              "      height: 32px;\n",
              "      padding: 0 0 0 0;\n",
              "      width: 32px;\n",
              "    }\n",
              "\n",
              "    .colab-df-convert:hover {\n",
              "      background-color: #E2EBFA;\n",
              "      box-shadow: 0px 1px 2px rgba(60, 64, 67, 0.3), 0px 1px 3px 1px rgba(60, 64, 67, 0.15);\n",
              "      fill: #174EA6;\n",
              "    }\n",
              "\n",
              "    [theme=dark] .colab-df-convert {\n",
              "      background-color: #3B4455;\n",
              "      fill: #D2E3FC;\n",
              "    }\n",
              "\n",
              "    [theme=dark] .colab-df-convert:hover {\n",
              "      background-color: #434B5C;\n",
              "      box-shadow: 0px 1px 3px 1px rgba(0, 0, 0, 0.15);\n",
              "      filter: drop-shadow(0px 1px 2px rgba(0, 0, 0, 0.3));\n",
              "      fill: #FFFFFF;\n",
              "    }\n",
              "  </style>\n",
              "\n",
              "      <script>\n",
              "        const buttonEl =\n",
              "          document.querySelector('#df-3d2dbe97-0559-40ff-82ca-4a088b3bc558 button.colab-df-convert');\n",
              "        buttonEl.style.display =\n",
              "          google.colab.kernel.accessAllowed ? 'block' : 'none';\n",
              "\n",
              "        async function convertToInteractive(key) {\n",
              "          const element = document.querySelector('#df-3d2dbe97-0559-40ff-82ca-4a088b3bc558');\n",
              "          const dataTable =\n",
              "            await google.colab.kernel.invokeFunction('convertToInteractive',\n",
              "                                                     [key], {});\n",
              "          if (!dataTable) return;\n",
              "\n",
              "          const docLinkHtml = 'Like what you see? Visit the ' +\n",
              "            '<a target=\"_blank\" href=https://colab.research.google.com/notebooks/data_table.ipynb>data table notebook</a>'\n",
              "            + ' to learn more about interactive tables.';\n",
              "          element.innerHTML = '';\n",
              "          dataTable['output_type'] = 'display_data';\n",
              "          await google.colab.output.renderOutput(dataTable, element);\n",
              "          const docLink = document.createElement('div');\n",
              "          docLink.innerHTML = docLinkHtml;\n",
              "          element.appendChild(docLink);\n",
              "        }\n",
              "      </script>\n",
              "    </div>\n",
              "  </div>\n",
              "  "
            ]
          },
          "metadata": {},
          "execution_count": 44
        }
      ]
    },
    {
      "cell_type": "code",
      "source": [
        "coeffs.mean(axis=0, skipna=True) > 1"
      ],
      "metadata": {
        "colab": {
          "base_uri": "https://localhost:8080/"
        },
        "id": "QKtxr9awsAa8",
        "outputId": "d1636b08-3762-407d-88a3-b6c285891edf"
      },
      "execution_count": 81,
      "outputs": [
        {
          "output_type": "execute_result",
          "data": {
            "text/plain": [
              "revenue                       True\n",
              "gross_profit                  True\n",
              "ebitda                        True\n",
              "ebit                          True\n",
              "net_income                    True\n",
              "total_assets                 False\n",
              "total_current_assets          True\n",
              "total_liabilites              True\n",
              "total_current_liabilities     True\n",
              "long_term_debt_p_assets      False\n",
              "short_term_debt_p_assets     False\n",
              "fcf                          False\n",
              "gross_profit_p               False\n",
              "ebitda_p                     False\n",
              "ebit_p                       False\n",
              "net_income_p                 False\n",
              "brt                          False\n",
              "clc                          False\n",
              "wtc                          False\n",
              "lng                          False\n",
              "vix                          False\n",
              "eur_fx                       False\n",
              "gbp_fx                       False\n",
              "cny_fx                       False\n",
              "dtype: bool"
            ]
          },
          "metadata": {},
          "execution_count": 81
        }
      ]
    },
    {
      "cell_type": "code",
      "source": [
        "coeffs = (coeff_df / denom_df)\n",
        "\n",
        "coeffs = coeffs[coeffs.abs() < 1e10]\n",
        "coeffs = coeffs.loc[:, coeffs.mean(axis=0, skipna=True).abs() > 1]\n",
        "\n",
        "mean_coeff = coeffs.mean(axis=0, skipna=True).sort_values(ascending=False)\n",
        "std_coeff = coeffs.std(axis=0, skipna=True)[mean_coeff.index]"
      ],
      "metadata": {
        "id": "fA3ArdPTN0F8"
      },
      "execution_count": 126,
      "outputs": []
    },
    {
      "cell_type": "code",
      "source": [
        "mpl.rcParams['figure.figsize'] = (12, 4)\n",
        "\n",
        "fig, (ax1, ax2) = plt.subplots(ncols=2)\n",
        "\n",
        "\n",
        "ax1.barh(mean_coeff.index, mean_coeff.values, label=\"Mean coefficient (X ≠ 0)\")\n",
        "ax2.barh(mean_coeff.index, mean_coeff.values, xerr=std_coeff)\n",
        "ax2.yaxis.set_visible(False)\n",
        "\n",
        "ax1.set_xlabel(\"(a) Mean normalized coefficient\")\n",
        "ax2.set_xlabel(\"(b) Mean normalized coefficient (error bars ±1σ)\")\n",
        "\n",
        "ax1.legend(frameon=False);\n",
        "\n",
        "#plt.xlabel(\"Mean change in predicted market cap\")\n",
        "#plt.legend(frameon=False);"
      ],
      "metadata": {
        "colab": {
          "base_uri": "https://localhost:8080/",
          "height": 279
        },
        "id": "Icos6f67OTyl",
        "outputId": "4cb54d31-a087-47f7-fccc-4dfaddf3bc74"
      },
      "execution_count": 127,
      "outputs": [
        {
          "output_type": "display_data",
          "data": {
            "text/plain": [
              "<Figure size 864x288 with 2 Axes>"
            ],
            "image/png": "[encoded data removed]"
          },
          "metadata": {
            "needs_background": "light"
          }
        }
      ]
    },
    {
      "cell_type": "code",
      "source": [
        "plt.boxplot(coeffs.values, labels=coeff_df.columns, vert=False);"
      ],
      "metadata": {
        "colab": {
          "base_uri": "https://localhost:8080/",
          "height": 278
        },
        "id": "RPb5mOeLokZp",
        "outputId": "83df716e-0343-4820-a1b9-ef11bd067f8f"
      },
      "execution_count": 71,
      "outputs": [
        {
          "output_type": "display_data",
          "data": {
            "text/plain": [
              "<Figure size 432x288 with 1 Axes>"
            ],
            "image/png": "[encoded data removed]"
          },
          "metadata": {
            "needs_background": "light"
          }
        }
      ]
    },
    {
      "cell_type": "markdown",
      "source": [
        "# Initial experiments\n",
        "\n",
        "The below experiments were performed in order to get familiarized with the `pmdarima` library and included here for reference."
      ],
      "metadata": {
        "id": "_1jtFktEISDY"
      }
    },
    {
      "cell_type": "markdown",
      "source": [
        "## A little real-world data\n",
        "\n",
        "Take one company (Aker BP) and prepare the data and test one ARIMAX-model."
      ],
      "metadata": {
        "id": "Qg3fokfd22sX"
      }
    },
    {
      "cell_type": "code",
      "source": [
        "%%capture\n",
        "stck = get_dataset(\"stock-oil-final:v4\", \"master-test\")\n",
        "fund = get_dataset(\"fundamentals-oil-final:v4\", \"master-test\").astype({\"date\": np.datetime64, \"period_end_date\": np.datetime64, \"announce_date\": np.datetime64})\n",
        "meta = get_dataset(\"meta-oil-final:v4\", \"master-test\")"
      ],
      "metadata": {
        "id": "k_Vm1L8H4A0m"
      },
      "execution_count": null,
      "outputs": []
    },
    {
      "cell_type": "markdown",
      "source": [
        "### Prepare the data"
      ],
      "metadata": {
        "id": "1tPYEJN4dc1y"
      }
    },
    {
      "cell_type": "code",
      "source": [
        "ticker = \"AKRBP.OL\"\n",
        "\n",
        "aker_s = stck[(stck.ticker == ticker) & (stck.date >= \"2018-01-01\")].set_index(\"date\")\n",
        "print(aker_s.shape)\n",
        "aker_s.head()"
      ],
      "metadata": {
        "colab": {
          "base_uri": "https://localhost:8080/",
          "height": 255
        },
        "id": "uNENvmSwAERw",
        "outputId": "ab6d6650-4833-4e80-ef82-964fdd603e98"
      },
      "execution_count": null,
      "outputs": [
        {
          "output_type": "stream",
          "name": "stdout",
          "text": [
            "(1078, 4)\n"
          ]
        },
        {
          "output_type": "execute_result",
          "data": {
            "text/plain": [
              "              ticker         market_cap  close_price currency\n",
              "date                                                         \n",
              "2018-01-02  AKRBP.OL  9049035666.637951    25.128287      USD\n",
              "2018-01-03  AKRBP.OL   9200288357.99711    25.548301      USD\n",
              "2018-01-04  AKRBP.OL   9298265319.07136    25.820374      USD\n",
              "2018-01-05  AKRBP.OL  9380450069.769461    26.048593      USD\n",
              "2018-01-08  AKRBP.OL  9417996570.013371    26.152856      USD"
            ],
            "text/html": [
              "\n",
              "  <div id=\"df-e549959e-b144-4571-8e5e-aa6eca0f2d21\">\n",
              "    <div class=\"colab-df-container\">\n",
              "      <div>\n",
              "<style scoped>\n",
              "    .dataframe tbody tr th:only-of-type {\n",
              "        vertical-align: middle;\n",
              "    }\n",
              "\n",
              "    .dataframe tbody tr th {\n",
              "        vertical-align: top;\n",
              "    }\n",
              "\n",
              "    .dataframe thead th {\n",
              "        text-align: right;\n",
              "    }\n",
              "</style>\n",
              "<table border=\"1\" class=\"dataframe\">\n",
              "  <thead>\n",
              "    <tr style=\"text-align: right;\">\n",
              "      <th></th>\n",
              "      <th>ticker</th>\n",
              "      <th>market_cap</th>\n",
              "      <th>close_price</th>\n",
              "      <th>currency</th>\n",
              "    </tr>\n",
              "    <tr>\n",
              "      <th>date</th>\n",
              "      <th></th>\n",
              "      <th></th>\n",
              "      <th></th>\n",
              "      <th></th>\n",
              "    </tr>\n",
              "  </thead>\n",
              "  <tbody>\n",
              "    <tr>\n",
              "      <th>2018-01-02</th>\n",
              "      <td>AKRBP.OL</td>\n",
              "      <td>9049035666.637951</td>\n",
              "      <td>25.128287</td>\n",
              "      <td>USD</td>\n",
              "    </tr>\n",
              "    <tr>\n",
              "      <th>2018-01-03</th>\n",
              "      <td>AKRBP.OL</td>\n",
              "      <td>9200288357.99711</td>\n",
              "      <td>25.548301</td>\n",
              "      <td>USD</td>\n",
              "    </tr>\n",
              "    <tr>\n",
              "      <th>2018-01-04</th>\n",
              "      <td>AKRBP.OL</td>\n",
              "      <td>9298265319.07136</td>\n",
              "      <td>25.820374</td>\n",
              "      <td>USD</td>\n",
              "    </tr>\n",
              "    <tr>\n",
              "      <th>2018-01-05</th>\n",
              "      <td>AKRBP.OL</td>\n",
              "      <td>9380450069.769461</td>\n",
              "      <td>26.048593</td>\n",
              "      <td>USD</td>\n",
              "    </tr>\n",
              "    <tr>\n",
              "      <th>2018-01-08</th>\n",
              "      <td>AKRBP.OL</td>\n",
              "      <td>9417996570.013371</td>\n",
              "      <td>26.152856</td>\n",
              "      <td>USD</td>\n",
              "    </tr>\n",
              "  </tbody>\n",
              "</table>\n",
              "</div>\n",
              "      <button class=\"colab-df-convert\" onclick=\"convertToInteractive('df-e549959e-b144-4571-8e5e-aa6eca0f2d21')\"\n",
              "              title=\"Convert this dataframe to an interactive table.\"\n",
              "              style=\"display:none;\">\n",
              "        \n",
              "  <svg xmlns=\"http://www.w3.org/2000/svg\" height=\"24px\"viewBox=\"0 0 24 24\"\n",
              "       width=\"24px\">\n",
              "    <path d=\"M0 0h24v24H0V0z\" fill=\"none\"/>\n",
              "    <path d=\"M18.56 5.44l.94 2.06.94-2.06 2.06-.94-2.06-.94-.94-2.06-.94 2.06-2.06.94zm-11 1L8.5 8.5l.94-2.06 2.06-.94-2.06-.94L8.5 2.5l-.94 2.06-2.06.94zm10 10l.94 2.06.94-2.06 2.06-.94-2.06-.94-.94-2.06-.94 2.06-2.06.94z\"/><path d=\"M17.41 7.96l-1.37-1.37c-.4-.4-.92-.59-1.43-.59-.52 0-1.04.2-1.43.59L10.3 9.45l-7.72 7.72c-.78.78-.78 2.05 0 2.83L4 21.41c.39.39.9.59 1.41.59.51 0 1.02-.2 1.41-.59l7.78-7.78 2.81-2.81c.8-.78.8-2.07 0-2.86zM5.41 20L4 18.59l7.72-7.72 1.47 1.35L5.41 20z\"/>\n",
              "  </svg>\n",
              "      </button>\n",
              "      \n",
              "  <style>\n",
              "    .colab-df-container {\n",
              "      display:flex;\n",
              "      flex-wrap:wrap;\n",
              "      gap: 12px;\n",
              "    }\n",
              "\n",
              "    .colab-df-convert {\n",
              "      background-color: #E8F0FE;\n",
              "      border: none;\n",
              "      border-radius: 50%;\n",
              "      cursor: pointer;\n",
              "      display: none;\n",
              "      fill: #1967D2;\n",
              "      height: 32px;\n",
              "      padding: 0 0 0 0;\n",
              "      width: 32px;\n",
              "    }\n",
              "\n",
              "    .colab-df-convert:hover {\n",
              "      background-color: #E2EBFA;\n",
              "      box-shadow: 0px 1px 2px rgba(60, 64, 67, 0.3), 0px 1px 3px 1px rgba(60, 64, 67, 0.15);\n",
              "      fill: #174EA6;\n",
              "    }\n",
              "\n",
              "    [theme=dark] .colab-df-convert {\n",
              "      background-color: #3B4455;\n",
              "      fill: #D2E3FC;\n",
              "    }\n",
              "\n",
              "    [theme=dark] .colab-df-convert:hover {\n",
              "      background-color: #434B5C;\n",
              "      box-shadow: 0px 1px 3px 1px rgba(0, 0, 0, 0.15);\n",
              "      filter: drop-shadow(0px 1px 2px rgba(0, 0, 0, 0.3));\n",
              "      fill: #FFFFFF;\n",
              "    }\n",
              "  </style>\n",
              "\n",
              "      <script>\n",
              "        const buttonEl =\n",
              "          document.querySelector('#df-e549959e-b144-4571-8e5e-aa6eca0f2d21 button.colab-df-convert');\n",
              "        buttonEl.style.display =\n",
              "          google.colab.kernel.accessAllowed ? 'block' : 'none';\n",
              "\n",
              "        async function convertToInteractive(key) {\n",
              "          const element = document.querySelector('#df-e549959e-b144-4571-8e5e-aa6eca0f2d21');\n",
              "          const dataTable =\n",
              "            await google.colab.kernel.invokeFunction('convertToInteractive',\n",
              "                                                     [key], {});\n",
              "          if (!dataTable) return;\n",
              "\n",
              "          const docLinkHtml = 'Like what you see? Visit the ' +\n",
              "            '<a target=\"_blank\" href=https://colab.research.google.com/notebooks/data_table.ipynb>data table notebook</a>'\n",
              "            + ' to learn more about interactive tables.';\n",
              "          element.innerHTML = '';\n",
              "          dataTable['output_type'] = 'display_data';\n",
              "          await google.colab.output.renderOutput(dataTable, element);\n",
              "          const docLink = document.createElement('div');\n",
              "          docLink.innerHTML = docLinkHtml;\n",
              "          element.appendChild(docLink);\n",
              "        }\n",
              "      </script>\n",
              "    </div>\n",
              "  </div>\n",
              "  "
            ]
          },
          "metadata": {},
          "execution_count": 15
        }
      ]
    },
    {
      "cell_type": "code",
      "source": [
        "aker_f = (\n",
        "    fund[(fund.ticker == ticker) & (fund.announce_date >= \"2018-01-01\")]\n",
        "    .set_index(\"announce_date\")\n",
        "    .drop(columns=[\"period_end_date\"])\n",
        ")\n",
        "\n",
        "aker_f = aker_f.sort_index()\n",
        "aker_f = aker_f[~aker_f.index.duplicated(keep=\"last\")]\n",
        "\n",
        "print(aker_f.shape)\n",
        "aker_f.head()"
      ],
      "metadata": {
        "colab": {
          "base_uri": "https://localhost:8080/",
          "height": 406
        },
        "id": "C9GJE3i0AnI6",
        "outputId": "361cf03e-4da1-4a8f-8e5d-a35b30f3fdfd"
      },
      "execution_count": null,
      "outputs": [
        {
          "output_type": "stream",
          "name": "stdout",
          "text": [
            "(13, 18)\n"
          ]
        },
        {
          "output_type": "execute_result",
          "data": {
            "text/plain": [
              "                 ticker       date       revenue  gross_profit       ebitda  \\\n",
              "announce_date                                                                 \n",
              "2018-02-02     AKRBP.OL 2017-12-31   725994000.0   578918000.0  509189000.0   \n",
              "2019-04-26     AKRBP.OL 2019-03-31   836262000.0   635800000.0  538582000.0   \n",
              "2019-07-12     AKRBP.OL 2019-06-30   784816000.0   586496000.0  522353000.0   \n",
              "2019-10-22     AKRBP.OL 2019-09-30   723338000.0   556071000.0  479821000.0   \n",
              "2020-02-11     AKRBP.OL 2019-12-31  1002672000.0   848400000.0  745169000.0   \n",
              "\n",
              "                      ebit   net_income   total_assets  total_current_assets  \\\n",
              "announce_date                                                                  \n",
              "2018-02-02     326051000.0   34037000.0  12018560000.0          2532069000.0   \n",
              "2019-04-26     355479000.0   10426000.0  11116582000.0           618708000.0   \n",
              "2019-07-12     354464000.0   62498000.0  11492580000.0           603432000.0   \n",
              "2019-10-22     273954000.0  -43423000.0  11726805000.0           578073000.0   \n",
              "2020-02-11     490153000.0  111550000.0  12226786000.0           718603000.0   \n",
              "\n",
              "               total_liabilites  total_current_liabilities  \\\n",
              "announce_date                                                \n",
              "2018-02-02         9029964000.0               2888476000.0   \n",
              "2019-04-26         8317118000.0               1443653000.0   \n",
              "2019-07-12         8828783000.0               1390355000.0   \n",
              "2019-10-22         9283266000.0               1530037000.0   \n",
              "2020-02-11         9859201000.0               1715361000.0   \n",
              "\n",
              "               long_term_debt_p_assets  short_term_debt_p_assets          fcf  \\\n",
              "announce_date                                                                   \n",
              "2018-02-02                    15.74727                  12.45053  266124000.0   \n",
              "2019-04-26                    22.50158                       0.0  100244000.0   \n",
              "2019-07-12                    25.12101                       0.0 -114713000.0   \n",
              "2019-10-22                    24.99394                   0.12791 -167192000.0   \n",
              "2020-02-11                    26.68453                   0.12791   -6592000.0   \n",
              "\n",
              "               gross_profit_p  ebitda_p    ebit_p  net_income_p  \n",
              "announce_date                                                    \n",
              "2018-02-02           0.797414  0.701368  0.449110      0.046883  \n",
              "2019-04-26           0.760288  0.644035  0.425081      0.012467  \n",
              "2019-07-12           0.747304  0.665574  0.451652      0.079634  \n",
              "2019-10-22           0.768757  0.663343  0.378736     -0.060031  \n",
              "2020-02-11           0.846139  0.743183  0.488847      0.111253  "
            ],
            "text/html": [
              "\n",
              "  <div id=\"df-14d93b69-6709-44c6-af82-15494bc86730\">\n",
              "    <div class=\"colab-df-container\">\n",
              "      <div>\n",
              "<style scoped>\n",
              "    .dataframe tbody tr th:only-of-type {\n",
              "        vertical-align: middle;\n",
              "    }\n",
              "\n",
              "    .dataframe tbody tr th {\n",
              "        vertical-align: top;\n",
              "    }\n",
              "\n",
              "    .dataframe thead th {\n",
              "        text-align: right;\n",
              "    }\n",
              "</style>\n",
              "<table border=\"1\" class=\"dataframe\">\n",
              "  <thead>\n",
              "    <tr style=\"text-align: right;\">\n",
              "      <th></th>\n",
              "      <th>ticker</th>\n",
              "      <th>date</th>\n",
              "      <th>revenue</th>\n",
              "      <th>gross_profit</th>\n",
              "      <th>ebitda</th>\n",
              "      <th>ebit</th>\n",
              "      <th>net_income</th>\n",
              "      <th>total_assets</th>\n",
              "      <th>total_current_assets</th>\n",
              "      <th>total_liabilites</th>\n",
              "      <th>total_current_liabilities</th>\n",
              "      <th>long_term_debt_p_assets</th>\n",
              "      <th>short_term_debt_p_assets</th>\n",
              "      <th>fcf</th>\n",
              "      <th>gross_profit_p</th>\n",
              "      <th>ebitda_p</th>\n",
              "      <th>ebit_p</th>\n",
              "      <th>net_income_p</th>\n",
              "    </tr>\n",
              "    <tr>\n",
              "      <th>announce_date</th>\n",
              "      <th></th>\n",
              "      <th></th>\n",
              "      <th></th>\n",
              "      <th></th>\n",
              "      <th></th>\n",
              "      <th></th>\n",
              "      <th></th>\n",
              "      <th></th>\n",
              "      <th></th>\n",
              "      <th></th>\n",
              "      <th></th>\n",
              "      <th></th>\n",
              "      <th></th>\n",
              "      <th></th>\n",
              "      <th></th>\n",
              "      <th></th>\n",
              "      <th></th>\n",
              "      <th></th>\n",
              "    </tr>\n",
              "  </thead>\n",
              "  <tbody>\n",
              "    <tr>\n",
              "      <th>2018-02-02</th>\n",
              "      <td>AKRBP.OL</td>\n",
              "      <td>2017-12-31</td>\n",
              "      <td>725994000.0</td>\n",
              "      <td>578918000.0</td>\n",
              "      <td>509189000.0</td>\n",
              "      <td>326051000.0</td>\n",
              "      <td>34037000.0</td>\n",
              "      <td>12018560000.0</td>\n",
              "      <td>2532069000.0</td>\n",
              "      <td>9029964000.0</td>\n",
              "      <td>2888476000.0</td>\n",
              "      <td>15.74727</td>\n",
              "      <td>12.45053</td>\n",
              "      <td>266124000.0</td>\n",
              "      <td>0.797414</td>\n",
              "      <td>0.701368</td>\n",
              "      <td>0.449110</td>\n",
              "      <td>0.046883</td>\n",
              "    </tr>\n",
              "    <tr>\n",
              "      <th>2019-04-26</th>\n",
              "      <td>AKRBP.OL</td>\n",
              "      <td>2019-03-31</td>\n",
              "      <td>836262000.0</td>\n",
              "      <td>635800000.0</td>\n",
              "      <td>538582000.0</td>\n",
              "      <td>355479000.0</td>\n",
              "      <td>10426000.0</td>\n",
              "      <td>11116582000.0</td>\n",
              "      <td>618708000.0</td>\n",
              "      <td>8317118000.0</td>\n",
              "      <td>1443653000.0</td>\n",
              "      <td>22.50158</td>\n",
              "      <td>0.0</td>\n",
              "      <td>100244000.0</td>\n",
              "      <td>0.760288</td>\n",
              "      <td>0.644035</td>\n",
              "      <td>0.425081</td>\n",
              "      <td>0.012467</td>\n",
              "    </tr>\n",
              "    <tr>\n",
              "      <th>2019-07-12</th>\n",
              "      <td>AKRBP.OL</td>\n",
              "      <td>2019-06-30</td>\n",
              "      <td>784816000.0</td>\n",
              "      <td>586496000.0</td>\n",
              "      <td>522353000.0</td>\n",
              "      <td>354464000.0</td>\n",
              "      <td>62498000.0</td>\n",
              "      <td>11492580000.0</td>\n",
              "      <td>603432000.0</td>\n",
              "      <td>8828783000.0</td>\n",
              "      <td>1390355000.0</td>\n",
              "      <td>25.12101</td>\n",
              "      <td>0.0</td>\n",
              "      <td>-114713000.0</td>\n",
              "      <td>0.747304</td>\n",
              "      <td>0.665574</td>\n",
              "      <td>0.451652</td>\n",
              "      <td>0.079634</td>\n",
              "    </tr>\n",
              "    <tr>\n",
              "      <th>2019-10-22</th>\n",
              "      <td>AKRBP.OL</td>\n",
              "      <td>2019-09-30</td>\n",
              "      <td>723338000.0</td>\n",
              "      <td>556071000.0</td>\n",
              "      <td>479821000.0</td>\n",
              "      <td>273954000.0</td>\n",
              "      <td>-43423000.0</td>\n",
              "      <td>11726805000.0</td>\n",
              "      <td>578073000.0</td>\n",
              "      <td>9283266000.0</td>\n",
              "      <td>1530037000.0</td>\n",
              "      <td>24.99394</td>\n",
              "      <td>0.12791</td>\n",
              "      <td>-167192000.0</td>\n",
              "      <td>0.768757</td>\n",
              "      <td>0.663343</td>\n",
              "      <td>0.378736</td>\n",
              "      <td>-0.060031</td>\n",
              "    </tr>\n",
              "    <tr>\n",
              "      <th>2020-02-11</th>\n",
              "      <td>AKRBP.OL</td>\n",
              "      <td>2019-12-31</td>\n",
              "      <td>1002672000.0</td>\n",
              "      <td>848400000.0</td>\n",
              "      <td>745169000.0</td>\n",
              "      <td>490153000.0</td>\n",
              "      <td>111550000.0</td>\n",
              "      <td>12226786000.0</td>\n",
              "      <td>718603000.0</td>\n",
              "      <td>9859201000.0</td>\n",
              "      <td>1715361000.0</td>\n",
              "      <td>26.68453</td>\n",
              "      <td>0.12791</td>\n",
              "      <td>-6592000.0</td>\n",
              "      <td>0.846139</td>\n",
              "      <td>0.743183</td>\n",
              "      <td>0.488847</td>\n",
              "      <td>0.111253</td>\n",
              "    </tr>\n",
              "  </tbody>\n",
              "</table>\n",
              "</div>\n",
              "      <button class=\"colab-df-convert\" onclick=\"convertToInteractive('df-14d93b69-6709-44c6-af82-15494bc86730')\"\n",
              "              title=\"Convert this dataframe to an interactive table.\"\n",
              "              style=\"display:none;\">\n",
              "        \n",
              "  <svg xmlns=\"http://www.w3.org/2000/svg\" height=\"24px\"viewBox=\"0 0 24 24\"\n",
              "       width=\"24px\">\n",
              "    <path d=\"M0 0h24v24H0V0z\" fill=\"none\"/>\n",
              "    <path d=\"M18.56 5.44l.94 2.06.94-2.06 2.06-.94-2.06-.94-.94-2.06-.94 2.06-2.06.94zm-11 1L8.5 8.5l.94-2.06 2.06-.94-2.06-.94L8.5 2.5l-.94 2.06-2.06.94zm10 10l.94 2.06.94-2.06 2.06-.94-2.06-.94-.94-2.06-.94 2.06-2.06.94z\"/><path d=\"M17.41 7.96l-1.37-1.37c-.4-.4-.92-.59-1.43-.59-.52 0-1.04.2-1.43.59L10.3 9.45l-7.72 7.72c-.78.78-.78 2.05 0 2.83L4 21.41c.39.39.9.59 1.41.59.51 0 1.02-.2 1.41-.59l7.78-7.78 2.81-2.81c.8-.78.8-2.07 0-2.86zM5.41 20L4 18.59l7.72-7.72 1.47 1.35L5.41 20z\"/>\n",
              "  </svg>\n",
              "      </button>\n",
              "      \n",
              "  <style>\n",
              "    .colab-df-container {\n",
              "      display:flex;\n",
              "      flex-wrap:wrap;\n",
              "      gap: 12px;\n",
              "    }\n",
              "\n",
              "    .colab-df-convert {\n",
              "      background-color: #E8F0FE;\n",
              "      border: none;\n",
              "      border-radius: 50%;\n",
              "      cursor: pointer;\n",
              "      display: none;\n",
              "      fill: #1967D2;\n",
              "      height: 32px;\n",
              "      padding: 0 0 0 0;\n",
              "      width: 32px;\n",
              "    }\n",
              "\n",
              "    .colab-df-convert:hover {\n",
              "      background-color: #E2EBFA;\n",
              "      box-shadow: 0px 1px 2px rgba(60, 64, 67, 0.3), 0px 1px 3px 1px rgba(60, 64, 67, 0.15);\n",
              "      fill: #174EA6;\n",
              "    }\n",
              "\n",
              "    [theme=dark] .colab-df-convert {\n",
              "      background-color: #3B4455;\n",
              "      fill: #D2E3FC;\n",
              "    }\n",
              "\n",
              "    [theme=dark] .colab-df-convert:hover {\n",
              "      background-color: #434B5C;\n",
              "      box-shadow: 0px 1px 3px 1px rgba(0, 0, 0, 0.15);\n",
              "      filter: drop-shadow(0px 1px 2px rgba(0, 0, 0, 0.3));\n",
              "      fill: #FFFFFF;\n",
              "    }\n",
              "  </style>\n",
              "\n",
              "      <script>\n",
              "        const buttonEl =\n",
              "          document.querySelector('#df-14d93b69-6709-44c6-af82-15494bc86730 button.colab-df-convert');\n",
              "        buttonEl.style.display =\n",
              "          google.colab.kernel.accessAllowed ? 'block' : 'none';\n",
              "\n",
              "        async function convertToInteractive(key) {\n",
              "          const element = document.querySelector('#df-14d93b69-6709-44c6-af82-15494bc86730');\n",
              "          const dataTable =\n",
              "            await google.colab.kernel.invokeFunction('convertToInteractive',\n",
              "                                                     [key], {});\n",
              "          if (!dataTable) return;\n",
              "\n",
              "          const docLinkHtml = 'Like what you see? Visit the ' +\n",
              "            '<a target=\"_blank\" href=https://colab.research.google.com/notebooks/data_table.ipynb>data table notebook</a>'\n",
              "            + ' to learn more about interactive tables.';\n",
              "          element.innerHTML = '';\n",
              "          dataTable['output_type'] = 'display_data';\n",
              "          await google.colab.output.renderOutput(dataTable, element);\n",
              "          const docLink = document.createElement('div');\n",
              "          docLink.innerHTML = docLinkHtml;\n",
              "          element.appendChild(docLink);\n",
              "        }\n",
              "      </script>\n",
              "    </div>\n",
              "  </div>\n",
              "  "
            ]
          },
          "metadata": {},
          "execution_count": 16
        }
      ]
    },
    {
      "cell_type": "code",
      "source": [
        "aker_m = meta[(meta.ticker == ticker)]\n",
        "aker_m.head()"
      ],
      "metadata": {
        "colab": {
          "base_uri": "https://localhost:8080/",
          "height": 142
        },
        "id": "timcnWu5Bp-m",
        "outputId": "f70e42e8-11fd-4fe3-93cb-79244d0a6222"
      },
      "execution_count": null,
      "outputs": [
        {
          "output_type": "execute_result",
          "data": {
            "text/plain": [
              "       ticker exchange_code region_hq country_hq state_province_hq  \\\n",
              "241  AKRBP.OL          XOSL    Europe     Norway          AKERSHUS   \n",
              "\n",
              "     founding_year economic_sector        business_sector industry_group  \\\n",
              "241           2006          Energy  Energy - Fossil Fuels      Oil & Gas   \n",
              "\n",
              "                                 industry  \\\n",
              "241  Oil & Gas Exploration and Production   \n",
              "\n",
              "                                       activity  \n",
              "241  Oil & Gas Exploration and Production (NEC)  "
            ],
            "text/html": [
              "\n",
              "  <div id=\"df-b7fe399d-9e56-4614-9515-451c4291152c\">\n",
              "    <div class=\"colab-df-container\">\n",
              "      <div>\n",
              "<style scoped>\n",
              "    .dataframe tbody tr th:only-of-type {\n",
              "        vertical-align: middle;\n",
              "    }\n",
              "\n",
              "    .dataframe tbody tr th {\n",
              "        vertical-align: top;\n",
              "    }\n",
              "\n",
              "    .dataframe thead th {\n",
              "        text-align: right;\n",
              "    }\n",
              "</style>\n",
              "<table border=\"1\" class=\"dataframe\">\n",
              "  <thead>\n",
              "    <tr style=\"text-align: right;\">\n",
              "      <th></th>\n",
              "      <th>ticker</th>\n",
              "      <th>exchange_code</th>\n",
              "      <th>region_hq</th>\n",
              "      <th>country_hq</th>\n",
              "      <th>state_province_hq</th>\n",
              "      <th>founding_year</th>\n",
              "      <th>economic_sector</th>\n",
              "      <th>business_sector</th>\n",
              "      <th>industry_group</th>\n",
              "      <th>industry</th>\n",
              "      <th>activity</th>\n",
              "    </tr>\n",
              "  </thead>\n",
              "  <tbody>\n",
              "    <tr>\n",
              "      <th>241</th>\n",
              "      <td>AKRBP.OL</td>\n",
              "      <td>XOSL</td>\n",
              "      <td>Europe</td>\n",
              "      <td>Norway</td>\n",
              "      <td>AKERSHUS</td>\n",
              "      <td>2006</td>\n",
              "      <td>Energy</td>\n",
              "      <td>Energy - Fossil Fuels</td>\n",
              "      <td>Oil &amp; Gas</td>\n",
              "      <td>Oil &amp; Gas Exploration and Production</td>\n",
              "      <td>Oil &amp; Gas Exploration and Production (NEC)</td>\n",
              "    </tr>\n",
              "  </tbody>\n",
              "</table>\n",
              "</div>\n",
              "      <button class=\"colab-df-convert\" onclick=\"convertToInteractive('df-b7fe399d-9e56-4614-9515-451c4291152c')\"\n",
              "              title=\"Convert this dataframe to an interactive table.\"\n",
              "              style=\"display:none;\">\n",
              "        \n",
              "  <svg xmlns=\"http://www.w3.org/2000/svg\" height=\"24px\"viewBox=\"0 0 24 24\"\n",
              "       width=\"24px\">\n",
              "    <path d=\"M0 0h24v24H0V0z\" fill=\"none\"/>\n",
              "    <path d=\"M18.56 5.44l.94 2.06.94-2.06 2.06-.94-2.06-.94-.94-2.06-.94 2.06-2.06.94zm-11 1L8.5 8.5l.94-2.06 2.06-.94-2.06-.94L8.5 2.5l-.94 2.06-2.06.94zm10 10l.94 2.06.94-2.06 2.06-.94-2.06-.94-.94-2.06-.94 2.06-2.06.94z\"/><path d=\"M17.41 7.96l-1.37-1.37c-.4-.4-.92-.59-1.43-.59-.52 0-1.04.2-1.43.59L10.3 9.45l-7.72 7.72c-.78.78-.78 2.05 0 2.83L4 21.41c.39.39.9.59 1.41.59.51 0 1.02-.2 1.41-.59l7.78-7.78 2.81-2.81c.8-.78.8-2.07 0-2.86zM5.41 20L4 18.59l7.72-7.72 1.47 1.35L5.41 20z\"/>\n",
              "  </svg>\n",
              "      </button>\n",
              "      \n",
              "  <style>\n",
              "    .colab-df-container {\n",
              "      display:flex;\n",
              "      flex-wrap:wrap;\n",
              "      gap: 12px;\n",
              "    }\n",
              "\n",
              "    .colab-df-convert {\n",
              "      background-color: #E8F0FE;\n",
              "      border: none;\n",
              "      border-radius: 50%;\n",
              "      cursor: pointer;\n",
              "      display: none;\n",
              "      fill: #1967D2;\n",
              "      height: 32px;\n",
              "      padding: 0 0 0 0;\n",
              "      width: 32px;\n",
              "    }\n",
              "\n",
              "    .colab-df-convert:hover {\n",
              "      background-color: #E2EBFA;\n",
              "      box-shadow: 0px 1px 2px rgba(60, 64, 67, 0.3), 0px 1px 3px 1px rgba(60, 64, 67, 0.15);\n",
              "      fill: #174EA6;\n",
              "    }\n",
              "\n",
              "    [theme=dark] .colab-df-convert {\n",
              "      background-color: #3B4455;\n",
              "      fill: #D2E3FC;\n",
              "    }\n",
              "\n",
              "    [theme=dark] .colab-df-convert:hover {\n",
              "      background-color: #434B5C;\n",
              "      box-shadow: 0px 1px 3px 1px rgba(0, 0, 0, 0.15);\n",
              "      filter: drop-shadow(0px 1px 2px rgba(0, 0, 0, 0.3));\n",
              "      fill: #FFFFFF;\n",
              "    }\n",
              "  </style>\n",
              "\n",
              "      <script>\n",
              "        const buttonEl =\n",
              "          document.querySelector('#df-b7fe399d-9e56-4614-9515-451c4291152c button.colab-df-convert');\n",
              "        buttonEl.style.display =\n",
              "          google.colab.kernel.accessAllowed ? 'block' : 'none';\n",
              "\n",
              "        async function convertToInteractive(key) {\n",
              "          const element = document.querySelector('#df-b7fe399d-9e56-4614-9515-451c4291152c');\n",
              "          const dataTable =\n",
              "            await google.colab.kernel.invokeFunction('convertToInteractive',\n",
              "                                                     [key], {});\n",
              "          if (!dataTable) return;\n",
              "\n",
              "          const docLinkHtml = 'Like what you see? Visit the ' +\n",
              "            '<a target=\"_blank\" href=https://colab.research.google.com/notebooks/data_table.ipynb>data table notebook</a>'\n",
              "            + ' to learn more about interactive tables.';\n",
              "          element.innerHTML = '';\n",
              "          dataTable['output_type'] = 'display_data';\n",
              "          await google.colab.output.renderOutput(dataTable, element);\n",
              "          const docLink = document.createElement('div');\n",
              "          docLink.innerHTML = docLinkHtml;\n",
              "          element.appendChild(docLink);\n",
              "        }\n",
              "      </script>\n",
              "    </div>\n",
              "  </div>\n",
              "  "
            ]
          },
          "metadata": {},
          "execution_count": 17
        }
      ]
    },
    {
      "cell_type": "code",
      "source": [
        "joined = aker_s.join(aker_f, how=\"left\", rsuffix=\"_fund\")"
      ],
      "metadata": {
        "id": "6IToAsjIL4QC"
      },
      "execution_count": null,
      "outputs": []
    },
    {
      "cell_type": "code",
      "source": [
        "joined = joined.ffill()\n",
        "joined = joined[~joined.revenue.isna()].copy()\n",
        "joined.head()"
      ],
      "metadata": {
        "colab": {
          "base_uri": "https://localhost:8080/",
          "height": 418
        },
        "id": "3r1RvWEIOQ2T",
        "outputId": "29f605c1-b55e-4c40-ebba-dc48ce30490c"
      },
      "execution_count": null,
      "outputs": [
        {
          "output_type": "execute_result",
          "data": {
            "text/plain": [
              "              ticker          market_cap  close_price currency ticker_fund  \\\n",
              "date                                                                         \n",
              "2018-02-02  AKRBP.OL  10163724135.478701    28.223668      USD    AKRBP.OL   \n",
              "2018-02-05  AKRBP.OL    9891561424.55262    27.467899      USD    AKRBP.OL   \n",
              "2018-02-06  AKRBP.OL   9429975035.055611    26.186119      USD    AKRBP.OL   \n",
              "2018-02-07  AKRBP.OL    9577268822.42494    26.595139      USD    AKRBP.OL   \n",
              "2018-02-08  AKRBP.OL   9345333280.791651    25.951077      USD    AKRBP.OL   \n",
              "\n",
              "                 date      revenue  gross_profit       ebitda         ebit  \\\n",
              "date                                                                         \n",
              "2018-02-02 2017-12-31  725994000.0   578918000.0  509189000.0  326051000.0   \n",
              "2018-02-05 2017-12-31  725994000.0   578918000.0  509189000.0  326051000.0   \n",
              "2018-02-06 2017-12-31  725994000.0   578918000.0  509189000.0  326051000.0   \n",
              "2018-02-07 2017-12-31  725994000.0   578918000.0  509189000.0  326051000.0   \n",
              "2018-02-08 2017-12-31  725994000.0   578918000.0  509189000.0  326051000.0   \n",
              "\n",
              "            ...  total_current_assets  total_liabilites  \\\n",
              "date        ...                                           \n",
              "2018-02-02  ...          2532069000.0      9029964000.0   \n",
              "2018-02-05  ...          2532069000.0      9029964000.0   \n",
              "2018-02-06  ...          2532069000.0      9029964000.0   \n",
              "2018-02-07  ...          2532069000.0      9029964000.0   \n",
              "2018-02-08  ...          2532069000.0      9029964000.0   \n",
              "\n",
              "            total_current_liabilities  long_term_debt_p_assets  \\\n",
              "date                                                             \n",
              "2018-02-02               2888476000.0                 15.74727   \n",
              "2018-02-05               2888476000.0                 15.74727   \n",
              "2018-02-06               2888476000.0                 15.74727   \n",
              "2018-02-07               2888476000.0                 15.74727   \n",
              "2018-02-08               2888476000.0                 15.74727   \n",
              "\n",
              "            short_term_debt_p_assets          fcf  gross_profit_p  ebitda_p  \\\n",
              "date                                                                          \n",
              "2018-02-02                  12.45053  266124000.0        0.797414  0.701368   \n",
              "2018-02-05                  12.45053  266124000.0        0.797414  0.701368   \n",
              "2018-02-06                  12.45053  266124000.0        0.797414  0.701368   \n",
              "2018-02-07                  12.45053  266124000.0        0.797414  0.701368   \n",
              "2018-02-08                  12.45053  266124000.0        0.797414  0.701368   \n",
              "\n",
              "             ebit_p  net_income_p  \n",
              "date                               \n",
              "2018-02-02  0.44911      0.046883  \n",
              "2018-02-05  0.44911      0.046883  \n",
              "2018-02-06  0.44911      0.046883  \n",
              "2018-02-07  0.44911      0.046883  \n",
              "2018-02-08  0.44911      0.046883  \n",
              "\n",
              "[5 rows x 22 columns]"
            ],
            "text/html": [
              "\n",
              "  <div id=\"df-d8898e5d-1dd7-4319-b09f-f9049333dce2\">\n",
              "    <div class=\"colab-df-container\">\n",
              "      <div>\n",
              "<style scoped>\n",
              "    .dataframe tbody tr th:only-of-type {\n",
              "        vertical-align: middle;\n",
              "    }\n",
              "\n",
              "    .dataframe tbody tr th {\n",
              "        vertical-align: top;\n",
              "    }\n",
              "\n",
              "    .dataframe thead th {\n",
              "        text-align: right;\n",
              "    }\n",
              "</style>\n",
              "<table border=\"1\" class=\"dataframe\">\n",
              "  <thead>\n",
              "    <tr style=\"text-align: right;\">\n",
              "      <th></th>\n",
              "      <th>ticker</th>\n",
              "      <th>market_cap</th>\n",
              "      <th>close_price</th>\n",
              "      <th>currency</th>\n",
              "      <th>ticker_fund</th>\n",
              "      <th>date</th>\n",
              "      <th>revenue</th>\n",
              "      <th>gross_profit</th>\n",
              "      <th>ebitda</th>\n",
              "      <th>ebit</th>\n",
              "      <th>...</th>\n",
              "      <th>total_current_assets</th>\n",
              "      <th>total_liabilites</th>\n",
              "      <th>total_current_liabilities</th>\n",
              "      <th>long_term_debt_p_assets</th>\n",
              "      <th>short_term_debt_p_assets</th>\n",
              "      <th>fcf</th>\n",
              "      <th>gross_profit_p</th>\n",
              "      <th>ebitda_p</th>\n",
              "      <th>ebit_p</th>\n",
              "      <th>net_income_p</th>\n",
              "    </tr>\n",
              "    <tr>\n",
              "      <th>date</th>\n",
              "      <th></th>\n",
              "      <th></th>\n",
              "      <th></th>\n",
              "      <th></th>\n",
              "      <th></th>\n",
              "      <th></th>\n",
              "      <th></th>\n",
              "      <th></th>\n",
              "      <th></th>\n",
              "      <th></th>\n",
              "      <th></th>\n",
              "      <th></th>\n",
              "      <th></th>\n",
              "      <th></th>\n",
              "      <th></th>\n",
              "      <th></th>\n",
              "      <th></th>\n",
              "      <th></th>\n",
              "      <th></th>\n",
              "      <th></th>\n",
              "      <th></th>\n",
              "    </tr>\n",
              "  </thead>\n",
              "  <tbody>\n",
              "    <tr>\n",
              "      <th>2018-02-02</th>\n",
              "      <td>AKRBP.OL</td>\n",
              "      <td>10163724135.478701</td>\n",
              "      <td>28.223668</td>\n",
              "      <td>USD</td>\n",
              "      <td>AKRBP.OL</td>\n",
              "      <td>2017-12-31</td>\n",
              "      <td>725994000.0</td>\n",
              "      <td>578918000.0</td>\n",
              "      <td>509189000.0</td>\n",
              "      <td>326051000.0</td>\n",
              "      <td>...</td>\n",
              "      <td>2532069000.0</td>\n",
              "      <td>9029964000.0</td>\n",
              "      <td>2888476000.0</td>\n",
              "      <td>15.74727</td>\n",
              "      <td>12.45053</td>\n",
              "      <td>266124000.0</td>\n",
              "      <td>0.797414</td>\n",
              "      <td>0.701368</td>\n",
              "      <td>0.44911</td>\n",
              "      <td>0.046883</td>\n",
              "    </tr>\n",
              "    <tr>\n",
              "      <th>2018-02-05</th>\n",
              "      <td>AKRBP.OL</td>\n",
              "      <td>9891561424.55262</td>\n",
              "      <td>27.467899</td>\n",
              "      <td>USD</td>\n",
              "      <td>AKRBP.OL</td>\n",
              "      <td>2017-12-31</td>\n",
              "      <td>725994000.0</td>\n",
              "      <td>578918000.0</td>\n",
              "      <td>509189000.0</td>\n",
              "      <td>326051000.0</td>\n",
              "      <td>...</td>\n",
              "      <td>2532069000.0</td>\n",
              "      <td>9029964000.0</td>\n",
              "      <td>2888476000.0</td>\n",
              "      <td>15.74727</td>\n",
              "      <td>12.45053</td>\n",
              "      <td>266124000.0</td>\n",
              "      <td>0.797414</td>\n",
              "      <td>0.701368</td>\n",
              "      <td>0.44911</td>\n",
              "      <td>0.046883</td>\n",
              "    </tr>\n",
              "    <tr>\n",
              "      <th>2018-02-06</th>\n",
              "      <td>AKRBP.OL</td>\n",
              "      <td>9429975035.055611</td>\n",
              "      <td>26.186119</td>\n",
              "      <td>USD</td>\n",
              "      <td>AKRBP.OL</td>\n",
              "      <td>2017-12-31</td>\n",
              "      <td>725994000.0</td>\n",
              "      <td>578918000.0</td>\n",
              "      <td>509189000.0</td>\n",
              "      <td>326051000.0</td>\n",
              "      <td>...</td>\n",
              "      <td>2532069000.0</td>\n",
              "      <td>9029964000.0</td>\n",
              "      <td>2888476000.0</td>\n",
              "      <td>15.74727</td>\n",
              "      <td>12.45053</td>\n",
              "      <td>266124000.0</td>\n",
              "      <td>0.797414</td>\n",
              "      <td>0.701368</td>\n",
              "      <td>0.44911</td>\n",
              "      <td>0.046883</td>\n",
              "    </tr>\n",
              "    <tr>\n",
              "      <th>2018-02-07</th>\n",
              "      <td>AKRBP.OL</td>\n",
              "      <td>9577268822.42494</td>\n",
              "      <td>26.595139</td>\n",
              "      <td>USD</td>\n",
              "      <td>AKRBP.OL</td>\n",
              "      <td>2017-12-31</td>\n",
              "      <td>725994000.0</td>\n",
              "      <td>578918000.0</td>\n",
              "      <td>509189000.0</td>\n",
              "      <td>326051000.0</td>\n",
              "      <td>...</td>\n",
              "      <td>2532069000.0</td>\n",
              "      <td>9029964000.0</td>\n",
              "      <td>2888476000.0</td>\n",
              "      <td>15.74727</td>\n",
              "      <td>12.45053</td>\n",
              "      <td>266124000.0</td>\n",
              "      <td>0.797414</td>\n",
              "      <td>0.701368</td>\n",
              "      <td>0.44911</td>\n",
              "      <td>0.046883</td>\n",
              "    </tr>\n",
              "    <tr>\n",
              "      <th>2018-02-08</th>\n",
              "      <td>AKRBP.OL</td>\n",
              "      <td>9345333280.791651</td>\n",
              "      <td>25.951077</td>\n",
              "      <td>USD</td>\n",
              "      <td>AKRBP.OL</td>\n",
              "      <td>2017-12-31</td>\n",
              "      <td>725994000.0</td>\n",
              "      <td>578918000.0</td>\n",
              "      <td>509189000.0</td>\n",
              "      <td>326051000.0</td>\n",
              "      <td>...</td>\n",
              "      <td>2532069000.0</td>\n",
              "      <td>9029964000.0</td>\n",
              "      <td>2888476000.0</td>\n",
              "      <td>15.74727</td>\n",
              "      <td>12.45053</td>\n",
              "      <td>266124000.0</td>\n",
              "      <td>0.797414</td>\n",
              "      <td>0.701368</td>\n",
              "      <td>0.44911</td>\n",
              "      <td>0.046883</td>\n",
              "    </tr>\n",
              "  </tbody>\n",
              "</table>\n",
              "<p>5 rows × 22 columns</p>\n",
              "</div>\n",
              "      <button class=\"colab-df-convert\" onclick=\"convertToInteractive('df-d8898e5d-1dd7-4319-b09f-f9049333dce2')\"\n",
              "              title=\"Convert this dataframe to an interactive table.\"\n",
              "              style=\"display:none;\">\n",
              "        \n",
              "  <svg xmlns=\"http://www.w3.org/2000/svg\" height=\"24px\"viewBox=\"0 0 24 24\"\n",
              "       width=\"24px\">\n",
              "    <path d=\"M0 0h24v24H0V0z\" fill=\"none\"/>\n",
              "    <path d=\"M18.56 5.44l.94 2.06.94-2.06 2.06-.94-2.06-.94-.94-2.06-.94 2.06-2.06.94zm-11 1L8.5 8.5l.94-2.06 2.06-.94-2.06-.94L8.5 2.5l-.94 2.06-2.06.94zm10 10l.94 2.06.94-2.06 2.06-.94-2.06-.94-.94-2.06-.94 2.06-2.06.94z\"/><path d=\"M17.41 7.96l-1.37-1.37c-.4-.4-.92-.59-1.43-.59-.52 0-1.04.2-1.43.59L10.3 9.45l-7.72 7.72c-.78.78-.78 2.05 0 2.83L4 21.41c.39.39.9.59 1.41.59.51 0 1.02-.2 1.41-.59l7.78-7.78 2.81-2.81c.8-.78.8-2.07 0-2.86zM5.41 20L4 18.59l7.72-7.72 1.47 1.35L5.41 20z\"/>\n",
              "  </svg>\n",
              "      </button>\n",
              "      \n",
              "  <style>\n",
              "    .colab-df-container {\n",
              "      display:flex;\n",
              "      flex-wrap:wrap;\n",
              "      gap: 12px;\n",
              "    }\n",
              "\n",
              "    .colab-df-convert {\n",
              "      background-color: #E8F0FE;\n",
              "      border: none;\n",
              "      border-radius: 50%;\n",
              "      cursor: pointer;\n",
              "      display: none;\n",
              "      fill: #1967D2;\n",
              "      height: 32px;\n",
              "      padding: 0 0 0 0;\n",
              "      width: 32px;\n",
              "    }\n",
              "\n",
              "    .colab-df-convert:hover {\n",
              "      background-color: #E2EBFA;\n",
              "      box-shadow: 0px 1px 2px rgba(60, 64, 67, 0.3), 0px 1px 3px 1px rgba(60, 64, 67, 0.15);\n",
              "      fill: #174EA6;\n",
              "    }\n",
              "\n",
              "    [theme=dark] .colab-df-convert {\n",
              "      background-color: #3B4455;\n",
              "      fill: #D2E3FC;\n",
              "    }\n",
              "\n",
              "    [theme=dark] .colab-df-convert:hover {\n",
              "      background-color: #434B5C;\n",
              "      box-shadow: 0px 1px 3px 1px rgba(0, 0, 0, 0.15);\n",
              "      filter: drop-shadow(0px 1px 2px rgba(0, 0, 0, 0.3));\n",
              "      fill: #FFFFFF;\n",
              "    }\n",
              "  </style>\n",
              "\n",
              "      <script>\n",
              "        const buttonEl =\n",
              "          document.querySelector('#df-d8898e5d-1dd7-4319-b09f-f9049333dce2 button.colab-df-convert');\n",
              "        buttonEl.style.display =\n",
              "          google.colab.kernel.accessAllowed ? 'block' : 'none';\n",
              "\n",
              "        async function convertToInteractive(key) {\n",
              "          const element = document.querySelector('#df-d8898e5d-1dd7-4319-b09f-f9049333dce2');\n",
              "          const dataTable =\n",
              "            await google.colab.kernel.invokeFunction('convertToInteractive',\n",
              "                                                     [key], {});\n",
              "          if (!dataTable) return;\n",
              "\n",
              "          const docLinkHtml = 'Like what you see? Visit the ' +\n",
              "            '<a target=\"_blank\" href=https://colab.research.google.com/notebooks/data_table.ipynb>data table notebook</a>'\n",
              "            + ' to learn more about interactive tables.';\n",
              "          element.innerHTML = '';\n",
              "          dataTable['output_type'] = 'display_data';\n",
              "          await google.colab.output.renderOutput(dataTable, element);\n",
              "          const docLink = document.createElement('div');\n",
              "          docLink.innerHTML = docLinkHtml;\n",
              "          element.appendChild(docLink);\n",
              "        }\n",
              "      </script>\n",
              "    </div>\n",
              "  </div>\n",
              "  "
            ]
          },
          "metadata": {},
          "execution_count": 19
        }
      ]
    },
    {
      "cell_type": "code",
      "source": [
        "trn = get_train_set(joined, limit=120)\n",
        "\n",
        "tst = get_1_month_test_set(joined)\n",
        "trn.shape[0], tst.shape[0]"
      ],
      "metadata": {
        "colab": {
          "base_uri": "https://localhost:8080/"
        },
        "id": "yWvFkGxhrhOJ",
        "outputId": "4531243e-d018-4a10-c631-d3534a0cc626"
      },
      "execution_count": null,
      "outputs": [
        {
          "output_type": "execute_result",
          "data": {
            "text/plain": [
              "(120, 20)"
            ]
          },
          "metadata": {},
          "execution_count": 20
        }
      ]
    },
    {
      "cell_type": "markdown",
      "source": [
        "### Fit ARIMAX"
      ],
      "metadata": {
        "id": "cgWJYL7dcxxq"
      }
    },
    {
      "cell_type": "code",
      "source": [
        "mod_uni = pm.arima.AutoARIMA(seasonal=False, max_p=10, max_q=10)\n",
        "\n",
        "ys = trn.market_cap\n",
        "\n",
        "mod_uni.fit(ys)\n",
        "print(f\"Model residuals: {mod_uni.model_.resid().mean():.3e}\")\n",
        "mod_uni.summary()"
      ],
      "metadata": {
        "colab": {
          "base_uri": "https://localhost:8080/",
          "height": 444
        },
        "outputId": "03dd0795-89ec-466b-e528-938fd04c2b4a",
        "id": "lx321Qe0gjYN"
      },
      "execution_count": null,
      "outputs": [
        {
          "output_type": "stream",
          "name": "stdout",
          "text": [
            "Model residuals: 1.182e+08\n"
          ]
        },
        {
          "output_type": "execute_result",
          "data": {
            "text/plain": [
              "<class 'statsmodels.iolib.summary.Summary'>\n",
              "\"\"\"\n",
              "                               SARIMAX Results                                \n",
              "==============================================================================\n",
              "Dep. Variable:                      y   No. Observations:                  120\n",
              "Model:               SARIMAX(0, 1, 0)   Log Likelihood               -2501.048\n",
              "Date:                Wed, 04 May 2022   AIC                           5006.096\n",
              "Time:                        12:46:54   BIC                           5011.654\n",
              "Sample:                             0   HQIC                          5008.353\n",
              "                                - 120                                         \n",
              "Covariance Type:                  opg                                         \n",
              "==============================================================================\n",
              "                 coef    std err          z      P>|z|      [0.025      0.975]\n",
              "------------------------------------------------------------------------------\n",
              "intercept  -4.313e+07   2.98e+07     -1.449      0.147   -1.01e+08    1.52e+07\n",
              "sigma2      1.054e+17      0.005   2.03e+19      0.000    1.05e+17    1.05e+17\n",
              "===================================================================================\n",
              "Ljung-Box (L1) (Q):                   0.05   Jarque-Bera (JB):                 0.43\n",
              "Prob(Q):                              0.82   Prob(JB):                         0.81\n",
              "Heteroskedasticity (H):               2.04   Skew:                             0.11\n",
              "Prob(H) (two-sided):                  0.03   Kurtosis:                         3.19\n",
              "===================================================================================\n",
              "\n",
              "Warnings:\n",
              "[1] Covariance matrix calculated using the outer product of gradients (complex-step).\n",
              "[2] Covariance matrix is singular or near-singular, with condition number    inf. Standard errors may be unstable.\n",
              "\"\"\""
            ],
            "text/html": [
              "<table class=\"simpletable\">\n",
              "<caption>SARIMAX Results</caption>\n",
              "<tr>\n",
              "  <th>Dep. Variable:</th>           <td>y</td>        <th>  No. Observations:  </th>    <td>120</td>   \n",
              "</tr>\n",
              "<tr>\n",
              "  <th>Model:</th>           <td>SARIMAX(0, 1, 0)</td> <th>  Log Likelihood     </th> <td>-2501.048</td>\n",
              "</tr>\n",
              "<tr>\n",
              "  <th>Date:</th>            <td>Wed, 04 May 2022</td> <th>  AIC                </th> <td>5006.096</td> \n",
              "</tr>\n",
              "<tr>\n",
              "  <th>Time:</th>                <td>12:46:54</td>     <th>  BIC                </th> <td>5011.654</td> \n",
              "</tr>\n",
              "<tr>\n",
              "  <th>Sample:</th>                  <td>0</td>        <th>  HQIC               </th> <td>5008.353</td> \n",
              "</tr>\n",
              "<tr>\n",
              "  <th></th>                      <td> - 120</td>      <th>                     </th>     <td> </td>    \n",
              "</tr>\n",
              "<tr>\n",
              "  <th>Covariance Type:</th>        <td>opg</td>       <th>                     </th>     <td> </td>    \n",
              "</tr>\n",
              "</table>\n",
              "<table class=\"simpletable\">\n",
              "<tr>\n",
              "      <td></td>         <th>coef</th>     <th>std err</th>      <th>z</th>      <th>P>|z|</th>  <th>[0.025</th>    <th>0.975]</th>  \n",
              "</tr>\n",
              "<tr>\n",
              "  <th>intercept</th> <td>-4.313e+07</td> <td> 2.98e+07</td> <td>   -1.449</td> <td> 0.147</td> <td>-1.01e+08</td> <td> 1.52e+07</td>\n",
              "</tr>\n",
              "<tr>\n",
              "  <th>sigma2</th>    <td> 1.054e+17</td> <td>    0.005</td> <td> 2.03e+19</td> <td> 0.000</td> <td> 1.05e+17</td> <td> 1.05e+17</td>\n",
              "</tr>\n",
              "</table>\n",
              "<table class=\"simpletable\">\n",
              "<tr>\n",
              "  <th>Ljung-Box (L1) (Q):</th>     <td>0.05</td> <th>  Jarque-Bera (JB):  </th> <td>0.43</td>\n",
              "</tr>\n",
              "<tr>\n",
              "  <th>Prob(Q):</th>                <td>0.82</td> <th>  Prob(JB):          </th> <td>0.81</td>\n",
              "</tr>\n",
              "<tr>\n",
              "  <th>Heteroskedasticity (H):</th> <td>2.04</td> <th>  Skew:              </th> <td>0.11</td>\n",
              "</tr>\n",
              "<tr>\n",
              "  <th>Prob(H) (two-sided):</th>    <td>0.03</td> <th>  Kurtosis:          </th> <td>3.19</td>\n",
              "</tr>\n",
              "</table><br/><br/>Warnings:<br/>[1] Covariance matrix calculated using the outer product of gradients (complex-step).<br/>[2] Covariance matrix is singular or near-singular, with condition number    inf. Standard errors may be unstable."
            ]
          },
          "metadata": {},
          "execution_count": 21
        }
      ]
    },
    {
      "cell_type": "code",
      "source": [
        "mod_mul = pm.arima.AutoARIMA(seasonal=False, with_intercept=False)\n",
        "\n",
        "ys = trn.market_cap\n",
        "\n",
        "exs = trn.drop(columns=[\"ticker\", \"market_cap\", \"close_price\", \"currency\", \"ticker_fund\", \"date\"]).np()\n",
        "\n",
        "mod_mul.fit(ys, exs)\n",
        "print(f\"Model residuals: {mod_mul.model_.resid().mean():.3e}\")\n",
        "mod_mul.summary()"
      ],
      "metadata": {
        "colab": {
          "base_uri": "https://localhost:8080/",
          "height": 764
        },
        "id": "QH6LsObPdmoP",
        "outputId": "2a430844-428a-4be3-8484-98b252539a80"
      },
      "execution_count": null,
      "outputs": [
        {
          "output_type": "stream",
          "name": "stdout",
          "text": [
            "Model residuals: 3.767e-06\n"
          ]
        },
        {
          "output_type": "execute_result",
          "data": {
            "text/plain": [
              "<class 'statsmodels.iolib.summary.Summary'>\n",
              "\"\"\"\n",
              "                               SARIMAX Results                                \n",
              "==============================================================================\n",
              "Dep. Variable:                      y   No. Observations:                  120\n",
              "Model:                        SARIMAX   Log Likelihood               -2939.431\n",
              "Date:                Wed, 04 May 2022   AIC                           5912.862\n",
              "Time:                        12:47:41   BIC                           5960.249\n",
              "Sample:                             0   HQIC                          5932.106\n",
              "                                - 120                                         \n",
              "Covariance Type:                  opg                                         \n",
              "==============================================================================\n",
              "                 coef    std err          z      P>|z|      [0.025      0.975]\n",
              "------------------------------------------------------------------------------\n",
              "const          0.0363      0.052      0.701      0.483      -0.065       0.138\n",
              "x1             0.0289      0.041      0.701      0.483      -0.052       0.110\n",
              "x2             0.0255      0.036      0.701      0.483      -0.046       0.097\n",
              "x3             0.0163      0.023      0.701      0.483      -0.029       0.062\n",
              "x4             0.0017      0.002      0.701      0.483      -0.003       0.006\n",
              "x5             0.6009      0.857      0.701      0.483      -1.080       2.282\n",
              "x6             0.1266      0.181      0.701      0.483      -0.227       0.481\n",
              "x7             0.4515      0.644      0.701      0.483      -0.811       1.714\n",
              "x8             0.1444      0.206      0.701      0.483      -0.259       0.548\n",
              "x9          7.873e-10   1.12e-09      0.701      0.483   -1.41e-09    2.99e-09\n",
              "x10         6.225e-10   8.88e-10      0.701      0.483   -1.12e-09    2.36e-09\n",
              "x11            0.0133      0.019      0.701      0.483      -0.024       0.051\n",
              "x12         3.987e-11   5.69e-11      0.701      0.483   -7.16e-11    1.51e-10\n",
              "x13         3.507e-11      5e-11      0.701      0.483    -6.3e-11    1.33e-10\n",
              "x14         2.245e-11    3.2e-11      0.701      0.483   -4.03e-11    8.53e-11\n",
              "x15         2.344e-12   3.34e-12      0.701      0.483   -4.21e-12     8.9e-12\n",
              "sigma2      2.982e+20   2.31e-23   1.29e+43      0.000    2.98e+20    2.98e+20\n",
              "===================================================================================\n",
              "Ljung-Box (L1) (Q):                 112.34   Jarque-Bera (JB):                 1.87\n",
              "Prob(Q):                              0.00   Prob(JB):                         0.39\n",
              "Heteroskedasticity (H):               8.61   Skew:                            -0.12\n",
              "Prob(H) (two-sided):                  0.00   Kurtosis:                         2.44\n",
              "===================================================================================\n",
              "\n",
              "Warnings:\n",
              "[1] Covariance matrix calculated using the outer product of gradients (complex-step).\n",
              "[2] Covariance matrix is singular or near-singular, with condition number 5.61e+60. Standard errors may be unstable.\n",
              "\"\"\""
            ],
            "text/html": [
              "<table class=\"simpletable\">\n",
              "<caption>SARIMAX Results</caption>\n",
              "<tr>\n",
              "  <th>Dep. Variable:</th>           <td>y</td>        <th>  No. Observations:  </th>    <td>120</td>   \n",
              "</tr>\n",
              "<tr>\n",
              "  <th>Model:</th>                <td>SARIMAX</td>     <th>  Log Likelihood     </th> <td>-2939.431</td>\n",
              "</tr>\n",
              "<tr>\n",
              "  <th>Date:</th>            <td>Wed, 04 May 2022</td> <th>  AIC                </th> <td>5912.862</td> \n",
              "</tr>\n",
              "<tr>\n",
              "  <th>Time:</th>                <td>12:47:41</td>     <th>  BIC                </th> <td>5960.249</td> \n",
              "</tr>\n",
              "<tr>\n",
              "  <th>Sample:</th>                  <td>0</td>        <th>  HQIC               </th> <td>5932.106</td> \n",
              "</tr>\n",
              "<tr>\n",
              "  <th></th>                      <td> - 120</td>      <th>                     </th>     <td> </td>    \n",
              "</tr>\n",
              "<tr>\n",
              "  <th>Covariance Type:</th>        <td>opg</td>       <th>                     </th>     <td> </td>    \n",
              "</tr>\n",
              "</table>\n",
              "<table class=\"simpletable\">\n",
              "<tr>\n",
              "     <td></td>       <th>coef</th>     <th>std err</th>      <th>z</th>      <th>P>|z|</th>  <th>[0.025</th>    <th>0.975]</th>  \n",
              "</tr>\n",
              "<tr>\n",
              "  <th>const</th>  <td>    0.0363</td> <td>    0.052</td> <td>    0.701</td> <td> 0.483</td> <td>   -0.065</td> <td>    0.138</td>\n",
              "</tr>\n",
              "<tr>\n",
              "  <th>x1</th>     <td>    0.0289</td> <td>    0.041</td> <td>    0.701</td> <td> 0.483</td> <td>   -0.052</td> <td>    0.110</td>\n",
              "</tr>\n",
              "<tr>\n",
              "  <th>x2</th>     <td>    0.0255</td> <td>    0.036</td> <td>    0.701</td> <td> 0.483</td> <td>   -0.046</td> <td>    0.097</td>\n",
              "</tr>\n",
              "<tr>\n",
              "  <th>x3</th>     <td>    0.0163</td> <td>    0.023</td> <td>    0.701</td> <td> 0.483</td> <td>   -0.029</td> <td>    0.062</td>\n",
              "</tr>\n",
              "<tr>\n",
              "  <th>x4</th>     <td>    0.0017</td> <td>    0.002</td> <td>    0.701</td> <td> 0.483</td> <td>   -0.003</td> <td>    0.006</td>\n",
              "</tr>\n",
              "<tr>\n",
              "  <th>x5</th>     <td>    0.6009</td> <td>    0.857</td> <td>    0.701</td> <td> 0.483</td> <td>   -1.080</td> <td>    2.282</td>\n",
              "</tr>\n",
              "<tr>\n",
              "  <th>x6</th>     <td>    0.1266</td> <td>    0.181</td> <td>    0.701</td> <td> 0.483</td> <td>   -0.227</td> <td>    0.481</td>\n",
              "</tr>\n",
              "<tr>\n",
              "  <th>x7</th>     <td>    0.4515</td> <td>    0.644</td> <td>    0.701</td> <td> 0.483</td> <td>   -0.811</td> <td>    1.714</td>\n",
              "</tr>\n",
              "<tr>\n",
              "  <th>x8</th>     <td>    0.1444</td> <td>    0.206</td> <td>    0.701</td> <td> 0.483</td> <td>   -0.259</td> <td>    0.548</td>\n",
              "</tr>\n",
              "<tr>\n",
              "  <th>x9</th>     <td> 7.873e-10</td> <td> 1.12e-09</td> <td>    0.701</td> <td> 0.483</td> <td>-1.41e-09</td> <td> 2.99e-09</td>\n",
              "</tr>\n",
              "<tr>\n",
              "  <th>x10</th>    <td> 6.225e-10</td> <td> 8.88e-10</td> <td>    0.701</td> <td> 0.483</td> <td>-1.12e-09</td> <td> 2.36e-09</td>\n",
              "</tr>\n",
              "<tr>\n",
              "  <th>x11</th>    <td>    0.0133</td> <td>    0.019</td> <td>    0.701</td> <td> 0.483</td> <td>   -0.024</td> <td>    0.051</td>\n",
              "</tr>\n",
              "<tr>\n",
              "  <th>x12</th>    <td> 3.987e-11</td> <td> 5.69e-11</td> <td>    0.701</td> <td> 0.483</td> <td>-7.16e-11</td> <td> 1.51e-10</td>\n",
              "</tr>\n",
              "<tr>\n",
              "  <th>x13</th>    <td> 3.507e-11</td> <td>    5e-11</td> <td>    0.701</td> <td> 0.483</td> <td> -6.3e-11</td> <td> 1.33e-10</td>\n",
              "</tr>\n",
              "<tr>\n",
              "  <th>x14</th>    <td> 2.245e-11</td> <td>  3.2e-11</td> <td>    0.701</td> <td> 0.483</td> <td>-4.03e-11</td> <td> 8.53e-11</td>\n",
              "</tr>\n",
              "<tr>\n",
              "  <th>x15</th>    <td> 2.344e-12</td> <td> 3.34e-12</td> <td>    0.701</td> <td> 0.483</td> <td>-4.21e-12</td> <td>  8.9e-12</td>\n",
              "</tr>\n",
              "<tr>\n",
              "  <th>sigma2</th> <td> 2.982e+20</td> <td> 2.31e-23</td> <td> 1.29e+43</td> <td> 0.000</td> <td> 2.98e+20</td> <td> 2.98e+20</td>\n",
              "</tr>\n",
              "</table>\n",
              "<table class=\"simpletable\">\n",
              "<tr>\n",
              "  <th>Ljung-Box (L1) (Q):</th>     <td>112.34</td> <th>  Jarque-Bera (JB):  </th> <td>1.87</td> \n",
              "</tr>\n",
              "<tr>\n",
              "  <th>Prob(Q):</th>                 <td>0.00</td>  <th>  Prob(JB):          </th> <td>0.39</td> \n",
              "</tr>\n",
              "<tr>\n",
              "  <th>Heteroskedasticity (H):</th>  <td>8.61</td>  <th>  Skew:              </th> <td>-0.12</td>\n",
              "</tr>\n",
              "<tr>\n",
              "  <th>Prob(H) (two-sided):</th>     <td>0.00</td>  <th>  Kurtosis:          </th> <td>2.44</td> \n",
              "</tr>\n",
              "</table><br/><br/>Warnings:<br/>[1] Covariance matrix calculated using the outer product of gradients (complex-step).<br/>[2] Covariance matrix is singular or near-singular, with condition number 5.61e+60. Standard errors may be unstable."
            ]
          },
          "metadata": {},
          "execution_count": 23
        }
      ]
    }
  ]
}