{
  "nbformat": 4,
  "nbformat_minor": 0,
  "metadata": {
    "colab": {
      "name": "univariate_statistical_forecacst.ipynb",
      "provenance": [],
      "collapsed_sections": [],
      "toc_visible": true,
      "include_colab_link": true
    },
    "kernelspec": {
      "name": "python3",
      "display_name": "Python 3"
    },
    "language_info": {
      "name": "python"
    },
    "widgets": {
      "application/vnd.jupyter.widget-state+json": {
        "bdd8ad46adda43a28dc14564fcd899d3": {
          "model_module": "@jupyter-widgets/controls",
          "model_name": "VBoxModel",
          "model_module_version": "1.5.0",
          "state": {
            "_dom_classes": [],
            "_model_module": "@jupyter-widgets/controls",
            "_model_module_version": "1.5.0",
            "_model_name": "VBoxModel",
            "_view_count": null,
            "_view_module": "@jupyter-widgets/controls",
            "_view_module_version": "1.5.0",
            "_view_name": "VBoxView",
            "box_style": "",
            "children": [
              "IPY_MODEL_ce44ae9d3f134fb1a20de7de73cf9165",
              "IPY_MODEL_98cfc59579eb4211b6d4ed11fe827d1c"
            ],
            "layout": "IPY_MODEL_c8022a0f767e4a36b875ccc73eb3eaa6"
          }
        },
        "ce44ae9d3f134fb1a20de7de73cf9165": {
          "model_module": "@jupyter-widgets/controls",
          "model_name": "LabelModel",
          "model_module_version": "1.5.0",
          "state": {
            "_dom_classes": [],
            "_model_module": "@jupyter-widgets/controls",
            "_model_module_version": "1.5.0",
            "_model_name": "LabelModel",
            "_view_count": null,
            "_view_module": "@jupyter-widgets/controls",
            "_view_module_version": "1.5.0",
            "_view_name": "LabelView",
            "description": "",
            "description_tooltip": null,
            "layout": "IPY_MODEL_289c340129ba410b9264deab3f3a625c",
            "placeholder": "​",
            "style": "IPY_MODEL_751cf029c17941eabeee4d0896d3b441",
            "value": "109.817 MB of 109.817 MB uploaded (0.000 MB deduped)\r"
          }
        },
        "98cfc59579eb4211b6d4ed11fe827d1c": {
          "model_module": "@jupyter-widgets/controls",
          "model_name": "FloatProgressModel",
          "model_module_version": "1.5.0",
          "state": {
            "_dom_classes": [],
            "_model_module": "@jupyter-widgets/controls",
            "_model_module_version": "1.5.0",
            "_model_name": "FloatProgressModel",
            "_view_count": null,
            "_view_module": "@jupyter-widgets/controls",
            "_view_module_version": "1.5.0",
            "_view_name": "ProgressView",
            "bar_style": "",
            "description": "",
            "description_tooltip": null,
            "layout": "IPY_MODEL_665e5f254bdf4087b2dc135091042b09",
            "max": 1,
            "min": 0,
            "orientation": "horizontal",
            "style": "IPY_MODEL_8dc08212aa194b36b5239e5e295e4779",
            "value": 1
          }
        },
        "c8022a0f767e4a36b875ccc73eb3eaa6": {
          "model_module": "@jupyter-widgets/base",
          "model_name": "LayoutModel",
          "model_module_version": "1.2.0",
          "state": {
            "_model_module": "@jupyter-widgets/base",
            "_model_module_version": "1.2.0",
            "_model_name": "LayoutModel",
            "_view_count": null,
            "_view_module": "@jupyter-widgets/base",
            "_view_module_version": "1.2.0",
            "_view_name": "LayoutView",
            "align_content": null,
            "align_items": null,
            "align_self": null,
            "border": null,
            "bottom": null,
            "display": null,
            "flex": null,
            "flex_flow": null,
            "grid_area": null,
            "grid_auto_columns": null,
            "grid_auto_flow": null,
            "grid_auto_rows": null,
            "grid_column": null,
            "grid_gap": null,
            "grid_row": null,
            "grid_template_areas": null,
            "grid_template_columns": null,
            "grid_template_rows": null,
            "height": null,
            "justify_content": null,
            "justify_items": null,
            "left": null,
            "margin": null,
            "max_height": null,
            "max_width": null,
            "min_height": null,
            "min_width": null,
            "object_fit": null,
            "object_position": null,
            "order": null,
            "overflow": null,
            "overflow_x": null,
            "overflow_y": null,
            "padding": null,
            "right": null,
            "top": null,
            "visibility": null,
            "width": null
          }
        },
        "289c340129ba410b9264deab3f3a625c": {
          "model_module": "@jupyter-widgets/base",
          "model_name": "LayoutModel",
          "model_module_version": "1.2.0",
          "state": {
            "_model_module": "@jupyter-widgets/base",
            "_model_module_version": "1.2.0",
            "_model_name": "LayoutModel",
            "_view_count": null,
            "_view_module": "@jupyter-widgets/base",
            "_view_module_version": "1.2.0",
            "_view_name": "LayoutView",
            "align_content": null,
            "align_items": null,
            "align_self": null,
            "border": null,
            "bottom": null,
            "display": null,
            "flex": null,
            "flex_flow": null,
            "grid_area": null,
            "grid_auto_columns": null,
            "grid_auto_flow": null,
            "grid_auto_rows": null,
            "grid_column": null,
            "grid_gap": null,
            "grid_row": null,
            "grid_template_areas": null,
            "grid_template_columns": null,
            "grid_template_rows": null,
            "height": null,
            "justify_content": null,
            "justify_items": null,
            "left": null,
            "margin": null,
            "max_height": null,
            "max_width": null,
            "min_height": null,
            "min_width": null,
            "object_fit": null,
            "object_position": null,
            "order": null,
            "overflow": null,
            "overflow_x": null,
            "overflow_y": null,
            "padding": null,
            "right": null,
            "top": null,
            "visibility": null,
            "width": null
          }
        },
        "751cf029c17941eabeee4d0896d3b441": {
          "model_module": "@jupyter-widgets/controls",
          "model_name": "DescriptionStyleModel",
          "model_module_version": "1.5.0",
          "state": {
            "_model_module": "@jupyter-widgets/controls",
            "_model_module_version": "1.5.0",
            "_model_name": "DescriptionStyleModel",
            "_view_count": null,
            "_view_module": "@jupyter-widgets/base",
            "_view_module_version": "1.2.0",
            "_view_name": "StyleView",
            "description_width": ""
          }
        },
        "665e5f254bdf4087b2dc135091042b09": {
          "model_module": "@jupyter-widgets/base",
          "model_name": "LayoutModel",
          "model_module_version": "1.2.0",
          "state": {
            "_model_module": "@jupyter-widgets/base",
            "_model_module_version": "1.2.0",
            "_model_name": "LayoutModel",
            "_view_count": null,
            "_view_module": "@jupyter-widgets/base",
            "_view_module_version": "1.2.0",
            "_view_name": "LayoutView",
            "align_content": null,
            "align_items": null,
            "align_self": null,
            "border": null,
            "bottom": null,
            "display": null,
            "flex": null,
            "flex_flow": null,
            "grid_area": null,
            "grid_auto_columns": null,
            "grid_auto_flow": null,
            "grid_auto_rows": null,
            "grid_column": null,
            "grid_gap": null,
            "grid_row": null,
            "grid_template_areas": null,
            "grid_template_columns": null,
            "grid_template_rows": null,
            "height": null,
            "justify_content": null,
            "justify_items": null,
            "left": null,
            "margin": null,
            "max_height": null,
            "max_width": null,
            "min_height": null,
            "min_width": null,
            "object_fit": null,
            "object_position": null,
            "order": null,
            "overflow": null,
            "overflow_x": null,
            "overflow_y": null,
            "padding": null,
            "right": null,
            "top": null,
            "visibility": null,
            "width": null
          }
        },
        "8dc08212aa194b36b5239e5e295e4779": {
          "model_module": "@jupyter-widgets/controls",
          "model_name": "ProgressStyleModel",
          "model_module_version": "1.5.0",
          "state": {
            "_model_module": "@jupyter-widgets/controls",
            "_model_module_version": "1.5.0",
            "_model_name": "ProgressStyleModel",
            "_view_count": null,
            "_view_module": "@jupyter-widgets/base",
            "_view_module_version": "1.2.0",
            "_view_name": "StyleView",
            "bar_color": null,
            "description_width": ""
          }
        }
      }
    }
  },
  "cells": [
    {
      "cell_type": "markdown",
      "metadata": {
        "id": "view-in-github",
        "colab_type": "text"
      },
      "source": [
        "<a href=\"https://colab.research.google.com/github/Krankile/npmf/blob/main/notebooks/parametric/univariate_statistical_forecacst.ipynb\" target=\"_parent\"><img src=\"https://colab.research.google.com/assets/colab-badge.svg\" alt=\"Open In Colab\"/></a>"
      ]
    },
    {
      "cell_type": "markdown",
      "source": [
        "# Setup"
      ],
      "metadata": {
        "id": "d8F5tl4NL7FZ"
      }
    },
    {
      "cell_type": "markdown",
      "source": [
        "## Run in an Anaconda PowerShell to allow connection from Colab"
      ],
      "metadata": {
        "id": "Q7wF5ctjBmuM"
      }
    },
    {
      "cell_type": "code",
      "source": [
        "pip install jupyter_http_over_ws\n",
        "jupyter serverextension enable --py jupyter_http_over_ws\n",
        "jupyter notebook --NotebookApp.allow_origin='https://colab.research.google.com' --port=8888 --NotebookApp.port_retries=0"
      ],
      "metadata": {
        "id": "hkMXgUvPBNkl"
      },
      "execution_count": null,
      "outputs": []
    },
    {
      "cell_type": "markdown",
      "source": [
        "## Kernel setup"
      ],
      "metadata": {
        "id": "Rwo44VGZLhAo"
      }
    },
    {
      "cell_type": "code",
      "source": [
        "%load_ext autoreload\n",
        "%autoreload 2"
      ],
      "metadata": {
        "id": "hKuFzk7aEmB9",
        "colab": {
          "base_uri": "https://localhost:8080/"
        },
        "outputId": "81e00659-710b-4079-d871-39f3e953e111"
      },
      "execution_count": 2,
      "outputs": [
        {
          "output_type": "stream",
          "name": "stdout",
          "text": [
            "The autoreload extension is already loaded. To reload it, use:\n",
            "  %reload_ext autoreload\n"
          ]
        }
      ]
    },
    {
      "cell_type": "code",
      "source": [
        "%%capture\n",
        "!git clone https://github.com/Krankile/npmf.git\n",
        "!pip install wandb\n",
        "!pip install pmdarima"
      ],
      "metadata": {
        "id": "91KPY7q0LUOw"
      },
      "execution_count": 3,
      "outputs": []
    },
    {
      "cell_type": "code",
      "source": [
        "!wandb login"
      ],
      "metadata": {
        "colab": {
          "base_uri": "https://localhost:8080/"
        },
        "id": "zLr0RXyY3WaA",
        "outputId": "1bc16fad-2dca-42c8-f282-c458772219ab"
      },
      "execution_count": 4,
      "outputs": [
        {
          "output_type": "stream",
          "name": "stderr",
          "text": [
            "wandb: Currently logged in as: ankile (krankile). Use `wandb login --relogin` to force relogin\n"
          ]
        }
      ]
    },
    {
      "cell_type": "markdown",
      "source": [
        "##General setup"
      ],
      "metadata": {
        "id": "CLAlA0htLgMY"
      }
    },
    {
      "cell_type": "code",
      "source": [
        "%%capture\n",
        "!cd npmf && git pull\n",
        "\n",
        "import os\n",
        "import json\n",
        "import pickle\n",
        "from collections import defaultdict\n",
        "from datetime import datetime\n",
        "from operator import itemgetter\n",
        "\n",
        "import numpy as np\n",
        "from numpy.ma.core import outerproduct\n",
        "import pandas as pd\n",
        "import matplotlib as mpl\n",
        "import matplotlib.pyplot as plt\n",
        "from tqdm import tqdm\n",
        "\n",
        "import pmdarima as pm\n",
        "\n",
        "import wandb as wb\n",
        "\n",
        "from npmf.utils.colors import main, main2, main3\n",
        "from npmf.utils.wandb import get_dataset, put_dataset, put_stat_models, get_stat_models\n",
        "from npmf.utils.data import test_start_pd\n",
        "from npmf.utils.measurement import mape"
      ],
      "metadata": {
        "id": "1QSlgObXLq1p"
      },
      "execution_count": 28,
      "outputs": []
    },
    {
      "cell_type": "code",
      "source": [
        "mpl.rcParams['axes.prop_cycle'] = mpl.cycler(color=[main, main2, main3, \"black\"])\n",
        "mpl.rcParams['figure.figsize'] = (6, 4)  # (6, 4) is default and used in the paper"
      ],
      "metadata": {
        "id": "hkTjKKLmLvpl"
      },
      "execution_count": 12,
      "outputs": []
    },
    {
      "cell_type": "code",
      "source": [
        "np.random.seed(69)"
      ],
      "metadata": {
        "id": "YVFtfDk0pYtd"
      },
      "execution_count": 13,
      "outputs": []
    },
    {
      "cell_type": "code",
      "source": [
        "def plot_market_cap(df):\n",
        "    plt.plot(df.date.to_numpy(), df.market_cap.to_numpy())"
      ],
      "metadata": {
        "id": "J3sm9o2uCQ0P"
      },
      "execution_count": 14,
      "outputs": []
    },
    {
      "cell_type": "markdown",
      "source": [
        "# Let's get the training data and split into training and testing 😂✨KAWAIII ^^✨\n",
        "\n"
      ],
      "metadata": {
        "id": "5SjJBQhRLym1"
      }
    },
    {
      "cell_type": "code",
      "source": [
        "%%capture\n",
        "data = get_dataset(\"stock-data:final\", \"master\")"
      ],
      "metadata": {
        "id": "k_Vm1L8H4A0m"
      },
      "execution_count": 16,
      "outputs": []
    },
    {
      "cell_type": "code",
      "source": [
        "trn = data[(data.date < test_start_pd)].copy()\n",
        "tst = data[data.date >= test_start_pd].copy()\n",
        "\n",
        "tst[\"obs_number\"] = tst.groupby(\"ticker\").date.rank(method='first', ascending=True).astype(int)\n",
        "tst = tst[tst.obs_number <= 20]\n",
        "\n",
        "tickers = set(trn.ticker.unique()) & set(tst.ticker.unique())\n",
        "print(\"Tickers:\", len(tickers))\n",
        "\n",
        "trn.shape, tst.shape"
      ],
      "metadata": {
        "colab": {
          "base_uri": "https://localhost:8080/"
        },
        "id": "262ks5SjC_o2",
        "outputId": "fe788600-f7d4-4bf5-9205-0c473178b2ae"
      },
      "execution_count": 17,
      "outputs": [
        {
          "output_type": "stream",
          "name": "stdout",
          "text": [
            "Tickers: 1663\n"
          ]
        },
        {
          "output_type": "execute_result",
          "data": {
            "text/plain": [
              "((5589288, 5), (34500, 6))"
            ]
          },
          "metadata": {},
          "execution_count": 17
        }
      ]
    },
    {
      "cell_type": "markdown",
      "source": [
        "## Decide the length of lags that should be used for training the ARIMA models"
      ],
      "metadata": {
        "id": "YRv42LqI7fj3"
      }
    },
    {
      "cell_type": "code",
      "source": [
        "# Measure the length of series for all series\n",
        "trn.groupby(\"ticker\").count().date.hist()\n",
        "trn.groupby(\"ticker\").count().date.max()"
      ],
      "metadata": {
        "colab": {
          "base_uri": "https://localhost:8080/",
          "height": 283
        },
        "id": "fEaT-WiD-KZX",
        "outputId": "bcc74c8c-c8ac-452a-c19d-59fb1284b7e4"
      },
      "execution_count": 18,
      "outputs": [
        {
          "output_type": "execute_result",
          "data": {
            "text/plain": [
              "4859"
            ]
          },
          "metadata": {},
          "execution_count": 18
        },
        {
          "output_type": "display_data",
          "data": {
            "text/plain": [
              "<Figure size 432x288 with 1 Axes>"
            ],
            "image/png": "[encoded data removed]"
          },
          "metadata": {
            "needs_background": "light"
          }
        }
      ]
    },
    {
      "cell_type": "code",
      "source": [
        "# List of lags to test: 1 month, 2 months, 1 quarter, 2 quarters, 3 quarters, 1 year -> 20 years\n",
        "lags = [20, 40] + list(range(60, 60*4, 60)) + list(range(240, 240*2+1, 240))\n",
        "\n",
        "len(lags)"
      ],
      "metadata": {
        "colab": {
          "base_uri": "https://localhost:8080/"
        },
        "id": "LV0IMwZd-1j6",
        "outputId": "9a5607bf-1e79-4885-ac0b-4282fcfdb60d"
      },
      "execution_count": 19,
      "outputs": [
        {
          "output_type": "execute_result",
          "data": {
            "text/plain": [
              "7"
            ]
          },
          "metadata": {},
          "execution_count": 19
        }
      ]
    },
    {
      "cell_type": "code",
      "source": [
        "# Choose a subset of the 934 tickers to test for\n",
        "ticker_subset = np.random.choice(np.array(list(tickers)), size=200, replace=False)\n",
        "print(\"Number of tickers:\", len(ticker_subset))\n",
        "ticker_subset"
      ],
      "metadata": {
        "colab": {
          "base_uri": "https://localhost:8080/"
        },
        "id": "UDL5klzG_7pQ",
        "outputId": "cd4637ce-b31b-439f-b5fc-383815bcd2c8"
      },
      "execution_count": null,
      "outputs": [
        {
          "output_type": "stream",
          "name": "stdout",
          "text": [
            "Number of tickers: 200\n"
          ]
        },
        {
          "output_type": "execute_result",
          "data": {
            "text/plain": [
              "array(['603223.SS', '1938.HK', 'PD.TO', '300370.SZ', 'PSX.N', 'ARH.V',\n",
              "       'WHD.N', '3856.T', '002490.SZ', 'PTMR.KL', 'STEP.TO', 'CLC.WA',\n",
              "       'PSUR.BA', 'IPWR.OQ', 'GPRK.N', 'TMB.HN', 'MIND.NS', 'ISO.V',\n",
              "       'BRN.A', '601918.SS', '0757.HK', 'SHLPH.PS', 'HWO.TO', 'CCO.TO',\n",
              "       '900948.SS', 'MUSA.N', 'DWGL.JK', '1516.TW', 'KEI.TO', '601101.SS',\n",
              "       'EPSN.OQ', 'SUSCO.BK', 'SBMO.AS', 'ALGS.TA', 'LGGL.CM', 'B7C.MI',\n",
              "       'SJT.N', 'PPIH.OQ', 'TA.OQ', 'UVN.V', 'PETR4.SA', 'PKN.WA',\n",
              "       'DEHB.KL', 'DLEKG.TA', 'ET.N', 'CTRA.N', 'OANDO.LG', 'TCC.BK',\n",
              "       '3315.T', 'PCOR.PS', 'APL.PSX', 'TVE.TO', 'SM.N', '5010.T',\n",
              "       'AKSOA.OL', 'CKK.V', 'KZTO.KZ', 'CVV.V', 'SWN.N', 'PXS.HM',\n",
              "       'VOC.N', '8131.T', 'ONVh.V', 'MOIL.CA', 'LXE.V', 'NDRL.CA',\n",
              "       'SHLX.N', 'OAS.OQ', 'LKOH.MM', 'ABAR.KW', '3167.T', 'KRP.N',\n",
              "       '600184.SS', '100130.KQ', 'CHX.OQ', 'PPC.PS', 'NCSM.OQ',\n",
              "       'OKTA.MKE', 'BGPET.BB', 'SHUMBA.BT', 'UMSm.BK', 'POV.HNO',\n",
              "       '603105.SS', '0968.HK', 'ABMM.JK', '000096.SZ', 'DWSN.OQ',\n",
              "       '601218.SS', 'ODLO.OL', 'PNEGn.DE', '2337.HK', 'UGPA3.SA',\n",
              "       'TPL.CN', 'DHT.N', 'SOOR.KW', 'AL.V', '012700.KQ', '5974.T',\n",
              "       'BSK.V', 'JOCL.DH', 'CFW.TO', '300483.SZ', 'BSSR.JK', 'MBAP.JK',\n",
              "       'PLX.HM', 'AVN.V', '5008.T', 'POG.V', 'RHPG.SI', 'NC.N', 'SEPL.L',\n",
              "       'TWM.TO', '6477.TW', 'PDN.AX', 'PMX.V', 'TOBA.JK', 'REI.A',\n",
              "       'LTSP.WA', 'VEC.V', '002353.SZ', 'RUIS.JK', 'NBC.HN', 'SNG.BX',\n",
              "       'TUSK.OQ', '2904.TW', '7486.T', 'EUAV.BR', 'MOX.V', 'TRE.MC',\n",
              "       '5021.T', '4934.TW', 'XPRO.N', 'SHMh.V', 'DKL.V', 'MTG.HNO',\n",
              "       'CREG.OQ', '8270.HK', 'ADNOCDIST.AD', 'MPC.N', 'OIL.BX', 'HUNT.OL',\n",
              "       '600871.SS', 'CUR.V', 'CBLU.V', 'EU.V', 'BUMI.JK', '4050.SE',\n",
              "       'ESN.TO', 'GREG.MC', 'CIVI.N', 'OEL.AX', '1605.T', '600508.SS',\n",
              "       '603003.SS', 'BLDP.TO', 'OECh.V', 'SHEL.MZ', 'PEI.V', '600997.SS',\n",
              "       'PSH.V', 'MPT.MKE', 'SHEL.L', 'HEP.N', 'PNX.PS', 'PPL.PSX',\n",
              "       'CNQ.TO', 'FCU.TO', '8111.HK', 'RCON.OQ', 'OIS.N', 'PTEN.OQ',\n",
              "       'NOA.TO', 'PRT.N', 'OMVV.VI', 'AUSG.SI', 'PTT.BK', 'DEWA.JK',\n",
              "       '010950.KS', 'USAC.N', 'REGI.OQ', 'WUC.CD', '600256.SS', 'PTU.V',\n",
              "       'BORR.OL', 'AMOC.CA', 'MMGZ.KZ', 'TRNF_p.MM', 'O2C.F', '600395.SS',\n",
              "       '603906.SS', 'PRQ.TO', '7490.T', 'ROSNP.BX', 'TAL.V', 'CSM.TO',\n",
              "       '002531.SZ', '8097.T', 'OOMS.OM', 'MRCT.NS', 'CJ.TO'], dtype='<U13')"
            ]
          },
          "metadata": {},
          "execution_count": 20
        }
      ]
    },
    {
      "cell_type": "code",
      "source": [
        "# Create the validation set\n",
        "traval = trn[trn.ticker.isin(ticker_subset)].copy()\n",
        "print(traval.shape)\n",
        "traval[\"obs_number\"] = traval.groupby(\"ticker\").date.rank(method='first', ascending=False).astype(int)\n",
        "\n",
        "val = traval[traval.obs_number <= 20]\n",
        "val.head()"
      ],
      "metadata": {
        "colab": {
          "base_uri": "https://localhost:8080/",
          "height": 225
        },
        "id": "FvtdFt2-A0na",
        "outputId": "9384eff9-6820-4b15-fb1c-08f139dcd7d6"
      },
      "execution_count": null,
      "outputs": [
        {
          "output_type": "stream",
          "name": "stdout",
          "text": [
            "(579562, 5)\n"
          ]
        },
        {
          "output_type": "execute_result",
          "data": {
            "text/plain": [
              "         ticker       date        market_cap  close_price currency  obs_number\n",
              "4461  000096.SZ 2018-12-03  703666005.348054     1.347423      USD          20\n",
              "4462  000096.SZ 2018-12-04  725253641.094217     1.382731      USD          19\n",
              "4463  000096.SZ 2018-12-05  724674070.497344     1.368424      USD          18\n",
              "4464  000096.SZ 2018-12-06  717906223.557902     1.354336      USD          17\n",
              "4465  000096.SZ 2018-12-07  716624040.920716     1.358881      USD          16"
            ],
            "text/html": [
              "<div>\n",
              "<style scoped>\n",
              "    .dataframe tbody tr th:only-of-type {\n",
              "        vertical-align: middle;\n",
              "    }\n",
              "\n",
              "    .dataframe tbody tr th {\n",
              "        vertical-align: top;\n",
              "    }\n",
              "\n",
              "    .dataframe thead th {\n",
              "        text-align: right;\n",
              "    }\n",
              "</style>\n",
              "<table border=\"1\" class=\"dataframe\">\n",
              "  <thead>\n",
              "    <tr style=\"text-align: right;\">\n",
              "      <th></th>\n",
              "      <th>ticker</th>\n",
              "      <th>date</th>\n",
              "      <th>market_cap</th>\n",
              "      <th>close_price</th>\n",
              "      <th>currency</th>\n",
              "      <th>obs_number</th>\n",
              "    </tr>\n",
              "  </thead>\n",
              "  <tbody>\n",
              "    <tr>\n",
              "      <th>4461</th>\n",
              "      <td>000096.SZ</td>\n",
              "      <td>2018-12-03</td>\n",
              "      <td>703666005.348054</td>\n",
              "      <td>1.347423</td>\n",
              "      <td>USD</td>\n",
              "      <td>20</td>\n",
              "    </tr>\n",
              "    <tr>\n",
              "      <th>4462</th>\n",
              "      <td>000096.SZ</td>\n",
              "      <td>2018-12-04</td>\n",
              "      <td>725253641.094217</td>\n",
              "      <td>1.382731</td>\n",
              "      <td>USD</td>\n",
              "      <td>19</td>\n",
              "    </tr>\n",
              "    <tr>\n",
              "      <th>4463</th>\n",
              "      <td>000096.SZ</td>\n",
              "      <td>2018-12-05</td>\n",
              "      <td>724674070.497344</td>\n",
              "      <td>1.368424</td>\n",
              "      <td>USD</td>\n",
              "      <td>18</td>\n",
              "    </tr>\n",
              "    <tr>\n",
              "      <th>4464</th>\n",
              "      <td>000096.SZ</td>\n",
              "      <td>2018-12-06</td>\n",
              "      <td>717906223.557902</td>\n",
              "      <td>1.354336</td>\n",
              "      <td>USD</td>\n",
              "      <td>17</td>\n",
              "    </tr>\n",
              "    <tr>\n",
              "      <th>4465</th>\n",
              "      <td>000096.SZ</td>\n",
              "      <td>2018-12-07</td>\n",
              "      <td>716624040.920716</td>\n",
              "      <td>1.358881</td>\n",
              "      <td>USD</td>\n",
              "      <td>16</td>\n",
              "    </tr>\n",
              "  </tbody>\n",
              "</table>\n",
              "</div>"
            ]
          },
          "metadata": {},
          "execution_count": 21
        }
      ]
    },
    {
      "cell_type": "code",
      "source": [
        "train = traval[traval.obs_number > 20].copy()\n",
        "train[\"obs_number\"] = train.groupby(\"ticker\").date.rank(method='first', ascending=False).astype(int)\n",
        "\n",
        "train.head()"
      ],
      "metadata": {
        "colab": {
          "base_uri": "https://localhost:8080/",
          "height": 206
        },
        "id": "yUSTmhsTCNL1",
        "outputId": "ff6df183-e249-49c9-d56d-65ae5d396f61"
      },
      "execution_count": null,
      "outputs": [
        {
          "output_type": "execute_result",
          "data": {
            "text/plain": [
              "      ticker       date        market_cap  close_price currency  obs_number\n",
              "0  000096.SZ 2000-07-24  461931447.619507      0.87487      USD        4461\n",
              "1  000096.SZ 2000-07-25  487445197.289756     0.923192      USD        4460\n",
              "2  000096.SZ 2000-07-26  476291125.175129     0.902067      USD        4459\n",
              "3  000096.SZ 2000-07-27  481888565.458432     0.912668      USD        4458\n",
              "4  000096.SZ 2000-07-28  490252916.878034     0.928509      USD        4457"
            ],
            "text/html": [
              "<div>\n",
              "<style scoped>\n",
              "    .dataframe tbody tr th:only-of-type {\n",
              "        vertical-align: middle;\n",
              "    }\n",
              "\n",
              "    .dataframe tbody tr th {\n",
              "        vertical-align: top;\n",
              "    }\n",
              "\n",
              "    .dataframe thead th {\n",
              "        text-align: right;\n",
              "    }\n",
              "</style>\n",
              "<table border=\"1\" class=\"dataframe\">\n",
              "  <thead>\n",
              "    <tr style=\"text-align: right;\">\n",
              "      <th></th>\n",
              "      <th>ticker</th>\n",
              "      <th>date</th>\n",
              "      <th>market_cap</th>\n",
              "      <th>close_price</th>\n",
              "      <th>currency</th>\n",
              "      <th>obs_number</th>\n",
              "    </tr>\n",
              "  </thead>\n",
              "  <tbody>\n",
              "    <tr>\n",
              "      <th>0</th>\n",
              "      <td>000096.SZ</td>\n",
              "      <td>2000-07-24</td>\n",
              "      <td>461931447.619507</td>\n",
              "      <td>0.87487</td>\n",
              "      <td>USD</td>\n",
              "      <td>4461</td>\n",
              "    </tr>\n",
              "    <tr>\n",
              "      <th>1</th>\n",
              "      <td>000096.SZ</td>\n",
              "      <td>2000-07-25</td>\n",
              "      <td>487445197.289756</td>\n",
              "      <td>0.923192</td>\n",
              "      <td>USD</td>\n",
              "      <td>4460</td>\n",
              "    </tr>\n",
              "    <tr>\n",
              "      <th>2</th>\n",
              "      <td>000096.SZ</td>\n",
              "      <td>2000-07-26</td>\n",
              "      <td>476291125.175129</td>\n",
              "      <td>0.902067</td>\n",
              "      <td>USD</td>\n",
              "      <td>4459</td>\n",
              "    </tr>\n",
              "    <tr>\n",
              "      <th>3</th>\n",
              "      <td>000096.SZ</td>\n",
              "      <td>2000-07-27</td>\n",
              "      <td>481888565.458432</td>\n",
              "      <td>0.912668</td>\n",
              "      <td>USD</td>\n",
              "      <td>4458</td>\n",
              "    </tr>\n",
              "    <tr>\n",
              "      <th>4</th>\n",
              "      <td>000096.SZ</td>\n",
              "      <td>2000-07-28</td>\n",
              "      <td>490252916.878034</td>\n",
              "      <td>0.928509</td>\n",
              "      <td>USD</td>\n",
              "      <td>4457</td>\n",
              "    </tr>\n",
              "  </tbody>\n",
              "</table>\n",
              "</div>"
            ]
          },
          "metadata": {},
          "execution_count": 22
        }
      ]
    },
    {
      "cell_type": "code",
      "source": [
        "def calculate_mean_mapes(ls, tcks):\n",
        "    mean_mapes = []\n",
        "\n",
        "    it = tqdm(total=len(ls)*len(tcks))\n",
        "\n",
        "    for lag in ls:\n",
        "        it.set_postfix(dict(lag=lag))\n",
        "        mapes = []\n",
        "        for ticker in tcks:\n",
        "            series = train.loc[(train.ticker == ticker) & (train.obs_number <= lag), [\"date\", \"market_cap\"]].set_index(\"date\").squeeze()\n",
        "\n",
        "            mod = pm.arima.AutoARIMA(seasonal=False, suppress_warnings=True, n_jobs=-1, stepwise=False)\n",
        "            mod.fit(series)\n",
        "\n",
        "            forecast = mod.predict(20)\n",
        "            actual = val.loc[(val.ticker == ticker), [\"date\", \"market_cap\"]].set_index(\"date\").squeeze()\n",
        "            mapes.append(mape(actual, forecast))\n",
        "            it.update()\n",
        "\n",
        "        mean_mapes.append(np.mean(mapes))\n",
        "\n",
        "    return mean_mapes"
      ],
      "metadata": {
        "id": "nPuDwW72CmpT"
      },
      "execution_count": null,
      "outputs": []
    },
    {
      "cell_type": "code",
      "source": [
        "mmapes = calculate_mean_mapes(lags[::2], ticker_subset[:100])"
      ],
      "metadata": {
        "colab": {
          "base_uri": "https://localhost:8080/"
        },
        "id": "6oMGhXexH3Gk",
        "outputId": "574798d5-a847-4dbc-905f-d0db1b71bb23"
      },
      "execution_count": null,
      "outputs": [
        {
          "output_type": "stream",
          "name": "stderr",
          "text": [
            " 16%|███████████▊                                                             | 65/400 [00:21<01:03,  5.27it/s, lag=20]C:\\Users\\larslank\\Anaconda3\\lib\\site-packages\\pmdarima\\arima\\auto.py:460: UserWarning: Input time-series is completely constant; returning a (0, 0, 0) ARMA.\n",
            "  warnings.warn('Input time-series is completely constant; '\n",
            " 41%|█████████████████████████████▋                                          | 165/400 [00:47<00:58,  4.03it/s, lag=60]C:\\Users\\larslank\\Anaconda3\\lib\\site-packages\\pmdarima\\arima\\auto.py:460: UserWarning: Input time-series is completely constant; returning a (0, 0, 0) ARMA.\n",
            "  warnings.warn('Input time-series is completely constant; '\n",
            "100%|███████████████████████████████████████████████████████████████████████| 400/400 [02:34<00:00,  2.58it/s, lag=480]\n"
          ]
        }
      ]
    },
    {
      "cell_type": "code",
      "source": [
        "plt.plot(lags[::2], mmapes);"
      ],
      "metadata": {
        "colab": {
          "base_uri": "https://localhost:8080/",
          "height": 265
        },
        "id": "iNBnwl-qgjhW",
        "outputId": "4dacc2c8-8002-4580-ef2c-bc19ff644bf3"
      },
      "execution_count": null,
      "outputs": [
        {
          "output_type": "display_data",
          "data": {
            "text/plain": [
              "<Figure size 432x288 with 1 Axes>"
            ],
            "image/png": "[encoded data removed]"
          },
          "metadata": {
            "needs_background": "light"
          }
        }
      ]
    },
    {
      "cell_type": "code",
      "source": [
        "min(zip(lags[::2], mmapes), key=lambda x: x[1])"
      ],
      "metadata": {
        "colab": {
          "base_uri": "https://localhost:8080/"
        },
        "id": "f7G-ZLhoA3G1",
        "outputId": "f168a486-2c81-4a7e-e04f-c160abf77418"
      },
      "execution_count": null,
      "outputs": [
        {
          "output_type": "execute_result",
          "data": {
            "text/plain": [
              "(480, 0.08651150254051465)"
            ]
          },
          "metadata": {},
          "execution_count": 26
        }
      ]
    },
    {
      "cell_type": "code",
      "source": [
        "# Do a more thorough search around the optimal above\n",
        "mmapes = calculate_mean_mapes(lags[1:9], ticker_subset)"
      ],
      "metadata": {
        "id": "yqNfUilfg7UO",
        "colab": {
          "base_uri": "https://localhost:8080/"
        },
        "outputId": "ed3ac34d-fecc-4bad-86e7-453c828a18af"
      },
      "execution_count": null,
      "outputs": [
        {
          "output_type": "stream",
          "name": "stderr",
          "text": [
            "  5%|███▉                                                                    | 65/1200 [00:14<05:22,  3.51it/s, lag=40]C:\\Users\\larslank\\Anaconda3\\lib\\site-packages\\pmdarima\\arima\\auto.py:460: UserWarning: Input time-series is completely constant; returning a (0, 0, 0) ARMA.\n",
            "  warnings.warn('Input time-series is completely constant; '\n",
            " 22%|███████████████▋                                                       | 265/1200 [01:03<03:49,  4.08it/s, lag=60]C:\\Users\\larslank\\Anaconda3\\lib\\site-packages\\pmdarima\\arima\\auto.py:460: UserWarning: Input time-series is completely constant; returning a (0, 0, 0) ARMA.\n",
            "  warnings.warn('Input time-series is completely constant; '\n",
            "100%|█████████████████████████████████████████████████████████████████████| 1200/1200 [07:35<00:00,  2.63it/s, lag=480]\n"
          ]
        }
      ]
    },
    {
      "cell_type": "code",
      "source": [
        "lags"
      ],
      "metadata": {
        "colab": {
          "base_uri": "https://localhost:8080/"
        },
        "id": "WUbgIf7LHyKm",
        "outputId": "65bdc1fc-b91c-42c8-835a-7ee2802c8387"
      },
      "execution_count": null,
      "outputs": [
        {
          "output_type": "execute_result",
          "data": {
            "text/plain": [
              "[20, 40, 60, 120, 180, 240, 480]"
            ]
          },
          "metadata": {},
          "execution_count": 81
        }
      ]
    },
    {
      "cell_type": "code",
      "source": [
        "plt.xlabel(\"Training window\")\n",
        "plt.ylabel(\"MAPE loss\")\n",
        "plt.plot(lags[1:], mmapes, label=\"MAPE loss\")\n",
        "plt.axvline(x=240, label=\"TW = 240\", color=\"gray\", linestyle=\"-.\")\n",
        "plt.legend(frameon=False);"
      ],
      "metadata": {
        "id": "j-IRi-AGojip",
        "colab": {
          "base_uri": "https://localhost:8080/",
          "height": 279
        },
        "outputId": "3d5b711d-0f24-4d99-a2b5-87110bbb9029"
      },
      "execution_count": null,
      "outputs": [
        {
          "output_type": "display_data",
          "data": {
            "text/plain": [
              "<Figure size 432x288 with 1 Axes>"
            ],
            "image/png": "[encoded data removed]"
          },
          "metadata": {
            "needs_background": "light"
          }
        }
      ]
    },
    {
      "cell_type": "code",
      "source": [
        "# Finding the lag with the lowest loss\n",
        "opt = min(zip(lags[1:9], mmapes), key=lambda x: x[1])\n",
        "opt"
      ],
      "metadata": {
        "id": "TJ4mfPsho9nY",
        "colab": {
          "base_uri": "https://localhost:8080/"
        },
        "outputId": "d05a6dbf-0537-4cd7-9578-486353e2b117"
      },
      "execution_count": null,
      "outputs": [
        {
          "output_type": "execute_result",
          "data": {
            "text/plain": [
              "(240, 0.10546923023428832)"
            ]
          },
          "metadata": {},
          "execution_count": 30
        }
      ]
    },
    {
      "cell_type": "markdown",
      "source": [
        "From the above, we can conclude that ARIMA performs best when using the previous 240 datapoints, i.e., around a quarter of data before the month it shall predict."
      ],
      "metadata": {
        "id": "ZEg-8NBD7xPy"
      }
    },
    {
      "cell_type": "markdown",
      "source": [
        "## Train ARIMA models on 2018 data 🎯\n",
        "\n",
        "And upload the result to WandB\n"
      ],
      "metadata": {
        "id": "pMhXyF6JCuS2"
      }
    },
    {
      "cell_type": "code",
      "source": [
        "# Use the above results and get the last quarter of data in the training set\n",
        "trn = trn[(trn.date >= \"2018-01-01\")].copy()\n",
        "print(trn.shape[0])"
      ],
      "metadata": {
        "id": "549tKsip99u3",
        "colab": {
          "base_uri": "https://localhost:8080/"
        },
        "outputId": "ef896544-9500-4c8a-8c60-54f73d8f293e"
      },
      "execution_count": 20,
      "outputs": [
        {
          "output_type": "stream",
          "name": "stdout",
          "text": [
            "408494\n"
          ]
        }
      ]
    },
    {
      "cell_type": "code",
      "source": [
        "trained_models = dict()"
      ],
      "metadata": {
        "id": "lcJLa2eHDlSV"
      },
      "execution_count": 21,
      "outputs": []
    },
    {
      "cell_type": "code",
      "source": [
        "arima_args = dict(\n",
        "    seasonal=False,\n",
        "    with_intercept=True,\n",
        "    max_p=10, max_d=2, max_q=10,\n",
        "    max_order=10,\n",
        "    stepwise=True, n_jobs=1,    \n",
        ")"
      ],
      "metadata": {
        "id": "abUrqpC0LhCx"
      },
      "execution_count": null,
      "outputs": []
    },
    {
      "cell_type": "code",
      "source": [
        "for ticker, df in tqdm(trn.groupby(\"ticker\")):\n",
        "\n",
        "    series = df.loc[:, [\"date\", \"market_cap\"]].set_index(\"date\").squeeze()\n",
        "    \n",
        "    mod = pm.arima.AutoARIMA(**arima_args)\n",
        "    mod.fit(series)\n",
        "\n",
        "    trained_models[ticker] = mod"
      ],
      "metadata": {
        "id": "Ebxj_jUrDL7K"
      },
      "execution_count": null,
      "outputs": []
    },
    {
      "cell_type": "code",
      "source": [
        "model_orders = {ticker: mod.model_.order for ticker, mod in trained_models.items()}"
      ],
      "metadata": {
        "id": "aSdfMAGBP3uO"
      },
      "execution_count": 44,
      "outputs": []
    },
    {
      "cell_type": "code",
      "source": [
        "filename = \"arima-trained-4Q.pickle\"\n",
        "metadata = {\n",
        "    \"type\": \"ARIMA\",\n",
        "    \"n_models\": len(trained_models),\n",
        "    \"training_window\": 240,\n",
        "    \"arima_args\": arima_args,\n",
        "    \"model_orders\": json.dumps(model_orders),\n",
        "}\n",
        "\n",
        "put_stat_models(filename, trained_models, metadata, project=\"master\")"
      ],
      "metadata": {
        "id": "_WPMZFsXHzLX",
        "colab": {
          "base_uri": "https://localhost:8080/",
          "height": 139,
          "referenced_widgets": [
            "bdd8ad46adda43a28dc14564fcd899d3",
            "ce44ae9d3f134fb1a20de7de73cf9165",
            "98cfc59579eb4211b6d4ed11fe827d1c",
            "c8022a0f767e4a36b875ccc73eb3eaa6",
            "289c340129ba410b9264deab3f3a625c",
            "751cf029c17941eabeee4d0896d3b441",
            "665e5f254bdf4087b2dc135091042b09",
            "8dc08212aa194b36b5239e5e295e4779"
          ]
        },
        "outputId": "4de21cb9-a4f9-4af5-ee68-6c4846168f49"
      },
      "execution_count": null,
      "outputs": [
        {
          "output_type": "display_data",
          "data": {
            "text/plain": [
              "<IPython.core.display.HTML object>"
            ],
            "text/html": [
              "Tracking run with wandb version 0.12.15"
            ]
          },
          "metadata": {}
        },
        {
          "output_type": "display_data",
          "data": {
            "text/plain": [
              "<IPython.core.display.HTML object>"
            ],
            "text/html": [
              "Run data is saved locally in <code>/content/wandb/run-20220503_084020-1cxx5ty5</code>"
            ]
          },
          "metadata": {}
        },
        {
          "output_type": "display_data",
          "data": {
            "text/plain": [
              "<IPython.core.display.HTML object>"
            ],
            "text/html": [
              "Syncing run <strong><a href=\"https://wandb.ai/krankile/master-test/runs/1cxx5ty5\" target=\"_blank\">wobbly-galaxy-95</a></strong> to <a href=\"https://wandb.ai/krankile/master-test\" target=\"_blank\">Weights & Biases</a> (<a href=\"https://wandb.me/run\" target=\"_blank\">docs</a>)<br/>"
            ]
          },
          "metadata": {}
        },
        {
          "output_type": "display_data",
          "data": {
            "text/plain": [
              "<IPython.core.display.HTML object>"
            ],
            "text/html": [
              "Waiting for W&B process to finish... <strong style=\"color:green\">(success).</strong>"
            ]
          },
          "metadata": {}
        },
        {
          "output_type": "display_data",
          "data": {
            "text/plain": [
              "VBox(children=(Label(value='109.810 MB of 109.810 MB uploaded (0.000 MB deduped)\\r'), FloatProgress(value=1.0,…"
            ],
            "application/vnd.jupyter.widget-view+json": {
              "version_major": 2,
              "version_minor": 0,
              "model_id": "bdd8ad46adda43a28dc14564fcd899d3"
            }
          },
          "metadata": {}
        },
        {
          "output_type": "display_data",
          "data": {
            "text/plain": [
              "<IPython.core.display.HTML object>"
            ],
            "text/html": [
              "Synced <strong style=\"color:#cdcd00\">wobbly-galaxy-95</strong>: <a href=\"https://wandb.ai/krankile/master-test/runs/1cxx5ty5\" target=\"_blank\">https://wandb.ai/krankile/master-test/runs/1cxx5ty5</a><br/>Synced 4 W&B file(s), 0 media file(s), 1 artifact file(s) and 0 other file(s)"
            ]
          },
          "metadata": {}
        },
        {
          "output_type": "display_data",
          "data": {
            "text/plain": [
              "<IPython.core.display.HTML object>"
            ],
            "text/html": [
              "Find logs at: <code>./wandb/run-20220503_084020-1cxx5ty5/logs</code>"
            ]
          },
          "metadata": {}
        }
      ]
    },
    {
      "cell_type": "code",
      "source": [
        ""
      ],
      "metadata": {
        "id": "RIeHj1-ikEQ5"
      },
      "execution_count": null,
      "outputs": []
    },
    {
      "cell_type": "code",
      "source": [
        "plt.hist(np.array([list(orders) for orders in model_orders.values()]), label=[\"p\", \"d\", \"q\"], align=\"mid\", log=True)\n",
        "plt.xlabel(\"Order of the ARIMA(p, d, q) parameters\")\n",
        "plt.ylabel(f\"Number of models ({len(trained_models)} total, log scale)\")\n",
        "plt.legend(frameon=False);"
      ],
      "metadata": {
        "colab": {
          "base_uri": "https://localhost:8080/",
          "height": 279
        },
        "id": "Tjwp7dRJRGoR",
        "outputId": "a6860451-65c2-4517-beab-e48e0d50dc9f"
      },
      "execution_count": 68,
      "outputs": [
        {
          "output_type": "display_data",
          "data": {
            "text/plain": [
              "<Figure size 432x288 with 1 Axes>"
            ],
            "image/png": "[encoded data removed]"
          },
          "metadata": {
            "needs_background": "light"
          }
        }
      ]
    },
    {
      "cell_type": "markdown",
      "source": [
        "# Predict for the test set"
      ],
      "metadata": {
        "id": "-UZEslTIjRId"
      }
    },
    {
      "cell_type": "markdown",
      "source": [
        "## Get data and predict"
      ],
      "metadata": {
        "id": "hEqnynuMBCJB"
      }
    },
    {
      "cell_type": "code",
      "source": [
        "artifact_name = \"arima-trained-4Q:latest\"\n",
        "trained_models = get_stat_models(artifact_name, project=\"master\")"
      ],
      "metadata": {
        "id": "MLxwIAz7qT-x"
      },
      "execution_count": null,
      "outputs": []
    },
    {
      "cell_type": "code",
      "source": [
        "ob_num = list(range(1, 21))\n",
        "out = dict(ticker=[], year=[], month=[], obs_number=[], market_cap=[])\n",
        "\n",
        "tst = data[data.date >= \"2018-12-01\"].copy()\n",
        "\n",
        "daterange = pd.date_range(start=\"2018-12-31\", end=\"2022-03-31\", freq=\"M\")\n",
        "pbar = tqdm(total=len(daterange)*len(trained_models), position=0)\n",
        "\n",
        "for date in daterange:\n",
        "    df = tst[tst.date <= date]\n",
        "    for ticker, model in trained_models.items():\n",
        "        pbar.update()\n",
        "        d = df.loc[df.ticker == ticker, [\"date\", \"market_cap\"]].set_index(\"date\").squeeze()[-10:]\n",
        "        \n",
        "        if len(d) < 1:\n",
        "            continue\n",
        "\n",
        "        model.update(y=d, maxiter=0)\n",
        "        forec = model.predict(20)\n",
        "\n",
        "        out[\"ticker\"].extend([ticker] * 20)\n",
        "        out[\"year\"].extend([date.year] * 20)\n",
        "        out[\"month\"].extend([date.month] * 20)\n",
        "        out[\"market_cap\"].extend(forec)\n",
        "        out[\"obs_number\"].extend(ob_num)\n",
        "\n",
        "forec_df = pd.DataFrame(out)"
      ],
      "metadata": {
        "colab": {
          "base_uri": "https://localhost:8080/"
        },
        "id": "rrT0uoDoHW73",
        "outputId": "ea516c62-4b6d-4992-c5c8-e15f7d613055"
      },
      "execution_count": null,
      "outputs": [
        {
          "output_type": "stream",
          "name": "stderr",
          "text": [
            "  1%|▌                                                                           | 504/66640 [04:03<8:51:47,  2.07it/s]\n",
            "  5%|███▊                                                                       | 3332/66640 [03:35<1:08:07, 15.49it/s]\n",
            " 33%|█████████████████████████▍                                                  | 22300/66640 [09:06<24:12, 30.53it/s]"
          ]
        }
      ]
    },
    {
      "cell_type": "code",
      "source": [
        "put_dataset(forec_df, \"arima-4Q-forecast-19-22.feather\", \"master\", type_=\"forecast\", metadata={\"arima_args\": arima_args})\n",
        "\n",
        "forec_df"
      ],
      "metadata": {
        "id": "LO1g49wTeczp"
      },
      "execution_count": null,
      "outputs": []
    },
    {
      "cell_type": "markdown",
      "source": [
        "## Calculate MAPE"
      ],
      "metadata": {
        "id": "2lUX9HG-BF9A"
      }
    },
    {
      "cell_type": "code",
      "source": [
        "ticker_subset = set(tst.ticker) & set(forec_df.ticker)"
      ],
      "metadata": {
        "id": "fRtUaeqcB-ZB"
      },
      "execution_count": null,
      "outputs": []
    },
    {
      "cell_type": "code",
      "source": [
        "a = tst.set_index(\"ticker\").loc[ticker_subset, :].reset_index().set_index([\"ticker\", \"obs_number\"]).drop(columns=[\"close_price\", \"currency\", \"date\"])\n",
        "f = forec_df.set_index(\"ticker\").loc[ticker_subset, :].reset_index().set_index([\"ticker\", \"obs_number\"])\n",
        "\n",
        "errors = ((a - f).abs() / a.abs())"
      ],
      "metadata": {
        "id": "wCb9tGX9nfgR"
      },
      "execution_count": null,
      "outputs": []
    },
    {
      "cell_type": "code",
      "source": [
        "errors[errors < 1].groupby(\"ticker\").mean().mean().item()"
      ],
      "metadata": {
        "colab": {
          "base_uri": "https://localhost:8080/"
        },
        "id": "g-4W9U7WBUQy",
        "outputId": "c9a32e5a-6769-4550-9bfc-325d17acfe8a"
      },
      "execution_count": null,
      "outputs": [
        {
          "output_type": "execute_result",
          "data": {
            "text/plain": [
              "0.11407436573174416"
            ]
          },
          "metadata": {},
          "execution_count": 76
        }
      ]
    },
    {
      "cell_type": "code",
      "source": [
        "errors.groupby(\"ticker\").mean().mean().item()"
      ],
      "metadata": {
        "colab": {
          "base_uri": "https://localhost:8080/"
        },
        "id": "0xAWP9oAFtBz",
        "outputId": "f3c2d8a6-d567-409d-82d7-405b46689b1d"
      },
      "execution_count": null,
      "outputs": [
        {
          "output_type": "execute_result",
          "data": {
            "text/plain": [
              "0.11904643671200661"
            ]
          },
          "metadata": {},
          "execution_count": 77
        }
      ]
    },
    {
      "cell_type": "code",
      "source": [
        "# Check sMAPE as well for reference\n",
        "2*((a - f).abs() / (a.abs() + f.abs())).dropna().groupby(\"ticker\").mean().mean().item()"
      ],
      "metadata": {
        "colab": {
          "base_uri": "https://localhost:8080/"
        },
        "id": "M_iVg1KQHZWQ",
        "outputId": "c1ad45f9-1aba-4e13-9aec-7a1961831174"
      },
      "execution_count": null,
      "outputs": [
        {
          "output_type": "execute_result",
          "data": {
            "text/plain": [
              "0.1508614212073925"
            ]
          },
          "metadata": {},
          "execution_count": 47
        }
      ]
    },
    {
      "cell_type": "markdown",
      "source": [
        "# Forecast for Naïve as well\n",
        "\n",
        "To establish a baseline"
      ],
      "metadata": {
        "id": "Q8sCTlSuk-AT"
      }
    },
    {
      "cell_type": "code",
      "source": [
        "# Need only one value because naïve will predict the same for all future values\n",
        "last_value = trn.drop_duplicates(subset=[\"ticker\"], keep=\"last\").drop(columns=[\"close_price\", \"currency\", \"date\"]).set_index(\"ticker\")\n",
        "\n",
        "last_value.head()"
      ],
      "metadata": {
        "colab": {
          "base_uri": "https://localhost:8080/",
          "height": 238
        },
        "id": "GcXs1kfkvpJu",
        "outputId": "92de5cda-679b-4857-9786-58cbbe748bcd"
      },
      "execution_count": null,
      "outputs": [
        {
          "output_type": "execute_result",
          "data": {
            "text/plain": [
              "                 market_cap\n",
              "ticker                     \n",
              "000096.SZ  711445177.642791\n",
              "000159.SZ  295766554.600941\n",
              "000440.KQ   37383424.577752\n",
              "000552.SZ  851522927.496182\n",
              "000554.SZ  358586694.401957"
            ],
            "text/html": [
              "\n",
              "  <div id=\"df-9fe60b8a-88a1-45a3-a100-1b3004354fb8\">\n",
              "    <div class=\"colab-df-container\">\n",
              "      <div>\n",
              "<style scoped>\n",
              "    .dataframe tbody tr th:only-of-type {\n",
              "        vertical-align: middle;\n",
              "    }\n",
              "\n",
              "    .dataframe tbody tr th {\n",
              "        vertical-align: top;\n",
              "    }\n",
              "\n",
              "    .dataframe thead th {\n",
              "        text-align: right;\n",
              "    }\n",
              "</style>\n",
              "<table border=\"1\" class=\"dataframe\">\n",
              "  <thead>\n",
              "    <tr style=\"text-align: right;\">\n",
              "      <th></th>\n",
              "      <th>market_cap</th>\n",
              "    </tr>\n",
              "    <tr>\n",
              "      <th>ticker</th>\n",
              "      <th></th>\n",
              "    </tr>\n",
              "  </thead>\n",
              "  <tbody>\n",
              "    <tr>\n",
              "      <th>000096.SZ</th>\n",
              "      <td>711445177.642791</td>\n",
              "    </tr>\n",
              "    <tr>\n",
              "      <th>000159.SZ</th>\n",
              "      <td>295766554.600941</td>\n",
              "    </tr>\n",
              "    <tr>\n",
              "      <th>000440.KQ</th>\n",
              "      <td>37383424.577752</td>\n",
              "    </tr>\n",
              "    <tr>\n",
              "      <th>000552.SZ</th>\n",
              "      <td>851522927.496182</td>\n",
              "    </tr>\n",
              "    <tr>\n",
              "      <th>000554.SZ</th>\n",
              "      <td>358586694.401957</td>\n",
              "    </tr>\n",
              "  </tbody>\n",
              "</table>\n",
              "</div>\n",
              "      <button class=\"colab-df-convert\" onclick=\"convertToInteractive('df-9fe60b8a-88a1-45a3-a100-1b3004354fb8')\"\n",
              "              title=\"Convert this dataframe to an interactive table.\"\n",
              "              style=\"display:none;\">\n",
              "        \n",
              "  <svg xmlns=\"http://www.w3.org/2000/svg\" height=\"24px\"viewBox=\"0 0 24 24\"\n",
              "       width=\"24px\">\n",
              "    <path d=\"M0 0h24v24H0V0z\" fill=\"none\"/>\n",
              "    <path d=\"M18.56 5.44l.94 2.06.94-2.06 2.06-.94-2.06-.94-.94-2.06-.94 2.06-2.06.94zm-11 1L8.5 8.5l.94-2.06 2.06-.94-2.06-.94L8.5 2.5l-.94 2.06-2.06.94zm10 10l.94 2.06.94-2.06 2.06-.94-2.06-.94-.94-2.06-.94 2.06-2.06.94z\"/><path d=\"M17.41 7.96l-1.37-1.37c-.4-.4-.92-.59-1.43-.59-.52 0-1.04.2-1.43.59L10.3 9.45l-7.72 7.72c-.78.78-.78 2.05 0 2.83L4 21.41c.39.39.9.59 1.41.59.51 0 1.02-.2 1.41-.59l7.78-7.78 2.81-2.81c.8-.78.8-2.07 0-2.86zM5.41 20L4 18.59l7.72-7.72 1.47 1.35L5.41 20z\"/>\n",
              "  </svg>\n",
              "      </button>\n",
              "      \n",
              "  <style>\n",
              "    .colab-df-container {\n",
              "      display:flex;\n",
              "      flex-wrap:wrap;\n",
              "      gap: 12px;\n",
              "    }\n",
              "\n",
              "    .colab-df-convert {\n",
              "      background-color: #E8F0FE;\n",
              "      border: none;\n",
              "      border-radius: 50%;\n",
              "      cursor: pointer;\n",
              "      display: none;\n",
              "      fill: #1967D2;\n",
              "      height: 32px;\n",
              "      padding: 0 0 0 0;\n",
              "      width: 32px;\n",
              "    }\n",
              "\n",
              "    .colab-df-convert:hover {\n",
              "      background-color: #E2EBFA;\n",
              "      box-shadow: 0px 1px 2px rgba(60, 64, 67, 0.3), 0px 1px 3px 1px rgba(60, 64, 67, 0.15);\n",
              "      fill: #174EA6;\n",
              "    }\n",
              "\n",
              "    [theme=dark] .colab-df-convert {\n",
              "      background-color: #3B4455;\n",
              "      fill: #D2E3FC;\n",
              "    }\n",
              "\n",
              "    [theme=dark] .colab-df-convert:hover {\n",
              "      background-color: #434B5C;\n",
              "      box-shadow: 0px 1px 3px 1px rgba(0, 0, 0, 0.15);\n",
              "      filter: drop-shadow(0px 1px 2px rgba(0, 0, 0, 0.3));\n",
              "      fill: #FFFFFF;\n",
              "    }\n",
              "  </style>\n",
              "\n",
              "      <script>\n",
              "        const buttonEl =\n",
              "          document.querySelector('#df-9fe60b8a-88a1-45a3-a100-1b3004354fb8 button.colab-df-convert');\n",
              "        buttonEl.style.display =\n",
              "          google.colab.kernel.accessAllowed ? 'block' : 'none';\n",
              "\n",
              "        async function convertToInteractive(key) {\n",
              "          const element = document.querySelector('#df-9fe60b8a-88a1-45a3-a100-1b3004354fb8');\n",
              "          const dataTable =\n",
              "            await google.colab.kernel.invokeFunction('convertToInteractive',\n",
              "                                                     [key], {});\n",
              "          if (!dataTable) return;\n",
              "\n",
              "          const docLinkHtml = 'Like what you see? Visit the ' +\n",
              "            '<a target=\"_blank\" href=https://colab.research.google.com/notebooks/data_table.ipynb>data table notebook</a>'\n",
              "            + ' to learn more about interactive tables.';\n",
              "          element.innerHTML = '';\n",
              "          dataTable['output_type'] = 'display_data';\n",
              "          await google.colab.output.renderOutput(dataTable, element);\n",
              "          const docLink = document.createElement('div');\n",
              "          docLink.innerHTML = docLinkHtml;\n",
              "          element.appendChild(docLink);\n",
              "        }\n",
              "      </script>\n",
              "    </div>\n",
              "  </div>\n",
              "  "
            ]
          },
          "metadata": {},
          "execution_count": 46
        }
      ]
    },
    {
      "cell_type": "code",
      "source": [
        "# MAPE for naïve\n",
        "errors = ((a - last_value).abs() / a.abs()).dropna()\n",
        "errors.groupby(\"ticker\").mean().mean().item()"
      ],
      "metadata": {
        "colab": {
          "base_uri": "https://localhost:8080/"
        },
        "id": "nkUq7D7ryn4S",
        "outputId": "4b9a219f-e970-4ff7-ad40-a7241162ce60"
      },
      "execution_count": null,
      "outputs": [
        {
          "output_type": "execute_result",
          "data": {
            "text/plain": [
              "0.08600014724897861"
            ]
          },
          "metadata": {},
          "execution_count": 47
        }
      ]
    },
    {
      "cell_type": "code",
      "source": [
        ""
      ],
      "metadata": {
        "id": "jPRA6yQXzCyj"
      },
      "execution_count": null,
      "outputs": []
    }
  ]
}